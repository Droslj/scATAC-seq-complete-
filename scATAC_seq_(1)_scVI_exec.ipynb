{
  "cells": [
    {
      "cell_type": "markdown",
      "metadata": {
        "id": "view-in-github",
        "colab_type": "text"
      },
      "source": [
        "<a href=\"https://colab.research.google.com/github/Droslj/scATAC-seq-complete-/blob/Google-colab/scATAC_seq_(1)_scVI_exec.ipynb\" target=\"_parent\"><img src=\"https://colab.research.google.com/assets/colab-badge.svg\" alt=\"Open In Colab\"/></a>"
      ]
    },
    {
      "cell_type": "markdown",
      "id": "f268332b-53de-4af8-9533-e48c041292f3",
      "metadata": {
        "id": "f268332b-53de-4af8-9533-e48c041292f3"
      },
      "source": [
        "scATAC seq, based on scATAC seq processing Galaxy tutorials (scATAC preprocessing (2), Standard scATAC seq processing pipeline (1))\n",
        "Raw AD Objects created in Galaxy using customized Galaxy WF with Snapatac2 and imported\n",
        "Sources:\n",
        "(1) https://usegalaxy.eu/training-material/topics/single-cell/tutorials/scatac-preprocessing-tenx/tutorial.html#mapping-reads-to-a-reference-genome, (2) https://usegalaxy.eu/training-material/topics/single-cell/tutorials/scatac-standard-processing-snapatac2/tutorial.html\n",
        "Data taken from the following NCBI study:\n",
        "(3) Metabolic adaptation pilots the differentiation of human hematopoietic cells (https://www.ncbi.nlm.nih.gov/bioproject/PRJNA1015713)\n",
        "\n",
        "Import preprocessed Anndata object for two biological replicates, SRR26046013 (cells treated with AOA inhibitor), and SRR26046019 (untreated cells).\n",
        "Raw AD objects preprocessed as follows:\n",
        "(1) Import matrices\n",
        "(2) Compute fragment size distribution\n",
        "(3) Compute TSS enrichment\n",
        "(4) Filter cell counts based on TSSe\n",
        "(5) Create cell by bin matrix based on 500 bp wide bins accross the whole genome\n",
        "(6) Preprocessed for scvi model\n",
        "\n",
        "This file focuses on DA analysis using scvi package."
      ]
    },
    {
      "source": [
        "!pip install snapatac2 -q"
      ],
      "cell_type": "code",
      "metadata": {
        "id": "gZdiRWwb1rZJ",
        "colab": {
          "base_uri": "https://localhost:8080/"
        },
        "outputId": "db341ecf-96a2-457d-a9eb-be9696dd693a"
      },
      "execution_count": 1,
      "outputs": [
        {
          "output_type": "stream",
          "name": "stdout",
          "text": [
            "\u001b[?25l     \u001b[90m━━━━━━━━━━━━━━━━━━━━━━━━━━━━━━━━━━━━━━━━\u001b[0m \u001b[32m0.0/687.2 kB\u001b[0m \u001b[31m?\u001b[0m eta \u001b[36m-:--:--\u001b[0m\r\u001b[2K     \u001b[90m━━━━━━━━━━━━━━━━━━━━━━━━━━━━━━━━━━━━━━━━\u001b[0m \u001b[32m687.2/687.2 kB\u001b[0m \u001b[31m45.1 MB/s\u001b[0m eta \u001b[36m0:00:00\u001b[0m\n",
            "\u001b[?25h  Installing build dependencies ... \u001b[?25l\u001b[?25hdone\n",
            "  Getting requirements to build wheel ... \u001b[?25l\u001b[?25hdone\n",
            "  Preparing metadata (pyproject.toml) ... \u001b[?25l\u001b[?25hdone\n",
            "\u001b[2K   \u001b[90m━━━━━━━━━━━━━━━━━━━━━━━━━━━━━━━━━━━━━━━━\u001b[0m \u001b[32m17.5/17.5 MB\u001b[0m \u001b[31m103.3 MB/s\u001b[0m eta \u001b[36m0:00:00\u001b[0m\n",
            "\u001b[2K   \u001b[90m━━━━━━━━━━━━━━━━━━━━━━━━━━━━━━━━━━━━━━━━\u001b[0m \u001b[32m129.0/129.0 kB\u001b[0m \u001b[31m14.8 MB/s\u001b[0m eta \u001b[36m0:00:00\u001b[0m\n",
            "\u001b[2K   \u001b[90m━━━━━━━━━━━━━━━━━━━━━━━━━━━━━━━━━━━━━━━━\u001b[0m \u001b[32m3.1/3.1 MB\u001b[0m \u001b[31m88.6 MB/s\u001b[0m eta \u001b[36m0:00:00\u001b[0m\n",
            "\u001b[2K   \u001b[90m━━━━━━━━━━━━━━━━━━━━━━━━━━━━━━━━━━━━━━━━\u001b[0m \u001b[32m12.3/12.3 MB\u001b[0m \u001b[31m114.0 MB/s\u001b[0m eta \u001b[36m0:00:00\u001b[0m\n",
            "\u001b[2K   \u001b[90m━━━━━━━━━━━━━━━━━━━━━━━━━━━━━━━━━━━━━━━━\u001b[0m \u001b[32m79.9/79.9 MB\u001b[0m \u001b[31m28.1 MB/s\u001b[0m eta \u001b[36m0:00:00\u001b[0m\n",
            "\u001b[2K   \u001b[90m━━━━━━━━━━━━━━━━━━━━━━━━━━━━━━━━━━━━━━━━\u001b[0m \u001b[32m134.8/134.8 kB\u001b[0m \u001b[31m15.2 MB/s\u001b[0m eta \u001b[36m0:00:00\u001b[0m\n",
            "\u001b[2K   \u001b[90m━━━━━━━━━━━━━━━━━━━━━━━━━━━━━━━━━━━━━━━━\u001b[0m \u001b[32m2.0/2.0 MB\u001b[0m \u001b[31m86.2 MB/s\u001b[0m eta \u001b[36m0:00:00\u001b[0m\n",
            "\u001b[2K   \u001b[90m━━━━━━━━━━━━━━━━━━━━━━━━━━━━━━━━━━━━━━━━\u001b[0m \u001b[32m50.4/50.4 kB\u001b[0m \u001b[31m5.6 MB/s\u001b[0m eta \u001b[36m0:00:00\u001b[0m\n",
            "\u001b[2K   \u001b[90m━━━━━━━━━━━━━━━━━━━━━━━━━━━━━━━━━━━━━━━━\u001b[0m \u001b[32m119.4/119.4 kB\u001b[0m \u001b[31m14.2 MB/s\u001b[0m eta \u001b[36m0:00:00\u001b[0m\n",
            "\u001b[?25h  Building wheel for macs3 (pyproject.toml) ... \u001b[?25l\u001b[?25hdone\n",
            "\u001b[31mERROR: pip's dependency resolver does not currently take into account all the packages that are installed. This behaviour is the source of the following dependency conflicts.\n",
            "google-colab 1.0.0 requires pandas==2.2.2, but you have pandas 2.1.1 which is incompatible.\n",
            "mizani 0.13.1 requires pandas>=2.2.0, but you have pandas 2.1.1 which is incompatible.\n",
            "plotnine 0.14.4 requires pandas>=2.2.0, but you have pandas 2.1.1 which is incompatible.\u001b[0m\u001b[31m\n",
            "\u001b[0m"
          ]
        }
      ],
      "id": "gZdiRWwb1rZJ"
    },
    {
      "source": [
        "!pip install snapatac2 -q"
      ],
      "cell_type": "code",
      "metadata": {
        "id": "34IhXbJMEUR8"
      },
      "execution_count": 2,
      "outputs": [],
      "id": "34IhXbJMEUR8"
    },
    {
      "cell_type": "code",
      "source": [
        "!pip show snapatac2"
      ],
      "metadata": {
        "id": "jsCJ2get4W8l",
        "colab": {
          "base_uri": "https://localhost:8080/"
        },
        "outputId": "d8f043d1-0273-499e-fd19-86db984f763b"
      },
      "execution_count": 3,
      "outputs": [
        {
          "output_type": "stream",
          "name": "stdout",
          "text": [
            "Name: snapatac2\n",
            "Version: 2.8.0\n",
            "Summary: SnapATAC2: Single-cell epigenomics analysis pipeline\n",
            "Home-page: https://github.com/\n",
            "Author: Kai Zhang <kai@kzhang.org>\n",
            "Author-email: Kai Zhang <zhangkai33@westlake.edu.cn>\n",
            "License: MIT\n",
            "Location: /usr/local/lib/python3.10/dist-packages\n",
            "Requires: anndata, igraph, kaleido, macs3, multiprocess, natsort, numpy, pandas, plotly, polars, pooch, pyarrow, pyfaidx, rustworkx, scikit-learn, scipy, tqdm, typeguard\n",
            "Required-by: \n"
          ]
        }
      ],
      "id": "jsCJ2get4W8l"
    },
    {
      "cell_type": "code",
      "source": [
        "import snapatac2 as snap"
      ],
      "metadata": {
        "id": "z2G4FDYqgSmQ"
      },
      "execution_count": 4,
      "outputs": [],
      "id": "z2G4FDYqgSmQ"
    },
    {
      "cell_type": "code",
      "source": [
        "!pip install umap-learn -q"
      ],
      "metadata": {
        "id": "VZLaiDEzlB1m",
        "colab": {
          "base_uri": "https://localhost:8080/"
        },
        "outputId": "a7f30014-fe83-4ca6-8cec-9131bc61f686"
      },
      "execution_count": 5,
      "outputs": [
        {
          "output_type": "stream",
          "name": "stdout",
          "text": [
            "\u001b[?25l   \u001b[90m━━━━━━━━━━━━━━━━━━━━━━━━━━━━━━━━━━━━━━━━\u001b[0m \u001b[32m0.0/88.8 kB\u001b[0m \u001b[31m?\u001b[0m eta \u001b[36m-:--:--\u001b[0m\r\u001b[2K   \u001b[90m━━━━━━━━━━━━━━━━━━━━━━━━━━━━━━━━━━━━━━━━\u001b[0m \u001b[32m88.8/88.8 kB\u001b[0m \u001b[31m10.1 MB/s\u001b[0m eta \u001b[36m0:00:00\u001b[0m\n",
            "\u001b[?25h\u001b[?25l   \u001b[90m━━━━━━━━━━━━━━━━━━━━━━━━━━━━━━━━━━━━━━━━\u001b[0m \u001b[32m0.0/56.9 kB\u001b[0m \u001b[31m?\u001b[0m eta \u001b[36m-:--:--\u001b[0m\r\u001b[2K   \u001b[90m━━━━━━━━━━━━━━━━━━━━━━━━━━━━━━━━━━━━━━━━\u001b[0m \u001b[32m56.9/56.9 kB\u001b[0m \u001b[31m6.6 MB/s\u001b[0m eta \u001b[36m0:00:00\u001b[0m\n",
            "\u001b[?25h"
          ]
        }
      ],
      "id": "VZLaiDEzlB1m"
    },
    {
      "cell_type": "code",
      "source": [
        "import umap.umap_ as umap\n"
      ],
      "metadata": {
        "id": "BCEdegOSgRBg"
      },
      "execution_count": 6,
      "outputs": [],
      "id": "BCEdegOSgRBg"
    },
    {
      "cell_type": "code",
      "source": [
        "from umap import UMAP"
      ],
      "metadata": {
        "id": "FVmqXk-vlFrB"
      },
      "execution_count": 7,
      "outputs": [],
      "id": "FVmqXk-vlFrB"
    },
    {
      "cell_type": "code",
      "source": [
        "!pip install scanpy -q"
      ],
      "metadata": {
        "id": "CM_xhHZxUcF5",
        "colab": {
          "base_uri": "https://localhost:8080/"
        },
        "outputId": "a7acee19-0dd6-4d71-dfd5-c7d4fe1c0aa8"
      },
      "execution_count": 8,
      "outputs": [
        {
          "output_type": "stream",
          "name": "stdout",
          "text": [
            "  Preparing metadata (setup.py) ... \u001b[?25l\u001b[?25hdone\n",
            "\u001b[2K   \u001b[90m━━━━━━━━━━━━━━━━━━━━━━━━━━━━━━━━━━━━━━━━\u001b[0m \u001b[32m2.1/2.1 MB\u001b[0m \u001b[31m77.3 MB/s\u001b[0m eta \u001b[36m0:00:00\u001b[0m\n",
            "\u001b[2K   \u001b[90m━━━━━━━━━━━━━━━━━━━━━━━━━━━━━━━━━━━━━━━━\u001b[0m \u001b[32m83.6/83.6 kB\u001b[0m \u001b[31m9.9 MB/s\u001b[0m eta \u001b[36m0:00:00\u001b[0m\n",
            "\u001b[?25h  Building wheel for session-info (setup.py) ... \u001b[?25l\u001b[?25hdone\n"
          ]
        }
      ],
      "id": "CM_xhHZxUcF5"
    },
    {
      "cell_type": "code",
      "source": [
        "import scanpy as sc"
      ],
      "metadata": {
        "id": "NYl1nQOhUoj2"
      },
      "execution_count": 9,
      "outputs": [],
      "id": "NYl1nQOhUoj2"
    },
    {
      "cell_type": "code",
      "source": [
        "!pip install harmonypy -q"
      ],
      "metadata": {
        "id": "5OsX-37f15zz"
      },
      "id": "5OsX-37f15zz",
      "execution_count": 10,
      "outputs": []
    },
    {
      "cell_type": "code",
      "source": [
        "import scanpy.external as sce"
      ],
      "metadata": {
        "id": "sG7UZaHf1Y4c"
      },
      "id": "sG7UZaHf1Y4c",
      "execution_count": 11,
      "outputs": []
    },
    {
      "cell_type": "code",
      "source": [
        "pip show scanpy"
      ],
      "metadata": {
        "id": "rkvTEjpw_csS",
        "colab": {
          "base_uri": "https://localhost:8080/"
        },
        "outputId": "567ef516-e435-4b16-fe45-09bea6d5c06a"
      },
      "execution_count": 12,
      "outputs": [
        {
          "output_type": "stream",
          "name": "stdout",
          "text": [
            "Name: scanpy\n",
            "Version: 1.10.4\n",
            "Summary: Single-Cell Analysis in Python.\n",
            "Home-page: https://scanpy.org\n",
            "Author: Alex Wolf, Philipp Angerer, Fidel Ramirez, Isaac Virshup, Sergei Rybakov, Gokcen Eraslan, Tom White, Malte Luecken, Davide Cittaro, Tobias Callies, Marius Lange, Andrés R. Muñoz-Rojas\n",
            "Author-email: \n",
            "License: \n",
            "Location: /usr/local/lib/python3.10/dist-packages\n",
            "Requires: anndata, h5py, joblib, legacy-api-wrap, matplotlib, natsort, networkx, numba, numpy, packaging, pandas, patsy, pynndescent, scikit-learn, scipy, seaborn, session-info, statsmodels, tqdm, umap-learn\n",
            "Required-by: \n"
          ]
        }
      ],
      "id": "rkvTEjpw_csS"
    },
    {
      "source": [
        "!pip install tqdm -q"
      ],
      "cell_type": "code",
      "metadata": {
        "id": "t-zPCrPTTziy"
      },
      "id": "t-zPCrPTTziy",
      "execution_count": 13,
      "outputs": []
    },
    {
      "cell_type": "code",
      "execution_count": 14,
      "metadata": {
        "id": "4e15629f-bdc4-46dd-8375-a1f2e17960ca"
      },
      "outputs": [],
      "source": [
        "import numpy as np"
      ],
      "id": "4e15629f-bdc4-46dd-8375-a1f2e17960ca"
    },
    {
      "cell_type": "code",
      "execution_count": 15,
      "metadata": {
        "id": "37ff51dc-8860-4ab6-ab44-8223b33ea879"
      },
      "outputs": [],
      "source": [
        "import anndata as ad"
      ],
      "id": "37ff51dc-8860-4ab6-ab44-8223b33ea879"
    },
    {
      "cell_type": "code",
      "execution_count": 16,
      "metadata": {
        "id": "f54f07e0-84cc-4ab9-a156-ea8467a76fc4"
      },
      "outputs": [],
      "source": [
        "import matplotlib.pyplot as plt"
      ],
      "id": "f54f07e0-84cc-4ab9-a156-ea8467a76fc4"
    },
    {
      "source": [
        "import seaborn as sns"
      ],
      "cell_type": "code",
      "metadata": {
        "id": "jIEyfb4NApUa"
      },
      "execution_count": 17,
      "outputs": [],
      "id": "jIEyfb4NApUa"
    },
    {
      "cell_type": "code",
      "execution_count": 18,
      "metadata": {
        "id": "dfc626e2-9a64-4f0f-8677-1da6e446ea3a"
      },
      "outputs": [],
      "source": [
        "import plotly.subplots as sp\n",
        "import plotly.graph_objects as go"
      ],
      "id": "dfc626e2-9a64-4f0f-8677-1da6e446ea3a"
    },
    {
      "cell_type": "code",
      "execution_count": 19,
      "metadata": {
        "id": "ffa7a645-c56a-4d94-af04-6869e008ca12"
      },
      "outputs": [],
      "source": [
        "from scipy import stats"
      ],
      "id": "ffa7a645-c56a-4d94-af04-6869e008ca12"
    },
    {
      "cell_type": "code",
      "source": [
        "import pandas as pd"
      ],
      "metadata": {
        "id": "WB1NBeEal4uQ"
      },
      "id": "WB1NBeEal4uQ",
      "execution_count": 20,
      "outputs": []
    },
    {
      "source": [
        "from tqdm.notebook import tqdm"
      ],
      "cell_type": "code",
      "metadata": {
        "id": "caIRuxZoT0VT"
      },
      "id": "caIRuxZoT0VT",
      "execution_count": 21,
      "outputs": []
    },
    {
      "cell_type": "code",
      "source": [
        "!pip install --quiet scvi-tools"
      ],
      "metadata": {
        "colab": {
          "base_uri": "https://localhost:8080/"
        },
        "id": "gV2LVn5UM_3t",
        "outputId": "5f7da1dc-0d53-4a20-f077-b063fe546135"
      },
      "id": "gV2LVn5UM_3t",
      "execution_count": 22,
      "outputs": [
        {
          "output_type": "stream",
          "name": "stdout",
          "text": [
            "  Preparing metadata (setup.py) ... \u001b[?25l\u001b[?25hdone\n",
            "\u001b[2K     \u001b[90m━━━━━━━━━━━━━━━━━━━━━━━━━━━━━━━━━━━━━━━━\u001b[0m \u001b[32m40.4/40.4 kB\u001b[0m \u001b[31m3.9 MB/s\u001b[0m eta \u001b[36m0:00:00\u001b[0m\n",
            "\u001b[2K   \u001b[90m━━━━━━━━━━━━━━━━━━━━━━━━━━━━━━━━━━━━━━━━\u001b[0m \u001b[32m459.3/459.3 kB\u001b[0m \u001b[31m30.5 MB/s\u001b[0m eta \u001b[36m0:00:00\u001b[0m\n",
            "\u001b[2K   \u001b[90m━━━━━━━━━━━━━━━━━━━━━━━━━━━━━━━━━━━━━━━━\u001b[0m \u001b[32m142.7/142.7 kB\u001b[0m \u001b[31m12.3 MB/s\u001b[0m eta \u001b[36m0:00:00\u001b[0m\n",
            "\u001b[2K   \u001b[90m━━━━━━━━━━━━━━━━━━━━━━━━━━━━━━━━━━━━━━━━\u001b[0m \u001b[32m815.2/815.2 kB\u001b[0m \u001b[31m41.6 MB/s\u001b[0m eta \u001b[36m0:00:00\u001b[0m\n",
            "\u001b[2K   \u001b[90m━━━━━━━━━━━━━━━━━━━━━━━━━━━━━━━━━━━━━━━━\u001b[0m \u001b[32m76.5/76.5 kB\u001b[0m \u001b[31m7.3 MB/s\u001b[0m eta \u001b[36m0:00:00\u001b[0m\n",
            "\u001b[2K   \u001b[90m━━━━━━━━━━━━━━━━━━━━━━━━━━━━━━━━━━━━━━━━\u001b[0m \u001b[32m41.0/41.0 kB\u001b[0m \u001b[31m3.8 MB/s\u001b[0m eta \u001b[36m0:00:00\u001b[0m\n",
            "\u001b[2K   \u001b[90m━━━━━━━━━━━━━━━━━━━━━━━━━━━━━━━━━━━━━━━━\u001b[0m \u001b[32m356.1/356.1 kB\u001b[0m \u001b[31m29.0 MB/s\u001b[0m eta \u001b[36m0:00:00\u001b[0m\n",
            "\u001b[2K   \u001b[90m━━━━━━━━━━━━━━━━━━━━━━━━━━━━━━━━━━━━━━━━\u001b[0m \u001b[32m756.0/756.0 kB\u001b[0m \u001b[31m37.1 MB/s\u001b[0m eta \u001b[36m0:00:00\u001b[0m\n",
            "\u001b[2K   \u001b[90m━━━━━━━━━━━━━━━━━━━━━━━━━━━━━━━━━━━━━━━━\u001b[0m \u001b[32m117.4/117.4 kB\u001b[0m \u001b[31m11.7 MB/s\u001b[0m eta \u001b[36m0:00:00\u001b[0m\n",
            "\u001b[2K   \u001b[90m━━━━━━━━━━━━━━━━━━━━━━━━━━━━━━━━━━━━━━━━\u001b[0m \u001b[32m927.3/927.3 kB\u001b[0m \u001b[31m48.2 MB/s\u001b[0m eta \u001b[36m0:00:00\u001b[0m\n",
            "\u001b[2K   \u001b[90m━━━━━━━━━━━━━━━━━━━━━━━━━━━━━━━━━━━━━━━━\u001b[0m \u001b[32m819.3/819.3 kB\u001b[0m \u001b[31m49.1 MB/s\u001b[0m eta \u001b[36m0:00:00\u001b[0m\n",
            "\u001b[?25h  Building wheel for docrep (setup.py) ... \u001b[?25l\u001b[?25hdone\n",
            "\u001b[31mERROR: pip's dependency resolver does not currently take into account all the packages that are installed. This behaviour is the source of the following dependency conflicts.\n",
            "snapatac2 2.8.0 requires anndata<0.11.0,>=0.8.0, but you have anndata 0.11.3 which is incompatible.\u001b[0m\u001b[31m\n",
            "\u001b[0m"
          ]
        }
      ]
    },
    {
      "cell_type": "code",
      "source": [
        "!pip install --quiet scvi-tools"
      ],
      "metadata": {
        "id": "fxfEhLp--0e9"
      },
      "id": "fxfEhLp--0e9",
      "execution_count": 23,
      "outputs": []
    },
    {
      "cell_type": "code",
      "source": [
        "!pip3 install leidenalg -q"
      ],
      "metadata": {
        "colab": {
          "base_uri": "https://localhost:8080/"
        },
        "id": "A4QYUsUsPoU5",
        "outputId": "ede673ca-c9b7-4cb1-9a68-2b7e9f8a0f85"
      },
      "id": "A4QYUsUsPoU5",
      "execution_count": 24,
      "outputs": [
        {
          "output_type": "stream",
          "name": "stdout",
          "text": [
            "\u001b[?25l   \u001b[90m━━━━━━━━━━━━━━━━━━━━━━━━━━━━━━━━━━━━━━━━\u001b[0m \u001b[32m0.0/2.0 MB\u001b[0m \u001b[31m?\u001b[0m eta \u001b[36m-:--:--\u001b[0m\r\u001b[2K   \u001b[91m━━━━━━━━━━━━━━━━━━━━━━━━━━━━━━━━━━━━━━━\u001b[0m\u001b[91m╸\u001b[0m \u001b[32m2.0/2.0 MB\u001b[0m \u001b[31m99.8 MB/s\u001b[0m eta \u001b[36m0:00:01\u001b[0m\r\u001b[2K   \u001b[90m━━━━━━━━━━━━━━━━━━━━━━━━━━━━━━━━━━━━━━━━\u001b[0m \u001b[32m2.0/2.0 MB\u001b[0m \u001b[31m54.7 MB/s\u001b[0m eta \u001b[36m0:00:00\u001b[0m\n",
            "\u001b[?25h"
          ]
        }
      ]
    },
    {
      "source": [
        "!pip install harmonypy -q  # Make sure harmonypy is installed"
      ],
      "cell_type": "code",
      "metadata": {
        "id": "wMzFTkhyT530"
      },
      "id": "wMzFTkhyT530",
      "execution_count": 25,
      "outputs": []
    },
    {
      "cell_type": "code",
      "source": [
        "import scanpy.external as sce"
      ],
      "metadata": {
        "id": "GDMflYTXUEwQ"
      },
      "id": "GDMflYTXUEwQ",
      "execution_count": 26,
      "outputs": []
    },
    {
      "cell_type": "code",
      "source": [
        "import scvi"
      ],
      "metadata": {
        "id": "KyliTpro-jKf"
      },
      "id": "KyliTpro-jKf",
      "execution_count": 27,
      "outputs": []
    },
    {
      "cell_type": "code",
      "source": [
        "import os"
      ],
      "metadata": {
        "id": "tvo3V2B2NPZx"
      },
      "id": "tvo3V2B2NPZx",
      "execution_count": 28,
      "outputs": []
    },
    {
      "cell_type": "code",
      "source": [
        "import pooch"
      ],
      "metadata": {
        "id": "EM0jDXr4NcW-"
      },
      "id": "EM0jDXr4NcW-",
      "execution_count": 29,
      "outputs": []
    },
    {
      "cell_type": "code",
      "source": [
        "import scvi"
      ],
      "metadata": {
        "id": "v7GyWnO1NdkK"
      },
      "id": "v7GyWnO1NdkK",
      "execution_count": 30,
      "outputs": []
    },
    {
      "cell_type": "code",
      "source": [
        "import torch"
      ],
      "metadata": {
        "id": "eDHnmkwvNeH-"
      },
      "id": "eDHnmkwvNeH-",
      "execution_count": 31,
      "outputs": []
    },
    {
      "source": [
        "import os"
      ],
      "cell_type": "code",
      "metadata": {
        "id": "vFKgiCG4Ie4A"
      },
      "id": "vFKgiCG4Ie4A",
      "execution_count": 42,
      "outputs": []
    },
    {
      "cell_type": "code",
      "source": [
        "import tempfile"
      ],
      "metadata": {
        "id": "14_I-Ateerz0"
      },
      "id": "14_I-Ateerz0",
      "execution_count": 40,
      "outputs": []
    },
    {
      "cell_type": "code",
      "source": [
        "import shutil"
      ],
      "metadata": {
        "id": "sFwha3YBetK5"
      },
      "id": "sFwha3YBetK5",
      "execution_count": 41,
      "outputs": []
    },
    {
      "cell_type": "markdown",
      "metadata": {
        "id": "dcOaUOy_XTwY"
      },
      "source": [
        "# Import reads from google drive, preprocessed for scATAC-seq"
      ],
      "id": "dcOaUOy_XTwY"
    },
    {
      "cell_type": "code",
      "source": [
        "from google.colab import drive\n",
        "drive.mount('/content/drive')"
      ],
      "metadata": {
        "colab": {
          "base_uri": "https://localhost:8080/"
        },
        "outputId": "7762319c-c60f-4974-e6f4-c2fd2b4a25e4",
        "id": "DvMbe3pJXTwY"
      },
      "execution_count": 32,
      "outputs": [
        {
          "output_type": "stream",
          "name": "stdout",
          "text": [
            "Mounted at /content/drive\n"
          ]
        }
      ],
      "id": "DvMbe3pJXTwY"
    },
    {
      "cell_type": "code",
      "execution_count": 33,
      "metadata": {
        "id": "YGTqpPWqXTwZ"
      },
      "outputs": [],
      "source": [
        "adata = sc.read_h5ad('/content/drive/MyDrive/Colab Notebooks/AD_combined_scvi.h5ad')"
      ],
      "id": "YGTqpPWqXTwZ"
    },
    {
      "cell_type": "markdown",
      "source": [
        "# Preprocess AD object for scvi"
      ],
      "metadata": {
        "id": "BIQ6ZorTOAfn"
      },
      "id": "BIQ6ZorTOAfn"
    },
    {
      "cell_type": "code",
      "source": [
        "# Filter out peaks that are rarely detected, to make the model train faster:\n",
        "print(\"# regions before filtering:\", adata.shape[-1])"
      ],
      "metadata": {
        "colab": {
          "base_uri": "https://localhost:8080/"
        },
        "id": "C9xoeKu2N9RI",
        "outputId": "295c5814-0e01-4eb4-dc50-2286e24b00f3"
      },
      "id": "C9xoeKu2N9RI",
      "execution_count": 34,
      "outputs": [
        {
          "output_type": "stream",
          "name": "stdout",
          "text": [
            "# regions before filtering: 6062095\n"
          ]
        }
      ]
    },
    {
      "cell_type": "code",
      "source": [
        "# compute the threshold: 5% of the cells\n",
        "min_cells = int(adata.shape[0] * 0.05)"
      ],
      "metadata": {
        "id": "UDrHOJlIOIOU"
      },
      "id": "UDrHOJlIOIOU",
      "execution_count": 35,
      "outputs": []
    },
    {
      "cell_type": "code",
      "source": [
        "# in-place filtering of regions\n",
        "sc.pp.filter_genes(adata, min_cells=min_cells)\n",
        "\n",
        "print(\"# regions after filtering:\", adata.shape[-1])"
      ],
      "metadata": {
        "colab": {
          "base_uri": "https://localhost:8080/"
        },
        "id": "q-7wgONMOHjo",
        "outputId": "84b62ac1-933e-4415-8e7b-3b20d90b26f5"
      },
      "id": "q-7wgONMOHjo",
      "execution_count": 36,
      "outputs": [
        {
          "output_type": "stream",
          "name": "stdout",
          "text": [
            "# regions after filtering: 77997\n"
          ]
        }
      ]
    },
    {
      "cell_type": "markdown",
      "source": [
        "# Set up, train and save/load the model"
      ],
      "metadata": {
        "id": "3zYqLcqkOTwj"
      },
      "id": "3zYqLcqkOTwj"
    },
    {
      "cell_type": "code",
      "source": [
        "scvi.model.PEAKVI.setup_anndata(adata, batch_key=\"Treatment\")"
      ],
      "metadata": {
        "id": "yYka1RYHONqU"
      },
      "id": "yYka1RYHONqU",
      "execution_count": 46,
      "outputs": []
    },
    {
      "cell_type": "code",
      "source": [
        "model = scvi.model.PEAKVI(adata)\n",
        "model.train()"
      ],
      "metadata": {
        "colab": {
          "base_uri": "https://localhost:8080/",
          "height": 340,
          "referenced_widgets": [
            "e953a1d9746f42f9b73ffc018aa57492",
            "6a0c369d7d884f05bd564533cea0f21a",
            "7ed6f094c8c04f0481d9e5189f5f867d",
            "e40cf6783886431d88ef7e6647bcfdd5",
            "62a17690745940199185640e18be31e0",
            "cf0087a341dc43bb953a2dfae7893f96",
            "e6141c759c0946088186261930563cc3",
            "b0bc1fe8ad5241e2ad56194f3b4806e3",
            "efe90431c6994a5bb4ec190b9ab807df",
            "98bbacc1e64c45f9a91d0c1d16293df3",
            "52a968376ac44d0e81181535047ae5ea"
          ]
        },
        "id": "E4MQtkhTOcb3",
        "outputId": "a5daafab-2470-4d46-b894-a1758c55946b"
      },
      "id": "E4MQtkhTOcb3",
      "execution_count": 47,
      "outputs": [
        {
          "output_type": "stream",
          "name": "stderr",
          "text": [
            "<ipython-input-47-afe809d3088a>:2: DeprecationWarning: `save_best` is deprecated in v1.2 and will be removed in v1.3. Please use `enable_checkpointing` instead. See https://github.com/scverse/scvi-tools/issues/2568 for more details.\n",
            "  model.train()\n",
            "INFO: GPU available: True (cuda), used: True\n",
            "INFO:lightning.pytorch.utilities.rank_zero:GPU available: True (cuda), used: True\n",
            "INFO: TPU available: False, using: 0 TPU cores\n",
            "INFO:lightning.pytorch.utilities.rank_zero:TPU available: False, using: 0 TPU cores\n",
            "INFO: HPU available: False, using: 0 HPUs\n",
            "INFO:lightning.pytorch.utilities.rank_zero:HPU available: False, using: 0 HPUs\n",
            "INFO: You are using a CUDA device ('NVIDIA L4') that has Tensor Cores. To properly utilize them, you should set `torch.set_float32_matmul_precision('medium' | 'high')` which will trade-off precision for performance. For more details, read https://pytorch.org/docs/stable/generated/torch.set_float32_matmul_precision.html#torch.set_float32_matmul_precision\n",
            "INFO:lightning.pytorch.utilities.rank_zero:You are using a CUDA device ('NVIDIA L4') that has Tensor Cores. To properly utilize them, you should set `torch.set_float32_matmul_precision('medium' | 'high')` which will trade-off precision for performance. For more details, read https://pytorch.org/docs/stable/generated/torch.set_float32_matmul_precision.html#torch.set_float32_matmul_precision\n",
            "INFO: LOCAL_RANK: 0 - CUDA_VISIBLE_DEVICES: [0]\n",
            "INFO:lightning.pytorch.accelerators.cuda:LOCAL_RANK: 0 - CUDA_VISIBLE_DEVICES: [0]\n",
            "/usr/local/lib/python3.10/dist-packages/lightning/pytorch/trainer/connectors/data_connector.py:425: The 'train_dataloader' does not have many workers which may be a bottleneck. Consider increasing the value of the `num_workers` argument` to `num_workers=11` in the `DataLoader` to improve performance.\n",
            "/usr/local/lib/python3.10/dist-packages/lightning/pytorch/trainer/connectors/data_connector.py:425: The 'val_dataloader' does not have many workers which may be a bottleneck. Consider increasing the value of the `num_workers` argument` to `num_workers=11` in the `DataLoader` to improve performance.\n"
          ]
        },
        {
          "output_type": "display_data",
          "data": {
            "text/plain": [
              "Training:   0%|          | 0/500 [00:00<?, ?it/s]"
            ],
            "application/vnd.jupyter.widget-view+json": {
              "version_major": 2,
              "version_minor": 0,
              "model_id": "e953a1d9746f42f9b73ffc018aa57492"
            }
          },
          "metadata": {}
        },
        {
          "output_type": "stream",
          "name": "stdout",
          "text": [
            "Monitored metric reconstruction_loss_validation did not improve in the last 50 records. Best score: 27898.146. Signaling Trainer to stop.\n"
          ]
        }
      ]
    },
    {
      "cell_type": "code",
      "source": [
        "# Create a temporary directory if save_dir is not defined\n",
        "save_dir = tempfile.TemporaryDirectory()\n",
        "\n",
        "model_dir = os.path.join(save_dir.name, \"peakvi_pbmc\")\n",
        "model.save(model_dir, overwrite=True)\n",
        "\n",
        "# Copy the model directory to your Google Drive\n",
        "drive_path = \"/content/drive/MyDrive/Colab Notebooks/peakvi_pbmc\"  # Choose your desired path\n",
        "\n",
        "# Remove the existing directory if it exists\n",
        "if os.path.exists(drive_path):\n",
        "    shutil.rmtree(drive_path)\n",
        "\n",
        "shutil.copytree(model_dir, drive_path)\n",
        "\n",
        "# Clean up the temporary directory\n",
        "save_dir.cleanup()\n",
        "\n",
        "print(f\"Model saved to: {drive_path}\")"
      ],
      "metadata": {
        "colab": {
          "base_uri": "https://localhost:8080/"
        },
        "id": "jWubh2qGen9O",
        "outputId": "42e13aad-86d3-4003-c5d6-ab67b20620bd"
      },
      "id": "jWubh2qGen9O",
      "execution_count": 51,
      "outputs": [
        {
          "output_type": "stream",
          "name": "stdout",
          "text": [
            "Model saved to: /content/drive/MyDrive/Colab Notebooks/peakvi_pbmc\n"
          ]
        }
      ]
    },
    {
      "cell_type": "code",
      "source": [
        "#Load the model\n",
        "#model = scvi.model.PEAKVI.load('/content/drive/MyDrive/Colab Notebooks/peakvi_pbmc', adata=adata)"
      ],
      "metadata": {
        "colab": {
          "base_uri": "https://localhost:8080/"
        },
        "id": "T9vB9tz1HcdF",
        "outputId": "1b8c2ee7-9385-404b-fbef-1a5bf9392e6e"
      },
      "id": "T9vB9tz1HcdF",
      "execution_count": 43,
      "outputs": [
        {
          "output_type": "stream",
          "name": "stdout",
          "text": [
            "\u001b[34mINFO    \u001b[0m File \u001b[35m/content/drive/MyDrive/\u001b[0m\u001b[95mColab\u001b[0m Notebooks/peakvi_pbmc/model.pt already downloaded                       \n"
          ]
        }
      ]
    },
    {
      "cell_type": "code",
      "source": [
        "model"
      ],
      "metadata": {
        "colab": {
          "base_uri": "https://localhost:8080/",
          "height": 82
        },
        "id": "plcb-jFAI2ji",
        "outputId": "ff1653f1-868d-4ad2-e9ef-f3718f6e4570"
      },
      "id": "plcb-jFAI2ji",
      "execution_count": 44,
      "outputs": [
        {
          "output_type": "display_data",
          "data": {
            "text/plain": [
              "PeakVI Model with params: \n",
              "n_hidden: \u001b[1;36m279\u001b[0m, n_latent: \u001b[1;36m16\u001b[0m, n_layers_encoder: \u001b[1;36m2\u001b[0m, n_layers_decoder: \u001b[1;36m2\u001b[0m , dropout_rate: \u001b[1;36m0.1\u001b[0m, latent_distribution: \n",
              "normal, deep injection: \u001b[3;91mFalse\u001b[0m, encode_covariates: \u001b[3;91mFalse\u001b[0m\n",
              "Training status: Trained\n"
            ],
            "text/html": [
              "<pre style=\"white-space:pre;overflow-x:auto;line-height:normal;font-family:Menlo,'DejaVu Sans Mono',consolas,'Courier New',monospace\">PeakVI Model with params: \n",
              "n_hidden: <span style=\"color: #008080; text-decoration-color: #008080; font-weight: bold\">279</span>, n_latent: <span style=\"color: #008080; text-decoration-color: #008080; font-weight: bold\">16</span>, n_layers_encoder: <span style=\"color: #008080; text-decoration-color: #008080; font-weight: bold\">2</span>, n_layers_decoder: <span style=\"color: #008080; text-decoration-color: #008080; font-weight: bold\">2</span> , dropout_rate: <span style=\"color: #008080; text-decoration-color: #008080; font-weight: bold\">0.1</span>, latent_distribution: \n",
              "normal, deep injection: <span style=\"color: #ff0000; text-decoration-color: #ff0000; font-style: italic\">False</span>, encode_covariates: <span style=\"color: #ff0000; text-decoration-color: #ff0000; font-style: italic\">False</span>\n",
              "Training status: Trained\n",
              "</pre>\n"
            ]
          },
          "metadata": {}
        },
        {
          "output_type": "execute_result",
          "data": {
            "text/plain": []
          },
          "metadata": {},
          "execution_count": 44
        }
      ]
    },
    {
      "cell_type": "markdown",
      "source": [
        "# Visualizing and analyzing the latent space"
      ],
      "metadata": {
        "id": "xYXWJ_bYQbdw"
      },
      "id": "xYXWJ_bYQbdw"
    },
    {
      "cell_type": "code",
      "source": [
        "PEAKVI_LATENT_KEY = \"X_peakvi\"\n",
        "\n",
        "latent = model.get_latent_representation()\n",
        "adata.obsm[PEAKVI_LATENT_KEY] = latent\n",
        "latent.shape"
      ],
      "metadata": {
        "colab": {
          "base_uri": "https://localhost:8080/"
        },
        "id": "OLMiRXsVI3he",
        "outputId": "37258edb-8d59-4711-9f30-3c2f00b37b8c"
      },
      "id": "OLMiRXsVI3he",
      "execution_count": 45,
      "outputs": [
        {
          "output_type": "execute_result",
          "data": {
            "text/plain": [
              "(12007, 16)"
            ]
          },
          "metadata": {},
          "execution_count": 45
        }
      ]
    },
    {
      "cell_type": "code",
      "source": [
        "PEAKVI_CLUSTERS_KEY = \"clusters_peakvi\"\n",
        "\n",
        "# compute the k-nearest-neighbor graph that is used in both clustering and umap algorithms\n",
        "sc.pp.neighbors(adata, use_rep=PEAKVI_LATENT_KEY, bat)\n",
        "# compute the umap\n",
        "sc.tl.umap(adata, min_dist=0.2)\n",
        "# cluster the space (we use a lower resolution to get fewer clusters than the default)\n",
        "sc.tl.leiden(adata, key_added=PEAKVI_CLUSTERS_KEY, resolution=0.2)"
      ],
      "metadata": {
        "id": "tvQEoPoIPQUM"
      },
      "id": "tvQEoPoIPQUM",
      "execution_count": null,
      "outputs": []
    },
    {
      "cell_type": "code",
      "source": [
        "sc.pl.umap(adata, color=PEAKVI_CLUSTERS_KEY)"
      ],
      "metadata": {
        "id": "-3wgzcVjPVFq"
      },
      "id": "-3wgzcVjPVFq",
      "execution_count": null,
      "outputs": []
    },
    {
      "cell_type": "code",
      "source": [
        "adata.obs"
      ],
      "metadata": {
        "id": "KrTP3y4hTryZ"
      },
      "id": "KrTP3y4hTryZ",
      "execution_count": null,
      "outputs": []
    },
    {
      "cell_type": "markdown",
      "source": [
        "# Differential accessibility"
      ],
      "metadata": {
        "id": "WPB4q6xFQk85"
      },
      "id": "WPB4q6xFQk85"
    },
    {
      "source": [
        "# Get the unique cluster names\n",
        "cluster_names = adata.obs[PEAKVI_CLUSTERS_KEY].unique()\n",
        "print(cluster_names)"
      ],
      "cell_type": "code",
      "metadata": {
        "id": "72CsNQxJRTu7"
      },
      "id": "72CsNQxJRTu7",
      "execution_count": null,
      "outputs": []
    },
    {
      "cell_type": "code",
      "source": [
        "# Choose the actual cluster names for group1 and group2\n",
        "# For example, if your clusters are labeled '0', '1', '2', etc., you might use:\n",
        "da_res11 = model.differential_accessibility(\n",
        "    groupby=PEAKVI_CLUSTERS_KEY,\n",
        "    group1=cluster_names[0],  # Replace with actual cluster name\n",
        "    group2=cluster_names[1],  # Replace with actual cluster name\n",
        "    two_sided=True,\n",
        "    batch_correction=True\n",
        ")"
      ],
      "metadata": {
        "id": "0Hb2ePg1RV9W"
      },
      "id": "0Hb2ePg1RV9W",
      "execution_count": null,
      "outputs": []
    },
    {
      "cell_type": "code",
      "source": [
        "da_res11"
      ],
      "metadata": {
        "id": "SMAQLJd7Q1Sq"
      },
      "id": "SMAQLJd7Q1Sq",
      "execution_count": null,
      "outputs": []
    },
    {
      "cell_type": "code",
      "source": [],
      "metadata": {
        "id": "kC9Qy2RgRvHx"
      },
      "id": "kC9Qy2RgRvHx",
      "execution_count": null,
      "outputs": []
    }
  ],
  "metadata": {
    "colab": {
      "machine_shape": "hm",
      "provenance": [],
      "gpuType": "L4",
      "toc_visible": true,
      "include_colab_link": true
    },
    "kernelspec": {
      "display_name": "Python 3",
      "name": "python3"
    },
    "language_info": {
      "name": "python"
    },
    "accelerator": "GPU",
    "widgets": {
      "application/vnd.jupyter.widget-state+json": {
        "e953a1d9746f42f9b73ffc018aa57492": {
          "model_module": "@jupyter-widgets/controls",
          "model_name": "HBoxModel",
          "model_module_version": "1.5.0",
          "state": {
            "_dom_classes": [],
            "_model_module": "@jupyter-widgets/controls",
            "_model_module_version": "1.5.0",
            "_model_name": "HBoxModel",
            "_view_count": null,
            "_view_module": "@jupyter-widgets/controls",
            "_view_module_version": "1.5.0",
            "_view_name": "HBoxView",
            "box_style": "",
            "children": [
              "IPY_MODEL_6a0c369d7d884f05bd564533cea0f21a",
              "IPY_MODEL_7ed6f094c8c04f0481d9e5189f5f867d",
              "IPY_MODEL_e40cf6783886431d88ef7e6647bcfdd5"
            ],
            "layout": "IPY_MODEL_62a17690745940199185640e18be31e0"
          }
        },
        "6a0c369d7d884f05bd564533cea0f21a": {
          "model_module": "@jupyter-widgets/controls",
          "model_name": "HTMLModel",
          "model_module_version": "1.5.0",
          "state": {
            "_dom_classes": [],
            "_model_module": "@jupyter-widgets/controls",
            "_model_module_version": "1.5.0",
            "_model_name": "HTMLModel",
            "_view_count": null,
            "_view_module": "@jupyter-widgets/controls",
            "_view_module_version": "1.5.0",
            "_view_name": "HTMLView",
            "description": "",
            "description_tooltip": null,
            "layout": "IPY_MODEL_cf0087a341dc43bb953a2dfae7893f96",
            "placeholder": "​",
            "style": "IPY_MODEL_e6141c759c0946088186261930563cc3",
            "value": "Epoch 110/500:  22%"
          }
        },
        "7ed6f094c8c04f0481d9e5189f5f867d": {
          "model_module": "@jupyter-widgets/controls",
          "model_name": "FloatProgressModel",
          "model_module_version": "1.5.0",
          "state": {
            "_dom_classes": [],
            "_model_module": "@jupyter-widgets/controls",
            "_model_module_version": "1.5.0",
            "_model_name": "FloatProgressModel",
            "_view_count": null,
            "_view_module": "@jupyter-widgets/controls",
            "_view_module_version": "1.5.0",
            "_view_name": "ProgressView",
            "bar_style": "danger",
            "description": "",
            "description_tooltip": null,
            "layout": "IPY_MODEL_b0bc1fe8ad5241e2ad56194f3b4806e3",
            "max": 500,
            "min": 0,
            "orientation": "horizontal",
            "style": "IPY_MODEL_efe90431c6994a5bb4ec190b9ab807df",
            "value": 110
          }
        },
        "e40cf6783886431d88ef7e6647bcfdd5": {
          "model_module": "@jupyter-widgets/controls",
          "model_name": "HTMLModel",
          "model_module_version": "1.5.0",
          "state": {
            "_dom_classes": [],
            "_model_module": "@jupyter-widgets/controls",
            "_model_module_version": "1.5.0",
            "_model_name": "HTMLModel",
            "_view_count": null,
            "_view_module": "@jupyter-widgets/controls",
            "_view_module_version": "1.5.0",
            "_view_name": "HTMLView",
            "description": "",
            "description_tooltip": null,
            "layout": "IPY_MODEL_98bbacc1e64c45f9a91d0c1d16293df3",
            "placeholder": "​",
            "style": "IPY_MODEL_52a968376ac44d0e81181535047ae5ea",
            "value": " 110/500 [16:59&lt;1:00:21,  9.29s/it, v_num=1, train_loss_step=8.65e+7, train_loss_epoch=4.37e+8]"
          }
        },
        "62a17690745940199185640e18be31e0": {
          "model_module": "@jupyter-widgets/base",
          "model_name": "LayoutModel",
          "model_module_version": "1.2.0",
          "state": {
            "_model_module": "@jupyter-widgets/base",
            "_model_module_version": "1.2.0",
            "_model_name": "LayoutModel",
            "_view_count": null,
            "_view_module": "@jupyter-widgets/base",
            "_view_module_version": "1.2.0",
            "_view_name": "LayoutView",
            "align_content": null,
            "align_items": null,
            "align_self": null,
            "border": null,
            "bottom": null,
            "display": null,
            "flex": null,
            "flex_flow": null,
            "grid_area": null,
            "grid_auto_columns": null,
            "grid_auto_flow": null,
            "grid_auto_rows": null,
            "grid_column": null,
            "grid_gap": null,
            "grid_row": null,
            "grid_template_areas": null,
            "grid_template_columns": null,
            "grid_template_rows": null,
            "height": null,
            "justify_content": null,
            "justify_items": null,
            "left": null,
            "margin": null,
            "max_height": null,
            "max_width": null,
            "min_height": null,
            "min_width": null,
            "object_fit": null,
            "object_position": null,
            "order": null,
            "overflow": null,
            "overflow_x": null,
            "overflow_y": null,
            "padding": null,
            "right": null,
            "top": null,
            "visibility": null,
            "width": null
          }
        },
        "cf0087a341dc43bb953a2dfae7893f96": {
          "model_module": "@jupyter-widgets/base",
          "model_name": "LayoutModel",
          "model_module_version": "1.2.0",
          "state": {
            "_model_module": "@jupyter-widgets/base",
            "_model_module_version": "1.2.0",
            "_model_name": "LayoutModel",
            "_view_count": null,
            "_view_module": "@jupyter-widgets/base",
            "_view_module_version": "1.2.0",
            "_view_name": "LayoutView",
            "align_content": null,
            "align_items": null,
            "align_self": null,
            "border": null,
            "bottom": null,
            "display": null,
            "flex": null,
            "flex_flow": null,
            "grid_area": null,
            "grid_auto_columns": null,
            "grid_auto_flow": null,
            "grid_auto_rows": null,
            "grid_column": null,
            "grid_gap": null,
            "grid_row": null,
            "grid_template_areas": null,
            "grid_template_columns": null,
            "grid_template_rows": null,
            "height": null,
            "justify_content": null,
            "justify_items": null,
            "left": null,
            "margin": null,
            "max_height": null,
            "max_width": null,
            "min_height": null,
            "min_width": null,
            "object_fit": null,
            "object_position": null,
            "order": null,
            "overflow": null,
            "overflow_x": null,
            "overflow_y": null,
            "padding": null,
            "right": null,
            "top": null,
            "visibility": null,
            "width": null
          }
        },
        "e6141c759c0946088186261930563cc3": {
          "model_module": "@jupyter-widgets/controls",
          "model_name": "DescriptionStyleModel",
          "model_module_version": "1.5.0",
          "state": {
            "_model_module": "@jupyter-widgets/controls",
            "_model_module_version": "1.5.0",
            "_model_name": "DescriptionStyleModel",
            "_view_count": null,
            "_view_module": "@jupyter-widgets/base",
            "_view_module_version": "1.2.0",
            "_view_name": "StyleView",
            "description_width": ""
          }
        },
        "b0bc1fe8ad5241e2ad56194f3b4806e3": {
          "model_module": "@jupyter-widgets/base",
          "model_name": "LayoutModel",
          "model_module_version": "1.2.0",
          "state": {
            "_model_module": "@jupyter-widgets/base",
            "_model_module_version": "1.2.0",
            "_model_name": "LayoutModel",
            "_view_count": null,
            "_view_module": "@jupyter-widgets/base",
            "_view_module_version": "1.2.0",
            "_view_name": "LayoutView",
            "align_content": null,
            "align_items": null,
            "align_self": null,
            "border": null,
            "bottom": null,
            "display": null,
            "flex": null,
            "flex_flow": null,
            "grid_area": null,
            "grid_auto_columns": null,
            "grid_auto_flow": null,
            "grid_auto_rows": null,
            "grid_column": null,
            "grid_gap": null,
            "grid_row": null,
            "grid_template_areas": null,
            "grid_template_columns": null,
            "grid_template_rows": null,
            "height": null,
            "justify_content": null,
            "justify_items": null,
            "left": null,
            "margin": null,
            "max_height": null,
            "max_width": null,
            "min_height": null,
            "min_width": null,
            "object_fit": null,
            "object_position": null,
            "order": null,
            "overflow": null,
            "overflow_x": null,
            "overflow_y": null,
            "padding": null,
            "right": null,
            "top": null,
            "visibility": null,
            "width": null
          }
        },
        "efe90431c6994a5bb4ec190b9ab807df": {
          "model_module": "@jupyter-widgets/controls",
          "model_name": "ProgressStyleModel",
          "model_module_version": "1.5.0",
          "state": {
            "_model_module": "@jupyter-widgets/controls",
            "_model_module_version": "1.5.0",
            "_model_name": "ProgressStyleModel",
            "_view_count": null,
            "_view_module": "@jupyter-widgets/base",
            "_view_module_version": "1.2.0",
            "_view_name": "StyleView",
            "bar_color": null,
            "description_width": ""
          }
        },
        "98bbacc1e64c45f9a91d0c1d16293df3": {
          "model_module": "@jupyter-widgets/base",
          "model_name": "LayoutModel",
          "model_module_version": "1.2.0",
          "state": {
            "_model_module": "@jupyter-widgets/base",
            "_model_module_version": "1.2.0",
            "_model_name": "LayoutModel",
            "_view_count": null,
            "_view_module": "@jupyter-widgets/base",
            "_view_module_version": "1.2.0",
            "_view_name": "LayoutView",
            "align_content": null,
            "align_items": null,
            "align_self": null,
            "border": null,
            "bottom": null,
            "display": null,
            "flex": null,
            "flex_flow": null,
            "grid_area": null,
            "grid_auto_columns": null,
            "grid_auto_flow": null,
            "grid_auto_rows": null,
            "grid_column": null,
            "grid_gap": null,
            "grid_row": null,
            "grid_template_areas": null,
            "grid_template_columns": null,
            "grid_template_rows": null,
            "height": null,
            "justify_content": null,
            "justify_items": null,
            "left": null,
            "margin": null,
            "max_height": null,
            "max_width": null,
            "min_height": null,
            "min_width": null,
            "object_fit": null,
            "object_position": null,
            "order": null,
            "overflow": null,
            "overflow_x": null,
            "overflow_y": null,
            "padding": null,
            "right": null,
            "top": null,
            "visibility": null,
            "width": null
          }
        },
        "52a968376ac44d0e81181535047ae5ea": {
          "model_module": "@jupyter-widgets/controls",
          "model_name": "DescriptionStyleModel",
          "model_module_version": "1.5.0",
          "state": {
            "_model_module": "@jupyter-widgets/controls",
            "_model_module_version": "1.5.0",
            "_model_name": "DescriptionStyleModel",
            "_view_count": null,
            "_view_module": "@jupyter-widgets/base",
            "_view_module_version": "1.2.0",
            "_view_name": "StyleView",
            "description_width": ""
          }
        }
      }
    }
  },
  "nbformat": 4,
  "nbformat_minor": 5
}