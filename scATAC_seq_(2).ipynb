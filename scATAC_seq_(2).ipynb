{
  "cells": [
    {
      "cell_type": "markdown",
      "metadata": {
        "id": "view-in-github",
        "colab_type": "text"
      },
      "source": [
        "<a href=\"https://colab.research.google.com/github/Droslj/scATAC-seq-complete-/blob/Google-colab/scATAC_seq_(2).ipynb\" target=\"_parent\"><img src=\"https://colab.research.google.com/assets/colab-badge.svg\" alt=\"Open In Colab\"/></a>"
      ]
    },
    {
      "cell_type": "markdown",
      "id": "f268332b-53de-4af8-9533-e48c041292f3",
      "metadata": {
        "id": "f268332b-53de-4af8-9533-e48c041292f3"
      },
      "source": [
        "scATAC seq, based on scATAC seq processing Galaxy tutorials (scATAC preprocessing (2), Standard scATAC seq processing pipeline (1) )\n",
        "AD Objects created in Galaxy using customized Galaxy WF with Snapatac2 and imported\n",
        "(1) https://usegalaxy.eu/training-material/topics/single-cell/tutorials/scatac-preprocessing-tenx/tutorial.html#mapping-reads-to-a-reference-genome, (2) https://usegalaxy.eu/training-material/topics/single-cell/tutorials/scatac-standard-processing-snapatac2/tutorial.html\n",
        "Data taken from the following NCBI study:\n",
        "Metabolic adaptation pilots the differentiation of human hematopoietic cells (https://www.ncbi.nlm.nih.gov/bioproject/PRJNA1015713)\n",
        "Import Anndata objects for two biological replicates, SRR26046013 (cells treated with AOA inhibitor) and SRR26046019 (untreated cells)\n",
        "Perform following steps:\n",
        "(1) Import matrices\n",
        "(2) Compute fragment size distribution\n",
        "(3) Compute TSS enrichment\n",
        "(4) Filter cell counts based on TSSe\n",
        "(5) Create cell by bin matrix based on 500 bp wide bins accross the whole genome\n",
        "(6) Perform feature selection\n",
        "(7) Perform Doublet removal\n",
        "(8) Perform Dim reduction (spectral)\n",
        "(9) Perform Clustering (neighborhood, UMAP, leiden)\n",
        "(10) Create a cell by gene matrix\n",
        "(11) Concatenate matrices using Inner join\n",
        "(12) Remove batch effects"
      ]
    },
    {
      "cell_type": "code",
      "source": [],
      "metadata": {
        "id": "6-v7gtUrSUkd"
      },
      "id": "6-v7gtUrSUkd",
      "execution_count": null,
      "outputs": []
    },
    {
      "cell_type": "code",
      "source": [
        "!pip install -q condacolab"
      ],
      "metadata": {
        "id": "HYs7RhoU68Ks"
      },
      "execution_count": 1,
      "outputs": [],
      "id": "HYs7RhoU68Ks"
    },
    {
      "cell_type": "code",
      "source": [
        "import condacolab"
      ],
      "metadata": {
        "id": "QBQXEKjk7O-V"
      },
      "execution_count": 2,
      "outputs": [],
      "id": "QBQXEKjk7O-V"
    },
    {
      "cell_type": "code",
      "source": [
        "condacolab.install()"
      ],
      "metadata": {
        "colab": {
          "base_uri": "https://localhost:8080/"
        },
        "id": "YdiPg8vS7ZKq",
        "outputId": "c1af1714-17cb-4887-9516-349bbc0028e6"
      },
      "execution_count": 3,
      "outputs": [
        {
          "output_type": "stream",
          "name": "stdout",
          "text": [
            "⏬ Downloading https://github.com/conda-forge/miniforge/releases/download/23.11.0-0/Mambaforge-23.11.0-0-Linux-x86_64.sh...\n",
            "📦 Installing...\n",
            "📌 Adjusting configuration...\n",
            "🩹 Patching environment...\n",
            "⏲ Done in 0:00:10\n",
            "🔁 Restarting kernel...\n"
          ]
        }
      ],
      "id": "YdiPg8vS7ZKq"
    },
    {
      "cell_type": "code",
      "source": [
        "!conda --version"
      ],
      "metadata": {
        "colab": {
          "base_uri": "https://localhost:8080/"
        },
        "id": "VITjp1M56yu_",
        "outputId": "348e162c-4194-426a-f1ea-0952210e7e16"
      },
      "execution_count": 4,
      "outputs": [
        {
          "output_type": "stream",
          "name": "stdout",
          "text": [
            "conda 23.11.0\n"
          ]
        }
      ],
      "id": "VITjp1M56yu_"
    },
    {
      "cell_type": "code",
      "source": [
        "!which conda"
      ],
      "metadata": {
        "colab": {
          "base_uri": "https://localhost:8080/"
        },
        "id": "S-oCMIm-7p9i",
        "outputId": "c22ec512-fe5e-4aba-b4e5-e9e8aef6c639"
      },
      "execution_count": 5,
      "outputs": [
        {
          "output_type": "stream",
          "name": "stdout",
          "text": [
            "/usr/local/bin/conda\n"
          ]
        }
      ],
      "id": "S-oCMIm-7p9i"
    },
    {
      "cell_type": "code",
      "source": [
        "!conda config --add channels conda-forge"
      ],
      "metadata": {
        "colab": {
          "base_uri": "https://localhost:8080/"
        },
        "id": "D6zjhdZm-BJp",
        "outputId": "f1b1dda0-0e89-4595-c8f7-78374c369d4c"
      },
      "execution_count": 6,
      "outputs": [
        {
          "output_type": "stream",
          "name": "stdout",
          "text": [
            "Warning: 'conda-forge' already in 'channels' list, moving to the top\n"
          ]
        }
      ],
      "id": "D6zjhdZm-BJp"
    },
    {
      "cell_type": "code",
      "source": [
        "!conda config --add channels bioconda"
      ],
      "metadata": {
        "id": "JpJESCcU-fO_"
      },
      "execution_count": 7,
      "outputs": [],
      "id": "JpJESCcU-fO_"
    },
    {
      "source": [
        "!pip install snapatac2 -q"
      ],
      "cell_type": "code",
      "metadata": {
        "colab": {
          "base_uri": "https://localhost:8080/"
        },
        "id": "gZdiRWwb1rZJ",
        "outputId": "93cd746b-88e0-4ee0-e424-52eb1ec9d7bc"
      },
      "execution_count": null,
      "outputs": [
        {
          "output_type": "stream",
          "name": "stdout",
          "text": [
            "\u001b[?25l     \u001b[90m━━━━━━━━━━━━━━━━━━━━━━━━━━━━━━━━━━━━━━━━\u001b[0m \u001b[32m0.0/687.2 kB\u001b[0m \u001b[31m?\u001b[0m eta \u001b[36m-:--:--\u001b[0m\r\u001b[2K     \u001b[91m━━━━━━━━━━━━━━\u001b[0m\u001b[91m╸\u001b[0m\u001b[90m━━━━━━━━━━━━━━━━━━━━━━━━━\u001b[0m \u001b[32m256.0/687.2 kB\u001b[0m \u001b[31m7.6 MB/s\u001b[0m eta \u001b[36m0:00:01\u001b[0m\r\u001b[2K     \u001b[90m━━━━━━━━━━━━━━━━━━━━━━━━━━━━━━━━━━━━━━━━\u001b[0m \u001b[32m687.2/687.2 kB\u001b[0m \u001b[31m10.5 MB/s\u001b[0m eta \u001b[36m0:00:00\u001b[0m\n",
            "\u001b[?25h  Installing build dependencies ... \u001b[?25l\u001b[?25hdone\n",
            "  Getting requirements to build wheel ... \u001b[?25l\u001b[?25hdone\n",
            "  Preparing metadata (pyproject.toml) ... \u001b[?25l\u001b[?25hdone\n",
            "\u001b[2K   \u001b[90m━━━━━━━━━━━━━━━━━━━━━━━━━━━━━━━━━━━━━━━━\u001b[0m \u001b[32m17.5/17.5 MB\u001b[0m \u001b[31m2.8 MB/s\u001b[0m eta \u001b[36m0:00:00\u001b[0m\n",
            "\u001b[2K   \u001b[90m━━━━━━━━━━━━━━━━━━━━━━━━━━━━━━━━━━━━━━━━\u001b[0m \u001b[32m129.0/129.0 kB\u001b[0m \u001b[31m8.8 MB/s\u001b[0m eta \u001b[36m0:00:00\u001b[0m\n",
            "\u001b[2K   \u001b[90m━━━━━━━━━━━━━━━━━━━━━━━━━━━━━━━━━━━━━━━━\u001b[0m \u001b[32m3.1/3.1 MB\u001b[0m \u001b[31m71.5 MB/s\u001b[0m eta \u001b[36m0:00:00\u001b[0m\n",
            "\u001b[2K   \u001b[90m━━━━━━━━━━━━━━━━━━━━━━━━━━━━━━━━━━━━━━━━\u001b[0m \u001b[32m12.3/12.3 MB\u001b[0m \u001b[31m93.0 MB/s\u001b[0m eta \u001b[36m0:00:00\u001b[0m\n",
            "\u001b[2K   \u001b[90m━━━━━━━━━━━━━━━━━━━━━━━━━━━━━━━━━━━━━━━━\u001b[0m \u001b[32m19.1/19.1 MB\u001b[0m \u001b[31m80.0 MB/s\u001b[0m eta \u001b[36m0:00:00\u001b[0m\n",
            "\u001b[2K   \u001b[90m━━━━━━━━━━━━━━━━━━━━━━━━━━━━━━━━━━━━━━━━\u001b[0m \u001b[32m32.8/32.8 MB\u001b[0m \u001b[31m55.9 MB/s\u001b[0m eta \u001b[36m0:00:00\u001b[0m\n",
            "\u001b[2K   \u001b[90m━━━━━━━━━━━━━━━━━━━━━━━━━━━━━━━━━━━━━━━━\u001b[0m \u001b[32m64.6/64.6 kB\u001b[0m \u001b[31m4.5 MB/s\u001b[0m eta \u001b[36m0:00:00\u001b[0m\n",
            "\u001b[2K   \u001b[90m━━━━━━━━━━━━━━━━━━━━━━━━━━━━━━━━━━━━━━━━\u001b[0m \u001b[32m79.9/79.9 MB\u001b[0m \u001b[31m23.8 MB/s\u001b[0m eta \u001b[36m0:00:00\u001b[0m\n",
            "\u001b[2K   \u001b[90m━━━━━━━━━━━━━━━━━━━━━━━━━━━━━━━━━━━━━━━━\u001b[0m \u001b[32m134.8/134.8 kB\u001b[0m \u001b[31m7.7 MB/s\u001b[0m eta \u001b[36m0:00:00\u001b[0m\n",
            "\u001b[2K   \u001b[90m━━━━━━━━━━━━━━━━━━━━━━━━━━━━━━━━━━━━━━━━\u001b[0m \u001b[32m40.1/40.1 MB\u001b[0m \u001b[31m45.0 MB/s\u001b[0m eta \u001b[36m0:00:00\u001b[0m\n",
            "\u001b[2K   \u001b[90m━━━━━━━━━━━━━━━━━━━━━━━━━━━━━━━━━━━━━━━━\u001b[0m \u001b[32m2.0/2.0 MB\u001b[0m \u001b[31m62.2 MB/s\u001b[0m eta \u001b[36m0:00:00\u001b[0m\n",
            "\u001b[2K   \u001b[90m━━━━━━━━━━━━━━━━━━━━━━━━━━━━━━━━━━━━━━━━\u001b[0m \u001b[32m50.4/50.4 kB\u001b[0m \u001b[31m3.4 MB/s\u001b[0m eta \u001b[36m0:00:00\u001b[0m\n",
            "\u001b[2K   \u001b[90m━━━━━━━━━━━━━━━━━━━━━━━━━━━━━━━━━━━━━━━━\u001b[0m \u001b[32m119.4/119.4 kB\u001b[0m \u001b[31m6.6 MB/s\u001b[0m eta \u001b[36m0:00:00\u001b[0m\n",
            "\u001b[2K   \u001b[90m━━━━━━━━━━━━━━━━━━━━━━━━━━━━━━━━━━━━━━━━\u001b[0m \u001b[32m5.3/5.3 MB\u001b[0m \u001b[31m92.2 MB/s\u001b[0m eta \u001b[36m0:00:00\u001b[0m\n",
            "\u001b[2K   \u001b[90m━━━━━━━━━━━━━━━━━━━━━━━━━━━━━━━━━━━━━━━━\u001b[0m \u001b[32m229.9/229.9 kB\u001b[0m \u001b[31m13.9 MB/s\u001b[0m eta \u001b[36m0:00:00\u001b[0m\n",
            "\u001b[2K   \u001b[90m━━━━━━━━━━━━━━━━━━━━━━━━━━━━━━━━━━━━━━━━\u001b[0m \u001b[32m508.0/508.0 kB\u001b[0m \u001b[31m24.4 MB/s\u001b[0m eta \u001b[36m0:00:00\u001b[0m\n",
            "\u001b[2K   \u001b[90m━━━━━━━━━━━━━━━━━━━━━━━━━━━━━━━━━━━━━━━━\u001b[0m \u001b[32m346.6/346.6 kB\u001b[0m \u001b[31m20.5 MB/s\u001b[0m eta \u001b[36m0:00:00\u001b[0m\n",
            "\u001b[?25h"
          ]
        }
      ],
      "id": "gZdiRWwb1rZJ"
    },
    {
      "cell_type": "code",
      "source": [
        "!pip show snapatac2"
      ],
      "metadata": {
        "id": "jsCJ2get4W8l"
      },
      "execution_count": null,
      "outputs": [],
      "id": "jsCJ2get4W8l"
    },
    {
      "cell_type": "code",
      "source": [
        "import snapatac2 as snap"
      ],
      "metadata": {
        "id": "z2G4FDYqgSmQ"
      },
      "execution_count": null,
      "outputs": [],
      "id": "z2G4FDYqgSmQ"
    },
    {
      "cell_type": "code",
      "source": [
        "!pip install umap-learn\n",
        "\n"
      ],
      "metadata": {
        "id": "VZLaiDEzlB1m"
      },
      "execution_count": null,
      "outputs": [],
      "id": "VZLaiDEzlB1m"
    },
    {
      "cell_type": "code",
      "source": [
        "import umap.umap_ as umap\n"
      ],
      "metadata": {
        "id": "BCEdegOSgRBg"
      },
      "execution_count": null,
      "outputs": [],
      "id": "BCEdegOSgRBg"
    },
    {
      "cell_type": "code",
      "source": [
        "from umap import UMAP"
      ],
      "metadata": {
        "id": "FVmqXk-vlFrB"
      },
      "execution_count": null,
      "outputs": [],
      "id": "FVmqXk-vlFrB"
    },
    {
      "cell_type": "code",
      "source": [
        "!pip install scanpy -q"
      ],
      "metadata": {
        "id": "CM_xhHZxUcF5"
      },
      "execution_count": null,
      "outputs": [],
      "id": "CM_xhHZxUcF5"
    },
    {
      "cell_type": "code",
      "source": [
        "import scanpy as sc"
      ],
      "metadata": {
        "id": "NYl1nQOhUoj2"
      },
      "execution_count": null,
      "outputs": [],
      "id": "NYl1nQOhUoj2"
    },
    {
      "cell_type": "code",
      "source": [
        "pip show scanpy"
      ],
      "metadata": {
        "id": "rkvTEjpw_csS"
      },
      "execution_count": null,
      "outputs": [],
      "id": "rkvTEjpw_csS"
    },
    {
      "cell_type": "code",
      "execution_count": null,
      "metadata": {
        "id": "4e15629f-bdc4-46dd-8375-a1f2e17960ca"
      },
      "outputs": [],
      "source": [
        "import numpy as np"
      ],
      "id": "4e15629f-bdc4-46dd-8375-a1f2e17960ca"
    },
    {
      "cell_type": "code",
      "execution_count": null,
      "metadata": {
        "id": "37ff51dc-8860-4ab6-ab44-8223b33ea879"
      },
      "outputs": [],
      "source": [
        "import anndata as ad"
      ],
      "id": "37ff51dc-8860-4ab6-ab44-8223b33ea879"
    },
    {
      "source": [
        "!pip install diffxpy -q"
      ],
      "cell_type": "code",
      "metadata": {
        "id": "V4DX7Y0t1K1S"
      },
      "execution_count": null,
      "outputs": [],
      "id": "V4DX7Y0t1K1S"
    },
    {
      "cell_type": "code",
      "source": [
        "import diffxpy.api as de"
      ],
      "metadata": {
        "id": "yb2ApyZm9Bfz"
      },
      "execution_count": null,
      "outputs": [],
      "id": "yb2ApyZm9Bfz"
    },
    {
      "cell_type": "code",
      "execution_count": null,
      "metadata": {
        "id": "f54f07e0-84cc-4ab9-a156-ea8467a76fc4"
      },
      "outputs": [],
      "source": [
        "import matplotlib.pyplot as plt"
      ],
      "id": "f54f07e0-84cc-4ab9-a156-ea8467a76fc4"
    },
    {
      "source": [
        "import seaborn as sns"
      ],
      "cell_type": "code",
      "metadata": {
        "id": "jIEyfb4NApUa"
      },
      "execution_count": null,
      "outputs": [],
      "id": "jIEyfb4NApUa"
    },
    {
      "cell_type": "code",
      "execution_count": null,
      "metadata": {
        "id": "dfc626e2-9a64-4f0f-8677-1da6e446ea3a"
      },
      "outputs": [],
      "source": [
        "import plotly.subplots as sp\n",
        "import plotly.graph_objects as go"
      ],
      "id": "dfc626e2-9a64-4f0f-8677-1da6e446ea3a"
    },
    {
      "cell_type": "code",
      "execution_count": null,
      "metadata": {
        "id": "ffa7a645-c56a-4d94-af04-6869e008ca12"
      },
      "outputs": [],
      "source": [
        "from scipy import stats"
      ],
      "id": "ffa7a645-c56a-4d94-af04-6869e008ca12"
    },
    {
      "cell_type": "markdown",
      "id": "43f56d4f-c4ec-496e-96bd-6645365df65c",
      "metadata": {
        "id": "43f56d4f-c4ec-496e-96bd-6645365df65c"
      },
      "source": [
        "# Import reads from google drive, three samples treated with energy metabolism inhibitors and one untreated"
      ]
    },
    {
      "cell_type": "code",
      "source": [
        "from google.colab import drive\n",
        "drive.mount('/content/drive')"
      ],
      "metadata": {
        "id": "BpK5P48ACJOW"
      },
      "id": "BpK5P48ACJOW",
      "execution_count": null,
      "outputs": []
    },
    {
      "cell_type": "code",
      "execution_count": null,
      "id": "be1662ba-006c-4be4-9858-70480fa51fe3",
      "metadata": {
        "id": "be1662ba-006c-4be4-9858-70480fa51fe3"
      },
      "outputs": [],
      "source": [
        "#Load AD matrix from google drive, PCA and Batch corrected\n",
        "adata_concat = sc.read_h5ad('/content/drive/MyDrive/Colab Notebooks/MTXmerged_PCA_BC.h5ad')"
      ]
    },
    {
      "cell_type": "markdown",
      "source": [
        "Plot the 'obsm' before and after batch effect removal (PC1 vs PC2)"
      ],
      "metadata": {
        "id": "sUuZcbY5SSwu"
      },
      "id": "sUuZcbY5SSwu"
    },
    {
      "cell_type": "code",
      "source": [
        "#Extract data sets\n",
        "x_before = adata_concat.obsm['X_pca'][:, 0]\n",
        "y_before = adata_concat.obsm['X_pca'][:, 1]\n",
        "\n",
        "x_after = adata_concat.obsm['X_pca_harmony'][:, 0]\n",
        "y_after = adata_concat.obsm['X_pca_harmony'][:, 1]\n",
        "batch_labels = adata_concat.obs['Treatment']\n"
      ],
      "metadata": {
        "id": "-zjMUqgNRKT9"
      },
      "id": "-zjMUqgNRKT9",
      "execution_count": null,
      "outputs": []
    },
    {
      "cell_type": "code",
      "source": [
        "#Define figure\n",
        "plt.figure(figsize=(12, 6))\n",
        "plt.subplot(1, 2, 1)\n",
        "#Plot before batch effect removal\n",
        "\n",
        "sns.scatterplot(x=x_before, y=y_before, hue=batch_labels)\n",
        "plt.title('PCA Before Batch Effect Removal')\n",
        "plt.xlabel('PC1')\n",
        "plt.ylabel('PC2')\n",
        "\n",
        "#Plot PCA after batch effect removal\n",
        "\n",
        "plt.subplot(1, 2, 2)\n",
        "sns.scatterplot(x=x_after, y=y_after, hue=batch_labels)\n",
        "plt.title('PCA After Batch Effect Removal')\n",
        "plt.xlabel('PC1')\n",
        "plt.ylabel('PC2')\n",
        "\n",
        "plt.tight_layout()\n",
        "plt.show()"
      ],
      "metadata": {
        "id": "hgtc1ntUSEnY"
      },
      "id": "hgtc1ntUSEnY",
      "execution_count": null,
      "outputs": []
    },
    {
      "cell_type": "code",
      "source": [
        "#from shutil import copyfile\n",
        "#copyfile('adata_concat.h5ad', '/content/drive/MyDrive/Colab Notebooks/adata_concat.h5ad')"
      ],
      "metadata": {
        "id": "KjyfYBv6VmZv"
      },
      "id": "KjyfYBv6VmZv",
      "execution_count": null,
      "outputs": []
    },
    {
      "cell_type": "code",
      "source": [
        "adata_concat"
      ],
      "metadata": {
        "id": "KEu2Aixq97tb"
      },
      "id": "KEu2Aixq97tb",
      "execution_count": null,
      "outputs": []
    },
    {
      "cell_type": "markdown",
      "id": "7ab463c4-c21e-4fbf-85e0-f70e4f6b91f2",
      "metadata": {
        "id": "7ab463c4-c21e-4fbf-85e0-f70e4f6b91f2"
      },
      "source": [
        "# Differential accesibility analysis"
      ]
    },
    {
      "source": [
        "# Perform differential accessibility testing with Wilcoxon rank-sum test\n",
        "sc.tl.rank_genes_groups(adata_concat, 'Treatment', method='wilcoxon')"
      ],
      "cell_type": "code",
      "metadata": {
        "id": "CRjmsHTz0G1R"
      },
      "execution_count": null,
      "outputs": [],
      "id": "CRjmsHTz0G1R"
    },
    {
      "cell_type": "code",
      "source": [
        "# Access results in `adata_concat.uns['rank_genes_groups']`\n",
        "# For example, to get the top differentially accessible regions:\n",
        "top_dars = sc.get.rank_genes_groups_df(adata_concat, group='Treated w/AOA', pval_cutoff=0.05)"
      ],
      "metadata": {
        "id": "6BgXrCGTq96F"
      },
      "id": "6BgXrCGTq96F",
      "execution_count": null,
      "outputs": []
    },
    {
      "cell_type": "code",
      "source": [],
      "metadata": {
        "id": "xp7oUW5srN_J"
      },
      "id": "xp7oUW5srN_J",
      "execution_count": null,
      "outputs": []
    },
    {
      "cell_type": "code",
      "source": [
        "top_dars"
      ],
      "metadata": {
        "id": "dCtTs7kpA3AP"
      },
      "execution_count": null,
      "outputs": [],
      "id": "dCtTs7kpA3AP"
    },
    {
      "source": [
        "#Distribution of Adjusted P-values\n",
        "\n",
        "import matplotlib.pyplot as plt\n",
        "\n",
        "plt.figure(figsize=(8, 6))\n",
        "plt.hist(top_dars['pvals_adj'], bins=30, edgecolor='black')\n",
        "plt.title('Distribution of Adjusted P-values')\n",
        "plt.xlabel('Adjusted P-value')\n",
        "_ = plt.ylabel('Frequency')"
      ],
      "cell_type": "code",
      "execution_count": null,
      "outputs": [],
      "metadata": {
        "id": "LzwVDlrntNeC"
      },
      "id": "LzwVDlrntNeC"
    },
    {
      "cell_type": "markdown",
      "source": [],
      "metadata": {
        "id": "rAAQ9Lw6EZ33"
      },
      "id": "rAAQ9Lw6EZ33"
    },
    {
      "source": [
        "# Sort by adjusted p-value in ascending order (most significant first)\n",
        "top_dars_sorted = top_dars.sort_values(by='pvals_adj')\n",
        "\n",
        "# Select the top 10 rows\n",
        "top_10_dars = top_dars_sorted.head(10)\n",
        "bottom_10_dars = top_dars_sorted.tail(10)"
      ],
      "cell_type": "code",
      "metadata": {
        "id": "sXy0cYRvDroV"
      },
      "execution_count": null,
      "outputs": [],
      "id": "sXy0cYRvDroV"
    },
    {
      "cell_type": "code",
      "source": [
        "# Display the top 10 DARs\n",
        "print(top_10_dars)"
      ],
      "metadata": {
        "id": "UgR6cOJZHjXb"
      },
      "execution_count": null,
      "outputs": [],
      "id": "UgR6cOJZHjXb"
    },
    {
      "cell_type": "code",
      "source": [
        "print(bottom_10_dars)"
      ],
      "metadata": {
        "id": "oejJUz4ZcqLe"
      },
      "id": "oejJUz4ZcqLe",
      "execution_count": null,
      "outputs": []
    },
    {
      "source": [
        "# Create scatterplot of differential accessibility results\n",
        "sns.scatterplot(x=top_dars['logfoldchanges'], y=-np.log10(top_dars['pvals_adj']))\n",
        "plt.xlabel('log2 Fold Change')\n",
        "plt.ylabel('-log10 Adjusted p-value')\n",
        "plt.title('Volcano Plot of Differentially Accessible Regions')\n",
        "plt.show()"
      ],
      "cell_type": "code",
      "metadata": {
        "id": "cvRmTZ73Beqq"
      },
      "execution_count": null,
      "outputs": [],
      "id": "cvRmTZ73Beqq"
    },
    {
      "cell_type": "code",
      "source": [
        "#Heatmap of top 10 differentially most expressed genes\n",
        "sc.pl.heatmap(adata_concat, top_10_dars['names'].tolist(), groupby='Treatment', cmap='viridis')"
      ],
      "metadata": {
        "id": "g1oQfiiqIQz9"
      },
      "execution_count": null,
      "outputs": [],
      "id": "g1oQfiiqIQz9"
    },
    {
      "cell_type": "code",
      "source": [
        "#Heatmap of top 10 differentially lowest expressed genes\n",
        "sc.pl.heatmap(adata_concat, bottom_10_dars['names'].tolist(), groupby='Treatment', cmap='viridis')"
      ],
      "metadata": {
        "id": "BOdyfpMGJMhk"
      },
      "execution_count": null,
      "outputs": [],
      "id": "BOdyfpMGJMhk"
    },
    {
      "source": [
        "# Create a bar plot\n",
        "plt.figure(figsize=(10, 6))  # Adjust figure size as needed\n",
        "sns.barplot(x=top_10_dars['names'].tolist(), y=top_10_dars['logfoldchanges'])\n",
        "plt.xticks(rotation=45, ha='right')  # Rotate x-axis labels for readability\n",
        "plt.xlabel('Differentially Accessible Regions')\n",
        "plt.ylabel('Log2 Fold Change')\n",
        "plt.title('Top 10 Differentially Accessible Regions')\n",
        "plt.tight_layout()\n",
        "plt.show()"
      ],
      "cell_type": "code",
      "metadata": {
        "id": "El76tq6-DgtC"
      },
      "execution_count": null,
      "outputs": [],
      "id": "El76tq6-DgtC"
    },
    {
      "source": [
        "import matplotlib.pyplot as plt\n",
        "\n",
        "# Assuming 'res_df' is your DataFrame of differential accessibility results\n",
        "plt.scatter(top_dars['scores'], top_dars['logfoldchanges'], s=5)\n",
        "plt.xlabel('Average Expression')\n",
        "plt.ylabel('log2 Fold Change')\n",
        "plt.title('MA Plot of Differentially Accessible Regions')\n",
        "plt.axhline(y=0, color='black', linestyle='--')\n",
        "plt.show()"
      ],
      "cell_type": "code",
      "metadata": {
        "id": "d-k9bX7BMD-_"
      },
      "execution_count": null,
      "outputs": [],
      "id": "d-k9bX7BMD-_"
    },
    {
      "cell_type": "code",
      "source": [
        "adata_concat.var_names"
      ],
      "metadata": {
        "id": "r1LOGXcPcwH6"
      },
      "execution_count": null,
      "outputs": [],
      "id": "r1LOGXcPcwH6"
    },
    {
      "source": [
        "from tqdm import tqdm\n",
        "\n",
        "for gene in tqdm(top_10_dars['names'].tolist(), desc=\"Generating violin plots\"):\n",
        "    sc.pl.violin(adata_concat, [gene], groupby='Treatment')"
      ],
      "cell_type": "code",
      "metadata": {
        "id": "PnhIlJq08KXH"
      },
      "execution_count": null,
      "outputs": [],
      "id": "PnhIlJq08KXH"
    },
    {
      "cell_type": "markdown",
      "source": [
        "# Differential accessibility analysis using diffxpy"
      ],
      "metadata": {
        "id": "dTGOQibDKLLX"
      },
      "id": "dTGOQibDKLLX"
    },
    {
      "cell_type": "code",
      "source": [
        "import os\n",
        "\n",
        "# Get the current working directory\n",
        "current_directory = os.getcwd()\n",
        "\n",
        "# Print the current working directory\n",
        "print(f\"Current working directory: {current_directory}\")"
      ],
      "metadata": {
        "id": "cmkk3tHaGsQ9"
      },
      "id": "cmkk3tHaGsQ9",
      "execution_count": null,
      "outputs": []
    },
    {
      "cell_type": "code",
      "source": [
        "#numpy type aliases\n",
        "np.float = float\n",
        "np.int = int   #module 'numpy' has no attribute 'int'\n",
        "np.object = object    #module 'numpy' has no attribute 'object'\n",
        "np.bool = bool    #module 'numpy' has no attribute 'bool'"
      ],
      "metadata": {
        "id": "QkYcsillINBn"
      },
      "execution_count": null,
      "outputs": [],
      "id": "QkYcsillINBn"
    },
    {
      "cell_type": "markdown",
      "source": [
        "# Process data in batches of 1000"
      ],
      "metadata": {
        "id": "32DJSCEh2l5D"
      },
      "id": "32DJSCEh2l5D"
    },
    {
      "source": [
        "# Split genes into batches of 1000\n",
        "n_genes = adata_concat.var.shape[0]\n",
        "batch_size = 1000\n",
        "n_batches = int(np.ceil(n_genes / batch_size))\n",
        "\n",
        "test_batch_total=[]\n",
        "\n",
        "# Iterate through batches\n",
        "for i in range(n_batches):\n",
        "    start = i * batch_size\n",
        "    end = min((i + 1) * batch_size, n_genes)\n",
        "\n",
        "    # Subset the data for the current batch\n",
        "    adata_batch = adata_concat[:, start:end]\n",
        "\n",
        "    # Perform the Wald test on the batch\n",
        "    test_batch = de.test.wald(\n",
        "        data=adata_batch,\n",
        "        formula_loc=\"~ 1 + Treatment\",\n",
        "        factor_loc_totest=\"Treatment\"\n",
        "    )\n",
        "\n",
        "    # Combine results (e.g., append to a list)\n",
        "    test_batch_total.append(test_batch)"
      ],
      "cell_type": "code",
      "metadata": {
        "id": "7Jm1-fny2KlO"
      },
      "id": "7Jm1-fny2KlO",
      "execution_count": null,
      "outputs": []
    },
    {
      "cell_type": "markdown",
      "source": [
        "# Data subsample"
      ],
      "metadata": {
        "id": "1065sP5b72y1"
      },
      "id": "1065sP5b72y1"
    },
    {
      "cell_type": "code",
      "source": [
        "# Subsample to 50% of cells\n",
        "adata_subset = sc.pp.subsample(adata_concat, fraction=0.5, copy=True)\n",
        "\n",
        "# Perform the Wald test on the subset\n",
        "test = de.test.wald(\n",
        "    data=adata_subset,\n",
        "    formula_loc=\"~ 1 + Treatment\",\n",
        "    factor_loc_totest=\"Treatment\"\n",
        ")"
      ],
      "metadata": {
        "id": "KdSdSbY88BT7"
      },
      "id": "KdSdSbY88BT7",
      "execution_count": null,
      "outputs": []
    },
    {
      "cell_type": "code",
      "source": [
        "# Sort by adjusted p-value in ascending order (most significant first)\n",
        "top_dars_sorted = test_tt.summary().sort_values(by='qval')"
      ],
      "metadata": {
        "id": "9h5uOPuyRi5f"
      },
      "execution_count": null,
      "outputs": [],
      "id": "9h5uOPuyRi5f"
    },
    {
      "cell_type": "code",
      "source": [
        "# Select the top 10 rows\n",
        "top_10_dars = top_dars_sorted.head(10)\n",
        "bottom_10_dars = top_dars_sorted.tail(10)"
      ],
      "metadata": {
        "id": "w1sw6BNeFwF9"
      },
      "execution_count": null,
      "outputs": [],
      "id": "w1sw6BNeFwF9"
    },
    {
      "cell_type": "code",
      "source": [
        "top_10_dars"
      ],
      "metadata": {
        "id": "ru09xqRQFqaw"
      },
      "execution_count": null,
      "outputs": [],
      "id": "ru09xqRQFqaw"
    }
  ],
  "metadata": {
    "colab": {
      "machine_shape": "hm",
      "provenance": [],
      "toc_visible": true,
      "include_colab_link": true
    },
    "kernelspec": {
      "display_name": "Python 3",
      "name": "python3"
    },
    "language_info": {
      "name": "python"
    }
  },
  "nbformat": 4,
  "nbformat_minor": 5
}