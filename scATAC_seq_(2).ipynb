{
  "cells": [
    {
      "cell_type": "markdown",
      "metadata": {
        "id": "view-in-github",
        "colab_type": "text"
      },
      "source": [
        "<a href=\"https://colab.research.google.com/github/Droslj/scATAC-seq-complete-/blob/Google-colab/scATAC_seq_(2).ipynb\" target=\"_parent\"><img src=\"https://colab.research.google.com/assets/colab-badge.svg\" alt=\"Open In Colab\"/></a>"
      ]
    },
    {
      "cell_type": "markdown",
      "id": "f268332b-53de-4af8-9533-e48c041292f3",
      "metadata": {
        "id": "f268332b-53de-4af8-9533-e48c041292f3"
      },
      "source": [
        "scATAC seq, based on scATAC seq processing Galaxy tutorials (scATAC preprocessing (2), Standard scATAC seq processing pipeline (1) )\n",
        "AD Objects created in Galaxy using customized Galaxy WF with Snapatac2 and imported\n",
        "(1) https://usegalaxy.eu/training-material/topics/single-cell/tutorials/scatac-preprocessing-tenx/tutorial.html#mapping-reads-to-a-reference-genome, (2) https://usegalaxy.eu/training-material/topics/single-cell/tutorials/scatac-standard-processing-snapatac2/tutorial.html\n",
        "Data taken from the following NCBI study:\n",
        "Metabolic adaptation pilots the differentiation of human hematopoietic cells (https://www.ncbi.nlm.nih.gov/bioproject/PRJNA1015713)\n",
        "Import Anndata objects for two biological replicates, SRR26046013 (cells treated with AOA inhibitor) and SRR26046019 (untreated cells)\n",
        "Perform following steps:\n",
        "(1) Import matrices\n",
        "(2) Compute fragment size distribution\n",
        "(3) Compute TSS enrichment\n",
        "(4) Filter cell counts based on TSSe\n",
        "(5) Create cell by bin matrix based on 500 bp wide bins accross the whole genome\n",
        "(6) Perform feature selection\n",
        "(7) Perform Doublet removal\n",
        "(8) Perform Dim reduction (spectral)\n",
        "(9) Perform Clustering (neighborhood, UMAP, leiden)\n",
        "(10) Create a cell by gene matrix\n",
        "(11) Concatenate matrices using Inner join\n",
        "(12) Remove batch effects"
      ]
    },
    {
      "cell_type": "code",
      "source": [],
      "metadata": {
        "id": "6-v7gtUrSUkd"
      },
      "id": "6-v7gtUrSUkd",
      "execution_count": null,
      "outputs": []
    },
    {
      "cell_type": "code",
      "source": [
        "!pip install -q condacolab"
      ],
      "metadata": {
        "id": "HYs7RhoU68Ks"
      },
      "execution_count": null,
      "outputs": [],
      "id": "HYs7RhoU68Ks"
    },
    {
      "cell_type": "code",
      "source": [
        "import condacolab"
      ],
      "metadata": {
        "id": "QBQXEKjk7O-V"
      },
      "execution_count": null,
      "outputs": [],
      "id": "QBQXEKjk7O-V"
    },
    {
      "cell_type": "code",
      "source": [
        "condacolab.install()"
      ],
      "metadata": {
        "id": "YdiPg8vS7ZKq"
      },
      "execution_count": null,
      "outputs": [],
      "id": "YdiPg8vS7ZKq"
    },
    {
      "cell_type": "code",
      "source": [
        "!conda --version"
      ],
      "metadata": {
        "id": "VITjp1M56yu_"
      },
      "execution_count": null,
      "outputs": [],
      "id": "VITjp1M56yu_"
    },
    {
      "cell_type": "code",
      "source": [
        "!which conda"
      ],
      "metadata": {
        "id": "S-oCMIm-7p9i"
      },
      "execution_count": null,
      "outputs": [],
      "id": "S-oCMIm-7p9i"
    },
    {
      "cell_type": "code",
      "source": [
        "!conda config --add channels conda-forge"
      ],
      "metadata": {
        "id": "D6zjhdZm-BJp"
      },
      "execution_count": null,
      "outputs": [],
      "id": "D6zjhdZm-BJp"
    },
    {
      "cell_type": "code",
      "source": [
        "!conda config --add channels bioconda"
      ],
      "metadata": {
        "id": "JpJESCcU-fO_"
      },
      "execution_count": null,
      "outputs": [],
      "id": "JpJESCcU-fO_"
    },
    {
      "source": [
        "!pip install snapatac2 -q"
      ],
      "cell_type": "code",
      "metadata": {
        "id": "gZdiRWwb1rZJ"
      },
      "execution_count": null,
      "outputs": [],
      "id": "gZdiRWwb1rZJ"
    },
    {
      "cell_type": "code",
      "source": [
        "!pip show snapatac2"
      ],
      "metadata": {
        "id": "jsCJ2get4W8l"
      },
      "execution_count": null,
      "outputs": [],
      "id": "jsCJ2get4W8l"
    },
    {
      "cell_type": "code",
      "source": [
        "import snapatac2 as snap"
      ],
      "metadata": {
        "id": "z2G4FDYqgSmQ"
      },
      "execution_count": null,
      "outputs": [],
      "id": "z2G4FDYqgSmQ"
    },
    {
      "cell_type": "code",
      "source": [
        "!pip install umap-learn\n",
        "\n"
      ],
      "metadata": {
        "id": "VZLaiDEzlB1m"
      },
      "execution_count": null,
      "outputs": [],
      "id": "VZLaiDEzlB1m"
    },
    {
      "cell_type": "code",
      "source": [
        "import umap.umap_ as umap\n"
      ],
      "metadata": {
        "id": "BCEdegOSgRBg"
      },
      "execution_count": null,
      "outputs": [],
      "id": "BCEdegOSgRBg"
    },
    {
      "cell_type": "code",
      "source": [
        "from umap import UMAP"
      ],
      "metadata": {
        "id": "FVmqXk-vlFrB"
      },
      "execution_count": null,
      "outputs": [],
      "id": "FVmqXk-vlFrB"
    },
    {
      "cell_type": "code",
      "source": [
        "!pip install scanpy -q"
      ],
      "metadata": {
        "id": "CM_xhHZxUcF5"
      },
      "execution_count": null,
      "outputs": [],
      "id": "CM_xhHZxUcF5"
    },
    {
      "cell_type": "code",
      "source": [
        "import scanpy as sc"
      ],
      "metadata": {
        "id": "NYl1nQOhUoj2"
      },
      "execution_count": null,
      "outputs": [],
      "id": "NYl1nQOhUoj2"
    },
    {
      "cell_type": "code",
      "source": [
        "pip show scanpy"
      ],
      "metadata": {
        "id": "rkvTEjpw_csS"
      },
      "execution_count": null,
      "outputs": [],
      "id": "rkvTEjpw_csS"
    },
    {
      "cell_type": "code",
      "execution_count": null,
      "metadata": {
        "id": "4e15629f-bdc4-46dd-8375-a1f2e17960ca"
      },
      "outputs": [],
      "source": [
        "import numpy as np"
      ],
      "id": "4e15629f-bdc4-46dd-8375-a1f2e17960ca"
    },
    {
      "cell_type": "code",
      "execution_count": null,
      "metadata": {
        "id": "37ff51dc-8860-4ab6-ab44-8223b33ea879"
      },
      "outputs": [],
      "source": [
        "import anndata as ad"
      ],
      "id": "37ff51dc-8860-4ab6-ab44-8223b33ea879"
    },
    {
      "source": [
        "!pip install diffxpy -q"
      ],
      "cell_type": "code",
      "metadata": {
        "id": "V4DX7Y0t1K1S"
      },
      "execution_count": null,
      "outputs": [],
      "id": "V4DX7Y0t1K1S"
    },
    {
      "cell_type": "code",
      "source": [
        "import diffxpy.api as de"
      ],
      "metadata": {
        "id": "yb2ApyZm9Bfz"
      },
      "execution_count": null,
      "outputs": [],
      "id": "yb2ApyZm9Bfz"
    },
    {
      "cell_type": "code",
      "execution_count": null,
      "metadata": {
        "id": "f54f07e0-84cc-4ab9-a156-ea8467a76fc4"
      },
      "outputs": [],
      "source": [
        "import matplotlib.pyplot as plt"
      ],
      "id": "f54f07e0-84cc-4ab9-a156-ea8467a76fc4"
    },
    {
      "source": [
        "import seaborn as sns"
      ],
      "cell_type": "code",
      "metadata": {
        "id": "jIEyfb4NApUa"
      },
      "execution_count": null,
      "outputs": [],
      "id": "jIEyfb4NApUa"
    },
    {
      "cell_type": "code",
      "execution_count": null,
      "metadata": {
        "id": "dfc626e2-9a64-4f0f-8677-1da6e446ea3a"
      },
      "outputs": [],
      "source": [
        "import plotly.subplots as sp\n",
        "import plotly.graph_objects as go"
      ],
      "id": "dfc626e2-9a64-4f0f-8677-1da6e446ea3a"
    },
    {
      "cell_type": "code",
      "execution_count": null,
      "metadata": {
        "id": "ffa7a645-c56a-4d94-af04-6869e008ca12"
      },
      "outputs": [],
      "source": [
        "from scipy import stats"
      ],
      "id": "ffa7a645-c56a-4d94-af04-6869e008ca12"
    },
    {
      "cell_type": "markdown",
      "id": "43f56d4f-c4ec-496e-96bd-6645365df65c",
      "metadata": {
        "id": "43f56d4f-c4ec-496e-96bd-6645365df65c"
      },
      "source": [
        "# Import reads from google drive, three samples treated with energy metabolism inhibitors and one untreated"
      ]
    },
    {
      "cell_type": "code",
      "source": [
        "from google.colab import drive\n",
        "drive.mount('/content/drive')"
      ],
      "metadata": {
        "id": "BpK5P48ACJOW"
      },
      "id": "BpK5P48ACJOW",
      "execution_count": null,
      "outputs": []
    },
    {
      "cell_type": "code",
      "execution_count": null,
      "id": "be1662ba-006c-4be4-9858-70480fa51fe3",
      "metadata": {
        "id": "be1662ba-006c-4be4-9858-70480fa51fe3"
      },
      "outputs": [],
      "source": [
        "#Load AD matrix from google drive, PCA and Batch corrected\n",
        "adata_concat = sc.read_h5ad('/content/drive/MyDrive/Colab Notebooks/MTXmerged_PCA_BC.h5ad')"
      ]
    },
    {
      "cell_type": "markdown",
      "source": [
        "Plot the 'obsm' before and after batch effect removal (PC1 vs PC2)"
      ],
      "metadata": {
        "id": "sUuZcbY5SSwu"
      },
      "id": "sUuZcbY5SSwu"
    },
    {
      "cell_type": "code",
      "source": [
        "#Extract data sets\n",
        "x_before = adata_concat.obsm['X_pca'][:, 0]\n",
        "y_before = adata_concat.obsm['X_pca'][:, 1]\n",
        "\n",
        "x_after = adata_concat.obsm['X_pca_harmony'][:, 0]\n",
        "y_after = adata_concat.obsm['X_pca_harmony'][:, 1]\n",
        "batch_labels = adata_concat.obs['Treatment']\n"
      ],
      "metadata": {
        "id": "-zjMUqgNRKT9"
      },
      "id": "-zjMUqgNRKT9",
      "execution_count": null,
      "outputs": []
    },
    {
      "cell_type": "code",
      "source": [
        "#Define figure\n",
        "plt.figure(figsize=(12, 6))\n",
        "plt.subplot(1, 2, 1)\n",
        "#Plot before batch effect removal\n",
        "\n",
        "sns.scatterplot(x=x_before, y=y_before, hue=batch_labels)\n",
        "plt.title('PCA Before Batch Effect Removal')\n",
        "plt.xlabel('PC1')\n",
        "plt.ylabel('PC2')\n",
        "\n",
        "#Plot PCA after batch effect removal\n",
        "\n",
        "plt.subplot(1, 2, 2)\n",
        "sns.scatterplot(x=x_after, y=y_after, hue=batch_labels)\n",
        "plt.title('PCA After Batch Effect Removal')\n",
        "plt.xlabel('PC1')\n",
        "plt.ylabel('PC2')\n",
        "\n",
        "plt.tight_layout()\n",
        "plt.show()"
      ],
      "metadata": {
        "id": "hgtc1ntUSEnY"
      },
      "id": "hgtc1ntUSEnY",
      "execution_count": null,
      "outputs": []
    },
    {
      "cell_type": "code",
      "source": [
        "#from shutil import copyfile\n",
        "#copyfile('adata_concat.h5ad', '/content/drive/MyDrive/Colab Notebooks/adata_concat.h5ad')"
      ],
      "metadata": {
        "id": "KjyfYBv6VmZv"
      },
      "id": "KjyfYBv6VmZv",
      "execution_count": null,
      "outputs": []
    },
    {
      "cell_type": "code",
      "source": [
        "adata_concat"
      ],
      "metadata": {
        "id": "KEu2Aixq97tb"
      },
      "id": "KEu2Aixq97tb",
      "execution_count": null,
      "outputs": []
    },
    {
      "cell_type": "markdown",
      "id": "7ab463c4-c21e-4fbf-85e0-f70e4f6b91f2",
      "metadata": {
        "id": "7ab463c4-c21e-4fbf-85e0-f70e4f6b91f2"
      },
      "source": [
        "# Differential accesibility analysis"
      ]
    },
    {
      "source": [
        "# Perform differential accessibility testing with Wilcoxon rank-sum test\n",
        "sc.tl.rank_genes_groups(adata_concat, 'Treatment', method='wilcoxon')"
      ],
      "cell_type": "code",
      "metadata": {
        "id": "CRjmsHTz0G1R"
      },
      "execution_count": null,
      "outputs": [],
      "id": "CRjmsHTz0G1R"
    },
    {
      "cell_type": "code",
      "source": [
        "# Access results in `adata_concat.uns['rank_genes_groups']`\n",
        "# For example, to get the top differentially accessible regions:\n",
        "top_dars = sc.get.rank_genes_groups_df(adata_concat, group='Treated w/AOA', pval_cutoff=0.05)"
      ],
      "metadata": {
        "id": "6BgXrCGTq96F"
      },
      "id": "6BgXrCGTq96F",
      "execution_count": null,
      "outputs": []
    },
    {
      "cell_type": "code",
      "source": [],
      "metadata": {
        "id": "xp7oUW5srN_J"
      },
      "id": "xp7oUW5srN_J",
      "execution_count": null,
      "outputs": []
    }
  ],
  "metadata": {
    "colab": {
      "machine_shape": "hm",
      "provenance": [],
      "include_colab_link": true
    },
    "kernelspec": {
      "display_name": "Python 3",
      "name": "python3"
    },
    "language_info": {
      "name": "python"
    }
  },
  "nbformat": 4,
  "nbformat_minor": 5
}