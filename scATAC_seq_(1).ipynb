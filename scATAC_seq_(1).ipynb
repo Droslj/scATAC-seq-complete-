{
  "cells": [
    {
      "cell_type": "markdown",
      "metadata": {
        "id": "view-in-github",
        "colab_type": "text"
      },
      "source": [
        "<a href=\"https://colab.research.google.com/github/Droslj/scATAC-seq-complete-/blob/Google-colab/scATAC_seq_(1).ipynb\" target=\"_parent\"><img src=\"https://colab.research.google.com/assets/colab-badge.svg\" alt=\"Open In Colab\"/></a>"
      ]
    },
    {
      "cell_type": "markdown",
      "id": "f268332b-53de-4af8-9533-e48c041292f3",
      "metadata": {
        "id": "f268332b-53de-4af8-9533-e48c041292f3"
      },
      "source": [
        "scATAC seq, based on scATAC seq processing Galaxy tutorials (scATAC preprocessing (2), Standard scATAC seq processing pipeline (1) )\n",
        "AD Objects created in Galaxy using customized Galaxy WF with Snapatac2 and imported\n",
        "(1) https://usegalaxy.eu/training-material/topics/single-cell/tutorials/scatac-preprocessing-tenx/tutorial.html#mapping-reads-to-a-reference-genome, (2) https://usegalaxy.eu/training-material/topics/single-cell/tutorials/scatac-standard-processing-snapatac2/tutorial.html\n",
        "Data taken from the following NCBI study:\n",
        "Metabolic adaptation pilots the differentiation of human hematopoietic cells (https://www.ncbi.nlm.nih.gov/bioproject/PRJNA1015713)\n",
        "Import Anndata objects for two biological replicates, SRR26046013 (cells treated with AOA inhibitor) and SRR26046019 (untreated cells)\n",
        "Perform following steps:\n",
        "(1) Import matrices\n",
        "(2) Compute fragment size distribution\n",
        "(3) Compute TSS enrichment\n",
        "(4) Filter cell counts based on TSSe\n",
        "(5) Create cell by bin matrix based on 500 bp wide bins accross the whole genome\n",
        "(6) Perform feature selection\n",
        "(7) Perform Doublet removal\n",
        "(8) Perform Dim reduction (spectral)\n",
        "(9) Perform Clustering (neighborhood, UMAP, leiden)\n",
        "(10) Create a cell by gene matrix\n",
        "(11) Concatenate matrices using Inner join\n",
        "(12) Remove batch effects"
      ]
    },
    {
      "cell_type": "code",
      "source": [
        "!pip install -q condacolab"
      ],
      "metadata": {
        "id": "HYs7RhoU68Ks"
      },
      "id": "HYs7RhoU68Ks",
      "execution_count": 1,
      "outputs": []
    },
    {
      "cell_type": "code",
      "source": [
        "import condacolab"
      ],
      "metadata": {
        "id": "QBQXEKjk7O-V"
      },
      "id": "QBQXEKjk7O-V",
      "execution_count": 2,
      "outputs": []
    },
    {
      "cell_type": "code",
      "source": [
        "condacolab.install()"
      ],
      "metadata": {
        "colab": {
          "base_uri": "https://localhost:8080/"
        },
        "id": "YdiPg8vS7ZKq",
        "outputId": "2036cbbb-93cc-4057-ee40-e5117a7ea78a"
      },
      "id": "YdiPg8vS7ZKq",
      "execution_count": 3,
      "outputs": [
        {
          "output_type": "stream",
          "name": "stdout",
          "text": [
            "✨🍰✨ Everything looks OK!\n"
          ]
        }
      ]
    },
    {
      "cell_type": "code",
      "source": [
        "!conda --version"
      ],
      "metadata": {
        "colab": {
          "base_uri": "https://localhost:8080/"
        },
        "id": "VITjp1M56yu_",
        "outputId": "980cdde3-acc0-42c3-c1b1-b8ee9411bb4b"
      },
      "id": "VITjp1M56yu_",
      "execution_count": 4,
      "outputs": [
        {
          "output_type": "stream",
          "name": "stdout",
          "text": [
            "conda 23.11.0\n"
          ]
        }
      ]
    },
    {
      "cell_type": "code",
      "source": [
        "!which conda"
      ],
      "metadata": {
        "colab": {
          "base_uri": "https://localhost:8080/"
        },
        "id": "S-oCMIm-7p9i",
        "outputId": "8b8cb3c3-49e9-4fde-bcbe-0d84887b91a9"
      },
      "id": "S-oCMIm-7p9i",
      "execution_count": 5,
      "outputs": [
        {
          "output_type": "stream",
          "name": "stdout",
          "text": [
            "/usr/local/bin/conda\n"
          ]
        }
      ]
    },
    {
      "cell_type": "code",
      "source": [
        "!conda config --add channels conda-forge"
      ],
      "metadata": {
        "colab": {
          "base_uri": "https://localhost:8080/"
        },
        "id": "D6zjhdZm-BJp",
        "outputId": "37c13fbd-9296-4f4b-8d67-7b08ca8ece8f"
      },
      "id": "D6zjhdZm-BJp",
      "execution_count": 6,
      "outputs": [
        {
          "output_type": "stream",
          "name": "stdout",
          "text": [
            "Warning: 'conda-forge' already in 'channels' list, moving to the top\n"
          ]
        }
      ]
    },
    {
      "cell_type": "code",
      "source": [
        "!conda config --add channels bioconda"
      ],
      "metadata": {
        "colab": {
          "base_uri": "https://localhost:8080/"
        },
        "id": "JpJESCcU-fO_",
        "outputId": "09999980-905b-440a-fbcb-19ddb6872981"
      },
      "id": "JpJESCcU-fO_",
      "execution_count": 7,
      "outputs": [
        {
          "output_type": "stream",
          "name": "stdout",
          "text": [
            "Warning: 'bioconda' already in 'channels' list, moving to the top\n"
          ]
        }
      ]
    },
    {
      "source": [
        "!conda install snapatac2 -q"
      ],
      "cell_type": "code",
      "metadata": {
        "colab": {
          "base_uri": "https://localhost:8080/"
        },
        "id": "gZdiRWwb1rZJ",
        "outputId": "487df250-3784-4cfb-d0d0-049daacab755"
      },
      "id": "gZdiRWwb1rZJ",
      "execution_count": null,
      "outputs": [
        {
          "output_type": "stream",
          "name": "stdout",
          "text": [
            "Channels:\n",
            " - bioconda\n",
            " - conda-forge\n",
            "Platform: linux-64\n",
            "Collecting package metadata (repodata.json): ...working... done\n",
            "Solving environment: ...working... "
          ]
        }
      ]
    },
    {
      "cell_type": "code",
      "source": [
        "!pip show snapatac2"
      ],
      "metadata": {
        "id": "jsCJ2get4W8l"
      },
      "id": "jsCJ2get4W8l",
      "execution_count": null,
      "outputs": []
    },
    {
      "cell_type": "code",
      "source": [
        "import snapatac2 as snap"
      ],
      "metadata": {
        "id": "z2G4FDYqgSmQ"
      },
      "id": "z2G4FDYqgSmQ",
      "execution_count": null,
      "outputs": []
    },
    {
      "cell_type": "code",
      "source": [
        "!pip install umap-learn\n",
        "\n"
      ],
      "metadata": {
        "id": "VZLaiDEzlB1m"
      },
      "id": "VZLaiDEzlB1m",
      "execution_count": null,
      "outputs": []
    },
    {
      "cell_type": "code",
      "source": [
        "import umap.umap_ as umap\n"
      ],
      "metadata": {
        "id": "BCEdegOSgRBg"
      },
      "id": "BCEdegOSgRBg",
      "execution_count": null,
      "outputs": []
    },
    {
      "cell_type": "code",
      "source": [
        "from umap import UMAP\n",
        "\n"
      ],
      "metadata": {
        "id": "FVmqXk-vlFrB"
      },
      "id": "FVmqXk-vlFrB",
      "execution_count": null,
      "outputs": []
    },
    {
      "cell_type": "code",
      "source": [
        "!pip install scanpy -q"
      ],
      "metadata": {
        "id": "CM_xhHZxUcF5"
      },
      "id": "CM_xhHZxUcF5",
      "execution_count": null,
      "outputs": []
    },
    {
      "cell_type": "code",
      "source": [
        "import scanpy as sc"
      ],
      "metadata": {
        "id": "NYl1nQOhUoj2"
      },
      "id": "NYl1nQOhUoj2",
      "execution_count": null,
      "outputs": []
    },
    {
      "cell_type": "code",
      "source": [
        "pip show scanpy"
      ],
      "metadata": {
        "id": "rkvTEjpw_csS"
      },
      "id": "rkvTEjpw_csS",
      "execution_count": null,
      "outputs": []
    },
    {
      "cell_type": "code",
      "execution_count": null,
      "id": "4e15629f-bdc4-46dd-8375-a1f2e17960ca",
      "metadata": {
        "id": "4e15629f-bdc4-46dd-8375-a1f2e17960ca"
      },
      "outputs": [],
      "source": [
        "import numpy as np"
      ]
    },
    {
      "cell_type": "code",
      "execution_count": null,
      "id": "37ff51dc-8860-4ab6-ab44-8223b33ea879",
      "metadata": {
        "id": "37ff51dc-8860-4ab6-ab44-8223b33ea879"
      },
      "outputs": [],
      "source": [
        "import anndata as ad"
      ]
    },
    {
      "cell_type": "code",
      "execution_count": null,
      "id": "f54f07e0-84cc-4ab9-a156-ea8467a76fc4",
      "metadata": {
        "id": "f54f07e0-84cc-4ab9-a156-ea8467a76fc4"
      },
      "outputs": [],
      "source": [
        "import matplotlib.pyplot as plt"
      ]
    },
    {
      "cell_type": "code",
      "execution_count": null,
      "id": "dfc626e2-9a64-4f0f-8677-1da6e446ea3a",
      "metadata": {
        "id": "dfc626e2-9a64-4f0f-8677-1da6e446ea3a"
      },
      "outputs": [],
      "source": [
        "import plotly.subplots as sp\n",
        "import plotly.graph_objects as go"
      ]
    },
    {
      "cell_type": "markdown",
      "id": "43f56d4f-c4ec-496e-96bd-6645365df65c",
      "metadata": {
        "id": "43f56d4f-c4ec-496e-96bd-6645365df65c"
      },
      "source": [
        "Import reads from google drive, one sample treated with energy metabolism inhibitors and one untreated"
      ]
    },
    {
      "cell_type": "code",
      "source": [
        "from google.colab import drive\n",
        "drive.mount('/content/drive')"
      ],
      "metadata": {
        "id": "BpK5P48ACJOW"
      },
      "id": "BpK5P48ACJOW",
      "execution_count": null,
      "outputs": []
    },
    {
      "cell_type": "code",
      "execution_count": null,
      "id": "be1662ba-006c-4be4-9858-70480fa51fe3",
      "metadata": {
        "id": "be1662ba-006c-4be4-9858-70480fa51fe3"
      },
      "outputs": [],
      "source": [
        "SRR26046013_DM_AOA_INH = sc.read_h5ad('/content/drive/MyDrive/Colab Notebooks/SRR26046013_Annotated_data_matrix.h5ad')"
      ]
    },
    {
      "cell_type": "code",
      "execution_count": null,
      "id": "967b901c-c65e-436a-8c7c-2583264344ce",
      "metadata": {
        "id": "967b901c-c65e-436a-8c7c-2583264344ce"
      },
      "outputs": [],
      "source": [
        "SRR26046013_DM_AOA_INH"
      ]
    },
    {
      "cell_type": "code",
      "execution_count": null,
      "id": "985faf54-160c-4b13-a7a9-b2e12fdfd714",
      "metadata": {
        "id": "985faf54-160c-4b13-a7a9-b2e12fdfd714"
      },
      "outputs": [],
      "source": [
        "SRR26046019_DM_UT = sc.read_h5ad('/content/drive/MyDrive/Colab Notebooks/SRR26046019_Annotated_data_matrix.h5ad')"
      ]
    },
    {
      "cell_type": "code",
      "execution_count": null,
      "id": "4cb56a7f-e5e2-43c7-bacf-2a967c9dd531",
      "metadata": {
        "id": "4cb56a7f-e5e2-43c7-bacf-2a967c9dd531"
      },
      "outputs": [],
      "source": [
        "SRR26046019_DM_UT"
      ]
    },
    {
      "cell_type": "markdown",
      "id": "8d0d9a69-6554-4ab7-8457-626e3316378d",
      "metadata": {
        "id": "8d0d9a69-6554-4ab7-8457-626e3316378d"
      },
      "source": [
        "Compute fragment size distributions"
      ]
    },
    {
      "cell_type": "code",
      "execution_count": null,
      "id": "65028c39-e285-493a-82bd-8e4f90d8c08d",
      "metadata": {
        "id": "65028c39-e285-493a-82bd-8e4f90d8c08d"
      },
      "outputs": [],
      "source": [
        "# Create a subplot figure\n",
        "fig, axes = plt.subplots(1, 2, figsize=(10, 5))\n",
        "\n",
        "# Plot for SRR26046013_DM_AOA_INH\n",
        "frag_size_distr = snap.metrics.frag_size_distr(SRR26046013_DM_AOA_INH, inplace=False)\n",
        "axes[0].plot(frag_size_distr)\n",
        "axes[0].set_title('Treated w/AOA')\n",
        "\n",
        "# Plot for SRR26046019_DM_UT\n",
        "frag_size_distr4 = snap.metrics.frag_size_distr(SRR26046019_DM_UT, inplace=False)\n",
        "axes[1].plot(frag_size_distr4)\n",
        "axes[1].set_title('Untreated')\n",
        "\n",
        "plt.tight_layout()\n",
        "plt.show()"
      ]
    },
    {
      "cell_type": "markdown",
      "id": "bfb2ab5a-2f93-46ec-be0c-0711844bff6e",
      "metadata": {
        "id": "bfb2ab5a-2f93-46ec-be0c-0711844bff6e"
      },
      "source": [
        "Compute and plot TSSe"
      ]
    },
    {
      "cell_type": "code",
      "execution_count": null,
      "id": "50d4eb5b-0e04-4227-9899-0380f7910d01",
      "metadata": {
        "id": "50d4eb5b-0e04-4227-9899-0380f7910d01"
      },
      "outputs": [],
      "source": [
        "# Compute TSSe metrics\n",
        "# Get genome annotation\n",
        "gene_anno = snap.genome.hg38"
      ]
    },
    {
      "cell_type": "code",
      "execution_count": null,
      "id": "548c5878-5da8-430b-b83d-d6596b92209d",
      "metadata": {
        "id": "548c5878-5da8-430b-b83d-d6596b92209d"
      },
      "outputs": [],
      "source": [
        "snap.metrics.tsse(SRR26046013_DM_AOA_INH, gene_anno)"
      ]
    },
    {
      "cell_type": "code",
      "execution_count": null,
      "id": "19771878-4676-46d1-9363-5222077cd405",
      "metadata": {
        "id": "19771878-4676-46d1-9363-5222077cd405"
      },
      "outputs": [],
      "source": [
        "snap.metrics.tsse(SRR26046019_DM_UT, gene_anno)"
      ]
    },
    {
      "cell_type": "code",
      "execution_count": null,
      "id": "a8dcf546-39fe-4cd8-b12d-ec1189032d2e",
      "metadata": {
        "id": "a8dcf546-39fe-4cd8-b12d-ec1189032d2e"
      },
      "outputs": [],
      "source": [
        "# Generate TSSE plots\n",
        "TSSE1plot = snap.pl.tsse(SRR26046013_DM_AOA_INH, show = False)\n",
        "TSSE2plot = snap.pl.tsse(SRR26046019_DM_UT,show = False)\n",
        "\n",
        "# Create a subplot figure\n",
        "fig = sp.make_subplots(rows=1, cols=2, subplot_titles=('Treated w/AOA', 'Untreated'))\n",
        "\n",
        "# Add the plots to the subplot figure\n",
        "fig.add_trace(TSSE1plot.data[0], row=1, col=1)\n",
        "fig.add_trace(TSSE2plot.data[0], row=1, col=2)\n",
        "\n",
        "# Update layout and set X-axis to logarithmic scale\n",
        "fig.update_layout(height=400, width=800, title_text=\"TSS enrichment\")\n",
        "fig.update_xaxes(type=\"log\", row=1, col=1)\n",
        "fig.update_xaxes(type=\"log\", row=1, col=2)\n",
        "\n",
        "fig.show()\n",
        "fig.write_image(\"TSSE_plots.png\", height=1080, width=1920)"
      ]
    },
    {
      "cell_type": "code",
      "execution_count": null,
      "id": "27e4db60-aa9d-4e17-8f4b-0d30bd9b7b1f",
      "metadata": {
        "id": "27e4db60-aa9d-4e17-8f4b-0d30bd9b7b1f"
      },
      "outputs": [],
      "source": [
        "gene_anno"
      ]
    },
    {
      "cell_type": "markdown",
      "id": "9bd3c212-8a10-4379-986b-8757c44715c9",
      "metadata": {
        "id": "9bd3c212-8a10-4379-986b-8757c44715c9"
      },
      "source": [
        "fig.write_image(\"TSSe_plot.png\",  width=1920, height=1080)"
      ]
    },
    {
      "cell_type": "markdown",
      "id": "01cf9321-d5d4-41ff-874c-6d35b89c4d85",
      "metadata": {
        "id": "01cf9321-d5d4-41ff-874c-6d35b89c4d85"
      },
      "source": [
        "#Filter cell counts and TSSE values based on above plots"
      ]
    },
    {
      "cell_type": "code",
      "execution_count": null,
      "id": "2009add0-8ae3-487a-bac6-3f03d6ebe5b6",
      "metadata": {
        "id": "2009add0-8ae3-487a-bac6-3f03d6ebe5b6"
      },
      "outputs": [],
      "source": [
        "snap.pp.filter_cells(SRR26046013_DM_AOA_INH, min_counts=3000, min_tsse=15, max_counts=70000)"
      ]
    },
    {
      "cell_type": "code",
      "execution_count": null,
      "id": "bddd6945-3252-493e-8d9b-a44e4b72ccd4",
      "metadata": {
        "id": "bddd6945-3252-493e-8d9b-a44e4b72ccd4"
      },
      "outputs": [],
      "source": [
        "snap.pp.filter_cells(SRR26046019_DM_UT, min_counts=6000, min_tsse=13, max_counts=90000)"
      ]
    },
    {
      "cell_type": "code",
      "execution_count": null,
      "id": "182875b4-c906-4329-9489-4fbc4efb5246",
      "metadata": {
        "id": "182875b4-c906-4329-9489-4fbc4efb5246"
      },
      "outputs": [],
      "source": [
        "SRR26046013_DM_AOA_INH"
      ]
    },
    {
      "cell_type": "code",
      "execution_count": null,
      "id": "c74434e8-9509-4d46-830a-fcd020d56f96",
      "metadata": {
        "id": "c74434e8-9509-4d46-830a-fcd020d56f96"
      },
      "outputs": [],
      "source": [
        "SRR26046019_DM_UT"
      ]
    },
    {
      "cell_type": "markdown",
      "id": "608ca025-f7d6-4705-9036-eeb113d223a1",
      "metadata": {
        "id": "608ca025-f7d6-4705-9036-eeb113d223a1"
      },
      "source": [
        "#Write to file\n",
        "SRR26046013_DM_AOA_INH.write_h5ad('SRR26046013_DM_AOA_INH_filt.h5ad')\n",
        "SRR26046019_DM_UT.write_h5ad('SRR26046018_DM_UT_filt.h5ad')"
      ]
    },
    {
      "cell_type": "markdown",
      "id": "d8d0a434-bb51-44f7-9993-1ecdfdc53a53",
      "metadata": {
        "id": "d8d0a434-bb51-44f7-9993-1ecdfdc53a53"
      },
      "source": [
        "#Save back to Galaxy\n",
        "put('SRR26046013_DM_AOA_INH_filt.h5ad')\n",
        "put('SRR26046019_DM_UT_filt.h5ad')"
      ]
    },
    {
      "cell_type": "markdown",
      "id": "8ce65559-6f39-4703-925c-ac383a213635",
      "metadata": {
        "id": "8ce65559-6f39-4703-925c-ac383a213635"
      },
      "source": [
        "Create cell by bin matrix containing insertion counts across genome-wide 500-bp bins"
      ]
    },
    {
      "cell_type": "code",
      "execution_count": null,
      "id": "f684eddb-6f17-42ce-865e-1922f062826b",
      "metadata": {
        "id": "f684eddb-6f17-42ce-865e-1922f062826b"
      },
      "outputs": [],
      "source": [
        "snap.pp.add_tile_matrix(SRR26046013_DM_AOA_INH)"
      ]
    },
    {
      "cell_type": "code",
      "execution_count": null,
      "id": "cdde52e6-5b25-4669-9fc4-fdc37666bd90",
      "metadata": {
        "id": "cdde52e6-5b25-4669-9fc4-fdc37666bd90"
      },
      "outputs": [],
      "source": [
        "snap.pp.add_tile_matrix(SRR26046019_DM_UT)"
      ]
    },
    {
      "cell_type": "code",
      "execution_count": null,
      "id": "ba0de516-0fd3-45c2-9656-cd7fad02ae26",
      "metadata": {
        "id": "ba0de516-0fd3-45c2-9656-cd7fad02ae26"
      },
      "outputs": [],
      "source": [
        "SRR26046013_DM_AOA_INH"
      ]
    },
    {
      "cell_type": "code",
      "execution_count": null,
      "id": "a60ab7c4-7045-456d-8a94-0a1437a70979",
      "metadata": {
        "id": "a60ab7c4-7045-456d-8a94-0a1437a70979"
      },
      "outputs": [],
      "source": [
        "SRR26046019_DM_UT"
      ]
    },
    {
      "cell_type": "markdown",
      "id": "730b9eda-c947-4340-a957-adc92e88fb78",
      "metadata": {
        "id": "730b9eda-c947-4340-a957-adc92e88fb78"
      },
      "source": [
        "Perform feature selection"
      ]
    },
    {
      "cell_type": "code",
      "execution_count": null,
      "id": "3d1591cc-9311-4a03-b067-97b8ca34d72b",
      "metadata": {
        "id": "3d1591cc-9311-4a03-b067-97b8ca34d72b"
      },
      "outputs": [],
      "source": [
        "snap.pp.select_features(SRR26046013_DM_AOA_INH, n_features = 250000)"
      ]
    },
    {
      "cell_type": "code",
      "execution_count": null,
      "id": "0a69aded-e4ef-4976-8f05-789b5d6c263f",
      "metadata": {
        "id": "0a69aded-e4ef-4976-8f05-789b5d6c263f"
      },
      "outputs": [],
      "source": [
        "snap.pp.select_features(SRR26046019_DM_UT, n_features = 250000)"
      ]
    },
    {
      "cell_type": "code",
      "execution_count": null,
      "id": "9232b309-c72a-47e0-8bd9-b4471f3255de",
      "metadata": {
        "id": "9232b309-c72a-47e0-8bd9-b4471f3255de"
      },
      "outputs": [],
      "source": [
        "SRR26046013_DM_AOA_INH"
      ]
    },
    {
      "cell_type": "code",
      "execution_count": null,
      "id": "97ae3605-d2ee-4135-88df-515a0c6e62ea",
      "metadata": {
        "id": "97ae3605-d2ee-4135-88df-515a0c6e62ea",
        "scrolled": true
      },
      "outputs": [],
      "source": [
        "#sc.write(adata=SRR26046013_DM_AOA_INH,filename=\"SRR26046013_Annotated_data_matrix_P1.h5ad\",compression='gzip')"
      ]
    },
    {
      "cell_type": "markdown",
      "id": "ff5b4e7e-cd5b-4caf-971c-e6c466aee157",
      "metadata": {
        "id": "ff5b4e7e-cd5b-4caf-971c-e6c466aee157"
      },
      "source": [
        "Doublet removal"
      ]
    },
    {
      "cell_type": "code",
      "execution_count": null,
      "id": "997a0c44-fed5-4252-803c-e38caa70cd59",
      "metadata": {
        "id": "997a0c44-fed5-4252-803c-e38caa70cd59"
      },
      "outputs": [],
      "source": [
        "SRR26046013_DM_AOA_INH"
      ]
    },
    {
      "cell_type": "code",
      "execution_count": null,
      "id": "1146d5f9-9d0a-49b2-bce0-533dbe84adfb",
      "metadata": {
        "id": "1146d5f9-9d0a-49b2-bce0-533dbe84adfb"
      },
      "outputs": [],
      "source": [
        "#Apply a scrublet algorithm to identify potential doublets\n",
        "snap.pp.scrublet(SRR26046013_DM_AOA_INH)"
      ]
    },
    {
      "cell_type": "code",
      "execution_count": null,
      "id": "9944750f-ce03-45ea-bc44-8d4d9cf52396",
      "metadata": {
        "id": "9944750f-ce03-45ea-bc44-8d4d9cf52396"
      },
      "outputs": [],
      "source": [
        "snap.pp.scrublet(SRR26046019_DM_UT)"
      ]
    },
    {
      "cell_type": "code",
      "execution_count": null,
      "id": "e974e903-2885-418e-bfa4-1863883b94c7",
      "metadata": {
        "id": "e974e903-2885-418e-bfa4-1863883b94c7"
      },
      "outputs": [],
      "source": [
        "SRR26046013_DM_AOA_INH"
      ]
    },
    {
      "cell_type": "code",
      "execution_count": null,
      "id": "10e5e674-e70b-4ed2-b576-d916ed1fc692",
      "metadata": {
        "id": "10e5e674-e70b-4ed2-b576-d916ed1fc692"
      },
      "outputs": [],
      "source": [
        "SRR26046019_DM_UT"
      ]
    },
    {
      "cell_type": "code",
      "execution_count": null,
      "id": "7b7da120-079f-4c39-ac77-70f23af9b7ff",
      "metadata": {
        "id": "7b7da120-079f-4c39-ac77-70f23af9b7ff"
      },
      "outputs": [],
      "source": [
        "#Filter doublets\n",
        "snap.pp.filter_doublets(SRR26046013_DM_AOA_INH)"
      ]
    },
    {
      "cell_type": "code",
      "execution_count": null,
      "id": "6c90e146-0297-455c-bd3b-6ad57a3d7314",
      "metadata": {
        "id": "6c90e146-0297-455c-bd3b-6ad57a3d7314"
      },
      "outputs": [],
      "source": [
        "snap.pp.filter_doublets(SRR26046019_DM_UT)"
      ]
    },
    {
      "cell_type": "code",
      "execution_count": null,
      "id": "c728e0de-7f6c-4cc4-ab6a-d01a9172600c",
      "metadata": {
        "id": "c728e0de-7f6c-4cc4-ab6a-d01a9172600c"
      },
      "outputs": [],
      "source": [
        "SRR26046013_DM_AOA_INH"
      ]
    },
    {
      "cell_type": "code",
      "execution_count": null,
      "id": "54f2028b-4717-4178-ae40-72385cdb8027",
      "metadata": {
        "id": "54f2028b-4717-4178-ae40-72385cdb8027"
      },
      "outputs": [],
      "source": [
        "SRR26046019_DM_UT"
      ]
    },
    {
      "cell_type": "markdown",
      "id": "bfc2abee-49e3-40dc-97e0-45ade82afaa3",
      "metadata": {
        "id": "bfc2abee-49e3-40dc-97e0-45ade82afaa3"
      },
      "source": [
        "Dimension reduction"
      ]
    },
    {
      "cell_type": "code",
      "execution_count": null,
      "id": "63bf28a2-e84b-43c9-9746-b6163995a3c2",
      "metadata": {
        "id": "63bf28a2-e84b-43c9-9746-b6163995a3c2"
      },
      "outputs": [],
      "source": [
        "snap.tl.spectral(SRR26046013_DM_AOA_INH)"
      ]
    },
    {
      "cell_type": "code",
      "execution_count": null,
      "id": "016808b1-1d69-4b50-82c1-bb8db97a2854",
      "metadata": {
        "id": "016808b1-1d69-4b50-82c1-bb8db97a2854"
      },
      "outputs": [],
      "source": [
        "snap.tl.spectral(SRR26046019_DM_UT)"
      ]
    },
    {
      "cell_type": "code",
      "execution_count": null,
      "id": "e9349aed-2f90-42ce-9b89-ac078dbe7ef8",
      "metadata": {
        "id": "e9349aed-2f90-42ce-9b89-ac078dbe7ef8"
      },
      "outputs": [],
      "source": [
        "SRR26046013_DM_AOA_INH"
      ]
    },
    {
      "cell_type": "code",
      "execution_count": null,
      "id": "da9528b1-ac3e-4311-a3bc-aceb3deef6c4",
      "metadata": {
        "id": "da9528b1-ac3e-4311-a3bc-aceb3deef6c4"
      },
      "outputs": [],
      "source": [
        "SRR26046019_DM_UT"
      ]
    },
    {
      "cell_type": "code",
      "execution_count": null,
      "id": "fa32f615-4e62-425f-9fbc-6538f5253194",
      "metadata": {
        "id": "fa32f615-4e62-425f-9fbc-6538f5253194"
      },
      "outputs": [],
      "source": [
        "snap.tl.umap(SRR26046013_DM_AOA_INH)"
      ]
    },
    {
      "cell_type": "code",
      "execution_count": null,
      "id": "8c62542d-7fb1-4b72-ba46-8511b26e7f71",
      "metadata": {
        "id": "8c62542d-7fb1-4b72-ba46-8511b26e7f71"
      },
      "outputs": [],
      "source": [
        "snap.tl.umap(SRR26046019_DM_UT)"
      ]
    },
    {
      "cell_type": "code",
      "execution_count": null,
      "id": "695b9690-a818-4a6d-a4a7-18ecd87f9adc",
      "metadata": {
        "id": "695b9690-a818-4a6d-a4a7-18ecd87f9adc"
      },
      "outputs": [],
      "source": [
        "SRR26046013_DM_AOA_INH"
      ]
    },
    {
      "cell_type": "code",
      "execution_count": null,
      "id": "f38bbce3-6471-4440-8f0f-a00d2f278d61",
      "metadata": {
        "id": "f38bbce3-6471-4440-8f0f-a00d2f278d61"
      },
      "outputs": [],
      "source": [
        "SRR26046019_DM_UT"
      ]
    },
    {
      "cell_type": "markdown",
      "id": "20ae1ff6-1cc5-4fd7-802d-b2c6c9091bb2",
      "metadata": {
        "id": "20ae1ff6-1cc5-4fd7-802d-b2c6c9091bb2"
      },
      "source": [
        "Clustering analysis"
      ]
    },
    {
      "cell_type": "code",
      "execution_count": null,
      "id": "8b8e25a7-96a8-490d-991e-cd235d47f944",
      "metadata": {
        "id": "8b8e25a7-96a8-490d-991e-cd235d47f944"
      },
      "outputs": [],
      "source": [
        "#(1)Calculate knn graph, (2) use Leiden community detection, (3) plot UMAP (returns plotly object)"
      ]
    },
    {
      "cell_type": "code",
      "execution_count": null,
      "id": "3c33e76d-5036-4be7-8cca-14ddd50824b6",
      "metadata": {
        "id": "3c33e76d-5036-4be7-8cca-14ddd50824b6"
      },
      "outputs": [],
      "source": [
        "snap.pp.knn(SRR26046013_DM_AOA_INH)\n",
        "snap.tl.leiden(SRR26046013_DM_AOA_INH)\n",
        "SRR26046013_DM_AOA_INH_UMAP = snap.pl.umap(SRR26046013_DM_AOA_INH, color = 'leiden', interactive = False, show = False)"
      ]
    },
    {
      "cell_type": "code",
      "execution_count": null,
      "id": "5df7e3a4-fd83-45c9-9572-d59b51cc34be",
      "metadata": {
        "id": "5df7e3a4-fd83-45c9-9572-d59b51cc34be"
      },
      "outputs": [],
      "source": [
        "snap.pp.knn(SRR26046019_DM_UT)\n",
        "snap.tl.leiden(SRR26046019_DM_UT)\n",
        "SRR26046019_DM_UT_UMAP = snap.pl.umap(SRR26046019_DM_UT, color='leiden', interactive=False, show=False)"
      ]
    },
    {
      "cell_type": "code",
      "execution_count": null,
      "id": "b6a5eaab-a4dd-4fb9-9f68-d7df6b21473e",
      "metadata": {
        "id": "b6a5eaab-a4dd-4fb9-9f68-d7df6b21473e"
      },
      "outputs": [],
      "source": [
        "# Create a subplot figure\n",
        "fig = sp.make_subplots(rows=1, cols=2, subplot_titles=('Treated w/AOA', 'Untreated'))\n",
        "\n",
        "# Add all traces from each UMAP plot to the subplot figure\n",
        "for trace in SRR26046013_DM_AOA_INH_UMAP.data:\n",
        " trace.showlegend = False  # Hide legend for individual traces\n",
        " fig.add_trace(trace, row=1, col=1)\n",
        "\n",
        "for trace in SRR26046019_DM_UT_UMAP.data:\n",
        " fig.add_trace(trace, row=1, col=2)  # Show legend only for the last subplot\n",
        "\n",
        "# Update layout with legend title and position\n",
        "fig.update_layout(height=600, width=1200, title_text=\"UMAP Clustering\", legend_title_text='Clusters', legend=dict(x=1.05, y=1, traceorder='normal', font=dict(family='sans-serif', size=12, color='black'), bordercolor='Black', borderwidth=1))\n",
        "\n",
        "fig.show()\n",
        "fig.write_image(\"Cluster_plots.png\", height=1080, width=1920)"
      ]
    },
    {
      "cell_type": "markdown",
      "id": "56168fc7-acc3-4e70-8df6-a40eac803c31",
      "metadata": {
        "id": "56168fc7-acc3-4e70-8df6-a40eac803c31"
      },
      "source": [
        "!export HDF5_USE_FILE_LOCKING=FALSE"
      ]
    },
    {
      "cell_type": "markdown",
      "id": "055d5061-6c75-4f68-887f-010144e55124",
      "metadata": {
        "id": "055d5061-6c75-4f68-887f-010144e55124"
      },
      "source": [
        "#Write structures to file\n",
        "SRR26046013_DM_AOA_INH.write_h5ad(\"SRR26046013_PI.h5ad\")"
      ]
    },
    {
      "cell_type": "markdown",
      "id": "d303caba-4225-4e5b-a56d-de61d6e405d8",
      "metadata": {
        "id": "d303caba-4225-4e5b-a56d-de61d6e405d8"
      },
      "source": [
        "SRR26046019_DM_UT.write_h5ad(\"SRR26046019_PI.h5ad\")"
      ]
    },
    {
      "cell_type": "markdown",
      "id": "783013da-e10a-465d-af26-cf86d5ed3dd6",
      "metadata": {
        "id": "783013da-e10a-465d-af26-cf86d5ed3dd6"
      },
      "source": [
        "#Save back to Galaxy doublet removal, dimension reduction, clustering\n",
        "put('SRR26046013_PI.h5ad')"
      ]
    },
    {
      "cell_type": "markdown",
      "id": "4d73765f-b958-42bd-a720-e3a9e1d89bb1",
      "metadata": {
        "id": "4d73765f-b958-42bd-a720-e3a9e1d89bb1"
      },
      "source": [
        "put('SRR26046019_PI.h5ad')"
      ]
    },
    {
      "cell_type": "markdown",
      "id": "d6405283-9006-46f5-be16-93fb0598c96c",
      "metadata": {
        "id": "d6405283-9006-46f5-be16-93fb0598c96c"
      },
      "source": [
        "Create a cell-by-gene activity matrix"
      ]
    },
    {
      "cell_type": "code",
      "execution_count": null,
      "id": "d8408450-f2eb-455d-9dc4-359b71604bc6",
      "metadata": {
        "id": "d8408450-f2eb-455d-9dc4-359b71604bc6"
      },
      "outputs": [],
      "source": [
        "#sc.write(SRR26046013_DM_AOA_INH,\"/SRR26046013_DM_AOA_INH.h5ad\")"
      ]
    },
    {
      "cell_type": "code",
      "execution_count": null,
      "id": "dcde597d-f810-4b9e-9780-7534cca6dcaa",
      "metadata": {
        "id": "dcde597d-f810-4b9e-9780-7534cca6dcaa"
      },
      "outputs": [],
      "source": [
        "SRR26046019_DM_UT"
      ]
    },
    {
      "cell_type": "code",
      "execution_count": null,
      "id": "73d3c212-d8ca-46ae-89b0-64f5c403f9c8",
      "metadata": {
        "id": "73d3c212-d8ca-46ae-89b0-64f5c403f9c8"
      },
      "outputs": [],
      "source": [
        "SRR26046013_DM_AOA_INH_GM = snap.pp.make_gene_matrix(SRR26046013_DM_AOA_INH, snap.genome.hg38)"
      ]
    },
    {
      "cell_type": "code",
      "execution_count": null,
      "id": "d1c63501-fae3-4741-820d-9840b975013b",
      "metadata": {
        "id": "d1c63501-fae3-4741-820d-9840b975013b"
      },
      "outputs": [],
      "source": [
        "SRR26046019_DM_UT_GM = snap.pp.make_gene_matrix(SRR26046019_DM_UT, snap.genome.hg38)"
      ]
    },
    {
      "cell_type": "code",
      "execution_count": null,
      "id": "812e1a2d-a582-429a-8d58-7b631269589e",
      "metadata": {
        "id": "812e1a2d-a582-429a-8d58-7b631269589e"
      },
      "outputs": [],
      "source": [
        "SRR26046013_DM_AOA_INH_GM"
      ]
    },
    {
      "cell_type": "code",
      "execution_count": null,
      "id": "1dc071ae-6690-4011-868c-1c9fee90ef00",
      "metadata": {
        "id": "1dc071ae-6690-4011-868c-1c9fee90ef00"
      },
      "outputs": [],
      "source": [
        "SRR26046019_DM_UT_GM"
      ]
    },
    {
      "cell_type": "code",
      "execution_count": null,
      "id": "7d5f3f23-fc7f-4dc9-9e9a-f89d7a2dbda0",
      "metadata": {
        "id": "7d5f3f23-fc7f-4dc9-9e9a-f89d7a2dbda0"
      },
      "outputs": [],
      "source": [
        "SRR26046013_DM_AOA_INH"
      ]
    },
    {
      "cell_type": "markdown",
      "id": "23506a2c-16ee-4fd3-9e34-8691abf3aaf0",
      "metadata": {
        "id": "23506a2c-16ee-4fd3-9e34-8691abf3aaf0"
      },
      "source": [
        "Copy other annotations from original AD object"
      ]
    },
    {
      "cell_type": "code",
      "execution_count": null,
      "id": "0c1fb7fb-7f70-45d8-bf8e-665e3f64733b",
      "metadata": {
        "id": "0c1fb7fb-7f70-45d8-bf8e-665e3f64733b"
      },
      "outputs": [],
      "source": [
        "# Transfer `obs` annotations\n",
        "SRR26046013_DM_AOA_INH_GM.obs = SRR26046013_DM_AOA_INH.obs"
      ]
    },
    {
      "cell_type": "code",
      "execution_count": null,
      "id": "344d2867-bb72-4cdc-bab0-c763487d84a6",
      "metadata": {
        "id": "344d2867-bb72-4cdc-bab0-c763487d84a6"
      },
      "outputs": [],
      "source": [
        "# Transfer `uns` data\n",
        "SRR26046013_DM_AOA_INH_GM.uns = SRR26046013_DM_AOA_INH.uns"
      ]
    },
    {
      "cell_type": "code",
      "execution_count": null,
      "id": "fe817220-5403-4f29-ae11-7ebdde19792b",
      "metadata": {
        "id": "fe817220-5403-4f29-ae11-7ebdde19792b"
      },
      "outputs": [],
      "source": [
        "# Transfer `obsm` matrices\n",
        "SRR26046013_DM_AOA_INH_GM.obsm = SRR26046013_DM_AOA_INH.obsm"
      ]
    },
    {
      "cell_type": "code",
      "execution_count": null,
      "id": "68b1dc72-63a2-410d-b1e6-f46303c5b787",
      "metadata": {
        "id": "68b1dc72-63a2-410d-b1e6-f46303c5b787"
      },
      "outputs": [],
      "source": [
        "# Transfer `obsp` matrices\n",
        "SRR26046013_DM_AOA_INH_GM.obsp = SRR26046013_DM_AOA_INH.obsp"
      ]
    },
    {
      "cell_type": "code",
      "execution_count": null,
      "id": "48dd04c3-8ac8-4d09-94c6-b8930ee59cf5",
      "metadata": {
        "id": "48dd04c3-8ac8-4d09-94c6-b8930ee59cf5"
      },
      "outputs": [],
      "source": [
        "# Transfer `obs` annotations\n",
        "SRR26046019_DM_UT_GM.obs = SRR26046019_DM_UT.obs"
      ]
    },
    {
      "cell_type": "code",
      "execution_count": null,
      "id": "7ec6bfa8-8b47-4653-8d31-a6bcb25783ae",
      "metadata": {
        "id": "7ec6bfa8-8b47-4653-8d31-a6bcb25783ae"
      },
      "outputs": [],
      "source": [
        "# Transfer `uns` data\n",
        "SRR26046019_DM_UT_GM.uns = SRR26046019_DM_UT.uns"
      ]
    },
    {
      "cell_type": "code",
      "execution_count": null,
      "id": "8143c3a1-0146-4801-9171-47ed047c371f",
      "metadata": {
        "id": "8143c3a1-0146-4801-9171-47ed047c371f"
      },
      "outputs": [],
      "source": [
        "# Transfer `obsm` matrices\n",
        "SRR26046019_DM_UT_GM.obsm = SRR26046019_DM_UT.obsm"
      ]
    },
    {
      "cell_type": "code",
      "execution_count": null,
      "id": "071e7da1-e1f1-4f89-9622-163994c91dce",
      "metadata": {
        "id": "071e7da1-e1f1-4f89-9622-163994c91dce"
      },
      "outputs": [],
      "source": [
        "# Transfer `obsp` matrices\n",
        "SRR26046019_DM_UT_GM.obsp = SRR26046019_DM_UT.obsp"
      ]
    },
    {
      "cell_type": "code",
      "execution_count": null,
      "id": "97dfeb04-fa95-443c-842c-c3de5af23363",
      "metadata": {
        "id": "97dfeb04-fa95-443c-842c-c3de5af23363"
      },
      "outputs": [],
      "source": [
        "SRR26046013_DM_AOA_INH_GM"
      ]
    },
    {
      "cell_type": "code",
      "execution_count": null,
      "id": "fbe3e22b-960d-4bf1-9046-98c851b08987",
      "metadata": {
        "id": "fbe3e22b-960d-4bf1-9046-98c851b08987"
      },
      "outputs": [],
      "source": [
        "SRR26046019_DM_UT_GM"
      ]
    },
    {
      "cell_type": "markdown",
      "id": "6caba517-b066-4eaa-9ac6-dfcf21d8c5b7",
      "metadata": {
        "id": "6caba517-b066-4eaa-9ac6-dfcf21d8c5b7"
      },
      "source": [
        "Concatenate Data matrices"
      ]
    },
    {
      "cell_type": "code",
      "execution_count": null,
      "id": "f223c20d-8041-4986-b965-22ccf81e9796",
      "metadata": {
        "id": "f223c20d-8041-4986-b965-22ccf81e9796"
      },
      "outputs": [],
      "source": [
        "#Use inner join\n",
        "adata_concat = ad.concat([SRR26046013_DM_AOA_INH_GM, SRR26046019_DM_UT_GM], label = 'Treatment', keys = ['Treated w/AOA', 'Untreated'], join='inner')"
      ]
    },
    {
      "cell_type": "code",
      "execution_count": null,
      "id": "4f772dec-55b6-4531-a9fa-756c9dc69509",
      "metadata": {
        "id": "4f772dec-55b6-4531-a9fa-756c9dc69509"
      },
      "outputs": [],
      "source": [
        "print(np.isnan(adata.X).sum())"
      ]
    },
    {
      "cell_type": "markdown",
      "id": "7ab463c4-c21e-4fbf-85e0-f70e4f6b91f2",
      "metadata": {
        "id": "7ab463c4-c21e-4fbf-85e0-f70e4f6b91f2"
      },
      "source": [
        "Differential accesibility analysis"
      ]
    },
    {
      "cell_type": "code",
      "source": [
        "import numpy as np"
      ],
      "metadata": {
        "id": "xRVSWxoGo1by"
      },
      "id": "xRVSWxoGo1by",
      "execution_count": null,
      "outputs": []
    },
    {
      "cell_type": "code",
      "execution_count": null,
      "id": "ffa7a645-c56a-4d94-af04-6869e008ca12",
      "metadata": {
        "id": "ffa7a645-c56a-4d94-af04-6869e008ca12"
      },
      "outputs": [],
      "source": [
        "from scipy import stats"
      ]
    },
    {
      "cell_type": "code",
      "execution_count": null,
      "id": "62023b15-0427-43d2-ada2-edbaf46b20cb",
      "metadata": {
        "id": "62023b15-0427-43d2-ada2-edbaf46b20cb"
      },
      "outputs": [],
      "source": [
        "# Assuming adata is your AnnData object\n",
        "condition1 = adata_concat[adata_concat.obs['Treatment'] == 'Treated w/AOA']\n",
        "condition2 = adata_concat[adata_concat.obs['Treatment'] == 'Untreated']"
      ]
    },
    {
      "cell_type": "code",
      "execution_count": null,
      "id": "ca4915b7-81f6-4768-bd12-4e5288c6f329",
      "metadata": {
        "id": "ca4915b7-81f6-4768-bd12-4e5288c6f329"
      },
      "outputs": [],
      "source": [
        "# Perform a t-test for each peak/gene\n",
        "pvals = []\n",
        "for peak in adata_concat.var_names:\n",
        " _, pval = stats.ttest_ind(condition1[:, peak].X.toarray(), condition2[:, peak].X.toarray())\n",
        " pvals.append(pval)"
      ]
    },
    {
      "cell_type": "code",
      "execution_count": null,
      "id": "0acc1066-bb4a-4c71-999a-c77e58d65cbd",
      "metadata": {
        "id": "0acc1066-bb4a-4c71-999a-c77e58d65cbd"
      },
      "outputs": [],
      "source": [
        "# Adjust p-values for multiple testing (e.g., using Benjamini-Hochberg)\n",
        "from statsmodels.stats.multitest import multipletests\n",
        "_, pvals_adj, _, _ = multipletests(pvals, method='fdr_bh')"
      ]
    },
    {
      "cell_type": "code",
      "execution_count": null,
      "id": "8f560497-6eaa-4600-af81-cddaf3db3a7d",
      "metadata": {
        "id": "8f560497-6eaa-4600-af81-cddaf3db3a7d"
      },
      "outputs": [],
      "source": [
        "# Add p-values to AnnData object\n",
        "adata.var['pvals'] = pvals\n",
        "adata.var['pvals_adj'] = pvals_adj"
      ]
    },
    {
      "cell_type": "code",
      "execution_count": null,
      "id": "805e9c59-a29c-4220-b5b6-ba9d7672844e",
      "metadata": {
        "id": "805e9c59-a29c-4220-b5b6-ba9d7672844e"
      },
      "outputs": [],
      "source": [
        "Filter Significant DARs: Filter the results to retain only those regions that are significantly differentially accessible after multiple testing correction."
      ]
    },
    {
      "cell_type": "code",
      "execution_count": null,
      "id": "4a5ba1af-324e-4599-8f0b-b76349556e07",
      "metadata": {
        "id": "4a5ba1af-324e-4599-8f0b-b76349556e07"
      },
      "outputs": [],
      "source": [
        "significant_dars = adata.var[adata.var['pvals_adj'] < 0.05]"
      ]
    },
    {
      "cell_type": "code",
      "execution_count": null,
      "id": "7acd26c4-c431-4a47-8aeb-4edf6520b75d",
      "metadata": {
        "id": "7acd26c4-c431-4a47-8aeb-4edf6520b75d"
      },
      "outputs": [],
      "source": [
        "Visualize Results: Visualize the differentially accessible regions using various plotting functions available in scanpy or other visualization libraries."
      ]
    },
    {
      "cell_type": "code",
      "execution_count": null,
      "id": "575eb596-0196-4dc9-831d-c883201014a0",
      "metadata": {
        "id": "575eb596-0196-4dc9-831d-c883201014a0"
      },
      "outputs": [],
      "source": [
        "sc.pl.heatmap(adata, var_names=significant_dars.index, groupby='condition')\n",
        "\n",
        "Interpret Results: Interpret the biological significance of the differentially accessible regions. This might involve looking at the genes associated with these regions and understanding their roles in the biological conditions you are studying."
      ]
    }
  ],
  "metadata": {
    "colab": {
      "machine_shape": "hm",
      "provenance": [],
      "include_colab_link": true
    },
    "kernelspec": {
      "display_name": "Python 3",
      "name": "python3"
    },
    "language_info": {
      "name": "python"
    }
  },
  "nbformat": 4,
  "nbformat_minor": 5
}