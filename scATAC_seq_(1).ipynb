{
  "cells": [
    {
      "cell_type": "markdown",
      "metadata": {
        "id": "view-in-github",
        "colab_type": "text"
      },
      "source": [
        "<a href=\"https://colab.research.google.com/github/Droslj/scATAC-seq-complete-/blob/Google-colab/scATAC_seq_(1).ipynb\" target=\"_parent\"><img src=\"https://colab.research.google.com/assets/colab-badge.svg\" alt=\"Open In Colab\"/></a>"
      ]
    },
    {
      "cell_type": "markdown",
      "id": "f268332b-53de-4af8-9533-e48c041292f3",
      "metadata": {
        "id": "f268332b-53de-4af8-9533-e48c041292f3"
      },
      "source": [
        "scATAC seq, based on scATAC seq processing Galaxy tutorials (scATAC preprocessing (2), Standard scATAC seq processing pipeline (1) )\n",
        "AD Objects created in Galaxy using customized Galaxy WF with Snapatac2 and imported\n",
        "(1) https://usegalaxy.eu/training-material/topics/single-cell/tutorials/scatac-preprocessing-tenx/tutorial.html#mapping-reads-to-a-reference-genome, (2) https://usegalaxy.eu/training-material/topics/single-cell/tutorials/scatac-standard-processing-snapatac2/tutorial.html\n",
        "Data taken from the following NCBI study:\n",
        "Metabolic adaptation pilots the differentiation of human hematopoietic cells (https://www.ncbi.nlm.nih.gov/bioproject/PRJNA1015713)\n",
        "Import Anndata objects for two biological replicates, SRR26046013 (cells treated with AOA inhibitor) and SRR26046019 (untreated cells)\n",
        "Perform following steps:\n",
        "(1) Import matrices\n",
        "(2) Compute fragment size distribution\n",
        "(3) Compute TSS enrichment\n",
        "(4) Filter cell counts based on TSSe\n",
        "(5) Create cell by bin matrix based on 500 bp wide bins accross the whole genome\n",
        "(6) Perform feature selection\n",
        "(7) Perform Doublet removal\n",
        "(8) Perform Dim reduction (spectral)\n",
        "(9) Perform Clustering (neighborhood, UMAP, leiden)\n",
        "(10) Create a cell by gene matrix\n",
        "(11) Concatenate matrices using Inner join\n",
        "(12) Remove batch effects"
      ]
    },
    {
      "cell_type": "code",
      "source": [
        "!pip install -q condacolab"
      ],
      "metadata": {
        "id": "HYs7RhoU68Ks"
      },
      "id": "HYs7RhoU68Ks",
      "execution_count": 1,
      "outputs": []
    },
    {
      "cell_type": "code",
      "source": [
        "import condacolab"
      ],
      "metadata": {
        "id": "QBQXEKjk7O-V"
      },
      "id": "QBQXEKjk7O-V",
      "execution_count": 2,
      "outputs": []
    },
    {
      "cell_type": "code",
      "source": [
        "condacolab.install()"
      ],
      "metadata": {
        "colab": {
          "base_uri": "https://localhost:8080/"
        },
        "id": "YdiPg8vS7ZKq",
        "outputId": "636bc07a-1939-44f5-fb6b-3da213ed8c9d"
      },
      "id": "YdiPg8vS7ZKq",
      "execution_count": 3,
      "outputs": [
        {
          "output_type": "stream",
          "name": "stdout",
          "text": [
            "✨🍰✨ Everything looks OK!\n"
          ]
        }
      ]
    },
    {
      "cell_type": "code",
      "source": [
        "!conda --version"
      ],
      "metadata": {
        "colab": {
          "base_uri": "https://localhost:8080/"
        },
        "id": "VITjp1M56yu_",
        "outputId": "c5ab92e1-7aab-477a-bcb8-621829cef921"
      },
      "id": "VITjp1M56yu_",
      "execution_count": 4,
      "outputs": [
        {
          "output_type": "stream",
          "name": "stdout",
          "text": [
            "conda 23.11.0\n"
          ]
        }
      ]
    },
    {
      "cell_type": "code",
      "source": [
        "!which conda"
      ],
      "metadata": {
        "colab": {
          "base_uri": "https://localhost:8080/"
        },
        "id": "S-oCMIm-7p9i",
        "outputId": "60f11b3e-90e9-426d-df38-17c377d49a8d"
      },
      "id": "S-oCMIm-7p9i",
      "execution_count": 5,
      "outputs": [
        {
          "output_type": "stream",
          "name": "stdout",
          "text": [
            "/usr/local/bin/conda\n"
          ]
        }
      ]
    },
    {
      "cell_type": "code",
      "source": [
        "!conda config --add channels conda-forge"
      ],
      "metadata": {
        "colab": {
          "base_uri": "https://localhost:8080/"
        },
        "id": "D6zjhdZm-BJp",
        "outputId": "d33b9ab8-539d-48b8-a064-4ef46a99906e"
      },
      "id": "D6zjhdZm-BJp",
      "execution_count": 6,
      "outputs": [
        {
          "output_type": "stream",
          "name": "stdout",
          "text": [
            "Warning: 'conda-forge' already in 'channels' list, moving to the top\n"
          ]
        }
      ]
    },
    {
      "cell_type": "code",
      "source": [
        "!conda config --add channels bioconda"
      ],
      "metadata": {
        "colab": {
          "base_uri": "https://localhost:8080/"
        },
        "id": "JpJESCcU-fO_",
        "outputId": "756e56a6-78c9-4af0-e576-2e1fde6c474c"
      },
      "id": "JpJESCcU-fO_",
      "execution_count": 7,
      "outputs": [
        {
          "output_type": "stream",
          "name": "stdout",
          "text": [
            "Warning: 'bioconda' already in 'channels' list, moving to the top\n"
          ]
        }
      ]
    },
    {
      "source": [
        "!pip install snapatac2 -q"
      ],
      "cell_type": "code",
      "metadata": {
        "colab": {
          "base_uri": "https://localhost:8080/"
        },
        "id": "gZdiRWwb1rZJ",
        "outputId": "9991bbfb-ed13-49ec-a374-cbfd017b8e9d"
      },
      "id": "gZdiRWwb1rZJ",
      "execution_count": 11,
      "outputs": [
        {
          "output_type": "stream",
          "name": "stdout",
          "text": [
            "\u001b[?25l   \u001b[90m━━━━━━━━━━━━━━━━━━━━━━━━━━━━━━━━━━━━━━━━\u001b[0m \u001b[32m0.0/129.0 kB\u001b[0m \u001b[31m?\u001b[0m eta \u001b[36m-:--:--\u001b[0m\r\u001b[2K   \u001b[91m━━━━━━━━━━━━━━━━━━━━━━━━━━━━━━━━━━━━━━\u001b[0m\u001b[90m╺\u001b[0m\u001b[90m━\u001b[0m \u001b[32m122.9/129.0 kB\u001b[0m \u001b[31m3.9 MB/s\u001b[0m eta \u001b[36m0:00:01\u001b[0m\r\u001b[2K   \u001b[90m━━━━━━━━━━━━━━━━━━━━━━━━━━━━━━━━━━━━━━━━\u001b[0m \u001b[32m129.0/129.0 kB\u001b[0m \u001b[31m2.7 MB/s\u001b[0m eta \u001b[36m0:00:00\u001b[0m\n",
            "\u001b[?25h\u001b[?25l   \u001b[90m━━━━━━━━━━━━━━━━━━━━━━━━━━━━━━━━━━━━━━━━\u001b[0m \u001b[32m0.0/50.4 kB\u001b[0m \u001b[31m?\u001b[0m eta \u001b[36m-:--:--\u001b[0m\r\u001b[2K   \u001b[90m━━━━━━━━━━━━━━━━━━━━━━━━━━━━━━━━━━━━━━━━\u001b[0m \u001b[32m50.4/50.4 kB\u001b[0m \u001b[31m2.6 MB/s\u001b[0m eta \u001b[36m0:00:00\u001b[0m\n",
            "\u001b[?25h"
          ]
        }
      ]
    },
    {
      "cell_type": "code",
      "source": [
        "!pip show snapatac2"
      ],
      "metadata": {
        "colab": {
          "base_uri": "https://localhost:8080/"
        },
        "id": "jsCJ2get4W8l",
        "outputId": "e07e60d6-f818-4a42-96d2-f33d1d265eba"
      },
      "id": "jsCJ2get4W8l",
      "execution_count": 12,
      "outputs": [
        {
          "output_type": "stream",
          "name": "stdout",
          "text": [
            "Name: snapatac2\n",
            "Version: 2.7.1\n",
            "Summary: SnapATAC2: Single-cell epigenomics analysis pipeline\n",
            "Home-page: https://github.com/\n",
            "Author: Kai Zhang <kai@kzhang.org>\n",
            "Author-email: Kai Zhang <zhangkai33@westlake.edu.cn>\n",
            "License: MIT\n",
            "Location: /usr/local/lib/python3.10/site-packages\n",
            "Requires: anndata, igraph, kaleido, macs3, multiprocess, natsort, numpy, pandas, plotly, polars, pooch, pyarrow, pyfaidx, rustworkx, scikit-learn, scipy, tqdm, typeguard\n",
            "Required-by: \n"
          ]
        }
      ]
    },
    {
      "cell_type": "code",
      "source": [
        "import snapatac2 as snap"
      ],
      "metadata": {
        "id": "z2G4FDYqgSmQ"
      },
      "id": "z2G4FDYqgSmQ",
      "execution_count": 13,
      "outputs": []
    },
    {
      "cell_type": "code",
      "source": [
        "!pip install umap-learn -q\n",
        "\n"
      ],
      "metadata": {
        "colab": {
          "base_uri": "https://localhost:8080/"
        },
        "id": "VZLaiDEzlB1m",
        "outputId": "c5b20170-8ebc-455a-be27-8723b7d5dda2"
      },
      "id": "VZLaiDEzlB1m",
      "execution_count": 14,
      "outputs": [
        {
          "output_type": "stream",
          "name": "stdout",
          "text": [
            "Collecting umap-learn\n",
            "  Downloading umap_learn-0.5.7-py3-none-any.whl.metadata (21 kB)\n",
            "Requirement already satisfied: numpy>=1.17 in /usr/local/lib/python3.10/site-packages (from umap-learn) (1.26.4)\n",
            "Requirement already satisfied: scipy>=1.3.1 in /usr/local/lib/python3.10/site-packages (from umap-learn) (1.15.0)\n",
            "Requirement already satisfied: scikit-learn>=0.22 in /usr/local/lib/python3.10/site-packages (from umap-learn) (1.6.0)\n",
            "Collecting numba>=0.51.2 (from umap-learn)\n",
            "  Downloading numba-0.60.0-cp310-cp310-manylinux2014_x86_64.manylinux_2_17_x86_64.whl.metadata (2.7 kB)\n",
            "Collecting pynndescent>=0.5 (from umap-learn)\n",
            "  Downloading pynndescent-0.5.13-py3-none-any.whl.metadata (6.8 kB)\n",
            "Requirement already satisfied: tqdm in /usr/local/lib/python3.10/site-packages (from umap-learn) (4.66.1)\n",
            "Collecting llvmlite<0.44,>=0.43.0dev0 (from numba>=0.51.2->umap-learn)\n",
            "  Downloading llvmlite-0.43.0-cp310-cp310-manylinux_2_17_x86_64.manylinux2014_x86_64.whl.metadata (4.8 kB)\n",
            "Requirement already satisfied: joblib>=0.11 in /usr/local/lib/python3.10/site-packages (from pynndescent>=0.5->umap-learn) (1.4.2)\n",
            "Requirement already satisfied: threadpoolctl>=3.1.0 in /usr/local/lib/python3.10/site-packages (from scikit-learn>=0.22->umap-learn) (3.5.0)\n",
            "Downloading umap_learn-0.5.7-py3-none-any.whl (88 kB)\n",
            "\u001b[2K   \u001b[90m━━━━━━━━━━━━━━━━━━━━━━━━━━━━━━━━━━━━━━━━\u001b[0m \u001b[32m88.8/88.8 kB\u001b[0m \u001b[31m2.9 MB/s\u001b[0m eta \u001b[36m0:00:00\u001b[0m\n",
            "\u001b[?25hDownloading numba-0.60.0-cp310-cp310-manylinux2014_x86_64.manylinux_2_17_x86_64.whl (3.7 MB)\n",
            "\u001b[2K   \u001b[90m━━━━━━━━━━━━━━━━━━━━━━━━━━━━━━━━━━━━━━━━\u001b[0m \u001b[32m3.7/3.7 MB\u001b[0m \u001b[31m44.6 MB/s\u001b[0m eta \u001b[36m0:00:00\u001b[0m\n",
            "\u001b[?25hDownloading pynndescent-0.5.13-py3-none-any.whl (56 kB)\n",
            "\u001b[2K   \u001b[90m━━━━━━━━━━━━━━━━━━━━━━━━━━━━━━━━━━━━━━━━\u001b[0m \u001b[32m56.9/56.9 kB\u001b[0m \u001b[31m3.6 MB/s\u001b[0m eta \u001b[36m0:00:00\u001b[0m\n",
            "\u001b[?25hDownloading llvmlite-0.43.0-cp310-cp310-manylinux_2_17_x86_64.manylinux2014_x86_64.whl (43.9 MB)\n",
            "\u001b[2K   \u001b[90m━━━━━━━━━━━━━━━━━━━━━━━━━━━━━━━━━━━━━━━━\u001b[0m \u001b[32m43.9/43.9 MB\u001b[0m \u001b[31m56.9 MB/s\u001b[0m eta \u001b[36m0:00:00\u001b[0m\n",
            "\u001b[?25hInstalling collected packages: llvmlite, numba, pynndescent, umap-learn\n",
            "Successfully installed llvmlite-0.43.0 numba-0.60.0 pynndescent-0.5.13 umap-learn-0.5.7\n"
          ]
        }
      ]
    },
    {
      "cell_type": "code",
      "source": [
        "import umap.umap_ as umap\n"
      ],
      "metadata": {
        "id": "BCEdegOSgRBg"
      },
      "id": "BCEdegOSgRBg",
      "execution_count": 15,
      "outputs": []
    },
    {
      "cell_type": "code",
      "source": [
        "from umap import UMAP"
      ],
      "metadata": {
        "id": "FVmqXk-vlFrB"
      },
      "id": "FVmqXk-vlFrB",
      "execution_count": 16,
      "outputs": []
    },
    {
      "cell_type": "code",
      "source": [
        "!pip install scanpy -q"
      ],
      "metadata": {
        "id": "CM_xhHZxUcF5",
        "colab": {
          "base_uri": "https://localhost:8080/"
        },
        "outputId": "b47af2ee-97ad-4845-d5a0-feacd0824791"
      },
      "id": "CM_xhHZxUcF5",
      "execution_count": 17,
      "outputs": [
        {
          "output_type": "stream",
          "name": "stdout",
          "text": [
            "  Preparing metadata (setup.py) ... \u001b[?25l\u001b[?25hdone\n",
            "\u001b[2K     \u001b[90m━━━━━━━━━━━━━━━━━━━━━━━━━━━━━━━━━━━━━━━━\u001b[0m \u001b[32m165.1/165.1 kB\u001b[0m \u001b[31m4.2 MB/s\u001b[0m eta \u001b[36m0:00:00\u001b[0m\n",
            "\u001b[2K   \u001b[90m━━━━━━━━━━━━━━━━━━━━━━━━━━━━━━━━━━━━━━━━\u001b[0m \u001b[32m2.1/2.1 MB\u001b[0m \u001b[31m35.1 MB/s\u001b[0m eta \u001b[36m0:00:00\u001b[0m\n",
            "\u001b[2K   \u001b[90m━━━━━━━━━━━━━━━━━━━━━━━━━━━━━━━━━━━━━━━━\u001b[0m \u001b[32m8.6/8.6 MB\u001b[0m \u001b[31m105.8 MB/s\u001b[0m eta \u001b[36m0:00:00\u001b[0m\n",
            "\u001b[2K   \u001b[90m━━━━━━━━━━━━━━━━━━━━━━━━━━━━━━━━━━━━━━━━\u001b[0m \u001b[32m1.7/1.7 MB\u001b[0m \u001b[31m65.3 MB/s\u001b[0m eta \u001b[36m0:00:00\u001b[0m\n",
            "\u001b[2K   \u001b[90m━━━━━━━━━━━━━━━━━━━━━━━━━━━━━━━━━━━━━━━━\u001b[0m \u001b[32m232.9/232.9 kB\u001b[0m \u001b[31m14.2 MB/s\u001b[0m eta \u001b[36m0:00:00\u001b[0m\n",
            "\u001b[2K   \u001b[90m━━━━━━━━━━━━━━━━━━━━━━━━━━━━━━━━━━━━━━━━\u001b[0m \u001b[32m294.9/294.9 kB\u001b[0m \u001b[31m17.5 MB/s\u001b[0m eta \u001b[36m0:00:00\u001b[0m\n",
            "\u001b[2K   \u001b[90m━━━━━━━━━━━━━━━━━━━━━━━━━━━━━━━━━━━━━━━━\u001b[0m \u001b[32m10.8/10.8 MB\u001b[0m \u001b[31m119.4 MB/s\u001b[0m eta \u001b[36m0:00:00\u001b[0m\n",
            "\u001b[2K   \u001b[90m━━━━━━━━━━━━━━━━━━━━━━━━━━━━━━━━━━━━━━━━\u001b[0m \u001b[32m325.0/325.0 kB\u001b[0m \u001b[31m19.9 MB/s\u001b[0m eta \u001b[36m0:00:00\u001b[0m\n",
            "\u001b[2K   \u001b[90m━━━━━━━━━━━━━━━━━━━━━━━━━━━━━━━━━━━━━━━━\u001b[0m \u001b[32m4.6/4.6 MB\u001b[0m \u001b[31m81.4 MB/s\u001b[0m eta \u001b[36m0:00:00\u001b[0m\n",
            "\u001b[2K   \u001b[90m━━━━━━━━━━━━━━━━━━━━━━━━━━━━━━━━━━━━━━━━\u001b[0m \u001b[32m1.6/1.6 MB\u001b[0m \u001b[31m65.9 MB/s\u001b[0m eta \u001b[36m0:00:00\u001b[0m\n",
            "\u001b[2K   \u001b[90m━━━━━━━━━━━━━━━━━━━━━━━━━━━━━━━━━━━━━━━━\u001b[0m \u001b[32m4.5/4.5 MB\u001b[0m \u001b[31m104.3 MB/s\u001b[0m eta \u001b[36m0:00:00\u001b[0m\n",
            "\u001b[2K   \u001b[90m━━━━━━━━━━━━━━━━━━━━━━━━━━━━━━━━━━━━━━━━\u001b[0m \u001b[32m107.7/107.7 kB\u001b[0m \u001b[31m7.3 MB/s\u001b[0m eta \u001b[36m0:00:00\u001b[0m\n",
            "\u001b[2K   \u001b[90m━━━━━━━━━━━━━━━━━━━━━━━━━━━━━━━━━━━━━━━━\u001b[0m \u001b[32m83.6/83.6 kB\u001b[0m \u001b[31m5.8 MB/s\u001b[0m eta \u001b[36m0:00:00\u001b[0m\n",
            "\u001b[?25h  Building wheel for session-info (setup.py) ... \u001b[?25l\u001b[?25hdone\n"
          ]
        }
      ]
    },
    {
      "cell_type": "code",
      "source": [
        "import scanpy as sc"
      ],
      "metadata": {
        "id": "NYl1nQOhUoj2"
      },
      "id": "NYl1nQOhUoj2",
      "execution_count": 18,
      "outputs": []
    },
    {
      "cell_type": "code",
      "source": [
        "pip show scanpy"
      ],
      "metadata": {
        "colab": {
          "base_uri": "https://localhost:8080/"
        },
        "id": "rkvTEjpw_csS",
        "outputId": "294bf667-089c-459b-9f3a-6a0e1171c1de"
      },
      "id": "rkvTEjpw_csS",
      "execution_count": 19,
      "outputs": [
        {
          "output_type": "stream",
          "name": "stdout",
          "text": [
            "Name: scanpy\n",
            "Version: 1.10.4\n",
            "Summary: Single-Cell Analysis in Python.\n",
            "Home-page: \n",
            "Author: Alex Wolf, Philipp Angerer, Fidel Ramirez, Isaac Virshup, Sergei Rybakov, Gokcen Eraslan, Tom White, Malte Luecken, Davide Cittaro, Tobias Callies, Marius Lange, Andrés R. Muñoz-Rojas\n",
            "Author-email: \n",
            "License: \n",
            "Location: /usr/local/lib/python3.10/site-packages\n",
            "Requires: anndata, h5py, joblib, legacy-api-wrap, matplotlib, natsort, networkx, numba, numpy, packaging, pandas, patsy, pynndescent, scikit-learn, scipy, seaborn, session-info, statsmodels, tqdm, umap-learn\n",
            "Required-by: \n"
          ]
        }
      ]
    },
    {
      "cell_type": "code",
      "source": [
        "!pip install magic-impute -q"
      ],
      "metadata": {
        "colab": {
          "base_uri": "https://localhost:8080/"
        },
        "id": "wHb_wo4QB7C_",
        "outputId": "a62cf626-9be5-46a8-92d9-0d8482968a1f"
      },
      "id": "wHb_wo4QB7C_",
      "execution_count": 20,
      "outputs": [
        {
          "output_type": "stream",
          "name": "stdout",
          "text": [
            "\u001b[?25l   \u001b[90m━━━━━━━━━━━━━━━━━━━━━━━━━━━━━━━━━━━━━━━━\u001b[0m \u001b[32m0.0/45.4 kB\u001b[0m \u001b[31m?\u001b[0m eta \u001b[36m-:--:--\u001b[0m\r\u001b[2K   \u001b[90m━━━━━━━━━━━━━━━━━━━━━━━━━━━━━━━━━━━━━━━━\u001b[0m \u001b[32m45.4/45.4 kB\u001b[0m \u001b[31m1.5 MB/s\u001b[0m eta \u001b[36m0:00:00\u001b[0m\n",
            "\u001b[2K   \u001b[90m━━━━━━━━━━━━━━━━━━━━━━━━━━━━━━━━━━━━━━━━\u001b[0m \u001b[32m94.1/94.1 kB\u001b[0m \u001b[31m3.5 MB/s\u001b[0m eta \u001b[36m0:00:00\u001b[0m\n",
            "\u001b[2K   \u001b[90m━━━━━━━━━━━━━━━━━━━━━━━━━━━━━━━━━━━━━━━━\u001b[0m \u001b[32m12.3/12.3 MB\u001b[0m \u001b[31m94.5 MB/s\u001b[0m eta \u001b[36m0:00:00\u001b[0m\n",
            "\u001b[2K   \u001b[90m━━━━━━━━━━━━━━━━━━━━━━━━━━━━━━━━━━━━━━━━\u001b[0m \u001b[32m491.3/491.3 kB\u001b[0m \u001b[31m29.4 MB/s\u001b[0m eta \u001b[36m0:00:00\u001b[0m\n",
            "\u001b[2K   \u001b[90m━━━━━━━━━━━━━━━━━━━━━━━━━━━━━━━━━━━━━━━━\u001b[0m \u001b[32m1.8/1.8 MB\u001b[0m \u001b[31m60.5 MB/s\u001b[0m eta \u001b[36m0:00:00\u001b[0m\n",
            "\u001b[2K   \u001b[90m━━━━━━━━━━━━━━━━━━━━━━━━━━━━━━━━━━━━━━━━\u001b[0m \u001b[32m82.7/82.7 kB\u001b[0m \u001b[31m5.6 MB/s\u001b[0m eta \u001b[36m0:00:00\u001b[0m\n",
            "\u001b[?25h"
          ]
        }
      ]
    },
    {
      "cell_type": "code",
      "source": [
        "!pip install leidenalg -q"
      ],
      "metadata": {
        "colab": {
          "base_uri": "https://localhost:8080/"
        },
        "id": "oirt93RVEK-D",
        "outputId": "778774a5-59cc-4abe-c7f3-42e5cf98ad88"
      },
      "id": "oirt93RVEK-D",
      "execution_count": 22,
      "outputs": [
        {
          "output_type": "stream",
          "name": "stdout",
          "text": [
            "\u001b[?25l   \u001b[90m━━━━━━━━━━━━━━━━━━━━━━━━━━━━━━━━━━━━━━━━\u001b[0m \u001b[32m0.0/2.0 MB\u001b[0m \u001b[31m?\u001b[0m eta \u001b[36m-:--:--\u001b[0m\r\u001b[2K   \u001b[91m━\u001b[0m\u001b[91m╸\u001b[0m\u001b[90m━━━━━━━━━━━━━━━━━━━━━━━━━━━━━━━━━━━━━━\u001b[0m \u001b[32m0.1/2.0 MB\u001b[0m \u001b[31m2.5 MB/s\u001b[0m eta \u001b[36m0:00:01\u001b[0m\r\u001b[2K   \u001b[91m━━━━━━━━━━━━\u001b[0m\u001b[90m╺\u001b[0m\u001b[90m━━━━━━━━━━━━━━━━━━━━━━━━━━━\u001b[0m \u001b[32m0.6/2.0 MB\u001b[0m \u001b[31m8.9 MB/s\u001b[0m eta \u001b[36m0:00:01\u001b[0m\r\u001b[2K   \u001b[91m━━━━━━━━━━━━━━━━━━━━━━━━━━━━━━━━━━━━━━━\u001b[0m\u001b[91m╸\u001b[0m \u001b[32m2.0/2.0 MB\u001b[0m \u001b[31m21.7 MB/s\u001b[0m eta \u001b[36m0:00:01\u001b[0m\r\u001b[2K   \u001b[90m━━━━━━━━━━━━━━━━━━━━━━━━━━━━━━━━━━━━━━━━\u001b[0m \u001b[32m2.0/2.0 MB\u001b[0m \u001b[31m16.4 MB/s\u001b[0m eta \u001b[36m0:00:00\u001b[0m\n",
            "\u001b[?25h"
          ]
        }
      ]
    },
    {
      "cell_type": "code",
      "execution_count": 21,
      "id": "4e15629f-bdc4-46dd-8375-a1f2e17960ca",
      "metadata": {
        "id": "4e15629f-bdc4-46dd-8375-a1f2e17960ca"
      },
      "outputs": [],
      "source": [
        "import numpy as np"
      ]
    },
    {
      "cell_type": "code",
      "execution_count": 23,
      "id": "37ff51dc-8860-4ab6-ab44-8223b33ea879",
      "metadata": {
        "id": "37ff51dc-8860-4ab6-ab44-8223b33ea879"
      },
      "outputs": [],
      "source": [
        "import anndata as ad"
      ]
    },
    {
      "cell_type": "code",
      "execution_count": 24,
      "id": "f54f07e0-84cc-4ab9-a156-ea8467a76fc4",
      "metadata": {
        "id": "f54f07e0-84cc-4ab9-a156-ea8467a76fc4"
      },
      "outputs": [],
      "source": [
        "import matplotlib.pyplot as plt"
      ]
    },
    {
      "cell_type": "code",
      "execution_count": 26,
      "id": "dfc626e2-9a64-4f0f-8677-1da6e446ea3a",
      "metadata": {
        "id": "dfc626e2-9a64-4f0f-8677-1da6e446ea3a"
      },
      "outputs": [],
      "source": [
        "import plotly.subplots as sp\n",
        "import plotly.graph_objects as go"
      ]
    },
    {
      "cell_type": "markdown",
      "id": "43f56d4f-c4ec-496e-96bd-6645365df65c",
      "metadata": {
        "id": "43f56d4f-c4ec-496e-96bd-6645365df65c"
      },
      "source": [
        "# Import reads from google drive, one sample treated with energy metabolism inhibitors and one untreated"
      ]
    },
    {
      "cell_type": "code",
      "source": [
        "from google.colab import drive\n",
        "drive.mount('/content/drive')"
      ],
      "metadata": {
        "colab": {
          "base_uri": "https://localhost:8080/"
        },
        "id": "BpK5P48ACJOW",
        "outputId": "7b3c1ce3-6fe1-4c74-d26d-4346ff2c5765"
      },
      "id": "BpK5P48ACJOW",
      "execution_count": 25,
      "outputs": [
        {
          "output_type": "stream",
          "name": "stdout",
          "text": [
            "Mounted at /content/drive\n"
          ]
        }
      ]
    },
    {
      "cell_type": "code",
      "execution_count": 27,
      "id": "be1662ba-006c-4be4-9858-70480fa51fe3",
      "metadata": {
        "id": "be1662ba-006c-4be4-9858-70480fa51fe3"
      },
      "outputs": [],
      "source": [
        "SRR26046013_DM_AOA_INH = sc.read_h5ad('/content/drive/MyDrive/Colab Notebooks/SRR26046013_Annotated_data_matrix.h5ad')"
      ]
    },
    {
      "cell_type": "code",
      "execution_count": 28,
      "id": "967b901c-c65e-436a-8c7c-2583264344ce",
      "metadata": {
        "id": "967b901c-c65e-436a-8c7c-2583264344ce",
        "colab": {
          "base_uri": "https://localhost:8080/"
        },
        "outputId": "e10695f0-664f-470d-88e0-ea22becb0a9d"
      },
      "outputs": [
        {
          "output_type": "execute_result",
          "data": {
            "text/plain": [
              "AnnData object with n_obs × n_vars = 13546 × 0\n",
              "    obs: 'n_fragment', 'frac_dup', 'frac_mito'\n",
              "    uns: 'reference_sequences'\n",
              "    obsm: 'fragment_paired'"
            ]
          },
          "metadata": {},
          "execution_count": 28
        }
      ],
      "source": [
        "SRR26046013_DM_AOA_INH"
      ]
    },
    {
      "cell_type": "code",
      "execution_count": 29,
      "id": "985faf54-160c-4b13-a7a9-b2e12fdfd714",
      "metadata": {
        "id": "985faf54-160c-4b13-a7a9-b2e12fdfd714"
      },
      "outputs": [],
      "source": [
        "SRR26046019_DM_UT = sc.read_h5ad('/content/drive/MyDrive/Colab Notebooks/SRR26046019_Annotated_data_matrix.h5ad')"
      ]
    },
    {
      "cell_type": "code",
      "execution_count": 30,
      "id": "4cb56a7f-e5e2-43c7-bacf-2a967c9dd531",
      "metadata": {
        "id": "4cb56a7f-e5e2-43c7-bacf-2a967c9dd531",
        "colab": {
          "base_uri": "https://localhost:8080/"
        },
        "outputId": "3f381073-f80a-42e4-9cb8-15ef66726d0d"
      },
      "outputs": [
        {
          "output_type": "execute_result",
          "data": {
            "text/plain": [
              "AnnData object with n_obs × n_vars = 10448 × 0\n",
              "    obs: 'n_fragment', 'frac_dup', 'frac_mito'\n",
              "    uns: 'reference_sequences'\n",
              "    obsm: 'fragment_paired'"
            ]
          },
          "metadata": {},
          "execution_count": 30
        }
      ],
      "source": [
        "SRR26046019_DM_UT"
      ]
    },
    {
      "cell_type": "markdown",
      "id": "8d0d9a69-6554-4ab7-8457-626e3316378d",
      "metadata": {
        "id": "8d0d9a69-6554-4ab7-8457-626e3316378d"
      },
      "source": [
        "Compute fragment size distributions"
      ]
    },
    {
      "cell_type": "code",
      "execution_count": null,
      "id": "65028c39-e285-493a-82bd-8e4f90d8c08d",
      "metadata": {
        "id": "65028c39-e285-493a-82bd-8e4f90d8c08d"
      },
      "outputs": [],
      "source": [
        "# Create a subplot figure\n",
        "fig, axes = plt.subplots(1, 2, figsize=(10, 5))\n",
        "\n",
        "# Plot for SRR26046013_DM_AOA_INH\n",
        "frag_size_distr = snap.metrics.frag_size_distr(SRR26046013_DM_AOA_INH, inplace=False)\n",
        "axes[0].plot(frag_size_distr)\n",
        "axes[0].set_title('Treated w/AOA')\n",
        "\n",
        "# Plot for SRR26046019_DM_UT\n",
        "frag_size_distr4 = snap.metrics.frag_size_distr(SRR26046019_DM_UT, inplace=False)\n",
        "axes[1].plot(frag_size_distr4)\n",
        "axes[1].set_title('Untreated')\n",
        "\n",
        "plt.tight_layout()\n",
        "plt.show()"
      ]
    },
    {
      "cell_type": "markdown",
      "id": "bfb2ab5a-2f93-46ec-be0c-0711844bff6e",
      "metadata": {
        "id": "bfb2ab5a-2f93-46ec-be0c-0711844bff6e"
      },
      "source": [
        "# Compute and plot TSSe"
      ]
    },
    {
      "cell_type": "code",
      "execution_count": null,
      "id": "50d4eb5b-0e04-4227-9899-0380f7910d01",
      "metadata": {
        "id": "50d4eb5b-0e04-4227-9899-0380f7910d01"
      },
      "outputs": [],
      "source": [
        "# Compute TSSe metrics\n",
        "# Get genome annotation\n",
        "gene_anno = snap.genome.hg38"
      ]
    },
    {
      "cell_type": "code",
      "execution_count": null,
      "id": "548c5878-5da8-430b-b83d-d6596b92209d",
      "metadata": {
        "id": "548c5878-5da8-430b-b83d-d6596b92209d"
      },
      "outputs": [],
      "source": [
        "snap.metrics.tsse(SRR26046013_DM_AOA_INH, gene_anno)"
      ]
    },
    {
      "cell_type": "code",
      "execution_count": null,
      "id": "19771878-4676-46d1-9363-5222077cd405",
      "metadata": {
        "id": "19771878-4676-46d1-9363-5222077cd405"
      },
      "outputs": [],
      "source": [
        "snap.metrics.tsse(SRR26046019_DM_UT, gene_anno)"
      ]
    },
    {
      "cell_type": "code",
      "execution_count": null,
      "id": "a8dcf546-39fe-4cd8-b12d-ec1189032d2e",
      "metadata": {
        "id": "a8dcf546-39fe-4cd8-b12d-ec1189032d2e"
      },
      "outputs": [],
      "source": [
        "# Generate TSSE plots\n",
        "TSSE1plot = snap.pl.tsse(SRR26046013_DM_AOA_INH, show = False)\n",
        "TSSE2plot = snap.pl.tsse(SRR26046019_DM_UT,show = False)\n",
        "\n",
        "# Create a subplot figure\n",
        "fig = sp.make_subplots(rows=1, cols=2, subplot_titles=('Treated w/AOA', 'Untreated'))\n",
        "\n",
        "# Add the plots to the subplot figure\n",
        "fig.add_trace(TSSE1plot.data[0], row=1, col=1)\n",
        "fig.add_trace(TSSE2plot.data[0], row=1, col=2)\n",
        "\n",
        "# Update layout and set X-axis to logarithmic scale\n",
        "fig.update_layout(height=400, width=800, title_text=\"TSS enrichment\")\n",
        "fig.update_xaxes(type=\"log\", row=1, col=1)\n",
        "fig.update_xaxes(type=\"log\", row=1, col=2)\n",
        "\n",
        "fig.show()\n",
        "fig.write_image(\"TSSE_plots.png\", height=1080, width=1920)"
      ]
    },
    {
      "cell_type": "code",
      "execution_count": null,
      "id": "27e4db60-aa9d-4e17-8f4b-0d30bd9b7b1f",
      "metadata": {
        "id": "27e4db60-aa9d-4e17-8f4b-0d30bd9b7b1f"
      },
      "outputs": [],
      "source": [
        "gene_anno"
      ]
    },
    {
      "cell_type": "markdown",
      "id": "9bd3c212-8a10-4379-986b-8757c44715c9",
      "metadata": {
        "id": "9bd3c212-8a10-4379-986b-8757c44715c9"
      },
      "source": [
        "fig.write_image(\"TSSe_plot.png\",  width=1920, height=1080)"
      ]
    },
    {
      "cell_type": "markdown",
      "id": "01cf9321-d5d4-41ff-874c-6d35b89c4d85",
      "metadata": {
        "id": "01cf9321-d5d4-41ff-874c-6d35b89c4d85"
      },
      "source": [
        "#Filter cell counts and TSSE values based on above plots"
      ]
    },
    {
      "cell_type": "code",
      "execution_count": null,
      "id": "2009add0-8ae3-487a-bac6-3f03d6ebe5b6",
      "metadata": {
        "id": "2009add0-8ae3-487a-bac6-3f03d6ebe5b6"
      },
      "outputs": [],
      "source": [
        "snap.pp.filter_cells(SRR26046013_DM_AOA_INH, min_counts=3000, min_tsse=15, max_counts=70000)"
      ]
    },
    {
      "cell_type": "code",
      "execution_count": null,
      "id": "bddd6945-3252-493e-8d9b-a44e4b72ccd4",
      "metadata": {
        "id": "bddd6945-3252-493e-8d9b-a44e4b72ccd4"
      },
      "outputs": [],
      "source": [
        "snap.pp.filter_cells(SRR26046019_DM_UT, min_counts=6000, min_tsse=13, max_counts=90000)"
      ]
    },
    {
      "cell_type": "code",
      "execution_count": null,
      "id": "182875b4-c906-4329-9489-4fbc4efb5246",
      "metadata": {
        "id": "182875b4-c906-4329-9489-4fbc4efb5246"
      },
      "outputs": [],
      "source": [
        "SRR26046013_DM_AOA_INH"
      ]
    },
    {
      "cell_type": "code",
      "execution_count": null,
      "id": "c74434e8-9509-4d46-830a-fcd020d56f96",
      "metadata": {
        "id": "c74434e8-9509-4d46-830a-fcd020d56f96"
      },
      "outputs": [],
      "source": [
        "SRR26046019_DM_UT"
      ]
    },
    {
      "cell_type": "markdown",
      "id": "608ca025-f7d6-4705-9036-eeb113d223a1",
      "metadata": {
        "id": "608ca025-f7d6-4705-9036-eeb113d223a1"
      },
      "source": [
        "Write to file\n",
        "SRR26046013_DM_AOA_INH.write_h5ad('SRR26046013_DM_AOA_INH_filt.h5ad')\n",
        "SRR26046019_DM_UT.write_h5ad('SRR26046018_DM_UT_filt.h5ad')"
      ]
    },
    {
      "cell_type": "markdown",
      "id": "8ce65559-6f39-4703-925c-ac383a213635",
      "metadata": {
        "id": "8ce65559-6f39-4703-925c-ac383a213635"
      },
      "source": [
        "# Create cell by bin matrix containing insertion counts across genome-wide 500-bp bins"
      ]
    },
    {
      "cell_type": "code",
      "execution_count": null,
      "id": "f684eddb-6f17-42ce-865e-1922f062826b",
      "metadata": {
        "id": "f684eddb-6f17-42ce-865e-1922f062826b"
      },
      "outputs": [],
      "source": [
        "snap.pp.add_tile_matrix(SRR26046013_DM_AOA_INH)"
      ]
    },
    {
      "cell_type": "code",
      "execution_count": null,
      "id": "cdde52e6-5b25-4669-9fc4-fdc37666bd90",
      "metadata": {
        "id": "cdde52e6-5b25-4669-9fc4-fdc37666bd90"
      },
      "outputs": [],
      "source": [
        "snap.pp.add_tile_matrix(SRR26046019_DM_UT)"
      ]
    },
    {
      "cell_type": "code",
      "execution_count": null,
      "id": "ba0de516-0fd3-45c2-9656-cd7fad02ae26",
      "metadata": {
        "id": "ba0de516-0fd3-45c2-9656-cd7fad02ae26"
      },
      "outputs": [],
      "source": [
        "SRR26046013_DM_AOA_INH"
      ]
    },
    {
      "cell_type": "code",
      "execution_count": null,
      "id": "a60ab7c4-7045-456d-8a94-0a1437a70979",
      "metadata": {
        "id": "a60ab7c4-7045-456d-8a94-0a1437a70979"
      },
      "outputs": [],
      "source": [
        "SRR26046019_DM_UT"
      ]
    },
    {
      "cell_type": "markdown",
      "id": "730b9eda-c947-4340-a957-adc92e88fb78",
      "metadata": {
        "id": "730b9eda-c947-4340-a957-adc92e88fb78"
      },
      "source": [
        "# Perform feature selection"
      ]
    },
    {
      "cell_type": "code",
      "execution_count": null,
      "id": "3d1591cc-9311-4a03-b067-97b8ca34d72b",
      "metadata": {
        "id": "3d1591cc-9311-4a03-b067-97b8ca34d72b"
      },
      "outputs": [],
      "source": [
        "snap.pp.select_features(SRR26046013_DM_AOA_INH, n_features = 250000)"
      ]
    },
    {
      "cell_type": "code",
      "execution_count": null,
      "id": "0a69aded-e4ef-4976-8f05-789b5d6c263f",
      "metadata": {
        "id": "0a69aded-e4ef-4976-8f05-789b5d6c263f"
      },
      "outputs": [],
      "source": [
        "snap.pp.select_features(SRR26046019_DM_UT, n_features = 250000)"
      ]
    },
    {
      "cell_type": "code",
      "execution_count": null,
      "id": "9232b309-c72a-47e0-8bd9-b4471f3255de",
      "metadata": {
        "id": "9232b309-c72a-47e0-8bd9-b4471f3255de"
      },
      "outputs": [],
      "source": [
        "SRR26046013_DM_AOA_INH"
      ]
    },
    {
      "cell_type": "code",
      "execution_count": null,
      "id": "97ae3605-d2ee-4135-88df-515a0c6e62ea",
      "metadata": {
        "id": "97ae3605-d2ee-4135-88df-515a0c6e62ea",
        "scrolled": true
      },
      "outputs": [],
      "source": [
        "#sc.write(adata=SRR26046013_DM_AOA_INH,filename=\"SRR26046013_Annotated_data_matrix_P1.h5ad\",compression='gzip')"
      ]
    },
    {
      "cell_type": "markdown",
      "id": "ff5b4e7e-cd5b-4caf-971c-e6c466aee157",
      "metadata": {
        "id": "ff5b4e7e-cd5b-4caf-971c-e6c466aee157"
      },
      "source": [
        "# Doublet removal"
      ]
    },
    {
      "cell_type": "code",
      "execution_count": null,
      "id": "997a0c44-fed5-4252-803c-e38caa70cd59",
      "metadata": {
        "id": "997a0c44-fed5-4252-803c-e38caa70cd59"
      },
      "outputs": [],
      "source": [
        "SRR26046013_DM_AOA_INH"
      ]
    },
    {
      "cell_type": "code",
      "execution_count": null,
      "id": "1146d5f9-9d0a-49b2-bce0-533dbe84adfb",
      "metadata": {
        "id": "1146d5f9-9d0a-49b2-bce0-533dbe84adfb"
      },
      "outputs": [],
      "source": [
        "#Apply a scrublet algorithm to identify potential doublets\n",
        "snap.pp.scrublet(SRR26046013_DM_AOA_INH)"
      ]
    },
    {
      "cell_type": "code",
      "execution_count": null,
      "id": "9944750f-ce03-45ea-bc44-8d4d9cf52396",
      "metadata": {
        "id": "9944750f-ce03-45ea-bc44-8d4d9cf52396"
      },
      "outputs": [],
      "source": [
        "snap.pp.scrublet(SRR26046019_DM_UT)"
      ]
    },
    {
      "cell_type": "code",
      "execution_count": null,
      "id": "e974e903-2885-418e-bfa4-1863883b94c7",
      "metadata": {
        "id": "e974e903-2885-418e-bfa4-1863883b94c7"
      },
      "outputs": [],
      "source": [
        "SRR26046013_DM_AOA_INH"
      ]
    },
    {
      "cell_type": "code",
      "execution_count": null,
      "id": "10e5e674-e70b-4ed2-b576-d916ed1fc692",
      "metadata": {
        "id": "10e5e674-e70b-4ed2-b576-d916ed1fc692"
      },
      "outputs": [],
      "source": [
        "SRR26046019_DM_UT"
      ]
    },
    {
      "cell_type": "code",
      "execution_count": null,
      "id": "7b7da120-079f-4c39-ac77-70f23af9b7ff",
      "metadata": {
        "id": "7b7da120-079f-4c39-ac77-70f23af9b7ff"
      },
      "outputs": [],
      "source": [
        "#Filter doublets\n",
        "snap.pp.filter_doublets(SRR26046013_DM_AOA_INH)"
      ]
    },
    {
      "cell_type": "code",
      "execution_count": null,
      "id": "6c90e146-0297-455c-bd3b-6ad57a3d7314",
      "metadata": {
        "id": "6c90e146-0297-455c-bd3b-6ad57a3d7314"
      },
      "outputs": [],
      "source": [
        "snap.pp.filter_doublets(SRR26046019_DM_UT)"
      ]
    },
    {
      "cell_type": "code",
      "execution_count": null,
      "id": "c728e0de-7f6c-4cc4-ab6a-d01a9172600c",
      "metadata": {
        "id": "c728e0de-7f6c-4cc4-ab6a-d01a9172600c"
      },
      "outputs": [],
      "source": [
        "SRR26046013_DM_AOA_INH"
      ]
    },
    {
      "cell_type": "code",
      "execution_count": null,
      "id": "54f2028b-4717-4178-ae40-72385cdb8027",
      "metadata": {
        "id": "54f2028b-4717-4178-ae40-72385cdb8027"
      },
      "outputs": [],
      "source": [
        "SRR26046019_DM_UT"
      ]
    },
    {
      "cell_type": "markdown",
      "id": "bfc2abee-49e3-40dc-97e0-45ade82afaa3",
      "metadata": {
        "id": "bfc2abee-49e3-40dc-97e0-45ade82afaa3"
      },
      "source": [
        "# Dimension reduction"
      ]
    },
    {
      "cell_type": "code",
      "execution_count": null,
      "id": "63bf28a2-e84b-43c9-9746-b6163995a3c2",
      "metadata": {
        "id": "63bf28a2-e84b-43c9-9746-b6163995a3c2"
      },
      "outputs": [],
      "source": [
        "snap.tl.spectral(SRR26046013_DM_AOA_INH)"
      ]
    },
    {
      "cell_type": "code",
      "execution_count": null,
      "id": "016808b1-1d69-4b50-82c1-bb8db97a2854",
      "metadata": {
        "id": "016808b1-1d69-4b50-82c1-bb8db97a2854"
      },
      "outputs": [],
      "source": [
        "snap.tl.spectral(SRR26046019_DM_UT)"
      ]
    },
    {
      "cell_type": "code",
      "execution_count": null,
      "id": "e9349aed-2f90-42ce-9b89-ac078dbe7ef8",
      "metadata": {
        "id": "e9349aed-2f90-42ce-9b89-ac078dbe7ef8"
      },
      "outputs": [],
      "source": [
        "SRR26046013_DM_AOA_INH"
      ]
    },
    {
      "cell_type": "code",
      "execution_count": null,
      "id": "da9528b1-ac3e-4311-a3bc-aceb3deef6c4",
      "metadata": {
        "id": "da9528b1-ac3e-4311-a3bc-aceb3deef6c4"
      },
      "outputs": [],
      "source": [
        "SRR26046019_DM_UT"
      ]
    },
    {
      "cell_type": "code",
      "execution_count": null,
      "id": "fa32f615-4e62-425f-9fbc-6538f5253194",
      "metadata": {
        "id": "fa32f615-4e62-425f-9fbc-6538f5253194"
      },
      "outputs": [],
      "source": [
        "snap.tl.umap(SRR26046013_DM_AOA_INH)"
      ]
    },
    {
      "cell_type": "code",
      "execution_count": null,
      "id": "8c62542d-7fb1-4b72-ba46-8511b26e7f71",
      "metadata": {
        "id": "8c62542d-7fb1-4b72-ba46-8511b26e7f71"
      },
      "outputs": [],
      "source": [
        "snap.tl.umap(SRR26046019_DM_UT)"
      ]
    },
    {
      "cell_type": "code",
      "execution_count": null,
      "id": "695b9690-a818-4a6d-a4a7-18ecd87f9adc",
      "metadata": {
        "id": "695b9690-a818-4a6d-a4a7-18ecd87f9adc"
      },
      "outputs": [],
      "source": [
        "SRR26046013_DM_AOA_INH"
      ]
    },
    {
      "cell_type": "code",
      "execution_count": null,
      "id": "f38bbce3-6471-4440-8f0f-a00d2f278d61",
      "metadata": {
        "id": "f38bbce3-6471-4440-8f0f-a00d2f278d61"
      },
      "outputs": [],
      "source": [
        "SRR26046019_DM_UT"
      ]
    },
    {
      "cell_type": "markdown",
      "id": "20ae1ff6-1cc5-4fd7-802d-b2c6c9091bb2",
      "metadata": {
        "id": "20ae1ff6-1cc5-4fd7-802d-b2c6c9091bb2"
      },
      "source": [
        "# Clustering analysis"
      ]
    },
    {
      "cell_type": "code",
      "execution_count": null,
      "id": "8b8e25a7-96a8-490d-991e-cd235d47f944",
      "metadata": {
        "id": "8b8e25a7-96a8-490d-991e-cd235d47f944"
      },
      "outputs": [],
      "source": [
        "#(1)Calculate knn graph, (2) use Leiden community detection, (3) plot UMAP (returns plotly object)"
      ]
    },
    {
      "cell_type": "code",
      "execution_count": null,
      "id": "3c33e76d-5036-4be7-8cca-14ddd50824b6",
      "metadata": {
        "id": "3c33e76d-5036-4be7-8cca-14ddd50824b6"
      },
      "outputs": [],
      "source": [
        "snap.pp.knn(SRR26046013_DM_AOA_INH)\n",
        "snap.tl.leiden(SRR26046013_DM_AOA_INH)\n",
        "SRR26046013_DM_AOA_INH_UMAP = snap.pl.umap(SRR26046013_DM_AOA_INH, color = 'leiden', interactive = False, show = False)"
      ]
    },
    {
      "cell_type": "code",
      "execution_count": null,
      "id": "5df7e3a4-fd83-45c9-9572-d59b51cc34be",
      "metadata": {
        "id": "5df7e3a4-fd83-45c9-9572-d59b51cc34be"
      },
      "outputs": [],
      "source": [
        "snap.pp.knn(SRR26046019_DM_UT)\n",
        "snap.tl.leiden(SRR26046019_DM_UT)\n",
        "SRR26046019_DM_UT_UMAP = snap.pl.umap(SRR26046019_DM_UT, color='leiden', interactive=False, show=False)"
      ]
    },
    {
      "cell_type": "code",
      "execution_count": null,
      "id": "b6a5eaab-a4dd-4fb9-9f68-d7df6b21473e",
      "metadata": {
        "id": "b6a5eaab-a4dd-4fb9-9f68-d7df6b21473e"
      },
      "outputs": [],
      "source": [
        "# Create a subplot figure\n",
        "fig = sp.make_subplots(rows=1, cols=2, subplot_titles=('Treated w/AOA', 'Untreated'))\n",
        "\n",
        "# Add all traces from each UMAP plot to the subplot figure\n",
        "for trace in SRR26046013_DM_AOA_INH_UMAP.data:\n",
        " trace.showlegend = False  # Hide legend for individual traces\n",
        " fig.add_trace(trace, row=1, col=1)\n",
        "\n",
        "for trace in SRR26046019_DM_UT_UMAP.data:\n",
        " fig.add_trace(trace, row=1, col=2)  # Show legend only for the last subplot\n",
        "\n",
        "# Update layout with legend title and position\n",
        "fig.update_layout(height=600, width=1200, title_text=\"UMAP Clustering\", legend_title_text='Clusters', legend=dict(x=1.05, y=1, traceorder='normal', font=dict(family='sans-serif', size=12, color='black'), bordercolor='Black', borderwidth=1))\n",
        "\n",
        "fig.show()\n",
        "fig.write_image(\"Cluster_plots.png\", height=1080, width=1920)"
      ]
    },
    {
      "cell_type": "markdown",
      "id": "055d5061-6c75-4f68-887f-010144e55124",
      "metadata": {
        "id": "055d5061-6c75-4f68-887f-010144e55124"
      },
      "source": [
        "Write structures to file\n",
        "SRR26046013_DM_AOA_INH.write_h5ad(\"SRR26046013_PI.h5ad\")"
      ]
    },
    {
      "cell_type": "markdown",
      "id": "d303caba-4225-4e5b-a56d-de61d6e405d8",
      "metadata": {
        "id": "d303caba-4225-4e5b-a56d-de61d6e405d8"
      },
      "source": [
        "SRR26046019_DM_UT.write_h5ad(\"SRR26046019_PI.h5ad\")"
      ]
    },
    {
      "cell_type": "markdown",
      "id": "d6405283-9006-46f5-be16-93fb0598c96c",
      "metadata": {
        "id": "d6405283-9006-46f5-be16-93fb0598c96c"
      },
      "source": [
        "Create a cell-by-gene activity matrix"
      ]
    },
    {
      "cell_type": "code",
      "execution_count": null,
      "id": "d8408450-f2eb-455d-9dc4-359b71604bc6",
      "metadata": {
        "id": "d8408450-f2eb-455d-9dc4-359b71604bc6"
      },
      "outputs": [],
      "source": [
        "#sc.write(SRR26046013_DM_AOA_INH,\"/SRR26046013_DM_AOA_INH.h5ad\")"
      ]
    },
    {
      "cell_type": "code",
      "execution_count": null,
      "id": "dcde597d-f810-4b9e-9780-7534cca6dcaa",
      "metadata": {
        "id": "dcde597d-f810-4b9e-9780-7534cca6dcaa"
      },
      "outputs": [],
      "source": [
        "SRR26046019_DM_UT"
      ]
    },
    {
      "cell_type": "code",
      "execution_count": null,
      "id": "73d3c212-d8ca-46ae-89b0-64f5c403f9c8",
      "metadata": {
        "id": "73d3c212-d8ca-46ae-89b0-64f5c403f9c8"
      },
      "outputs": [],
      "source": [
        "SRR26046013_DM_AOA_INH_GM = snap.pp.make_gene_matrix(SRR26046013_DM_AOA_INH, snap.genome.hg38)"
      ]
    },
    {
      "cell_type": "code",
      "execution_count": null,
      "id": "d1c63501-fae3-4741-820d-9840b975013b",
      "metadata": {
        "id": "d1c63501-fae3-4741-820d-9840b975013b"
      },
      "outputs": [],
      "source": [
        "SRR26046019_DM_UT_GM = snap.pp.make_gene_matrix(SRR26046019_DM_UT, snap.genome.hg38)"
      ]
    },
    {
      "cell_type": "code",
      "execution_count": null,
      "id": "812e1a2d-a582-429a-8d58-7b631269589e",
      "metadata": {
        "id": "812e1a2d-a582-429a-8d58-7b631269589e"
      },
      "outputs": [],
      "source": [
        "SRR26046013_DM_AOA_INH_GM"
      ]
    },
    {
      "cell_type": "code",
      "execution_count": null,
      "id": "1dc071ae-6690-4011-868c-1c9fee90ef00",
      "metadata": {
        "id": "1dc071ae-6690-4011-868c-1c9fee90ef00"
      },
      "outputs": [],
      "source": [
        "SRR26046019_DM_UT_GM"
      ]
    },
    {
      "cell_type": "code",
      "execution_count": null,
      "id": "7d5f3f23-fc7f-4dc9-9e9a-f89d7a2dbda0",
      "metadata": {
        "id": "7d5f3f23-fc7f-4dc9-9e9a-f89d7a2dbda0"
      },
      "outputs": [],
      "source": [
        "SRR26046013_DM_AOA_INH"
      ]
    },
    {
      "cell_type": "code",
      "execution_count": null,
      "id": "97dfeb04-fa95-443c-842c-c3de5af23363",
      "metadata": {
        "id": "97dfeb04-fa95-443c-842c-c3de5af23363"
      },
      "outputs": [],
      "source": [
        "SRR26046013_DM_AOA_INH_GM"
      ]
    },
    {
      "cell_type": "code",
      "execution_count": null,
      "id": "fbe3e22b-960d-4bf1-9046-98c851b08987",
      "metadata": {
        "id": "fbe3e22b-960d-4bf1-9046-98c851b08987"
      },
      "outputs": [],
      "source": [
        "SRR26046019_DM_UT_GM"
      ]
    },
    {
      "cell_type": "markdown",
      "source": [
        "# Imputation with scanpy and MAGIC"
      ],
      "metadata": {
        "id": "9fp-ZWO7AueM"
      },
      "id": "9fp-ZWO7AueM"
    },
    {
      "cell_type": "code",
      "source": [
        "%%time\n",
        "sc.pp.filter_genes(SRR26046013_DM_AOA_INH_GM, min_cells= 5)\n",
        "sc.pp.normalize_total(SRR26046013_DM_AOA_INH_GM)\n",
        "sc.pp.log1p(SRR26046013_DM_AOA_INH_GM)\n",
        "\n"
      ],
      "metadata": {
        "id": "nV6sPQwpA0CS"
      },
      "id": "nV6sPQwpA0CS",
      "execution_count": null,
      "outputs": []
    },
    {
      "cell_type": "code",
      "source": [
        "sc.external.pp.magic(SRR26046013_DM_AOA_INH_GM, solver=\"approximate\")"
      ],
      "metadata": {
        "id": "eqrY_cb-CIwB"
      },
      "id": "eqrY_cb-CIwB",
      "execution_count": null,
      "outputs": []
    },
    {
      "cell_type": "code",
      "source": [
        "# Copy over UMAP embedding\n",
        "SRR26046013_DM_AOA_INH_GM.obsm[\"X_umap\"] = SRR26046013_DM_AOA_INH.obsm[\"X_umap\"]"
      ],
      "metadata": {
        "id": "YbteW6XWCJzS"
      },
      "id": "YbteW6XWCJzS",
      "execution_count": null,
      "outputs": []
    },
    {
      "cell_type": "code",
      "source": [
        "sc.pp.filter_genes(SRR26046019_DM_UT_GM, min_cells= 5)\n",
        "sc.pp.normalize_total(SRR26046019_DM_UT_GM)\n",
        "sc.pp.log1p(SRR26046019_DM_UT_GM)"
      ],
      "metadata": {
        "id": "bHRuycBVBWkz"
      },
      "id": "bHRuycBVBWkz",
      "execution_count": null,
      "outputs": []
    },
    {
      "cell_type": "code",
      "source": [
        "sc.external.pp.magic(SRR26046019_DM_UT_GM, solver=\"approximate\")"
      ],
      "metadata": {
        "id": "pRug_ejNCTuw"
      },
      "id": "pRug_ejNCTuw",
      "execution_count": null,
      "outputs": []
    },
    {
      "cell_type": "code",
      "source": [
        "# Copy over UMAP embedding\n",
        "SRR26046019_DM_UT_GM.obsm[\"X_umap\"] = SRR26046019_DM_UT.obsm[\"X_umap\"]"
      ],
      "metadata": {
        "id": "KFkrRZ2lCUbm"
      },
      "id": "KFkrRZ2lCUbm",
      "execution_count": null,
      "outputs": []
    },
    {
      "cell_type": "code",
      "source": [
        "SRR26046013_DM_AOA_INH_GM"
      ],
      "metadata": {
        "id": "fm6KTGXUDmMB"
      },
      "id": "fm6KTGXUDmMB",
      "execution_count": null,
      "outputs": []
    },
    {
      "cell_type": "code",
      "source": [
        "SRR26046019_DM_UT_GM"
      ],
      "metadata": {
        "id": "HUVDQBw8Dmbo"
      },
      "id": "HUVDQBw8Dmbo",
      "execution_count": null,
      "outputs": []
    },
    {
      "cell_type": "markdown",
      "source": [
        "# Preprocess according to scanpy flow"
      ],
      "metadata": {
        "id": "H9UNeOM7DRxH"
      },
      "id": "H9UNeOM7DRxH"
    },
    {
      "cell_type": "code",
      "source": [
        "sc.pp.scale(SRR26046013_DM_AOA_INH_GM, max_value = 10)\n",
        "sc.pp.pca(SRR26046013_DM_AOA_INH_GM, svd_solver = 'arpack')\n",
        "sc.pp.neighbors(SRR26046013_DM_AOA_INH_GM, n_neighbors=10, n_pcs=40)\n",
        "sc.tl.umap(SRR26046013_DM_AOA_INH_GM)\n",
        "sc.tl.leiden(SRR26046013_DM_AOA_INH_GM)"
      ],
      "metadata": {
        "id": "Q4q8Ura_DQUN"
      },
      "id": "Q4q8Ura_DQUN",
      "execution_count": null,
      "outputs": []
    },
    {
      "cell_type": "code",
      "source": [
        "%%time\n",
        "sc.pp.scale(SRR26046019_DM_UT_GM, max_value = 10)\n",
        "sc.pp.pca(SRR26046019_DM_UT_GM, svd_solver = 'arpack')\n",
        "sc.pp.neighbors(SRR26046019_DM_UT_GM, n_neighbors=10, n_pcs=40)\n",
        "sc.tl.umap(SRR26046019_DM_UT_GM)"
      ],
      "metadata": {
        "id": "Ehy94QWADy1k"
      },
      "id": "Ehy94QWADy1k",
      "execution_count": null,
      "outputs": []
    },
    {
      "cell_type": "code",
      "source": [
        "sc.tl.leiden(SRR26046019_DM_UT_GM)"
      ],
      "metadata": {
        "id": "2LpVKHLrEoXn"
      },
      "id": "2LpVKHLrEoXn",
      "execution_count": null,
      "outputs": []
    },
    {
      "cell_type": "code",
      "source": [
        "SRR26046013_DM_AOA_INH_GM"
      ],
      "metadata": {
        "id": "Mt8JQVgYE1nc"
      },
      "id": "Mt8JQVgYE1nc",
      "execution_count": null,
      "outputs": []
    },
    {
      "cell_type": "code",
      "source": [
        "SRR26046019_DM_UT_GM"
      ],
      "metadata": {
        "id": "GPFhRmS6E12E"
      },
      "id": "GPFhRmS6E12E",
      "execution_count": null,
      "outputs": []
    },
    {
      "cell_type": "markdown",
      "source": [
        "# Identify marker genes"
      ],
      "metadata": {
        "id": "Eiw1BmLPFFo3"
      },
      "id": "Eiw1BmLPFFo3"
    },
    {
      "cell_type": "code",
      "source": [
        "SRR26046013_DM_AOA_INH_GM_MG = sc.tl.rank_genes_groups(SRR26046013_DM_AOA_INH_GM, 'leiden', method='wilcoxon', copy = True)\n",
        "SRR26046018_DM_UT_GM_MG = sc.tl.rank_genes_groups(SRR26046019_DM_UT_GM, 'leiden', method='wilcoxon', copy = True)"
      ],
      "metadata": {
        "id": "2O5k7x5CFEdZ"
      },
      "id": "2O5k7x5CFEdZ",
      "execution_count": null,
      "outputs": []
    },
    {
      "cell_type": "code",
      "source": [
        "sc.pl.pca_overview(SRR26046013_DM_AOA_INH_GM, color ='leiden')"
      ],
      "metadata": {
        "id": "A_y2GwPRGUB-"
      },
      "id": "A_y2GwPRGUB-",
      "execution_count": null,
      "outputs": []
    },
    {
      "cell_type": "code",
      "source": [
        "sc.pl.pca_overview(SRR26046019_DM_UT_GM, color ='leiden')"
      ],
      "metadata": {
        "id": "lKQ7aU37GVcw"
      },
      "id": "lKQ7aU37GVcw",
      "execution_count": null,
      "outputs": []
    },
    {
      "source": [
        "#Obtain ranked genes for all clustes\n",
        "ranked_genes_dict = SRR26046013_DM_AOA_INH_GM_MG.uns['rank_genes_groups']\n",
        "\n",
        "# Get all cluster IDs\n",
        "cluster_ids = ranked_genes_dict['names'].dtype.names\n",
        "\n",
        "# Iterate through each cluster and print the top 10 genes\n",
        "for cluster_id in cluster_ids:\n",
        "    # Get ranked genes for the current cluster\n",
        "    cluster_genes = ranked_genes_dict['names'][cluster_id]\n",
        "\n",
        "    # Print the top 10 genes for the current cluster\n",
        "    print(f\"Top 10 genes for cluster {cluster_id}:\")\n",
        "    print(cluster_genes[:10])\n",
        "    print(\"\\n\")"
      ],
      "cell_type": "code",
      "metadata": {
        "id": "qtf056I9I0M_"
      },
      "id": "qtf056I9I0M_",
      "execution_count": null,
      "outputs": []
    },
    {
      "cell_type": "markdown",
      "id": "6caba517-b066-4eaa-9ac6-dfcf21d8c5b7",
      "metadata": {
        "id": "6caba517-b066-4eaa-9ac6-dfcf21d8c5b7"
      },
      "source": [
        "# Concatenate Data matrices"
      ]
    },
    {
      "cell_type": "code",
      "execution_count": null,
      "id": "f223c20d-8041-4986-b965-22ccf81e9796",
      "metadata": {
        "id": "f223c20d-8041-4986-b965-22ccf81e9796"
      },
      "outputs": [],
      "source": [
        "#Use inner join\n",
        "adata_concat = ad.concat([SRR26046013_DM_AOA_INH_GM, SRR26046019_DM_UT_GM], label = 'Treatment', keys = ['Treated w/AOA', 'Untreated'], join='inner')"
      ]
    },
    {
      "cell_type": "markdown",
      "source": [
        "# Remove batch effects"
      ],
      "metadata": {
        "id": "2dXDyGVx9VCd"
      },
      "id": "2dXDyGVx9VCd"
    },
    {
      "cell_type": "code",
      "source": [
        "import scanpy.external as sce"
      ],
      "metadata": {
        "id": "rMEAwPfD9h27"
      },
      "id": "rMEAwPfD9h27",
      "execution_count": null,
      "outputs": []
    },
    {
      "cell_type": "code",
      "source": [
        "pip install harmonypy -q"
      ],
      "metadata": {
        "id": "Mp0YYzqF-6yN"
      },
      "id": "Mp0YYzqF-6yN",
      "execution_count": null,
      "outputs": []
    },
    {
      "cell_type": "code",
      "source": [
        "import harmonypy as hm"
      ],
      "metadata": {
        "id": "b6AYtMkK_YPL"
      },
      "id": "b6AYtMkK_YPL",
      "execution_count": null,
      "outputs": []
    },
    {
      "cell_type": "code",
      "source": [
        "import seaborn as sns"
      ],
      "metadata": {
        "id": "BBWtxu3NSeBa"
      },
      "id": "BBWtxu3NSeBa",
      "execution_count": null,
      "outputs": []
    },
    {
      "cell_type": "code",
      "source": [
        "sce.pp.harmony_integrate(adata_concat, 'Treatment')"
      ],
      "metadata": {
        "id": "s9ZLTIjf-l-N"
      },
      "id": "s9ZLTIjf-l-N",
      "execution_count": null,
      "outputs": []
    },
    {
      "cell_type": "code",
      "source": [
        "adata_concat"
      ],
      "metadata": {
        "id": "Lzd1IBH4RPBD"
      },
      "id": "Lzd1IBH4RPBD",
      "execution_count": null,
      "outputs": []
    },
    {
      "cell_type": "markdown",
      "source": [
        "Plot the 'obsm' before and after batch effect removal (PC1 vs PC2)"
      ],
      "metadata": {
        "id": "sUuZcbY5SSwu"
      },
      "id": "sUuZcbY5SSwu"
    },
    {
      "cell_type": "code",
      "source": [
        "#Extract data sets\n",
        "x_before = adata_concat.obsm['X_pca'][:, 0]\n",
        "y_before = adata_concat.obsm['X_pca'][:, 1]\n",
        "\n",
        "x_after = adata_concat.obsm['X_pca_harmony'][:, 0]\n",
        "y_after = adata_concat.obsm['X_pca_harmony'][:, 1]\n",
        "batch_labels = adata_concat.obs['Treatment']\n"
      ],
      "metadata": {
        "id": "-zjMUqgNRKT9"
      },
      "id": "-zjMUqgNRKT9",
      "execution_count": null,
      "outputs": []
    },
    {
      "cell_type": "code",
      "source": [
        "#Define figure\n",
        "plt.figure(figsize=(12, 6))\n",
        "plt.subplot(1, 2, 1)\n",
        "#Plot before batch effect removal\n",
        "\n",
        "sns.scatterplot(x=x_before, y=y_before, hue=batch_labels)\n",
        "plt.title('PCA Before Batch Effect Removal')\n",
        "plt.xlabel('PC1')\n",
        "plt.ylabel('PC2')\n",
        "\n",
        "#Plot PCA after batch effect removal\n",
        "\n",
        "plt.subplot(1, 2, 2)\n",
        "sns.scatterplot(x=x_after, y=y_after, hue=batch_labels)\n",
        "plt.title('PCA After Batch Effect Removal')\n",
        "plt.xlabel('PC1')\n",
        "plt.ylabel('PC2')\n",
        "\n",
        "plt.tight_layout()\n",
        "plt.show()"
      ],
      "metadata": {
        "id": "hgtc1ntUSEnY"
      },
      "id": "hgtc1ntUSEnY",
      "execution_count": null,
      "outputs": []
    },
    {
      "cell_type": "code",
      "source": [
        "ad.AnnData.write_h5ad(adata_concat, 'adata_concat.h5ad')"
      ],
      "metadata": {
        "id": "pQfqjJfpTSnv"
      },
      "id": "pQfqjJfpTSnv",
      "execution_count": null,
      "outputs": []
    },
    {
      "source": [
        "from google.colab import drive\n",
        "drive.mount('/content/drive')"
      ],
      "cell_type": "code",
      "metadata": {
        "id": "HF0NFq-UTzOp"
      },
      "id": "HF0NFq-UTzOp",
      "execution_count": null,
      "outputs": []
    },
    {
      "cell_type": "code",
      "source": [
        "from shutil import copyfile"
      ],
      "metadata": {
        "id": "KjyfYBv6VmZv"
      },
      "id": "KjyfYBv6VmZv",
      "execution_count": null,
      "outputs": []
    },
    {
      "cell_type": "code",
      "source": [
        "copyfile('adata_concat.h5ad', '/content/drive/MyDrive/Colab Notebooks/adata_concat.h5ad')"
      ],
      "metadata": {
        "id": "Ok-ZttTdT6kM"
      },
      "id": "Ok-ZttTdT6kM",
      "execution_count": null,
      "outputs": []
    },
    {
      "cell_type": "code",
      "source": [
        "adata_concat"
      ],
      "metadata": {
        "id": "1cXRT2CZWS8z"
      },
      "id": "1cXRT2CZWS8z",
      "execution_count": null,
      "outputs": []
    },
    {
      "source": [
        "!pip install pydeseq2  # Install PyDESeq2\n",
        "!pip install pandas #Install Pandas"
      ],
      "cell_type": "code",
      "metadata": {
        "id": "8-JpAgQ0kDwJ"
      },
      "id": "8-JpAgQ0kDwJ",
      "execution_count": null,
      "outputs": []
    },
    {
      "source": [
        "import scanpy as sc\n",
        "import snapatac2 as snap\n",
        "\n",
        "# Create cell-by-gene matrix (replace with cell-by-bin if appropriate)\n",
        "gene_matrix_1 = snap.pp.make_gene_matrix(your_adata_object_1, snap.genome.hg38)\n",
        "gene_matrix_2 = snap.pp.make_gene_matrix(your_adata_object_2, snap.genome.hg38)\n",
        "\n",
        "# Extract count matrices and convert to pandas DataFrames\n",
        "count_matrix_1 = gene_matrix_1.X.toarray()  # Assuming count data is in .X\n",
        "count_matrix_2 = gene_matrix_2.X.toarray()\n",
        "count_df_1 = pd.DataFrame(count_matrix_1, index=gene_matrix_1.obs_names, columns=gene_matrix_1.var_names)\n",
        "count_df_2 = pd.DataFrame(count_matrix_2, index=gene_matrix_2.obs_names, columns=gene_matrix_2.var_names)"
      ],
      "cell_type": "code",
      "metadata": {
        "id": "gdejzyXrkExD"
      },
      "id": "gdejzyXrkExD",
      "execution_count": null,
      "outputs": []
    },
    {
      "source": [
        "metadata_df = pd.DataFrame(index=count_df.index)\n",
        "metadata_df['treatment'] = ['condition1'] * len(your_adata_object_1.obs_names) + ['condition2'] * len(your_adata_object_2.obs_names)  # Replace with your conditions\n",
        "# ... add other metadata variables as needed"
      ],
      "cell_type": "code",
      "metadata": {
        "id": "w0pH-nd1kGpt"
      },
      "id": "w0pH-nd1kGpt",
      "execution_count": null,
      "outputs": []
    },
    {
      "source": [
        "import pydeseq2\n",
        "\n",
        "# Combine the two scATAC-seq count matrices\n",
        "count_df = pd.concat([count_df_1, count_df_2], axis=0)\n",
        "\n",
        "# Construct a DESeqDataSet object\n",
        "dds = pydeseq2.DESeqDataSet(count_df, metadata_df, design_formula='~ treatment')  # Adjust design formula\n",
        "\n",
        "# Perform differential accessibility analysis\n",
        "dds.run_deseq()\n",
        "dds.get_results()"
      ],
      "cell_type": "code",
      "metadata": {
        "id": "gLpsdJc-kH8L"
      },
      "id": "gLpsdJc-kH8L",
      "execution_count": null,
      "outputs": []
    }
  ],
  "metadata": {
    "colab": {
      "machine_shape": "hm",
      "provenance": [],
      "toc_visible": true,
      "include_colab_link": true
    },
    "kernelspec": {
      "display_name": "Python 3",
      "name": "python3"
    },
    "language_info": {
      "name": "python"
    }
  },
  "nbformat": 4,
  "nbformat_minor": 5
}