{
  "cells": [
    {
      "cell_type": "markdown",
      "metadata": {
        "id": "view-in-github",
        "colab_type": "text"
      },
      "source": [
        "<a href=\"https://colab.research.google.com/github/Droslj/scATAC-seq-complete-/blob/Google-colab/scATAC_seq_(1).ipynb\" target=\"_parent\"><img src=\"https://colab.research.google.com/assets/colab-badge.svg\" alt=\"Open In Colab\"/></a>"
      ]
    },
    {
      "cell_type": "markdown",
      "id": "f268332b-53de-4af8-9533-e48c041292f3",
      "metadata": {
        "id": "f268332b-53de-4af8-9533-e48c041292f3"
      },
      "source": [
        "scATAC seq, based on scATAC seq processing Galaxy tutorials (scATAC preprocessing (2), Standard scATAC seq processing pipeline (1) )\n",
        "AD Objects created in Galaxy using customized Galaxy WF with Snapatac2 and imported\n",
        "(1) https://usegalaxy.eu/training-material/topics/single-cell/tutorials/scatac-preprocessing-tenx/tutorial.html#mapping-reads-to-a-reference-genome, (2) https://usegalaxy.eu/training-material/topics/single-cell/tutorials/scatac-standard-processing-snapatac2/tutorial.html\n",
        "Data taken from the following NCBI study:\n",
        "Metabolic adaptation pilots the differentiation of human hematopoietic cells (https://www.ncbi.nlm.nih.gov/bioproject/PRJNA1015713)\n",
        "Import Anndata objects for two biological replicates, SRR26046013 (cells treated with AOA inhibitor) and SRR26046019 (untreated cells)\n",
        "Perform following steps:\n",
        "(1) Import matrices\n",
        "(2) Compute fragment size distribution\n",
        "(3) Compute TSS enrichment\n",
        "(4) Filter cell counts based on TSSe\n",
        "(5) Create cell by bin matrix based on 500 bp wide bins accross the whole genome\n",
        "(6) Perform feature selection\n",
        "(7) Perform Doublet removal\n",
        "(8) Perform Dim reduction (spectral)\n",
        "(9) Perform Clustering (neighborhood, UMAP, leiden)\n",
        "(10) Create a cell by gene matrix\n",
        "(11) Concatenate matrices using Inner join\n",
        "(12) Remove batch effects"
      ]
    },
    {
      "cell_type": "code",
      "source": [
        "!pip install -q condacolab"
      ],
      "metadata": {
        "id": "HYs7RhoU68Ks"
      },
      "id": "HYs7RhoU68Ks",
      "execution_count": 1,
      "outputs": []
    },
    {
      "cell_type": "code",
      "source": [
        "import condacolab"
      ],
      "metadata": {
        "id": "QBQXEKjk7O-V"
      },
      "id": "QBQXEKjk7O-V",
      "execution_count": 2,
      "outputs": []
    },
    {
      "cell_type": "code",
      "source": [
        "condacolab.install()"
      ],
      "metadata": {
        "colab": {
          "base_uri": "https://localhost:8080/"
        },
        "id": "YdiPg8vS7ZKq",
        "outputId": "5f819a7a-1ff6-437c-caad-a3930a0be6f9"
      },
      "id": "YdiPg8vS7ZKq",
      "execution_count": 3,
      "outputs": [
        {
          "output_type": "stream",
          "name": "stdout",
          "text": [
            "✨🍰✨ Everything looks OK!\n"
          ]
        }
      ]
    },
    {
      "cell_type": "code",
      "source": [
        "!conda --version"
      ],
      "metadata": {
        "colab": {
          "base_uri": "https://localhost:8080/"
        },
        "id": "VITjp1M56yu_",
        "outputId": "7cd23db6-89b8-4466-b919-90afe0efa12f"
      },
      "id": "VITjp1M56yu_",
      "execution_count": 4,
      "outputs": [
        {
          "output_type": "stream",
          "name": "stdout",
          "text": [
            "conda 23.11.0\n"
          ]
        }
      ]
    },
    {
      "cell_type": "code",
      "source": [
        "!which conda"
      ],
      "metadata": {
        "colab": {
          "base_uri": "https://localhost:8080/"
        },
        "id": "S-oCMIm-7p9i",
        "outputId": "fc04aaaf-b38f-41de-e644-3415dcff2335"
      },
      "id": "S-oCMIm-7p9i",
      "execution_count": 5,
      "outputs": [
        {
          "output_type": "stream",
          "name": "stdout",
          "text": [
            "/usr/local/bin/conda\n"
          ]
        }
      ]
    },
    {
      "cell_type": "code",
      "source": [
        "!conda config --add channels conda-forge"
      ],
      "metadata": {
        "colab": {
          "base_uri": "https://localhost:8080/"
        },
        "id": "D6zjhdZm-BJp",
        "outputId": "2e0fba00-5efb-49b2-e183-d7ede93b8d5c"
      },
      "id": "D6zjhdZm-BJp",
      "execution_count": 6,
      "outputs": [
        {
          "output_type": "stream",
          "name": "stdout",
          "text": [
            "Warning: 'conda-forge' already in 'channels' list, moving to the top\n"
          ]
        }
      ]
    },
    {
      "cell_type": "code",
      "source": [
        "!conda config --add channels bioconda"
      ],
      "metadata": {
        "colab": {
          "base_uri": "https://localhost:8080/"
        },
        "id": "JpJESCcU-fO_",
        "outputId": "93f6e9c5-a139-4e22-de52-4080bf01e46c"
      },
      "id": "JpJESCcU-fO_",
      "execution_count": 7,
      "outputs": [
        {
          "output_type": "stream",
          "name": "stdout",
          "text": [
            "Warning: 'bioconda' already in 'channels' list, moving to the top\n"
          ]
        }
      ]
    },
    {
      "source": [
        "!conda install snapatac2 -q"
      ],
      "cell_type": "code",
      "metadata": {
        "colab": {
          "base_uri": "https://localhost:8080/"
        },
        "id": "gZdiRWwb1rZJ",
        "outputId": "4a550564-bbee-42ae-9c07-55d539596534"
      },
      "id": "gZdiRWwb1rZJ",
      "execution_count": 8,
      "outputs": [
        {
          "output_type": "stream",
          "name": "stdout",
          "text": [
            "Channels:\n",
            " - bioconda\n",
            " - conda-forge\n",
            "Platform: linux-64\n",
            "Collecting package metadata (repodata.json): ...working... done\n",
            "Solving environment: ...working... done\n",
            "\n",
            "# All requested packages already installed.\n",
            "\n"
          ]
        }
      ]
    },
    {
      "cell_type": "code",
      "source": [
        "!pip show snapatac2"
      ],
      "metadata": {
        "colab": {
          "base_uri": "https://localhost:8080/"
        },
        "id": "jsCJ2get4W8l",
        "outputId": "16bc1c40-ae27-4190-8a22-65d858ff3f43"
      },
      "id": "jsCJ2get4W8l",
      "execution_count": 9,
      "outputs": [
        {
          "output_type": "stream",
          "name": "stdout",
          "text": [
            "Name: snapatac2\n",
            "Version: 2.7.1\n",
            "Summary: SnapATAC2: Single-cell epigenomics analysis pipeline\n",
            "Home-page: https://github.com/\n",
            "Author: Kai Zhang <kai@kzhang.org>\n",
            "Author-email: Kai Zhang <zhangkai33@westlake.edu.cn>\n",
            "License: MIT\n",
            "Location: /usr/local/lib/python3.10/site-packages\n",
            "Requires: anndata, igraph, kaleido, macs3, multiprocess, natsort, numpy, pandas, plotly, polars, pooch, pyarrow, pyfaidx, rustworkx, scikit-learn, scipy, tqdm, typeguard\n",
            "Required-by: \n"
          ]
        }
      ]
    },
    {
      "cell_type": "code",
      "source": [
        "import snapatac2 as snap"
      ],
      "metadata": {
        "id": "z2G4FDYqgSmQ"
      },
      "id": "z2G4FDYqgSmQ",
      "execution_count": 10,
      "outputs": []
    },
    {
      "cell_type": "code",
      "source": [
        "!pip install umap-learn\n",
        "\n"
      ],
      "metadata": {
        "colab": {
          "base_uri": "https://localhost:8080/"
        },
        "id": "VZLaiDEzlB1m",
        "outputId": "6e810fb1-d3e5-489b-c5e9-0f28737dd33d"
      },
      "id": "VZLaiDEzlB1m",
      "execution_count": 11,
      "outputs": [
        {
          "output_type": "stream",
          "name": "stdout",
          "text": [
            "Requirement already satisfied: umap-learn in /usr/local/lib/python3.10/site-packages (0.5.7)\n",
            "Requirement already satisfied: numpy>=1.17 in /usr/local/lib/python3.10/site-packages (from umap-learn) (2.0.2)\n",
            "Requirement already satisfied: scipy>=1.3.1 in /usr/local/lib/python3.10/site-packages (from umap-learn) (1.14.1)\n",
            "Requirement already satisfied: scikit-learn>=0.22 in /usr/local/lib/python3.10/site-packages (from umap-learn) (1.6.0)\n",
            "Requirement already satisfied: numba>=0.51.2 in /usr/local/lib/python3.10/site-packages (from umap-learn) (0.60.0)\n",
            "Requirement already satisfied: pynndescent>=0.5 in /usr/local/lib/python3.10/site-packages (from umap-learn) (0.5.13)\n",
            "Requirement already satisfied: tqdm in /usr/local/lib/python3.10/site-packages (from umap-learn) (4.66.1)\n",
            "Requirement already satisfied: llvmlite<0.44,>=0.43.0dev0 in /usr/local/lib/python3.10/site-packages (from numba>=0.51.2->umap-learn) (0.43.0)\n",
            "Requirement already satisfied: joblib>=0.11 in /usr/local/lib/python3.10/site-packages (from pynndescent>=0.5->umap-learn) (1.4.2)\n",
            "Requirement already satisfied: threadpoolctl>=3.1.0 in /usr/local/lib/python3.10/site-packages (from scikit-learn>=0.22->umap-learn) (3.5.0)\n"
          ]
        }
      ]
    },
    {
      "cell_type": "code",
      "source": [
        "import umap.umap_ as umap\n"
      ],
      "metadata": {
        "id": "BCEdegOSgRBg"
      },
      "id": "BCEdegOSgRBg",
      "execution_count": 12,
      "outputs": []
    },
    {
      "cell_type": "code",
      "source": [
        "from umap import UMAP\n",
        "\n"
      ],
      "metadata": {
        "id": "FVmqXk-vlFrB"
      },
      "id": "FVmqXk-vlFrB",
      "execution_count": 13,
      "outputs": []
    },
    {
      "cell_type": "code",
      "source": [
        "!pip install scanpy -q"
      ],
      "metadata": {
        "id": "CM_xhHZxUcF5"
      },
      "id": "CM_xhHZxUcF5",
      "execution_count": 14,
      "outputs": []
    },
    {
      "cell_type": "code",
      "source": [
        "import scanpy as sc"
      ],
      "metadata": {
        "id": "NYl1nQOhUoj2"
      },
      "id": "NYl1nQOhUoj2",
      "execution_count": 15,
      "outputs": []
    },
    {
      "cell_type": "code",
      "source": [
        "pip show scanpy"
      ],
      "metadata": {
        "colab": {
          "base_uri": "https://localhost:8080/"
        },
        "id": "rkvTEjpw_csS",
        "outputId": "8127ba38-a99e-478c-cdf3-61f06a2bdca8"
      },
      "id": "rkvTEjpw_csS",
      "execution_count": 16,
      "outputs": [
        {
          "output_type": "stream",
          "name": "stdout",
          "text": [
            "Name: scanpy\n",
            "Version: 1.10.4\n",
            "Summary: Single-Cell Analysis in Python.\n",
            "Home-page: \n",
            "Author: Alex Wolf, Philipp Angerer, Fidel Ramirez, Isaac Virshup, Sergei Rybakov, Gokcen Eraslan, Tom White, Malte Luecken, Davide Cittaro, Tobias Callies, Marius Lange, Andrés R. Muñoz-Rojas\n",
            "Author-email: \n",
            "License: \n",
            "Location: /usr/local/lib/python3.10/site-packages\n",
            "Requires: anndata, h5py, joblib, legacy-api-wrap, matplotlib, natsort, networkx, numba, numpy, packaging, pandas, patsy, pynndescent, scikit-learn, scipy, seaborn, session-info, statsmodels, tqdm, umap-learn\n",
            "Required-by: \n"
          ]
        }
      ]
    },
    {
      "cell_type": "code",
      "source": [
        "!pip install magic-impute -q"
      ],
      "metadata": {
        "colab": {
          "base_uri": "https://localhost:8080/"
        },
        "id": "wHb_wo4QB7C_",
        "outputId": "06e7edfe-57d2-455b-f047-7cf3d932fe05"
      },
      "id": "wHb_wo4QB7C_",
      "execution_count": 87,
      "outputs": [
        {
          "output_type": "stream",
          "name": "stdout",
          "text": [
            "\u001b[?25l   \u001b[90m━━━━━━━━━━━━━━━━━━━━━━━━━━━━━━━━━━━━━━━━\u001b[0m \u001b[32m0.0/45.4 kB\u001b[0m \u001b[31m?\u001b[0m eta \u001b[36m-:--:--\u001b[0m\r\u001b[2K   \u001b[90m━━━━━━━━━━━━━━━━━━━━━━━━━━━━━━━━━━━━━━━━\u001b[0m \u001b[32m45.4/45.4 kB\u001b[0m \u001b[31m2.0 MB/s\u001b[0m eta \u001b[36m0:00:00\u001b[0m\n",
            "\u001b[2K   \u001b[90m━━━━━━━━━━━━━━━━━━━━━━━━━━━━━━━━━━━━━━━━\u001b[0m \u001b[32m94.1/94.1 kB\u001b[0m \u001b[31m4.5 MB/s\u001b[0m eta \u001b[36m0:00:00\u001b[0m\n",
            "\u001b[2K   \u001b[90m━━━━━━━━━━━━━━━━━━━━━━━━━━━━━━━━━━━━━━━━\u001b[0m \u001b[32m12.3/12.3 MB\u001b[0m \u001b[31m80.5 MB/s\u001b[0m eta \u001b[36m0:00:00\u001b[0m\n",
            "\u001b[2K   \u001b[90m━━━━━━━━━━━━━━━━━━━━━━━━━━━━━━━━━━━━━━━━\u001b[0m \u001b[32m491.3/491.3 kB\u001b[0m \u001b[31m30.6 MB/s\u001b[0m eta \u001b[36m0:00:00\u001b[0m\n",
            "\u001b[2K   \u001b[90m━━━━━━━━━━━━━━━━━━━━━━━━━━━━━━━━━━━━━━━━\u001b[0m \u001b[32m1.8/1.8 MB\u001b[0m \u001b[31m63.6 MB/s\u001b[0m eta \u001b[36m0:00:00\u001b[0m\n",
            "\u001b[2K   \u001b[90m━━━━━━━━━━━━━━━━━━━━━━━━━━━━━━━━━━━━━━━━\u001b[0m \u001b[32m82.7/82.7 kB\u001b[0m \u001b[31m6.3 MB/s\u001b[0m eta \u001b[36m0:00:00\u001b[0m\n",
            "\u001b[?25h\u001b[31mERROR: pip's dependency resolver does not currently take into account all the packages that are installed. This behaviour is the source of the following dependency conflicts.\n",
            "snapatac2 2.7.1 requires numpy<2.0.0,>=1.16.0, but you have numpy 2.0.2 which is incompatible.\u001b[0m\u001b[31m\n",
            "\u001b[0m"
          ]
        }
      ]
    },
    {
      "cell_type": "code",
      "execution_count": 17,
      "id": "4e15629f-bdc4-46dd-8375-a1f2e17960ca",
      "metadata": {
        "id": "4e15629f-bdc4-46dd-8375-a1f2e17960ca"
      },
      "outputs": [],
      "source": [
        "import numpy as np"
      ]
    },
    {
      "cell_type": "code",
      "execution_count": 18,
      "id": "37ff51dc-8860-4ab6-ab44-8223b33ea879",
      "metadata": {
        "id": "37ff51dc-8860-4ab6-ab44-8223b33ea879"
      },
      "outputs": [],
      "source": [
        "import anndata as ad"
      ]
    },
    {
      "cell_type": "code",
      "execution_count": 19,
      "id": "f54f07e0-84cc-4ab9-a156-ea8467a76fc4",
      "metadata": {
        "id": "f54f07e0-84cc-4ab9-a156-ea8467a76fc4"
      },
      "outputs": [],
      "source": [
        "import matplotlib.pyplot as plt"
      ]
    },
    {
      "cell_type": "code",
      "execution_count": 20,
      "id": "dfc626e2-9a64-4f0f-8677-1da6e446ea3a",
      "metadata": {
        "id": "dfc626e2-9a64-4f0f-8677-1da6e446ea3a"
      },
      "outputs": [],
      "source": [
        "import plotly.subplots as sp\n",
        "import plotly.graph_objects as go"
      ]
    },
    {
      "cell_type": "markdown",
      "id": "43f56d4f-c4ec-496e-96bd-6645365df65c",
      "metadata": {
        "id": "43f56d4f-c4ec-496e-96bd-6645365df65c"
      },
      "source": [
        "Import reads from google drive, one sample treated with energy metabolism inhibitors and one untreated"
      ]
    },
    {
      "cell_type": "code",
      "source": [
        "from google.colab import drive\n",
        "drive.mount('/content/drive')"
      ],
      "metadata": {
        "colab": {
          "base_uri": "https://localhost:8080/"
        },
        "id": "BpK5P48ACJOW",
        "outputId": "c127d8d4-1a56-4e6c-aa72-1f366f825c33"
      },
      "id": "BpK5P48ACJOW",
      "execution_count": 21,
      "outputs": [
        {
          "output_type": "stream",
          "name": "stdout",
          "text": [
            "Drive already mounted at /content/drive; to attempt to forcibly remount, call drive.mount(\"/content/drive\", force_remount=True).\n"
          ]
        }
      ]
    },
    {
      "cell_type": "code",
      "execution_count": 22,
      "id": "be1662ba-006c-4be4-9858-70480fa51fe3",
      "metadata": {
        "id": "be1662ba-006c-4be4-9858-70480fa51fe3"
      },
      "outputs": [],
      "source": [
        "SRR26046013_DM_AOA_INH = sc.read_h5ad('/content/drive/MyDrive/Colab Notebooks/SRR26046013_Annotated_data_matrix.h5ad')"
      ]
    },
    {
      "cell_type": "code",
      "execution_count": 23,
      "id": "967b901c-c65e-436a-8c7c-2583264344ce",
      "metadata": {
        "id": "967b901c-c65e-436a-8c7c-2583264344ce",
        "colab": {
          "base_uri": "https://localhost:8080/"
        },
        "outputId": "7b02a7df-fa33-4726-a765-d44e6bec17d6"
      },
      "outputs": [
        {
          "output_type": "execute_result",
          "data": {
            "text/plain": [
              "AnnData object with n_obs × n_vars = 13546 × 0\n",
              "    obs: 'n_fragment', 'frac_dup', 'frac_mito'\n",
              "    uns: 'reference_sequences'\n",
              "    obsm: 'fragment_paired'"
            ]
          },
          "metadata": {},
          "execution_count": 23
        }
      ],
      "source": [
        "SRR26046013_DM_AOA_INH"
      ]
    },
    {
      "cell_type": "code",
      "execution_count": 24,
      "id": "985faf54-160c-4b13-a7a9-b2e12fdfd714",
      "metadata": {
        "id": "985faf54-160c-4b13-a7a9-b2e12fdfd714"
      },
      "outputs": [],
      "source": [
        "SRR26046019_DM_UT = sc.read_h5ad('/content/drive/MyDrive/Colab Notebooks/SRR26046019_Annotated_data_matrix.h5ad')"
      ]
    },
    {
      "cell_type": "code",
      "execution_count": 25,
      "id": "4cb56a7f-e5e2-43c7-bacf-2a967c9dd531",
      "metadata": {
        "id": "4cb56a7f-e5e2-43c7-bacf-2a967c9dd531",
        "colab": {
          "base_uri": "https://localhost:8080/"
        },
        "outputId": "b01f1901-bfd5-4007-f71b-c91faa60623c"
      },
      "outputs": [
        {
          "output_type": "execute_result",
          "data": {
            "text/plain": [
              "AnnData object with n_obs × n_vars = 10448 × 0\n",
              "    obs: 'n_fragment', 'frac_dup', 'frac_mito'\n",
              "    uns: 'reference_sequences'\n",
              "    obsm: 'fragment_paired'"
            ]
          },
          "metadata": {},
          "execution_count": 25
        }
      ],
      "source": [
        "SRR26046019_DM_UT"
      ]
    },
    {
      "cell_type": "markdown",
      "id": "8d0d9a69-6554-4ab7-8457-626e3316378d",
      "metadata": {
        "id": "8d0d9a69-6554-4ab7-8457-626e3316378d"
      },
      "source": [
        "Compute fragment size distributions"
      ]
    },
    {
      "cell_type": "code",
      "execution_count": 26,
      "id": "65028c39-e285-493a-82bd-8e4f90d8c08d",
      "metadata": {
        "id": "65028c39-e285-493a-82bd-8e4f90d8c08d",
        "colab": {
          "base_uri": "https://localhost:8080/",
          "height": 507
        },
        "outputId": "779d0344-ad0d-44c5-848e-858626bb1e3e"
      },
      "outputs": [
        {
          "output_type": "display_data",
          "data": {
            "text/plain": [
              "<Figure size 1000x500 with 2 Axes>"
            ],
            "image/png": "[encoded data removed]"
          },
          "metadata": {}
        }
      ],
      "source": [
        "# Create a subplot figure\n",
        "fig, axes = plt.subplots(1, 2, figsize=(10, 5))\n",
        "\n",
        "# Plot for SRR26046013_DM_AOA_INH\n",
        "frag_size_distr = snap.metrics.frag_size_distr(SRR26046013_DM_AOA_INH, inplace=False)\n",
        "axes[0].plot(frag_size_distr)\n",
        "axes[0].set_title('Treated w/AOA')\n",
        "\n",
        "# Plot for SRR26046019_DM_UT\n",
        "frag_size_distr4 = snap.metrics.frag_size_distr(SRR26046019_DM_UT, inplace=False)\n",
        "axes[1].plot(frag_size_distr4)\n",
        "axes[1].set_title('Untreated')\n",
        "\n",
        "plt.tight_layout()\n",
        "plt.show()"
      ]
    },
    {
      "cell_type": "markdown",
      "id": "bfb2ab5a-2f93-46ec-be0c-0711844bff6e",
      "metadata": {
        "id": "bfb2ab5a-2f93-46ec-be0c-0711844bff6e"
      },
      "source": [
        "Compute and plot TSSe"
      ]
    },
    {
      "cell_type": "code",
      "execution_count": 27,
      "id": "50d4eb5b-0e04-4227-9899-0380f7910d01",
      "metadata": {
        "id": "50d4eb5b-0e04-4227-9899-0380f7910d01"
      },
      "outputs": [],
      "source": [
        "# Compute TSSe metrics\n",
        "# Get genome annotation\n",
        "gene_anno = snap.genome.hg38"
      ]
    },
    {
      "cell_type": "code",
      "execution_count": 28,
      "id": "548c5878-5da8-430b-b83d-d6596b92209d",
      "metadata": {
        "id": "548c5878-5da8-430b-b83d-d6596b92209d"
      },
      "outputs": [],
      "source": [
        "snap.metrics.tsse(SRR26046013_DM_AOA_INH, gene_anno)"
      ]
    },
    {
      "cell_type": "code",
      "execution_count": 29,
      "id": "19771878-4676-46d1-9363-5222077cd405",
      "metadata": {
        "id": "19771878-4676-46d1-9363-5222077cd405"
      },
      "outputs": [],
      "source": [
        "snap.metrics.tsse(SRR26046019_DM_UT, gene_anno)"
      ]
    },
    {
      "cell_type": "code",
      "execution_count": 30,
      "id": "a8dcf546-39fe-4cd8-b12d-ec1189032d2e",
      "metadata": {
        "id": "a8dcf546-39fe-4cd8-b12d-ec1189032d2e",
        "colab": {
          "base_uri": "https://localhost:8080/",
          "height": 652
        },
        "outputId": "cc6e9865-a343-4ba7-fa2a-94c6404a4af9"
      },
      "outputs": [
        {
          "output_type": "stream",
          "name": "stderr",
          "text": [
            "/usr/local/lib/python3.10/site-packages/snapatac2/plotting/__init__.py:97: FutureWarning: Series.__getitem__ treating keys as positions is deprecated. In a future version, integer keys will always be treated as labels (consistent with DataFrame behavior). To access a value by position, use `ser.iloc[pos]`\n",
            "  x = adata.obs[\"n_fragment\"][selected_cells]\n",
            "/usr/local/lib/python3.10/site-packages/snapatac2/plotting/__init__.py:98: FutureWarning: Series.__getitem__ treating keys as positions is deprecated. In a future version, integer keys will always be treated as labels (consistent with DataFrame behavior). To access a value by position, use `ser.iloc[pos]`\n",
            "  y = adata.obs[\"tsse\"][selected_cells]\n",
            "/usr/local/lib/python3.10/site-packages/snapatac2/plotting/__init__.py:97: FutureWarning:\n",
            "\n",
            "Series.__getitem__ treating keys as positions is deprecated. In a future version, integer keys will always be treated as labels (consistent with DataFrame behavior). To access a value by position, use `ser.iloc[pos]`\n",
            "\n",
            "/usr/local/lib/python3.10/site-packages/snapatac2/plotting/__init__.py:98: FutureWarning:\n",
            "\n",
            "Series.__getitem__ treating keys as positions is deprecated. In a future version, integer keys will always be treated as labels (consistent with DataFrame behavior). To access a value by position, use `ser.iloc[pos]`\n",
            "\n"
          ]
        },
        {
          "output_type": "display_data",
          "data": {
            "text/html": [
              "<html>\n",
              "<head><meta charset=\"utf-8\" /></head>\n",
              "<body>\n",
              "    <div>            <script src=\"https://cdnjs.cloudflare.com/ajax/libs/mathjax/2.7.5/MathJax.js?config=TeX-AMS-MML_SVG\"></script><script type=\"text/javascript\">if (window.MathJax && window.MathJax.Hub && window.MathJax.Hub.Config) {window.MathJax.Hub.Config({SVG: {font: \"STIX-Web\"}});}</script>                <script type=\"text/javascript\">window.PlotlyConfig = {MathJaxConfig: 'local'};</script>\n",
              "        <script charset=\"utf-8\" src=\"https://cdn.plot.ly/plotly-2.35.2.min.js\"></script>                <div id=\"1752a8b4-a3ae-470d-94bd-9c6ea8ca40b6\" class=\"plotly-graph-div\" style=\"height:400px; width:800px;\"></div>            <script type=\"text/javascript\">                                    window.PLOTLYENV=window.PLOTLYENV || {};                                    if (document.getElementById(\"1752a8b4-a3ae-470d-94bd-9c6ea8ca40b6\")) {                    Plotly.newPlot(                        \"1752a8b4-a3ae-470d-94bd-9c6ea8ca40b6\",                        [{\"colorbar\":{\"ticktext\":[\"0.003\",\"0.007\",\"0.015\",\"0.026\",\"0.043\",\"0.061\",\"0.077\",\"0.093\",\"0.119\",\"0.148\"],\"tickvals\":[1,2,3,4,5,6,7,8,9],\"title\":{\"text\":\"Density\"},\"y\":1,\"yanchor\":\"top\"},\"colorscale\":[[0.0,\"rgb(247,251,255)\"],[0.125,\"rgb(222,235,247)\"],[0.25,\"rgb(198,219,239)\"],[0.375,\"rgb(158,202,225)\"],[0.5,\"rgb(107,174,214)\"],[0.625,\"rgb(66,146,198)\"],[0.75,\"rgb(33,113,181)\"],[0.875,\"rgb(8,81,156)\"],[1.0,\"rgb(8,48,107)\"]],\"line\":{\"smoothing\":0.85},\"x\":[236.12609032929169,260.86172118517317,288.18855842991735,318.37804654734583,351.73006546668364,388.57590934681514,429.28157740614415,474.25140948671054,523.9321024655563,578.8171474093857,639.4517315479122,706.4381537584579,780.4418073551903,862.1977896115916,952.518203670231,1052.3002253715877,1162.535015131809,1284.3175633933545,1418.8575674459362,1567.4914476599895,1731.6956224930088,1913.1011741328048,2113.510050455235,2334.9129642346907,2579.509167404691,2849.7282967914653,3148.2545083197724,3478.053139422171,3842.400164496402,4244.91473599935,4689.595134416747,5180.858484208808,5723.584630240507,6323.164610532353,6985.554206823814,7717.333104881098,8525.770252203534,9418.896062343621,10405.582183064726,11495.629620693833,12699.86609603153,14030.253598880023,15500.007209556103,17123.7263676737,18917.539892122473,20899.26619276292,23088.590265261875,25507.259227204046,28179.29833778908,31131.24964689372,34392.43564406137,37995.25052631261,41975.48197801266,46372.66665912037,51230.48293297301,56597.18473467294,62526.08088980197,69076.06464466047,76312.19866798904,84306.36133514572,93137.9607144457,102894.72334787292,113673.56566132366,125581.55666032371,138736.98147392532,153270.51631123427,169326.52650171338,187064.50051303042,206660.63419091998,228309.5809577097,252226.3853546962,278648.61913473456,307838.74112339714,340086.70428980776,375712.83592386195,415071.01952936186,458552.21003963024,506588.31727314653,559656.4962045627,618283.8866674579,683052.8495695153,754606.7516328036,833656.3561204512,920986.8830304499,1017465.8088873094,1124051.4836088927,1241802.650041968,1371888.9607264707,1515602.5963542184,1674371.1013311686,1849771.563942166,2043546.28197341,2257620.0694033005,2494119.3760733637,2755393.4102599975,3044037.4739628728,3362918.742705397,3715204.7459246092,4104394.830853615,4534354.922435192],\"y\":[-4.527585288502597,-3.8708984285372083,-3.2142115685718196,-2.557524708606431,-1.9008378486410424,-1.2441509886756537,-0.5874641287102653,0.0692227312551239,0.7259095912205122,1.3825964511859006,2.03928331115129,2.695970171116678,3.3526570310820665,4.009343891047455,4.666030751012845,5.322717610978233,5.979404470943622,6.63609133090901,7.292778190874398,7.949465050839788,8.606151910805178,9.262838770770564,9.919525630735954,10.57621249070134,11.232899350666731,11.889586210632121,12.546273070597508,13.202959930562898,13.859646790528288,14.516333650493674,15.173020510459065,15.829707370424451,16.48639423038984,17.14308109035523,17.799767950320618,18.456454810286008,19.113141670251395,19.769828530216785,20.426515390182175,21.08320225014756,21.73988911011295,22.396575970078338,23.053262830043728,23.70994969000912,24.366636549974505,25.023323409939895,25.68001026990528,26.33669712987067,26.993383989836058,27.65007084980145,28.30675770976684,28.96344456973223,29.62013142969761,30.276818289663,30.93350514962839,31.590192009593782,32.24687886955917,32.90356572952455,33.56025258948994,34.21693944945533,34.87362630942072,35.53031316938611,36.187000029351495,36.843686889316885,37.500373749282275,38.157060609247665,38.813747469213055,39.47043432917844,40.12712118914383,40.78380804910922,41.44049490907461,42.09718176904,42.75386862900538,43.41055548897077,44.06724234893616,44.72392920890155,45.38061606886694,46.037302928832325,46.693989788797715,47.350676648763105,48.007363508728496,48.664050368693886,49.32073722865927,49.97742408862466,50.63411094859005,51.29079780855544,51.94748466852083,52.60417152848621,53.2608583884516,53.91754524841699,54.57423210838238,55.23091896834777,55.887605828313156,56.544292688278546,57.200979548243936,57.857666408209326,58.51435326817471,59.1710401281401,59.82772698810549,60.484413848070886],\"z\":[[0.1,0.1,0.1,0.1,0.1,0.1,0.1,0.1,0.1,0.1,0.1,0.1,0.1,0.1,0.1,0.1,0.1,0.1,0.1,0.1,0.1,0.1,0.1,0.1,0.1,0.1,0.1,0.1,0.1,0.1,0.1,0.1,0.1,0.1,0.1,0.1,0.1,0.1,0.1,0.1,0.1,0.1,0.1,0.1,0.1,0.1,0.1,0.1,0.1,0.1,0.1,0.1,0.1,0.1,0.1,0.1,0.1,0.1,0.1,0.1,0.1,0.1,0.1,0.1,0.1,0.1,0.1,0.1,0.1,0.1,0.1,0.1,0.1,0.1,0.1,0.1,0.1,0.1,0.1,0.1,0.1,0.1,0.1,0.1,0.1,0.1,0.1,0.1,0.1,0.1,0.1,0.1,0.1,0.1,0.1,0.1,0.1,0.1,0.1,0.1],[0.1,0.1,0.1,0.1,0.1,0.1,0.1,0.1,0.1,0.1,0.1,0.1,0.1,0.1,0.1,0.1,0.1,0.1,0.1,0.1,0.1,0.1,0.1,0.1,0.1,0.1,0.1,0.1,0.1,0.1,0.1,0.1,0.1,0.1,0.1,0.1,0.1,0.1,0.1,0.1,0.1,0.1,0.1,0.1,0.1,0.1,0.1,0.1,0.1,0.1,0.1,0.1,0.1,0.1,0.1,0.1,0.1,0.1,0.1,0.1,0.1,0.1,0.1,0.1,0.1,0.1,0.1,0.1,0.1,0.1,0.1,0.1,0.1,0.1,0.1,0.1,0.1,0.1,0.1,0.1,0.1,0.1,0.1,0.1,0.1,0.1,0.1,0.1,0.1,0.1,0.1,0.1,0.1,0.1,0.1,0.1,0.1,0.1,0.1,0.1],[0.1,0.1,0.1,0.1,0.1,0.1,0.1,0.1,0.1,0.1,0.1,0.1,0.1,0.1,0.1,0.1,0.1,0.1,0.1,0.1,0.1,0.1,0.1,0.1,0.1,0.1,0.1,0.1,0.1,0.1,0.1,0.1,0.1,0.1,0.1,0.1,0.1,0.1,0.1,0.1,0.1,0.1,0.1,0.1,0.1,0.1,0.1,0.1,0.1,0.1,0.1,0.1,0.1,0.1,0.1,0.1,0.1,0.1,0.1,0.1,0.1,0.1,0.1,0.1,0.1,0.1,0.1,0.1,0.1,0.1,0.1,0.1,0.1,0.1,0.1,0.1,0.1,0.1,0.1,0.1,0.1,0.1,0.1,0.1,0.1,0.1,0.1,0.1,0.1,0.1,0.1,0.1,0.1,0.1,0.1,0.1,0.1,0.1,0.1,0.1],[0.1,0.1,0.1,0.1,0.1,0.1,0.1,0.1,0.1,0.1,0.1,0.1,0.1,0.1,0.1,0.1,0.1,0.1,0.1,0.1,0.1,0.1,0.1,0.1,0.1,0.1,0.1,0.1,0.1,0.1,0.1,0.1,0.1,0.1,0.1,0.1,0.1,0.1,0.1,0.1,0.1,0.1,0.1,0.1,0.1,0.1,0.1,0.1,0.1,0.1,0.1,0.1,0.1,0.1,0.1,0.1,0.1,0.1,0.1,0.1,0.1,0.1,0.1,0.1,0.1,0.1,0.1,0.1,0.1,0.1,0.1,0.1,0.1,0.1,0.1,0.1,0.1,0.1,0.1,0.1,0.1,0.1,0.1,0.1,0.1,0.1,0.1,0.1,0.1,0.1,0.1,0.1,0.1,0.1,0.1,0.1,0.1,0.1,0.1,0.1],[0.1,0.1,0.1,0.1,0.1,0.1,0.1,0.1,0.1,0.1,0.1,0.1,0.1,0.1,0.1,0.1,0.1,0.1,0.1,0.1,0.1,0.1,0.1,0.1,0.1,0.1,0.1,0.1,0.1,0.1,0.1,0.1,0.1,0.1,0.1,0.1,0.1,0.1,0.1,0.1,0.1,0.1,0.1,0.1,0.1,0.1,0.1,0.1,0.1,0.1,0.1,0.1,0.1,0.1,0.1,0.1,0.1,0.1,0.1,0.1,0.1,0.1,0.1,0.1,0.1,0.1,0.1,0.1,0.1,0.1,0.1,0.1,0.1,0.1,0.1,0.1,0.1,0.1,0.1,0.1,0.1,0.1,0.1,0.1,0.1,0.1,0.1,0.1,0.1,0.1,0.1,0.1,0.1,0.1,0.1,0.1,0.1,0.1,0.1,0.1],[0.1,0.1,0.1,0.1,0.1,0.1,0.1,0.1,0.1,0.1,0.1,0.1,0.1,0.1,0.1,0.1,0.1,0.1,0.1,0.1,0.1,0.1,0.1,0.1,0.1,0.1,0.1,0.1,0.1,0.1,0.1,0.1,0.1,0.1,0.1,0.1,0.1,0.1,0.1,0.1,0.1,0.1,0.1,0.1,0.1,0.1,0.1,0.1,0.1,0.1,0.1,0.1,0.1,0.1,0.1,0.1,0.1,0.1,0.1,0.1,0.1,0.1,0.1,0.1,0.1,0.1,0.1,0.1,0.1,0.1,0.1,0.1,0.1,0.1,0.1,0.1,0.1,0.1,0.1,0.1,0.1,0.1,0.1,0.1,0.1,0.1,0.1,0.1,0.1,0.1,0.1,0.1,0.1,0.1,0.1,0.1,0.1,0.1,0.1,0.1],[0.1,0.1,0.1,0.1,0.1,0.1,0.1,0.1,1.1,1.1,1.1,0.1,0.1,0.1,0.1,0.1,0.1,0.1,0.1,0.1,0.1,0.1,0.1,0.1,0.1,0.1,0.1,0.1,0.1,0.1,0.1,0.1,0.1,0.1,0.1,0.1,0.1,0.1,0.1,0.1,0.1,0.1,0.1,0.1,0.1,0.1,0.1,0.1,0.1,0.1,0.1,0.1,0.1,0.1,0.1,0.1,0.1,0.1,0.1,0.1,0.1,0.1,0.1,0.1,0.1,0.1,0.1,0.1,0.1,0.1,0.1,0.1,0.1,0.1,0.1,0.1,0.1,0.1,0.1,0.1,0.1,0.1,0.1,0.1,0.1,0.1,0.1,0.1,0.1,0.1,0.1,0.1,0.1,0.1,0.1,0.1,0.1,0.1,0.1,0.1],[0.1,0.1,0.1,0.1,0.1,0.1,1.1,1.1,1.1,1.1,1.1,1.1,1.1,1.1,1.1,1.1,0.1,0.1,0.1,0.1,0.1,0.1,0.1,0.1,0.1,0.1,0.1,0.1,0.1,0.1,0.1,0.1,0.1,0.1,0.1,0.1,0.1,0.1,0.1,0.1,0.1,0.1,0.1,0.1,0.1,0.1,0.1,0.1,0.1,0.1,0.1,0.1,0.1,0.1,0.1,0.1,0.1,0.1,0.1,0.1,0.1,0.1,0.1,0.1,0.1,0.1,0.1,0.1,0.1,0.1,0.1,0.1,0.1,0.1,0.1,0.1,0.1,0.1,0.1,0.1,0.1,0.1,0.1,0.1,0.1,0.1,0.1,0.1,0.1,0.1,0.1,0.1,0.1,0.1,0.1,0.1,0.1,0.1,0.1,0.1],[0.1,0.1,0.1,0.1,0.1,0.1,1.1,1.1,1.1,1.1,1.1,1.1,1.1,1.1,1.1,1.1,1.1,1.1,1.1,0.1,0.1,0.1,0.1,0.1,0.1,0.1,0.1,0.1,0.1,0.1,0.1,0.1,0.1,0.1,0.1,0.1,0.1,0.1,0.1,0.1,0.1,0.1,0.1,0.1,0.1,0.1,0.1,0.1,0.1,0.1,0.1,0.1,0.1,0.1,0.1,0.1,0.1,0.1,0.1,0.1,0.1,0.1,0.1,0.1,0.1,0.1,0.1,0.1,0.1,0.1,0.1,0.1,0.1,0.1,0.1,0.1,0.1,0.1,0.1,0.1,0.1,0.1,0.1,0.1,0.1,0.1,0.1,0.1,0.1,0.1,0.1,0.1,0.1,0.1,0.1,0.1,0.1,0.1,0.1,0.1],[0.1,0.1,0.1,0.1,0.1,0.1,1.1,1.1,1.1,1.1,1.1,1.1,1.1,1.1,1.1,1.1,1.1,1.1,1.1,1.1,0.1,0.1,0.1,0.1,0.1,0.1,0.1,0.1,0.1,0.1,0.1,0.1,0.1,0.1,0.1,0.1,0.1,0.1,0.1,0.1,0.1,0.1,0.1,0.1,0.1,0.1,0.1,0.1,0.1,0.1,0.1,0.1,0.1,0.1,0.1,0.1,0.1,0.1,0.1,0.1,0.1,0.1,0.1,0.1,0.1,0.1,0.1,0.1,0.1,0.1,0.1,0.1,0.1,0.1,0.1,0.1,0.1,0.1,0.1,0.1,0.1,0.1,0.1,0.1,0.1,0.1,0.1,0.1,0.1,0.1,0.1,0.1,0.1,0.1,0.1,0.1,0.1,0.1,0.1,0.1],[0.1,0.1,0.1,0.1,0.1,0.1,1.1,1.1,1.1,1.1,1.1,1.1,1.1,1.1,1.1,1.1,1.1,1.1,1.1,1.1,0.1,0.1,0.1,0.1,0.1,0.1,0.1,0.1,0.1,0.1,0.1,0.1,0.1,0.1,0.1,0.1,0.1,0.1,0.1,0.1,0.1,0.1,0.1,0.1,0.1,0.1,0.1,0.1,0.1,0.1,0.1,0.1,0.1,0.1,0.1,0.1,0.1,0.1,0.1,0.1,0.1,0.1,0.1,0.1,0.1,0.1,0.1,0.1,0.1,0.1,0.1,0.1,0.1,0.1,0.1,0.1,0.1,0.1,0.1,0.1,0.1,0.1,0.1,0.1,0.1,0.1,0.1,0.1,0.1,0.1,0.1,0.1,0.1,0.1,0.1,0.1,0.1,0.1,0.1,0.1],[0.1,0.1,0.1,0.1,0.1,0.1,1.1,1.1,1.1,1.1,1.1,1.1,1.1,1.1,1.1,1.1,1.1,1.1,1.1,1.1,0.1,0.1,0.1,0.1,0.1,0.1,0.1,0.1,0.1,0.1,0.1,0.1,0.1,0.1,0.1,0.1,0.1,0.1,0.1,0.1,0.1,0.1,0.1,0.1,0.1,0.1,0.1,0.1,0.1,0.1,0.1,0.1,0.1,0.1,0.1,0.1,0.1,0.1,0.1,0.1,0.1,0.1,0.1,0.1,0.1,0.1,0.1,0.1,0.1,0.1,0.1,0.1,0.1,0.1,0.1,0.1,0.1,0.1,0.1,0.1,0.1,0.1,0.1,0.1,0.1,0.1,0.1,0.1,0.1,0.1,0.1,0.1,0.1,0.1,0.1,0.1,0.1,0.1,0.1,0.1],[0.1,0.1,0.1,0.1,0.1,0.1,0.1,1.1,1.1,1.1,1.1,1.1,1.1,1.1,1.1,1.1,1.1,1.1,1.1,0.1,0.1,0.1,0.1,0.1,0.1,0.1,0.1,0.1,0.1,0.1,0.1,0.1,0.1,0.1,0.1,0.1,0.1,0.1,0.1,0.1,0.1,0.1,0.1,0.1,0.1,0.1,0.1,0.1,0.1,0.1,0.1,0.1,0.1,0.1,0.1,0.1,0.1,0.1,0.1,0.1,0.1,0.1,0.1,0.1,0.1,0.1,0.1,0.1,0.1,0.1,0.1,0.1,0.1,0.1,0.1,0.1,0.1,0.1,0.1,0.1,0.1,0.1,0.1,0.1,0.1,0.1,0.1,0.1,0.1,0.1,0.1,0.1,0.1,0.1,0.1,0.1,0.1,0.1,0.1,0.1],[0.1,0.1,0.1,0.1,0.1,0.1,0.1,1.1,1.1,1.1,1.1,1.1,1.1,1.1,1.1,1.1,1.1,0.1,0.1,0.1,0.1,0.1,0.1,0.1,0.1,0.1,0.1,0.1,0.1,0.1,0.1,0.1,0.1,0.1,0.1,0.1,0.1,0.1,0.1,0.1,0.1,0.1,0.1,0.1,0.1,0.1,0.1,0.1,0.1,0.1,0.1,0.1,0.1,0.1,0.1,0.1,0.1,0.1,0.1,0.1,0.1,0.1,0.1,0.1,0.1,0.1,0.1,0.1,0.1,0.1,0.1,0.1,0.1,0.1,0.1,0.1,0.1,0.1,0.1,0.1,0.1,0.1,0.1,0.1,0.1,0.1,0.1,0.1,0.1,0.1,0.1,0.1,0.1,0.1,0.1,0.1,0.1,0.1,0.1,0.1],[0.1,0.1,0.1,0.1,0.1,0.1,1.1,1.1,1.1,1.1,1.1,1.1,1.1,1.1,1.1,0.1,0.1,0.1,0.1,0.1,0.1,0.1,0.1,0.1,0.1,0.1,0.1,0.1,0.1,0.1,0.1,0.1,0.1,0.1,0.1,0.1,0.1,0.1,0.1,0.1,0.1,0.1,0.1,0.1,0.1,0.1,0.1,0.1,0.1,0.1,0.1,0.1,0.1,0.1,0.1,0.1,0.1,0.1,0.1,0.1,0.1,0.1,0.1,0.1,0.1,0.1,0.1,0.1,0.1,0.1,0.1,0.1,0.1,0.1,0.1,0.1,0.1,0.1,0.1,0.1,0.1,0.1,0.1,0.1,0.1,0.1,0.1,0.1,0.1,0.1,0.1,0.1,0.1,0.1,0.1,0.1,0.1,0.1,0.1,0.1],[0.1,0.1,0.1,0.1,0.1,0.1,1.1,1.1,1.1,1.1,1.1,1.1,1.1,1.1,0.1,0.1,0.1,0.1,0.1,0.1,0.1,0.1,0.1,0.1,0.1,0.1,0.1,0.1,0.1,0.1,0.1,0.1,0.1,0.1,0.1,0.1,0.1,0.1,0.1,0.1,0.1,0.1,0.1,0.1,0.1,0.1,0.1,0.1,0.1,0.1,0.1,0.1,0.1,0.1,0.1,0.1,0.1,0.1,0.1,0.1,0.1,0.1,0.1,0.1,0.1,0.1,0.1,0.1,0.1,0.1,0.1,0.1,0.1,0.1,0.1,0.1,0.1,0.1,0.1,0.1,0.1,0.1,0.1,0.1,0.1,0.1,0.1,0.1,0.1,0.1,0.1,0.1,0.1,0.1,0.1,0.1,0.1,0.1,0.1,0.1],[0.1,0.1,0.1,0.1,0.1,0.1,1.1,1.1,1.1,1.1,1.1,1.1,1.1,1.1,0.1,0.1,0.1,0.1,0.1,0.1,0.1,0.1,0.1,0.1,0.1,0.1,0.1,0.1,0.1,0.1,0.1,0.1,0.1,0.1,0.1,0.1,0.1,0.1,0.1,0.1,0.1,0.1,0.1,0.1,0.1,0.1,0.1,0.1,0.1,0.1,0.1,0.1,0.1,0.1,0.1,0.1,0.1,0.1,0.1,0.1,0.1,0.1,0.1,0.1,0.1,0.1,0.1,0.1,0.1,0.1,0.1,0.1,0.1,0.1,0.1,0.1,0.1,0.1,0.1,0.1,0.1,0.1,0.1,0.1,0.1,0.1,0.1,0.1,0.1,0.1,0.1,0.1,0.1,0.1,0.1,0.1,0.1,0.1,0.1,0.1],[0.1,0.1,0.1,0.1,0.1,1.1,1.1,1.1,1.1,1.1,1.1,1.1,1.1,1.1,0.1,0.1,0.1,0.1,0.1,0.1,0.1,0.1,0.1,0.1,0.1,0.1,0.1,0.1,0.1,0.1,0.1,0.1,0.1,0.1,0.1,0.1,0.1,0.1,0.1,0.1,0.1,0.1,0.1,0.1,0.1,0.1,0.1,0.1,0.1,0.1,0.1,0.1,0.1,0.1,0.1,0.1,0.1,0.1,0.1,0.1,0.1,0.1,0.1,0.1,0.1,0.1,0.1,0.1,0.1,0.1,0.1,0.1,0.1,0.1,0.1,0.1,0.1,0.1,0.1,0.1,0.1,0.1,0.1,0.1,0.1,0.1,0.1,0.1,0.1,0.1,0.1,0.1,0.1,0.1,0.1,0.1,0.1,0.1,0.1,0.1],[0.1,0.1,0.1,0.1,0.1,1.1,1.1,1.1,2.1,2.1,2.1,1.1,1.1,1.1,1.1,0.1,0.1,0.1,0.1,0.1,0.1,0.1,0.1,0.1,0.1,0.1,0.1,0.1,0.1,0.1,0.1,0.1,0.1,0.1,0.1,0.1,0.1,0.1,0.1,0.1,0.1,0.1,0.1,0.1,0.1,0.1,0.1,0.1,0.1,0.1,0.1,0.1,0.1,0.1,0.1,0.1,0.1,0.1,0.1,0.1,0.1,0.1,0.1,0.1,0.1,0.1,0.1,0.1,0.1,0.1,0.1,0.1,0.1,0.1,0.1,0.1,0.1,0.1,0.1,0.1,0.1,0.1,0.1,0.1,0.1,0.1,0.1,0.1,0.1,0.1,0.1,0.1,0.1,0.1,0.1,0.1,0.1,0.1,0.1,0.1],[0.1,0.1,0.1,0.1,0.1,1.1,1.1,2.1,2.1,2.1,2.1,2.1,1.1,1.1,1.1,0.1,0.1,0.1,0.1,0.1,0.1,0.1,0.1,0.1,0.1,0.1,0.1,0.1,0.1,0.1,0.1,0.1,0.1,0.1,0.1,0.1,0.1,0.1,0.1,0.1,0.1,0.1,0.1,0.1,0.1,0.1,0.1,0.1,0.1,0.1,0.1,0.1,0.1,0.1,0.1,0.1,0.1,0.1,0.1,0.1,0.1,0.1,0.1,0.1,0.1,0.1,0.1,0.1,0.1,0.1,0.1,0.1,0.1,0.1,0.1,0.1,0.1,0.1,0.1,0.1,0.1,0.1,0.1,0.1,0.1,0.1,0.1,0.1,0.1,0.1,0.1,0.1,0.1,0.1,0.1,0.1,0.1,0.1,0.1,0.1],[0.1,0.1,0.1,0.1,0.1,1.1,1.1,2.1,2.1,2.1,2.1,2.1,2.1,1.1,1.1,1.1,0.1,0.1,0.1,0.1,0.1,0.1,0.1,0.1,0.1,0.1,0.1,0.1,0.1,0.1,0.1,0.1,0.1,0.1,0.1,0.1,0.1,0.1,0.1,0.1,0.1,0.1,0.1,0.1,0.1,0.1,0.1,0.1,0.1,0.1,0.1,0.1,0.1,0.1,0.1,0.1,0.1,0.1,0.1,0.1,0.1,0.1,0.1,0.1,0.1,0.1,0.1,0.1,0.1,0.1,0.1,0.1,0.1,0.1,0.1,0.1,0.1,0.1,0.1,0.1,0.1,0.1,0.1,0.1,0.1,0.1,0.1,0.1,0.1,0.1,0.1,0.1,0.1,0.1,0.1,0.1,0.1,0.1,0.1,0.1],[0.1,0.1,0.1,0.1,1.1,1.1,2.1,2.1,2.1,2.1,2.1,2.1,2.1,2.1,1.1,1.1,1.1,0.1,0.1,0.1,0.1,0.1,0.1,0.1,0.1,0.1,0.1,0.1,0.1,0.1,0.1,0.1,0.1,0.1,0.1,0.1,0.1,0.1,0.1,0.1,0.1,0.1,0.1,0.1,0.1,0.1,0.1,0.1,0.1,0.1,0.1,0.1,0.1,0.1,0.1,0.1,0.1,0.1,0.1,0.1,0.1,0.1,0.1,0.1,0.1,0.1,0.1,0.1,0.1,0.1,0.1,0.1,0.1,0.1,0.1,0.1,0.1,0.1,0.1,0.1,0.1,0.1,0.1,0.1,0.1,0.1,0.1,0.1,0.1,0.1,0.1,0.1,0.1,0.1,0.1,0.1,0.1,0.1,0.1,0.1],[0.1,0.1,0.1,0.1,1.1,1.1,2.1,2.1,2.1,3.1,3.1,2.1,2.1,2.1,1.1,1.1,1.1,1.1,0.1,0.1,0.1,0.1,0.1,0.1,0.1,0.1,0.1,0.1,0.1,0.1,0.1,0.1,0.1,0.1,0.1,0.1,0.1,0.1,0.1,0.1,0.1,0.1,0.1,0.1,0.1,0.1,0.1,0.1,0.1,0.1,0.1,0.1,0.1,0.1,0.1,0.1,0.1,0.1,0.1,0.1,0.1,0.1,0.1,0.1,0.1,0.1,0.1,0.1,0.1,0.1,0.1,0.1,0.1,0.1,0.1,0.1,0.1,0.1,0.1,0.1,0.1,0.1,0.1,0.1,0.1,0.1,0.1,0.1,0.1,0.1,0.1,0.1,0.1,0.1,0.1,0.1,0.1,0.1,0.1,0.1],[0.1,0.1,0.1,0.1,1.1,1.1,2.1,2.1,3.1,3.1,3.1,3.1,2.1,2.1,2.1,1.1,1.1,1.1,1.1,0.1,0.1,0.1,0.1,0.1,1.1,1.1,1.1,1.1,0.1,0.1,0.1,0.1,0.1,0.1,0.1,0.1,0.1,0.1,0.1,0.1,0.1,0.1,0.1,0.1,0.1,0.1,0.1,0.1,0.1,0.1,0.1,0.1,0.1,0.1,0.1,0.1,0.1,0.1,0.1,0.1,0.1,0.1,0.1,0.1,0.1,0.1,0.1,0.1,0.1,0.1,0.1,0.1,0.1,0.1,0.1,0.1,0.1,0.1,0.1,0.1,0.1,0.1,0.1,0.1,0.1,0.1,0.1,0.1,0.1,0.1,0.1,0.1,0.1,0.1,0.1,0.1,0.1,0.1,0.1,0.1],[0.1,0.1,0.1,0.1,1.1,1.1,2.1,2.1,3.1,3.1,3.1,3.1,3.1,2.1,2.1,2.1,1.1,1.1,1.1,1.1,1.1,1.1,1.1,1.1,1.1,1.1,1.1,1.1,1.1,1.1,0.1,0.1,0.1,0.1,0.1,0.1,0.1,0.1,0.1,0.1,0.1,0.1,0.1,0.1,0.1,0.1,0.1,0.1,0.1,0.1,0.1,0.1,0.1,0.1,0.1,0.1,0.1,0.1,0.1,0.1,0.1,0.1,0.1,0.1,0.1,0.1,0.1,0.1,0.1,0.1,0.1,0.1,0.1,0.1,0.1,0.1,0.1,0.1,0.1,0.1,0.1,0.1,0.1,0.1,0.1,0.1,0.1,0.1,0.1,0.1,0.1,0.1,0.1,0.1,0.1,0.1,0.1,0.1,0.1,0.1],[0.1,0.1,0.1,0.1,1.1,1.1,2.1,2.1,3.1,3.1,3.1,3.1,3.1,2.1,2.1,2.1,1.1,1.1,1.1,1.1,1.1,1.1,1.1,1.1,1.1,1.1,1.1,1.1,1.1,1.1,0.1,0.1,0.1,0.1,0.1,0.1,0.1,0.1,0.1,0.1,0.1,0.1,0.1,0.1,0.1,0.1,0.1,0.1,0.1,0.1,0.1,0.1,0.1,0.1,0.1,0.1,0.1,0.1,0.1,0.1,0.1,0.1,0.1,0.1,0.1,0.1,0.1,0.1,0.1,0.1,0.1,0.1,0.1,0.1,0.1,0.1,0.1,0.1,0.1,0.1,0.1,0.1,0.1,0.1,0.1,0.1,0.1,0.1,0.1,0.1,0.1,0.1,0.1,0.1,0.1,0.1,0.1,0.1,0.1,0.1],[0.1,0.1,0.1,0.1,1.1,1.1,2.1,2.1,3.1,3.1,3.1,3.1,3.1,3.1,2.1,2.1,2.1,1.1,1.1,1.1,1.1,1.1,1.1,1.1,1.1,1.1,1.1,1.1,1.1,1.1,1.1,0.1,0.1,0.1,0.1,0.1,0.1,0.1,0.1,0.1,0.1,0.1,0.1,0.1,0.1,0.1,0.1,0.1,0.1,0.1,0.1,0.1,0.1,0.1,0.1,0.1,0.1,0.1,0.1,0.1,0.1,0.1,0.1,0.1,0.1,0.1,0.1,0.1,0.1,0.1,0.1,0.1,0.1,0.1,0.1,0.1,0.1,0.1,0.1,0.1,0.1,0.1,0.1,0.1,0.1,0.1,0.1,0.1,0.1,0.1,0.1,0.1,0.1,0.1,0.1,0.1,0.1,0.1,0.1,0.1],[0.1,0.1,0.1,0.1,1.1,1.1,2.1,2.1,3.1,3.1,3.1,3.1,3.1,3.1,2.1,2.1,2.1,1.1,1.1,1.1,1.1,1.1,1.1,1.1,1.1,1.1,1.1,1.1,1.1,1.1,1.1,1.1,0.1,0.1,0.1,0.1,0.1,0.1,0.1,0.1,0.1,0.1,0.1,0.1,0.1,0.1,0.1,0.1,0.1,0.1,0.1,0.1,0.1,0.1,0.1,0.1,0.1,0.1,0.1,0.1,0.1,0.1,0.1,0.1,0.1,0.1,0.1,0.1,0.1,0.1,0.1,0.1,0.1,0.1,0.1,0.1,0.1,0.1,0.1,0.1,0.1,0.1,0.1,0.1,0.1,0.1,0.1,0.1,0.1,0.1,0.1,0.1,0.1,0.1,0.1,0.1,0.1,0.1,0.1,0.1],[0.1,0.1,0.1,0.1,0.1,1.1,2.1,2.1,3.1,3.1,3.1,3.1,3.1,3.1,2.1,2.1,2.1,1.1,1.1,1.1,1.1,1.1,1.1,1.1,1.1,1.1,1.1,1.1,1.1,1.1,1.1,1.1,1.1,1.1,1.1,1.1,1.1,1.1,1.1,1.1,1.1,1.1,1.1,1.1,0.1,0.1,0.1,0.1,0.1,0.1,0.1,0.1,0.1,0.1,0.1,0.1,0.1,0.1,0.1,0.1,0.1,0.1,0.1,0.1,0.1,0.1,0.1,0.1,0.1,0.1,0.1,0.1,0.1,0.1,0.1,0.1,0.1,0.1,0.1,0.1,0.1,0.1,0.1,0.1,0.1,0.1,0.1,0.1,0.1,0.1,0.1,0.1,0.1,0.1,0.1,0.1,0.1,0.1,0.1,0.1],[0.1,0.1,0.1,0.1,0.1,1.1,2.1,2.1,3.1,3.1,3.1,3.1,3.1,3.1,2.1,2.1,2.1,2.1,1.1,1.1,1.1,1.1,1.1,1.1,1.1,1.1,1.1,1.1,1.1,1.1,1.1,1.1,1.1,1.1,1.1,1.1,1.1,1.1,1.1,1.1,1.1,1.1,1.1,1.1,1.1,1.1,1.1,0.1,0.1,0.1,0.1,0.1,0.1,0.1,0.1,0.1,0.1,0.1,0.1,0.1,0.1,0.1,0.1,0.1,0.1,0.1,0.1,0.1,0.1,0.1,0.1,0.1,0.1,0.1,0.1,0.1,0.1,0.1,0.1,0.1,0.1,0.1,0.1,0.1,0.1,0.1,0.1,0.1,0.1,0.1,0.1,0.1,0.1,0.1,0.1,0.1,0.1,0.1,0.1,0.1],[0.1,0.1,0.1,0.1,0.1,1.1,1.1,2.1,2.1,3.1,3.1,3.1,3.1,3.1,2.1,2.1,2.1,2.1,2.1,1.1,1.1,1.1,1.1,1.1,1.1,1.1,1.1,1.1,1.1,1.1,1.1,1.1,1.1,1.1,1.1,1.1,1.1,1.1,1.1,1.1,1.1,1.1,1.1,1.1,1.1,1.1,1.1,1.1,1.1,0.1,0.1,0.1,0.1,0.1,0.1,0.1,0.1,0.1,0.1,0.1,0.1,0.1,0.1,0.1,0.1,0.1,0.1,0.1,0.1,0.1,0.1,0.1,0.1,0.1,0.1,0.1,0.1,0.1,0.1,0.1,0.1,0.1,0.1,0.1,0.1,0.1,0.1,0.1,0.1,0.1,0.1,0.1,0.1,0.1,0.1,0.1,0.1,0.1,0.1,0.1],[0.1,0.1,0.1,0.1,0.1,1.1,1.1,2.1,2.1,3.1,3.1,3.1,3.1,3.1,2.1,2.1,2.1,2.1,2.1,2.1,1.1,1.1,1.1,1.1,1.1,1.1,1.1,1.1,1.1,1.1,1.1,1.1,1.1,1.1,1.1,1.1,1.1,1.1,1.1,1.1,2.1,2.1,2.1,2.1,2.1,1.1,1.1,1.1,1.1,1.1,0.1,0.1,0.1,0.1,0.1,0.1,0.1,0.1,0.1,0.1,0.1,0.1,0.1,0.1,0.1,0.1,0.1,0.1,0.1,0.1,0.1,0.1,0.1,0.1,0.1,0.1,0.1,0.1,0.1,0.1,0.1,0.1,0.1,0.1,0.1,0.1,0.1,0.1,0.1,0.1,0.1,0.1,0.1,0.1,0.1,0.1,0.1,0.1,0.1,0.1],[0.1,0.1,0.1,0.1,0.1,1.1,1.1,2.1,2.1,2.1,3.1,3.1,3.1,2.1,2.1,2.1,2.1,2.1,2.1,2.1,2.1,2.1,1.1,1.1,1.1,1.1,1.1,1.1,1.1,1.1,1.1,1.1,1.1,1.1,1.1,1.1,1.1,2.1,2.1,2.1,2.1,2.1,2.1,2.1,2.1,2.1,2.1,2.1,1.1,1.1,1.1,0.1,0.1,0.1,0.1,0.1,0.1,0.1,0.1,0.1,0.1,0.1,0.1,0.1,0.1,0.1,0.1,0.1,0.1,0.1,0.1,0.1,0.1,0.1,0.1,0.1,0.1,0.1,0.1,0.1,0.1,0.1,0.1,0.1,0.1,0.1,0.1,0.1,0.1,0.1,0.1,0.1,0.1,0.1,0.1,0.1,0.1,0.1,0.1,0.1],[0.1,0.1,0.1,0.1,0.1,0.1,1.1,1.1,2.1,2.1,2.1,3.1,2.1,2.1,2.1,2.1,2.1,2.1,2.1,2.1,2.1,2.1,1.1,1.1,1.1,1.1,1.1,1.1,1.1,1.1,1.1,1.1,1.1,1.1,2.1,2.1,2.1,2.1,2.1,2.1,3.1,3.1,3.1,3.1,3.1,3.1,3.1,2.1,2.1,1.1,1.1,1.1,0.1,0.1,0.1,0.1,0.1,0.1,0.1,0.1,0.1,0.1,0.1,0.1,0.1,0.1,0.1,0.1,0.1,0.1,0.1,0.1,0.1,0.1,0.1,0.1,0.1,0.1,0.1,0.1,0.1,0.1,0.1,0.1,0.1,0.1,0.1,0.1,0.1,0.1,0.1,0.1,0.1,0.1,0.1,0.1,0.1,0.1,0.1,0.1],[0.1,0.1,0.1,0.1,0.1,0.1,1.1,1.1,2.1,2.1,2.1,2.1,2.1,2.1,2.1,2.1,2.1,2.1,2.1,2.1,1.1,1.1,1.1,1.1,1.1,1.1,1.1,1.1,1.1,2.1,2.1,2.1,2.1,2.1,2.1,2.1,2.1,2.1,3.1,3.1,3.1,3.1,4.1,4.1,4.1,4.1,3.1,3.1,3.1,2.1,2.1,1.1,1.1,0.1,0.1,0.1,0.1,0.1,0.1,0.1,0.1,0.1,0.1,0.1,0.1,0.1,0.1,0.1,0.1,0.1,0.1,0.1,0.1,0.1,0.1,0.1,0.1,0.1,0.1,0.1,0.1,0.1,0.1,0.1,0.1,0.1,0.1,0.1,0.1,0.1,0.1,0.1,0.1,0.1,0.1,0.1,0.1,0.1,0.1,0.1],[0.1,0.1,0.1,0.1,0.1,0.1,1.1,1.1,1.1,2.1,2.1,2.1,2.1,2.1,2.1,2.1,2.1,2.1,2.1,1.1,1.1,1.1,1.1,1.1,1.1,1.1,1.1,1.1,2.1,2.1,2.1,2.1,2.1,2.1,2.1,2.1,3.1,3.1,3.1,4.1,4.1,4.1,4.1,4.1,4.1,4.1,4.1,4.1,3.1,3.1,2.1,1.1,1.1,1.1,0.1,0.1,0.1,0.1,0.1,0.1,0.1,0.1,0.1,0.1,0.1,0.1,0.1,0.1,0.1,0.1,0.1,0.1,0.1,0.1,0.1,0.1,0.1,0.1,0.1,0.1,0.1,0.1,0.1,0.1,0.1,0.1,0.1,0.1,0.1,0.1,0.1,0.1,0.1,0.1,0.1,0.1,0.1,0.1,0.1,0.1],[0.1,0.1,0.1,0.1,0.1,0.1,1.1,1.1,1.1,2.1,2.1,2.1,2.1,2.1,2.1,2.1,2.1,2.1,1.1,1.1,1.1,1.1,1.1,1.1,1.1,1.1,1.1,1.1,2.1,2.1,2.1,2.1,2.1,2.1,3.1,3.1,3.1,4.1,4.1,4.1,4.1,5.1,5.1,5.1,5.1,5.1,5.1,5.1,4.1,3.1,3.1,2.1,1.1,1.1,0.1,0.1,0.1,0.1,0.1,0.1,0.1,0.1,0.1,0.1,0.1,0.1,0.1,0.1,0.1,0.1,0.1,0.1,0.1,0.1,0.1,0.1,0.1,0.1,0.1,0.1,0.1,0.1,0.1,0.1,0.1,0.1,0.1,0.1,0.1,0.1,0.1,0.1,0.1,0.1,0.1,0.1,0.1,0.1,0.1,0.1],[0.1,0.1,0.1,0.1,0.1,0.1,0.1,1.1,1.1,1.1,2.1,2.1,2.1,2.1,2.1,2.1,2.1,1.1,1.1,1.1,1.1,1.1,1.1,1.1,1.1,1.1,1.1,1.1,2.1,2.1,2.1,2.1,3.1,3.1,3.1,3.1,4.1,4.1,4.1,5.1,5.1,6.1,6.1,7.1,7.1,7.1,6.1,5.1,5.1,4.1,3.1,3.1,2.1,1.1,0.1,0.1,0.1,0.1,0.1,0.1,0.1,0.1,0.1,0.1,0.1,0.1,0.1,0.1,0.1,0.1,0.1,0.1,0.1,0.1,0.1,0.1,0.1,0.1,0.1,0.1,0.1,0.1,0.1,0.1,0.1,0.1,0.1,0.1,0.1,0.1,0.1,0.1,0.1,0.1,0.1,0.1,0.1,0.1,0.1,0.1],[0.1,0.1,0.1,0.1,0.1,0.1,0.1,1.1,1.1,1.1,1.1,1.1,2.1,2.1,2.1,2.1,1.1,1.1,1.1,1.1,1.1,1.1,1.1,1.1,1.1,1.1,1.1,1.1,2.1,2.1,2.1,2.1,3.1,3.1,3.1,4.1,4.1,4.1,5.1,5.1,6.1,7.1,7.1,8.1,8.1,8.1,7.1,6.1,6.1,5.1,4.1,3.1,2.1,1.1,1.1,0.1,0.1,0.1,0.1,0.1,0.1,0.1,0.1,0.1,0.1,0.1,0.1,0.1,0.1,0.1,0.1,0.1,0.1,0.1,0.1,0.1,0.1,0.1,0.1,0.1,0.1,0.1,0.1,0.1,0.1,0.1,0.1,0.1,0.1,0.1,0.1,0.1,0.1,0.1,0.1,0.1,0.1,0.1,0.1,0.1],[0.1,0.1,0.1,0.1,0.1,0.1,0.1,1.1,1.1,1.1,1.1,1.1,1.1,1.1,1.1,1.1,1.1,1.1,1.1,1.1,1.1,1.1,1.1,1.1,1.1,1.1,1.1,2.1,2.1,2.1,2.1,3.1,3.1,3.1,4.1,4.1,4.1,5.1,5.1,6.1,7.1,8.1,8.1,9.1,9.1,8.1,8.1,7.1,6.1,5.1,4.1,3.1,2.1,2.1,1.1,0.1,0.1,0.1,0.1,0.1,0.1,0.1,0.1,0.1,0.1,0.1,0.1,0.1,0.1,0.1,0.1,0.1,0.1,0.1,0.1,0.1,0.1,0.1,0.1,0.1,0.1,0.1,0.1,0.1,0.1,0.1,0.1,0.1,0.1,0.1,0.1,0.1,0.1,0.1,0.1,0.1,0.1,0.1,0.1,0.1],[0.1,0.1,0.1,0.1,0.1,0.1,0.1,0.1,1.1,1.1,1.1,1.1,1.1,1.1,1.1,1.1,1.1,1.1,1.1,1.1,1.1,1.1,1.1,1.1,1.1,1.1,1.1,2.1,2.1,2.1,2.1,3.1,3.1,3.1,4.1,4.1,4.1,5.1,6.1,6.1,7.1,8.1,9.1,9.1,9.1,9.1,9.1,8.1,7.1,6.1,5.1,4.1,3.1,2.1,1.1,1.1,0.1,0.1,0.1,0.1,0.1,0.1,0.1,0.1,0.1,0.1,0.1,0.1,0.1,0.1,0.1,0.1,0.1,0.1,0.1,0.1,0.1,0.1,0.1,0.1,0.1,0.1,0.1,0.1,0.1,0.1,0.1,0.1,0.1,0.1,0.1,0.1,0.1,0.1,0.1,0.1,0.1,0.1,0.1,0.1],[0.1,0.1,0.1,0.1,0.1,0.1,0.1,0.1,1.1,1.1,1.1,1.1,1.1,1.1,1.1,1.1,1.1,1.1,1.1,1.1,1.1,1.1,1.1,1.1,1.1,1.1,2.1,2.1,2.1,2.1,2.1,3.1,3.1,3.1,4.1,4.1,5.1,5.1,6.1,7.1,8.1,8.1,9.1,9.1,9.1,9.1,9.1,8.1,7.1,6.1,5.1,4.1,3.1,2.1,1.1,1.1,0.1,0.1,0.1,0.1,0.1,0.1,0.1,0.1,0.1,0.1,0.1,0.1,0.1,0.1,0.1,0.1,0.1,0.1,0.1,0.1,0.1,0.1,0.1,0.1,0.1,0.1,0.1,0.1,0.1,0.1,0.1,0.1,0.1,0.1,0.1,0.1,0.1,0.1,0.1,0.1,0.1,0.1,0.1,0.1],[0.1,0.1,0.1,0.1,0.1,0.1,0.1,0.1,0.1,1.1,1.1,1.1,1.1,1.1,1.1,1.1,1.1,1.1,1.1,1.1,1.1,1.1,1.1,1.1,1.1,1.1,2.1,2.1,2.1,2.1,2.1,3.1,3.1,3.1,4.1,4.1,5.1,5.1,6.1,7.1,8.1,8.1,9.1,9.1,9.1,9.1,9.1,8.1,7.1,6.1,5.1,4.1,3.1,2.1,2.1,1.1,0.1,0.1,0.1,0.1,0.1,0.1,0.1,0.1,0.1,0.1,0.1,0.1,0.1,0.1,0.1,0.1,0.1,0.1,0.1,0.1,0.1,0.1,0.1,0.1,0.1,0.1,0.1,0.1,0.1,0.1,0.1,0.1,0.1,0.1,0.1,0.1,0.1,0.1,0.1,0.1,0.1,0.1,0.1,0.1],[0.1,0.1,0.1,0.1,0.1,0.1,0.1,0.1,0.1,1.1,1.1,1.1,1.1,1.1,1.1,1.1,1.1,1.1,1.1,1.1,1.1,1.1,1.1,1.1,1.1,1.1,2.1,2.1,2.1,2.1,3.1,3.1,3.1,3.1,4.1,4.1,5.1,5.1,6.1,7.1,8.1,8.1,9.1,9.1,9.1,9.1,9.1,8.1,7.1,6.1,5.1,4.1,3.1,2.1,2.1,1.1,0.1,0.1,0.1,0.1,0.1,0.1,0.1,0.1,0.1,0.1,0.1,0.1,0.1,0.1,0.1,0.1,0.1,0.1,0.1,0.1,0.1,0.1,0.1,0.1,0.1,0.1,0.1,0.1,0.1,0.1,0.1,0.1,0.1,0.1,0.1,0.1,0.1,0.1,0.1,0.1,0.1,0.1,0.1,0.1],[0.1,0.1,0.1,0.1,0.1,0.1,0.1,0.1,0.1,0.1,0.1,1.1,1.1,1.1,1.1,1.1,1.1,1.1,1.1,1.1,1.1,1.1,1.1,1.1,1.1,1.1,2.1,2.1,2.1,2.1,3.1,3.1,3.1,3.1,4.1,4.1,5.1,5.1,6.1,7.1,8.1,8.1,9.1,9.1,9.1,9.1,8.1,8.1,7.1,6.1,5.1,4.1,3.1,2.1,2.1,1.1,0.1,0.1,0.1,0.1,0.1,0.1,0.1,0.1,0.1,0.1,0.1,0.1,0.1,0.1,0.1,0.1,0.1,0.1,0.1,0.1,0.1,0.1,0.1,0.1,0.1,0.1,0.1,0.1,0.1,0.1,0.1,0.1,0.1,0.1,0.1,0.1,0.1,0.1,0.1,0.1,0.1,0.1,0.1,0.1],[0.1,0.1,0.1,0.1,0.1,0.1,0.1,0.1,0.1,0.1,0.1,0.1,0.1,0.1,0.1,1.1,1.1,1.1,1.1,1.1,1.1,1.1,1.1,1.1,1.1,1.1,1.1,2.1,2.1,2.1,3.1,3.1,3.1,3.1,4.1,4.1,5.1,5.1,6.1,7.1,7.1,8.1,8.1,9.1,9.1,8.1,8.1,7.1,6.1,5.1,4.1,4.1,3.1,2.1,2.1,1.1,0.1,0.1,0.1,0.1,0.1,0.1,0.1,0.1,0.1,0.1,0.1,0.1,0.1,0.1,0.1,0.1,0.1,0.1,0.1,0.1,0.1,0.1,0.1,0.1,0.1,0.1,0.1,0.1,0.1,0.1,0.1,0.1,0.1,0.1,0.1,0.1,0.1,0.1,0.1,0.1,0.1,0.1,0.1,0.1],[0.1,0.1,0.1,0.1,0.1,0.1,0.1,0.1,0.1,0.1,0.1,0.1,0.1,0.1,0.1,0.1,1.1,1.1,1.1,1.1,1.1,1.1,1.1,1.1,1.1,1.1,1.1,2.1,2.1,2.1,2.1,3.1,3.1,3.1,4.1,4.1,4.1,5.1,6.1,6.1,7.1,8.1,8.1,8.1,8.1,8.1,7.1,6.1,6.1,5.1,4.1,3.1,3.1,2.1,1.1,1.1,0.1,0.1,0.1,0.1,0.1,0.1,0.1,0.1,0.1,0.1,0.1,0.1,0.1,0.1,0.1,0.1,0.1,0.1,0.1,0.1,0.1,0.1,0.1,0.1,0.1,0.1,0.1,0.1,0.1,0.1,0.1,0.1,0.1,0.1,0.1,0.1,0.1,0.1,0.1,0.1,0.1,0.1,0.1,0.1],[0.1,0.1,0.1,0.1,0.1,0.1,0.1,0.1,0.1,0.1,0.1,0.1,0.1,0.1,0.1,0.1,0.1,0.1,1.1,1.1,1.1,1.1,1.1,1.1,1.1,1.1,1.1,2.1,2.1,2.1,2.1,3.1,3.1,3.1,4.1,4.1,4.1,5.1,6.1,6.1,7.1,8.1,8.1,8.1,8.1,7.1,6.1,6.1,5.1,4.1,4.1,3.1,2.1,2.1,1.1,1.1,0.1,0.1,0.1,0.1,0.1,0.1,0.1,0.1,0.1,0.1,0.1,0.1,0.1,0.1,0.1,0.1,0.1,0.1,0.1,0.1,0.1,0.1,0.1,0.1,0.1,0.1,0.1,0.1,0.1,0.1,0.1,0.1,0.1,0.1,0.1,0.1,0.1,0.1,0.1,0.1,0.1,0.1,0.1,0.1],[0.1,0.1,0.1,0.1,0.1,0.1,0.1,0.1,0.1,0.1,0.1,0.1,0.1,0.1,0.1,0.1,0.1,0.1,0.1,0.1,1.1,1.1,1.1,1.1,1.1,1.1,1.1,2.1,2.1,2.1,2.1,3.1,3.1,3.1,4.1,4.1,4.1,5.1,5.1,6.1,7.1,7.1,7.1,7.1,7.1,6.1,6.1,5.1,4.1,4.1,3.1,3.1,2.1,2.1,1.1,1.1,0.1,0.1,0.1,0.1,0.1,0.1,0.1,0.1,0.1,0.1,0.1,0.1,0.1,0.1,0.1,0.1,0.1,0.1,0.1,0.1,0.1,0.1,0.1,0.1,0.1,0.1,0.1,0.1,0.1,0.1,0.1,0.1,0.1,0.1,0.1,0.1,0.1,0.1,0.1,0.1,0.1,0.1,0.1,0.1],[0.1,0.1,0.1,0.1,0.1,0.1,0.1,0.1,0.1,0.1,0.1,0.1,0.1,0.1,0.1,0.1,0.1,0.1,0.1,0.1,0.1,1.1,1.1,1.1,1.1,1.1,1.1,1.1,2.1,2.1,2.1,3.1,3.1,3.1,3.1,4.1,4.1,5.1,5.1,6.1,7.1,7.1,7.1,7.1,7.1,6.1,5.1,5.1,4.1,4.1,3.1,2.1,2.1,1.1,1.1,0.1,0.1,0.1,0.1,0.1,0.1,0.1,0.1,0.1,0.1,0.1,0.1,0.1,0.1,0.1,0.1,0.1,0.1,0.1,0.1,0.1,0.1,0.1,0.1,0.1,0.1,0.1,0.1,0.1,0.1,0.1,0.1,0.1,0.1,0.1,0.1,0.1,0.1,0.1,0.1,0.1,0.1,0.1,0.1,0.1],[0.1,0.1,0.1,0.1,0.1,0.1,0.1,0.1,0.1,0.1,0.1,0.1,0.1,0.1,0.1,0.1,0.1,0.1,0.1,0.1,0.1,1.1,1.1,1.1,1.1,1.1,1.1,1.1,2.1,2.1,2.1,3.1,3.1,3.1,3.1,4.1,4.1,5.1,5.1,6.1,7.1,7.1,7.1,7.1,6.1,6.1,5.1,4.1,4.1,3.1,3.1,2.1,1.1,1.1,1.1,0.1,0.1,0.1,0.1,0.1,0.1,0.1,0.1,0.1,0.1,0.1,0.1,0.1,0.1,0.1,0.1,0.1,0.1,0.1,0.1,0.1,0.1,0.1,0.1,0.1,0.1,0.1,0.1,0.1,0.1,0.1,0.1,0.1,0.1,0.1,0.1,0.1,0.1,0.1,0.1,0.1,0.1,0.1,0.1,0.1],[0.1,0.1,0.1,0.1,0.1,0.1,0.1,0.1,0.1,0.1,0.1,0.1,0.1,0.1,0.1,0.1,0.1,0.1,0.1,0.1,0.1,0.1,1.1,1.1,1.1,1.1,1.1,1.1,1.1,2.1,2.1,2.1,3.1,3.1,3.1,4.1,4.1,5.1,5.1,6.1,7.1,7.1,7.1,6.1,6.1,5.1,5.1,4.1,3.1,3.1,2.1,2.1,1.1,1.1,0.1,0.1,0.1,0.1,0.1,0.1,0.1,0.1,0.1,0.1,0.1,0.1,0.1,0.1,0.1,0.1,0.1,0.1,0.1,0.1,0.1,0.1,0.1,0.1,0.1,0.1,0.1,0.1,0.1,0.1,0.1,0.1,0.1,0.1,0.1,0.1,0.1,0.1,0.1,0.1,0.1,0.1,0.1,0.1,0.1,0.1],[0.1,0.1,0.1,0.1,0.1,0.1,0.1,0.1,0.1,0.1,0.1,0.1,0.1,0.1,0.1,0.1,0.1,0.1,0.1,0.1,0.1,0.1,0.1,1.1,1.1,1.1,1.1,1.1,1.1,2.1,2.1,2.1,3.1,3.1,3.1,4.1,4.1,5.1,5.1,6.1,6.1,7.1,7.1,6.1,6.1,5.1,4.1,4.1,3.1,3.1,2.1,1.1,1.1,1.1,0.1,0.1,0.1,0.1,0.1,0.1,0.1,0.1,0.1,0.1,0.1,0.1,0.1,0.1,0.1,0.1,0.1,0.1,0.1,0.1,0.1,0.1,0.1,0.1,0.1,0.1,0.1,0.1,0.1,0.1,0.1,0.1,0.1,0.1,0.1,0.1,0.1,0.1,0.1,0.1,0.1,0.1,0.1,0.1,0.1,0.1],[0.1,0.1,0.1,0.1,0.1,0.1,0.1,0.1,0.1,0.1,0.1,0.1,0.1,0.1,0.1,0.1,0.1,0.1,0.1,0.1,0.1,0.1,0.1,0.1,1.1,1.1,1.1,1.1,1.1,2.1,2.1,2.1,2.1,3.1,3.1,4.1,4.1,4.1,5.1,6.1,6.1,6.1,6.1,6.1,5.1,5.1,4.1,4.1,3.1,2.1,2.1,1.1,1.1,0.1,0.1,0.1,0.1,0.1,0.1,0.1,0.1,0.1,0.1,0.1,0.1,0.1,0.1,0.1,0.1,0.1,0.1,0.1,0.1,0.1,0.1,0.1,0.1,0.1,0.1,0.1,0.1,0.1,0.1,0.1,0.1,0.1,0.1,0.1,0.1,0.1,0.1,0.1,0.1,0.1,0.1,0.1,0.1,0.1,0.1,0.1],[0.1,0.1,0.1,0.1,0.1,0.1,0.1,0.1,0.1,0.1,0.1,0.1,0.1,0.1,0.1,0.1,0.1,0.1,0.1,0.1,0.1,0.1,0.1,0.1,1.1,1.1,1.1,1.1,1.1,1.1,2.1,2.1,2.1,3.1,3.1,3.1,4.1,4.1,5.1,5.1,6.1,6.1,6.1,6.1,5.1,4.1,4.1,3.1,3.1,2.1,2.1,1.1,1.1,0.1,0.1,0.1,0.1,0.1,0.1,0.1,0.1,0.1,0.1,0.1,0.1,0.1,0.1,0.1,0.1,0.1,0.1,0.1,0.1,0.1,0.1,0.1,0.1,0.1,0.1,0.1,0.1,0.1,0.1,0.1,0.1,0.1,0.1,0.1,0.1,0.1,0.1,0.1,0.1,0.1,0.1,0.1,0.1,0.1,0.1,0.1],[0.1,0.1,0.1,0.1,0.1,0.1,0.1,0.1,0.1,0.1,0.1,0.1,0.1,0.1,0.1,0.1,0.1,0.1,0.1,0.1,0.1,0.1,0.1,0.1,1.1,1.1,1.1,1.1,1.1,1.1,2.1,2.1,2.1,2.1,3.1,3.1,3.1,4.1,4.1,5.1,5.1,5.1,6.1,5.1,5.1,4.1,4.1,3.1,2.1,2.1,1.1,1.1,0.1,0.1,0.1,0.1,0.1,0.1,0.1,0.1,0.1,0.1,0.1,0.1,0.1,0.1,0.1,0.1,0.1,0.1,0.1,0.1,0.1,0.1,0.1,0.1,0.1,0.1,0.1,0.1,0.1,0.1,0.1,0.1,0.1,0.1,0.1,0.1,0.1,0.1,0.1,0.1,0.1,0.1,0.1,0.1,0.1,0.1,0.1,0.1],[0.1,0.1,0.1,0.1,0.1,0.1,0.1,0.1,0.1,0.1,0.1,0.1,0.1,0.1,0.1,0.1,0.1,0.1,0.1,0.1,0.1,0.1,0.1,0.1,1.1,1.1,1.1,1.1,1.1,1.1,2.1,2.1,2.1,2.1,3.1,3.1,3.1,4.1,4.1,4.1,5.1,5.1,5.1,5.1,4.1,4.1,3.1,3.1,2.1,1.1,1.1,1.1,0.1,0.1,0.1,0.1,0.1,0.1,0.1,0.1,0.1,0.1,0.1,0.1,0.1,0.1,0.1,0.1,0.1,0.1,0.1,0.1,0.1,0.1,0.1,0.1,0.1,0.1,0.1,0.1,0.1,0.1,0.1,0.1,0.1,0.1,0.1,0.1,0.1,0.1,0.1,0.1,0.1,0.1,0.1,0.1,0.1,0.1,0.1,0.1],[0.1,0.1,0.1,0.1,0.1,0.1,0.1,0.1,0.1,0.1,0.1,0.1,0.1,0.1,0.1,0.1,0.1,0.1,0.1,0.1,0.1,0.1,0.1,0.1,1.1,1.1,1.1,1.1,1.1,1.1,2.1,2.1,2.1,2.1,2.1,3.1,3.1,3.1,4.1,4.1,4.1,5.1,5.1,4.1,4.1,4.1,3.1,2.1,2.1,1.1,1.1,0.1,0.1,0.1,0.1,0.1,0.1,0.1,0.1,0.1,0.1,0.1,0.1,0.1,0.1,0.1,0.1,0.1,0.1,0.1,0.1,0.1,0.1,0.1,0.1,0.1,0.1,0.1,0.1,0.1,0.1,0.1,0.1,0.1,0.1,0.1,0.1,0.1,0.1,0.1,0.1,0.1,0.1,0.1,0.1,0.1,0.1,0.1,0.1,0.1],[0.1,0.1,0.1,0.1,0.1,0.1,0.1,0.1,0.1,0.1,0.1,0.1,0.1,0.1,0.1,0.1,0.1,0.1,0.1,0.1,0.1,0.1,0.1,0.1,0.1,1.1,1.1,1.1,1.1,1.1,1.1,2.1,2.1,2.1,2.1,2.1,3.1,3.1,3.1,4.1,4.1,4.1,4.1,4.1,4.1,3.1,3.1,2.1,1.1,1.1,1.1,0.1,0.1,0.1,0.1,0.1,0.1,0.1,0.1,0.1,0.1,0.1,0.1,0.1,0.1,0.1,0.1,0.1,0.1,0.1,0.1,0.1,0.1,0.1,0.1,0.1,0.1,0.1,0.1,0.1,0.1,0.1,0.1,0.1,0.1,0.1,0.1,0.1,0.1,0.1,0.1,0.1,0.1,0.1,0.1,0.1,0.1,0.1,0.1,0.1],[0.1,0.1,0.1,0.1,0.1,0.1,0.1,0.1,0.1,0.1,0.1,0.1,0.1,0.1,0.1,0.1,0.1,0.1,0.1,0.1,0.1,0.1,0.1,0.1,0.1,1.1,1.1,1.1,1.1,1.1,1.1,1.1,2.1,2.1,2.1,2.1,2.1,3.1,3.1,3.1,3.1,4.1,4.1,3.1,3.1,3.1,2.1,2.1,1.1,1.1,0.1,0.1,0.1,0.1,0.1,0.1,0.1,0.1,0.1,0.1,0.1,0.1,0.1,0.1,0.1,0.1,0.1,0.1,0.1,0.1,0.1,0.1,0.1,0.1,0.1,0.1,0.1,0.1,0.1,0.1,0.1,0.1,0.1,0.1,0.1,0.1,0.1,0.1,0.1,0.1,0.1,0.1,0.1,0.1,0.1,0.1,0.1,0.1,0.1,0.1],[0.1,0.1,0.1,0.1,0.1,0.1,0.1,0.1,0.1,0.1,0.1,0.1,0.1,0.1,0.1,0.1,0.1,0.1,0.1,0.1,0.1,0.1,0.1,0.1,0.1,0.1,1.1,1.1,1.1,1.1,1.1,1.1,1.1,2.1,2.1,2.1,2.1,2.1,3.1,3.1,3.1,3.1,3.1,3.1,3.1,2.1,2.1,1.1,1.1,0.1,0.1,0.1,0.1,0.1,0.1,0.1,0.1,0.1,0.1,0.1,0.1,0.1,0.1,0.1,0.1,0.1,0.1,0.1,0.1,0.1,0.1,0.1,0.1,0.1,0.1,0.1,0.1,0.1,0.1,0.1,0.1,0.1,0.1,0.1,0.1,0.1,0.1,0.1,0.1,0.1,0.1,0.1,0.1,0.1,0.1,0.1,0.1,0.1,0.1,0.1],[0.1,0.1,0.1,0.1,0.1,0.1,0.1,0.1,0.1,0.1,0.1,0.1,0.1,0.1,0.1,0.1,0.1,0.1,0.1,0.1,0.1,0.1,0.1,0.1,0.1,0.1,1.1,1.1,1.1,1.1,1.1,1.1,1.1,1.1,2.1,2.1,2.1,2.1,2.1,2.1,2.1,3.1,2.1,2.1,2.1,2.1,1.1,1.1,0.1,0.1,0.1,0.1,0.1,0.1,0.1,0.1,0.1,0.1,0.1,0.1,0.1,0.1,0.1,0.1,0.1,0.1,0.1,0.1,0.1,0.1,0.1,0.1,0.1,0.1,0.1,0.1,0.1,0.1,0.1,0.1,0.1,0.1,0.1,0.1,0.1,0.1,0.1,0.1,0.1,0.1,0.1,0.1,0.1,0.1,0.1,0.1,0.1,0.1,0.1,0.1],[0.1,0.1,0.1,0.1,0.1,0.1,0.1,0.1,0.1,0.1,0.1,0.1,0.1,0.1,0.1,0.1,0.1,0.1,0.1,0.1,0.1,0.1,0.1,0.1,0.1,0.1,0.1,0.1,1.1,1.1,1.1,1.1,1.1,1.1,1.1,1.1,2.1,2.1,2.1,2.1,2.1,2.1,2.1,2.1,2.1,1.1,1.1,1.1,0.1,0.1,0.1,0.1,0.1,0.1,0.1,0.1,0.1,0.1,0.1,0.1,0.1,0.1,0.1,0.1,0.1,0.1,0.1,0.1,0.1,0.1,0.1,0.1,0.1,0.1,0.1,0.1,0.1,0.1,0.1,0.1,0.1,0.1,0.1,0.1,0.1,0.1,0.1,0.1,0.1,0.1,0.1,0.1,0.1,0.1,0.1,0.1,0.1,0.1,0.1,0.1],[0.1,0.1,0.1,0.1,0.1,0.1,0.1,0.1,0.1,0.1,0.1,0.1,0.1,0.1,0.1,0.1,0.1,0.1,0.1,0.1,0.1,0.1,0.1,0.1,0.1,0.1,0.1,0.1,0.1,1.1,1.1,1.1,1.1,1.1,1.1,1.1,1.1,1.1,2.1,2.1,2.1,2.1,2.1,1.1,1.1,1.1,1.1,0.1,0.1,0.1,0.1,0.1,0.1,0.1,0.1,0.1,0.1,0.1,0.1,0.1,0.1,0.1,0.1,0.1,0.1,0.1,0.1,0.1,0.1,0.1,0.1,0.1,0.1,0.1,0.1,0.1,0.1,0.1,0.1,0.1,0.1,0.1,0.1,0.1,0.1,0.1,0.1,0.1,0.1,0.1,0.1,0.1,0.1,0.1,0.1,0.1,0.1,0.1,0.1,0.1],[0.1,0.1,0.1,0.1,0.1,0.1,0.1,0.1,0.1,0.1,0.1,0.1,0.1,0.1,0.1,0.1,0.1,0.1,0.1,0.1,0.1,0.1,0.1,0.1,0.1,0.1,0.1,0.1,0.1,0.1,1.1,1.1,1.1,1.1,1.1,1.1,1.1,1.1,1.1,1.1,1.1,1.1,1.1,1.1,1.1,1.1,0.1,0.1,0.1,0.1,0.1,0.1,0.1,0.1,0.1,0.1,0.1,0.1,0.1,0.1,0.1,0.1,0.1,0.1,0.1,0.1,0.1,0.1,0.1,0.1,0.1,0.1,0.1,0.1,0.1,0.1,0.1,0.1,0.1,0.1,0.1,0.1,0.1,0.1,0.1,0.1,0.1,0.1,0.1,0.1,0.1,0.1,0.1,0.1,0.1,0.1,0.1,0.1,0.1,0.1],[0.1,0.1,0.1,0.1,0.1,0.1,0.1,0.1,0.1,0.1,0.1,0.1,0.1,0.1,0.1,0.1,0.1,0.1,0.1,0.1,0.1,0.1,0.1,0.1,0.1,0.1,0.1,0.1,0.1,0.1,0.1,1.1,1.1,1.1,1.1,1.1,1.1,1.1,1.1,1.1,1.1,1.1,1.1,1.1,0.1,0.1,0.1,0.1,0.1,0.1,0.1,0.1,0.1,0.1,0.1,0.1,0.1,0.1,0.1,0.1,0.1,0.1,0.1,0.1,0.1,0.1,0.1,0.1,0.1,0.1,0.1,0.1,0.1,0.1,0.1,0.1,0.1,0.1,0.1,0.1,0.1,0.1,0.1,0.1,0.1,0.1,0.1,0.1,0.1,0.1,0.1,0.1,0.1,0.1,0.1,0.1,0.1,0.1,0.1,0.1],[0.1,0.1,0.1,0.1,0.1,0.1,0.1,0.1,0.1,0.1,0.1,0.1,0.1,0.1,0.1,0.1,0.1,0.1,0.1,0.1,0.1,0.1,0.1,0.1,0.1,0.1,0.1,0.1,0.1,0.1,0.1,0.1,0.1,1.1,1.1,1.1,1.1,1.1,1.1,1.1,1.1,1.1,1.1,0.1,0.1,0.1,0.1,0.1,0.1,0.1,0.1,0.1,0.1,0.1,0.1,0.1,0.1,0.1,0.1,0.1,0.1,0.1,0.1,0.1,0.1,0.1,0.1,0.1,0.1,0.1,0.1,0.1,0.1,0.1,0.1,0.1,0.1,0.1,0.1,0.1,0.1,0.1,0.1,0.1,0.1,0.1,0.1,0.1,0.1,0.1,0.1,0.1,0.1,0.1,0.1,0.1,0.1,0.1,0.1,0.1],[0.1,0.1,0.1,0.1,0.1,0.1,0.1,0.1,0.1,0.1,0.1,0.1,0.1,0.1,0.1,0.1,0.1,0.1,0.1,0.1,0.1,0.1,0.1,0.1,0.1,0.1,0.1,0.1,0.1,0.1,0.1,0.1,0.1,0.1,0.1,1.1,1.1,1.1,1.1,1.1,1.1,0.1,0.1,0.1,0.1,0.1,0.1,0.1,0.1,0.1,0.1,0.1,0.1,0.1,0.1,0.1,0.1,0.1,0.1,0.1,0.1,0.1,0.1,0.1,0.1,0.1,0.1,0.1,0.1,0.1,0.1,0.1,0.1,0.1,0.1,0.1,0.1,0.1,0.1,0.1,0.1,0.1,0.1,0.1,0.1,0.1,0.1,0.1,0.1,0.1,0.1,0.1,0.1,0.1,0.1,0.1,0.1,0.1,0.1,0.1],[0.1,0.1,0.1,0.1,0.1,0.1,0.1,0.1,0.1,0.1,0.1,0.1,0.1,0.1,0.1,0.1,0.1,0.1,0.1,0.1,0.1,0.1,0.1,0.1,0.1,0.1,0.1,0.1,0.1,0.1,0.1,0.1,0.1,0.1,0.1,0.1,0.1,0.1,0.1,0.1,0.1,0.1,0.1,0.1,0.1,0.1,0.1,0.1,0.1,0.1,0.1,0.1,0.1,0.1,0.1,0.1,0.1,0.1,0.1,0.1,0.1,0.1,0.1,0.1,0.1,0.1,0.1,0.1,0.1,0.1,0.1,0.1,0.1,0.1,0.1,0.1,0.1,0.1,0.1,0.1,0.1,0.1,0.1,0.1,0.1,0.1,0.1,0.1,0.1,0.1,0.1,0.1,0.1,0.1,0.1,0.1,0.1,0.1,0.1,0.1],[0.1,0.1,0.1,0.1,0.1,0.1,0.1,0.1,0.1,0.1,0.1,0.1,0.1,0.1,0.1,0.1,0.1,0.1,0.1,0.1,0.1,0.1,0.1,0.1,0.1,0.1,0.1,0.1,0.1,0.1,0.1,0.1,0.1,0.1,0.1,0.1,0.1,0.1,0.1,0.1,0.1,0.1,0.1,0.1,0.1,0.1,0.1,0.1,0.1,0.1,0.1,0.1,0.1,0.1,0.1,0.1,0.1,0.1,0.1,0.1,0.1,0.1,0.1,0.1,0.1,0.1,0.1,0.1,0.1,0.1,0.1,0.1,0.1,0.1,0.1,0.1,0.1,0.1,0.1,0.1,0.1,0.1,0.1,0.1,0.1,0.1,0.1,0.1,0.1,0.1,0.1,0.1,0.1,0.1,0.1,0.1,0.1,0.1,0.1,0.1],[0.1,0.1,0.1,0.1,0.1,0.1,0.1,0.1,0.1,0.1,0.1,0.1,0.1,0.1,0.1,0.1,0.1,0.1,0.1,0.1,0.1,0.1,0.1,0.1,0.1,0.1,0.1,0.1,0.1,0.1,0.1,0.1,0.1,0.1,0.1,0.1,0.1,0.1,0.1,0.1,0.1,0.1,0.1,0.1,0.1,0.1,0.1,0.1,0.1,0.1,0.1,0.1,0.1,0.1,0.1,0.1,0.1,0.1,0.1,0.1,0.1,0.1,0.1,0.1,0.1,0.1,0.1,0.1,0.1,0.1,0.1,0.1,0.1,0.1,0.1,0.1,0.1,0.1,0.1,0.1,0.1,0.1,0.1,0.1,0.1,0.1,0.1,0.1,0.1,0.1,0.1,0.1,0.1,0.1,0.1,0.1,0.1,0.1,0.1,0.1],[0.1,0.1,0.1,0.1,0.1,0.1,0.1,0.1,0.1,0.1,0.1,0.1,0.1,0.1,0.1,0.1,0.1,0.1,0.1,0.1,0.1,0.1,0.1,0.1,0.1,0.1,0.1,0.1,0.1,0.1,0.1,0.1,0.1,0.1,0.1,0.1,0.1,0.1,0.1,0.1,0.1,0.1,0.1,0.1,0.1,0.1,0.1,0.1,0.1,0.1,0.1,0.1,0.1,0.1,0.1,0.1,0.1,0.1,0.1,0.1,0.1,0.1,0.1,0.1,0.1,0.1,0.1,0.1,0.1,0.1,0.1,0.1,0.1,0.1,0.1,0.1,0.1,0.1,0.1,0.1,0.1,0.1,0.1,0.1,0.1,0.1,0.1,0.1,0.1,0.1,0.1,0.1,0.1,0.1,0.1,0.1,0.1,0.1,0.1,0.1],[0.1,0.1,0.1,0.1,0.1,0.1,0.1,0.1,0.1,0.1,0.1,0.1,0.1,0.1,0.1,0.1,0.1,0.1,0.1,0.1,0.1,0.1,0.1,0.1,0.1,0.1,0.1,0.1,0.1,0.1,0.1,0.1,0.1,0.1,0.1,0.1,0.1,0.1,0.1,0.1,0.1,0.1,0.1,0.1,0.1,0.1,0.1,0.1,0.1,0.1,0.1,0.1,0.1,0.1,0.1,0.1,0.1,0.1,0.1,0.1,0.1,0.1,0.1,0.1,0.1,0.1,0.1,0.1,0.1,0.1,0.1,0.1,0.1,0.1,0.1,0.1,0.1,0.1,0.1,0.1,0.1,0.1,0.1,0.1,0.1,0.1,0.1,0.1,0.1,0.1,0.1,0.1,0.1,0.1,0.1,0.1,0.1,0.1,0.1,0.1],[0.1,0.1,0.1,0.1,0.1,0.1,0.1,0.1,0.1,0.1,0.1,0.1,0.1,0.1,0.1,0.1,0.1,0.1,0.1,0.1,0.1,0.1,0.1,0.1,0.1,0.1,0.1,0.1,0.1,0.1,0.1,0.1,0.1,0.1,0.1,0.1,0.1,0.1,0.1,0.1,0.1,0.1,0.1,0.1,0.1,0.1,0.1,0.1,0.1,0.1,0.1,0.1,0.1,0.1,0.1,0.1,0.1,0.1,0.1,0.1,0.1,0.1,0.1,0.1,0.1,0.1,0.1,0.1,0.1,0.1,0.1,0.1,0.1,0.1,0.1,0.1,0.1,0.1,0.1,0.1,0.1,0.1,0.1,0.1,0.1,0.1,0.1,0.1,0.1,0.1,0.1,0.1,0.1,0.1,0.1,0.1,0.1,0.1,0.1,0.1],[0.1,0.1,0.1,0.1,0.1,0.1,0.1,0.1,0.1,0.1,0.1,0.1,0.1,0.1,0.1,0.1,0.1,0.1,0.1,0.1,0.1,0.1,0.1,0.1,0.1,0.1,0.1,0.1,0.1,0.1,0.1,0.1,0.1,0.1,0.1,0.1,0.1,0.1,0.1,0.1,0.1,0.1,0.1,0.1,0.1,0.1,0.1,0.1,0.1,0.1,0.1,0.1,0.1,0.1,0.1,0.1,0.1,0.1,0.1,0.1,0.1,0.1,0.1,0.1,0.1,0.1,0.1,0.1,0.1,0.1,0.1,0.1,0.1,0.1,0.1,0.1,0.1,0.1,0.1,0.1,0.1,0.1,0.1,0.1,0.1,0.1,0.1,0.1,0.1,0.1,0.1,0.1,0.1,0.1,0.1,0.1,0.1,0.1,0.1,0.1],[0.1,0.1,0.1,0.1,0.1,0.1,0.1,0.1,0.1,0.1,0.1,0.1,0.1,0.1,0.1,0.1,0.1,0.1,0.1,0.1,0.1,0.1,0.1,0.1,0.1,0.1,0.1,0.1,0.1,0.1,0.1,0.1,0.1,0.1,0.1,0.1,0.1,0.1,0.1,0.1,0.1,0.1,0.1,0.1,0.1,0.1,0.1,0.1,0.1,0.1,0.1,0.1,0.1,0.1,0.1,0.1,0.1,0.1,0.1,0.1,0.1,0.1,0.1,0.1,0.1,0.1,0.1,0.1,0.1,0.1,0.1,0.1,0.1,0.1,0.1,0.1,0.1,0.1,0.1,0.1,0.1,0.1,0.1,0.1,0.1,0.1,0.1,0.1,0.1,0.1,0.1,0.1,0.1,0.1,0.1,0.1,0.1,0.1,0.1,0.1],[0.1,0.1,0.1,0.1,0.1,0.1,0.1,0.1,0.1,0.1,0.1,0.1,0.1,0.1,0.1,0.1,0.1,0.1,0.1,0.1,0.1,0.1,0.1,0.1,0.1,0.1,0.1,0.1,0.1,0.1,0.1,0.1,0.1,0.1,0.1,0.1,0.1,0.1,0.1,0.1,0.1,0.1,0.1,0.1,0.1,0.1,0.1,0.1,0.1,0.1,0.1,0.1,0.1,0.1,0.1,0.1,0.1,0.1,0.1,0.1,0.1,0.1,0.1,0.1,0.1,0.1,0.1,0.1,0.1,0.1,0.1,0.1,0.1,0.1,0.1,0.1,0.1,0.1,0.1,0.1,0.1,0.1,0.1,0.1,0.1,0.1,0.1,0.1,0.1,0.1,0.1,0.1,0.1,0.1,0.1,0.1,0.1,0.1,0.1,0.1],[0.1,0.1,0.1,0.1,0.1,0.1,0.1,0.1,0.1,0.1,0.1,0.1,0.1,0.1,0.1,0.1,0.1,0.1,0.1,0.1,0.1,0.1,0.1,0.1,0.1,0.1,0.1,0.1,0.1,0.1,0.1,0.1,0.1,0.1,0.1,0.1,0.1,0.1,0.1,0.1,0.1,0.1,0.1,0.1,0.1,0.1,0.1,0.1,0.1,0.1,0.1,0.1,0.1,0.1,0.1,0.1,0.1,0.1,0.1,0.1,0.1,0.1,0.1,0.1,0.1,0.1,0.1,0.1,0.1,0.1,0.1,0.1,0.1,0.1,0.1,0.1,0.1,0.1,0.1,0.1,0.1,0.1,0.1,0.1,0.1,0.1,0.1,0.1,0.1,0.1,0.1,0.1,0.1,0.1,0.1,0.1,0.1,0.1,0.1,0.1],[0.1,0.1,0.1,0.1,0.1,0.1,0.1,0.1,0.1,0.1,0.1,0.1,0.1,0.1,0.1,0.1,0.1,0.1,0.1,0.1,0.1,0.1,0.1,0.1,0.1,0.1,0.1,0.1,0.1,0.1,0.1,0.1,0.1,0.1,0.1,0.1,0.1,0.1,0.1,0.1,0.1,0.1,0.1,0.1,0.1,0.1,0.1,0.1,0.1,0.1,0.1,0.1,0.1,0.1,0.1,0.1,0.1,0.1,0.1,0.1,0.1,0.1,0.1,0.1,0.1,0.1,0.1,0.1,0.1,0.1,0.1,0.1,0.1,0.1,0.1,0.1,0.1,0.1,0.1,0.1,0.1,0.1,0.1,0.1,0.1,0.1,0.1,0.1,0.1,0.1,0.1,0.1,0.1,0.1,0.1,0.1,0.1,0.1,0.1,0.1],[0.1,0.1,0.1,0.1,0.1,0.1,0.1,0.1,0.1,0.1,0.1,0.1,0.1,0.1,0.1,0.1,0.1,0.1,0.1,0.1,0.1,0.1,0.1,0.1,0.1,0.1,0.1,0.1,0.1,0.1,0.1,0.1,0.1,0.1,0.1,0.1,0.1,0.1,0.1,0.1,0.1,0.1,0.1,0.1,0.1,0.1,0.1,0.1,0.1,0.1,0.1,0.1,0.1,0.1,0.1,0.1,0.1,0.1,0.1,0.1,0.1,0.1,0.1,0.1,0.1,0.1,0.1,0.1,0.1,0.1,0.1,0.1,0.1,0.1,0.1,0.1,0.1,0.1,0.1,0.1,0.1,0.1,0.1,0.1,0.1,0.1,0.1,0.1,0.1,0.1,0.1,0.1,0.1,0.1,0.1,0.1,0.1,0.1,0.1,0.1],[0.1,0.1,0.1,0.1,0.1,0.1,0.1,0.1,0.1,0.1,0.1,0.1,0.1,0.1,0.1,0.1,0.1,0.1,0.1,0.1,0.1,0.1,0.1,0.1,0.1,0.1,0.1,0.1,0.1,0.1,0.1,0.1,0.1,0.1,0.1,0.1,0.1,0.1,0.1,0.1,0.1,0.1,0.1,0.1,0.1,0.1,0.1,0.1,0.1,0.1,0.1,0.1,0.1,0.1,0.1,0.1,0.1,0.1,0.1,0.1,0.1,0.1,0.1,0.1,0.1,0.1,0.1,0.1,0.1,0.1,0.1,0.1,0.1,0.1,0.1,0.1,0.1,0.1,0.1,0.1,0.1,0.1,0.1,0.1,0.1,0.1,0.1,0.1,0.1,0.1,0.1,0.1,0.1,0.1,0.1,0.1,0.1,0.1,0.1,0.1],[0.1,0.1,0.1,0.1,0.1,0.1,0.1,0.1,0.1,0.1,0.1,0.1,0.1,0.1,0.1,0.1,0.1,0.1,0.1,0.1,0.1,0.1,0.1,0.1,0.1,0.1,0.1,0.1,0.1,0.1,0.1,0.1,0.1,0.1,0.1,0.1,0.1,0.1,0.1,0.1,0.1,0.1,0.1,0.1,0.1,0.1,0.1,0.1,0.1,0.1,0.1,0.1,0.1,0.1,0.1,0.1,0.1,0.1,0.1,0.1,0.1,0.1,0.1,0.1,0.1,0.1,0.1,0.1,0.1,0.1,0.1,0.1,0.1,0.1,0.1,0.1,0.1,0.1,0.1,0.1,0.1,0.1,0.1,0.1,0.1,0.1,0.1,0.1,0.1,0.1,0.1,0.1,0.1,0.1,0.1,0.1,0.1,0.1,0.1,0.1],[0.1,0.1,0.1,0.1,0.1,0.1,0.1,0.1,0.1,0.1,0.1,0.1,0.1,0.1,0.1,0.1,0.1,0.1,0.1,0.1,0.1,0.1,0.1,0.1,0.1,0.1,0.1,0.1,0.1,0.1,0.1,0.1,0.1,0.1,0.1,0.1,0.1,0.1,0.1,0.1,0.1,0.1,0.1,0.1,0.1,0.1,0.1,0.1,0.1,0.1,0.1,0.1,0.1,0.1,0.1,0.1,0.1,0.1,0.1,0.1,0.1,0.1,0.1,0.1,0.1,0.1,0.1,0.1,0.1,0.1,0.1,0.1,0.1,0.1,0.1,0.1,0.1,0.1,0.1,0.1,0.1,0.1,0.1,0.1,0.1,0.1,0.1,0.1,0.1,0.1,0.1,0.1,0.1,0.1,0.1,0.1,0.1,0.1,0.1,0.1],[0.1,0.1,0.1,0.1,0.1,0.1,0.1,0.1,0.1,0.1,0.1,0.1,0.1,0.1,0.1,0.1,0.1,0.1,0.1,0.1,0.1,0.1,0.1,0.1,0.1,0.1,0.1,0.1,0.1,0.1,0.1,0.1,0.1,0.1,0.1,0.1,0.1,0.1,0.1,0.1,0.1,0.1,0.1,0.1,0.1,0.1,0.1,0.1,0.1,0.1,0.1,0.1,0.1,0.1,0.1,0.1,0.1,0.1,0.1,0.1,0.1,0.1,0.1,0.1,0.1,0.1,0.1,0.1,0.1,0.1,0.1,0.1,0.1,0.1,0.1,0.1,0.1,0.1,0.1,0.1,0.1,0.1,0.1,0.1,0.1,0.1,0.1,0.1,0.1,0.1,0.1,0.1,0.1,0.1,0.1,0.1,0.1,0.1,0.1,0.1],[0.1,0.1,0.1,0.1,0.1,0.1,0.1,0.1,0.1,0.1,0.1,0.1,0.1,0.1,0.1,0.1,0.1,0.1,0.1,0.1,0.1,0.1,0.1,0.1,0.1,0.1,0.1,0.1,0.1,0.1,0.1,0.1,0.1,0.1,0.1,0.1,0.1,0.1,0.1,0.1,0.1,0.1,0.1,0.1,0.1,0.1,0.1,0.1,0.1,0.1,0.1,0.1,0.1,0.1,0.1,0.1,0.1,0.1,0.1,0.1,0.1,0.1,0.1,0.1,0.1,0.1,0.1,0.1,0.1,0.1,0.1,0.1,0.1,0.1,0.1,0.1,0.1,0.1,0.1,0.1,0.1,0.1,0.1,0.1,0.1,0.1,0.1,0.1,0.1,0.1,0.1,0.1,0.1,0.1,0.1,0.1,0.1,0.1,0.1,0.1],[0.1,0.1,0.1,0.1,0.1,0.1,0.1,0.1,0.1,0.1,0.1,0.1,0.1,0.1,0.1,0.1,0.1,0.1,0.1,0.1,0.1,0.1,0.1,0.1,0.1,0.1,0.1,0.1,0.1,0.1,0.1,0.1,0.1,0.1,0.1,0.1,0.1,0.1,0.1,0.1,0.1,0.1,0.1,0.1,0.1,0.1,0.1,0.1,0.1,0.1,0.1,0.1,0.1,0.1,0.1,0.1,0.1,0.1,0.1,0.1,0.1,0.1,0.1,0.1,0.1,0.1,0.1,0.1,0.1,0.1,0.1,0.1,0.1,0.1,0.1,0.1,0.1,0.1,0.1,0.1,0.1,0.1,0.1,0.1,0.1,0.1,0.1,0.1,0.1,0.1,0.1,0.1,0.1,0.1,0.1,0.1,0.1,0.1,0.1,0.1],[0.1,0.1,0.1,0.1,0.1,0.1,0.1,0.1,0.1,0.1,0.1,0.1,0.1,0.1,0.1,0.1,0.1,0.1,0.1,0.1,0.1,0.1,0.1,0.1,0.1,0.1,0.1,0.1,0.1,0.1,0.1,0.1,0.1,0.1,0.1,0.1,0.1,0.1,0.1,0.1,0.1,0.1,0.1,0.1,0.1,0.1,0.1,0.1,0.1,0.1,0.1,0.1,0.1,0.1,0.1,0.1,0.1,0.1,0.1,0.1,0.1,0.1,0.1,0.1,0.1,0.1,0.1,0.1,0.1,0.1,0.1,0.1,0.1,0.1,0.1,0.1,0.1,0.1,0.1,0.1,0.1,0.1,0.1,0.1,0.1,0.1,0.1,0.1,0.1,0.1,0.1,0.1,0.1,0.1,0.1,0.1,0.1,0.1,0.1,0.1],[0.1,0.1,0.1,0.1,0.1,0.1,0.1,0.1,0.1,0.1,0.1,0.1,0.1,0.1,0.1,0.1,0.1,0.1,0.1,0.1,0.1,0.1,0.1,0.1,0.1,0.1,0.1,0.1,0.1,0.1,0.1,0.1,0.1,0.1,0.1,0.1,0.1,0.1,0.1,0.1,0.1,0.1,0.1,0.1,0.1,0.1,0.1,0.1,0.1,0.1,0.1,0.1,0.1,0.1,0.1,0.1,0.1,0.1,0.1,0.1,0.1,0.1,0.1,0.1,0.1,0.1,0.1,0.1,0.1,0.1,0.1,0.1,0.1,0.1,0.1,0.1,0.1,0.1,0.1,0.1,0.1,0.1,0.1,0.1,0.1,0.1,0.1,0.1,0.1,0.1,0.1,0.1,0.1,0.1,0.1,0.1,0.1,0.1,0.1,0.1],[0.1,0.1,0.1,0.1,0.1,0.1,0.1,0.1,0.1,0.1,0.1,0.1,0.1,0.1,0.1,0.1,0.1,0.1,0.1,0.1,0.1,0.1,0.1,0.1,0.1,0.1,0.1,0.1,0.1,0.1,0.1,0.1,0.1,0.1,0.1,0.1,0.1,0.1,0.1,0.1,0.1,0.1,0.1,0.1,0.1,0.1,0.1,0.1,0.1,0.1,0.1,0.1,0.1,0.1,0.1,0.1,0.1,0.1,0.1,0.1,0.1,0.1,0.1,0.1,0.1,0.1,0.1,0.1,0.1,0.1,0.1,0.1,0.1,0.1,0.1,0.1,0.1,0.1,0.1,0.1,0.1,0.1,0.1,0.1,0.1,0.1,0.1,0.1,0.1,0.1,0.1,0.1,0.1,0.1,0.1,0.1,0.1,0.1,0.1,0.1],[0.1,0.1,0.1,0.1,0.1,0.1,0.1,0.1,0.1,0.1,0.1,0.1,0.1,0.1,0.1,0.1,0.1,0.1,0.1,0.1,0.1,0.1,0.1,0.1,0.1,0.1,0.1,0.1,0.1,0.1,0.1,0.1,0.1,0.1,0.1,0.1,0.1,0.1,0.1,0.1,0.1,0.1,0.1,0.1,0.1,0.1,0.1,0.1,0.1,0.1,0.1,0.1,0.1,0.1,0.1,0.1,0.1,0.1,0.1,0.1,0.1,0.1,0.1,0.1,0.1,0.1,0.1,0.1,0.1,0.1,0.1,0.1,0.1,0.1,0.1,0.1,0.1,0.1,0.1,0.1,0.1,0.1,0.1,0.1,0.1,0.1,0.1,0.1,0.1,0.1,0.1,0.1,0.1,0.1,0.1,0.1,0.1,0.1,0.1,0.1],[0.1,0.1,0.1,0.1,0.1,0.1,0.1,0.1,0.1,0.1,0.1,0.1,0.1,0.1,0.1,0.1,0.1,0.1,0.1,0.1,0.1,0.1,0.1,0.1,0.1,0.1,0.1,0.1,0.1,0.1,0.1,0.1,0.1,0.1,0.1,0.1,0.1,0.1,0.1,0.1,0.1,0.1,0.1,0.1,0.1,0.1,0.1,0.1,0.1,0.1,0.1,0.1,0.1,0.1,0.1,0.1,0.1,0.1,0.1,0.1,0.1,0.1,0.1,0.1,0.1,0.1,0.1,0.1,0.1,0.1,0.1,0.1,0.1,0.1,0.1,0.1,0.1,0.1,0.1,0.1,0.1,0.1,0.1,0.1,0.1,0.1,0.1,0.1,0.1,0.1,0.1,0.1,0.1,0.1,0.1,0.1,0.1,0.1,0.1,0.1],[0.1,0.1,0.1,0.1,0.1,0.1,0.1,0.1,0.1,0.1,0.1,0.1,0.1,0.1,0.1,0.1,0.1,0.1,0.1,0.1,0.1,0.1,0.1,0.1,0.1,0.1,0.1,0.1,0.1,0.1,0.1,0.1,0.1,0.1,0.1,0.1,0.1,0.1,0.1,0.1,0.1,0.1,0.1,0.1,0.1,0.1,0.1,0.1,0.1,0.1,0.1,0.1,0.1,0.1,0.1,0.1,0.1,0.1,0.1,0.1,0.1,0.1,0.1,0.1,0.1,0.1,0.1,0.1,0.1,0.1,0.1,0.1,0.1,0.1,0.1,0.1,0.1,0.1,0.1,0.1,0.1,0.1,0.1,0.1,0.1,0.1,0.1,0.1,0.1,0.1,0.1,0.1,0.1,0.1,0.1,0.1,0.1,0.1,0.1,0.1],[0.1,0.1,0.1,0.1,0.1,0.1,0.1,0.1,0.1,0.1,0.1,0.1,0.1,0.1,0.1,0.1,0.1,0.1,0.1,0.1,0.1,0.1,0.1,0.1,0.1,0.1,0.1,0.1,0.1,0.1,0.1,0.1,0.1,0.1,0.1,0.1,0.1,0.1,0.1,0.1,0.1,0.1,0.1,0.1,0.1,0.1,0.1,0.1,0.1,0.1,0.1,0.1,0.1,0.1,0.1,0.1,0.1,0.1,0.1,0.1,0.1,0.1,0.1,0.1,0.1,0.1,0.1,0.1,0.1,0.1,0.1,0.1,0.1,0.1,0.1,0.1,0.1,0.1,0.1,0.1,0.1,0.1,0.1,0.1,0.1,0.1,0.1,0.1,0.1,0.1,0.1,0.1,0.1,0.1,0.1,0.1,0.1,0.1,0.1,0.1],[0.1,0.1,0.1,0.1,0.1,0.1,0.1,0.1,0.1,0.1,0.1,0.1,0.1,0.1,0.1,0.1,0.1,0.1,0.1,0.1,0.1,0.1,0.1,0.1,0.1,0.1,0.1,0.1,0.1,0.1,0.1,0.1,0.1,0.1,0.1,0.1,0.1,0.1,0.1,0.1,0.1,0.1,0.1,0.1,0.1,0.1,0.1,0.1,0.1,0.1,0.1,0.1,0.1,0.1,0.1,0.1,0.1,0.1,0.1,0.1,0.1,0.1,0.1,0.1,0.1,0.1,0.1,0.1,0.1,0.1,0.1,0.1,0.1,0.1,0.1,0.1,0.1,0.1,0.1,0.1,0.1,0.1,0.1,0.1,0.1,0.1,0.1,0.1,0.1,0.1,0.1,0.1,0.1,0.1,0.1,0.1,0.1,0.1,0.1,0.1],[0.1,0.1,0.1,0.1,0.1,0.1,0.1,0.1,0.1,0.1,0.1,0.1,0.1,0.1,0.1,0.1,0.1,0.1,0.1,0.1,0.1,0.1,0.1,0.1,0.1,0.1,0.1,0.1,0.1,0.1,0.1,0.1,0.1,0.1,0.1,0.1,0.1,0.1,0.1,0.1,0.1,0.1,0.1,0.1,0.1,0.1,0.1,0.1,0.1,0.1,0.1,0.1,0.1,0.1,0.1,0.1,0.1,0.1,0.1,0.1,0.1,0.1,0.1,0.1,0.1,0.1,0.1,0.1,0.1,0.1,0.1,0.1,0.1,0.1,0.1,0.1,0.1,0.1,0.1,0.1,0.1,0.1,0.1,0.1,0.1,0.1,0.1,0.1,0.1,0.1,0.1,0.1,0.1,0.1,0.1,0.1,0.1,0.1,0.1,0.1],[0.1,0.1,0.1,0.1,0.1,0.1,0.1,0.1,0.1,0.1,0.1,0.1,0.1,0.1,0.1,0.1,0.1,0.1,0.1,0.1,0.1,0.1,0.1,0.1,0.1,0.1,0.1,0.1,0.1,0.1,0.1,0.1,0.1,0.1,0.1,0.1,0.1,0.1,0.1,0.1,0.1,0.1,0.1,0.1,0.1,0.1,0.1,0.1,0.1,0.1,0.1,0.1,0.1,0.1,0.1,0.1,0.1,0.1,0.1,0.1,0.1,0.1,0.1,0.1,0.1,0.1,0.1,0.1,0.1,0.1,0.1,0.1,0.1,0.1,0.1,0.1,0.1,0.1,0.1,0.1,0.1,0.1,0.1,0.1,0.1,0.1,0.1,0.1,0.1,0.1,0.1,0.1,0.1,0.1,0.1,0.1,0.1,0.1,0.1,0.1],[0.1,0.1,0.1,0.1,0.1,0.1,0.1,0.1,0.1,0.1,0.1,0.1,0.1,0.1,0.1,0.1,0.1,0.1,0.1,0.1,0.1,0.1,0.1,0.1,0.1,0.1,0.1,0.1,0.1,0.1,0.1,0.1,0.1,0.1,0.1,0.1,0.1,0.1,0.1,0.1,0.1,0.1,0.1,0.1,0.1,0.1,0.1,0.1,0.1,0.1,0.1,0.1,0.1,0.1,0.1,0.1,0.1,0.1,0.1,0.1,0.1,0.1,0.1,0.1,0.1,0.1,0.1,0.1,0.1,0.1,0.1,0.1,0.1,0.1,0.1,0.1,0.1,0.1,0.1,0.1,0.1,0.1,0.1,0.1,0.1,0.1,0.1,0.1,0.1,0.1,0.1,0.1,0.1,0.1,0.1,0.1,0.1,0.1,0.1,0.1],[0.1,0.1,0.1,0.1,0.1,0.1,0.1,0.1,0.1,0.1,0.1,0.1,0.1,0.1,0.1,0.1,0.1,0.1,0.1,0.1,0.1,0.1,0.1,0.1,0.1,0.1,0.1,0.1,0.1,0.1,0.1,0.1,0.1,0.1,0.1,0.1,0.1,0.1,0.1,0.1,0.1,0.1,0.1,0.1,0.1,0.1,0.1,0.1,0.1,0.1,0.1,0.1,0.1,0.1,0.1,0.1,0.1,0.1,0.1,0.1,0.1,0.1,0.1,0.1,0.1,0.1,0.1,0.1,0.1,0.1,0.1,0.1,0.1,0.1,0.1,0.1,0.1,0.1,0.1,0.1,0.1,0.1,0.1,0.1,0.1,0.1,0.1,0.1,0.1,0.1,0.1,0.1,0.1,0.1,0.1,0.1,0.1,0.1,0.1,0.1],[0.1,0.1,0.1,0.1,0.1,0.1,0.1,0.1,0.1,0.1,0.1,0.1,0.1,0.1,0.1,0.1,0.1,0.1,0.1,0.1,0.1,0.1,0.1,0.1,0.1,0.1,0.1,0.1,0.1,0.1,0.1,0.1,0.1,0.1,0.1,0.1,0.1,0.1,0.1,0.1,0.1,0.1,0.1,0.1,0.1,0.1,0.1,0.1,0.1,0.1,0.1,0.1,0.1,0.1,0.1,0.1,0.1,0.1,0.1,0.1,0.1,0.1,0.1,0.1,0.1,0.1,0.1,0.1,0.1,0.1,0.1,0.1,0.1,0.1,0.1,0.1,0.1,0.1,0.1,0.1,0.1,0.1,0.1,0.1,0.1,0.1,0.1,0.1,0.1,0.1,0.1,0.1,0.1,0.1,0.1,0.1,0.1,0.1,0.1,0.1],[0.1,0.1,0.1,0.1,0.1,0.1,0.1,0.1,0.1,0.1,0.1,0.1,0.1,0.1,0.1,0.1,0.1,0.1,0.1,0.1,0.1,0.1,0.1,0.1,0.1,0.1,0.1,0.1,0.1,0.1,0.1,0.1,0.1,0.1,0.1,0.1,0.1,0.1,0.1,0.1,0.1,0.1,0.1,0.1,0.1,0.1,0.1,0.1,0.1,0.1,0.1,0.1,0.1,0.1,0.1,0.1,0.1,0.1,0.1,0.1,0.1,0.1,0.1,0.1,0.1,0.1,0.1,0.1,0.1,0.1,0.1,0.1,0.1,0.1,0.1,0.1,0.1,0.1,0.1,0.1,0.1,0.1,0.1,0.1,0.1,0.1,0.1,0.1,0.1,0.1,0.1,0.1,0.1,0.1,0.1,0.1,0.1,0.1,0.1,0.1]],\"type\":\"contour\",\"xaxis\":\"x\",\"yaxis\":\"y\"},{\"colorbar\":{\"ticktext\":[\"0.003\",\"0.010\",\"0.020\",\"0.029\",\"0.051\",\"0.081\",\"0.110\",\"0.140\",\"0.169\",\"0.203\"],\"tickvals\":[1,2,3,4,5,6,7,8,9],\"title\":{\"text\":\"Density\"},\"y\":1,\"yanchor\":\"top\"},\"colorscale\":[[0.0,\"rgb(247,251,255)\"],[0.125,\"rgb(222,235,247)\"],[0.25,\"rgb(198,219,239)\"],[0.375,\"rgb(158,202,225)\"],[0.5,\"rgb(107,174,214)\"],[0.625,\"rgb(66,146,198)\"],[0.75,\"rgb(33,113,181)\"],[0.875,\"rgb(8,81,156)\"],[1.0,\"rgb(8,48,107)\"]],\"line\":{\"smoothing\":0.85},\"x\":[220.8005230312667,244.19416533755683,270.0663457054488,298.67966329938184,330.32453945938715,365.3221654387815,404.02776245235344,446.8341871241043,494.17591892934547,546.533470103163,604.4382627752275,668.4780228332081,739.3027452617943,817.6312915047018,904.2586858120163,1000.0641846298194,1106.0202009353086,1223.202174098243,1352.799485446453,1496.1275303269715,1654.641069192574,1829.9489932254678,2023.8306543672318,2238.253925502635,2475.395174105761,2737.661352078293,3027.714425988834,3348.4983956769292,3703.2691754570073,4095.627641212469,4529.5561788034365,5009.459104749716,5540.207369453367,6127.187996692689,6776.358761191848,7494.30865923611,8288.324786101335,9166.466299094747,10137.646216921843,11211.72188563209,12399.595029360744,13713.322401368112,15166.238158469889,16773.089200942337,18550.1848515843,20515.562393158667,22689.170144395604,25093.069932755137,27751.661019020295,30691.927746524514,33943.71342862194,37540.023254319014,41517.35928652115,45916.09095308109,50780.86479108207,56161.057603208865,62111.27762567856,68691.91879452225,75969.77373594494,84018.71170253113,92920.42833626391,102765.27486834396,113653.17517208167,125694.63997682452,139011.88853705264,153740.08914143787,170028.73105286426,188043.1418044175,207966.16525169715,230000.01741345177,254368.3389370777,281318.46502122947,311123.93583494297,344087.2729137105,380543.0497125287,420861.2874816434,465451.2109326686,514765.40181457304,569304.3925578087,629621.7466114095,696329.6770378373,770105.2603935495,851697.3089653167,941933.971114632,1041731.136872608,1152101.7341010906,1274166.0095747565,1409162.899335762,1558462.6037286154,1723580.49475007,1906192.4968718728,2108152.097449635,2331509.1593711204,2578530.726889973,2851724.035821138,3153861.961648431,3488011.163839278,3857563.212027345,4266269.009990018,4718276.866819172],\"y\":[-3.731546114376022,-3.2250146808647155,-2.718483247353409,-2.2119518138421026,-1.7054203803307963,-1.19888894681949,-0.6923575133081834,-0.18582607979687715,0.3207053537144291,0.8272367872257358,1.3337682207370416,1.8402996542483483,2.346831087759655,2.853362521270961,3.3598939547822675,3.8664253882935733,4.37295682180488,4.879488255316186,5.386019688827494,5.8925511223388,6.399082555850105,6.905613989361413,7.412145422872719,7.918676856384025,8.425208289895332,8.931739723406638,9.438271156917944,9.94480259042925,10.451334023940557,10.957865457451863,11.464396890963169,11.970928324474476,12.477459757985782,12.983991191497088,13.490522625008394,13.9970540585197,14.503585492031009,15.010116925542315,15.51664835905362,16.023179792564925,16.52971122607623,17.036242659587536,17.542774093098846,18.04930552661015,18.555836960121457,19.062368393632763,19.56889982714407,20.075431260655375,20.581962694166684,21.08849412767799,21.595025561189296,22.1015569947006,22.608088428211907,23.114619861723213,23.62115129523452,24.127682728745828,24.634214162257134,25.14074559576844,25.647277029279746,26.15380846279105,26.660339896302357,27.166871329813667,27.673402763324972,28.179934196836278,28.686465630347584,29.19299706385889,29.699528497370196,30.2060599308815,30.712591364392807,31.219122797904113,31.72565423141542,32.23218566492673,32.73871709843804,33.24524853194934,33.75177996546065,34.258311398971955,34.76484283248326,35.27137426599457,35.77790569950587,36.28443713301718,36.790968566528484,37.29750000003979,37.804031433551096,38.3105628670624,38.817094300573714,39.32362573408502,39.830157167596326,40.33668860110763,40.84322003461894,41.34975146813024,41.85628290164155,42.362814335152855,42.86934576866416,43.37587720217547,43.88240863568677,44.38894006919808,44.89547150270939,45.4020029362207,45.908534369732,46.41506580324331],\"z\":[[0.1,0.1,0.1,0.1,0.1,0.1,0.1,0.1,0.1,0.1,0.1,0.1,0.1,0.1,0.1,0.1,0.1,0.1,0.1,0.1,0.1,0.1,0.1,0.1,0.1,0.1,0.1,0.1,0.1,0.1,0.1,0.1,0.1,0.1,0.1,0.1,0.1,0.1,0.1,0.1,0.1,0.1,0.1,0.1,0.1,0.1,0.1,0.1,0.1,0.1,0.1,0.1,0.1,0.1,0.1,0.1,0.1,0.1,0.1,0.1,0.1,0.1,0.1,0.1,0.1,0.1,0.1,0.1,0.1,0.1,0.1,0.1,0.1,0.1,0.1,0.1,0.1,0.1,0.1,0.1,0.1,0.1,0.1,0.1,0.1,0.1,0.1,0.1,0.1,0.1,0.1,0.1,0.1,0.1,0.1,0.1,0.1,0.1,0.1,0.1],[0.1,0.1,0.1,0.1,0.1,0.1,0.1,0.1,0.1,0.1,0.1,0.1,0.1,0.1,0.1,0.1,0.1,0.1,0.1,0.1,0.1,0.1,0.1,0.1,0.1,0.1,0.1,0.1,0.1,0.1,0.1,0.1,0.1,0.1,0.1,0.1,0.1,0.1,0.1,0.1,0.1,0.1,0.1,0.1,0.1,0.1,0.1,0.1,0.1,0.1,0.1,0.1,0.1,0.1,0.1,0.1,0.1,0.1,0.1,0.1,0.1,0.1,0.1,0.1,0.1,0.1,0.1,0.1,0.1,0.1,0.1,0.1,0.1,0.1,0.1,0.1,0.1,0.1,0.1,0.1,0.1,0.1,0.1,0.1,0.1,0.1,0.1,0.1,0.1,0.1,0.1,0.1,0.1,0.1,0.1,0.1,0.1,0.1,0.1,0.1],[0.1,0.1,0.1,0.1,0.1,0.1,0.1,0.1,0.1,0.1,0.1,0.1,0.1,0.1,0.1,0.1,0.1,0.1,0.1,0.1,0.1,0.1,0.1,0.1,0.1,0.1,0.1,0.1,0.1,0.1,0.1,0.1,0.1,0.1,0.1,0.1,0.1,0.1,0.1,0.1,0.1,0.1,0.1,0.1,0.1,0.1,0.1,0.1,0.1,0.1,0.1,0.1,0.1,0.1,0.1,0.1,0.1,0.1,0.1,0.1,0.1,0.1,0.1,0.1,0.1,0.1,0.1,0.1,0.1,0.1,0.1,0.1,0.1,0.1,0.1,0.1,0.1,0.1,0.1,0.1,0.1,0.1,0.1,0.1,0.1,0.1,0.1,0.1,0.1,0.1,0.1,0.1,0.1,0.1,0.1,0.1,0.1,0.1,0.1,0.1],[0.1,0.1,0.1,0.1,0.1,0.1,0.1,0.1,0.1,0.1,0.1,0.1,0.1,0.1,0.1,0.1,0.1,0.1,0.1,0.1,0.1,0.1,0.1,0.1,0.1,0.1,0.1,0.1,0.1,0.1,0.1,0.1,0.1,0.1,0.1,0.1,0.1,0.1,0.1,0.1,0.1,0.1,0.1,0.1,0.1,0.1,0.1,0.1,0.1,0.1,0.1,0.1,0.1,0.1,0.1,0.1,0.1,0.1,0.1,0.1,0.1,0.1,0.1,0.1,0.1,0.1,0.1,0.1,0.1,0.1,0.1,0.1,0.1,0.1,0.1,0.1,0.1,0.1,0.1,0.1,0.1,0.1,0.1,0.1,0.1,0.1,0.1,0.1,0.1,0.1,0.1,0.1,0.1,0.1,0.1,0.1,0.1,0.1,0.1,0.1],[0.1,0.1,0.1,0.1,0.1,0.1,0.1,0.1,0.1,0.1,0.1,0.1,0.1,0.1,0.1,0.1,0.1,0.1,0.1,0.1,0.1,0.1,0.1,0.1,0.1,0.1,0.1,0.1,0.1,0.1,0.1,0.1,0.1,0.1,0.1,0.1,0.1,0.1,0.1,0.1,0.1,0.1,0.1,0.1,0.1,0.1,0.1,0.1,0.1,0.1,0.1,0.1,0.1,0.1,0.1,0.1,0.1,0.1,0.1,0.1,0.1,0.1,0.1,0.1,0.1,0.1,0.1,0.1,0.1,0.1,0.1,0.1,0.1,0.1,0.1,0.1,0.1,0.1,0.1,0.1,0.1,0.1,0.1,0.1,0.1,0.1,0.1,0.1,0.1,0.1,0.1,0.1,0.1,0.1,0.1,0.1,0.1,0.1,0.1,0.1],[0.1,0.1,0.1,0.1,0.1,0.1,0.1,0.1,0.1,0.1,0.1,0.1,0.1,0.1,0.1,0.1,0.1,0.1,0.1,0.1,0.1,0.1,0.1,0.1,0.1,0.1,0.1,0.1,0.1,0.1,0.1,0.1,0.1,0.1,0.1,0.1,0.1,0.1,0.1,0.1,0.1,0.1,0.1,0.1,0.1,0.1,0.1,0.1,0.1,0.1,0.1,0.1,0.1,0.1,0.1,0.1,0.1,0.1,0.1,0.1,0.1,0.1,0.1,0.1,0.1,0.1,0.1,0.1,0.1,0.1,0.1,0.1,0.1,0.1,0.1,0.1,0.1,0.1,0.1,0.1,0.1,0.1,0.1,0.1,0.1,0.1,0.1,0.1,0.1,0.1,0.1,0.1,0.1,0.1,0.1,0.1,0.1,0.1,0.1,0.1],[0.1,0.1,0.1,0.1,0.1,0.1,0.1,0.1,0.1,0.1,0.1,0.1,0.1,0.1,0.1,0.1,0.1,0.1,0.1,0.1,0.1,0.1,0.1,0.1,0.1,0.1,0.1,0.1,0.1,0.1,0.1,0.1,0.1,0.1,0.1,0.1,0.1,0.1,0.1,0.1,0.1,0.1,0.1,0.1,0.1,0.1,0.1,0.1,0.1,0.1,0.1,0.1,0.1,0.1,0.1,0.1,0.1,0.1,0.1,0.1,0.1,0.1,0.1,0.1,0.1,0.1,0.1,0.1,0.1,0.1,0.1,0.1,0.1,0.1,0.1,0.1,0.1,0.1,0.1,0.1,0.1,0.1,0.1,0.1,0.1,0.1,0.1,0.1,0.1,0.1,0.1,0.1,0.1,0.1,0.1,0.1,0.1,0.1,0.1,0.1],[0.1,0.1,0.1,0.1,0.1,0.1,0.1,0.1,0.1,0.1,0.1,0.1,0.1,0.1,0.1,0.1,0.1,0.1,0.1,0.1,0.1,0.1,0.1,0.1,0.1,0.1,0.1,0.1,0.1,0.1,0.1,0.1,0.1,0.1,0.1,0.1,0.1,0.1,0.1,0.1,0.1,0.1,0.1,0.1,0.1,0.1,0.1,0.1,0.1,0.1,0.1,0.1,0.1,0.1,0.1,0.1,0.1,0.1,0.1,0.1,0.1,0.1,0.1,0.1,0.1,0.1,0.1,0.1,0.1,0.1,0.1,0.1,0.1,0.1,0.1,0.1,0.1,0.1,0.1,0.1,0.1,0.1,0.1,0.1,0.1,0.1,0.1,0.1,0.1,0.1,0.1,0.1,0.1,0.1,0.1,0.1,0.1,0.1,0.1,0.1],[0.1,0.1,0.1,0.1,0.1,0.1,0.1,0.1,0.1,0.1,0.1,0.1,0.1,0.1,0.1,0.1,0.1,0.1,0.1,0.1,0.1,0.1,0.1,0.1,0.1,0.1,0.1,0.1,0.1,0.1,0.1,0.1,0.1,0.1,0.1,0.1,0.1,0.1,0.1,0.1,0.1,0.1,0.1,0.1,0.1,0.1,0.1,0.1,0.1,0.1,0.1,0.1,0.1,0.1,0.1,0.1,0.1,0.1,0.1,0.1,0.1,0.1,0.1,0.1,0.1,0.1,0.1,0.1,0.1,0.1,0.1,0.1,0.1,0.1,0.1,0.1,0.1,0.1,0.1,0.1,0.1,0.1,0.1,0.1,0.1,0.1,0.1,0.1,0.1,0.1,0.1,0.1,0.1,0.1,0.1,0.1,0.1,0.1,0.1,0.1],[0.1,0.1,0.1,0.1,0.1,0.1,0.1,0.1,0.1,0.1,0.1,0.1,0.1,0.1,0.1,0.1,0.1,0.1,0.1,0.1,0.1,0.1,0.1,0.1,0.1,0.1,0.1,0.1,0.1,0.1,0.1,0.1,0.1,0.1,0.1,0.1,0.1,0.1,0.1,0.1,0.1,0.1,0.1,0.1,0.1,0.1,0.1,0.1,0.1,0.1,0.1,0.1,0.1,0.1,0.1,0.1,0.1,0.1,0.1,0.1,0.1,0.1,0.1,0.1,0.1,0.1,0.1,0.1,0.1,0.1,0.1,0.1,0.1,0.1,0.1,0.1,0.1,0.1,0.1,0.1,0.1,0.1,0.1,0.1,0.1,0.1,0.1,0.1,0.1,0.1,0.1,0.1,0.1,0.1,0.1,0.1,0.1,0.1,0.1,0.1],[0.1,0.1,0.1,0.1,0.1,0.1,0.1,0.1,0.1,0.1,0.1,0.1,0.1,0.1,0.1,0.1,0.1,0.1,0.1,0.1,0.1,0.1,0.1,0.1,0.1,0.1,0.1,0.1,0.1,0.1,0.1,0.1,0.1,0.1,0.1,0.1,0.1,0.1,0.1,0.1,0.1,0.1,0.1,0.1,0.1,0.1,0.1,0.1,0.1,0.1,0.1,0.1,0.1,0.1,0.1,0.1,0.1,0.1,0.1,0.1,0.1,0.1,0.1,0.1,0.1,0.1,0.1,0.1,0.1,0.1,0.1,0.1,0.1,0.1,0.1,0.1,0.1,0.1,0.1,0.1,0.1,0.1,0.1,0.1,0.1,0.1,0.1,0.1,0.1,0.1,0.1,0.1,0.1,0.1,0.1,0.1,0.1,0.1,0.1,0.1],[0.1,0.1,0.1,0.1,0.1,0.1,0.1,0.1,0.1,0.1,0.1,0.1,0.1,0.1,0.1,0.1,0.1,0.1,0.1,0.1,0.1,0.1,0.1,0.1,0.1,0.1,0.1,0.1,0.1,0.1,0.1,0.1,0.1,0.1,0.1,0.1,0.1,0.1,0.1,0.1,0.1,0.1,0.1,0.1,0.1,0.1,0.1,0.1,0.1,0.1,0.1,0.1,0.1,0.1,0.1,0.1,0.1,0.1,0.1,0.1,0.1,0.1,0.1,0.1,0.1,0.1,0.1,0.1,0.1,0.1,0.1,0.1,0.1,0.1,0.1,0.1,0.1,0.1,0.1,0.1,0.1,0.1,0.1,0.1,0.1,0.1,0.1,0.1,0.1,0.1,0.1,0.1,0.1,0.1,0.1,0.1,0.1,0.1,0.1,0.1],[0.1,0.1,0.1,0.1,0.1,0.1,0.1,0.1,0.1,0.1,0.1,0.1,0.1,0.1,0.1,0.1,0.1,0.1,0.1,0.1,0.1,0.1,0.1,0.1,0.1,0.1,0.1,0.1,0.1,0.1,0.1,0.1,0.1,0.1,0.1,0.1,0.1,0.1,0.1,0.1,0.1,0.1,0.1,0.1,0.1,0.1,0.1,0.1,0.1,0.1,0.1,0.1,0.1,0.1,0.1,0.1,0.1,0.1,0.1,0.1,0.1,0.1,0.1,0.1,0.1,0.1,0.1,0.1,0.1,0.1,0.1,0.1,0.1,0.1,0.1,0.1,0.1,0.1,0.1,0.1,0.1,0.1,0.1,0.1,0.1,0.1,0.1,0.1,0.1,0.1,0.1,0.1,0.1,0.1,0.1,0.1,0.1,0.1,0.1,0.1],[0.1,0.1,0.1,0.1,0.1,0.1,0.1,0.1,0.1,0.1,0.1,0.1,0.1,0.1,0.1,0.1,0.1,0.1,0.1,0.1,0.1,0.1,0.1,0.1,0.1,0.1,0.1,0.1,0.1,0.1,0.1,0.1,0.1,0.1,0.1,0.1,0.1,0.1,0.1,0.1,0.1,0.1,0.1,0.1,0.1,0.1,0.1,0.1,0.1,0.1,0.1,0.1,0.1,0.1,0.1,0.1,0.1,0.1,0.1,0.1,0.1,0.1,0.1,0.1,0.1,0.1,0.1,0.1,0.1,0.1,0.1,0.1,0.1,0.1,0.1,0.1,0.1,0.1,0.1,0.1,0.1,0.1,0.1,0.1,0.1,0.1,0.1,0.1,0.1,0.1,0.1,0.1,0.1,0.1,0.1,0.1,0.1,0.1,0.1,0.1],[0.1,0.1,0.1,0.1,0.1,0.1,0.1,0.1,0.1,0.1,0.1,0.1,0.1,0.1,0.1,0.1,0.1,0.1,0.1,0.1,0.1,0.1,0.1,0.1,0.1,0.1,0.1,0.1,0.1,0.1,0.1,0.1,0.1,0.1,0.1,0.1,0.1,0.1,0.1,0.1,0.1,0.1,0.1,0.1,0.1,0.1,0.1,0.1,0.1,0.1,0.1,0.1,0.1,0.1,0.1,0.1,0.1,0.1,0.1,0.1,0.1,0.1,0.1,0.1,0.1,0.1,0.1,0.1,0.1,0.1,0.1,0.1,0.1,0.1,0.1,0.1,0.1,0.1,0.1,0.1,0.1,0.1,0.1,0.1,0.1,0.1,0.1,0.1,0.1,0.1,0.1,0.1,0.1,0.1,0.1,0.1,0.1,0.1,0.1,0.1],[0.1,0.1,0.1,0.1,0.1,0.1,0.1,0.1,0.1,0.1,0.1,0.1,0.1,0.1,0.1,0.1,0.1,0.1,0.1,0.1,0.1,0.1,0.1,0.1,0.1,0.1,0.1,0.1,0.1,0.1,0.1,0.1,0.1,0.1,0.1,0.1,0.1,0.1,0.1,0.1,0.1,0.1,0.1,0.1,0.1,0.1,0.1,0.1,0.1,0.1,0.1,0.1,0.1,0.1,0.1,0.1,0.1,0.1,0.1,0.1,0.1,0.1,0.1,0.1,0.1,0.1,0.1,0.1,0.1,0.1,0.1,0.1,0.1,0.1,0.1,0.1,0.1,0.1,0.1,0.1,0.1,0.1,0.1,0.1,0.1,0.1,0.1,0.1,0.1,0.1,0.1,0.1,0.1,0.1,0.1,0.1,0.1,0.1,0.1,0.1],[0.1,0.1,0.1,0.1,0.1,0.1,0.1,0.1,0.1,0.1,0.1,0.1,0.1,0.1,0.1,0.1,0.1,0.1,0.1,0.1,0.1,0.1,0.1,0.1,0.1,0.1,0.1,0.1,0.1,0.1,0.1,0.1,0.1,0.1,0.1,0.1,0.1,0.1,0.1,0.1,0.1,0.1,0.1,0.1,0.1,0.1,0.1,0.1,0.1,0.1,0.1,0.1,0.1,0.1,0.1,0.1,0.1,0.1,0.1,0.1,0.1,0.1,0.1,0.1,0.1,0.1,0.1,0.1,0.1,0.1,0.1,0.1,0.1,0.1,0.1,0.1,0.1,0.1,0.1,0.1,0.1,0.1,0.1,0.1,0.1,0.1,0.1,0.1,0.1,0.1,0.1,0.1,0.1,0.1,0.1,0.1,0.1,0.1,0.1,0.1],[0.1,0.1,0.1,0.1,0.1,0.1,0.1,0.1,1.1,1.1,1.1,1.1,0.1,0.1,0.1,0.1,0.1,0.1,0.1,0.1,0.1,0.1,0.1,0.1,0.1,0.1,0.1,0.1,0.1,0.1,0.1,0.1,0.1,0.1,0.1,0.1,0.1,0.1,0.1,0.1,0.1,0.1,0.1,0.1,0.1,0.1,0.1,0.1,0.1,0.1,0.1,0.1,0.1,0.1,0.1,0.1,0.1,0.1,0.1,0.1,0.1,0.1,0.1,0.1,0.1,0.1,0.1,0.1,0.1,0.1,0.1,0.1,0.1,0.1,0.1,0.1,0.1,0.1,0.1,0.1,0.1,0.1,0.1,0.1,0.1,0.1,0.1,0.1,0.1,0.1,0.1,0.1,0.1,0.1,0.1,0.1,0.1,0.1,0.1,0.1],[0.1,0.1,0.1,0.1,0.1,0.1,1.1,1.1,1.1,1.1,1.1,1.1,1.1,0.1,0.1,0.1,0.1,0.1,0.1,0.1,0.1,0.1,0.1,0.1,0.1,0.1,0.1,0.1,0.1,0.1,0.1,0.1,0.1,0.1,0.1,0.1,0.1,0.1,0.1,0.1,0.1,0.1,0.1,0.1,0.1,0.1,0.1,0.1,0.1,0.1,0.1,0.1,0.1,0.1,0.1,0.1,0.1,0.1,0.1,0.1,0.1,0.1,0.1,0.1,0.1,0.1,0.1,0.1,0.1,0.1,0.1,0.1,0.1,0.1,0.1,0.1,0.1,0.1,0.1,0.1,0.1,0.1,0.1,0.1,0.1,0.1,0.1,0.1,0.1,0.1,0.1,0.1,0.1,0.1,0.1,0.1,0.1,0.1,0.1,0.1],[0.1,0.1,0.1,0.1,0.1,0.1,1.1,1.1,1.1,1.1,1.1,1.1,1.1,1.1,0.1,0.1,0.1,0.1,0.1,0.1,0.1,0.1,0.1,0.1,0.1,0.1,0.1,0.1,0.1,0.1,0.1,0.1,0.1,0.1,0.1,0.1,0.1,0.1,0.1,0.1,0.1,0.1,0.1,0.1,0.1,0.1,0.1,0.1,0.1,0.1,0.1,0.1,0.1,0.1,0.1,0.1,0.1,0.1,0.1,0.1,0.1,0.1,0.1,0.1,0.1,0.1,0.1,0.1,0.1,0.1,0.1,0.1,0.1,0.1,0.1,0.1,0.1,0.1,0.1,0.1,0.1,0.1,0.1,0.1,0.1,0.1,0.1,0.1,0.1,0.1,0.1,0.1,0.1,0.1,0.1,0.1,0.1,0.1,0.1,0.1],[0.1,0.1,0.1,0.1,0.1,1.1,1.1,1.1,1.1,1.1,1.1,1.1,1.1,1.1,0.1,0.1,0.1,0.1,0.1,0.1,0.1,0.1,0.1,0.1,0.1,0.1,0.1,0.1,0.1,0.1,0.1,0.1,0.1,0.1,0.1,0.1,0.1,0.1,0.1,0.1,0.1,0.1,0.1,0.1,0.1,0.1,0.1,0.1,0.1,0.1,0.1,0.1,0.1,0.1,0.1,0.1,0.1,0.1,0.1,0.1,0.1,0.1,0.1,0.1,0.1,0.1,0.1,0.1,0.1,0.1,0.1,0.1,0.1,0.1,0.1,0.1,0.1,0.1,0.1,0.1,0.1,0.1,0.1,0.1,0.1,0.1,0.1,0.1,0.1,0.1,0.1,0.1,0.1,0.1,0.1,0.1,0.1,0.1,0.1,0.1],[0.1,0.1,0.1,0.1,0.1,1.1,1.1,1.1,2.1,2.1,2.1,2.1,1.1,1.1,1.1,0.1,0.1,0.1,0.1,0.1,0.1,0.1,0.1,0.1,0.1,0.1,0.1,0.1,0.1,0.1,0.1,0.1,0.1,0.1,0.1,0.1,0.1,0.1,0.1,0.1,0.1,0.1,0.1,0.1,0.1,0.1,0.1,0.1,0.1,0.1,0.1,0.1,0.1,0.1,0.1,0.1,0.1,0.1,0.1,0.1,0.1,0.1,0.1,0.1,0.1,0.1,0.1,0.1,0.1,0.1,0.1,0.1,0.1,0.1,0.1,0.1,0.1,0.1,0.1,0.1,0.1,0.1,0.1,0.1,0.1,0.1,0.1,0.1,0.1,0.1,0.1,0.1,0.1,0.1,0.1,0.1,0.1,0.1,0.1,0.1],[0.1,0.1,0.1,0.1,0.1,1.1,1.1,2.1,2.1,2.1,2.1,2.1,2.1,1.1,1.1,1.1,0.1,0.1,0.1,0.1,0.1,0.1,0.1,0.1,0.1,0.1,0.1,0.1,0.1,0.1,0.1,0.1,0.1,0.1,0.1,0.1,0.1,0.1,0.1,0.1,0.1,0.1,0.1,0.1,0.1,0.1,0.1,0.1,0.1,0.1,0.1,0.1,0.1,0.1,0.1,0.1,0.1,0.1,0.1,0.1,0.1,0.1,0.1,0.1,0.1,0.1,0.1,0.1,0.1,0.1,0.1,0.1,0.1,0.1,0.1,0.1,0.1,0.1,0.1,0.1,0.1,0.1,0.1,0.1,0.1,0.1,0.1,0.1,0.1,0.1,0.1,0.1,0.1,0.1,0.1,0.1,0.1,0.1,0.1,0.1],[0.1,0.1,0.1,0.1,1.1,1.1,1.1,2.1,2.1,2.1,2.1,2.1,2.1,1.1,1.1,1.1,0.1,0.1,0.1,0.1,0.1,0.1,0.1,0.1,0.1,0.1,0.1,0.1,0.1,0.1,0.1,0.1,0.1,0.1,0.1,0.1,0.1,0.1,0.1,0.1,0.1,0.1,0.1,0.1,0.1,0.1,0.1,0.1,0.1,0.1,0.1,0.1,0.1,0.1,0.1,0.1,0.1,0.1,0.1,0.1,0.1,0.1,0.1,0.1,0.1,0.1,0.1,0.1,0.1,0.1,0.1,0.1,0.1,0.1,0.1,0.1,0.1,0.1,0.1,0.1,0.1,0.1,0.1,0.1,0.1,0.1,0.1,0.1,0.1,0.1,0.1,0.1,0.1,0.1,0.1,0.1,0.1,0.1,0.1,0.1],[0.1,0.1,0.1,0.1,1.1,1.1,2.1,2.1,2.1,3.1,3.1,3.1,2.1,2.1,1.1,1.1,1.1,0.1,0.1,0.1,0.1,0.1,0.1,0.1,0.1,0.1,0.1,0.1,0.1,0.1,0.1,0.1,0.1,0.1,0.1,0.1,0.1,0.1,0.1,0.1,0.1,0.1,0.1,0.1,0.1,0.1,0.1,0.1,0.1,0.1,0.1,0.1,0.1,0.1,0.1,0.1,0.1,0.1,0.1,0.1,0.1,0.1,0.1,0.1,0.1,0.1,0.1,0.1,0.1,0.1,0.1,0.1,0.1,0.1,0.1,0.1,0.1,0.1,0.1,0.1,0.1,0.1,0.1,0.1,0.1,0.1,0.1,0.1,0.1,0.1,0.1,0.1,0.1,0.1,0.1,0.1,0.1,0.1,0.1,0.1],[0.1,0.1,0.1,0.1,1.1,1.1,2.1,2.1,3.1,3.1,3.1,3.1,3.1,2.1,2.1,1.1,1.1,0.1,0.1,0.1,0.1,0.1,0.1,0.1,0.1,0.1,0.1,0.1,0.1,0.1,0.1,0.1,0.1,0.1,0.1,0.1,0.1,0.1,0.1,0.1,0.1,0.1,0.1,0.1,0.1,0.1,0.1,0.1,0.1,0.1,0.1,0.1,0.1,0.1,0.1,0.1,0.1,0.1,0.1,0.1,0.1,0.1,0.1,0.1,0.1,0.1,0.1,0.1,0.1,0.1,0.1,0.1,0.1,0.1,0.1,0.1,0.1,0.1,0.1,0.1,0.1,0.1,0.1,0.1,0.1,0.1,0.1,0.1,0.1,0.1,0.1,0.1,0.1,0.1,0.1,0.1,0.1,0.1,0.1,0.1],[0.1,0.1,0.1,0.1,1.1,1.1,2.1,2.1,3.1,3.1,3.1,3.1,3.1,2.1,2.1,1.1,1.1,1.1,0.1,0.1,0.1,0.1,0.1,0.1,0.1,0.1,0.1,0.1,1.1,1.1,0.1,0.1,0.1,0.1,0.1,0.1,0.1,0.1,0.1,0.1,0.1,0.1,0.1,0.1,0.1,0.1,0.1,0.1,0.1,0.1,0.1,0.1,0.1,0.1,0.1,0.1,0.1,0.1,0.1,0.1,0.1,0.1,0.1,0.1,0.1,0.1,0.1,0.1,0.1,0.1,0.1,0.1,0.1,0.1,0.1,0.1,0.1,0.1,0.1,0.1,0.1,0.1,0.1,0.1,0.1,0.1,0.1,0.1,0.1,0.1,0.1,0.1,0.1,0.1,0.1,0.1,0.1,0.1,0.1,0.1],[0.1,0.1,0.1,0.1,1.1,1.1,2.1,2.1,3.1,3.1,3.1,3.1,3.1,3.1,2.1,2.1,1.1,1.1,1.1,0.1,0.1,0.1,0.1,0.1,0.1,0.1,0.1,1.1,1.1,1.1,1.1,0.1,0.1,0.1,0.1,0.1,0.1,0.1,0.1,0.1,0.1,0.1,0.1,0.1,0.1,0.1,0.1,0.1,0.1,0.1,0.1,0.1,0.1,0.1,0.1,0.1,0.1,0.1,0.1,0.1,0.1,0.1,0.1,0.1,0.1,0.1,0.1,0.1,0.1,0.1,0.1,0.1,0.1,0.1,0.1,0.1,0.1,0.1,0.1,0.1,0.1,0.1,0.1,0.1,0.1,0.1,0.1,0.1,0.1,0.1,0.1,0.1,0.1,0.1,0.1,0.1,0.1,0.1,0.1,0.1],[0.1,0.1,0.1,0.1,0.1,1.1,2.1,2.1,3.1,3.1,3.1,3.1,3.1,3.1,2.1,2.1,1.1,1.1,1.1,1.1,0.1,0.1,0.1,0.1,0.1,0.1,1.1,1.1,1.1,1.1,1.1,1.1,0.1,0.1,0.1,0.1,0.1,0.1,0.1,0.1,0.1,0.1,0.1,0.1,0.1,0.1,0.1,0.1,0.1,0.1,0.1,0.1,0.1,0.1,0.1,0.1,0.1,0.1,0.1,0.1,0.1,0.1,0.1,0.1,0.1,0.1,0.1,0.1,0.1,0.1,0.1,0.1,0.1,0.1,0.1,0.1,0.1,0.1,0.1,0.1,0.1,0.1,0.1,0.1,0.1,0.1,0.1,0.1,0.1,0.1,0.1,0.1,0.1,0.1,0.1,0.1,0.1,0.1,0.1,0.1],[0.1,0.1,0.1,0.1,0.1,1.1,1.1,2.1,3.1,3.1,3.1,4.1,3.1,3.1,2.1,2.1,2.1,1.1,1.1,1.1,1.1,0.1,0.1,0.1,0.1,0.1,1.1,1.1,1.1,1.1,1.1,1.1,0.1,0.1,0.1,0.1,0.1,0.1,0.1,0.1,0.1,0.1,0.1,0.1,0.1,0.1,0.1,0.1,0.1,0.1,0.1,0.1,0.1,0.1,0.1,0.1,0.1,0.1,0.1,0.1,0.1,0.1,0.1,0.1,0.1,0.1,0.1,0.1,0.1,0.1,0.1,0.1,0.1,0.1,0.1,0.1,0.1,0.1,0.1,0.1,0.1,0.1,0.1,0.1,0.1,0.1,0.1,0.1,0.1,0.1,0.1,0.1,0.1,0.1,0.1,0.1,0.1,0.1,0.1,0.1],[0.1,0.1,0.1,0.1,0.1,1.1,1.1,2.1,3.1,3.1,3.1,4.1,3.1,3.1,3.1,2.1,2.1,1.1,1.1,1.1,1.1,1.1,0.1,0.1,0.1,1.1,1.1,1.1,1.1,1.1,1.1,1.1,0.1,0.1,0.1,0.1,0.1,0.1,0.1,0.1,0.1,0.1,0.1,0.1,0.1,0.1,0.1,0.1,0.1,0.1,0.1,0.1,0.1,0.1,0.1,0.1,0.1,0.1,0.1,0.1,0.1,0.1,0.1,0.1,0.1,0.1,0.1,0.1,0.1,0.1,0.1,0.1,0.1,0.1,0.1,0.1,0.1,0.1,0.1,0.1,0.1,0.1,0.1,0.1,0.1,0.1,0.1,0.1,0.1,0.1,0.1,0.1,0.1,0.1,0.1,0.1,0.1,0.1,0.1,0.1],[0.1,0.1,0.1,0.1,0.1,1.1,1.1,2.1,2.1,3.1,3.1,3.1,3.1,3.1,3.1,2.1,2.1,2.1,1.1,1.1,1.1,1.1,1.1,1.1,1.1,1.1,1.1,1.1,1.1,1.1,1.1,1.1,0.1,0.1,0.1,0.1,0.1,0.1,0.1,0.1,0.1,0.1,0.1,0.1,0.1,0.1,0.1,0.1,0.1,0.1,0.1,0.1,0.1,0.1,0.1,0.1,0.1,0.1,0.1,0.1,0.1,0.1,0.1,0.1,0.1,0.1,0.1,0.1,0.1,0.1,0.1,0.1,0.1,0.1,0.1,0.1,0.1,0.1,0.1,0.1,0.1,0.1,0.1,0.1,0.1,0.1,0.1,0.1,0.1,0.1,0.1,0.1,0.1,0.1,0.1,0.1,0.1,0.1,0.1,0.1],[0.1,0.1,0.1,0.1,0.1,1.1,1.1,2.1,2.1,3.1,3.1,3.1,3.1,3.1,3.1,2.1,2.1,2.1,1.1,1.1,1.1,1.1,1.1,1.1,1.1,1.1,1.1,1.1,1.1,1.1,1.1,1.1,0.1,0.1,0.1,0.1,0.1,0.1,0.1,0.1,0.1,0.1,0.1,0.1,0.1,0.1,0.1,0.1,0.1,0.1,0.1,0.1,0.1,0.1,0.1,0.1,0.1,0.1,0.1,0.1,0.1,0.1,0.1,0.1,0.1,0.1,0.1,0.1,0.1,0.1,0.1,0.1,0.1,0.1,0.1,0.1,0.1,0.1,0.1,0.1,0.1,0.1,0.1,0.1,0.1,0.1,0.1,0.1,0.1,0.1,0.1,0.1,0.1,0.1,0.1,0.1,0.1,0.1,0.1,0.1],[0.1,0.1,0.1,0.1,0.1,1.1,1.1,2.1,2.1,3.1,3.1,3.1,3.1,3.1,3.1,2.1,2.1,2.1,2.1,1.1,1.1,1.1,1.1,1.1,1.1,1.1,1.1,1.1,1.1,1.1,1.1,1.1,0.1,0.1,0.1,0.1,0.1,0.1,0.1,0.1,0.1,0.1,0.1,0.1,0.1,0.1,0.1,0.1,0.1,0.1,0.1,0.1,0.1,0.1,0.1,0.1,0.1,0.1,0.1,0.1,0.1,0.1,0.1,0.1,0.1,0.1,0.1,0.1,0.1,0.1,0.1,0.1,0.1,0.1,0.1,0.1,0.1,0.1,0.1,0.1,0.1,0.1,0.1,0.1,0.1,0.1,0.1,0.1,0.1,0.1,0.1,0.1,0.1,0.1,0.1,0.1,0.1,0.1,0.1,0.1],[0.1,0.1,0.1,0.1,0.1,1.1,1.1,2.1,2.1,3.1,3.1,3.1,3.1,3.1,3.1,2.1,2.1,2.1,2.1,1.1,1.1,1.1,1.1,1.1,1.1,1.1,1.1,1.1,1.1,0.1,0.1,0.1,0.1,0.1,0.1,0.1,0.1,0.1,0.1,0.1,0.1,0.1,0.1,1.1,1.1,1.1,1.1,1.1,1.1,0.1,0.1,0.1,0.1,0.1,0.1,0.1,0.1,0.1,0.1,0.1,0.1,0.1,0.1,0.1,0.1,0.1,0.1,0.1,0.1,0.1,0.1,0.1,0.1,0.1,0.1,0.1,0.1,0.1,0.1,0.1,0.1,0.1,0.1,0.1,0.1,0.1,0.1,0.1,0.1,0.1,0.1,0.1,0.1,0.1,0.1,0.1,0.1,0.1,0.1,0.1],[0.1,0.1,0.1,0.1,0.1,1.1,1.1,1.1,2.1,2.1,3.1,3.1,3.1,3.1,3.1,2.1,2.1,2.1,2.1,1.1,1.1,1.1,1.1,1.1,1.1,1.1,1.1,1.1,0.1,0.1,0.1,0.1,0.1,0.1,0.1,0.1,0.1,0.1,1.1,1.1,1.1,1.1,1.1,1.1,1.1,1.1,1.1,1.1,1.1,1.1,1.1,0.1,0.1,0.1,0.1,0.1,0.1,0.1,0.1,0.1,0.1,0.1,0.1,0.1,0.1,0.1,0.1,0.1,0.1,0.1,0.1,0.1,0.1,0.1,0.1,0.1,0.1,0.1,0.1,0.1,0.1,0.1,0.1,0.1,0.1,0.1,0.1,0.1,0.1,0.1,0.1,0.1,0.1,0.1,0.1,0.1,0.1,0.1,0.1,0.1],[0.1,0.1,0.1,0.1,0.1,0.1,1.1,1.1,2.1,2.1,3.1,3.1,3.1,3.1,2.1,2.1,2.1,2.1,2.1,1.1,1.1,1.1,1.1,1.1,1.1,1.1,1.1,1.1,1.1,0.1,0.1,0.1,0.1,0.1,1.1,1.1,1.1,1.1,1.1,1.1,1.1,1.1,1.1,1.1,2.1,2.1,2.1,2.1,1.1,1.1,1.1,1.1,0.1,0.1,0.1,0.1,0.1,0.1,0.1,0.1,0.1,0.1,0.1,0.1,0.1,0.1,0.1,0.1,0.1,0.1,0.1,0.1,0.1,0.1,0.1,0.1,0.1,0.1,0.1,0.1,0.1,0.1,0.1,0.1,0.1,0.1,0.1,0.1,0.1,0.1,0.1,0.1,0.1,0.1,0.1,0.1,0.1,0.1,0.1,0.1],[0.1,0.1,0.1,0.1,0.1,0.1,1.1,1.1,2.1,2.1,2.1,2.1,3.1,2.1,2.1,2.1,2.1,2.1,2.1,1.1,1.1,1.1,1.1,1.1,1.1,1.1,1.1,1.1,1.1,0.1,0.1,0.1,0.1,0.1,1.1,1.1,1.1,1.1,1.1,1.1,1.1,2.1,2.1,2.1,2.1,2.1,2.1,2.1,2.1,2.1,1.1,1.1,1.1,0.1,0.1,0.1,0.1,0.1,0.1,0.1,0.1,0.1,0.1,0.1,0.1,0.1,0.1,0.1,0.1,0.1,0.1,0.1,0.1,0.1,0.1,0.1,0.1,0.1,0.1,0.1,0.1,0.1,0.1,0.1,0.1,0.1,0.1,0.1,0.1,0.1,0.1,0.1,0.1,0.1,0.1,0.1,0.1,0.1,0.1,0.1],[0.1,0.1,0.1,0.1,0.1,0.1,1.1,1.1,1.1,2.1,2.1,2.1,2.1,2.1,2.1,2.1,2.1,2.1,1.1,1.1,1.1,1.1,1.1,1.1,1.1,1.1,1.1,1.1,1.1,1.1,1.1,1.1,1.1,1.1,1.1,1.1,1.1,1.1,1.1,2.1,2.1,2.1,2.1,3.1,3.1,3.1,3.1,3.1,3.1,2.1,2.1,1.1,1.1,0.1,0.1,0.1,0.1,0.1,0.1,0.1,0.1,0.1,0.1,0.1,0.1,0.1,0.1,0.1,0.1,0.1,0.1,0.1,0.1,0.1,0.1,0.1,0.1,0.1,0.1,0.1,0.1,0.1,0.1,0.1,0.1,0.1,0.1,0.1,0.1,0.1,0.1,0.1,0.1,0.1,0.1,0.1,0.1,0.1,0.1,0.1],[0.1,0.1,0.1,0.1,0.1,0.1,0.1,1.1,1.1,1.1,2.1,2.1,2.1,2.1,2.1,2.1,2.1,2.1,1.1,1.1,1.1,1.1,1.1,1.1,1.1,1.1,1.1,1.1,1.1,1.1,1.1,1.1,1.1,1.1,1.1,1.1,1.1,2.1,2.1,2.1,3.1,3.1,3.1,4.1,4.1,4.1,4.1,4.1,4.1,3.1,2.1,2.1,1.1,1.1,0.1,0.1,0.1,0.1,0.1,0.1,0.1,0.1,0.1,0.1,0.1,0.1,0.1,0.1,0.1,0.1,0.1,0.1,0.1,0.1,0.1,0.1,0.1,0.1,0.1,0.1,0.1,0.1,0.1,0.1,0.1,0.1,0.1,0.1,0.1,0.1,0.1,0.1,0.1,0.1,0.1,0.1,0.1,0.1,0.1,0.1],[0.1,0.1,0.1,0.1,0.1,0.1,0.1,1.1,1.1,1.1,2.1,2.1,2.1,2.1,2.1,2.1,2.1,1.1,1.1,1.1,1.1,1.1,1.1,1.1,1.1,1.1,1.1,1.1,1.1,1.1,1.1,1.1,1.1,1.1,1.1,1.1,2.1,2.1,2.1,3.1,3.1,4.1,4.1,4.1,4.1,4.1,4.1,4.1,4.1,4.1,3.1,2.1,2.1,1.1,1.1,0.1,0.1,0.1,0.1,0.1,0.1,0.1,0.1,0.1,0.1,0.1,0.1,0.1,0.1,0.1,0.1,0.1,0.1,0.1,0.1,0.1,0.1,0.1,0.1,0.1,0.1,0.1,0.1,0.1,0.1,0.1,0.1,0.1,0.1,0.1,0.1,0.1,0.1,0.1,0.1,0.1,0.1,0.1,0.1,0.1],[0.1,0.1,0.1,0.1,0.1,0.1,0.1,1.1,1.1,1.1,1.1,2.1,2.1,2.1,2.1,2.1,2.1,1.1,1.1,1.1,1.1,1.1,1.1,1.1,1.1,1.1,1.1,1.1,1.1,1.1,1.1,1.1,1.1,1.1,1.1,2.1,2.1,2.1,3.1,3.1,4.1,4.1,4.1,5.1,5.1,5.1,5.1,5.1,5.1,4.1,4.1,3.1,2.1,2.1,1.1,1.1,0.1,0.1,0.1,0.1,0.1,0.1,0.1,0.1,0.1,0.1,0.1,0.1,0.1,0.1,0.1,0.1,0.1,0.1,0.1,0.1,0.1,0.1,0.1,0.1,0.1,0.1,0.1,0.1,0.1,0.1,0.1,0.1,0.1,0.1,0.1,0.1,0.1,0.1,0.1,0.1,0.1,0.1,0.1,0.1],[0.1,0.1,0.1,0.1,0.1,0.1,0.1,0.1,1.1,1.1,1.1,1.1,2.1,2.1,2.1,2.1,1.1,1.1,1.1,1.1,1.1,1.1,1.1,1.1,1.1,1.1,1.1,1.1,1.1,1.1,1.1,1.1,1.1,1.1,2.1,2.1,2.1,2.1,3.1,4.1,4.1,5.1,5.1,5.1,5.1,6.1,6.1,5.1,5.1,5.1,4.1,4.1,3.1,2.1,1.1,1.1,0.1,0.1,0.1,0.1,0.1,0.1,0.1,0.1,0.1,0.1,0.1,0.1,0.1,0.1,0.1,0.1,0.1,0.1,0.1,0.1,0.1,0.1,0.1,0.1,0.1,0.1,0.1,0.1,0.1,0.1,0.1,0.1,0.1,0.1,0.1,0.1,0.1,0.1,0.1,0.1,0.1,0.1,0.1,0.1],[0.1,0.1,0.1,0.1,0.1,0.1,0.1,0.1,1.1,1.1,1.1,1.1,1.1,1.1,1.1,1.1,1.1,1.1,1.1,1.1,1.1,1.1,1.1,1.1,1.1,1.1,1.1,1.1,1.1,1.1,1.1,1.1,1.1,2.1,2.1,2.1,2.1,3.1,4.1,4.1,4.1,5.1,5.1,6.1,6.1,6.1,6.1,6.1,6.1,5.1,5.1,4.1,3.1,2.1,2.1,1.1,1.1,0.1,0.1,0.1,0.1,0.1,0.1,0.1,0.1,0.1,0.1,0.1,0.1,0.1,0.1,0.1,0.1,0.1,0.1,0.1,0.1,0.1,0.1,0.1,0.1,0.1,0.1,0.1,0.1,0.1,0.1,0.1,0.1,0.1,0.1,0.1,0.1,0.1,0.1,0.1,0.1,0.1,0.1,0.1],[0.1,0.1,0.1,0.1,0.1,0.1,0.1,0.1,1.1,1.1,1.1,1.1,1.1,1.1,1.1,1.1,1.1,1.1,1.1,1.1,1.1,1.1,1.1,1.1,1.1,1.1,1.1,1.1,1.1,1.1,1.1,1.1,1.1,2.1,2.1,2.1,3.1,3.1,4.1,4.1,5.1,5.1,6.1,6.1,7.1,7.1,7.1,7.1,6.1,6.1,5.1,5.1,4.1,3.1,2.1,1.1,1.1,0.1,0.1,0.1,0.1,0.1,0.1,0.1,0.1,0.1,0.1,0.1,0.1,0.1,0.1,0.1,0.1,0.1,0.1,0.1,0.1,0.1,0.1,0.1,0.1,0.1,0.1,0.1,0.1,0.1,0.1,0.1,0.1,0.1,0.1,0.1,0.1,0.1,0.1,0.1,0.1,0.1,0.1,0.1],[0.1,0.1,0.1,0.1,0.1,0.1,0.1,0.1,1.1,1.1,1.1,1.1,1.1,1.1,1.1,1.1,1.1,1.1,1.1,1.1,1.1,1.1,1.1,1.1,1.1,1.1,1.1,1.1,1.1,1.1,1.1,1.1,2.1,2.1,2.1,2.1,3.1,4.1,4.1,5.1,5.1,6.1,6.1,7.1,7.1,8.1,8.1,7.1,7.1,6.1,5.1,5.1,4.1,3.1,2.1,1.1,1.1,0.1,0.1,0.1,0.1,0.1,0.1,0.1,0.1,0.1,0.1,0.1,0.1,0.1,0.1,0.1,0.1,0.1,0.1,0.1,0.1,0.1,0.1,0.1,0.1,0.1,0.1,0.1,0.1,0.1,0.1,0.1,0.1,0.1,0.1,0.1,0.1,0.1,0.1,0.1,0.1,0.1,0.1,0.1],[0.1,0.1,0.1,0.1,0.1,0.1,0.1,0.1,0.1,1.1,1.1,1.1,1.1,1.1,1.1,1.1,1.1,1.1,1.1,1.1,1.1,1.1,1.1,1.1,1.1,1.1,1.1,1.1,1.1,1.1,1.1,1.1,2.1,2.1,2.1,3.1,3.1,4.1,4.1,5.1,5.1,6.1,7.1,7.1,8.1,8.1,8.1,8.1,7.1,7.1,6.1,5.1,4.1,4.1,2.1,2.1,1.1,1.1,0.1,0.1,0.1,0.1,0.1,0.1,0.1,0.1,0.1,0.1,0.1,0.1,0.1,0.1,0.1,0.1,0.1,0.1,0.1,0.1,0.1,0.1,0.1,0.1,0.1,0.1,0.1,0.1,0.1,0.1,0.1,0.1,0.1,0.1,0.1,0.1,0.1,0.1,0.1,0.1,0.1,0.1],[0.1,0.1,0.1,0.1,0.1,0.1,0.1,0.1,0.1,1.1,1.1,1.1,1.1,1.1,1.1,1.1,1.1,1.1,1.1,1.1,1.1,1.1,1.1,1.1,1.1,1.1,1.1,1.1,1.1,1.1,1.1,1.1,2.1,2.1,2.1,3.1,3.1,4.1,4.1,5.1,6.1,6.1,7.1,8.1,8.1,9.1,9.1,8.1,8.1,7.1,6.1,5.1,5.1,4.1,3.1,2.1,1.1,1.1,0.1,0.1,0.1,0.1,0.1,0.1,0.1,0.1,0.1,0.1,0.1,0.1,0.1,0.1,0.1,0.1,0.1,0.1,0.1,0.1,0.1,0.1,0.1,0.1,0.1,0.1,0.1,0.1,0.1,0.1,0.1,0.1,0.1,0.1,0.1,0.1,0.1,0.1,0.1,0.1,0.1,0.1],[0.1,0.1,0.1,0.1,0.1,0.1,0.1,0.1,0.1,0.1,1.1,1.1,1.1,1.1,1.1,1.1,1.1,1.1,1.1,1.1,1.1,1.1,1.1,1.1,1.1,1.1,1.1,1.1,1.1,1.1,1.1,1.1,2.1,2.1,2.1,3.1,3.1,4.1,4.1,5.1,6.1,6.1,7.1,8.1,9.1,9.1,9.1,9.1,8.1,7.1,6.1,5.1,5.1,4.1,3.1,2.1,1.1,1.1,0.1,0.1,0.1,0.1,0.1,0.1,0.1,0.1,0.1,0.1,0.1,0.1,0.1,0.1,0.1,0.1,0.1,0.1,0.1,0.1,0.1,0.1,0.1,0.1,0.1,0.1,0.1,0.1,0.1,0.1,0.1,0.1,0.1,0.1,0.1,0.1,0.1,0.1,0.1,0.1,0.1,0.1],[0.1,0.1,0.1,0.1,0.1,0.1,0.1,0.1,0.1,0.1,0.1,1.1,1.1,1.1,1.1,1.1,1.1,1.1,1.1,1.1,1.1,1.1,1.1,1.1,1.1,1.1,1.1,1.1,1.1,1.1,1.1,1.1,2.1,2.1,2.1,3.1,3.1,4.1,4.1,5.1,6.1,7.1,8.1,8.1,9.1,9.1,9.1,9.1,8.1,7.1,7.1,6.1,5.1,4.1,3.1,2.1,1.1,1.1,0.1,0.1,0.1,0.1,0.1,0.1,0.1,0.1,0.1,0.1,0.1,0.1,0.1,0.1,0.1,0.1,0.1,0.1,0.1,0.1,0.1,0.1,0.1,0.1,0.1,0.1,0.1,0.1,0.1,0.1,0.1,0.1,0.1,0.1,0.1,0.1,0.1,0.1,0.1,0.1,0.1,0.1],[0.1,0.1,0.1,0.1,0.1,0.1,0.1,0.1,0.1,0.1,0.1,0.1,1.1,1.1,1.1,1.1,1.1,1.1,1.1,1.1,1.1,1.1,1.1,1.1,1.1,1.1,0.1,1.1,1.1,1.1,1.1,1.1,2.1,2.1,2.1,3.1,3.1,4.1,4.1,5.1,6.1,7.1,8.1,8.1,9.1,9.1,9.1,9.1,9.1,8.1,7.1,6.1,5.1,4.1,3.1,2.1,1.1,1.1,0.1,0.1,0.1,0.1,0.1,0.1,0.1,0.1,0.1,0.1,0.1,0.1,0.1,0.1,0.1,0.1,0.1,0.1,0.1,0.1,0.1,0.1,0.1,0.1,0.1,0.1,0.1,0.1,0.1,0.1,0.1,0.1,0.1,0.1,0.1,0.1,0.1,0.1,0.1,0.1,0.1,0.1],[0.1,0.1,0.1,0.1,0.1,0.1,0.1,0.1,0.1,0.1,0.1,0.1,0.1,0.1,0.1,0.1,1.1,1.1,1.1,1.1,1.1,1.1,1.1,0.1,0.1,0.1,0.1,0.1,1.1,1.1,1.1,1.1,1.1,2.1,2.1,3.1,3.1,4.1,4.1,5.1,6.1,7.1,7.1,8.1,9.1,9.1,9.1,9.1,8.1,8.1,7.1,6.1,5.1,4.1,3.1,2.1,1.1,1.1,0.1,0.1,0.1,0.1,0.1,0.1,0.1,0.1,0.1,0.1,0.1,0.1,0.1,0.1,0.1,0.1,0.1,0.1,0.1,0.1,0.1,0.1,0.1,0.1,0.1,0.1,0.1,0.1,0.1,0.1,0.1,0.1,0.1,0.1,0.1,0.1,0.1,0.1,0.1,0.1,0.1,0.1],[0.1,0.1,0.1,0.1,0.1,0.1,0.1,0.1,0.1,0.1,0.1,0.1,0.1,0.1,0.1,0.1,0.1,0.1,0.1,0.1,0.1,0.1,0.1,0.1,0.1,0.1,0.1,0.1,0.1,1.1,1.1,1.1,1.1,2.1,2.1,3.1,3.1,4.1,4.1,5.1,6.1,6.1,7.1,8.1,9.1,9.1,9.1,9.1,8.1,7.1,6.1,6.1,5.1,4.1,3.1,2.1,1.1,1.1,0.1,0.1,0.1,0.1,0.1,0.1,0.1,0.1,0.1,0.1,0.1,0.1,0.1,0.1,0.1,0.1,0.1,0.1,0.1,0.1,0.1,0.1,0.1,0.1,0.1,0.1,0.1,0.1,0.1,0.1,0.1,0.1,0.1,0.1,0.1,0.1,0.1,0.1,0.1,0.1,0.1,0.1],[0.1,0.1,0.1,0.1,0.1,0.1,0.1,0.1,0.1,0.1,0.1,0.1,0.1,0.1,0.1,0.1,0.1,0.1,0.1,0.1,0.1,0.1,0.1,0.1,0.1,0.1,0.1,0.1,0.1,1.1,1.1,1.1,1.1,2.1,2.1,2.1,3.1,4.1,4.1,5.1,5.1,6.1,7.1,8.1,8.1,9.1,9.1,8.1,8.1,7.1,6.1,5.1,5.1,4.1,3.1,2.1,1.1,1.1,0.1,0.1,0.1,0.1,0.1,0.1,0.1,0.1,0.1,0.1,0.1,0.1,0.1,0.1,0.1,0.1,0.1,0.1,0.1,0.1,0.1,0.1,0.1,0.1,0.1,0.1,0.1,0.1,0.1,0.1,0.1,0.1,0.1,0.1,0.1,0.1,0.1,0.1,0.1,0.1,0.1,0.1],[0.1,0.1,0.1,0.1,0.1,0.1,0.1,0.1,0.1,0.1,0.1,0.1,0.1,0.1,0.1,0.1,0.1,0.1,0.1,0.1,0.1,0.1,0.1,0.1,0.1,0.1,0.1,0.1,0.1,1.1,1.1,1.1,1.1,2.1,2.1,2.1,3.1,4.1,4.1,5.1,5.1,6.1,6.1,7.1,8.1,8.1,8.1,8.1,7.1,6.1,6.1,5.1,4.1,4.1,3.1,2.1,1.1,1.1,0.1,0.1,0.1,0.1,0.1,0.1,0.1,0.1,0.1,0.1,0.1,0.1,0.1,0.1,0.1,0.1,0.1,0.1,0.1,0.1,0.1,0.1,0.1,0.1,0.1,0.1,0.1,0.1,0.1,0.1,0.1,0.1,0.1,0.1,0.1,0.1,0.1,0.1,0.1,0.1,0.1,0.1],[0.1,0.1,0.1,0.1,0.1,0.1,0.1,0.1,0.1,0.1,0.1,0.1,0.1,0.1,0.1,0.1,0.1,0.1,0.1,0.1,0.1,0.1,0.1,0.1,0.1,0.1,0.1,0.1,1.1,1.1,1.1,1.1,1.1,1.1,2.1,2.1,3.1,3.1,4.1,4.1,5.1,5.1,6.1,7.1,7.1,7.1,7.1,7.1,7.1,6.1,5.1,5.1,4.1,4.1,2.1,2.1,1.1,1.1,0.1,0.1,0.1,0.1,0.1,0.1,0.1,0.1,0.1,0.1,0.1,0.1,0.1,0.1,0.1,0.1,0.1,0.1,0.1,0.1,0.1,0.1,0.1,0.1,0.1,0.1,0.1,0.1,0.1,0.1,0.1,0.1,0.1,0.1,0.1,0.1,0.1,0.1,0.1,0.1,0.1,0.1],[0.1,0.1,0.1,0.1,0.1,0.1,0.1,0.1,0.1,0.1,0.1,0.1,0.1,0.1,0.1,0.1,0.1,0.1,0.1,0.1,0.1,0.1,0.1,0.1,0.1,0.1,0.1,0.1,1.1,1.1,1.1,1.1,1.1,1.1,2.1,2.1,2.1,3.1,4.1,4.1,5.1,5.1,6.1,6.1,6.1,7.1,7.1,6.1,6.1,5.1,5.1,4.1,4.1,3.1,2.1,2.1,1.1,1.1,0.1,0.1,0.1,0.1,0.1,0.1,0.1,0.1,0.1,0.1,0.1,0.1,0.1,0.1,0.1,0.1,0.1,0.1,0.1,0.1,0.1,0.1,0.1,0.1,0.1,0.1,0.1,0.1,0.1,0.1,0.1,0.1,0.1,0.1,0.1,0.1,0.1,0.1,0.1,0.1,0.1,0.1],[0.1,0.1,0.1,0.1,0.1,0.1,0.1,0.1,0.1,0.1,0.1,0.1,0.1,0.1,0.1,0.1,0.1,0.1,0.1,0.1,0.1,0.1,0.1,0.1,0.1,0.1,0.1,0.1,1.1,1.1,1.1,1.1,1.1,1.1,2.1,2.1,2.1,3.1,4.1,4.1,4.1,5.1,5.1,6.1,6.1,6.1,6.1,6.1,5.1,5.1,4.1,4.1,3.1,2.1,2.1,1.1,1.1,0.1,0.1,0.1,0.1,0.1,0.1,0.1,0.1,0.1,0.1,0.1,0.1,0.1,0.1,0.1,0.1,0.1,0.1,0.1,0.1,0.1,0.1,0.1,0.1,0.1,0.1,0.1,0.1,0.1,0.1,0.1,0.1,0.1,0.1,0.1,0.1,0.1,0.1,0.1,0.1,0.1,0.1,0.1],[0.1,0.1,0.1,0.1,0.1,0.1,0.1,0.1,0.1,0.1,0.1,0.1,0.1,0.1,0.1,0.1,0.1,0.1,0.1,0.1,0.1,0.1,0.1,0.1,0.1,0.1,0.1,0.1,1.1,1.1,1.1,1.1,1.1,1.1,2.1,2.1,2.1,3.1,3.1,4.1,4.1,4.1,5.1,5.1,5.1,5.1,5.1,5.1,5.1,4.1,4.1,4.1,3.1,2.1,1.1,1.1,1.1,0.1,0.1,0.1,0.1,0.1,0.1,0.1,0.1,0.1,0.1,0.1,0.1,0.1,0.1,0.1,0.1,0.1,0.1,0.1,0.1,0.1,0.1,0.1,0.1,0.1,0.1,0.1,0.1,0.1,0.1,0.1,0.1,0.1,0.1,0.1,0.1,0.1,0.1,0.1,0.1,0.1,0.1,0.1],[0.1,0.1,0.1,0.1,0.1,0.1,0.1,0.1,0.1,0.1,0.1,0.1,0.1,0.1,0.1,0.1,0.1,0.1,0.1,0.1,0.1,0.1,0.1,0.1,0.1,0.1,0.1,0.1,1.1,1.1,1.1,1.1,1.1,1.1,2.1,2.1,2.1,2.1,3.1,3.1,4.1,4.1,4.1,5.1,5.1,5.1,5.1,5.1,4.1,4.1,4.1,3.1,2.1,2.1,1.1,1.1,0.1,0.1,0.1,0.1,0.1,0.1,0.1,0.1,0.1,0.1,0.1,0.1,0.1,0.1,0.1,0.1,0.1,0.1,0.1,0.1,0.1,0.1,0.1,0.1,0.1,0.1,0.1,0.1,0.1,0.1,0.1,0.1,0.1,0.1,0.1,0.1,0.1,0.1,0.1,0.1,0.1,0.1,0.1,0.1],[0.1,0.1,0.1,0.1,0.1,0.1,0.1,0.1,0.1,0.1,0.1,0.1,0.1,0.1,0.1,0.1,0.1,0.1,0.1,0.1,0.1,0.1,0.1,0.1,0.1,0.1,0.1,0.1,0.1,1.1,1.1,1.1,1.1,1.1,2.1,2.1,2.1,2.1,3.1,3.1,4.1,4.1,4.1,4.1,4.1,4.1,4.1,4.1,4.1,4.1,3.1,2.1,2.1,1.1,1.1,1.1,0.1,0.1,0.1,0.1,0.1,0.1,0.1,0.1,0.1,0.1,0.1,0.1,0.1,0.1,0.1,0.1,0.1,0.1,0.1,0.1,0.1,0.1,0.1,0.1,0.1,0.1,0.1,0.1,0.1,0.1,0.1,0.1,0.1,0.1,0.1,0.1,0.1,0.1,0.1,0.1,0.1,0.1,0.1,0.1],[0.1,0.1,0.1,0.1,0.1,0.1,0.1,0.1,0.1,0.1,0.1,0.1,0.1,0.1,0.1,0.1,0.1,0.1,0.1,0.1,0.1,0.1,0.1,0.1,0.1,0.1,0.1,0.1,0.1,0.1,1.1,1.1,1.1,1.1,1.1,2.1,2.1,2.1,3.1,3.1,3.1,4.1,4.1,4.1,4.1,4.1,4.1,4.1,3.1,3.1,2.1,2.1,1.1,1.1,1.1,0.1,0.1,0.1,0.1,0.1,0.1,0.1,0.1,0.1,0.1,0.1,0.1,0.1,0.1,0.1,0.1,0.1,0.1,0.1,0.1,0.1,0.1,0.1,0.1,0.1,0.1,0.1,0.1,0.1,0.1,0.1,0.1,0.1,0.1,0.1,0.1,0.1,0.1,0.1,0.1,0.1,0.1,0.1,0.1,0.1],[0.1,0.1,0.1,0.1,0.1,0.1,0.1,0.1,0.1,0.1,0.1,0.1,0.1,0.1,0.1,0.1,0.1,0.1,0.1,0.1,0.1,0.1,0.1,0.1,0.1,0.1,0.1,0.1,0.1,0.1,1.1,1.1,1.1,1.1,1.1,2.1,2.1,2.1,3.1,3.1,3.1,4.1,4.1,4.1,4.1,4.1,3.1,3.1,3.1,2.1,2.1,1.1,1.1,1.1,0.1,0.1,0.1,0.1,0.1,0.1,0.1,0.1,0.1,0.1,0.1,0.1,0.1,0.1,0.1,0.1,0.1,0.1,0.1,0.1,0.1,0.1,0.1,0.1,0.1,0.1,0.1,0.1,0.1,0.1,0.1,0.1,0.1,0.1,0.1,0.1,0.1,0.1,0.1,0.1,0.1,0.1,0.1,0.1,0.1,0.1],[0.1,0.1,0.1,0.1,0.1,0.1,0.1,0.1,0.1,0.1,0.1,0.1,0.1,0.1,0.1,0.1,0.1,0.1,0.1,0.1,0.1,0.1,0.1,0.1,0.1,0.1,0.1,0.1,0.1,0.1,1.1,1.1,1.1,1.1,1.1,2.1,2.1,2.1,3.1,3.1,3.1,4.1,4.1,3.1,3.1,3.1,3.1,2.1,2.1,2.1,1.1,1.1,1.1,1.1,0.1,0.1,0.1,0.1,0.1,0.1,0.1,0.1,0.1,0.1,0.1,0.1,0.1,0.1,0.1,0.1,0.1,0.1,0.1,0.1,0.1,0.1,0.1,0.1,0.1,0.1,0.1,0.1,0.1,0.1,0.1,0.1,0.1,0.1,0.1,0.1,0.1,0.1,0.1,0.1,0.1,0.1,0.1,0.1,0.1,0.1],[0.1,0.1,0.1,0.1,0.1,0.1,0.1,0.1,0.1,0.1,0.1,0.1,0.1,0.1,0.1,0.1,0.1,0.1,0.1,0.1,0.1,0.1,0.1,0.1,0.1,0.1,0.1,0.1,0.1,0.1,0.1,1.1,1.1,1.1,1.1,1.1,2.1,2.1,3.1,3.1,3.1,4.1,4.1,3.1,3.1,3.1,2.1,2.1,2.1,1.1,1.1,1.1,1.1,0.1,0.1,0.1,0.1,0.1,0.1,0.1,0.1,0.1,0.1,0.1,0.1,0.1,0.1,0.1,0.1,0.1,0.1,0.1,0.1,0.1,0.1,0.1,0.1,0.1,0.1,0.1,0.1,0.1,0.1,0.1,0.1,0.1,0.1,0.1,0.1,0.1,0.1,0.1,0.1,0.1,0.1,0.1,0.1,0.1,0.1,0.1],[0.1,0.1,0.1,0.1,0.1,0.1,0.1,0.1,0.1,0.1,0.1,0.1,0.1,0.1,0.1,0.1,0.1,0.1,0.1,0.1,0.1,0.1,0.1,0.1,0.1,0.1,0.1,0.1,0.1,0.1,0.1,1.1,1.1,1.1,1.1,1.1,2.1,2.1,3.1,3.1,3.1,4.1,4.1,3.1,3.1,2.1,2.1,2.1,1.1,1.1,1.1,1.1,0.1,0.1,0.1,0.1,0.1,0.1,0.1,0.1,0.1,0.1,0.1,0.1,0.1,0.1,0.1,0.1,0.1,0.1,0.1,0.1,0.1,0.1,0.1,0.1,0.1,0.1,0.1,0.1,0.1,0.1,0.1,0.1,0.1,0.1,0.1,0.1,0.1,0.1,0.1,0.1,0.1,0.1,0.1,0.1,0.1,0.1,0.1,0.1],[0.1,0.1,0.1,0.1,0.1,0.1,0.1,0.1,0.1,0.1,0.1,0.1,0.1,0.1,0.1,0.1,0.1,0.1,0.1,0.1,0.1,0.1,0.1,0.1,0.1,0.1,0.1,0.1,0.1,0.1,0.1,1.1,1.1,1.1,1.1,1.1,2.1,2.1,3.1,3.1,3.1,4.1,4.1,3.1,3.1,2.1,2.1,2.1,1.1,1.1,1.1,0.1,0.1,0.1,0.1,0.1,0.1,0.1,0.1,0.1,0.1,0.1,0.1,0.1,0.1,0.1,0.1,0.1,0.1,0.1,0.1,0.1,0.1,0.1,0.1,0.1,0.1,0.1,0.1,0.1,0.1,0.1,0.1,0.1,0.1,0.1,0.1,0.1,0.1,0.1,0.1,0.1,0.1,0.1,0.1,0.1,0.1,0.1,0.1,0.1],[0.1,0.1,0.1,0.1,0.1,0.1,0.1,0.1,0.1,0.1,0.1,0.1,0.1,0.1,0.1,0.1,0.1,0.1,0.1,0.1,0.1,0.1,0.1,0.1,0.1,0.1,0.1,0.1,0.1,0.1,0.1,1.1,1.1,1.1,1.1,1.1,2.1,2.1,2.1,3.1,3.1,4.1,4.1,3.1,3.1,2.1,2.1,1.1,1.1,1.1,0.1,0.1,0.1,0.1,0.1,0.1,0.1,0.1,0.1,0.1,0.1,0.1,0.1,0.1,0.1,0.1,0.1,0.1,0.1,0.1,0.1,0.1,0.1,0.1,0.1,0.1,0.1,0.1,0.1,0.1,0.1,0.1,0.1,0.1,0.1,0.1,0.1,0.1,0.1,0.1,0.1,0.1,0.1,0.1,0.1,0.1,0.1,0.1,0.1,0.1],[0.1,0.1,0.1,0.1,0.1,0.1,0.1,0.1,0.1,0.1,0.1,0.1,0.1,0.1,0.1,0.1,0.1,0.1,0.1,0.1,0.1,0.1,0.1,0.1,0.1,0.1,0.1,0.1,0.1,0.1,0.1,0.1,1.1,1.1,1.1,1.1,2.1,2.1,2.1,3.1,3.1,4.1,3.1,3.1,3.1,2.1,2.1,1.1,1.1,1.1,0.1,0.1,0.1,0.1,0.1,0.1,0.1,0.1,0.1,0.1,0.1,0.1,0.1,0.1,0.1,0.1,0.1,0.1,0.1,0.1,0.1,0.1,0.1,0.1,0.1,0.1,0.1,0.1,0.1,0.1,0.1,0.1,0.1,0.1,0.1,0.1,0.1,0.1,0.1,0.1,0.1,0.1,0.1,0.1,0.1,0.1,0.1,0.1,0.1,0.1],[0.1,0.1,0.1,0.1,0.1,0.1,0.1,0.1,0.1,0.1,0.1,0.1,0.1,0.1,0.1,0.1,0.1,0.1,0.1,0.1,0.1,0.1,0.1,0.1,0.1,0.1,0.1,0.1,0.1,0.1,0.1,0.1,1.1,1.1,1.1,1.1,2.1,2.1,2.1,3.1,3.1,3.1,3.1,3.1,3.1,2.1,2.1,1.1,1.1,1.1,0.1,0.1,0.1,0.1,0.1,0.1,0.1,0.1,0.1,0.1,0.1,0.1,0.1,0.1,0.1,0.1,0.1,0.1,0.1,0.1,0.1,0.1,0.1,0.1,0.1,0.1,0.1,0.1,0.1,0.1,0.1,0.1,0.1,0.1,0.1,0.1,0.1,0.1,0.1,0.1,0.1,0.1,0.1,0.1,0.1,0.1,0.1,0.1,0.1,0.1],[0.1,0.1,0.1,0.1,0.1,0.1,0.1,0.1,0.1,0.1,0.1,0.1,0.1,0.1,0.1,0.1,0.1,0.1,0.1,0.1,0.1,0.1,0.1,0.1,0.1,0.1,0.1,0.1,0.1,0.1,0.1,0.1,1.1,1.1,1.1,1.1,2.1,2.1,2.1,3.1,3.1,3.1,3.1,3.1,3.1,2.1,2.1,1.1,1.1,0.1,0.1,0.1,0.1,0.1,0.1,0.1,0.1,0.1,0.1,0.1,0.1,0.1,0.1,0.1,0.1,0.1,0.1,0.1,0.1,0.1,0.1,0.1,0.1,0.1,0.1,0.1,0.1,0.1,0.1,0.1,0.1,0.1,0.1,0.1,0.1,0.1,0.1,0.1,0.1,0.1,0.1,0.1,0.1,0.1,0.1,0.1,0.1,0.1,0.1,0.1],[0.1,0.1,0.1,0.1,0.1,0.1,0.1,0.1,0.1,0.1,0.1,0.1,0.1,0.1,0.1,0.1,0.1,0.1,0.1,0.1,0.1,0.1,0.1,0.1,0.1,0.1,0.1,0.1,0.1,0.1,0.1,0.1,0.1,1.1,1.1,1.1,1.1,2.1,2.1,2.1,3.1,3.1,3.1,3.1,2.1,2.1,2.1,1.1,1.1,0.1,0.1,0.1,0.1,0.1,0.1,0.1,0.1,0.1,0.1,0.1,0.1,0.1,0.1,0.1,0.1,0.1,0.1,0.1,0.1,0.1,0.1,0.1,0.1,0.1,0.1,0.1,0.1,0.1,0.1,0.1,0.1,0.1,0.1,0.1,0.1,0.1,0.1,0.1,0.1,0.1,0.1,0.1,0.1,0.1,0.1,0.1,0.1,0.1,0.1,0.1],[0.1,0.1,0.1,0.1,0.1,0.1,0.1,0.1,0.1,0.1,0.1,0.1,0.1,0.1,0.1,0.1,0.1,0.1,0.1,0.1,0.1,0.1,0.1,0.1,0.1,0.1,0.1,0.1,0.1,0.1,0.1,0.1,0.1,1.1,1.1,1.1,1.1,2.1,2.1,2.1,2.1,3.1,3.1,2.1,2.1,2.1,1.1,1.1,1.1,0.1,0.1,0.1,0.1,0.1,0.1,0.1,0.1,0.1,0.1,0.1,0.1,0.1,0.1,0.1,0.1,0.1,0.1,0.1,0.1,0.1,0.1,0.1,0.1,0.1,0.1,0.1,0.1,0.1,0.1,0.1,0.1,0.1,0.1,0.1,0.1,0.1,0.1,0.1,0.1,0.1,0.1,0.1,0.1,0.1,0.1,0.1,0.1,0.1,0.1,0.1],[0.1,0.1,0.1,0.1,0.1,0.1,0.1,0.1,0.1,0.1,0.1,0.1,0.1,0.1,0.1,0.1,0.1,0.1,0.1,0.1,0.1,0.1,0.1,0.1,0.1,0.1,0.1,0.1,0.1,0.1,0.1,0.1,0.1,0.1,1.1,1.1,1.1,1.1,2.1,2.1,2.1,2.1,2.1,2.1,2.1,2.1,1.1,1.1,1.1,0.1,0.1,0.1,0.1,0.1,0.1,0.1,0.1,0.1,0.1,0.1,0.1,0.1,0.1,0.1,0.1,0.1,0.1,0.1,0.1,0.1,0.1,0.1,0.1,0.1,0.1,0.1,0.1,0.1,0.1,0.1,0.1,0.1,0.1,0.1,0.1,0.1,0.1,0.1,0.1,0.1,0.1,0.1,0.1,0.1,0.1,0.1,0.1,0.1,0.1,0.1],[0.1,0.1,0.1,0.1,0.1,0.1,0.1,0.1,0.1,0.1,0.1,0.1,0.1,0.1,0.1,0.1,0.1,0.1,0.1,0.1,0.1,0.1,0.1,0.1,0.1,0.1,0.1,0.1,0.1,0.1,0.1,0.1,0.1,0.1,0.1,1.1,1.1,1.1,1.1,2.1,2.1,2.1,2.1,2.1,2.1,1.1,1.1,1.1,0.1,0.1,0.1,0.1,0.1,0.1,0.1,0.1,0.1,0.1,0.1,0.1,0.1,0.1,0.1,0.1,0.1,0.1,0.1,0.1,0.1,0.1,0.1,0.1,0.1,0.1,0.1,0.1,0.1,0.1,0.1,0.1,0.1,0.1,0.1,0.1,0.1,0.1,0.1,0.1,0.1,0.1,0.1,0.1,0.1,0.1,0.1,0.1,0.1,0.1,0.1,0.1],[0.1,0.1,0.1,0.1,0.1,0.1,0.1,0.1,0.1,0.1,0.1,0.1,0.1,0.1,0.1,0.1,0.1,0.1,0.1,0.1,0.1,0.1,0.1,0.1,0.1,0.1,0.1,0.1,0.1,0.1,0.1,0.1,0.1,0.1,0.1,1.1,1.1,1.1,1.1,2.1,2.1,2.1,2.1,2.1,1.1,1.1,1.1,1.1,0.1,0.1,0.1,0.1,0.1,0.1,0.1,0.1,0.1,0.1,0.1,0.1,0.1,0.1,0.1,0.1,0.1,0.1,0.1,0.1,0.1,0.1,0.1,0.1,0.1,0.1,0.1,0.1,0.1,0.1,0.1,0.1,0.1,0.1,0.1,0.1,0.1,0.1,0.1,0.1,0.1,0.1,0.1,0.1,0.1,0.1,0.1,0.1,0.1,0.1,0.1,0.1],[0.1,0.1,0.1,0.1,0.1,0.1,0.1,0.1,0.1,0.1,0.1,0.1,0.1,0.1,0.1,0.1,0.1,0.1,0.1,0.1,0.1,0.1,0.1,0.1,0.1,0.1,0.1,0.1,0.1,0.1,0.1,0.1,0.1,0.1,0.1,0.1,1.1,1.1,1.1,1.1,1.1,2.1,2.1,1.1,1.1,1.1,1.1,0.1,0.1,0.1,0.1,0.1,0.1,0.1,0.1,0.1,0.1,0.1,0.1,0.1,0.1,0.1,0.1,0.1,0.1,0.1,0.1,0.1,0.1,0.1,0.1,0.1,0.1,0.1,0.1,0.1,0.1,0.1,0.1,0.1,0.1,0.1,0.1,0.1,0.1,0.1,0.1,0.1,0.1,0.1,0.1,0.1,0.1,0.1,0.1,0.1,0.1,0.1,0.1,0.1],[0.1,0.1,0.1,0.1,0.1,0.1,0.1,0.1,0.1,0.1,0.1,0.1,0.1,0.1,0.1,0.1,0.1,0.1,0.1,0.1,0.1,0.1,0.1,0.1,0.1,0.1,0.1,0.1,0.1,0.1,0.1,0.1,0.1,0.1,0.1,0.1,0.1,1.1,1.1,1.1,1.1,1.1,1.1,1.1,1.1,1.1,1.1,0.1,0.1,0.1,0.1,0.1,0.1,0.1,0.1,0.1,0.1,0.1,0.1,0.1,0.1,0.1,0.1,0.1,0.1,0.1,0.1,0.1,0.1,0.1,0.1,0.1,0.1,0.1,0.1,0.1,0.1,0.1,0.1,0.1,0.1,0.1,0.1,0.1,0.1,0.1,0.1,0.1,0.1,0.1,0.1,0.1,0.1,0.1,0.1,0.1,0.1,0.1,0.1,0.1],[0.1,0.1,0.1,0.1,0.1,0.1,0.1,0.1,0.1,0.1,0.1,0.1,0.1,0.1,0.1,0.1,0.1,0.1,0.1,0.1,0.1,0.1,0.1,0.1,0.1,0.1,0.1,0.1,0.1,0.1,0.1,0.1,0.1,0.1,0.1,0.1,0.1,1.1,1.1,1.1,1.1,1.1,1.1,1.1,1.1,1.1,0.1,0.1,0.1,0.1,0.1,0.1,0.1,0.1,0.1,0.1,0.1,0.1,0.1,0.1,0.1,0.1,0.1,0.1,0.1,0.1,0.1,0.1,0.1,0.1,0.1,0.1,0.1,0.1,0.1,0.1,0.1,0.1,0.1,0.1,0.1,0.1,0.1,0.1,0.1,0.1,0.1,0.1,0.1,0.1,0.1,0.1,0.1,0.1,0.1,0.1,0.1,0.1,0.1,0.1],[0.1,0.1,0.1,0.1,0.1,0.1,0.1,0.1,0.1,0.1,0.1,0.1,0.1,0.1,0.1,0.1,0.1,0.1,0.1,0.1,0.1,0.1,0.1,0.1,0.1,0.1,0.1,0.1,0.1,0.1,0.1,0.1,0.1,0.1,0.1,0.1,0.1,0.1,1.1,1.1,1.1,1.1,1.1,1.1,1.1,0.1,0.1,0.1,0.1,0.1,0.1,0.1,0.1,0.1,0.1,0.1,0.1,0.1,0.1,0.1,0.1,0.1,0.1,0.1,0.1,0.1,0.1,0.1,0.1,0.1,0.1,0.1,0.1,0.1,0.1,0.1,0.1,0.1,0.1,0.1,0.1,0.1,0.1,0.1,0.1,0.1,0.1,0.1,0.1,0.1,0.1,0.1,0.1,0.1,0.1,0.1,0.1,0.1,0.1,0.1],[0.1,0.1,0.1,0.1,0.1,0.1,0.1,0.1,0.1,0.1,0.1,0.1,0.1,0.1,0.1,0.1,0.1,0.1,0.1,0.1,0.1,0.1,0.1,0.1,0.1,0.1,0.1,0.1,0.1,0.1,0.1,0.1,0.1,0.1,0.1,0.1,0.1,0.1,1.1,1.1,1.1,1.1,1.1,1.1,0.1,0.1,0.1,0.1,0.1,0.1,0.1,0.1,0.1,0.1,0.1,0.1,0.1,0.1,0.1,0.1,0.1,0.1,0.1,0.1,0.1,0.1,0.1,0.1,0.1,0.1,0.1,0.1,0.1,0.1,0.1,0.1,0.1,0.1,0.1,0.1,0.1,0.1,0.1,0.1,0.1,0.1,0.1,0.1,0.1,0.1,0.1,0.1,0.1,0.1,0.1,0.1,0.1,0.1,0.1,0.1],[0.1,0.1,0.1,0.1,0.1,0.1,0.1,0.1,0.1,0.1,0.1,0.1,0.1,0.1,0.1,0.1,0.1,0.1,0.1,0.1,0.1,0.1,0.1,0.1,0.1,0.1,0.1,0.1,0.1,0.1,0.1,0.1,0.1,0.1,0.1,0.1,0.1,0.1,0.1,1.1,1.1,1.1,1.1,1.1,0.1,0.1,0.1,0.1,0.1,0.1,0.1,0.1,0.1,0.1,0.1,0.1,0.1,0.1,0.1,0.1,0.1,0.1,0.1,0.1,0.1,0.1,0.1,0.1,0.1,0.1,0.1,0.1,0.1,0.1,0.1,0.1,0.1,0.1,0.1,0.1,0.1,0.1,0.1,0.1,0.1,0.1,0.1,0.1,0.1,0.1,0.1,0.1,0.1,0.1,0.1,0.1,0.1,0.1,0.1,0.1],[0.1,0.1,0.1,0.1,0.1,0.1,0.1,0.1,0.1,0.1,0.1,0.1,0.1,0.1,0.1,0.1,0.1,0.1,0.1,0.1,0.1,0.1,0.1,0.1,0.1,0.1,0.1,0.1,0.1,0.1,0.1,0.1,0.1,0.1,0.1,0.1,0.1,0.1,0.1,0.1,0.1,1.1,0.1,0.1,0.1,0.1,0.1,0.1,0.1,0.1,0.1,0.1,0.1,0.1,0.1,0.1,0.1,0.1,0.1,0.1,0.1,0.1,0.1,0.1,0.1,0.1,0.1,0.1,0.1,0.1,0.1,0.1,0.1,0.1,0.1,0.1,0.1,0.1,0.1,0.1,0.1,0.1,0.1,0.1,0.1,0.1,0.1,0.1,0.1,0.1,0.1,0.1,0.1,0.1,0.1,0.1,0.1,0.1,0.1,0.1],[0.1,0.1,0.1,0.1,0.1,0.1,0.1,0.1,0.1,0.1,0.1,0.1,0.1,0.1,0.1,0.1,0.1,0.1,0.1,0.1,0.1,0.1,0.1,0.1,0.1,0.1,0.1,0.1,0.1,0.1,0.1,0.1,0.1,0.1,0.1,0.1,0.1,0.1,0.1,0.1,0.1,0.1,0.1,0.1,0.1,0.1,0.1,0.1,0.1,0.1,0.1,0.1,0.1,0.1,0.1,0.1,0.1,0.1,0.1,0.1,0.1,0.1,0.1,0.1,0.1,0.1,0.1,0.1,0.1,0.1,0.1,0.1,0.1,0.1,0.1,0.1,0.1,0.1,0.1,0.1,0.1,0.1,0.1,0.1,0.1,0.1,0.1,0.1,0.1,0.1,0.1,0.1,0.1,0.1,0.1,0.1,0.1,0.1,0.1,0.1],[0.1,0.1,0.1,0.1,0.1,0.1,0.1,0.1,0.1,0.1,0.1,0.1,0.1,0.1,0.1,0.1,0.1,0.1,0.1,0.1,0.1,0.1,0.1,0.1,0.1,0.1,0.1,0.1,0.1,0.1,0.1,0.1,0.1,0.1,0.1,0.1,0.1,0.1,0.1,0.1,0.1,0.1,0.1,0.1,0.1,0.1,0.1,0.1,0.1,0.1,0.1,0.1,0.1,0.1,0.1,0.1,0.1,0.1,0.1,0.1,0.1,0.1,0.1,0.1,0.1,0.1,0.1,0.1,0.1,0.1,0.1,0.1,0.1,0.1,0.1,0.1,0.1,0.1,0.1,0.1,0.1,0.1,0.1,0.1,0.1,0.1,0.1,0.1,0.1,0.1,0.1,0.1,0.1,0.1,0.1,0.1,0.1,0.1,0.1,0.1],[0.1,0.1,0.1,0.1,0.1,0.1,0.1,0.1,0.1,0.1,0.1,0.1,0.1,0.1,0.1,0.1,0.1,0.1,0.1,0.1,0.1,0.1,0.1,0.1,0.1,0.1,0.1,0.1,0.1,0.1,0.1,0.1,0.1,0.1,0.1,0.1,0.1,0.1,0.1,0.1,0.1,0.1,0.1,0.1,0.1,0.1,0.1,0.1,0.1,0.1,0.1,0.1,0.1,0.1,0.1,0.1,0.1,0.1,0.1,0.1,0.1,0.1,0.1,0.1,0.1,0.1,0.1,0.1,0.1,0.1,0.1,0.1,0.1,0.1,0.1,0.1,0.1,0.1,0.1,0.1,0.1,0.1,0.1,0.1,0.1,0.1,0.1,0.1,0.1,0.1,0.1,0.1,0.1,0.1,0.1,0.1,0.1,0.1,0.1,0.1],[0.1,0.1,0.1,0.1,0.1,0.1,0.1,0.1,0.1,0.1,0.1,0.1,0.1,0.1,0.1,0.1,0.1,0.1,0.1,0.1,0.1,0.1,0.1,0.1,0.1,0.1,0.1,0.1,0.1,0.1,0.1,0.1,0.1,0.1,0.1,0.1,0.1,0.1,0.1,0.1,0.1,0.1,0.1,0.1,0.1,0.1,0.1,0.1,0.1,0.1,0.1,0.1,0.1,0.1,0.1,0.1,0.1,0.1,0.1,0.1,0.1,0.1,0.1,0.1,0.1,0.1,0.1,0.1,0.1,0.1,0.1,0.1,0.1,0.1,0.1,0.1,0.1,0.1,0.1,0.1,0.1,0.1,0.1,0.1,0.1,0.1,0.1,0.1,0.1,0.1,0.1,0.1,0.1,0.1,0.1,0.1,0.1,0.1,0.1,0.1],[0.1,0.1,0.1,0.1,0.1,0.1,0.1,0.1,0.1,0.1,0.1,0.1,0.1,0.1,0.1,0.1,0.1,0.1,0.1,0.1,0.1,0.1,0.1,0.1,0.1,0.1,0.1,0.1,0.1,0.1,0.1,0.1,0.1,0.1,0.1,0.1,0.1,0.1,0.1,0.1,0.1,0.1,0.1,0.1,0.1,0.1,0.1,0.1,0.1,0.1,0.1,0.1,0.1,0.1,0.1,0.1,0.1,0.1,0.1,0.1,0.1,0.1,0.1,0.1,0.1,0.1,0.1,0.1,0.1,0.1,0.1,0.1,0.1,0.1,0.1,0.1,0.1,0.1,0.1,0.1,0.1,0.1,0.1,0.1,0.1,0.1,0.1,0.1,0.1,0.1,0.1,0.1,0.1,0.1,0.1,0.1,0.1,0.1,0.1,0.1],[0.1,0.1,0.1,0.1,0.1,0.1,0.1,0.1,0.1,0.1,0.1,0.1,0.1,0.1,0.1,0.1,0.1,0.1,0.1,0.1,0.1,0.1,0.1,0.1,0.1,0.1,0.1,0.1,0.1,0.1,0.1,0.1,0.1,0.1,0.1,0.1,0.1,0.1,0.1,0.1,0.1,0.1,0.1,0.1,0.1,0.1,0.1,0.1,0.1,0.1,0.1,0.1,0.1,0.1,0.1,0.1,0.1,0.1,0.1,0.1,0.1,0.1,0.1,0.1,0.1,0.1,0.1,0.1,0.1,0.1,0.1,0.1,0.1,0.1,0.1,0.1,0.1,0.1,0.1,0.1,0.1,0.1,0.1,0.1,0.1,0.1,0.1,0.1,0.1,0.1,0.1,0.1,0.1,0.1,0.1,0.1,0.1,0.1,0.1,0.1],[0.1,0.1,0.1,0.1,0.1,0.1,0.1,0.1,0.1,0.1,0.1,0.1,0.1,0.1,0.1,0.1,0.1,0.1,0.1,0.1,0.1,0.1,0.1,0.1,0.1,0.1,0.1,0.1,0.1,0.1,0.1,0.1,0.1,0.1,0.1,0.1,0.1,0.1,0.1,0.1,0.1,0.1,0.1,0.1,0.1,0.1,0.1,0.1,0.1,0.1,0.1,0.1,0.1,0.1,0.1,0.1,0.1,0.1,0.1,0.1,0.1,0.1,0.1,0.1,0.1,0.1,0.1,0.1,0.1,0.1,0.1,0.1,0.1,0.1,0.1,0.1,0.1,0.1,0.1,0.1,0.1,0.1,0.1,0.1,0.1,0.1,0.1,0.1,0.1,0.1,0.1,0.1,0.1,0.1,0.1,0.1,0.1,0.1,0.1,0.1],[0.1,0.1,0.1,0.1,0.1,0.1,0.1,0.1,0.1,0.1,0.1,0.1,0.1,0.1,0.1,0.1,0.1,0.1,0.1,0.1,0.1,0.1,0.1,0.1,0.1,0.1,0.1,0.1,0.1,0.1,0.1,0.1,0.1,0.1,0.1,0.1,0.1,0.1,0.1,0.1,0.1,0.1,0.1,0.1,0.1,0.1,0.1,0.1,0.1,0.1,0.1,0.1,0.1,0.1,0.1,0.1,0.1,0.1,0.1,0.1,0.1,0.1,0.1,0.1,0.1,0.1,0.1,0.1,0.1,0.1,0.1,0.1,0.1,0.1,0.1,0.1,0.1,0.1,0.1,0.1,0.1,0.1,0.1,0.1,0.1,0.1,0.1,0.1,0.1,0.1,0.1,0.1,0.1,0.1,0.1,0.1,0.1,0.1,0.1,0.1],[0.1,0.1,0.1,0.1,0.1,0.1,0.1,0.1,0.1,0.1,0.1,0.1,0.1,0.1,0.1,0.1,0.1,0.1,0.1,0.1,0.1,0.1,0.1,0.1,0.1,0.1,0.1,0.1,0.1,0.1,0.1,0.1,0.1,0.1,0.1,0.1,0.1,0.1,0.1,0.1,0.1,0.1,0.1,0.1,0.1,0.1,0.1,0.1,0.1,0.1,0.1,0.1,0.1,0.1,0.1,0.1,0.1,0.1,0.1,0.1,0.1,0.1,0.1,0.1,0.1,0.1,0.1,0.1,0.1,0.1,0.1,0.1,0.1,0.1,0.1,0.1,0.1,0.1,0.1,0.1,0.1,0.1,0.1,0.1,0.1,0.1,0.1,0.1,0.1,0.1,0.1,0.1,0.1,0.1,0.1,0.1,0.1,0.1,0.1,0.1],[0.1,0.1,0.1,0.1,0.1,0.1,0.1,0.1,0.1,0.1,0.1,0.1,0.1,0.1,0.1,0.1,0.1,0.1,0.1,0.1,0.1,0.1,0.1,0.1,0.1,0.1,0.1,0.1,0.1,0.1,0.1,0.1,0.1,0.1,0.1,0.1,0.1,0.1,0.1,0.1,0.1,0.1,0.1,0.1,0.1,0.1,0.1,0.1,0.1,0.1,0.1,0.1,0.1,0.1,0.1,0.1,0.1,0.1,0.1,0.1,0.1,0.1,0.1,0.1,0.1,0.1,0.1,0.1,0.1,0.1,0.1,0.1,0.1,0.1,0.1,0.1,0.1,0.1,0.1,0.1,0.1,0.1,0.1,0.1,0.1,0.1,0.1,0.1,0.1,0.1,0.1,0.1,0.1,0.1,0.1,0.1,0.1,0.1,0.1,0.1],[0.1,0.1,0.1,0.1,0.1,0.1,0.1,0.1,0.1,0.1,0.1,0.1,0.1,0.1,0.1,0.1,0.1,0.1,0.1,0.1,0.1,0.1,0.1,0.1,0.1,0.1,0.1,0.1,0.1,0.1,0.1,0.1,0.1,0.1,0.1,0.1,0.1,0.1,0.1,0.1,0.1,0.1,0.1,0.1,0.1,0.1,0.1,0.1,0.1,0.1,0.1,0.1,0.1,0.1,0.1,0.1,0.1,0.1,0.1,0.1,0.1,0.1,0.1,0.1,0.1,0.1,0.1,0.1,0.1,0.1,0.1,0.1,0.1,0.1,0.1,0.1,0.1,0.1,0.1,0.1,0.1,0.1,0.1,0.1,0.1,0.1,0.1,0.1,0.1,0.1,0.1,0.1,0.1,0.1,0.1,0.1,0.1,0.1,0.1,0.1],[0.1,0.1,0.1,0.1,0.1,0.1,0.1,0.1,0.1,0.1,0.1,0.1,0.1,0.1,0.1,0.1,0.1,0.1,0.1,0.1,0.1,0.1,0.1,0.1,0.1,0.1,0.1,0.1,0.1,0.1,0.1,0.1,0.1,0.1,0.1,0.1,0.1,0.1,0.1,0.1,0.1,0.1,0.1,0.1,0.1,0.1,0.1,0.1,0.1,0.1,0.1,0.1,0.1,0.1,0.1,0.1,0.1,0.1,0.1,0.1,0.1,0.1,0.1,0.1,0.1,0.1,0.1,0.1,0.1,0.1,0.1,0.1,0.1,0.1,0.1,0.1,0.1,0.1,0.1,0.1,0.1,0.1,0.1,0.1,0.1,0.1,0.1,0.1,0.1,0.1,0.1,0.1,0.1,0.1,0.1,0.1,0.1,0.1,0.1,0.1],[0.1,0.1,0.1,0.1,0.1,0.1,0.1,0.1,0.1,0.1,0.1,0.1,0.1,0.1,0.1,0.1,0.1,0.1,0.1,0.1,0.1,0.1,0.1,0.1,0.1,0.1,0.1,0.1,0.1,0.1,0.1,0.1,0.1,0.1,0.1,0.1,0.1,0.1,0.1,0.1,0.1,0.1,0.1,0.1,0.1,0.1,0.1,0.1,0.1,0.1,0.1,0.1,0.1,0.1,0.1,0.1,0.1,0.1,0.1,0.1,0.1,0.1,0.1,0.1,0.1,0.1,0.1,0.1,0.1,0.1,0.1,0.1,0.1,0.1,0.1,0.1,0.1,0.1,0.1,0.1,0.1,0.1,0.1,0.1,0.1,0.1,0.1,0.1,0.1,0.1,0.1,0.1,0.1,0.1,0.1,0.1,0.1,0.1,0.1,0.1],[0.1,0.1,0.1,0.1,0.1,0.1,0.1,0.1,0.1,0.1,0.1,0.1,0.1,0.1,0.1,0.1,0.1,0.1,0.1,0.1,0.1,0.1,0.1,0.1,0.1,0.1,0.1,0.1,0.1,0.1,0.1,0.1,0.1,0.1,0.1,0.1,0.1,0.1,0.1,0.1,0.1,0.1,0.1,0.1,0.1,0.1,0.1,0.1,0.1,0.1,0.1,0.1,0.1,0.1,0.1,0.1,0.1,0.1,0.1,0.1,0.1,0.1,0.1,0.1,0.1,0.1,0.1,0.1,0.1,0.1,0.1,0.1,0.1,0.1,0.1,0.1,0.1,0.1,0.1,0.1,0.1,0.1,0.1,0.1,0.1,0.1,0.1,0.1,0.1,0.1,0.1,0.1,0.1,0.1,0.1,0.1,0.1,0.1,0.1,0.1],[0.1,0.1,0.1,0.1,0.1,0.1,0.1,0.1,0.1,0.1,0.1,0.1,0.1,0.1,0.1,0.1,0.1,0.1,0.1,0.1,0.1,0.1,0.1,0.1,0.1,0.1,0.1,0.1,0.1,0.1,0.1,0.1,0.1,0.1,0.1,0.1,0.1,0.1,0.1,0.1,0.1,0.1,0.1,0.1,0.1,0.1,0.1,0.1,0.1,0.1,0.1,0.1,0.1,0.1,0.1,0.1,0.1,0.1,0.1,0.1,0.1,0.1,0.1,0.1,0.1,0.1,0.1,0.1,0.1,0.1,0.1,0.1,0.1,0.1,0.1,0.1,0.1,0.1,0.1,0.1,0.1,0.1,0.1,0.1,0.1,0.1,0.1,0.1,0.1,0.1,0.1,0.1,0.1,0.1,0.1,0.1,0.1,0.1,0.1,0.1],[0.1,0.1,0.1,0.1,0.1,0.1,0.1,0.1,0.1,0.1,0.1,0.1,0.1,0.1,0.1,0.1,0.1,0.1,0.1,0.1,0.1,0.1,0.1,0.1,0.1,0.1,0.1,0.1,0.1,0.1,0.1,0.1,0.1,0.1,0.1,0.1,0.1,0.1,0.1,0.1,0.1,0.1,0.1,0.1,0.1,0.1,0.1,0.1,0.1,0.1,0.1,0.1,0.1,0.1,0.1,0.1,0.1,0.1,0.1,0.1,0.1,0.1,0.1,0.1,0.1,0.1,0.1,0.1,0.1,0.1,0.1,0.1,0.1,0.1,0.1,0.1,0.1,0.1,0.1,0.1,0.1,0.1,0.1,0.1,0.1,0.1,0.1,0.1,0.1,0.1,0.1,0.1,0.1,0.1,0.1,0.1,0.1,0.1,0.1,0.1],[0.1,0.1,0.1,0.1,0.1,0.1,0.1,0.1,0.1,0.1,0.1,0.1,0.1,0.1,0.1,0.1,0.1,0.1,0.1,0.1,0.1,0.1,0.1,0.1,0.1,0.1,0.1,0.1,0.1,0.1,0.1,0.1,0.1,0.1,0.1,0.1,0.1,0.1,0.1,0.1,0.1,0.1,0.1,0.1,0.1,0.1,0.1,0.1,0.1,0.1,0.1,0.1,0.1,0.1,0.1,0.1,0.1,0.1,0.1,0.1,0.1,0.1,0.1,0.1,0.1,0.1,0.1,0.1,0.1,0.1,0.1,0.1,0.1,0.1,0.1,0.1,0.1,0.1,0.1,0.1,0.1,0.1,0.1,0.1,0.1,0.1,0.1,0.1,0.1,0.1,0.1,0.1,0.1,0.1,0.1,0.1,0.1,0.1,0.1,0.1]],\"type\":\"contour\",\"xaxis\":\"x2\",\"yaxis\":\"y2\"}],                        {\"template\":{\"data\":{\"histogram2dcontour\":[{\"type\":\"histogram2dcontour\",\"colorbar\":{\"outlinewidth\":0,\"ticks\":\"\"},\"colorscale\":[[0.0,\"#0d0887\"],[0.1111111111111111,\"#46039f\"],[0.2222222222222222,\"#7201a8\"],[0.3333333333333333,\"#9c179e\"],[0.4444444444444444,\"#bd3786\"],[0.5555555555555556,\"#d8576b\"],[0.6666666666666666,\"#ed7953\"],[0.7777777777777778,\"#fb9f3a\"],[0.8888888888888888,\"#fdca26\"],[1.0,\"#f0f921\"]]}],\"choropleth\":[{\"type\":\"choropleth\",\"colorbar\":{\"outlinewidth\":0,\"ticks\":\"\"}}],\"histogram2d\":[{\"type\":\"histogram2d\",\"colorbar\":{\"outlinewidth\":0,\"ticks\":\"\"},\"colorscale\":[[0.0,\"#0d0887\"],[0.1111111111111111,\"#46039f\"],[0.2222222222222222,\"#7201a8\"],[0.3333333333333333,\"#9c179e\"],[0.4444444444444444,\"#bd3786\"],[0.5555555555555556,\"#d8576b\"],[0.6666666666666666,\"#ed7953\"],[0.7777777777777778,\"#fb9f3a\"],[0.8888888888888888,\"#fdca26\"],[1.0,\"#f0f921\"]]}],\"heatmap\":[{\"type\":\"heatmap\",\"colorbar\":{\"outlinewidth\":0,\"ticks\":\"\"},\"colorscale\":[[0.0,\"#0d0887\"],[0.1111111111111111,\"#46039f\"],[0.2222222222222222,\"#7201a8\"],[0.3333333333333333,\"#9c179e\"],[0.4444444444444444,\"#bd3786\"],[0.5555555555555556,\"#d8576b\"],[0.6666666666666666,\"#ed7953\"],[0.7777777777777778,\"#fb9f3a\"],[0.8888888888888888,\"#fdca26\"],[1.0,\"#f0f921\"]]}],\"heatmapgl\":[{\"type\":\"heatmapgl\",\"colorbar\":{\"outlinewidth\":0,\"ticks\":\"\"},\"colorscale\":[[0.0,\"#0d0887\"],[0.1111111111111111,\"#46039f\"],[0.2222222222222222,\"#7201a8\"],[0.3333333333333333,\"#9c179e\"],[0.4444444444444444,\"#bd3786\"],[0.5555555555555556,\"#d8576b\"],[0.6666666666666666,\"#ed7953\"],[0.7777777777777778,\"#fb9f3a\"],[0.8888888888888888,\"#fdca26\"],[1.0,\"#f0f921\"]]}],\"contourcarpet\":[{\"type\":\"contourcarpet\",\"colorbar\":{\"outlinewidth\":0,\"ticks\":\"\"}}],\"contour\":[{\"type\":\"contour\",\"colorbar\":{\"outlinewidth\":0,\"ticks\":\"\"},\"colorscale\":[[0.0,\"#0d0887\"],[0.1111111111111111,\"#46039f\"],[0.2222222222222222,\"#7201a8\"],[0.3333333333333333,\"#9c179e\"],[0.4444444444444444,\"#bd3786\"],[0.5555555555555556,\"#d8576b\"],[0.6666666666666666,\"#ed7953\"],[0.7777777777777778,\"#fb9f3a\"],[0.8888888888888888,\"#fdca26\"],[1.0,\"#f0f921\"]]}],\"surface\":[{\"type\":\"surface\",\"colorbar\":{\"outlinewidth\":0,\"ticks\":\"\"},\"colorscale\":[[0.0,\"#0d0887\"],[0.1111111111111111,\"#46039f\"],[0.2222222222222222,\"#7201a8\"],[0.3333333333333333,\"#9c179e\"],[0.4444444444444444,\"#bd3786\"],[0.5555555555555556,\"#d8576b\"],[0.6666666666666666,\"#ed7953\"],[0.7777777777777778,\"#fb9f3a\"],[0.8888888888888888,\"#fdca26\"],[1.0,\"#f0f921\"]]}],\"mesh3d\":[{\"type\":\"mesh3d\",\"colorbar\":{\"outlinewidth\":0,\"ticks\":\"\"}}],\"scatter\":[{\"fillpattern\":{\"fillmode\":\"overlay\",\"size\":10,\"solidity\":0.2},\"type\":\"scatter\"}],\"parcoords\":[{\"type\":\"parcoords\",\"line\":{\"colorbar\":{\"outlinewidth\":0,\"ticks\":\"\"}}}],\"scatterpolargl\":[{\"type\":\"scatterpolargl\",\"marker\":{\"colorbar\":{\"outlinewidth\":0,\"ticks\":\"\"}}}],\"bar\":[{\"error_x\":{\"color\":\"#2a3f5f\"},\"error_y\":{\"color\":\"#2a3f5f\"},\"marker\":{\"line\":{\"color\":\"#E5ECF6\",\"width\":0.5},\"pattern\":{\"fillmode\":\"overlay\",\"size\":10,\"solidity\":0.2}},\"type\":\"bar\"}],\"scattergeo\":[{\"type\":\"scattergeo\",\"marker\":{\"colorbar\":{\"outlinewidth\":0,\"ticks\":\"\"}}}],\"scatterpolar\":[{\"type\":\"scatterpolar\",\"marker\":{\"colorbar\":{\"outlinewidth\":0,\"ticks\":\"\"}}}],\"histogram\":[{\"marker\":{\"pattern\":{\"fillmode\":\"overlay\",\"size\":10,\"solidity\":0.2}},\"type\":\"histogram\"}],\"scattergl\":[{\"type\":\"scattergl\",\"marker\":{\"colorbar\":{\"outlinewidth\":0,\"ticks\":\"\"}}}],\"scatter3d\":[{\"type\":\"scatter3d\",\"line\":{\"colorbar\":{\"outlinewidth\":0,\"ticks\":\"\"}},\"marker\":{\"colorbar\":{\"outlinewidth\":0,\"ticks\":\"\"}}}],\"scattermapbox\":[{\"type\":\"scattermapbox\",\"marker\":{\"colorbar\":{\"outlinewidth\":0,\"ticks\":\"\"}}}],\"scatterternary\":[{\"type\":\"scatterternary\",\"marker\":{\"colorbar\":{\"outlinewidth\":0,\"ticks\":\"\"}}}],\"scattercarpet\":[{\"type\":\"scattercarpet\",\"marker\":{\"colorbar\":{\"outlinewidth\":0,\"ticks\":\"\"}}}],\"carpet\":[{\"aaxis\":{\"endlinecolor\":\"#2a3f5f\",\"gridcolor\":\"white\",\"linecolor\":\"white\",\"minorgridcolor\":\"white\",\"startlinecolor\":\"#2a3f5f\"},\"baxis\":{\"endlinecolor\":\"#2a3f5f\",\"gridcolor\":\"white\",\"linecolor\":\"white\",\"minorgridcolor\":\"white\",\"startlinecolor\":\"#2a3f5f\"},\"type\":\"carpet\"}],\"table\":[{\"cells\":{\"fill\":{\"color\":\"#EBF0F8\"},\"line\":{\"color\":\"white\"}},\"header\":{\"fill\":{\"color\":\"#C8D4E3\"},\"line\":{\"color\":\"white\"}},\"type\":\"table\"}],\"barpolar\":[{\"marker\":{\"line\":{\"color\":\"#E5ECF6\",\"width\":0.5},\"pattern\":{\"fillmode\":\"overlay\",\"size\":10,\"solidity\":0.2}},\"type\":\"barpolar\"}],\"pie\":[{\"automargin\":true,\"type\":\"pie\"}]},\"layout\":{\"autotypenumbers\":\"strict\",\"colorway\":[\"#636efa\",\"#EF553B\",\"#00cc96\",\"#ab63fa\",\"#FFA15A\",\"#19d3f3\",\"#FF6692\",\"#B6E880\",\"#FF97FF\",\"#FECB52\"],\"font\":{\"color\":\"#2a3f5f\"},\"hovermode\":\"closest\",\"hoverlabel\":{\"align\":\"left\"},\"paper_bgcolor\":\"white\",\"plot_bgcolor\":\"#E5ECF6\",\"polar\":{\"bgcolor\":\"#E5ECF6\",\"angularaxis\":{\"gridcolor\":\"white\",\"linecolor\":\"white\",\"ticks\":\"\"},\"radialaxis\":{\"gridcolor\":\"white\",\"linecolor\":\"white\",\"ticks\":\"\"}},\"ternary\":{\"bgcolor\":\"#E5ECF6\",\"aaxis\":{\"gridcolor\":\"white\",\"linecolor\":\"white\",\"ticks\":\"\"},\"baxis\":{\"gridcolor\":\"white\",\"linecolor\":\"white\",\"ticks\":\"\"},\"caxis\":{\"gridcolor\":\"white\",\"linecolor\":\"white\",\"ticks\":\"\"}},\"coloraxis\":{\"colorbar\":{\"outlinewidth\":0,\"ticks\":\"\"}},\"colorscale\":{\"sequential\":[[0.0,\"#0d0887\"],[0.1111111111111111,\"#46039f\"],[0.2222222222222222,\"#7201a8\"],[0.3333333333333333,\"#9c179e\"],[0.4444444444444444,\"#bd3786\"],[0.5555555555555556,\"#d8576b\"],[0.6666666666666666,\"#ed7953\"],[0.7777777777777778,\"#fb9f3a\"],[0.8888888888888888,\"#fdca26\"],[1.0,\"#f0f921\"]],\"sequentialminus\":[[0.0,\"#0d0887\"],[0.1111111111111111,\"#46039f\"],[0.2222222222222222,\"#7201a8\"],[0.3333333333333333,\"#9c179e\"],[0.4444444444444444,\"#bd3786\"],[0.5555555555555556,\"#d8576b\"],[0.6666666666666666,\"#ed7953\"],[0.7777777777777778,\"#fb9f3a\"],[0.8888888888888888,\"#fdca26\"],[1.0,\"#f0f921\"]],\"diverging\":[[0,\"#8e0152\"],[0.1,\"#c51b7d\"],[0.2,\"#de77ae\"],[0.3,\"#f1b6da\"],[0.4,\"#fde0ef\"],[0.5,\"#f7f7f7\"],[0.6,\"#e6f5d0\"],[0.7,\"#b8e186\"],[0.8,\"#7fbc41\"],[0.9,\"#4d9221\"],[1,\"#276419\"]]},\"xaxis\":{\"gridcolor\":\"white\",\"linecolor\":\"white\",\"ticks\":\"\",\"title\":{\"standoff\":15},\"zerolinecolor\":\"white\",\"automargin\":true,\"zerolinewidth\":2},\"yaxis\":{\"gridcolor\":\"white\",\"linecolor\":\"white\",\"ticks\":\"\",\"title\":{\"standoff\":15},\"zerolinecolor\":\"white\",\"automargin\":true,\"zerolinewidth\":2},\"scene\":{\"xaxis\":{\"backgroundcolor\":\"#E5ECF6\",\"gridcolor\":\"white\",\"linecolor\":\"white\",\"showbackground\":true,\"ticks\":\"\",\"zerolinecolor\":\"white\",\"gridwidth\":2},\"yaxis\":{\"backgroundcolor\":\"#E5ECF6\",\"gridcolor\":\"white\",\"linecolor\":\"white\",\"showbackground\":true,\"ticks\":\"\",\"zerolinecolor\":\"white\",\"gridwidth\":2},\"zaxis\":{\"backgroundcolor\":\"#E5ECF6\",\"gridcolor\":\"white\",\"linecolor\":\"white\",\"showbackground\":true,\"ticks\":\"\",\"zerolinecolor\":\"white\",\"gridwidth\":2}},\"shapedefaults\":{\"line\":{\"color\":\"#2a3f5f\"}},\"annotationdefaults\":{\"arrowcolor\":\"#2a3f5f\",\"arrowhead\":0,\"arrowwidth\":1},\"geo\":{\"bgcolor\":\"white\",\"landcolor\":\"#E5ECF6\",\"subunitcolor\":\"white\",\"showland\":true,\"showlakes\":true,\"lakecolor\":\"white\"},\"title\":{\"x\":0.05},\"mapbox\":{\"style\":\"light\"}}},\"xaxis\":{\"anchor\":\"y\",\"domain\":[0.0,0.45],\"type\":\"log\"},\"yaxis\":{\"anchor\":\"x\",\"domain\":[0.0,1.0]},\"xaxis2\":{\"anchor\":\"y2\",\"domain\":[0.55,1.0],\"type\":\"log\"},\"yaxis2\":{\"anchor\":\"x2\",\"domain\":[0.0,1.0]},\"annotations\":[{\"font\":{\"size\":16},\"showarrow\":false,\"text\":\"Treated w\\u002fAOA\",\"x\":0.225,\"xanchor\":\"center\",\"xref\":\"paper\",\"y\":1.0,\"yanchor\":\"bottom\",\"yref\":\"paper\"},{\"font\":{\"size\":16},\"showarrow\":false,\"text\":\"Untreated\",\"x\":0.775,\"xanchor\":\"center\",\"xref\":\"paper\",\"y\":1.0,\"yanchor\":\"bottom\",\"yref\":\"paper\"}],\"title\":{\"text\":\"TSS enrichment\"},\"height\":400,\"width\":800},                        {\"responsive\": true}                    ).then(function(){\n",
              "                            \n",
              "var gd = document.getElementById('1752a8b4-a3ae-470d-94bd-9c6ea8ca40b6');\n",
              "var x = new MutationObserver(function (mutations, observer) {{\n",
              "        var display = window.getComputedStyle(gd).display;\n",
              "        if (!display || display === 'none') {{\n",
              "            console.log([gd, 'removed!']);\n",
              "            Plotly.purge(gd);\n",
              "            observer.disconnect();\n",
              "        }}\n",
              "}});\n",
              "\n",
              "// Listen for the removal of the full notebook cells\n",
              "var notebookContainer = gd.closest('#notebook-container');\n",
              "if (notebookContainer) {{\n",
              "    x.observe(notebookContainer, {childList: true});\n",
              "}}\n",
              "\n",
              "// Listen for the clearing of the current output cell\n",
              "var outputEl = gd.closest('.output');\n",
              "if (outputEl) {{\n",
              "    x.observe(outputEl, {childList: true});\n",
              "}}\n",
              "\n",
              "                        })                };                            </script>        </div>\n",
              "</body>\n",
              "</html>"
            ]
          },
          "metadata": {}
        }
      ],
      "source": [
        "# Generate TSSE plots\n",
        "TSSE1plot = snap.pl.tsse(SRR26046013_DM_AOA_INH, show = False)\n",
        "TSSE2plot = snap.pl.tsse(SRR26046019_DM_UT,show = False)\n",
        "\n",
        "# Create a subplot figure\n",
        "fig = sp.make_subplots(rows=1, cols=2, subplot_titles=('Treated w/AOA', 'Untreated'))\n",
        "\n",
        "# Add the plots to the subplot figure\n",
        "fig.add_trace(TSSE1plot.data[0], row=1, col=1)\n",
        "fig.add_trace(TSSE2plot.data[0], row=1, col=2)\n",
        "\n",
        "# Update layout and set X-axis to logarithmic scale\n",
        "fig.update_layout(height=400, width=800, title_text=\"TSS enrichment\")\n",
        "fig.update_xaxes(type=\"log\", row=1, col=1)\n",
        "fig.update_xaxes(type=\"log\", row=1, col=2)\n",
        "\n",
        "fig.show()\n",
        "fig.write_image(\"TSSE_plots.png\", height=1080, width=1920)"
      ]
    },
    {
      "cell_type": "code",
      "execution_count": 31,
      "id": "27e4db60-aa9d-4e17-8f4b-0d30bd9b7b1f",
      "metadata": {
        "id": "27e4db60-aa9d-4e17-8f4b-0d30bd9b7b1f",
        "colab": {
          "base_uri": "https://localhost:8080/"
        },
        "outputId": "c8a85ac0-f98f-4a7e-ce89-267dfd246d51"
      },
      "outputs": [
        {
          "output_type": "execute_result",
          "data": {
            "text/plain": [
              "<snapatac2.genome.Genome at 0x7bb0e9190190>"
            ]
          },
          "metadata": {},
          "execution_count": 31
        }
      ],
      "source": [
        "gene_anno"
      ]
    },
    {
      "cell_type": "markdown",
      "id": "9bd3c212-8a10-4379-986b-8757c44715c9",
      "metadata": {
        "id": "9bd3c212-8a10-4379-986b-8757c44715c9"
      },
      "source": [
        "fig.write_image(\"TSSe_plot.png\",  width=1920, height=1080)"
      ]
    },
    {
      "cell_type": "markdown",
      "id": "01cf9321-d5d4-41ff-874c-6d35b89c4d85",
      "metadata": {
        "id": "01cf9321-d5d4-41ff-874c-6d35b89c4d85"
      },
      "source": [
        "#Filter cell counts and TSSE values based on above plots"
      ]
    },
    {
      "cell_type": "code",
      "execution_count": 32,
      "id": "2009add0-8ae3-487a-bac6-3f03d6ebe5b6",
      "metadata": {
        "id": "2009add0-8ae3-487a-bac6-3f03d6ebe5b6",
        "colab": {
          "base_uri": "https://localhost:8080/"
        },
        "outputId": "4a7c2148-0db4-4382-cb6d-442aa719cbd6"
      },
      "outputs": [
        {
          "output_type": "stream",
          "name": "stderr",
          "text": [
            "/usr/local/lib/python3.10/site-packages/anndata/_core/anndata.py:1118: FutureWarning:\n",
            "\n",
            "is_categorical_dtype is deprecated and will be removed in a future version. Use isinstance(dtype, CategoricalDtype) instead\n",
            "\n",
            "/usr/local/lib/python3.10/site-packages/anndata/_core/anndata.py:121: ImplicitModificationWarning:\n",
            "\n",
            "Transforming to str index.\n",
            "\n",
            "/usr/local/lib/python3.10/site-packages/anndata/_core/anndata.py:121: ImplicitModificationWarning:\n",
            "\n",
            "Transforming to str index.\n",
            "\n"
          ]
        }
      ],
      "source": [
        "snap.pp.filter_cells(SRR26046013_DM_AOA_INH, min_counts=3000, min_tsse=15, max_counts=70000)"
      ]
    },
    {
      "cell_type": "code",
      "execution_count": 33,
      "id": "bddd6945-3252-493e-8d9b-a44e4b72ccd4",
      "metadata": {
        "id": "bddd6945-3252-493e-8d9b-a44e4b72ccd4",
        "colab": {
          "base_uri": "https://localhost:8080/"
        },
        "outputId": "19944cff-bd9d-420e-b24c-dfd5ff7ecdb0"
      },
      "outputs": [
        {
          "output_type": "stream",
          "name": "stderr",
          "text": [
            "/usr/local/lib/python3.10/site-packages/anndata/_core/anndata.py:1118: FutureWarning:\n",
            "\n",
            "is_categorical_dtype is deprecated and will be removed in a future version. Use isinstance(dtype, CategoricalDtype) instead\n",
            "\n",
            "/usr/local/lib/python3.10/site-packages/anndata/_core/anndata.py:121: ImplicitModificationWarning:\n",
            "\n",
            "Transforming to str index.\n",
            "\n",
            "/usr/local/lib/python3.10/site-packages/anndata/_core/anndata.py:121: ImplicitModificationWarning:\n",
            "\n",
            "Transforming to str index.\n",
            "\n"
          ]
        }
      ],
      "source": [
        "snap.pp.filter_cells(SRR26046019_DM_UT, min_counts=6000, min_tsse=13, max_counts=90000)"
      ]
    },
    {
      "cell_type": "code",
      "execution_count": 34,
      "id": "182875b4-c906-4329-9489-4fbc4efb5246",
      "metadata": {
        "id": "182875b4-c906-4329-9489-4fbc4efb5246",
        "colab": {
          "base_uri": "https://localhost:8080/"
        },
        "outputId": "014be3f9-072f-4f57-d56d-0ee1e7c912cc"
      },
      "outputs": [
        {
          "output_type": "execute_result",
          "data": {
            "text/plain": [
              "AnnData object with n_obs × n_vars = 6612 × 0\n",
              "    obs: 'n_fragment', 'frac_dup', 'frac_mito', 'tsse'\n",
              "    uns: 'reference_sequences', 'library_tsse', 'frac_overlap_TSS', 'TSS_profile'\n",
              "    obsm: 'fragment_paired'"
            ]
          },
          "metadata": {},
          "execution_count": 34
        }
      ],
      "source": [
        "SRR26046013_DM_AOA_INH"
      ]
    },
    {
      "cell_type": "code",
      "execution_count": 35,
      "id": "c74434e8-9509-4d46-830a-fcd020d56f96",
      "metadata": {
        "id": "c74434e8-9509-4d46-830a-fcd020d56f96",
        "colab": {
          "base_uri": "https://localhost:8080/"
        },
        "outputId": "5cc028e0-3db1-4e1d-b379-cd1767f8e234"
      },
      "outputs": [
        {
          "output_type": "execute_result",
          "data": {
            "text/plain": [
              "AnnData object with n_obs × n_vars = 5771 × 0\n",
              "    obs: 'n_fragment', 'frac_dup', 'frac_mito', 'tsse'\n",
              "    uns: 'reference_sequences', 'library_tsse', 'frac_overlap_TSS', 'TSS_profile'\n",
              "    obsm: 'fragment_paired'"
            ]
          },
          "metadata": {},
          "execution_count": 35
        }
      ],
      "source": [
        "SRR26046019_DM_UT"
      ]
    },
    {
      "cell_type": "markdown",
      "id": "608ca025-f7d6-4705-9036-eeb113d223a1",
      "metadata": {
        "id": "608ca025-f7d6-4705-9036-eeb113d223a1"
      },
      "source": [
        "#Write to file\n",
        "SRR26046013_DM_AOA_INH.write_h5ad('SRR26046013_DM_AOA_INH_filt.h5ad')\n",
        "SRR26046019_DM_UT.write_h5ad('SRR26046018_DM_UT_filt.h5ad')"
      ]
    },
    {
      "cell_type": "markdown",
      "id": "8ce65559-6f39-4703-925c-ac383a213635",
      "metadata": {
        "id": "8ce65559-6f39-4703-925c-ac383a213635"
      },
      "source": [
        "Create cell by bin matrix containing insertion counts across genome-wide 500-bp bins"
      ]
    },
    {
      "cell_type": "code",
      "execution_count": 36,
      "id": "f684eddb-6f17-42ce-865e-1922f062826b",
      "metadata": {
        "id": "f684eddb-6f17-42ce-865e-1922f062826b"
      },
      "outputs": [],
      "source": [
        "snap.pp.add_tile_matrix(SRR26046013_DM_AOA_INH)"
      ]
    },
    {
      "cell_type": "code",
      "execution_count": 37,
      "id": "cdde52e6-5b25-4669-9fc4-fdc37666bd90",
      "metadata": {
        "id": "cdde52e6-5b25-4669-9fc4-fdc37666bd90"
      },
      "outputs": [],
      "source": [
        "snap.pp.add_tile_matrix(SRR26046019_DM_UT)"
      ]
    },
    {
      "cell_type": "code",
      "execution_count": 38,
      "id": "ba0de516-0fd3-45c2-9656-cd7fad02ae26",
      "metadata": {
        "id": "ba0de516-0fd3-45c2-9656-cd7fad02ae26",
        "colab": {
          "base_uri": "https://localhost:8080/"
        },
        "outputId": "51b6f4d9-a435-4ea5-f713-812100b753c5"
      },
      "outputs": [
        {
          "output_type": "execute_result",
          "data": {
            "text/plain": [
              "AnnData object with n_obs × n_vars = 6612 × 6062095\n",
              "    obs: 'n_fragment', 'frac_dup', 'frac_mito', 'tsse'\n",
              "    uns: 'reference_sequences', 'library_tsse', 'frac_overlap_TSS', 'TSS_profile'\n",
              "    obsm: 'fragment_paired'"
            ]
          },
          "metadata": {},
          "execution_count": 38
        }
      ],
      "source": [
        "SRR26046013_DM_AOA_INH"
      ]
    },
    {
      "cell_type": "code",
      "execution_count": 39,
      "id": "a60ab7c4-7045-456d-8a94-0a1437a70979",
      "metadata": {
        "id": "a60ab7c4-7045-456d-8a94-0a1437a70979",
        "colab": {
          "base_uri": "https://localhost:8080/"
        },
        "outputId": "de62b764-9e56-4153-ff09-83f31c8373a1"
      },
      "outputs": [
        {
          "output_type": "execute_result",
          "data": {
            "text/plain": [
              "AnnData object with n_obs × n_vars = 5771 × 6062095\n",
              "    obs: 'n_fragment', 'frac_dup', 'frac_mito', 'tsse'\n",
              "    uns: 'reference_sequences', 'library_tsse', 'frac_overlap_TSS', 'TSS_profile'\n",
              "    obsm: 'fragment_paired'"
            ]
          },
          "metadata": {},
          "execution_count": 39
        }
      ],
      "source": [
        "SRR26046019_DM_UT"
      ]
    },
    {
      "cell_type": "markdown",
      "id": "730b9eda-c947-4340-a957-adc92e88fb78",
      "metadata": {
        "id": "730b9eda-c947-4340-a957-adc92e88fb78"
      },
      "source": [
        "Perform feature selection"
      ]
    },
    {
      "cell_type": "code",
      "execution_count": 40,
      "id": "3d1591cc-9311-4a03-b067-97b8ca34d72b",
      "metadata": {
        "id": "3d1591cc-9311-4a03-b067-97b8ca34d72b",
        "colab": {
          "base_uri": "https://localhost:8080/"
        },
        "outputId": "0f08a274-1b48-406e-e805-12972c3447fe"
      },
      "outputs": [
        {
          "output_type": "stream",
          "name": "stderr",
          "text": [
            "2025-01-01 11:45:36 - INFO - Selected 250000 features.\n"
          ]
        }
      ],
      "source": [
        "snap.pp.select_features(SRR26046013_DM_AOA_INH, n_features = 250000)"
      ]
    },
    {
      "cell_type": "code",
      "execution_count": 41,
      "id": "0a69aded-e4ef-4976-8f05-789b5d6c263f",
      "metadata": {
        "id": "0a69aded-e4ef-4976-8f05-789b5d6c263f",
        "colab": {
          "base_uri": "https://localhost:8080/"
        },
        "outputId": "1dc4fd3c-b774-4d13-ae2f-9639a7b9ae6e"
      },
      "outputs": [
        {
          "output_type": "stream",
          "name": "stderr",
          "text": [
            "2025-01-01 11:45:39 - INFO - Selected 250000 features.\n"
          ]
        }
      ],
      "source": [
        "snap.pp.select_features(SRR26046019_DM_UT, n_features = 250000)"
      ]
    },
    {
      "cell_type": "code",
      "execution_count": 42,
      "id": "9232b309-c72a-47e0-8bd9-b4471f3255de",
      "metadata": {
        "id": "9232b309-c72a-47e0-8bd9-b4471f3255de",
        "colab": {
          "base_uri": "https://localhost:8080/"
        },
        "outputId": "68278a36-73ea-443c-e752-66c4f100e1c7"
      },
      "outputs": [
        {
          "output_type": "execute_result",
          "data": {
            "text/plain": [
              "AnnData object with n_obs × n_vars = 6612 × 6062095\n",
              "    obs: 'n_fragment', 'frac_dup', 'frac_mito', 'tsse'\n",
              "    var: 'count', 'selected'\n",
              "    uns: 'reference_sequences', 'library_tsse', 'frac_overlap_TSS', 'TSS_profile'\n",
              "    obsm: 'fragment_paired'"
            ]
          },
          "metadata": {},
          "execution_count": 42
        }
      ],
      "source": [
        "SRR26046013_DM_AOA_INH"
      ]
    },
    {
      "cell_type": "code",
      "execution_count": 43,
      "id": "97ae3605-d2ee-4135-88df-515a0c6e62ea",
      "metadata": {
        "id": "97ae3605-d2ee-4135-88df-515a0c6e62ea",
        "scrolled": true
      },
      "outputs": [],
      "source": [
        "#sc.write(adata=SRR26046013_DM_AOA_INH,filename=\"SRR26046013_Annotated_data_matrix_P1.h5ad\",compression='gzip')"
      ]
    },
    {
      "cell_type": "markdown",
      "id": "ff5b4e7e-cd5b-4caf-971c-e6c466aee157",
      "metadata": {
        "id": "ff5b4e7e-cd5b-4caf-971c-e6c466aee157"
      },
      "source": [
        "Doublet removal"
      ]
    },
    {
      "cell_type": "code",
      "execution_count": 44,
      "id": "997a0c44-fed5-4252-803c-e38caa70cd59",
      "metadata": {
        "id": "997a0c44-fed5-4252-803c-e38caa70cd59",
        "colab": {
          "base_uri": "https://localhost:8080/"
        },
        "outputId": "bd206d7b-ab2a-4c61-f37c-c1bc6ced0935"
      },
      "outputs": [
        {
          "output_type": "execute_result",
          "data": {
            "text/plain": [
              "AnnData object with n_obs × n_vars = 6612 × 6062095\n",
              "    obs: 'n_fragment', 'frac_dup', 'frac_mito', 'tsse'\n",
              "    var: 'count', 'selected'\n",
              "    uns: 'reference_sequences', 'library_tsse', 'frac_overlap_TSS', 'TSS_profile'\n",
              "    obsm: 'fragment_paired'"
            ]
          },
          "metadata": {},
          "execution_count": 44
        }
      ],
      "source": [
        "SRR26046013_DM_AOA_INH"
      ]
    },
    {
      "cell_type": "code",
      "execution_count": 45,
      "id": "1146d5f9-9d0a-49b2-bce0-533dbe84adfb",
      "metadata": {
        "id": "1146d5f9-9d0a-49b2-bce0-533dbe84adfb",
        "colab": {
          "base_uri": "https://localhost:8080/"
        },
        "outputId": "552a7eaf-1a4e-429a-804d-856ff10c60a3"
      },
      "outputs": [
        {
          "output_type": "stream",
          "name": "stderr",
          "text": [
            "2025-01-01 11:45:42 - INFO - Simulating doublets...\n",
            "2025-01-01 11:45:45 - INFO - Spectral embedding ...\n",
            "/usr/local/lib/python3.10/site-packages/snapatac2/preprocessing/_scrublet.py:258: FutureWarning:\n",
            "\n",
            "X.dtype being converted to np.float32 from uint32. In the next version of anndata (0.9) conversion will not be automatic. Pass dtype explicitly to avoid this warning. Pass `AnnData(X, dtype=X.dtype, ...)` to get the future behavour.\n",
            "\n",
            "2025-01-01 11:49:04 - INFO - Calculating doublet scores...\n"
          ]
        }
      ],
      "source": [
        "#Apply a scrublet algorithm to identify potential doublets\n",
        "snap.pp.scrublet(SRR26046013_DM_AOA_INH)"
      ]
    },
    {
      "cell_type": "code",
      "execution_count": 46,
      "id": "9944750f-ce03-45ea-bc44-8d4d9cf52396",
      "metadata": {
        "id": "9944750f-ce03-45ea-bc44-8d4d9cf52396",
        "colab": {
          "base_uri": "https://localhost:8080/"
        },
        "outputId": "b0fb3edc-96c1-4963-8c70-b94cb9b477a6"
      },
      "outputs": [
        {
          "output_type": "stream",
          "name": "stderr",
          "text": [
            "2025-01-01 11:49:13 - INFO - Simulating doublets...\n",
            "2025-01-01 11:49:15 - INFO - Spectral embedding ...\n",
            "/usr/local/lib/python3.10/site-packages/snapatac2/preprocessing/_scrublet.py:258: FutureWarning:\n",
            "\n",
            "X.dtype being converted to np.float32 from uint32. In the next version of anndata (0.9) conversion will not be automatic. Pass dtype explicitly to avoid this warning. Pass `AnnData(X, dtype=X.dtype, ...)` to get the future behavour.\n",
            "\n",
            "2025-01-01 11:53:54 - INFO - Calculating doublet scores...\n"
          ]
        }
      ],
      "source": [
        "snap.pp.scrublet(SRR26046019_DM_UT)"
      ]
    },
    {
      "cell_type": "code",
      "execution_count": 47,
      "id": "e974e903-2885-418e-bfa4-1863883b94c7",
      "metadata": {
        "id": "e974e903-2885-418e-bfa4-1863883b94c7",
        "colab": {
          "base_uri": "https://localhost:8080/"
        },
        "outputId": "468b35c7-6e94-4152-a10b-193e4edb605d"
      },
      "outputs": [
        {
          "output_type": "execute_result",
          "data": {
            "text/plain": [
              "AnnData object with n_obs × n_vars = 6612 × 6062095\n",
              "    obs: 'n_fragment', 'frac_dup', 'frac_mito', 'tsse', 'doublet_probability', 'doublet_score'\n",
              "    var: 'count', 'selected'\n",
              "    uns: 'reference_sequences', 'library_tsse', 'frac_overlap_TSS', 'TSS_profile', 'scrublet_sim_doublet_score'\n",
              "    obsm: 'fragment_paired'"
            ]
          },
          "metadata": {},
          "execution_count": 47
        }
      ],
      "source": [
        "SRR26046013_DM_AOA_INH"
      ]
    },
    {
      "cell_type": "code",
      "execution_count": 48,
      "id": "10e5e674-e70b-4ed2-b576-d916ed1fc692",
      "metadata": {
        "id": "10e5e674-e70b-4ed2-b576-d916ed1fc692",
        "colab": {
          "base_uri": "https://localhost:8080/"
        },
        "outputId": "94220ea8-9d4a-4191-b7f5-c729d2f74b72"
      },
      "outputs": [
        {
          "output_type": "execute_result",
          "data": {
            "text/plain": [
              "AnnData object with n_obs × n_vars = 5771 × 6062095\n",
              "    obs: 'n_fragment', 'frac_dup', 'frac_mito', 'tsse', 'doublet_probability', 'doublet_score'\n",
              "    var: 'count', 'selected'\n",
              "    uns: 'reference_sequences', 'library_tsse', 'frac_overlap_TSS', 'TSS_profile', 'scrublet_sim_doublet_score'\n",
              "    obsm: 'fragment_paired'"
            ]
          },
          "metadata": {},
          "execution_count": 48
        }
      ],
      "source": [
        "SRR26046019_DM_UT"
      ]
    },
    {
      "cell_type": "code",
      "execution_count": 49,
      "id": "7b7da120-079f-4c39-ac77-70f23af9b7ff",
      "metadata": {
        "id": "7b7da120-079f-4c39-ac77-70f23af9b7ff",
        "colab": {
          "base_uri": "https://localhost:8080/"
        },
        "outputId": "9fb75a42-73d3-4572-aa63-87c0cff29567"
      },
      "outputs": [
        {
          "output_type": "stream",
          "name": "stderr",
          "text": [
            "2025-01-01 11:54:01 - INFO - Detected doublet rate = 5.535%\n",
            "/usr/local/lib/python3.10/site-packages/anndata/_core/anndata.py:1118: FutureWarning:\n",
            "\n",
            "is_categorical_dtype is deprecated and will be removed in a future version. Use isinstance(dtype, CategoricalDtype) instead\n",
            "\n"
          ]
        }
      ],
      "source": [
        "#Filter doublets\n",
        "snap.pp.filter_doublets(SRR26046013_DM_AOA_INH)"
      ]
    },
    {
      "cell_type": "code",
      "execution_count": 50,
      "id": "6c90e146-0297-455c-bd3b-6ad57a3d7314",
      "metadata": {
        "id": "6c90e146-0297-455c-bd3b-6ad57a3d7314",
        "colab": {
          "base_uri": "https://localhost:8080/"
        },
        "outputId": "84a54ce6-32ac-40b5-a50b-89d6d2c82e22"
      },
      "outputs": [
        {
          "output_type": "stream",
          "name": "stderr",
          "text": [
            "2025-01-01 11:54:07 - INFO - Detected doublet rate = 5.978%\n"
          ]
        }
      ],
      "source": [
        "snap.pp.filter_doublets(SRR26046019_DM_UT)"
      ]
    },
    {
      "cell_type": "code",
      "execution_count": 51,
      "id": "c728e0de-7f6c-4cc4-ab6a-d01a9172600c",
      "metadata": {
        "id": "c728e0de-7f6c-4cc4-ab6a-d01a9172600c",
        "colab": {
          "base_uri": "https://localhost:8080/"
        },
        "outputId": "12583ef2-ac61-4270-c9ee-bbfcfb86054c"
      },
      "outputs": [
        {
          "output_type": "execute_result",
          "data": {
            "text/plain": [
              "AnnData object with n_obs × n_vars = 6246 × 6062095\n",
              "    obs: 'n_fragment', 'frac_dup', 'frac_mito', 'tsse', 'doublet_probability', 'doublet_score'\n",
              "    var: 'count', 'selected'\n",
              "    uns: 'reference_sequences', 'library_tsse', 'frac_overlap_TSS', 'TSS_profile', 'scrublet_sim_doublet_score', 'doublet_rate'\n",
              "    obsm: 'fragment_paired'"
            ]
          },
          "metadata": {},
          "execution_count": 51
        }
      ],
      "source": [
        "SRR26046013_DM_AOA_INH"
      ]
    },
    {
      "cell_type": "code",
      "execution_count": 52,
      "id": "54f2028b-4717-4178-ae40-72385cdb8027",
      "metadata": {
        "id": "54f2028b-4717-4178-ae40-72385cdb8027",
        "colab": {
          "base_uri": "https://localhost:8080/"
        },
        "outputId": "3629af4b-7853-4773-df56-5736f7df31f8"
      },
      "outputs": [
        {
          "output_type": "execute_result",
          "data": {
            "text/plain": [
              "AnnData object with n_obs × n_vars = 5426 × 6062095\n",
              "    obs: 'n_fragment', 'frac_dup', 'frac_mito', 'tsse', 'doublet_probability', 'doublet_score'\n",
              "    var: 'count', 'selected'\n",
              "    uns: 'reference_sequences', 'library_tsse', 'frac_overlap_TSS', 'TSS_profile', 'scrublet_sim_doublet_score', 'doublet_rate'\n",
              "    obsm: 'fragment_paired'"
            ]
          },
          "metadata": {},
          "execution_count": 52
        }
      ],
      "source": [
        "SRR26046019_DM_UT"
      ]
    },
    {
      "cell_type": "markdown",
      "id": "bfc2abee-49e3-40dc-97e0-45ade82afaa3",
      "metadata": {
        "id": "bfc2abee-49e3-40dc-97e0-45ade82afaa3"
      },
      "source": [
        "Dimension reduction"
      ]
    },
    {
      "cell_type": "code",
      "execution_count": 53,
      "id": "63bf28a2-e84b-43c9-9746-b6163995a3c2",
      "metadata": {
        "id": "63bf28a2-e84b-43c9-9746-b6163995a3c2"
      },
      "outputs": [],
      "source": [
        "snap.tl.spectral(SRR26046013_DM_AOA_INH)"
      ]
    },
    {
      "cell_type": "code",
      "execution_count": 54,
      "id": "016808b1-1d69-4b50-82c1-bb8db97a2854",
      "metadata": {
        "id": "016808b1-1d69-4b50-82c1-bb8db97a2854"
      },
      "outputs": [],
      "source": [
        "snap.tl.spectral(SRR26046019_DM_UT)"
      ]
    },
    {
      "cell_type": "code",
      "execution_count": 55,
      "id": "e9349aed-2f90-42ce-9b89-ac078dbe7ef8",
      "metadata": {
        "id": "e9349aed-2f90-42ce-9b89-ac078dbe7ef8",
        "colab": {
          "base_uri": "https://localhost:8080/"
        },
        "outputId": "a5a24a3c-b810-4c7a-8aa9-b795b004b22d"
      },
      "outputs": [
        {
          "output_type": "execute_result",
          "data": {
            "text/plain": [
              "AnnData object with n_obs × n_vars = 6246 × 6062095\n",
              "    obs: 'n_fragment', 'frac_dup', 'frac_mito', 'tsse', 'doublet_probability', 'doublet_score'\n",
              "    var: 'count', 'selected'\n",
              "    uns: 'reference_sequences', 'library_tsse', 'frac_overlap_TSS', 'TSS_profile', 'scrublet_sim_doublet_score', 'doublet_rate', 'spectral_eigenvalue'\n",
              "    obsm: 'fragment_paired', 'X_spectral'"
            ]
          },
          "metadata": {},
          "execution_count": 55
        }
      ],
      "source": [
        "SRR26046013_DM_AOA_INH"
      ]
    },
    {
      "cell_type": "code",
      "execution_count": 56,
      "id": "da9528b1-ac3e-4311-a3bc-aceb3deef6c4",
      "metadata": {
        "id": "da9528b1-ac3e-4311-a3bc-aceb3deef6c4",
        "colab": {
          "base_uri": "https://localhost:8080/"
        },
        "outputId": "b4a51514-ee99-44f5-ea7d-55e0b873dbdb"
      },
      "outputs": [
        {
          "output_type": "execute_result",
          "data": {
            "text/plain": [
              "AnnData object with n_obs × n_vars = 5426 × 6062095\n",
              "    obs: 'n_fragment', 'frac_dup', 'frac_mito', 'tsse', 'doublet_probability', 'doublet_score'\n",
              "    var: 'count', 'selected'\n",
              "    uns: 'reference_sequences', 'library_tsse', 'frac_overlap_TSS', 'TSS_profile', 'scrublet_sim_doublet_score', 'doublet_rate', 'spectral_eigenvalue'\n",
              "    obsm: 'fragment_paired', 'X_spectral'"
            ]
          },
          "metadata": {},
          "execution_count": 56
        }
      ],
      "source": [
        "SRR26046019_DM_UT"
      ]
    },
    {
      "cell_type": "code",
      "execution_count": 57,
      "id": "fa32f615-4e62-425f-9fbc-6538f5253194",
      "metadata": {
        "id": "fa32f615-4e62-425f-9fbc-6538f5253194",
        "colab": {
          "base_uri": "https://localhost:8080/"
        },
        "outputId": "3b106b17-1f44-48d7-b832-e9a639f59c7e"
      },
      "outputs": [
        {
          "output_type": "stream",
          "name": "stderr",
          "text": [
            "/usr/local/lib/python3.10/site-packages/sklearn/utils/deprecation.py:151: FutureWarning:\n",
            "\n",
            "'force_all_finite' was renamed to 'ensure_all_finite' in 1.6 and will be removed in 1.8.\n",
            "\n",
            "/usr/local/lib/python3.10/site-packages/umap/umap_.py:1952: UserWarning:\n",
            "\n",
            "n_jobs value 1 overridden to 1 by setting random_state. Use no seed for parallelism.\n",
            "\n"
          ]
        }
      ],
      "source": [
        "snap.tl.umap(SRR26046013_DM_AOA_INH)"
      ]
    },
    {
      "cell_type": "code",
      "execution_count": 58,
      "id": "8c62542d-7fb1-4b72-ba46-8511b26e7f71",
      "metadata": {
        "id": "8c62542d-7fb1-4b72-ba46-8511b26e7f71",
        "colab": {
          "base_uri": "https://localhost:8080/"
        },
        "outputId": "23406f6b-29c6-4b2c-dd64-1ee119f2a89a"
      },
      "outputs": [
        {
          "output_type": "stream",
          "name": "stderr",
          "text": [
            "/usr/local/lib/python3.10/site-packages/sklearn/utils/deprecation.py:151: FutureWarning:\n",
            "\n",
            "'force_all_finite' was renamed to 'ensure_all_finite' in 1.6 and will be removed in 1.8.\n",
            "\n",
            "/usr/local/lib/python3.10/site-packages/umap/umap_.py:1952: UserWarning:\n",
            "\n",
            "n_jobs value 1 overridden to 1 by setting random_state. Use no seed for parallelism.\n",
            "\n"
          ]
        }
      ],
      "source": [
        "snap.tl.umap(SRR26046019_DM_UT)"
      ]
    },
    {
      "cell_type": "code",
      "execution_count": 59,
      "id": "695b9690-a818-4a6d-a4a7-18ecd87f9adc",
      "metadata": {
        "id": "695b9690-a818-4a6d-a4a7-18ecd87f9adc",
        "colab": {
          "base_uri": "https://localhost:8080/"
        },
        "outputId": "e0e86fbb-6f8c-4306-9c94-007ec0d5f148"
      },
      "outputs": [
        {
          "output_type": "execute_result",
          "data": {
            "text/plain": [
              "AnnData object with n_obs × n_vars = 6246 × 6062095\n",
              "    obs: 'n_fragment', 'frac_dup', 'frac_mito', 'tsse', 'doublet_probability', 'doublet_score'\n",
              "    var: 'count', 'selected'\n",
              "    uns: 'reference_sequences', 'library_tsse', 'frac_overlap_TSS', 'TSS_profile', 'scrublet_sim_doublet_score', 'doublet_rate', 'spectral_eigenvalue'\n",
              "    obsm: 'fragment_paired', 'X_spectral', 'X_umap'"
            ]
          },
          "metadata": {},
          "execution_count": 59
        }
      ],
      "source": [
        "SRR26046013_DM_AOA_INH"
      ]
    },
    {
      "cell_type": "code",
      "execution_count": 60,
      "id": "f38bbce3-6471-4440-8f0f-a00d2f278d61",
      "metadata": {
        "id": "f38bbce3-6471-4440-8f0f-a00d2f278d61",
        "colab": {
          "base_uri": "https://localhost:8080/"
        },
        "outputId": "d8fbf550-b9a7-4889-ffc6-45f2ef04c343"
      },
      "outputs": [
        {
          "output_type": "execute_result",
          "data": {
            "text/plain": [
              "AnnData object with n_obs × n_vars = 5426 × 6062095\n",
              "    obs: 'n_fragment', 'frac_dup', 'frac_mito', 'tsse', 'doublet_probability', 'doublet_score'\n",
              "    var: 'count', 'selected'\n",
              "    uns: 'reference_sequences', 'library_tsse', 'frac_overlap_TSS', 'TSS_profile', 'scrublet_sim_doublet_score', 'doublet_rate', 'spectral_eigenvalue'\n",
              "    obsm: 'fragment_paired', 'X_spectral', 'X_umap'"
            ]
          },
          "metadata": {},
          "execution_count": 60
        }
      ],
      "source": [
        "SRR26046019_DM_UT"
      ]
    },
    {
      "cell_type": "markdown",
      "id": "20ae1ff6-1cc5-4fd7-802d-b2c6c9091bb2",
      "metadata": {
        "id": "20ae1ff6-1cc5-4fd7-802d-b2c6c9091bb2"
      },
      "source": [
        "Clustering analysis"
      ]
    },
    {
      "cell_type": "code",
      "execution_count": 61,
      "id": "8b8e25a7-96a8-490d-991e-cd235d47f944",
      "metadata": {
        "id": "8b8e25a7-96a8-490d-991e-cd235d47f944"
      },
      "outputs": [],
      "source": [
        "#(1)Calculate knn graph, (2) use Leiden community detection, (3) plot UMAP (returns plotly object)"
      ]
    },
    {
      "cell_type": "code",
      "execution_count": 62,
      "id": "3c33e76d-5036-4be7-8cca-14ddd50824b6",
      "metadata": {
        "id": "3c33e76d-5036-4be7-8cca-14ddd50824b6"
      },
      "outputs": [],
      "source": [
        "snap.pp.knn(SRR26046013_DM_AOA_INH)\n",
        "snap.tl.leiden(SRR26046013_DM_AOA_INH)\n",
        "SRR26046013_DM_AOA_INH_UMAP = snap.pl.umap(SRR26046013_DM_AOA_INH, color = 'leiden', interactive = False, show = False)"
      ]
    },
    {
      "cell_type": "code",
      "execution_count": 63,
      "id": "5df7e3a4-fd83-45c9-9572-d59b51cc34be",
      "metadata": {
        "id": "5df7e3a4-fd83-45c9-9572-d59b51cc34be"
      },
      "outputs": [],
      "source": [
        "snap.pp.knn(SRR26046019_DM_UT)\n",
        "snap.tl.leiden(SRR26046019_DM_UT)\n",
        "SRR26046019_DM_UT_UMAP = snap.pl.umap(SRR26046019_DM_UT, color='leiden', interactive=False, show=False)"
      ]
    },
    {
      "cell_type": "code",
      "execution_count": 64,
      "id": "b6a5eaab-a4dd-4fb9-9f68-d7df6b21473e",
      "metadata": {
        "id": "b6a5eaab-a4dd-4fb9-9f68-d7df6b21473e",
        "colab": {
          "base_uri": "https://localhost:8080/",
          "height": 637
        },
        "outputId": "9bb3dc2a-b449-4169-b3ff-6f62f08d6772"
      },
      "outputs": [
        {
          "output_type": "display_data",
          "data": {
            "text/html": [
              "<html>\n",
              "<head><meta charset=\"utf-8\" /></head>\n",
              "<body>\n",
              "    <div>            <script src=\"https://cdnjs.cloudflare.com/ajax/libs/mathjax/2.7.5/MathJax.js?config=TeX-AMS-MML_SVG\"></script><script type=\"text/javascript\">if (window.MathJax && window.MathJax.Hub && window.MathJax.Hub.Config) {window.MathJax.Hub.Config({SVG: {font: \"STIX-Web\"}});}</script>                <script type=\"text/javascript\">window.PlotlyConfig = {MathJaxConfig: 'local'};</script>\n",
              "        <script charset=\"utf-8\" src=\"https://cdn.plot.ly/plotly-2.35.2.min.js\"></script>                <div id=\"070aa188-6504-4290-b0b3-2ef2fb76b3d3\" class=\"plotly-graph-div\" style=\"height:600px; width:1200px;\"></div>            <script type=\"text/javascript\">                                    window.PLOTLYENV=window.PLOTLYENV || {};                                    if (document.getElementById(\"070aa188-6504-4290-b0b3-2ef2fb76b3d3\")) {                    Plotly.newPlot(                        \"070aa188-6504-4290-b0b3-2ef2fb76b3d3\",                        [{\"hovertemplate\":\"leiden=0\\u003cbr\\u003eUMAP-1=%{x}\\u003cbr\\u003eUMAP-2=%{y}\\u003cextra\\u003e\\u003c\\u002fextra\\u003e\",\"legendgroup\":\"0\",\"marker\":{\"color\":\"#2E91E5\",\"opacity\":1,\"size\":1.6289981637290938,\"symbol\":\"circle\"},\"mode\":\"markers\",\"name\":\"0\",\"showlegend\":false,\"x\":[11.302918,11.262846,11.134718,12.2009325,11.460926,12.182751,12.381733,12.285895,10.833882,11.260696,12.095072,10.686807,10.614519,10.758353,12.747877,11.682317,12.029728,11.237189,12.426962,11.751088,12.082273,11.745734,11.391603,12.293784,10.72358,11.399777,12.888187,12.602832,11.294098,11.196186,10.70026,11.648656,13.296991,11.177598,12.452446,12.530062,10.98035,11.278643,11.594986,11.35438,12.900921,12.4457655,11.441351,12.266669,12.147826,12.117339,11.587379,10.862517,11.74923,10.795893,12.953983,10.711084,11.658836,12.842083,11.330257,11.885372,11.200335,11.510548,10.445658,11.886464,12.645144,11.088466,11.044835,12.476394,13.143292,12.239012,12.927797,10.898064,12.089154,12.067377,12.626279,10.477541,12.053889,11.946096,11.587035,11.626363,12.031283,10.64672,12.417181,12.94542,11.552537,10.535824,12.039298,12.824875,12.684353,11.640696,11.389574,11.9185095,11.752354,11.500024,10.776705,11.789474,12.395364,11.226261,11.495778,11.836752,13.015697,10.312981,12.374173,12.988285,12.127937,11.939464,12.568906,11.099587,11.875735,12.493127,10.717648,11.284325,11.6134815,10.582465,11.384328,12.18821,11.297763,11.747735,11.3178835,10.700034,12.200261,11.428606,11.627695,13.141207,10.756487,10.653591,11.080294,12.17026,11.368904,12.093505,12.61997,10.670606,11.553655,13.000911,11.467022,11.565733,12.111522,11.948455,13.091653,10.357207,11.626114,11.995896,13.282361,12.61189,11.796385,12.701099,13.177138,11.070032,11.094974,12.088332,13.263575,11.606617,10.375771,12.180958,11.9824095,11.324996,11.680634,12.061825,11.064176,12.201037,12.93435,13.265168,11.587847,10.745907,11.224215,11.719316,11.176698,11.459751,11.131278,11.918776,11.520126,12.695537,11.190214,12.675028,12.437353,11.638618,12.881252,10.705079,11.22075,11.601735,11.359948,10.68049,11.947108,11.22425,11.670872,10.936942,11.643206,12.086264,12.457622,11.303968,11.244983,12.500079,11.861189,12.204398,12.909377,11.744514,13.251072,11.107684,11.514234,11.634384,11.414173,11.384438,11.876968,12.341023,12.131655,12.470588,11.076428,11.332164,11.610135,10.948704,10.695848,11.072076,12.046696,13.179477,11.155647,10.737504,10.748759,11.116378,11.830213,12.107729,11.277943,12.52188,10.653863,12.562626,12.551531,11.361882,12.072497,11.622247,11.88516,12.017985,10.490497,11.410248,11.847472,12.589669,13.116876,13.175905,12.237097,12.208176,12.357587,12.228843,10.833724,11.198089,11.04259,11.436837,12.121747,11.419047,11.009542,10.798915,11.359569,11.233326,11.746742,12.2203455,13.081875,11.755828,12.002801,10.628612,10.684519,10.850685,11.877515,11.281534,10.851107,11.055247,11.232923,10.464201,11.799452,13.068057,11.912732,11.0906725,12.574481,11.758912,12.813923,12.300482,13.1199875,12.352498,12.112473,12.404088,11.78586,11.464407,11.572381,11.159476,12.016249,12.452556,11.914372,12.187508,11.336143,11.682683,13.007048,10.493465,10.999466,11.253632,11.434629,11.797848,11.659984,10.563178,10.313643,11.353289,12.043291,12.280657,12.802825,11.461976,11.462356,12.163517,11.264385,12.786418,13.306837,10.662472,12.1579895,11.940425,12.406256,10.728812,10.754559,11.442859,11.852979,11.302373,10.4575205,12.917042,11.845158,12.205716,10.393506,12.436233,11.576727,11.814685,11.53249,12.915245,12.585186,12.338994,11.755285,12.242934,13.137464,11.809466,12.085152,12.350988,12.638238,11.373062,12.768456,11.389174,12.404241,11.74554,11.792121,12.302363,12.241615,13.082531,12.776416,12.587596,13.0567,10.970015,11.607471,11.579944,11.411978,13.2220545,10.813303,11.790608,11.522408,10.846671,13.180504,10.548564,10.947245,11.29014,11.0077095,12.689599,10.767122,12.043863,11.120393,12.034778,13.135574,11.4050455,12.451879,11.098489,11.411183,10.665674,11.328823,11.300401,12.11552,11.47744,11.026447,12.676273,11.874831,13.077302,11.504023,12.695104,10.34369,10.595019,13.1345005,12.479959,10.320424,11.728024,12.637888,11.505961,12.88759,13.212786,12.962183,11.539084,12.040412,11.151516,10.60175,12.550099,12.974761,10.9794035,10.41196,11.731997,12.45462,10.5531,11.86294,11.648819,12.285181,12.513572,10.866461,11.061213,12.173653,13.236805,12.88037,12.272502,11.3566065,11.152043,11.451371,11.113812,11.325507,12.116541,11.637989,11.436504,11.414201,11.597478,10.690132,12.288956,11.095363,12.416849,11.485201,11.366309,12.560815,12.646265,12.0713005,11.045294,11.449907,13.046796,11.554616,10.6810255,12.131072,12.39511,11.058458,12.224765,11.749144,11.424854,11.752757,11.076377,10.632642,12.616482,10.399452,12.302438,12.499255,12.687501,10.79325,11.58619,12.303735,12.215991,12.645623,12.156233,11.828258,11.090521,12.009469,11.298059,12.016737,11.744313,11.11058,11.60961,10.8684025,11.543668,11.242308,11.127774,11.470136,11.537208,11.822614,10.833411,11.364201,13.154058,11.229057,11.701726,11.714274,12.670288,11.719987,11.805332,11.771818,10.989717,11.808329,11.531036,11.624443,11.92176,12.687665,11.887019,11.659122,12.36554,10.537974,12.471805,11.270707,11.716799,12.103752,13.284719,11.197283,13.047838,12.4997,11.1235485,13.0475025,11.0620165,10.429602,12.21087,12.604148,12.246672,12.432335,11.1888895,13.042923,11.8031225,12.459834,10.743924,12.31507,13.028162,10.844479,11.442194,12.3248625,10.789351,11.016667,11.155716,11.3441725,11.223533,11.440617,11.977638,11.784455,11.103249,11.06896,12.502557,11.192787,12.483818,11.745528,10.9134445,13.133648,11.133314,12.851934,11.691908,11.24421,10.5185175,11.514594,11.051286,11.273028,12.028417,12.216395,11.337372,11.541315,12.398521,11.54463,11.133103,11.366429,12.548245,11.306866,11.92522,10.645539,11.726088,11.349019,11.470052,12.489724,11.761295,12.059305,11.436048,10.809923,11.755746,12.794637,11.862871,11.001062,11.496563,11.04228,12.149358,10.453463,11.691371,11.670633,10.519716,11.518983,11.737653,11.755574,12.342933,10.936602,11.78861,13.2435465,11.383091,11.335908,11.136111,10.845425,11.871115,12.871825,11.300148,11.90003,12.883611,11.337642,12.301302,11.241719,13.230592,10.927951,12.1743765,12.37809,11.941077,12.899546,13.001737,10.827412,11.321399,12.263956,13.0244875,11.790525,11.264471,10.609964,12.755602,12.720504,11.880826,12.574691,12.973956,12.071787,11.206063,12.625026,10.940812,12.555221,11.389954,11.01694,12.246715,13.196908,11.272553,11.608082,12.647896,11.800901,12.495194,12.795401,11.083592,12.338453,12.362314,10.777176,11.364771,11.5874,11.9243765,11.285916,11.0470295,12.475427,12.857299,11.699983,12.32786,11.236179,10.84489,11.570239,11.945038,12.347874,12.929785,11.712154,11.881524,12.484227,10.683667,12.147362,12.4824915,11.5823765,11.124168,13.132202,10.669877,12.036492,10.26567,12.069723,13.303608,11.339011,11.502198,12.511956,11.692448,12.648579,11.436052,12.763162,12.936883,10.918451,11.073291,12.921952,11.289784,11.112179,10.905343,10.864953,13.009886,12.01122,11.930428,12.623286,11.172036,12.311635,10.7423315,12.129681,12.3028345,11.966863,11.574184,10.692113,11.52632,12.838818,12.430054,11.695084,11.706416,10.400096,11.533051,10.666767,11.927615,11.592096,11.097998,11.43616,11.638603,11.533624,11.636197,12.644875,11.158831,12.281496,13.142573,11.504329,12.377664,12.464371,10.820541,10.869754,12.384923,11.083972,12.792971,13.311243,11.9957695,12.224398,11.179229,12.149505,12.5141325,10.772912,12.31243,11.676985,12.6798935,12.955522,11.668278,11.331325,11.952834,11.888171,12.348403,11.045725,12.366603,11.012796,13.342465,12.155742,10.795673,11.235735,11.187176,12.492597,10.900735,11.7730665,12.206644,13.285927,13.073356,12.324498,12.197412,11.637003,12.461522,12.085759,12.442066,11.859992,11.681822,10.363002,11.186094,11.125964,12.345162,10.549047,10.350495,12.087202,10.660551,12.818925,10.738165,12.4877205,10.425919,13.2688265,12.599847,11.675361,12.144398,12.405544,10.69692,11.813244,12.161804,11.524899,11.14219,11.67088,10.769911,11.759652,11.160807,11.028454,11.99812,12.977453,11.851929,10.977844,11.194109,12.715265,11.532393,13.178613,12.864065,10.761446,13.104416,10.983276,11.534982,11.737604,4.452795,10.450897,11.332536,12.100203,12.295487,12.041866,11.402974,12.134395,11.615052,12.924442,10.687587,12.757046,12.360673,10.974634,11.947667,11.651572,12.055527,10.989964,11.432537,11.93426,11.031786,11.823843,13.096253,12.079641,12.569382,12.794443,12.708728,10.660385,10.687507,12.849124,11.076313,11.9847975,12.295485,11.403687,11.87202,10.657454,11.524945,11.69882,11.209026],\"xaxis\":\"x\",\"y\":[-1.385308,2.8139355,1.1328353,1.8969612,1.9031668,0.7397056,-0.1542536,-0.23389208,1.7848705,-0.026772266,0.50815517,1.4141062,1.2792702,1.7650398,0.61729693,0.1727225,-0.56816155,-1.5033364,1.7906113,1.7892494,0.0316756,1.2220466,2.4798293,0.3779416,0.8701521,0.91575485,1.6468285,0.8342502,0.38480443,1.4514277,1.5285802,2.1389215,1.0894606,0.09173521,-0.17019516,0.003847506,1.3930975,0.38617298,0.15198691,0.18047918,0.57192224,1.7240654,1.7309195,-0.07514975,0.5795667,-0.6630844,-0.30785882,1.6401598,2.4434352,1.5831214,0.767127,1.032121,1.110698,1.8084042,-0.21320924,0.5754276,1.0766621,0.9805901,1.6139534,0.48499843,0.2166216,1.3302656,2.097193,1.5471157,1.8243397,0.63587224,1.7214035,2.3831,0.6963089,0.32145405,0.5012817,1.3447523,0.47815424,0.64431417,1.0117283,0.07624514,0.64476943,1.448941,1.099407,0.5965915,2.225287,1.5347741,-0.12802985,0.96658725,0.2853949,-1.0272146,0.2937927,0.5675373,-0.34436256,0.064150326,1.1641307,-0.28690368,0.8598518,0.6728213,-1.1131402,-0.018118715,1.57271,1.6419567,0.6802132,1.1302267,-0.5101584,1.3499967,0.744157,1.2499362,0.41906247,0.014410362,1.1118631,0.14595851,1.0029255,1.4528066,2.158747,0.73518,0.15053028,-0.45575106,0.116186656,1.5198121,1.1410664,0.5620037,-0.15347981,1.888115,1.2517908,1.4363062,0.6849417,1.0193092,1.2972788,1.1907799,0.62374455,1.4328012,1.2027625,0.6169954,1.0051372,1.0642873,1.7294229,1.9412657,1.3792421,1.6386294,-1.0737755,0.64833784,1.4972214,0.73509395,1.3605804,0.5277835,0.8021696,2.070505,1.3479863,1.9723295,0.9885755,0.17237471,1.5973568,-1.7193006,-0.31239438,2.262624,0.119925216,-0.28546152,0.51592386,0.27803463,1.7690545,1.1602043,-0.0872844,0.95747316,2.0303059,0.3689105,0.09630312,2.8814347,0.22535835,0.80295086,2.2349658,0.49654272,1.9394163,0.3833888,0.2548976,1.6007332,1.0198134,0.90422076,0.35776967,0.5395145,1.6542817,0.8327295,-0.17606215,0.24998033,0.06250044,1.6563944,1.1226909,-0.50903136,1.7213221,2.7534468,1.5194478,0.008170864,2.5280356,2.277742,0.64997673,0.18537033,0.9038048,2.3601887,1.8781058,0.5489001,1.9382149,0.22178203,1.9325416,-0.25571918,0.65245837,1.3905818,2.2536607,2.6165712,0.9645286,0.947306,1.5124613,2.2654903,1.9745752,0.6191081,2.0218873,1.019549,1.3338889,0.6907774,1.8360507,0.03433116,0.8933172,0.12895183,0.9614667,1.8498802,2.043829,0.88479394,-0.16524516,0.7039052,0.99159425,1.1021938,1.6844923,0.18555462,0.68977255,0.36071146,0.5917642,0.78304803,0.74051696,1.0471958,0.020045558,1.4609277,0.6370242,2.8972,1.6881788,2.1056762,-0.4244361,0.81466013,1.1417998,0.9589243,0.47985837,0.24448662,1.5326751,1.78198,1.798276,1.8666443,1.5119165,1.347901,1.0078887,1.0010657,0.47873345,1.3798063,1.6346239,1.4219996,2.754815,-2.1038888,1.9436704,2.4726152,1.3768275,0.7838279,0.7596172,1.3528389,0.53137547,-0.29713988,1.6656653,0.14904393,-0.42792487,-0.12984847,1.1384792,0.92066556,0.98862654,1.4955962,0.38240218,-0.14564148,0.6749606,0.47920486,0.21773134,0.88674116,0.45168126,1.235381,0.27524805,-0.2033422,-0.114944786,0.6748192,0.6526206,1.1519978,1.7338401,0.44653246,1.0206078,-0.24504745,2.077918,0.07783791,2.0788715,-0.46532536,0.29068753,1.8780423,1.2434591,1.6828197,2.5380912,2.4235787,-0.2809658,0.8006792,1.5012702,0.19155164,1.02188,2.2492397,1.3251182,1.2751825,1.8725128,1.5894717,1.6504731,1.699221,-0.0049802964,1.795527,2.2636452,1.1298323,1.7776165,0.39197227,0.10075379,0.98382217,1.377601,1.0804459,-0.60884,-0.2554345,0.9242162,-1.2815126,0.1823992,0.8263028,0.16704987,0.9234432,0.8747543,-0.03149598,0.6096648,2.2107744,0.84273064,0.7108822,1.7297204,1.5050607,2.2076488,1.9579022,-0.08233662,1.1764786,1.6480523,1.7745144,1.1546905,0.9854872,1.4484029,1.5374318,2.6842926,0.08339504,0.38604513,0.7571946,1.5839984,1.031593,0.21674623,-0.19086145,1.841808,-0.3148835,0.6102623,2.0561113,0.06436025,1.6936616,1.6010858,1.4388329,-0.5006168,1.3996019,1.2392434,1.8855085,0.5909893,1.6405944,0.6753745,0.34191775,1.7443048,1.0217048,1.245331,1.7026825,1.7410492,-0.1549705,1.017032,0.47193703,1.5024781,1.9062519,0.6219701,-0.07882969,-0.24521565,0.16893703,1.4826511,-0.19002956,1.4866993,2.6711767,1.427019,1.5268438,-0.07255599,1.2552319,0.47476876,0.9393426,1.61926,0.87514794,1.0480393,0.6150177,-1.4295206,0.9699534,1.5987116,2.2274292,0.6848645,2.0361605,-0.40749177,0.9568206,1.235946,-0.41299087,1.2107162,0.39139092,1.1487902,1.2611612,1.0660149,0.7517202,0.44686687,1.4413874,1.2426804,0.84013927,1.6812961,1.8037498,-0.27607143,1.6373118,1.58171,1.5075723,1.0931592,1.0564101,-0.29234916,-2.0149918,2.1878598,0.6696175,0.97132397,1.2045863,1.2706763,1.1881949,0.96627516,0.8827943,1.5680169,0.344088,0.37470943,0.18453336,0.9761353,1.0543654,0.87228245,-0.48022068,0.5820347,2.4496343,2.0910358,0.92440575,0.89313036,0.5992686,0.57747495,2.1233563,0.8682135,-1.1025975,2.3792913,2.477389,1.3488374,2.0724401,2.3551927,0.8092305,-1.0523915,1.3903601,2.1873121,0.77477986,1.2311064,2.2347112,-0.3313331,0.92891467,-0.11304776,0.5257917,1.3418862,2.4418905,1.1005068,2.1634383,1.2667557,-0.32315028,1.8265485,0.27955985,0.99485964,-0.17703572,1.6309683,0.4626724,1.552312,2.0215836,1.1596441,1.1729298,1.3081774,1.2678242,0.58042365,1.396356,0.85347444,0.019464443,1.7266824,0.56445354,1.0112805,-0.17226355,0.4318558,2.281757,1.0974153,1.406189,0.4786331,1.1829408,0.52651775,0.7559994,0.9104653,-0.12247817,0.784774,1.5988328,2.1357899,0.007919396,-1.3376439,2.244909,0.03943675,0.8296577,1.9573692,1.2296503,1.5910808,0.8560543,0.68185437,-0.1227081,0.87057227,1.0357318,0.90846974,0.20961075,2.0581791,0.10776845,0.2736889,1.6721783,0.7818358,0.7126708,1.9728372,1.7941505,-0.49406657,1.99181,1.8088914,1.7508141,0.18210757,2.7867353,-0.25777304,0.82754695,-0.10559889,1.1194679,0.8135995,0.16202535,0.24970123,-1.1919053,1.8668069,1.1207916,-0.12226013,0.4600649,0.9655478,-1.750429,0.8908698,1.2121321,0.95459145,2.249222,1.3492697,0.6460418,1.5210686,-0.07103663,-0.4041693,1.4673575,0.1628998,0.92833406,1.266642,1.6662822,0.7749074,1.9139099,0.99633783,1.6261649,1.0042186,0.87421834,1.6545296,2.4869812,0.5104028,0.81919837,1.2008405,0.5159999,1.7355609,1.6802483,-1.4076161,0.89680654,1.5797666,-0.4814961,0.75892013,0.038027875,0.45139927,0.8728302,0.57300127,0.3172239,-0.2219493,1.2870405,1.0024316,1.3536536,1.3732107,0.33875233,1.9307382,-0.37153843,0.84897125,2.0552871,0.54754764,0.626942,0.67106867,0.99609923,-0.10443422,0.8520863,2.0282023,0.4315998,0.9682457,0.84087354,2.2500343,0.4335557,1.4269788,0.16457987,1.0593488,0.5748083,-0.27576166,0.77610016,1.553983,2.1917198,0.17034255,1.5528902,2.4961987,1.334832,0.22792582,1.5116651,0.93287665,-0.22039865,-0.17328672,1.5189832,-0.37739265,1.9335158,1.6269313,0.7524487,-0.24790892,1.7871714,0.528045,0.9574771,-0.5215331,-0.16683647,0.5657482,2.4590037,1.542265,1.5694995,1.587021,1.7608396,1.4781525,1.2766788,-0.25803238,2.0299916,0.027730966,0.88297266,0.36495948,2.3491848,1.9825569,0.76241684,2.5881789,1.6176165,1.7732849,0.2808795,0.7205266,1.8729694,1.7157828,1.7916063,2.263301,0.7671635,0.46664247,2.6198316,-0.26522785,0.74960464,-0.41948697,-0.5096981,0.75252813,-0.19611628,1.4062794,-0.16001147,0.37759826,-0.15181202,0.6906225,1.0202706,1.5399473,2.076449,0.9203101,0.53875166,-0.39501238,1.1024098,1.763352,-0.32393265,-0.9901578,1.2415912,0.8199968,1.3232836,0.38274032,0.71245974,2.4319818,-0.30495673,1.7171212,0.9561755,1.186183,0.30210242,2.1183145,1.8126185,1.2406622,0.18551417,0.48272303,0.93971086,1.8371382,1.6321577,1.2564135,0.19404736,0.66104084,1.9163115,1.210838,-0.08636707,0.41117257,0.6225047,2.0979848,-0.07280869,2.395273,1.9190214,1.0411986,1.5071771,0.50912493,1.3593928,-0.18038848,1.2157117,0.2995634,0.9563115,-0.29405665,1.623825,1.1076838,1.3939594,-0.2989741,-0.23862028,0.6612659,1.7003366,0.9761782,1.6987116,0.6571748,0.5625456,1.5237067,0.96243197,0.91733986,1.1366482,1.5021917,1.6333106,-0.20568927,1.6246458,1.5032433,0.9181165,1.8135039,1.8441793,1.2213439,0.7996229,2.3695576,1.0877284,-0.2215728,1.5723457,0.83717704,1.5859749,-0.3807238,1.1840081,0.7414448,0.6002494,0.2770293,2.5535734,2.1181486,0.5983313,1.7694988,0.3417993,0.38189584,0.7886887,0.28263593,0.65070474,0.83879197,0.9436982,0.9659223,0.56980944,0.9244046,1.8778564,1.911121,13.350336,1.2733625,-0.24871172,-0.47170314,-0.3150515,1.817519,0.21019632,1.1902025,2.0488505,1.7719467,0.88578707,0.92242193,-0.26556268,2.3216617,-0.19875264,0.5319807,0.08190728,1.9848298,0.69749254,1.8930825,2.2799459,1.0875862,0.76732546,-0.19547519,0.48093334,0.5751379,2.0231974,0.8453335,0.93479925,0.9862274,2.622572,-0.050133176,-0.20061477,1.3097084,0.67760223,1.5327655,0.7767085,0.8826915,2.1838312],\"yaxis\":\"y\",\"type\":\"scattergl\"},{\"hovertemplate\":\"leiden=1\\u003cbr\\u003eUMAP-1=%{x}\\u003cbr\\u003eUMAP-2=%{y}\\u003cextra\\u003e\\u003c\\u002fextra\\u003e\",\"legendgroup\":\"1\",\"marker\":{\"color\":\"#E15F99\",\"opacity\":1,\"size\":1.6289981637290938,\"symbol\":\"circle\"},\"mode\":\"markers\",\"name\":\"1\",\"showlegend\":false,\"x\":[-2.6687994,-3.2224915,-2.1086714,-2.476796,-2.373268,-2.8886712,-2.7921224,-2.335428,-2.9536865,-2.9507716,-2.7728634,-2.3989737,-1.8628495,-2.4529738,-2.8132277,-3.0663195,-3.15497,-2.4508128,-1.7135017,-1.7747747,-2.2865849,-1.7855344,-1.903232,-2.411426,-2.8026972,-2.7844195,-1.8156582,-2.7584057,-2.4763713,-2.29279,-2.2635627,-2.5008647,-2.0349202,-1.9080235,-2.1099777,-1.4622021,-3.0514958,-1.9393964,-1.9590763,-2.0038214,-1.7482176,-2.3074052,-1.7117721,-3.05461,-2.2011945,-2.7600741,-1.4549471,-2.749495,-3.0438979,-2.4026546,-2.8108664,-2.739004,-2.9336581,-2.971148,-2.8280728,-2.5804822,-1.6972697,-2.7481654,-1.880351,-2.9727874,-3.1331387,-2.8209631,-2.6548996,-2.2580347,-3.619619,-2.825686,-2.1821117,-2.1162207,-2.922486,-2.9380813,-2.7694404,-2.8145745,-1.6212147,-2.1987863,-2.4326227,-2.93907,-1.5882388,-2.9146783,-2.7535052,-2.563896,-2.0601163,-2.5320213,-2.3582623,-3.1204891,-2.2160158,-2.0986166,-2.7059333,-2.081306,-2.9193556,-2.174313,-2.2443168,-1.6973447,-2.267946,-1.8341855,-2.4846773,-1.7164435,-2.7718055,-1.4419487,-3.1763015,-2.5635924,-2.6091125,-1.8292184,-2.36185,-2.6382809,-1.8823558,-2.3263042,-2.5131016,-2.968641,-2.444396,-2.1652408,-2.697408,-2.4702845,-2.0757551,-2.4989042,-2.5490453,-2.2770622,-2.4198124,-3.3463995,-2.85998,-3.5445755,-2.077251,-2.106906,-2.818881,-2.0289178,-2.9743912,-2.9958458,-2.8421075,-2.886475,-2.3991792,-2.4913104,-2.591573,-2.0384812,-3.0830214,-1.8547093,-2.3466024,-2.099973,-2.0535064,-1.7026384,-2.9826295,-2.8242054,-2.3944225,-2.0619936,-2.9812763,-1.9901996,-1.5797137,-1.8868464,-3.577991,-3.2125976,-2.094969,-2.2425866,-2.8860407,-1.9226488,-2.7539594,-1.7316447,-2.6420274,-1.8509674,-2.0080068,-3.2480462,-3.0900002,-2.0468397,-2.3617208,-2.1790571,-2.547516,-2.1065326,-3.649964,-1.6873627,-2.5930572,-3.0558794,-3.0567763,-1.7329775,-3.1525142,-2.4366083,-2.4197493,-2.3648424,-2.5957267,-2.1977944,-3.1577783,-3.2306387,-2.1854289,-2.0348372,-2.6579423,-1.8390142,-1.4255018,-2.2465286,-2.7563336,-1.7817609,-2.4412248,-2.33587,-2.248408,-2.2732964,-1.580745,-2.4137454,-2.199082,-2.7861888,-2.8192623,-2.013595,-3.000833,-2.400077,-2.178893,-3.2154028,-2.6350193,-2.1010184,-2.7386572,-3.026548,-2.1521938,-1.363245,-2.593551,-3.1363351,-2.3655117,-2.8332741,-3.0014033,-2.1138477,-1.4394097,-3.0189023,-2.3100853,-2.105741,-2.2648828,-2.2867546,-2.8610044,-2.5775378,-2.6236734,-2.7439117,-1.566268,-2.7479424,-2.1667016,-2.7160256,-2.829909,-1.9374032,-2.582258,-2.6963665,-2.7714632,-2.987753,-2.5444267,-2.000158,-2.537411,-2.3174481,-3.145632,-2.4874554,-2.8991177,-1.5983508,-3.1978304,-2.5957763,-2.2735457,-2.0770814,-1.685314,-2.5441978,-2.3756087,-2.3608124,-2.3835917,-1.6675954,-3.0262134,-2.196437,-2.7481287,-1.765997,-2.107718,-2.6182044,-2.3842409,-2.213275,-2.0484626,-1.942453,-2.298152,-2.74848,-2.6178164,-2.6241117,-2.2778056,-2.106191,-2.5331168,-2.9311292,-2.3134444,-1.8609492,-2.4336572,-1.5566438,-1.9206488,-2.7884977,-2.9751718,-2.1513872,-2.280285,-1.7963486,-2.838318,-1.8896949,-2.286122,-2.221252,-2.4837942,-3.114365,-1.9532732,-2.3769526,-3.0644426,-1.7925016,-1.990492,-2.1517456,-2.3684406,-2.2097752,-2.0101168,-2.2115872,-2.6842384,-2.829031,-3.1299045,-2.1568491,-2.5272431,-2.0312874,-1.9115669,-2.3173923,-2.7833285,-1.8589891,-2.90335,-2.1114097,-2.1666267,-2.4068742,-2.8478174,-2.0916083,-2.076506,-3.037772,-1.5030241,-2.8268251,-3.0925627,-2.4257412,-2.5144804,-1.8358848,-1.5265752,-1.4674138,-1.4456581,-2.2259982,-1.9738328,-2.836105,-2.0189192,-1.9923326,-1.6511258,-1.9482654,-1.8791374,-3.0559633,-1.8996998,-1.9776673,-2.017858,-1.7903507,-1.8138468,-3.1681094,-2.6622226,-2.0575576,-2.8459136,-2.8423636,-2.7487886,-2.760853,-1.952308,-2.9593713,-2.2019312,-3.2209876,-2.4432921,-1.8680822,-3.119629,-2.438575,-2.3483205,-2.170109,-3.0061471,-2.7642772,-2.160529,-3.2567418,-1.8325094,-3.1513832,-2.8363218,-2.9835064,-2.9603214,-1.8748688,-1.8060273,-1.8911406,-3.0776281,-3.0162954,-2.7520254,-1.5642824,-2.655726,-2.4014895,-2.039774,-2.6876104,-3.0327299,-2.2916625,-2.3328023,-2.964141,-2.6425366,-2.7941859,-2.910025,-2.1626463,-2.0864806,-1.8767352,-2.3676507,-2.1989348,-3.0416884,-2.27433,-3.0094893,-2.2332382,-2.496003,-2.6279387,-2.8993554,-2.4475505,-2.58088,-3.160306,-2.6111495,-2.4215846,-1.7912017,-1.63359,-2.461156,-3.1404595,-2.529218,-3.0551383,-2.2707586,-2.292378,-2.5526094,-2.6152937,-2.16133,-2.71349,-2.4522202,-3.1107526,-2.9682446,-1.6648862,-2.1657522,-2.4604783,-2.0037954,-3.5437915,-2.9491234,-2.182358,-1.9262,-1.7438852,-1.9198327,-2.8281717,-2.6929636,-3.2989945,-2.0687556,-2.972543,-2.1468465,-2.5257318,-2.9596388,-1.7903267,-1.7973132,-2.0025656,-2.9663723,-2.1881633,-2.3860362,-2.3211286,-2.5012534,-2.879163,-2.755541,-2.490054,-2.4729402,-2.9919393,-2.0352976,-2.9244013,-1.9745559,-2.6088128,-2.2733598,-1.9065152,-2.6943061,-2.8704975,-2.1768625,-1.9595582,-2.3906841,-2.2449656,-2.1551933,-3.132105,-2.4562325,-1.853079,-2.927075,-3.1370509,-2.4532819,-2.5249183,-2.6813915,-2.9347577,-2.8061917,-2.711051,-2.0720403,-2.9086516,-2.560089,-2.3692193,-3.027177,-1.893434,-3.1369953,-3.2385147,-2.580431,-2.5538545,-2.1368024,-3.00755,-2.9195898,-2.190257,-2.1985312,-2.4325767,-2.16969,-2.3935132,-3.2521408,-1.9109097,-2.2852285,-3.3203533,-2.9167662,-2.209199,-2.2160666,-2.866241,-2.2353067,-2.0546763,-1.408953,-1.5994395,-1.9865938,-2.9096444,-1.7213502,-1.7743174,-2.1437392,-2.680867,-2.8074527,-3.0955827,-2.0398939,-2.3180933,-1.8531594,-1.8014213,-2.5281293,-2.9677072,-2.386372,-2.327176,-3.0762122,-2.1773639,-3.192792,-2.9105623,-2.2620707,-3.1219156,-2.0003176,-2.213372,-2.7924378,-2.8316085,-2.6019483,-2.8520246,-2.9189785,-2.2447193,-3.007728,-1.9574615,-2.4910629,-1.4800718,-2.102116,-2.2866392,-3.159642,-1.5121008,-1.9721595,-2.1227355,-2.9892988,-2.4870653,-2.7615576,-2.3613355,-1.9404081,-3.0072682,-2.1426866,-2.14635,-2.9421835,-3.03169,-3.2169678,-2.458358,-2.061187,-2.1124952,-2.0502942,-3.0224235,-2.8282292,-3.506885,-3.1143367,-2.8533764,-2.041226,-2.0922878,-2.54705,-2.4767597,-2.7499428,-3.142251,-2.6609929,-3.279235,-2.231588,-2.4442804,-1.8078995,-2.531939,-1.447584,-2.4580019,-2.8832145,-1.8737838,-1.3663672,-3.2432997,-2.623965,-2.0405574,-2.4334276,-2.0783205,-1.9121572,-3.0188346,-2.8678424,-2.9726493,-2.1934292,-2.0316114,-2.979411,-1.8038365,-2.4610488,-2.4323604,-2.6643732,-2.8637054,-2.9651804,-2.2853417,-2.1513486,-1.6416221,-2.1857522,-2.0214174,-1.7443216,-2.8943346,-1.6402698,-1.916812,-2.9316802,-1.4771373,-3.0650744,-1.6100006,-1.8961982,-2.9113276,-2.3847523,-3.3225486,-2.2241278,-2.49149,-2.1407962,-2.0727062,-2.2099352,-2.3003635,-3.18685,-2.4123716,-2.3560402,-2.1777952,-2.3289094,-2.1986713,-3.1370149,-1.9596692,-2.7683725,-2.2676888,-2.8676925,-2.9040508,-2.1177344,-2.3117726,-2.1150916,-2.8019485,-2.6491783,-2.849775,-2.0446067,-2.0255263,-2.0874345,-2.546635,-1.5874963,-2.4108884,-2.8671045,-2.5976505,-1.7058196,-2.1878572,-2.3987176,-1.7917364,-1.9222922,-1.9452463,-1.7186714,-2.6350138,-2.420416,-2.6493332,-3.279978,-1.6563373,-1.9293113,-2.0233932,-3.5066683,-2.285662,-1.7032672,-2.2423382,-2.4322062,-2.6686933,-2.3546581,-3.8487258,-2.8907773,-2.1513214,-2.0400002,-2.114807,-2.528255,-2.6624007,-2.896978,-2.9763381,-2.4996254,-2.4583666,-1.3773597,-3.0494232,-2.2960455,-2.8561254,-2.9497685,-2.7358818,-2.7088597,-2.008362,-2.6638565,-2.7702944,-3.024559,-1.8492843,-1.7972187,-2.9117231,-2.490872,-2.1167948,-2.9828796,-2.6322029,-2.9134774,-2.8452685,-3.178735,-2.106342,-2.4662426,-1.976022,-3.0799882,-2.0685716,-1.966649,-2.137601,-2.5089347,-2.5933135,-2.461786,-2.2942812,-1.8786281,-2.2422254,-2.9156253,-1.86789,-2.022641,-2.3318272,-1.6728268,-3.0772967],\"xaxis\":\"x\",\"y\":[9.414183,8.5572405,7.543227,6.4576054,8.218746,7.9843564,9.780436,6.916904,8.279057,8.513773,8.629039,9.150566,7.382868,9.798691,7.843018,8.700321,8.375711,8.561765,8.227174,8.769979,8.309415,9.039162,8.910816,7.6206775,9.767997,9.450527,9.317521,10.383723,6.430494,8.153921,7.7890835,9.549681,8.348122,7.5276265,8.376948,9.120132,8.2358055,7.753956,8.72967,8.207057,9.179706,6.9266267,8.43041,9.075505,9.481095,7.824135,8.97428,8.971744,8.370274,9.233298,7.941104,7.9840465,6.7749043,7.889575,7.917894,8.908994,8.280977,7.9667287,7.4194293,8.395645,7.9561515,9.739124,10.260281,10.1086235,8.924146,10.405387,7.8733587,9.489311,8.580203,9.797831,8.66497,10.539608,8.593175,7.771224,9.893714,6.8568864,8.962856,8.76828,8.750568,8.798863,8.157007,8.337749,6.8942485,8.2165,9.608073,10.220015,8.163634,7.1076026,8.336176,8.009225,7.0088716,8.316116,7.1707015,7.7831964,8.189017,8.979809,9.505036,8.794476,8.316371,8.58589,10.593437,9.81974,10.126794,9.79215,7.674624,8.480143,9.244831,9.833485,9.545169,7.032141,10.271038,9.241831,8.09984,6.3985243,9.763088,10.034935,7.6796165,8.946598,8.9488,8.884429,8.150776,9.068589,7.895201,7.983782,9.419213,9.428982,10.223678,9.527197,9.969543,6.3987117,8.378496,7.843835,7.8380995,7.388246,8.367725,8.599684,7.9971642,8.374012,9.0736885,9.778641,6.6661954,9.143166,8.475056,9.067663,8.567866,9.364252,8.058512,7.254263,8.125247,9.072358,9.388341,8.51109,8.227429,8.885238,6.5221324,8.896888,8.992697,7.8536816,8.142135,8.414212,7.0285187,7.2072115,9.735729,7.044031,9.086497,8.381498,10.377961,7.681282,7.9126573,8.230449,9.443621,6.586749,8.910018,6.8141003,10.352999,9.671685,8.225931,7.1533604,10.1023445,7.320046,9.395012,7.4918137,8.976645,8.233175,9.926189,8.134624,9.267942,9.626956,8.931193,9.947321,8.699635,9.059732,7.1663213,9.749768,8.987343,7.185127,9.513421,10.144524,9.211135,7.8187833,6.860365,9.519985,9.646181,7.125668,7.208229,8.968584,10.470063,8.296259,8.225716,8.887469,9.795395,8.021628,9.106124,9.934772,10.104899,7.1381645,7.263547,8.374002,9.553182,8.971398,10.051088,8.963595,8.644959,9.218691,8.572682,10.100388,7.9270077,7.193479,9.918904,8.892965,8.857686,8.811761,7.4151692,8.037534,5.545482,6.9431143,7.814867,8.587021,10.423685,8.757639,10.233537,8.62473,9.467134,8.727096,8.6709795,10.417836,9.7422695,9.8686285,9.817551,8.966417,8.420236,7.1232038,9.877762,8.950337,9.606911,9.819777,8.452053,7.0337305,10.178238,9.034086,8.527459,9.208741,10.150621,8.855669,9.026699,9.202562,8.051511,8.015956,8.850517,8.536668,10.542312,9.081365,9.363968,10.247868,8.26953,9.44424,9.810874,8.507792,7.9875574,7.843549,10.007942,7.0348,9.413244,7.8825693,7.481264,10.165952,8.16801,8.714117,9.413446,10.027131,10.152259,10.018109,7.5325823,8.284659,8.341431,7.970521,8.227952,10.201209,6.4478884,7.1077294,9.641699,8.625261,8.775289,9.455197,9.075819,8.150646,7.2261996,9.347909,8.687405,8.795117,9.514177,8.446127,8.9489565,8.486316,8.870335,10.312121,10.423241,9.103472,8.93025,8.885938,8.913599,9.062927,9.903569,7.8287773,9.598656,9.365736,8.2458515,9.771308,9.447361,8.156353,7.3007092,8.751141,9.003621,8.761604,8.552355,7.809962,9.420223,9.754709,8.756089,7.9175253,8.578736,8.81727,7.5217175,7.8711386,8.652166,8.675824,9.241971,7.555964,8.926457,9.952355,9.708264,7.7176437,8.431864,6.8059173,9.807666,8.572236,9.13808,8.311629,8.474816,9.582675,7.9380546,9.173543,9.212376,9.609499,10.373138,7.620322,8.883371,8.27985,9.338997,9.487562,7.081917,7.7849336,7.9367743,7.2291107,8.21696,8.133768,8.273585,8.955931,8.657292,7.212896,8.488355,9.334105,9.027307,8.2017765,8.661045,8.241031,7.8504777,8.848449,6.419742,7.8415627,8.714042,7.5858603,9.487021,8.12652,10.660132,9.243474,9.023605,8.269772,8.223954,8.201087,9.333493,7.871951,8.208731,8.372408,7.1504517,9.604257,7.140805,10.167852,9.992811,8.618105,8.436605,8.601059,7.3769474,9.517591,8.231697,8.87781,6.851109,8.565861,7.9079375,8.9019,7.25635,9.427709,8.792114,8.586313,8.723241,6.9191933,8.392936,9.360666,8.066374,9.285975,8.711542,8.047292,8.717151,7.250655,7.0685205,8.94752,7.4533753,8.540123,8.916682,6.40442,8.153611,9.949825,8.722202,8.021332,9.134523,10.258406,7.2685385,8.001794,10.159589,8.895412,8.75898,9.025595,7.6281347,9.772588,9.282564,8.403575,9.682562,9.414203,9.695722,8.529079,8.224696,6.8726745,9.852366,10.289633,10.045873,8.513253,7.3543406,9.628364,10.476912,9.668252,8.96983,8.223536,7.8901806,8.382969,10.394779,9.641797,9.580881,8.52685,8.82334,8.738213,9.537455,10.399083,8.527005,8.614256,8.198214,9.568903,8.454037,8.5509615,8.147384,9.193751,8.706483,9.64349,7.0682898,8.91253,8.883086,8.673543,9.097863,8.389049,8.905478,8.964194,8.756787,9.059731,8.524746,8.187369,7.5390387,9.792594,7.5757732,8.451665,10.539301,8.345068,6.7448683,9.037128,7.8612347,9.096197,8.534421,9.095644,7.4446907,8.276561,9.753899,8.98622,8.49944,8.423348,8.736131,8.0314665,9.02861,6.960667,6.968323,7.9722276,6.3235083,8.858741,8.680068,10.396417,7.8928785,8.707472,9.474452,8.249582,9.590265,6.3872414,9.592547,8.819967,7.1738667,9.882926,7.890906,9.135689,7.8441086,9.172088,8.205667,9.20682,9.081006,7.119481,7.131774,8.364166,9.724961,8.962243,10.279883,8.064873,9.492572,10.146892,9.58622,8.176195,10.290436,8.81536,8.863164,8.127588,7.1366563,10.460934,8.054779,8.562828,8.8812065,8.249651,8.208613,8.621857,9.005999,8.580281,8.933249,8.144501,6.8622413,9.959881,9.15878,7.9511366,6.7754884,9.726866,8.233606,7.6788144,8.283505,8.717386,9.595396,8.657664,9.68384,7.895443,7.8326793,9.344162,7.311442,8.408323,7.2665706,8.791137,8.202487,8.459491,8.688767,7.8069525,8.003605,8.96167,8.235569,8.727125,7.8886952,8.500997,6.8763022,8.721354,9.607992,8.151267,9.109295,7.0736885,8.892875,9.916847,7.71962,8.760997,9.992815,9.749116,9.497104,7.234358,8.234672,9.637965,8.085388,8.256957,9.2962675,9.644639,8.767624,7.962486,8.307799,8.400874,10.10533,9.593464,9.663567,10.074336,10.1843,6.6666656,9.070738,6.848916,9.024331,10.095873,9.175161,7.198955,9.277583,7.5597887,7.429106,8.620538,8.955481,8.177597,8.861976,10.385293,8.608809,8.643695,8.213225,7.092878,8.012596,9.918079,8.13892,7.0956526,9.101352,9.914005,8.33286,7.529471,8.721667,7.042432,9.974654,9.018562,5.652299,10.369565,8.010747,8.4094,10.368008,8.7898035,8.986703,8.254363,7.0293827,10.408075,8.183567,10.225067,10.096348,8.1151285,10.185495,7.9181,10.221835,8.625046,8.153373,10.347365,7.2238135,8.764526,8.19963,10.469215,7.786115,9.233318,8.496869,7.048452,6.8245993,7.7391787,8.263502,7.4911633,7.5233855,8.6451235,8.526202,9.353317,6.4580903,9.3839445,9.619075,9.668649,9.80585,7.333774,7.4196105,8.7147255,9.213261,7.9738607],\"yaxis\":\"y\",\"type\":\"scattergl\"},{\"hovertemplate\":\"leiden=2\\u003cbr\\u003eUMAP-1=%{x}\\u003cbr\\u003eUMAP-2=%{y}\\u003cextra\\u003e\\u003c\\u002fextra\\u003e\",\"legendgroup\":\"2\",\"marker\":{\"color\":\"#1CA71C\",\"opacity\":1,\"size\":1.6289981637290938,\"symbol\":\"circle\"},\"mode\":\"markers\",\"name\":\"2\",\"showlegend\":false,\"x\":[13.436859,14.668019,11.971356,11.34752,12.989043,11.747959,14.661852,13.268427,13.29441,13.458808,11.829606,11.975309,14.123242,12.139107,12.921701,12.012516,13.07168,12.784315,11.550214,13.945901,11.862185,13.905336,13.282212,12.29544,11.31835,12.256049,13.768121,13.299847,11.881944,11.339803,12.6161585,11.899769,14.643941,11.459534,12.6238785,13.418674,12.460053,12.019645,12.604495,11.995514,11.315248,12.225737,11.982562,12.342394,12.1521435,12.661399,11.901499,13.005284,12.42098,12.250649,12.2200775,14.441985,13.960758,12.882735,11.920512,12.032705,12.837184,12.993881,12.720202,12.486319,14.6683,12.904522,13.324968,13.963324,11.630043,13.966646,12.292897,12.824899,12.033505,11.611562,12.45806,13.19765,14.428257,12.814765,11.4829235,11.912734,11.460396,14.076626,13.250358,11.490332,13.343061,14.067478,13.927476,13.921653,11.757157,11.713876,11.749926,12.783547,12.099511,14.354787,12.142928,11.716294,12.931812,13.582318,12.640996,12.922196,13.972369,12.597974,12.908001,12.793259,11.808715,12.993864,13.94095,13.222805,11.987368,12.136164,12.996804,11.33781,12.766672,13.91385,12.082083,11.976547,11.905046,13.924398,13.256927,11.664024,12.022124,13.20735,14.027628,13.428911,13.902968,12.209327,13.63593,11.364158,12.869532,12.007066,14.117311,13.480757,12.378621,11.89357,13.760827,12.367194,13.43541,12.469891,11.88034,11.778466,13.179705,11.504519,11.904584,11.8235,14.576696,14.220733,12.745076,11.716729,11.945666,13.297337,13.415215,11.496997,12.442384,13.111586,12.792715,13.228771,13.067723,12.656592,14.549702,12.188407,13.830658,11.829486,13.236428,14.099082,12.707295,12.806387,13.539025,13.975056,11.870459,12.447622,12.941393,13.914917,13.3608265,13.192919,11.971248,13.620432,13.943067,11.853401,12.884426,13.998391,13.530401,11.714489,11.614628,11.864544,12.80392,13.984769,13.932208,13.133936,11.8094015,12.276566,13.475584,14.237589,12.444339,12.986613,11.86327,11.416888,13.906072,11.744617,11.928385,12.709819,11.755332,13.233688,11.685912,12.692164,13.922013,12.899372,12.486297,12.257762,13.982309,11.747547,14.653357,13.165751,12.416809,12.360896,12.4717245,12.491298,12.263868,12.241346,12.331399,13.4475355,13.486079,11.924644,13.249242,12.182268,12.212901,13.373743,12.52242,12.3816395,14.054721,13.241024,12.290483,12.474371,12.917684,12.600731,14.659505,14.606117,13.162074,11.865459,13.056196,13.600983,13.684131,13.97386,12.330175,14.2549925,13.532779,14.2648735,11.420586,11.658824,12.09982,12.302225,13.907665,12.18974,11.713656,11.736929,13.4421425,11.6765995,13.247727,13.17192,12.29938,13.990086,12.946592,11.774175,11.557238,12.221958,14.536004,12.417557,13.595104,13.516597,12.400683,13.947049,14.654918,11.870871,13.560858,12.8035965,12.028941,12.136251,12.766232,13.989295,13.115444,13.974272,11.931277,12.996632,12.537244,12.920601,11.940702,11.905131,13.190566,13.529445,12.040307,12.874489,11.84355,13.452905,12.392261,13.255292,14.6009865,13.503297,14.071922,13.36646,12.062582,11.456691,11.766035,13.113689,13.517096,11.652268,12.053148,13.331897,12.495216,12.169938,11.259429,12.55153,13.943395,12.205461,12.768144,11.80163,14.525362,12.356331,12.622545,12.5049,12.214735,12.314184,13.272221,12.415462,13.543451,13.959472,12.653029,11.986134,13.039202,11.962241,13.204818,11.416006,12.910787,13.064655,13.131314,13.550219,13.911642,11.795641,11.747758,13.610412,13.974737,13.355984,11.923046,12.877823,13.707035,12.204375,13.95525,13.332918,11.386777,13.978049,12.789247,12.855431,13.983215,12.431823,11.247879,11.822612,13.699562,11.561936,13.211757,11.700914,13.24538,13.98171,12.256401,12.21503,13.464665,12.954456,13.163052,12.517419,12.378426,11.794688,11.786154,12.424214,14.014306,14.624706,12.699738,13.672836,12.344887,11.660689,12.146694,12.346849,12.359477,11.781438,13.521672,12.327389,10.82304,12.300103,11.954615,12.479433,11.432501,13.050399,12.504859,11.771965,12.315584,11.720868,12.594048,14.657791,11.779452,13.946579,12.637269,12.668428,11.730215,11.410702,13.442622,12.127869,11.518962,11.979685,11.692548,14.608086,13.468247,11.584863,12.178568,14.5456705,11.889822,12.8452635,13.744228,12.292914,14.5079565,12.054053,13.473901,12.866337,11.969247,12.777017,13.814115,13.086706,11.250347,12.044085,11.859666,11.667894,12.048431,12.539567,11.472078,12.855102,12.875761,13.500381,13.9674425,11.499491,13.604567,13.992566,12.173623,12.869182,13.694396,13.968479,11.372536,11.9222355,13.080941,14.411886,12.034304,10.993736,12.506379,12.025737,13.172589,12.63851,11.890423,13.830926,13.205849,12.114945,11.904979,11.37758,12.268075,11.103725,11.453145,13.453547,12.348351,14.144234,12.016645,11.039967,13.948498,13.382256,13.0702505,14.028269,12.476108,13.29254,13.983615,12.190764,13.367384,12.523284,11.614054,11.7667265,11.919149,11.976824,12.405464,12.183103,11.779978,14.644197,14.10907,13.168024,11.439308,11.390488,13.2804365,13.047955,13.479228,12.887492,13.939256,11.704907,11.551846,13.154686,13.161831,12.892789,12.983254,11.786528,11.3582325,11.9129505,13.399666,11.54982,11.484973,13.998415,12.731478,13.1489,11.761667,12.828923,12.0404215,11.892196,11.098481,12.332451,14.476877,13.238724,11.441903,13.958793,13.920575,11.2829685,13.035516,12.582691,13.894453,11.308463,13.926323,13.232016,11.833418,13.454572,12.023927,12.292884,13.899338,13.9610405,14.660175,14.6618805,12.253637,13.990143,13.231949,13.009328,14.686766,13.272442,12.390436,13.144854,12.646059,12.385156,12.684546,13.245716,12.283577,12.210282,13.329244,12.94226,14.658171,12.163094,11.986512,14.695511,13.383591,13.032549,12.488635,13.661531,13.337597,11.700631,13.0373335,13.456833,14.548559,13.502648,11.769685,12.151083,12.090995,12.005811,13.26819,11.952616,11.707212,11.744775,13.583012,13.905957,11.921429,12.447255,12.030614,14.61098,12.740948,12.141731,13.940243,11.804305,14.059904,12.184476,11.76224,12.671209,13.892313,12.236296,13.298846,11.240297,12.08151,13.548056,11.660388,13.977091,14.102614,11.960975,13.819463,13.045329,13.15142,12.55777,13.980035,12.689529,13.951706,12.617216,11.825995,12.074111,12.452695,12.794393,13.974492,13.228536,14.17183,13.366167,11.850304],\"xaxis\":\"x\",\"y\":[9.240447,10.179725,7.6239686,7.6728773,8.670648,8.344416,10.1676235,9.09025,8.843519,7.803827,7.9615893,7.630357,9.813836,7.6378994,8.983707,8.217278,9.023829,7.7627187,8.716415,12.027524,8.20118,12.118433,7.7460194,7.664201,8.8266945,8.246927,7.8694487,8.861307,7.6633224,7.6489425,8.525545,8.117151,10.1692505,8.823269,7.9903765,8.208498,8.019102,7.7371364,7.6468544,7.839656,7.9039493,8.31739,8.127602,8.616765,8.418441,8.097074,8.21936,8.969861,8.737088,7.616178,8.359495,9.400925,9.780636,7.919852,8.068012,8.135298,8.219723,8.26418,8.450099,7.9178286,10.185133,8.179593,7.841593,11.968173,7.393601,11.96981,7.4233575,6.869691,7.569443,8.374147,7.0225506,9.162322,9.871133,7.78181,7.139516,8.276141,8.004521,8.384939,8.115497,8.44683,9.18738,9.694209,12.083569,12.079867,7.7324014,7.611937,7.0496254,7.5295506,8.074585,8.456583,7.7330923,6.8142414,8.413632,9.337626,7.8394365,8.091801,11.889661,8.194522,7.7601843,8.33613,7.6568036,8.959232,12.0442705,8.58376,8.093526,7.3464017,8.611147,8.145737,7.2802496,12.05649,8.423839,8.153535,7.134424,12.066569,7.7648697,7.3449283,7.8625617,9.23224,10.994504,9.338551,12.107735,8.508126,8.657739,7.9561872,8.17397,8.780589,9.812802,7.872156,8.10319,7.3286757,8.184165,7.016083,9.3111515,8.392179,7.952702,8.690137,7.7060113,8.601087,7.5648255,8.481319,9.706861,9.887341,8.1643305,7.358648,7.0587745,8.185412,9.374616,7.9817934,7.0855856,8.753114,7.9336305,8.65256,7.5128584,6.407911,10.045607,7.2666607,8.368068,7.6182184,7.3998275,9.777151,7.363568,8.48549,7.8289742,11.864997,8.489808,7.880227,7.6078615,12.096607,7.4563804,8.067788,8.055676,8.181941,12.058545,8.427669,8.477894,11.506139,7.693438,7.368359,7.5345817,7.55493,8.794957,11.601001,12.060687,9.043634,7.619186,8.125207,7.6322527,9.961294,7.8106136,8.536003,7.897886,7.8283305,12.107242,8.4254875,8.033165,7.904645,7.1762815,8.071437,8.457177,7.4618325,12.085442,7.9583735,8.086335,8.122003,11.707317,7.9610615,10.175221,9.154753,7.73377,8.1917305,7.3518925,7.9240723,8.102241,7.7272577,7.5685763,9.365809,8.9139,7.8031373,8.195553,8.31677,8.43721,9.378373,7.167793,8.264405,10.595184,9.1943655,8.291259,6.60808,8.519484,6.8564706,10.174146,10.038974,7.3681593,8.1632395,8.158119,8.393376,7.657821,11.849337,7.7271533,9.987291,8.20237,9.550037,7.6547585,7.28147,7.503404,7.2569623,12.117762,8.527928,7.7840495,7.680616,7.960042,8.372496,8.845137,7.6225805,7.178595,11.5668,8.517355,8.230571,7.230662,7.6910386,9.784714,7.9444127,9.325994,7.9560313,7.2010026,12.016413,10.172091,7.3179917,6.9714293,8.295194,7.8306375,8.511969,7.8847513,9.589223,8.276908,11.928309,8.060046,8.988048,7.450283,8.510641,7.7158394,7.5708647,9.071603,7.7339673,8.341229,8.595102,8.164704,7.5026827,7.6637287,7.7659397,9.663939,7.3976526,9.948308,9.374805,8.048056,7.1088257,8.463683,9.092863,9.336588,8.442958,7.77381,9.341992,8.055883,7.7452607,8.01369,8.043918,12.03192,7.637895,7.201302,8.250737,9.764123,7.6005864,7.9223657,8.66016,7.420377,7.7143283,9.264341,8.615435,8.145658,11.977721,6.963973,6.9183373,9.105715,7.0458794,9.23296,7.4522676,8.362654,8.610268,7.6628213,7.9078054,12.111548,8.053238,7.418411,7.8409142,11.9996605,9.328698,8.277938,8.790112,7.711633,7.243348,11.95319,9.343647,7.498139,11.780837,8.74783,8.931193,11.708339,6.987202,7.676852,8.074986,8.052269,7.664676,9.22421,7.288799,7.730943,11.972884,8.182076,7.4336424,7.592203,8.048382,8.159732,7.9884334,7.2703924,8.36235,8.763815,8.234884,11.19744,10.142057,8.143866,9.419681,7.0803504,8.092925,8.022253,8.032973,7.364906,7.4301066,9.302303,7.7231593,7.708566,6.8923197,6.893098,7.1183805,8.353762,7.272034,7.531192,7.4834943,7.2549653,7.443464,8.136006,10.167757,8.413686,12.015025,8.105756,6.9835577,7.250807,8.716741,9.426972,7.7329206,8.200337,7.43048,8.36963,10.047471,8.90819,6.6439314,7.9569273,9.82951,7.741723,7.3679175,8.211279,7.1432023,9.961119,7.5134625,9.26132,8.890251,7.3134265,7.221735,9.528154,7.660318,7.683177,7.324246,8.126146,8.303717,8.721935,8.069472,8.009891,8.032827,8.986293,7.9665356,11.9977,8.801561,7.7525725,11.549983,7.9949975,8.574377,8.246832,11.999116,7.537588,7.998775,6.973645,9.89559,8.034395,8.263141,8.373656,8.272789,8.214951,6.833874,8.357952,9.634129,8.151301,8.563705,8.180218,7.6833754,7.504503,8.219658,8.653487,7.7675767,7.659643,10.244635,7.3580046,7.597667,12.045628,9.2994,7.307298,11.106208,7.8825855,9.060222,11.758482,7.281996,6.906205,8.214422,7.7337174,7.816978,8.061721,8.199062,7.9402146,7.408524,8.444858,10.1348295,10.402686,7.682958,7.2818193,7.934743,9.266604,7.673472,8.68946,8.740435,12.045437,7.5696754,7.5794764,8.258573,6.7880692,8.196538,9.004851,7.7025533,7.623129,8.198463,7.564735,8.478251,7.7866573,11.489784,7.0381546,8.121882,7.502969,7.1658173,8.112438,8.121233,7.6395593,8.300448,9.826639,9.249739,8.490866,11.951883,12.082021,7.686066,9.03512,7.5423784,12.129553,8.772435,12.089191,8.4621315,8.276717,9.300372,8.200063,7.1798983,9.649459,11.954337,9.5933695,10.177523,6.998459,11.591668,8.251708,7.3302827,10.199166,8.722634,7.8645053,8.420403,8.1644335,7.8269534,7.6735635,9.213631,7.365485,7.48825,8.246592,8.205939,10.176628,8.378398,8.233151,10.201715,8.901618,9.06693,7.1167006,8.462019,7.8168044,7.474771,7.4064326,9.259412,9.779547,6.706104,7.805007,8.329697,8.34682,8.351214,8.917315,7.943852,8.430569,7.7736073,9.467513,12.112825,8.21966,7.847543,8.146627,10.077629,7.329575,7.7444243,12.044568,7.972907,10.766317,8.522153,7.654926,7.2686114,9.614583,7.9922357,6.777854,8.028946,6.648232,7.802911,8.376938,11.905128,10.006931,8.460801,9.67808,7.7761745,7.9968834,8.770727,11.935511,7.88098,10.044685,8.024618,8.39519,7.656655,8.079101,8.547554,11.820383,9.211584,10.069468,7.0743237,7.6330028],\"yaxis\":\"y\",\"type\":\"scattergl\"},{\"hovertemplate\":\"leiden=3\\u003cbr\\u003eUMAP-1=%{x}\\u003cbr\\u003eUMAP-2=%{y}\\u003cextra\\u003e\\u003c\\u002fextra\\u003e\",\"legendgroup\":\"3\",\"marker\":{\"color\":\"#FB0D0D\",\"opacity\":1,\"size\":1.6289981637290938,\"symbol\":\"circle\"},\"mode\":\"markers\",\"name\":\"3\",\"showlegend\":false,\"x\":[11.068187,11.0071945,11.087733,12.126386,19.610558,10.285679,10.818224,11.341891,7.9392586,9.870537,11.004277,11.178762,10.886702,10.523768,11.122498,10.956376,10.290835,7.8782883,10.520819,10.1439705,11.756669,10.803626,10.828024,11.738755,10.944758,10.10437,11.317331,7.966283,11.689352,11.559864,11.230664,10.292743,10.183066,10.593376,10.648223,11.020047,10.089567,11.067759,11.147162,10.247453,9.999199,10.411375,10.435575,11.4047365,11.3973675,10.500039,11.217906,12.220589,10.825156,10.366494,10.103147,10.758723,11.467196,7.8308616,10.454793,10.14876,11.785444,10.871852,19.610586,9.902016,10.729974,11.292534,10.285177,10.689008,11.533216,10.215846,11.208481,10.67986,10.78594,10.470721,10.355706,11.160496,11.6504755,10.18411,11.557047,10.313647,11.743069,10.731751,10.919446,10.340864,11.039938,9.654725,11.642057,11.389873,10.228466,10.668246,10.775791,11.600927,11.486127,11.044214,10.203023,11.517686,10.816318,9.941142,10.8046665,11.559534,11.047458,10.184248,10.715857,10.255363,11.248717,11.487654,10.407497,9.86786,10.330603,10.034001,11.287655,11.313902,10.398962,9.941796,10.382593,11.413761,10.234662,10.830525,11.1356325,10.031594,10.969264,9.910713,7.8419967,11.589704,10.906056,10.391741,10.409233,11.080951,10.695201,9.872244,11.065802,12.16886,10.616993,10.563086,10.671602,12.278876,10.73801,11.010351,11.761468,11.461061,11.579344,10.902046,10.600859,10.52081,9.951183,11.268525,10.268384,10.741203,11.604191,11.0260315,10.862077,10.715285,11.019893,10.805143,11.312292,11.073576,10.489076,7.938694,10.671738,10.685711,10.144302,10.328343,10.923432,11.108172,12.079512,11.214746,10.779378,7.874989,11.734715,10.686742,10.28453,7.8491807,10.2053175,11.95796,10.445721,10.591135,12.159871,11.120087,10.909912,9.9699955,10.224719,10.843371,10.062627,10.802088,9.903466,11.040347,10.218014,10.913921,11.425394,11.854117,11.45518,11.109842,10.260632,11.788912,11.427345,11.192133,10.105318,10.02209,10.121394,11.369247,10.071063,11.168396,10.0587435,10.180617,9.90061,7.825782,11.669545,11.015068,11.569175,10.207849,9.953456,10.242289,10.085256,11.02163,10.575934,7.969683,11.219404,10.138077,10.894186,10.4969225,11.210999,10.563146,11.61318,11.189981,11.281947,10.506924,11.070472,10.276436,11.04623,10.364154,10.414201,7.9551516,10.943745,10.29696,11.49479,11.248297,10.159228,10.800267,10.343949,10.421077,11.836715,10.9314,10.859142,10.314092,10.69668,12.343935,10.074375,11.345432,11.14897,10.440876,10.300107,10.301483,10.865459,11.471923,10.0473,10.548492,10.021649,10.349056,10.815316,10.891722,7.9063797,10.0323925,10.580225,10.392745,10.902712,10.401058,10.901395,10.917658,11.60072,10.338631,10.10428,10.922674,10.673378,10.537317,10.988891,11.260449,11.502663,10.820303,10.915344,11.396344,10.79007,10.89163,9.894472,11.054875,11.379735,11.585639,11.194786,11.120279,10.128329,10.942429,10.000799,10.418016,10.054046,10.946229,9.998233,10.694518,10.145608,11.495008,11.655048,10.378288,7.8807054,10.800101,10.0920315,10.815979,11.59219,12.503685,10.02337,10.570179,11.056791,7.9816575,10.379691,10.92183,11.315274,10.040048,10.145198,10.97851,10.021725,11.4580145,10.8443,11.174188,11.363296,10.433898,7.843076,10.919188,10.230311,10.8105345,10.203351,12.025785,11.148285,7.9527307,11.286892,11.618911,10.4393,10.629151,10.995833,10.157441,11.717589,10.925771,10.180709,10.395214,10.539486,9.95655,11.062222,11.790099,11.600592,11.342898,11.317541,11.116317,10.227598,10.153646,10.056186,10.03015,10.079285,10.225555,11.6242285,10.105022,11.139702,11.234892,10.171705,10.279002,11.444678,11.027641,9.9166975,11.265544,10.02319,10.468233,7.9723873,10.072972,12.083294,11.69297,7.9012547,11.701211,10.015914,12.0676985,11.570965,10.636268,10.441828,10.373146,10.337435,10.342897,11.614085,9.989547,10.476151,7.964383,19.610607,10.007096,11.498054,11.4721575,11.261198,10.541824,10.285011,10.292994,10.15074,10.086735,7.9391484,10.1156435,10.263226,10.533397,10.478946,10.271189,10.428606,10.724985,10.482743,10.5341835,11.858574,11.185696,10.907716,10.844019,10.201811,10.409153,10.954375,11.4471855,10.348473,10.561607,10.636631,10.137671,10.567674,11.857583,10.83461,11.792625,10.002487,7.9379773,11.166893,11.796206,10.444677,9.905494,11.724424,11.821575,7.943779,10.919786,9.939607,10.5435705,11.255611,11.316946,10.375362,11.236011,10.010916,11.527632,11.734286,10.464872,11.160368,10.204975,11.572816,7.9108796,11.939666,9.909992,10.33792,11.530386,10.97591,10.773732,5.753482,7.9278297,11.030347,10.553292,10.065371,10.767752,11.43431,10.634234,11.719093,10.024516,11.587794,10.651572,11.011911,11.304067,9.912403,11.053106,10.5462265,10.629746,11.499247,11.310622,9.957081,11.275818,10.04362,11.642946,11.132657,11.010682,10.084822,10.139352,10.617543,11.178335,11.262425,9.929198,11.402744,11.377864,11.051551,9.856275,9.940668,7.9407544,10.843734,10.498637,10.209881,10.934257,10.876968,11.8749895,10.554578,10.429245,10.678322,11.306043,7.8837643,11.114324,10.956242,11.247018,9.8235,10.360301,11.705323,11.3132715,11.497359,10.539641,11.345423,11.903439,10.8157,11.28402,10.004054,10.779848,10.395569,11.304076,11.666717,11.042744,10.736676,10.889886,11.542124,11.046102,11.160739,7.9731402,10.227892,10.398692,10.151649,11.062191,11.499722,11.41242,11.562072,11.569594,11.213987,7.9842954,11.028185,11.79037,10.061765,11.6814165,10.564814,10.246674,11.437482,10.600047,10.7116785,10.1586895,10.4764185,10.909893,11.067137,11.150261,10.085101,7.8959255,9.951494,11.737612,11.42768,10.005803,11.1222725,10.522297,12.234243,10.607095,10.089435,10.974162,7.9624395,10.978595,10.948793,10.245121,11.6029825,10.516655,19.610626,10.791471,11.044631,11.757865,10.434616,11.691426,12.061797,11.373421,10.893983,10.101876,11.283286,11.447638,11.342467,10.448698,11.027235,11.790423,10.636271,10.970401,9.913223,10.420348,10.323925,8.014898,10.926553,7.9422774,19.610641,9.985626,10.442955,11.76816,11.222154,10.171592],\"xaxis\":\"x\",\"y\":[7.0314527,6.8717127,6.9783335,6.570702,-3.9873135,8.135768,8.561068,8.727331,6.7759085,8.418449,8.160688,7.0014,6.5935416,7.3995275,6.870368,5.325282,7.045178,6.8283415,8.355888,7.2875566,6.7968907,8.292621,7.1899056,6.434898,8.294377,8.095742,6.898209,6.7561984,7.1759377,5.953184,5.864083,8.107971,7.7568145,6.521973,7.119836,5.753501,7.467939,6.5664463,5.270108,7.65246,7.5262136,8.009094,6.5784006,5.792793,6.764482,7.375308,5.809028,6.533737,6.6581273,7.7284503,8.216685,7.4690676,6.0414996,6.8765807,6.592089,7.9854107,7.312554,7.0647745,-3.987328,8.328823,7.885996,5.3851085,7.87713,8.555384,5.941476,7.676956,5.5158954,7.454394,7.337296,7.1521463,7.090216,6.796501,6.0357566,8.112712,7.3521457,8.212156,6.2442317,6.2012057,5.621969,7.019487,8.206572,5.8578997,6.700291,6.2965283,6.771741,8.448154,7.459058,6.054956,7.437936,8.134897,8.486958,7.2860026,8.209247,7.5081425,8.142133,6.3629,6.792769,8.035973,7.7650776,7.79198,5.8762345,6.68464,8.000066,8.233706,8.327111,7.409495,7.0267725,6.996133,8.282353,7.4452124,7.973901,6.671073,7.5788894,7.5817575,5.901608,8.301327,7.228518,8.39045,6.879013,6.1348543,7.1158466,7.611527,7.0808063,8.532341,7.1762915,7.8259983,5.6510005,5.7789803,7.6452284,8.483424,8.36706,6.0064316,7.0862455,7.8110933,6.322456,6.0151067,7.147475,8.702414,7.0658298,7.7227597,8.44981,5.8213444,8.264307,7.154596,5.791,7.7312236,7.385562,7.226484,8.1236105,7.2377615,8.256034,8.547639,8.2842,6.772351,7.8799677,7.638006,7.2737722,8.203722,7.1350546,7.884189,6.073616,5.37132,8.253625,6.8296447,6.163524,8.362146,7.1464276,6.8540516,8.517929,6.029694,7.351213,7.0049024,6.071295,7.0610414,8.2748375,8.268298,8.412716,7.2224813,8.03985,8.35465,8.378056,7.556731,7.511572,7.1920896,8.535425,5.3217,5.7958755,6.656136,7.237484,5.6620035,5.326683,5.3858304,6.880593,7.449798,7.3116603,6.980795,7.4121704,5.674867,7.6164627,6.7496243,8.367814,6.886904,6.0998197,6.2860847,7.4342666,8.137662,8.234402,8.061691,8.204718,8.244956,7.6280684,6.7595987,6.379058,7.253267,7.2356277,7.5849614,6.5719905,7.584209,5.852349,8.513619,6.9263,8.335836,4.724441,6.50071,8.47058,7.166685,6.6492195,6.7603154,8.207143,8.464208,6.1450453,8.802414,6.539315,6.09811,6.809664,7.459443,6.861237,8.188688,5.670693,6.8675475,7.1471705,5.993144,8.136471,7.8816442,8.434694,7.2780995,7.2345304,8.076348,5.811986,7.157994,8.089201,6.018511,7.858925,8.143116,5.6690316,7.4606595,6.80286,8.129567,8.509132,7.5595384,6.337191,6.7285113,5.5656023,6.530185,6.1399007,8.2862015,7.2769527,5.8911037,6.0871944,8.307047,7.610341,6.0907,6.2122135,7.4907045,7.4244285,6.905426,7.4722238,7.1011195,7.5920796,7.052528,7.006977,7.052796,8.656965,5.7134495,8.069053,7.3490267,7.2801456,7.2740316,7.5844026,7.1470575,7.5313435,6.992377,7.513857,5.9586477,7.081977,8.144159,6.8239923,7.136057,7.381916,8.025259,5.588007,6.2462583,7.487033,7.6817794,7.138071,6.751038,7.6323123,7.595903,7.0511837,8.409245,7.0401263,7.6097465,7.508498,4.962041,7.1753,7.3555655,5.672526,6.6191716,6.863666,7.101772,8.008469,7.5465794,7.3120575,5.6122103,5.694661,6.769734,7.0560937,6.647198,7.566042,8.522775,7.5195017,7.8954697,6.886571,5.3429866,8.018131,8.262494,6.6957865,8.199144,5.662268,6.094962,6.4193635,7.0365043,7.5604258,8.739597,8.529663,8.083948,8.096177,7.682386,7.650872,7.1591034,6.589154,7.7235904,6.031108,7.9728737,7.375937,8.121643,5.6828194,7.3498063,8.401925,5.558965,8.389247,7.103067,6.751216,7.3710833,6.700567,5.551492,6.8106236,6.389221,7.445711,5.4666853,6.676732,7.5283933,7.522622,8.504837,7.9263215,7.900362,4.89489,7.66551,8.108127,6.774344,-3.9873307,7.512682,6.328552,6.1889,6.1848307,6.69377,8.282043,7.2480054,7.2379837,8.487535,6.774806,7.272108,7.9743185,5.9613166,8.258115,7.873893,6.9777637,6.735794,7.5498395,7.074593,6.3238864,6.1212206,5.3708177,8.186778,7.1865697,8.07881,7.228501,6.7561355,8.1790495,5.846044,7.64839,6.7347016,8.521744,6.517782,5.590395,5.7813344,7.556371,6.775758,5.781848,6.4369807,7.833895,8.455136,5.7886305,6.1000457,6.770831,7.2171087,8.430024,5.8807282,6.9619293,7.028647,6.787734,8.841742,7.4486194,6.016371,5.5431094,7.551264,8.399133,7.705444,5.8782268,6.805123,5.2399516,8.242567,8.169136,6.2454515,5.2469463,8.576163,13.712005,6.7818284,7.5460825,8.496504,7.4012094,6.999632,7.337994,8.204107,6.8398304,7.6094823,7.4407983,7.216676,8.0919285,5.667741,8.426027,6.8367786,6.5271244,7.354926,5.8949137,8.834988,8.341967,5.9705534,7.539083,5.817289,7.8099623,5.601242,7.27992,7.7498918,7.875029,5.8280454,6.8770437,8.410751,7.383747,7.1804934,7.856139,8.36307,8.464453,6.7688084,5.6916614,8.013261,7.4270267,7.5553536,7.1004596,5.8464794,7.067165,7.961341,8.309734,8.784702,6.820921,6.5529656,7.31921,8.774193,7.936126,7.2587957,6.9986186,8.241493,5.261378,7.8181553,6.9542613,5.0252624,5.5098166,7.025425,7.300436,6.991149,7.785375,6.936577,6.2121377,8.106564,5.1830845,5.2570615,7.1230087,5.7435555,5.6008506,6.7592645,7.002916,7.6416345,8.092154,7.033495,7.3395896,5.8907514,5.8990507,5.980888,7.093687,6.756447,8.444904,5.6352973,7.4833565,6.9797454,8.529818,7.6769323,7.194074,7.1064568,7.969874,8.273301,8.551877,8.651601,8.495251,7.9478183,8.568327,6.809448,8.103331,6.8871045,7.229705,8.20363,7.6236615,6.688155,6.0823283,7.6159463,7.7369905,7.7301416,6.759024,8.314233,7.7746506,8.009378,6.340169,8.27352,-3.9873528,7.1600666,7.2935057,7.084811,8.284914,5.8243895,5.6217113,6.9360814,7.383836,8.591876,5.824897,6.999347,5.620185,8.164947,7.6546483,6.205157,6.764134,8.262774,8.328565,6.9976373,8.124936,6.732667,5.599997,6.770925,-3.9873586,7.622203,8.340672,6.1026645,8.429857,7.67589],\"yaxis\":\"y\",\"type\":\"scattergl\"},{\"hovertemplate\":\"leiden=4\\u003cbr\\u003eUMAP-1=%{x}\\u003cbr\\u003eUMAP-2=%{y}\\u003cextra\\u003e\\u003c\\u002fextra\\u003e\",\"legendgroup\":\"4\",\"marker\":{\"color\":\"#DA16FF\",\"opacity\":1,\"size\":1.6289981637290938,\"symbol\":\"circle\"},\"mode\":\"markers\",\"name\":\"4\",\"showlegend\":false,\"x\":[12.568931,12.58806,11.758218,11.139887,10.574921,11.681178,12.375412,11.650888,12.74206,11.626273,11.765072,11.831286,11.746751,12.334938,12.252537,10.813096,12.218321,10.709568,10.372979,12.00118,11.486084,12.31534,10.708571,12.149975,11.026937,12.692812,10.57183,11.821746,11.517899,12.288921,12.094745,11.808885,10.404347,11.05717,10.841415,12.176454,10.889923,11.689209,11.687639,11.739166,11.791331,10.563246,11.857719,10.49625,12.763197,11.710246,12.307809,10.603812,11.380634,11.96988,10.533656,11.402306,11.117796,11.737441,11.555461,11.440219,11.510297,12.486706,11.781667,12.323419,11.488947,12.42765,10.809979,10.67402,11.799878,11.404687,11.823453,11.957283,10.3797655,12.025798,11.670113,11.531031,11.094922,12.341551,11.233854,11.668959,12.23945,11.663419,12.245406,11.492368,11.44995,11.411295,10.888229,12.729028,10.550096,12.058285,12.445587,11.550063,11.225596,12.456272,11.009775,12.329907,11.073995,11.777384,12.139065,10.587228,10.556781,11.784405,12.189408,11.967997,11.785314,12.7502165,10.404825,11.225598,12.181732,11.853206,11.683983,10.599224,10.6212225,11.248793,12.555578,10.47129,11.9174185,12.176846,11.960911,10.73723,10.41985,11.533012,11.450946,11.214063,11.299434,11.811795,11.691324,12.3650465,11.049246,12.183288,11.936389,11.910228,10.55576,12.3596525,11.699974,11.544974,10.549101,12.35733,12.050053,10.612906,10.54101,10.531567,12.710798,10.436311,11.686716,10.522357,11.335696,10.538565,12.370962,10.522658,12.388775,10.589947,10.916353,12.300061,11.540926,12.189985,12.135979,10.929489,11.999218,12.328929,12.344071,12.407245,10.865768,10.815572,11.231646,12.585128,11.372873,12.815643,11.183498,12.419099,11.79071,12.472384,12.416488,10.40318,12.537307,11.450607,11.888808,10.497984,12.093115,11.277215,12.137319,11.743546,10.961854,11.324051,10.599224,13.089636,11.299821,10.428707,11.363721,10.415863,12.1597,11.260801,10.645617,11.76011,12.752085,11.929927,10.985484,10.708445,11.280629,12.562379,11.550315,12.318161,10.430517,12.153149,10.307515,10.52453,10.3557825,11.35533,11.626022,12.780467,12.217763,11.438218,12.548157,12.658701,11.76401,11.537688,11.50867,11.894076,11.599629,11.192795,12.618834,10.466574,11.849612,11.533665,10.504724,11.467368,11.816078,12.0510235,11.901155,10.995558,12.187513,12.654159,11.834926,10.550143,11.879659,11.332715,11.65797,11.2577505,11.676028,11.580966,11.362973,12.285822,10.911234,10.870353,12.310472,12.550106,10.376733,12.088915,11.264177,10.946727,11.4628105,11.300625,11.709222,12.34723,12.413513,11.887315,11.441192,11.875352,11.114209,11.554637,10.526106,10.769537,10.933935,11.878569,11.572947,10.6835165,9.529301,10.5722,11.783851,11.873224,12.154692,11.344723,10.519457,11.293894,12.649951,11.98644,11.765599,11.33456,12.056875,12.202993,11.195624,11.95262,12.177098,12.284995,11.577199,11.142067,12.297248,11.931748,12.580231,10.601388,11.486434,12.389939,12.590635,11.753563,12.365103,12.422406,11.301583,11.0298395,10.469984,11.924305,10.830044,11.689455,10.938375,10.73798,11.651107,11.034898,11.479093,11.3561535,10.905632,11.844028,12.495216,10.655797,11.44271,9.427376,10.535714,11.437532,11.330611,9.31785,9.354201,9.3481865,9.369137,9.381649,9.371065,9.351141,9.3519335,9.35311,9.3302145,9.328383,11.565686,11.952981,11.393611,11.952669,11.414633,10.764022,11.169903,9.269794,12.4236355,11.174373,12.5586815,12.535103,10.712676,10.801927,11.958702,10.685257,11.77203,11.89779,11.287799,11.665848,11.612311,12.301041,11.077335,12.275685,10.384771,11.74746,11.840208,9.520554,11.975568,12.286099,12.153436,11.608986,11.508417,11.4140215,11.960233,11.419867,11.221419,12.399727,12.632813,11.538081,11.785584,11.900166,12.243624,11.818654,12.269236,10.751148,10.924062,12.420792,11.361403,11.647163,11.513607,12.015196,11.202988,12.587991,11.3095045,12.3324375,12.123756,11.589683,10.707765,10.450369,11.976075,12.388747,12.881312,11.528066,12.327052,12.293741,11.932152,11.577497,11.458746,11.082885,10.595442,12.348816,12.738089,11.181793,12.388433,11.282148,11.605354,11.833611,10.547203,12.085182,12.138111,11.78549,10.424622,10.389598,10.516977,10.692089,12.26312,9.264708,11.563292,11.396661,12.098611,12.136155,11.692732,12.229176,10.467895,12.229273,12.182313,11.066316,11.144875,11.688756,12.023648,12.282781,12.090493,11.463168,11.471112,10.530747,11.708235,12.520356,12.361281,10.606001,11.440535,11.982537,12.455533,11.599747,11.416745,12.01517,11.739832,11.127068,12.603778,12.255673,12.819282,12.16412,10.682543,12.886762,12.574794,10.769348,12.042368,10.536656,12.125901,12.7996435,11.787817,12.367281,11.804836,12.293191,10.644692,10.870188,12.053177,13.269977,11.147775,11.564263,11.327505,12.351281,12.267346,11.625043,12.021646,12.107008,11.4588,11.384433,12.395108,12.256984,11.440758,11.247498,12.221591,11.855739,12.666425,12.305385,12.6121235,10.736031,10.555354,11.180187,11.508109,10.38174,11.445435,11.7786875,11.681597,11.394472,11.494169,12.163322,11.601645,10.529337,10.514681,11.753481,10.955454,12.046055,10.595335,11.831207,12.20495,12.291552,12.225192,11.717302,10.789318,12.223473,12.118912,11.253912,11.103388,11.025387,12.084572,11.410344,11.9271345,10.87606,11.50186],\"xaxis\":\"x\",\"y\":[5.2947645,3.689791,3.4361973,4.2501636,3.722634,4.523112,4.3352413,3.8271806,4.330358,4.5988975,4.838608,2.9518003,5.012174,4.8098383,4.271587,2.9364722,4.645895,5.5401053,3.6302266,3.1835666,2.8959851,2.566165,4.217103,3.520496,4.1174245,4.9437466,4.85194,3.9963405,4.656119,2.4969466,3.3906775,3.9683735,5.9450116,5.146086,3.1108847,3.4563243,3.73488,3.824261,3.8984406,3.5828245,4.444745,3.4380343,3.5691373,3.655176,4.6107025,3.0275316,4.5442553,3.9792416,4.9620657,4.651271,3.5659144,4.367588,4.5210896,5.3131266,2.6131926,4.350647,4.286902,3.6160648,4.5935826,2.0272424,4.6337585,5.350056,3.7827287,4.744817,3.332124,4.7981334,3.926808,5.206261,3.8905823,5.220213,3.7791247,5.002088,4.183864,4.643951,4.2089686,3.8741002,4.7846546,4.294845,5.0819817,3.0668466,4.7293444,3.8768497,3.8141193,4.655801,3.8645773,4.4987326,4.617572,4.1854963,4.2943916,4.395881,2.768557,5.5915422,4.3551164,4.953423,2.8579924,4.327831,3.3855398,3.7829335,2.575369,4.107427,4.0625925,4.25036,3.3323364,5.2572412,4.9162602,5.046911,3.878498,3.6802468,4.5590687,4.67067,2.2476742,3.7247272,5.0593863,4.019814,4.0377917,3.182299,3.7980494,2.6138372,5.4252324,4.5853925,3.8618615,3.5905044,2.6134691,4.6367574,4.308482,3.4875693,3.3478062,4.6783032,3.7535694,3.1235807,4.555407,2.9583154,3.4087732,3.255254,2.2485976,2.8422453,3.553822,3.4220154,4.5496626,3.5496619,4.120009,3.3959064,3.8703153,3.7511811,2.5644548,3.4953933,4.2354035,4.300204,3.6664398,4.6128893,2.8941503,3.066721,4.628638,4.488146,4.5388346,4.3408117,3.2454112,3.3760405,4.061609,3.779225,6.883611,5.145671,4.4214416,5.141373,3.1503825,3.3837693,3.395917,2.885705,4.367604,3.444685,5.187223,4.515835,5.68278,3.367896,2.4936566,3.820581,3.98573,4.0470023,3.9231174,4.233953,3.4490006,4.875481,3.808151,3.720222,4.3805575,3.8660412,4.5955906,4.1105394,3.9919646,3.7010603,3.607653,3.1336193,3.922376,2.8575535,3.0164797,4.033017,3.7525523,4.7592554,3.9296196,3.1772165,1.7871935,3.457521,3.8060012,4.0304775,4.2235594,5.1014047,4.7384734,4.818069,5.319538,2.909944,3.9549892,3.4884868,4.391681,3.5993745,2.8165104,3.8259509,3.5031462,3.480071,3.2389293,4.236859,4.553188,4.8566337,3.5856173,5.035114,4.218302,5.151018,2.548888,4.209306,4.481742,3.6007774,4.1116905,2.9612508,2.7128973,4.423675,4.2643566,3.5838711,2.9294345,5.191621,3.7692034,3.9684613,4.6092405,5.2971144,3.8137493,3.105393,4.574402,2.966189,2.7311132,3.8563383,4.29598,3.054045,4.4532523,5.299929,4.7981663,3.9420083,4.0845337,3.659595,3.443243,3.9842,3.8749042,3.0683093,3.8528588,4.4765954,5.81349,3.710128,3.9684572,4.319777,3.5914114,3.8372552,4.6947274,3.0312197,4.5508103,3.0208676,3.918474,3.9036965,3.7310274,5.468193,3.6637166,3.110753,4.9905825,3.990905,3.553781,4.14991,2.5137975,3.883282,3.8862245,3.4004276,4.6539526,4.361149,4.9229336,4.3302054,4.728432,1.9102514,2.8772233,3.726896,3.4948933,4.004261,2.9180455,3.9239378,3.880072,4.843222,4.31995,3.0027812,4.884023,3.8248281,4.408408,2.4795709,4.834742,4.6066074,4.9525595,5.6703224,4.5206156,4.3758483,4.064091,5.7837133,5.7539086,5.752432,5.7710176,5.76052,5.761261,5.7638307,5.7596626,5.760159,5.7541156,5.7537384,4.2840548,3.1374948,3.4196317,2.9145792,4.6871533,4.188891,3.5486407,5.825656,4.109546,2.926402,5.2947474,3.7370627,3.7512634,4.6775007,3.670003,2.797355,3.4540918,5.2555447,3.0894613,4.645029,4.508909,3.1151717,4.287031,3.0901508,3.5493963,4.724137,3.4854703,5.811052,3.570371,4.8852773,3.186,3.2548046,3.7684438,4.453083,3.0614944,2.908855,4.272516,4.351424,3.6465914,4.5899353,4.826302,3.20318,2.8512504,3.014552,2.5723906,3.9992647,3.2330267,4.646801,3.9715397,4.338133,5.126351,3.0554483,4.206964,4.103403,4.5737367,4.279862,4.710034,5.1788955,3.4326143,4.387946,4.607781,4.353611,2.6014633,4.4498277,4.7968435,2.6203306,5.3997917,4.26458,4.2764573,4.078776,3.7520075,4.837075,3.668238,3.516939,4.776535,4.1425705,4.6528263,4.2686286,1.8871658,2.7862425,3.483288,4.8163657,3.8716316,3.3913226,3.2493465,4.015584,4.5286374,5.8500376,4.685239,3.1751575,4.325483,3.209768,4.0944247,3.35924,4.407897,2.523715,4.723431,4.5539446,2.867163,3.8048928,2.9416323,4.137647,3.040699,4.5524716,4.678119,3.8107357,2.976056,4.357525,4.706649,3.9288094,4.7835417,3.052123,4.744817,4.6780305,6.2232566,4.04069,3.9105284,4.553119,4.031609,3.3665333,4.504809,4.2749386,3.8644938,4.685988,4.0104356,3.3410537,3.089073,3.4172287,4.8651733,4.5633826,2.3355095,4.691478,3.4149728,3.4373314,4.173686,2.7670608,2.4879022,5.350219,4.3658338,4.9237485,4.2581253,3.1331482,2.7648988,5.1349707,3.0908792,3.7920988,2.8815827,4.7990932,4.6474113,4.39113,4.2223153,4.2275033,4.051833,2.8754878,4.2611127,2.5440638,2.4249814,4.340329,4.5242023,4.4318233,4.6038733,3.6623094,5.24102,4.0996203,4.122207,4.233898,3.5061464,5.37091,3.9288945,3.6114233,3.4179852,2.8995123,4.3832607,3.0791218,3.3209386,2.4576063,3.6076748,4.3683324,4.019611,4.5936356,4.2197976,3.409281,4.4053698,2.7804446,3.459944,4.7432528,4.0789332,2.677488,4.150679,3.849734,2.6643782],\"yaxis\":\"y\",\"type\":\"scattergl\"},{\"hovertemplate\":\"leiden=5\\u003cbr\\u003eUMAP-1=%{x}\\u003cbr\\u003eUMAP-2=%{y}\\u003cextra\\u003e\\u003c\\u002fextra\\u003e\",\"legendgroup\":\"5\",\"marker\":{\"color\":\"#222A2A\",\"opacity\":1,\"size\":1.6289981637290938,\"symbol\":\"circle\"},\"mode\":\"markers\",\"name\":\"5\",\"showlegend\":false,\"x\":[11.041071,11.645039,11.502449,11.999587,12.328309,10.798529,12.203742,11.746222,12.041724,12.274663,12.4481535,11.997924,11.404566,11.287912,12.018231,12.441721,11.784408,11.4084835,12.139178,12.275483,11.310904,11.653077,11.797404,11.149436,11.547773,12.122441,11.053412,11.784944,12.040856,12.434182,12.346739,11.923131,11.155272,12.024874,11.725693,11.9193535,11.803466,12.153063,11.771935,11.759777,12.039029,11.748511,11.531353,11.092939,12.155163,12.074206,12.129074,11.528571,12.144256,11.987299,12.137316,12.00231,12.211878,12.29732,11.725057,12.29477,11.6334095,12.23784,11.085507,11.945321,11.42409,12.225309,11.613096,11.555802,11.239187,11.718471,10.967363,12.036593,11.219828,10.91292,12.071162,12.066404,11.826858,12.156271,11.292813,11.616625,11.910921,11.696488,12.202099,11.903075,11.870058,12.109669,11.963011,12.4282,11.804906,11.945423,12.449495,12.039903,12.262996,12.1451,11.652701,11.97335,11.775259,11.801701,12.377426,12.480572,11.971551,11.947052,11.380199,11.811281,10.944487,12.380506,12.042653,10.43203,12.289755,11.3882675,11.041042,10.578637,11.581424,12.090097,11.896851,12.098013,10.723936,11.630945,11.680369,11.523437,12.086426,11.086537,11.709873,12.1749735,11.757897,12.396588,12.3359165,12.030058,12.307674,12.147705,10.732305,11.191826,11.964349,12.398794,12.556689,10.956258,12.103796,12.19169,11.752322,12.031894,11.578021,12.470334,12.117987,12.077803,12.167467,11.898275,11.653967,12.137194,12.372503,11.770372,11.2561245,11.788854,12.102755,11.97022,11.445678,11.362664,11.088689,12.241301,11.44616,12.351208,12.04417,11.172131,12.377471,11.658709,11.59752,5.0892906,12.120065,12.152364,11.428153,12.382631,11.475973,12.121269,12.233425,11.127052,12.422299,12.093415,11.715444,11.9024315,11.651888,12.107097,11.943592,10.891795,11.282979,12.019025,12.17821,12.065841,12.16859,12.380534,11.85154,12.476408,11.472871,11.998369,11.574084,12.36928,12.429569,12.047386,12.30437,12.377949,11.946814,12.285567,11.206298,11.206871,11.931378,11.88857,11.934813,12.119764,12.241498,12.102673,11.5336685,12.018701,11.931779,11.85478,11.876915,11.831957,12.337778,11.007816,11.9729805,12.069765,12.28432,12.128859,11.824204,11.912417,10.7060175,12.199334,12.146566,11.894089,11.495781,11.821246,11.836592,12.418211,11.805238,11.962387,12.263792,11.77004,11.80686,11.66391,11.527902,11.905142,12.129697,11.050085,12.096344,11.772613,10.7805395,12.072871,12.159407,12.5780115,11.527273,11.830665,11.520199,11.423043,11.558485,12.142474,11.654861,12.169291,12.220631,12.426003,11.721595,12.067312,11.375768,12.115125,11.763912,12.011117,11.962445,12.067958,12.4005995,12.366889,11.860854,11.373296,11.759361,11.81958,11.580206,12.202294,11.922463,11.833907,11.914076,12.421629,12.047192,11.13864,11.497546,12.180584,12.157975,11.538704,12.256727,12.097609,11.891062,12.489901,11.595671,11.571226,12.496282,10.797524,12.12995,12.077991,12.126529,12.003006,11.472633,11.613705,11.5491495,12.11655,11.9888315,11.580168,12.324566,11.901676,11.829811,12.017842,12.22645,12.455168,12.078576,11.648432,11.873647,12.516219,12.524365,11.598425,12.2785635,11.94723,11.814268,12.096812,12.394276,11.590181,12.372284,12.046125,12.229944,12.093331,11.857287,11.799695,11.819937,11.763629,12.296956,12.308114,11.92723,11.8566065,11.584607,11.793846,11.121345,11.8476515,11.979213,11.213775,11.741511,11.7406645,12.27054,11.858072,11.940146,12.063865,12.079354,12.255605,11.446031,11.852442,12.031135,11.845339,11.156945,11.914199,12.00621,11.85464,11.022224,11.990168,12.192282,12.03908,12.033206,12.047385,11.145926,12.166414,12.122584,11.901775,10.78258,12.150508,11.86909,12.072249,12.188501,11.201063,11.769517,11.665839,11.157262,12.073184,12.141973,11.61086,11.932778,12.108565,12.206987,11.946521,12.055907,12.362953,11.197073,12.119587,12.1125965,12.31225,10.994762,11.910156,12.316664,12.044643,11.804013,12.265801,11.408389,12.288427,11.549527,12.338787,12.109598,12.575174,12.004246,11.9541645,11.64585,12.560982,11.4879875,11.7653265,11.149246,11.506022,12.444947,12.11769,12.087732,11.115694,11.825312,11.389285,12.2794485,12.086599,12.069138,12.147481,12.034118,12.061808,11.888503,12.204984,12.453496,12.04881,10.988939,11.925066,12.397424,12.014082,10.659597,12.149229,11.989004,11.633082,11.925796,12.155721,11.8543215,12.37711,11.952354,11.933279,12.149696,12.310991,10.889971,11.830586,11.75905,11.991961,12.051325,12.199496,12.349788,12.329546,10.9452,11.974747,11.695788,10.990134,11.822726,12.231084,12.231183,11.5555105,11.54152,11.818067,11.713881,12.006453,11.604052,12.14534,10.898541,5.268451,11.700808,12.137427,11.871621,11.231426,11.131673,12.0790415,12.018728,12.116298,12.042215,12.449401,11.759205,5.263225,11.342398,12.074257,12.0899,11.032444,11.880831,11.486886,11.888604,12.017058,12.037564,11.904341,10.636797,12.29905,11.6695175,12.09601,11.147429,12.236752,12.027865,11.90538,11.815068,11.870792,11.903993,12.089843,11.711311],\"xaxis\":\"x\",\"y\":[-2.4642706,-1.5214853,-2.835622,-1.7980009,-2.323827,-2.2106853,-1.9104252,-2.3164823,-3.044009,-3.2190635,-3.3902087,-1.1948748,-1.6119624,-2.1060164,-3.1291304,-2.6229346,-3.4553974,-2.4001002,-1.6576669,-2.1744688,-2.1328487,-2.6879725,-2.5208325,-1.6387074,-1.5519145,-1.6764185,-1.7376486,-0.96540266,-3.0979955,-3.2806656,-3.4376585,-3.4583027,-2.4977624,-2.1766527,-1.1832615,-1.3152446,-2.410924,-1.6499265,-1.6313175,-2.8149924,-1.5248603,-3.109003,-2.9896848,-2.0930605,-3.518523,-3.0947678,-1.8303828,-2.7577717,-1.4524215,-3.3798807,-2.2721322,-2.173097,-2.1465638,-2.3001587,-3.0392792,-2.1414492,-0.7700246,-3.426065,-2.363525,-1.5092635,-2.5297644,-2.0936427,-1.8397175,-1.2866,-1.590157,-2.399991,-1.8702385,-1.6371922,-1.9914507,-1.9288405,-3.4120321,-2.2665005,-1.8071986,-3.5708253,-2.6870651,-2.0023615,-1.9992758,-1.9342097,-1.6727839,-1.0114027,-2.9785469,-1.9469284,-2.9986548,-2.4670599,-2.0600681,-1.6162053,-2.6288083,-2.8713095,-2.150435,-2.6948843,-1.648155,-1.5405642,-3.4180095,-0.88640726,-3.1138582,-2.6955004,-0.5796318,-2.8619936,-1.7865026,-2.2764606,-2.9618385,-3.1989202,-3.0183606,-2.2833436,-1.9844307,-2.1986213,-2.411168,-2.3299038,-1.6267313,-3.4242308,-2.0384545,-2.2350345,-2.3691597,-1.8378428,-2.6723022,-1.5895567,-3.1499054,-2.1324666,-3.4662251,-2.0302317,-2.428338,-3.4776833,-3.3003173,-2.746538,-3.3334548,-2.494299,-2.3269436,-2.2793624,-1.9168584,-3.1254416,-2.7442172,-2.435117,-1.7665696,-2.9869356,-2.2679017,-1.4367956,-1.8239789,-2.9161367,-1.4739008,-2.149142,-3.3557665,-3.5978985,-1.0993568,-2.1776693,-3.3602808,-3.5147557,-2.234113,-0.85955113,-2.1968396,-2.103532,-3.1029813,-1.8227166,0.3115017,-3.2879612,-2.8751998,-3.1060133,-2.7997046,-2.7198248,-3.502281,-1.1005161,-3.3899298,14.10126,-1.9454876,-3.335623,-1.7142696,-3.2448997,-1.6223527,-1.6091123,-2.1811328,-2.0870159,-3.376912,-2.5943215,-1.1472683,-1.3742754,-1.7010769,-1.5801312,-3.2782915,-2.3839822,-3.0454183,-1.637102,-3.3355532,-2.2637603,-3.285804,-3.5147977,-0.98507786,-3.403583,-1.9102914,-2.7334843,-2.8712215,-3.5652025,-3.4195848,-1.8935535,-3.2341864,-3.4052374,-0.8286503,-3.3756223,-2.2548726,-2.471771,-1.3915788,-2.1105788,-3.412662,-2.183403,-3.2118125,-2.8074102,-1.1326319,-2.6102784,-1.4790579,-2.860511,-2.5977979,-2.788262,-2.5572734,-1.7447338,-1.6832283,-3.5554793,-2.5153747,-3.1193717,-3.5562074,-3.5758016,-2.3309479,-2.1284487,-2.259034,-2.4579692,-1.5854063,-3.582643,-0.5562336,-2.6262136,-3.5204039,-3.560269,-2.7817225,-3.0172203,-2.91604,-1.8752595,-1.0852997,-3.3982885,-2.738945,-2.58773,-1.8257668,-1.9751738,-2.8434672,-2.039448,-1.7588555,-2.7602901,-2.5685422,-2.0371413,-1.137007,-1.7335318,-2.9826572,-1.7131389,-1.2331811,-3.0420098,-3.5120378,-2.92813,-1.9522239,-2.969392,-2.4146967,-3.1383576,-1.9847846,-3.1682804,-2.2137845,-3.1466415,-3.5040548,-3.1751928,-1.1384851,-1.8904872,-1.8191029,-2.5826874,-1.3550298,-3.3476598,-3.188675,-1.6152245,-1.1022092,-2.4330459,-2.59369,-1.8428535,-1.1666641,-1.9792372,-3.1809788,-1.886083,-3.2846117,-1.736044,-1.3418326,-3.2917876,-2.5619936,-1.528853,-2.864296,-2.3699849,-0.51161826,-2.9983182,-2.9443264,-2.3521342,-2.9362109,-2.835387,-2.97026,-3.4689815,-2.7699199,-1.4669913,-3.0856843,-2.9164438,-3.468613,-2.5063756,-2.821865,-3.0749314,-2.7566292,-2.5815728,-3.432138,-2.6880631,-3.0849526,-2.9757895,-3.3157606,-2.9322648,-0.74099475,-1.5290978,-3.5309436,-1.3967645,-3.5452564,-2.8913279,-2.0179756,-2.9006653,-3.6020098,-3.5532835,-1.2781311,-2.4162326,-3.3118577,-3.4019856,-1.2413071,-3.5319662,-1.38165,-2.9785776,-1.6364566,-2.0252233,-0.7611921,-2.3892756,-1.8419101,-2.4263968,-3.3335745,-3.445463,-2.7777283,-2.0463595,-2.1531613,-3.5298643,-2.9660757,-1.9005442,-3.01779,-2.3554885,-1.6874659,-1.0100278,-2.0890245,-2.9368515,-2.4919386,-1.1847616,-2.5304558,-2.554832,-1.3299875,-2.034269,-2.4118621,-2.0152888,-2.4277544,-2.0423205,-2.187974,-3.2470243,-1.8910234,-2.5000641,-2.227234,-1.5221828,-3.4987366,-3.4539847,-2.351089,-3.548997,-2.2664683,-2.9591148,-0.91142607,-2.3440218,-2.3663623,-1.450621,-2.3066041,-3.30806,-1.6903856,-2.442416,-2.2819517,-3.4476824,-2.4264405,-1.031666,-3.175056,-1.7747773,-1.773424,-3.2047558,-2.0220273,-3.501113,-3.0910444,-3.4542658,-2.163794,-2.755203,-1.6790634,-1.4259485,-1.8363008,-2.7667139,-1.7059747,-2.6049485,-1.5548091,-1.5476018,-2.5625148,-3.1116545,-2.9101691,-2.8368573,-3.506763,-1.4672853,-3.3904896,-1.6067818,-3.0114565,-2.2962677,-3.224061,-2.3675616,-2.3243487,-3.3952343,-2.865434,-1.44645,-1.7702767,-2.1902058,-3.530402,-1.6184442,-2.421157,-1.7108845,-1.16308,-1.91609,-3.0455613,-2.0562704,-1.5331341,-3.3135705,-1.3222363,-3.5033727,-2.5217218,-3.1188672,-2.5678425,-2.6868572,-2.2332098,-0.18955907,-3.0620914,-2.28545,-3.3571265,-3.3946106,-1.7550546,-2.1947665,-0.37823015,-2.1499507,-3.571795,-3.2568698,-3.3584156,-1.6649452,-1.6191512,-3.103888,-0.8538912,-3.2141562,-2.111906,-2.8440473,-2.469759,14.03744,-1.8036083,-2.6249123,-2.9288988,-2.503519,-1.6539971,-3.3766797,-2.8845692,-1.7631459,-2.3032908,-2.788147,-3.5154126,13.966941,-2.2239726,-2.112038,-2.1164172,-1.6767105,-1.95582,-1.6379855,-3.560258,-2.6228402,-1.4878457,-3.596178,-2.4046643,-3.3832881,-3.4606676,-3.0902233,-2.2730103,-2.0729854,-1.2730918,-2.8535976,-3.5489275,-1.4700356,-1.4870032,-1.810622,-1.8543543],\"yaxis\":\"y\",\"type\":\"scattergl\"},{\"hovertemplate\":\"leiden=6\\u003cbr\\u003eUMAP-1=%{x}\\u003cbr\\u003eUMAP-2=%{y}\\u003cextra\\u003e\\u003c\\u002fextra\\u003e\",\"legendgroup\":\"6\",\"marker\":{\"color\":\"#B68100\",\"opacity\":1,\"size\":1.6289981637290938,\"symbol\":\"circle\"},\"mode\":\"markers\",\"name\":\"6\",\"showlegend\":false,\"x\":[-3.6849604,-3.4890556,-3.7525806,-3.8735814,-3.4265902,-3.548804,-3.687058,-3.0384502,-3.6885848,-3.7443757,-3.8472016,-2.8626118,-4.296655,-3.0011287,-2.8988209,-3.3927987,-2.9869041,-3.0235734,-3.8925686,-3.2552793,-3.1637619,-4.0307665,-3.0227237,-2.5402496,-2.9852805,-3.4496956,-3.3221853,-3.773496,-3.2329607,-3.898062,-3.272961,-3.531329,-4.2225747,-3.1374881,-3.876009,-3.721238,-3.6858802,-3.422377,-3.243648,-3.9159684,-4.3020525,-3.5253065,-4.2789483,-3.0779965,-3.7898245,-3.9686313,-3.580782,-4.042826,-3.4494784,-3.4676015,-3.5959754,-3.5660942,-3.8995705,-3.8048706,-3.4517791,-3.1669557,-3.9387217,-3.0069182,-3.3087385,-3.8508759,-3.9175243,-4.0237217,-3.4164834,-3.6941836,-3.8213732,-4.12508,-3.2844462,-3.891042,-4.2841296,-3.9086194,-4.039099,-3.3577018,-3.6134489,-3.904891,-4.278077,-3.8544507,-3.5476623,-4.190441,-3.510275,-3.3085344,-3.714112,-3.6554804,-3.1884398,-3.140241,-4.2063265,-4.016887,-4.340183,-4.291653,-4.3153453,-3.2265267,-3.12048,-3.2977638,-3.4156613,-3.120174,-4.0664897,-3.5783784,-3.8071172,-4.1156273,-3.4488738,-2.998711,-3.5731905,-3.8499413,-2.7529094,-3.265663,-3.4061334,-3.2064476,-3.219336,-3.5188234,-3.7099462,-3.2708218,-4.013036,-3.995376,-3.4158876,-3.5618978,-3.432471,-4.1899276,-4.0055666,-3.980073,-3.3148975,-3.2324522,-3.6059582,-3.5627806,-3.620614,-3.0513284,-3.7924252,-3.0612292,-4.316593,-3.8437543,-3.7354686,-3.879941,-3.7331014,-4.1411386,-3.827876,-3.3896303,-3.9888346,-2.8820813,-3.0573616,-3.1469135,-3.6041145,-3.7818909,-3.476896,-3.6518404,-4.2376857,-3.6308484,-3.8867478,-3.8746686,-4.230336,-2.8262925,-3.6358793,-4.338865,-3.7169719,-3.9085145,-3.4267914,-3.275512,-3.701036,-3.461891,-3.306639,-3.7265499,-3.2046998,-3.7578192,-4.001181,-3.9242373,-3.5126646,-3.7786546,-3.9776685,-4.305086,-3.3197381,-3.876898,-2.788133,-3.4239323,-4.309551,-3.6667192,-3.2024188,-3.7590466,-3.83681,-4.0656915,-3.7215657,-4.0549617,-2.830678,-3.4442687,-3.9107788,-3.6966534,-2.8183336,-2.7918842,-3.629693,-3.4395149,-3.325553,-3.698761,-3.3210592,-3.0630186,-2.9732738,-3.6236563,-3.6706834,-3.7396746,-3.2659018,-3.631255,-4.069608,-3.816702,-3.72909,-3.773667,-3.7618856,-3.6272776,-3.5365787,-3.572813,-3.4929798,-3.889548,-3.2033868,-3.1866207,-3.1730607,-3.3551862,-3.7942226,-3.575364,-3.7973175,-3.5242314,-4.2753344,-3.2433438,-4.282878,-3.7537284,-3.2019575,-4.2179785,-3.3638992,-2.9339433,-3.3958845,-3.7960026,-3.4870412,-3.748533,-3.924274,-3.807383,-4.2744327,-4.3030043,-3.956898,-3.1650145,-3.9910305,-3.2389076,-3.791102,-3.996355,-3.2512808,-3.4414463,-3.65243,-3.4301624,-3.3396409,-4.2892838,-4.009513,-3.9320958,-2.8938756,-3.5148137,-3.751463,-3.6976335,-3.2393184,-3.0777872,-4.1553826,-3.3713732,-3.8074667,-3.6867256,-3.7752435,-3.6856706,-3.0551243,-2.73269,-4.5642543,-4.334508,-3.1248422,-3.658909,-3.6752834,-3.055309,-3.8664331,-4.2722187,-3.4313252,-3.8104799,-4.0047674,-3.8993447,-2.9728875,-3.8956969,-3.8908813,-3.94113,-3.6123118,-2.770039,-3.9328773,-3.9478495,-3.7900429,-3.3574,-3.2229254,-3.9894965,-4.095582,-3.30991,-3.19814,-3.8784695,-4.034832,-4.4208627,-4.280598,-2.7905312,-3.3798969,-3.9467301,-3.8110056,-3.2215524,-3.649535,-4.0060883,-3.3181267,-4.286879,-3.46875,-3.155733,-3.5596023,-3.188153,-3.6699562,-3.4007807,-3.713337,-4.060429,-3.8608904,-3.4276726,-4.1504455,-3.221881,-3.3703167,-3.7006352,-3.6581733,-3.9770145,-3.197697,-3.9954467,-4.2933965,-2.8422744,-4.0226936,-3.6261234,-3.0500963,-3.6505187,-4.102864,-3.4413342,-4.0968804,-3.0719917,-4.2222147,-4.320928,-4.043052,-4.560612,-3.776538,-3.4772518,-3.1826863,-3.5612814,-4.179263,-4.1075945,-4.1230073,-3.4550087,-3.4067082,-2.7931318,-3.3223205,-3.4200692,-3.778186,-3.7420661,-3.2944937,-3.8341706,-3.1720855,-3.9154143,-3.5639293,-3.8584769,-3.414009,-3.6946418,-3.8184965,-4.1741977,-3.9188561,-2.945013,-4.350014,-3.255352,-2.8496914,-3.079809,-3.8891954,-4.137931,-3.8771074,-3.8274739,-2.7957509,-3.643701,-3.0092201,-3.4721205,-3.7797463,-4.363865,-3.412928,-3.9960036,-4.2906365,-3.8413115,-3.7293673,-4.191418,-3.140971,-3.5206323,-4.003397,-4.090885,-4.0772386,-4.2836394,-3.9367592,-3.49909,-3.401157,-4.0800095,-3.693727,-3.031376,-3.1873724,-3.4835029,-3.7195265,-3.56113,-3.044565,-4.341115,-4.0072684,-3.6597383,-3.6314037,-3.191237,-3.852634,-3.2101111,-3.628122,-4.17773,-4.1842046,-3.7199502,-3.552102,-4.275994,-3.5798297,-3.7224004,-2.8095334,-3.8904383,-4.0731883,-3.6299355,-3.3815975,-3.2568758,-3.64382,-3.359186,-3.4730465,-3.9251862,-3.694292,-4.3364687,-2.995663,-4.122555,-4.250308,-2.7418108,-3.9789183,-3.1014607,-4.1571245,-3.0731356,-3.9874191,-3.22715,-3.6249814,-3.1647701,-3.5895278,-3.8383477,-4.2595453,-3.205586,-3.3459814,-3.6159317,-3.679744,-3.5660772,-3.5164812,-3.6004694,-4.415551,-3.7525942,-2.7386081,-4.5557375,-3.1553686,-3.962352,-3.147324,-3.9775894,-4.2390947,-3.6146035,-3.9405,-3.78282,-3.4317744,-4.2997794,-3.4423192,-4.573499,-3.953386,-4.073024,-3.7935145,-3.660223,-3.582169,-2.952332,-3.9350035,-3.5574822,-3.3669603,-3.6120224,-2.9463506,-3.8860676,-3.8580668,-3.7587283],\"xaxis\":\"x\",\"y\":[10.354479,9.085617,9.373448,9.614544,10.056695,10.134929,8.838918,11.072498,9.612282,8.928169,10.21331,10.755317,10.818435,10.967684,10.432217,9.541317,10.824765,10.979393,10.183111,11.122138,10.89652,10.873553,10.804648,7.6478834,10.860574,10.074015,9.975294,10.160019,9.962444,10.653873,11.091353,9.522063,10.931489,10.253284,10.260972,11.233351,10.342716,9.970557,10.994304,9.441929,10.560635,9.868799,10.786342,10.845066,10.379426,10.559794,11.264964,10.78439,10.210432,10.470515,11.048209,9.013548,9.724632,10.6020565,9.369492,10.922148,11.213243,10.871888,11.185443,9.744456,11.326841,10.850346,9.585203,11.034244,10.225716,9.975137,9.937217,11.3349085,11.077691,11.210995,10.583345,9.8196535,9.228586,9.762292,10.571668,10.010622,9.059177,10.659062,9.594547,9.768152,9.518713,11.083247,10.646755,9.867401,10.703658,11.334438,10.941292,10.792834,10.956652,11.041042,9.81479,9.826859,11.241744,10.159926,10.994591,8.831899,10.428946,10.929109,9.772322,10.962896,10.434286,9.997851,10.686633,9.2082405,10.680382,9.778054,8.974932,9.964803,9.211711,8.802215,9.394147,10.875472,9.528813,9.8538065,11.022965,11.002992,10.945973,10.276288,9.184294,8.962474,10.066725,10.378124,10.852496,10.94801,10.790009,10.629685,10.104112,10.562583,9.790306,10.113238,10.102984,11.142892,9.282294,9.916884,9.893778,10.843873,9.687269,10.896622,10.666889,10.985759,10.061591,10.99908,11.215258,10.342251,10.852919,10.601643,10.001867,9.337921,9.052528,10.093193,9.418154,10.434669,9.78198,9.71959,8.716878,10.9802065,9.968133,10.443564,9.388436,10.059975,11.327071,11.155493,11.17564,9.206561,10.922901,11.117363,9.3737955,10.197079,10.914781,10.023425,10.639784,10.881628,10.620848,11.145729,10.764233,9.966696,9.918196,9.946309,10.9009285,10.175649,8.906406,9.208134,10.921573,10.912545,8.901715,10.851634,9.871362,10.159324,9.80181,10.913121,10.777183,9.085472,10.149835,11.149693,9.654057,11.231366,9.614193,10.594214,10.360119,9.876157,11.212008,9.062717,10.961577,10.988371,10.431756,10.031286,11.037329,10.868922,11.141286,10.606729,9.230294,8.996945,9.156857,11.059364,10.056394,9.532225,10.908069,10.295726,10.672553,10.883491,9.741189,10.823843,10.963038,11.298033,10.400772,11.050343,10.315435,9.756861,10.791656,10.043163,10.328337,3.6432602,10.964398,10.701211,8.714353,9.685837,9.543646,10.995859,9.855329,11.230017,9.511749,10.769914,9.626544,9.907262,10.877171,10.12622,10.692389,9.22975,9.482105,10.67693,10.982706,9.193072,8.676988,9.536778,8.7548275,10.152865,9.777752,10.270296,10.423933,10.842804,10.788453,10.13462,10.763186,9.910374,10.5348,11.101845,10.137282,9.070121,9.81235,10.6135,9.260061,9.516448,9.923087,10.378077,9.274246,10.969853,11.29599,8.887993,10.66816,10.590712,9.696962,11.272164,10.93622,9.581752,9.786913,9.972728,10.074337,10.267012,11.158049,10.711509,9.229383,9.147515,10.461894,9.291318,11.215706,10.797959,9.833904,10.165398,10.231254,10.927764,10.711989,9.93699,10.387849,9.318957,9.187507,9.530836,10.71616,11.079972,10.6273155,11.0514965,10.106833,10.121643,11.009368,10.456412,9.77709,11.22888,10.856,10.983012,10.92778,10.078012,9.452699,10.919539,11.272385,11.244479,10.132989,10.935092,11.085996,11.120021,11.272187,10.446352,11.084532,10.01572,10.186273,10.939643,11.243834,11.223587,10.086188,10.254807,10.021931,10.112453,9.891493,9.653855,10.445003,9.146903,10.001941,9.890628,10.697428,9.99403,9.901092,8.961209,9.3972025,9.362882,9.854631,10.935821,9.674064,10.638036,10.812759,10.612283,10.662539,11.079771,9.868476,10.902949,10.686814,10.238217,10.961183,10.094898,10.118722,10.0732565,9.99378,10.565262,9.113822,10.805323,11.047773,9.429511,9.294752,10.864242,10.286524,10.007933,9.994331,10.611224,10.96321,11.171703,10.86503,11.174009,10.723338,11.197468,9.134632,9.673449,9.654997,9.515386,11.152545,10.278563,10.695561,10.83079,10.87266,10.413366,10.970209,10.877916,11.094344,11.046831,10.972103,11.040298,9.964787,10.000623,9.644338,10.723457,11.249937,8.921351,9.76327,10.06135,10.999657,10.893777,11.194524,10.394385,9.310665,10.018563,10.157453,10.840722,10.721924,10.343031,10.86186,10.9459305,11.208319,10.811559,10.763448,9.745617,9.986909,10.893899,10.140643,10.03976,10.358475,9.792816,10.337822,9.416835,10.867825,11.022721,10.633173,9.260558,9.982473,10.479071,11.120089,10.851856,10.513363,8.873259,10.872629,10.399735,10.283096,10.302084,9.005051,9.848796,10.651684,9.103253,11.123154,9.127411,10.344651,11.133195,10.10053,10.4444,11.132089,10.072194,10.662484,10.711378,11.291441,10.855331,9.952341,10.165345,9.896797,11.183305,11.008735,10.810651,10.914425,9.503124],\"yaxis\":\"y\",\"type\":\"scattergl\"},{\"hovertemplate\":\"leiden=7\\u003cbr\\u003eUMAP-1=%{x}\\u003cbr\\u003eUMAP-2=%{y}\\u003cextra\\u003e\\u003c\\u002fextra\\u003e\",\"legendgroup\":\"7\",\"marker\":{\"color\":\"#750D86\",\"opacity\":1,\"size\":1.6289981637290938,\"symbol\":\"circle\"},\"mode\":\"markers\",\"name\":\"7\",\"showlegend\":false,\"x\":[13.310437,13.170755,13.328499,13.939972,13.3724165,14.352666,13.246786,14.363016,11.946553,13.479804,13.927402,13.944343,13.512812,12.796504,13.854584,13.7058735,13.28266,13.532402,14.035215,12.374366,13.174327,13.887982,12.712333,12.992654,13.400608,13.543502,14.1386595,13.56571,14.038013,14.339063,13.09547,12.988164,13.421476,13.681021,13.838121,12.278475,13.02753,13.22135,13.964067,13.842154,13.367258,12.765071,13.100444,13.7570095,13.400608,14.339031,13.607419,12.694719,13.761481,14.037832,13.343837,13.0726,13.323415,13.51629,13.824878,13.153943,13.100923,13.330566,14.197975,14.249423,13.182111,13.379839,13.409701,13.759985,13.142627,13.6249695,13.325596,13.988817,13.603314,13.477732,12.9981985,13.46098,14.110255,14.148531,13.853039,13.81603,13.187799,14.33966,13.4713335,13.515834,13.738225,13.96904,13.964849,13.988753,13.371839,13.925633,13.9376135,13.742401,12.63528,13.642383,12.874437,13.419848,13.576486,13.607004,14.340124,12.282454,14.401846,13.318962,13.203733,13.49717,14.190858,13.277536,13.785874,14.327913,13.04219,13.281728,14.179948,14.060356,13.902257,13.224321,13.400872,13.351273,14.322612,13.363353,14.484054,13.571565,12.607828,14.371915,13.673104,13.473137,14.257377,13.037499,14.291294,13.54891,13.068289,14.214555,13.7479,14.051189,14.329867,14.0997925,13.292628,13.280494,13.202643,13.687733,14.356056,13.365247,14.395604,13.75728,13.172061,13.626003,13.89376,13.165124,14.286091,14.21468,14.38982,14.06292,14.110436,13.70726,14.130962,13.69795,13.568947,14.121909,13.234659,13.027618,14.11841,12.785665,13.209747,14.39375,12.487385,13.22651,13.274645,13.245854,13.663712,12.782464,14.156003,13.044243,12.958377,13.563444,13.329922,12.96399,13.441402,14.117883,13.61872,13.93514,13.6099825,13.359579,12.045837,14.06984,12.602632,12.33701,13.420065,14.1360655,14.342483,13.631833,13.105084,12.930482,14.266324,12.557098,14.0911,12.667432,13.564098,13.992732,13.012692,14.40152,14.117462,14.39608,13.913049,13.258138,14.35162,12.802921,13.360743,13.170145,14.293869,14.237317,12.793553,12.92595,13.312905,13.158703,13.103043,14.385275,13.186416,12.350993,14.247709,13.751432,14.378603,14.398755,14.384386,13.457274,13.771259,13.574435,14.345628,14.397119,13.613754,12.972861,13.961253,13.531158,14.053187,12.60159,12.40382,14.068439,14.163152,12.457445,12.983932,14.37454,13.011992,13.141204,13.409446,12.923823,13.636834,13.167924,12.577185,13.2547245,14.14425,13.37995,12.604744,12.988308,13.24661,13.986437,13.107771,12.811376,13.071633,13.607037,14.119919,13.789462,13.885411,14.195529,13.045243,13.903259,13.341498,12.598553,13.554786,13.952822,13.944726,12.712493,13.060969,13.672652,13.299719,13.002379,13.200092,14.298471,14.220102,13.845117,13.112206,13.911578,13.695235,14.386999,13.2529,13.634344,14.383836,13.851474,13.531805,13.228236,13.257205,13.345246,13.445693,14.193513,14.054798,13.161404,13.46239,13.3354,14.051322,13.94766,12.829012,14.185995,14.080493,12.683043,13.543627,14.140408,14.333629,13.633185,13.341558,13.238582,13.847568,14.182732,13.747708,13.523443,13.287793,13.58117,12.873001,14.328594,14.344532,13.581241,13.37892,12.517542,12.972857,13.054019,13.992048,12.052699,13.37528,13.551446,13.636778,13.297077,13.755568,12.518672,12.735381,13.680088,13.392913,12.934292,13.512086,13.229667,13.357422,12.760004,13.19117,14.209053,14.183757,13.236661,13.306098,13.247846,13.7587385,13.265765,14.2176,14.020605,14.216342,13.28507,14.378673,13.276305,13.363482,14.081413,14.280288,13.322792,13.645521,13.571043,14.351111,13.39953,13.34222,13.935566,13.135049,13.240957,13.475088,13.735132,13.572116,12.926295],\"xaxis\":\"x\",\"y\":[2.883495,4.2693386,6.063287,4.2646475,4.7609525,4.744804,4.2187777,4.7907934,1.3393165,6.162538,5.53697,4.4321833,6.209045,6.6798573,5.0622377,5.8298564,2.6199296,6.3037176,5.723357,6.0439386,3.878783,4.188067,6.215025,6.040862,5.7714343,6.268211,6.434731,4.8276997,4.58747,5.422258,4.5190763,6.541391,5.958571,4.298176,4.332064,5.484251,4.2566257,2.381645,6.4813175,4.5019827,5.223241,5.08416,4.4415402,3.7125673,2.8564065,4.727546,6.1086116,4.0538917,3.9022114,4.5851555,2.68557,1.8650582,2.834552,3.2650392,4.6296244,1.9991335,4.692215,1.5126898,4.735428,6.499694,3.0024567,6.189251,2.823689,5.575382,4.670939,4.377998,6.0871825,4.315218,5.970786,3.2782724,5.6602907,4.3778863,4.5180025,5.941078,6.0639997,6.493,2.390983,4.6538153,3.371082,3.101066,6.759884,4.58181,4.696142,4.6908965,2.7852213,5.6454678,5.033795,5.3334193,3.3656006,7.0750237,5.5101757,2.9772809,3.1283906,6.0123544,5.8687987,6.0728865,6.262876,2.825772,4.3685017,4.1082015,4.5559607,5.465011,4.775992,4.770618,4.696662,4.3661346,4.586685,4.4077806,4.1884136,5.5186896,4.1349792,2.8092008,4.7530947,2.8724585,5.43862,3.2117262,5.4964204,4.766722,5.119736,5.963443,4.834564,2.2053492,6.1714163,5.5119824,2.2682714,6.4120255,5.7840815,4.4391294,6.016033,6.452312,4.8131137,4.9080095,4.310264,5.031818,4.6525717,3.0482829,5.822259,5.4086337,3.8298028,6.0979834,4.828906,4.643938,5.5746818,6.5343285,6.0723867,5.844429,4.5158634,5.1198707,5.8739014,5.035104,6.2235365,5.8378596,3.9329612,5.9875174,4.658576,2.2578897,2.465901,4.853871,5.915872,6.06135,6.276805,5.619696,3.6875799,2.320826,6.3154917,4.3951144,5.7448287,6.1006846,4.317331,4.390952,4.938983,4.4400535,5.487952,5.9776564,4.250454,6.1019983,6.3266807,6.581324,2.3452747,6.376246,5.8435197,6.410649,4.7302575,5.1168103,5.7844715,4.5320086,4.6245418,4.1587563,5.080915,3.7632813,3.5199745,5.63253,2.2025054,5.2822766,5.4769845,4.757847,4.2872376,6.643863,4.792058,2.212625,4.4805827,2.5444639,4.697792,6.151609,5.2624397,4.7326713,5.0396414,2.3284523,2.375936,4.737505,3.9540634,5.767089,4.563297,6.311183,4.78688,5.38439,4.7261963,3.7608447,5.039725,3.8882353,4.672917,4.8774996,3.5248997,4.690877,4.50261,6.182847,6.5148273,2.1655495,5.61616,4.4359365,5.8197575,5.541388,2.035687,6.0687747,2.326163,4.88645,3.8019,2.2156725,5.927856,5.9382715,2.0921354,4.1417036,5.99964,3.9518661,5.8162684,4.453948,1.7127582,5.6864142,4.835439,2.1632698,4.710523,6.149021,6.379422,5.390105,4.6310263,6.424811,5.5203714,5.6990037,3.0337589,2.2212586,4.598425,5.062708,6.382499,5.4792485,2.3313684,6.1709294,4.3209233,2.4994628,4.636757,6.210661,4.7073274,4.9369454,3.2658727,4.160211,5.1206408,4.7640157,2.4208896,3.8450341,4.729869,4.5404387,5.9770656,6.1090584,3.0173457,2.9372227,3.640118,5.9210806,4.3893795,4.6699314,2.901957,2.7352185,4.6526036,4.4588923,5.7928987,6.251455,5.8248906,5.685528,2.9203389,6.511783,6.5101357,6.2293177,6.350694,4.8120937,4.419669,6.018901,5.49919,5.327789,6.464666,5.035402,4.46087,6.1545877,6.107387,5.059562,3.704434,6.322837,2.4709058,4.6292057,5.846306,6.1920176,2.8498905,5.967452,4.337138,2.6456752,6.038484,6.24124,6.039552,6.509294,6.3551493,5.4200635,6.2553315,2.3212595,6.326574,2.2152412,6.0952563,6.4946704,5.9565587,2.614451,5.5987906,4.664215,5.1492295,4.095232,4.5892715,6.572716,6.481275,1.6134851,4.8113475,5.6184487,2.837173,4.947462,6.5492973,2.8216684,4.2479606,6.470036,4.78713,3.062538,4.9384995,4.726543,5.8587713,4.683357,3.826018,3.8288677,4.1266174,2.151979],\"yaxis\":\"y\",\"type\":\"scattergl\"},{\"hovertemplate\":\"leiden=8\\u003cbr\\u003eUMAP-1=%{x}\\u003cbr\\u003eUMAP-2=%{y}\\u003cextra\\u003e\\u003c\\u002fextra\\u003e\",\"legendgroup\":\"8\",\"marker\":{\"color\":\"#EB663B\",\"opacity\":1,\"size\":1.6289981637290938,\"symbol\":\"circle\"},\"mode\":\"markers\",\"name\":\"8\",\"showlegend\":false,\"x\":[5.187787,4.7322164,4.9689145,4.989206,4.7514424,4.8203726,5.0009856,5.3169246,4.893069,4.3162684,5.1679454,4.409937,4.3366213,5.246296,4.565772,5.6141105,5.7127695,5.2356386,4.2040133,4.975883,4.973467,4.6542373,4.969151,4.7368135,4.960563,4.56171,4.3345337,5.054975,4.9724383,5.142554,5.5566983,5.1531444,4.40705,5.1428313,5.2411222,4.551666,4.8188896,5.4183664,4.7650523,5.175051,5.2283416,4.2793684,4.3530827,5.7327166,5.070612,4.250974,5.3107014,5.6206765,4.452501,4.3031197,4.9435854,4.480684,4.9695435,4.953707,4.189137,4.8446994,5.173313,5.3003054,4.1580935,5.168369,4.966801,5.298999,5.6022215,4.1886835,5.2329063,4.6182747,5.254327,4.91538,4.209369,4.7565446,4.2936196,4.959968,4.6316843,5.150797,5.1499467,4.55054,4.3124557,5.1562095,4.3838534,5.3937445,4.5856514,4.2915134,4.142445,4.3540397,5.0776963,5.0669494,4.9017715,5.2705374,4.974935,4.155076,4.969972,5.2297206,5.30379,5.644557,5.073887,4.136471,4.654612,4.390136,4.9245334,5.274453,4.9655347,4.1883764,4.3085623,4.507952,4.2996116,5.5468907,4.635869,5.1720243,5.2542515,4.241971,5.099064,4.8226876,5.216962,5.2379346,4.279463,4.983388,4.31003,5.2725477,4.656302,5.17924,5.295177,4.436342,4.1327043,4.8071527,4.4481773,4.9671702,5.2127194,4.291918,4.4400773,4.2054324,5.136208,4.364413,4.535033,4.8850694,4.840367,4.8825803,5.618188,4.426391,4.4025064,4.9478707,4.3054194,4.4955335,4.9087505,5.107217,5.207035,4.5319314,5.2744126,4.919122,5.273606,4.4431224,5.284643,4.1760015,5.628261,5.1187277,4.2416224,4.4992967,4.2524896,4.9440193,4.2776046,4.2169433,4.782569,5.227071,4.854247,5.273303,5.591128,4.5954556,5.586858,5.258526,5.7046757,4.4133086,4.188027,4.3974667,4.407386,5.0043087,5.238116,4.3928328,4.5106115,4.769094,4.91252,4.9639497,4.3273973,4.379711,4.2362094,5.062574,4.1850805,4.620766,4.8422747,4.39507,5.2232823,4.3450155,4.5359716,4.9777265,4.99206,5.171152,4.9558296,4.5995164,5.008263,4.9750657,5.281432,5.2959795,4.226922,4.5573034,4.59396,4.7307315,4.347851,4.5687547,4.548081,4.939329,5.0018883,5.594964,4.4463563,4.496917,4.3217974,4.2076497,4.596365,5.1678224,5.254579,5.286192,5.0556116,4.4077754,4.362573,5.615608,4.488426,4.7592564,4.4938674,4.1602902,4.956873,4.602691,4.9750056,4.5409875,5.1107955,4.166433,5.093769,4.4091916,4.7604256,5.122089,4.61828,4.702036,4.961701,2.4631183,5.6293902,5.306931,4.96664,4.9987273,5.1321826,4.3563223,4.2153826,4.5008917,4.512799,4.6389694,5.0840516,4.283712,4.253786,4.978154,5.285044,2.4277759,5.1569643,4.2756987,4.210377,4.428969,4.952023,4.1900673,5.175935,4.271768,5.261004,4.5226793,4.46819,4.614035,4.9948654,4.1283555,5.0496097,4.9742217,4.3851776,5.087949,5.2784724,4.792297,4.1698303,4.2319274,5.2307596,4.9509897,4.51799,4.2896204,4.831921,4.491438,4.8950915,4.1755733,4.539045,4.2785354,4.137285,4.176415,5.071483,4.130432,4.706367,4.563688,4.4057255,5.5724454,5.015758,4.84326,5.261377,4.1424913,4.5162673,4.273092,4.964327,4.614073,4.8876796,5.4361744,5.021371,5.0977263,4.620712,4.3275785,5.148934,5.1293707,5.2366667,4.1514153,4.1290693,5.007284,4.568398,4.1753125,4.5683894,4.368516,4.2044497,4.5827007,4.97466,4.1695867,4.3354425,4.1245694,4.203321,5.6326427,5.2325416,5.579606,4.280727,5.084573,4.963383],\"xaxis\":\"x\",\"y\":[13.57193,14.1058855,12.341546,13.265081,13.852758,13.348744,13.651298,13.624943,13.780007,13.87829,12.974224,14.534777,14.621145,13.023651,13.478238,13.824783,13.725211,13.016493,13.563464,12.415721,12.349341,14.317591,12.498701,13.385416,12.265335,14.0293865,13.687543,13.531854,12.345611,13.360734,13.725039,13.038538,13.548849,13.397956,13.518479,13.494773,13.674581,13.696947,13.712266,12.992854,13.044578,13.833816,13.6732645,13.74482,12.498874,13.890816,13.49193,13.72246,13.724226,13.660482,13.950526,13.8096695,12.263594,12.311673,15.030201,13.462918,13.300152,13.399872,15.058066,13.427026,12.216583,13.646576,13.646447,14.007956,13.143039,13.527121,13.328184,13.896806,14.048302,13.8263855,14.73149,12.294851,13.569481,13.539849,13.505766,13.664624,13.7985,12.860328,14.02425,13.664068,14.356392,13.827992,15.0868025,14.239234,12.557265,12.743988,13.3510275,13.063619,12.538405,15.071433,12.174462,13.330838,13.3729925,13.802129,12.71819,15.097502,13.606398,14.259504,13.5537,13.521691,12.197038,14.983631,13.7450485,13.333893,14.11728,13.712954,13.961308,13.088496,13.511022,13.981817,12.862768,13.922289,13.1031065,13.193033,13.852587,12.164667,13.647389,13.520612,13.558795,13.653221,13.37011,14.544153,15.105386,14.045713,13.892432,12.210961,13.045968,13.866925,13.7052,13.897582,13.053184,14.209011,13.66347,14.0139885,14.0427885,13.681429,13.693141,13.448641,13.705507,12.234629,13.998315,13.978288,13.273868,13.518591,13.3300705,14.206478,13.578009,13.96552,12.970094,13.511459,13.7137,15.007892,13.784623,12.762953,14.201757,13.551092,14.117608,12.278873,13.607144,14.113813,13.6290045,13.559747,13.437481,13.512827,13.684527,13.470179,13.7420225,13.465235,13.738553,13.597757,14.987953,14.1974535,14.597131,12.56449,12.957462,13.608877,14.437239,13.612629,13.9779215,13.509193,13.754472,14.495332,14.963273,13.471843,13.993903,13.562052,13.573789,14.569145,13.0662,13.735183,13.407947,13.230573,13.166706,13.243915,12.284219,13.970384,13.939819,12.146827,13.048194,13.389494,14.107811,13.580471,14.331964,13.863844,13.716688,13.3958845,13.605828,14.155227,13.636973,13.723011,14.524946,13.364008,14.081616,14.090824,13.445535,13.647979,13.817182,13.584945,12.3806925,14.499039,14.643903,13.760213,13.446293,13.594036,13.302446,15.066502,12.324943,13.652,12.365527,14.086605,13.390011,15.037588,12.723289,14.53708,13.468582,13.328883,13.614354,14.040654,12.248054,17.958046,13.735359,12.953292,12.471603,13.147755,13.479013,13.57418,14.0697565,14.330033,13.6504965,13.577927,13.302521,14.146403,14.097588,12.413631,13.056715,18.00888,13.052224,13.591855,14.283949,14.220542,12.395415,14.014808,13.316057,13.678113,13.727202,14.301002,14.337146,13.549501,12.352304,15.114803,13.166224,12.18032,13.501727,13.268799,13.103847,14.089996,13.968626,14.135625,13.364448,13.991167,14.094307,13.67234,13.378616,13.588324,13.350575,13.980065,14.294445,13.578039,15.096283,14.043806,13.312306,15.112015,13.455435,13.527383,14.252079,13.7272215,13.989091,14.010832,13.085292,15.081311,13.810157,14.760218,12.339886,14.342782,13.967206,13.699833,13.272071,13.363197,13.506831,14.144137,13.412297,12.82723,13.53722,15.0745945,15.112345,13.253401,13.627261,15.034217,13.453404,13.738757,14.119304,13.577368,13.375439,15.035085,14.660456,15.120217,14.111781,13.799302,13.077458,13.658257,14.1797085,13.621973,12.336661],\"yaxis\":\"y\",\"type\":\"scattergl\"},{\"hovertemplate\":\"leiden=9\\u003cbr\\u003eUMAP-1=%{x}\\u003cbr\\u003eUMAP-2=%{y}\\u003cextra\\u003e\\u003c\\u002fextra\\u003e\",\"legendgroup\":\"9\",\"marker\":{\"color\":\"#511CFB\",\"opacity\":1,\"size\":1.6289981637290938,\"symbol\":\"circle\"},\"mode\":\"markers\",\"name\":\"9\",\"showlegend\":false,\"x\":[15.410028,15.370724,15.414574,15.451842,13.974321,14.571329,15.161103,15.85222,15.745919,14.662596,15.652281,14.754624,14.823894,15.264135,15.556804,15.480801,15.521679,13.685139,15.80379,15.808833,14.14957,14.755197,14.108979,13.996497,15.254225,15.414039,15.012547,15.772899,15.49768,14.30121,14.869412,15.368228,15.814373,15.737222,15.767022,15.839013,14.505694,15.788738,14.801668,14.4682455,15.874122,15.739178,14.248975,15.415912,15.763035,14.722869,15.796616,14.473186,15.440189,14.653633,15.743759,15.485875,13.722722,15.477337,14.450978,15.504561,15.348496,15.560997,14.141892,15.101205,14.889562,15.221042,14.768805,14.77569,15.01125,14.429846,14.477005,14.512778,14.79034,15.193312,15.650248,15.24674,15.056552,15.528712,15.659788,15.58297,15.712934,15.731663,15.397116,14.305362,14.792696,15.696298,15.814302,15.440872,14.362984,15.280027,15.819001,13.788796,14.605212,15.62557,14.451472,15.414854,15.8092985,15.512483,14.30317,15.624433,14.39705,15.7946205,15.465912,15.4390545,14.227151,14.722926,15.864475,15.464366,14.271814,15.213939,14.463743,13.797568,15.685868,15.26519,15.20868,15.435167,14.756916,14.606852,14.658417,14.277213,15.7105055,15.794299,15.817152,14.762212,15.626933,15.474682,14.778294,14.247882,14.748343,15.230885,14.437615,15.656661,15.342433,15.053959,15.427594,15.35412,14.206623,15.63176,15.685825,15.282053,15.431963,15.726164,14.4695015,15.713255,14.524397,15.448784,15.427658,14.439248,15.142145,15.384818,14.523752,14.557047,15.158896,14.486449,15.799093,15.421366,15.434811,15.568906,14.5532875,14.470446,15.599851,15.81981,14.478281,15.244377,14.587716,15.823387,15.421055,14.491679,14.321671,15.655052,14.1988325,15.322831,15.433876,14.39297,14.392179,14.285156,15.825805,15.326255,14.492452,15.312246,14.899746,14.787981,14.67698,14.128532,14.59732,15.824581,15.330333,14.68913,15.832716,14.906955,15.867927,15.471039,15.324507,15.711092,14.59771,15.442674,14.252534,15.430207,15.161192,15.613763,15.09987,14.766211,15.3391905,14.542593,14.41013,14.559457,14.536285,14.60478,14.637753,14.396113,15.555502,15.252297,15.808093,14.295587,15.838013,14.774734,15.409461,14.61034,14.457887,14.425632,15.633769,15.667709,15.7855,15.33872,14.2587,14.034115,15.57962,15.361412,15.737531,15.341891,14.374422,15.378849,15.69108,15.558311,14.274819,15.160292,15.346021,14.386558,15.485348,14.506743,14.251635,13.822858,15.781135,15.389557,15.434744,13.98491,13.809429,15.369461,15.676062,15.390747,14.50763,14.607468,15.495078,15.835373,15.561304,15.426365,14.144828,13.85357,14.699794,15.486542,14.537805,15.148758,14.684906,15.456425,14.400902,15.414322,15.4585905,15.364592,14.34608,15.678477,14.340508,15.824619,15.693347,15.358795,15.39712,14.251812,14.289007,15.375396,15.585785,13.812536,15.781154,14.580895,14.784074],\"xaxis\":\"x\",\"y\":[8.966818,7.719526,9.010562,9.029512,7.9750066,8.007075,8.044157,7.539058,7.450658,9.603436,8.522481,6.26785,9.161574,8.212025,8.262219,8.408521,7.3730183,7.584228,7.5624084,8.194576,8.071252,9.507421,7.5715747,7.909639,7.1289434,9.010132,8.205235,8.112905,8.786183,8.315306,7.614627,7.471135,7.4510126,8.344809,8.081001,7.475483,6.0029364,8.016543,9.452144,6.231481,7.5432715,7.8059974,7.0795536,9.042931,8.305772,6.1019855,7.542828,7.6331882,8.789278,7.828737,7.7607,8.730133,7.7912493,7.316551,7.6639853,7.3010798,7.8260894,8.3403015,6.842555,7.901972,9.117294,7.853255,9.173464,8.167287,8.276899,8.324344,6.0232725,6.096046,7.594567,7.7887187,7.401067,8.329481,9.066768,7.6057806,7.457598,8.381031,8.04866,7.4801693,7.757137,7.5502915,9.242414,8.065245,7.4898725,8.917822,7.6618524,7.989288,8.215359,7.882825,5.9139643,7.9479933,7.8265715,9.027268,8.197435,8.354393,7.5371985,7.404913,7.6048455,7.4746146,9.044362,7.4401655,7.188107,7.7011104,7.9006968,8.817418,7.8839283,6.9453926,7.779414,7.567785,7.5122476,7.770122,8.50512,8.77566,6.3435607,8.5963125,7.317963,8.089532,7.416873,7.4480233,7.5445056,9.087426,7.3865857,8.773197,9.096921,8.024423,8.5397215,7.715581,7.5914736,8.001586,7.244656,9.276555,9.0012455,7.286409,6.7252088,7.3586354,7.459998,8.338036,8.768874,8.284611,7.8658957,8.102958,7.7294493,8.373027,8.603456,7.773386,7.873963,8.436023,6.0823126,7.701609,6.855137,5.9667735,8.190067,8.98725,8.729851,7.302846,7.3393273,7.695317,7.67203,7.49619,5.983315,8.052717,7.463963,7.5095134,7.367196,7.7091613,7.5519514,8.010518,8.224277,8.901885,8.923044,7.555025,7.6613374,7.7936788,8.185304,7.08656,7.539891,7.2675343,9.002247,9.136907,8.48228,6.7165704,5.9584293,8.227368,8.980066,7.678901,8.230217,8.245565,7.5757437,7.7640224,7.4069304,8.097109,7.685371,8.723461,8.379559,9.021147,6.8181925,8.246039,7.863709,9.237753,8.312863,8.445682,7.6437907,7.8287783,7.4776497,8.290012,7.3062334,5.8475995,7.740483,8.409145,7.4824567,7.568525,7.7697806,7.7651043,8.656328,8.613586,7.6953754,7.7312255,8.017045,8.11463,7.4426646,8.756886,6.732492,8.01703,8.143141,7.507992,7.4826264,9.063398,8.040703,8.9799185,7.7744417,7.852529,7.6416903,7.867088,8.162706,5.8469453,8.963574,7.699632,7.5546823,7.512416,7.850659,9.019619,9.042919,7.918366,8.161655,7.510194,7.9035106,8.998069,7.704259,8.183405,8.818878,7.5159807,8.670308,9.050356,7.980548,8.142569,7.8697534,7.730443,8.211395,7.843746,7.793232,8.80954,7.537292,9.004266,7.2603245,7.5602846,7.887272,8.475537,7.477934,8.220975,7.907456,8.529675,8.85975,6.888812,7.3227496,9.040764,8.223046,8.042917,7.5250034,7.5987225,9.464147],\"yaxis\":\"y\",\"type\":\"scattergl\"},{\"hovertemplate\":\"leiden=10\\u003cbr\\u003eUMAP-1=%{x}\\u003cbr\\u003eUMAP-2=%{y}\\u003cextra\\u003e\\u003c\\u002fextra\\u003e\",\"legendgroup\":\"10\",\"marker\":{\"color\":\"#00A08B\",\"opacity\":1,\"size\":1.6289981637290938,\"symbol\":\"circle\"},\"mode\":\"markers\",\"name\":\"10\",\"showlegend\":false,\"x\":[-4.5483727,-4.6284328,-4.177791,-4.741292,-5.0025043,5.266328,-4.6590123,-4.561995,-4.8227897,-4.5728836,-3.4106398,-4.5900106,-4.441282,-4.454476,-3.725771,-4.008265,-4.6508617,-3.5927184,-4.471013,-3.2625623,-3.109194,-4.95289,-5.022635,-4.897799,-3.9489381,-4.7452602,-4.7216563,-3.3144157,-3.7606027,-3.8448093,-4.043399,-4.958325,-3.1353357,-4.009153,-4.616591,-3.9942162,-3.709926,-4.91827,-4.6336303,-4.2619367,-5.0475183,-4.958709,-4.635276,-3.5074768,-4.28626,-4.2554135,-4.4983263,-4.9318933,-5.105391,-5.055833,-4.100447,-4.2238812,-4.706281,-4.1261735,-4.6306505,-4.478876,-4.527877,-4.405102,-4.551794,-4.377895,-4.430486,-3.639625,-5.0113864,-5.011899,-4.2198462,-3.6081326,-3.9173546,-4.3380866,-4.4879055,-3.5188165,-4.489609,-5.0876656,-5.131327,-3.6427875,-4.551253,-3.5901976,-3.6887202,-3.777061,-4.665465,-4.826757,-5.067657,-2.715258,-4.5841618,-4.3959074,-5.1136775,-4.4476185,-3.234738,-3.420837,-3.9703007,-4.544491,-4.3092685,-3.7199395,-4.404972,-4.9445806,-4.5418363,-4.594003,-4.635306,-3.5389552,-5.079814,-4.208915,-4.4796243,-4.6375875,-3.497285,-4.510367,-4.972516,-3.5646572,-4.8223834,-3.9540966,-3.5948834,-3.8846533,-4.39776,-3.4471915,-4.09669,-3.7380755,-5.0867887,-2.9962785,-4.2604156,-5.0123663,-3.3938754,-5.0170884,-4.429568,-3.9894917,-4.7164483,-3.0079172,-4.540159,-4.5525117,-5.1123543,-4.2792635,-3.7489848,-3.155348,-3.596377,-4.7386823,-3.7408955,-4.5168953,-3.9248471,-4.639053,-4.490214,-4.4752655,-3.9354014,-4.112686,-4.555198,-2.6902773,-3.4465058,-3.4955306,-3.6100383,-4.617965,-3.7091818,-3.6254,-4.842207,-5.1047044,-3.6742496,-4.450224,-3.593929,-4.471289,-3.7026556,-3.7154536,-4.474246,-4.440849,-4.5398207,-4.991558,-2.9688237,-3.7243643,-4.358237,-4.200085,-4.3851733,5.1678667,-4.4653234,-4.486874,-4.6392274,-4.6144123,-4.565113,-3.122867,-3.447907,-2.9853203,-4.2064805,-3.7315547,-5.0291753,-4.6029525,-5.0496693,-5.1205444,-4.241764,-4.6103673,-3.7115533,-4.5730863,-3.4517117,-4.494287,-4.561367,-3.4579298,-4.2891192,-4.723471,-4.7388806,-4.3386674,-5.0395575,-4.1663747,-3.6345005,-4.2282557,-3.899679,-3.6175528,-3.8902884,-4.4541707,-3.8275168,-3.5753055,-4.082253,-2.7441542,-3.605442,-4.372488,-4.7321234,-4.5131583,-3.0205448,-4.496988,-4.8351765,-3.9570978,-4.661051,-4.722915,-3.308347,-4.402841,-4.9215574,-4.522358,-4.7781014,-4.9005876,-4.5284114,-4.439249,-5.0091176,-4.380471,-3.4655006,-3.5887887,-4.961693,-3.7886703,-4.669825,-4.50637,-3.4732294,-3.9580042,-3.4929187,-5.0552382,-3.506175,-5.1262884,-4.9274807,-4.7630177,-3.4651039,-4.4165506,-3.5810454,-4.9433317,-3.85877,-4.045044,-3.4781435,-5.0705976,-4.268938,-3.6957688,-4.424005,-3.5050993,-1.5835892,-4.899077,-4.2750025,-3.7369924,-3.5828426,5.282459,-4.153926,-3.6005914,-3.7546065,-3.4718332,-3.661703,-3.5271165,-4.5920663,-4.6156063,-4.432259,-4.3519626,-4.6852207,-3.9572668,-4.130633,-4.10252],\"xaxis\":\"x\",\"y\":[8.059747,8.825738,7.8415313,8.505543,6.9417834,14.039224,8.281815,7.9795156,7.234054,7.9717493,8.650765,8.659804,7.989085,8.599745,8.697687,7.4867682,8.060781,4.025874,7.5790534,7.334079,8.501951,6.9720683,6.906079,7.059191,7.838205,8.517529,7.083199,7.7399406,8.546754,7.6990285,7.8118725,7.0069036,6.7395983,8.091429,8.4338255,7.792003,7.7554026,7.0422077,8.481568,7.861948,6.8634152,7.0042276,8.05747,8.620931,8.533959,7.9168215,7.9665713,7.0018187,6.8136425,6.864056,7.979728,7.9810886,8.482659,7.9957433,8.449858,7.556718,8.068001,7.227931,8.431305,7.5875125,7.5994577,7.6468234,6.9066567,6.901295,8.515387,4.011866,8.0988455,7.413846,7.277259,7.58942,8.02893,6.826955,6.7894874,7.775913,7.961026,7.6401916,7.7356815,7.9785647,8.744184,7.0667386,6.844041,7.997552,7.957533,7.472677,6.8040733,8.0059185,7.855098,8.46277,7.8445883,8.153082,8.52754,9.036723,8.841058,6.9777055,7.950786,7.996591,8.095882,4.018937,6.836817,7.643664,8.559421,8.436742,8.656447,8.000571,6.9393935,8.5791235,7.113304,7.925105,3.9999125,9.271933,7.4251766,8.697707,7.9055653,8.582336,6.8264823,9.927157,7.932722,6.9290247,7.457153,6.918498,7.255165,7.756859,8.1443815,8.947895,7.9489107,8.491115,6.8068285,8.554242,8.458788,7.198232,7.913915,8.419351,8.434155,7.9663334,8.852338,8.635305,8.13938,7.776658,7.6207414,7.9794836,7.175671,8.8325815,7.6905665,4.070893,8.343657,8.194763,8.4866705,7.727403,7.09177,6.8139486,8.615263,7.980741,8.570583,7.9316196,7.6326833,8.547711,7.976259,7.8398194,7.9782705,6.9317083,9.8980465,7.955977,7.8130374,7.8160677,7.728917,14.058308,8.809392,8.10711,8.129115,7.990997,7.9148145,7.966014,7.533902,7.463177,7.3835726,8.4377575,6.8850307,8.398232,6.8680625,6.797063,7.2943473,8.212186,8.282031,7.9886703,4.1134377,7.6862817,7.9731107,9.139323,9.15476,8.226628,8.439804,7.931253,6.873246,7.9523273,8.634304,9.943141,8.848059,8.070995,8.437334,8.493659,8.445688,4.120744,7.8773937,7.392746,4.051489,7.890285,8.645177,7.9592824,6.8268304,8.516661,7.3142753,8.2025585,8.436151,8.66535,7.6817074,7.6791124,7.007755,7.5510173,8.526682,6.9869437,8.436229,9.101075,6.92997,7.7515407,4.0643497,4.0415425,7.00386,8.617615,8.545696,7.1735415,8.642771,7.9010153,7.7498345,6.832521,8.613286,6.7951922,7.010449,8.484408,8.456036,8.079435,3.9999936,6.9859757,7.655443,7.894967,8.607829,6.846838,8.563181,8.016532,8.021522,4.071388,-2.7881958,7.1087193,9.825779,8.549455,4.092543,14.0176735,9.091381,8.911856,8.556734,8.331398,8.512299,7.6352305,8.379148,7.977759,7.7206283,7.939972,8.319588,9.038443,7.9266467,7.871955],\"yaxis\":\"y\",\"type\":\"scattergl\"},{\"hovertemplate\":\"leiden=11\\u003cbr\\u003eUMAP-1=%{x}\\u003cbr\\u003eUMAP-2=%{y}\\u003cextra\\u003e\\u003c\\u002fextra\\u003e\",\"legendgroup\":\"11\",\"marker\":{\"color\":\"#FB00D1\",\"opacity\":1,\"size\":1.6289981637290938,\"symbol\":\"circle\"},\"mode\":\"markers\",\"name\":\"11\",\"showlegend\":false,\"x\":[-1.5948243,-1.3028167,-1.4978436,-0.833198,-0.43823305,-1.3073641,-1.4283006,-0.9129305,-0.8407353,-0.62210834,-0.8355434,-1.2971056,-1.5850065,-0.6124429,-0.7011887,-0.42715898,-0.8819262,-1.6022798,-1.3410257,-0.59727204,-1.5919826,-1.4375877,-0.63635826,-1.4699652,-0.45225948,-0.7808323,-0.55549246,-0.6030153,-1.3130486,-0.89770234,-0.62226665,-0.5563879,-0.5907553,-0.58333385,-1.5596713,-0.7080158,-1.5402136,-1.3966334,-0.48465112,-0.567203,-0.27918977,-0.26098403,-0.5260153,-1.2657077,-1.5649946,-0.82987016,-0.63103765,-1.0035874,-1.5620703,-0.45840997,-1.5263526,-1.0017233,-1.5242577,-0.7705434,-1.0069422,-0.59144866,-0.571477,-0.68300337,-0.46378022,-0.74545676,-1.4395187,-0.66584766,-0.4525737,-0.9125057,-1.5833799,-0.6491435,-1.5529712,-1.5802877,-0.65042484,-0.88008565,-0.6522331,-0.9920985,-1.3538092,-1.5846528,-1.0305796,-0.25426316,-0.98339254,-0.8749847,-0.25316793,-0.6790068,-1.4791597,-0.4330698,-0.99313927,-1.4101517,-0.8904744,-0.84695554,-1.0705969,-0.2741274,-1.0656401,-0.32373133,-0.5559823,-0.78357756,-1.3577925,-1.5931067,-0.8858975,-0.7422493,-0.8559222,-0.4432842,-0.91304994,-1.1046065,-0.6216923,-0.775685,-0.8366112,-1.4903318,-0.6507555,-0.4507768,-1.4345388,-1.0992953,-0.65186965,-1.0912087,-1.4163204,-0.8995514,-0.5655603,-0.7919002,-0.95690453,-0.34656054,-0.7062877,-0.8371226,-1.5151441,-0.7106156,-1.0446564,-1.566916,-0.93091977,-0.8652124,-0.48899403,-0.6968818,-1.4923961,-0.5091321,-0.9127393,-1.0095487,-1.0106695,-0.74458367,-0.94305885,-1.5837442,-0.92996645,-1.4040264,-1.5585304,-0.3804329,-0.7203541,-0.25258222,-1.4903473,-0.93581,-0.5282536,-0.83329093,-0.6399585,-0.56159866,-0.44323975,-0.5533497,-0.51611644,-1.0582881,-1.5588297,-1.0934641,-1.4324353,-0.85618216,-1.3395838,-2.5403235,-0.9539135,-1.5440961,-1.597548,-1.589768,-1.1375394,-0.44645062,-0.71324474,-2.5341423,-0.81820047,-0.79893696,-0.46220294,-1.4200462,-0.23608975,-0.86419535,-1.5896231,-0.7512427,-1.3994759,-0.73311573,-0.6736556,-1.5846413,-0.72176635,-1.5810748,-0.8333252,-0.82824427,-0.8318869,-0.45911244,-1.404627,-1.6140277,-0.823058,-0.7173965,-1.4506559,-0.67695045,-1.547477,-0.44574744,-0.83380425,-0.7664056,-0.61589956,-1.5864239,-0.68104875,-2.5377812,-0.5056785,-0.9643231,-0.45363694,-0.855911,-0.58310205,-1.4810013,-1.1408724,-0.74218875,-1.608853,-0.9604285,-1.5646869,-0.74663574,-0.50343233,-1.0007101,-0.48565742,-0.522822,-0.6069718,-0.8216773,-0.7577758,-1.4917134,-1.5394883,-1.4137484,-0.73900205,-0.45795843,-0.7762382,-1.5534387,-1.4943918,-0.88328975,-0.742707,-0.71840036,-0.58462113,-1.0761235,-0.68033856,-1.2838616,-0.66973084,-0.9004839,-0.7393621,-0.74807173,-0.70612144,-1.4609804,-1.5084478,-0.52858216],\"xaxis\":\"x\",\"y\":[-2.816467,-3.4866939,-2.7957253,-4.2582273,-4.0805974,-3.4103444,-3.2638297,-4.1059475,-3.9633868,-4.341492,-3.7247157,-3.4876137,-2.8369122,-4.3726935,-4.448184,-2.8575077,-4.089581,-2.8149426,-3.423949,-4.460948,-2.8120427,-3.234459,-4.117555,-3.2014465,-2.8595715,-4.3230577,-4.097535,-4.252816,-3.3784392,-3.8911037,-4.410425,-4.384612,-4.3269734,-4.39205,-2.732825,-4.449164,-2.8996978,-3.325115,-2.83748,-4.300829,-3.2665138,-3.296686,-4.234476,-3.5172703,-2.8472636,-3.687798,-4.388284,-3.9000826,-2.8166702,-2.8475165,-3.0891254,-3.8432937,-2.8455248,-3.7521408,-3.7672334,-4.346419,-4.399485,-4.436765,-2.8507435,-4.477423,-3.297301,-4.2336473,-2.8439255,-4.14664,-2.814612,-4.243734,-3.0175493,-2.8741858,-4.236165,-4.1245594,-4.42561,-3.9124486,-3.4033356,-2.824694,-3.7203798,-3.3045263,-3.8080041,-4.104657,-3.3295004,-3.7840564,-3.183191,-2.8321166,-3.9277282,-3.3122888,-4.3015695,-3.7403388,-3.6955013,-3.3368275,-3.7355628,-3.2096095,-4.404487,-4.4865146,-3.3814354,-2.8738945,-3.8948786,-3.8502934,-4.3997726,-2.8455517,-4.297777,-3.6566775,-4.3907514,-4.324408,-3.8457785,-3.0857887,-4.333089,-4.0318937,-3.2473545,-3.6751494,-4.1039834,-3.7377026,-3.3182375,-4.3581495,-3.904763,-3.9112947,-4.1012535,-3.1486654,-4.437075,-3.81213,-3.1394773,-3.9548638,-3.7010396,-2.8542771,-3.824404,-4.2419586,-4.1704364,-3.8339636,-3.154259,-2.795371,-4.041429,-3.9459906,-3.8737643,-3.81947,-3.8602722,-2.8685067,-4.0567374,-3.2912388,-2.9843776,-3.513722,-4.438287,-3.3123004,-3.097324,-3.8274143,-4.051362,-4.0557637,-4.210817,-4.384061,-3.9683106,-4.335726,-4.010421,-3.7206204,-2.9911237,-3.6838164,-3.2591846,-3.9937935,-3.4141939,5.488701,-4.0020914,-2.9268937,-2.8344927,-2.80734,-3.7060409,-3.9499846,-4.4232187,5.457543,-3.782297,-3.8971913,-4.0923476,-3.2720556,-3.313251,-3.9559038,-2.8078265,-3.9763405,-3.306219,-4.411207,-4.468177,-2.8846526,-2.9493065,-2.8263717,-4.433115,-3.7249029,-4.4253144,-2.8379316,-3.3276825,-2.8553863,-3.840902,-4.491884,-3.2354472,-4.260926,-3.015848,-4.070787,-4.441076,-4.414862,-4.3954077,-2.8552015,-4.444975,5.4771957,-4.0901494,-4.225503,-2.8497143,-4.049134,-4.3227944,-3.1711092,-3.7084072,-4.474963,-2.834201,-4.038925,-2.8870542,-4.5179834,-4.2157936,-3.8099825,-3.9758003,-4.336285,-4.3338976,-3.971428,-3.9583366,-3.1365135,-3.0264444,-3.2854319,-4.5344033,-2.8639622,-3.9021976,-3.01007,-3.163324,-4.213056,-4.5203996,-3.9592483,-4.302605,-3.877561,-4.4477715,-3.4468436,-4.0306787,-3.8462193,-3.8703408,-4.451138,-2.9582784,-3.2884798,-2.9102178,-4.337267],\"yaxis\":\"y\",\"type\":\"scattergl\"},{\"hovertemplate\":\"leiden=12\\u003cbr\\u003eUMAP-1=%{x}\\u003cbr\\u003eUMAP-2=%{y}\\u003cextra\\u003e\\u003c\\u002fextra\\u003e\",\"legendgroup\":\"12\",\"marker\":{\"color\":\"#FC0080\",\"opacity\":1,\"size\":1.6289981637290938,\"symbol\":\"circle\"},\"mode\":\"markers\",\"name\":\"12\",\"showlegend\":false,\"x\":[-3.0948932,-3.1550138,-3.1944954,-2.7034695,-2.9638343,-3.0381155,-2.8360045,-2.9397151,-3.0694945,-3.068686,-2.8324401,-2.7133288,-2.9977057,-2.7178853,-2.8861444,-2.9553266,-2.7583816,-3.0696778,-2.5468633,-2.922682,-3.047365,-3.0475419,-2.7510684,-2.681272,-2.9993498,-2.915292,-3.1529534,-2.9081016,-2.7657409,-3.0873687,-2.9863603,-3.4483306,-2.7624571,-2.6522586,-2.927255,-2.8075514,-2.6988633,-2.8772786,-3.1009257,-2.839622,-2.7251225,-2.7091255,-3.0859218,-2.703407,-2.8924632,-2.8846643,-2.9349627,-2.9038548,-3.1130478,-2.7817261,-2.8393605,-2.8837855,-3.110471,-2.7854276,-2.8625407,-2.9716742,-2.9210951,-3.0354247,-2.8307288,-2.8971977,-3.2307413,-2.7597795,-2.9191687,-2.6718578,-2.7907848,-2.8143482,-2.9044511,-3.1609695,-3.0421083,-2.544421,-3.5052295,-3.300033,-2.988747,-3.186019,-2.9991553,-2.7753074,-2.5470219,-2.6098855,-2.6848886,-3.0717926,-2.7784534,-3.1357026,-2.6984744,-3.0267096,-3.1292472,-2.6794803,-2.7108428,-2.9536433,-3.1351755,-2.6244066,-3.0579753,-3.0054405,-2.7464366,-2.9825351,-3.0853012,-3.009734,-3.1011643,-2.9955623,-2.6951706,-3.0640614,-3.0593421,-3.0440328,-3.1738815,-3.0662587,-2.8738778,-3.0197825,-2.787038,-3.0521424,-2.822903,-2.8818724,-2.9602969,-2.6116946,-2.6402032,-2.8661034,-2.9695776,-3.049281,-2.7306137,-2.7497852,-3.048035,-2.770758,-2.8833578,-2.660146,-2.6903658,-3.0461366,-2.8438885,-2.7834241,-3.050962,-2.8081336,-2.6110036,-2.74712,-2.9741614,-2.9204633,-2.634175,-3.41639,-2.8689685,-3.1477745,-3.2403634,-3.0005572,-3.032171,-2.666336,-3.0120494,-2.8452384,-3.0721893,-3.169846,-2.7494867,-2.7173045,-3.146548,-2.9582593,-3.1523757,-2.8577197,-2.7137055,-2.9574687,-3.0196316,-2.641194,-2.978439,-3.0534568,-2.7468216,-2.8344896,-2.9309418,-2.910663,-2.7832627,-2.9651277,-3.0249107,-3.0021074,-3.5945156,-3.0739,-3.152606,-3.054034,-2.692278,-2.920549,-3.2387178,-3.0147026,-2.8829472,-3.0428512,-3.1020808,-3.1274235,-3.0022984,-2.9625535,-2.797826,-2.7277374,-3.1876628,-2.7288105,-2.8049655,-3.0749023,-2.9836957,-2.746647,-2.5423243,-2.8613985,-2.9686348,-2.9875875,-2.6807697,-2.7814722,-2.9822402,-3.097209,-2.999993,-2.7559485,-2.971236],\"xaxis\":\"x\",\"y\":[3.976257,3.3058808,3.8921509,4.0217547,3.6532247,3.612197,3.9301794,3.2510273,3.3259232,3.280692,3.2082913,3.6745489,4.119016,3.4688873,3.748744,3.3062308,3.3783472,3.4103377,5.46495,4.1315813,4.036406,3.3765652,3.705361,4.0255127,3.2931106,3.2257204,3.6329029,3.6346157,3.8063734,4.3875,3.953588,4.0777097,4.0861225,4.0318584,4.1384025,3.5379472,4.081507,3.2136662,3.9467049,3.2051296,3.8252857,4.16561,4.155428,3.9804897,4.2173333,3.809176,3.2081842,3.136506,3.5345333,3.2660081,4.2316055,3.4401426,3.664438,3.8118236,4.2627444,3.137172,3.1160965,3.2520485,3.2228057,3.3208392,3.8094125,3.9077373,3.4658911,3.9069002,3.4908307,3.4148052,4.1840606,3.2806509,3.2178695,5.4648676,3.9200816,3.8620195,3.2450542,3.6154828,3.4893012,3.3919032,5.447213,4.0748124,3.565993,3.2705374,3.3324184,3.27553,3.9945378,3.2502244,3.7781806,3.982911,3.9886413,3.2218273,4.4319854,3.803973,4.3833914,3.1913157,3.8147502,3.654137,4.222958,3.186841,4.253243,4.310766,3.9664419,4.0531473,3.2821012,4.063563,4.10268,4.00308,4.1775193,3.2079277,3.8353324,3.366224,3.60381,3.6226969,4.185182,4.0358024,3.9877238,4.170561,3.1939764,4.0285535,3.5722482,3.8942065,4.086448,4.2088284,3.2921119,3.9908962,4.162954,4.1708655,3.155162,3.2574632,4.200257,3.8276403,4.1377387,3.7477434,3.226236,3.1887698,3.825441,4.1020474,4.273545,4.094834,4.143202,3.2288718,3.4694154,3.8637867,3.2825074,3.178351,3.3059523,3.6821172,3.9435766,3.90052,3.8229444,4.247184,3.300908,3.183704,4.166757,4.168261,4.3231792,3.7050765,4.364232,4.144024,4.2217665,3.6115408,3.359032,3.3248055,4.05002,3.4768293,4.2569895,3.484296,4.015821,3.2737212,3.662715,3.342322,3.8276744,3.4666991,4.033491,4.260197,3.6154974,4.0105605,3.3441415,3.6785243,4.292032,4.176779,3.2535524,3.8589592,8.038193,4.082054,4.0389385,4.3439126,4.1930375,4.21199,5.478378,3.1438007,3.2390926,3.3392925,3.8139095,3.5968103,3.47686,3.553474,3.2781436,3.3756328,3.164002],\"yaxis\":\"y\",\"type\":\"scattergl\"},{\"hovertemplate\":\"leiden=13\\u003cbr\\u003eUMAP-1=%{x}\\u003cbr\\u003eUMAP-2=%{y}\\u003cextra\\u003e\\u003c\\u002fextra\\u003e\",\"legendgroup\":\"13\",\"marker\":{\"color\":\"#B2828D\",\"opacity\":1,\"size\":1.6289981637290938,\"symbol\":\"circle\"},\"mode\":\"markers\",\"name\":\"13\",\"showlegend\":false,\"x\":[11.731764,11.269374,11.820979,11.347281,11.565236,11.382318,11.448618,11.732701,11.669528,11.341661,11.73147,11.5189295,11.817215,11.258057,11.259859,11.578111,11.456932,11.706454,11.314826,11.781044,11.261849,11.318773,11.283238,11.27271,11.295243,11.497377,11.559829,11.859476,11.429049,11.323795,11.746212,11.552387,11.418451,11.317988,11.498284,11.609658,11.76084,11.818913,11.495052,11.5890465,11.816012,11.754159,11.796813,11.2411585,11.387786,11.55655,11.483814,11.313575,11.298311,11.308909,11.397011,11.5969715,11.340169,11.524887,11.502395,11.491002,11.620269,11.6303425,11.71919,11.375614,11.340372,11.300569,11.642852,11.543286,11.33394,11.351661,11.632882,11.548468,11.430679,11.805004,11.274917,11.519108,11.770944,11.746977,11.288482,11.324349,11.674127,11.635903,11.209419,11.423175,11.32476,11.788033,11.262919,11.807226,11.376774,11.458314,11.791781,11.829045,11.273772,11.810313,11.661804,11.838085,11.385714,11.790808,11.50567,11.85228,11.561617,11.488876,11.337246,11.731761,11.276251,11.381369,11.596308,11.310241,11.382975,11.618217,11.66361,11.657534,11.338258,11.629777,11.549844,11.69625,11.806112,11.404962,11.594481,11.23335,11.276488,11.272194,11.353368,11.384238,11.325188,11.778411,11.790862,11.696468,11.626973,11.2733965,11.787607,11.598382,11.32487,11.759999,11.490964,11.27246],\"xaxis\":\"x\",\"y\":[21.522125,20.90727,21.394852,21.537092,21.124393,21.177443,21.164833,21.313992,21.426992,21.570309,21.086433,21.31768,21.224195,21.453352,21.428131,21.180569,21.50948,21.062332,20.949112,21.09484,20.995407,20.965328,21.543707,21.492746,20.937538,21.691774,21.054003,21.428892,21.193865,21.049715,21.42367,21.6825,21.173807,21.50533,21.670076,21.401,21.144604,21.171623,21.6512,21.353926,21.20861,21.128448,21.253193,21.436087,21.61812,21.69966,20.9489,20.962036,20.901232,21.413094,21.181473,21.354628,21.13625,21.35912,21.135345,21.119476,21.547632,21.370653,21.332294,21.078476,21.41319,21.302229,21.408762,21.174917,21.46737,21.647753,21.544794,21.71098,21.60728,21.131042,20.958918,21.136349,21.175667,21.47168,20.88831,21.336292,21.46929,21.468271,21.406807,21.140244,21.026361,21.368687,21.419434,21.20305,21.1165,21.079056,21.130173,21.137468,20.89419,21.166763,21.611425,21.150583,21.280468,21.381609,21.690641,21.204704,21.387867,21.64246,20.98533,21.53202,20.885298,21.09745,21.181316,20.999949,21.257551,21.490688,21.60588,21.385962,21.194477,21.58314,21.25032,21.296684,21.21625,21.287043,21.669136,21.435179,21.326366,21.500185,21.602448,21.506495,20.898401,21.112986,21.411806,21.508541,21.367027,21.416306,21.466284,21.38688,21.16098,21.456879,21.69853,21.534206],\"yaxis\":\"y\",\"type\":\"scattergl\"},{\"hovertemplate\":\"leiden=14\\u003cbr\\u003eUMAP-1=%{x}\\u003cbr\\u003eUMAP-2=%{y}\\u003cextra\\u003e\\u003c\\u002fextra\\u003e\",\"legendgroup\":\"14\",\"marker\":{\"color\":\"#6C7C32\",\"opacity\":1,\"size\":1.6289981637290938,\"symbol\":\"circle\"},\"mode\":\"markers\",\"name\":\"14\",\"showlegend\":false,\"x\":[10.306405,9.598636,9.750742,10.083014,10.305993,9.845774,9.711484,10.012617,9.982298,9.615532,9.911495,10.37665,10.03297,9.651735,10.202953,9.575182,9.773374,10.039133,10.028418,10.581982,9.520628,10.169525,9.673772,9.935995,10.20692,9.699349,9.7207,10.618591,9.698178,9.70272,10.075586,9.869905,9.86259,9.650022,10.113066,10.141374,9.653373,10.22907,9.799471,10.216236,10.003456,9.597381,9.752175,9.956682,9.855252,9.879248,10.758821,9.515999,9.901291,10.213793,10.0542345,9.706982,9.553994,9.962553,10.601867,9.715134,9.659371,9.644426,10.23626,10.3086195,9.663015,9.81151,10.582364,10.248972,9.590193,9.648221,10.439565,9.729116,9.661126,9.723353,9.529719,9.813225,9.516178,9.7548065,10.60106,10.16412,9.674233,10.211258,10.515332,10.144851,9.853283,9.57507,9.531713,10.299229,9.655497,9.539308,9.491711,9.546641,9.689219,5.6536517,9.8208685,9.668779,9.919275,10.509228,9.737804,9.7643385,9.957328,9.544379,9.737389,9.630488,9.626319,10.120861,9.638318,9.533973,9.741839,9.599969,9.905418,10.642698,9.481622,9.599107,10.48843,10.499639,10.278435,10.483984,10.17068,9.785824,10.275045,10.018383,9.882014,10.116959,9.672871,10.419837,9.591574,9.629093,10.381444,10.181966,9.626382,10.4479475,9.702889,10.315229],\"xaxis\":\"x\",\"y\":[-2.7921894,-3.035566,-2.874343,-2.4737287,-2.7903655,-2.9930298,-2.8792253,-2.5678382,-2.5699453,-2.953403,-2.7489808,-2.8009734,-2.6685133,-2.8774242,-2.752727,-2.9832494,-2.7267065,-2.8937747,-2.4842882,-2.7472847,-2.84391,-2.5812516,-2.7011514,-2.9272263,-2.4261875,-2.9500287,-2.9628289,-2.8283527,-3.0591822,-2.8326218,-2.8045053,-2.7806451,-2.8995705,-2.8701382,-2.436324,-2.8802168,-2.8156567,-2.7767878,-2.8063776,-2.6036375,-2.906033,-3.0408099,-2.9589052,-2.7737,-2.5880487,-2.936373,-2.8414834,-2.8031344,-2.6251175,-2.7823875,-2.7569373,-2.8042717,-2.969648,-2.7598536,-2.6447408,-2.858979,-2.9331386,-2.8188496,-2.3897455,-2.680604,-2.738996,-2.9260523,-2.5888247,-2.7321885,-2.8859944,-2.8344762,-2.833929,-2.8029518,-2.809985,-2.8797784,-2.7999644,-2.832824,-2.8150444,-2.8273947,-2.1130755,-2.8561528,-2.6362352,-2.4593248,-2.838984,-2.4720128,-2.8304234,-3.0570908,-2.792171,-2.580821,-2.9866624,-2.8622837,-2.8320754,-3.0730875,-2.9756742,13.8021,-2.5863802,-2.8480527,-2.7433567,-2.847093,-2.8568711,-2.8353689,-2.7761579,-2.971423,-2.9006772,-3.0396867,-2.8966255,-2.4232259,-3.0029643,-2.8084242,-2.8271046,-3.037605,-2.854826,-2.765685,-2.8206704,-2.892084,-2.843081,-2.8255153,-2.6911232,-2.8576636,-2.4371924,-2.8393831,-2.7989156,-2.824829,-2.8853781,-2.406244,-2.7748494,-2.4742815,-2.9119637,-2.757407,-2.8234005,-2.826028,-3.069569,-2.534973,-2.8634386,-2.5961092],\"yaxis\":\"y\",\"type\":\"scattergl\"},{\"hovertemplate\":\"leiden=15\\u003cbr\\u003eUMAP-1=%{x}\\u003cbr\\u003eUMAP-2=%{y}\\u003cextra\\u003e\\u003c\\u002fextra\\u003e\",\"legendgroup\":\"15\",\"marker\":{\"color\":\"#778AAE\",\"opacity\":1,\"size\":1.6289981637290938,\"symbol\":\"circle\"},\"mode\":\"markers\",\"name\":\"15\",\"showlegend\":false,\"x\":[2.1825745,2.3362591,2.1798875,2.3601081,2.332977,2.019316,2.2956471,2.3834028,2.3752813,2.318512,2.351043,2.3483884,2.3553846,2.3344998,2.3611546,2.2483222,1.9917485,2.3715649,2.3687642,2.38065,2.3354726,2.333793,2.3113537,2.0311477,1.95888,1.99988,1.9898372,2.3508399,2.2718222,2.3038714,1.9901382,2.3908494,2.351908,2.3018105,2.305206,2.2962122,2.3148866,2.0488915,2.231252,2.3136683,2.054607,2.3893635,2.3822558,2.1252937,2.2454991,2.3368006,2.1886787,2.3140059,1.9591088,2.3848364,2.0063117,2.3686538,1.9993011,2.2920067,1.9884324,2.3831897,2.378925,2.3606253,2.3308706,2.3554509,2.0765338,2.0245636,1.9461154,2.3556283,2.0822651,2.2679884,2.3599393,2.1204457,2.1289833,2.198273,2.3514726,2.3460844,2.3857899,2.3114016,2.3459423,1.9633098,2.341084,1.9655025,2.30345,1.9727602,2.2917821,2.368028,2.1255243,2.3334928,2.1173255,2.374366,2.2637935,2.4013605,2.04453,2.3623943],\"xaxis\":\"x\",\"y\":[18.661688,18.620466,18.47058,18.587746,18.48938,18.64713,18.416252,18.550358,18.089968,18.64788,18.14831,18.177937,18.64958,18.324848,18.13022,18.65603,18.64824,18.583721,18.10234,18.568085,18.285975,18.331518,18.497063,18.615068,18.688047,18.656445,18.66843,18.268925,18.455915,18.482553,18.669445,18.552711,18.327875,18.412006,18.35177,18.43153,18.274103,18.646027,18.644735,18.253208,18.634113,18.459826,18.546843,18.469019,18.370016,18.445518,18.543203,18.286825,18.69279,18.339243,18.654123,18.333107,18.653303,18.595545,18.668146,18.536749,18.586082,18.120308,18.29612,18.288637,18.59324,18.634428,18.684855,18.319693,18.578482,18.655436,18.154741,18.532156,18.565798,18.46174,18.634161,18.33932,18.056597,18.652374,18.65546,18.68967,18.32958,18.683054,18.658747,18.682629,18.255068,18.114508,18.595304,18.563185,18.555973,18.564499,18.64877,18.524555,18.629507,18.530647],\"yaxis\":\"y\",\"type\":\"scattergl\"},{\"hovertemplate\":\"leiden=0\\u003cbr\\u003eUMAP-1=%{x}\\u003cbr\\u003eUMAP-2=%{y}\\u003cextra\\u003e\\u003c\\u002fextra\\u003e\",\"legendgroup\":\"0\",\"marker\":{\"color\":\"#2E91E5\",\"opacity\":1,\"size\":1.707240317182898,\"symbol\":\"circle\"},\"mode\":\"markers\",\"name\":\"0\",\"showlegend\":true,\"x\":[7.741988,7.85076,8.280111,9.336102,8.681285,8.317429,8.484476,8.700608,9.136822,8.79363,8.017062,8.035451,9.205481,8.657046,8.509963,9.341598,9.058342,7.637493,8.4647,8.362156,8.308879,8.476886,9.199787,8.089695,7.729636,8.261178,8.355746,8.756101,7.7793274,8.54495,6.8270097,8.464082,8.035555,8.145591,8.216467,8.244679,7.653684,8.72976,8.183218,8.192926,8.430245,8.799915,8.302345,8.289031,8.950106,8.40423,8.5924225,6.90001,8.989736,7.213489,8.880573,7.907509,8.201703,8.574743,8.343192,7.8824987,8.242226,8.423375,8.435955,8.792098,7.9889884,6.897572,8.100522,7.319986,7.603184,8.165823,8.970439,7.4104986,8.323677,7.3455253,7.2582645,9.163975,9.02009,7.0811496,8.565611,9.630426,6.95573,6.8502846,8.637984,7.440526,7.1357956,8.568844,8.125486,8.127067,7.3142805,8.147746,7.2894597,8.698015,7.981709,8.535704,7.7074423,8.1376705,9.730916,8.152442,8.079399,8.431888,8.07675,8.3679905,9.266916,8.852271,9.253761,8.985456,8.716076,7.8014717,8.340793,8.593631,7.821246,8.105403,7.349349,8.524332,9.2614355,8.367349,8.675591,7.8077755,8.569058,7.236225,8.866906,8.218257,8.214976,8.044524,8.447363,9.064666,8.384045,8.336855,8.658901,8.632114,8.435337,9.696877,7.7742133,9.071318,8.793335,7.912066,7.3640995,8.288391,7.345074,8.002266,8.484024,7.220842,8.2861805,8.030159,8.1356,8.719817,8.826809,7.486717,9.121206,7.9010725,8.610378,8.643601,8.199104,7.950169,9.5312,8.288804,8.227131,7.1133294,7.782095,8.231036,7.814072,8.762106,8.913226,6.828126,6.7819333,7.9171367,7.3699145,7.1825523,9.643576,8.783653,8.258534,6.7775254,11.221249,8.491042,8.619403,7.6623454,7.296593,7.417178,7.7681484,8.019321,7.3601704,8.248375,8.585871,7.9254465,7.9362364,7.955127,7.73813,7.9612436,8.8820715,8.616724,7.1874537,8.362289,9.597407,9.4719,8.4189415,7.809569,8.812554,7.6824026,7.258473,8.294196,8.303045,7.9859595,8.9142275,8.074471,7.4045305,8.951815,9.1036215,8.99482,8.076015,7.1029925,8.321098,7.845053,8.3443575,6.8842683,8.306204,6.8514957,8.263825,8.91328,9.04662,8.196569,8.331124,7.9071956,8.600591,8.816781,7.9072275,8.177965,9.087843,8.591424,8.333023,6.8417306,7.0150146,8.536983,6.9548597,6.9647517,9.006689,7.960406,7.321247,7.2494183,7.18338,8.974254,8.447791,9.096406,8.538967,7.413525,9.107357,7.9317083,7.46352,8.615827,7.3261814,8.212581,7.0587964,8.22863,8.12346,8.900601,8.707564,7.670445,8.759457,8.553881,8.237196,6.8590765,7.194446,9.760288,8.558478,8.64448,8.493195,7.348859,7.083208,8.431073,7.634806,6.9927993,7.8848157,8.852418,8.116395,8.437719,7.309505,8.710645,8.1806135,8.608299,6.9908576,8.613006,7.801525,8.065479,7.620115,8.124801,7.3287053,8.025764,8.680454,8.151733,8.097557,8.106411,9.260082,8.188864,6.7980785,8.67246,8.848531,8.817169,8.564103,8.203275,9.409905,9.034958,7.9126453,7.0306787,7.139894,6.820419,9.948264,7.3565283,8.43207,8.01101,6.906082,7.0369177,8.408329,9.027116,7.4764166,8.30945,8.383626,7.97029,7.7208533,8.09898,8.641999,6.812219,8.49627,8.7795925,8.767723,9.035645,8.559763,8.153036,8.311658,8.875856,8.622127,8.288628,8.608369,9.110634,7.098391,7.3593674,8.749586,6.873853,9.402569,7.216181,8.239306,8.720511,8.653816,8.6884,7.9521556,8.6642885,8.034729,8.964873,8.454827,8.224257,6.9288325,9.706833,8.429244,8.330275,8.248569,8.999699,8.573199,7.9429584,8.924386,8.513465,9.0109825,7.9130173,8.3612385,8.560686,8.547196,9.015313,8.481373,9.20054,8.147353,8.974177,7.394095,7.947272,8.410582,7.8868384,9.490706,6.887738,9.5401325,7.909387,7.9547067,8.254138,8.319093,7.1736097,8.191009,6.855526,7.0511327,7.6811595,7.2632914,8.071654,8.550977,8.910211,8.513436,8.700273,8.042498,7.5057797,8.099391,7.020222,8.397469,8.020517,8.221823,6.8760514,8.917229,9.054368,8.308647,7.777048,8.862655,7.280983,8.242987,10.833067,8.061716,8.94006,8.080561,9.374886,7.486936,6.893992,7.8857055,8.068329,8.860615,7.6057553,6.868893,7.863215,8.903989,8.3836,8.72313,8.149271,8.005932,9.562774,9.770985,7.919112,9.12101,7.0475073,8.354101,7.9626327,6.87113,8.894387,8.6412525,6.769143,8.730669,7.23085,7.783529,7.0687976,9.221002,7.2822175,8.114901,7.8319416,7.879791,8.94525,7.198039,6.9481125,8.678437,6.8906713,7.861094,7.0536904,8.305918,7.4775367,9.050291,8.103281,8.983276,8.228732,7.9626536,8.455152,8.249598,7.8509502,8.710245,8.742116,8.228169,7.5272207,8.167837,8.309165,8.799285,9.0545435,8.689816,7.2134395,7.342949,7.0196767,6.825972,6.9194736,8.286617,7.1745753,8.85687,7.9081063,6.861508,8.062807,8.101957,6.8991156,7.159473,9.281313,7.183524,8.12345,8.188226,8.165133,8.078791,9.935215,8.8933735,8.480482,7.6097283,8.215171,8.3568945,8.871187,8.397584,8.229334,6.910511,8.102033,7.6044946,7.600242,8.181139,8.503333,8.53981,8.234014,7.310156,7.765564,6.8323083,7.544882,7.8469496,9.364184,8.315127,7.766147,9.640009,8.8622675,8.568838,8.287999,9.175594,7.3746758,6.963442,8.208573,8.504072,8.570789,9.054291,7.3319626,8.504215,8.224489,7.73225,6.8462443,8.45631,8.263773,8.158329,6.9086146,8.710764,8.6281185,8.304346,9.063762,6.8468213,6.883704,7.9162416,7.695531,7.1480675,8.794364,7.9364724,8.434868,9.990443,9.154075,9.038629,9.551873,8.820335,7.6105866,7.1943574,7.049761,9.513034,8.999886,7.557038,9.025048,9.016942,9.089609,7.9281783,7.269478,8.200419,7.8558297,8.152594,7.8113856,8.160019,7.2208037,7.797996,7.451743,8.322407,8.506276,7.711543,8.91543,7.9577365,8.40043,9.671325,8.4228325,8.212818,9.619311,8.201419,9.498573,7.0596642,6.8597245,8.496669,8.291128,7.926078,8.379161,8.621524,8.368881,8.588889,7.9728985,8.5796585,7.970764,7.932371,7.7576027,7.4514594,7.8417506,8.024929,9.170434,7.054582,8.182955,8.255097,7.128231,8.2366495,9.4984665,7.5541716,8.694631,8.2302885,7.3288136,7.1981177,7.9281793,7.784224,8.612091,7.6719704,8.405157,8.386676,8.28087,8.272137,8.879381,8.96876,8.125443,7.061445,7.720458,8.028509,8.532837,8.12471,9.210298,9.510982,8.109903,7.912892,7.7727027,7.390309,8.301228,9.458498,8.18229,8.551361,7.116156,7.4411774,6.877348,7.4280105,8.273453,8.10632,6.9109135,7.991257,8.097928,7.010237,9.453438,9.117083,6.8062644,8.177156,8.972073,8.004183,8.239042,7.7090993,7.9820943,6.958158,8.329455,8.189714,9.940226,8.2695265,8.928372,7.271714,7.11834,8.593063,8.346012,7.3105364,7.024515,7.047167,8.28495,8.869191,8.73731,8.565942,8.754776,7.618705,8.231567,9.96865,8.178918,7.880394,8.113029,8.553331,7.6099944,7.8477654,7.111627,7.291023,7.25832,8.155318,7.7567587,8.656259,7.736388,9.0138855,9.4406395,7.2450156,8.485709,8.471942,8.137228,8.100935,8.082615,8.277739,8.179484,8.252952,8.979879,8.214942,7.804771,9.45345,8.79615,7.9301286,8.13806,8.132297,8.370224,7.144499,8.61299,7.804459,8.094412,8.669046,6.8251867,9.609505,9.145575,8.424858,8.673316,8.232258,9.182144,8.47425,6.8016562,8.805243,7.7341437,7.7487226,6.844282,9.2509985,7.03688,7.2713723,8.984057,8.552595,7.6877728,8.040102,8.2909975,8.12724,8.237048,8.073635,8.962671,8.027852,8.135459,9.032658,8.715894,7.9488235,7.255926,7.614649,8.055224,8.634402,8.887416,6.789868,8.155801,8.366125,8.289944,8.3932,8.15842,8.103063,7.948226,7.613197,7.500329,9.549253,8.555687,8.93159,6.9878206,7.26061,7.9748473,8.465896,9.552905,8.641137,9.279303,7.3224277,9.763925,6.927046,9.124577,8.284328,7.273278,8.068335,8.159761,7.3313117,8.800905,7.9928813,8.634052,7.877681,8.628177,8.750949,9.519699,8.33888,9.075902,8.860501,6.787359,9.367204,9.186402,9.120101,7.9042068,6.807926,6.795531,7.370823,7.1412635,8.106323,8.725311,8.367694,7.0549846,8.355993,9.748662,8.851814,8.3537245,8.175193,8.305551,8.299621,9.567929,9.115481,8.317059,8.1087055,8.195809,8.208926,9.372483,7.997729,8.420204,7.661893,8.889206,7.94259,8.7324505,7.9094515,8.435272,9.058897,8.247125,7.9163904,7.552001,8.840704,7.723859,7.719424,9.133962,7.779267,8.522033,6.772252,8.866871,8.705439,8.305292,6.9592957,7.847506,8.701469,8.3077,6.993979,8.650076,8.877614,8.199362,8.128266,8.773457,7.37187,8.002416,9.383376,8.793667,9.661258,8.532291,9.22895,7.2164044,9.225904,8.922832,7.1232343,7.092452,9.146961,7.7088795,7.518131,9.781943,8.298971,9.492419,9.176719,8.257845,8.102389,9.002081,7.8272424,8.63101,8.918538,7.9820056,8.23107,8.307693,8.244508,8.204502,8.05788,8.761944,7.3228955,8.02191,8.175419,7.2732816,8.792373,8.83937,8.113933,7.986684,7.6123996,8.345067,8.271698,7.4436145,8.056284,8.878297,8.614464,6.746809,8.305951,7.1043425,9.436968,8.47793,7.798304,8.066679,7.287568,6.9809937,8.642886,7.7240105,9.123839,9.11485,7.991942,7.15148,10.069782,8.495965,7.7819934,8.053889,7.71788,7.3487663,9.015138,8.192789,7.461967,7.0341125,8.356308,8.057467,7.0312085,7.0803084,8.045901,9.126506,7.1166043,8.077322,9.477058,6.8562064,8.239106,7.5519786,6.9194593,9.01405,8.929536,9.02511,7.694253,9.453359,9.114103,8.634326,7.65777,8.088601,8.173342,8.094643,8.403757,7.280165,7.5341754,9.104512,8.104867,8.019521,7.017921,7.2157793,8.045913,8.635681,8.424415,8.374914,8.787776,7.97439,8.451136,8.68649,8.065575,8.32194,9.580844,10.907285,7.915929,7.1041555,7.8661513,8.23214,8.285131,6.8284173,8.238876,8.01073,8.254254,7.162491,8.597449,8.382218,8.318332,8.734378,8.135746,6.759941,7.287734,9.235455,8.787005,8.118095,7.6784306,9.159854,8.746524,9.382418,8.578046,8.3695545,8.276887,6.7996626,7.9238234,8.01052,8.498694,7.199213,8.631802,8.434799,7.753922,8.250892,7.0959167,8.54494,8.385038,8.688649,8.285991,7.7129416,8.152872,8.415527,9.431945,9.519727,7.560519,8.817839,9.502555,7.103926,8.706959,6.994422,8.941194,8.323584,8.8347225,8.698158,6.919651,8.607876,8.76459,7.845711,8.08208,7.991659,8.4860935,8.376153,8.624269,8.031924,8.358342,8.15315,8.733398,8.900729,9.126945,10.280171,7.9111977,8.700761,8.562303,8.147137,8.529099,8.529594,7.579234,8.226457,8.322319,9.038757,8.494438,8.011592,8.263366,8.685748,7.7782235,6.8836355,8.091232,8.096042,7.81565,8.546368,7.7210174,6.8561645,8.921689,8.835324,8.080619],\"xaxis\":\"x2\",\"y\":[12.400965,12.583947,8.909241,8.532302,11.442788,12.544948,8.978802,12.3800745,10.529177,10.879844,11.556579,11.310295,12.998303,12.276765,9.253443,10.130414,10.867704,12.008177,10.480695,9.385123,9.07104,8.806518,9.587211,10.921223,12.428263,11.823467,10.924428,12.309152,9.582268,12.336875,10.621426,11.186543,10.744725,9.564757,8.844869,11.50877,10.184027,12.19531,8.850234,10.982605,12.395853,10.900319,11.110422,12.114243,11.0135145,11.825423,10.469979,10.527474,9.965421,11.089601,10.419316,11.6581545,11.796188,9.743451,9.06237,12.50802,10.096031,11.643969,10.952728,10.119128,10.998953,10.058556,8.6773,10.862723,11.8986225,12.582759,12.861193,11.376496,10.673327,11.737376,11.388702,8.379478,8.730128,9.793793,11.853209,9.9358425,10.38252,10.17372,10.938483,11.123408,11.1609535,9.321144,11.7089,12.349509,10.252832,12.234899,9.9296,10.797764,9.795114,12.625663,11.975799,12.216683,10.1450615,11.067623,10.139243,9.928317,11.451755,12.482557,13.161387,10.969258,10.006358,8.758038,12.605652,12.432865,11.871966,11.042072,11.814019,12.7029085,11.941168,10.888719,9.923117,9.0216465,9.459299,10.05231,9.049463,11.350968,11.829213,9.43325,11.548586,11.879378,9.834028,10.820305,9.113632,11.466489,10.305972,11.933299,9.368482,10.862313,10.260022,10.717848,12.240276,11.751057,9.978549,10.36856,11.896869,11.519134,10.658423,11.083959,12.310944,10.578189,12.273226,8.554001,12.644239,11.720867,11.370583,12.613789,9.216714,9.071543,11.662329,8.959173,11.498199,10.378891,9.378972,9.4552355,11.847097,8.679759,10.268705,10.554071,11.476812,10.666182,10.502531,11.2896185,10.585714,11.543768,12.105773,12.775396,9.975784,10.28632,13.404948,11.996701,10.090352,10.211556,11.372475,11.350341,12.05979,8.98466,11.929308,11.583597,9.322684,11.668184,11.475061,12.5543785,11.871053,8.196969,11.594179,11.934702,9.784692,9.11335,10.539113,11.263131,9.843285,12.20487,9.308264,10.331824,8.612126,8.925492,10.060511,10.641159,10.806119,11.620985,10.46594,10.661741,8.495259,9.59073,12.053695,11.253915,11.515769,9.92918,9.072667,10.58045,10.979297,10.537808,11.509226,10.78871,10.584325,8.810192,9.796939,11.367657,9.394958,8.909776,12.252126,11.58056,13.085581,10.464563,10.114683,10.347929,10.500347,10.98237,9.935658,10.079779,10.689839,12.51965,11.940208,11.812761,11.440978,10.970098,9.437173,9.807326,8.808044,10.497924,9.19896,10.650968,11.756851,10.293134,11.842207,12.455655,10.554024,9.374619,10.477696,12.9115505,12.515873,12.131625,12.654241,12.386342,9.050067,10.555163,11.691044,10.112035,11.049342,10.044996,11.388262,10.851697,10.9364395,11.221907,11.105253,10.614449,10.089402,12.767159,10.147941,12.401144,10.85162,12.605619,10.737741,8.527371,8.6388235,9.388972,10.431223,10.9917755,12.290915,10.623676,11.892798,8.918155,12.007289,8.7083025,11.336488,12.320294,11.642871,11.537938,10.57592,10.752694,12.911194,10.949945,12.664172,8.49889,10.985928,9.880403,11.324213,11.110424,10.145649,10.611926,11.188638,10.577029,12.006192,9.014271,10.562809,10.785211,11.679533,10.237789,12.076853,11.866034,11.624302,8.195977,12.4088,12.906474,12.418484,10.306156,10.480263,10.890444,9.473166,11.5515585,12.436959,12.505299,10.4153,12.808715,8.9935665,9.580557,10.505042,11.054541,9.537104,10.515026,11.069683,10.285377,9.500693,10.499141,11.406572,9.37511,10.494521,8.504951,9.229229,12.065556,12.543111,10.837736,9.42386,11.123019,10.532174,10.636279,11.225536,11.407812,12.659049,8.584479,9.544664,10.874172,12.958705,9.832247,10.867632,11.038359,10.928266,11.10642,9.030874,10.799622,11.011546,10.664469,12.346873,10.556459,11.397775,12.472823,9.073143,11.508884,10.627595,9.942164,12.316561,11.544527,8.183481,7.147212,11.059183,10.285046,11.34551,10.19258,11.224368,12.069041,11.768458,12.793411,11.772456,10.244835,10.540488,9.714929,10.449885,11.430848,9.027736,11.191515,9.123546,10.813626,11.460167,10.755609,10.95014,12.273752,11.744699,10.51554,10.986484,11.419425,10.096287,12.472614,10.537569,12.999332,10.755138,10.079038,10.888324,10.167811,12.194895,10.513986,11.783324,11.924793,10.614211,11.607148,10.873551,11.976923,10.940554,12.608588,11.082441,11.6425905,12.207963,12.50509,13.1146345,10.046784,11.52889,8.952651,10.440865,12.979527,9.867544,10.3487835,10.872727,11.216959,12.469157,10.023065,8.650932,11.59658,12.881216,11.793777,11.558786,10.19769,11.673972,10.480019,12.557515,10.753137,11.085957,11.0831,11.222626,10.913556,10.127993,12.707141,13.012757,9.944529,11.386106,10.192331,11.405993,12.556682,10.776166,11.368141,10.993044,11.905714,10.62298,11.100027,8.965396,10.965684,8.166899,9.880545,11.765574,10.854965,10.465072,10.122262,11.921404,9.843968,12.805299,10.119538,10.416514,10.455643,12.871322,10.692612,10.470193,9.741229,10.531682,10.9100065,9.981182,11.593913,10.357856,11.864898,12.889339,9.268359,12.039858,11.273289,12.395879,8.908128,12.412663,11.164469,10.77578,12.664793,10.590448,11.917176,12.502232,8.906986,10.441111,9.442491,11.335094,12.475157,10.709363,11.049356,12.45471,10.932612,12.117847,12.218346,10.456008,10.5021515,12.297431,9.305089,10.665914,10.534841,10.874052,11.269036,9.473242,11.021286,8.935161,9.89237,9.224156,11.075636,12.218613,10.640445,10.344596,10.051953,10.933223,10.427406,9.799445,12.5361395,12.474695,11.568348,10.162351,10.370651,10.929364,10.525773,11.565157,12.582977,9.778479,10.147845,10.667337,10.921129,9.716865,12.2295885,12.7178545,12.033312,10.154484,10.366095,11.539402,9.628259,11.454165,10.763354,13.052074,12.774176,10.2780905,11.329827,12.155032,12.539943,11.795605,5.721885,9.396541,9.972287,11.781235,11.988448,9.469244,10.283598,12.49211,10.058235,11.846764,9.143429,11.861789,8.921732,12.041614,10.6347065,10.3178625,11.178831,10.722224,10.017038,9.375268,8.588508,12.519151,8.866048,11.108978,11.10967,11.370657,11.457286,8.85654,10.111102,11.165955,12.425913,11.384557,12.412107,11.533926,9.703044,10.905001,9.33713,10.963968,9.962679,11.300815,8.931981,9.002131,9.823012,11.412064,11.820698,10.00473,12.379445,10.565952,12.572417,11.937867,11.775081,10.269714,9.596194,8.7170105,12.880589,13.035977,12.672769,11.165365,12.017181,12.292207,9.182745,12.638007,12.921064,11.903114,10.01132,10.022118,12.47323,11.440346,11.084319,12.639996,12.690394,10.412878,11.34742,10.378002,10.317666,10.999722,11.500095,12.518993,9.95852,9.480279,11.547813,10.521656,11.292132,8.628571,10.457592,8.668771,12.727674,11.527135,10.827676,11.848927,10.747667,10.769742,11.535142,9.361563,12.423495,11.767022,10.145918,9.935099,11.122777,9.327755,12.26372,11.819351,9.618578,9.418716,9.518285,10.09553,11.874975,10.663126,11.042539,10.60021,8.9442625,11.221022,11.778775,11.666983,8.892402,9.719896,10.264978,9.958197,9.987291,11.3877735,11.3646,12.866623,12.075207,8.912904,12.513249,10.792132,10.935623,9.81692,10.638885,8.880907,10.519152,12.854822,9.6324625,11.223521,8.793432,12.209589,10.724661,11.303896,10.073195,9.91223,11.38439,10.853379,9.123562,12.744489,11.453266,10.318006,10.538156,12.022414,12.166308,10.712472,10.348133,9.458819,12.051659,9.3889,8.036224,10.396716,9.604165,11.653543,10.202531,11.353381,10.353677,10.401934,10.404916,9.214547,10.252479,9.842835,10.662293,9.983937,11.023188,10.70663,9.20778,10.243587,11.184188,11.120845,10.146284,10.865897,10.887902,10.596581,9.717298,12.519384,10.172911,11.950791,9.577328,10.790744,10.663064,10.559952,8.682148,9.169207,10.339139,11.442228,11.968048,8.856445,10.128362,10.603452,11.584393,11.059136,10.981907,11.502858,10.62492,11.554899,10.293185,12.354854,10.924409,11.1535225,8.968346,11.3800955,11.810277,9.898085,10.756825,8.831404,11.722361,11.371708,9.83583,9.765435,10.843429,10.734568,9.600787,10.696301,11.366487,8.997537,10.22231,8.964196,8.9343,12.004431,10.390065,10.398237,10.456034,10.546837,10.848702,10.127553,10.376386,10.785322,11.287681,11.402367,9.8351345,10.03357,10.796805,9.847149,10.175351,10.313268,11.386553,11.540221,11.4745455,10.802065,9.763895,13.104736,9.4814825,9.929121,9.263932,8.638755,10.55236,12.501985,12.682292,12.530878,10.458442,10.97304,10.589938,11.824161,9.349718,9.641785,12.034755,10.450965,11.939136,11.372393,12.410187,12.271852,9.205402,11.932306,9.625003,10.568051,10.669646,12.611413,9.545232,8.69459,12.121655,8.966935,10.141866,10.487726,11.194825,9.928065,10.111847,12.424831,10.690846,11.433258,12.669359,10.584112,9.276938,10.3277,11.7584505,9.828795,10.433679,9.88005,8.602492,11.081428,9.506964,9.439191,10.065342,10.265498,10.433165,10.786311,11.064814,13.138514,9.659443,12.715657,10.863209,10.1164,11.4583025,8.991115,10.86534,11.200655,12.052092,10.423727,11.144092,12.789443,10.907193,10.959534,11.327722,11.849481,11.405705,12.696455,11.428089,10.337258,12.431102,11.961185,9.460357,11.205298,10.789721,11.726138,12.8032875,10.961596,10.150443,11.951017,9.21496,10.533548,9.261325,12.411012,10.823973,9.908965,10.910347,10.672112,12.262342,8.915252,10.685787,9.49783,9.21922,12.8300495,11.643325,12.503134,12.454029,12.098679,11.8839035,11.586501,11.830351,11.193201,11.033452,12.071483,8.820296,10.699424,10.3125925,11.215621,9.760372,10.045422,11.165972,11.428235,10.232406,8.980104,11.921809,9.885993,9.690307,9.807608,8.54044,12.39843,11.196065,10.880866,10.71905,12.495924,11.413656,11.468701,8.709361,10.068486,11.292681,11.574663,10.583187,11.330304,10.749308,10.243972,10.635029,12.71181,7.8216414,9.150515,11.189591,9.135531,12.36092,9.037614,9.050321,9.628056,9.259346,12.351531,12.443114,9.379323,10.600761,11.700975,12.302772,11.163203,10.186137,11.450057,10.543595,11.475934,11.610056,9.525538,12.381305,11.308064,10.1196,11.337413,10.508181,11.825442,8.533939,9.858743,11.255916,10.210475,9.454783,9.36477,9.602601,12.213916,10.836281,11.844698,10.598357,11.545242,12.77993,12.246343,10.768643,11.796514,11.7316,12.506912,9.75422,11.366535,9.575142,12.5771,12.112783,11.082903,12.47286,12.219575,10.237558,8.818118,9.852992,11.934411,9.185384,11.508928,11.207157,9.633355,9.650763,9.779302,8.679344,11.006548,12.161654,10.785809,9.736319,10.87176,11.820945,12.4724,11.886322,10.964916,11.0976515,12.517847,11.047929,9.83306,11.26624,10.865704,8.627292,12.230049,11.857327,11.425192,9.137813,10.523559,10.417519,9.6785345,10.529042,11.869997,11.393302,9.452739,10.906399,10.636298,11.095944,11.559921,12.077566,11.704123,10.804781,12.793654,11.281601,10.744781,11.105432,10.280281,10.281381,9.957016,12.980634,11.530782],\"yaxis\":\"y2\",\"type\":\"scattergl\"},{\"hovertemplate\":\"leiden=1\\u003cbr\\u003eUMAP-1=%{x}\\u003cbr\\u003eUMAP-2=%{y}\\u003cextra\\u003e\\u003c\\u002fextra\\u003e\",\"legendgroup\":\"1\",\"marker\":{\"color\":\"#E15F99\",\"opacity\":1,\"size\":1.707240317182898,\"symbol\":\"circle\"},\"mode\":\"markers\",\"name\":\"1\",\"showlegend\":true,\"x\":[10.118557,11.984236,10.489803,9.671459,9.765051,9.4669,9.975255,9.810495,9.724805,11.166371,8.341238,11.004941,10.489419,9.405155,8.531976,9.702063,9.918529,11.120646,10.40848,9.710108,10.185618,10.998028,8.981363,8.707414,8.277891,12.016423,10.513091,9.807649,10.105256,9.451189,9.027639,10.122817,8.63322,9.865711,9.29664,10.9339,9.035351,10.856953,8.820856,10.891458,11.608101,9.956777,9.745447,10.096599,10.314766,8.753375,9.901301,10.978503,10.148758,10.743189,10.9576845,11.422809,10.61088,11.049503,11.879048,10.35192,8.839762,9.012744,9.302625,10.189577,11.547531,10.856726,8.526561,9.596258,11.215876,9.5582905,10.444739,10.533563,9.85376,11.85851,9.785325,11.270134,9.606823,9.319943,9.353719,9.890201,12.087487,11.623912,11.130848,9.728184,8.397614,11.251493,8.335755,10.381291,10.998767,11.361024,9.747837,10.721598,9.772658,11.299912,10.396144,11.10311,8.887939,8.377833,9.600899,9.37103,9.552132,10.192048,11.266605,11.779492,10.568525,11.564085,10.452915,11.512028,10.023146,11.847364,8.439381,8.894826,10.107084,9.548155,9.550772,11.648625,11.545864,10.926177,11.519887,8.095028,8.821321,8.341016,11.407,11.00623,10.451816,10.438389,9.207331,11.91937,9.075352,8.798853,9.374404,8.2664995,9.861639,8.83166,10.047192,9.912177,10.15053,11.376802,8.317184,11.225064,8.237583,10.265885,8.946037,8.626063,9.106499,11.004511,9.270784,10.493005,9.6234665,9.459189,13.0236,11.524861,9.465178,10.169937,9.587611,9.601359,9.31169,10.503392,11.143358,9.455252,10.4977455,11.928072,8.777921,9.585286,10.598808,10.741567,9.107444,10.259551,9.615637,11.401267,9.543729,9.219035,9.27213,10.804519,9.945146,12.007724,8.731565,11.066088,10.561382,9.987213,10.346841,9.462385,9.992907,11.160893,10.827459,11.364396,11.069334,9.18562,10.8242655,10.036771,9.014623,11.103392,11.338398,8.5225725,11.466439,12.978653,10.355592,9.048022,10.27832,10.050308,10.005246,9.91506,10.236859,8.84488,9.549575,9.534065,10.840492,10.647431,9.114647,9.988947,8.7092905,11.149174,9.741373,8.480775,10.17698,8.377832,11.063988,10.361847,8.695214,9.725576,8.857851,11.888257,8.166443,10.070378,9.944911,8.5556755,10.639362,11.126136,9.641999,10.412105,10.570449,8.040729,9.767299,12.943023,11.245057,9.156963,11.459374,9.027754,8.992916,8.746057,9.172641,9.993242,9.297609,8.347623,11.874412,8.635102,9.943308,11.006701,10.540371,10.264164,8.430852,10.832552,10.471098,10.986789,10.675105,12.007436,8.421759,11.272553,9.972863,9.839809,10.495344,10.372164,11.95944,11.312712,11.152268,11.264051,10.478898,9.577419,8.41332,8.91409,10.796484,10.476734,11.089524,9.382158,10.649518,11.642633,10.124875,11.121543,10.389973,11.18175,9.729924,11.751759,11.143263,11.034555,11.3613405,10.869795,8.802704,8.947549,9.835488,10.133496,11.724452,10.023353,10.822989,11.070246,11.158069,9.720439,9.05869,9.201069,11.479951,11.530268,10.93883,11.867167,8.551746,10.192185,9.991323,11.784975,8.310567,10.6517,10.831722,12.484688,10.607654,10.534698,8.568132,10.808067,9.517415,10.725912,11.402464,9.161594,9.276303,11.441899,10.1942,10.336678,9.557707,8.985986,12.627724,10.328464,11.176232,11.555078,9.280249,10.186496,9.286948,9.141011,11.24486,9.691986,8.364034,10.459495,9.52456,10.864859,9.903972,10.247012,9.142369,11.311991,10.81815,9.797056,9.799435,9.262156,9.979386,11.638804,11.794345,9.341362,10.622681,9.162204,9.282033,8.481079,8.340127,8.645325,9.945669,9.793689,11.586022,9.125614,9.832307,10.775387,8.327203,8.984562,10.797504,11.883761,8.767673,11.247248,10.808186,10.521913,9.391359,10.445419,10.639543,11.793035,11.571691,10.324529,11.692121,10.038227,7.917259,11.040642,10.88426,9.575939,8.282973,10.918765,10.676654,10.13784,9.672032,8.862911,9.669786,9.846933,9.858535,11.579345,10.606464,11.3027935,10.078241,10.65227,8.745202,9.930638,9.88382,8.489108,8.987511,10.862595,11.37319,8.405139,9.940679,9.519115,11.040309,10.302238,10.91602,11.571691,9.497344,9.238689,10.414946,10.963874,10.074655,11.560332,7.853245,12.8255,9.78559,10.341102,9.929041,8.12843,8.129167,10.767303,11.062692,11.317936,9.524509,9.483381,8.197898,11.519301,9.449138,9.324144,9.681668,11.727509,10.9303055,9.603049,11.63861,8.984554,8.340666,8.627179,8.59296,10.547488,11.688158,10.265533,9.211344,9.579636,11.167345,9.10912,11.542087,8.836577,11.698898,11.0393915,9.521768,9.366761,9.124653,10.948765,10.863196,10.335846,8.879442,11.684737,10.9893055,8.503621,9.448352,10.658076,8.602603,9.62004,12.897484,10.825194,10.303058,9.095147,10.864448,10.923223,9.676965,11.450287,9.527492,10.371717,9.035534,11.088772,11.688332,9.634081,9.966547,10.678619,10.063657,9.182464,9.069666,10.227718,9.281933,10.502631,10.522712,9.918065,7.896376,11.043903,8.059046,8.391094,10.855714,9.639075,11.593832,9.850769,10.285916,8.834136,10.59067,9.560362,10.21403,11.229231,8.087666,9.282323,9.194822,10.20866,8.97039,8.122854,10.9808235,9.673689,9.045934,9.004551,10.915689,10.871532,11.729635,10.233087,10.135387,11.058411,7.9144154,11.40897,11.706136,11.837518,8.840014,10.931128,9.000993,8.439431,10.979501,11.079407,10.30322,8.943231,9.535596,11.148194,10.90685,10.007351,10.342782,11.93388,9.328576,9.358624,9.283317,9.530708,10.17661,9.790213,11.622007,9.916957,8.934985,11.188383,9.773501,9.437595,11.534099,8.416832,10.43121,11.627869,11.881815,9.958008,11.58433,9.46178,10.579697,8.935282,9.814207,10.552729,9.421505,8.418919,9.768132,9.883933,11.279139,11.057434,9.433673,8.880773,11.685157,9.585003,9.191683,10.803908,9.347154,11.827504,11.425987,9.934524,10.666726,9.71132,9.857544,9.080444,10.795655,9.426778,10.6417885,8.249236,11.349768,9.71068,10.6929655,9.341709,9.936004,10.350094,9.323086,9.736036,10.41685,8.8807535,11.03448,11.505167,10.086856,9.510898,10.888074,10.544579,10.070724,9.895831,10.529498,11.203615,10.516723,11.6714525,9.6416,9.607183,10.963482,8.983951,8.82925,8.831851,10.484009,11.223359,9.575263,10.45124,10.842097,8.8088665,9.183061,11.634627,10.326397,11.199252,8.83925,12.839376,11.103018,9.262016,9.602168,10.541833,8.469836,10.794556,8.896696,11.926175,9.6916,11.167588,7.911617,9.997311,8.414467,9.104799,9.208,8.711401,10.971398,8.915218,9.118913,8.493255,8.316537,8.93057,8.682873,11.643266,9.830044,10.082827,10.616316,11.454139,10.152743,10.843088,8.443946,11.275296,8.184131,10.48212,10.44556,10.045618,9.469578,10.98231,9.557107,11.012929,8.81392,10.0676565,9.617832,9.431907,8.935947,10.815467,11.190533,8.759039,9.864494,10.999149,8.592451,11.176633,11.866897,8.405373,10.4076,11.958174,10.101387,9.591584,11.092974,10.5523405,11.150035,10.274383,8.862,9.548494,10.247436,9.781362,9.2431755,13.009778,11.335093,10.10708,11.033195,12.06276,9.682788,10.669107,10.565934,10.230864,9.910895,9.4126005,11.002968,10.333602,10.974801,9.672629,9.863562,10.870939,10.238613,8.818291,9.692606,11.443903,11.297426,10.382918,11.936639,9.707494,9.395788,9.181204,9.973688,11.027964,11.353663,10.10294,10.286457,9.346494,10.985655,10.058448,9.682752,9.791708,9.100934,8.678609,9.370679,11.410533,10.977769,9.609012,8.975833,9.708625,10.264698,10.478126,10.865684,9.420298,9.654127,11.043794,9.985569,9.654239,10.936027,10.780342,10.372941,10.215966,8.86147,8.441774,10.10995,8.574744,10.25792,10.66422,8.677262,9.943128,10.160568,9.251591,11.467653,11.070301,11.163732,9.324491,11.227017,8.473772,11.164065,11.035907,8.830126,11.083354,8.921116,10.104207,9.1367,10.263175,8.400158,11.449763,12.141141,10.380995,11.048266,9.048054,8.938995,10.6380825,9.796602,8.256087,9.244527,8.780755,10.93595,10.429314,10.3422785,8.755863,8.963387,10.884573,9.959083,9.502237,8.718185,12.017965,10.460928,9.899495,11.772268,11.591595,11.988818,8.707629,10.958477,9.7773695,11.320865,11.051544,10.98085,10.753192,11.056333,10.008295,9.693761,10.968567,8.315905,9.603629,8.9979315,11.713997,11.312235,11.719723,8.436663,9.26105,11.104535,9.379956,10.018369,9.639301,12.098326,10.324391,9.863673,10.142295,9.903738,12.962486,11.858526,10.235842,10.723887,11.092911,11.639718,10.402623,8.918499,10.318295,10.357708,11.124514,9.245296,11.593483,11.003743,11.005815,10.17151,9.719059,11.012077,11.641381,10.262126,8.9549465,10.427869,10.7013035,8.801844,10.429788,11.010206,8.319356,7.8714523,11.858763,8.944382,9.548778,8.6243,10.793782,10.476573,11.914701,9.829873,7.8985176,10.8792,9.102292,9.040276,9.385004,10.566128,10.752986,10.014801,10.075131,8.617757,9.360277,9.178571,8.817971,10.396553,10.25077,11.0423765,11.20435,10.789102,10.893094,12.110196,9.913317,9.704565,9.375717,9.340166,9.487981,11.187648,11.281386,9.042755,8.626421,11.269432,9.001106,9.910297,10.3731165,8.340822,11.511124,10.113053,9.652156,9.974137,9.906168,9.447726,10.177061,11.678501,9.111664,10.776863,9.844387,11.379036,9.281214,12.002302,11.695493,9.627655,10.911341,10.536905,10.920969,11.117976,10.869263,9.995345,9.458274,11.415913,10.451657,8.70552,7.9750276,10.951915,10.078144,10.311665,11.14901,11.379573,10.629752,10.8697,9.2782,9.30323,8.205395,10.529235,10.193214,9.947041,9.813016,11.439726,9.878993,9.791462,11.102637,9.028992,10.743894,9.643157,9.935051,9.223143,11.693314,9.68926,11.088059,8.427876,10.379302,9.488964,11.201074,10.483697,9.644623,11.412811,9.929775,11.201354,9.554567,10.807633,9.282384,9.882143,11.988445,11.145934,10.354279,9.108771,10.986364,10.662797,11.912908,9.0209,10.202512,10.506829,10.888779,9.1782255,10.52298,11.650875,10.951763,11.154619,11.547726,11.650608,8.289643,9.113395,13.01349,8.927471,11.457843,11.052754,11.541328,8.276136,10.014126,9.887415,7.9987397,8.3950615,9.676734,11.104041,9.386724,9.707903,8.506605,9.399312,10.340571,9.640801,10.226209,11.395167,8.590969,11.576876,8.618503,8.313313,9.478331,9.044482,8.687034,9.177981,10.05575,9.8084955,11.027873,10.381202,10.233526],\"xaxis\":\"x2\",\"y\":[5.4870076,3.5042372,4.4443345,6.0785093,4.453104,4.8386307,5.8159995,5.23009,5.7472987,4.881559,7.0235248,5.5520105,4.6573443,5.4703436,4.5908074,5.31547,5.873185,5.445917,4.4178514,4.3976865,3.8354273,4.0997343,4.336777,5.0738196,7.0933976,3.5445814,5.351814,5.20336,3.936284,5.8463597,5.955317,4.5127025,5.023957,5.5657663,4.2518244,3.9451199,5.140565,4.8699646,4.6582084,4.238898,4.715161,5.5337687,5.7825594,4.272987,5.7194476,5.1146817,3.9162345,5.671673,4.605288,5.654724,5.4312096,6.2228737,5.714677,4.511809,3.4695609,5.2018213,6.2787824,5.598697,4.111441,5.5329466,3.443639,4.2505665,4.426573,5.355269,4.4871044,5.32055,5.2168803,4.8200426,4.3879623,4.9366994,3.8454921,4.419408,5.720182,6.0756826,4.4375014,4.0826187,5.6512737,3.404296,3.547454,5.276147,5.1866646,3.6410074,4.5004315,3.840178,5.6861672,3.49043,5.4015417,5.397831,5.240815,3.4462047,5.5545244,5.7701097,4.390144,4.6176796,4.311428,5.4775414,6.033436,5.31924,4.8596992,5.1680994,4.5264955,3.4143662,4.8037677,5.2912197,4.0235767,4.9690437,4.608842,5.2534685,5.1054745,5.867091,3.9416842,4.6102962,3.4178205,5.223376,4.1307454,5.0335727,5.3261027,4.630075,5.2294497,3.690288,5.982504,5.4433875,5.0101295,5.0374665,5.992789,5.0230594,5.9135704,5.3963532,6.4590197,5.2001967,5.248995,6.930546,3.786371,3.4270492,4.6631117,5.099132,4.837114,4.9832015,4.7223997,5.6835976,5.933929,5.5810695,5.3882093,4.87252,6.1358905,4.524444,4.224753,4.2626543,6.003048,4.4234524,4.5395803,4.816678,5.1179404,3.7333,4.583248,5.29588,4.982566,4.6193433,5.6189656,5.7553515,5.9659476,4.349028,5.6988864,5.4725013,5.3003426,4.1089664,5.625097,4.3538485,5.1871104,4.2233324,3.7617733,3.5252333,4.383211,6.0419416,6.6665363,4.260556,4.748601,4.3177214,3.9142706,3.729552,5.5336347,4.5403495,6.3871536,4.3096704,4.70265,4.0136147,4.3123765,4.8695693,5.188695,5.2968817,5.2434254,4.2002277,4.7589197,5.2641377,5.7436132,4.4196315,3.8178864,3.8667,5.455641,4.2920394,6.31629,4.377446,4.3070974,4.5737953,5.169471,4.2884007,4.8604574,4.884579,5.4925036,4.5972285,5.044624,4.706783,5.3241277,3.7725198,4.34597,4.837901,4.850965,5.01745,5.167076,3.9237459,4.252685,5.5990243,5.670698,3.6705055,5.5799284,6.7404757,4.841167,5.844999,4.798504,4.138975,3.4739542,5.1634736,4.7195315,5.266144,4.3475966,4.745422,5.7558737,5.2484074,4.7372684,5.1625085,4.563092,5.430843,4.2485166,3.9159513,6.5779433,5.7234144,4.7114835,5.5262175,4.845956,6.7281613,5.520595,5.6820207,4.4360266,5.010143,4.479837,3.9112096,4.292605,3.8450315,3.571856,5.4516973,3.7754154,3.473488,4.873011,4.5771656,4.4513054,6.3317227,5.5368047,5.316623,3.6090682,4.2230563,3.8335457,7.4690723,3.7881465,5.204339,3.738894,4.9183745,5.257747,3.5707922,4.8437524,4.967542,5.443399,3.8262506,4.5789657,5.540713,3.9696903,4.3776283,4.885584,5.442119,4.430068,4.4785085,5.3707204,6.010134,4.775734,5.6218853,3.7279751,3.417333,4.3083515,4.9599056,5.145317,5.0843477,5.3465962,3.548278,7.063295,5.578481,5.5685744,3.9782228,4.821487,5.5994387,4.670677,4.800269,5.3331895,4.985002,4.979093,5.496689,5.434334,4.598669,3.8984425,5.8082023,5.329744,4.246456,3.9535997,4.8983946,5.423067,4.252514,5.067083,5.7550015,5.497187,4.9096627,4.3212132,4.5928655,4.460847,6.086577,5.579568,4.9626546,3.980534,5.357494,4.223394,6.34864,5.6529737,4.2208014,5.3844666,4.3770823,7.0629945,3.6322737,5.0374837,4.2935348,5.1561203,6.4969945,5.635126,4.4444494,4.6281753,5.6432414,5.604767,5.824819,3.4381416,4.460309,5.6371536,5.5225058,4.536711,4.286849,3.938738,3.480755,4.489366,4.037253,5.6272674,7.177248,4.1733155,3.722385,4.3425746,4.962389,4.752643,4.2889395,5.0973,5.3766327,5.6684093,6.536823,5.2338047,5.5316634,4.6703887,3.7472756,5.808386,3.866575,6.3160214,5.473072,5.5117993,6.972314,5.12924,4.344861,5.717938,3.7605865,6.573544,3.9865875,5.851351,4.3359833,5.433679,4.4570584,4.234348,6.2251725,5.4254637,5.2705817,5.181,5.4494424,3.6763153,3.9059231,6.1155453,5.1259546,4.1809645,4.6643353,3.7541354,5.5346665,3.8503897,4.21811,5.7908077,8.649582,5.3543525,5.25545,5.6924314,5.36718,5.0004377,4.0271826,3.777262,3.4800355,5.520394,3.9446995,5.641623,3.8176231,6.2248673,5.5549545,4.24071,4.3311877,6.0563498,4.097324,7.4921894,5.4993477,4.5310135,4.5483017,4.437232,4.7224503,5.4625473,4.650651,4.198636,5.3037558,5.10649,6.2134533,3.4161599,4.547471,3.4596326,5.2268867,4.147199,4.563555,5.344545,5.458138,4.4920797,5.8021693,5.981776,5.5709496,6.4421196,4.624349,5.713704,5.221248,4.360027,6.0471973,4.1056333,5.4242163,6.6852803,5.2781835,5.575545,4.833837,4.507818,5.3476615,4.7916994,3.9024913,4.324772,5.2226963,5.09829,4.426187,4.5552073,4.263851,5.8140564,5.1825304,5.9927545,4.978205,5.6939626,3.7824404,4.355611,4.3387623,5.552419,4.7756004,4.931869,4.4648423,4.754388,5.27784,3.4010823,5.78295,5.4205937,5.4133825,5.562778,6.1314154,5.623812,3.6956894,5.1994634,5.3044906,4.854837,5.7796016,5.5384555,5.2045774,5.5417533,3.8423724,4.4677486,4.6180005,4.85991,5.619883,4.906097,4.712045,5.3963876,6.6338673,5.693155,4.75507,3.7402546,3.5029972,5.524959,4.889192,4.4656444,5.406447,5.6631956,5.4263897,4.1268578,5.340424,6.1784163,5.019782,6.273695,6.069881,4.7542725,3.5467923,4.3930364,5.550842,5.461243,4.460915,5.46748,5.7403283,3.3950503,3.8281362,4.875171,5.134239,5.150968,4.2063456,3.5865471,5.782594,5.705026,5.1751723,4.9577513,5.470007,5.503229,5.6808867,4.2703786,5.289416,6.752165,5.6848907,4.28129,5.3586416,5.1748676,5.8692536,5.0615096,6.2962365,5.596266,5.221973,5.240487,6.1769013,5.302867,3.6454744,4.377395,5.103818,4.207674,3.988881,4.956191,5.276835,6.8895917,6.662974,5.5016494,6.2288237,5.6817374,6.2049613,4.717913,3.8687985,5.6451178,4.148997,5.5976853,5.8840036,4.7243195,7.177938,6.877555,4.670642,4.251935,5.192909,6.183198,6.0372744,6.4107995,6.70146,3.9097714,5.8225737,3.9385638,5.386834,5.058543,3.4082465,5.7349873,5.912262,4.517906,5.664461,5.439209,4.894995,3.7428994,5.371761,4.4874635,5.4445887,5.631237,5.2501383,5.843116,4.893918,5.426608,3.453039,4.366594,4.0593567,6.4518285,5.5324993,6.0902133,4.8239965,4.6009226,6.1100135,5.3236957,5.222044,5.616927,4.8098664,5.5294037,3.951996,4.4885154,6.6326222,4.5225472,5.652177,5.185875,5.2588735,4.377167,4.445505,7.058199,4.305828,4.791482,5.121685,4.118859,4.5860825,6.1907034,4.1993785,4.7893,3.9952486,4.429341,5.3573318,5.6258006,6.2611923,3.7924376,6.5144224,6.1574054,4.9644794,5.9201617,3.5712183,4.8897324,5.082787,5.6610065,5.4665074,5.458449,5.591124,4.224322,4.369015,5.8979506,5.0063868,4.786292,6.37083,4.928302,5.251926,6.8790464,3.5085065,5.26828,5.0869646,4.7394114,3.944732,3.5301714,5.337518,4.667157,4.3905983,5.43821,3.8525243,4.2030344,4.1992984,5.120975,6.797713,4.737516,3.5606728,9.686539,5.1484737,5.5615187,5.4944386,5.8536644,4.8460646,5.6853604,7.252221,5.605203,5.2944756,6.1332445,5.661825,5.780839,5.4996653,5.621425,3.5928488,4.677702,5.4203115,5.0568533,6.3693795,5.266988,5.582161,6.607245,5.9561844,4.428219,4.3712707,5.0474863,4.159142,6.7316837,3.9528897,5.2793093,4.0658765,5.432616,4.3676987,5.956903,3.4291272,6.219134,5.230564,4.6829886,3.858014,5.1301417,5.7060337,5.006565,6.073476,6.1907096,4.5620995,3.962235,6.047903,4.542578,4.957286,5.004562,4.0302644,4.858925,5.5948515,6.840791,5.5766697,4.602748,6.6431,4.989972,4.2953186,3.8572574,4.281449,3.4937146,6.09422,3.9371693,5.7922297,5.5423093,4.58581,4.842025,3.747971,5.09933,5.1248507,4.333343,5.685563,4.24063,5.149617,4.595444,3.5642178,3.609562,3.8322802,6.149124,4.4606647,5.4671464,5.3615904,4.295861,4.8698535,4.099767,4.434047,6.2228794,4.709848,6.970679,5.7021446,4.2925878,6.0752406,3.8709412,4.7079473,4.9097843,3.538318,4.991155,5.2318373,4.1638427,4.415575,5.0545287,4.437505,3.9025044,5.7677393,3.6508944,4.1492,4.32755,4.681406,6.3613596,5.5696187,6.8625016,4.3093853,4.5087337,4.3071885,4.385518,4.8375964,5.5196543,3.4263737,4.848089,4.3984923,6.01603,4.269074,3.9187033,4.297239,5.185729,5.219665,4.6590157,5.6772304,3.839102,4.153226,4.9522204,5.8030114,5.7243657,5.57376,4.281285,3.8367186,4.8853636,7.0514526,5.2194963,5.3090854,5.574843,5.240661,5.6001644,5.5164776,4.71271,6.29547,5.546542,3.3942628,4.748422,5.3057985,6.6449056,5.1655803,4.3285346,5.525613,4.2189527,5.7252073,5.5212145,4.508607,5.636751,4.255228,4.4173,6.1345725,5.6734786,3.5024242,4.7690616,5.689606,3.7276723,5.2712636,4.3099914,5.4136233,4.963698,5.2002854,3.8905704,4.241566,4.9809885,5.4769807,4.106438,5.6980352,5.368977,5.8743424,4.128415,5.138198,5.1270933,5.296297,5.0256057,3.8363218,3.8834321,4.2766757,4.8121896,4.500438,4.3907137,4.8398666,5.4317102,4.5291195,5.3327136,5.5823965,3.8859277,4.5571404,4.6181254,5.2815204,5.579928,5.944629,4.540308,4.2240424,4.171299,5.940603,7.484749,4.2452497,6.523027,4.0893674,4.665525,5.5038953,3.5450263,4.952775,4.7351537,4.05222,5.5857673,3.8383443,4.835341,5.24002,5.5071144,6.044791,4.7959547,5.9814167,5.073204,5.212412,4.9230638,5.612766,5.6648326,6.4391627,5.268312,4.0370398,4.281185,5.2953076,4.742292,4.8478866,4.099142,4.91449,3.9788806,5.790742,5.1217146,5.2942433,5.1753783,5.573137,5.23725,3.5836608,6.8718133,6.2060204,4.1138043,4.7956924,5.2578425,3.7691581,4.410985,4.5126567,4.1203823,3.4545386,5.401381,4.248598,3.5304203,6.8832426,4.1489553,6.0012,5.1885448,5.176667,5.178755,3.5675092,3.5376067,3.9227202,5.1824374,5.520983,5.5229096,5.610104,5.4052777,3.9218476,4.0045385,4.2593656,5.530197,4.7882557,5.543184,4.4728413,4.86167,3.4084976,5.147415,5.333494,5.304457,8.534113,5.302302,5.0346622,6.0858316,5.21406,5.7771854,4.2963667,3.9288406,5.2553377,4.8165874,5.794255,5.090536,9.64656,5.3761573,4.4216895,4.788992,3.8488467,5.853045,5.7555957,4.841455,5.2088294,4.853745,5.005061,7.0500083,5.4459305,5.7617164,5.3120255,4.9931016,4.5448923,5.8749075,4.8292794,7.226244,4.5911956],\"yaxis\":\"y2\",\"type\":\"scattergl\"},{\"hovertemplate\":\"leiden=2\\u003cbr\\u003eUMAP-1=%{x}\\u003cbr\\u003eUMAP-2=%{y}\\u003cextra\\u003e\\u003c\\u002fextra\\u003e\",\"legendgroup\":\"2\",\"marker\":{\"color\":\"#1CA71C\",\"opacity\":1,\"size\":1.707240317182898,\"symbol\":\"circle\"},\"mode\":\"markers\",\"name\":\"2\",\"showlegend\":true,\"x\":[10.114906,11.000615,10.959172,11.858064,12.230613,10.535316,9.868929,11.770052,10.455998,10.869425,10.007658,10.765712,9.993112,10.381031,9.594927,11.316277,10.373274,10.3353615,10.538066,12.973732,11.570332,11.434768,10.583127,10.831407,11.938914,10.630495,10.971037,9.984329,10.614199,10.59969,11.4826355,10.533738,10.396056,11.531915,11.693758,11.364112,9.893723,9.68237,11.559902,10.14542,11.168189,11.1987705,11.121587,9.798158,9.646306,12.129863,10.8817835,11.365977,9.92297,10.067603,9.989154,11.665572,9.586189,10.354185,11.412321,11.475505,11.797637,12.314228,10.373504,10.374085,10.219664,10.501074,10.485702,11.379898,11.137994,10.304509,10.353038,10.473421,12.955019,9.914289,9.856989,9.930807,12.959704,10.932484,9.979899,9.869354,10.332348,9.623033,10.475334,11.315029,12.54618,10.091646,10.530697,9.566365,10.201303,12.951177,11.914361,9.9833975,9.933591,12.980659,12.65704,11.247134,11.290279,11.94743,11.133946,9.777503,11.400163,11.813915,12.27355,10.375646,9.791121,11.450595,12.979407,11.115998,11.916314,10.028942,10.484426,12.974456,10.419038,11.628738,10.398396,10.576971,10.269116,9.50912,11.117707,9.985533,10.637699,12.954493,10.835391,10.848874,10.911533,10.053682,11.795422,11.648305,10.551771,9.66025,10.016347,10.128151,11.476419,11.094628,12.239455,11.101962,11.17099,10.961957,11.45853,10.61733,10.843288,10.111189,11.659583,10.631588,11.127277,11.245272,10.444409,10.959639,10.171527,10.702038,10.556251,9.812471,10.271624,9.548775,10.378689,11.674872,10.718629,9.146785,9.688112,10.622041,11.810655,10.30047,10.406661,12.175234,10.439782,9.991963,10.301884,11.202461,10.34284,12.126684,10.369215,12.964683,11.00642,10.445635,11.109067,10.588133,10.455429,10.099127,11.520299,11.023241,10.850522,12.893909,11.479445,10.246299,10.727969,10.933496,11.297676,10.576243,10.492244,10.407222,10.905218,10.09376,10.459613,10.309385,9.763599,10.777232,10.3926525,11.043707,9.735692,10.239574,12.489373,11.32927,10.29787,11.391913,12.073781,12.023687,9.590163,11.489658,10.621257,10.199667,12.182292,11.667483,10.373085,12.94752,10.512093,11.026,10.155074,12.936568,10.371586,10.492852,10.286439,11.100914,11.988926,12.904293,10.3446865,11.71,10.543249,11.336203,10.360064,11.330042,11.476224,11.757482,11.104193,10.328581,10.905807,11.326088,10.505671,10.516735,10.639708,10.151659,11.477915,10.473312,10.113884,10.528759,10.539234,11.128303,10.963132,11.218144,9.977838,11.960666,9.651779,11.26691,11.859705,10.571946,11.335939,10.458352,11.27737,10.870074,12.182447,11.436712,11.837538,11.224379,10.526431,11.673704,12.884175,10.382878,10.342359,11.105621,11.406455,10.286298,10.881392,10.532051,10.246205,12.171337,10.703837,10.293126,10.316736,11.468976,12.200743,9.976215,10.090769,10.593197,11.174737,10.006081,12.903103,10.991538,10.597318,10.231133,10.174675,9.940749,11.686768,11.733233,11.27574,11.895136,10.419806,10.677455,10.161341,9.538704,11.600323,9.62357,9.591756,10.989767,10.313474,11.446782,12.435055,10.5509405,10.56106,10.92961,9.821821,11.170198,9.6092005,10.533097,10.461037,10.075421,10.483995,11.670235,11.333666,10.09072,10.927857,11.176472,11.351359,10.2120285,10.665415,11.651282,12.224081,10.160186,10.339416,11.090151,9.996515,12.019284,10.061,9.918033,9.631436,11.05768,11.467483,10.221751,10.659478,10.379546,11.351185,10.049128,11.253225,10.089884,9.6326065,10.220403,10.522142,11.069983,11.221181,11.1992035,10.880846,12.297073,12.130163,12.222246,11.217521,11.308286,9.959525,10.111297,11.535769,10.281896,10.706718,10.472845,11.932636,12.0710745,10.127567,11.448938,10.436316,10.386979,10.590831,12.590374,12.359596,10.876803,11.834942,11.580649,10.094216,10.491665,11.026635,11.559023,10.714704,10.981523,11.613187,10.8679495,9.55917,11.212328,9.566782,11.236369,11.611578,9.832052,9.964313,10.258632,11.089677,11.271835,11.035929,10.512506,10.939338,10.456067,10.932336,10.359236,10.11376,12.118923,10.590766,11.26947,9.935848,11.189551,9.990683,9.954376,9.893585,11.481533,10.007416,10.369406,10.449913,9.608886,10.066568,10.065803,10.387923,11.382891,9.974249,10.590195,10.137449,9.6399555,10.5760565,11.686963,10.033859,10.450791,12.7223425,11.889986,12.909369,11.084185,10.671959,10.551352,11.8495455,9.285869,11.065151,11.58758,11.002954,12.428675,12.9055605,12.945238,7.492734,9.719004,10.299991,10.195668,11.869498,10.492617,9.561551,12.004332,11.351551,11.203325,10.363244,10.60304,10.994642,11.385429,10.7364235,10.594267,11.38292,10.092187,11.117172,11.231119,9.774146,9.877651,10.969771,11.39137,12.19969,12.9866,10.054831,10.30908,10.174907,10.178197,12.959252,11.0199795,10.948209,10.192764,10.3194685,12.091573,11.177951,10.749751,11.464972,12.122632,10.4794655,11.76327,10.445359,11.134392,12.742764,12.456345,10.761503,10.324405,10.221633,11.038343,10.8060875,11.636078,10.721213,9.817247,11.365756,10.908568,11.853409,10.539271,12.960128,10.570491,10.357695,10.792772,9.535328,12.508998,10.103506,10.19238,11.09398,10.117436,10.991211,10.460537,10.119194,10.054463,10.132792,12.756631,10.52246,10.311265,10.291073,10.397849,11.16608,10.252721,10.437416,9.119589,10.069611,12.909934,11.477478,9.713061,12.613184,12.154624,9.887156,10.383852,10.699779,10.611497,11.533065,9.785939,11.922039,12.965631,11.867213,10.567183,11.245303,12.052817,10.514075,10.035523,10.731233,12.242195,10.479121,10.707454,10.6893635,11.032942,10.40471,10.161452,10.140116,12.3604965,10.3297,10.156162,11.986655,9.90575,11.452956,9.654486,10.335969,12.234777,10.389649,9.773119,10.127705,10.958032,10.976405,12.54447,9.314888,12.597332,11.9229555,10.537087,10.297489,11.478973,10.158401,10.41365,10.133605,10.520061,9.955889,11.172373,10.460639,11.956068,11.168819,12.775468,10.404531,11.216104,10.001045,10.749405,11.421848,10.397362,10.997036,10.007529,10.493898,11.04503,10.156532,10.040577,9.89939,11.347062,10.134396,10.4375515,12.165862,10.523262,11.168628,11.403186,10.068747,10.231112,10.547603,11.7325325,10.339899,10.590274,11.207157,10.645096,11.302255,10.2493515,12.994847,11.318606,10.054904,10.195629,12.990137,11.399366,11.755745,10.896131,10.394987,9.951964,9.565419,10.23536,11.34454,10.147615,10.359818,10.396268,9.780674,10.534161,10.528087,10.294266,11.807876,10.149939,11.19064,10.933421,10.4767275,11.653331,10.578659,10.14964,11.306449,9.676396,10.262146,9.912742,10.20145,10.614887,10.084128,11.12991,11.421892,11.418198,11.260138,10.961525,10.425321,11.663824,10.311537,10.430125,11.347965,10.231992,12.249456,10.249142,10.325744,10.667553,10.564316,12.952223,10.166711,10.138798,11.760977,10.468095,11.102357,11.247022,11.728383,9.999734,10.135724,11.302456,10.175318,11.032283,11.437374,11.465655,10.344187,9.793806,12.044916,10.520184,9.898031,10.56256,11.065434,10.168837,10.10153,9.385094,10.661025,9.384587,11.404551,10.630089,10.352141,10.949278,11.12386,9.805806,10.395302,12.993019,10.654617,11.774762,11.432688,10.69623,10.538605,11.428945,10.267356,11.045968,10.20291,10.137277,10.052125,10.057126,10.694126,11.328332,10.496744,11.277873,10.332748,12.136882,11.410048,10.746702,10.586551,11.27326,11.1383705,9.964406,10.703127,10.356223,9.762319,9.98916,12.9741535,9.58807,9.654959,10.274781,11.464093,11.400168,10.507143,10.004708,10.838045,10.587273,9.714567,11.290473,11.313462,10.818163,10.444852,9.650838,9.928933,10.037689,11.192911,12.1447315,11.12191,10.922314],\"xaxis\":\"x2\",\"y\":[11.681074,10.452743,12.797676,11.808113,11.1285715,12.205255,11.20665,11.812262,10.715001,12.633315,12.212183,12.267997,9.513008,11.897704,12.919492,12.682045,11.989923,12.58615,10.93839,11.491133,11.798526,11.838371,10.580736,12.20873,11.903345,11.568395,12.088904,11.3385,12.316113,11.500616,12.611815,12.392616,9.738181,13.38605,11.615435,11.39074,11.334629,12.292355,12.648903,11.930875,13.148678,11.097595,12.01349,11.8518505,11.171045,11.522172,12.202863,12.034338,11.722943,9.272044,10.319472,12.721149,12.280437,9.6393175,13.142283,13.202113,11.182141,11.039768,9.688557,9.879139,11.676226,12.657639,11.849223,12.007029,12.528814,10.468118,11.258518,10.791719,11.515475,11.650302,10.863473,13.092636,11.621951,12.89735,11.745341,13.114643,13.201661,12.694939,12.263393,12.179631,10.380144,12.918398,10.785339,10.609959,10.768608,11.483645,11.548039,11.973479,11.957812,11.209317,11.708633,12.17869,12.283792,11.799936,10.650749,11.737538,12.873445,11.300463,11.314902,7.387421,9.007919,12.7624,11.555949,13.299498,11.546635,11.142085,12.232611,11.560662,12.083913,11.723253,12.771373,11.54483,9.507284,12.693704,12.492183,11.337092,11.851408,11.340595,12.435437,12.399473,10.617718,11.791465,11.320375,12.944237,11.586383,12.185831,11.3457155,8.890313,12.078398,10.478823,11.129701,13.134498,11.112561,10.820861,11.661323,10.624911,11.87697,11.804437,12.000271,12.153174,12.476359,12.325374,9.908993,10.704788,11.659175,12.965413,12.652033,9.159237,11.812692,10.015323,10.557714,12.77666,10.687354,11.891175,12.223098,10.991212,12.508739,10.584477,11.23143,11.60495,11.768253,11.116703,11.555018,12.923753,8.455861,11.599358,11.701657,11.494876,10.837926,11.429329,12.059844,12.827824,11.501604,9.000741,12.8014145,10.671027,11.701045,11.340075,10.818277,9.827021,10.607292,12.094401,11.410159,11.093227,12.151979,12.083554,11.630014,12.173115,13.039229,12.873291,11.985744,13.134511,11.831379,11.336076,12.288742,12.778408,11.81652,11.3609495,11.193788,12.192466,11.580312,11.694807,12.629677,12.133382,10.357465,9.019431,11.750067,12.685981,8.9695,11.427865,12.508912,13.444772,9.67106,11.515879,12.088991,12.095137,12.688947,13.019744,9.610659,11.500817,12.580562,11.146122,12.1720295,13.4494295,8.63304,11.617071,12.251209,11.251598,12.603773,12.124695,11.775512,11.36289,12.062251,11.428598,10.603364,11.633445,12.510457,12.917249,8.442256,11.154662,9.923629,11.530554,12.082376,13.162613,11.258734,11.849233,11.543327,12.677365,12.586565,12.616086,12.151155,11.474877,12.177856,12.319222,11.478997,11.705184,12.637893,13.18411,12.606088,11.088818,11.488077,11.818141,12.622393,12.566225,12.264437,9.851483,13.020218,8.347012,11.313233,11.5919285,11.883903,12.423118,11.714665,11.368409,11.568127,10.516022,11.171125,10.756464,11.849052,12.610015,11.492221,12.67248,11.044438,11.710739,12.091025,12.138338,11.699645,12.240826,11.93673,11.211001,9.792812,10.828432,12.230697,12.702132,11.732003,12.166975,12.772429,12.680969,8.913875,12.350811,10.717096,12.351144,11.801325,12.140074,11.809145,11.1069765,12.852062,8.671063,10.75929,8.298266,11.395345,12.680591,11.402516,12.234428,12.161745,13.254214,12.07163,10.658758,12.620025,12.852998,11.710317,12.442481,12.644152,10.292386,11.277676,11.624663,11.979453,12.706913,12.763127,13.078801,13.459996,12.408087,10.067053,12.706765,12.2478285,11.204153,13.284671,9.103378,11.453803,12.773991,12.878192,11.324437,13.256414,11.925829,11.783879,11.169733,11.693704,11.021456,11.59961,10.594554,11.187339,12.227571,11.419644,11.967356,9.185314,11.342076,11.987045,11.321531,12.261855,10.902592,10.576437,9.708382,8.542569,11.760654,11.856671,12.773458,12.190378,12.930056,8.958854,11.975234,11.63996,11.767235,10.768469,13.486953,12.307672,13.066569,12.066928,11.442402,12.473888,12.125551,10.956329,9.920258,9.673084,9.963889,12.843089,11.676526,12.521059,11.438095,11.1551895,12.476873,12.112496,10.786377,11.236717,11.478056,12.400322,11.309263,12.188004,11.220959,11.285734,11.36244,11.913093,12.7944975,9.691471,13.072739,11.1172285,11.919607,9.066771,11.529889,12.0857115,12.017929,11.973668,10.713481,9.763289,11.634371,11.681394,11.120814,9.6029005,9.971178,9.987045,12.129899,11.612997,13.4705715,12.128197,11.578684,12.510183,12.028298,12.988765,12.872495,12.479269,11.031887,11.54243,11.586845,10.596877,12.902977,12.775994,12.617746,12.06482,11.518516,12.200904,11.920022,12.119453,12.630816,12.6082325,8.565375,10.575401,11.659898,12.5151415,12.023207,13.167303,12.667075,14.126279,13.47243,12.305105,11.6737175,12.210934,11.781828,11.352409,11.515156,12.243373,9.888426,11.540086,12.209937,11.663464,12.0782585,11.754784,12.479063,12.2411585,11.233398,13.570225,13.035606,13.177681,11.402052,11.897832,11.804768,9.788949,14.208643,10.002498,11.800613,12.194531,12.052672,12.952746,12.466566,9.431338,12.701523,12.686727,9.219957,11.723242,12.538513,11.125066,12.051149,11.231009,11.160372,12.140072,11.310677,12.030535,10.237417,11.945587,11.717755,12.261041,12.181247,13.470935,11.778459,12.036822,9.41545,12.542173,11.614602,10.923983,11.464715,12.736741,11.630075,11.905575,9.378541,11.446775,12.027881,10.868822,9.743785,12.417989,10.599567,11.726173,11.448475,12.002096,12.163039,10.625198,12.723226,12.032989,12.193931,12.019031,11.515901,11.313005,10.185577,13.386928,11.211746,11.62502,11.284162,10.934879,11.596374,12.329891,9.236019,12.244708,12.196145,12.619724,12.346527,11.174516,11.494989,11.620529,11.379511,11.671488,12.831874,13.540192,11.660614,11.556434,11.091144,11.694387,11.822173,12.156038,11.85445,12.135088,10.412844,11.588508,11.773151,11.886963,8.356581,12.133722,11.343525,8.658487,10.083299,12.8860655,12.839834,12.016485,13.391586,12.280306,11.06281,12.52012,11.617327,11.393281,13.514555,12.928309,10.873812,11.94838,12.010875,12.091645,13.331268,12.550093,12.069851,8.999907,11.471927,12.715075,13.4924,11.109261,12.083084,11.530798,12.611545,11.909874,11.598955,11.267565,12.524351,12.470225,11.8095875,12.458038,12.31271,12.511765,12.0773,12.081693,12.49747,11.623979,11.852516,12.028498,12.366708,11.574054,11.687134,12.697942,10.619346,12.058883,8.832059,12.41622,11.974076,11.897818,12.864159,12.114416,12.670398,12.47368,11.950745,11.586588,12.873252,12.160666,11.177395,11.917899,12.144642,10.85379,11.041432,11.202403,13.254881,13.416118,11.653745,11.3021145,12.478453,12.808904,10.546019,12.178615,12.320385,12.535278,11.496633,11.980558,10.423992,12.49041,13.14294,12.108934,12.158002,12.218503,9.006505,11.389204,11.031089,9.637472,11.696969,10.564138,11.54079,9.222992,11.084953,11.209522,11.727556,13.139969,13.031549,12.353816,13.116954,11.717308,13.4262705,11.336343,10.864219,12.469331,11.267044,12.708676,12.275446,11.767605,11.565512,13.11819,12.316668,11.336986,11.569693,10.061022,11.775479,10.7307205,12.789725,12.329132,12.4245,9.844368,11.613776,11.81497,11.70712,11.653087,11.488455,10.516293,11.272383,11.949599,11.881806,12.055318,11.524497,11.968025,12.503922,11.190934,8.999475,12.037372,9.078703,12.636158,11.975262,12.21077,12.636728,9.672341,11.148909,11.605861,11.754552,10.84709,11.746102,10.16008,10.746586,11.846157,10.788702,11.697684,10.487819,11.460517,12.649937,11.612102,11.701675,12.85814,12.984579,10.722438,10.48197,12.551718,12.458722,10.088813,10.646818,11.869701,13.065038,12.786681,12.854965,13.14777,12.277547,10.303864,11.227889,10.204536,11.94126],\"yaxis\":\"y2\",\"type\":\"scattergl\"},{\"hovertemplate\":\"leiden=3\\u003cbr\\u003eUMAP-1=%{x}\\u003cbr\\u003eUMAP-2=%{y}\\u003cextra\\u003e\\u003c\\u002fextra\\u003e\",\"legendgroup\":\"3\",\"marker\":{\"color\":\"#FB0D0D\",\"opacity\":1,\"size\":1.707240317182898,\"symbol\":\"circle\"},\"mode\":\"markers\",\"name\":\"3\",\"showlegend\":true,\"x\":[7.5108976,7.1611233,8.665839,8.384353,9.106788,9.831671,7.214272,7.9318514,11.388076,9.627232,10.043122,10.520137,9.709216,8.709439,8.109977,7.332653,7.4747615,9.116348,8.990927,10.239364,7.475191,7.5953918,7.4230514,7.379204,7.2693844,10.553237,9.762699,7.973044,7.946583,7.4352403,7.5308566,7.560535,7.436355,8.780334,9.209534,7.5267067,7.4027114,8.485738,10.632259,8.741545,8.519752,8.150952,9.824736,8.215439,7.596147,7.2876105,8.512143,9.43453,9.842695,9.885571,7.9152293,9.366895,8.0660925,9.261858,10.135533,8.354599,8.030392,8.513015,7.067437,9.491761,8.113178,8.841854,9.17206,8.6556015,9.181806,8.79551,7.221451,7.353257,7.218379,11.506732,7.3698993,8.850538,8.847531,7.9847236,7.164482,7.3480535,8.009844,7.5639434,9.318504,8.798195,7.664675,9.972502,7.348384,9.475164,9.112635,9.338114,7.6512313,7.5590115,7.474498,8.077057,8.067928,8.597984,7.147468,11.111094,8.60736,8.921231,8.117853,9.796193,7.481674,8.88474,9.582823,10.379975,10.795971,8.368631,8.506402,7.348598,8.6576,8.064531,9.243568,10.7957115,8.766562,9.403397,9.219749,9.494985,10.873245,7.5116014,9.827024,7.219168,9.853371,9.717214,9.23126,7.084278,7.9578834,7.096018,10.767546,9.200644,10.221958,9.492651,7.511646,8.078843,8.980224,8.869794,7.988746,8.818176,7.7935624,7.579155,8.876821,8.502814,7.976631,10.632259,11.186477,7.423849,11.198378,7.4186826,9.2438965,9.09908,7.5000024,7.0080733,7.246459,8.735803,7.9345846,8.941412,8.934913,8.870223,7.312228,7.1160555,7.281863,7.1956644,10.104268,9.214637,9.464972,8.865793,8.745296,8.863176,10.733195,9.943155,10.238177,10.66154,8.633913,8.733316,9.026184,7.3682323,11.643693,8.9504595,9.192114,11.665722,7.7667794,8.652641,9.706501,11.389181,8.11565,10.439019,8.964825,10.436661,8.832518,7.460322,7.300677,7.321319,9.650085,9.257008,7.404533,10.359177,7.932757,8.668764,8.523614,7.2364855,9.772963,11.17587,8.01337,8.841528,7.576645,8.429387,8.926901,7.7071934,10.508676,8.465762,8.450761,9.815626,8.134135,8.815055,7.370161,7.294417,7.3667283,9.768483,9.955342,8.97005,7.4581647,8.725168,8.8813715,9.377132,8.550226,11.409104,7.509107,9.382277,7.445488,7.522852,8.947711,8.839561,9.148868,10.393953,8.993744,7.471281,8.230392,9.495637,8.468397,10.916584,9.329265,9.834341,8.718743,11.467944,8.956838,8.463952,8.944676,7.943732,9.374648,9.585129,10.551387,7.3486047,8.40985,9.073567,8.653869,9.809428,7.0819097,9.234261,7.2292323,7.4614277,8.473038,8.07848,9.152051,9.465667,7.800576,7.022659,9.441819,8.764567,9.43216,8.206364,9.907193,8.842757,8.208638,9.919896,8.459169,8.119143,7.284273,8.519533,10.709477,8.578203,10.577146,9.062801,8.0928955,8.914441,8.947491,8.804455,8.27426,8.205029,8.325926,10.16238,8.806934,10.722112,9.026889,9.406941,10.519394,8.992929,8.933943,10.737467,8.964636,8.937037,7.1759152,10.911485,8.686426,10.344077,8.919498,7.856049,8.359133,7.1194043,10.732157,8.630554,7.4911575,8.985007,7.968335,9.756822,7.34517,9.026035,9.451717,8.41737,9.51447,8.805437,7.5728207,8.094024,8.642339,9.710233,8.906778,7.946562,8.800901,10.728435,10.522671,9.451328,11.61329,8.593265,8.134136,10.121263,8.031783,9.003289,7.089496,8.394322,8.283383,9.465037,10.515838,7.50249,8.466876,9.377331,9.171271,8.722641,7.1318974,8.348793,9.376428,10.925477,8.338856,7.6109796,8.664123,8.703701,9.4505005,11.0438795,10.651668,10.757093,9.488572,8.201161,9.840615,7.4825373,8.7033,8.677959,8.426172,9.32527,7.9566393,9.539682,9.245126,10.776634,7.12194,9.731945,7.8804736,7.188521,8.961859,8.3741865,7.0941052,9.994476,9.928887,8.873093,8.846328,7.6893764,7.2821965,8.598995,10.885516,8.306669,9.223863,9.571298,8.855413,9.284388,11.085827,9.300249,7.9432964,9.083178,10.00789,8.611521,8.834005,8.644223,9.377736,8.783546,8.239608,9.770497,7.4604235,7.1002574,9.00753,7.928733,8.597364,9.625252,9.59586,9.603306,9.596509,9.016208,9.381121,9.182477,8.958379,7.4300594,8.219404,9.179255,8.775151,10.790831,9.501746,10.440082,7.98835,10.860906,9.494731,8.434111,7.085496,10.830053,9.847547,8.456372,9.312617,8.104898,9.047988,8.329301,7.1237965,8.577296,11.394846,9.474993,10.529583,8.8012295,10.227857,8.159651,7.228856,7.267308,10.56261,8.757904,10.418834,9.387685,8.283323,7.2613635,9.332601,9.788665,10.620042,9.40163,7.083815,7.542225,11.635832,7.4961233,7.6120324,8.080892,10.147218,7.3958654,7.759429,7.139933,7.482764,7.9678535,9.100683,8.081225,7.9684677,7.2134686,8.977563,9.2226925,8.767822,8.405544,8.447304,7.728154,11.180686,8.123527,9.775137,8.175065,8.281597,10.456078,11.078049,8.118247,7.601161,7.1437864,8.295915,7.252034,10.054734,8.936289,10.121188,9.387333,9.743097,7.5318084,9.460186,7.3535886,10.713704,7.0776973,8.694355,8.980645,7.2133465,9.884585,10.548135,10.397636,8.547967,9.1532135,9.00896,7.908256,7.3348374,10.706709,8.460357,8.8599205,7.415724,8.182211,8.475972,7.500888,7.6297693,8.965108,7.1629286,8.333748,8.112978,7.2653027,7.180068,7.240898,7.1677527,8.921308,7.9027424,7.0663757,8.759005,8.314723,8.003125,10.814828,8.799084,9.172703,7.898017,9.082271,7.5158076,8.688651,10.196737,9.383932,8.583107,10.544433,7.100948,9.824086,8.77699,7.294746,9.363269,9.031551,8.3377695,7.542078,10.733393,7.874501,8.085996,8.416838,9.519153,8.318564,7.4488664,9.187339,9.568515,10.722467,8.504346,9.060233,8.277394,10.28987,7.286449,8.887662,8.088182,7.111221,8.697043,8.480475,8.529608,7.320047,7.625546,8.889172,7.1482363,9.013009,7.114383,9.456718,9.15894,7.905671,7.401685,9.3973255,8.700754,7.4828544,11.453848,9.951305,8.277998,9.1681385,7.7640257,10.600992,7.282966,9.208727,7.3657966,10.840467,9.202359,8.812805,7.4559584,7.1196213,7.5686717,8.628606,10.714242,8.547363,9.399475,8.8531275,7.244439,7.5153923,7.396906,8.425107,8.636484,11.474692,8.804852,9.405503,8.681583,8.745741,9.714558,7.1050687,7.3872957,9.0037365,7.478489,7.348787,8.723916,8.558709,8.711144,8.386015,10.72143,8.886254,8.874808,9.806918,9.232798,7.60147,8.539996,8.219593,7.5841126,9.489224,7.4422398,9.287954,7.1322136,9.644155,7.1720767,7.771077,7.22215,8.4243355,9.57461,10.544605,8.83727,8.348339,8.04726,9.210661,9.69586,9.768596,10.119706,7.281353,8.254376,9.405798,8.721596,11.158287,8.16204,9.269887,7.494857,9.300024,7.3994045,10.692384,8.867349,7.1053147,7.449916,7.038724,9.350799,7.249157,10.613247,10.583066,9.675658,8.321546,8.798783,7.990964,8.5499325,8.90653,8.649746,8.098307,9.250701,7.4205728,9.366367,7.3496895,9.475122,9.020367,8.721775,8.482781,10.641724,9.489372],\"xaxis\":\"x2\",\"y\":[8.719949,8.038313,7.4750195,8.296351,6.387738,9.509561,8.107247,5.9396143,6.531287,7.6310377,7.6718106,8.039437,7.7521396,7.6081905,7.8488364,8.402606,8.046908,6.3475423,6.230507,7.694618,8.637253,8.469061,8.040566,8.643779,8.145026,8.062148,9.293387,8.747889,6.1917005,7.8696647,8.369958,8.550834,7.922964,7.4320974,7.913889,7.725389,7.9919257,7.8289876,7.939276,6.940409,6.3968754,6.4032364,8.043301,5.819574,7.919848,8.15873,6.369882,8.104249,7.745164,7.2547116,8.395833,6.933705,6.3719516,7.703763,8.368305,6.544603,5.7050195,5.8834877,8.426538,7.0231895,8.4077835,5.9082036,9.268414,6.068417,6.4081483,7.6504145,7.9316006,7.8140264,8.430777,6.732571,8.096609,7.404723,6.636953,8.283995,8.924827,8.010538,6.665226,8.306942,8.077826,5.953567,7.2638087,7.782132,8.061719,6.9093356,6.390611,9.243045,8.605117,8.742724,8.748302,6.370311,7.970477,7.3368754,8.338251,8.297986,7.179353,7.3711863,5.753689,7.293859,8.925728,7.7533493,7.978595,7.7605147,7.6974874,7.1323466,5.915575,7.9228897,6.9721756,8.637845,8.36992,8.465371,5.746873,6.7126403,6.810373,6.689503,8.167318,8.773388,9.52819,7.797111,7.277108,8.464414,6.9219217,8.3384075,5.89541,8.361862,7.7012787,7.4297633,3.9377253,6.4646893,8.64536,6.4116063,6.574358,7.904434,8.906908,6.214466,8.61015,7.860376,6.1739683,7.591369,6.317991,7.5982475,8.3883095,7.5170307,8.667653,8.5802765,6.9680037,6.491221,8.453748,9.288321,8.371454,6.6640515,6.1500936,7.59455,6.6318183,6.3532014,7.9826503,9.366953,8.7976885,8.702516,7.5276775,6.6232743,7.5010786,7.370822,7.2574615,6.796121,8.362535,8.2549925,7.751006,7.680022,7.793172,7.201274,9.366989,7.900147,5.655226,7.157301,7.7544093,5.5852284,7.7975373,7.113273,7.7603235,8.105773,6.4518523,7.3098855,8.244624,8.172769,5.923643,8.776086,8.390939,8.212596,7.650884,6.5160527,7.783267,7.8705883,5.9236774,7.019275,6.958516,8.188117,7.648816,6.5023975,8.544008,6.2347074,7.489186,7.0890026,6.6422143,7.119207,8.48065,8.25077,8.442336,7.728862,6.4212523,5.8224673,8.615379,8.137805,8.991397,7.819602,7.7553916,7.097906,8.221807,7.0390058,6.0295515,6.600689,6.590413,6.622208,8.635328,7.5516386,8.924261,7.9253325,9.492383,7.629,7.4589663,7.371267,7.4730835,7.9668655,6.5714993,7.59984,6.827961,6.897182,7.180299,7.354595,7.8125467,6.113971,6.7814827,8.29163,7.6539445,6.7542024,6.683452,8.245466,8.554401,7.579918,8.453396,6.441691,7.3204126,7.9129624,9.134254,7.4921145,8.030198,7.4924493,5.6514673,6.2865696,6.5949645,6.4701996,8.678447,8.535351,7.7260756,7.374295,8.071392,8.089422,8.082072,7.108623,5.679233,7.698227,6.9287357,5.7216024,9.319816,6.6460505,7.578831,7.3296494,7.2505264,6.602858,5.9561615,7.837569,6.2382455,7.166071,7.7091665,6.4230113,7.152922,8.114039,6.6432447,8.3376465,7.256876,8.126457,8.251525,7.681866,7.042689,8.32372,7.161554,8.242144,8.831729,7.863799,6.8430305,8.408211,6.363936,7.089148,6.7797565,8.597242,8.0000925,7.480298,8.324611,7.603835,6.643158,7.350099,8.95946,7.2104516,6.2606072,6.233651,7.6006184,8.391999,7.638836,7.6424294,7.1106644,8.002876,6.046127,7.565539,6.686282,8.318635,8.45949,6.1974626,5.707909,7.7191906,8.118878,8.167851,5.9238358,7.3176727,8.836832,7.4392333,7.9508286,7.9917207,8.413293,8.830037,6.987061,8.057599,6.846304,6.3875065,9.25459,5.980544,7.6493893,7.7282805,7.119923,8.774644,6.0754757,7.0592713,8.032874,8.439405,8.486333,8.189688,7.975728,6.505036,7.46205,8.052596,6.408021,7.2318735,5.779649,7.6793227,8.744537,7.9706335,7.248421,7.9784017,8.546377,7.8042784,8.460515,9.277468,6.518104,7.1053762,8.406242,7.8772397,7.46122,6.5971527,7.4124765,8.091694,8.296214,7.4247193,8.702891,6.00943,7.849444,7.536893,7.653847,6.8299384,8.649397,7.54501,6.671039,6.8053765,4.5227523,5.6994314,7.2941008,6.764949,7.6827865,6.5775676,5.8839946,7.8135123,7.925673,8.791522,7.3866453,9.730779,7.357549,8.325826,8.32321,8.308591,8.311765,7.4192076,9.007755,8.941256,7.592344,8.475381,6.8859277,6.627864,6.574395,7.491283,8.271824,8.099358,8.168651,7.7867327,7.199988,5.6449714,8.354486,7.432431,4.2240224,7.128774,6.9172077,6.9309335,7.4508085,7.0806336,8.733335,8.29872,7.675111,7.9934616,8.132172,7.7492166,7.879478,6.4833965,8.749563,8.1712055,5.845871,8.198228,8.291903,6.578681,7.9601564,8.093943,8.274934,7.327425,7.550419,6.2696323,8.484276,8.274482,5.631694,8.550063,8.89194,8.99531,7.871281,9.051915,8.526238,8.1808815,7.845193,5.8869286,9.034071,8.099667,8.499404,8.209943,6.087532,6.52344,6.2506237,7.086489,6.0022306,6.977492,6.5217123,6.3019075,7.959558,7.796193,5.806873,7.857999,6.557041,7.551095,8.569682,9.320476,5.7500463,8.117087,8.186295,7.8368773,7.8595033,8.13247,7.9087105,7.8661222,7.450175,7.988578,7.69679,9.273458,6.86246,6.7022786,8.110131,8.164134,7.902726,7.288689,6.314887,7.3373017,6.9860897,8.265751,8.255402,8.33367,8.357348,6.693368,8.693379,5.6522145,8.343061,8.674631,7.90354,9.0624075,8.6784,8.106061,6.2526007,8.190302,8.302655,8.899857,8.217508,6.940112,8.100887,9.882294,7.1650286,6.583682,8.159624,7.8521714,7.150223,8.483698,8.08657,6.347073,7.8635597,6.4803,7.7580843,6.8421903,7.120259,7.9196405,8.2917185,8.775934,6.8107395,8.215349,7.5059605,6.5304236,6.90806,8.0130415,7.670054,6.9245715,5.9025784,7.888256,7.9436655,7.0871873,8.539158,9.102118,7.049441,8.007056,5.8170323,6.427713,6.1490564,8.118861,8.211278,6.6256275,6.4380913,8.714576,5.704341,6.582981,7.3198004,8.090325,7.309665,6.650048,8.458174,6.6196933,8.470189,7.9220085,6.4995995,8.142502,8.837028,7.8156447,6.5509844,7.5113745,6.691835,4.023214,6.118358,8.597082,7.1132383,8.199111,8.052399,7.0611496,8.903912,7.0343223,6.940144,6.8093686,8.03096,9.297733,8.577471,6.0340195,8.040053,6.32018,8.985035,7.699932,8.168765,8.4943905,8.639624,5.671677,6.3243794,6.6509976,6.534248,6.721025,5.7872367,7.5445065,7.8227124,8.589744,8.799588,6.6493535,8.729475,8.506381,6.4247894,6.971468,5.8212194,6.820656,7.7858515,7.609733,6.352827,7.511712,6.6775293,7.922247,6.844722,6.990281,7.7708964,8.81274,8.498225,6.393756,8.301916,7.7114167,8.665502,6.973958,8.781604,7.119884,7.8183136,7.9417143,7.893228,6.9947615,5.9558744,7.525584,7.7873473,6.863084,7.911622,7.6635423,6.3375993,7.169306,7.00536,8.321273,5.7312074,6.4760194,8.867308,6.6943917,8.021688,7.7466784,8.4093,9.366887,7.910038,8.952859,6.6412125,9.199001,7.619282,7.605538,7.9395676,5.8831167,8.258832,8.171353,6.973571,7.490427,7.153402,6.244237,8.323323,7.727967,7.5598497,8.937176,8.093609,8.8485155,7.1643076,7.8481803,7.929559,7.3246236],\"yaxis\":\"y2\",\"type\":\"scattergl\"},{\"hovertemplate\":\"leiden=4\\u003cbr\\u003eUMAP-1=%{x}\\u003cbr\\u003eUMAP-2=%{y}\\u003cextra\\u003e\\u003c\\u002fextra\\u003e\",\"legendgroup\":\"4\",\"marker\":{\"color\":\"#DA16FF\",\"opacity\":1,\"size\":1.707240317182898,\"symbol\":\"circle\"},\"mode\":\"markers\",\"name\":\"4\",\"showlegend\":true,\"x\":[12.32054,11.890163,12.320618,11.588034,11.104001,12.224077,11.523054,11.65484,12.133034,12.023707,12.203995,11.448588,11.470266,11.917721,12.285197,11.336255,11.212599,12.001458,11.155905,11.511544,11.785099,12.580228,11.6342,11.838837,11.636852,12.205394,11.916093,11.917788,11.98105,12.298708,12.12836,11.101653,11.948988,12.228517,11.554696,11.197957,12.58385,10.824383,11.250268,12.142531,12.620118,12.078278,11.55028,11.927679,11.10145,11.486079,11.655899,11.96696,11.441037,11.655132,11.765127,11.815429,12.074808,10.524955,11.948465,11.614561,11.757302,11.849579,11.766824,12.123378,11.878168,12.597903,11.446228,11.707235,11.190267,11.877788,11.991277,12.130864,11.264134,13.223023,12.129855,12.254278,11.742135,12.188613,11.632137,12.149063,12.230444,11.247634,11.684567,12.217719,11.795843,11.686124,11.619014,11.72519,12.453757,11.25363,11.852707,12.478169,10.531832,11.663343,11.153664,11.76417,12.583615,11.302364,12.157364,11.592169,12.261536,12.370761,12.35413,12.09002,11.691985,12.326121,12.34535,12.037804,12.192473,11.343818,11.530216,12.133704,11.555218,10.855003,11.874221,11.862208,12.327694,11.618018,12.137561,11.72103,11.652035,12.124823,12.072878,11.438699,11.988163,12.203383,11.741036,12.145891,12.284382,12.081156,12.287612,12.580128,12.093939,11.558163,12.338884,12.545472,10.681772,12.365919,11.802455,13.210564,11.697398,11.848417,11.034461,11.531696,12.157266,12.574126,12.172636,11.791827,12.107227,11.831948,11.776293,11.835132,12.197929,12.204988,11.486947,13.221562,11.077066,11.742825,12.037406,10.411553,11.871277,12.156912,11.9205265,11.839456,13.224538,12.259972,11.866065,11.878566,11.906586,11.330343,12.012529,12.10205,12.589395,12.121533,12.043968,11.880634,11.933436,12.361669,11.5140295,12.181878,11.368069,12.497456,11.489686,12.257169,11.332967,11.562843,12.458154,11.138666,11.550593,11.987826,12.009299,12.033114,11.688242,11.207835,11.612546,12.091836,12.1400385,11.459632,11.185283,12.245835,11.681668,12.253297,11.74745,11.573378,12.216342,11.594875,12.157311,12.278445,11.524866,12.171974,12.292473,12.199711,12.568946,11.767238,12.222758,11.507904,11.623033,11.775137,11.891167,12.140327,12.05242,11.772271,11.165667,12.345053,12.5483465,12.210469,11.647467,12.393876,12.153234,10.908995,12.183094,10.606086,11.870409,12.14425,10.564957,11.588811,12.135276,12.213952,11.472579,11.753888,11.845287,11.572792,11.489061,12.603126,11.993034,11.657966,11.876317,12.269124,11.788358,11.706425,12.159548,11.356695,11.658932,11.016053,11.14159,11.232176,12.556878,11.945581,12.176892,12.180567,9.11973,11.390512,12.232939,11.920278,11.691225,12.237309,9.325805,12.168111,12.472649,11.411714,12.276298,11.54179,11.558914,11.818982,11.577576,12.190659,12.067775,12.259048,11.941639,11.224064,12.134077,10.998404,12.206595,11.8025875,11.845029,11.873252,11.496569,11.389984,11.552535,12.014269,12.102718,12.195732,12.051928,12.558999,12.185568,12.144247,11.984204,12.537575,11.0079975,12.186062,12.513154,11.660126,11.995864,12.092262,11.693943,11.325271,12.0432,12.127163,11.625602,11.8562565,12.288582,12.08156,11.983763,11.889505,11.706322,11.781197,12.272749,11.909189,11.325318,11.650695,11.590078,11.923437,12.225925,11.680529,11.818697,12.084154,12.045949,11.550529,12.716951,12.252253,11.658027,12.195535,11.42932,11.288871,12.191293,12.19289,12.282322,11.560108,11.724855,12.310211,11.591555,12.289217,10.854693,11.850441,11.641717,12.326892,12.055261,11.055893,12.376994,11.863632,12.318776,11.2683735,12.167035,11.949532,12.184997,11.465055,11.984501,11.315683,12.278007,11.986947,11.478234,10.940481,11.767789,12.264625,11.355103,12.330494,12.260474,12.039802,11.637139,11.632029,11.392564,12.205913,12.304257,12.025508,11.745569,12.213083,12.483499,10.811685,11.849587,12.153425,11.732645,10.568788,12.20944,11.721108,11.463384,11.569807,11.472467,11.640795,12.247124,11.820519,12.100599,11.430929,11.807244,12.217145,12.195987,11.774522,12.15691,12.116391,11.81052,11.5827875,11.404237,11.620166,8.516822,11.714339,12.322033,12.019058,11.749858,12.049822,11.588401,12.25419,11.57533,11.757758,12.057716,11.610346,11.206613,11.476431,12.222734,12.082894,11.642836,11.209185,12.362115,11.549757,11.515912,12.212098,11.527248,12.119191,12.239223,12.112513,11.837596,12.091863,12.236029,12.291925,11.400647,12.298778,11.963629,11.157661,11.528445,12.067137,11.522416,12.118908,11.513027,12.620107,12.194152,12.136264,11.408898,12.025729,11.655486,12.050898,11.714877,12.165975,12.613856,11.364324,11.212022,12.375785,11.517889,12.314619,12.013776,11.4679985,11.204907,12.622681,12.120692,12.463781,12.301873,12.016847,11.949998,11.636441,12.1616125,12.260944,11.508619,12.020464,11.542944,11.861573,11.476965,12.534151,12.289428,12.329182,12.269522,12.661939,12.31962,12.2523365,11.844996,11.387558,11.783834,11.747731,12.480321,11.633258,12.181953,11.590372,12.328124,12.214871,11.748013,12.137619,11.7398615,12.118646,11.705177,12.11991,11.665335,12.343675,11.824273,11.750077,12.393375,11.121606,11.811247,11.897838,12.1210785,12.165318,13.215639,11.977255,12.235715,11.945827,11.612566,11.12161,12.041651,11.567291,12.664213,11.343935,11.954973,11.497519,12.143756,11.564943,11.865957,12.106983,11.721599,12.037318,11.312294,11.474726,11.997003,11.870484,11.622835,11.568987,11.768415,11.694919,13.191274,11.421426,11.186433,12.174189,10.366487,11.746789,12.282432,10.815477,12.237993,12.17986,12.3097925,12.30149,12.027044,11.211517,12.068775,12.237184,11.371298,12.096767,13.000165,11.915589,11.91226,11.693103,11.245297,12.030118,11.79628,10.736008,11.820955,11.128845,11.864583,12.649181,12.296832,12.161638,11.948552,12.324641,12.012166,11.900279,11.209026,12.611526,11.355151,11.686409,12.004316,12.221605,11.486169,12.573597,11.772216,11.391336,12.377136,11.698709,11.829076,12.121259,11.929943,12.21547,12.069847,11.828523,11.171567,12.3085785,12.311661,10.718314,12.458705,13.229485,12.3407545,10.827896,11.950712,12.145473,12.044331,10.97593,11.910074,12.373666,8.498017,11.411651,11.713171,12.060484,12.0002365,11.313227,11.990385,12.304962,11.086565,11.654998,11.984657,12.050786,11.564874,11.427064,11.583301,11.85567,12.253276,9.372482,10.662588,12.325596,12.459685,11.302236,12.060083,12.029839,12.230983,12.581555,12.17323,10.83382,12.67876,12.074745,11.912734,11.48537,11.794903,11.964475,12.082705,12.1867485,11.824553,11.888645,12.104208,11.958037,11.361487,11.658259,11.70552,11.555271,12.090321,12.005349,13.039006,12.08809,12.213369,12.174904,10.811014,11.538761,11.582138,12.010455],\"xaxis\":\"x2\",\"y\":[15.650032,14.43724,15.277025,15.804887,13.765179,7.9247303,15.328113,14.843291,15.691009,14.617207,15.9520235,16.187002,15.094002,14.551585,15.835899,14.762508,15.567799,16.521368,15.52431,15.554724,13.803856,15.753357,15.377665,16.933802,14.63151,14.891562,15.479973,15.469432,15.952137,15.015127,16.839746,14.59992,15.137072,15.264848,16.506193,15.75853,15.713525,13.1333685,14.503501,16.033752,15.9987955,14.170137,15.190249,15.82178,13.81804,15.160692,13.5246315,14.548532,14.653371,13.3080435,7.5882583,15.46734,7.8398128,13.701331,16.380404,15.4577265,7.574433,16.190477,15.841131,14.844176,15.616842,15.929929,15.559204,7.5253906,15.830986,15.704757,14.910194,14.95617,13.780497,13.994642,14.593592,16.74963,14.433894,15.845463,16.040308,15.577375,14.822587,13.821962,13.594199,16.079031,16.054476,15.297049,15.137445,13.832927,15.656998,16.02561,15.633678,15.853476,13.603323,16.65084,13.614716,14.148193,15.856653,14.765262,15.108711,13.639636,15.93532,15.43837,16.370687,17.056772,15.616204,16.069904,16.181355,17.11407,16.942041,14.793539,14.703699,16.324886,14.196686,13.658543,16.914349,14.321626,16.023699,13.6135025,15.801498,14.225801,15.87689,7.8032746,7.838587,13.798741,14.419401,14.810876,15.338856,15.117926,15.517514,14.364314,17.089825,15.929167,14.523278,13.476439,14.823949,15.851801,13.472306,15.750595,7.603578,14.010151,14.747272,14.483022,13.161421,14.262562,14.368107,15.69486,17.099379,7.624011,14.9905205,16.5876,7.619105,16.754938,15.453995,16.382637,14.647384,13.99338,14.33652,14.137508,14.827371,13.753234,14.944155,7.692821,17.020523,7.6851077,13.988092,15.884249,15.676574,17.001507,16.055897,14.675537,14.516583,14.107843,15.984294,17.120985,15.163409,16.295847,16.104597,15.8304205,14.749232,16.052217,14.923885,15.932393,13.873745,16.71193,13.557486,13.730058,16.059824,15.755372,15.193336,16.38892,16.095465,17.083353,14.030121,13.611912,13.909815,15.935373,14.936309,14.767772,14.007706,16.818161,16.4971,16.577374,15.115216,15.014118,16.60915,14.055056,16.327944,16.018265,16.047035,14.432796,15.025979,17.108126,16.00704,15.361349,15.910423,14.900596,14.183823,15.51496,15.728538,15.988778,14.629337,7.5850806,13.731854,16.901577,15.933847,17.137165,14.190231,15.120189,17.160255,15.008194,15.434814,13.517466,16.314909,16.67562,13.630224,13.363,14.752421,17.10845,13.926836,16.84504,16.953173,15.823946,15.542604,16.099712,14.76083,16.285667,15.570331,16.995476,7.6058073,14.051241,16.201418,14.909163,16.312714,13.8163595,15.729892,15.978608,15.886607,14.764224,14.667652,16.873144,8.994359,14.165298,17.08473,14.813091,15.564539,15.918763,13.259434,14.974034,15.799361,13.733596,16.243885,15.05702,14.197799,7.615016,16.38092,16.601711,14.586084,16.673544,16.048712,14.67061,14.587832,15.519875,14.76285,15.693505,12.810935,15.30712,15.187323,14.916009,15.910405,16.267208,15.08217,15.993931,14.826681,15.524425,16.355844,17.181835,14.677237,16.04087,15.581972,15.876691,16.153383,15.561803,14.334614,16.579401,13.888755,13.9192915,15.225018,16.98235,15.138762,16.074127,16.914118,15.829778,14.654514,16.961319,16.280682,14.282624,16.75241,15.081719,15.235159,7.470874,13.979436,14.692092,15.888467,15.467744,14.987801,14.666739,16.111752,15.225702,15.9139595,14.979485,15.52421,15.014813,13.765269,14.747112,16.04254,15.82104,16.963707,14.078026,14.9005785,16.893988,14.198557,14.854044,15.358122,13.781777,16.42429,16.511808,15.773704,15.549167,16.005598,15.276721,15.617225,15.497743,14.997269,14.539001,14.88252,14.823956,14.431547,15.56071,16.833164,16.241497,14.845367,13.952659,12.910757,16.65754,15.87219,15.836072,16.343924,15.829055,16.488462,13.766248,15.618122,15.734541,16.173498,14.600653,7.578138,16.229248,16.284071,13.2372,15.43435,16.562815,7.5580173,13.724573,15.964835,14.497745,15.006465,14.288884,15.790371,14.777377,16.30761,14.2932825,17.179987,15.54433,14.27909,15.813728,16.987555,13.736336,14.550767,15.999538,16.354532,13.799536,14.319048,14.049218,7.010557,12.817263,16.953304,16.700485,14.215991,17.071857,16.513048,15.941634,14.332098,15.600891,15.020148,14.219084,14.472202,15.04356,15.522626,14.418709,16.62396,14.285004,15.950941,14.800473,15.093693,17.049513,15.30532,7.81352,14.947035,7.8199987,7.634251,16.517254,16.094296,16.984423,14.469476,15.810744,15.931979,13.548766,13.722266,7.850492,15.584987,15.528257,13.742108,15.715862,14.729937,15.399507,15.551735,16.248188,16.6307,16.988878,15.605801,15.4059305,16.08697,13.818377,13.652393,14.932242,13.6587715,15.000826,15.352791,14.731439,15.750438,16.084217,7.840789,15.648263,16.866602,15.743954,16.090294,13.859023,15.248252,15.772175,14.8991165,14.247651,15.670943,16.25778,14.477897,15.903704,17.020649,14.907966,17.019024,15.784157,16.052467,16.073055,15.786186,14.128007,7.6077805,14.097024,15.644643,15.26866,14.894489,14.915802,16.015572,17.032959,15.721877,15.321106,16.015875,17.23382,15.938546,14.930858,14.506511,16.58379,13.759228,13.715183,15.960278,13.599878,14.248727,15.747507,14.662374,16.375917,14.000448,17.073229,15.946028,14.629632,16.099804,15.527603,14.635819,14.037134,15.9469795,14.542452,16.018053,16.269833,17.223898,15.130493,15.378002,15.037315,13.68725,14.598795,14.151881,14.868048,15.444876,16.134632,16.496794,15.098186,15.857184,16.777435,14.0453615,13.91311,14.632805,17.286549,13.749097,16.292814,16.055128,14.237502,16.66177,14.699437,16.907858,14.877023,15.800229,15.737987,16.199415,16.059433,14.680925,14.939368,14.226674,15.4883795,14.529575,16.465029,14.687997,7.8177114,14.820577,13.25652,14.811043,13.839803,16.314365,16.165491,17.004742,17.09207,15.961447,16.94844,17.13428,16.08041,14.669109,15.902587,15.45022,14.06252,15.166569,15.270106,15.220333,15.624083,13.841894,15.62318,15.526474,12.929451,15.4191065,14.8802805,15.739249,14.70774,16.91857,15.808464,15.041192,16.984911,17.025805,13.624074,15.677331,13.981624,15.870781,15.332609,15.915217,17.155912,16.012905,15.510124,14.601953,16.940409,6.936021,14.495839,16.492815,16.147692,16.961618,15.8834715,15.43855,16.034006,15.593963,16.666868,16.169767,16.21777,14.290867,15.130651,15.4660015,15.944125,16.757166,13.169005,13.543283,16.994934,15.636039,15.556714,14.586208,15.553885,16.84674,15.5586195,14.957621,15.329172,16.00616,16.653072,14.815339,15.04906,15.682523,16.519623,15.374537,14.980773,15.8571,14.582116,7.8555074,14.493799,14.794096,14.215307,13.5095415,13.863268,14.725368,16.224575,14.26478,14.222279,15.000374,14.241813,15.321308,13.667979,14.838075,15.317595],\"yaxis\":\"y2\",\"type\":\"scattergl\"},{\"hovertemplate\":\"leiden=5\\u003cbr\\u003eUMAP-1=%{x}\\u003cbr\\u003eUMAP-2=%{y}\\u003cextra\\u003e\\u003c\\u002fextra\\u003e\",\"legendgroup\":\"5\",\"marker\":{\"color\":\"#222A2A\",\"opacity\":1,\"size\":1.707240317182898,\"symbol\":\"circle\"},\"mode\":\"markers\",\"name\":\"5\",\"showlegend\":true,\"x\":[13.554041,13.3135605,13.297531,13.371538,12.82325,12.120263,13.409503,13.0411625,12.267841,13.141008,13.360561,13.348312,12.720295,13.265451,13.316696,13.485277,12.356336,12.76307,13.64841,13.541611,13.287913,13.251651,13.332036,13.246792,13.180228,13.244007,13.793672,13.360498,12.708041,12.118977,13.069302,13.793661,12.710428,13.326519,12.387102,12.917619,13.261778,12.396116,12.367989,13.287317,11.535576,13.698889,13.180638,11.975247,13.118164,9.987653,12.426631,13.239113,13.440635,13.491635,13.261346,12.965712,12.739563,12.791513,12.375176,12.648206,12.127874,13.684735,12.398818,13.64989,13.569305,12.914122,13.685679,12.412781,13.231441,11.464849,12.971717,13.174668,13.20501,12.537518,13.041122,12.718855,13.378301,12.073696,13.317362,12.111241,12.845815,12.088523,12.794353,13.470126,12.935843,11.945543,13.092671,13.760015,13.278047,13.071093,12.780574,13.584228,11.903348,12.230605,12.254554,13.305222,11.81767,13.286785,12.571219,13.610239,13.011179,12.190254,12.307806,11.416882,13.472344,13.301502,12.95206,13.471705,13.577834,12.843287,13.610654,11.798484,12.9561825,10.23762,13.210823,13.620087,13.243893,13.238367,12.991798,10.339047,11.798621,13.341842,12.464835,12.626015,11.916523,12.790493,12.910393,12.5967045,13.661175,13.7051325,13.137039,13.297176,9.838583,11.829517,12.487382,13.611093,13.371003,13.674643,12.373643,12.245215,13.493096,11.86279,13.67391,13.46479,12.804276,13.20318,13.270801,13.674526,13.693958,11.543985,13.24831,10.104561,10.092245,12.623445,12.50497,13.824351,13.217791,13.2785635,12.455091,13.231667,13.381851,12.487417,13.728009,13.131461,12.853697,12.320384,13.081353,9.876884,11.997213,13.371611,13.073002,13.241184,13.643401,12.548809,13.111881,12.35846,10.089558,12.537373,13.787722,12.4091015,13.242233,12.503671,12.567413,12.253234,12.711942,12.083081,13.157244,13.238019,12.654925,11.762054,12.493449,13.542293,12.523632,13.281925,13.236537,13.182022,12.948148,13.691106,13.272569,13.503434,13.320099,12.936027,13.620751,13.483946,12.632904,11.56094,13.473229,13.285318,13.343775,12.138493,13.414931,13.062977,12.848216,13.366942,13.256405,12.497685,12.12532,12.909157,12.596191,13.419743,13.587744,9.744267,13.49513,13.61908,13.566176,13.72934,13.491111,12.972142,13.461441,13.282895,12.645876,12.847307,13.323203,12.677322,12.759416,13.464463,12.001492,12.884059,9.683323,13.375189,12.146316,13.4273615,13.504027,13.263749,12.10724,13.386799,13.241932,12.607896,12.164226,13.000877,12.130219,13.291196,13.137895,10.085846,13.439008,12.934348,13.575437,12.411594,11.749952,13.01189,12.987878,13.367818,13.682069,12.274113,13.633052,13.626315,13.023651,13.6237135,13.107798,12.138126,12.8521595,13.098857,12.605417,13.843192,12.562589,13.618257,13.692974,13.570314,13.028314,13.183509,13.425201,12.615935,13.66218,13.434159,12.249073,12.594271,13.803731,13.495868,12.483006,13.737442,13.35024,11.8184395,12.232874,12.877272,12.2727165,12.997518,13.602169,13.647846,12.85996,13.313217,12.121456,13.751617,10.018034,12.694617,13.493176,13.224783,12.603912,12.59623,12.714709,11.742219,13.8359,12.975887,12.79098,13.661697,13.469852,12.001062,13.48391,13.356106,12.979289,13.037983,13.400656,12.113078,12.413631,12.110847,12.627628,13.094171,13.3730345,12.19596,12.611081,12.598962,10.078475,12.909117,13.110528,13.730861,13.001108,13.031814,13.096932,13.627486,12.717562,12.407805,13.297676,12.963869,12.270234,9.837793,13.200453,13.727715,13.206404,13.736518,12.676212,13.617224,12.6841545,12.908728,10.057043,13.365702,12.701019,12.130918,12.970191,12.406673,13.631586,12.9930935,12.532512,12.340688,13.181863,13.475935,13.017175,12.535877,10.166229,13.789701,12.697182,12.854975,13.648339,13.511342,13.01973,13.320607,12.001593,13.321807,13.056721,13.131052,13.635782,13.279262,12.735658,12.60917,12.953928,12.772803,13.692251,13.299413,12.629908,12.493799,9.90178,13.312595,13.370065,13.621071,10.283771,12.856586,13.234357,12.840295,9.778661,13.560716,13.158137,12.265169,13.245226,12.174657,13.728015,13.731421,13.615116,13.238961,11.818483,13.105051,12.179724,11.517666,12.442392,11.904239,12.539126,13.061308,13.272937,9.841319,12.211428,13.307882,12.068826,13.51437,12.611607,9.772323,12.663643,13.577921,12.497805,13.718841,11.695157,12.562287,12.438824,12.777317,12.762495,13.428661,13.449009,13.615127,13.627029,13.00006,12.424856,12.398543,13.329475,12.677374,13.392056,13.074131,12.639475,13.320811,12.766719,12.322526,13.09409,13.0393505,11.933963,13.267486,13.026951,12.603279,11.226029,12.568756,13.007473,13.150843,13.131041,12.116319,12.556341,11.628196,13.063628,13.182107,13.625427,12.120645,12.786789,13.262754,12.597851,12.970168,12.044583,11.074896,11.869843,12.960634,13.40804,13.627148,12.3807,12.388553,12.305658,12.239176,13.404195,13.432866,13.702208,13.187377,13.750526,13.629164,12.64363,12.898952,12.937734,13.220464,13.637591,12.21758,12.437841,13.757946,12.647859,12.461178,12.716314,13.028488,13.626001,13.001156,13.643783,12.571032,12.297185,12.896555,13.336801,13.5809145,13.067245,13.706144,13.480225,11.371138,12.861366,13.318791,12.626883,12.464883,13.574214,12.971116,13.702496,13.586116,13.396712,12.982995,12.13806,13.175217,12.988012,12.531108],\"xaxis\":\"x2\",\"y\":[5.9998255,4.673429,6.528368,5.528257,8.589427,6.5025334,5.7412395,9.413942,6.164933,8.723971,7.81713,5.2993574,8.535412,7.973998,7.9883556,6.4405217,5.6833873,6.3976207,5.35685,6.268398,7.933144,7.794029,7.778847,6.5158734,8.553213,5.4441504,5.271842,5.223716,8.302904,6.760798,5.5816436,5.2767076,6.970788,5.1987276,5.761926,9.313032,8.436777,5.1511917,6.6752644,5.371818,5.929506,6.503523,5.054964,8.94448,8.612116,10.123643,5.6986012,8.5199,5.6108055,6.223076,5.606838,9.368397,8.489905,8.4408865,8.748926,8.147201,9.362198,6.2125053,5.6878157,6.616943,7.2862716,6.054928,5.2376266,6.2441773,7.6709533,6.6765304,9.094538,8.624975,5.766343,8.733624,7.350335,8.217656,7.828634,9.546872,7.8121767,6.92199,6.6214867,6.0825086,6.373945,5.671317,8.92357,6.0862694,7.785736,5.439708,7.6988673,5.8463683,9.536676,7.2592864,4.9149876,9.488138,9.331061,7.946172,6.0944433,7.8789096,6.3835187,6.1190715,7.877428,9.156956,6.61862,8.126684,5.4503202,5.141856,5.522466,6.177407,6.054946,9.535384,7.1634655,6.586277,9.039361,9.543915,5.7484694,6.8902917,8.096449,8.494958,5.673833,8.1995,5.765577,7.685199,8.733871,8.288452,6.6391206,8.361117,6.368413,8.941921,6.135703,5.3555346,8.600652,7.4078107,10.3097315,6.152775,8.733686,7.295809,5.8580537,6.269743,5.7263,9.185388,5.640673,6.145891,5.6255274,5.430444,9.506564,7.344636,7.6613827,6.5120873,5.369943,6.556046,4.559201,10.212174,10.15227,6.121861,8.810397,5.326834,5.9947186,7.615371,8.128227,8.249229,7.61919,6.1981835,6.4456687,4.340509,6.043782,5.7784944,8.692124,10.424557,8.788653,7.053807,8.058964,7.3016295,7.1540136,8.433806,8.760358,8.732607,10.188423,6.276942,5.4141426,5.7298265,8.482069,8.490607,10.261301,9.0231085,6.396136,5.8455095,8.193968,8.294776,8.33136,8.650228,6.2585316,7.48479,8.802601,6.259789,5.739499,7.5432363,9.061524,5.874282,8.148069,5.683942,5.7748365,9.045137,7.326934,6.456233,9.251886,8.53302,6.291716,6.5940576,6.512848,5.253472,7.7509103,8.372599,6.035211,5.973016,8.453879,9.294482,6.677258,8.813063,6.2562513,4.8221602,5.8268037,10.038607,6.971533,6.5171013,5.4670877,6.4646716,5.398945,7.998625,6.350347,8.017921,8.510007,5.7322564,7.645567,5.9355145,8.80493,6.1233687,5.409482,6.3666334,8.276455,7.6708603,6.955229,7.790048,6.3726463,8.533559,6.7066708,7.4907856,7.980931,8.2913685,5.650647,8.125092,5.8431826,7.714967,8.403789,10.165306,7.6576715,7.8204956,6.035067,8.878704,5.5290523,8.856122,8.054557,7.740459,6.187501,5.7794843,7.294556,6.137993,7.949547,7.1421237,4.3074946,9.414921,8.804379,5.4556255,6.238703,5.361904,8.960066,5.2867727,6.1658783,6.258877,7.7627525,7.3023744,5.8488603,8.854144,7.0328007,7.183691,5.6308637,6.837936,5.4143405,5.015672,8.794374,6.373894,6.110625,7.828056,5.96325,7.0336733,9.063188,9.291811,5.0967903,5.1572723,6.390115,7.8463907,9.263637,5.524665,10.259842,9.268013,6.6633005,7.9469643,6.279687,6.4754405,8.453931,5.780005,5.3522844,9.10533,6.229596,7.0691032,5.71666,5.917814,7.251703,7.770223,9.081716,9.066721,7.8815737,6.072166,6.1752768,5.7741795,8.853864,8.851691,5.1662226,5.762049,9.064606,8.349599,10.186604,9.158025,4.331577,6.1452637,8.331072,5.947459,4.2987437,7.0984774,8.645363,6.1103997,6.71698,9.220244,7.3716044,10.437506,8.380456,6.3373775,8.428343,6.1887007,8.881375,5.18031,6.095842,6.112735,10.168948,5.5465913,5.9713902,9.417882,5.9333744,5.8603926,5.470788,8.835954,8.864344,5.7762284,8.577187,6.5362935,6.207063,6.2735705,8.371717,5.4045043,6.5033774,6.323549,7.308107,7.2694864,7.763132,7.856929,7.2976036,6.706059,8.956954,8.633844,5.5681367,4.931654,5.606242,6.337092,8.238656,6.284058,6.2685075,5.657513,6.2718024,6.279452,10.360391,5.590846,7.5447893,7.3142247,7.9500093,8.979182,4.6538544,6.3300858,10.163078,6.2503576,8.5718975,5.797302,8.268256,6.9793987,6.4179215,6.571847,7.304772,8.289145,6.2965617,4.320973,6.660236,8.118072,8.993213,6.4869704,5.893911,4.7697544,7.761901,10.443594,5.7794485,7.975,5.609448,5.524961,5.539162,10.128837,5.955455,5.244767,8.726429,6.984744,8.684146,8.373521,6.2088203,8.169389,6.2375417,7.3708444,7.3363576,5.5484915,5.2542186,9.423595,8.875516,6.2586694,8.044896,8.298388,7.8184986,7.3168807,5.7728186,5.6196284,6.0159044,6.263496,8.803352,8.775499,8.966539,7.644416,6.425085,8.150293,6.402207,8.887531,6.055265,4.360542,8.803676,9.426482,8.690079,8.221088,9.022858,4.4438257,6.0526037,6.243142,9.501459,4.630185,5.8686013,9.018803,5.7545505,5.8995113,9.723557,9.178496,7.735246,6.948218,6.210878,9.255353,8.416392,5.8228345,7.8027935,5.627509,5.7067122,8.493468,6.201439,6.1052175,6.3791747,7.9444513,7.8754573,8.20307,6.8639545,5.7421026,5.7590365,6.3240013,6.30599,8.777127,6.4693365,8.908728,6.1455245,8.766449,6.411666,8.841358,5.7550826,6.1194983,4.6807218,7.040125,5.9518323,5.755757,6.1783314,8.303661,6.816343,6.581465,5.871608,6.1397705,5.988884,8.344331,5.715499,7.3388133,6.286271,8.949841,9.374412,8.545039,9.19675,6.0785794],\"yaxis\":\"y2\",\"type\":\"scattergl\"},{\"hovertemplate\":\"leiden=6\\u003cbr\\u003eUMAP-1=%{x}\\u003cbr\\u003eUMAP-2=%{y}\\u003cextra\\u003e\\u003c\\u002fextra\\u003e\",\"legendgroup\":\"6\",\"marker\":{\"color\":\"#B68100\",\"opacity\":1,\"size\":1.707240317182898,\"symbol\":\"circle\"},\"mode\":\"markers\",\"name\":\"6\",\"showlegend\":true,\"x\":[-5.1810384,-6.3513966,-6.2528815,-6.4197264,-5.60862,-5.542745,-5.937901,-5.5793943,-6.18921,-5.7180753,-5.6556487,-5.8203454,-6.200986,-5.1488423,-6.4411516,-6.40842,-6.3282533,-6.043724,-5.824403,-5.755021,-5.8760405,-6.2201333,-5.3673544,-6.2904234,-5.4954023,-5.6255302,-5.842566,-6.0698237,-5.550041,-5.04784,-6.1888304,-5.9903674,-6.0443416,-5.600709,-5.962532,-5.835563,-6.1167006,-6.3234076,-6.2184834,-6.0844297,-5.8102307,-5.629635,-6.3530097,-5.8248544,-5.252095,-6.2737446,-6.197026,-5.478208,-5.9547515,-5.1631265,-6.148826,-5.9146276,-6.218121,-6.1013207,-6.45078,-5.744758,-5.796052,-5.86846,-6.1513767,-6.294787,-6.4269476,-6.158371,-5.7166076,-6.363033,-6.160556,-5.233384,-5.854736,-5.4998145,-6.209637,-5.171198,-5.2200336,-6.3087244,-6.229718,-5.9947863,-5.590363,-5.725285,-5.5759735,-6.4275312,-5.880689,-6.3602524,-5.052838,-5.4772034,-5.811535,-5.741867,-6.2848973,-5.6896873,-5.648972,-5.2864513,-6.0976586,-5.7966466,-5.4091506,-5.676527,-6.2386794,-6.0547223,-6.2474627,-5.8865485,-5.361882,-5.3212585,-5.787912,-5.665247,-6.419276,-5.739671,-5.62123,-5.1222267,-5.2019362,-6.3543954,-6.392089,-5.8797746,-6.1714196,-5.597349,-6.238681,-5.4825153,-6.2478776,-5.261358,-5.7920165,-5.6852083,-6.3606653,-5.984848,-5.629391,-5.0666637,-5.955144,-5.2847238,-6.2177753,-5.5348196,-6.221218,-5.898835,-5.788063,-5.319283,-5.4537935,-5.610551,-6.0310297,-5.2649965,-6.3271456,-6.1720533,-5.6054077,-5.1787815,-5.1817117,-5.753824,-5.2640843,-5.3215337,-6.3990803,-5.7576675,-6.079241,-5.080526,-6.287788,-5.1376586,-5.0768394,-5.6227913,-6.4006042,-5.216015,-5.3727436,-6.320796,-6.34319,-6.3646626,-5.7116976,-5.827012,-5.754562,-5.664479,-5.8568325,-6.352584,-5.1623244,-6.4330807,-6.3380218,-5.7052803,-5.2452674,-6.141639,-5.495649,-5.748714,-5.7458067,-5.8182006,-5.627897,-6.2152953,-5.77567,-6.2552667,-5.7613254,-5.754808,-6.068807,-6.015217,-5.6506453,-5.5285535,-6.299204,-5.3715734,-5.259626,-5.468082,-6.1703544,-5.1146593,-5.239498,-6.377939,-5.3923216,-5.3881536,-5.1888595,-5.3467875,-6.031847,-5.102492,-5.1645637,-5.6159887,-6.2288966,-5.2702847,-5.0524654,-6.271943,-5.5705543,-6.349311,-5.8066835,-5.4582224,-5.5212035,-6.44748,-5.1428046,-5.89065,-5.1707144,-5.3979306,-6.409125,-5.7417026,-6.1056037,-6.3677545,-5.42233,-5.0614142,-5.5820813,-6.316437,-5.696566,-6.079485,-5.702329,-6.2757254,-5.379717,-5.820899,-5.62016,-5.6498613,-5.5372477,-5.5781593,-6.1976376,-6.347123,-5.5827575,-5.0300355,-6.425734,-5.8392086,-5.99379,-6.2342157,-5.592721,-5.745,-5.957833,-5.6905785,-5.982543,-6.061718,-6.376434,-5.0989223,-5.738366,-6.447528,-5.8343897,-6.3134236,-6.0355244,-6.4502964,-5.9998093,-5.565401,-6.3200626,-5.442458,-5.0513153,-6.350531,-5.8960624,-5.9995027,-5.777527,-6.2594147,-6.396464,-5.5973167,-6.268475,-5.523862,-5.558542,-5.672169,-6.1951494,-5.368372,-5.5912013,-6.0862427,-5.038182,-6.326724,-6.3700814,-5.742419,-5.645677,-6.2764807,-5.104278,-5.1555104,-5.883258,-5.493682,-6.182223,-5.938632,-5.7939544,-6.305565,-6.2140174,-6.1842546,-5.525491,-5.928255,-6.498697,-5.8273654,-6.206973,-6.243505,-5.4470854,-5.1311097,-5.812057,-5.032528,-5.8239117,-5.5305777,-5.7397413,-6.208166,-6.252672,-6.240575,-6.2440805,-5.891907,-5.597235,-5.259064,-5.606168,-5.6918097,-5.8613024,-6.4149637,-5.580196,-5.573194,-6.352004,-5.9009347,-6.1207795,-6.2274685,-6.4247565,-5.5668736,-5.3384156,-5.0753736,-5.564804,-5.5384684,-5.9536047,-5.8021436,-5.724612,-5.581337,-6.283329,-5.808706,-6.182224,-5.509643,-6.164898,-6.3666887,-6.1115327,-5.6336565,-5.8336825,-6.36501,-6.1877337,-5.57703,-6.170648,-6.268732,-5.512813,-6.389947,-5.589433,-5.308324,-5.019672,-6.1512365,-6.099419,-6.1947384,-5.944209,-5.1695356,-5.177315,-6.4389825,-6.292157,-5.34772,-6.17571,-5.218823,-5.563921,-5.463103,-6.1716275,-5.8900237,-5.70287,-6.3270574,-6.22295,-5.2406893,-5.9430194,-6.237259,-6.2034636,-5.9386296,-5.554746,-5.704166,-6.202527,-6.192628,-5.528657,-6.376572,-5.5949907,-5.7237515,-5.647854,-5.2730937,-5.6827245,-5.678092,-6.3823233,-5.5821214,-6.163484,-5.733029,-6.20635,-6.0064497,-6.434898,-5.1155076,-5.390771,-6.209248,-5.564446,-6.15954,-6.251612,-6.2256293,-5.393256,-5.2756643,-6.1437798,-5.254545,-6.200337,-5.8176885,-6.1843,-6.182508,-5.25969,-6.217524,-5.483686,-5.032437,-5.1154532,-5.563112,-5.5321527,-5.641891,-5.701382,-5.016625,-5.605063,-6.409275,-6.237489,-6.148015,-6.357633,-5.8862233,-5.040749,-5.112674,-5.6478086,-5.5286164,-6.1268835,-6.1653852,-5.4711704,-6.237762,-5.7629514,-5.740525,-5.0460024,-5.8434477,-6.369406,-5.7513943,-5.9493423,-6.4795966,-6.3098702,-6.053338,-5.712198,-6.4185085,-5.751805,-6.4000044,-5.2387595],\"xaxis\":\"x2\",\"y\":[13.593846,12.218491,11.86133,12.007135,12.128738,13.398998,13.458947,13.496329,12.795927,13.495556,13.277201,13.725284,10.763655,13.572894,12.437966,12.657703,11.983123,12.211778,13.669688,12.002878,12.648326,11.375355,12.479906,11.667029,12.872324,13.195637,13.305803,12.383319,13.487374,12.978969,10.886332,13.360639,12.2159,12.114532,11.935758,13.744867,10.958596,11.638375,13.307929,13.063944,13.756559,13.600086,11.760843,13.738773,13.535223,10.684646,13.381678,13.104156,11.788585,13.48405,13.179526,11.84384,11.841106,13.386126,11.971297,13.1182375,13.002869,13.183242,11.019308,11.467676,12.118445,11.011916,13.203636,13.0433445,13.241444,13.579839,12.786487,12.474111,11.85882,13.594112,12.598353,11.626068,12.5502405,12.53697,12.253697,12.1325245,12.033887,12.894486,13.167998,11.68534,13.015346,13.052269,13.599641,12.98767,11.923966,12.15982,12.7819805,13.58155,11.899218,12.677331,13.388293,12.170822,11.007183,13.404125,12.78351,12.211384,13.210786,13.167046,13.778658,12.904635,11.988992,12.110753,12.031112,13.467248,13.629759,12.227688,11.898928,12.363063,12.89935,13.534366,11.549704,12.345142,11.48868,13.328439,13.316453,12.200794,11.824244,12.712859,12.588902,13.306211,12.737227,12.56956,13.262039,12.708835,11.585498,12.454529,12.122498,13.6307535,13.486417,12.304458,12.134874,12.605085,11.762009,11.126025,12.489374,12.690372,13.400353,12.756435,13.446966,13.602754,12.198249,13.258945,13.116773,12.9528475,12.528229,13.584582,12.948791,13.111489,12.1437435,13.444263,13.645379,11.989068,11.856449,11.792973,13.376817,12.414088,12.793636,12.144499,12.627553,11.855044,12.797061,12.72775,11.799638,12.101219,8.795223,13.388283,12.958582,12.289254,12.714402,12.292874,12.149658,12.440587,12.042695,12.939486,12.544439,12.9629135,13.012604,12.746312,13.328902,12.033474,11.852405,13.22787,13.081931,13.081659,10.981559,12.9461975,13.016715,11.683181,13.342903,13.597795,13.453705,13.495113,12.274542,13.498308,13.498093,12.877382,12.873217,13.304009,13.097952,13.06895,13.307853,12.176936,12.75376,12.391692,13.634121,12.095345,13.563124,13.69034,13.495124,13.70322,12.217756,12.963934,13.030068,12.5163765,13.066116,12.936965,12.419464,10.651743,12.098763,13.477906,13.73449,12.864744,12.566918,12.658403,13.425478,13.492143,13.2683115,12.15282,10.820185,12.499361,12.342259,12.89309,12.691782,11.995412,12.417777,10.594268,13.136621,12.225948,12.481958,12.114639,11.906471,12.574084,11.6188,13.546304,12.850601,12.2309,13.60636,12.174942,11.715069,12.154248,13.12586,12.009771,11.726844,13.248662,13.204098,11.77635,12.297046,12.451019,12.132541,11.36237,12.16271,12.815452,11.298363,12.813937,12.069615,13.48395,11.516407,12.435231,12.669001,13.513061,12.928915,12.938413,12.067315,12.228344,12.225103,11.344944,13.06172,13.155647,12.623768,12.622117,10.967485,12.378801,12.624646,11.604316,12.653703,10.908563,12.121456,13.684446,12.683894,12.946631,11.83849,11.751287,12.322242,13.557645,12.949714,13.271484,13.713608,12.710116,13.176847,10.493399,11.370367,13.390266,13.396442,12.2970295,13.443879,13.005726,13.582822,12.174063,13.638105,11.977526,13.315199,12.973003,12.008859,12.244538,12.061977,11.522806,12.859537,13.640338,13.013935,13.329322,12.197743,12.020948,12.696955,12.593224,12.551053,13.486804,12.52986,12.215253,12.849439,13.315148,13.466603,12.036456,12.333385,13.209504,13.5773945,12.736607,13.207023,13.622432,12.027971,11.273382,13.469603,12.838213,12.254213,13.205722,13.146726,13.2087145,12.96412,12.625768,13.02242,12.797483,13.616181,12.880413,11.564463,13.618719,12.321869,13.578594,12.143981,12.900639,13.476452,13.717579,12.61381,11.790008,12.24547,12.603576,13.0356,12.721191,11.354676,13.245307,12.087254,12.895364,13.297761,11.342915,12.883448,12.839778,13.009452,12.248353,13.02912,13.095188,12.227456,13.044597,12.859777,12.156748,11.054079,12.744616,10.927553,11.7905245,12.900217,13.464458,13.578313,11.411624,13.34916,12.362592,11.419346,12.750979,13.141258,12.516927,13.159477,12.4883585,12.144736,13.732377,10.882374,12.768651,13.015791,12.800507,13.61729,13.102673,13.103464,12.841973,13.301926,13.256008,12.871963,13.241246,13.636777,11.99346,11.416171,11.437924,11.88129,13.482796,13.127046,12.747906,13.766273,13.437285,12.357623,10.916674,13.5401535,10.760639,13.693482,13.695522,12.94539,13.076204,12.179776,13.640881,12.59548,12.635108,12.127612,11.726643,13.255685,12.229794,12.49852,11.796174,13.007714],\"yaxis\":\"y2\",\"type\":\"scattergl\"},{\"hovertemplate\":\"leiden=7\\u003cbr\\u003eUMAP-1=%{x}\\u003cbr\\u003eUMAP-2=%{y}\\u003cextra\\u003e\\u003c\\u002fextra\\u003e\",\"legendgroup\":\"7\",\"marker\":{\"color\":\"#750D86\",\"opacity\":1,\"size\":1.707240317182898,\"symbol\":\"circle\"},\"mode\":\"markers\",\"name\":\"7\",\"showlegend\":true,\"x\":[-6.427797,-6.218435,-6.808352,-6.823648,-6.4934387,-6.726512,-6.527926,-6.494485,-6.552896,-6.8037972,-6.296289,-6.464156,-6.3272877,-6.587313,-6.633484,-6.4433856,-6.4947767,-6.5830765,-6.586591,-6.391631,-6.2167363,-6.3193398,-6.81632,-6.489991,-6.4959393,-6.860645,-6.3902054,-6.8562155,-6.5880814,-6.479967,-6.754863,-6.7423167,-6.869559,-6.828186,-6.8594737,-6.8612328,-6.813886,-6.85418,-6.696273,-6.6958294,-6.4615617,-6.4624777,-6.826592,-6.5416126,-6.784893,-6.239342,-6.4456162,-6.792294,-6.7007027,-6.7096305,-6.33584,-6.3826885,-6.8297606,-6.415787,-6.417356,-6.7358136,-6.6049237,-6.6747384,-6.5463586,-6.4307427,-6.6925993,-6.5843415,-6.503729,-6.828856,-6.5737004,-6.8090024,-6.565582,-6.191757,-6.6101165,-6.863069,-6.6899595,-6.43187,-6.835788,-6.5289574,-6.351005,-6.4348016,-6.54732,-6.4027433,-6.4459715,-6.610421,-6.845446,-6.600844,-6.5774207,-6.8894935,-6.7620316,-6.7070093,-6.866903,-6.6857524,-6.738023,-6.598373,-6.423665,-6.5947433,-6.4908967,-6.565911,-6.404768,-6.646763,-6.5915947,-6.454099,-6.7737093,-6.8483696,-6.797099],\"xaxis\":\"x2\",\"y\":[10.114003,10.443601,9.635536,9.619058,10.005105,9.739249,9.913631,9.960924,9.885528,9.652854,10.430988,10.024906,10.360604,9.837839,9.960032,10.110557,9.972319,9.849914,9.830512,10.236737,10.433137,10.389814,9.625594,9.997161,10.00616,9.57736,10.250028,9.585488,9.824091,9.980409,9.699613,9.710263,9.567524,9.629822,9.579463,9.574802,9.630391,9.582203,9.937754,9.76122,10.080943,10.007076,9.610529,9.91808,9.671179,10.4397745,10.012291,9.678327,9.774434,9.770435,10.518096,10.2139635,9.60713,10.166188,10.093435,9.692166,9.885972,9.773949,9.9884615,10.14276,9.744413,9.840206,9.965783,9.609565,9.853237,9.625122,9.995139,10.447335,9.8200445,9.576373,9.727607,10.099937,9.598846,10.012858,10.5065565,10.112892,9.986535,10.198035,10.0086775,9.821883,9.602868,9.812978,9.848906,9.550214,9.688934,9.7361765,9.569965,9.775368,9.7086935,9.806841,10.119244,9.827101,9.897734,9.872037,10.179574,9.818045,9.90717,10.065961,9.671326,9.588285,9.653261],\"yaxis\":\"y2\",\"type\":\"scattergl\"},{\"hovertemplate\":\"leiden=8\\u003cbr\\u003eUMAP-1=%{x}\\u003cbr\\u003eUMAP-2=%{y}\\u003cextra\\u003e\\u003c\\u002fextra\\u003e\",\"legendgroup\":\"8\",\"marker\":{\"color\":\"#EB663B\",\"opacity\":1,\"size\":1.707240317182898,\"symbol\":\"circle\"},\"mode\":\"markers\",\"name\":\"8\",\"showlegend\":true,\"x\":[8.907217,4.556909,4.5133553,4.7202287,8.93235,9.679997,8.934839,4.6339574,4.7103367,8.857235,8.896665,8.942585,4.541513,4.504859,4.5353293,8.845034,8.893807,8.853763,4.543378,8.790392,4.696603,4.6946106,8.939888,8.947253,4.714053,4.6883416,4.5002766,4.7185173,8.941401,8.881215,11.797166,4.747736,4.493148,8.9274435,8.922314,4.7449265,4.7342467,4.5048795,8.946155,8.926118,8.926249,8.881703,8.90073,8.939088,8.907948,4.65488,4.634671,4.6994357,9.161584,4.527965,8.941197,13.389358,8.8652935,4.6420755,4.69033,8.821724,4.7362933,11.545521,8.821105,4.481765,4.715871,4.711424,8.969618,4.5432067,8.843449,12.654893,4.738606,4.685405,4.638686,4.6003375,4.600482,4.6181345,4.6136613,4.4880905,4.6177187,8.937651,8.929395,8.964633,4.5699143,8.805117,8.88211,8.893443],\"xaxis\":\"x2\",\"y\":[-7.7949486,-3.1981056,-3.241624,-3.035564,-7.8196177,5.786915,-7.82251,-3.1214416,-3.045379,-7.744757,-7.782346,-7.830726,-3.2134664,-3.2500627,-3.2195997,-7.732648,-7.781226,-7.7416186,-3.2116706,-7.678047,-3.0556443,-3.061165,-7.8278737,-7.834914,-3.04158,-3.0669744,-3.2546687,-3.0373633,-7.8306656,-7.7687325,3.4974468,-3.0083292,-3.2617307,-7.8150544,-7.8096356,-3.0110192,-3.0215616,-3.250093,-7.8345246,-7.813626,-7.813498,-7.769408,-7.7884903,-7.8267374,-7.7954144,-3.1005218,-3.120681,-3.0564382,5.081214,-3.2269926,-7.8291397,5.592552,-7.7528634,-3.1133115,-3.0652642,-7.7094674,-3.019673,7.5135064,-7.7088203,-3.2731955,-3.040016,-3.0439734,-7.858088,-3.2118328,-7.7310786,3.957177,-3.017339,-3.0702958,-3.116883,-3.1549213,-3.1549077,-3.1372445,-3.1417418,-3.2668397,-3.137782,-7.8250875,-7.8174996,-7.8527637,-3.1853986,-7.692839,-7.769659,-7.780916],\"yaxis\":\"y2\",\"type\":\"scattergl\"},{\"hovertemplate\":\"leiden=9\\u003cbr\\u003eUMAP-1=%{x}\\u003cbr\\u003eUMAP-2=%{y}\\u003cextra\\u003e\\u003c\\u002fextra\\u003e\",\"legendgroup\":\"9\",\"marker\":{\"color\":\"#511CFB\",\"opacity\":1,\"size\":1.707240317182898,\"symbol\":\"circle\"},\"mode\":\"markers\",\"name\":\"9\",\"showlegend\":true,\"x\":[17.619371,17.43857,17.303352,17.44746,17.241127,17.450697,17.268131,17.618689,17.294365,17.609634,17.44956,17.321424,17.659306,17.394148,17.265465,17.281258,17.622301,17.384954,17.5868,17.399944,17.296713,17.407415,17.263428,17.279505,17.482613,17.266312,17.268333,17.593678,17.630295,17.27308,17.294954,17.368246,17.450815,17.221996,17.357054,17.399706,17.476807,17.34852,17.327211,17.219662,17.526522,17.388323,17.621689,17.531954,17.481253,17.419016,17.538372,17.367628,17.397455,17.33528,17.286066,17.580042,17.24352,13.852116,17.633999,17.307465,17.333067,17.343082,17.26458,17.585493,17.5265,17.636992,17.296055,17.307047,17.42399,17.285376,17.367023,17.423996,17.239061,17.381556,17.471193,17.449179,17.532536,17.248909,17.27626,17.465721,17.468508,17.399958,17.294073,17.377068],\"xaxis\":\"x2\",\"y\":[27.313354,27.195488,27.418406,27.17111,27.111267,27.190205,27.425972,27.323807,27.40868,27.358164,27.418861,27.372032,27.321278,27.20668,27.381779,27.232168,27.276558,27.155123,27.336216,27.331385,27.08196,27.156837,27.094273,27.415253,27.442848,27.26859,27.399952,27.286253,27.364958,27.384987,27.19666,27.12903,27.25416,27.304644,27.191198,27.17329,27.326057,27.35831,27.331198,27.270613,27.230997,27.441652,27.27826,27.2555,27.38486,27.220833,27.340086,27.22166,27.178616,27.40847,27.40259,27.277107,27.214748,5.341785,27.368797,27.155788,27.401913,27.116627,27.143532,27.39393,27.38891,27.34492,27.43069,27.146917,27.396017,27.342905,27.390583,27.387753,27.218912,27.191597,27.284601,27.169495,27.20489,27.147215,27.387808,27.217552,27.309147,27.321682,27.08403,27.344282],\"yaxis\":\"y2\",\"type\":\"scattergl\"},{\"hovertemplate\":\"leiden=10\\u003cbr\\u003eUMAP-1=%{x}\\u003cbr\\u003eUMAP-2=%{y}\\u003cextra\\u003e\\u003c\\u002fextra\\u003e\",\"legendgroup\":\"10\",\"marker\":{\"color\":\"#00A08B\",\"opacity\":1,\"size\":1.707240317182898,\"symbol\":\"circle\"},\"mode\":\"markers\",\"name\":\"10\",\"showlegend\":true,\"x\":[-5.2065063,-4.921406,-4.8856745,-4.9064956,-4.9512506,-4.8990216,-5.214551,-4.9048777,-4.9759927,-5.0927405,-4.9424305,-4.9192944,-4.8589644,-4.884274,-5.195973,-4.9250894,-5.012106,-4.9479394,-5.026254,-5.075154,-4.8520913,-4.9244666,-5.2238297,-4.8858576,-5.101143,-4.9459715,-5.095296,-5.098076,-4.9508014,-4.96261,-4.835927,-4.936549,-4.873816,-5.2269163,-5.083181,-5.000822,-5.1198106,-4.933121,-4.9178977,-5.0027423,-4.85425,-4.9778523,-5.091793,-4.884978,-6.153574,-4.912251,-4.965064,-4.9816966,-4.853409,-4.96355,-5.028667,-4.901824,-4.967667,-5.0199027,-5.2266626,-5.1177373,-5.1003056,-4.88092,-5.0965705],\"xaxis\":\"x2\",\"y\":[8.727562,8.425614,8.331638,8.455484,8.300185,8.417338,8.743891,8.420144,8.483816,8.161941,8.402665,8.373566,8.394919,8.33894,8.70943,8.423016,8.284078,8.431369,8.250079,8.329191,8.369654,8.354544,8.74904,8.349457,8.144114,8.436076,8.1694355,8.168853,8.439948,8.343721,8.332661,8.395427,8.35221,8.762604,8.166383,8.277423,8.129145,8.304264,8.413852,8.265604,8.371742,8.465952,8.162633,8.429493,10.394177,8.316064,8.434028,8.336715,8.354406,8.317863,8.339298,8.429315,8.297478,8.248981,8.754231,8.614524,8.161682,8.39168,8.154139],\"yaxis\":\"y2\",\"type\":\"scattergl\"}],                        {\"template\":{\"data\":{\"histogram2dcontour\":[{\"type\":\"histogram2dcontour\",\"colorbar\":{\"outlinewidth\":0,\"ticks\":\"\"},\"colorscale\":[[0.0,\"#0d0887\"],[0.1111111111111111,\"#46039f\"],[0.2222222222222222,\"#7201a8\"],[0.3333333333333333,\"#9c179e\"],[0.4444444444444444,\"#bd3786\"],[0.5555555555555556,\"#d8576b\"],[0.6666666666666666,\"#ed7953\"],[0.7777777777777778,\"#fb9f3a\"],[0.8888888888888888,\"#fdca26\"],[1.0,\"#f0f921\"]]}],\"choropleth\":[{\"type\":\"choropleth\",\"colorbar\":{\"outlinewidth\":0,\"ticks\":\"\"}}],\"histogram2d\":[{\"type\":\"histogram2d\",\"colorbar\":{\"outlinewidth\":0,\"ticks\":\"\"},\"colorscale\":[[0.0,\"#0d0887\"],[0.1111111111111111,\"#46039f\"],[0.2222222222222222,\"#7201a8\"],[0.3333333333333333,\"#9c179e\"],[0.4444444444444444,\"#bd3786\"],[0.5555555555555556,\"#d8576b\"],[0.6666666666666666,\"#ed7953\"],[0.7777777777777778,\"#fb9f3a\"],[0.8888888888888888,\"#fdca26\"],[1.0,\"#f0f921\"]]}],\"heatmap\":[{\"type\":\"heatmap\",\"colorbar\":{\"outlinewidth\":0,\"ticks\":\"\"},\"colorscale\":[[0.0,\"#0d0887\"],[0.1111111111111111,\"#46039f\"],[0.2222222222222222,\"#7201a8\"],[0.3333333333333333,\"#9c179e\"],[0.4444444444444444,\"#bd3786\"],[0.5555555555555556,\"#d8576b\"],[0.6666666666666666,\"#ed7953\"],[0.7777777777777778,\"#fb9f3a\"],[0.8888888888888888,\"#fdca26\"],[1.0,\"#f0f921\"]]}],\"heatmapgl\":[{\"type\":\"heatmapgl\",\"colorbar\":{\"outlinewidth\":0,\"ticks\":\"\"},\"colorscale\":[[0.0,\"#0d0887\"],[0.1111111111111111,\"#46039f\"],[0.2222222222222222,\"#7201a8\"],[0.3333333333333333,\"#9c179e\"],[0.4444444444444444,\"#bd3786\"],[0.5555555555555556,\"#d8576b\"],[0.6666666666666666,\"#ed7953\"],[0.7777777777777778,\"#fb9f3a\"],[0.8888888888888888,\"#fdca26\"],[1.0,\"#f0f921\"]]}],\"contourcarpet\":[{\"type\":\"contourcarpet\",\"colorbar\":{\"outlinewidth\":0,\"ticks\":\"\"}}],\"contour\":[{\"type\":\"contour\",\"colorbar\":{\"outlinewidth\":0,\"ticks\":\"\"},\"colorscale\":[[0.0,\"#0d0887\"],[0.1111111111111111,\"#46039f\"],[0.2222222222222222,\"#7201a8\"],[0.3333333333333333,\"#9c179e\"],[0.4444444444444444,\"#bd3786\"],[0.5555555555555556,\"#d8576b\"],[0.6666666666666666,\"#ed7953\"],[0.7777777777777778,\"#fb9f3a\"],[0.8888888888888888,\"#fdca26\"],[1.0,\"#f0f921\"]]}],\"surface\":[{\"type\":\"surface\",\"colorbar\":{\"outlinewidth\":0,\"ticks\":\"\"},\"colorscale\":[[0.0,\"#0d0887\"],[0.1111111111111111,\"#46039f\"],[0.2222222222222222,\"#7201a8\"],[0.3333333333333333,\"#9c179e\"],[0.4444444444444444,\"#bd3786\"],[0.5555555555555556,\"#d8576b\"],[0.6666666666666666,\"#ed7953\"],[0.7777777777777778,\"#fb9f3a\"],[0.8888888888888888,\"#fdca26\"],[1.0,\"#f0f921\"]]}],\"mesh3d\":[{\"type\":\"mesh3d\",\"colorbar\":{\"outlinewidth\":0,\"ticks\":\"\"}}],\"scatter\":[{\"fillpattern\":{\"fillmode\":\"overlay\",\"size\":10,\"solidity\":0.2},\"type\":\"scatter\"}],\"parcoords\":[{\"type\":\"parcoords\",\"line\":{\"colorbar\":{\"outlinewidth\":0,\"ticks\":\"\"}}}],\"scatterpolargl\":[{\"type\":\"scatterpolargl\",\"marker\":{\"colorbar\":{\"outlinewidth\":0,\"ticks\":\"\"}}}],\"bar\":[{\"error_x\":{\"color\":\"#2a3f5f\"},\"error_y\":{\"color\":\"#2a3f5f\"},\"marker\":{\"line\":{\"color\":\"#E5ECF6\",\"width\":0.5},\"pattern\":{\"fillmode\":\"overlay\",\"size\":10,\"solidity\":0.2}},\"type\":\"bar\"}],\"scattergeo\":[{\"type\":\"scattergeo\",\"marker\":{\"colorbar\":{\"outlinewidth\":0,\"ticks\":\"\"}}}],\"scatterpolar\":[{\"type\":\"scatterpolar\",\"marker\":{\"colorbar\":{\"outlinewidth\":0,\"ticks\":\"\"}}}],\"histogram\":[{\"marker\":{\"pattern\":{\"fillmode\":\"overlay\",\"size\":10,\"solidity\":0.2}},\"type\":\"histogram\"}],\"scattergl\":[{\"type\":\"scattergl\",\"marker\":{\"colorbar\":{\"outlinewidth\":0,\"ticks\":\"\"}}}],\"scatter3d\":[{\"type\":\"scatter3d\",\"line\":{\"colorbar\":{\"outlinewidth\":0,\"ticks\":\"\"}},\"marker\":{\"colorbar\":{\"outlinewidth\":0,\"ticks\":\"\"}}}],\"scattermapbox\":[{\"type\":\"scattermapbox\",\"marker\":{\"colorbar\":{\"outlinewidth\":0,\"ticks\":\"\"}}}],\"scatterternary\":[{\"type\":\"scatterternary\",\"marker\":{\"colorbar\":{\"outlinewidth\":0,\"ticks\":\"\"}}}],\"scattercarpet\":[{\"type\":\"scattercarpet\",\"marker\":{\"colorbar\":{\"outlinewidth\":0,\"ticks\":\"\"}}}],\"carpet\":[{\"aaxis\":{\"endlinecolor\":\"#2a3f5f\",\"gridcolor\":\"white\",\"linecolor\":\"white\",\"minorgridcolor\":\"white\",\"startlinecolor\":\"#2a3f5f\"},\"baxis\":{\"endlinecolor\":\"#2a3f5f\",\"gridcolor\":\"white\",\"linecolor\":\"white\",\"minorgridcolor\":\"white\",\"startlinecolor\":\"#2a3f5f\"},\"type\":\"carpet\"}],\"table\":[{\"cells\":{\"fill\":{\"color\":\"#EBF0F8\"},\"line\":{\"color\":\"white\"}},\"header\":{\"fill\":{\"color\":\"#C8D4E3\"},\"line\":{\"color\":\"white\"}},\"type\":\"table\"}],\"barpolar\":[{\"marker\":{\"line\":{\"color\":\"#E5ECF6\",\"width\":0.5},\"pattern\":{\"fillmode\":\"overlay\",\"size\":10,\"solidity\":0.2}},\"type\":\"barpolar\"}],\"pie\":[{\"automargin\":true,\"type\":\"pie\"}]},\"layout\":{\"autotypenumbers\":\"strict\",\"colorway\":[\"#636efa\",\"#EF553B\",\"#00cc96\",\"#ab63fa\",\"#FFA15A\",\"#19d3f3\",\"#FF6692\",\"#B6E880\",\"#FF97FF\",\"#FECB52\"],\"font\":{\"color\":\"#2a3f5f\"},\"hovermode\":\"closest\",\"hoverlabel\":{\"align\":\"left\"},\"paper_bgcolor\":\"white\",\"plot_bgcolor\":\"#E5ECF6\",\"polar\":{\"bgcolor\":\"#E5ECF6\",\"angularaxis\":{\"gridcolor\":\"white\",\"linecolor\":\"white\",\"ticks\":\"\"},\"radialaxis\":{\"gridcolor\":\"white\",\"linecolor\":\"white\",\"ticks\":\"\"}},\"ternary\":{\"bgcolor\":\"#E5ECF6\",\"aaxis\":{\"gridcolor\":\"white\",\"linecolor\":\"white\",\"ticks\":\"\"},\"baxis\":{\"gridcolor\":\"white\",\"linecolor\":\"white\",\"ticks\":\"\"},\"caxis\":{\"gridcolor\":\"white\",\"linecolor\":\"white\",\"ticks\":\"\"}},\"coloraxis\":{\"colorbar\":{\"outlinewidth\":0,\"ticks\":\"\"}},\"colorscale\":{\"sequential\":[[0.0,\"#0d0887\"],[0.1111111111111111,\"#46039f\"],[0.2222222222222222,\"#7201a8\"],[0.3333333333333333,\"#9c179e\"],[0.4444444444444444,\"#bd3786\"],[0.5555555555555556,\"#d8576b\"],[0.6666666666666666,\"#ed7953\"],[0.7777777777777778,\"#fb9f3a\"],[0.8888888888888888,\"#fdca26\"],[1.0,\"#f0f921\"]],\"sequentialminus\":[[0.0,\"#0d0887\"],[0.1111111111111111,\"#46039f\"],[0.2222222222222222,\"#7201a8\"],[0.3333333333333333,\"#9c179e\"],[0.4444444444444444,\"#bd3786\"],[0.5555555555555556,\"#d8576b\"],[0.6666666666666666,\"#ed7953\"],[0.7777777777777778,\"#fb9f3a\"],[0.8888888888888888,\"#fdca26\"],[1.0,\"#f0f921\"]],\"diverging\":[[0,\"#8e0152\"],[0.1,\"#c51b7d\"],[0.2,\"#de77ae\"],[0.3,\"#f1b6da\"],[0.4,\"#fde0ef\"],[0.5,\"#f7f7f7\"],[0.6,\"#e6f5d0\"],[0.7,\"#b8e186\"],[0.8,\"#7fbc41\"],[0.9,\"#4d9221\"],[1,\"#276419\"]]},\"xaxis\":{\"gridcolor\":\"white\",\"linecolor\":\"white\",\"ticks\":\"\",\"title\":{\"standoff\":15},\"zerolinecolor\":\"white\",\"automargin\":true,\"zerolinewidth\":2},\"yaxis\":{\"gridcolor\":\"white\",\"linecolor\":\"white\",\"ticks\":\"\",\"title\":{\"standoff\":15},\"zerolinecolor\":\"white\",\"automargin\":true,\"zerolinewidth\":2},\"scene\":{\"xaxis\":{\"backgroundcolor\":\"#E5ECF6\",\"gridcolor\":\"white\",\"linecolor\":\"white\",\"showbackground\":true,\"ticks\":\"\",\"zerolinecolor\":\"white\",\"gridwidth\":2},\"yaxis\":{\"backgroundcolor\":\"#E5ECF6\",\"gridcolor\":\"white\",\"linecolor\":\"white\",\"showbackground\":true,\"ticks\":\"\",\"zerolinecolor\":\"white\",\"gridwidth\":2},\"zaxis\":{\"backgroundcolor\":\"#E5ECF6\",\"gridcolor\":\"white\",\"linecolor\":\"white\",\"showbackground\":true,\"ticks\":\"\",\"zerolinecolor\":\"white\",\"gridwidth\":2}},\"shapedefaults\":{\"line\":{\"color\":\"#2a3f5f\"}},\"annotationdefaults\":{\"arrowcolor\":\"#2a3f5f\",\"arrowhead\":0,\"arrowwidth\":1},\"geo\":{\"bgcolor\":\"white\",\"landcolor\":\"#E5ECF6\",\"subunitcolor\":\"white\",\"showland\":true,\"showlakes\":true,\"lakecolor\":\"white\"},\"title\":{\"x\":0.05},\"mapbox\":{\"style\":\"light\"}}},\"xaxis\":{\"anchor\":\"y\",\"domain\":[0.0,0.45]},\"yaxis\":{\"anchor\":\"x\",\"domain\":[0.0,1.0]},\"xaxis2\":{\"anchor\":\"y2\",\"domain\":[0.55,1.0]},\"yaxis2\":{\"anchor\":\"x2\",\"domain\":[0.0,1.0]},\"annotations\":[{\"font\":{\"size\":16},\"showarrow\":false,\"text\":\"Treated w\\u002fAOA\",\"x\":0.225,\"xanchor\":\"center\",\"xref\":\"paper\",\"y\":1.0,\"yanchor\":\"bottom\",\"yref\":\"paper\"},{\"font\":{\"size\":16},\"showarrow\":false,\"text\":\"Untreated\",\"x\":0.775,\"xanchor\":\"center\",\"xref\":\"paper\",\"y\":1.0,\"yanchor\":\"bottom\",\"yref\":\"paper\"}],\"title\":{\"text\":\"UMAP Clustering\"},\"legend\":{\"title\":{\"text\":\"Clusters\"},\"font\":{\"family\":\"sans-serif\",\"size\":12,\"color\":\"black\"},\"x\":1.05,\"y\":1,\"traceorder\":\"normal\",\"bordercolor\":\"Black\",\"borderwidth\":1},\"height\":600,\"width\":1200},                        {\"responsive\": true}                    ).then(function(){\n",
              "                            \n",
              "var gd = document.getElementById('070aa188-6504-4290-b0b3-2ef2fb76b3d3');\n",
              "var x = new MutationObserver(function (mutations, observer) {{\n",
              "        var display = window.getComputedStyle(gd).display;\n",
              "        if (!display || display === 'none') {{\n",
              "            console.log([gd, 'removed!']);\n",
              "            Plotly.purge(gd);\n",
              "            observer.disconnect();\n",
              "        }}\n",
              "}});\n",
              "\n",
              "// Listen for the removal of the full notebook cells\n",
              "var notebookContainer = gd.closest('#notebook-container');\n",
              "if (notebookContainer) {{\n",
              "    x.observe(notebookContainer, {childList: true});\n",
              "}}\n",
              "\n",
              "// Listen for the clearing of the current output cell\n",
              "var outputEl = gd.closest('.output');\n",
              "if (outputEl) {{\n",
              "    x.observe(outputEl, {childList: true});\n",
              "}}\n",
              "\n",
              "                        })                };                            </script>        </div>\n",
              "</body>\n",
              "</html>"
            ]
          },
          "metadata": {}
        }
      ],
      "source": [
        "# Create a subplot figure\n",
        "fig = sp.make_subplots(rows=1, cols=2, subplot_titles=('Treated w/AOA', 'Untreated'))\n",
        "\n",
        "# Add all traces from each UMAP plot to the subplot figure\n",
        "for trace in SRR26046013_DM_AOA_INH_UMAP.data:\n",
        " trace.showlegend = False  # Hide legend for individual traces\n",
        " fig.add_trace(trace, row=1, col=1)\n",
        "\n",
        "for trace in SRR26046019_DM_UT_UMAP.data:\n",
        " fig.add_trace(trace, row=1, col=2)  # Show legend only for the last subplot\n",
        "\n",
        "# Update layout with legend title and position\n",
        "fig.update_layout(height=600, width=1200, title_text=\"UMAP Clustering\", legend_title_text='Clusters', legend=dict(x=1.05, y=1, traceorder='normal', font=dict(family='sans-serif', size=12, color='black'), bordercolor='Black', borderwidth=1))\n",
        "\n",
        "fig.show()\n",
        "fig.write_image(\"Cluster_plots.png\", height=1080, width=1920)"
      ]
    },
    {
      "cell_type": "markdown",
      "id": "055d5061-6c75-4f68-887f-010144e55124",
      "metadata": {
        "id": "055d5061-6c75-4f68-887f-010144e55124"
      },
      "source": [
        "#Write structures to file\n",
        "SRR26046013_DM_AOA_INH.write_h5ad(\"SRR26046013_PI.h5ad\")"
      ]
    },
    {
      "cell_type": "markdown",
      "id": "d303caba-4225-4e5b-a56d-de61d6e405d8",
      "metadata": {
        "id": "d303caba-4225-4e5b-a56d-de61d6e405d8"
      },
      "source": [
        "SRR26046019_DM_UT.write_h5ad(\"SRR26046019_PI.h5ad\")"
      ]
    },
    {
      "cell_type": "markdown",
      "id": "d6405283-9006-46f5-be16-93fb0598c96c",
      "metadata": {
        "id": "d6405283-9006-46f5-be16-93fb0598c96c"
      },
      "source": [
        "Create a cell-by-gene activity matrix"
      ]
    },
    {
      "cell_type": "code",
      "execution_count": 65,
      "id": "d8408450-f2eb-455d-9dc4-359b71604bc6",
      "metadata": {
        "id": "d8408450-f2eb-455d-9dc4-359b71604bc6"
      },
      "outputs": [],
      "source": [
        "#sc.write(SRR26046013_DM_AOA_INH,\"/SRR26046013_DM_AOA_INH.h5ad\")"
      ]
    },
    {
      "cell_type": "code",
      "execution_count": 66,
      "id": "dcde597d-f810-4b9e-9780-7534cca6dcaa",
      "metadata": {
        "id": "dcde597d-f810-4b9e-9780-7534cca6dcaa",
        "colab": {
          "base_uri": "https://localhost:8080/"
        },
        "outputId": "9a7f4f0e-3a4a-46be-b75e-75bd9504a9b3"
      },
      "outputs": [
        {
          "output_type": "execute_result",
          "data": {
            "text/plain": [
              "AnnData object with n_obs × n_vars = 5426 × 6062095\n",
              "    obs: 'n_fragment', 'frac_dup', 'frac_mito', 'tsse', 'doublet_probability', 'doublet_score', 'leiden'\n",
              "    var: 'count', 'selected'\n",
              "    uns: 'reference_sequences', 'library_tsse', 'frac_overlap_TSS', 'TSS_profile', 'scrublet_sim_doublet_score', 'doublet_rate', 'spectral_eigenvalue'\n",
              "    obsm: 'fragment_paired', 'X_spectral', 'X_umap'\n",
              "    obsp: 'distances'"
            ]
          },
          "metadata": {},
          "execution_count": 66
        }
      ],
      "source": [
        "SRR26046019_DM_UT"
      ]
    },
    {
      "cell_type": "code",
      "execution_count": 67,
      "id": "73d3c212-d8ca-46ae-89b0-64f5c403f9c8",
      "metadata": {
        "id": "73d3c212-d8ca-46ae-89b0-64f5c403f9c8"
      },
      "outputs": [],
      "source": [
        "SRR26046013_DM_AOA_INH_GM = snap.pp.make_gene_matrix(SRR26046013_DM_AOA_INH, snap.genome.hg38)"
      ]
    },
    {
      "cell_type": "code",
      "execution_count": 68,
      "id": "d1c63501-fae3-4741-820d-9840b975013b",
      "metadata": {
        "id": "d1c63501-fae3-4741-820d-9840b975013b"
      },
      "outputs": [],
      "source": [
        "SRR26046019_DM_UT_GM = snap.pp.make_gene_matrix(SRR26046019_DM_UT, snap.genome.hg38)"
      ]
    },
    {
      "cell_type": "code",
      "execution_count": 69,
      "id": "812e1a2d-a582-429a-8d58-7b631269589e",
      "metadata": {
        "id": "812e1a2d-a582-429a-8d58-7b631269589e",
        "colab": {
          "base_uri": "https://localhost:8080/"
        },
        "outputId": "15374a7b-fcc2-4d27-9834-8d1dc2019361"
      },
      "outputs": [
        {
          "output_type": "execute_result",
          "data": {
            "text/plain": [
              "AnnData object with n_obs × n_vars = 6246 × 60606\n",
              "    obs: 'n_fragment', 'frac_dup', 'frac_mito', 'tsse', 'doublet_probability', 'doublet_score', 'leiden'"
            ]
          },
          "metadata": {},
          "execution_count": 69
        }
      ],
      "source": [
        "SRR26046013_DM_AOA_INH_GM"
      ]
    },
    {
      "cell_type": "code",
      "execution_count": 70,
      "id": "1dc071ae-6690-4011-868c-1c9fee90ef00",
      "metadata": {
        "id": "1dc071ae-6690-4011-868c-1c9fee90ef00",
        "colab": {
          "base_uri": "https://localhost:8080/"
        },
        "outputId": "3a2dc22b-dff3-4a06-828c-1b393d6a194b"
      },
      "outputs": [
        {
          "output_type": "execute_result",
          "data": {
            "text/plain": [
              "AnnData object with n_obs × n_vars = 5426 × 60606\n",
              "    obs: 'n_fragment', 'frac_dup', 'frac_mito', 'tsse', 'doublet_probability', 'doublet_score', 'leiden'"
            ]
          },
          "metadata": {},
          "execution_count": 70
        }
      ],
      "source": [
        "SRR26046019_DM_UT_GM"
      ]
    },
    {
      "cell_type": "code",
      "execution_count": 71,
      "id": "7d5f3f23-fc7f-4dc9-9e9a-f89d7a2dbda0",
      "metadata": {
        "id": "7d5f3f23-fc7f-4dc9-9e9a-f89d7a2dbda0",
        "colab": {
          "base_uri": "https://localhost:8080/"
        },
        "outputId": "0776948c-4ea8-48a3-ffeb-f777bc56bad2"
      },
      "outputs": [
        {
          "output_type": "execute_result",
          "data": {
            "text/plain": [
              "AnnData object with n_obs × n_vars = 6246 × 6062095\n",
              "    obs: 'n_fragment', 'frac_dup', 'frac_mito', 'tsse', 'doublet_probability', 'doublet_score', 'leiden'\n",
              "    var: 'count', 'selected'\n",
              "    uns: 'reference_sequences', 'library_tsse', 'frac_overlap_TSS', 'TSS_profile', 'scrublet_sim_doublet_score', 'doublet_rate', 'spectral_eigenvalue'\n",
              "    obsm: 'fragment_paired', 'X_spectral', 'X_umap'\n",
              "    obsp: 'distances'"
            ]
          },
          "metadata": {},
          "execution_count": 71
        }
      ],
      "source": [
        "SRR26046013_DM_AOA_INH"
      ]
    },
    {
      "cell_type": "code",
      "execution_count": 72,
      "id": "97dfeb04-fa95-443c-842c-c3de5af23363",
      "metadata": {
        "id": "97dfeb04-fa95-443c-842c-c3de5af23363",
        "colab": {
          "base_uri": "https://localhost:8080/"
        },
        "outputId": "6a5b5262-5924-4157-a883-fd282bfc06a1"
      },
      "outputs": [
        {
          "output_type": "execute_result",
          "data": {
            "text/plain": [
              "AnnData object with n_obs × n_vars = 6246 × 60606\n",
              "    obs: 'n_fragment', 'frac_dup', 'frac_mito', 'tsse', 'doublet_probability', 'doublet_score', 'leiden'"
            ]
          },
          "metadata": {},
          "execution_count": 72
        }
      ],
      "source": [
        "SRR26046013_DM_AOA_INH_GM"
      ]
    },
    {
      "cell_type": "code",
      "execution_count": 76,
      "id": "fbe3e22b-960d-4bf1-9046-98c851b08987",
      "metadata": {
        "id": "fbe3e22b-960d-4bf1-9046-98c851b08987",
        "colab": {
          "base_uri": "https://localhost:8080/"
        },
        "outputId": "0503653f-6e22-4f18-94c2-ec09cdf1926b"
      },
      "outputs": [
        {
          "output_type": "execute_result",
          "data": {
            "text/plain": [
              "AnnData object with n_obs × n_vars = 5426 × 60606\n",
              "    obs: 'n_fragment', 'frac_dup', 'frac_mito', 'tsse', 'doublet_probability', 'doublet_score', 'leiden'"
            ]
          },
          "metadata": {},
          "execution_count": 76
        }
      ],
      "source": [
        "SRR26046019_DM_UT_GM"
      ]
    },
    {
      "cell_type": "markdown",
      "source": [
        "Imputation with scanpy and MAGIC"
      ],
      "metadata": {
        "id": "9fp-ZWO7AueM"
      },
      "id": "9fp-ZWO7AueM"
    },
    {
      "cell_type": "code",
      "source": [
        "%%time\n",
        "sc.pp.filter_genes(SRR26046013_DM_AOA_INH_GM, min_cells= 5)\n",
        "sc.pp.normalize_total(SRR26046013_DM_AOA_INH_GM)\n",
        "sc.pp.log1p(SRR26046013_DM_AOA_INH_GM)\n",
        "\n"
      ],
      "metadata": {
        "colab": {
          "base_uri": "https://localhost:8080/"
        },
        "id": "nV6sPQwpA0CS",
        "outputId": "773eb5dd-a480-4a12-c9fc-5ab94550ed58"
      },
      "id": "nV6sPQwpA0CS",
      "execution_count": 88,
      "outputs": [
        {
          "output_type": "stream",
          "name": "stdout",
          "text": [
            "WARNING: adata.X seems to be already log-transformed.\n",
            "CPU times: user 4.36 s, sys: 1.58 s, total: 5.93 s\n",
            "Wall time: 3.06 s\n"
          ]
        }
      ]
    },
    {
      "cell_type": "code",
      "source": [
        "sc.external.pp.magic(SRR26046013_DM_AOA_INH_GM, solver=\"approximate\")\n",
        "\n"
      ],
      "metadata": {
        "id": "eqrY_cb-CIwB"
      },
      "id": "eqrY_cb-CIwB",
      "execution_count": null,
      "outputs": []
    },
    {
      "cell_type": "code",
      "source": [
        "# Copy over UMAP embedding\n",
        "SRR26046013_DM_AOA_INH_GM.obsm[\"X_umap\"] = SRR26046013_DM_AOA_INH.obsm[\"X_umap\"]"
      ],
      "metadata": {
        "id": "YbteW6XWCJzS"
      },
      "id": "YbteW6XWCJzS",
      "execution_count": null,
      "outputs": []
    },
    {
      "cell_type": "code",
      "source": [
        "sc.pp.filter_genes(SRR26046019_DM_UT_GM, min_cells= 5)\n",
        "sc.pp.normalize_total(SRR26046019_DM_UT_GM)\n",
        "sc.pp.log1p(SRR26046019_DM_UT_GM)\n",
        "\n"
      ],
      "metadata": {
        "id": "bHRuycBVBWkz"
      },
      "id": "bHRuycBVBWkz",
      "execution_count": null,
      "outputs": []
    },
    {
      "cell_type": "code",
      "source": [
        "sc.external.pp.magic(SRR26046019_DM_UT_GM, solver=\"approximate\")"
      ],
      "metadata": {
        "id": "pRug_ejNCTuw"
      },
      "id": "pRug_ejNCTuw",
      "execution_count": null,
      "outputs": []
    },
    {
      "cell_type": "code",
      "source": [
        "# Copy over UMAP embedding\n",
        "SRR26046019_DM_UT_GM.obsm[\"X_umap\"] = SRR26046019_DM_UT.obsm[\"X_umap\"]"
      ],
      "metadata": {
        "id": "KFkrRZ2lCUbm"
      },
      "id": "KFkrRZ2lCUbm",
      "execution_count": null,
      "outputs": []
    },
    {
      "cell_type": "markdown",
      "id": "6caba517-b066-4eaa-9ac6-dfcf21d8c5b7",
      "metadata": {
        "id": "6caba517-b066-4eaa-9ac6-dfcf21d8c5b7"
      },
      "source": [
        "Concatenate Data matrices"
      ]
    },
    {
      "cell_type": "code",
      "execution_count": 74,
      "id": "f223c20d-8041-4986-b965-22ccf81e9796",
      "metadata": {
        "id": "f223c20d-8041-4986-b965-22ccf81e9796",
        "colab": {
          "base_uri": "https://localhost:8080/"
        },
        "outputId": "e0eb109a-d41f-4e2d-f683-18c009fcca96"
      },
      "outputs": [
        {
          "output_type": "stream",
          "name": "stderr",
          "text": [
            "/usr/local/lib/python3.10/site-packages/anndata/_core/anndata.py:1828: UserWarning:\n",
            "\n",
            "Observation names are not unique. To make them unique, call `.obs_names_make_unique`.\n",
            "\n"
          ]
        }
      ],
      "source": [
        "#Use inner join\n",
        "adata_concat = ad.concat([SRR26046013_DM_AOA_INH_GM, SRR26046019_DM_UT_GM], label = 'Treatment', keys = ['Treated w/AOA', 'Untreated'], join='inner')"
      ]
    },
    {
      "cell_type": "code",
      "execution_count": 75,
      "id": "4f772dec-55b6-4531-a9fa-756c9dc69509",
      "metadata": {
        "id": "4f772dec-55b6-4531-a9fa-756c9dc69509",
        "colab": {
          "base_uri": "https://localhost:8080/",
          "height": 1000
        },
        "outputId": "6eb2c1bd-1d9c-4665-8cdc-6a7f0d66054c"
      },
      "outputs": [
        {
          "output_type": "stream",
          "name": "stderr",
          "text": [
            "2025-01-01 11:59:44 - ERROR - Internal Python error in the inspect module.\n",
            "Below is the traceback from this internal error.\n",
            "\n",
            "2025-01-01 11:59:44 - INFO - \n",
            "Unfortunately, your original traceback can not be constructed.\n",
            "\n"
          ]
        },
        {
          "output_type": "stream",
          "name": "stdout",
          "text": [
            "Traceback (most recent call last):\n",
            "  File \"/usr/local/lib/python3.10/dist-packages/IPython/core/interactiveshell.py\", line 3553, in run_code\n",
            "    exec(code_obj, self.user_global_ns, self.user_ns)\n",
            "  File \"<ipython-input-75-7228641e9eae>\", line 1, in <cell line: 1>\n",
            "    print(np.isnan(adata.X).sum())\n",
            "NameError: name 'adata' is not defined\n",
            "\n",
            "During handling of the above exception, another exception occurred:\n",
            "\n",
            "Traceback (most recent call last):\n",
            "  File \"/usr/local/lib/python3.10/dist-packages/IPython/core/interactiveshell.py\", line 2099, in showtraceback\n",
            "    stb = value._render_traceback_()\n",
            "AttributeError: 'NameError' object has no attribute '_render_traceback_'\n",
            "\n",
            "During handling of the above exception, another exception occurred:\n",
            "\n",
            "Traceback (most recent call last):\n",
            "  File \"/usr/local/lib/python3.10/dist-packages/IPython/core/ultratb.py\", line 1101, in get_records\n",
            "    return _fixed_getinnerframes(etb, number_of_lines_of_context, tb_offset)\n",
            "  File \"/usr/local/lib/python3.10/dist-packages/IPython/core/ultratb.py\", line 248, in wrapped\n",
            "    return f(*args, **kwargs)\n",
            "  File \"/usr/local/lib/python3.10/dist-packages/IPython/core/ultratb.py\", line 281, in _fixed_getinnerframes\n",
            "    records = fix_frame_records_filenames(inspect.getinnerframes(etb, context))\n",
            "  File \"/usr/lib/python3.10/inspect.py\", line 1662, in getinnerframes\n",
            "    frameinfo = (tb.tb_frame,) + getframeinfo(tb, context)\n",
            "  File \"/usr/lib/python3.10/inspect.py\", line 1620, in getframeinfo\n",
            "    filename = getsourcefile(frame) or getfile(frame)\n",
            "  File \"/usr/lib/python3.10/inspect.py\", line 829, in getsourcefile\n",
            "    module = getmodule(object, filename)\n",
            "  File \"/usr/lib/python3.10/inspect.py\", line 875, in getmodule\n",
            "    f = getabsfile(module)\n",
            "  File \"/usr/lib/python3.10/inspect.py\", line 844, in getabsfile\n",
            "    _filename = getsourcefile(object) or getfile(object)\n",
            "  File \"/usr/lib/python3.10/inspect.py\", line 817, in getsourcefile\n",
            "    filename = getfile(object)\n",
            "  File \"/usr/local/lib/python3.10/dist-packages/torch/package/package_importer.py\", line 730, in _patched_getfile\n",
            "    return _orig_getfile(object)\n",
            "  File \"/usr/lib/python3.10/inspect.py\", line 778, in getfile\n",
            "    raise TypeError('{!r} is a built-in module'.format(object))\n",
            "TypeError: <module '' from '/content'> is a built-in module\n"
          ]
        },
        {
          "output_type": "error",
          "ename": "TypeError",
          "evalue": "object of type 'NoneType' has no len()",
          "traceback": [
            "\u001b[0;31m---------------------------------------------------------------------------\u001b[0m",
            "\u001b[0;31mNameError\u001b[0m                                 Traceback (most recent call last)",
            "    \u001b[0;31m[... skipping hidden 1 frame]\u001b[0m\n",
            "\u001b[0;32m<ipython-input-75-7228641e9eae>\u001b[0m in \u001b[0;36m<cell line: 1>\u001b[0;34m()\u001b[0m\n\u001b[0;32m----> 1\u001b[0;31m \u001b[0mprint\u001b[0m\u001b[0;34m(\u001b[0m\u001b[0mnp\u001b[0m\u001b[0;34m.\u001b[0m\u001b[0misnan\u001b[0m\u001b[0;34m(\u001b[0m\u001b[0madata\u001b[0m\u001b[0;34m.\u001b[0m\u001b[0mX\u001b[0m\u001b[0;34m)\u001b[0m\u001b[0;34m.\u001b[0m\u001b[0msum\u001b[0m\u001b[0;34m(\u001b[0m\u001b[0;34m)\u001b[0m\u001b[0;34m)\u001b[0m\u001b[0;34m\u001b[0m\u001b[0;34m\u001b[0m\u001b[0m\n\u001b[0m",
            "\u001b[0;31mNameError\u001b[0m: name 'adata' is not defined",
            "\nDuring handling of the above exception, another exception occurred:\n",
            "\u001b[0;31mAttributeError\u001b[0m                            Traceback (most recent call last)",
            "\u001b[0;32m/usr/local/lib/python3.10/dist-packages/IPython/core/interactiveshell.py\u001b[0m in \u001b[0;36mshowtraceback\u001b[0;34m(self, exc_tuple, filename, tb_offset, exception_only, running_compiled_code)\u001b[0m\n\u001b[1;32m   2098\u001b[0m                         \u001b[0;31m# in the engines. This should return a list of strings.\u001b[0m\u001b[0;34m\u001b[0m\u001b[0;34m\u001b[0m\u001b[0m\n\u001b[0;32m-> 2099\u001b[0;31m                         \u001b[0mstb\u001b[0m \u001b[0;34m=\u001b[0m \u001b[0mvalue\u001b[0m\u001b[0;34m.\u001b[0m\u001b[0m_render_traceback_\u001b[0m\u001b[0;34m(\u001b[0m\u001b[0;34m)\u001b[0m\u001b[0;34m\u001b[0m\u001b[0;34m\u001b[0m\u001b[0m\n\u001b[0m\u001b[1;32m   2100\u001b[0m                     \u001b[0;32mexcept\u001b[0m \u001b[0mException\u001b[0m\u001b[0;34m:\u001b[0m\u001b[0;34m\u001b[0m\u001b[0;34m\u001b[0m\u001b[0m\n",
            "\u001b[0;31mAttributeError\u001b[0m: 'NameError' object has no attribute '_render_traceback_'",
            "\nDuring handling of the above exception, another exception occurred:\n",
            "\u001b[0;31mTypeError\u001b[0m                                 Traceback (most recent call last)",
            "    \u001b[0;31m[... skipping hidden 1 frame]\u001b[0m\n",
            "\u001b[0;32m/usr/local/lib/python3.10/dist-packages/IPython/core/interactiveshell.py\u001b[0m in \u001b[0;36mshowtraceback\u001b[0;34m(self, exc_tuple, filename, tb_offset, exception_only, running_compiled_code)\u001b[0m\n\u001b[1;32m   2099\u001b[0m                         \u001b[0mstb\u001b[0m \u001b[0;34m=\u001b[0m \u001b[0mvalue\u001b[0m\u001b[0;34m.\u001b[0m\u001b[0m_render_traceback_\u001b[0m\u001b[0;34m(\u001b[0m\u001b[0;34m)\u001b[0m\u001b[0;34m\u001b[0m\u001b[0;34m\u001b[0m\u001b[0m\n\u001b[1;32m   2100\u001b[0m                     \u001b[0;32mexcept\u001b[0m \u001b[0mException\u001b[0m\u001b[0;34m:\u001b[0m\u001b[0;34m\u001b[0m\u001b[0;34m\u001b[0m\u001b[0m\n\u001b[0;32m-> 2101\u001b[0;31m                         stb = self.InteractiveTB.structured_traceback(etype,\n\u001b[0m\u001b[1;32m   2102\u001b[0m                                             value, tb, tb_offset=tb_offset)\n\u001b[1;32m   2103\u001b[0m \u001b[0;34m\u001b[0m\u001b[0m\n",
            "\u001b[0;32m/usr/local/lib/python3.10/dist-packages/IPython/core/ultratb.py\u001b[0m in \u001b[0;36mstructured_traceback\u001b[0;34m(self, etype, value, tb, tb_offset, number_of_lines_of_context)\u001b[0m\n\u001b[1;32m   1365\u001b[0m         \u001b[0;32melse\u001b[0m\u001b[0;34m:\u001b[0m\u001b[0;34m\u001b[0m\u001b[0;34m\u001b[0m\u001b[0m\n\u001b[1;32m   1366\u001b[0m             \u001b[0mself\u001b[0m\u001b[0;34m.\u001b[0m\u001b[0mtb\u001b[0m \u001b[0;34m=\u001b[0m \u001b[0mtb\u001b[0m\u001b[0;34m\u001b[0m\u001b[0;34m\u001b[0m\u001b[0m\n\u001b[0;32m-> 1367\u001b[0;31m         return FormattedTB.structured_traceback(\n\u001b[0m\u001b[1;32m   1368\u001b[0m             self, etype, value, tb, tb_offset, number_of_lines_of_context)\n\u001b[1;32m   1369\u001b[0m \u001b[0;34m\u001b[0m\u001b[0m\n",
            "\u001b[0;32m/usr/local/lib/python3.10/dist-packages/IPython/core/ultratb.py\u001b[0m in \u001b[0;36mstructured_traceback\u001b[0;34m(self, etype, value, tb, tb_offset, number_of_lines_of_context)\u001b[0m\n\u001b[1;32m   1265\u001b[0m         \u001b[0;32mif\u001b[0m \u001b[0mmode\u001b[0m \u001b[0;32min\u001b[0m \u001b[0mself\u001b[0m\u001b[0;34m.\u001b[0m\u001b[0mverbose_modes\u001b[0m\u001b[0;34m:\u001b[0m\u001b[0;34m\u001b[0m\u001b[0;34m\u001b[0m\u001b[0m\n\u001b[1;32m   1266\u001b[0m             \u001b[0;31m# Verbose modes need a full traceback\u001b[0m\u001b[0;34m\u001b[0m\u001b[0;34m\u001b[0m\u001b[0m\n\u001b[0;32m-> 1267\u001b[0;31m             return VerboseTB.structured_traceback(\n\u001b[0m\u001b[1;32m   1268\u001b[0m                 \u001b[0mself\u001b[0m\u001b[0;34m,\u001b[0m \u001b[0metype\u001b[0m\u001b[0;34m,\u001b[0m \u001b[0mvalue\u001b[0m\u001b[0;34m,\u001b[0m \u001b[0mtb\u001b[0m\u001b[0;34m,\u001b[0m \u001b[0mtb_offset\u001b[0m\u001b[0;34m,\u001b[0m \u001b[0mnumber_of_lines_of_context\u001b[0m\u001b[0;34m\u001b[0m\u001b[0;34m\u001b[0m\u001b[0m\n\u001b[1;32m   1269\u001b[0m             )\n",
            "\u001b[0;32m/usr/local/lib/python3.10/dist-packages/IPython/core/ultratb.py\u001b[0m in \u001b[0;36mstructured_traceback\u001b[0;34m(self, etype, evalue, etb, tb_offset, number_of_lines_of_context)\u001b[0m\n\u001b[1;32m   1122\u001b[0m         \u001b[0;34m\"\"\"Return a nice text document describing the traceback.\"\"\"\u001b[0m\u001b[0;34m\u001b[0m\u001b[0;34m\u001b[0m\u001b[0m\n\u001b[1;32m   1123\u001b[0m \u001b[0;34m\u001b[0m\u001b[0m\n\u001b[0;32m-> 1124\u001b[0;31m         formatted_exception = self.format_exception_as_a_whole(etype, evalue, etb, number_of_lines_of_context,\n\u001b[0m\u001b[1;32m   1125\u001b[0m                                                                tb_offset)\n\u001b[1;32m   1126\u001b[0m \u001b[0;34m\u001b[0m\u001b[0m\n",
            "\u001b[0;32m/usr/local/lib/python3.10/dist-packages/IPython/core/ultratb.py\u001b[0m in \u001b[0;36mformat_exception_as_a_whole\u001b[0;34m(self, etype, evalue, etb, number_of_lines_of_context, tb_offset)\u001b[0m\n\u001b[1;32m   1080\u001b[0m \u001b[0;34m\u001b[0m\u001b[0m\n\u001b[1;32m   1081\u001b[0m \u001b[0;34m\u001b[0m\u001b[0m\n\u001b[0;32m-> 1082\u001b[0;31m         \u001b[0mlast_unique\u001b[0m\u001b[0;34m,\u001b[0m \u001b[0mrecursion_repeat\u001b[0m \u001b[0;34m=\u001b[0m \u001b[0mfind_recursion\u001b[0m\u001b[0;34m(\u001b[0m\u001b[0morig_etype\u001b[0m\u001b[0;34m,\u001b[0m \u001b[0mevalue\u001b[0m\u001b[0;34m,\u001b[0m \u001b[0mrecords\u001b[0m\u001b[0;34m)\u001b[0m\u001b[0;34m\u001b[0m\u001b[0;34m\u001b[0m\u001b[0m\n\u001b[0m\u001b[1;32m   1083\u001b[0m \u001b[0;34m\u001b[0m\u001b[0m\n\u001b[1;32m   1084\u001b[0m         \u001b[0mframes\u001b[0m \u001b[0;34m=\u001b[0m \u001b[0mself\u001b[0m\u001b[0;34m.\u001b[0m\u001b[0mformat_records\u001b[0m\u001b[0;34m(\u001b[0m\u001b[0mrecords\u001b[0m\u001b[0;34m,\u001b[0m \u001b[0mlast_unique\u001b[0m\u001b[0;34m,\u001b[0m \u001b[0mrecursion_repeat\u001b[0m\u001b[0;34m)\u001b[0m\u001b[0;34m\u001b[0m\u001b[0;34m\u001b[0m\u001b[0m\n",
            "\u001b[0;32m/usr/local/lib/python3.10/dist-packages/IPython/core/ultratb.py\u001b[0m in \u001b[0;36mfind_recursion\u001b[0;34m(etype, value, records)\u001b[0m\n\u001b[1;32m    380\u001b[0m     \u001b[0;31m# first frame (from in to out) that looks different.\u001b[0m\u001b[0;34m\u001b[0m\u001b[0;34m\u001b[0m\u001b[0m\n\u001b[1;32m    381\u001b[0m     \u001b[0;32mif\u001b[0m \u001b[0;32mnot\u001b[0m \u001b[0mis_recursion_error\u001b[0m\u001b[0;34m(\u001b[0m\u001b[0metype\u001b[0m\u001b[0;34m,\u001b[0m \u001b[0mvalue\u001b[0m\u001b[0;34m,\u001b[0m \u001b[0mrecords\u001b[0m\u001b[0;34m)\u001b[0m\u001b[0;34m:\u001b[0m\u001b[0;34m\u001b[0m\u001b[0;34m\u001b[0m\u001b[0m\n\u001b[0;32m--> 382\u001b[0;31m         \u001b[0;32mreturn\u001b[0m \u001b[0mlen\u001b[0m\u001b[0;34m(\u001b[0m\u001b[0mrecords\u001b[0m\u001b[0;34m)\u001b[0m\u001b[0;34m,\u001b[0m \u001b[0;36m0\u001b[0m\u001b[0;34m\u001b[0m\u001b[0;34m\u001b[0m\u001b[0m\n\u001b[0m\u001b[1;32m    383\u001b[0m \u001b[0;34m\u001b[0m\u001b[0m\n\u001b[1;32m    384\u001b[0m     \u001b[0;31m# Select filename, lineno, func_name to track frames with\u001b[0m\u001b[0;34m\u001b[0m\u001b[0;34m\u001b[0m\u001b[0m\n",
            "\u001b[0;31mTypeError\u001b[0m: object of type 'NoneType' has no len()"
          ]
        }
      ],
      "source": [
        "print(np.isnan(adata.X).sum())"
      ]
    },
    {
      "cell_type": "markdown",
      "id": "7ab463c4-c21e-4fbf-85e0-f70e4f6b91f2",
      "metadata": {
        "id": "7ab463c4-c21e-4fbf-85e0-f70e4f6b91f2"
      },
      "source": [
        "Differential accesibility analysis"
      ]
    },
    {
      "cell_type": "code",
      "source": [
        "import numpy as np"
      ],
      "metadata": {
        "id": "xRVSWxoGo1by"
      },
      "id": "xRVSWxoGo1by",
      "execution_count": 77,
      "outputs": []
    },
    {
      "cell_type": "code",
      "execution_count": 78,
      "id": "ffa7a645-c56a-4d94-af04-6869e008ca12",
      "metadata": {
        "id": "ffa7a645-c56a-4d94-af04-6869e008ca12"
      },
      "outputs": [],
      "source": [
        "from scipy import stats"
      ]
    },
    {
      "cell_type": "code",
      "execution_count": 79,
      "id": "62023b15-0427-43d2-ada2-edbaf46b20cb",
      "metadata": {
        "id": "62023b15-0427-43d2-ada2-edbaf46b20cb",
        "colab": {
          "base_uri": "https://localhost:8080/"
        },
        "outputId": "7100f306-0bc0-4baa-e6aa-ab586807c4b4"
      },
      "outputs": [
        {
          "output_type": "stream",
          "name": "stderr",
          "text": [
            "/usr/local/lib/python3.10/site-packages/anndata/_core/anndata.py:1118: FutureWarning:\n",
            "\n",
            "is_categorical_dtype is deprecated and will be removed in a future version. Use isinstance(dtype, CategoricalDtype) instead\n",
            "\n"
          ]
        }
      ],
      "source": [
        "# Assuming adata is your AnnData object\n",
        "condition1 = adata_concat[adata_concat.obs['Treatment'] == 'Treated w/AOA']\n",
        "condition2 = adata_concat[adata_concat.obs['Treatment'] == 'Untreated']"
      ]
    },
    {
      "cell_type": "markdown",
      "source": [
        "Remove batch effects"
      ],
      "metadata": {
        "id": "2dXDyGVx9VCd"
      },
      "id": "2dXDyGVx9VCd"
    },
    {
      "cell_type": "code",
      "source": [
        "import scanpy.external as sce"
      ],
      "metadata": {
        "id": "rMEAwPfD9h27"
      },
      "id": "rMEAwPfD9h27",
      "execution_count": 81,
      "outputs": []
    },
    {
      "cell_type": "code",
      "source": [
        "pip install harmonypy -q"
      ],
      "metadata": {
        "id": "Mp0YYzqF-6yN"
      },
      "id": "Mp0YYzqF-6yN",
      "execution_count": 83,
      "outputs": []
    },
    {
      "cell_type": "code",
      "source": [
        "import harmonypy as hm"
      ],
      "metadata": {
        "id": "b6AYtMkK_YPL"
      },
      "id": "b6AYtMkK_YPL",
      "execution_count": 84,
      "outputs": []
    },
    {
      "cell_type": "code",
      "source": [
        "sce.pp.harmony_integrate(adata_concat, 'Treatment')"
      ],
      "metadata": {
        "colab": {
          "base_uri": "https://localhost:8080/",
          "height": 294
        },
        "id": "s9ZLTIjf-l-N",
        "outputId": "a228ffc6-17f0-4c3e-c5ee-34425d95b898"
      },
      "id": "s9ZLTIjf-l-N",
      "execution_count": 85,
      "outputs": [
        {
          "output_type": "error",
          "ename": "KeyError",
          "evalue": "'X_pca'",
          "traceback": [
            "\u001b[0;31m---------------------------------------------------------------------------\u001b[0m",
            "\u001b[0;31mKeyError\u001b[0m                                  Traceback (most recent call last)",
            "\u001b[0;32m<ipython-input-85-87f5f2258b2d>\u001b[0m in \u001b[0;36m<cell line: 1>\u001b[0;34m()\u001b[0m\n\u001b[0;32m----> 1\u001b[0;31m \u001b[0msce\u001b[0m\u001b[0;34m.\u001b[0m\u001b[0mpp\u001b[0m\u001b[0;34m.\u001b[0m\u001b[0mharmony_integrate\u001b[0m\u001b[0;34m(\u001b[0m\u001b[0madata_concat\u001b[0m\u001b[0;34m,\u001b[0m \u001b[0;34m'Treatment'\u001b[0m\u001b[0;34m)\u001b[0m\u001b[0;34m\u001b[0m\u001b[0;34m\u001b[0m\u001b[0m\n\u001b[0m",
            "\u001b[0;32m/usr/local/lib/python3.10/site-packages/legacy_api_wrap/__init__.py\u001b[0m in \u001b[0;36mfn_compatible\u001b[0;34m(*args_all, **kw)\u001b[0m\n\u001b[1;32m     80\u001b[0m         \u001b[0;32mdef\u001b[0m \u001b[0mfn_compatible\u001b[0m\u001b[0;34m(\u001b[0m\u001b[0;34m*\u001b[0m\u001b[0margs_all\u001b[0m\u001b[0;34m:\u001b[0m \u001b[0mP\u001b[0m\u001b[0;34m.\u001b[0m\u001b[0margs\u001b[0m\u001b[0;34m,\u001b[0m \u001b[0;34m**\u001b[0m\u001b[0mkw\u001b[0m\u001b[0;34m:\u001b[0m \u001b[0mP\u001b[0m\u001b[0;34m.\u001b[0m\u001b[0mkwargs\u001b[0m\u001b[0;34m)\u001b[0m \u001b[0;34m->\u001b[0m \u001b[0mR\u001b[0m\u001b[0;34m:\u001b[0m\u001b[0;34m\u001b[0m\u001b[0;34m\u001b[0m\u001b[0m\n\u001b[1;32m     81\u001b[0m             \u001b[0;32mif\u001b[0m \u001b[0mlen\u001b[0m\u001b[0;34m(\u001b[0m\u001b[0margs_all\u001b[0m\u001b[0;34m)\u001b[0m \u001b[0;34m<=\u001b[0m \u001b[0mn_positional\u001b[0m\u001b[0;34m:\u001b[0m\u001b[0;34m\u001b[0m\u001b[0;34m\u001b[0m\u001b[0m\n\u001b[0;32m---> 82\u001b[0;31m                 \u001b[0;32mreturn\u001b[0m \u001b[0mfn\u001b[0m\u001b[0;34m(\u001b[0m\u001b[0;34m*\u001b[0m\u001b[0margs_all\u001b[0m\u001b[0;34m,\u001b[0m \u001b[0;34m**\u001b[0m\u001b[0mkw\u001b[0m\u001b[0;34m)\u001b[0m\u001b[0;34m\u001b[0m\u001b[0;34m\u001b[0m\u001b[0m\n\u001b[0m\u001b[1;32m     83\u001b[0m \u001b[0;34m\u001b[0m\u001b[0m\n\u001b[1;32m     84\u001b[0m             \u001b[0margs_pos\u001b[0m\u001b[0;34m:\u001b[0m \u001b[0mP\u001b[0m\u001b[0;34m.\u001b[0m\u001b[0margs\u001b[0m\u001b[0;34m\u001b[0m\u001b[0;34m\u001b[0m\u001b[0m\n",
            "\u001b[0;32m/usr/local/lib/python3.10/site-packages/scanpy/external/pp/_harmony_integrate.py\u001b[0m in \u001b[0;36mharmony_integrate\u001b[0;34m(adata, key, basis, adjusted_basis, **kwargs)\u001b[0m\n\u001b[1;32m     91\u001b[0m         \u001b[0;32mraise\u001b[0m \u001b[0mImportError\u001b[0m\u001b[0;34m(\u001b[0m\u001b[0;34m\"\\nplease install harmonypy:\\n\\n\\tpip install harmonypy\"\u001b[0m\u001b[0;34m)\u001b[0m\u001b[0;34m\u001b[0m\u001b[0;34m\u001b[0m\u001b[0m\n\u001b[1;32m     92\u001b[0m \u001b[0;34m\u001b[0m\u001b[0m\n\u001b[0;32m---> 93\u001b[0;31m     \u001b[0mX\u001b[0m \u001b[0;34m=\u001b[0m \u001b[0madata\u001b[0m\u001b[0;34m.\u001b[0m\u001b[0mobsm\u001b[0m\u001b[0;34m[\u001b[0m\u001b[0mbasis\u001b[0m\u001b[0;34m]\u001b[0m\u001b[0;34m.\u001b[0m\u001b[0mastype\u001b[0m\u001b[0;34m(\u001b[0m\u001b[0mnp\u001b[0m\u001b[0;34m.\u001b[0m\u001b[0mfloat64\u001b[0m\u001b[0;34m)\u001b[0m\u001b[0;34m\u001b[0m\u001b[0;34m\u001b[0m\u001b[0m\n\u001b[0m\u001b[1;32m     94\u001b[0m \u001b[0;34m\u001b[0m\u001b[0m\n\u001b[1;32m     95\u001b[0m     \u001b[0mharmony_out\u001b[0m \u001b[0;34m=\u001b[0m \u001b[0mharmonypy\u001b[0m\u001b[0;34m.\u001b[0m\u001b[0mrun_harmony\u001b[0m\u001b[0;34m(\u001b[0m\u001b[0mX\u001b[0m\u001b[0;34m,\u001b[0m \u001b[0madata\u001b[0m\u001b[0;34m.\u001b[0m\u001b[0mobs\u001b[0m\u001b[0;34m,\u001b[0m \u001b[0mkey\u001b[0m\u001b[0;34m,\u001b[0m \u001b[0;34m**\u001b[0m\u001b[0mkwargs\u001b[0m\u001b[0;34m)\u001b[0m\u001b[0;34m\u001b[0m\u001b[0;34m\u001b[0m\u001b[0m\n",
            "\u001b[0;32m/usr/local/lib/python3.10/site-packages/anndata/_core/aligned_mapping.py\u001b[0m in \u001b[0;36m__getitem__\u001b[0;34m(self, key)\u001b[0m\n\u001b[1;32m    146\u001b[0m \u001b[0;34m\u001b[0m\u001b[0m\n\u001b[1;32m    147\u001b[0m     \u001b[0;32mdef\u001b[0m \u001b[0m__getitem__\u001b[0m\u001b[0;34m(\u001b[0m\u001b[0mself\u001b[0m\u001b[0;34m,\u001b[0m \u001b[0mkey\u001b[0m\u001b[0;34m:\u001b[0m \u001b[0mstr\u001b[0m\u001b[0;34m)\u001b[0m \u001b[0;34m->\u001b[0m \u001b[0mV\u001b[0m\u001b[0;34m:\u001b[0m\u001b[0;34m\u001b[0m\u001b[0;34m\u001b[0m\u001b[0m\n\u001b[0;32m--> 148\u001b[0;31m         \u001b[0;32mreturn\u001b[0m \u001b[0mself\u001b[0m\u001b[0;34m.\u001b[0m\u001b[0m_data\u001b[0m\u001b[0;34m[\u001b[0m\u001b[0mkey\u001b[0m\u001b[0;34m]\u001b[0m\u001b[0;34m\u001b[0m\u001b[0;34m\u001b[0m\u001b[0m\n\u001b[0m\u001b[1;32m    149\u001b[0m \u001b[0;34m\u001b[0m\u001b[0m\n\u001b[1;32m    150\u001b[0m     \u001b[0;32mdef\u001b[0m \u001b[0m__setitem__\u001b[0m\u001b[0;34m(\u001b[0m\u001b[0mself\u001b[0m\u001b[0;34m,\u001b[0m \u001b[0mkey\u001b[0m\u001b[0;34m:\u001b[0m \u001b[0mstr\u001b[0m\u001b[0;34m,\u001b[0m \u001b[0mvalue\u001b[0m\u001b[0;34m:\u001b[0m \u001b[0mV\u001b[0m\u001b[0;34m)\u001b[0m\u001b[0;34m:\u001b[0m\u001b[0;34m\u001b[0m\u001b[0;34m\u001b[0m\u001b[0m\n",
            "\u001b[0;31mKeyError\u001b[0m: 'X_pca'"
          ]
        }
      ]
    },
    {
      "cell_type": "code",
      "execution_count": 80,
      "id": "ca4915b7-81f6-4768-bd12-4e5288c6f329",
      "metadata": {
        "id": "ca4915b7-81f6-4768-bd12-4e5288c6f329",
        "colab": {
          "base_uri": "https://localhost:8080/",
          "height": 347
        },
        "outputId": "d259cfd4-92b6-44c6-e4a5-f88c9a6fe0cf"
      },
      "outputs": [
        {
          "output_type": "error",
          "ename": "KeyboardInterrupt",
          "evalue": "",
          "traceback": [
            "\u001b[0;31m---------------------------------------------------------------------------\u001b[0m",
            "\u001b[0;31mKeyboardInterrupt\u001b[0m                         Traceback (most recent call last)",
            "\u001b[0;32m<ipython-input-80-3e2ea698d5db>\u001b[0m in \u001b[0;36m<cell line: 3>\u001b[0;34m()\u001b[0m\n\u001b[1;32m      2\u001b[0m \u001b[0mpvals\u001b[0m \u001b[0;34m=\u001b[0m \u001b[0;34m[\u001b[0m\u001b[0;34m]\u001b[0m\u001b[0;34m\u001b[0m\u001b[0;34m\u001b[0m\u001b[0m\n\u001b[1;32m      3\u001b[0m \u001b[0;32mfor\u001b[0m \u001b[0mpeak\u001b[0m \u001b[0;32min\u001b[0m \u001b[0madata_concat\u001b[0m\u001b[0;34m.\u001b[0m\u001b[0mvar_names\u001b[0m\u001b[0;34m:\u001b[0m\u001b[0;34m\u001b[0m\u001b[0;34m\u001b[0m\u001b[0m\n\u001b[0;32m----> 4\u001b[0;31m  \u001b[0m_\u001b[0m\u001b[0;34m,\u001b[0m \u001b[0mpval\u001b[0m \u001b[0;34m=\u001b[0m \u001b[0mstats\u001b[0m\u001b[0;34m.\u001b[0m\u001b[0mttest_ind\u001b[0m\u001b[0;34m(\u001b[0m\u001b[0mcondition1\u001b[0m\u001b[0;34m[\u001b[0m\u001b[0;34m:\u001b[0m\u001b[0;34m,\u001b[0m \u001b[0mpeak\u001b[0m\u001b[0;34m]\u001b[0m\u001b[0;34m.\u001b[0m\u001b[0mX\u001b[0m\u001b[0;34m.\u001b[0m\u001b[0mtoarray\u001b[0m\u001b[0;34m(\u001b[0m\u001b[0;34m)\u001b[0m\u001b[0;34m,\u001b[0m \u001b[0mcondition2\u001b[0m\u001b[0;34m[\u001b[0m\u001b[0;34m:\u001b[0m\u001b[0;34m,\u001b[0m \u001b[0mpeak\u001b[0m\u001b[0;34m]\u001b[0m\u001b[0;34m.\u001b[0m\u001b[0mX\u001b[0m\u001b[0;34m.\u001b[0m\u001b[0mtoarray\u001b[0m\u001b[0;34m(\u001b[0m\u001b[0;34m)\u001b[0m\u001b[0;34m)\u001b[0m\u001b[0;34m\u001b[0m\u001b[0;34m\u001b[0m\u001b[0m\n\u001b[0m\u001b[1;32m      5\u001b[0m  \u001b[0mpvals\u001b[0m\u001b[0;34m.\u001b[0m\u001b[0mappend\u001b[0m\u001b[0;34m(\u001b[0m\u001b[0mpval\u001b[0m\u001b[0;34m)\u001b[0m\u001b[0;34m\u001b[0m\u001b[0;34m\u001b[0m\u001b[0m\n",
            "\u001b[0;32m/usr/local/lib/python3.10/site-packages/anndata/_core/anndata.py\u001b[0m in \u001b[0;36mX\u001b[0;34m(self)\u001b[0m\n\u001b[1;32m    620\u001b[0m         \u001b[0;32melif\u001b[0m \u001b[0mself\u001b[0m\u001b[0;34m.\u001b[0m\u001b[0mis_view\u001b[0m\u001b[0;34m:\u001b[0m\u001b[0;34m\u001b[0m\u001b[0;34m\u001b[0m\u001b[0m\n\u001b[1;32m    621\u001b[0m             X = as_view(\n\u001b[0;32m--> 622\u001b[0;31m                 \u001b[0m_subset\u001b[0m\u001b[0;34m(\u001b[0m\u001b[0mself\u001b[0m\u001b[0;34m.\u001b[0m\u001b[0m_adata_ref\u001b[0m\u001b[0;34m.\u001b[0m\u001b[0mX\u001b[0m\u001b[0;34m,\u001b[0m \u001b[0;34m(\u001b[0m\u001b[0mself\u001b[0m\u001b[0;34m.\u001b[0m\u001b[0m_oidx\u001b[0m\u001b[0;34m,\u001b[0m \u001b[0mself\u001b[0m\u001b[0;34m.\u001b[0m\u001b[0m_vidx\u001b[0m\u001b[0;34m)\u001b[0m\u001b[0;34m)\u001b[0m\u001b[0;34m,\u001b[0m\u001b[0;34m\u001b[0m\u001b[0;34m\u001b[0m\u001b[0m\n\u001b[0m\u001b[1;32m    623\u001b[0m                 \u001b[0mElementRef\u001b[0m\u001b[0;34m(\u001b[0m\u001b[0mself\u001b[0m\u001b[0;34m,\u001b[0m \u001b[0;34m\"X\"\u001b[0m\u001b[0;34m)\u001b[0m\u001b[0;34m,\u001b[0m\u001b[0;34m\u001b[0m\u001b[0;34m\u001b[0m\u001b[0m\n\u001b[1;32m    624\u001b[0m             )\n",
            "\u001b[0;32m/usr/lib/python3.10/functools.py\u001b[0m in \u001b[0;36mwrapper\u001b[0;34m(*args, **kw)\u001b[0m\n\u001b[1;32m    887\u001b[0m                             '1 positional argument')\n\u001b[1;32m    888\u001b[0m \u001b[0;34m\u001b[0m\u001b[0m\n\u001b[0;32m--> 889\u001b[0;31m         \u001b[0;32mreturn\u001b[0m \u001b[0mdispatch\u001b[0m\u001b[0;34m(\u001b[0m\u001b[0margs\u001b[0m\u001b[0;34m[\u001b[0m\u001b[0;36m0\u001b[0m\u001b[0;34m]\u001b[0m\u001b[0;34m.\u001b[0m\u001b[0m__class__\u001b[0m\u001b[0;34m)\u001b[0m\u001b[0;34m(\u001b[0m\u001b[0;34m*\u001b[0m\u001b[0margs\u001b[0m\u001b[0;34m,\u001b[0m \u001b[0;34m**\u001b[0m\u001b[0mkw\u001b[0m\u001b[0;34m)\u001b[0m\u001b[0;34m\u001b[0m\u001b[0;34m\u001b[0m\u001b[0m\n\u001b[0m\u001b[1;32m    890\u001b[0m \u001b[0;34m\u001b[0m\u001b[0m\n\u001b[1;32m    891\u001b[0m     \u001b[0mfuncname\u001b[0m \u001b[0;34m=\u001b[0m \u001b[0mgetattr\u001b[0m\u001b[0;34m(\u001b[0m\u001b[0mfunc\u001b[0m\u001b[0;34m,\u001b[0m \u001b[0;34m'__name__'\u001b[0m\u001b[0;34m,\u001b[0m \u001b[0;34m'singledispatch function'\u001b[0m\u001b[0;34m)\u001b[0m\u001b[0;34m\u001b[0m\u001b[0;34m\u001b[0m\u001b[0m\n",
            "\u001b[0;32m/usr/local/lib/python3.10/site-packages/anndata/_core/index.py\u001b[0m in \u001b[0;36m_subset_spmatrix\u001b[0;34m(a, subset_idx)\u001b[0m\n\u001b[1;32m    133\u001b[0m     \u001b[0;32mif\u001b[0m \u001b[0mlen\u001b[0m\u001b[0;34m(\u001b[0m\u001b[0msubset_idx\u001b[0m\u001b[0;34m)\u001b[0m \u001b[0;34m>\u001b[0m \u001b[0;36m1\u001b[0m \u001b[0;32mand\u001b[0m \u001b[0mall\u001b[0m\u001b[0;34m(\u001b[0m\u001b[0misinstance\u001b[0m\u001b[0;34m(\u001b[0m\u001b[0mx\u001b[0m\u001b[0;34m,\u001b[0m \u001b[0mcabc\u001b[0m\u001b[0;34m.\u001b[0m\u001b[0mIterable\u001b[0m\u001b[0;34m)\u001b[0m \u001b[0;32mfor\u001b[0m \u001b[0mx\u001b[0m \u001b[0;32min\u001b[0m \u001b[0msubset_idx\u001b[0m\u001b[0;34m)\u001b[0m\u001b[0;34m:\u001b[0m\u001b[0;34m\u001b[0m\u001b[0;34m\u001b[0m\u001b[0m\n\u001b[1;32m    134\u001b[0m         \u001b[0msubset_idx\u001b[0m \u001b[0;34m=\u001b[0m \u001b[0;34m(\u001b[0m\u001b[0msubset_idx\u001b[0m\u001b[0;34m[\u001b[0m\u001b[0;36m0\u001b[0m\u001b[0;34m]\u001b[0m\u001b[0;34m.\u001b[0m\u001b[0mreshape\u001b[0m\u001b[0;34m(\u001b[0m\u001b[0;34m-\u001b[0m\u001b[0;36m1\u001b[0m\u001b[0;34m,\u001b[0m \u001b[0;36m1\u001b[0m\u001b[0;34m)\u001b[0m\u001b[0;34m,\u001b[0m \u001b[0;34m*\u001b[0m\u001b[0msubset_idx\u001b[0m\u001b[0;34m[\u001b[0m\u001b[0;36m1\u001b[0m\u001b[0;34m:\u001b[0m\u001b[0;34m]\u001b[0m\u001b[0;34m)\u001b[0m\u001b[0;34m\u001b[0m\u001b[0;34m\u001b[0m\u001b[0m\n\u001b[0;32m--> 135\u001b[0;31m     \u001b[0;32mreturn\u001b[0m \u001b[0ma\u001b[0m\u001b[0;34m[\u001b[0m\u001b[0msubset_idx\u001b[0m\u001b[0;34m]\u001b[0m\u001b[0;34m\u001b[0m\u001b[0;34m\u001b[0m\u001b[0m\n\u001b[0m\u001b[1;32m    136\u001b[0m \u001b[0;34m\u001b[0m\u001b[0m\n\u001b[1;32m    137\u001b[0m \u001b[0;34m\u001b[0m\u001b[0m\n",
            "\u001b[0;32m/usr/local/lib/python3.10/site-packages/scipy/sparse/_csr.py\u001b[0m in \u001b[0;36m__getitem__\u001b[0;34m(self, key)\u001b[0m\n\u001b[1;32m     22\u001b[0m     \u001b[0;32mdef\u001b[0m \u001b[0m__getitem__\u001b[0m\u001b[0;34m(\u001b[0m\u001b[0mself\u001b[0m\u001b[0;34m,\u001b[0m \u001b[0mkey\u001b[0m\u001b[0;34m)\u001b[0m\u001b[0;34m:\u001b[0m\u001b[0;34m\u001b[0m\u001b[0;34m\u001b[0m\u001b[0m\n\u001b[1;32m     23\u001b[0m         \u001b[0;32mif\u001b[0m \u001b[0mself\u001b[0m\u001b[0;34m.\u001b[0m\u001b[0mndim\u001b[0m \u001b[0;34m==\u001b[0m \u001b[0;36m2\u001b[0m\u001b[0;34m:\u001b[0m\u001b[0;34m\u001b[0m\u001b[0;34m\u001b[0m\u001b[0m\n\u001b[0;32m---> 24\u001b[0;31m             \u001b[0;32mreturn\u001b[0m \u001b[0msuper\u001b[0m\u001b[0;34m(\u001b[0m\u001b[0;34m)\u001b[0m\u001b[0;34m.\u001b[0m\u001b[0m__getitem__\u001b[0m\u001b[0;34m(\u001b[0m\u001b[0mkey\u001b[0m\u001b[0;34m)\u001b[0m\u001b[0;34m\u001b[0m\u001b[0;34m\u001b[0m\u001b[0m\n\u001b[0m\u001b[1;32m     25\u001b[0m \u001b[0;34m\u001b[0m\u001b[0m\n\u001b[1;32m     26\u001b[0m         \u001b[0;32mif\u001b[0m \u001b[0misinstance\u001b[0m\u001b[0;34m(\u001b[0m\u001b[0mkey\u001b[0m\u001b[0;34m,\u001b[0m \u001b[0mtuple\u001b[0m\u001b[0;34m)\u001b[0m \u001b[0;32mand\u001b[0m \u001b[0mlen\u001b[0m\u001b[0;34m(\u001b[0m\u001b[0mkey\u001b[0m\u001b[0;34m)\u001b[0m \u001b[0;34m==\u001b[0m \u001b[0;36m1\u001b[0m\u001b[0;34m:\u001b[0m\u001b[0;34m\u001b[0m\u001b[0;34m\u001b[0m\u001b[0m\n",
            "\u001b[0;32m/usr/local/lib/python3.10/site-packages/scipy/sparse/_index.py\u001b[0m in \u001b[0;36m__getitem__\u001b[0;34m(self, key)\u001b[0m\n\u001b[1;32m     81\u001b[0m                 \u001b[0;32mreturn\u001b[0m \u001b[0mself\u001b[0m\u001b[0;34m.\u001b[0m\u001b[0m_get_arrayXint\u001b[0m\u001b[0;34m(\u001b[0m\u001b[0mrow\u001b[0m\u001b[0;34m,\u001b[0m \u001b[0mcol\u001b[0m\u001b[0;34m)\u001b[0m\u001b[0;34m\u001b[0m\u001b[0;34m\u001b[0m\u001b[0m\n\u001b[1;32m     82\u001b[0m             \u001b[0;32melif\u001b[0m \u001b[0misinstance\u001b[0m\u001b[0;34m(\u001b[0m\u001b[0mcol\u001b[0m\u001b[0;34m,\u001b[0m \u001b[0mslice\u001b[0m\u001b[0;34m)\u001b[0m\u001b[0;34m:\u001b[0m\u001b[0;34m\u001b[0m\u001b[0;34m\u001b[0m\u001b[0m\n\u001b[0;32m---> 83\u001b[0;31m                 \u001b[0;32mreturn\u001b[0m \u001b[0mself\u001b[0m\u001b[0;34m.\u001b[0m\u001b[0m_get_arrayXslice\u001b[0m\u001b[0;34m(\u001b[0m\u001b[0mrow\u001b[0m\u001b[0;34m,\u001b[0m \u001b[0mcol\u001b[0m\u001b[0;34m)\u001b[0m\u001b[0;34m\u001b[0m\u001b[0;34m\u001b[0m\u001b[0m\n\u001b[0m\u001b[1;32m     84\u001b[0m         \u001b[0;32melse\u001b[0m\u001b[0;34m:\u001b[0m  \u001b[0;31m# row.ndim == 2\u001b[0m\u001b[0;34m\u001b[0m\u001b[0;34m\u001b[0m\u001b[0m\n\u001b[1;32m     85\u001b[0m             \u001b[0;32mif\u001b[0m \u001b[0misinstance\u001b[0m\u001b[0;34m(\u001b[0m\u001b[0mcol\u001b[0m\u001b[0;34m,\u001b[0m \u001b[0mINT_TYPES\u001b[0m\u001b[0;34m)\u001b[0m\u001b[0;34m:\u001b[0m\u001b[0;34m\u001b[0m\u001b[0;34m\u001b[0m\u001b[0m\n",
            "\u001b[0;32m/usr/local/lib/python3.10/site-packages/scipy/sparse/_csr.py\u001b[0m in \u001b[0;36m_get_arrayXslice\u001b[0;34m(self, row, col)\u001b[0m\n\u001b[1;32m    275\u001b[0m             \u001b[0mcol\u001b[0m \u001b[0;34m=\u001b[0m \u001b[0mnp\u001b[0m\u001b[0;34m.\u001b[0m\u001b[0marange\u001b[0m\u001b[0;34m(\u001b[0m\u001b[0;34m*\u001b[0m\u001b[0mcol\u001b[0m\u001b[0;34m.\u001b[0m\u001b[0mindices\u001b[0m\u001b[0;34m(\u001b[0m\u001b[0mself\u001b[0m\u001b[0;34m.\u001b[0m\u001b[0mshape\u001b[0m\u001b[0;34m[\u001b[0m\u001b[0;36m1\u001b[0m\u001b[0;34m]\u001b[0m\u001b[0;34m)\u001b[0m\u001b[0;34m)\u001b[0m\u001b[0;34m\u001b[0m\u001b[0;34m\u001b[0m\u001b[0m\n\u001b[1;32m    276\u001b[0m             \u001b[0;32mreturn\u001b[0m \u001b[0mself\u001b[0m\u001b[0;34m.\u001b[0m\u001b[0m_get_arrayXarray\u001b[0m\u001b[0;34m(\u001b[0m\u001b[0mrow\u001b[0m\u001b[0;34m,\u001b[0m \u001b[0mcol\u001b[0m\u001b[0;34m)\u001b[0m\u001b[0;34m\u001b[0m\u001b[0;34m\u001b[0m\u001b[0m\n\u001b[0;32m--> 277\u001b[0;31m         \u001b[0;32mreturn\u001b[0m \u001b[0mself\u001b[0m\u001b[0;34m.\u001b[0m\u001b[0m_major_index_fancy\u001b[0m\u001b[0;34m(\u001b[0m\u001b[0mrow\u001b[0m\u001b[0;34m)\u001b[0m\u001b[0;34m.\u001b[0m\u001b[0m_get_submatrix\u001b[0m\u001b[0;34m(\u001b[0m\u001b[0mminor\u001b[0m\u001b[0;34m=\u001b[0m\u001b[0mcol\u001b[0m\u001b[0;34m)\u001b[0m\u001b[0;34m\u001b[0m\u001b[0;34m\u001b[0m\u001b[0m\n\u001b[0m\u001b[1;32m    278\u001b[0m \u001b[0;34m\u001b[0m\u001b[0m\n\u001b[1;32m    279\u001b[0m \u001b[0;34m\u001b[0m\u001b[0m\n",
            "\u001b[0;32m/usr/local/lib/python3.10/site-packages/scipy/sparse/_compressed.py\u001b[0m in \u001b[0;36m_major_index_fancy\u001b[0;34m(self, idx)\u001b[0m\n\u001b[1;32m    765\u001b[0m         \u001b[0mres_indices\u001b[0m \u001b[0;34m=\u001b[0m \u001b[0mnp\u001b[0m\u001b[0;34m.\u001b[0m\u001b[0mempty\u001b[0m\u001b[0;34m(\u001b[0m\u001b[0mnnz\u001b[0m\u001b[0;34m,\u001b[0m \u001b[0mdtype\u001b[0m\u001b[0;34m=\u001b[0m\u001b[0midx_dtype\u001b[0m\u001b[0;34m)\u001b[0m\u001b[0;34m\u001b[0m\u001b[0;34m\u001b[0m\u001b[0m\n\u001b[1;32m    766\u001b[0m         \u001b[0mres_data\u001b[0m \u001b[0;34m=\u001b[0m \u001b[0mnp\u001b[0m\u001b[0;34m.\u001b[0m\u001b[0mempty\u001b[0m\u001b[0;34m(\u001b[0m\u001b[0mnnz\u001b[0m\u001b[0;34m,\u001b[0m \u001b[0mdtype\u001b[0m\u001b[0;34m=\u001b[0m\u001b[0mself\u001b[0m\u001b[0;34m.\u001b[0m\u001b[0mdtype\u001b[0m\u001b[0;34m)\u001b[0m\u001b[0;34m\u001b[0m\u001b[0;34m\u001b[0m\u001b[0m\n\u001b[0;32m--> 767\u001b[0;31m         csr_row_index(\n\u001b[0m\u001b[1;32m    768\u001b[0m             \u001b[0mM\u001b[0m\u001b[0;34m,\u001b[0m\u001b[0;34m\u001b[0m\u001b[0;34m\u001b[0m\u001b[0m\n\u001b[1;32m    769\u001b[0m             \u001b[0mindices\u001b[0m\u001b[0;34m,\u001b[0m\u001b[0;34m\u001b[0m\u001b[0;34m\u001b[0m\u001b[0m\n",
            "\u001b[0;31mKeyboardInterrupt\u001b[0m: "
          ]
        }
      ],
      "source": [
        "# Perform a t-test for each peak/gene\n",
        "pvals = []\n",
        "for peak in adata_concat.var_names:\n",
        " _, pval = stats.ttest_ind(condition1[:, peak].X.toarray(), condition2[:, peak].X.toarray())\n",
        " pvals.append(pval)"
      ]
    },
    {
      "cell_type": "code",
      "execution_count": null,
      "id": "0acc1066-bb4a-4c71-999a-c77e58d65cbd",
      "metadata": {
        "id": "0acc1066-bb4a-4c71-999a-c77e58d65cbd"
      },
      "outputs": [],
      "source": [
        "# Adjust p-values for multiple testing (e.g., using Benjamini-Hochberg)\n",
        "from statsmodels.stats.multitest import multipletests\n",
        "_, pvals_adj, _, _ = multipletests(pvals, method='fdr_bh')"
      ]
    },
    {
      "cell_type": "code",
      "execution_count": null,
      "id": "8f560497-6eaa-4600-af81-cddaf3db3a7d",
      "metadata": {
        "id": "8f560497-6eaa-4600-af81-cddaf3db3a7d"
      },
      "outputs": [],
      "source": [
        "# Add p-values to AnnData object\n",
        "adata.var['pvals'] = pvals\n",
        "adata.var['pvals_adj'] = pvals_adj"
      ]
    },
    {
      "cell_type": "code",
      "execution_count": null,
      "id": "805e9c59-a29c-4220-b5b6-ba9d7672844e",
      "metadata": {
        "id": "805e9c59-a29c-4220-b5b6-ba9d7672844e"
      },
      "outputs": [],
      "source": [
        "Filter Significant DARs: Filter the results to retain only those regions that are significantly differentially accessible after multiple testing correction."
      ]
    },
    {
      "cell_type": "code",
      "execution_count": null,
      "id": "4a5ba1af-324e-4599-8f0b-b76349556e07",
      "metadata": {
        "id": "4a5ba1af-324e-4599-8f0b-b76349556e07"
      },
      "outputs": [],
      "source": [
        "significant_dars = adata.var[adata.var['pvals_adj'] < 0.05]"
      ]
    },
    {
      "cell_type": "code",
      "execution_count": null,
      "id": "7acd26c4-c431-4a47-8aeb-4edf6520b75d",
      "metadata": {
        "id": "7acd26c4-c431-4a47-8aeb-4edf6520b75d"
      },
      "outputs": [],
      "source": [
        "Visualize Results: Visualize the differentially accessible regions using various plotting functions available in scanpy or other visualization libraries."
      ]
    },
    {
      "cell_type": "code",
      "execution_count": null,
      "id": "575eb596-0196-4dc9-831d-c883201014a0",
      "metadata": {
        "id": "575eb596-0196-4dc9-831d-c883201014a0"
      },
      "outputs": [],
      "source": [
        "sc.pl.heatmap(adata, var_names=significant_dars.index, groupby='condition')\n",
        "\n",
        "Interpret Results: Interpret the biological significance of the differentially accessible regions. This might involve looking at the genes associated with these regions and understanding their roles in the biological conditions you are studying."
      ]
    }
  ],
  "metadata": {
    "colab": {
      "machine_shape": "hm",
      "provenance": [],
      "include_colab_link": true
    },
    "kernelspec": {
      "display_name": "Python 3",
      "name": "python3"
    },
    "language_info": {
      "name": "python"
    }
  },
  "nbformat": 4,
  "nbformat_minor": 5
}