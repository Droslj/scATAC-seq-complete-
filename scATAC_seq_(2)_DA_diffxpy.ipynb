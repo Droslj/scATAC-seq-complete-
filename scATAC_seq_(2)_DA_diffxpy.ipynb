{
  "cells": [
    {
      "cell_type": "markdown",
      "metadata": {
        "id": "view-in-github",
        "colab_type": "text"
      },
      "source": [
        "<a href=\"https://colab.research.google.com/github/Droslj/scATAC-seq-complete-/blob/Google-colab/scATAC_seq_(2)_DA_diffxpy.ipynb\" target=\"_parent\"><img src=\"https://colab.research.google.com/assets/colab-badge.svg\" alt=\"Open In Colab\"/></a>"
      ]
    },
    {
      "cell_type": "markdown",
      "id": "f268332b-53de-4af8-9533-e48c041292f3",
      "metadata": {
        "id": "f268332b-53de-4af8-9533-e48c041292f3"
      },
      "source": [
        "scATAC seq, based on scATAC seq processing Galaxy tutorials (scATAC preprocessing (2), Standard scATAC seq processing pipeline (1) )\n",
        "AD Objects created in Galaxy using customized Galaxy WF with Snapatac2 and imported\n",
        "(1) https://usegalaxy.eu/training-material/topics/single-cell/tutorials/scatac-preprocessing-tenx/tutorial.html#mapping-reads-to-a-reference-genome, (2) https://usegalaxy.eu/training-material/topics/single-cell/tutorials/scatac-standard-processing-snapatac2/tutorial.html\n",
        "Data taken from the following NCBI study:\n",
        "Metabolic adaptation pilots the differentiation of human hematopoietic cells (https://www.ncbi.nlm.nih.gov/bioproject/PRJNA1015713)\n",
        "Import Anndata objects for two biological replicates, SRR26046013 (cells treated with AOA inhibitor) and SRR26046019 (untreated cells)\n",
        "Perform following steps:\n",
        "(1) Import matrices\n",
        "(2) Compute fragment size distribution\n",
        "(3) Compute TSS enrichment\n",
        "(4) Filter cell counts based on TSSe\n",
        "(5) Create cell by bin matrix based on 500 bp wide bins accross the whole genome\n",
        "(6) Perform feature selection\n",
        "(7) Perform Doublet removal\n",
        "(8) Perform Dim reduction (spectral)\n",
        "(9) Perform Clustering (neighborhood, UMAP, leiden)\n",
        "(10) Create a cell by gene matrix\n",
        "(11) Concatenate matrices using Inner join\n",
        "(12) Remove batch effects"
      ]
    },
    {
      "cell_type": "code",
      "source": [
        "!pip install -q condacolab"
      ],
      "metadata": {
        "id": "HYs7RhoU68Ks"
      },
      "execution_count": 1,
      "outputs": [],
      "id": "HYs7RhoU68Ks"
    },
    {
      "cell_type": "code",
      "source": [
        "import condacolab"
      ],
      "metadata": {
        "id": "QBQXEKjk7O-V"
      },
      "execution_count": 2,
      "outputs": [],
      "id": "QBQXEKjk7O-V"
    },
    {
      "cell_type": "code",
      "source": [
        "condacolab.install()"
      ],
      "metadata": {
        "colab": {
          "base_uri": "https://localhost:8080/"
        },
        "id": "YdiPg8vS7ZKq",
        "outputId": "4f2878f6-957a-495c-9466-4d3cbeda55ab"
      },
      "execution_count": 3,
      "outputs": [
        {
          "output_type": "stream",
          "name": "stdout",
          "text": [
            "✨🍰✨ Everything looks OK!\n"
          ]
        }
      ],
      "id": "YdiPg8vS7ZKq"
    },
    {
      "cell_type": "code",
      "source": [
        "!conda --version"
      ],
      "metadata": {
        "colab": {
          "base_uri": "https://localhost:8080/"
        },
        "id": "VITjp1M56yu_",
        "outputId": "b1cf5790-93af-475e-a627-06c08cde6057"
      },
      "execution_count": 4,
      "outputs": [
        {
          "output_type": "stream",
          "name": "stdout",
          "text": [
            "conda 23.11.0\n"
          ]
        }
      ],
      "id": "VITjp1M56yu_"
    },
    {
      "cell_type": "code",
      "source": [
        "!which conda"
      ],
      "metadata": {
        "colab": {
          "base_uri": "https://localhost:8080/"
        },
        "id": "S-oCMIm-7p9i",
        "outputId": "11f3b0a2-2f5d-4791-ba82-220f10caf86a"
      },
      "execution_count": 5,
      "outputs": [
        {
          "output_type": "stream",
          "name": "stdout",
          "text": [
            "/usr/local/bin/conda\n"
          ]
        }
      ],
      "id": "S-oCMIm-7p9i"
    },
    {
      "cell_type": "code",
      "source": [
        "!conda config --add channels conda-forge"
      ],
      "metadata": {
        "colab": {
          "base_uri": "https://localhost:8080/"
        },
        "id": "D6zjhdZm-BJp",
        "outputId": "d9dffc62-ef32-4917-fb8d-ae405ebab40b"
      },
      "execution_count": 6,
      "outputs": [
        {
          "output_type": "stream",
          "name": "stdout",
          "text": [
            "Warning: 'conda-forge' already in 'channels' list, moving to the top\n"
          ]
        }
      ],
      "id": "D6zjhdZm-BJp"
    },
    {
      "cell_type": "code",
      "source": [
        "!conda config --add channels bioconda"
      ],
      "metadata": {
        "colab": {
          "base_uri": "https://localhost:8080/"
        },
        "id": "JpJESCcU-fO_",
        "outputId": "5fe1f302-729c-418e-9b69-5bc4730387ed"
      },
      "execution_count": 7,
      "outputs": [
        {
          "output_type": "stream",
          "name": "stdout",
          "text": [
            "Warning: 'bioconda' already in 'channels' list, moving to the top\n"
          ]
        }
      ],
      "id": "JpJESCcU-fO_"
    },
    {
      "source": [
        "!pip install snapatac2 -q"
      ],
      "cell_type": "code",
      "metadata": {
        "id": "gZdiRWwb1rZJ"
      },
      "execution_count": 8,
      "outputs": [],
      "id": "gZdiRWwb1rZJ"
    },
    {
      "cell_type": "code",
      "source": [
        "!pip show snapatac2"
      ],
      "metadata": {
        "colab": {
          "base_uri": "https://localhost:8080/"
        },
        "id": "jsCJ2get4W8l",
        "outputId": "99fb94ab-d101-4fda-db4c-26a798768d80"
      },
      "execution_count": 9,
      "outputs": [
        {
          "output_type": "stream",
          "name": "stdout",
          "text": [
            "Name: snapatac2\n",
            "Version: 2.8.0\n",
            "Summary: SnapATAC2: Single-cell epigenomics analysis pipeline\n",
            "Home-page: https://github.com/\n",
            "Author: Kai Zhang <kai@kzhang.org>\n",
            "Author-email: Kai Zhang <zhangkai33@westlake.edu.cn>\n",
            "License: MIT\n",
            "Location: /usr/local/lib/python3.10/site-packages\n",
            "Requires: anndata, igraph, kaleido, macs3, multiprocess, natsort, numpy, pandas, plotly, polars, pooch, pyarrow, pyfaidx, rustworkx, scikit-learn, scipy, tqdm, typeguard\n",
            "Required-by: \n"
          ]
        }
      ],
      "id": "jsCJ2get4W8l"
    },
    {
      "cell_type": "code",
      "source": [
        "import snapatac2 as snap"
      ],
      "metadata": {
        "id": "z2G4FDYqgSmQ"
      },
      "execution_count": 10,
      "outputs": [],
      "id": "z2G4FDYqgSmQ"
    },
    {
      "cell_type": "code",
      "source": [
        "!pip install umap-learn\n",
        "\n"
      ],
      "metadata": {
        "colab": {
          "base_uri": "https://localhost:8080/"
        },
        "id": "VZLaiDEzlB1m",
        "outputId": "c9a81b48-b817-439b-f01f-3df73c554bdf"
      },
      "execution_count": 11,
      "outputs": [
        {
          "output_type": "stream",
          "name": "stdout",
          "text": [
            "Requirement already satisfied: umap-learn in /usr/local/lib/python3.10/site-packages (0.5.7)\n",
            "Requirement already satisfied: numpy>=1.17 in /usr/local/lib/python3.10/site-packages (from umap-learn) (1.26.4)\n",
            "Requirement already satisfied: scipy>=1.3.1 in /usr/local/lib/python3.10/site-packages (from umap-learn) (1.15.0)\n",
            "Requirement already satisfied: scikit-learn>=0.22 in /usr/local/lib/python3.10/site-packages (from umap-learn) (1.6.0)\n",
            "Requirement already satisfied: numba>=0.51.2 in /usr/local/lib/python3.10/site-packages (from umap-learn) (0.60.0)\n",
            "Requirement already satisfied: pynndescent>=0.5 in /usr/local/lib/python3.10/site-packages (from umap-learn) (0.5.13)\n",
            "Requirement already satisfied: tqdm in /usr/local/lib/python3.10/site-packages (from umap-learn) (4.66.1)\n",
            "Requirement already satisfied: llvmlite<0.44,>=0.43.0dev0 in /usr/local/lib/python3.10/site-packages (from numba>=0.51.2->umap-learn) (0.43.0)\n",
            "Requirement already satisfied: joblib>=0.11 in /usr/local/lib/python3.10/site-packages (from pynndescent>=0.5->umap-learn) (1.4.2)\n",
            "Requirement already satisfied: threadpoolctl>=3.1.0 in /usr/local/lib/python3.10/site-packages (from scikit-learn>=0.22->umap-learn) (3.5.0)\n"
          ]
        }
      ],
      "id": "VZLaiDEzlB1m"
    },
    {
      "cell_type": "code",
      "source": [
        "import umap.umap_ as umap\n"
      ],
      "metadata": {
        "id": "BCEdegOSgRBg"
      },
      "execution_count": 12,
      "outputs": [],
      "id": "BCEdegOSgRBg"
    },
    {
      "cell_type": "code",
      "source": [
        "from umap import UMAP"
      ],
      "metadata": {
        "id": "FVmqXk-vlFrB"
      },
      "execution_count": 13,
      "outputs": [],
      "id": "FVmqXk-vlFrB"
    },
    {
      "cell_type": "code",
      "source": [
        "!pip install scanpy -q"
      ],
      "metadata": {
        "id": "CM_xhHZxUcF5"
      },
      "execution_count": 14,
      "outputs": [],
      "id": "CM_xhHZxUcF5"
    },
    {
      "cell_type": "code",
      "source": [
        "import scanpy as sc"
      ],
      "metadata": {
        "id": "NYl1nQOhUoj2"
      },
      "execution_count": 15,
      "outputs": [],
      "id": "NYl1nQOhUoj2"
    },
    {
      "cell_type": "code",
      "source": [
        "pip show scanpy"
      ],
      "metadata": {
        "colab": {
          "base_uri": "https://localhost:8080/"
        },
        "id": "rkvTEjpw_csS",
        "outputId": "257bb0ea-c799-4497-b268-c141a46b1dea"
      },
      "execution_count": 16,
      "outputs": [
        {
          "output_type": "stream",
          "name": "stdout",
          "text": [
            "Name: scanpy\n",
            "Version: 1.10.4\n",
            "Summary: Single-Cell Analysis in Python.\n",
            "Home-page: \n",
            "Author: Alex Wolf, Philipp Angerer, Fidel Ramirez, Isaac Virshup, Sergei Rybakov, Gokcen Eraslan, Tom White, Malte Luecken, Davide Cittaro, Tobias Callies, Marius Lange, Andrés R. Muñoz-Rojas\n",
            "Author-email: \n",
            "License: \n",
            "Location: /usr/local/lib/python3.10/site-packages\n",
            "Requires: anndata, h5py, joblib, legacy-api-wrap, matplotlib, natsort, networkx, numba, numpy, packaging, pandas, patsy, pynndescent, scikit-learn, scipy, seaborn, session-info, statsmodels, tqdm, umap-learn\n",
            "Required-by: \n"
          ]
        }
      ],
      "id": "rkvTEjpw_csS"
    },
    {
      "cell_type": "code",
      "execution_count": 17,
      "metadata": {
        "id": "4e15629f-bdc4-46dd-8375-a1f2e17960ca"
      },
      "outputs": [],
      "source": [
        "import numpy as np"
      ],
      "id": "4e15629f-bdc4-46dd-8375-a1f2e17960ca"
    },
    {
      "cell_type": "code",
      "execution_count": 18,
      "metadata": {
        "id": "37ff51dc-8860-4ab6-ab44-8223b33ea879"
      },
      "outputs": [],
      "source": [
        "import anndata as ad"
      ],
      "id": "37ff51dc-8860-4ab6-ab44-8223b33ea879"
    },
    {
      "source": [
        "!pip install diffxpy -q"
      ],
      "cell_type": "code",
      "metadata": {
        "id": "V4DX7Y0t1K1S"
      },
      "execution_count": 19,
      "outputs": [],
      "id": "V4DX7Y0t1K1S"
    },
    {
      "cell_type": "code",
      "source": [
        "!pip install --user scikit-misc -q"
      ],
      "metadata": {
        "id": "f5ImFdAUNvqP"
      },
      "id": "f5ImFdAUNvqP",
      "execution_count": 20,
      "outputs": []
    },
    {
      "cell_type": "code",
      "source": [
        "import diffxpy.api as de"
      ],
      "metadata": {
        "id": "yb2ApyZm9Bfz"
      },
      "execution_count": 21,
      "outputs": [],
      "id": "yb2ApyZm9Bfz"
    },
    {
      "cell_type": "code",
      "execution_count": 22,
      "metadata": {
        "id": "f54f07e0-84cc-4ab9-a156-ea8467a76fc4"
      },
      "outputs": [],
      "source": [
        "import matplotlib.pyplot as plt"
      ],
      "id": "f54f07e0-84cc-4ab9-a156-ea8467a76fc4"
    },
    {
      "source": [
        "import seaborn as sns"
      ],
      "cell_type": "code",
      "metadata": {
        "id": "jIEyfb4NApUa"
      },
      "execution_count": 23,
      "outputs": [],
      "id": "jIEyfb4NApUa"
    },
    {
      "cell_type": "code",
      "execution_count": 24,
      "metadata": {
        "id": "dfc626e2-9a64-4f0f-8677-1da6e446ea3a"
      },
      "outputs": [],
      "source": [
        "import plotly.subplots as sp\n",
        "import plotly.graph_objects as go"
      ],
      "id": "dfc626e2-9a64-4f0f-8677-1da6e446ea3a"
    },
    {
      "cell_type": "code",
      "execution_count": 25,
      "metadata": {
        "id": "ffa7a645-c56a-4d94-af04-6869e008ca12"
      },
      "outputs": [],
      "source": [
        "from scipy import stats"
      ],
      "id": "ffa7a645-c56a-4d94-af04-6869e008ca12"
    },
    {
      "cell_type": "code",
      "source": [
        "import pandas as pd"
      ],
      "metadata": {
        "id": "WB1NBeEal4uQ"
      },
      "id": "WB1NBeEal4uQ",
      "execution_count": 26,
      "outputs": []
    },
    {
      "cell_type": "markdown",
      "id": "43f56d4f-c4ec-496e-96bd-6645365df65c",
      "metadata": {
        "id": "43f56d4f-c4ec-496e-96bd-6645365df65c"
      },
      "source": [
        "# Import reads from google drive, three samples treated with energy metabolism inhibitors and one untreated"
      ]
    },
    {
      "cell_type": "code",
      "source": [
        "from google.colab import drive\n",
        "drive.mount('/content/drive')"
      ],
      "metadata": {
        "colab": {
          "base_uri": "https://localhost:8080/"
        },
        "id": "BpK5P48ACJOW",
        "outputId": "5b02b0c4-ed2d-4672-bfe4-9adf9f59a8a1"
      },
      "id": "BpK5P48ACJOW",
      "execution_count": 27,
      "outputs": [
        {
          "output_type": "stream",
          "name": "stdout",
          "text": [
            "Drive already mounted at /content/drive; to attempt to forcibly remount, call drive.mount(\"/content/drive\", force_remount=True).\n"
          ]
        }
      ]
    },
    {
      "cell_type": "code",
      "execution_count": 28,
      "id": "be1662ba-006c-4be4-9858-70480fa51fe3",
      "metadata": {
        "id": "be1662ba-006c-4be4-9858-70480fa51fe3",
        "colab": {
          "base_uri": "https://localhost:8080/"
        },
        "outputId": "e38ade8a-78e1-4972-835a-70ca5f49e64c"
      },
      "outputs": [
        {
          "output_type": "stream",
          "name": "stderr",
          "text": [
            "/usr/local/lib/python3.10/site-packages/anndata/_core/anndata.py:1754: UserWarning: Observation names are not unique. To make them unique, call `.obs_names_make_unique`.\n",
            "  utils.warn_names_duplicates(\"obs\")\n"
          ]
        }
      ],
      "source": [
        "#Load AD matrix from google drive, PCA and Batch corrected\n",
        "adata_concat = sc.read_h5ad('/content/drive/MyDrive/Colab Notebooks/MTXmerged_PCA_BC.h5ad')"
      ]
    },
    {
      "cell_type": "markdown",
      "source": [
        "# Make observation names unique\n",
        "\n"
      ],
      "metadata": {
        "id": "32DJSCEh2l5D"
      },
      "id": "32DJSCEh2l5D"
    },
    {
      "cell_type": "code",
      "source": [
        "adata_concat"
      ],
      "metadata": {
        "id": "KEu2Aixq97tb",
        "colab": {
          "base_uri": "https://localhost:8080/"
        },
        "outputId": "2da97c3b-f26e-4172-d87d-3fca5d4d65d7"
      },
      "id": "KEu2Aixq97tb",
      "execution_count": 29,
      "outputs": [
        {
          "output_type": "execute_result",
          "data": {
            "text/plain": [
              "AnnData object with n_obs × n_vars = 21361 × 53017\n",
              "    obs: 'n_fragment', 'frac_dup', 'frac_mito', 'tsse', 'doublet_probability', 'doublet_score', 'leiden', 'Treatment'\n",
              "    uns: 'pca'\n",
              "    obsm: 'X_pca', 'X_pca_harmony', 'X_umap'\n",
              "    varm: 'PCs'"
            ]
          },
          "metadata": {},
          "execution_count": 29
        }
      ]
    },
    {
      "source": [
        "# Check if any gene names are duplicated\n",
        "has_duplicates = adata_concat.var_names.duplicated().any()\n",
        "\n",
        "if has_duplicates:\n",
        "    print(\"var_names are not unique.\")\n",
        "else:\n",
        "    print(\"var_names are unique.\")"
      ],
      "cell_type": "code",
      "metadata": {
        "colab": {
          "base_uri": "https://localhost:8080/"
        },
        "id": "kh9tMDcXl_9k",
        "outputId": "9f708ad5-afc7-4688-b989-00c8119268cf"
      },
      "id": "kh9tMDcXl_9k",
      "execution_count": 30,
      "outputs": [
        {
          "output_type": "stream",
          "name": "stdout",
          "text": [
            "var_names are unique.\n"
          ]
        }
      ]
    },
    {
      "source": [
        "# Check if the number of unique gene names is equal to the total number of gene names\n",
        "is_unique = len(adata_concat.var_names) == pd.Series(adata_concat.var_names).nunique()\n",
        "\n",
        "if is_unique:\n",
        "    print(\"var_names are unique.\")\n",
        "else:\n",
        "    print(\"var_names are not unique.\")"
      ],
      "cell_type": "code",
      "metadata": {
        "colab": {
          "base_uri": "https://localhost:8080/"
        },
        "id": "Q4tthAC-luAg",
        "outputId": "5ffa0982-d69e-4a73-f267-365dd541a35f"
      },
      "id": "Q4tthAC-luAg",
      "execution_count": 31,
      "outputs": [
        {
          "output_type": "stream",
          "name": "stdout",
          "text": [
            "var_names are unique.\n"
          ]
        }
      ]
    },
    {
      "source": [
        "# Check if any observations are duplicated\n",
        "has_duplicates = adata_concat.obs_names.duplicated().any()\n",
        "\n",
        "if has_duplicates:\n",
        "    print(\"Observations are not unique.\")\n",
        "else:\n",
        "    print(\"Observations are unique.\")"
      ],
      "cell_type": "code",
      "metadata": {
        "colab": {
          "base_uri": "https://localhost:8080/"
        },
        "id": "TshptTfSm-3g",
        "outputId": "5ab70444-34c4-4de9-ccaa-a0ba9f487ab7"
      },
      "id": "TshptTfSm-3g",
      "execution_count": 32,
      "outputs": [
        {
          "output_type": "stream",
          "name": "stdout",
          "text": [
            "Observations are not unique.\n"
          ]
        }
      ]
    },
    {
      "source": [
        "# Check if the number of unique observations is equal to the total number of observations\n",
        "is_unique = len(adata_concat.obs_names) == pd.Series(adata_concat.obs_names).nunique()\n",
        "\n",
        "if is_unique:\n",
        "    print(\"Observations are unique.\")\n",
        "else:\n",
        "    print(\"Observations are not unique.\")"
      ],
      "cell_type": "code",
      "metadata": {
        "colab": {
          "base_uri": "https://localhost:8080/"
        },
        "id": "w0FEiyEIm9GP",
        "outputId": "ab5616ba-b822-488e-8faa-2b174c87e126"
      },
      "id": "w0FEiyEIm9GP",
      "execution_count": 33,
      "outputs": [
        {
          "output_type": "stream",
          "name": "stdout",
          "text": [
            "Observations are not unique.\n"
          ]
        }
      ]
    },
    {
      "cell_type": "code",
      "source": [
        "adata_concat.var_names"
      ],
      "metadata": {
        "colab": {
          "base_uri": "https://localhost:8080/"
        },
        "id": "5kpwCghN3xTE",
        "outputId": "8b18bf85-f889-49a3-90eb-3e3180110e7c"
      },
      "id": "5kpwCghN3xTE",
      "execution_count": 34,
      "outputs": [
        {
          "output_type": "execute_result",
          "data": {
            "text/plain": [
              "Index(['DDX11L1', 'WASH7P', 'ENSG00000238009', 'ENSG00000239945', 'DDX11L17',\n",
              "       'WASH9P', 'ENSG00000228463', 'ENSG00000286448', 'U6', 'ENSG00000230021',\n",
              "       ...\n",
              "       'MT-ND4', 'MT-TH', 'MT-TS2', 'MT-TL2', 'MT-ND5', 'MT-ND6', 'MT-TE',\n",
              "       'MT-CYB', 'MT-TT', 'MT-TP'],\n",
              "      dtype='object', length=53017)"
            ]
          },
          "metadata": {},
          "execution_count": 34
        }
      ]
    },
    {
      "source": [
        "#Create unique observation names\n",
        "experiment_names = [\"Treated w/AOA\", \"Treated w/DON\", \"Treated w/DG\", \"Untreated\"]\n",
        "\n",
        "# Create a new column to store combined barcode and treatment information\n",
        "adata_concat.obs['barcode_treatment'] = adata_concat.obs_names.astype(str)\n",
        "\n",
        "# Modify the 'barcode_treatment' column\n",
        "for i, treatment in enumerate(experiment_names):\n",
        "    cell_indices = adata_concat.obs.index[adata_concat.obs[\"Treatment\"] == treatment]\n",
        "    adata_concat.obs.loc[cell_indices, 'barcode_treatment'] = adata_concat.obs.loc[cell_indices, 'barcode_treatment'] + \"_\" + str(i + 1)"
      ],
      "cell_type": "code",
      "metadata": {
        "id": "l0OatC7q5nG1"
      },
      "id": "l0OatC7q5nG1",
      "execution_count": 35,
      "outputs": []
    },
    {
      "cell_type": "code",
      "source": [
        "#Set 'barcode_treatment' as the new index:\n",
        "adata_concat.obs_names = pd.Index(adata_concat.obs['barcode_treatment'])"
      ],
      "metadata": {
        "id": "5BTwEPgN6kYC"
      },
      "id": "5BTwEPgN6kYC",
      "execution_count": 36,
      "outputs": []
    },
    {
      "cell_type": "code",
      "source": [
        "adata_concat.obs"
      ],
      "metadata": {
        "colab": {
          "base_uri": "https://localhost:8080/",
          "height": 455
        },
        "id": "b6I9wzOsk50y",
        "outputId": "b7ff236f-f3ec-4ffa-ce2b-c25797a6e6dc"
      },
      "id": "b6I9wzOsk50y",
      "execution_count": 37,
      "outputs": [
        {
          "output_type": "execute_result",
          "data": {
            "text/plain": [
              "                    n_fragment  frac_dup  frac_mito       tsse  \\\n",
              "barcode_treatment                                                \n",
              "AAACAACGAACGAGCA_1       20919  0.502426   0.000096  25.061425   \n",
              "AAACAACGAAGAGGCT_1       13308  0.488184   0.000826  23.198793   \n",
              "AAACAACGAAGTCGGA_1       17302  0.502830   0.000058  18.234291   \n",
              "AAACAACGAGAAGGCT_1       14109  0.530246   0.000071  29.930591   \n",
              "AAACAACGAGTACGTT_1       12165  0.588867   0.000000  21.409091   \n",
              "...                        ...       ...        ...        ...   \n",
              "TTTGGGATGAACGTAA_4       33918  0.336626   0.001766  18.594706   \n",
              "TTTGGGATGAAGTCTC_4       25630  0.307834   0.000117  15.581623   \n",
              "TTTGGGATGATGTGGG_4       28438  0.336774   0.001019  19.425019   \n",
              "TTTGGGATGCTCACGG_4       20103  0.336676   0.000149  26.203209   \n",
              "TTTGGGATGCTCTGGG_4       33912  0.327788   0.000943  19.538670   \n",
              "\n",
              "                    doublet_probability  doublet_score leiden      Treatment  \\\n",
              "barcode_treatment                                                              \n",
              "AAACAACGAACGAGCA_1             0.052336       0.047059      7  Treated w/AOA   \n",
              "AAACAACGAAGAGGCT_1             0.066163       0.009174      4  Treated w/AOA   \n",
              "AAACAACGAAGTCGGA_1             0.061446       0.015294      5  Treated w/AOA   \n",
              "AAACAACGAGAAGGCT_1             0.070621       0.004525      0  Treated w/AOA   \n",
              "AAACAACGAGTACGTT_1             0.062457       0.013841      7  Treated w/AOA   \n",
              "...                                 ...            ...    ...            ...   \n",
              "TTTGGGATGAACGTAA_4             0.185808       0.043189      1      Untreated   \n",
              "TTTGGGATGAAGTCTC_4             0.221046       0.025360      7      Untreated   \n",
              "TTTGGGATGATGTGGG_4             0.189493       0.040388      0      Untreated   \n",
              "TTTGGGATGCTCACGG_4             0.265871       0.012835      4      Untreated   \n",
              "TTTGGGATGCTCTGGG_4             0.181155       0.047702      1      Untreated   \n",
              "\n",
              "                     barcode_treatment  \n",
              "barcode_treatment                       \n",
              "AAACAACGAACGAGCA_1  AAACAACGAACGAGCA_1  \n",
              "AAACAACGAAGAGGCT_1  AAACAACGAAGAGGCT_1  \n",
              "AAACAACGAAGTCGGA_1  AAACAACGAAGTCGGA_1  \n",
              "AAACAACGAGAAGGCT_1  AAACAACGAGAAGGCT_1  \n",
              "AAACAACGAGTACGTT_1  AAACAACGAGTACGTT_1  \n",
              "...                                ...  \n",
              "TTTGGGATGAACGTAA_4  TTTGGGATGAACGTAA_4  \n",
              "TTTGGGATGAAGTCTC_4  TTTGGGATGAAGTCTC_4  \n",
              "TTTGGGATGATGTGGG_4  TTTGGGATGATGTGGG_4  \n",
              "TTTGGGATGCTCACGG_4  TTTGGGATGCTCACGG_4  \n",
              "TTTGGGATGCTCTGGG_4  TTTGGGATGCTCTGGG_4  \n",
              "\n",
              "[21361 rows x 9 columns]"
            ],
            "text/html": [
              "\n",
              "  <div id=\"df-c5623853-d78b-4a5e-9d50-5fdac839dc17\" class=\"colab-df-container\">\n",
              "    <div>\n",
              "<style scoped>\n",
              "    .dataframe tbody tr th:only-of-type {\n",
              "        vertical-align: middle;\n",
              "    }\n",
              "\n",
              "    .dataframe tbody tr th {\n",
              "        vertical-align: top;\n",
              "    }\n",
              "\n",
              "    .dataframe thead th {\n",
              "        text-align: right;\n",
              "    }\n",
              "</style>\n",
              "<table border=\"1\" class=\"dataframe\">\n",
              "  <thead>\n",
              "    <tr style=\"text-align: right;\">\n",
              "      <th></th>\n",
              "      <th>n_fragment</th>\n",
              "      <th>frac_dup</th>\n",
              "      <th>frac_mito</th>\n",
              "      <th>tsse</th>\n",
              "      <th>doublet_probability</th>\n",
              "      <th>doublet_score</th>\n",
              "      <th>leiden</th>\n",
              "      <th>Treatment</th>\n",
              "      <th>barcode_treatment</th>\n",
              "    </tr>\n",
              "    <tr>\n",
              "      <th>barcode_treatment</th>\n",
              "      <th></th>\n",
              "      <th></th>\n",
              "      <th></th>\n",
              "      <th></th>\n",
              "      <th></th>\n",
              "      <th></th>\n",
              "      <th></th>\n",
              "      <th></th>\n",
              "      <th></th>\n",
              "    </tr>\n",
              "  </thead>\n",
              "  <tbody>\n",
              "    <tr>\n",
              "      <th>AAACAACGAACGAGCA_1</th>\n",
              "      <td>20919</td>\n",
              "      <td>0.502426</td>\n",
              "      <td>0.000096</td>\n",
              "      <td>25.061425</td>\n",
              "      <td>0.052336</td>\n",
              "      <td>0.047059</td>\n",
              "      <td>7</td>\n",
              "      <td>Treated w/AOA</td>\n",
              "      <td>AAACAACGAACGAGCA_1</td>\n",
              "    </tr>\n",
              "    <tr>\n",
              "      <th>AAACAACGAAGAGGCT_1</th>\n",
              "      <td>13308</td>\n",
              "      <td>0.488184</td>\n",
              "      <td>0.000826</td>\n",
              "      <td>23.198793</td>\n",
              "      <td>0.066163</td>\n",
              "      <td>0.009174</td>\n",
              "      <td>4</td>\n",
              "      <td>Treated w/AOA</td>\n",
              "      <td>AAACAACGAAGAGGCT_1</td>\n",
              "    </tr>\n",
              "    <tr>\n",
              "      <th>AAACAACGAAGTCGGA_1</th>\n",
              "      <td>17302</td>\n",
              "      <td>0.502830</td>\n",
              "      <td>0.000058</td>\n",
              "      <td>18.234291</td>\n",
              "      <td>0.061446</td>\n",
              "      <td>0.015294</td>\n",
              "      <td>5</td>\n",
              "      <td>Treated w/AOA</td>\n",
              "      <td>AAACAACGAAGTCGGA_1</td>\n",
              "    </tr>\n",
              "    <tr>\n",
              "      <th>AAACAACGAGAAGGCT_1</th>\n",
              "      <td>14109</td>\n",
              "      <td>0.530246</td>\n",
              "      <td>0.000071</td>\n",
              "      <td>29.930591</td>\n",
              "      <td>0.070621</td>\n",
              "      <td>0.004525</td>\n",
              "      <td>0</td>\n",
              "      <td>Treated w/AOA</td>\n",
              "      <td>AAACAACGAGAAGGCT_1</td>\n",
              "    </tr>\n",
              "    <tr>\n",
              "      <th>AAACAACGAGTACGTT_1</th>\n",
              "      <td>12165</td>\n",
              "      <td>0.588867</td>\n",
              "      <td>0.000000</td>\n",
              "      <td>21.409091</td>\n",
              "      <td>0.062457</td>\n",
              "      <td>0.013841</td>\n",
              "      <td>7</td>\n",
              "      <td>Treated w/AOA</td>\n",
              "      <td>AAACAACGAGTACGTT_1</td>\n",
              "    </tr>\n",
              "    <tr>\n",
              "      <th>...</th>\n",
              "      <td>...</td>\n",
              "      <td>...</td>\n",
              "      <td>...</td>\n",
              "      <td>...</td>\n",
              "      <td>...</td>\n",
              "      <td>...</td>\n",
              "      <td>...</td>\n",
              "      <td>...</td>\n",
              "      <td>...</td>\n",
              "    </tr>\n",
              "    <tr>\n",
              "      <th>TTTGGGATGAACGTAA_4</th>\n",
              "      <td>33918</td>\n",
              "      <td>0.336626</td>\n",
              "      <td>0.001766</td>\n",
              "      <td>18.594706</td>\n",
              "      <td>0.185808</td>\n",
              "      <td>0.043189</td>\n",
              "      <td>1</td>\n",
              "      <td>Untreated</td>\n",
              "      <td>TTTGGGATGAACGTAA_4</td>\n",
              "    </tr>\n",
              "    <tr>\n",
              "      <th>TTTGGGATGAAGTCTC_4</th>\n",
              "      <td>25630</td>\n",
              "      <td>0.307834</td>\n",
              "      <td>0.000117</td>\n",
              "      <td>15.581623</td>\n",
              "      <td>0.221046</td>\n",
              "      <td>0.025360</td>\n",
              "      <td>7</td>\n",
              "      <td>Untreated</td>\n",
              "      <td>TTTGGGATGAAGTCTC_4</td>\n",
              "    </tr>\n",
              "    <tr>\n",
              "      <th>TTTGGGATGATGTGGG_4</th>\n",
              "      <td>28438</td>\n",
              "      <td>0.336774</td>\n",
              "      <td>0.001019</td>\n",
              "      <td>19.425019</td>\n",
              "      <td>0.189493</td>\n",
              "      <td>0.040388</td>\n",
              "      <td>0</td>\n",
              "      <td>Untreated</td>\n",
              "      <td>TTTGGGATGATGTGGG_4</td>\n",
              "    </tr>\n",
              "    <tr>\n",
              "      <th>TTTGGGATGCTCACGG_4</th>\n",
              "      <td>20103</td>\n",
              "      <td>0.336676</td>\n",
              "      <td>0.000149</td>\n",
              "      <td>26.203209</td>\n",
              "      <td>0.265871</td>\n",
              "      <td>0.012835</td>\n",
              "      <td>4</td>\n",
              "      <td>Untreated</td>\n",
              "      <td>TTTGGGATGCTCACGG_4</td>\n",
              "    </tr>\n",
              "    <tr>\n",
              "      <th>TTTGGGATGCTCTGGG_4</th>\n",
              "      <td>33912</td>\n",
              "      <td>0.327788</td>\n",
              "      <td>0.000943</td>\n",
              "      <td>19.538670</td>\n",
              "      <td>0.181155</td>\n",
              "      <td>0.047702</td>\n",
              "      <td>1</td>\n",
              "      <td>Untreated</td>\n",
              "      <td>TTTGGGATGCTCTGGG_4</td>\n",
              "    </tr>\n",
              "  </tbody>\n",
              "</table>\n",
              "<p>21361 rows × 9 columns</p>\n",
              "</div>\n",
              "    <div class=\"colab-df-buttons\">\n",
              "\n",
              "  <div class=\"colab-df-container\">\n",
              "    <button class=\"colab-df-convert\" onclick=\"convertToInteractive('df-c5623853-d78b-4a5e-9d50-5fdac839dc17')\"\n",
              "            title=\"Convert this dataframe to an interactive table.\"\n",
              "            style=\"display:none;\">\n",
              "\n",
              "  <svg xmlns=\"http://www.w3.org/2000/svg\" height=\"24px\" viewBox=\"0 -960 960 960\">\n",
              "    <path d=\"M120-120v-720h720v720H120Zm60-500h600v-160H180v160Zm220 220h160v-160H400v160Zm0 220h160v-160H400v160ZM180-400h160v-160H180v160Zm440 0h160v-160H620v160ZM180-180h160v-160H180v160Zm440 0h160v-160H620v160Z\"/>\n",
              "  </svg>\n",
              "    </button>\n",
              "\n",
              "  <style>\n",
              "    .colab-df-container {\n",
              "      display:flex;\n",
              "      gap: 12px;\n",
              "    }\n",
              "\n",
              "    .colab-df-convert {\n",
              "      background-color: #E8F0FE;\n",
              "      border: none;\n",
              "      border-radius: 50%;\n",
              "      cursor: pointer;\n",
              "      display: none;\n",
              "      fill: #1967D2;\n",
              "      height: 32px;\n",
              "      padding: 0 0 0 0;\n",
              "      width: 32px;\n",
              "    }\n",
              "\n",
              "    .colab-df-convert:hover {\n",
              "      background-color: #E2EBFA;\n",
              "      box-shadow: 0px 1px 2px rgba(60, 64, 67, 0.3), 0px 1px 3px 1px rgba(60, 64, 67, 0.15);\n",
              "      fill: #174EA6;\n",
              "    }\n",
              "\n",
              "    .colab-df-buttons div {\n",
              "      margin-bottom: 4px;\n",
              "    }\n",
              "\n",
              "    [theme=dark] .colab-df-convert {\n",
              "      background-color: #3B4455;\n",
              "      fill: #D2E3FC;\n",
              "    }\n",
              "\n",
              "    [theme=dark] .colab-df-convert:hover {\n",
              "      background-color: #434B5C;\n",
              "      box-shadow: 0px 1px 3px 1px rgba(0, 0, 0, 0.15);\n",
              "      filter: drop-shadow(0px 1px 2px rgba(0, 0, 0, 0.3));\n",
              "      fill: #FFFFFF;\n",
              "    }\n",
              "  </style>\n",
              "\n",
              "    <script>\n",
              "      const buttonEl =\n",
              "        document.querySelector('#df-c5623853-d78b-4a5e-9d50-5fdac839dc17 button.colab-df-convert');\n",
              "      buttonEl.style.display =\n",
              "        google.colab.kernel.accessAllowed ? 'block' : 'none';\n",
              "\n",
              "      async function convertToInteractive(key) {\n",
              "        const element = document.querySelector('#df-c5623853-d78b-4a5e-9d50-5fdac839dc17');\n",
              "        const dataTable =\n",
              "          await google.colab.kernel.invokeFunction('convertToInteractive',\n",
              "                                                    [key], {});\n",
              "        if (!dataTable) return;\n",
              "\n",
              "        const docLinkHtml = 'Like what you see? Visit the ' +\n",
              "          '<a target=\"_blank\" href=https://colab.research.google.com/notebooks/data_table.ipynb>data table notebook</a>'\n",
              "          + ' to learn more about interactive tables.';\n",
              "        element.innerHTML = '';\n",
              "        dataTable['output_type'] = 'display_data';\n",
              "        await google.colab.output.renderOutput(dataTable, element);\n",
              "        const docLink = document.createElement('div');\n",
              "        docLink.innerHTML = docLinkHtml;\n",
              "        element.appendChild(docLink);\n",
              "      }\n",
              "    </script>\n",
              "  </div>\n",
              "\n",
              "\n",
              "<div id=\"df-e5c61303-3dfc-441c-8475-acfb47c5e794\">\n",
              "  <button class=\"colab-df-quickchart\" onclick=\"quickchart('df-e5c61303-3dfc-441c-8475-acfb47c5e794')\"\n",
              "            title=\"Suggest charts\"\n",
              "            style=\"display:none;\">\n",
              "\n",
              "<svg xmlns=\"http://www.w3.org/2000/svg\" height=\"24px\"viewBox=\"0 0 24 24\"\n",
              "     width=\"24px\">\n",
              "    <g>\n",
              "        <path d=\"M19 3H5c-1.1 0-2 .9-2 2v14c0 1.1.9 2 2 2h14c1.1 0 2-.9 2-2V5c0-1.1-.9-2-2-2zM9 17H7v-7h2v7zm4 0h-2V7h2v10zm4 0h-2v-4h2v4z\"/>\n",
              "    </g>\n",
              "</svg>\n",
              "  </button>\n",
              "\n",
              "<style>\n",
              "  .colab-df-quickchart {\n",
              "      --bg-color: #E8F0FE;\n",
              "      --fill-color: #1967D2;\n",
              "      --hover-bg-color: #E2EBFA;\n",
              "      --hover-fill-color: #174EA6;\n",
              "      --disabled-fill-color: #AAA;\n",
              "      --disabled-bg-color: #DDD;\n",
              "  }\n",
              "\n",
              "  [theme=dark] .colab-df-quickchart {\n",
              "      --bg-color: #3B4455;\n",
              "      --fill-color: #D2E3FC;\n",
              "      --hover-bg-color: #434B5C;\n",
              "      --hover-fill-color: #FFFFFF;\n",
              "      --disabled-bg-color: #3B4455;\n",
              "      --disabled-fill-color: #666;\n",
              "  }\n",
              "\n",
              "  .colab-df-quickchart {\n",
              "    background-color: var(--bg-color);\n",
              "    border: none;\n",
              "    border-radius: 50%;\n",
              "    cursor: pointer;\n",
              "    display: none;\n",
              "    fill: var(--fill-color);\n",
              "    height: 32px;\n",
              "    padding: 0;\n",
              "    width: 32px;\n",
              "  }\n",
              "\n",
              "  .colab-df-quickchart:hover {\n",
              "    background-color: var(--hover-bg-color);\n",
              "    box-shadow: 0 1px 2px rgba(60, 64, 67, 0.3), 0 1px 3px 1px rgba(60, 64, 67, 0.15);\n",
              "    fill: var(--button-hover-fill-color);\n",
              "  }\n",
              "\n",
              "  .colab-df-quickchart-complete:disabled,\n",
              "  .colab-df-quickchart-complete:disabled:hover {\n",
              "    background-color: var(--disabled-bg-color);\n",
              "    fill: var(--disabled-fill-color);\n",
              "    box-shadow: none;\n",
              "  }\n",
              "\n",
              "  .colab-df-spinner {\n",
              "    border: 2px solid var(--fill-color);\n",
              "    border-color: transparent;\n",
              "    border-bottom-color: var(--fill-color);\n",
              "    animation:\n",
              "      spin 1s steps(1) infinite;\n",
              "  }\n",
              "\n",
              "  @keyframes spin {\n",
              "    0% {\n",
              "      border-color: transparent;\n",
              "      border-bottom-color: var(--fill-color);\n",
              "      border-left-color: var(--fill-color);\n",
              "    }\n",
              "    20% {\n",
              "      border-color: transparent;\n",
              "      border-left-color: var(--fill-color);\n",
              "      border-top-color: var(--fill-color);\n",
              "    }\n",
              "    30% {\n",
              "      border-color: transparent;\n",
              "      border-left-color: var(--fill-color);\n",
              "      border-top-color: var(--fill-color);\n",
              "      border-right-color: var(--fill-color);\n",
              "    }\n",
              "    40% {\n",
              "      border-color: transparent;\n",
              "      border-right-color: var(--fill-color);\n",
              "      border-top-color: var(--fill-color);\n",
              "    }\n",
              "    60% {\n",
              "      border-color: transparent;\n",
              "      border-right-color: var(--fill-color);\n",
              "    }\n",
              "    80% {\n",
              "      border-color: transparent;\n",
              "      border-right-color: var(--fill-color);\n",
              "      border-bottom-color: var(--fill-color);\n",
              "    }\n",
              "    90% {\n",
              "      border-color: transparent;\n",
              "      border-bottom-color: var(--fill-color);\n",
              "    }\n",
              "  }\n",
              "</style>\n",
              "\n",
              "  <script>\n",
              "    async function quickchart(key) {\n",
              "      const quickchartButtonEl =\n",
              "        document.querySelector('#' + key + ' button');\n",
              "      quickchartButtonEl.disabled = true;  // To prevent multiple clicks.\n",
              "      quickchartButtonEl.classList.add('colab-df-spinner');\n",
              "      try {\n",
              "        const charts = await google.colab.kernel.invokeFunction(\n",
              "            'suggestCharts', [key], {});\n",
              "      } catch (error) {\n",
              "        console.error('Error during call to suggestCharts:', error);\n",
              "      }\n",
              "      quickchartButtonEl.classList.remove('colab-df-spinner');\n",
              "      quickchartButtonEl.classList.add('colab-df-quickchart-complete');\n",
              "    }\n",
              "    (() => {\n",
              "      let quickchartButtonEl =\n",
              "        document.querySelector('#df-e5c61303-3dfc-441c-8475-acfb47c5e794 button');\n",
              "      quickchartButtonEl.style.display =\n",
              "        google.colab.kernel.accessAllowed ? 'block' : 'none';\n",
              "    })();\n",
              "  </script>\n",
              "</div>\n",
              "\n",
              "    </div>\n",
              "  </div>\n"
            ],
            "application/vnd.google.colaboratory.intrinsic+json": {
              "type": "dataframe",
              "repr_error": "cannot insert barcode_treatment, already exists"
            }
          },
          "metadata": {},
          "execution_count": 37
        }
      ]
    },
    {
      "cell_type": "markdown",
      "source": [
        "# Differential accessibility analysis using diffxpy"
      ],
      "metadata": {
        "id": "dTGOQibDKLLX"
      },
      "id": "dTGOQibDKLLX"
    },
    {
      "cell_type": "code",
      "source": [
        "#numpy type aliases\n",
        "np.float = float\n",
        "np.int = int   #module 'numpy' has no attribute 'int'\n",
        "np.object = object    #module 'numpy' has no attribute 'object'\n",
        "np.bool = bool    #module 'numpy' has no attribute 'bool'"
      ],
      "metadata": {
        "id": "QkYcsillINBn"
      },
      "execution_count": 38,
      "outputs": [],
      "id": "QkYcsillINBn"
    },
    {
      "cell_type": "code",
      "source": [
        "import dask.array as da"
      ],
      "metadata": {
        "id": "5SUGhoHaJfZz"
      },
      "id": "5SUGhoHaJfZz",
      "execution_count": 39,
      "outputs": []
    },
    {
      "cell_type": "code",
      "source": [
        "import scipy.sparse as sparse"
      ],
      "metadata": {
        "id": "5LO8Ev-uEXfy"
      },
      "id": "5LO8Ev-uEXfy",
      "execution_count": 40,
      "outputs": []
    },
    {
      "cell_type": "code",
      "source": [
        "adata_concat"
      ],
      "metadata": {
        "colab": {
          "base_uri": "https://localhost:8080/"
        },
        "id": "43XkaK1f3oRC",
        "outputId": "42093956-ce01-46e4-a2e8-abc45e039170"
      },
      "id": "43XkaK1f3oRC",
      "execution_count": 41,
      "outputs": [
        {
          "output_type": "execute_result",
          "data": {
            "text/plain": [
              "AnnData object with n_obs × n_vars = 21361 × 53017\n",
              "    obs: 'n_fragment', 'frac_dup', 'frac_mito', 'tsse', 'doublet_probability', 'doublet_score', 'leiden', 'Treatment', 'barcode_treatment'\n",
              "    uns: 'pca'\n",
              "    obsm: 'X_pca', 'X_pca_harmony', 'X_umap'\n",
              "    varm: 'PCs'"
            ]
          },
          "metadata": {},
          "execution_count": 41
        }
      ]
    },
    {
      "cell_type": "markdown",
      "source": [
        "# Run diffxpy wald test"
      ],
      "metadata": {
        "id": "1065sP5b72y1"
      },
      "id": "1065sP5b72y1"
    },
    {
      "source": [
        "# Calculate highly variable features\n",
        "sc.pp.highly_variable_genes(adata_concat, flavor='seurat')"
      ],
      "cell_type": "code",
      "metadata": {
        "id": "ucx0v5FYNhT3"
      },
      "id": "ucx0v5FYNhT3",
      "execution_count": 45,
      "outputs": []
    },
    {
      "cell_type": "code",
      "source": [
        "adata_concat.var"
      ],
      "metadata": {
        "id": "AGtGJBTyQogA",
        "outputId": "d1c69dbf-fab2-4ba8-9d8e-6a79826380d9",
        "colab": {
          "base_uri": "https://localhost:8080/",
          "height": 423
        }
      },
      "id": "AGtGJBTyQogA",
      "execution_count": 46,
      "outputs": [
        {
          "output_type": "execute_result",
          "data": {
            "text/plain": [
              "                 highly_variable  highly_variable_rank     means  variances  \\\n",
              "DDX11L1                    False                   NaN  0.002271   0.000003   \n",
              "WASH7P                     False                   NaN  0.005628   0.000012   \n",
              "ENSG00000238009            False                   NaN  0.004420   0.000011   \n",
              "ENSG00000239945            False                   NaN  0.002134   0.000004   \n",
              "DDX11L17                   False                   NaN  0.010642   0.000040   \n",
              "...                          ...                   ...       ...        ...   \n",
              "MT-ND6                      True                  56.0  2.034624   0.802492   \n",
              "MT-TE                       True                  45.0  1.825053   0.726758   \n",
              "MT-CYB                      True                  64.0  2.325419   0.910755   \n",
              "MT-TT                       True                  54.0  1.902285   0.755453   \n",
              "MT-TP                       True                   9.0  0.893689   0.385359   \n",
              "\n",
              "                 variances_norm  dispersions  dispersions_norm  \n",
              "DDX11L1                0.816448    -6.484691         -1.084384  \n",
              "WASH7P                 0.763240    -6.147649         -0.743897  \n",
              "ENSG00000238009        0.999095    -6.010874         -0.605724  \n",
              "ENSG00000239945        0.994304    -6.313170         -0.911110  \n",
              "DDX11L17               0.904437    -5.558206         -0.148428  \n",
              "...                         ...          ...               ...  \n",
              "MT-ND6                20.113497     5.174172          1.608864  \n",
              "MT-TE                 21.556057     4.902095          3.318027  \n",
              "MT-CYB                18.256744     5.500496          1.140987  \n",
              "MT-TT                 20.361468     4.948341          1.186624  \n",
              "MT-TP                 34.341962     3.335437         10.298771  \n",
              "\n",
              "[53017 rows x 7 columns]"
            ],
            "text/html": [
              "\n",
              "  <div id=\"df-7379268d-1a49-4540-8976-0c10c6777e28\" class=\"colab-df-container\">\n",
              "    <div>\n",
              "<style scoped>\n",
              "    .dataframe tbody tr th:only-of-type {\n",
              "        vertical-align: middle;\n",
              "    }\n",
              "\n",
              "    .dataframe tbody tr th {\n",
              "        vertical-align: top;\n",
              "    }\n",
              "\n",
              "    .dataframe thead th {\n",
              "        text-align: right;\n",
              "    }\n",
              "</style>\n",
              "<table border=\"1\" class=\"dataframe\">\n",
              "  <thead>\n",
              "    <tr style=\"text-align: right;\">\n",
              "      <th></th>\n",
              "      <th>highly_variable</th>\n",
              "      <th>highly_variable_rank</th>\n",
              "      <th>means</th>\n",
              "      <th>variances</th>\n",
              "      <th>variances_norm</th>\n",
              "      <th>dispersions</th>\n",
              "      <th>dispersions_norm</th>\n",
              "    </tr>\n",
              "  </thead>\n",
              "  <tbody>\n",
              "    <tr>\n",
              "      <th>DDX11L1</th>\n",
              "      <td>False</td>\n",
              "      <td>NaN</td>\n",
              "      <td>0.002271</td>\n",
              "      <td>0.000003</td>\n",
              "      <td>0.816448</td>\n",
              "      <td>-6.484691</td>\n",
              "      <td>-1.084384</td>\n",
              "    </tr>\n",
              "    <tr>\n",
              "      <th>WASH7P</th>\n",
              "      <td>False</td>\n",
              "      <td>NaN</td>\n",
              "      <td>0.005628</td>\n",
              "      <td>0.000012</td>\n",
              "      <td>0.763240</td>\n",
              "      <td>-6.147649</td>\n",
              "      <td>-0.743897</td>\n",
              "    </tr>\n",
              "    <tr>\n",
              "      <th>ENSG00000238009</th>\n",
              "      <td>False</td>\n",
              "      <td>NaN</td>\n",
              "      <td>0.004420</td>\n",
              "      <td>0.000011</td>\n",
              "      <td>0.999095</td>\n",
              "      <td>-6.010874</td>\n",
              "      <td>-0.605724</td>\n",
              "    </tr>\n",
              "    <tr>\n",
              "      <th>ENSG00000239945</th>\n",
              "      <td>False</td>\n",
              "      <td>NaN</td>\n",
              "      <td>0.002134</td>\n",
              "      <td>0.000004</td>\n",
              "      <td>0.994304</td>\n",
              "      <td>-6.313170</td>\n",
              "      <td>-0.911110</td>\n",
              "    </tr>\n",
              "    <tr>\n",
              "      <th>DDX11L17</th>\n",
              "      <td>False</td>\n",
              "      <td>NaN</td>\n",
              "      <td>0.010642</td>\n",
              "      <td>0.000040</td>\n",
              "      <td>0.904437</td>\n",
              "      <td>-5.558206</td>\n",
              "      <td>-0.148428</td>\n",
              "    </tr>\n",
              "    <tr>\n",
              "      <th>...</th>\n",
              "      <td>...</td>\n",
              "      <td>...</td>\n",
              "      <td>...</td>\n",
              "      <td>...</td>\n",
              "      <td>...</td>\n",
              "      <td>...</td>\n",
              "      <td>...</td>\n",
              "    </tr>\n",
              "    <tr>\n",
              "      <th>MT-ND6</th>\n",
              "      <td>True</td>\n",
              "      <td>56.0</td>\n",
              "      <td>2.034624</td>\n",
              "      <td>0.802492</td>\n",
              "      <td>20.113497</td>\n",
              "      <td>5.174172</td>\n",
              "      <td>1.608864</td>\n",
              "    </tr>\n",
              "    <tr>\n",
              "      <th>MT-TE</th>\n",
              "      <td>True</td>\n",
              "      <td>45.0</td>\n",
              "      <td>1.825053</td>\n",
              "      <td>0.726758</td>\n",
              "      <td>21.556057</td>\n",
              "      <td>4.902095</td>\n",
              "      <td>3.318027</td>\n",
              "    </tr>\n",
              "    <tr>\n",
              "      <th>MT-CYB</th>\n",
              "      <td>True</td>\n",
              "      <td>64.0</td>\n",
              "      <td>2.325419</td>\n",
              "      <td>0.910755</td>\n",
              "      <td>18.256744</td>\n",
              "      <td>5.500496</td>\n",
              "      <td>1.140987</td>\n",
              "    </tr>\n",
              "    <tr>\n",
              "      <th>MT-TT</th>\n",
              "      <td>True</td>\n",
              "      <td>54.0</td>\n",
              "      <td>1.902285</td>\n",
              "      <td>0.755453</td>\n",
              "      <td>20.361468</td>\n",
              "      <td>4.948341</td>\n",
              "      <td>1.186624</td>\n",
              "    </tr>\n",
              "    <tr>\n",
              "      <th>MT-TP</th>\n",
              "      <td>True</td>\n",
              "      <td>9.0</td>\n",
              "      <td>0.893689</td>\n",
              "      <td>0.385359</td>\n",
              "      <td>34.341962</td>\n",
              "      <td>3.335437</td>\n",
              "      <td>10.298771</td>\n",
              "    </tr>\n",
              "  </tbody>\n",
              "</table>\n",
              "<p>53017 rows × 7 columns</p>\n",
              "</div>\n",
              "    <div class=\"colab-df-buttons\">\n",
              "\n",
              "  <div class=\"colab-df-container\">\n",
              "    <button class=\"colab-df-convert\" onclick=\"convertToInteractive('df-7379268d-1a49-4540-8976-0c10c6777e28')\"\n",
              "            title=\"Convert this dataframe to an interactive table.\"\n",
              "            style=\"display:none;\">\n",
              "\n",
              "  <svg xmlns=\"http://www.w3.org/2000/svg\" height=\"24px\" viewBox=\"0 -960 960 960\">\n",
              "    <path d=\"M120-120v-720h720v720H120Zm60-500h600v-160H180v160Zm220 220h160v-160H400v160Zm0 220h160v-160H400v160ZM180-400h160v-160H180v160Zm440 0h160v-160H620v160ZM180-180h160v-160H180v160Zm440 0h160v-160H620v160Z\"/>\n",
              "  </svg>\n",
              "    </button>\n",
              "\n",
              "  <style>\n",
              "    .colab-df-container {\n",
              "      display:flex;\n",
              "      gap: 12px;\n",
              "    }\n",
              "\n",
              "    .colab-df-convert {\n",
              "      background-color: #E8F0FE;\n",
              "      border: none;\n",
              "      border-radius: 50%;\n",
              "      cursor: pointer;\n",
              "      display: none;\n",
              "      fill: #1967D2;\n",
              "      height: 32px;\n",
              "      padding: 0 0 0 0;\n",
              "      width: 32px;\n",
              "    }\n",
              "\n",
              "    .colab-df-convert:hover {\n",
              "      background-color: #E2EBFA;\n",
              "      box-shadow: 0px 1px 2px rgba(60, 64, 67, 0.3), 0px 1px 3px 1px rgba(60, 64, 67, 0.15);\n",
              "      fill: #174EA6;\n",
              "    }\n",
              "\n",
              "    .colab-df-buttons div {\n",
              "      margin-bottom: 4px;\n",
              "    }\n",
              "\n",
              "    [theme=dark] .colab-df-convert {\n",
              "      background-color: #3B4455;\n",
              "      fill: #D2E3FC;\n",
              "    }\n",
              "\n",
              "    [theme=dark] .colab-df-convert:hover {\n",
              "      background-color: #434B5C;\n",
              "      box-shadow: 0px 1px 3px 1px rgba(0, 0, 0, 0.15);\n",
              "      filter: drop-shadow(0px 1px 2px rgba(0, 0, 0, 0.3));\n",
              "      fill: #FFFFFF;\n",
              "    }\n",
              "  </style>\n",
              "\n",
              "    <script>\n",
              "      const buttonEl =\n",
              "        document.querySelector('#df-7379268d-1a49-4540-8976-0c10c6777e28 button.colab-df-convert');\n",
              "      buttonEl.style.display =\n",
              "        google.colab.kernel.accessAllowed ? 'block' : 'none';\n",
              "\n",
              "      async function convertToInteractive(key) {\n",
              "        const element = document.querySelector('#df-7379268d-1a49-4540-8976-0c10c6777e28');\n",
              "        const dataTable =\n",
              "          await google.colab.kernel.invokeFunction('convertToInteractive',\n",
              "                                                    [key], {});\n",
              "        if (!dataTable) return;\n",
              "\n",
              "        const docLinkHtml = 'Like what you see? Visit the ' +\n",
              "          '<a target=\"_blank\" href=https://colab.research.google.com/notebooks/data_table.ipynb>data table notebook</a>'\n",
              "          + ' to learn more about interactive tables.';\n",
              "        element.innerHTML = '';\n",
              "        dataTable['output_type'] = 'display_data';\n",
              "        await google.colab.output.renderOutput(dataTable, element);\n",
              "        const docLink = document.createElement('div');\n",
              "        docLink.innerHTML = docLinkHtml;\n",
              "        element.appendChild(docLink);\n",
              "      }\n",
              "    </script>\n",
              "  </div>\n",
              "\n",
              "\n",
              "<div id=\"df-84c597d9-71b5-44d3-9a64-099d201780ce\">\n",
              "  <button class=\"colab-df-quickchart\" onclick=\"quickchart('df-84c597d9-71b5-44d3-9a64-099d201780ce')\"\n",
              "            title=\"Suggest charts\"\n",
              "            style=\"display:none;\">\n",
              "\n",
              "<svg xmlns=\"http://www.w3.org/2000/svg\" height=\"24px\"viewBox=\"0 0 24 24\"\n",
              "     width=\"24px\">\n",
              "    <g>\n",
              "        <path d=\"M19 3H5c-1.1 0-2 .9-2 2v14c0 1.1.9 2 2 2h14c1.1 0 2-.9 2-2V5c0-1.1-.9-2-2-2zM9 17H7v-7h2v7zm4 0h-2V7h2v10zm4 0h-2v-4h2v4z\"/>\n",
              "    </g>\n",
              "</svg>\n",
              "  </button>\n",
              "\n",
              "<style>\n",
              "  .colab-df-quickchart {\n",
              "      --bg-color: #E8F0FE;\n",
              "      --fill-color: #1967D2;\n",
              "      --hover-bg-color: #E2EBFA;\n",
              "      --hover-fill-color: #174EA6;\n",
              "      --disabled-fill-color: #AAA;\n",
              "      --disabled-bg-color: #DDD;\n",
              "  }\n",
              "\n",
              "  [theme=dark] .colab-df-quickchart {\n",
              "      --bg-color: #3B4455;\n",
              "      --fill-color: #D2E3FC;\n",
              "      --hover-bg-color: #434B5C;\n",
              "      --hover-fill-color: #FFFFFF;\n",
              "      --disabled-bg-color: #3B4455;\n",
              "      --disabled-fill-color: #666;\n",
              "  }\n",
              "\n",
              "  .colab-df-quickchart {\n",
              "    background-color: var(--bg-color);\n",
              "    border: none;\n",
              "    border-radius: 50%;\n",
              "    cursor: pointer;\n",
              "    display: none;\n",
              "    fill: var(--fill-color);\n",
              "    height: 32px;\n",
              "    padding: 0;\n",
              "    width: 32px;\n",
              "  }\n",
              "\n",
              "  .colab-df-quickchart:hover {\n",
              "    background-color: var(--hover-bg-color);\n",
              "    box-shadow: 0 1px 2px rgba(60, 64, 67, 0.3), 0 1px 3px 1px rgba(60, 64, 67, 0.15);\n",
              "    fill: var(--button-hover-fill-color);\n",
              "  }\n",
              "\n",
              "  .colab-df-quickchart-complete:disabled,\n",
              "  .colab-df-quickchart-complete:disabled:hover {\n",
              "    background-color: var(--disabled-bg-color);\n",
              "    fill: var(--disabled-fill-color);\n",
              "    box-shadow: none;\n",
              "  }\n",
              "\n",
              "  .colab-df-spinner {\n",
              "    border: 2px solid var(--fill-color);\n",
              "    border-color: transparent;\n",
              "    border-bottom-color: var(--fill-color);\n",
              "    animation:\n",
              "      spin 1s steps(1) infinite;\n",
              "  }\n",
              "\n",
              "  @keyframes spin {\n",
              "    0% {\n",
              "      border-color: transparent;\n",
              "      border-bottom-color: var(--fill-color);\n",
              "      border-left-color: var(--fill-color);\n",
              "    }\n",
              "    20% {\n",
              "      border-color: transparent;\n",
              "      border-left-color: var(--fill-color);\n",
              "      border-top-color: var(--fill-color);\n",
              "    }\n",
              "    30% {\n",
              "      border-color: transparent;\n",
              "      border-left-color: var(--fill-color);\n",
              "      border-top-color: var(--fill-color);\n",
              "      border-right-color: var(--fill-color);\n",
              "    }\n",
              "    40% {\n",
              "      border-color: transparent;\n",
              "      border-right-color: var(--fill-color);\n",
              "      border-top-color: var(--fill-color);\n",
              "    }\n",
              "    60% {\n",
              "      border-color: transparent;\n",
              "      border-right-color: var(--fill-color);\n",
              "    }\n",
              "    80% {\n",
              "      border-color: transparent;\n",
              "      border-right-color: var(--fill-color);\n",
              "      border-bottom-color: var(--fill-color);\n",
              "    }\n",
              "    90% {\n",
              "      border-color: transparent;\n",
              "      border-bottom-color: var(--fill-color);\n",
              "    }\n",
              "  }\n",
              "</style>\n",
              "\n",
              "  <script>\n",
              "    async function quickchart(key) {\n",
              "      const quickchartButtonEl =\n",
              "        document.querySelector('#' + key + ' button');\n",
              "      quickchartButtonEl.disabled = true;  // To prevent multiple clicks.\n",
              "      quickchartButtonEl.classList.add('colab-df-spinner');\n",
              "      try {\n",
              "        const charts = await google.colab.kernel.invokeFunction(\n",
              "            'suggestCharts', [key], {});\n",
              "      } catch (error) {\n",
              "        console.error('Error during call to suggestCharts:', error);\n",
              "      }\n",
              "      quickchartButtonEl.classList.remove('colab-df-spinner');\n",
              "      quickchartButtonEl.classList.add('colab-df-quickchart-complete');\n",
              "    }\n",
              "    (() => {\n",
              "      let quickchartButtonEl =\n",
              "        document.querySelector('#df-84c597d9-71b5-44d3-9a64-099d201780ce button');\n",
              "      quickchartButtonEl.style.display =\n",
              "        google.colab.kernel.accessAllowed ? 'block' : 'none';\n",
              "    })();\n",
              "  </script>\n",
              "</div>\n",
              "\n",
              "    </div>\n",
              "  </div>\n"
            ],
            "application/vnd.google.colaboratory.intrinsic+json": {
              "type": "dataframe",
              "summary": "{\n  \"name\": \"adata_concat\",\n  \"rows\": 53017,\n  \"fields\": [\n    {\n      \"column\": \"highly_variable\",\n      \"properties\": {\n        \"dtype\": \"boolean\",\n        \"num_unique_values\": 2,\n        \"samples\": [\n          true,\n          false\n        ],\n        \"semantic_type\": \"\",\n        \"description\": \"\"\n      }\n    },\n    {\n      \"column\": \"highly_variable_rank\",\n      \"properties\": {\n        \"dtype\": \"float32\",\n        \"num_unique_values\": 2000,\n        \"samples\": [\n          1212.0,\n          252.0\n        ],\n        \"semantic_type\": \"\",\n        \"description\": \"\"\n      }\n    },\n    {\n      \"column\": \"means\",\n      \"properties\": {\n        \"dtype\": \"number\",\n        \"std\": 0.28004611873455565,\n        \"min\": 0.0005688265487921428,\n        \"max\": 2.52743954060758,\n        \"num_unique_values\": 52987,\n        \"samples\": [\n          0.12213926998038255,\n          0.0016494218164086179\n        ],\n        \"semantic_type\": \"\",\n        \"description\": \"\"\n      }\n    },\n    {\n      \"column\": \"variances\",\n      \"properties\": {\n        \"dtype\": \"number\",\n        \"std\": 0.023717045237791418,\n        \"min\": 5.81352943125182e-07,\n        \"max\": 0.9838776253950202,\n        \"num_unique_values\": 52987,\n        \"samples\": [\n          0.0011233234171278352,\n          3.1916005568182236e-06\n        ],\n        \"semantic_type\": \"\",\n        \"description\": \"\"\n      }\n    },\n    {\n      \"column\": \"variances_norm\",\n      \"properties\": {\n        \"dtype\": \"number\",\n        \"std\": 1.309244112224544,\n        \"min\": 0.19067444366883665,\n        \"max\": 44.26782900602263,\n        \"num_unique_values\": 52987,\n        \"samples\": [\n          0.47866803549381914,\n          1.148517282615796\n        ],\n        \"semantic_type\": \"\",\n        \"description\": \"\"\n      }\n    },\n    {\n      \"column\": \"dispersions\",\n      \"properties\": {\n        \"dtype\": \"number\",\n        \"std\": 1.555828295040432,\n        \"min\": -7.392613485073576,\n        \"max\": 5.777068552753961,\n        \"num_unique_values\": 52987,\n        \"samples\": [\n          -4.511210064711704,\n          -6.244624854165868\n        ],\n        \"semantic_type\": \"\",\n        \"description\": \"\"\n      }\n    },\n    {\n      \"column\": \"dispersions_norm\",\n      \"properties\": {\n        \"dtype\": \"float32\",\n        \"num_unique_values\": 52958,\n        \"samples\": [\n          0.6309462189674377,\n          -1.1294633150100708\n        ],\n        \"semantic_type\": \"\",\n        \"description\": \"\"\n      }\n    }\n  ]\n}"
            }
          },
          "metadata": {},
          "execution_count": 46
        }
      ]
    },
    {
      "cell_type": "code",
      "source": [
        "adata_concat"
      ],
      "metadata": {
        "id": "HlBcXV1sP-Nt",
        "outputId": "04cf3844-80f2-4738-a211-9c56d49080ff",
        "colab": {
          "base_uri": "https://localhost:8080/"
        }
      },
      "id": "HlBcXV1sP-Nt",
      "execution_count": 47,
      "outputs": [
        {
          "output_type": "execute_result",
          "data": {
            "text/plain": [
              "AnnData object with n_obs × n_vars = 21361 × 53017\n",
              "    obs: 'n_fragment', 'frac_dup', 'frac_mito', 'tsse', 'doublet_probability', 'doublet_score', 'leiden', 'Treatment', 'barcode_treatment'\n",
              "    var: 'highly_variable', 'highly_variable_rank', 'means', 'variances', 'variances_norm', 'dispersions', 'dispersions_norm'\n",
              "    uns: 'pca', 'hvg'\n",
              "    obsm: 'X_pca', 'X_pca_harmony', 'X_umap'\n",
              "    varm: 'PCs'"
            ]
          },
          "metadata": {},
          "execution_count": 47
        }
      ]
    },
    {
      "source": [
        "# Subsample features (e.g., top 1000 highly variable genes)\n",
        "adata_subset = adata_concat[:, adata_concat.var['highly_variable_rank'][:1000].index]\n",
        "\n",
        "# Check if the subset is empty\n",
        "if adata_subset.X.size == 0:\n",
        "    print(\"Error: The subset is empty. Please check your data or adjust the subsetting criteria.\")\n",
        "else:\n",
        "    # Proceed with the Wald test\n",
        "    test = de.test.wald(\n",
        "        data=adata_subset,\n",
        "        formula_loc=\"~ 1 + Treatment\",\n",
        "        factor_loc_totest=\"Treatment\"\n",
        "    )"
      ],
      "cell_type": "code",
      "metadata": {
        "id": "9mqxrZ5tQPyj",
        "outputId": "bfce80c4-db6a-4ede-84d4-7c1a5cd2a796",
        "colab": {
          "base_uri": "https://localhost:8080/"
        }
      },
      "id": "9mqxrZ5tQPyj",
      "execution_count": null,
      "outputs": [
        {
          "output_type": "stream",
          "name": "stdout",
          "text": [
            "training location model: False\n",
            "training scale model: True\n",
            "iter   0: ll=1340114264.362954\n",
            "iter   1: ll=1340114264.362954, converged: 0.00% (loc: 100.00%, scale update: False), in 0.00sec\n",
            "Fitting 1000 dispersion models: (progress not available with multiprocessing)"
          ]
        }
      ]
    }
  ],
  "metadata": {
    "colab": {
      "machine_shape": "hm",
      "provenance": [],
      "toc_visible": true,
      "include_colab_link": true
    },
    "kernelspec": {
      "display_name": "Python 3",
      "name": "python3"
    },
    "language_info": {
      "name": "python"
    }
  },
  "nbformat": 4,
  "nbformat_minor": 5
}