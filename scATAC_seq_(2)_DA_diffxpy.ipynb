{
  "cells": [
    {
      "cell_type": "markdown",
      "metadata": {
        "id": "view-in-github",
        "colab_type": "text"
      },
      "source": [
        "<a href=\"https://colab.research.google.com/github/Droslj/scATAC-seq-complete-/blob/Google-colab/scATAC_seq_(2)_DA_diffxpy.ipynb\" target=\"_parent\"><img src=\"https://colab.research.google.com/assets/colab-badge.svg\" alt=\"Open In Colab\"/></a>"
      ]
    },
    {
      "cell_type": "markdown",
      "id": "f268332b-53de-4af8-9533-e48c041292f3",
      "metadata": {
        "id": "f268332b-53de-4af8-9533-e48c041292f3"
      },
      "source": [
        "scATAC seq, based on scATAC seq processing Galaxy tutorials (scATAC preprocessing (2), Standard scATAC seq processing pipeline (1) )\n",
        "AD Objects created in Galaxy using customized Galaxy WF with Snapatac2 and imported\n",
        "(1) https://usegalaxy.eu/training-material/topics/single-cell/tutorials/scatac-preprocessing-tenx/tutorial.html#mapping-reads-to-a-reference-genome, (2) https://usegalaxy.eu/training-material/topics/single-cell/tutorials/scatac-standard-processing-snapatac2/tutorial.html\n",
        "Data taken from the following NCBI study:\n",
        "Metabolic adaptation pilots the differentiation of human hematopoietic cells (https://www.ncbi.nlm.nih.gov/bioproject/PRJNA1015713)\n",
        "Import Anndata objects for two biological replicates, SRR26046013 (cells treated with AOA inhibitor) and SRR26046019 (untreated cells)\n",
        "Perform following steps:\n",
        "(1) Import matrices\n",
        "(2) Compute fragment size distribution\n",
        "(3) Compute TSS enrichment\n",
        "(4) Filter cell counts based on TSSe\n",
        "(5) Create cell by bin matrix based on 500 bp wide bins accross the whole genome\n",
        "(6) Perform feature selection\n",
        "(7) Perform Doublet removal\n",
        "(8) Perform Dim reduction (spectral)\n",
        "(9) Perform Clustering (neighborhood, UMAP, leiden)\n",
        "(10) Create a cell by gene matrix\n",
        "(11) Concatenate matrices using Inner join\n",
        "(12) Remove batch effects"
      ]
    },
    {
      "cell_type": "code",
      "source": [
        "!pip install -q condacolab"
      ],
      "metadata": {
        "id": "HYs7RhoU68Ks"
      },
      "execution_count": null,
      "outputs": [],
      "id": "HYs7RhoU68Ks"
    },
    {
      "cell_type": "code",
      "source": [
        "import condacolab"
      ],
      "metadata": {
        "id": "QBQXEKjk7O-V"
      },
      "execution_count": null,
      "outputs": [],
      "id": "QBQXEKjk7O-V"
    },
    {
      "cell_type": "code",
      "source": [
        "condacolab.install()"
      ],
      "metadata": {
        "colab": {
          "base_uri": "https://localhost:8080/"
        },
        "id": "YdiPg8vS7ZKq",
        "outputId": "0402ef3f-3e2b-4136-c86b-c991d6fa7711"
      },
      "execution_count": null,
      "outputs": [
        {
          "output_type": "stream",
          "name": "stdout",
          "text": [
            "✨🍰✨ Everything looks OK!\n"
          ]
        }
      ],
      "id": "YdiPg8vS7ZKq"
    },
    {
      "cell_type": "code",
      "source": [
        "!conda --version"
      ],
      "metadata": {
        "colab": {
          "base_uri": "https://localhost:8080/"
        },
        "id": "VITjp1M56yu_",
        "outputId": "77890784-efc8-46f5-dc90-1b14ce0b55d0"
      },
      "execution_count": null,
      "outputs": [
        {
          "output_type": "stream",
          "name": "stdout",
          "text": [
            "conda 23.11.0\n"
          ]
        }
      ],
      "id": "VITjp1M56yu_"
    },
    {
      "cell_type": "code",
      "source": [
        "!which conda"
      ],
      "metadata": {
        "colab": {
          "base_uri": "https://localhost:8080/"
        },
        "id": "S-oCMIm-7p9i",
        "outputId": "f3a93f99-a3f5-4265-a1d0-765ffdc6df69"
      },
      "execution_count": null,
      "outputs": [
        {
          "output_type": "stream",
          "name": "stdout",
          "text": [
            "/usr/local/bin/conda\n"
          ]
        }
      ],
      "id": "S-oCMIm-7p9i"
    },
    {
      "cell_type": "code",
      "source": [
        "!conda config --add channels conda-forge"
      ],
      "metadata": {
        "colab": {
          "base_uri": "https://localhost:8080/"
        },
        "id": "D6zjhdZm-BJp",
        "outputId": "07ad33d0-f43d-4420-9ff8-896bbf729f18"
      },
      "execution_count": null,
      "outputs": [
        {
          "output_type": "stream",
          "name": "stdout",
          "text": [
            "Warning: 'conda-forge' already in 'channels' list, moving to the top\n"
          ]
        }
      ],
      "id": "D6zjhdZm-BJp"
    },
    {
      "cell_type": "code",
      "source": [
        "!conda config --add channels bioconda"
      ],
      "metadata": {
        "colab": {
          "base_uri": "https://localhost:8080/"
        },
        "id": "JpJESCcU-fO_",
        "outputId": "548cdeb6-0685-4261-ab7c-d254227b53e5"
      },
      "execution_count": null,
      "outputs": [
        {
          "output_type": "stream",
          "name": "stdout",
          "text": [
            "Warning: 'bioconda' already in 'channels' list, moving to the top\n"
          ]
        }
      ],
      "id": "JpJESCcU-fO_"
    },
    {
      "source": [
        "!pip install snapatac2 -q"
      ],
      "cell_type": "code",
      "metadata": {
        "id": "gZdiRWwb1rZJ"
      },
      "execution_count": null,
      "outputs": [],
      "id": "gZdiRWwb1rZJ"
    },
    {
      "cell_type": "code",
      "source": [
        "!pip show snapatac2"
      ],
      "metadata": {
        "colab": {
          "base_uri": "https://localhost:8080/"
        },
        "id": "jsCJ2get4W8l",
        "outputId": "85de7af9-78d1-4b32-dc1d-8d2ba9233668"
      },
      "execution_count": null,
      "outputs": [
        {
          "output_type": "stream",
          "name": "stdout",
          "text": [
            "Name: snapatac2\n",
            "Version: 2.8.0\n",
            "Summary: SnapATAC2: Single-cell epigenomics analysis pipeline\n",
            "Home-page: https://github.com/\n",
            "Author: Kai Zhang <kai@kzhang.org>\n",
            "Author-email: Kai Zhang <zhangkai33@westlake.edu.cn>\n",
            "License: MIT\n",
            "Location: /usr/local/lib/python3.10/site-packages\n",
            "Requires: anndata, igraph, kaleido, macs3, multiprocess, natsort, numpy, pandas, plotly, polars, pooch, pyarrow, pyfaidx, rustworkx, scikit-learn, scipy, tqdm, typeguard\n",
            "Required-by: \n"
          ]
        }
      ],
      "id": "jsCJ2get4W8l"
    },
    {
      "cell_type": "code",
      "source": [
        "import snapatac2 as snap"
      ],
      "metadata": {
        "id": "z2G4FDYqgSmQ"
      },
      "execution_count": null,
      "outputs": [],
      "id": "z2G4FDYqgSmQ"
    },
    {
      "cell_type": "code",
      "source": [
        "!pip install umap-learn\n",
        "\n"
      ],
      "metadata": {
        "colab": {
          "base_uri": "https://localhost:8080/"
        },
        "id": "VZLaiDEzlB1m",
        "outputId": "95911ea5-3379-4535-8321-fee99cbb7762"
      },
      "execution_count": null,
      "outputs": [
        {
          "output_type": "stream",
          "name": "stdout",
          "text": [
            "Requirement already satisfied: umap-learn in /usr/local/lib/python3.10/site-packages (0.5.7)\n",
            "Requirement already satisfied: numpy>=1.17 in /usr/local/lib/python3.10/site-packages (from umap-learn) (1.26.4)\n",
            "Requirement already satisfied: scipy>=1.3.1 in /usr/local/lib/python3.10/site-packages (from umap-learn) (1.15.0)\n",
            "Requirement already satisfied: scikit-learn>=0.22 in /usr/local/lib/python3.10/site-packages (from umap-learn) (1.6.0)\n",
            "Requirement already satisfied: numba>=0.51.2 in /usr/local/lib/python3.10/site-packages (from umap-learn) (0.60.0)\n",
            "Requirement already satisfied: pynndescent>=0.5 in /usr/local/lib/python3.10/site-packages (from umap-learn) (0.5.13)\n",
            "Requirement already satisfied: tqdm in /usr/local/lib/python3.10/site-packages (from umap-learn) (4.66.1)\n",
            "Requirement already satisfied: llvmlite<0.44,>=0.43.0dev0 in /usr/local/lib/python3.10/site-packages (from numba>=0.51.2->umap-learn) (0.43.0)\n",
            "Requirement already satisfied: joblib>=0.11 in /usr/local/lib/python3.10/site-packages (from pynndescent>=0.5->umap-learn) (1.4.2)\n",
            "Requirement already satisfied: threadpoolctl>=3.1.0 in /usr/local/lib/python3.10/site-packages (from scikit-learn>=0.22->umap-learn) (3.5.0)\n"
          ]
        }
      ],
      "id": "VZLaiDEzlB1m"
    },
    {
      "cell_type": "code",
      "source": [
        "import umap.umap_ as umap\n"
      ],
      "metadata": {
        "id": "BCEdegOSgRBg"
      },
      "execution_count": null,
      "outputs": [],
      "id": "BCEdegOSgRBg"
    },
    {
      "cell_type": "code",
      "source": [
        "from umap import UMAP"
      ],
      "metadata": {
        "id": "FVmqXk-vlFrB"
      },
      "execution_count": null,
      "outputs": [],
      "id": "FVmqXk-vlFrB"
    },
    {
      "cell_type": "code",
      "source": [
        "!pip install scanpy -q"
      ],
      "metadata": {
        "id": "CM_xhHZxUcF5"
      },
      "execution_count": null,
      "outputs": [],
      "id": "CM_xhHZxUcF5"
    },
    {
      "cell_type": "code",
      "source": [
        "import scanpy as sc"
      ],
      "metadata": {
        "id": "NYl1nQOhUoj2"
      },
      "execution_count": null,
      "outputs": [],
      "id": "NYl1nQOhUoj2"
    },
    {
      "cell_type": "code",
      "source": [
        "pip show scanpy"
      ],
      "metadata": {
        "colab": {
          "base_uri": "https://localhost:8080/"
        },
        "id": "rkvTEjpw_csS",
        "outputId": "a9656a83-b2cc-465d-82b4-9a159762dc3a"
      },
      "execution_count": null,
      "outputs": [
        {
          "output_type": "stream",
          "name": "stdout",
          "text": [
            "Name: scanpy\n",
            "Version: 1.10.4\n",
            "Summary: Single-Cell Analysis in Python.\n",
            "Home-page: \n",
            "Author: Alex Wolf, Philipp Angerer, Fidel Ramirez, Isaac Virshup, Sergei Rybakov, Gokcen Eraslan, Tom White, Malte Luecken, Davide Cittaro, Tobias Callies, Marius Lange, Andrés R. Muñoz-Rojas\n",
            "Author-email: \n",
            "License: \n",
            "Location: /usr/local/lib/python3.10/site-packages\n",
            "Requires: anndata, h5py, joblib, legacy-api-wrap, matplotlib, natsort, networkx, numba, numpy, packaging, pandas, patsy, pynndescent, scikit-learn, scipy, seaborn, session-info, statsmodels, tqdm, umap-learn\n",
            "Required-by: \n"
          ]
        }
      ],
      "id": "rkvTEjpw_csS"
    },
    {
      "cell_type": "code",
      "execution_count": null,
      "metadata": {
        "id": "4e15629f-bdc4-46dd-8375-a1f2e17960ca"
      },
      "outputs": [],
      "source": [
        "import numpy as np"
      ],
      "id": "4e15629f-bdc4-46dd-8375-a1f2e17960ca"
    },
    {
      "cell_type": "code",
      "execution_count": null,
      "metadata": {
        "id": "37ff51dc-8860-4ab6-ab44-8223b33ea879"
      },
      "outputs": [],
      "source": [
        "import anndata as ad"
      ],
      "id": "37ff51dc-8860-4ab6-ab44-8223b33ea879"
    },
    {
      "source": [
        "!pip install diffxpy -q"
      ],
      "cell_type": "code",
      "metadata": {
        "id": "V4DX7Y0t1K1S"
      },
      "execution_count": null,
      "outputs": [],
      "id": "V4DX7Y0t1K1S"
    },
    {
      "cell_type": "code",
      "source": [
        "import diffxpy.api as de"
      ],
      "metadata": {
        "id": "yb2ApyZm9Bfz"
      },
      "execution_count": null,
      "outputs": [],
      "id": "yb2ApyZm9Bfz"
    },
    {
      "cell_type": "code",
      "execution_count": null,
      "metadata": {
        "id": "f54f07e0-84cc-4ab9-a156-ea8467a76fc4"
      },
      "outputs": [],
      "source": [
        "import matplotlib.pyplot as plt"
      ],
      "id": "f54f07e0-84cc-4ab9-a156-ea8467a76fc4"
    },
    {
      "source": [
        "import seaborn as sns"
      ],
      "cell_type": "code",
      "metadata": {
        "id": "jIEyfb4NApUa"
      },
      "execution_count": null,
      "outputs": [],
      "id": "jIEyfb4NApUa"
    },
    {
      "cell_type": "code",
      "execution_count": null,
      "metadata": {
        "id": "dfc626e2-9a64-4f0f-8677-1da6e446ea3a"
      },
      "outputs": [],
      "source": [
        "import plotly.subplots as sp\n",
        "import plotly.graph_objects as go"
      ],
      "id": "dfc626e2-9a64-4f0f-8677-1da6e446ea3a"
    },
    {
      "cell_type": "code",
      "execution_count": null,
      "metadata": {
        "id": "ffa7a645-c56a-4d94-af04-6869e008ca12"
      },
      "outputs": [],
      "source": [
        "from scipy import stats"
      ],
      "id": "ffa7a645-c56a-4d94-af04-6869e008ca12"
    },
    {
      "cell_type": "code",
      "source": [
        "import pandas as pd"
      ],
      "metadata": {
        "id": "WB1NBeEal4uQ"
      },
      "id": "WB1NBeEal4uQ",
      "execution_count": null,
      "outputs": []
    },
    {
      "cell_type": "markdown",
      "id": "43f56d4f-c4ec-496e-96bd-6645365df65c",
      "metadata": {
        "id": "43f56d4f-c4ec-496e-96bd-6645365df65c"
      },
      "source": [
        "# Import reads from google drive, three samples treated with energy metabolism inhibitors and one untreated"
      ]
    },
    {
      "cell_type": "code",
      "source": [
        "from google.colab import drive\n",
        "drive.mount('/content/drive')"
      ],
      "metadata": {
        "colab": {
          "base_uri": "https://localhost:8080/"
        },
        "id": "BpK5P48ACJOW",
        "outputId": "e756f3bd-b84f-4503-8ca7-f8c9ce1fedcd"
      },
      "id": "BpK5P48ACJOW",
      "execution_count": null,
      "outputs": [
        {
          "output_type": "stream",
          "name": "stdout",
          "text": [
            "Drive already mounted at /content/drive; to attempt to forcibly remount, call drive.mount(\"/content/drive\", force_remount=True).\n"
          ]
        }
      ]
    },
    {
      "cell_type": "code",
      "execution_count": null,
      "id": "be1662ba-006c-4be4-9858-70480fa51fe3",
      "metadata": {
        "id": "be1662ba-006c-4be4-9858-70480fa51fe3",
        "colab": {
          "base_uri": "https://localhost:8080/"
        },
        "outputId": "d57ea794-7615-4bc9-9174-2dcb7057ba14"
      },
      "outputs": [
        {
          "output_type": "stream",
          "name": "stderr",
          "text": [
            "/usr/local/lib/python3.10/site-packages/anndata/_core/anndata.py:1754: UserWarning: Observation names are not unique. To make them unique, call `.obs_names_make_unique`.\n",
            "  utils.warn_names_duplicates(\"obs\")\n"
          ]
        }
      ],
      "source": [
        "#Load AD matrix from google drive, PCA and Batch corrected\n",
        "adata_concat = sc.read_h5ad('/content/drive/MyDrive/Colab Notebooks/MTXmerged_PCA_BC.h5ad')"
      ]
    },
    {
      "cell_type": "markdown",
      "source": [
        "# Make observation names unique\n",
        "\n"
      ],
      "metadata": {
        "id": "32DJSCEh2l5D"
      },
      "id": "32DJSCEh2l5D"
    },
    {
      "cell_type": "code",
      "source": [
        "adata_concat"
      ],
      "metadata": {
        "id": "KEu2Aixq97tb",
        "colab": {
          "base_uri": "https://localhost:8080/"
        },
        "outputId": "c206415a-7fb0-44d8-f8f6-468fb0cc405d"
      },
      "id": "KEu2Aixq97tb",
      "execution_count": null,
      "outputs": [
        {
          "output_type": "execute_result",
          "data": {
            "text/plain": [
              "AnnData object with n_obs × n_vars = 21361 × 53017\n",
              "    obs: 'n_fragment', 'frac_dup', 'frac_mito', 'tsse', 'doublet_probability', 'doublet_score', 'leiden', 'Treatment'\n",
              "    uns: 'pca'\n",
              "    obsm: 'X_pca', 'X_pca_harmony', 'X_umap'\n",
              "    varm: 'PCs'"
            ]
          },
          "metadata": {},
          "execution_count": 32
        }
      ]
    },
    {
      "source": [
        "# Check if the number of unique gene names is equal to the total number of gene names\n",
        "is_unique = len(adata_concat.var_names) == pd.Series(adata_concat.var_names).nunique()\n",
        "\n",
        "if is_unique:\n",
        "    print(\"var_names are unique.\")\n",
        "else:\n",
        "    print(\"var_names are not unique.\")"
      ],
      "cell_type": "code",
      "metadata": {
        "colab": {
          "base_uri": "https://localhost:8080/"
        },
        "id": "Q4tthAC-luAg",
        "outputId": "7c12c9c1-b3dd-4616-d277-c790dc5efda5"
      },
      "id": "Q4tthAC-luAg",
      "execution_count": null,
      "outputs": [
        {
          "output_type": "stream",
          "name": "stdout",
          "text": [
            "var_names are unique.\n"
          ]
        }
      ]
    },
    {
      "cell_type": "code",
      "source": [],
      "metadata": {
        "id": "wmZQnwHPlQ8Y"
      },
      "id": "wmZQnwHPlQ8Y",
      "execution_count": null,
      "outputs": []
    },
    {
      "cell_type": "code",
      "source": [
        "adata_concat.var_names"
      ],
      "metadata": {
        "colab": {
          "base_uri": "https://localhost:8080/"
        },
        "id": "5kpwCghN3xTE",
        "outputId": "d6fc5e6d-d52d-46d9-e41d-b42453e27f20"
      },
      "id": "5kpwCghN3xTE",
      "execution_count": null,
      "outputs": [
        {
          "output_type": "execute_result",
          "data": {
            "text/plain": [
              "Index(['DDX11L1', 'WASH7P', 'ENSG00000238009', 'ENSG00000239945', 'DDX11L17',\n",
              "       'WASH9P', 'ENSG00000228463', 'ENSG00000286448', 'U6', 'ENSG00000230021',\n",
              "       ...\n",
              "       'MT-ND4', 'MT-TH', 'MT-TS2', 'MT-TL2', 'MT-ND5', 'MT-ND6', 'MT-TE',\n",
              "       'MT-CYB', 'MT-TT', 'MT-TP'],\n",
              "      dtype='object', length=53017)"
            ]
          },
          "metadata": {},
          "execution_count": 72
        }
      ]
    },
    {
      "source": [
        "experiment_names = [\"Treated w/AOA\", \"Treated w/DON\", \"Treated w/DG\", \"Untreated\"]\n",
        "\n",
        "# Create a new column to store combined barcode and treatment information\n",
        "adata_concat.obs['barcode_treatment'] = adata_concat.obs_names.astype(str)\n",
        "\n",
        "# Modify the 'barcode_treatment' column\n",
        "for i, treatment in enumerate(experiment_names):\n",
        "    cell_indices = adata_concat.obs.index[adata_concat.obs[\"Treatment\"] == treatment]\n",
        "    adata_concat.obs.loc[cell_indices, 'barcode_treatment'] = adata_concat.obs.loc[cell_indices, 'barcode_treatment'] + \"_\" + str(i + 1)"
      ],
      "cell_type": "code",
      "metadata": {
        "colab": {
          "base_uri": "https://localhost:8080/"
        },
        "id": "l0OatC7q5nG1",
        "outputId": "0705a508-9f39-4223-f13a-fd5b010ebdb3"
      },
      "id": "l0OatC7q5nG1",
      "execution_count": null,
      "outputs": [
        {
          "output_type": "stream",
          "name": "stderr",
          "text": [
            "/usr/local/lib/python3.10/site-packages/anndata/_core/anndata.py:1754: UserWarning: Observation names are not unique. To make them unique, call `.obs_names_make_unique`.\n",
            "  utils.warn_names_duplicates(\"obs\")\n"
          ]
        }
      ]
    },
    {
      "cell_type": "code",
      "source": [
        "adata_concat.obs"
      ],
      "metadata": {
        "colab": {
          "base_uri": "https://localhost:8080/",
          "height": 423
        },
        "id": "b6I9wzOsk50y",
        "outputId": "ccc91064-d5eb-49ab-e31f-bd0f9e2052ad"
      },
      "id": "b6I9wzOsk50y",
      "execution_count": null,
      "outputs": [
        {
          "output_type": "execute_result",
          "data": {
            "text/plain": [
              "                  n_fragment  frac_dup  frac_mito       tsse  \\\n",
              "AAACAACGAACGAGCA       20919  0.502426   0.000096  25.061425   \n",
              "AAACAACGAAGAGGCT       13308  0.488184   0.000826  23.198793   \n",
              "AAACAACGAAGTCGGA       17302  0.502830   0.000058  18.234291   \n",
              "AAACAACGAGAAGGCT       14109  0.530246   0.000071  29.930591   \n",
              "AAACAACGAGTACGTT       12165  0.588867   0.000000  21.409091   \n",
              "...                      ...       ...        ...        ...   \n",
              "TTTGGGATGAACGTAA       33918  0.336626   0.001766  18.594706   \n",
              "TTTGGGATGAAGTCTC       25630  0.307834   0.000117  15.581623   \n",
              "TTTGGGATGATGTGGG       28438  0.336774   0.001019  19.425019   \n",
              "TTTGGGATGCTCACGG       20103  0.336676   0.000149  26.203209   \n",
              "TTTGGGATGCTCTGGG       33912  0.327788   0.000943  19.538670   \n",
              "\n",
              "                  doublet_probability  doublet_score leiden      Treatment  \n",
              "AAACAACGAACGAGCA             0.052336       0.047059      7  Treated w/AOA  \n",
              "AAACAACGAAGAGGCT             0.066163       0.009174      4  Treated w/AOA  \n",
              "AAACAACGAAGTCGGA             0.061446       0.015294      5  Treated w/AOA  \n",
              "AAACAACGAGAAGGCT             0.070621       0.004525      0  Treated w/AOA  \n",
              "AAACAACGAGTACGTT             0.062457       0.013841      7  Treated w/AOA  \n",
              "...                               ...            ...    ...            ...  \n",
              "TTTGGGATGAACGTAA             0.185808       0.043189      1      Untreated  \n",
              "TTTGGGATGAAGTCTC             0.221046       0.025360      7      Untreated  \n",
              "TTTGGGATGATGTGGG             0.189493       0.040388      0      Untreated  \n",
              "TTTGGGATGCTCACGG             0.265871       0.012835      4      Untreated  \n",
              "TTTGGGATGCTCTGGG             0.181155       0.047702      1      Untreated  \n",
              "\n",
              "[21361 rows x 8 columns]"
            ],
            "text/html": [
              "\n",
              "  <div id=\"df-62327582-8cd7-43b5-836b-85ae3a1843ce\" class=\"colab-df-container\">\n",
              "    <div>\n",
              "<style scoped>\n",
              "    .dataframe tbody tr th:only-of-type {\n",
              "        vertical-align: middle;\n",
              "    }\n",
              "\n",
              "    .dataframe tbody tr th {\n",
              "        vertical-align: top;\n",
              "    }\n",
              "\n",
              "    .dataframe thead th {\n",
              "        text-align: right;\n",
              "    }\n",
              "</style>\n",
              "<table border=\"1\" class=\"dataframe\">\n",
              "  <thead>\n",
              "    <tr style=\"text-align: right;\">\n",
              "      <th></th>\n",
              "      <th>n_fragment</th>\n",
              "      <th>frac_dup</th>\n",
              "      <th>frac_mito</th>\n",
              "      <th>tsse</th>\n",
              "      <th>doublet_probability</th>\n",
              "      <th>doublet_score</th>\n",
              "      <th>leiden</th>\n",
              "      <th>Treatment</th>\n",
              "    </tr>\n",
              "  </thead>\n",
              "  <tbody>\n",
              "    <tr>\n",
              "      <th>AAACAACGAACGAGCA</th>\n",
              "      <td>20919</td>\n",
              "      <td>0.502426</td>\n",
              "      <td>0.000096</td>\n",
              "      <td>25.061425</td>\n",
              "      <td>0.052336</td>\n",
              "      <td>0.047059</td>\n",
              "      <td>7</td>\n",
              "      <td>Treated w/AOA</td>\n",
              "    </tr>\n",
              "    <tr>\n",
              "      <th>AAACAACGAAGAGGCT</th>\n",
              "      <td>13308</td>\n",
              "      <td>0.488184</td>\n",
              "      <td>0.000826</td>\n",
              "      <td>23.198793</td>\n",
              "      <td>0.066163</td>\n",
              "      <td>0.009174</td>\n",
              "      <td>4</td>\n",
              "      <td>Treated w/AOA</td>\n",
              "    </tr>\n",
              "    <tr>\n",
              "      <th>AAACAACGAAGTCGGA</th>\n",
              "      <td>17302</td>\n",
              "      <td>0.502830</td>\n",
              "      <td>0.000058</td>\n",
              "      <td>18.234291</td>\n",
              "      <td>0.061446</td>\n",
              "      <td>0.015294</td>\n",
              "      <td>5</td>\n",
              "      <td>Treated w/AOA</td>\n",
              "    </tr>\n",
              "    <tr>\n",
              "      <th>AAACAACGAGAAGGCT</th>\n",
              "      <td>14109</td>\n",
              "      <td>0.530246</td>\n",
              "      <td>0.000071</td>\n",
              "      <td>29.930591</td>\n",
              "      <td>0.070621</td>\n",
              "      <td>0.004525</td>\n",
              "      <td>0</td>\n",
              "      <td>Treated w/AOA</td>\n",
              "    </tr>\n",
              "    <tr>\n",
              "      <th>AAACAACGAGTACGTT</th>\n",
              "      <td>12165</td>\n",
              "      <td>0.588867</td>\n",
              "      <td>0.000000</td>\n",
              "      <td>21.409091</td>\n",
              "      <td>0.062457</td>\n",
              "      <td>0.013841</td>\n",
              "      <td>7</td>\n",
              "      <td>Treated w/AOA</td>\n",
              "    </tr>\n",
              "    <tr>\n",
              "      <th>...</th>\n",
              "      <td>...</td>\n",
              "      <td>...</td>\n",
              "      <td>...</td>\n",
              "      <td>...</td>\n",
              "      <td>...</td>\n",
              "      <td>...</td>\n",
              "      <td>...</td>\n",
              "      <td>...</td>\n",
              "    </tr>\n",
              "    <tr>\n",
              "      <th>TTTGGGATGAACGTAA</th>\n",
              "      <td>33918</td>\n",
              "      <td>0.336626</td>\n",
              "      <td>0.001766</td>\n",
              "      <td>18.594706</td>\n",
              "      <td>0.185808</td>\n",
              "      <td>0.043189</td>\n",
              "      <td>1</td>\n",
              "      <td>Untreated</td>\n",
              "    </tr>\n",
              "    <tr>\n",
              "      <th>TTTGGGATGAAGTCTC</th>\n",
              "      <td>25630</td>\n",
              "      <td>0.307834</td>\n",
              "      <td>0.000117</td>\n",
              "      <td>15.581623</td>\n",
              "      <td>0.221046</td>\n",
              "      <td>0.025360</td>\n",
              "      <td>7</td>\n",
              "      <td>Untreated</td>\n",
              "    </tr>\n",
              "    <tr>\n",
              "      <th>TTTGGGATGATGTGGG</th>\n",
              "      <td>28438</td>\n",
              "      <td>0.336774</td>\n",
              "      <td>0.001019</td>\n",
              "      <td>19.425019</td>\n",
              "      <td>0.189493</td>\n",
              "      <td>0.040388</td>\n",
              "      <td>0</td>\n",
              "      <td>Untreated</td>\n",
              "    </tr>\n",
              "    <tr>\n",
              "      <th>TTTGGGATGCTCACGG</th>\n",
              "      <td>20103</td>\n",
              "      <td>0.336676</td>\n",
              "      <td>0.000149</td>\n",
              "      <td>26.203209</td>\n",
              "      <td>0.265871</td>\n",
              "      <td>0.012835</td>\n",
              "      <td>4</td>\n",
              "      <td>Untreated</td>\n",
              "    </tr>\n",
              "    <tr>\n",
              "      <th>TTTGGGATGCTCTGGG</th>\n",
              "      <td>33912</td>\n",
              "      <td>0.327788</td>\n",
              "      <td>0.000943</td>\n",
              "      <td>19.538670</td>\n",
              "      <td>0.181155</td>\n",
              "      <td>0.047702</td>\n",
              "      <td>1</td>\n",
              "      <td>Untreated</td>\n",
              "    </tr>\n",
              "  </tbody>\n",
              "</table>\n",
              "<p>21361 rows × 8 columns</p>\n",
              "</div>\n",
              "    <div class=\"colab-df-buttons\">\n",
              "\n",
              "  <div class=\"colab-df-container\">\n",
              "    <button class=\"colab-df-convert\" onclick=\"convertToInteractive('df-62327582-8cd7-43b5-836b-85ae3a1843ce')\"\n",
              "            title=\"Convert this dataframe to an interactive table.\"\n",
              "            style=\"display:none;\">\n",
              "\n",
              "  <svg xmlns=\"http://www.w3.org/2000/svg\" height=\"24px\" viewBox=\"0 -960 960 960\">\n",
              "    <path d=\"M120-120v-720h720v720H120Zm60-500h600v-160H180v160Zm220 220h160v-160H400v160Zm0 220h160v-160H400v160ZM180-400h160v-160H180v160Zm440 0h160v-160H620v160ZM180-180h160v-160H180v160Zm440 0h160v-160H620v160Z\"/>\n",
              "  </svg>\n",
              "    </button>\n",
              "\n",
              "  <style>\n",
              "    .colab-df-container {\n",
              "      display:flex;\n",
              "      gap: 12px;\n",
              "    }\n",
              "\n",
              "    .colab-df-convert {\n",
              "      background-color: #E8F0FE;\n",
              "      border: none;\n",
              "      border-radius: 50%;\n",
              "      cursor: pointer;\n",
              "      display: none;\n",
              "      fill: #1967D2;\n",
              "      height: 32px;\n",
              "      padding: 0 0 0 0;\n",
              "      width: 32px;\n",
              "    }\n",
              "\n",
              "    .colab-df-convert:hover {\n",
              "      background-color: #E2EBFA;\n",
              "      box-shadow: 0px 1px 2px rgba(60, 64, 67, 0.3), 0px 1px 3px 1px rgba(60, 64, 67, 0.15);\n",
              "      fill: #174EA6;\n",
              "    }\n",
              "\n",
              "    .colab-df-buttons div {\n",
              "      margin-bottom: 4px;\n",
              "    }\n",
              "\n",
              "    [theme=dark] .colab-df-convert {\n",
              "      background-color: #3B4455;\n",
              "      fill: #D2E3FC;\n",
              "    }\n",
              "\n",
              "    [theme=dark] .colab-df-convert:hover {\n",
              "      background-color: #434B5C;\n",
              "      box-shadow: 0px 1px 3px 1px rgba(0, 0, 0, 0.15);\n",
              "      filter: drop-shadow(0px 1px 2px rgba(0, 0, 0, 0.3));\n",
              "      fill: #FFFFFF;\n",
              "    }\n",
              "  </style>\n",
              "\n",
              "    <script>\n",
              "      const buttonEl =\n",
              "        document.querySelector('#df-62327582-8cd7-43b5-836b-85ae3a1843ce button.colab-df-convert');\n",
              "      buttonEl.style.display =\n",
              "        google.colab.kernel.accessAllowed ? 'block' : 'none';\n",
              "\n",
              "      async function convertToInteractive(key) {\n",
              "        const element = document.querySelector('#df-62327582-8cd7-43b5-836b-85ae3a1843ce');\n",
              "        const dataTable =\n",
              "          await google.colab.kernel.invokeFunction('convertToInteractive',\n",
              "                                                    [key], {});\n",
              "        if (!dataTable) return;\n",
              "\n",
              "        const docLinkHtml = 'Like what you see? Visit the ' +\n",
              "          '<a target=\"_blank\" href=https://colab.research.google.com/notebooks/data_table.ipynb>data table notebook</a>'\n",
              "          + ' to learn more about interactive tables.';\n",
              "        element.innerHTML = '';\n",
              "        dataTable['output_type'] = 'display_data';\n",
              "        await google.colab.output.renderOutput(dataTable, element);\n",
              "        const docLink = document.createElement('div');\n",
              "        docLink.innerHTML = docLinkHtml;\n",
              "        element.appendChild(docLink);\n",
              "      }\n",
              "    </script>\n",
              "  </div>\n",
              "\n",
              "\n",
              "<div id=\"df-f9804adb-3e39-4ee2-a84b-eb16a0c36268\">\n",
              "  <button class=\"colab-df-quickchart\" onclick=\"quickchart('df-f9804adb-3e39-4ee2-a84b-eb16a0c36268')\"\n",
              "            title=\"Suggest charts\"\n",
              "            style=\"display:none;\">\n",
              "\n",
              "<svg xmlns=\"http://www.w3.org/2000/svg\" height=\"24px\"viewBox=\"0 0 24 24\"\n",
              "     width=\"24px\">\n",
              "    <g>\n",
              "        <path d=\"M19 3H5c-1.1 0-2 .9-2 2v14c0 1.1.9 2 2 2h14c1.1 0 2-.9 2-2V5c0-1.1-.9-2-2-2zM9 17H7v-7h2v7zm4 0h-2V7h2v10zm4 0h-2v-4h2v4z\"/>\n",
              "    </g>\n",
              "</svg>\n",
              "  </button>\n",
              "\n",
              "<style>\n",
              "  .colab-df-quickchart {\n",
              "      --bg-color: #E8F0FE;\n",
              "      --fill-color: #1967D2;\n",
              "      --hover-bg-color: #E2EBFA;\n",
              "      --hover-fill-color: #174EA6;\n",
              "      --disabled-fill-color: #AAA;\n",
              "      --disabled-bg-color: #DDD;\n",
              "  }\n",
              "\n",
              "  [theme=dark] .colab-df-quickchart {\n",
              "      --bg-color: #3B4455;\n",
              "      --fill-color: #D2E3FC;\n",
              "      --hover-bg-color: #434B5C;\n",
              "      --hover-fill-color: #FFFFFF;\n",
              "      --disabled-bg-color: #3B4455;\n",
              "      --disabled-fill-color: #666;\n",
              "  }\n",
              "\n",
              "  .colab-df-quickchart {\n",
              "    background-color: var(--bg-color);\n",
              "    border: none;\n",
              "    border-radius: 50%;\n",
              "    cursor: pointer;\n",
              "    display: none;\n",
              "    fill: var(--fill-color);\n",
              "    height: 32px;\n",
              "    padding: 0;\n",
              "    width: 32px;\n",
              "  }\n",
              "\n",
              "  .colab-df-quickchart:hover {\n",
              "    background-color: var(--hover-bg-color);\n",
              "    box-shadow: 0 1px 2px rgba(60, 64, 67, 0.3), 0 1px 3px 1px rgba(60, 64, 67, 0.15);\n",
              "    fill: var(--button-hover-fill-color);\n",
              "  }\n",
              "\n",
              "  .colab-df-quickchart-complete:disabled,\n",
              "  .colab-df-quickchart-complete:disabled:hover {\n",
              "    background-color: var(--disabled-bg-color);\n",
              "    fill: var(--disabled-fill-color);\n",
              "    box-shadow: none;\n",
              "  }\n",
              "\n",
              "  .colab-df-spinner {\n",
              "    border: 2px solid var(--fill-color);\n",
              "    border-color: transparent;\n",
              "    border-bottom-color: var(--fill-color);\n",
              "    animation:\n",
              "      spin 1s steps(1) infinite;\n",
              "  }\n",
              "\n",
              "  @keyframes spin {\n",
              "    0% {\n",
              "      border-color: transparent;\n",
              "      border-bottom-color: var(--fill-color);\n",
              "      border-left-color: var(--fill-color);\n",
              "    }\n",
              "    20% {\n",
              "      border-color: transparent;\n",
              "      border-left-color: var(--fill-color);\n",
              "      border-top-color: var(--fill-color);\n",
              "    }\n",
              "    30% {\n",
              "      border-color: transparent;\n",
              "      border-left-color: var(--fill-color);\n",
              "      border-top-color: var(--fill-color);\n",
              "      border-right-color: var(--fill-color);\n",
              "    }\n",
              "    40% {\n",
              "      border-color: transparent;\n",
              "      border-right-color: var(--fill-color);\n",
              "      border-top-color: var(--fill-color);\n",
              "    }\n",
              "    60% {\n",
              "      border-color: transparent;\n",
              "      border-right-color: var(--fill-color);\n",
              "    }\n",
              "    80% {\n",
              "      border-color: transparent;\n",
              "      border-right-color: var(--fill-color);\n",
              "      border-bottom-color: var(--fill-color);\n",
              "    }\n",
              "    90% {\n",
              "      border-color: transparent;\n",
              "      border-bottom-color: var(--fill-color);\n",
              "    }\n",
              "  }\n",
              "</style>\n",
              "\n",
              "  <script>\n",
              "    async function quickchart(key) {\n",
              "      const quickchartButtonEl =\n",
              "        document.querySelector('#' + key + ' button');\n",
              "      quickchartButtonEl.disabled = true;  // To prevent multiple clicks.\n",
              "      quickchartButtonEl.classList.add('colab-df-spinner');\n",
              "      try {\n",
              "        const charts = await google.colab.kernel.invokeFunction(\n",
              "            'suggestCharts', [key], {});\n",
              "      } catch (error) {\n",
              "        console.error('Error during call to suggestCharts:', error);\n",
              "      }\n",
              "      quickchartButtonEl.classList.remove('colab-df-spinner');\n",
              "      quickchartButtonEl.classList.add('colab-df-quickchart-complete');\n",
              "    }\n",
              "    (() => {\n",
              "      let quickchartButtonEl =\n",
              "        document.querySelector('#df-f9804adb-3e39-4ee2-a84b-eb16a0c36268 button');\n",
              "      quickchartButtonEl.style.display =\n",
              "        google.colab.kernel.accessAllowed ? 'block' : 'none';\n",
              "    })();\n",
              "  </script>\n",
              "</div>\n",
              "\n",
              "    </div>\n",
              "  </div>\n"
            ],
            "application/vnd.google.colaboratory.intrinsic+json": {
              "type": "dataframe",
              "summary": "{\n  \"name\": \"adata_concat\",\n  \"rows\": 21361,\n  \"fields\": [\n    {\n      \"column\": \"n_fragment\",\n      \"properties\": {\n        \"dtype\": \"uint64\",\n        \"num_unique_values\": 14876,\n        \"samples\": [\n          29247,\n          14867,\n          28928\n        ],\n        \"semantic_type\": \"\",\n        \"description\": \"\"\n      }\n    },\n    {\n      \"column\": \"frac_dup\",\n      \"properties\": {\n        \"dtype\": \"number\",\n        \"std\": 0.09129927330441441,\n        \"min\": 0.0032700289271789806,\n        \"max\": 0.8818600222186954,\n        \"num_unique_values\": 21353,\n        \"samples\": [\n          0.32484114614554604,\n          0.4410861370933966,\n          0.38454579485899676\n        ],\n        \"semantic_type\": \"\",\n        \"description\": \"\"\n      }\n    },\n    {\n      \"column\": \"frac_mito\",\n      \"properties\": {\n        \"dtype\": \"number\",\n        \"std\": 0.018857356663405052,\n        \"min\": 0.0,\n        \"max\": 0.5561697423250276,\n        \"num_unique_values\": 17986,\n        \"samples\": [\n          0.0002374028132233367,\n          0.0005653550429669833,\n          0.0745716862037872\n        ],\n        \"semantic_type\": \"\",\n        \"description\": \"\"\n      }\n    },\n    {\n      \"column\": \"tsse\",\n      \"properties\": {\n        \"dtype\": \"number\",\n        \"std\": 4.344104464720331,\n        \"min\": 8.038277511961724,\n        \"max\": 51.375291375291376,\n        \"num_unique_values\": 19850,\n        \"samples\": [\n          20.43544690603514,\n          19.689119170984455,\n          22.86682615629984\n        ],\n        \"semantic_type\": \"\",\n        \"description\": \"\"\n      }\n    },\n    {\n      \"column\": \"doublet_probability\",\n      \"properties\": {\n        \"dtype\": \"number\",\n        \"std\": 0.08149493635637733,\n        \"min\": 0.05227946401345629,\n        \"max\": 0.47802820538246654,\n        \"num_unique_values\": 352,\n        \"samples\": [\n          0.11275932245529668,\n          0.13842889608424708,\n          0.053397421722530314\n        ],\n        \"semantic_type\": \"\",\n        \"description\": \"\"\n      }\n    },\n    {\n      \"column\": \"doublet_score\",\n      \"properties\": {\n        \"dtype\": \"number\",\n        \"std\": 0.025656261521134843,\n        \"min\": 0.00045892611289582384,\n        \"max\": 0.17733089579524675,\n        \"num_unique_values\": 345,\n        \"samples\": [\n          0.0017513134851138356,\n          0.022727272727272728,\n          0.03259911894273128\n        ],\n        \"semantic_type\": \"\",\n        \"description\": \"\"\n      }\n    },\n    {\n      \"column\": \"leiden\",\n      \"properties\": {\n        \"dtype\": \"category\",\n        \"num_unique_values\": 14,\n        \"samples\": [\n          \"10\",\n          \"9\",\n          \"7\"\n        ],\n        \"semantic_type\": \"\",\n        \"description\": \"\"\n      }\n    },\n    {\n      \"column\": \"Treatment\",\n      \"properties\": {\n        \"dtype\": \"category\",\n        \"num_unique_values\": 4,\n        \"samples\": [\n          \"Treated w/DON\",\n          \"Untreated\",\n          \"Treated w/AOA\"\n        ],\n        \"semantic_type\": \"\",\n        \"description\": \"\"\n      }\n    }\n  ]\n}"
            }
          },
          "metadata": {},
          "execution_count": 47
        }
      ]
    },
    {
      "cell_type": "markdown",
      "source": [
        "# Differential accessibility analysis using diffxpy"
      ],
      "metadata": {
        "id": "dTGOQibDKLLX"
      },
      "id": "dTGOQibDKLLX"
    },
    {
      "cell_type": "code",
      "source": [
        "adata_concat.obs_names"
      ],
      "metadata": {
        "colab": {
          "base_uri": "https://localhost:8080/"
        },
        "id": "ArelK3lA3xCp",
        "outputId": "6ed2fab7-2f5b-4ad6-e92f-a5e055548293"
      },
      "id": "ArelK3lA3xCp",
      "execution_count": null,
      "outputs": [
        {
          "output_type": "execute_result",
          "data": {
            "text/plain": [
              "Index(['AAACAACGAACGAGCA_1', 'AAACAACGAAGAGGCT_1', 'AAACAACGAAGTCGGA_1',\n",
              "       'AAACAACGAGAAGGCT_1', 'AAACAACGAGTACGTT_1', 'AAACACGCTATCCTTT_1',\n",
              "       'AAACACGCTCAGTCTA_1', 'AAACACGCTCATACTG_1', 'AAACACGCTCCAAACT_1',\n",
              "       'AAACACGCTCTACTCC_1',\n",
              "       ...\n",
              "       'TTTGGGAACCGACATT_4', 'TTTGGGAACCGAGTGA_4', 'TTTGGGAACGAAGTTA_4',\n",
              "       'TTTGGGAACTGACCTA_4', 'TTTGGGATGAACGCAG_4', 'TTTGGGATGAACGTAA_4',\n",
              "       'TTTGGGATGAAGTCTC_4', 'TTTGGGATGATGTGGG_4', 'TTTGGGATGCTCACGG_4',\n",
              "       'TTTGGGATGCTCTGGG_4'],\n",
              "      dtype='object', name='barcode_treatment', length=21361)"
            ]
          },
          "metadata": {},
          "execution_count": 76
        }
      ]
    },
    {
      "source": [
        "# Check if any gene names are duplicated\n",
        "has_duplicates = adata_concat.var_names.duplicated().any()\n",
        "\n",
        "if has_duplicates:\n",
        "    print(\"var_names are not unique.\")\n",
        "else:\n",
        "    print(\"var_names are unique.\")"
      ],
      "cell_type": "code",
      "metadata": {
        "colab": {
          "base_uri": "https://localhost:8080/"
        },
        "id": "kh9tMDcXl_9k",
        "outputId": "c9a82956-58b1-489d-a479-d13e0a726dd7"
      },
      "id": "kh9tMDcXl_9k",
      "execution_count": null,
      "outputs": [
        {
          "output_type": "stream",
          "name": "stdout",
          "text": [
            "var_names are unique.\n"
          ]
        }
      ]
    },
    {
      "source": [
        "# Check if the number of unique observations is equal to the total number of observations\n",
        "is_unique = len(adata_concat.obs_names) == pd.Series(adata_concat.obs_names).nunique()\n",
        "\n",
        "if is_unique:\n",
        "    print(\"Observations are unique.\")\n",
        "else:\n",
        "    print(\"Observations are not unique.\")"
      ],
      "cell_type": "code",
      "metadata": {
        "colab": {
          "base_uri": "https://localhost:8080/"
        },
        "id": "w0FEiyEIm9GP",
        "outputId": "3f13df6f-ff1d-46cb-9df8-cc5fde202fcf"
      },
      "id": "w0FEiyEIm9GP",
      "execution_count": null,
      "outputs": [
        {
          "output_type": "stream",
          "name": "stdout",
          "text": [
            "Observations are not unique.\n"
          ]
        }
      ]
    },
    {
      "source": [
        "# Check if any observations are duplicated\n",
        "has_duplicates = adata_concat.obs_names.duplicated().any()\n",
        "\n",
        "if has_duplicates:\n",
        "    print(\"Observations are not unique.\")\n",
        "else:\n",
        "    print(\"Observations are unique.\")"
      ],
      "cell_type": "code",
      "metadata": {
        "colab": {
          "base_uri": "https://localhost:8080/"
        },
        "id": "TshptTfSm-3g",
        "outputId": "f0303732-2d5c-494b-f2fa-636cfaa106c4"
      },
      "id": "TshptTfSm-3g",
      "execution_count": null,
      "outputs": [
        {
          "output_type": "stream",
          "name": "stdout",
          "text": [
            "Observations are not unique.\n"
          ]
        }
      ]
    },
    {
      "cell_type": "code",
      "source": [
        "#numpy type aliases\n",
        "np.float = float\n",
        "np.int = int   #module 'numpy' has no attribute 'int'\n",
        "np.object = object    #module 'numpy' has no attribute 'object'\n",
        "np.bool = bool    #module 'numpy' has no attribute 'bool'"
      ],
      "metadata": {
        "id": "QkYcsillINBn"
      },
      "execution_count": null,
      "outputs": [],
      "id": "QkYcsillINBn"
    },
    {
      "cell_type": "code",
      "source": [
        "import dask.array as da"
      ],
      "metadata": {
        "id": "5SUGhoHaJfZz"
      },
      "id": "5SUGhoHaJfZz",
      "execution_count": null,
      "outputs": []
    },
    {
      "cell_type": "code",
      "source": [
        "import scipy.sparse as sparse"
      ],
      "metadata": {
        "id": "5LO8Ev-uEXfy"
      },
      "id": "5LO8Ev-uEXfy",
      "execution_count": null,
      "outputs": []
    },
    {
      "cell_type": "code",
      "source": [
        "#Optionally set 'barcode_treatment' as the new index:\n",
        "adata_concat.obs_names = pd.Index(adata_concat.obs['barcode_treatment'])"
      ],
      "metadata": {
        "id": "5BTwEPgN6kYC"
      },
      "id": "5BTwEPgN6kYC",
      "execution_count": null,
      "outputs": []
    },
    {
      "cell_type": "code",
      "source": [
        "adata_concat"
      ],
      "metadata": {
        "colab": {
          "base_uri": "https://localhost:8080/"
        },
        "id": "43XkaK1f3oRC",
        "outputId": "6d214c47-8a06-4f8f-8e3f-2cb2937ded3a"
      },
      "id": "43XkaK1f3oRC",
      "execution_count": null,
      "outputs": [
        {
          "output_type": "execute_result",
          "data": {
            "text/plain": [
              "AnnData object with n_obs × n_vars = 21361 × 53017\n",
              "    obs: 'n_fragment', 'frac_dup', 'frac_mito', 'tsse', 'doublet_probability', 'doublet_score', 'leiden', 'Treatment', 'barcode_treatment'\n",
              "    uns: 'pca'\n",
              "    obsm: 'X_pca', 'X_pca_harmony', 'X_umap'\n",
              "    varm: 'PCs'"
            ]
          },
          "metadata": {},
          "execution_count": 71
        }
      ]
    },
    {
      "cell_type": "markdown",
      "source": [
        "# Run diffxpy wald test"
      ],
      "metadata": {
        "id": "1065sP5b72y1"
      },
      "id": "1065sP5b72y1"
    },
    {
      "source": [
        "# Subsample features (e.g., top 1000 highly variable genes)\n",
        "adata_subset = adata_concat[:, adata_concat.var['highly_variable'][:1000].index]\n",
        "\n",
        "# Then, perform the Wald test on the subset:\n",
        "test = de.test.wald(\n",
        "    data=adata_subset,\n",
        "    formula_loc=\"~ 1 + Treatment\",\n",
        "    factor_loc_totest=\"Treatment\"\n",
        ")"
      ],
      "cell_type": "code",
      "metadata": {
        "id": "EfjTiCvE-LbW"
      },
      "id": "EfjTiCvE-LbW",
      "execution_count": null,
      "outputs": []
    }
  ],
  "metadata": {
    "colab": {
      "machine_shape": "hm",
      "provenance": [],
      "toc_visible": true,
      "include_colab_link": true
    },
    "kernelspec": {
      "display_name": "Python 3",
      "name": "python3"
    },
    "language_info": {
      "name": "python"
    }
  },
  "nbformat": 4,
  "nbformat_minor": 5
}