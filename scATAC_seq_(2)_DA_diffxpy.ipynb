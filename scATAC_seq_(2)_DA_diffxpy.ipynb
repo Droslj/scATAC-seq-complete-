{
  "cells": [
    {
      "cell_type": "markdown",
      "metadata": {
        "id": "view-in-github",
        "colab_type": "text"
      },
      "source": [
        "<a href=\"https://colab.research.google.com/github/Droslj/scATAC-seq-complete-/blob/Google-colab/scATAC_seq_(2)_DA_diffxpy.ipynb\" target=\"_parent\"><img src=\"https://colab.research.google.com/assets/colab-badge.svg\" alt=\"Open In Colab\"/></a>"
      ]
    },
    {
      "cell_type": "markdown",
      "id": "f268332b-53de-4af8-9533-e48c041292f3",
      "metadata": {
        "id": "f268332b-53de-4af8-9533-e48c041292f3"
      },
      "source": [
        "scATAC seq, based on scATAC seq processing Galaxy tutorials (scATAC preprocessing (2), Standard scATAC seq processing pipeline (1) )\n",
        "AD Objects created in Galaxy using customized Galaxy WF with Snapatac2 and imported\n",
        "(1) https://usegalaxy.eu/training-material/topics/single-cell/tutorials/scatac-preprocessing-tenx/tutorial.html#mapping-reads-to-a-reference-genome, (2) https://usegalaxy.eu/training-material/topics/single-cell/tutorials/scatac-standard-processing-snapatac2/tutorial.html\n",
        "Data taken from the following NCBI study:\n",
        "Metabolic adaptation pilots the differentiation of human hematopoietic cells (https://www.ncbi.nlm.nih.gov/bioproject/PRJNA1015713)\n",
        "Import Anndata objects for two biological replicates, SRR26046013 (cells treated with AOA inhibitor) and SRR26046019 (untreated cells)\n",
        "Perform following steps:\n",
        "(1) Import matrices\n",
        "(2) Compute fragment size distribution\n",
        "(3) Compute TSS enrichment\n",
        "(4) Filter cell counts based on TSSe\n",
        "(5) Create cell by bin matrix based on 500 bp wide bins accross the whole genome\n",
        "(6) Perform feature selection\n",
        "(7) Perform Doublet removal\n",
        "(8) Perform Dim reduction (spectral)\n",
        "(9) Perform Clustering (neighborhood, UMAP, leiden)\n",
        "(10) Create a cell by gene matrix\n",
        "(11) Concatenate matrices using Inner join\n",
        "(12) Remove batch effects"
      ]
    },
    {
      "cell_type": "code",
      "source": [
        "!pip install -q condacolab"
      ],
      "metadata": {
        "id": "HYs7RhoU68Ks"
      },
      "execution_count": 1,
      "outputs": [],
      "id": "HYs7RhoU68Ks"
    },
    {
      "cell_type": "code",
      "source": [
        "import condacolab"
      ],
      "metadata": {
        "id": "QBQXEKjk7O-V"
      },
      "execution_count": 2,
      "outputs": [],
      "id": "QBQXEKjk7O-V"
    },
    {
      "cell_type": "code",
      "source": [
        "condacolab.install()"
      ],
      "metadata": {
        "colab": {
          "base_uri": "https://localhost:8080/"
        },
        "id": "YdiPg8vS7ZKq",
        "outputId": "a020f745-d3e3-4bf6-a11a-813e1fa55c4f"
      },
      "execution_count": 3,
      "outputs": [
        {
          "output_type": "stream",
          "name": "stdout",
          "text": [
            "✨🍰✨ Everything looks OK!\n"
          ]
        }
      ],
      "id": "YdiPg8vS7ZKq"
    },
    {
      "cell_type": "code",
      "source": [
        "!conda --version"
      ],
      "metadata": {
        "colab": {
          "base_uri": "https://localhost:8080/"
        },
        "id": "VITjp1M56yu_",
        "outputId": "28be61ea-0e80-46b0-8853-559b262d1729"
      },
      "execution_count": 4,
      "outputs": [
        {
          "output_type": "stream",
          "name": "stdout",
          "text": [
            "conda 23.11.0\n"
          ]
        }
      ],
      "id": "VITjp1M56yu_"
    },
    {
      "cell_type": "code",
      "source": [
        "!which conda"
      ],
      "metadata": {
        "colab": {
          "base_uri": "https://localhost:8080/"
        },
        "id": "S-oCMIm-7p9i",
        "outputId": "c3301e05-02d4-421a-8701-3937cf4f55af"
      },
      "execution_count": 5,
      "outputs": [
        {
          "output_type": "stream",
          "name": "stdout",
          "text": [
            "/usr/local/bin/conda\n"
          ]
        }
      ],
      "id": "S-oCMIm-7p9i"
    },
    {
      "cell_type": "code",
      "source": [
        "!conda config --add channels conda-forge"
      ],
      "metadata": {
        "colab": {
          "base_uri": "https://localhost:8080/"
        },
        "id": "D6zjhdZm-BJp",
        "outputId": "0731ed63-f2e0-477d-a5a1-7b920d2bd74b"
      },
      "execution_count": 6,
      "outputs": [
        {
          "output_type": "stream",
          "name": "stdout",
          "text": [
            "Warning: 'conda-forge' already in 'channels' list, moving to the top\n"
          ]
        }
      ],
      "id": "D6zjhdZm-BJp"
    },
    {
      "cell_type": "code",
      "source": [
        "!conda config --add channels bioconda"
      ],
      "metadata": {
        "colab": {
          "base_uri": "https://localhost:8080/"
        },
        "id": "JpJESCcU-fO_",
        "outputId": "a40ba76a-2136-461c-fc01-38ecd13fd717"
      },
      "execution_count": 7,
      "outputs": [
        {
          "output_type": "stream",
          "name": "stdout",
          "text": [
            "Warning: 'bioconda' already in 'channels' list, moving to the top\n"
          ]
        }
      ],
      "id": "JpJESCcU-fO_"
    },
    {
      "source": [
        "!pip install snapatac2 -q"
      ],
      "cell_type": "code",
      "metadata": {
        "id": "gZdiRWwb1rZJ"
      },
      "execution_count": 8,
      "outputs": [],
      "id": "gZdiRWwb1rZJ"
    },
    {
      "cell_type": "code",
      "source": [
        "!pip show snapatac2"
      ],
      "metadata": {
        "colab": {
          "base_uri": "https://localhost:8080/"
        },
        "id": "jsCJ2get4W8l",
        "outputId": "124f34b4-917e-4c7b-dd7f-a13decb9ced5"
      },
      "execution_count": 9,
      "outputs": [
        {
          "output_type": "stream",
          "name": "stdout",
          "text": [
            "Name: snapatac2\n",
            "Version: 2.8.0\n",
            "Summary: SnapATAC2: Single-cell epigenomics analysis pipeline\n",
            "Home-page: https://github.com/\n",
            "Author: Kai Zhang <kai@kzhang.org>\n",
            "Author-email: Kai Zhang <zhangkai33@westlake.edu.cn>\n",
            "License: MIT\n",
            "Location: /usr/local/lib/python3.10/site-packages\n",
            "Requires: anndata, igraph, kaleido, macs3, multiprocess, natsort, numpy, pandas, plotly, polars, pooch, pyarrow, pyfaidx, rustworkx, scikit-learn, scipy, tqdm, typeguard\n",
            "Required-by: \n"
          ]
        }
      ],
      "id": "jsCJ2get4W8l"
    },
    {
      "cell_type": "code",
      "source": [
        "import snapatac2 as snap"
      ],
      "metadata": {
        "id": "z2G4FDYqgSmQ"
      },
      "execution_count": 10,
      "outputs": [],
      "id": "z2G4FDYqgSmQ"
    },
    {
      "cell_type": "code",
      "source": [
        "!pip install umap-learn\n",
        "\n"
      ],
      "metadata": {
        "colab": {
          "base_uri": "https://localhost:8080/"
        },
        "id": "VZLaiDEzlB1m",
        "outputId": "e9d9cb67-6cdc-470a-8365-31cff527624b"
      },
      "execution_count": 11,
      "outputs": [
        {
          "output_type": "stream",
          "name": "stdout",
          "text": [
            "Requirement already satisfied: umap-learn in /usr/local/lib/python3.10/site-packages (0.5.7)\n",
            "Requirement already satisfied: numpy>=1.17 in /usr/local/lib/python3.10/site-packages (from umap-learn) (1.26.4)\n",
            "Requirement already satisfied: scipy>=1.3.1 in /usr/local/lib/python3.10/site-packages (from umap-learn) (1.15.0)\n",
            "Requirement already satisfied: scikit-learn>=0.22 in /usr/local/lib/python3.10/site-packages (from umap-learn) (1.6.0)\n",
            "Requirement already satisfied: numba>=0.51.2 in /usr/local/lib/python3.10/site-packages (from umap-learn) (0.60.0)\n",
            "Requirement already satisfied: pynndescent>=0.5 in /usr/local/lib/python3.10/site-packages (from umap-learn) (0.5.13)\n",
            "Requirement already satisfied: tqdm in /usr/local/lib/python3.10/site-packages (from umap-learn) (4.66.1)\n",
            "Requirement already satisfied: llvmlite<0.44,>=0.43.0dev0 in /usr/local/lib/python3.10/site-packages (from numba>=0.51.2->umap-learn) (0.43.0)\n",
            "Requirement already satisfied: joblib>=0.11 in /usr/local/lib/python3.10/site-packages (from pynndescent>=0.5->umap-learn) (1.4.2)\n",
            "Requirement already satisfied: threadpoolctl>=3.1.0 in /usr/local/lib/python3.10/site-packages (from scikit-learn>=0.22->umap-learn) (3.5.0)\n"
          ]
        }
      ],
      "id": "VZLaiDEzlB1m"
    },
    {
      "cell_type": "code",
      "source": [
        "import umap.umap_ as umap\n"
      ],
      "metadata": {
        "id": "BCEdegOSgRBg"
      },
      "execution_count": 12,
      "outputs": [],
      "id": "BCEdegOSgRBg"
    },
    {
      "cell_type": "code",
      "source": [
        "from umap import UMAP"
      ],
      "metadata": {
        "id": "FVmqXk-vlFrB"
      },
      "execution_count": 13,
      "outputs": [],
      "id": "FVmqXk-vlFrB"
    },
    {
      "cell_type": "code",
      "source": [
        "!pip install scanpy -q"
      ],
      "metadata": {
        "id": "CM_xhHZxUcF5"
      },
      "execution_count": 14,
      "outputs": [],
      "id": "CM_xhHZxUcF5"
    },
    {
      "cell_type": "code",
      "source": [
        "import scanpy as sc"
      ],
      "metadata": {
        "id": "NYl1nQOhUoj2"
      },
      "execution_count": 15,
      "outputs": [],
      "id": "NYl1nQOhUoj2"
    },
    {
      "cell_type": "code",
      "source": [
        "pip show scanpy"
      ],
      "metadata": {
        "colab": {
          "base_uri": "https://localhost:8080/"
        },
        "id": "rkvTEjpw_csS",
        "outputId": "39e4778b-b497-43ef-9ab2-d7f908d0c0c0"
      },
      "execution_count": 16,
      "outputs": [
        {
          "output_type": "stream",
          "name": "stdout",
          "text": [
            "Name: scanpy\n",
            "Version: 1.10.4\n",
            "Summary: Single-Cell Analysis in Python.\n",
            "Home-page: \n",
            "Author: Alex Wolf, Philipp Angerer, Fidel Ramirez, Isaac Virshup, Sergei Rybakov, Gokcen Eraslan, Tom White, Malte Luecken, Davide Cittaro, Tobias Callies, Marius Lange, Andrés R. Muñoz-Rojas\n",
            "Author-email: \n",
            "License: \n",
            "Location: /usr/local/lib/python3.10/site-packages\n",
            "Requires: anndata, h5py, joblib, legacy-api-wrap, matplotlib, natsort, networkx, numba, numpy, packaging, pandas, patsy, pynndescent, scikit-learn, scipy, seaborn, session-info, statsmodels, tqdm, umap-learn\n",
            "Required-by: \n"
          ]
        }
      ],
      "id": "rkvTEjpw_csS"
    },
    {
      "cell_type": "code",
      "execution_count": 17,
      "metadata": {
        "id": "4e15629f-bdc4-46dd-8375-a1f2e17960ca"
      },
      "outputs": [],
      "source": [
        "import numpy as np"
      ],
      "id": "4e15629f-bdc4-46dd-8375-a1f2e17960ca"
    },
    {
      "cell_type": "code",
      "execution_count": 18,
      "metadata": {
        "id": "37ff51dc-8860-4ab6-ab44-8223b33ea879"
      },
      "outputs": [],
      "source": [
        "import anndata as ad"
      ],
      "id": "37ff51dc-8860-4ab6-ab44-8223b33ea879"
    },
    {
      "source": [
        "!pip install diffxpy -q"
      ],
      "cell_type": "code",
      "metadata": {
        "id": "V4DX7Y0t1K1S"
      },
      "execution_count": 19,
      "outputs": [],
      "id": "V4DX7Y0t1K1S"
    },
    {
      "cell_type": "code",
      "source": [
        "!pip install --user scikit-misc -q"
      ],
      "metadata": {
        "id": "f5ImFdAUNvqP"
      },
      "id": "f5ImFdAUNvqP",
      "execution_count": 20,
      "outputs": []
    },
    {
      "cell_type": "code",
      "source": [
        "import diffxpy.api as de"
      ],
      "metadata": {
        "id": "yb2ApyZm9Bfz"
      },
      "execution_count": 21,
      "outputs": [],
      "id": "yb2ApyZm9Bfz"
    },
    {
      "cell_type": "code",
      "execution_count": 22,
      "metadata": {
        "id": "f54f07e0-84cc-4ab9-a156-ea8467a76fc4"
      },
      "outputs": [],
      "source": [
        "import matplotlib.pyplot as plt"
      ],
      "id": "f54f07e0-84cc-4ab9-a156-ea8467a76fc4"
    },
    {
      "source": [
        "import seaborn as sns"
      ],
      "cell_type": "code",
      "metadata": {
        "id": "jIEyfb4NApUa"
      },
      "execution_count": 23,
      "outputs": [],
      "id": "jIEyfb4NApUa"
    },
    {
      "cell_type": "code",
      "execution_count": 24,
      "metadata": {
        "id": "dfc626e2-9a64-4f0f-8677-1da6e446ea3a"
      },
      "outputs": [],
      "source": [
        "import plotly.subplots as sp\n",
        "import plotly.graph_objects as go"
      ],
      "id": "dfc626e2-9a64-4f0f-8677-1da6e446ea3a"
    },
    {
      "cell_type": "code",
      "execution_count": 25,
      "metadata": {
        "id": "ffa7a645-c56a-4d94-af04-6869e008ca12"
      },
      "outputs": [],
      "source": [
        "from scipy import stats"
      ],
      "id": "ffa7a645-c56a-4d94-af04-6869e008ca12"
    },
    {
      "cell_type": "code",
      "source": [
        "import pandas as pd"
      ],
      "metadata": {
        "id": "WB1NBeEal4uQ"
      },
      "id": "WB1NBeEal4uQ",
      "execution_count": 26,
      "outputs": []
    },
    {
      "cell_type": "markdown",
      "id": "43f56d4f-c4ec-496e-96bd-6645365df65c",
      "metadata": {
        "id": "43f56d4f-c4ec-496e-96bd-6645365df65c"
      },
      "source": [
        "# Import reads from google drive, three samples treated with energy metabolism inhibitors and one untreated"
      ]
    },
    {
      "cell_type": "code",
      "source": [
        "from google.colab import drive\n",
        "drive.mount('/content/drive')"
      ],
      "metadata": {
        "colab": {
          "base_uri": "https://localhost:8080/"
        },
        "id": "BpK5P48ACJOW",
        "outputId": "12a698ed-efd8-4913-a620-ad53e5b9e7de"
      },
      "id": "BpK5P48ACJOW",
      "execution_count": 27,
      "outputs": [
        {
          "output_type": "stream",
          "name": "stdout",
          "text": [
            "Drive already mounted at /content/drive; to attempt to forcibly remount, call drive.mount(\"/content/drive\", force_remount=True).\n"
          ]
        }
      ]
    },
    {
      "cell_type": "code",
      "execution_count": 28,
      "id": "be1662ba-006c-4be4-9858-70480fa51fe3",
      "metadata": {
        "id": "be1662ba-006c-4be4-9858-70480fa51fe3",
        "colab": {
          "base_uri": "https://localhost:8080/"
        },
        "outputId": "c723f67a-a429-48c4-ea73-c58a07aab2b0"
      },
      "outputs": [
        {
          "output_type": "stream",
          "name": "stderr",
          "text": [
            "/usr/local/lib/python3.10/site-packages/anndata/_core/anndata.py:1754: UserWarning: Observation names are not unique. To make them unique, call `.obs_names_make_unique`.\n",
            "  utils.warn_names_duplicates(\"obs\")\n"
          ]
        }
      ],
      "source": [
        "#Load AD matrix from google drive, PCA and Batch corrected\n",
        "adata_concat = sc.read_h5ad('/content/drive/MyDrive/Colab Notebooks/MTXmerged_PCA_BC.h5ad')"
      ]
    },
    {
      "cell_type": "markdown",
      "source": [
        "# Make observation names unique\n",
        "\n"
      ],
      "metadata": {
        "id": "32DJSCEh2l5D"
      },
      "id": "32DJSCEh2l5D"
    },
    {
      "cell_type": "code",
      "source": [
        "adata_concat"
      ],
      "metadata": {
        "id": "KEu2Aixq97tb",
        "colab": {
          "base_uri": "https://localhost:8080/"
        },
        "outputId": "55698d37-9c45-4919-9212-541f4bbc5982"
      },
      "id": "KEu2Aixq97tb",
      "execution_count": 29,
      "outputs": [
        {
          "output_type": "execute_result",
          "data": {
            "text/plain": [
              "AnnData object with n_obs × n_vars = 21361 × 53017\n",
              "    obs: 'n_fragment', 'frac_dup', 'frac_mito', 'tsse', 'doublet_probability', 'doublet_score', 'leiden', 'Treatment'\n",
              "    uns: 'pca'\n",
              "    obsm: 'X_pca', 'X_pca_harmony', 'X_umap'\n",
              "    varm: 'PCs'"
            ]
          },
          "metadata": {},
          "execution_count": 29
        }
      ]
    },
    {
      "source": [
        "# Check if any gene names are duplicated\n",
        "has_duplicates = adata_concat.var_names.duplicated().any()\n",
        "\n",
        "if has_duplicates:\n",
        "    print(\"var_names are not unique.\")\n",
        "else:\n",
        "    print(\"var_names are unique.\")"
      ],
      "cell_type": "code",
      "metadata": {
        "colab": {
          "base_uri": "https://localhost:8080/"
        },
        "id": "kh9tMDcXl_9k",
        "outputId": "8f43076f-95b5-4ac1-83a2-a86280982c39"
      },
      "id": "kh9tMDcXl_9k",
      "execution_count": 30,
      "outputs": [
        {
          "output_type": "stream",
          "name": "stdout",
          "text": [
            "var_names are unique.\n"
          ]
        }
      ]
    },
    {
      "source": [
        "# Check if the number of unique gene names is equal to the total number of gene names\n",
        "is_unique = len(adata_concat.var_names) == pd.Series(adata_concat.var_names).nunique()\n",
        "\n",
        "if is_unique:\n",
        "    print(\"var_names are unique.\")\n",
        "else:\n",
        "    print(\"var_names are not unique.\")"
      ],
      "cell_type": "code",
      "metadata": {
        "colab": {
          "base_uri": "https://localhost:8080/"
        },
        "id": "Q4tthAC-luAg",
        "outputId": "a64cb63c-b876-40d9-f9b1-c92672e4a011"
      },
      "id": "Q4tthAC-luAg",
      "execution_count": 31,
      "outputs": [
        {
          "output_type": "stream",
          "name": "stdout",
          "text": [
            "var_names are unique.\n"
          ]
        }
      ]
    },
    {
      "source": [
        "# Check if any observations are duplicated\n",
        "has_duplicates = adata_concat.obs_names.duplicated().any()\n",
        "\n",
        "if has_duplicates:\n",
        "    print(\"Observations are not unique.\")\n",
        "else:\n",
        "    print(\"Observations are unique.\")"
      ],
      "cell_type": "code",
      "metadata": {
        "colab": {
          "base_uri": "https://localhost:8080/"
        },
        "id": "TshptTfSm-3g",
        "outputId": "c1f7a60c-1ce0-4e74-d745-92c77254fa1e"
      },
      "id": "TshptTfSm-3g",
      "execution_count": 32,
      "outputs": [
        {
          "output_type": "stream",
          "name": "stdout",
          "text": [
            "Observations are not unique.\n"
          ]
        }
      ]
    },
    {
      "source": [
        "# Check if the number of unique observations is equal to the total number of observations\n",
        "is_unique = len(adata_concat.obs_names) == pd.Series(adata_concat.obs_names).nunique()\n",
        "\n",
        "if is_unique:\n",
        "    print(\"Observations are unique.\")\n",
        "else:\n",
        "    print(\"Observations are not unique.\")"
      ],
      "cell_type": "code",
      "metadata": {
        "colab": {
          "base_uri": "https://localhost:8080/"
        },
        "id": "w0FEiyEIm9GP",
        "outputId": "0a80ef36-25d5-49f9-c7cf-d3afa78b8916"
      },
      "id": "w0FEiyEIm9GP",
      "execution_count": 33,
      "outputs": [
        {
          "output_type": "stream",
          "name": "stdout",
          "text": [
            "Observations are not unique.\n"
          ]
        }
      ]
    },
    {
      "cell_type": "code",
      "source": [
        "adata_concat.var_names"
      ],
      "metadata": {
        "colab": {
          "base_uri": "https://localhost:8080/"
        },
        "id": "5kpwCghN3xTE",
        "outputId": "27234622-be2a-47f5-e47a-f71c272ef87f"
      },
      "id": "5kpwCghN3xTE",
      "execution_count": 34,
      "outputs": [
        {
          "output_type": "execute_result",
          "data": {
            "text/plain": [
              "Index(['DDX11L1', 'WASH7P', 'ENSG00000238009', 'ENSG00000239945', 'DDX11L17',\n",
              "       'WASH9P', 'ENSG00000228463', 'ENSG00000286448', 'U6', 'ENSG00000230021',\n",
              "       ...\n",
              "       'MT-ND4', 'MT-TH', 'MT-TS2', 'MT-TL2', 'MT-ND5', 'MT-ND6', 'MT-TE',\n",
              "       'MT-CYB', 'MT-TT', 'MT-TP'],\n",
              "      dtype='object', length=53017)"
            ]
          },
          "metadata": {},
          "execution_count": 34
        }
      ]
    },
    {
      "source": [
        "#Create unique observation names\n",
        "experiment_names = [\"Treated w/AOA\", \"Treated w/DON\", \"Treated w/DG\", \"Untreated\"]\n",
        "\n",
        "# Create a new column to store combined barcode and treatment information\n",
        "adata_concat.obs['barcode_treatment'] = adata_concat.obs_names.astype(str)\n",
        "\n",
        "# Modify the 'barcode_treatment' column\n",
        "for i, treatment in enumerate(experiment_names):\n",
        "    cell_indices = adata_concat.obs.index[adata_concat.obs[\"Treatment\"] == treatment]\n",
        "    adata_concat.obs.loc[cell_indices, 'barcode_treatment'] = adata_concat.obs.loc[cell_indices, 'barcode_treatment'] + \"_\" + str(i + 1)"
      ],
      "cell_type": "code",
      "metadata": {
        "id": "l0OatC7q5nG1"
      },
      "id": "l0OatC7q5nG1",
      "execution_count": 35,
      "outputs": []
    },
    {
      "cell_type": "code",
      "source": [
        "#Set 'barcode_treatment' as the new index:\n",
        "adata_concat.obs_names = pd.Index(adata_concat.obs['barcode_treatment'])"
      ],
      "metadata": {
        "id": "5BTwEPgN6kYC"
      },
      "id": "5BTwEPgN6kYC",
      "execution_count": 36,
      "outputs": []
    },
    {
      "cell_type": "code",
      "source": [
        "adata_concat.obs"
      ],
      "metadata": {
        "colab": {
          "base_uri": "https://localhost:8080/",
          "height": 455
        },
        "id": "b6I9wzOsk50y",
        "outputId": "2695dfb0-9f6f-48c8-8623-7f6ce2dc3779"
      },
      "id": "b6I9wzOsk50y",
      "execution_count": 37,
      "outputs": [
        {
          "output_type": "execute_result",
          "data": {
            "text/plain": [
              "                    n_fragment  frac_dup  frac_mito       tsse  \\\n",
              "barcode_treatment                                                \n",
              "AAACAACGAACGAGCA_1       20919  0.502426   0.000096  25.061425   \n",
              "AAACAACGAAGAGGCT_1       13308  0.488184   0.000826  23.198793   \n",
              "AAACAACGAAGTCGGA_1       17302  0.502830   0.000058  18.234291   \n",
              "AAACAACGAGAAGGCT_1       14109  0.530246   0.000071  29.930591   \n",
              "AAACAACGAGTACGTT_1       12165  0.588867   0.000000  21.409091   \n",
              "...                        ...       ...        ...        ...   \n",
              "TTTGGGATGAACGTAA_4       33918  0.336626   0.001766  18.594706   \n",
              "TTTGGGATGAAGTCTC_4       25630  0.307834   0.000117  15.581623   \n",
              "TTTGGGATGATGTGGG_4       28438  0.336774   0.001019  19.425019   \n",
              "TTTGGGATGCTCACGG_4       20103  0.336676   0.000149  26.203209   \n",
              "TTTGGGATGCTCTGGG_4       33912  0.327788   0.000943  19.538670   \n",
              "\n",
              "                    doublet_probability  doublet_score leiden      Treatment  \\\n",
              "barcode_treatment                                                              \n",
              "AAACAACGAACGAGCA_1             0.052336       0.047059      7  Treated w/AOA   \n",
              "AAACAACGAAGAGGCT_1             0.066163       0.009174      4  Treated w/AOA   \n",
              "AAACAACGAAGTCGGA_1             0.061446       0.015294      5  Treated w/AOA   \n",
              "AAACAACGAGAAGGCT_1             0.070621       0.004525      0  Treated w/AOA   \n",
              "AAACAACGAGTACGTT_1             0.062457       0.013841      7  Treated w/AOA   \n",
              "...                                 ...            ...    ...            ...   \n",
              "TTTGGGATGAACGTAA_4             0.185808       0.043189      1      Untreated   \n",
              "TTTGGGATGAAGTCTC_4             0.221046       0.025360      7      Untreated   \n",
              "TTTGGGATGATGTGGG_4             0.189493       0.040388      0      Untreated   \n",
              "TTTGGGATGCTCACGG_4             0.265871       0.012835      4      Untreated   \n",
              "TTTGGGATGCTCTGGG_4             0.181155       0.047702      1      Untreated   \n",
              "\n",
              "                     barcode_treatment  \n",
              "barcode_treatment                       \n",
              "AAACAACGAACGAGCA_1  AAACAACGAACGAGCA_1  \n",
              "AAACAACGAAGAGGCT_1  AAACAACGAAGAGGCT_1  \n",
              "AAACAACGAAGTCGGA_1  AAACAACGAAGTCGGA_1  \n",
              "AAACAACGAGAAGGCT_1  AAACAACGAGAAGGCT_1  \n",
              "AAACAACGAGTACGTT_1  AAACAACGAGTACGTT_1  \n",
              "...                                ...  \n",
              "TTTGGGATGAACGTAA_4  TTTGGGATGAACGTAA_4  \n",
              "TTTGGGATGAAGTCTC_4  TTTGGGATGAAGTCTC_4  \n",
              "TTTGGGATGATGTGGG_4  TTTGGGATGATGTGGG_4  \n",
              "TTTGGGATGCTCACGG_4  TTTGGGATGCTCACGG_4  \n",
              "TTTGGGATGCTCTGGG_4  TTTGGGATGCTCTGGG_4  \n",
              "\n",
              "[21361 rows x 9 columns]"
            ],
            "text/html": [
              "\n",
              "  <div id=\"df-1fe2fb1a-1fc8-44cc-a71a-f6270bdee482\" class=\"colab-df-container\">\n",
              "    <div>\n",
              "<style scoped>\n",
              "    .dataframe tbody tr th:only-of-type {\n",
              "        vertical-align: middle;\n",
              "    }\n",
              "\n",
              "    .dataframe tbody tr th {\n",
              "        vertical-align: top;\n",
              "    }\n",
              "\n",
              "    .dataframe thead th {\n",
              "        text-align: right;\n",
              "    }\n",
              "</style>\n",
              "<table border=\"1\" class=\"dataframe\">\n",
              "  <thead>\n",
              "    <tr style=\"text-align: right;\">\n",
              "      <th></th>\n",
              "      <th>n_fragment</th>\n",
              "      <th>frac_dup</th>\n",
              "      <th>frac_mito</th>\n",
              "      <th>tsse</th>\n",
              "      <th>doublet_probability</th>\n",
              "      <th>doublet_score</th>\n",
              "      <th>leiden</th>\n",
              "      <th>Treatment</th>\n",
              "      <th>barcode_treatment</th>\n",
              "    </tr>\n",
              "    <tr>\n",
              "      <th>barcode_treatment</th>\n",
              "      <th></th>\n",
              "      <th></th>\n",
              "      <th></th>\n",
              "      <th></th>\n",
              "      <th></th>\n",
              "      <th></th>\n",
              "      <th></th>\n",
              "      <th></th>\n",
              "      <th></th>\n",
              "    </tr>\n",
              "  </thead>\n",
              "  <tbody>\n",
              "    <tr>\n",
              "      <th>AAACAACGAACGAGCA_1</th>\n",
              "      <td>20919</td>\n",
              "      <td>0.502426</td>\n",
              "      <td>0.000096</td>\n",
              "      <td>25.061425</td>\n",
              "      <td>0.052336</td>\n",
              "      <td>0.047059</td>\n",
              "      <td>7</td>\n",
              "      <td>Treated w/AOA</td>\n",
              "      <td>AAACAACGAACGAGCA_1</td>\n",
              "    </tr>\n",
              "    <tr>\n",
              "      <th>AAACAACGAAGAGGCT_1</th>\n",
              "      <td>13308</td>\n",
              "      <td>0.488184</td>\n",
              "      <td>0.000826</td>\n",
              "      <td>23.198793</td>\n",
              "      <td>0.066163</td>\n",
              "      <td>0.009174</td>\n",
              "      <td>4</td>\n",
              "      <td>Treated w/AOA</td>\n",
              "      <td>AAACAACGAAGAGGCT_1</td>\n",
              "    </tr>\n",
              "    <tr>\n",
              "      <th>AAACAACGAAGTCGGA_1</th>\n",
              "      <td>17302</td>\n",
              "      <td>0.502830</td>\n",
              "      <td>0.000058</td>\n",
              "      <td>18.234291</td>\n",
              "      <td>0.061446</td>\n",
              "      <td>0.015294</td>\n",
              "      <td>5</td>\n",
              "      <td>Treated w/AOA</td>\n",
              "      <td>AAACAACGAAGTCGGA_1</td>\n",
              "    </tr>\n",
              "    <tr>\n",
              "      <th>AAACAACGAGAAGGCT_1</th>\n",
              "      <td>14109</td>\n",
              "      <td>0.530246</td>\n",
              "      <td>0.000071</td>\n",
              "      <td>29.930591</td>\n",
              "      <td>0.070621</td>\n",
              "      <td>0.004525</td>\n",
              "      <td>0</td>\n",
              "      <td>Treated w/AOA</td>\n",
              "      <td>AAACAACGAGAAGGCT_1</td>\n",
              "    </tr>\n",
              "    <tr>\n",
              "      <th>AAACAACGAGTACGTT_1</th>\n",
              "      <td>12165</td>\n",
              "      <td>0.588867</td>\n",
              "      <td>0.000000</td>\n",
              "      <td>21.409091</td>\n",
              "      <td>0.062457</td>\n",
              "      <td>0.013841</td>\n",
              "      <td>7</td>\n",
              "      <td>Treated w/AOA</td>\n",
              "      <td>AAACAACGAGTACGTT_1</td>\n",
              "    </tr>\n",
              "    <tr>\n",
              "      <th>...</th>\n",
              "      <td>...</td>\n",
              "      <td>...</td>\n",
              "      <td>...</td>\n",
              "      <td>...</td>\n",
              "      <td>...</td>\n",
              "      <td>...</td>\n",
              "      <td>...</td>\n",
              "      <td>...</td>\n",
              "      <td>...</td>\n",
              "    </tr>\n",
              "    <tr>\n",
              "      <th>TTTGGGATGAACGTAA_4</th>\n",
              "      <td>33918</td>\n",
              "      <td>0.336626</td>\n",
              "      <td>0.001766</td>\n",
              "      <td>18.594706</td>\n",
              "      <td>0.185808</td>\n",
              "      <td>0.043189</td>\n",
              "      <td>1</td>\n",
              "      <td>Untreated</td>\n",
              "      <td>TTTGGGATGAACGTAA_4</td>\n",
              "    </tr>\n",
              "    <tr>\n",
              "      <th>TTTGGGATGAAGTCTC_4</th>\n",
              "      <td>25630</td>\n",
              "      <td>0.307834</td>\n",
              "      <td>0.000117</td>\n",
              "      <td>15.581623</td>\n",
              "      <td>0.221046</td>\n",
              "      <td>0.025360</td>\n",
              "      <td>7</td>\n",
              "      <td>Untreated</td>\n",
              "      <td>TTTGGGATGAAGTCTC_4</td>\n",
              "    </tr>\n",
              "    <tr>\n",
              "      <th>TTTGGGATGATGTGGG_4</th>\n",
              "      <td>28438</td>\n",
              "      <td>0.336774</td>\n",
              "      <td>0.001019</td>\n",
              "      <td>19.425019</td>\n",
              "      <td>0.189493</td>\n",
              "      <td>0.040388</td>\n",
              "      <td>0</td>\n",
              "      <td>Untreated</td>\n",
              "      <td>TTTGGGATGATGTGGG_4</td>\n",
              "    </tr>\n",
              "    <tr>\n",
              "      <th>TTTGGGATGCTCACGG_4</th>\n",
              "      <td>20103</td>\n",
              "      <td>0.336676</td>\n",
              "      <td>0.000149</td>\n",
              "      <td>26.203209</td>\n",
              "      <td>0.265871</td>\n",
              "      <td>0.012835</td>\n",
              "      <td>4</td>\n",
              "      <td>Untreated</td>\n",
              "      <td>TTTGGGATGCTCACGG_4</td>\n",
              "    </tr>\n",
              "    <tr>\n",
              "      <th>TTTGGGATGCTCTGGG_4</th>\n",
              "      <td>33912</td>\n",
              "      <td>0.327788</td>\n",
              "      <td>0.000943</td>\n",
              "      <td>19.538670</td>\n",
              "      <td>0.181155</td>\n",
              "      <td>0.047702</td>\n",
              "      <td>1</td>\n",
              "      <td>Untreated</td>\n",
              "      <td>TTTGGGATGCTCTGGG_4</td>\n",
              "    </tr>\n",
              "  </tbody>\n",
              "</table>\n",
              "<p>21361 rows × 9 columns</p>\n",
              "</div>\n",
              "    <div class=\"colab-df-buttons\">\n",
              "\n",
              "  <div class=\"colab-df-container\">\n",
              "    <button class=\"colab-df-convert\" onclick=\"convertToInteractive('df-1fe2fb1a-1fc8-44cc-a71a-f6270bdee482')\"\n",
              "            title=\"Convert this dataframe to an interactive table.\"\n",
              "            style=\"display:none;\">\n",
              "\n",
              "  <svg xmlns=\"http://www.w3.org/2000/svg\" height=\"24px\" viewBox=\"0 -960 960 960\">\n",
              "    <path d=\"M120-120v-720h720v720H120Zm60-500h600v-160H180v160Zm220 220h160v-160H400v160Zm0 220h160v-160H400v160ZM180-400h160v-160H180v160Zm440 0h160v-160H620v160ZM180-180h160v-160H180v160Zm440 0h160v-160H620v160Z\"/>\n",
              "  </svg>\n",
              "    </button>\n",
              "\n",
              "  <style>\n",
              "    .colab-df-container {\n",
              "      display:flex;\n",
              "      gap: 12px;\n",
              "    }\n",
              "\n",
              "    .colab-df-convert {\n",
              "      background-color: #E8F0FE;\n",
              "      border: none;\n",
              "      border-radius: 50%;\n",
              "      cursor: pointer;\n",
              "      display: none;\n",
              "      fill: #1967D2;\n",
              "      height: 32px;\n",
              "      padding: 0 0 0 0;\n",
              "      width: 32px;\n",
              "    }\n",
              "\n",
              "    .colab-df-convert:hover {\n",
              "      background-color: #E2EBFA;\n",
              "      box-shadow: 0px 1px 2px rgba(60, 64, 67, 0.3), 0px 1px 3px 1px rgba(60, 64, 67, 0.15);\n",
              "      fill: #174EA6;\n",
              "    }\n",
              "\n",
              "    .colab-df-buttons div {\n",
              "      margin-bottom: 4px;\n",
              "    }\n",
              "\n",
              "    [theme=dark] .colab-df-convert {\n",
              "      background-color: #3B4455;\n",
              "      fill: #D2E3FC;\n",
              "    }\n",
              "\n",
              "    [theme=dark] .colab-df-convert:hover {\n",
              "      background-color: #434B5C;\n",
              "      box-shadow: 0px 1px 3px 1px rgba(0, 0, 0, 0.15);\n",
              "      filter: drop-shadow(0px 1px 2px rgba(0, 0, 0, 0.3));\n",
              "      fill: #FFFFFF;\n",
              "    }\n",
              "  </style>\n",
              "\n",
              "    <script>\n",
              "      const buttonEl =\n",
              "        document.querySelector('#df-1fe2fb1a-1fc8-44cc-a71a-f6270bdee482 button.colab-df-convert');\n",
              "      buttonEl.style.display =\n",
              "        google.colab.kernel.accessAllowed ? 'block' : 'none';\n",
              "\n",
              "      async function convertToInteractive(key) {\n",
              "        const element = document.querySelector('#df-1fe2fb1a-1fc8-44cc-a71a-f6270bdee482');\n",
              "        const dataTable =\n",
              "          await google.colab.kernel.invokeFunction('convertToInteractive',\n",
              "                                                    [key], {});\n",
              "        if (!dataTable) return;\n",
              "\n",
              "        const docLinkHtml = 'Like what you see? Visit the ' +\n",
              "          '<a target=\"_blank\" href=https://colab.research.google.com/notebooks/data_table.ipynb>data table notebook</a>'\n",
              "          + ' to learn more about interactive tables.';\n",
              "        element.innerHTML = '';\n",
              "        dataTable['output_type'] = 'display_data';\n",
              "        await google.colab.output.renderOutput(dataTable, element);\n",
              "        const docLink = document.createElement('div');\n",
              "        docLink.innerHTML = docLinkHtml;\n",
              "        element.appendChild(docLink);\n",
              "      }\n",
              "    </script>\n",
              "  </div>\n",
              "\n",
              "\n",
              "<div id=\"df-0ebba33e-9792-4f81-a16c-bf19f58d6efa\">\n",
              "  <button class=\"colab-df-quickchart\" onclick=\"quickchart('df-0ebba33e-9792-4f81-a16c-bf19f58d6efa')\"\n",
              "            title=\"Suggest charts\"\n",
              "            style=\"display:none;\">\n",
              "\n",
              "<svg xmlns=\"http://www.w3.org/2000/svg\" height=\"24px\"viewBox=\"0 0 24 24\"\n",
              "     width=\"24px\">\n",
              "    <g>\n",
              "        <path d=\"M19 3H5c-1.1 0-2 .9-2 2v14c0 1.1.9 2 2 2h14c1.1 0 2-.9 2-2V5c0-1.1-.9-2-2-2zM9 17H7v-7h2v7zm4 0h-2V7h2v10zm4 0h-2v-4h2v4z\"/>\n",
              "    </g>\n",
              "</svg>\n",
              "  </button>\n",
              "\n",
              "<style>\n",
              "  .colab-df-quickchart {\n",
              "      --bg-color: #E8F0FE;\n",
              "      --fill-color: #1967D2;\n",
              "      --hover-bg-color: #E2EBFA;\n",
              "      --hover-fill-color: #174EA6;\n",
              "      --disabled-fill-color: #AAA;\n",
              "      --disabled-bg-color: #DDD;\n",
              "  }\n",
              "\n",
              "  [theme=dark] .colab-df-quickchart {\n",
              "      --bg-color: #3B4455;\n",
              "      --fill-color: #D2E3FC;\n",
              "      --hover-bg-color: #434B5C;\n",
              "      --hover-fill-color: #FFFFFF;\n",
              "      --disabled-bg-color: #3B4455;\n",
              "      --disabled-fill-color: #666;\n",
              "  }\n",
              "\n",
              "  .colab-df-quickchart {\n",
              "    background-color: var(--bg-color);\n",
              "    border: none;\n",
              "    border-radius: 50%;\n",
              "    cursor: pointer;\n",
              "    display: none;\n",
              "    fill: var(--fill-color);\n",
              "    height: 32px;\n",
              "    padding: 0;\n",
              "    width: 32px;\n",
              "  }\n",
              "\n",
              "  .colab-df-quickchart:hover {\n",
              "    background-color: var(--hover-bg-color);\n",
              "    box-shadow: 0 1px 2px rgba(60, 64, 67, 0.3), 0 1px 3px 1px rgba(60, 64, 67, 0.15);\n",
              "    fill: var(--button-hover-fill-color);\n",
              "  }\n",
              "\n",
              "  .colab-df-quickchart-complete:disabled,\n",
              "  .colab-df-quickchart-complete:disabled:hover {\n",
              "    background-color: var(--disabled-bg-color);\n",
              "    fill: var(--disabled-fill-color);\n",
              "    box-shadow: none;\n",
              "  }\n",
              "\n",
              "  .colab-df-spinner {\n",
              "    border: 2px solid var(--fill-color);\n",
              "    border-color: transparent;\n",
              "    border-bottom-color: var(--fill-color);\n",
              "    animation:\n",
              "      spin 1s steps(1) infinite;\n",
              "  }\n",
              "\n",
              "  @keyframes spin {\n",
              "    0% {\n",
              "      border-color: transparent;\n",
              "      border-bottom-color: var(--fill-color);\n",
              "      border-left-color: var(--fill-color);\n",
              "    }\n",
              "    20% {\n",
              "      border-color: transparent;\n",
              "      border-left-color: var(--fill-color);\n",
              "      border-top-color: var(--fill-color);\n",
              "    }\n",
              "    30% {\n",
              "      border-color: transparent;\n",
              "      border-left-color: var(--fill-color);\n",
              "      border-top-color: var(--fill-color);\n",
              "      border-right-color: var(--fill-color);\n",
              "    }\n",
              "    40% {\n",
              "      border-color: transparent;\n",
              "      border-right-color: var(--fill-color);\n",
              "      border-top-color: var(--fill-color);\n",
              "    }\n",
              "    60% {\n",
              "      border-color: transparent;\n",
              "      border-right-color: var(--fill-color);\n",
              "    }\n",
              "    80% {\n",
              "      border-color: transparent;\n",
              "      border-right-color: var(--fill-color);\n",
              "      border-bottom-color: var(--fill-color);\n",
              "    }\n",
              "    90% {\n",
              "      border-color: transparent;\n",
              "      border-bottom-color: var(--fill-color);\n",
              "    }\n",
              "  }\n",
              "</style>\n",
              "\n",
              "  <script>\n",
              "    async function quickchart(key) {\n",
              "      const quickchartButtonEl =\n",
              "        document.querySelector('#' + key + ' button');\n",
              "      quickchartButtonEl.disabled = true;  // To prevent multiple clicks.\n",
              "      quickchartButtonEl.classList.add('colab-df-spinner');\n",
              "      try {\n",
              "        const charts = await google.colab.kernel.invokeFunction(\n",
              "            'suggestCharts', [key], {});\n",
              "      } catch (error) {\n",
              "        console.error('Error during call to suggestCharts:', error);\n",
              "      }\n",
              "      quickchartButtonEl.classList.remove('colab-df-spinner');\n",
              "      quickchartButtonEl.classList.add('colab-df-quickchart-complete');\n",
              "    }\n",
              "    (() => {\n",
              "      let quickchartButtonEl =\n",
              "        document.querySelector('#df-0ebba33e-9792-4f81-a16c-bf19f58d6efa button');\n",
              "      quickchartButtonEl.style.display =\n",
              "        google.colab.kernel.accessAllowed ? 'block' : 'none';\n",
              "    })();\n",
              "  </script>\n",
              "</div>\n",
              "\n",
              "    </div>\n",
              "  </div>\n"
            ],
            "application/vnd.google.colaboratory.intrinsic+json": {
              "type": "dataframe",
              "repr_error": "cannot insert barcode_treatment, already exists"
            }
          },
          "metadata": {},
          "execution_count": 37
        }
      ]
    },
    {
      "cell_type": "markdown",
      "source": [
        "# Differential accessibility analysis using diffxpy"
      ],
      "metadata": {
        "id": "dTGOQibDKLLX"
      },
      "id": "dTGOQibDKLLX"
    },
    {
      "cell_type": "code",
      "source": [
        "#numpy type aliases\n",
        "np.float = float\n",
        "np.int = int   #module 'numpy' has no attribute 'int'\n",
        "np.object = object    #module 'numpy' has no attribute 'object'\n",
        "np.bool = bool    #module 'numpy' has no attribute 'bool'"
      ],
      "metadata": {
        "id": "QkYcsillINBn"
      },
      "execution_count": 38,
      "outputs": [],
      "id": "QkYcsillINBn"
    },
    {
      "cell_type": "code",
      "source": [
        "import dask.array as da"
      ],
      "metadata": {
        "id": "5SUGhoHaJfZz"
      },
      "id": "5SUGhoHaJfZz",
      "execution_count": 39,
      "outputs": []
    },
    {
      "cell_type": "code",
      "source": [
        "import scipy.sparse as sparse"
      ],
      "metadata": {
        "id": "5LO8Ev-uEXfy"
      },
      "id": "5LO8Ev-uEXfy",
      "execution_count": 40,
      "outputs": []
    },
    {
      "cell_type": "code",
      "source": [
        "adata_concat"
      ],
      "metadata": {
        "colab": {
          "base_uri": "https://localhost:8080/"
        },
        "id": "43XkaK1f3oRC",
        "outputId": "a80b2f15-8772-4a0c-9e32-f078bc78a972"
      },
      "id": "43XkaK1f3oRC",
      "execution_count": 41,
      "outputs": [
        {
          "output_type": "execute_result",
          "data": {
            "text/plain": [
              "AnnData object with n_obs × n_vars = 21361 × 53017\n",
              "    obs: 'n_fragment', 'frac_dup', 'frac_mito', 'tsse', 'doublet_probability', 'doublet_score', 'leiden', 'Treatment', 'barcode_treatment'\n",
              "    uns: 'pca'\n",
              "    obsm: 'X_pca', 'X_pca_harmony', 'X_umap'\n",
              "    varm: 'PCs'"
            ]
          },
          "metadata": {},
          "execution_count": 41
        }
      ]
    },
    {
      "cell_type": "markdown",
      "source": [
        "# Run diffxpy wald test"
      ],
      "metadata": {
        "id": "1065sP5b72y1"
      },
      "id": "1065sP5b72y1"
    },
    {
      "source": [
        "# Calculate highly variable features\n",
        "sc.pp.highly_variable_genes(adata_concat, flavor='seurat_v3')"
      ],
      "cell_type": "code",
      "metadata": {
        "colab": {
          "base_uri": "https://localhost:8080/"
        },
        "id": "ucx0v5FYNhT3",
        "outputId": "0095fa95-e91e-4269-e192-513674ad924c"
      },
      "id": "ucx0v5FYNhT3",
      "execution_count": 50,
      "outputs": [
        {
          "output_type": "stream",
          "name": "stderr",
          "text": [
            "/usr/local/lib/python3.10/site-packages/scanpy/preprocessing/_highly_variable_genes.py:75: UserWarning: `flavor='seurat_v3'` expects raw count data, but non-integers were found.\n",
            "  warnings.warn(\n"
          ]
        }
      ]
    },
    {
      "cell_type": "code",
      "source": [
        "adata_concat.var"
      ],
      "metadata": {
        "colab": {
          "base_uri": "https://localhost:8080/",
          "height": 423
        },
        "id": "AGtGJBTyQogA",
        "outputId": "8377ce92-cff6-4304-ae81-ccf2b7642ff3"
      },
      "id": "AGtGJBTyQogA",
      "execution_count": 51,
      "outputs": [
        {
          "output_type": "execute_result",
          "data": {
            "text/plain": [
              "                 highly_variable     means  dispersions  dispersions_norm  \\\n",
              "DDX11L1                    False  0.002269    -6.484691         -1.084384   \n",
              "WASH7P                     False  0.005622    -6.147649         -0.743897   \n",
              "ENSG00000238009            False  0.004414    -6.010874         -0.605724   \n",
              "ENSG00000239945            False  0.002132    -6.313170         -0.911110   \n",
              "DDX11L17                   False  0.010621    -5.558206         -0.148428   \n",
              "...                          ...       ...          ...               ...   \n",
              "MT-ND6                      True  0.940907     5.174172          1.608864   \n",
              "MT-TE                       True  0.833088     4.902095          3.318027   \n",
              "MT-CYB                      True  1.120541     5.500496          1.140987   \n",
              "MT-TT                       True  0.891921     4.948341          1.186624   \n",
              "MT-TP                       True  0.410390     3.335437         10.298771   \n",
              "\n",
              "                 highly_variable_rank  variances  variances_norm  \n",
              "DDX11L1                           NaN   0.000003        0.816448  \n",
              "WASH7P                            NaN   0.000012        0.763240  \n",
              "ENSG00000238009                   NaN   0.000011        0.999095  \n",
              "ENSG00000239945                   NaN   0.000004        0.994304  \n",
              "DDX11L17                          NaN   0.000040        0.904437  \n",
              "...                               ...        ...             ...  \n",
              "MT-ND6                           56.0   0.802492       20.113497  \n",
              "MT-TE                            45.0   0.726758       21.556057  \n",
              "MT-CYB                           64.0   0.910755       18.256744  \n",
              "MT-TT                            54.0   0.755453       20.361468  \n",
              "MT-TP                             9.0   0.385359       34.341962  \n",
              "\n",
              "[53017 rows x 7 columns]"
            ],
            "text/html": [
              "\n",
              "  <div id=\"df-a4a75f39-4971-4f1f-ad3c-7e202155029e\" class=\"colab-df-container\">\n",
              "    <div>\n",
              "<style scoped>\n",
              "    .dataframe tbody tr th:only-of-type {\n",
              "        vertical-align: middle;\n",
              "    }\n",
              "\n",
              "    .dataframe tbody tr th {\n",
              "        vertical-align: top;\n",
              "    }\n",
              "\n",
              "    .dataframe thead th {\n",
              "        text-align: right;\n",
              "    }\n",
              "</style>\n",
              "<table border=\"1\" class=\"dataframe\">\n",
              "  <thead>\n",
              "    <tr style=\"text-align: right;\">\n",
              "      <th></th>\n",
              "      <th>highly_variable</th>\n",
              "      <th>means</th>\n",
              "      <th>dispersions</th>\n",
              "      <th>dispersions_norm</th>\n",
              "      <th>highly_variable_rank</th>\n",
              "      <th>variances</th>\n",
              "      <th>variances_norm</th>\n",
              "    </tr>\n",
              "  </thead>\n",
              "  <tbody>\n",
              "    <tr>\n",
              "      <th>DDX11L1</th>\n",
              "      <td>False</td>\n",
              "      <td>0.002269</td>\n",
              "      <td>-6.484691</td>\n",
              "      <td>-1.084384</td>\n",
              "      <td>NaN</td>\n",
              "      <td>0.000003</td>\n",
              "      <td>0.816448</td>\n",
              "    </tr>\n",
              "    <tr>\n",
              "      <th>WASH7P</th>\n",
              "      <td>False</td>\n",
              "      <td>0.005622</td>\n",
              "      <td>-6.147649</td>\n",
              "      <td>-0.743897</td>\n",
              "      <td>NaN</td>\n",
              "      <td>0.000012</td>\n",
              "      <td>0.763240</td>\n",
              "    </tr>\n",
              "    <tr>\n",
              "      <th>ENSG00000238009</th>\n",
              "      <td>False</td>\n",
              "      <td>0.004414</td>\n",
              "      <td>-6.010874</td>\n",
              "      <td>-0.605724</td>\n",
              "      <td>NaN</td>\n",
              "      <td>0.000011</td>\n",
              "      <td>0.999095</td>\n",
              "    </tr>\n",
              "    <tr>\n",
              "      <th>ENSG00000239945</th>\n",
              "      <td>False</td>\n",
              "      <td>0.002132</td>\n",
              "      <td>-6.313170</td>\n",
              "      <td>-0.911110</td>\n",
              "      <td>NaN</td>\n",
              "      <td>0.000004</td>\n",
              "      <td>0.994304</td>\n",
              "    </tr>\n",
              "    <tr>\n",
              "      <th>DDX11L17</th>\n",
              "      <td>False</td>\n",
              "      <td>0.010621</td>\n",
              "      <td>-5.558206</td>\n",
              "      <td>-0.148428</td>\n",
              "      <td>NaN</td>\n",
              "      <td>0.000040</td>\n",
              "      <td>0.904437</td>\n",
              "    </tr>\n",
              "    <tr>\n",
              "      <th>...</th>\n",
              "      <td>...</td>\n",
              "      <td>...</td>\n",
              "      <td>...</td>\n",
              "      <td>...</td>\n",
              "      <td>...</td>\n",
              "      <td>...</td>\n",
              "      <td>...</td>\n",
              "    </tr>\n",
              "    <tr>\n",
              "      <th>MT-ND6</th>\n",
              "      <td>True</td>\n",
              "      <td>0.940907</td>\n",
              "      <td>5.174172</td>\n",
              "      <td>1.608864</td>\n",
              "      <td>56.0</td>\n",
              "      <td>0.802492</td>\n",
              "      <td>20.113497</td>\n",
              "    </tr>\n",
              "    <tr>\n",
              "      <th>MT-TE</th>\n",
              "      <td>True</td>\n",
              "      <td>0.833088</td>\n",
              "      <td>4.902095</td>\n",
              "      <td>3.318027</td>\n",
              "      <td>45.0</td>\n",
              "      <td>0.726758</td>\n",
              "      <td>21.556057</td>\n",
              "    </tr>\n",
              "    <tr>\n",
              "      <th>MT-CYB</th>\n",
              "      <td>True</td>\n",
              "      <td>1.120541</td>\n",
              "      <td>5.500496</td>\n",
              "      <td>1.140987</td>\n",
              "      <td>64.0</td>\n",
              "      <td>0.910755</td>\n",
              "      <td>18.256744</td>\n",
              "    </tr>\n",
              "    <tr>\n",
              "      <th>MT-TT</th>\n",
              "      <td>True</td>\n",
              "      <td>0.891921</td>\n",
              "      <td>4.948341</td>\n",
              "      <td>1.186624</td>\n",
              "      <td>54.0</td>\n",
              "      <td>0.755453</td>\n",
              "      <td>20.361468</td>\n",
              "    </tr>\n",
              "    <tr>\n",
              "      <th>MT-TP</th>\n",
              "      <td>True</td>\n",
              "      <td>0.410390</td>\n",
              "      <td>3.335437</td>\n",
              "      <td>10.298771</td>\n",
              "      <td>9.0</td>\n",
              "      <td>0.385359</td>\n",
              "      <td>34.341962</td>\n",
              "    </tr>\n",
              "  </tbody>\n",
              "</table>\n",
              "<p>53017 rows × 7 columns</p>\n",
              "</div>\n",
              "    <div class=\"colab-df-buttons\">\n",
              "\n",
              "  <div class=\"colab-df-container\">\n",
              "    <button class=\"colab-df-convert\" onclick=\"convertToInteractive('df-a4a75f39-4971-4f1f-ad3c-7e202155029e')\"\n",
              "            title=\"Convert this dataframe to an interactive table.\"\n",
              "            style=\"display:none;\">\n",
              "\n",
              "  <svg xmlns=\"http://www.w3.org/2000/svg\" height=\"24px\" viewBox=\"0 -960 960 960\">\n",
              "    <path d=\"M120-120v-720h720v720H120Zm60-500h600v-160H180v160Zm220 220h160v-160H400v160Zm0 220h160v-160H400v160ZM180-400h160v-160H180v160Zm440 0h160v-160H620v160ZM180-180h160v-160H180v160Zm440 0h160v-160H620v160Z\"/>\n",
              "  </svg>\n",
              "    </button>\n",
              "\n",
              "  <style>\n",
              "    .colab-df-container {\n",
              "      display:flex;\n",
              "      gap: 12px;\n",
              "    }\n",
              "\n",
              "    .colab-df-convert {\n",
              "      background-color: #E8F0FE;\n",
              "      border: none;\n",
              "      border-radius: 50%;\n",
              "      cursor: pointer;\n",
              "      display: none;\n",
              "      fill: #1967D2;\n",
              "      height: 32px;\n",
              "      padding: 0 0 0 0;\n",
              "      width: 32px;\n",
              "    }\n",
              "\n",
              "    .colab-df-convert:hover {\n",
              "      background-color: #E2EBFA;\n",
              "      box-shadow: 0px 1px 2px rgba(60, 64, 67, 0.3), 0px 1px 3px 1px rgba(60, 64, 67, 0.15);\n",
              "      fill: #174EA6;\n",
              "    }\n",
              "\n",
              "    .colab-df-buttons div {\n",
              "      margin-bottom: 4px;\n",
              "    }\n",
              "\n",
              "    [theme=dark] .colab-df-convert {\n",
              "      background-color: #3B4455;\n",
              "      fill: #D2E3FC;\n",
              "    }\n",
              "\n",
              "    [theme=dark] .colab-df-convert:hover {\n",
              "      background-color: #434B5C;\n",
              "      box-shadow: 0px 1px 3px 1px rgba(0, 0, 0, 0.15);\n",
              "      filter: drop-shadow(0px 1px 2px rgba(0, 0, 0, 0.3));\n",
              "      fill: #FFFFFF;\n",
              "    }\n",
              "  </style>\n",
              "\n",
              "    <script>\n",
              "      const buttonEl =\n",
              "        document.querySelector('#df-a4a75f39-4971-4f1f-ad3c-7e202155029e button.colab-df-convert');\n",
              "      buttonEl.style.display =\n",
              "        google.colab.kernel.accessAllowed ? 'block' : 'none';\n",
              "\n",
              "      async function convertToInteractive(key) {\n",
              "        const element = document.querySelector('#df-a4a75f39-4971-4f1f-ad3c-7e202155029e');\n",
              "        const dataTable =\n",
              "          await google.colab.kernel.invokeFunction('convertToInteractive',\n",
              "                                                    [key], {});\n",
              "        if (!dataTable) return;\n",
              "\n",
              "        const docLinkHtml = 'Like what you see? Visit the ' +\n",
              "          '<a target=\"_blank\" href=https://colab.research.google.com/notebooks/data_table.ipynb>data table notebook</a>'\n",
              "          + ' to learn more about interactive tables.';\n",
              "        element.innerHTML = '';\n",
              "        dataTable['output_type'] = 'display_data';\n",
              "        await google.colab.output.renderOutput(dataTable, element);\n",
              "        const docLink = document.createElement('div');\n",
              "        docLink.innerHTML = docLinkHtml;\n",
              "        element.appendChild(docLink);\n",
              "      }\n",
              "    </script>\n",
              "  </div>\n",
              "\n",
              "\n",
              "<div id=\"df-b263b23c-1c61-4c7f-9b24-a7cbc014e436\">\n",
              "  <button class=\"colab-df-quickchart\" onclick=\"quickchart('df-b263b23c-1c61-4c7f-9b24-a7cbc014e436')\"\n",
              "            title=\"Suggest charts\"\n",
              "            style=\"display:none;\">\n",
              "\n",
              "<svg xmlns=\"http://www.w3.org/2000/svg\" height=\"24px\"viewBox=\"0 0 24 24\"\n",
              "     width=\"24px\">\n",
              "    <g>\n",
              "        <path d=\"M19 3H5c-1.1 0-2 .9-2 2v14c0 1.1.9 2 2 2h14c1.1 0 2-.9 2-2V5c0-1.1-.9-2-2-2zM9 17H7v-7h2v7zm4 0h-2V7h2v10zm4 0h-2v-4h2v4z\"/>\n",
              "    </g>\n",
              "</svg>\n",
              "  </button>\n",
              "\n",
              "<style>\n",
              "  .colab-df-quickchart {\n",
              "      --bg-color: #E8F0FE;\n",
              "      --fill-color: #1967D2;\n",
              "      --hover-bg-color: #E2EBFA;\n",
              "      --hover-fill-color: #174EA6;\n",
              "      --disabled-fill-color: #AAA;\n",
              "      --disabled-bg-color: #DDD;\n",
              "  }\n",
              "\n",
              "  [theme=dark] .colab-df-quickchart {\n",
              "      --bg-color: #3B4455;\n",
              "      --fill-color: #D2E3FC;\n",
              "      --hover-bg-color: #434B5C;\n",
              "      --hover-fill-color: #FFFFFF;\n",
              "      --disabled-bg-color: #3B4455;\n",
              "      --disabled-fill-color: #666;\n",
              "  }\n",
              "\n",
              "  .colab-df-quickchart {\n",
              "    background-color: var(--bg-color);\n",
              "    border: none;\n",
              "    border-radius: 50%;\n",
              "    cursor: pointer;\n",
              "    display: none;\n",
              "    fill: var(--fill-color);\n",
              "    height: 32px;\n",
              "    padding: 0;\n",
              "    width: 32px;\n",
              "  }\n",
              "\n",
              "  .colab-df-quickchart:hover {\n",
              "    background-color: var(--hover-bg-color);\n",
              "    box-shadow: 0 1px 2px rgba(60, 64, 67, 0.3), 0 1px 3px 1px rgba(60, 64, 67, 0.15);\n",
              "    fill: var(--button-hover-fill-color);\n",
              "  }\n",
              "\n",
              "  .colab-df-quickchart-complete:disabled,\n",
              "  .colab-df-quickchart-complete:disabled:hover {\n",
              "    background-color: var(--disabled-bg-color);\n",
              "    fill: var(--disabled-fill-color);\n",
              "    box-shadow: none;\n",
              "  }\n",
              "\n",
              "  .colab-df-spinner {\n",
              "    border: 2px solid var(--fill-color);\n",
              "    border-color: transparent;\n",
              "    border-bottom-color: var(--fill-color);\n",
              "    animation:\n",
              "      spin 1s steps(1) infinite;\n",
              "  }\n",
              "\n",
              "  @keyframes spin {\n",
              "    0% {\n",
              "      border-color: transparent;\n",
              "      border-bottom-color: var(--fill-color);\n",
              "      border-left-color: var(--fill-color);\n",
              "    }\n",
              "    20% {\n",
              "      border-color: transparent;\n",
              "      border-left-color: var(--fill-color);\n",
              "      border-top-color: var(--fill-color);\n",
              "    }\n",
              "    30% {\n",
              "      border-color: transparent;\n",
              "      border-left-color: var(--fill-color);\n",
              "      border-top-color: var(--fill-color);\n",
              "      border-right-color: var(--fill-color);\n",
              "    }\n",
              "    40% {\n",
              "      border-color: transparent;\n",
              "      border-right-color: var(--fill-color);\n",
              "      border-top-color: var(--fill-color);\n",
              "    }\n",
              "    60% {\n",
              "      border-color: transparent;\n",
              "      border-right-color: var(--fill-color);\n",
              "    }\n",
              "    80% {\n",
              "      border-color: transparent;\n",
              "      border-right-color: var(--fill-color);\n",
              "      border-bottom-color: var(--fill-color);\n",
              "    }\n",
              "    90% {\n",
              "      border-color: transparent;\n",
              "      border-bottom-color: var(--fill-color);\n",
              "    }\n",
              "  }\n",
              "</style>\n",
              "\n",
              "  <script>\n",
              "    async function quickchart(key) {\n",
              "      const quickchartButtonEl =\n",
              "        document.querySelector('#' + key + ' button');\n",
              "      quickchartButtonEl.disabled = true;  // To prevent multiple clicks.\n",
              "      quickchartButtonEl.classList.add('colab-df-spinner');\n",
              "      try {\n",
              "        const charts = await google.colab.kernel.invokeFunction(\n",
              "            'suggestCharts', [key], {});\n",
              "      } catch (error) {\n",
              "        console.error('Error during call to suggestCharts:', error);\n",
              "      }\n",
              "      quickchartButtonEl.classList.remove('colab-df-spinner');\n",
              "      quickchartButtonEl.classList.add('colab-df-quickchart-complete');\n",
              "    }\n",
              "    (() => {\n",
              "      let quickchartButtonEl =\n",
              "        document.querySelector('#df-b263b23c-1c61-4c7f-9b24-a7cbc014e436 button');\n",
              "      quickchartButtonEl.style.display =\n",
              "        google.colab.kernel.accessAllowed ? 'block' : 'none';\n",
              "    })();\n",
              "  </script>\n",
              "</div>\n",
              "\n",
              "    </div>\n",
              "  </div>\n"
            ],
            "application/vnd.google.colaboratory.intrinsic+json": {
              "type": "dataframe",
              "summary": "{\n  \"name\": \"adata_concat\",\n  \"rows\": 53017,\n  \"fields\": [\n    {\n      \"column\": \"highly_variable\",\n      \"properties\": {\n        \"dtype\": \"boolean\",\n        \"num_unique_values\": 2,\n        \"samples\": [\n          true,\n          false\n        ],\n        \"semantic_type\": \"\",\n        \"description\": \"\"\n      }\n    },\n    {\n      \"column\": \"means\",\n      \"properties\": {\n        \"dtype\": \"number\",\n        \"std\": 0.2718005516912619,\n        \"min\": 0.0005685002121411294,\n        \"max\": 2.3562017137646953,\n        \"num_unique_values\": 52987,\n        \"samples\": [\n          0.12157866110030525,\n          0.0016478257985892365\n        ],\n        \"semantic_type\": \"\",\n        \"description\": \"\"\n      }\n    },\n    {\n      \"column\": \"dispersions\",\n      \"properties\": {\n        \"dtype\": \"number\",\n        \"std\": 1.555828295040432,\n        \"min\": -7.392613485073576,\n        \"max\": 5.777068552753961,\n        \"num_unique_values\": 52987,\n        \"samples\": [\n          -4.511210064711704,\n          -6.244624854165868\n        ],\n        \"semantic_type\": \"\",\n        \"description\": \"\"\n      }\n    },\n    {\n      \"column\": \"dispersions_norm\",\n      \"properties\": {\n        \"dtype\": \"float32\",\n        \"num_unique_values\": 52958,\n        \"samples\": [\n          0.6309462189674377,\n          -1.1294633150100708\n        ],\n        \"semantic_type\": \"\",\n        \"description\": \"\"\n      }\n    },\n    {\n      \"column\": \"highly_variable_rank\",\n      \"properties\": {\n        \"dtype\": \"float32\",\n        \"num_unique_values\": 2000,\n        \"samples\": [\n          1212.0,\n          252.0\n        ],\n        \"semantic_type\": \"\",\n        \"description\": \"\"\n      }\n    },\n    {\n      \"column\": \"variances\",\n      \"properties\": {\n        \"dtype\": \"number\",\n        \"std\": 0.023717045237791418,\n        \"min\": 5.81352943125182e-07,\n        \"max\": 0.9838776253950202,\n        \"num_unique_values\": 52987,\n        \"samples\": [\n          0.0011233234171278352,\n          3.1916005568182236e-06\n        ],\n        \"semantic_type\": \"\",\n        \"description\": \"\"\n      }\n    },\n    {\n      \"column\": \"variances_norm\",\n      \"properties\": {\n        \"dtype\": \"number\",\n        \"std\": 1.309244112224544,\n        \"min\": 0.19067444366883665,\n        \"max\": 44.26782900602263,\n        \"num_unique_values\": 52987,\n        \"samples\": [\n          0.47866803549381914,\n          1.148517282615796\n        ],\n        \"semantic_type\": \"\",\n        \"description\": \"\"\n      }\n    }\n  ]\n}"
            }
          },
          "metadata": {},
          "execution_count": 51
        }
      ]
    },
    {
      "cell_type": "code",
      "source": [
        "adata_concat"
      ],
      "metadata": {
        "colab": {
          "base_uri": "https://localhost:8080/"
        },
        "id": "HlBcXV1sP-Nt",
        "outputId": "a951cc29-cf50-4cd4-b4ca-66375e958241"
      },
      "id": "HlBcXV1sP-Nt",
      "execution_count": 44,
      "outputs": [
        {
          "output_type": "execute_result",
          "data": {
            "text/plain": [
              "AnnData object with n_obs × n_vars = 21361 × 53017\n",
              "    obs: 'n_fragment', 'frac_dup', 'frac_mito', 'tsse', 'doublet_probability', 'doublet_score', 'leiden', 'Treatment', 'barcode_treatment'\n",
              "    var: 'highly_variable', 'means', 'dispersions', 'dispersions_norm'\n",
              "    uns: 'pca', 'hvg'\n",
              "    obsm: 'X_pca', 'X_pca_harmony', 'X_umap'\n",
              "    varm: 'PCs'"
            ]
          },
          "metadata": {},
          "execution_count": 44
        }
      ]
    },
    {
      "source": [
        "!pip install dask==2024.12.0 --force-reinstall -q"
      ],
      "cell_type": "code",
      "metadata": {
        "id": "wlWxUgCKLk4h"
      },
      "id": "wlWxUgCKLk4h",
      "execution_count": 45,
      "outputs": []
    },
    {
      "cell_type": "code",
      "source": [
        "import dask.array as da"
      ],
      "metadata": {
        "id": "OD_rnA0PViuQ"
      },
      "id": "OD_rnA0PViuQ",
      "execution_count": 46,
      "outputs": []
    },
    {
      "source": [
        "!pip index versions dask"
      ],
      "cell_type": "code",
      "metadata": {
        "colab": {
          "base_uri": "https://localhost:8080/"
        },
        "id": "K3oxIj3KL0zl",
        "outputId": "7475b86a-a117-4f7e-927b-a168f333aa97"
      },
      "id": "K3oxIj3KL0zl",
      "execution_count": 52,
      "outputs": [
        {
          "output_type": "stream",
          "name": "stdout",
          "text": [
            "\u001b[33mWARNING: pip index is currently an experimental command. It may be removed/changed in a future release without prior warning.\u001b[0m\u001b[33m\n",
            "\u001b[0mdask (2024.12.1)\n",
            "Available versions: 2024.12.1, 2024.12.0, 2024.11.2, 2024.11.1, 2024.10.0, 2024.9.1, 2024.9.0, 2024.8.2, 2024.8.1, 2024.8.0, 2024.7.1, 2024.7.0, 2024.6.2, 2024.6.1, 2024.6.0, 2024.5.2, 2024.5.1, 2024.5.0, 2024.4.2, 2024.4.1, 2024.4.0, 2024.3.1, 2024.3.0, 2024.2.1, 2024.2.0, 2024.1.1, 2024.1.0, 2023.12.1, 2023.12.0, 2023.11.0, 2023.10.1, 2023.10.0, 2023.9.3, 2023.9.2, 2023.9.1, 2023.9.0, 2023.8.1, 2023.8.0, 2023.7.1, 2023.7.0, 2023.6.1, 2023.6.0, 2023.5.1, 2023.5.0, 2023.4.1, 2023.4.0, 2023.3.2, 2023.3.1, 2023.3.0, 2023.2.1, 2023.2.0, 2023.1.1, 2023.1.0, 2022.12.1, 2022.12.0, 2022.11.1, 2022.11.0, 2022.10.2, 2022.10.0, 2022.9.2, 2022.9.1, 2022.9.0, 2022.8.1, 2022.8.0, 2022.7.1, 2022.7.0, 2022.6.1, 2022.6.0, 2022.5.2, 2022.5.1, 2022.5.0, 2022.4.2, 2022.4.1, 2022.4.0, 2022.3.0, 2022.2.1, 2022.2.0, 2022.1.1, 2022.1.0, 2021.12.0, 2021.11.2, 2021.11.1, 2021.11.0, 2021.10.0, 2021.9.1, 2021.9.0, 2021.8.1, 2021.8.0, 2021.7.2, 2021.7.1, 2021.7.0, 2021.6.2, 2021.6.1, 2021.6.0, 2021.5.1, 2021.5.0, 2021.4.1, 2021.4.0, 2021.3.1, 2021.3.0, 2021.2.0, 2021.1.1, 2021.1.0, 2020.12.0, 2.30.0, 2.29.0, 2.28.0, 2.27.0, 2.26.0, 2.25.0, 2.24.0, 2.23.0, 2.22.0, 2.21.0, 2.20.0, 2.19.0, 2.18.1, 2.18.0, 2.17.2, 2.17.1, 2.17.0, 2.16.0, 2.15.0, 2.14.0, 2.13.0, 2.12.0, 2.11.0, 2.10.1, 2.10.0, 2.9.2, 2.9.1, 2.9.0, 2.8.1, 2.8.0, 2.7.0, 2.6.0, 2.5.2, 2.5.0, 2.4.0, 2.3.0, 2.2.0, 2.1.0, 2.0.0, 1.2.2, 1.2.1, 1.2.0, 1.1.5, 1.1.4, 1.1.3, 1.1.2, 1.1.1, 1.1.0, 1.0.0, 0.20.2, 0.20.1, 0.20.0, 0.19.4, 0.19.3, 0.19.2, 0.19.1, 0.19.0, 0.18.2, 0.18.1, 0.18.0, 0.17.5, 0.17.4, 0.17.3, 0.17.2, 0.17.1, 0.17.0, 0.16.1, 0.16.0, 0.15.4, 0.15.3, 0.15.2, 0.15.1, 0.15.0, 0.14.3, 0.14.2, 0.14.1, 0.14.0, 0.13.0, 0.12.0, 0.11.1, 0.11.0, 0.10.2, 0.10.1, 0.10.0, 0.9.0, 0.8.2, 0.8.1, 0.8.0, 0.7.6, 0.7.5, 0.7.4, 0.7.3, 0.7.2, 0.7.1, 0.7.0, 0.6.1, 0.6.0, 0.5.0, 0.4.0, 0.3.0, 0.2.6, 0.2.5, 0.2.4, 0.2.3, 0.2.2, 0.2.1, 0.2.0, 0.8.1.macosx-10.5-x86_64, 0.7.6.linux-x86_64, 0.7.5.linux-x86_64, 0.7.4.linux-x86_64\n",
            "  INSTALLED: 2024.12.0\n",
            "  LATEST:    2024.12.1\n"
          ]
        }
      ]
    },
    {
      "cell_type": "code",
      "source": [
        "pip show dask"
      ],
      "metadata": {
        "colab": {
          "base_uri": "https://localhost:8080/"
        },
        "id": "6XLTh7BaKmY4",
        "outputId": "c1c68fac-f874-4e35-e751-d87fa972061e"
      },
      "id": "6XLTh7BaKmY4",
      "execution_count": 53,
      "outputs": [
        {
          "output_type": "stream",
          "name": "stdout",
          "text": [
            "Name: dask\n",
            "Version: 2024.12.0\n",
            "Summary: Parallel PyData with Task Scheduling\n",
            "Home-page: \n",
            "Author: \n",
            "Author-email: \n",
            "License: BSD-3-Clause\n",
            "Location: /usr/local/lib/python3.10/site-packages\n",
            "Requires: click, cloudpickle, fsspec, importlib_metadata, packaging, partd, pyyaml, toolz\n",
            "Required-by: batchglm\n"
          ]
        }
      ]
    },
    {
      "source": [
        "# Sort genes by 'highly_variable_rank' in ascending order (lower rank = more variable)\n",
        "adata_concat.var = adata_concat.var.sort_values(by='highly_variable_rank')\n",
        "\n",
        "adata_concat.var"
      ],
      "cell_type": "code",
      "metadata": {
        "colab": {
          "base_uri": "https://localhost:8080/",
          "height": 423
        },
        "id": "5Ii3IW_nWRAu",
        "outputId": "ccb130f3-3d1e-4a6d-a884-cf324b9b4de3"
      },
      "id": "5Ii3IW_nWRAu",
      "execution_count": 54,
      "outputs": [
        {
          "output_type": "execute_result",
          "data": {
            "text/plain": [
              "                 highly_variable     means  dispersions  dispersions_norm  \\\n",
              "MTATP8P1                    True  0.011273    -1.407573          4.044634   \n",
              "ENSG00000277999             True  0.006128    -1.919678          3.527294   \n",
              "ENSG00000289137             True  0.013830    -1.318055          4.135067   \n",
              "ENSG00000253817             True  0.013364    -1.298244          4.155081   \n",
              "MTND2P28                    True  0.017319    -1.246181          4.207676   \n",
              "...                          ...       ...          ...               ...   \n",
              "RBMY2FP                    False  0.001672    -5.867844         -0.461232   \n",
              "PPP1R12BP1                 False  0.005898    -6.180099         -0.776679   \n",
              "ANKRD36P1                  False  0.001843    -6.458218         -1.057640   \n",
              "TPTE2P4                    False  0.007077    -5.441989         -0.031024   \n",
              "PARP4P1                    False  0.003717    -5.448703         -0.037806   \n",
              "\n",
              "                 highly_variable_rank  variances  variances_norm  \n",
              "MTATP8P1                          0.0   0.002180       44.267829  \n",
              "ENSG00000277999                   1.0   0.000771       43.033003  \n",
              "ENSG00000289137                   2.0   0.002676       38.287954  \n",
              "ENSG00000253817                   3.0   0.002521       38.270587  \n",
              "MTND2P28                          4.0   0.003883       37.825506  \n",
              "...                               ...        ...             ...  \n",
              "RBMY2FP                           NaN   0.000005        1.662601  \n",
              "PPP1R12BP1                        NaN   0.000012        0.717785  \n",
              "ANKRD36P1                         NaN   0.000003        0.896892  \n",
              "TPTE2P4                           NaN   0.000030        1.339171  \n",
              "PARP4P1                           NaN   0.000016        1.900205  \n",
              "\n",
              "[53017 rows x 7 columns]"
            ],
            "text/html": [
              "\n",
              "  <div id=\"df-c7094b88-15e1-4ba9-8a39-6a4578fcd3a2\" class=\"colab-df-container\">\n",
              "    <div>\n",
              "<style scoped>\n",
              "    .dataframe tbody tr th:only-of-type {\n",
              "        vertical-align: middle;\n",
              "    }\n",
              "\n",
              "    .dataframe tbody tr th {\n",
              "        vertical-align: top;\n",
              "    }\n",
              "\n",
              "    .dataframe thead th {\n",
              "        text-align: right;\n",
              "    }\n",
              "</style>\n",
              "<table border=\"1\" class=\"dataframe\">\n",
              "  <thead>\n",
              "    <tr style=\"text-align: right;\">\n",
              "      <th></th>\n",
              "      <th>highly_variable</th>\n",
              "      <th>means</th>\n",
              "      <th>dispersions</th>\n",
              "      <th>dispersions_norm</th>\n",
              "      <th>highly_variable_rank</th>\n",
              "      <th>variances</th>\n",
              "      <th>variances_norm</th>\n",
              "    </tr>\n",
              "  </thead>\n",
              "  <tbody>\n",
              "    <tr>\n",
              "      <th>MTATP8P1</th>\n",
              "      <td>True</td>\n",
              "      <td>0.011273</td>\n",
              "      <td>-1.407573</td>\n",
              "      <td>4.044634</td>\n",
              "      <td>0.0</td>\n",
              "      <td>0.002180</td>\n",
              "      <td>44.267829</td>\n",
              "    </tr>\n",
              "    <tr>\n",
              "      <th>ENSG00000277999</th>\n",
              "      <td>True</td>\n",
              "      <td>0.006128</td>\n",
              "      <td>-1.919678</td>\n",
              "      <td>3.527294</td>\n",
              "      <td>1.0</td>\n",
              "      <td>0.000771</td>\n",
              "      <td>43.033003</td>\n",
              "    </tr>\n",
              "    <tr>\n",
              "      <th>ENSG00000289137</th>\n",
              "      <td>True</td>\n",
              "      <td>0.013830</td>\n",
              "      <td>-1.318055</td>\n",
              "      <td>4.135067</td>\n",
              "      <td>2.0</td>\n",
              "      <td>0.002676</td>\n",
              "      <td>38.287954</td>\n",
              "    </tr>\n",
              "    <tr>\n",
              "      <th>ENSG00000253817</th>\n",
              "      <td>True</td>\n",
              "      <td>0.013364</td>\n",
              "      <td>-1.298244</td>\n",
              "      <td>4.155081</td>\n",
              "      <td>3.0</td>\n",
              "      <td>0.002521</td>\n",
              "      <td>38.270587</td>\n",
              "    </tr>\n",
              "    <tr>\n",
              "      <th>MTND2P28</th>\n",
              "      <td>True</td>\n",
              "      <td>0.017319</td>\n",
              "      <td>-1.246181</td>\n",
              "      <td>4.207676</td>\n",
              "      <td>4.0</td>\n",
              "      <td>0.003883</td>\n",
              "      <td>37.825506</td>\n",
              "    </tr>\n",
              "    <tr>\n",
              "      <th>...</th>\n",
              "      <td>...</td>\n",
              "      <td>...</td>\n",
              "      <td>...</td>\n",
              "      <td>...</td>\n",
              "      <td>...</td>\n",
              "      <td>...</td>\n",
              "      <td>...</td>\n",
              "    </tr>\n",
              "    <tr>\n",
              "      <th>RBMY2FP</th>\n",
              "      <td>False</td>\n",
              "      <td>0.001672</td>\n",
              "      <td>-5.867844</td>\n",
              "      <td>-0.461232</td>\n",
              "      <td>NaN</td>\n",
              "      <td>0.000005</td>\n",
              "      <td>1.662601</td>\n",
              "    </tr>\n",
              "    <tr>\n",
              "      <th>PPP1R12BP1</th>\n",
              "      <td>False</td>\n",
              "      <td>0.005898</td>\n",
              "      <td>-6.180099</td>\n",
              "      <td>-0.776679</td>\n",
              "      <td>NaN</td>\n",
              "      <td>0.000012</td>\n",
              "      <td>0.717785</td>\n",
              "    </tr>\n",
              "    <tr>\n",
              "      <th>ANKRD36P1</th>\n",
              "      <td>False</td>\n",
              "      <td>0.001843</td>\n",
              "      <td>-6.458218</td>\n",
              "      <td>-1.057640</td>\n",
              "      <td>NaN</td>\n",
              "      <td>0.000003</td>\n",
              "      <td>0.896892</td>\n",
              "    </tr>\n",
              "    <tr>\n",
              "      <th>TPTE2P4</th>\n",
              "      <td>False</td>\n",
              "      <td>0.007077</td>\n",
              "      <td>-5.441989</td>\n",
              "      <td>-0.031024</td>\n",
              "      <td>NaN</td>\n",
              "      <td>0.000030</td>\n",
              "      <td>1.339171</td>\n",
              "    </tr>\n",
              "    <tr>\n",
              "      <th>PARP4P1</th>\n",
              "      <td>False</td>\n",
              "      <td>0.003717</td>\n",
              "      <td>-5.448703</td>\n",
              "      <td>-0.037806</td>\n",
              "      <td>NaN</td>\n",
              "      <td>0.000016</td>\n",
              "      <td>1.900205</td>\n",
              "    </tr>\n",
              "  </tbody>\n",
              "</table>\n",
              "<p>53017 rows × 7 columns</p>\n",
              "</div>\n",
              "    <div class=\"colab-df-buttons\">\n",
              "\n",
              "  <div class=\"colab-df-container\">\n",
              "    <button class=\"colab-df-convert\" onclick=\"convertToInteractive('df-c7094b88-15e1-4ba9-8a39-6a4578fcd3a2')\"\n",
              "            title=\"Convert this dataframe to an interactive table.\"\n",
              "            style=\"display:none;\">\n",
              "\n",
              "  <svg xmlns=\"http://www.w3.org/2000/svg\" height=\"24px\" viewBox=\"0 -960 960 960\">\n",
              "    <path d=\"M120-120v-720h720v720H120Zm60-500h600v-160H180v160Zm220 220h160v-160H400v160Zm0 220h160v-160H400v160ZM180-400h160v-160H180v160Zm440 0h160v-160H620v160ZM180-180h160v-160H180v160Zm440 0h160v-160H620v160Z\"/>\n",
              "  </svg>\n",
              "    </button>\n",
              "\n",
              "  <style>\n",
              "    .colab-df-container {\n",
              "      display:flex;\n",
              "      gap: 12px;\n",
              "    }\n",
              "\n",
              "    .colab-df-convert {\n",
              "      background-color: #E8F0FE;\n",
              "      border: none;\n",
              "      border-radius: 50%;\n",
              "      cursor: pointer;\n",
              "      display: none;\n",
              "      fill: #1967D2;\n",
              "      height: 32px;\n",
              "      padding: 0 0 0 0;\n",
              "      width: 32px;\n",
              "    }\n",
              "\n",
              "    .colab-df-convert:hover {\n",
              "      background-color: #E2EBFA;\n",
              "      box-shadow: 0px 1px 2px rgba(60, 64, 67, 0.3), 0px 1px 3px 1px rgba(60, 64, 67, 0.15);\n",
              "      fill: #174EA6;\n",
              "    }\n",
              "\n",
              "    .colab-df-buttons div {\n",
              "      margin-bottom: 4px;\n",
              "    }\n",
              "\n",
              "    [theme=dark] .colab-df-convert {\n",
              "      background-color: #3B4455;\n",
              "      fill: #D2E3FC;\n",
              "    }\n",
              "\n",
              "    [theme=dark] .colab-df-convert:hover {\n",
              "      background-color: #434B5C;\n",
              "      box-shadow: 0px 1px 3px 1px rgba(0, 0, 0, 0.15);\n",
              "      filter: drop-shadow(0px 1px 2px rgba(0, 0, 0, 0.3));\n",
              "      fill: #FFFFFF;\n",
              "    }\n",
              "  </style>\n",
              "\n",
              "    <script>\n",
              "      const buttonEl =\n",
              "        document.querySelector('#df-c7094b88-15e1-4ba9-8a39-6a4578fcd3a2 button.colab-df-convert');\n",
              "      buttonEl.style.display =\n",
              "        google.colab.kernel.accessAllowed ? 'block' : 'none';\n",
              "\n",
              "      async function convertToInteractive(key) {\n",
              "        const element = document.querySelector('#df-c7094b88-15e1-4ba9-8a39-6a4578fcd3a2');\n",
              "        const dataTable =\n",
              "          await google.colab.kernel.invokeFunction('convertToInteractive',\n",
              "                                                    [key], {});\n",
              "        if (!dataTable) return;\n",
              "\n",
              "        const docLinkHtml = 'Like what you see? Visit the ' +\n",
              "          '<a target=\"_blank\" href=https://colab.research.google.com/notebooks/data_table.ipynb>data table notebook</a>'\n",
              "          + ' to learn more about interactive tables.';\n",
              "        element.innerHTML = '';\n",
              "        dataTable['output_type'] = 'display_data';\n",
              "        await google.colab.output.renderOutput(dataTable, element);\n",
              "        const docLink = document.createElement('div');\n",
              "        docLink.innerHTML = docLinkHtml;\n",
              "        element.appendChild(docLink);\n",
              "      }\n",
              "    </script>\n",
              "  </div>\n",
              "\n",
              "\n",
              "<div id=\"df-33367190-1d31-49c5-9fa8-e2e3ee0104ac\">\n",
              "  <button class=\"colab-df-quickchart\" onclick=\"quickchart('df-33367190-1d31-49c5-9fa8-e2e3ee0104ac')\"\n",
              "            title=\"Suggest charts\"\n",
              "            style=\"display:none;\">\n",
              "\n",
              "<svg xmlns=\"http://www.w3.org/2000/svg\" height=\"24px\"viewBox=\"0 0 24 24\"\n",
              "     width=\"24px\">\n",
              "    <g>\n",
              "        <path d=\"M19 3H5c-1.1 0-2 .9-2 2v14c0 1.1.9 2 2 2h14c1.1 0 2-.9 2-2V5c0-1.1-.9-2-2-2zM9 17H7v-7h2v7zm4 0h-2V7h2v10zm4 0h-2v-4h2v4z\"/>\n",
              "    </g>\n",
              "</svg>\n",
              "  </button>\n",
              "\n",
              "<style>\n",
              "  .colab-df-quickchart {\n",
              "      --bg-color: #E8F0FE;\n",
              "      --fill-color: #1967D2;\n",
              "      --hover-bg-color: #E2EBFA;\n",
              "      --hover-fill-color: #174EA6;\n",
              "      --disabled-fill-color: #AAA;\n",
              "      --disabled-bg-color: #DDD;\n",
              "  }\n",
              "\n",
              "  [theme=dark] .colab-df-quickchart {\n",
              "      --bg-color: #3B4455;\n",
              "      --fill-color: #D2E3FC;\n",
              "      --hover-bg-color: #434B5C;\n",
              "      --hover-fill-color: #FFFFFF;\n",
              "      --disabled-bg-color: #3B4455;\n",
              "      --disabled-fill-color: #666;\n",
              "  }\n",
              "\n",
              "  .colab-df-quickchart {\n",
              "    background-color: var(--bg-color);\n",
              "    border: none;\n",
              "    border-radius: 50%;\n",
              "    cursor: pointer;\n",
              "    display: none;\n",
              "    fill: var(--fill-color);\n",
              "    height: 32px;\n",
              "    padding: 0;\n",
              "    width: 32px;\n",
              "  }\n",
              "\n",
              "  .colab-df-quickchart:hover {\n",
              "    background-color: var(--hover-bg-color);\n",
              "    box-shadow: 0 1px 2px rgba(60, 64, 67, 0.3), 0 1px 3px 1px rgba(60, 64, 67, 0.15);\n",
              "    fill: var(--button-hover-fill-color);\n",
              "  }\n",
              "\n",
              "  .colab-df-quickchart-complete:disabled,\n",
              "  .colab-df-quickchart-complete:disabled:hover {\n",
              "    background-color: var(--disabled-bg-color);\n",
              "    fill: var(--disabled-fill-color);\n",
              "    box-shadow: none;\n",
              "  }\n",
              "\n",
              "  .colab-df-spinner {\n",
              "    border: 2px solid var(--fill-color);\n",
              "    border-color: transparent;\n",
              "    border-bottom-color: var(--fill-color);\n",
              "    animation:\n",
              "      spin 1s steps(1) infinite;\n",
              "  }\n",
              "\n",
              "  @keyframes spin {\n",
              "    0% {\n",
              "      border-color: transparent;\n",
              "      border-bottom-color: var(--fill-color);\n",
              "      border-left-color: var(--fill-color);\n",
              "    }\n",
              "    20% {\n",
              "      border-color: transparent;\n",
              "      border-left-color: var(--fill-color);\n",
              "      border-top-color: var(--fill-color);\n",
              "    }\n",
              "    30% {\n",
              "      border-color: transparent;\n",
              "      border-left-color: var(--fill-color);\n",
              "      border-top-color: var(--fill-color);\n",
              "      border-right-color: var(--fill-color);\n",
              "    }\n",
              "    40% {\n",
              "      border-color: transparent;\n",
              "      border-right-color: var(--fill-color);\n",
              "      border-top-color: var(--fill-color);\n",
              "    }\n",
              "    60% {\n",
              "      border-color: transparent;\n",
              "      border-right-color: var(--fill-color);\n",
              "    }\n",
              "    80% {\n",
              "      border-color: transparent;\n",
              "      border-right-color: var(--fill-color);\n",
              "      border-bottom-color: var(--fill-color);\n",
              "    }\n",
              "    90% {\n",
              "      border-color: transparent;\n",
              "      border-bottom-color: var(--fill-color);\n",
              "    }\n",
              "  }\n",
              "</style>\n",
              "\n",
              "  <script>\n",
              "    async function quickchart(key) {\n",
              "      const quickchartButtonEl =\n",
              "        document.querySelector('#' + key + ' button');\n",
              "      quickchartButtonEl.disabled = true;  // To prevent multiple clicks.\n",
              "      quickchartButtonEl.classList.add('colab-df-spinner');\n",
              "      try {\n",
              "        const charts = await google.colab.kernel.invokeFunction(\n",
              "            'suggestCharts', [key], {});\n",
              "      } catch (error) {\n",
              "        console.error('Error during call to suggestCharts:', error);\n",
              "      }\n",
              "      quickchartButtonEl.classList.remove('colab-df-spinner');\n",
              "      quickchartButtonEl.classList.add('colab-df-quickchart-complete');\n",
              "    }\n",
              "    (() => {\n",
              "      let quickchartButtonEl =\n",
              "        document.querySelector('#df-33367190-1d31-49c5-9fa8-e2e3ee0104ac button');\n",
              "      quickchartButtonEl.style.display =\n",
              "        google.colab.kernel.accessAllowed ? 'block' : 'none';\n",
              "    })();\n",
              "  </script>\n",
              "</div>\n",
              "\n",
              "    </div>\n",
              "  </div>\n"
            ],
            "application/vnd.google.colaboratory.intrinsic+json": {
              "type": "dataframe",
              "summary": "{\n  \"name\": \"adata_concat\",\n  \"rows\": 53017,\n  \"fields\": [\n    {\n      \"column\": \"highly_variable\",\n      \"properties\": {\n        \"dtype\": \"boolean\",\n        \"num_unique_values\": 2,\n        \"samples\": [\n          false,\n          true\n        ],\n        \"semantic_type\": \"\",\n        \"description\": \"\"\n      }\n    },\n    {\n      \"column\": \"means\",\n      \"properties\": {\n        \"dtype\": \"number\",\n        \"std\": 0.2718005516912617,\n        \"min\": 0.0005685002121411294,\n        \"max\": 2.3562017137646953,\n        \"num_unique_values\": 52987,\n        \"samples\": [\n          0.06568986125250396,\n          0.36823247637006085\n        ],\n        \"semantic_type\": \"\",\n        \"description\": \"\"\n      }\n    },\n    {\n      \"column\": \"dispersions\",\n      \"properties\": {\n        \"dtype\": \"number\",\n        \"std\": 1.5558282950404316,\n        \"min\": -7.392613485073576,\n        \"max\": 5.777068552753961,\n        \"num_unique_values\": 52987,\n        \"samples\": [\n          -3.972465838952742,\n          -2.349129747798767\n        ],\n        \"semantic_type\": \"\",\n        \"description\": \"\"\n      }\n    },\n    {\n      \"column\": \"dispersions_norm\",\n      \"properties\": {\n        \"dtype\": \"float32\",\n        \"num_unique_values\": 52958,\n        \"samples\": [\n          0.07402502745389938,\n          -1.2251536846160889\n        ],\n        \"semantic_type\": \"\",\n        \"description\": \"\"\n      }\n    },\n    {\n      \"column\": \"highly_variable_rank\",\n      \"properties\": {\n        \"dtype\": \"float32\",\n        \"num_unique_values\": 2000,\n        \"samples\": [\n          1860.0,\n          353.0\n        ],\n        \"semantic_type\": \"\",\n        \"description\": \"\"\n      }\n    },\n    {\n      \"column\": \"variances\",\n      \"properties\": {\n        \"dtype\": \"number\",\n        \"std\": 0.023717045237791567,\n        \"min\": 5.81352943125182e-07,\n        \"max\": 0.9838776253950202,\n        \"num_unique_values\": 52987,\n        \"samples\": [\n          0.0011411681241657434,\n          0.019935704984464057\n        ],\n        \"semantic_type\": \"\",\n        \"description\": \"\"\n      }\n    },\n    {\n      \"column\": \"variances_norm\",\n      \"properties\": {\n        \"dtype\": \"number\",\n        \"std\": 1.3092441122245395,\n        \"min\": 0.19067444366883665,\n        \"max\": 44.26782900602263,\n        \"num_unique_values\": 52987,\n        \"samples\": [\n          1.243502545763038,\n          2.0909430731194494\n        ],\n        \"semantic_type\": \"\",\n        \"description\": \"\"\n      }\n    }\n  ]\n}"
            }
          },
          "metadata": {},
          "execution_count": 54
        }
      ]
    },
    {
      "cell_type": "code",
      "source": [
        "# Subsample features (e.g., top 1000 highly variable genes)\n",
        "adata_subset = adata_concat[:, adata_concat.var.index[:1000]] # Select the top 1000 genes\n",
        "\n",
        "adata_subset.var"
      ],
      "metadata": {
        "colab": {
          "base_uri": "https://localhost:8080/",
          "height": 423
        },
        "id": "VsAkvDcpWrsh",
        "outputId": "1be68777-d3fa-43c1-f1e7-3926e85267b2"
      },
      "id": "VsAkvDcpWrsh",
      "execution_count": 55,
      "outputs": [
        {
          "output_type": "execute_result",
          "data": {
            "text/plain": [
              "                 highly_variable     means  dispersions  dispersions_norm  \\\n",
              "MTATP8P1                    True  0.011273    -1.407573          4.044634   \n",
              "ENSG00000277999             True  0.006128    -1.919678          3.527294   \n",
              "ENSG00000289137             True  0.013830    -1.318055          4.135067   \n",
              "ENSG00000253817             True  0.013364    -1.298244          4.155081   \n",
              "MTND2P28                    True  0.017319    -1.246181          4.207676   \n",
              "...                          ...       ...          ...               ...   \n",
              "NKX2-3                      True  0.401552    -1.830747          2.331799   \n",
              "CCR1                        True  0.095955    -2.169804          3.274611   \n",
              "ENSG00000267610             True  0.130499    -2.402310          1.826254   \n",
              "ENSG00000233397             True  0.017788    -3.629186          1.800311   \n",
              "ENSG00000289351             True  0.242979    -1.967107          2.411314   \n",
              "\n",
              "                 highly_variable_rank  variances  variances_norm  \n",
              "MTATP8P1                          0.0   0.002180       44.267829  \n",
              "ENSG00000277999                   1.0   0.000771       43.033003  \n",
              "ENSG00000289137                   2.0   0.002676       38.287954  \n",
              "ENSG00000253817                   3.0   0.002521       38.270587  \n",
              "MTND2P28                          4.0   0.003883       37.825506  \n",
              "...                               ...        ...             ...  \n",
              "NKX2-3                          995.0   0.040880        3.766288  \n",
              "CCR1                            996.0   0.006253        3.765267  \n",
              "ENSG00000267610                 997.0   0.009752        3.764141  \n",
              "ENSG00000233397                 998.0   0.000404        3.763703  \n",
              "ENSG00000289351                 999.0   0.020829        3.760225  \n",
              "\n",
              "[1000 rows x 7 columns]"
            ],
            "text/html": [
              "\n",
              "  <div id=\"df-1f24184f-0bfc-4a1a-9f42-e99490852596\" class=\"colab-df-container\">\n",
              "    <div>\n",
              "<style scoped>\n",
              "    .dataframe tbody tr th:only-of-type {\n",
              "        vertical-align: middle;\n",
              "    }\n",
              "\n",
              "    .dataframe tbody tr th {\n",
              "        vertical-align: top;\n",
              "    }\n",
              "\n",
              "    .dataframe thead th {\n",
              "        text-align: right;\n",
              "    }\n",
              "</style>\n",
              "<table border=\"1\" class=\"dataframe\">\n",
              "  <thead>\n",
              "    <tr style=\"text-align: right;\">\n",
              "      <th></th>\n",
              "      <th>highly_variable</th>\n",
              "      <th>means</th>\n",
              "      <th>dispersions</th>\n",
              "      <th>dispersions_norm</th>\n",
              "      <th>highly_variable_rank</th>\n",
              "      <th>variances</th>\n",
              "      <th>variances_norm</th>\n",
              "    </tr>\n",
              "  </thead>\n",
              "  <tbody>\n",
              "    <tr>\n",
              "      <th>MTATP8P1</th>\n",
              "      <td>True</td>\n",
              "      <td>0.011273</td>\n",
              "      <td>-1.407573</td>\n",
              "      <td>4.044634</td>\n",
              "      <td>0.0</td>\n",
              "      <td>0.002180</td>\n",
              "      <td>44.267829</td>\n",
              "    </tr>\n",
              "    <tr>\n",
              "      <th>ENSG00000277999</th>\n",
              "      <td>True</td>\n",
              "      <td>0.006128</td>\n",
              "      <td>-1.919678</td>\n",
              "      <td>3.527294</td>\n",
              "      <td>1.0</td>\n",
              "      <td>0.000771</td>\n",
              "      <td>43.033003</td>\n",
              "    </tr>\n",
              "    <tr>\n",
              "      <th>ENSG00000289137</th>\n",
              "      <td>True</td>\n",
              "      <td>0.013830</td>\n",
              "      <td>-1.318055</td>\n",
              "      <td>4.135067</td>\n",
              "      <td>2.0</td>\n",
              "      <td>0.002676</td>\n",
              "      <td>38.287954</td>\n",
              "    </tr>\n",
              "    <tr>\n",
              "      <th>ENSG00000253817</th>\n",
              "      <td>True</td>\n",
              "      <td>0.013364</td>\n",
              "      <td>-1.298244</td>\n",
              "      <td>4.155081</td>\n",
              "      <td>3.0</td>\n",
              "      <td>0.002521</td>\n",
              "      <td>38.270587</td>\n",
              "    </tr>\n",
              "    <tr>\n",
              "      <th>MTND2P28</th>\n",
              "      <td>True</td>\n",
              "      <td>0.017319</td>\n",
              "      <td>-1.246181</td>\n",
              "      <td>4.207676</td>\n",
              "      <td>4.0</td>\n",
              "      <td>0.003883</td>\n",
              "      <td>37.825506</td>\n",
              "    </tr>\n",
              "    <tr>\n",
              "      <th>...</th>\n",
              "      <td>...</td>\n",
              "      <td>...</td>\n",
              "      <td>...</td>\n",
              "      <td>...</td>\n",
              "      <td>...</td>\n",
              "      <td>...</td>\n",
              "      <td>...</td>\n",
              "    </tr>\n",
              "    <tr>\n",
              "      <th>NKX2-3</th>\n",
              "      <td>True</td>\n",
              "      <td>0.401552</td>\n",
              "      <td>-1.830747</td>\n",
              "      <td>2.331799</td>\n",
              "      <td>995.0</td>\n",
              "      <td>0.040880</td>\n",
              "      <td>3.766288</td>\n",
              "    </tr>\n",
              "    <tr>\n",
              "      <th>CCR1</th>\n",
              "      <td>True</td>\n",
              "      <td>0.095955</td>\n",
              "      <td>-2.169804</td>\n",
              "      <td>3.274611</td>\n",
              "      <td>996.0</td>\n",
              "      <td>0.006253</td>\n",
              "      <td>3.765267</td>\n",
              "    </tr>\n",
              "    <tr>\n",
              "      <th>ENSG00000267610</th>\n",
              "      <td>True</td>\n",
              "      <td>0.130499</td>\n",
              "      <td>-2.402310</td>\n",
              "      <td>1.826254</td>\n",
              "      <td>997.0</td>\n",
              "      <td>0.009752</td>\n",
              "      <td>3.764141</td>\n",
              "    </tr>\n",
              "    <tr>\n",
              "      <th>ENSG00000233397</th>\n",
              "      <td>True</td>\n",
              "      <td>0.017788</td>\n",
              "      <td>-3.629186</td>\n",
              "      <td>1.800311</td>\n",
              "      <td>998.0</td>\n",
              "      <td>0.000404</td>\n",
              "      <td>3.763703</td>\n",
              "    </tr>\n",
              "    <tr>\n",
              "      <th>ENSG00000289351</th>\n",
              "      <td>True</td>\n",
              "      <td>0.242979</td>\n",
              "      <td>-1.967107</td>\n",
              "      <td>2.411314</td>\n",
              "      <td>999.0</td>\n",
              "      <td>0.020829</td>\n",
              "      <td>3.760225</td>\n",
              "    </tr>\n",
              "  </tbody>\n",
              "</table>\n",
              "<p>1000 rows × 7 columns</p>\n",
              "</div>\n",
              "    <div class=\"colab-df-buttons\">\n",
              "\n",
              "  <div class=\"colab-df-container\">\n",
              "    <button class=\"colab-df-convert\" onclick=\"convertToInteractive('df-1f24184f-0bfc-4a1a-9f42-e99490852596')\"\n",
              "            title=\"Convert this dataframe to an interactive table.\"\n",
              "            style=\"display:none;\">\n",
              "\n",
              "  <svg xmlns=\"http://www.w3.org/2000/svg\" height=\"24px\" viewBox=\"0 -960 960 960\">\n",
              "    <path d=\"M120-120v-720h720v720H120Zm60-500h600v-160H180v160Zm220 220h160v-160H400v160Zm0 220h160v-160H400v160ZM180-400h160v-160H180v160Zm440 0h160v-160H620v160ZM180-180h160v-160H180v160Zm440 0h160v-160H620v160Z\"/>\n",
              "  </svg>\n",
              "    </button>\n",
              "\n",
              "  <style>\n",
              "    .colab-df-container {\n",
              "      display:flex;\n",
              "      gap: 12px;\n",
              "    }\n",
              "\n",
              "    .colab-df-convert {\n",
              "      background-color: #E8F0FE;\n",
              "      border: none;\n",
              "      border-radius: 50%;\n",
              "      cursor: pointer;\n",
              "      display: none;\n",
              "      fill: #1967D2;\n",
              "      height: 32px;\n",
              "      padding: 0 0 0 0;\n",
              "      width: 32px;\n",
              "    }\n",
              "\n",
              "    .colab-df-convert:hover {\n",
              "      background-color: #E2EBFA;\n",
              "      box-shadow: 0px 1px 2px rgba(60, 64, 67, 0.3), 0px 1px 3px 1px rgba(60, 64, 67, 0.15);\n",
              "      fill: #174EA6;\n",
              "    }\n",
              "\n",
              "    .colab-df-buttons div {\n",
              "      margin-bottom: 4px;\n",
              "    }\n",
              "\n",
              "    [theme=dark] .colab-df-convert {\n",
              "      background-color: #3B4455;\n",
              "      fill: #D2E3FC;\n",
              "    }\n",
              "\n",
              "    [theme=dark] .colab-df-convert:hover {\n",
              "      background-color: #434B5C;\n",
              "      box-shadow: 0px 1px 3px 1px rgba(0, 0, 0, 0.15);\n",
              "      filter: drop-shadow(0px 1px 2px rgba(0, 0, 0, 0.3));\n",
              "      fill: #FFFFFF;\n",
              "    }\n",
              "  </style>\n",
              "\n",
              "    <script>\n",
              "      const buttonEl =\n",
              "        document.querySelector('#df-1f24184f-0bfc-4a1a-9f42-e99490852596 button.colab-df-convert');\n",
              "      buttonEl.style.display =\n",
              "        google.colab.kernel.accessAllowed ? 'block' : 'none';\n",
              "\n",
              "      async function convertToInteractive(key) {\n",
              "        const element = document.querySelector('#df-1f24184f-0bfc-4a1a-9f42-e99490852596');\n",
              "        const dataTable =\n",
              "          await google.colab.kernel.invokeFunction('convertToInteractive',\n",
              "                                                    [key], {});\n",
              "        if (!dataTable) return;\n",
              "\n",
              "        const docLinkHtml = 'Like what you see? Visit the ' +\n",
              "          '<a target=\"_blank\" href=https://colab.research.google.com/notebooks/data_table.ipynb>data table notebook</a>'\n",
              "          + ' to learn more about interactive tables.';\n",
              "        element.innerHTML = '';\n",
              "        dataTable['output_type'] = 'display_data';\n",
              "        await google.colab.output.renderOutput(dataTable, element);\n",
              "        const docLink = document.createElement('div');\n",
              "        docLink.innerHTML = docLinkHtml;\n",
              "        element.appendChild(docLink);\n",
              "      }\n",
              "    </script>\n",
              "  </div>\n",
              "\n",
              "\n",
              "<div id=\"df-7a85f4a6-6709-4c4e-ac21-c398a9e50e08\">\n",
              "  <button class=\"colab-df-quickchart\" onclick=\"quickchart('df-7a85f4a6-6709-4c4e-ac21-c398a9e50e08')\"\n",
              "            title=\"Suggest charts\"\n",
              "            style=\"display:none;\">\n",
              "\n",
              "<svg xmlns=\"http://www.w3.org/2000/svg\" height=\"24px\"viewBox=\"0 0 24 24\"\n",
              "     width=\"24px\">\n",
              "    <g>\n",
              "        <path d=\"M19 3H5c-1.1 0-2 .9-2 2v14c0 1.1.9 2 2 2h14c1.1 0 2-.9 2-2V5c0-1.1-.9-2-2-2zM9 17H7v-7h2v7zm4 0h-2V7h2v10zm4 0h-2v-4h2v4z\"/>\n",
              "    </g>\n",
              "</svg>\n",
              "  </button>\n",
              "\n",
              "<style>\n",
              "  .colab-df-quickchart {\n",
              "      --bg-color: #E8F0FE;\n",
              "      --fill-color: #1967D2;\n",
              "      --hover-bg-color: #E2EBFA;\n",
              "      --hover-fill-color: #174EA6;\n",
              "      --disabled-fill-color: #AAA;\n",
              "      --disabled-bg-color: #DDD;\n",
              "  }\n",
              "\n",
              "  [theme=dark] .colab-df-quickchart {\n",
              "      --bg-color: #3B4455;\n",
              "      --fill-color: #D2E3FC;\n",
              "      --hover-bg-color: #434B5C;\n",
              "      --hover-fill-color: #FFFFFF;\n",
              "      --disabled-bg-color: #3B4455;\n",
              "      --disabled-fill-color: #666;\n",
              "  }\n",
              "\n",
              "  .colab-df-quickchart {\n",
              "    background-color: var(--bg-color);\n",
              "    border: none;\n",
              "    border-radius: 50%;\n",
              "    cursor: pointer;\n",
              "    display: none;\n",
              "    fill: var(--fill-color);\n",
              "    height: 32px;\n",
              "    padding: 0;\n",
              "    width: 32px;\n",
              "  }\n",
              "\n",
              "  .colab-df-quickchart:hover {\n",
              "    background-color: var(--hover-bg-color);\n",
              "    box-shadow: 0 1px 2px rgba(60, 64, 67, 0.3), 0 1px 3px 1px rgba(60, 64, 67, 0.15);\n",
              "    fill: var(--button-hover-fill-color);\n",
              "  }\n",
              "\n",
              "  .colab-df-quickchart-complete:disabled,\n",
              "  .colab-df-quickchart-complete:disabled:hover {\n",
              "    background-color: var(--disabled-bg-color);\n",
              "    fill: var(--disabled-fill-color);\n",
              "    box-shadow: none;\n",
              "  }\n",
              "\n",
              "  .colab-df-spinner {\n",
              "    border: 2px solid var(--fill-color);\n",
              "    border-color: transparent;\n",
              "    border-bottom-color: var(--fill-color);\n",
              "    animation:\n",
              "      spin 1s steps(1) infinite;\n",
              "  }\n",
              "\n",
              "  @keyframes spin {\n",
              "    0% {\n",
              "      border-color: transparent;\n",
              "      border-bottom-color: var(--fill-color);\n",
              "      border-left-color: var(--fill-color);\n",
              "    }\n",
              "    20% {\n",
              "      border-color: transparent;\n",
              "      border-left-color: var(--fill-color);\n",
              "      border-top-color: var(--fill-color);\n",
              "    }\n",
              "    30% {\n",
              "      border-color: transparent;\n",
              "      border-left-color: var(--fill-color);\n",
              "      border-top-color: var(--fill-color);\n",
              "      border-right-color: var(--fill-color);\n",
              "    }\n",
              "    40% {\n",
              "      border-color: transparent;\n",
              "      border-right-color: var(--fill-color);\n",
              "      border-top-color: var(--fill-color);\n",
              "    }\n",
              "    60% {\n",
              "      border-color: transparent;\n",
              "      border-right-color: var(--fill-color);\n",
              "    }\n",
              "    80% {\n",
              "      border-color: transparent;\n",
              "      border-right-color: var(--fill-color);\n",
              "      border-bottom-color: var(--fill-color);\n",
              "    }\n",
              "    90% {\n",
              "      border-color: transparent;\n",
              "      border-bottom-color: var(--fill-color);\n",
              "    }\n",
              "  }\n",
              "</style>\n",
              "\n",
              "  <script>\n",
              "    async function quickchart(key) {\n",
              "      const quickchartButtonEl =\n",
              "        document.querySelector('#' + key + ' button');\n",
              "      quickchartButtonEl.disabled = true;  // To prevent multiple clicks.\n",
              "      quickchartButtonEl.classList.add('colab-df-spinner');\n",
              "      try {\n",
              "        const charts = await google.colab.kernel.invokeFunction(\n",
              "            'suggestCharts', [key], {});\n",
              "      } catch (error) {\n",
              "        console.error('Error during call to suggestCharts:', error);\n",
              "      }\n",
              "      quickchartButtonEl.classList.remove('colab-df-spinner');\n",
              "      quickchartButtonEl.classList.add('colab-df-quickchart-complete');\n",
              "    }\n",
              "    (() => {\n",
              "      let quickchartButtonEl =\n",
              "        document.querySelector('#df-7a85f4a6-6709-4c4e-ac21-c398a9e50e08 button');\n",
              "      quickchartButtonEl.style.display =\n",
              "        google.colab.kernel.accessAllowed ? 'block' : 'none';\n",
              "    })();\n",
              "  </script>\n",
              "</div>\n",
              "\n",
              "    </div>\n",
              "  </div>\n"
            ],
            "application/vnd.google.colaboratory.intrinsic+json": {
              "type": "dataframe",
              "summary": "{\n  \"name\": \"adata_subset\",\n  \"rows\": 1000,\n  \"fields\": [\n    {\n      \"column\": \"highly_variable\",\n      \"properties\": {\n        \"dtype\": \"boolean\",\n        \"num_unique_values\": 1,\n        \"samples\": [\n          true\n        ],\n        \"semantic_type\": \"\",\n        \"description\": \"\"\n      }\n    },\n    {\n      \"column\": \"means\",\n      \"properties\": {\n        \"dtype\": \"number\",\n        \"std\": 0.3052596584713931,\n        \"min\": 0.000823873162083261,\n        \"max\": 1.6712266089152068,\n        \"num_unique_values\": 1000,\n        \"samples\": [\n          0.39446877551508425\n        ],\n        \"semantic_type\": \"\",\n        \"description\": \"\"\n      }\n    },\n    {\n      \"column\": \"dispersions\",\n      \"properties\": {\n        \"dtype\": \"number\",\n        \"std\": 1.7551361060501627,\n        \"min\": -5.137104720824319,\n        \"max\": 5.777068552753961,\n        \"num_unique_values\": 1000,\n        \"samples\": [\n          -1.0072746292785972\n        ],\n        \"semantic_type\": \"\",\n        \"description\": \"\"\n      }\n    },\n    {\n      \"column\": \"dispersions_norm\",\n      \"properties\": {\n        \"dtype\": \"float32\",\n        \"num_unique_values\": 1000,\n        \"samples\": [\n          4.118519306182861\n        ],\n        \"semantic_type\": \"\",\n        \"description\": \"\"\n      }\n    },\n    {\n      \"column\": \"highly_variable_rank\",\n      \"properties\": {\n        \"dtype\": \"float32\",\n        \"num_unique_values\": 1000,\n        \"samples\": [\n          521.0\n        ],\n        \"semantic_type\": \"\",\n        \"description\": \"\"\n      }\n    },\n    {\n      \"column\": \"variances\",\n      \"properties\": {\n        \"dtype\": \"number\",\n        \"std\": 0.13381630316047363,\n        \"min\": 4.744788964636371e-06,\n        \"max\": 0.9838776253950202,\n        \"num_unique_values\": 1000,\n        \"samples\": [\n          0.055380069277975404\n        ],\n        \"semantic_type\": \"\",\n        \"description\": \"\"\n      }\n    },\n    {\n      \"column\": \"variances_norm\",\n      \"properties\": {\n        \"dtype\": \"number\",\n        \"std\": 5.821215146433824,\n        \"min\": 3.7602247073975907,\n        \"max\": 44.26782900602263,\n        \"num_unique_values\": 1000,\n        \"samples\": [\n          5.242780401910195\n        ],\n        \"semantic_type\": \"\",\n        \"description\": \"\"\n      }\n    }\n  ]\n}"
            }
          },
          "metadata": {},
          "execution_count": 55
        }
      ]
    },
    {
      "cell_type": "code",
      "source": [
        "#Perform t-test\n",
        "test_tt = de.test.t_test(\n",
        "    data=adata_subset,\n",
        "    grouping=\"Treatment\"\n",
        ")"
      ],
      "metadata": {
        "id": "pTqWvoHKW0jO"
      },
      "id": "pTqWvoHKW0jO",
      "execution_count": 58,
      "outputs": []
    },
    {
      "cell_type": "code",
      "source": [
        "test_tt.summary()"
      ],
      "metadata": {
        "id": "ghFHePOAVITv",
        "outputId": "71720240-f06e-4f32-c435-3641a6583a94",
        "colab": {
          "base_uri": "https://localhost:8080/",
          "height": 423
        }
      },
      "id": "ghFHePOAVITv",
      "execution_count": 64,
      "outputs": [
        {
          "output_type": "execute_result",
          "data": {
            "text/plain": [
              "                gene           pval           qval    log2fc      mean  \\\n",
              "0           MTATP8P1  1.860436e-186  2.238792e-186  0.724020  0.002121   \n",
              "1    ENSG00000277999   0.000000e+00   0.000000e+00  1.022222  0.005669   \n",
              "2    ENSG00000289137  6.656099e-147  7.721692e-147  0.688174  0.004294   \n",
              "3    ENSG00000253817   4.139208e-02   4.185246e-02  0.059771  0.002004   \n",
              "4           MTND2P28   0.000000e+00   0.000000e+00  1.211965  0.008803   \n",
              "..               ...            ...            ...       ...       ...   \n",
              "995           NKX2-3   0.000000e+00   0.000000e+00  0.603802  0.399829   \n",
              "996             CCR1   0.000000e+00   0.000000e+00  0.625423  0.111940   \n",
              "997  ENSG00000267610   0.000000e+00   0.000000e+00  0.623364  0.109222   \n",
              "998  ENSG00000233397   0.000000e+00   0.000000e+00  0.673937  0.582492   \n",
              "999  ENSG00000289351   0.000000e+00   0.000000e+00  1.232127  0.005387   \n",
              "\n",
              "     zero_mean  zero_variance  \n",
              "0        False          False  \n",
              "1        False          False  \n",
              "2        False          False  \n",
              "3        False          False  \n",
              "4        False          False  \n",
              "..         ...            ...  \n",
              "995      False          False  \n",
              "996      False          False  \n",
              "997      False          False  \n",
              "998      False          False  \n",
              "999      False          False  \n",
              "\n",
              "[1000 rows x 7 columns]"
            ],
            "text/html": [
              "\n",
              "  <div id=\"df-fcee52c3-7132-407d-a0e7-a34c55e8b3d2\" class=\"colab-df-container\">\n",
              "    <div>\n",
              "<style scoped>\n",
              "    .dataframe tbody tr th:only-of-type {\n",
              "        vertical-align: middle;\n",
              "    }\n",
              "\n",
              "    .dataframe tbody tr th {\n",
              "        vertical-align: top;\n",
              "    }\n",
              "\n",
              "    .dataframe thead th {\n",
              "        text-align: right;\n",
              "    }\n",
              "</style>\n",
              "<table border=\"1\" class=\"dataframe\">\n",
              "  <thead>\n",
              "    <tr style=\"text-align: right;\">\n",
              "      <th></th>\n",
              "      <th>gene</th>\n",
              "      <th>pval</th>\n",
              "      <th>qval</th>\n",
              "      <th>log2fc</th>\n",
              "      <th>mean</th>\n",
              "      <th>zero_mean</th>\n",
              "      <th>zero_variance</th>\n",
              "    </tr>\n",
              "  </thead>\n",
              "  <tbody>\n",
              "    <tr>\n",
              "      <th>0</th>\n",
              "      <td>MTATP8P1</td>\n",
              "      <td>1.860436e-186</td>\n",
              "      <td>2.238792e-186</td>\n",
              "      <td>0.724020</td>\n",
              "      <td>0.002121</td>\n",
              "      <td>False</td>\n",
              "      <td>False</td>\n",
              "    </tr>\n",
              "    <tr>\n",
              "      <th>1</th>\n",
              "      <td>ENSG00000277999</td>\n",
              "      <td>0.000000e+00</td>\n",
              "      <td>0.000000e+00</td>\n",
              "      <td>1.022222</td>\n",
              "      <td>0.005669</td>\n",
              "      <td>False</td>\n",
              "      <td>False</td>\n",
              "    </tr>\n",
              "    <tr>\n",
              "      <th>2</th>\n",
              "      <td>ENSG00000289137</td>\n",
              "      <td>6.656099e-147</td>\n",
              "      <td>7.721692e-147</td>\n",
              "      <td>0.688174</td>\n",
              "      <td>0.004294</td>\n",
              "      <td>False</td>\n",
              "      <td>False</td>\n",
              "    </tr>\n",
              "    <tr>\n",
              "      <th>3</th>\n",
              "      <td>ENSG00000253817</td>\n",
              "      <td>4.139208e-02</td>\n",
              "      <td>4.185246e-02</td>\n",
              "      <td>0.059771</td>\n",
              "      <td>0.002004</td>\n",
              "      <td>False</td>\n",
              "      <td>False</td>\n",
              "    </tr>\n",
              "    <tr>\n",
              "      <th>4</th>\n",
              "      <td>MTND2P28</td>\n",
              "      <td>0.000000e+00</td>\n",
              "      <td>0.000000e+00</td>\n",
              "      <td>1.211965</td>\n",
              "      <td>0.008803</td>\n",
              "      <td>False</td>\n",
              "      <td>False</td>\n",
              "    </tr>\n",
              "    <tr>\n",
              "      <th>...</th>\n",
              "      <td>...</td>\n",
              "      <td>...</td>\n",
              "      <td>...</td>\n",
              "      <td>...</td>\n",
              "      <td>...</td>\n",
              "      <td>...</td>\n",
              "      <td>...</td>\n",
              "    </tr>\n",
              "    <tr>\n",
              "      <th>995</th>\n",
              "      <td>NKX2-3</td>\n",
              "      <td>0.000000e+00</td>\n",
              "      <td>0.000000e+00</td>\n",
              "      <td>0.603802</td>\n",
              "      <td>0.399829</td>\n",
              "      <td>False</td>\n",
              "      <td>False</td>\n",
              "    </tr>\n",
              "    <tr>\n",
              "      <th>996</th>\n",
              "      <td>CCR1</td>\n",
              "      <td>0.000000e+00</td>\n",
              "      <td>0.000000e+00</td>\n",
              "      <td>0.625423</td>\n",
              "      <td>0.111940</td>\n",
              "      <td>False</td>\n",
              "      <td>False</td>\n",
              "    </tr>\n",
              "    <tr>\n",
              "      <th>997</th>\n",
              "      <td>ENSG00000267610</td>\n",
              "      <td>0.000000e+00</td>\n",
              "      <td>0.000000e+00</td>\n",
              "      <td>0.623364</td>\n",
              "      <td>0.109222</td>\n",
              "      <td>False</td>\n",
              "      <td>False</td>\n",
              "    </tr>\n",
              "    <tr>\n",
              "      <th>998</th>\n",
              "      <td>ENSG00000233397</td>\n",
              "      <td>0.000000e+00</td>\n",
              "      <td>0.000000e+00</td>\n",
              "      <td>0.673937</td>\n",
              "      <td>0.582492</td>\n",
              "      <td>False</td>\n",
              "      <td>False</td>\n",
              "    </tr>\n",
              "    <tr>\n",
              "      <th>999</th>\n",
              "      <td>ENSG00000289351</td>\n",
              "      <td>0.000000e+00</td>\n",
              "      <td>0.000000e+00</td>\n",
              "      <td>1.232127</td>\n",
              "      <td>0.005387</td>\n",
              "      <td>False</td>\n",
              "      <td>False</td>\n",
              "    </tr>\n",
              "  </tbody>\n",
              "</table>\n",
              "<p>1000 rows × 7 columns</p>\n",
              "</div>\n",
              "    <div class=\"colab-df-buttons\">\n",
              "\n",
              "  <div class=\"colab-df-container\">\n",
              "    <button class=\"colab-df-convert\" onclick=\"convertToInteractive('df-fcee52c3-7132-407d-a0e7-a34c55e8b3d2')\"\n",
              "            title=\"Convert this dataframe to an interactive table.\"\n",
              "            style=\"display:none;\">\n",
              "\n",
              "  <svg xmlns=\"http://www.w3.org/2000/svg\" height=\"24px\" viewBox=\"0 -960 960 960\">\n",
              "    <path d=\"M120-120v-720h720v720H120Zm60-500h600v-160H180v160Zm220 220h160v-160H400v160Zm0 220h160v-160H400v160ZM180-400h160v-160H180v160Zm440 0h160v-160H620v160ZM180-180h160v-160H180v160Zm440 0h160v-160H620v160Z\"/>\n",
              "  </svg>\n",
              "    </button>\n",
              "\n",
              "  <style>\n",
              "    .colab-df-container {\n",
              "      display:flex;\n",
              "      gap: 12px;\n",
              "    }\n",
              "\n",
              "    .colab-df-convert {\n",
              "      background-color: #E8F0FE;\n",
              "      border: none;\n",
              "      border-radius: 50%;\n",
              "      cursor: pointer;\n",
              "      display: none;\n",
              "      fill: #1967D2;\n",
              "      height: 32px;\n",
              "      padding: 0 0 0 0;\n",
              "      width: 32px;\n",
              "    }\n",
              "\n",
              "    .colab-df-convert:hover {\n",
              "      background-color: #E2EBFA;\n",
              "      box-shadow: 0px 1px 2px rgba(60, 64, 67, 0.3), 0px 1px 3px 1px rgba(60, 64, 67, 0.15);\n",
              "      fill: #174EA6;\n",
              "    }\n",
              "\n",
              "    .colab-df-buttons div {\n",
              "      margin-bottom: 4px;\n",
              "    }\n",
              "\n",
              "    [theme=dark] .colab-df-convert {\n",
              "      background-color: #3B4455;\n",
              "      fill: #D2E3FC;\n",
              "    }\n",
              "\n",
              "    [theme=dark] .colab-df-convert:hover {\n",
              "      background-color: #434B5C;\n",
              "      box-shadow: 0px 1px 3px 1px rgba(0, 0, 0, 0.15);\n",
              "      filter: drop-shadow(0px 1px 2px rgba(0, 0, 0, 0.3));\n",
              "      fill: #FFFFFF;\n",
              "    }\n",
              "  </style>\n",
              "\n",
              "    <script>\n",
              "      const buttonEl =\n",
              "        document.querySelector('#df-fcee52c3-7132-407d-a0e7-a34c55e8b3d2 button.colab-df-convert');\n",
              "      buttonEl.style.display =\n",
              "        google.colab.kernel.accessAllowed ? 'block' : 'none';\n",
              "\n",
              "      async function convertToInteractive(key) {\n",
              "        const element = document.querySelector('#df-fcee52c3-7132-407d-a0e7-a34c55e8b3d2');\n",
              "        const dataTable =\n",
              "          await google.colab.kernel.invokeFunction('convertToInteractive',\n",
              "                                                    [key], {});\n",
              "        if (!dataTable) return;\n",
              "\n",
              "        const docLinkHtml = 'Like what you see? Visit the ' +\n",
              "          '<a target=\"_blank\" href=https://colab.research.google.com/notebooks/data_table.ipynb>data table notebook</a>'\n",
              "          + ' to learn more about interactive tables.';\n",
              "        element.innerHTML = '';\n",
              "        dataTable['output_type'] = 'display_data';\n",
              "        await google.colab.output.renderOutput(dataTable, element);\n",
              "        const docLink = document.createElement('div');\n",
              "        docLink.innerHTML = docLinkHtml;\n",
              "        element.appendChild(docLink);\n",
              "      }\n",
              "    </script>\n",
              "  </div>\n",
              "\n",
              "\n",
              "<div id=\"df-2a98bdfc-142b-49f2-9853-ec8eef6c9827\">\n",
              "  <button class=\"colab-df-quickchart\" onclick=\"quickchart('df-2a98bdfc-142b-49f2-9853-ec8eef6c9827')\"\n",
              "            title=\"Suggest charts\"\n",
              "            style=\"display:none;\">\n",
              "\n",
              "<svg xmlns=\"http://www.w3.org/2000/svg\" height=\"24px\"viewBox=\"0 0 24 24\"\n",
              "     width=\"24px\">\n",
              "    <g>\n",
              "        <path d=\"M19 3H5c-1.1 0-2 .9-2 2v14c0 1.1.9 2 2 2h14c1.1 0 2-.9 2-2V5c0-1.1-.9-2-2-2zM9 17H7v-7h2v7zm4 0h-2V7h2v10zm4 0h-2v-4h2v4z\"/>\n",
              "    </g>\n",
              "</svg>\n",
              "  </button>\n",
              "\n",
              "<style>\n",
              "  .colab-df-quickchart {\n",
              "      --bg-color: #E8F0FE;\n",
              "      --fill-color: #1967D2;\n",
              "      --hover-bg-color: #E2EBFA;\n",
              "      --hover-fill-color: #174EA6;\n",
              "      --disabled-fill-color: #AAA;\n",
              "      --disabled-bg-color: #DDD;\n",
              "  }\n",
              "\n",
              "  [theme=dark] .colab-df-quickchart {\n",
              "      --bg-color: #3B4455;\n",
              "      --fill-color: #D2E3FC;\n",
              "      --hover-bg-color: #434B5C;\n",
              "      --hover-fill-color: #FFFFFF;\n",
              "      --disabled-bg-color: #3B4455;\n",
              "      --disabled-fill-color: #666;\n",
              "  }\n",
              "\n",
              "  .colab-df-quickchart {\n",
              "    background-color: var(--bg-color);\n",
              "    border: none;\n",
              "    border-radius: 50%;\n",
              "    cursor: pointer;\n",
              "    display: none;\n",
              "    fill: var(--fill-color);\n",
              "    height: 32px;\n",
              "    padding: 0;\n",
              "    width: 32px;\n",
              "  }\n",
              "\n",
              "  .colab-df-quickchart:hover {\n",
              "    background-color: var(--hover-bg-color);\n",
              "    box-shadow: 0 1px 2px rgba(60, 64, 67, 0.3), 0 1px 3px 1px rgba(60, 64, 67, 0.15);\n",
              "    fill: var(--button-hover-fill-color);\n",
              "  }\n",
              "\n",
              "  .colab-df-quickchart-complete:disabled,\n",
              "  .colab-df-quickchart-complete:disabled:hover {\n",
              "    background-color: var(--disabled-bg-color);\n",
              "    fill: var(--disabled-fill-color);\n",
              "    box-shadow: none;\n",
              "  }\n",
              "\n",
              "  .colab-df-spinner {\n",
              "    border: 2px solid var(--fill-color);\n",
              "    border-color: transparent;\n",
              "    border-bottom-color: var(--fill-color);\n",
              "    animation:\n",
              "      spin 1s steps(1) infinite;\n",
              "  }\n",
              "\n",
              "  @keyframes spin {\n",
              "    0% {\n",
              "      border-color: transparent;\n",
              "      border-bottom-color: var(--fill-color);\n",
              "      border-left-color: var(--fill-color);\n",
              "    }\n",
              "    20% {\n",
              "      border-color: transparent;\n",
              "      border-left-color: var(--fill-color);\n",
              "      border-top-color: var(--fill-color);\n",
              "    }\n",
              "    30% {\n",
              "      border-color: transparent;\n",
              "      border-left-color: var(--fill-color);\n",
              "      border-top-color: var(--fill-color);\n",
              "      border-right-color: var(--fill-color);\n",
              "    }\n",
              "    40% {\n",
              "      border-color: transparent;\n",
              "      border-right-color: var(--fill-color);\n",
              "      border-top-color: var(--fill-color);\n",
              "    }\n",
              "    60% {\n",
              "      border-color: transparent;\n",
              "      border-right-color: var(--fill-color);\n",
              "    }\n",
              "    80% {\n",
              "      border-color: transparent;\n",
              "      border-right-color: var(--fill-color);\n",
              "      border-bottom-color: var(--fill-color);\n",
              "    }\n",
              "    90% {\n",
              "      border-color: transparent;\n",
              "      border-bottom-color: var(--fill-color);\n",
              "    }\n",
              "  }\n",
              "</style>\n",
              "\n",
              "  <script>\n",
              "    async function quickchart(key) {\n",
              "      const quickchartButtonEl =\n",
              "        document.querySelector('#' + key + ' button');\n",
              "      quickchartButtonEl.disabled = true;  // To prevent multiple clicks.\n",
              "      quickchartButtonEl.classList.add('colab-df-spinner');\n",
              "      try {\n",
              "        const charts = await google.colab.kernel.invokeFunction(\n",
              "            'suggestCharts', [key], {});\n",
              "      } catch (error) {\n",
              "        console.error('Error during call to suggestCharts:', error);\n",
              "      }\n",
              "      quickchartButtonEl.classList.remove('colab-df-spinner');\n",
              "      quickchartButtonEl.classList.add('colab-df-quickchart-complete');\n",
              "    }\n",
              "    (() => {\n",
              "      let quickchartButtonEl =\n",
              "        document.querySelector('#df-2a98bdfc-142b-49f2-9853-ec8eef6c9827 button');\n",
              "      quickchartButtonEl.style.display =\n",
              "        google.colab.kernel.accessAllowed ? 'block' : 'none';\n",
              "    })();\n",
              "  </script>\n",
              "</div>\n",
              "\n",
              "    </div>\n",
              "  </div>\n"
            ],
            "application/vnd.google.colaboratory.intrinsic+json": {
              "type": "dataframe",
              "summary": "{\n  \"name\": \"test_tt\",\n  \"rows\": 1000,\n  \"fields\": [\n    {\n      \"column\": \"gene\",\n      \"properties\": {\n        \"dtype\": \"string\",\n        \"num_unique_values\": 1000,\n        \"samples\": [\n          \"LINC02073\",\n          \"ENSG00000290166\",\n          \"OR51B4\"\n        ],\n        \"semantic_type\": \"\",\n        \"description\": \"\"\n      }\n    },\n    {\n      \"column\": \"pval\",\n      \"properties\": {\n        \"dtype\": \"number\",\n        \"std\": 0.03858553861883336,\n        \"min\": 0.0,\n        \"max\": 0.7507216691653154,\n        \"num_unique_values\": 249,\n        \"samples\": [\n          1.1991624968270521e-54,\n          6.231096763155329e-185,\n          9.849910510235114e-232\n        ],\n        \"semantic_type\": \"\",\n        \"description\": \"\"\n      }\n    },\n    {\n      \"column\": \"qval\",\n      \"properties\": {\n        \"dtype\": \"number\",\n        \"std\": 0.0386407212081718,\n        \"min\": 0.0,\n        \"max\": 0.7507216691653154,\n        \"num_unique_values\": 248,\n        \"samples\": [\n          2.3143051567760854e-202,\n          7.480308239082028e-185,\n          1.1434897834591382e-107\n        ],\n        \"semantic_type\": \"\",\n        \"description\": \"\"\n      }\n    },\n    {\n      \"column\": \"log2fc\",\n      \"properties\": {\n        \"dtype\": \"number\",\n        \"std\": 0.41369288083090594,\n        \"min\": -1.2793044769996262,\n        \"max\": 2.653522414289866,\n        \"num_unique_values\": 1000,\n        \"samples\": [\n          1.2099816853140066,\n          0.4697474437270351,\n          0.652489290746935\n        ],\n        \"semantic_type\": \"\",\n        \"description\": \"\"\n      }\n    },\n    {\n      \"column\": \"mean\",\n      \"properties\": {\n        \"dtype\": \"number\",\n        \"std\": 0.27884407168239544,\n        \"min\": 0.0007417975474527936,\n        \"max\": 1.758144477513358,\n        \"num_unique_values\": 1000,\n        \"samples\": [\n          0.04393090194543944,\n          0.3775059009486674,\n          0.280393742544896\n        ],\n        \"semantic_type\": \"\",\n        \"description\": \"\"\n      }\n    },\n    {\n      \"column\": \"zero_mean\",\n      \"properties\": {\n        \"dtype\": \"boolean\",\n        \"num_unique_values\": 1,\n        \"samples\": [\n          false\n        ],\n        \"semantic_type\": \"\",\n        \"description\": \"\"\n      }\n    },\n    {\n      \"column\": \"zero_variance\",\n      \"properties\": {\n        \"dtype\": \"boolean\",\n        \"num_unique_values\": 1,\n        \"samples\": [\n          false\n        ],\n        \"semantic_type\": \"\",\n        \"description\": \"\"\n      }\n    }\n  ]\n}"
            }
          },
          "metadata": {},
          "execution_count": 64
        }
      ]
    },
    {
      "cell_type": "code",
      "source": [
        "sns.scatterplot(\n",
        "    x=test_tt.log10_pval_clean(),\n",
        "    y=test_tt.log10_pval_clean()\n",
        ")"
      ],
      "metadata": {
        "id": "eHAL2-QpVFJi",
        "outputId": "ca359ab6-0f75-4195-a348-cd549e7c44fe",
        "colab": {
          "base_uri": "https://localhost:8080/",
          "height": 448
        }
      },
      "id": "eHAL2-QpVFJi",
      "execution_count": 65,
      "outputs": [
        {
          "output_type": "execute_result",
          "data": {
            "text/plain": [
              "<Axes: >"
            ]
          },
          "metadata": {},
          "execution_count": 65
        },
        {
          "output_type": "display_data",
          "data": {
            "text/plain": [
              "<Figure size 640x480 with 1 Axes>"
            ],
            "image/png": "[encoded data removed]"
          },
          "metadata": {}
        }
      ]
    },
    {
      "cell_type": "code",
      "source": [
        "test_tt.plot_volcano()"
      ],
      "metadata": {
        "id": "6kN0QHClVePT",
        "outputId": "4fffdd17-7002-4ce1-af26-880ce90fd47b",
        "colab": {
          "base_uri": "https://localhost:8080/",
          "height": 449
        }
      },
      "id": "6kN0QHClVePT",
      "execution_count": 66,
      "outputs": [
        {
          "output_type": "display_data",
          "data": {
            "text/plain": [
              "<Figure size 640x480 with 1 Axes>"
            ],
            "image/png": "[encoded data removed]"
          },
          "metadata": {}
        }
      ]
    },
    {
      "cell_type": "code",
      "source": [
        "test_tt.plot_ma()"
      ],
      "metadata": {
        "id": "ueW0AIIvVrME",
        "outputId": "ed87603b-dec1-4920-d1d3-e33f7e23b2d6",
        "colab": {
          "base_uri": "https://localhost:8080/",
          "height": 449
        }
      },
      "id": "ueW0AIIvVrME",
      "execution_count": 67,
      "outputs": [
        {
          "output_type": "display_data",
          "data": {
            "text/plain": [
              "<Figure size 640x480 with 1 Axes>"
            ],
            "image/png": "[encoded data removed]"
          },
          "metadata": {}
        }
      ]
    },
    {
      "cell_type": "code",
      "source": [],
      "metadata": {
        "id": "Vn134DmVVxcs"
      },
      "id": "Vn134DmVVxcs",
      "execution_count": null,
      "outputs": []
    }
  ],
  "metadata": {
    "colab": {
      "machine_shape": "hm",
      "provenance": [],
      "toc_visible": true,
      "include_colab_link": true
    },
    "kernelspec": {
      "display_name": "Python 3",
      "name": "python3"
    },
    "language_info": {
      "name": "python"
    }
  },
  "nbformat": 4,
  "nbformat_minor": 5
}