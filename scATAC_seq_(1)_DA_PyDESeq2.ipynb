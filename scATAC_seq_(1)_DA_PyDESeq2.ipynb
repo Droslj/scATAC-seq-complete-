{
  "cells": [
    {
      "cell_type": "markdown",
      "metadata": {
        "id": "view-in-github",
        "colab_type": "text"
      },
      "source": [
        "<a href=\"https://colab.research.google.com/github/Droslj/scATAC-seq-complete-/blob/Google-colab/scATAC_seq_(1)_DA_PyDESeq2.ipynb\" target=\"_parent\"><img src=\"https://colab.research.google.com/assets/colab-badge.svg\" alt=\"Open In Colab\"/></a>"
      ]
    },
    {
      "cell_type": "markdown",
      "id": "f268332b-53de-4af8-9533-e48c041292f3",
      "metadata": {
        "id": "f268332b-53de-4af8-9533-e48c041292f3"
      },
      "source": [
        "scATAC seq, based on scATAC seq processing Galaxy tutorials (scATAC preprocessing (2), Standard scATAC seq processing pipeline (1) )\n",
        "AD Objects created in Galaxy using customized Galaxy WF with Snapatac2 and imported\n",
        "(1) https://usegalaxy.eu/training-material/topics/single-cell/tutorials/scatac-preprocessing-tenx/tutorial.html#mapping-reads-to-a-reference-genome, (2) https://usegalaxy.eu/training-material/topics/single-cell/tutorials/scatac-standard-processing-snapatac2/tutorial.html\n",
        "Data taken from the following NCBI study:\n",
        "Metabolic adaptation pilots the differentiation of human hematopoietic cells (https://www.ncbi.nlm.nih.gov/bioproject/PRJNA1015713)\n",
        "Import preprocessed Anndata object for four biological replicates, SRR26046013 (cells treated with AOA inhibitor), SRR26046015 (cells treated with DON inhibitor), SRR26046017 (cells treated with DG inhibitor), and SRR26046019 (untreated cells).\n",
        "Following steps were performed in the preprocessing:\n",
        "(1) Import matrices\n",
        "(2) Compute fragment size distribution\n",
        "(3) Compute TSS enrichment\n",
        "(4) Filter cell counts based on TSSe\n",
        "(5) Create cell by bin matrix based on 500 bp wide bins accross the whole genome\n",
        "(6) Perform feature selection\n",
        "(7) Perform Doublet removal\n",
        "(8) Perform Dim reduction (spectral)\n",
        "(9) Perform Clustering (neighborhood, UMAP, leiden)\n",
        "(10) Create a cell by gene matrix\n",
        "(11) Concatenate matrices using Inner join\n",
        "(12) Remove batch effects"
      ]
    },
    {
      "cell_type": "code",
      "source": [
        "!pip install -q condacolab"
      ],
      "metadata": {
        "id": "HYs7RhoU68Ks"
      },
      "execution_count": 1,
      "outputs": [],
      "id": "HYs7RhoU68Ks"
    },
    {
      "cell_type": "code",
      "source": [
        "import condacolab"
      ],
      "metadata": {
        "id": "QBQXEKjk7O-V"
      },
      "execution_count": 2,
      "outputs": [],
      "id": "QBQXEKjk7O-V"
    },
    {
      "cell_type": "code",
      "source": [
        "condacolab.install()"
      ],
      "metadata": {
        "colab": {
          "base_uri": "https://localhost:8080/"
        },
        "id": "YdiPg8vS7ZKq",
        "outputId": "c4c2c43a-e6df-4e07-a539-f9a8637440d3"
      },
      "execution_count": 3,
      "outputs": [
        {
          "output_type": "stream",
          "name": "stdout",
          "text": [
            "✨🍰✨ Everything looks OK!\n"
          ]
        }
      ],
      "id": "YdiPg8vS7ZKq"
    },
    {
      "cell_type": "code",
      "source": [
        "!conda --version"
      ],
      "metadata": {
        "colab": {
          "base_uri": "https://localhost:8080/"
        },
        "id": "VITjp1M56yu_",
        "outputId": "214670b8-ecfb-4685-8777-aaa34710853b"
      },
      "execution_count": 4,
      "outputs": [
        {
          "output_type": "stream",
          "name": "stdout",
          "text": [
            "conda 23.11.0\n"
          ]
        }
      ],
      "id": "VITjp1M56yu_"
    },
    {
      "cell_type": "code",
      "source": [
        "!which conda"
      ],
      "metadata": {
        "colab": {
          "base_uri": "https://localhost:8080/"
        },
        "id": "S-oCMIm-7p9i",
        "outputId": "6d9ef1ad-0637-4f24-9455-ab6cd5e4e3d1"
      },
      "execution_count": 5,
      "outputs": [
        {
          "output_type": "stream",
          "name": "stdout",
          "text": [
            "/usr/local/bin/conda\n"
          ]
        }
      ],
      "id": "S-oCMIm-7p9i"
    },
    {
      "cell_type": "code",
      "source": [
        "!conda config --add channels conda-forge"
      ],
      "metadata": {
        "colab": {
          "base_uri": "https://localhost:8080/"
        },
        "id": "D6zjhdZm-BJp",
        "outputId": "e4e0f729-d1ff-4205-f6f2-077218349f98"
      },
      "execution_count": 6,
      "outputs": [
        {
          "output_type": "stream",
          "name": "stdout",
          "text": [
            "Warning: 'conda-forge' already in 'channels' list, moving to the top\n"
          ]
        }
      ],
      "id": "D6zjhdZm-BJp"
    },
    {
      "cell_type": "code",
      "source": [
        "!conda config --add channels bioconda"
      ],
      "metadata": {
        "colab": {
          "base_uri": "https://localhost:8080/"
        },
        "id": "JpJESCcU-fO_",
        "outputId": "c749fe3d-fd4b-4876-8c3f-6d95124827e8"
      },
      "execution_count": 7,
      "outputs": [
        {
          "output_type": "stream",
          "name": "stdout",
          "text": [
            "Warning: 'bioconda' already in 'channels' list, moving to the top\n"
          ]
        }
      ],
      "id": "JpJESCcU-fO_"
    },
    {
      "source": [
        "!pip install snapatac2 -q"
      ],
      "cell_type": "code",
      "metadata": {
        "id": "gZdiRWwb1rZJ"
      },
      "execution_count": 1,
      "outputs": [],
      "id": "gZdiRWwb1rZJ"
    },
    {
      "cell_type": "code",
      "source": [
        "!pip show snapatac2"
      ],
      "metadata": {
        "colab": {
          "base_uri": "https://localhost:8080/"
        },
        "id": "jsCJ2get4W8l",
        "outputId": "ce4bddf1-8aa7-4eab-c0db-cbea77189322"
      },
      "execution_count": 2,
      "outputs": [
        {
          "output_type": "stream",
          "name": "stdout",
          "text": [
            "Name: snapatac2\n",
            "Version: 2.8.0\n",
            "Summary: SnapATAC2: Single-cell epigenomics analysis pipeline\n",
            "Home-page: https://github.com/\n",
            "Author: Kai Zhang <kai@kzhang.org>\n",
            "Author-email: Kai Zhang <zhangkai33@westlake.edu.cn>\n",
            "License: MIT\n",
            "Location: /usr/local/lib/python3.10/site-packages\n",
            "Requires: anndata, igraph, kaleido, macs3, multiprocess, natsort, numpy, pandas, plotly, polars, pooch, pyarrow, pyfaidx, rustworkx, scikit-learn, scipy, tqdm, typeguard\n",
            "Required-by: \n"
          ]
        }
      ],
      "id": "jsCJ2get4W8l"
    },
    {
      "cell_type": "code",
      "source": [
        "import snapatac2 as snap"
      ],
      "metadata": {
        "id": "z2G4FDYqgSmQ"
      },
      "execution_count": 3,
      "outputs": [],
      "id": "z2G4FDYqgSmQ"
    },
    {
      "cell_type": "code",
      "source": [
        "!pip install umap-learn"
      ],
      "metadata": {
        "colab": {
          "base_uri": "https://localhost:8080/"
        },
        "id": "VZLaiDEzlB1m",
        "outputId": "3fbbbddf-ca61-40f0-c643-273e581bb0cd"
      },
      "execution_count": 4,
      "outputs": [
        {
          "output_type": "stream",
          "name": "stdout",
          "text": [
            "Requirement already satisfied: umap-learn in /usr/local/lib/python3.10/site-packages (0.5.7)\n",
            "Requirement already satisfied: numpy>=1.17 in /usr/local/lib/python3.10/site-packages (from umap-learn) (1.26.4)\n",
            "Requirement already satisfied: scipy>=1.3.1 in /usr/local/lib/python3.10/site-packages (from umap-learn) (1.15.0)\n",
            "Requirement already satisfied: scikit-learn>=0.22 in /usr/local/lib/python3.10/site-packages (from umap-learn) (1.6.1)\n",
            "Requirement already satisfied: numba>=0.51.2 in /usr/local/lib/python3.10/site-packages (from umap-learn) (0.60.0)\n",
            "Requirement already satisfied: pynndescent>=0.5 in /usr/local/lib/python3.10/site-packages (from umap-learn) (0.5.13)\n",
            "Requirement already satisfied: tqdm in /usr/local/lib/python3.10/site-packages (from umap-learn) (4.66.1)\n",
            "Requirement already satisfied: llvmlite<0.44,>=0.43.0dev0 in /usr/local/lib/python3.10/site-packages (from numba>=0.51.2->umap-learn) (0.43.0)\n",
            "Requirement already satisfied: joblib>=0.11 in /usr/local/lib/python3.10/site-packages (from pynndescent>=0.5->umap-learn) (1.4.2)\n",
            "Requirement already satisfied: threadpoolctl>=3.1.0 in /usr/local/lib/python3.10/site-packages (from scikit-learn>=0.22->umap-learn) (3.5.0)\n"
          ]
        }
      ],
      "id": "VZLaiDEzlB1m"
    },
    {
      "cell_type": "code",
      "source": [
        "import umap.umap_ as umap\n"
      ],
      "metadata": {
        "id": "BCEdegOSgRBg"
      },
      "execution_count": 5,
      "outputs": [],
      "id": "BCEdegOSgRBg"
    },
    {
      "cell_type": "code",
      "source": [
        "from umap import UMAP"
      ],
      "metadata": {
        "id": "FVmqXk-vlFrB"
      },
      "execution_count": 6,
      "outputs": [],
      "id": "FVmqXk-vlFrB"
    },
    {
      "cell_type": "code",
      "source": [
        "!pip install scanpy -q"
      ],
      "metadata": {
        "id": "CM_xhHZxUcF5"
      },
      "execution_count": 7,
      "outputs": [],
      "id": "CM_xhHZxUcF5"
    },
    {
      "cell_type": "code",
      "source": [
        "import scanpy as sc"
      ],
      "metadata": {
        "id": "NYl1nQOhUoj2"
      },
      "execution_count": 8,
      "outputs": [],
      "id": "NYl1nQOhUoj2"
    },
    {
      "cell_type": "code",
      "source": [
        "pip show scanpy"
      ],
      "metadata": {
        "colab": {
          "base_uri": "https://localhost:8080/"
        },
        "id": "rkvTEjpw_csS",
        "outputId": "bf6d4cc0-50ea-4cea-ab89-b4487fbb106c"
      },
      "execution_count": 9,
      "outputs": [
        {
          "output_type": "stream",
          "name": "stdout",
          "text": [
            "Name: scanpy\n",
            "Version: 1.10.4\n",
            "Summary: Single-Cell Analysis in Python.\n",
            "Home-page: \n",
            "Author: Alex Wolf, Philipp Angerer, Fidel Ramirez, Isaac Virshup, Sergei Rybakov, Gokcen Eraslan, Tom White, Malte Luecken, Davide Cittaro, Tobias Callies, Marius Lange, Andrés R. Muñoz-Rojas\n",
            "Author-email: \n",
            "License: \n",
            "Location: /usr/local/lib/python3.10/site-packages\n",
            "Requires: anndata, h5py, joblib, legacy-api-wrap, matplotlib, natsort, networkx, numba, numpy, packaging, pandas, patsy, pynndescent, scikit-learn, scipy, seaborn, session-info, statsmodels, tqdm, umap-learn\n",
            "Required-by: \n"
          ]
        }
      ],
      "id": "rkvTEjpw_csS"
    },
    {
      "source": [
        "!pip install pydeseq2 -q # Install PyDESeq2"
      ],
      "cell_type": "code",
      "metadata": {
        "id": "8-JpAgQ0kDwJ"
      },
      "execution_count": 10,
      "outputs": [],
      "id": "8-JpAgQ0kDwJ"
    },
    {
      "cell_type": "code",
      "source": [
        "import pydeseq2"
      ],
      "metadata": {
        "id": "uQqGgNjvwQ5V"
      },
      "id": "uQqGgNjvwQ5V",
      "execution_count": 11,
      "outputs": []
    },
    {
      "cell_type": "code",
      "source": [
        "!pip show pydeseq2"
      ],
      "metadata": {
        "colab": {
          "base_uri": "https://localhost:8080/"
        },
        "id": "LaRB61Fa57gk",
        "outputId": "a8d35d92-f75a-464f-fd31-564df68a474a"
      },
      "id": "LaRB61Fa57gk",
      "execution_count": 12,
      "outputs": [
        {
          "output_type": "stream",
          "name": "stdout",
          "text": [
            "Name: pydeseq2\n",
            "Version: 0.4.12\n",
            "Summary: A python implementation of DESeq2.\n",
            "Home-page: \n",
            "Author: Boris Muzellec, Maria Telenczuk, Vincent Cabelli and Mathieu Andreux\n",
            "Author-email: boris.muzellec@owkin.com\n",
            "License: MIT\n",
            "Location: /usr/local/lib/python3.10/site-packages\n",
            "Requires: anndata, matplotlib, numpy, pandas, scikit-learn, scipy\n",
            "Required-by: \n"
          ]
        }
      ]
    },
    {
      "cell_type": "code",
      "execution_count": 13,
      "metadata": {
        "id": "4e15629f-bdc4-46dd-8375-a1f2e17960ca"
      },
      "outputs": [],
      "source": [
        "import numpy as np"
      ],
      "id": "4e15629f-bdc4-46dd-8375-a1f2e17960ca"
    },
    {
      "cell_type": "code",
      "execution_count": 14,
      "metadata": {
        "id": "37ff51dc-8860-4ab6-ab44-8223b33ea879"
      },
      "outputs": [],
      "source": [
        "import anndata as ad"
      ],
      "id": "37ff51dc-8860-4ab6-ab44-8223b33ea879"
    },
    {
      "cell_type": "code",
      "execution_count": 15,
      "metadata": {
        "id": "f54f07e0-84cc-4ab9-a156-ea8467a76fc4"
      },
      "outputs": [],
      "source": [
        "import matplotlib.pyplot as plt"
      ],
      "id": "f54f07e0-84cc-4ab9-a156-ea8467a76fc4"
    },
    {
      "source": [
        "import seaborn as sns"
      ],
      "cell_type": "code",
      "metadata": {
        "id": "jIEyfb4NApUa"
      },
      "execution_count": 16,
      "outputs": [],
      "id": "jIEyfb4NApUa"
    },
    {
      "cell_type": "code",
      "execution_count": 17,
      "metadata": {
        "id": "dfc626e2-9a64-4f0f-8677-1da6e446ea3a"
      },
      "outputs": [],
      "source": [
        "import plotly.subplots as sp\n",
        "import plotly.graph_objects as go"
      ],
      "id": "dfc626e2-9a64-4f0f-8677-1da6e446ea3a"
    },
    {
      "cell_type": "code",
      "execution_count": 18,
      "metadata": {
        "id": "ffa7a645-c56a-4d94-af04-6869e008ca12"
      },
      "outputs": [],
      "source": [
        "from scipy import stats"
      ],
      "id": "ffa7a645-c56a-4d94-af04-6869e008ca12"
    },
    {
      "cell_type": "code",
      "source": [
        "import pandas as pd"
      ],
      "metadata": {
        "id": "WB1NBeEal4uQ"
      },
      "id": "WB1NBeEal4uQ",
      "execution_count": 19,
      "outputs": []
    },
    {
      "cell_type": "markdown",
      "id": "43f56d4f-c4ec-496e-96bd-6645365df65c",
      "metadata": {
        "id": "43f56d4f-c4ec-496e-96bd-6645365df65c"
      },
      "source": [
        "# Import reads from google drive, three samples treated with energy metabolism inhibitors and one untreated"
      ]
    },
    {
      "cell_type": "code",
      "source": [
        "from google.colab import drive\n",
        "drive.mount('/content/drive')"
      ],
      "metadata": {
        "colab": {
          "base_uri": "https://localhost:8080/"
        },
        "id": "BpK5P48ACJOW",
        "outputId": "4694eb27-5600-4923-f957-0890800cf1ad"
      },
      "id": "BpK5P48ACJOW",
      "execution_count": 20,
      "outputs": [
        {
          "output_type": "stream",
          "name": "stdout",
          "text": [
            "Drive already mounted at /content/drive; to attempt to forcibly remount, call drive.mount(\"/content/drive\", force_remount=True).\n"
          ]
        }
      ]
    },
    {
      "cell_type": "code",
      "execution_count": 21,
      "metadata": {
        "id": "be1662ba-006c-4be4-9858-70480fa51fe3"
      },
      "outputs": [],
      "source": [
        "SRR26046013_DM_AOA_INH = sc.read_h5ad('/content/drive/MyDrive/Colab Notebooks/SRR26046013_Annotated_data_matrix.h5ad')"
      ],
      "id": "be1662ba-006c-4be4-9858-70480fa51fe3"
    },
    {
      "cell_type": "code",
      "execution_count": 22,
      "metadata": {
        "id": "967b901c-c65e-436a-8c7c-2583264344ce",
        "colab": {
          "base_uri": "https://localhost:8080/"
        },
        "outputId": "2b902602-e6f8-4481-fe22-13c28187b815"
      },
      "outputs": [
        {
          "output_type": "execute_result",
          "data": {
            "text/plain": [
              "AnnData object with n_obs × n_vars = 13546 × 0\n",
              "    obs: 'n_fragment', 'frac_dup', 'frac_mito'\n",
              "    uns: 'reference_sequences'\n",
              "    obsm: 'fragment_paired'"
            ]
          },
          "metadata": {},
          "execution_count": 22
        }
      ],
      "source": [
        "SRR26046013_DM_AOA_INH"
      ],
      "id": "967b901c-c65e-436a-8c7c-2583264344ce"
    },
    {
      "cell_type": "code",
      "execution_count": 23,
      "metadata": {
        "id": "985faf54-160c-4b13-a7a9-b2e12fdfd714"
      },
      "outputs": [],
      "source": [
        "SRR26046019_DM_UT = sc.read_h5ad('/content/drive/MyDrive/Colab Notebooks/SRR26046019_Annotated_data_matrix.h5ad')"
      ],
      "id": "985faf54-160c-4b13-a7a9-b2e12fdfd714"
    },
    {
      "cell_type": "code",
      "execution_count": 24,
      "metadata": {
        "id": "4cb56a7f-e5e2-43c7-bacf-2a967c9dd531",
        "colab": {
          "base_uri": "https://localhost:8080/"
        },
        "outputId": "554c74bf-56dc-4d44-fb60-1cae5fe2eddc"
      },
      "outputs": [
        {
          "output_type": "execute_result",
          "data": {
            "text/plain": [
              "AnnData object with n_obs × n_vars = 10448 × 0\n",
              "    obs: 'n_fragment', 'frac_dup', 'frac_mito'\n",
              "    uns: 'reference_sequences'\n",
              "    obsm: 'fragment_paired'"
            ]
          },
          "metadata": {},
          "execution_count": 24
        }
      ],
      "source": [
        "SRR26046019_DM_UT"
      ],
      "id": "4cb56a7f-e5e2-43c7-bacf-2a967c9dd531"
    },
    {
      "cell_type": "markdown",
      "source": [
        "# Perform DeSEQ2 test"
      ],
      "metadata": {
        "id": "qUQN-zerY_6C"
      },
      "id": "qUQN-zerY_6C"
    },
    {
      "source": [
        "gene_anno = '/content/drive/MyDrive/Colab Notebooks/gencode.v41.basic.annotation.gff3.gz'\n",
        "\n",
        "# Create cell-by-gene matrix (replace with cell-by-bin if appropriate)\n",
        "gene_matrix_1 = snap.pp.make_gene_matrix(SRR26046013_DM_AOA_INH, gene_anno=gene_anno)\n",
        "gene_matrix_2 = snap.pp.make_gene_matrix(SRR26046019_DM_UT, gene_anno=gene_anno)"
      ],
      "cell_type": "code",
      "metadata": {
        "id": "6QEFta9Vu26f"
      },
      "id": "6QEFta9Vu26f",
      "execution_count": 25,
      "outputs": []
    },
    {
      "cell_type": "code",
      "source": [
        "gene_matrix_1.X"
      ],
      "metadata": {
        "colab": {
          "base_uri": "https://localhost:8080/"
        },
        "id": "MV5asws0wFG8",
        "outputId": "504a4654-11f4-46ac-b3de-ebfdf976f316"
      },
      "id": "MV5asws0wFG8",
      "execution_count": 26,
      "outputs": [
        {
          "output_type": "execute_result",
          "data": {
            "text/plain": [
              "<Compressed Sparse Row sparse matrix of dtype 'uint32'\n",
              "\twith 73519275 stored elements and shape (13546, 60606)>"
            ]
          },
          "metadata": {},
          "execution_count": 26
        }
      ]
    },
    {
      "cell_type": "markdown",
      "source": [
        "# Perform checks of AnnData matrix"
      ],
      "metadata": {
        "id": "FV4xmGafZ4Hv"
      },
      "id": "FV4xmGafZ4Hv"
    },
    {
      "source": [
        "import numpy as np\n",
        "import pandas as pd\n",
        "import scanpy as sc\n",
        "from scipy.sparse import csr_matrix, issparse\n",
        "\n",
        "\n",
        "def custom_highly_variable_genes(adata, n_top_genes=5000):\n",
        "    \"\"\"Calculates highly variable genes using a custom approach.\"\"\"\n",
        "    # Filter mitochondrial genes\n",
        "    adata.var['mt'] = adata.var_names.str.startswith('MT-')\n",
        "    adata_filtered = adata[:, ~adata.var['mt']]\n",
        "\n",
        "    # Replace infinite values with 0 in the sparse matrix directly\n",
        "    if issparse(adata_filtered.X):\n",
        "        adata_filtered.X.data = np.nan_to_num(adata_filtered.X.data, posinf=0, neginf=0)\n",
        "    else:\n",
        "        adata_filtered.X = np.nan_to_num(adata_filtered.X, posinf=0, neginf=0)\n",
        "\n",
        "    # Calculate mean and variance\n",
        "    mean = np.mean(adata_filtered.X.toarray(), axis=0)\n",
        "    var = np.var(adata_filtered.X.toarray(), axis=0)\n",
        "\n",
        "    # Calculate dispersion\n",
        "    # Clip values to avoid division by zero or very small numbers\n",
        "    mean_clipped = np.clip(mean, 1e-8, None)\n",
        "    dispersion = var / mean_clipped\n",
        "\n",
        "    # Filter out genes with zero or NaN dispersion\n",
        "    valid_dispersion_mask = np.isfinite(dispersion) & (dispersion > 0)\n",
        "    dispersion = dispersion[valid_dispersion_mask]\n",
        "    mean = mean[valid_dispersion_mask]\n",
        "    gene_indices = np.where(valid_dispersion_mask)[0]\n",
        "\n",
        "    # Sort genes by dispersion\n",
        "    sorted_indices = np.argsort(dispersion)[::-1]  # Descending order\n",
        "    top_gene_indices = gene_indices[sorted_indices[:n_top_genes]]\n",
        "\n",
        "    # Update adata.var['highly_variable']\n",
        "    adata_filtered.var['highly_variable'] = False\n",
        "    adata_filtered.var.iloc[top_gene_indices, adata_filtered.var.columns.get_loc('highly_variable')] = True\n",
        "\n",
        "    return adata_filtered"
      ],
      "cell_type": "code",
      "metadata": {
        "id": "DWEPW-k5eDxq"
      },
      "id": "DWEPW-k5eDxq",
      "execution_count": 37,
      "outputs": []
    },
    {
      "source": [
        "gene_matrix_1_filtered = custom_highly_variable_genes(gene_matrix_1)\n",
        "\n",
        "# Subset your data\n",
        "gene_matrix_1_subset = gene_matrix_1_filtered[:, gene_matrix_1_filtered.var['highly_variable']]"
      ],
      "cell_type": "code",
      "metadata": {
        "id": "H2jKfpC8eHiA",
        "outputId": "8e758cb4-1f27-4189-c105-fd20b4e1ffe6",
        "colab": {
          "base_uri": "https://localhost:8080/"
        }
      },
      "id": "H2jKfpC8eHiA",
      "execution_count": 38,
      "outputs": [
        {
          "output_type": "stream",
          "name": "stderr",
          "text": [
            "<ipython-input-37-90fb8546e0c5>:39: ImplicitModificationWarning: Trying to modify attribute `.var` of view, initializing view as actual.\n",
            "  adata_filtered.var['highly_variable'] = False\n"
          ]
        }
      ]
    },
    {
      "cell_type": "code",
      "source": [
        "gene_matrix_2_filtered = custom_highly_variable_genes(gene_matrix_2)\n",
        "\n",
        "# Subset your data\n",
        "gene_matrix_2_subset = gene_matrix_2_filtered[:, gene_matrix_2_filtered.var['highly_variable']]"
      ],
      "metadata": {
        "id": "M2nqY7qEedoK",
        "outputId": "835db6e3-12bc-4880-c397-ba84e3646d4b",
        "colab": {
          "base_uri": "https://localhost:8080/"
        }
      },
      "id": "M2nqY7qEedoK",
      "execution_count": 39,
      "outputs": [
        {
          "output_type": "stream",
          "name": "stderr",
          "text": [
            "<ipython-input-37-90fb8546e0c5>:39: ImplicitModificationWarning: Trying to modify attribute `.var` of view, initializing view as actual.\n",
            "  adata_filtered.var['highly_variable'] = False\n"
          ]
        }
      ]
    },
    {
      "cell_type": "code",
      "source": [
        "# Extract count matrices and convert to pandas DataFrames\n",
        "count_matrix_1 = gene_matrix_1_subset.X.toarray()\n",
        "count_matrix_2 = gene_matrix_2_subset.X.toarray()"
      ],
      "metadata": {
        "id": "l7-SQxBDtMW4"
      },
      "id": "l7-SQxBDtMW4",
      "execution_count": 42,
      "outputs": []
    },
    {
      "cell_type": "code",
      "source": [
        "count_df_1 = pd.DataFrame(count_matrix_1, index=gene_matrix_1.obs_names, columns=gene_matrix_1.var_names)\n",
        "count_df_2 = pd.DataFrame(count_matrix_2, index=gene_matrix_2.obs_names, columns=gene_matrix_2.var_names)"
      ],
      "metadata": {
        "colab": {
          "base_uri": "https://localhost:8080/",
          "height": 304
        },
        "id": "RSe9kSexwWGW",
        "outputId": "9f321b07-e58d-4512-dc06-9dad9459d0ad"
      },
      "id": "RSe9kSexwWGW",
      "execution_count": 49,
      "outputs": [
        {
          "output_type": "error",
          "ename": "ValueError",
          "evalue": "Shape of passed values is (13546, 5000), indices imply (13546, 60606)",
          "traceback": [
            "\u001b[0;31m---------------------------------------------------------------------------\u001b[0m",
            "\u001b[0;31mValueError\u001b[0m                                Traceback (most recent call last)",
            "\u001b[0;32m<ipython-input-49-fe6284105a8b>\u001b[0m in \u001b[0;36m<cell line: 1>\u001b[0;34m()\u001b[0m\n\u001b[0;32m----> 1\u001b[0;31m \u001b[0mcount_df_1\u001b[0m \u001b[0;34m=\u001b[0m \u001b[0mpd\u001b[0m\u001b[0;34m.\u001b[0m\u001b[0mDataFrame\u001b[0m\u001b[0;34m(\u001b[0m\u001b[0mcount_matrix_1\u001b[0m\u001b[0;34m,\u001b[0m \u001b[0mindex\u001b[0m\u001b[0;34m=\u001b[0m\u001b[0mgene_matrix_1\u001b[0m\u001b[0;34m.\u001b[0m\u001b[0mobs_names\u001b[0m\u001b[0;34m,\u001b[0m \u001b[0mcolumns\u001b[0m\u001b[0;34m=\u001b[0m\u001b[0mgene_matrix_1\u001b[0m\u001b[0;34m.\u001b[0m\u001b[0mvar_names\u001b[0m\u001b[0;34m)\u001b[0m\u001b[0;34m\u001b[0m\u001b[0;34m\u001b[0m\u001b[0m\n\u001b[0m\u001b[1;32m      2\u001b[0m \u001b[0mcount_df_2\u001b[0m \u001b[0;34m=\u001b[0m \u001b[0mpd\u001b[0m\u001b[0;34m.\u001b[0m\u001b[0mDataFrame\u001b[0m\u001b[0;34m(\u001b[0m\u001b[0mcount_matrix_2\u001b[0m\u001b[0;34m,\u001b[0m \u001b[0mindex\u001b[0m\u001b[0;34m=\u001b[0m\u001b[0mgene_matrix_2\u001b[0m\u001b[0;34m.\u001b[0m\u001b[0mobs_names\u001b[0m\u001b[0;34m,\u001b[0m \u001b[0mcolumns\u001b[0m\u001b[0;34m=\u001b[0m\u001b[0mgene_matrix_2\u001b[0m\u001b[0;34m.\u001b[0m\u001b[0mvar_names\u001b[0m\u001b[0;34m)\u001b[0m\u001b[0;34m\u001b[0m\u001b[0;34m\u001b[0m\u001b[0m\n",
            "\u001b[0;32m/usr/local/lib/python3.10/site-packages/pandas/core/frame.py\u001b[0m in \u001b[0;36m__init__\u001b[0;34m(self, data, index, columns, dtype, copy)\u001b[0m\n\u001b[1;32m    783\u001b[0m                 )\n\u001b[1;32m    784\u001b[0m             \u001b[0;32melse\u001b[0m\u001b[0;34m:\u001b[0m\u001b[0;34m\u001b[0m\u001b[0;34m\u001b[0m\u001b[0m\n\u001b[0;32m--> 785\u001b[0;31m                 mgr = ndarray_to_mgr(\n\u001b[0m\u001b[1;32m    786\u001b[0m                     \u001b[0mdata\u001b[0m\u001b[0;34m,\u001b[0m\u001b[0;34m\u001b[0m\u001b[0;34m\u001b[0m\u001b[0m\n\u001b[1;32m    787\u001b[0m                     \u001b[0mindex\u001b[0m\u001b[0;34m,\u001b[0m\u001b[0;34m\u001b[0m\u001b[0;34m\u001b[0m\u001b[0m\n",
            "\u001b[0;32m/usr/local/lib/python3.10/site-packages/pandas/core/internals/construction.py\u001b[0m in \u001b[0;36mndarray_to_mgr\u001b[0;34m(values, index, columns, dtype, copy, typ)\u001b[0m\n\u001b[1;32m    334\u001b[0m     )\n\u001b[1;32m    335\u001b[0m \u001b[0;34m\u001b[0m\u001b[0m\n\u001b[0;32m--> 336\u001b[0;31m     \u001b[0m_check_values_indices_shape_match\u001b[0m\u001b[0;34m(\u001b[0m\u001b[0mvalues\u001b[0m\u001b[0;34m,\u001b[0m \u001b[0mindex\u001b[0m\u001b[0;34m,\u001b[0m \u001b[0mcolumns\u001b[0m\u001b[0;34m)\u001b[0m\u001b[0;34m\u001b[0m\u001b[0;34m\u001b[0m\u001b[0m\n\u001b[0m\u001b[1;32m    337\u001b[0m \u001b[0;34m\u001b[0m\u001b[0m\n\u001b[1;32m    338\u001b[0m     \u001b[0;32mif\u001b[0m \u001b[0mtyp\u001b[0m \u001b[0;34m==\u001b[0m \u001b[0;34m\"array\"\u001b[0m\u001b[0;34m:\u001b[0m\u001b[0;34m\u001b[0m\u001b[0;34m\u001b[0m\u001b[0m\n",
            "\u001b[0;32m/usr/local/lib/python3.10/site-packages/pandas/core/internals/construction.py\u001b[0m in \u001b[0;36m_check_values_indices_shape_match\u001b[0;34m(values, index, columns)\u001b[0m\n\u001b[1;32m    418\u001b[0m         \u001b[0mpassed\u001b[0m \u001b[0;34m=\u001b[0m \u001b[0mvalues\u001b[0m\u001b[0;34m.\u001b[0m\u001b[0mshape\u001b[0m\u001b[0;34m\u001b[0m\u001b[0;34m\u001b[0m\u001b[0m\n\u001b[1;32m    419\u001b[0m         \u001b[0mimplied\u001b[0m \u001b[0;34m=\u001b[0m \u001b[0;34m(\u001b[0m\u001b[0mlen\u001b[0m\u001b[0;34m(\u001b[0m\u001b[0mindex\u001b[0m\u001b[0;34m)\u001b[0m\u001b[0;34m,\u001b[0m \u001b[0mlen\u001b[0m\u001b[0;34m(\u001b[0m\u001b[0mcolumns\u001b[0m\u001b[0;34m)\u001b[0m\u001b[0;34m)\u001b[0m\u001b[0;34m\u001b[0m\u001b[0;34m\u001b[0m\u001b[0m\n\u001b[0;32m--> 420\u001b[0;31m         \u001b[0;32mraise\u001b[0m \u001b[0mValueError\u001b[0m\u001b[0;34m(\u001b[0m\u001b[0;34mf\"Shape of passed values is {passed}, indices imply {implied}\"\u001b[0m\u001b[0;34m)\u001b[0m\u001b[0;34m\u001b[0m\u001b[0;34m\u001b[0m\u001b[0m\n\u001b[0m\u001b[1;32m    421\u001b[0m \u001b[0;34m\u001b[0m\u001b[0m\n\u001b[1;32m    422\u001b[0m \u001b[0;34m\u001b[0m\u001b[0m\n",
            "\u001b[0;31mValueError\u001b[0m: Shape of passed values is (13546, 5000), indices imply (13546, 60606)"
          ]
        }
      ]
    },
    {
      "cell_type": "code",
      "source": [
        "count_df_1.index = count_df_1.index + '_1'"
      ],
      "metadata": {
        "id": "PvQRPt7L8LPL"
      },
      "id": "PvQRPt7L8LPL",
      "execution_count": null,
      "outputs": []
    },
    {
      "cell_type": "code",
      "source": [
        "count_df_1"
      ],
      "metadata": {
        "id": "JH199eTPO8ev"
      },
      "id": "JH199eTPO8ev",
      "execution_count": null,
      "outputs": []
    },
    {
      "cell_type": "code",
      "source": [
        "#Add metadata information\n",
        "metadata_df_1 = pd.DataFrame(index=count_df_1.index)\n",
        "metadata_df_1['Treatment'] = ['Treated w/AOA'] * len(gene_matrix_1.obs_names)\n",
        "\n",
        "metadata_df_2 = pd.DataFrame(index=count_df_2.index)\n",
        "metadata_df_2['Treatment'] = ['Untreated'] * len(gene_matrix_2.obs_names)"
      ],
      "metadata": {
        "id": "bu_PSJw5wZ0Q"
      },
      "id": "bu_PSJw5wZ0Q",
      "execution_count": null,
      "outputs": []
    },
    {
      "cell_type": "code",
      "source": [
        "# Combine the two scATAC-seq count matrices\n",
        "count_df = pd.concat([count_df_1, count_df_2], axis=0)\n",
        "metadata_df = pd.concat([metadata_df_1, metadata_df_2], axis=0)"
      ],
      "metadata": {
        "id": "GX99giTD03JH"
      },
      "id": "GX99giTD03JH",
      "execution_count": null,
      "outputs": []
    },
    {
      "cell_type": "code",
      "source": [
        "count_df"
      ],
      "metadata": {
        "id": "Xg-hDdO21gnX"
      },
      "id": "Xg-hDdO21gnX",
      "execution_count": null,
      "outputs": []
    },
    {
      "cell_type": "code",
      "source": [
        "metadata_df"
      ],
      "metadata": {
        "id": "A02z8Wfn1cCI"
      },
      "id": "A02z8Wfn1cCI",
      "execution_count": null,
      "outputs": []
    },
    {
      "cell_type": "code",
      "source": [
        "from pydeseq2.dds import DeseqDataSet\n",
        "from pydeseq2.default_inference import DefaultInference\n",
        "from pydeseq2.ds import DeseqStats"
      ],
      "metadata": {
        "id": "ZZwBzAxb7KWy"
      },
      "id": "ZZwBzAxb7KWy",
      "execution_count": null,
      "outputs": []
    },
    {
      "cell_type": "code",
      "source": [
        "dds = DeseqDataSet(\n",
        "    counts=count_df,\n",
        "    metadata=metadata_df,\n",
        "    design_factors=\"Treatment\",\n",
        "    refit_cooks=True,\n",
        ")"
      ],
      "metadata": {
        "id": "-DZsXOZL6hML"
      },
      "id": "-DZsXOZL6hML",
      "execution_count": null,
      "outputs": []
    },
    {
      "cell_type": "code",
      "source": [
        "# Perform differential accessibility analysis\n",
        "dds.deseq2()\n",
        "dds.get_results()"
      ],
      "metadata": {
        "id": "p_sw8pyF4Yxb"
      },
      "id": "p_sw8pyF4Yxb",
      "execution_count": null,
      "outputs": []
    },
    {
      "source": [
        "# Assuming adata is your AnnData object containing the count data:\n",
        "\n",
        "    #Filter mitochondrial genes before highly variable gene selection\n",
        "    adata.var['mt'] = adata.var_names.str.startswith('MT-')\n",
        "    adata_filtered = adata[:, ~adata.var['mt']]\n",
        "\n",
        "    # Calculate highly variable features\n",
        "    sc.pp.highly_variable_genes(adata_filtered, flavor='seurat', batch_key=\"Treatment\", n_top_genes=5000) #Selecting top 5000 HVGs\n",
        "\n",
        "    # Subset your data to include only the selected features\n",
        "    adata_subset = adata_filtered[:, adata_filtered.var['highly_variable']]\n",
        "\n",
        "    #Extract count matrices and convert to pandas DataFrames\n",
        "    count_matrix_1 = adata_subset[adata_subset.obs['Treatment'] == 'Treated w/AOA', :].X.toarray()\n",
        "    count_matrix_2 = adata_subset[adata_subset.obs['Treatment'] == 'Untreated', :].X.toarray()\n",
        "\n",
        "    count_df_1 = pd.DataFrame(count_matrix_1, index=adata_subset[adata_subset.obs['Treatment'] == 'Treated w/AOA', :].obs_names, columns=adata_subset.var_names)\n",
        "    count_df_2 = pd.DataFrame(count_matrix_2, index=adata_subset[adata_subset.obs['Treatment'] == 'Untreated', :].obs_names, columns=adata_subset.var_names)\n",
        "\n",
        "    #Continue with the rest of your code... (creating count_df, metadata_df, and running DESeq2)"
      ],
      "cell_type": "code",
      "metadata": {
        "id": "JXElilTILPEP"
      },
      "id": "JXElilTILPEP",
      "execution_count": null,
      "outputs": []
    }
  ],
  "metadata": {
    "colab": {
      "machine_shape": "hm",
      "provenance": [],
      "include_colab_link": true
    },
    "kernelspec": {
      "display_name": "Python 3",
      "name": "python3"
    },
    "language_info": {
      "name": "python"
    }
  },
  "nbformat": 4,
  "nbformat_minor": 5
}