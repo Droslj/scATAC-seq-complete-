{
  "cells": [
    {
      "cell_type": "markdown",
      "metadata": {
        "id": "view-in-github",
        "colab_type": "text"
      },
      "source": [
        "<a href=\"https://colab.research.google.com/github/Droslj/scATAC-seq-complete-/blob/Google-colab/scATAC_seq_(1)_DA_PyDESeq2.ipynb\" target=\"_parent\"><img src=\"https://colab.research.google.com/assets/colab-badge.svg\" alt=\"Open In Colab\"/></a>"
      ]
    },
    {
      "cell_type": "markdown",
      "id": "f268332b-53de-4af8-9533-e48c041292f3",
      "metadata": {
        "id": "f268332b-53de-4af8-9533-e48c041292f3"
      },
      "source": [
        "scATAC seq, based on scATAC seq processing Galaxy tutorials (scATAC preprocessing (2), Standard scATAC seq processing pipeline (1) )\n",
        "AD Objects created in Galaxy using customized Galaxy WF with Snapatac2 and imported\n",
        "(1) https://usegalaxy.eu/training-material/topics/single-cell/tutorials/scatac-preprocessing-tenx/tutorial.html#mapping-reads-to-a-reference-genome, (2) https://usegalaxy.eu/training-material/topics/single-cell/tutorials/scatac-standard-processing-snapatac2/tutorial.html\n",
        "Data taken from the following NCBI study:\n",
        "Metabolic adaptation pilots the differentiation of human hematopoietic cells (https://www.ncbi.nlm.nih.gov/bioproject/PRJNA1015713)\n",
        "Import preprocessed Anndata object for four biological replicates, SRR26046013 (cells treated with AOA inhibitor), SRR26046015 (cells treated with DON inhibitor), SRR26046017 (cells treated with DG inhibitor), and SRR26046019 (untreated cells).\n",
        "Following steps were performed in the preprocessing:\n",
        "(1) Import matrices\n",
        "(2) Compute fragment size distribution\n",
        "(3) Compute TSS enrichment\n",
        "(4) Filter cell counts based on TSSe\n",
        "(5) Create cell by bin matrix based on 500 bp wide bins accross the whole genome\n",
        "(6) Perform feature selection\n",
        "(7) Perform Doublet removal\n",
        "(8) Perform Dim reduction (spectral)\n",
        "(9) Perform Clustering (neighborhood, UMAP, leiden)\n",
        "(10) Create a cell by gene matrix\n",
        "(11) Concatenate matrices using Inner join\n",
        "(12) Remove batch effects"
      ]
    },
    {
      "source": [
        "!pip install snapatac2 -q"
      ],
      "cell_type": "code",
      "metadata": {
        "id": "gZdiRWwb1rZJ",
        "colab": {
          "base_uri": "https://localhost:8080/"
        },
        "outputId": "5446080b-bde4-415d-a907-39b6325fa634"
      },
      "execution_count": 1,
      "outputs": [
        {
          "output_type": "stream",
          "name": "stdout",
          "text": [
            "\u001b[?25l     \u001b[90m━━━━━━━━━━━━━━━━━━━━━━━━━━━━━━━━━━━━━━━━\u001b[0m \u001b[32m0.0/687.2 kB\u001b[0m \u001b[31m?\u001b[0m eta \u001b[36m-:--:--\u001b[0m\r\u001b[2K     \u001b[91m━━━━━━━━━━━━━━━\u001b[0m\u001b[90m╺\u001b[0m\u001b[90m━━━━━━━━━━━━━━━━━━━━━━━━\u001b[0m \u001b[32m266.2/687.2 kB\u001b[0m \u001b[31m7.8 MB/s\u001b[0m eta \u001b[36m0:00:01\u001b[0m\r\u001b[2K     \u001b[91m━━━━━━━━━━━━━━━━━━━━━━━━━━━━━━━━━━━━━━━\u001b[0m\u001b[91m╸\u001b[0m \u001b[32m686.1/687.2 kB\u001b[0m \u001b[31m13.6 MB/s\u001b[0m eta \u001b[36m0:00:01\u001b[0m\r\u001b[2K     \u001b[90m━━━━━━━━━━━━━━━━━━━━━━━━━━━━━━━━━━━━━━━━\u001b[0m \u001b[32m687.2/687.2 kB\u001b[0m \u001b[31m9.2 MB/s\u001b[0m eta \u001b[36m0:00:00\u001b[0m\n",
            "\u001b[?25h  Installing build dependencies ... \u001b[?25l\u001b[?25hdone\n",
            "  Getting requirements to build wheel ... \u001b[?25l\u001b[?25hdone\n",
            "  Preparing metadata (pyproject.toml) ... \u001b[?25l\u001b[?25hdone\n",
            "\u001b[2K   \u001b[90m━━━━━━━━━━━━━━━━━━━━━━━━━━━━━━━━━━━━━━━━\u001b[0m \u001b[32m17.5/17.5 MB\u001b[0m \u001b[31m4.2 MB/s\u001b[0m eta \u001b[36m0:00:00\u001b[0m\n",
            "\u001b[2K   \u001b[90m━━━━━━━━━━━━━━━━━━━━━━━━━━━━━━━━━━━━━━━━\u001b[0m \u001b[32m129.0/129.0 kB\u001b[0m \u001b[31m8.4 MB/s\u001b[0m eta \u001b[36m0:00:00\u001b[0m\n",
            "\u001b[2K   \u001b[90m━━━━━━━━━━━━━━━━━━━━━━━━━━━━━━━━━━━━━━━━\u001b[0m \u001b[32m3.1/3.1 MB\u001b[0m \u001b[31m66.2 MB/s\u001b[0m eta \u001b[36m0:00:00\u001b[0m\n",
            "\u001b[2K   \u001b[90m━━━━━━━━━━━━━━━━━━━━━━━━━━━━━━━━━━━━━━━━\u001b[0m \u001b[32m12.3/12.3 MB\u001b[0m \u001b[31m92.3 MB/s\u001b[0m eta \u001b[36m0:00:00\u001b[0m\n",
            "\u001b[2K   \u001b[90m━━━━━━━━━━━━━━━━━━━━━━━━━━━━━━━━━━━━━━━━\u001b[0m \u001b[32m79.9/79.9 MB\u001b[0m \u001b[31m23.5 MB/s\u001b[0m eta \u001b[36m0:00:00\u001b[0m\n",
            "\u001b[2K   \u001b[90m━━━━━━━━━━━━━━━━━━━━━━━━━━━━━━━━━━━━━━━━\u001b[0m \u001b[32m134.8/134.8 kB\u001b[0m \u001b[31m7.6 MB/s\u001b[0m eta \u001b[36m0:00:00\u001b[0m\n",
            "\u001b[2K   \u001b[90m━━━━━━━━━━━━━━━━━━━━━━━━━━━━━━━━━━━━━━━━\u001b[0m \u001b[32m2.0/2.0 MB\u001b[0m \u001b[31m52.3 MB/s\u001b[0m eta \u001b[36m0:00:00\u001b[0m\n",
            "\u001b[2K   \u001b[90m━━━━━━━━━━━━━━━━━━━━━━━━━━━━━━━━━━━━━━━━\u001b[0m \u001b[32m50.4/50.4 kB\u001b[0m \u001b[31m3.0 MB/s\u001b[0m eta \u001b[36m0:00:00\u001b[0m\n",
            "\u001b[2K   \u001b[90m━━━━━━━━━━━━━━━━━━━━━━━━━━━━━━━━━━━━━━━━\u001b[0m \u001b[32m119.4/119.4 kB\u001b[0m \u001b[31m6.0 MB/s\u001b[0m eta \u001b[36m0:00:00\u001b[0m\n",
            "\u001b[?25h  Building wheel for macs3 (pyproject.toml) ... \u001b[?25l\u001b[?25hdone\n",
            "\u001b[31mERROR: pip's dependency resolver does not currently take into account all the packages that are installed. This behaviour is the source of the following dependency conflicts.\n",
            "google-colab 1.0.0 requires pandas==2.2.2, but you have pandas 2.1.1 which is incompatible.\n",
            "mizani 0.13.1 requires pandas>=2.2.0, but you have pandas 2.1.1 which is incompatible.\n",
            "plotnine 0.14.5 requires pandas>=2.2.0, but you have pandas 2.1.1 which is incompatible.\u001b[0m\u001b[31m\n",
            "\u001b[0m"
          ]
        }
      ],
      "id": "gZdiRWwb1rZJ"
    },
    {
      "cell_type": "code",
      "source": [
        "!pip show snapatac2"
      ],
      "metadata": {
        "colab": {
          "base_uri": "https://localhost:8080/"
        },
        "id": "jsCJ2get4W8l",
        "outputId": "e369f68c-1f7a-4845-80b4-320935c7b1f8"
      },
      "execution_count": 2,
      "outputs": [
        {
          "output_type": "stream",
          "name": "stdout",
          "text": [
            "Name: snapatac2\n",
            "Version: 2.8.0\n",
            "Summary: SnapATAC2: Single-cell epigenomics analysis pipeline\n",
            "Home-page: https://github.com/\n",
            "Author: Kai Zhang <kai@kzhang.org>\n",
            "Author-email: Kai Zhang <zhangkai33@westlake.edu.cn>\n",
            "License: MIT\n",
            "Location: /usr/local/lib/python3.10/dist-packages\n",
            "Requires: anndata, igraph, kaleido, macs3, multiprocess, natsort, numpy, pandas, plotly, polars, pooch, pyarrow, pyfaidx, rustworkx, scikit-learn, scipy, tqdm, typeguard\n",
            "Required-by: \n"
          ]
        }
      ],
      "id": "jsCJ2get4W8l"
    },
    {
      "cell_type": "code",
      "source": [
        "import snapatac2 as snap"
      ],
      "metadata": {
        "id": "z2G4FDYqgSmQ"
      },
      "execution_count": 3,
      "outputs": [],
      "id": "z2G4FDYqgSmQ"
    },
    {
      "cell_type": "code",
      "source": [
        "!pip install umap-learn"
      ],
      "metadata": {
        "colab": {
          "base_uri": "https://localhost:8080/"
        },
        "id": "VZLaiDEzlB1m",
        "outputId": "ccdc80c4-4ae5-4f7f-8e38-654b9e7c5d41"
      },
      "execution_count": 4,
      "outputs": [
        {
          "output_type": "stream",
          "name": "stdout",
          "text": [
            "Collecting umap-learn\n",
            "  Downloading umap_learn-0.5.7-py3-none-any.whl.metadata (21 kB)\n",
            "Requirement already satisfied: numpy>=1.17 in /usr/local/lib/python3.10/dist-packages (from umap-learn) (1.26.4)\n",
            "Requirement already satisfied: scipy>=1.3.1 in /usr/local/lib/python3.10/dist-packages (from umap-learn) (1.13.1)\n",
            "Requirement already satisfied: scikit-learn>=0.22 in /usr/local/lib/python3.10/dist-packages (from umap-learn) (1.6.0)\n",
            "Requirement already satisfied: numba>=0.51.2 in /usr/local/lib/python3.10/dist-packages (from umap-learn) (0.60.0)\n",
            "Collecting pynndescent>=0.5 (from umap-learn)\n",
            "  Downloading pynndescent-0.5.13-py3-none-any.whl.metadata (6.8 kB)\n",
            "Requirement already satisfied: tqdm in /usr/local/lib/python3.10/dist-packages (from umap-learn) (4.67.1)\n",
            "Requirement already satisfied: llvmlite<0.44,>=0.43.0dev0 in /usr/local/lib/python3.10/dist-packages (from numba>=0.51.2->umap-learn) (0.43.0)\n",
            "Requirement already satisfied: joblib>=0.11 in /usr/local/lib/python3.10/dist-packages (from pynndescent>=0.5->umap-learn) (1.4.2)\n",
            "Requirement already satisfied: threadpoolctl>=3.1.0 in /usr/local/lib/python3.10/dist-packages (from scikit-learn>=0.22->umap-learn) (3.5.0)\n",
            "Downloading umap_learn-0.5.7-py3-none-any.whl (88 kB)\n",
            "\u001b[2K   \u001b[90m━━━━━━━━━━━━━━━━━━━━━━━━━━━━━━━━━━━━━━━━\u001b[0m \u001b[32m88.8/88.8 kB\u001b[0m \u001b[31m2.7 MB/s\u001b[0m eta \u001b[36m0:00:00\u001b[0m\n",
            "\u001b[?25hDownloading pynndescent-0.5.13-py3-none-any.whl (56 kB)\n",
            "\u001b[2K   \u001b[90m━━━━━━━━━━━━━━━━━━━━━━━━━━━━━━━━━━━━━━━━\u001b[0m \u001b[32m56.9/56.9 kB\u001b[0m \u001b[31m3.1 MB/s\u001b[0m eta \u001b[36m0:00:00\u001b[0m\n",
            "\u001b[?25hInstalling collected packages: pynndescent, umap-learn\n",
            "Successfully installed pynndescent-0.5.13 umap-learn-0.5.7\n"
          ]
        }
      ],
      "id": "VZLaiDEzlB1m"
    },
    {
      "cell_type": "code",
      "source": [
        "import umap.umap_ as umap\n"
      ],
      "metadata": {
        "id": "BCEdegOSgRBg"
      },
      "execution_count": 5,
      "outputs": [],
      "id": "BCEdegOSgRBg"
    },
    {
      "cell_type": "code",
      "source": [
        "from umap import UMAP"
      ],
      "metadata": {
        "id": "FVmqXk-vlFrB"
      },
      "execution_count": 6,
      "outputs": [],
      "id": "FVmqXk-vlFrB"
    },
    {
      "cell_type": "code",
      "source": [
        "!pip install scanpy -q"
      ],
      "metadata": {
        "id": "CM_xhHZxUcF5",
        "colab": {
          "base_uri": "https://localhost:8080/"
        },
        "outputId": "83834fb9-f3ae-49f0-deda-dde043d4fc87"
      },
      "execution_count": 7,
      "outputs": [
        {
          "output_type": "stream",
          "name": "stdout",
          "text": [
            "  Preparing metadata (setup.py) ... \u001b[?25l\u001b[?25hdone\n",
            "\u001b[2K   \u001b[90m━━━━━━━━━━━━━━━━━━━━━━━━━━━━━━━━━━━━━━━━\u001b[0m \u001b[32m2.1/2.1 MB\u001b[0m \u001b[31m23.2 MB/s\u001b[0m eta \u001b[36m0:00:00\u001b[0m\n",
            "\u001b[2K   \u001b[90m━━━━━━━━━━━━━━━━━━━━━━━━━━━━━━━━━━━━━━━━\u001b[0m \u001b[32m83.6/83.6 kB\u001b[0m \u001b[31m4.7 MB/s\u001b[0m eta \u001b[36m0:00:00\u001b[0m\n",
            "\u001b[?25h  Building wheel for session-info (setup.py) ... \u001b[?25l\u001b[?25hdone\n"
          ]
        }
      ],
      "id": "CM_xhHZxUcF5"
    },
    {
      "cell_type": "code",
      "source": [
        "import scanpy as sc"
      ],
      "metadata": {
        "id": "NYl1nQOhUoj2"
      },
      "execution_count": 8,
      "outputs": [],
      "id": "NYl1nQOhUoj2"
    },
    {
      "cell_type": "code",
      "source": [
        "pip show scanpy"
      ],
      "metadata": {
        "colab": {
          "base_uri": "https://localhost:8080/"
        },
        "id": "rkvTEjpw_csS",
        "outputId": "b414d255-942d-4063-d420-1780f14f94f9"
      },
      "execution_count": 9,
      "outputs": [
        {
          "output_type": "stream",
          "name": "stdout",
          "text": [
            "Name: scanpy\n",
            "Version: 1.10.4\n",
            "Summary: Single-Cell Analysis in Python.\n",
            "Home-page: https://scanpy.org\n",
            "Author: Alex Wolf, Philipp Angerer, Fidel Ramirez, Isaac Virshup, Sergei Rybakov, Gokcen Eraslan, Tom White, Malte Luecken, Davide Cittaro, Tobias Callies, Marius Lange, Andrés R. Muñoz-Rojas\n",
            "Author-email: \n",
            "License: \n",
            "Location: /usr/local/lib/python3.10/dist-packages\n",
            "Requires: anndata, h5py, joblib, legacy-api-wrap, matplotlib, natsort, networkx, numba, numpy, packaging, pandas, patsy, pynndescent, scikit-learn, scipy, seaborn, session-info, statsmodels, tqdm, umap-learn\n",
            "Required-by: \n"
          ]
        }
      ],
      "id": "rkvTEjpw_csS"
    },
    {
      "source": [
        "!pip install pydeseq2 -q # Install PyDESeq2"
      ],
      "cell_type": "code",
      "metadata": {
        "id": "8-JpAgQ0kDwJ",
        "colab": {
          "base_uri": "https://localhost:8080/"
        },
        "outputId": "57bb2331-41c4-4306-c671-a5687c0de441"
      },
      "execution_count": 10,
      "outputs": [
        {
          "output_type": "stream",
          "name": "stdout",
          "text": [
            "\u001b[?25l   \u001b[90m━━━━━━━━━━━━━━━━━━━━━━━━━━━━━━━━━━━━━━━━\u001b[0m \u001b[32m0.0/46.1 kB\u001b[0m \u001b[31m?\u001b[0m eta \u001b[36m-:--:--\u001b[0m\r\u001b[2K   \u001b[90m━━━━━━━━━━━━━━━━━━━━━━━━━━━━━━━━━━━━━━━━\u001b[0m \u001b[32m46.1/46.1 kB\u001b[0m \u001b[31m1.6 MB/s\u001b[0m eta \u001b[36m0:00:00\u001b[0m\n",
            "\u001b[?25h"
          ]
        }
      ],
      "id": "8-JpAgQ0kDwJ"
    },
    {
      "cell_type": "code",
      "source": [
        "import pydeseq2"
      ],
      "metadata": {
        "id": "uQqGgNjvwQ5V"
      },
      "id": "uQqGgNjvwQ5V",
      "execution_count": 11,
      "outputs": []
    },
    {
      "cell_type": "code",
      "source": [
        "!pip show pydeseq2"
      ],
      "metadata": {
        "colab": {
          "base_uri": "https://localhost:8080/"
        },
        "id": "LaRB61Fa57gk",
        "outputId": "0dadaf5f-bbd2-4709-d0e3-fc7fa826b3fb"
      },
      "id": "LaRB61Fa57gk",
      "execution_count": 12,
      "outputs": [
        {
          "output_type": "stream",
          "name": "stdout",
          "text": [
            "Name: pydeseq2\n",
            "Version: 0.4.12\n",
            "Summary: A python implementation of DESeq2.\n",
            "Home-page: \n",
            "Author: Boris Muzellec, Maria Telenczuk, Vincent Cabelli and Mathieu Andreux\n",
            "Author-email: boris.muzellec@owkin.com\n",
            "License: MIT\n",
            "Location: /usr/local/lib/python3.10/dist-packages\n",
            "Requires: anndata, matplotlib, numpy, pandas, scikit-learn, scipy\n",
            "Required-by: \n"
          ]
        }
      ]
    },
    {
      "cell_type": "code",
      "execution_count": 13,
      "metadata": {
        "id": "4e15629f-bdc4-46dd-8375-a1f2e17960ca"
      },
      "outputs": [],
      "source": [
        "import numpy as np"
      ],
      "id": "4e15629f-bdc4-46dd-8375-a1f2e17960ca"
    },
    {
      "cell_type": "code",
      "execution_count": 14,
      "metadata": {
        "id": "37ff51dc-8860-4ab6-ab44-8223b33ea879"
      },
      "outputs": [],
      "source": [
        "import anndata as ad"
      ],
      "id": "37ff51dc-8860-4ab6-ab44-8223b33ea879"
    },
    {
      "cell_type": "code",
      "execution_count": 15,
      "metadata": {
        "id": "f54f07e0-84cc-4ab9-a156-ea8467a76fc4"
      },
      "outputs": [],
      "source": [
        "import matplotlib.pyplot as plt"
      ],
      "id": "f54f07e0-84cc-4ab9-a156-ea8467a76fc4"
    },
    {
      "source": [
        "import seaborn as sns"
      ],
      "cell_type": "code",
      "metadata": {
        "id": "jIEyfb4NApUa"
      },
      "execution_count": 16,
      "outputs": [],
      "id": "jIEyfb4NApUa"
    },
    {
      "cell_type": "code",
      "execution_count": 17,
      "metadata": {
        "id": "dfc626e2-9a64-4f0f-8677-1da6e446ea3a"
      },
      "outputs": [],
      "source": [
        "import plotly.subplots as sp\n",
        "import plotly.graph_objects as go"
      ],
      "id": "dfc626e2-9a64-4f0f-8677-1da6e446ea3a"
    },
    {
      "cell_type": "code",
      "execution_count": 18,
      "metadata": {
        "id": "ffa7a645-c56a-4d94-af04-6869e008ca12"
      },
      "outputs": [],
      "source": [
        "from scipy import stats"
      ],
      "id": "ffa7a645-c56a-4d94-af04-6869e008ca12"
    },
    {
      "cell_type": "code",
      "source": [
        "import pandas as pd"
      ],
      "metadata": {
        "id": "WB1NBeEal4uQ"
      },
      "id": "WB1NBeEal4uQ",
      "execution_count": 19,
      "outputs": []
    },
    {
      "cell_type": "markdown",
      "id": "43f56d4f-c4ec-496e-96bd-6645365df65c",
      "metadata": {
        "id": "43f56d4f-c4ec-496e-96bd-6645365df65c"
      },
      "source": [
        "# Import reads from google drive, three samples treated with energy metabolism inhibitors and one untreated"
      ]
    },
    {
      "cell_type": "code",
      "source": [
        "from google.colab import drive\n",
        "drive.mount('/content/drive')"
      ],
      "metadata": {
        "colab": {
          "base_uri": "https://localhost:8080/"
        },
        "id": "BpK5P48ACJOW",
        "outputId": "be62b6df-fff7-4f5c-f444-dbff978875da"
      },
      "id": "BpK5P48ACJOW",
      "execution_count": 20,
      "outputs": [
        {
          "output_type": "stream",
          "name": "stdout",
          "text": [
            "Mounted at /content/drive\n"
          ]
        }
      ]
    },
    {
      "cell_type": "code",
      "execution_count": 21,
      "metadata": {
        "id": "be1662ba-006c-4be4-9858-70480fa51fe3"
      },
      "outputs": [],
      "source": [
        "SRR26046013_DM_AOA_INH = sc.read_h5ad('/content/drive/MyDrive/Colab Notebooks/SRR26046013_Annotated_data_matrix.h5ad')"
      ],
      "id": "be1662ba-006c-4be4-9858-70480fa51fe3"
    },
    {
      "cell_type": "code",
      "execution_count": 22,
      "metadata": {
        "id": "967b901c-c65e-436a-8c7c-2583264344ce",
        "colab": {
          "base_uri": "https://localhost:8080/"
        },
        "outputId": "1ac7738d-5272-43dc-b1c8-c64b7a58790b"
      },
      "outputs": [
        {
          "output_type": "execute_result",
          "data": {
            "text/plain": [
              "AnnData object with n_obs × n_vars = 13546 × 0\n",
              "    obs: 'n_fragment', 'frac_dup', 'frac_mito'\n",
              "    uns: 'reference_sequences'\n",
              "    obsm: 'fragment_paired'"
            ]
          },
          "metadata": {},
          "execution_count": 22
        }
      ],
      "source": [
        "SRR26046013_DM_AOA_INH"
      ],
      "id": "967b901c-c65e-436a-8c7c-2583264344ce"
    },
    {
      "cell_type": "code",
      "execution_count": 23,
      "metadata": {
        "id": "985faf54-160c-4b13-a7a9-b2e12fdfd714"
      },
      "outputs": [],
      "source": [
        "SRR26046019_DM_UT = sc.read_h5ad('/content/drive/MyDrive/Colab Notebooks/SRR26046019_Annotated_data_matrix.h5ad')"
      ],
      "id": "985faf54-160c-4b13-a7a9-b2e12fdfd714"
    },
    {
      "cell_type": "code",
      "execution_count": 24,
      "metadata": {
        "id": "4cb56a7f-e5e2-43c7-bacf-2a967c9dd531",
        "colab": {
          "base_uri": "https://localhost:8080/"
        },
        "outputId": "b961678e-56f3-4c3b-fb8a-f664f01f97b6"
      },
      "outputs": [
        {
          "output_type": "execute_result",
          "data": {
            "text/plain": [
              "AnnData object with n_obs × n_vars = 10448 × 0\n",
              "    obs: 'n_fragment', 'frac_dup', 'frac_mito'\n",
              "    uns: 'reference_sequences'\n",
              "    obsm: 'fragment_paired'"
            ]
          },
          "metadata": {},
          "execution_count": 24
        }
      ],
      "source": [
        "SRR26046019_DM_UT"
      ],
      "id": "4cb56a7f-e5e2-43c7-bacf-2a967c9dd531"
    },
    {
      "cell_type": "markdown",
      "source": [
        "# Preprocess AD objects"
      ],
      "metadata": {
        "id": "qUQN-zerY_6C"
      },
      "id": "qUQN-zerY_6C"
    },
    {
      "source": [
        "gene_anno = '/content/drive/MyDrive/Colab Notebooks/gencode.v41.basic.annotation.gff3.gz'\n",
        "\n",
        "# Create cell-by-gene matrix (replace with cell-by-bin if appropriate)\n",
        "gene_matrix_1 = snap.pp.make_gene_matrix(SRR26046013_DM_AOA_INH, gene_anno=gene_anno)\n",
        "gene_matrix_2 = snap.pp.make_gene_matrix(SRR26046019_DM_UT, gene_anno=gene_anno)"
      ],
      "cell_type": "code",
      "metadata": {
        "id": "6QEFta9Vu26f"
      },
      "id": "6QEFta9Vu26f",
      "execution_count": 25,
      "outputs": []
    },
    {
      "cell_type": "code",
      "source": [
        "gene_matrix_1.X"
      ],
      "metadata": {
        "colab": {
          "base_uri": "https://localhost:8080/"
        },
        "id": "MV5asws0wFG8",
        "outputId": "de0427b8-220d-49e7-c65c-499e1635122f"
      },
      "id": "MV5asws0wFG8",
      "execution_count": 26,
      "outputs": [
        {
          "output_type": "execute_result",
          "data": {
            "text/plain": [
              "<13546x60606 sparse matrix of type '<class 'numpy.uint32'>'\n",
              "\twith 73519275 stored elements in Compressed Sparse Row format>"
            ]
          },
          "metadata": {},
          "execution_count": 26
        }
      ]
    },
    {
      "source": [
        "#Check for suitable format\n",
        "print(gene_matrix_1.X.dtype)  # Should output: int32, int64, or uint32"
      ],
      "cell_type": "code",
      "metadata": {
        "colab": {
          "base_uri": "https://localhost:8080/"
        },
        "id": "7x5pTeVSalFr",
        "outputId": "d8bd412f-1b72-4f81-8f1b-b1330a5d8b57"
      },
      "id": "7x5pTeVSalFr",
      "execution_count": 27,
      "outputs": [
        {
          "output_type": "stream",
          "name": "stdout",
          "text": [
            "uint32\n"
          ]
        }
      ]
    },
    {
      "source": [
        "#Check that var contains gene names\n",
        "print(gene_matrix_1.var_names)  # Should show gene names/IDs"
      ],
      "cell_type": "code",
      "metadata": {
        "colab": {
          "base_uri": "https://localhost:8080/"
        },
        "id": "Gd8bEG0haliy",
        "outputId": "7bb26ed7-b9e5-4227-d2b5-74202d9f6ee7"
      },
      "id": "Gd8bEG0haliy",
      "execution_count": 28,
      "outputs": [
        {
          "output_type": "stream",
          "name": "stdout",
          "text": [
            "Index(['DDX11L1', 'WASH7P', 'MIR6859-1', 'MIR1302-2HG', 'MIR1302-2', 'FAM138A',\n",
            "       'OR4G4P', 'OR4G11P', 'OR4F5', 'ENSG00000238009',\n",
            "       ...\n",
            "       'MT-ND4', 'MT-TH', 'MT-TS2', 'MT-TL2', 'MT-ND5', 'MT-ND6', 'MT-TE',\n",
            "       'MT-CYB', 'MT-TT', 'MT-TP'],\n",
            "      dtype='object', length=60606)\n"
          ]
        }
      ]
    },
    {
      "cell_type": "markdown",
      "source": [
        "# Add experiment index to cell barcode"
      ],
      "metadata": {
        "id": "kAA-g61Dbcha"
      },
      "id": "kAA-g61Dbcha"
    },
    {
      "cell_type": "code",
      "source": [
        "gene_matrix_1.obs.index = gene_matrix_1.obs.index + '_1'"
      ],
      "metadata": {
        "id": "BCJRgn_dbIVB"
      },
      "id": "BCJRgn_dbIVB",
      "execution_count": 29,
      "outputs": []
    },
    {
      "source": [
        "print(gene_matrix_1.obs.head())  # Shows a preview of cell-level info"
      ],
      "cell_type": "code",
      "metadata": {
        "colab": {
          "base_uri": "https://localhost:8080/"
        },
        "id": "Z7DgY4Xpalzd",
        "outputId": "e7c6e805-876c-46e7-dcb7-159fd6391cb5"
      },
      "id": "Z7DgY4Xpalzd",
      "execution_count": 30,
      "outputs": [
        {
          "output_type": "stream",
          "name": "stdout",
          "text": [
            "                    n_fragment  frac_dup  frac_mito\n",
            "AAAAAAAAAAAAAAAA_1         453  0.002119   0.038217\n",
            "AAACAACGAACGAGCA_1       23759  0.415605   0.000252\n",
            "AAACAACGAAGAGGCT_1       15377  0.403037   0.002336\n",
            "AAACAACGAAGTCGGA_1       19907  0.421316   0.001004\n",
            "AAACAACGACGCACTG_1         203  0.458115   0.019324\n"
          ]
        }
      ]
    },
    {
      "cell_type": "code",
      "source": [
        "gene_matrix_2.obs.index = gene_matrix_2.obs.index + '_2'"
      ],
      "metadata": {
        "id": "KNmgzUT0bWdz"
      },
      "id": "KNmgzUT0bWdz",
      "execution_count": 31,
      "outputs": []
    },
    {
      "cell_type": "code",
      "source": [
        "print(gene_matrix_2.obs.head())"
      ],
      "metadata": {
        "colab": {
          "base_uri": "https://localhost:8080/"
        },
        "id": "AwX4VYmWb3Sb",
        "outputId": "7d388a3e-78d3-4303-8210-5dbc0b769281"
      },
      "id": "AwX4VYmWb3Sb",
      "execution_count": 32,
      "outputs": [
        {
          "output_type": "stream",
          "name": "stdout",
          "text": [
            "                    n_fragment  frac_dup  frac_mito\n",
            "AAAAAAAAAAAAAAAA_2         361  0.000000   0.008242\n",
            "AAACAACGATAAGTAG_2       26068  0.285284   0.001800\n",
            "AAACAACGATAGGTTC_2       12427  0.335221   0.001527\n",
            "AAACAACGATCTATCT_2       25665  0.346743   0.000973\n",
            "AAACAACGATGCGTGC_2       17103  0.337616   0.000760\n"
          ]
        }
      ]
    },
    {
      "cell_type": "markdown",
      "source": [
        "Combine AD matrices, add Treatment information"
      ],
      "metadata": {
        "id": "wVGsI8nkcKeZ"
      },
      "id": "wVGsI8nkcKeZ"
    },
    {
      "cell_type": "code",
      "source": [],
      "metadata": {
        "id": "UUXOWUxjcI-j"
      },
      "id": "UUXOWUxjcI-j",
      "execution_count": 32,
      "outputs": []
    },
    {
      "cell_type": "markdown",
      "source": [
        "# Perform checks of AnnData matrix"
      ],
      "metadata": {
        "id": "FV4xmGafZ4Hv"
      },
      "id": "FV4xmGafZ4Hv"
    },
    {
      "source": [
        "import numpy as np\n",
        "import pandas as pd\n",
        "import scanpy as sc\n",
        "from scipy.sparse import csr_matrix, issparse\n",
        "\n",
        "\n",
        "def custom_highly_variable_genes(adata, n_top_genes=5000):\n",
        "    \"\"\"Calculates highly variable genes using a custom approach.\"\"\"\n",
        "    # Filter mitochondrial genes\n",
        "    adata.var['mt'] = adata.var_names.str.startswith('MT-')\n",
        "    adata_filtered = adata[:, ~adata.var['mt']]\n",
        "\n",
        "    # Keep genes with at least 10 counts in at least 5 cells\n",
        "    #sc.pp.filter_genes(adata_filtered, min_cells=5)\n",
        "    #sc.pp.filter_genes(adata_filtered, min_counts=10)\n",
        "\n",
        "\n",
        "    # Replace infinite values with 0 in the sparse matrix directly\n",
        "    if issparse(adata_filtered.X):\n",
        "        adata_filtered.X.data = np.nan_to_num(adata_filtered.X.data, posinf=0, neginf=0)\n",
        "    else:\n",
        "        adata_filtered.X = np.nan_to_num(adata_filtered.X, posinf=0, neginf=0)\n",
        "\n",
        "    # Calculate mean and variance\n",
        "    mean = np.mean(adata_filtered.X.toarray(), axis=0)\n",
        "    var = np.var(adata_filtered.X.toarray(), axis=0)\n",
        "\n",
        "    # Calculate dispersion\n",
        "    # Clip values to avoid division by zero or very small numbers\n",
        "    mean_clipped = np.clip(mean, 1e-8, None)\n",
        "    dispersion = var / mean_clipped\n",
        "\n",
        "    # Filter out genes with zero or NaN dispersion\n",
        "    valid_dispersion_mask = np.isfinite(dispersion) & (dispersion > 0)\n",
        "    dispersion = dispersion[valid_dispersion_mask]\n",
        "    mean = mean[valid_dispersion_mask]\n",
        "    gene_indices = np.where(valid_dispersion_mask)[0]\n",
        "\n",
        "    # Sort genes by dispersion\n",
        "    sorted_indices = np.argsort(dispersion)[::-1]  # Descending order\n",
        "    top_gene_indices = gene_indices[sorted_indices[:n_top_genes]]\n",
        "\n",
        "    # Update adata.var['highly_variable']\n",
        "    adata_filtered.var['highly_variable'] = False\n",
        "    adata_filtered.var.iloc[top_gene_indices, adata_filtered.var.columns.get_loc('highly_variable')] = True\n",
        "\n",
        "    return adata_filtered"
      ],
      "cell_type": "code",
      "metadata": {
        "id": "DWEPW-k5eDxq"
      },
      "id": "DWEPW-k5eDxq",
      "execution_count": 33,
      "outputs": []
    },
    {
      "source": [
        "gene_matrix_1_filtered = custom_highly_variable_genes(gene_matrix_1)\n",
        "\n",
        "# Subset your data\n",
        "gene_matrix_1_subset = gene_matrix_1_filtered[:, gene_matrix_1_filtered.var['highly_variable']]\n",
        "gene_matrix_1_subset.obs['Treatment'] = 'Treated w/AOA'"
      ],
      "cell_type": "code",
      "metadata": {
        "colab": {
          "base_uri": "https://localhost:8080/"
        },
        "id": "H2jKfpC8eHiA",
        "outputId": "7be8e7ae-e13d-4115-a664-d8a9a38f413b"
      },
      "id": "H2jKfpC8eHiA",
      "execution_count": 34,
      "outputs": [
        {
          "output_type": "stream",
          "name": "stderr",
          "text": [
            "<ipython-input-33-dff88e0ee2f9>:44: ImplicitModificationWarning: Trying to modify attribute `.var` of view, initializing view as actual.\n",
            "  adata_filtered.var['highly_variable'] = False\n",
            "<ipython-input-34-0ad127af3ab0>:5: ImplicitModificationWarning: Trying to modify attribute `.obs` of view, initializing view as actual.\n",
            "  gene_matrix_1_subset.obs['Treatment'] = 'Treated w/AOA'\n"
          ]
        }
      ]
    },
    {
      "cell_type": "code",
      "source": [
        "gene_matrix_2_filtered = custom_highly_variable_genes(gene_matrix_2)\n",
        "\n",
        "# Subset your data\n",
        "gene_matrix_2_subset = gene_matrix_2_filtered[:, gene_matrix_2_filtered.var['highly_variable']]\n",
        "gene_matrix_2_subset.obs['Treatment'] = 'Untreated'"
      ],
      "metadata": {
        "colab": {
          "base_uri": "https://localhost:8080/"
        },
        "id": "M2nqY7qEedoK",
        "outputId": "35f9ad6d-d7e3-49b0-f023-b8da0f8beee6"
      },
      "id": "M2nqY7qEedoK",
      "execution_count": 35,
      "outputs": [
        {
          "output_type": "stream",
          "name": "stderr",
          "text": [
            "<ipython-input-33-dff88e0ee2f9>:44: ImplicitModificationWarning: Trying to modify attribute `.var` of view, initializing view as actual.\n",
            "  adata_filtered.var['highly_variable'] = False\n",
            "<ipython-input-35-e3d7095645e8>:5: ImplicitModificationWarning: Trying to modify attribute `.obs` of view, initializing view as actual.\n",
            "  gene_matrix_2_subset.obs['Treatment'] = 'Untreated'\n"
          ]
        }
      ]
    },
    {
      "cell_type": "code",
      "source": [
        "#MOdify barcode names to reflect experiment number\n",
        "new_barcode_names_1 = gene_matrix_1_subset.obs_names + '_1'\n",
        "new_barcode_names_1"
      ],
      "metadata": {
        "colab": {
          "base_uri": "https://localhost:8080/"
        },
        "id": "CYXKxbp2tEfh",
        "outputId": "707db1df-30e0-4da0-b20a-aac8747282d4"
      },
      "id": "CYXKxbp2tEfh",
      "execution_count": 36,
      "outputs": [
        {
          "output_type": "execute_result",
          "data": {
            "text/plain": [
              "Index(['AAAAAAAAAAAAAAAA_1_1', 'AAACAACGAACGAGCA_1_1', 'AAACAACGAAGAGGCT_1_1',\n",
              "       'AAACAACGAAGTCGGA_1_1', 'AAACAACGACGCACTG_1_1', 'AAACAACGACGGTACC_1_1',\n",
              "       'AAACAACGAGAAGGCT_1_1', 'AAACAACGAGTACGTT_1_1', 'AAACAACGATCGCTAA_1_1',\n",
              "       'AAACACGCTACTCCGT_1_1',\n",
              "       ...\n",
              "       'TTTGGGATGCGATTAC_1_1', 'TTTGGGATGCGGCACT_1_1', 'TTTGGGATGCGGTTCG_1_1',\n",
              "       'TTTGGGATGGCGGTTC_1_1', 'TTTGGGATGGTCAATC_1_1', 'TTTGGGATGTCCAGCG_1_1',\n",
              "       'TTTGGGATGTGTTCCC_1_1', 'TTTGGGATGTTAGCTG_1_1', 'TTTGGGATGTTGCGTA_1_1',\n",
              "       'TTTGTCTGTGTAGATC_1_1'],\n",
              "      dtype='object', length=13546)"
            ]
          },
          "metadata": {},
          "execution_count": 36
        }
      ]
    },
    {
      "cell_type": "code",
      "source": [
        "#Update barcode names\n",
        "gene_matrix_1_subset.obs_names = new_barcode_names_1"
      ],
      "metadata": {
        "id": "-JM2MtRgt_Fr"
      },
      "id": "-JM2MtRgt_Fr",
      "execution_count": 37,
      "outputs": []
    },
    {
      "cell_type": "code",
      "source": [
        "#Modify barcode names to reflect experiment number\n",
        "new_barcode_names_2 = gene_matrix_2_subset.obs_names + '_2'\n",
        "new_barcode_names_2"
      ],
      "metadata": {
        "outputId": "9a7df50b-de01-4855-934e-970aa76520a5",
        "colab": {
          "base_uri": "https://localhost:8080/"
        },
        "id": "HEagUNcEuagB"
      },
      "execution_count": 38,
      "outputs": [
        {
          "output_type": "execute_result",
          "data": {
            "text/plain": [
              "Index(['AAAAAAAAAAAAAAAA_2_2', 'AAACAACGATAAGTAG_2_2', 'AAACAACGATAGGTTC_2_2',\n",
              "       'AAACAACGATCTATCT_2_2', 'AAACAACGATGCGTGC_2_2', 'AAACAACGATTGCGCG_2_2',\n",
              "       'AAACAACGCTTGCGCG_2_2', 'AAACACGCGGCGCTGT_2_2', 'AAACACGCTCGCAACC_2_2',\n",
              "       'AAACACGCTCGGAATG_2_2',\n",
              "       ...\n",
              "       'TTTGGGAACTGACCTA_2_2', 'TTTGGGACCCGACATT_2_2', 'TTTGGGACTGACCTAG_2_2',\n",
              "       'TTTGGGATGAACGCAG_2_2', 'TTTGGGATGAACGTAA_2_2', 'TTTGGGATGAAGTCTC_2_2',\n",
              "       'TTTGGGATGATGTGGG_2_2', 'TTTGGGATGCTCACGG_2_2', 'TTTGGGATGCTCTGGG_2_2',\n",
              "       'TTTGGGTGTGTAGATC_2_2'],\n",
              "      dtype='object', length=10448)"
            ]
          },
          "metadata": {},
          "execution_count": 38
        }
      ],
      "id": "HEagUNcEuagB"
    },
    {
      "cell_type": "code",
      "source": [
        "#Update barcode names\n",
        "gene_matrix_2_subset.obs_names = new_barcode_names_2"
      ],
      "metadata": {
        "id": "uN0wq84ZuagD"
      },
      "execution_count": 39,
      "outputs": [],
      "id": "uN0wq84ZuagD"
    },
    {
      "cell_type": "code",
      "source": [
        "adata_combined = gene_matrix_1_subset.concatenate(gene_matrix_2_subset, batch_key=\"Treatment\", index_unique=None)"
      ],
      "metadata": {
        "id": "MiKhqirIscT_",
        "colab": {
          "base_uri": "https://localhost:8080/"
        },
        "outputId": "94073bee-58a2-4371-8e07-a1299d4bde09"
      },
      "id": "MiKhqirIscT_",
      "execution_count": 40,
      "outputs": [
        {
          "output_type": "stream",
          "name": "stderr",
          "text": [
            "<ipython-input-40-96161036905d>:1: FutureWarning: Use anndata.concat instead of AnnData.concatenate, AnnData.concatenate is deprecated and will be removed in the future. See the tutorial for concat at: https://anndata.readthedocs.io/en/latest/concatenation.html\n",
            "  adata_combined = gene_matrix_1_subset.concatenate(gene_matrix_2_subset, batch_key=\"Treatment\", index_unique=None)\n"
          ]
        }
      ]
    },
    {
      "cell_type": "code",
      "source": [
        "count_df = pd.DataFrame(data=adata_combined.X.toarray(), index=adata_combined.obs_names, columns=adata_combined.var_names)\n",
        "metadata_df = pd.DataFrame(data=adata_combined.obs['Treatment'], index=adata_combined.obs_names, columns=['Treatment'])"
      ],
      "metadata": {
        "id": "nWBfBMZWssiI"
      },
      "id": "nWBfBMZWssiI",
      "execution_count": 41,
      "outputs": []
    },
    {
      "cell_type": "code",
      "source": [
        "count_df"
      ],
      "metadata": {
        "colab": {
          "base_uri": "https://localhost:8080/",
          "height": 461
        },
        "id": "YpGtmJNKs9T-",
        "outputId": "cc810a97-6441-47ce-ef66-2247f171a925"
      },
      "id": "YpGtmJNKs9T-",
      "execution_count": 42,
      "outputs": [
        {
          "output_type": "execute_result",
          "data": {
            "text/plain": [
              "                      ENSG00000230021  ENSG00000278791  MTATP6P1  MTCO3P12  \\\n",
              "AAAAAAAAAAAAAAAA_1_1                0                0         0         0   \n",
              "AAACAACGAACGAGCA_1_1                1                0         0         0   \n",
              "AAACAACGAAGAGGCT_1_1                0                0         0         0   \n",
              "AAACAACGAAGTCGGA_1_1                2                0         0         0   \n",
              "AAACAACGACGCACTG_1_1                0                0         0         0   \n",
              "...                               ...              ...       ...       ...   \n",
              "TTTGGGATGAAGTCTC_2_2                0                0         0         0   \n",
              "TTTGGGATGATGTGGG_2_2                0                0         0         0   \n",
              "TTTGGGATGCTCACGG_2_2                0                0         0         0   \n",
              "TTTGGGATGCTCTGGG_2_2                2                0         0         0   \n",
              "TTTGGGTGTGTAGATC_2_2                0                0         0         0   \n",
              "\n",
              "                      AGRN  C1orf159  ACAP3  MIB2  PRKCZ  SKI  ...  ARHGEF6  \\\n",
              "AAAAAAAAAAAAAAAA_1_1     0         0      0     0      0    0  ...        0   \n",
              "AAACAACGAACGAGCA_1_1     2         1      0     0      3    4  ...        3   \n",
              "AAACAACGAAGAGGCT_1_1     2         0      1     0      1    6  ...        5   \n",
              "AAACAACGAAGTCGGA_1_1     5         1      0     1      0    2  ...        2   \n",
              "AAACAACGACGCACTG_1_1     0         0      0     0      0    0  ...        0   \n",
              "...                    ...       ...    ...   ...    ...  ...  ...      ...   \n",
              "TTTGGGATGAAGTCTC_2_2     4         2      0     2      1    4  ...        0   \n",
              "TTTGGGATGATGTGGG_2_2     2         0      0     1      3    6  ...        0   \n",
              "TTTGGGATGCTCACGG_2_2     1         1      0     0      1    8  ...        3   \n",
              "TTTGGGATGCTCTGGG_2_2     2         2      6     5      4    6  ...        5   \n",
              "TTTGGGTGTGTAGATC_2_2     0         0      0     0      0    0  ...        0   \n",
              "\n",
              "                      ENSG00000241489  EOLA2  EOLA2-DT  HCFC1  TMEM187  FLNA  \\\n",
              "AAAAAAAAAAAAAAAA_1_1                0      0         0      0        0     0   \n",
              "AAACAACGAACGAGCA_1_1                3      1         4      3        2     2   \n",
              "AAACAACGAAGAGGCT_1_1                1      0         1      0        0     1   \n",
              "AAACAACGAAGTCGGA_1_1                2      1         2      0        0     0   \n",
              "AAACAACGACGCACTG_1_1                0      0         0      0        0     0   \n",
              "...                               ...    ...       ...    ...      ...   ...   \n",
              "TTTGGGATGAAGTCTC_2_2                0      0         0      2        3     3   \n",
              "TTTGGGATGATGTGGG_2_2                2      1         2      4        4     2   \n",
              "TTTGGGATGCTCACGG_2_2                0      0         1      1        0     3   \n",
              "TTTGGGATGCTCTGGG_2_2                4      2         2      1        2     2   \n",
              "TTTGGGTGTGTAGATC_2_2                0      0         0      0        0     0   \n",
              "\n",
              "                      EMD  G6PD  GAB3  \n",
              "AAAAAAAAAAAAAAAA_1_1    0     0     0  \n",
              "AAACAACGAACGAGCA_1_1    2     1     0  \n",
              "AAACAACGAAGAGGCT_1_1    0     1     2  \n",
              "AAACAACGAAGTCGGA_1_1    1     1     0  \n",
              "AAACAACGACGCACTG_1_1    0     0     0  \n",
              "...                   ...   ...   ...  \n",
              "TTTGGGATGAAGTCTC_2_2    1     1     3  \n",
              "TTTGGGATGATGTGGG_2_2    1     2     1  \n",
              "TTTGGGATGCTCACGG_2_2    1     0     1  \n",
              "TTTGGGATGCTCTGGG_2_2    1     6     2  \n",
              "TTTGGGTGTGTAGATC_2_2    0     0     0  \n",
              "\n",
              "[23994 rows x 3974 columns]"
            ],
            "text/html": [
              "\n",
              "  <div id=\"df-273c8ce9-6039-488a-8df8-65aa42ebdb52\" class=\"colab-df-container\">\n",
              "    <div>\n",
              "<style scoped>\n",
              "    .dataframe tbody tr th:only-of-type {\n",
              "        vertical-align: middle;\n",
              "    }\n",
              "\n",
              "    .dataframe tbody tr th {\n",
              "        vertical-align: top;\n",
              "    }\n",
              "\n",
              "    .dataframe thead th {\n",
              "        text-align: right;\n",
              "    }\n",
              "</style>\n",
              "<table border=\"1\" class=\"dataframe\">\n",
              "  <thead>\n",
              "    <tr style=\"text-align: right;\">\n",
              "      <th></th>\n",
              "      <th>ENSG00000230021</th>\n",
              "      <th>ENSG00000278791</th>\n",
              "      <th>MTATP6P1</th>\n",
              "      <th>MTCO3P12</th>\n",
              "      <th>AGRN</th>\n",
              "      <th>C1orf159</th>\n",
              "      <th>ACAP3</th>\n",
              "      <th>MIB2</th>\n",
              "      <th>PRKCZ</th>\n",
              "      <th>SKI</th>\n",
              "      <th>...</th>\n",
              "      <th>ARHGEF6</th>\n",
              "      <th>ENSG00000241489</th>\n",
              "      <th>EOLA2</th>\n",
              "      <th>EOLA2-DT</th>\n",
              "      <th>HCFC1</th>\n",
              "      <th>TMEM187</th>\n",
              "      <th>FLNA</th>\n",
              "      <th>EMD</th>\n",
              "      <th>G6PD</th>\n",
              "      <th>GAB3</th>\n",
              "    </tr>\n",
              "  </thead>\n",
              "  <tbody>\n",
              "    <tr>\n",
              "      <th>AAAAAAAAAAAAAAAA_1_1</th>\n",
              "      <td>0</td>\n",
              "      <td>0</td>\n",
              "      <td>0</td>\n",
              "      <td>0</td>\n",
              "      <td>0</td>\n",
              "      <td>0</td>\n",
              "      <td>0</td>\n",
              "      <td>0</td>\n",
              "      <td>0</td>\n",
              "      <td>0</td>\n",
              "      <td>...</td>\n",
              "      <td>0</td>\n",
              "      <td>0</td>\n",
              "      <td>0</td>\n",
              "      <td>0</td>\n",
              "      <td>0</td>\n",
              "      <td>0</td>\n",
              "      <td>0</td>\n",
              "      <td>0</td>\n",
              "      <td>0</td>\n",
              "      <td>0</td>\n",
              "    </tr>\n",
              "    <tr>\n",
              "      <th>AAACAACGAACGAGCA_1_1</th>\n",
              "      <td>1</td>\n",
              "      <td>0</td>\n",
              "      <td>0</td>\n",
              "      <td>0</td>\n",
              "      <td>2</td>\n",
              "      <td>1</td>\n",
              "      <td>0</td>\n",
              "      <td>0</td>\n",
              "      <td>3</td>\n",
              "      <td>4</td>\n",
              "      <td>...</td>\n",
              "      <td>3</td>\n",
              "      <td>3</td>\n",
              "      <td>1</td>\n",
              "      <td>4</td>\n",
              "      <td>3</td>\n",
              "      <td>2</td>\n",
              "      <td>2</td>\n",
              "      <td>2</td>\n",
              "      <td>1</td>\n",
              "      <td>0</td>\n",
              "    </tr>\n",
              "    <tr>\n",
              "      <th>AAACAACGAAGAGGCT_1_1</th>\n",
              "      <td>0</td>\n",
              "      <td>0</td>\n",
              "      <td>0</td>\n",
              "      <td>0</td>\n",
              "      <td>2</td>\n",
              "      <td>0</td>\n",
              "      <td>1</td>\n",
              "      <td>0</td>\n",
              "      <td>1</td>\n",
              "      <td>6</td>\n",
              "      <td>...</td>\n",
              "      <td>5</td>\n",
              "      <td>1</td>\n",
              "      <td>0</td>\n",
              "      <td>1</td>\n",
              "      <td>0</td>\n",
              "      <td>0</td>\n",
              "      <td>1</td>\n",
              "      <td>0</td>\n",
              "      <td>1</td>\n",
              "      <td>2</td>\n",
              "    </tr>\n",
              "    <tr>\n",
              "      <th>AAACAACGAAGTCGGA_1_1</th>\n",
              "      <td>2</td>\n",
              "      <td>0</td>\n",
              "      <td>0</td>\n",
              "      <td>0</td>\n",
              "      <td>5</td>\n",
              "      <td>1</td>\n",
              "      <td>0</td>\n",
              "      <td>1</td>\n",
              "      <td>0</td>\n",
              "      <td>2</td>\n",
              "      <td>...</td>\n",
              "      <td>2</td>\n",
              "      <td>2</td>\n",
              "      <td>1</td>\n",
              "      <td>2</td>\n",
              "      <td>0</td>\n",
              "      <td>0</td>\n",
              "      <td>0</td>\n",
              "      <td>1</td>\n",
              "      <td>1</td>\n",
              "      <td>0</td>\n",
              "    </tr>\n",
              "    <tr>\n",
              "      <th>AAACAACGACGCACTG_1_1</th>\n",
              "      <td>0</td>\n",
              "      <td>0</td>\n",
              "      <td>0</td>\n",
              "      <td>0</td>\n",
              "      <td>0</td>\n",
              "      <td>0</td>\n",
              "      <td>0</td>\n",
              "      <td>0</td>\n",
              "      <td>0</td>\n",
              "      <td>0</td>\n",
              "      <td>...</td>\n",
              "      <td>0</td>\n",
              "      <td>0</td>\n",
              "      <td>0</td>\n",
              "      <td>0</td>\n",
              "      <td>0</td>\n",
              "      <td>0</td>\n",
              "      <td>0</td>\n",
              "      <td>0</td>\n",
              "      <td>0</td>\n",
              "      <td>0</td>\n",
              "    </tr>\n",
              "    <tr>\n",
              "      <th>...</th>\n",
              "      <td>...</td>\n",
              "      <td>...</td>\n",
              "      <td>...</td>\n",
              "      <td>...</td>\n",
              "      <td>...</td>\n",
              "      <td>...</td>\n",
              "      <td>...</td>\n",
              "      <td>...</td>\n",
              "      <td>...</td>\n",
              "      <td>...</td>\n",
              "      <td>...</td>\n",
              "      <td>...</td>\n",
              "      <td>...</td>\n",
              "      <td>...</td>\n",
              "      <td>...</td>\n",
              "      <td>...</td>\n",
              "      <td>...</td>\n",
              "      <td>...</td>\n",
              "      <td>...</td>\n",
              "      <td>...</td>\n",
              "      <td>...</td>\n",
              "    </tr>\n",
              "    <tr>\n",
              "      <th>TTTGGGATGAAGTCTC_2_2</th>\n",
              "      <td>0</td>\n",
              "      <td>0</td>\n",
              "      <td>0</td>\n",
              "      <td>0</td>\n",
              "      <td>4</td>\n",
              "      <td>2</td>\n",
              "      <td>0</td>\n",
              "      <td>2</td>\n",
              "      <td>1</td>\n",
              "      <td>4</td>\n",
              "      <td>...</td>\n",
              "      <td>0</td>\n",
              "      <td>0</td>\n",
              "      <td>0</td>\n",
              "      <td>0</td>\n",
              "      <td>2</td>\n",
              "      <td>3</td>\n",
              "      <td>3</td>\n",
              "      <td>1</td>\n",
              "      <td>1</td>\n",
              "      <td>3</td>\n",
              "    </tr>\n",
              "    <tr>\n",
              "      <th>TTTGGGATGATGTGGG_2_2</th>\n",
              "      <td>0</td>\n",
              "      <td>0</td>\n",
              "      <td>0</td>\n",
              "      <td>0</td>\n",
              "      <td>2</td>\n",
              "      <td>0</td>\n",
              "      <td>0</td>\n",
              "      <td>1</td>\n",
              "      <td>3</td>\n",
              "      <td>6</td>\n",
              "      <td>...</td>\n",
              "      <td>0</td>\n",
              "      <td>2</td>\n",
              "      <td>1</td>\n",
              "      <td>2</td>\n",
              "      <td>4</td>\n",
              "      <td>4</td>\n",
              "      <td>2</td>\n",
              "      <td>1</td>\n",
              "      <td>2</td>\n",
              "      <td>1</td>\n",
              "    </tr>\n",
              "    <tr>\n",
              "      <th>TTTGGGATGCTCACGG_2_2</th>\n",
              "      <td>0</td>\n",
              "      <td>0</td>\n",
              "      <td>0</td>\n",
              "      <td>0</td>\n",
              "      <td>1</td>\n",
              "      <td>1</td>\n",
              "      <td>0</td>\n",
              "      <td>0</td>\n",
              "      <td>1</td>\n",
              "      <td>8</td>\n",
              "      <td>...</td>\n",
              "      <td>3</td>\n",
              "      <td>0</td>\n",
              "      <td>0</td>\n",
              "      <td>1</td>\n",
              "      <td>1</td>\n",
              "      <td>0</td>\n",
              "      <td>3</td>\n",
              "      <td>1</td>\n",
              "      <td>0</td>\n",
              "      <td>1</td>\n",
              "    </tr>\n",
              "    <tr>\n",
              "      <th>TTTGGGATGCTCTGGG_2_2</th>\n",
              "      <td>2</td>\n",
              "      <td>0</td>\n",
              "      <td>0</td>\n",
              "      <td>0</td>\n",
              "      <td>2</td>\n",
              "      <td>2</td>\n",
              "      <td>6</td>\n",
              "      <td>5</td>\n",
              "      <td>4</td>\n",
              "      <td>6</td>\n",
              "      <td>...</td>\n",
              "      <td>5</td>\n",
              "      <td>4</td>\n",
              "      <td>2</td>\n",
              "      <td>2</td>\n",
              "      <td>1</td>\n",
              "      <td>2</td>\n",
              "      <td>2</td>\n",
              "      <td>1</td>\n",
              "      <td>6</td>\n",
              "      <td>2</td>\n",
              "    </tr>\n",
              "    <tr>\n",
              "      <th>TTTGGGTGTGTAGATC_2_2</th>\n",
              "      <td>0</td>\n",
              "      <td>0</td>\n",
              "      <td>0</td>\n",
              "      <td>0</td>\n",
              "      <td>0</td>\n",
              "      <td>0</td>\n",
              "      <td>0</td>\n",
              "      <td>0</td>\n",
              "      <td>0</td>\n",
              "      <td>0</td>\n",
              "      <td>...</td>\n",
              "      <td>0</td>\n",
              "      <td>0</td>\n",
              "      <td>0</td>\n",
              "      <td>0</td>\n",
              "      <td>0</td>\n",
              "      <td>0</td>\n",
              "      <td>0</td>\n",
              "      <td>0</td>\n",
              "      <td>0</td>\n",
              "      <td>0</td>\n",
              "    </tr>\n",
              "  </tbody>\n",
              "</table>\n",
              "<p>23994 rows × 3974 columns</p>\n",
              "</div>\n",
              "    <div class=\"colab-df-buttons\">\n",
              "\n",
              "  <div class=\"colab-df-container\">\n",
              "    <button class=\"colab-df-convert\" onclick=\"convertToInteractive('df-273c8ce9-6039-488a-8df8-65aa42ebdb52')\"\n",
              "            title=\"Convert this dataframe to an interactive table.\"\n",
              "            style=\"display:none;\">\n",
              "\n",
              "  <svg xmlns=\"http://www.w3.org/2000/svg\" height=\"24px\" viewBox=\"0 -960 960 960\">\n",
              "    <path d=\"M120-120v-720h720v720H120Zm60-500h600v-160H180v160Zm220 220h160v-160H400v160Zm0 220h160v-160H400v160ZM180-400h160v-160H180v160Zm440 0h160v-160H620v160ZM180-180h160v-160H180v160Zm440 0h160v-160H620v160Z\"/>\n",
              "  </svg>\n",
              "    </button>\n",
              "\n",
              "  <style>\n",
              "    .colab-df-container {\n",
              "      display:flex;\n",
              "      gap: 12px;\n",
              "    }\n",
              "\n",
              "    .colab-df-convert {\n",
              "      background-color: #E8F0FE;\n",
              "      border: none;\n",
              "      border-radius: 50%;\n",
              "      cursor: pointer;\n",
              "      display: none;\n",
              "      fill: #1967D2;\n",
              "      height: 32px;\n",
              "      padding: 0 0 0 0;\n",
              "      width: 32px;\n",
              "    }\n",
              "\n",
              "    .colab-df-convert:hover {\n",
              "      background-color: #E2EBFA;\n",
              "      box-shadow: 0px 1px 2px rgba(60, 64, 67, 0.3), 0px 1px 3px 1px rgba(60, 64, 67, 0.15);\n",
              "      fill: #174EA6;\n",
              "    }\n",
              "\n",
              "    .colab-df-buttons div {\n",
              "      margin-bottom: 4px;\n",
              "    }\n",
              "\n",
              "    [theme=dark] .colab-df-convert {\n",
              "      background-color: #3B4455;\n",
              "      fill: #D2E3FC;\n",
              "    }\n",
              "\n",
              "    [theme=dark] .colab-df-convert:hover {\n",
              "      background-color: #434B5C;\n",
              "      box-shadow: 0px 1px 3px 1px rgba(0, 0, 0, 0.15);\n",
              "      filter: drop-shadow(0px 1px 2px rgba(0, 0, 0, 0.3));\n",
              "      fill: #FFFFFF;\n",
              "    }\n",
              "  </style>\n",
              "\n",
              "    <script>\n",
              "      const buttonEl =\n",
              "        document.querySelector('#df-273c8ce9-6039-488a-8df8-65aa42ebdb52 button.colab-df-convert');\n",
              "      buttonEl.style.display =\n",
              "        google.colab.kernel.accessAllowed ? 'block' : 'none';\n",
              "\n",
              "      async function convertToInteractive(key) {\n",
              "        const element = document.querySelector('#df-273c8ce9-6039-488a-8df8-65aa42ebdb52');\n",
              "        const dataTable =\n",
              "          await google.colab.kernel.invokeFunction('convertToInteractive',\n",
              "                                                    [key], {});\n",
              "        if (!dataTable) return;\n",
              "\n",
              "        const docLinkHtml = 'Like what you see? Visit the ' +\n",
              "          '<a target=\"_blank\" href=https://colab.research.google.com/notebooks/data_table.ipynb>data table notebook</a>'\n",
              "          + ' to learn more about interactive tables.';\n",
              "        element.innerHTML = '';\n",
              "        dataTable['output_type'] = 'display_data';\n",
              "        await google.colab.output.renderOutput(dataTable, element);\n",
              "        const docLink = document.createElement('div');\n",
              "        docLink.innerHTML = docLinkHtml;\n",
              "        element.appendChild(docLink);\n",
              "      }\n",
              "    </script>\n",
              "  </div>\n",
              "\n",
              "\n",
              "<div id=\"df-77bbe38b-623e-4c89-bb51-5abcae4ce611\">\n",
              "  <button class=\"colab-df-quickchart\" onclick=\"quickchart('df-77bbe38b-623e-4c89-bb51-5abcae4ce611')\"\n",
              "            title=\"Suggest charts\"\n",
              "            style=\"display:none;\">\n",
              "\n",
              "<svg xmlns=\"http://www.w3.org/2000/svg\" height=\"24px\"viewBox=\"0 0 24 24\"\n",
              "     width=\"24px\">\n",
              "    <g>\n",
              "        <path d=\"M19 3H5c-1.1 0-2 .9-2 2v14c0 1.1.9 2 2 2h14c1.1 0 2-.9 2-2V5c0-1.1-.9-2-2-2zM9 17H7v-7h2v7zm4 0h-2V7h2v10zm4 0h-2v-4h2v4z\"/>\n",
              "    </g>\n",
              "</svg>\n",
              "  </button>\n",
              "\n",
              "<style>\n",
              "  .colab-df-quickchart {\n",
              "      --bg-color: #E8F0FE;\n",
              "      --fill-color: #1967D2;\n",
              "      --hover-bg-color: #E2EBFA;\n",
              "      --hover-fill-color: #174EA6;\n",
              "      --disabled-fill-color: #AAA;\n",
              "      --disabled-bg-color: #DDD;\n",
              "  }\n",
              "\n",
              "  [theme=dark] .colab-df-quickchart {\n",
              "      --bg-color: #3B4455;\n",
              "      --fill-color: #D2E3FC;\n",
              "      --hover-bg-color: #434B5C;\n",
              "      --hover-fill-color: #FFFFFF;\n",
              "      --disabled-bg-color: #3B4455;\n",
              "      --disabled-fill-color: #666;\n",
              "  }\n",
              "\n",
              "  .colab-df-quickchart {\n",
              "    background-color: var(--bg-color);\n",
              "    border: none;\n",
              "    border-radius: 50%;\n",
              "    cursor: pointer;\n",
              "    display: none;\n",
              "    fill: var(--fill-color);\n",
              "    height: 32px;\n",
              "    padding: 0;\n",
              "    width: 32px;\n",
              "  }\n",
              "\n",
              "  .colab-df-quickchart:hover {\n",
              "    background-color: var(--hover-bg-color);\n",
              "    box-shadow: 0 1px 2px rgba(60, 64, 67, 0.3), 0 1px 3px 1px rgba(60, 64, 67, 0.15);\n",
              "    fill: var(--button-hover-fill-color);\n",
              "  }\n",
              "\n",
              "  .colab-df-quickchart-complete:disabled,\n",
              "  .colab-df-quickchart-complete:disabled:hover {\n",
              "    background-color: var(--disabled-bg-color);\n",
              "    fill: var(--disabled-fill-color);\n",
              "    box-shadow: none;\n",
              "  }\n",
              "\n",
              "  .colab-df-spinner {\n",
              "    border: 2px solid var(--fill-color);\n",
              "    border-color: transparent;\n",
              "    border-bottom-color: var(--fill-color);\n",
              "    animation:\n",
              "      spin 1s steps(1) infinite;\n",
              "  }\n",
              "\n",
              "  @keyframes spin {\n",
              "    0% {\n",
              "      border-color: transparent;\n",
              "      border-bottom-color: var(--fill-color);\n",
              "      border-left-color: var(--fill-color);\n",
              "    }\n",
              "    20% {\n",
              "      border-color: transparent;\n",
              "      border-left-color: var(--fill-color);\n",
              "      border-top-color: var(--fill-color);\n",
              "    }\n",
              "    30% {\n",
              "      border-color: transparent;\n",
              "      border-left-color: var(--fill-color);\n",
              "      border-top-color: var(--fill-color);\n",
              "      border-right-color: var(--fill-color);\n",
              "    }\n",
              "    40% {\n",
              "      border-color: transparent;\n",
              "      border-right-color: var(--fill-color);\n",
              "      border-top-color: var(--fill-color);\n",
              "    }\n",
              "    60% {\n",
              "      border-color: transparent;\n",
              "      border-right-color: var(--fill-color);\n",
              "    }\n",
              "    80% {\n",
              "      border-color: transparent;\n",
              "      border-right-color: var(--fill-color);\n",
              "      border-bottom-color: var(--fill-color);\n",
              "    }\n",
              "    90% {\n",
              "      border-color: transparent;\n",
              "      border-bottom-color: var(--fill-color);\n",
              "    }\n",
              "  }\n",
              "</style>\n",
              "\n",
              "  <script>\n",
              "    async function quickchart(key) {\n",
              "      const quickchartButtonEl =\n",
              "        document.querySelector('#' + key + ' button');\n",
              "      quickchartButtonEl.disabled = true;  // To prevent multiple clicks.\n",
              "      quickchartButtonEl.classList.add('colab-df-spinner');\n",
              "      try {\n",
              "        const charts = await google.colab.kernel.invokeFunction(\n",
              "            'suggestCharts', [key], {});\n",
              "      } catch (error) {\n",
              "        console.error('Error during call to suggestCharts:', error);\n",
              "      }\n",
              "      quickchartButtonEl.classList.remove('colab-df-spinner');\n",
              "      quickchartButtonEl.classList.add('colab-df-quickchart-complete');\n",
              "    }\n",
              "    (() => {\n",
              "      let quickchartButtonEl =\n",
              "        document.querySelector('#df-77bbe38b-623e-4c89-bb51-5abcae4ce611 button');\n",
              "      quickchartButtonEl.style.display =\n",
              "        google.colab.kernel.accessAllowed ? 'block' : 'none';\n",
              "    })();\n",
              "  </script>\n",
              "</div>\n",
              "\n",
              "  <div id=\"id_a47d3d50-6b3d-4f4a-888f-eda9088db333\">\n",
              "    <style>\n",
              "      .colab-df-generate {\n",
              "        background-color: #E8F0FE;\n",
              "        border: none;\n",
              "        border-radius: 50%;\n",
              "        cursor: pointer;\n",
              "        display: none;\n",
              "        fill: #1967D2;\n",
              "        height: 32px;\n",
              "        padding: 0 0 0 0;\n",
              "        width: 32px;\n",
              "      }\n",
              "\n",
              "      .colab-df-generate:hover {\n",
              "        background-color: #E2EBFA;\n",
              "        box-shadow: 0px 1px 2px rgba(60, 64, 67, 0.3), 0px 1px 3px 1px rgba(60, 64, 67, 0.15);\n",
              "        fill: #174EA6;\n",
              "      }\n",
              "\n",
              "      [theme=dark] .colab-df-generate {\n",
              "        background-color: #3B4455;\n",
              "        fill: #D2E3FC;\n",
              "      }\n",
              "\n",
              "      [theme=dark] .colab-df-generate:hover {\n",
              "        background-color: #434B5C;\n",
              "        box-shadow: 0px 1px 3px 1px rgba(0, 0, 0, 0.15);\n",
              "        filter: drop-shadow(0px 1px 2px rgba(0, 0, 0, 0.3));\n",
              "        fill: #FFFFFF;\n",
              "      }\n",
              "    </style>\n",
              "    <button class=\"colab-df-generate\" onclick=\"generateWithVariable('count_df')\"\n",
              "            title=\"Generate code using this dataframe.\"\n",
              "            style=\"display:none;\">\n",
              "\n",
              "  <svg xmlns=\"http://www.w3.org/2000/svg\" height=\"24px\"viewBox=\"0 0 24 24\"\n",
              "       width=\"24px\">\n",
              "    <path d=\"M7,19H8.4L18.45,9,17,7.55,7,17.6ZM5,21V16.75L18.45,3.32a2,2,0,0,1,2.83,0l1.4,1.43a1.91,1.91,0,0,1,.58,1.4,1.91,1.91,0,0,1-.58,1.4L9.25,21ZM18.45,9,17,7.55Zm-12,3A5.31,5.31,0,0,0,4.9,8.1,5.31,5.31,0,0,0,1,6.5,5.31,5.31,0,0,0,4.9,4.9,5.31,5.31,0,0,0,6.5,1,5.31,5.31,0,0,0,8.1,4.9,5.31,5.31,0,0,0,12,6.5,5.46,5.46,0,0,0,6.5,12Z\"/>\n",
              "  </svg>\n",
              "    </button>\n",
              "    <script>\n",
              "      (() => {\n",
              "      const buttonEl =\n",
              "        document.querySelector('#id_a47d3d50-6b3d-4f4a-888f-eda9088db333 button.colab-df-generate');\n",
              "      buttonEl.style.display =\n",
              "        google.colab.kernel.accessAllowed ? 'block' : 'none';\n",
              "\n",
              "      buttonEl.onclick = () => {\n",
              "        google.colab.notebook.generateWithVariable('count_df');\n",
              "      }\n",
              "      })();\n",
              "    </script>\n",
              "  </div>\n",
              "\n",
              "    </div>\n",
              "  </div>\n"
            ],
            "application/vnd.google.colaboratory.intrinsic+json": {
              "type": "dataframe",
              "variable_name": "count_df"
            }
          },
          "metadata": {},
          "execution_count": 42
        }
      ]
    },
    {
      "cell_type": "code",
      "source": [
        "metadata_df"
      ],
      "metadata": {
        "colab": {
          "base_uri": "https://localhost:8080/",
          "height": 423
        },
        "id": "oD3234alvq0X",
        "outputId": "05af334c-1e41-495f-cfc5-b73f28d96e5a"
      },
      "id": "oD3234alvq0X",
      "execution_count": 43,
      "outputs": [
        {
          "output_type": "execute_result",
          "data": {
            "text/plain": [
              "                     Treatment\n",
              "AAAAAAAAAAAAAAAA_1_1         0\n",
              "AAACAACGAACGAGCA_1_1         0\n",
              "AAACAACGAAGAGGCT_1_1         0\n",
              "AAACAACGAAGTCGGA_1_1         0\n",
              "AAACAACGACGCACTG_1_1         0\n",
              "...                        ...\n",
              "TTTGGGATGAAGTCTC_2_2         1\n",
              "TTTGGGATGATGTGGG_2_2         1\n",
              "TTTGGGATGCTCACGG_2_2         1\n",
              "TTTGGGATGCTCTGGG_2_2         1\n",
              "TTTGGGTGTGTAGATC_2_2         1\n",
              "\n",
              "[23994 rows x 1 columns]"
            ],
            "text/html": [
              "\n",
              "  <div id=\"df-e5515af8-fcdb-4c87-8fdb-78612fc7075f\" class=\"colab-df-container\">\n",
              "    <div>\n",
              "<style scoped>\n",
              "    .dataframe tbody tr th:only-of-type {\n",
              "        vertical-align: middle;\n",
              "    }\n",
              "\n",
              "    .dataframe tbody tr th {\n",
              "        vertical-align: top;\n",
              "    }\n",
              "\n",
              "    .dataframe thead th {\n",
              "        text-align: right;\n",
              "    }\n",
              "</style>\n",
              "<table border=\"1\" class=\"dataframe\">\n",
              "  <thead>\n",
              "    <tr style=\"text-align: right;\">\n",
              "      <th></th>\n",
              "      <th>Treatment</th>\n",
              "    </tr>\n",
              "  </thead>\n",
              "  <tbody>\n",
              "    <tr>\n",
              "      <th>AAAAAAAAAAAAAAAA_1_1</th>\n",
              "      <td>0</td>\n",
              "    </tr>\n",
              "    <tr>\n",
              "      <th>AAACAACGAACGAGCA_1_1</th>\n",
              "      <td>0</td>\n",
              "    </tr>\n",
              "    <tr>\n",
              "      <th>AAACAACGAAGAGGCT_1_1</th>\n",
              "      <td>0</td>\n",
              "    </tr>\n",
              "    <tr>\n",
              "      <th>AAACAACGAAGTCGGA_1_1</th>\n",
              "      <td>0</td>\n",
              "    </tr>\n",
              "    <tr>\n",
              "      <th>AAACAACGACGCACTG_1_1</th>\n",
              "      <td>0</td>\n",
              "    </tr>\n",
              "    <tr>\n",
              "      <th>...</th>\n",
              "      <td>...</td>\n",
              "    </tr>\n",
              "    <tr>\n",
              "      <th>TTTGGGATGAAGTCTC_2_2</th>\n",
              "      <td>1</td>\n",
              "    </tr>\n",
              "    <tr>\n",
              "      <th>TTTGGGATGATGTGGG_2_2</th>\n",
              "      <td>1</td>\n",
              "    </tr>\n",
              "    <tr>\n",
              "      <th>TTTGGGATGCTCACGG_2_2</th>\n",
              "      <td>1</td>\n",
              "    </tr>\n",
              "    <tr>\n",
              "      <th>TTTGGGATGCTCTGGG_2_2</th>\n",
              "      <td>1</td>\n",
              "    </tr>\n",
              "    <tr>\n",
              "      <th>TTTGGGTGTGTAGATC_2_2</th>\n",
              "      <td>1</td>\n",
              "    </tr>\n",
              "  </tbody>\n",
              "</table>\n",
              "<p>23994 rows × 1 columns</p>\n",
              "</div>\n",
              "    <div class=\"colab-df-buttons\">\n",
              "\n",
              "  <div class=\"colab-df-container\">\n",
              "    <button class=\"colab-df-convert\" onclick=\"convertToInteractive('df-e5515af8-fcdb-4c87-8fdb-78612fc7075f')\"\n",
              "            title=\"Convert this dataframe to an interactive table.\"\n",
              "            style=\"display:none;\">\n",
              "\n",
              "  <svg xmlns=\"http://www.w3.org/2000/svg\" height=\"24px\" viewBox=\"0 -960 960 960\">\n",
              "    <path d=\"M120-120v-720h720v720H120Zm60-500h600v-160H180v160Zm220 220h160v-160H400v160Zm0 220h160v-160H400v160ZM180-400h160v-160H180v160Zm440 0h160v-160H620v160ZM180-180h160v-160H180v160Zm440 0h160v-160H620v160Z\"/>\n",
              "  </svg>\n",
              "    </button>\n",
              "\n",
              "  <style>\n",
              "    .colab-df-container {\n",
              "      display:flex;\n",
              "      gap: 12px;\n",
              "    }\n",
              "\n",
              "    .colab-df-convert {\n",
              "      background-color: #E8F0FE;\n",
              "      border: none;\n",
              "      border-radius: 50%;\n",
              "      cursor: pointer;\n",
              "      display: none;\n",
              "      fill: #1967D2;\n",
              "      height: 32px;\n",
              "      padding: 0 0 0 0;\n",
              "      width: 32px;\n",
              "    }\n",
              "\n",
              "    .colab-df-convert:hover {\n",
              "      background-color: #E2EBFA;\n",
              "      box-shadow: 0px 1px 2px rgba(60, 64, 67, 0.3), 0px 1px 3px 1px rgba(60, 64, 67, 0.15);\n",
              "      fill: #174EA6;\n",
              "    }\n",
              "\n",
              "    .colab-df-buttons div {\n",
              "      margin-bottom: 4px;\n",
              "    }\n",
              "\n",
              "    [theme=dark] .colab-df-convert {\n",
              "      background-color: #3B4455;\n",
              "      fill: #D2E3FC;\n",
              "    }\n",
              "\n",
              "    [theme=dark] .colab-df-convert:hover {\n",
              "      background-color: #434B5C;\n",
              "      box-shadow: 0px 1px 3px 1px rgba(0, 0, 0, 0.15);\n",
              "      filter: drop-shadow(0px 1px 2px rgba(0, 0, 0, 0.3));\n",
              "      fill: #FFFFFF;\n",
              "    }\n",
              "  </style>\n",
              "\n",
              "    <script>\n",
              "      const buttonEl =\n",
              "        document.querySelector('#df-e5515af8-fcdb-4c87-8fdb-78612fc7075f button.colab-df-convert');\n",
              "      buttonEl.style.display =\n",
              "        google.colab.kernel.accessAllowed ? 'block' : 'none';\n",
              "\n",
              "      async function convertToInteractive(key) {\n",
              "        const element = document.querySelector('#df-e5515af8-fcdb-4c87-8fdb-78612fc7075f');\n",
              "        const dataTable =\n",
              "          await google.colab.kernel.invokeFunction('convertToInteractive',\n",
              "                                                    [key], {});\n",
              "        if (!dataTable) return;\n",
              "\n",
              "        const docLinkHtml = 'Like what you see? Visit the ' +\n",
              "          '<a target=\"_blank\" href=https://colab.research.google.com/notebooks/data_table.ipynb>data table notebook</a>'\n",
              "          + ' to learn more about interactive tables.';\n",
              "        element.innerHTML = '';\n",
              "        dataTable['output_type'] = 'display_data';\n",
              "        await google.colab.output.renderOutput(dataTable, element);\n",
              "        const docLink = document.createElement('div');\n",
              "        docLink.innerHTML = docLinkHtml;\n",
              "        element.appendChild(docLink);\n",
              "      }\n",
              "    </script>\n",
              "  </div>\n",
              "\n",
              "\n",
              "<div id=\"df-8f84edd8-b40f-42aa-8417-b97b93a1448f\">\n",
              "  <button class=\"colab-df-quickchart\" onclick=\"quickchart('df-8f84edd8-b40f-42aa-8417-b97b93a1448f')\"\n",
              "            title=\"Suggest charts\"\n",
              "            style=\"display:none;\">\n",
              "\n",
              "<svg xmlns=\"http://www.w3.org/2000/svg\" height=\"24px\"viewBox=\"0 0 24 24\"\n",
              "     width=\"24px\">\n",
              "    <g>\n",
              "        <path d=\"M19 3H5c-1.1 0-2 .9-2 2v14c0 1.1.9 2 2 2h14c1.1 0 2-.9 2-2V5c0-1.1-.9-2-2-2zM9 17H7v-7h2v7zm4 0h-2V7h2v10zm4 0h-2v-4h2v4z\"/>\n",
              "    </g>\n",
              "</svg>\n",
              "  </button>\n",
              "\n",
              "<style>\n",
              "  .colab-df-quickchart {\n",
              "      --bg-color: #E8F0FE;\n",
              "      --fill-color: #1967D2;\n",
              "      --hover-bg-color: #E2EBFA;\n",
              "      --hover-fill-color: #174EA6;\n",
              "      --disabled-fill-color: #AAA;\n",
              "      --disabled-bg-color: #DDD;\n",
              "  }\n",
              "\n",
              "  [theme=dark] .colab-df-quickchart {\n",
              "      --bg-color: #3B4455;\n",
              "      --fill-color: #D2E3FC;\n",
              "      --hover-bg-color: #434B5C;\n",
              "      --hover-fill-color: #FFFFFF;\n",
              "      --disabled-bg-color: #3B4455;\n",
              "      --disabled-fill-color: #666;\n",
              "  }\n",
              "\n",
              "  .colab-df-quickchart {\n",
              "    background-color: var(--bg-color);\n",
              "    border: none;\n",
              "    border-radius: 50%;\n",
              "    cursor: pointer;\n",
              "    display: none;\n",
              "    fill: var(--fill-color);\n",
              "    height: 32px;\n",
              "    padding: 0;\n",
              "    width: 32px;\n",
              "  }\n",
              "\n",
              "  .colab-df-quickchart:hover {\n",
              "    background-color: var(--hover-bg-color);\n",
              "    box-shadow: 0 1px 2px rgba(60, 64, 67, 0.3), 0 1px 3px 1px rgba(60, 64, 67, 0.15);\n",
              "    fill: var(--button-hover-fill-color);\n",
              "  }\n",
              "\n",
              "  .colab-df-quickchart-complete:disabled,\n",
              "  .colab-df-quickchart-complete:disabled:hover {\n",
              "    background-color: var(--disabled-bg-color);\n",
              "    fill: var(--disabled-fill-color);\n",
              "    box-shadow: none;\n",
              "  }\n",
              "\n",
              "  .colab-df-spinner {\n",
              "    border: 2px solid var(--fill-color);\n",
              "    border-color: transparent;\n",
              "    border-bottom-color: var(--fill-color);\n",
              "    animation:\n",
              "      spin 1s steps(1) infinite;\n",
              "  }\n",
              "\n",
              "  @keyframes spin {\n",
              "    0% {\n",
              "      border-color: transparent;\n",
              "      border-bottom-color: var(--fill-color);\n",
              "      border-left-color: var(--fill-color);\n",
              "    }\n",
              "    20% {\n",
              "      border-color: transparent;\n",
              "      border-left-color: var(--fill-color);\n",
              "      border-top-color: var(--fill-color);\n",
              "    }\n",
              "    30% {\n",
              "      border-color: transparent;\n",
              "      border-left-color: var(--fill-color);\n",
              "      border-top-color: var(--fill-color);\n",
              "      border-right-color: var(--fill-color);\n",
              "    }\n",
              "    40% {\n",
              "      border-color: transparent;\n",
              "      border-right-color: var(--fill-color);\n",
              "      border-top-color: var(--fill-color);\n",
              "    }\n",
              "    60% {\n",
              "      border-color: transparent;\n",
              "      border-right-color: var(--fill-color);\n",
              "    }\n",
              "    80% {\n",
              "      border-color: transparent;\n",
              "      border-right-color: var(--fill-color);\n",
              "      border-bottom-color: var(--fill-color);\n",
              "    }\n",
              "    90% {\n",
              "      border-color: transparent;\n",
              "      border-bottom-color: var(--fill-color);\n",
              "    }\n",
              "  }\n",
              "</style>\n",
              "\n",
              "  <script>\n",
              "    async function quickchart(key) {\n",
              "      const quickchartButtonEl =\n",
              "        document.querySelector('#' + key + ' button');\n",
              "      quickchartButtonEl.disabled = true;  // To prevent multiple clicks.\n",
              "      quickchartButtonEl.classList.add('colab-df-spinner');\n",
              "      try {\n",
              "        const charts = await google.colab.kernel.invokeFunction(\n",
              "            'suggestCharts', [key], {});\n",
              "      } catch (error) {\n",
              "        console.error('Error during call to suggestCharts:', error);\n",
              "      }\n",
              "      quickchartButtonEl.classList.remove('colab-df-spinner');\n",
              "      quickchartButtonEl.classList.add('colab-df-quickchart-complete');\n",
              "    }\n",
              "    (() => {\n",
              "      let quickchartButtonEl =\n",
              "        document.querySelector('#df-8f84edd8-b40f-42aa-8417-b97b93a1448f button');\n",
              "      quickchartButtonEl.style.display =\n",
              "        google.colab.kernel.accessAllowed ? 'block' : 'none';\n",
              "    })();\n",
              "  </script>\n",
              "</div>\n",
              "\n",
              "  <div id=\"id_ae330552-096f-479d-88d9-97c8c94fd853\">\n",
              "    <style>\n",
              "      .colab-df-generate {\n",
              "        background-color: #E8F0FE;\n",
              "        border: none;\n",
              "        border-radius: 50%;\n",
              "        cursor: pointer;\n",
              "        display: none;\n",
              "        fill: #1967D2;\n",
              "        height: 32px;\n",
              "        padding: 0 0 0 0;\n",
              "        width: 32px;\n",
              "      }\n",
              "\n",
              "      .colab-df-generate:hover {\n",
              "        background-color: #E2EBFA;\n",
              "        box-shadow: 0px 1px 2px rgba(60, 64, 67, 0.3), 0px 1px 3px 1px rgba(60, 64, 67, 0.15);\n",
              "        fill: #174EA6;\n",
              "      }\n",
              "\n",
              "      [theme=dark] .colab-df-generate {\n",
              "        background-color: #3B4455;\n",
              "        fill: #D2E3FC;\n",
              "      }\n",
              "\n",
              "      [theme=dark] .colab-df-generate:hover {\n",
              "        background-color: #434B5C;\n",
              "        box-shadow: 0px 1px 3px 1px rgba(0, 0, 0, 0.15);\n",
              "        filter: drop-shadow(0px 1px 2px rgba(0, 0, 0, 0.3));\n",
              "        fill: #FFFFFF;\n",
              "      }\n",
              "    </style>\n",
              "    <button class=\"colab-df-generate\" onclick=\"generateWithVariable('metadata_df')\"\n",
              "            title=\"Generate code using this dataframe.\"\n",
              "            style=\"display:none;\">\n",
              "\n",
              "  <svg xmlns=\"http://www.w3.org/2000/svg\" height=\"24px\"viewBox=\"0 0 24 24\"\n",
              "       width=\"24px\">\n",
              "    <path d=\"M7,19H8.4L18.45,9,17,7.55,7,17.6ZM5,21V16.75L18.45,3.32a2,2,0,0,1,2.83,0l1.4,1.43a1.91,1.91,0,0,1,.58,1.4,1.91,1.91,0,0,1-.58,1.4L9.25,21ZM18.45,9,17,7.55Zm-12,3A5.31,5.31,0,0,0,4.9,8.1,5.31,5.31,0,0,0,1,6.5,5.31,5.31,0,0,0,4.9,4.9,5.31,5.31,0,0,0,6.5,1,5.31,5.31,0,0,0,8.1,4.9,5.31,5.31,0,0,0,12,6.5,5.46,5.46,0,0,0,6.5,12Z\"/>\n",
              "  </svg>\n",
              "    </button>\n",
              "    <script>\n",
              "      (() => {\n",
              "      const buttonEl =\n",
              "        document.querySelector('#id_ae330552-096f-479d-88d9-97c8c94fd853 button.colab-df-generate');\n",
              "      buttonEl.style.display =\n",
              "        google.colab.kernel.accessAllowed ? 'block' : 'none';\n",
              "\n",
              "      buttonEl.onclick = () => {\n",
              "        google.colab.notebook.generateWithVariable('metadata_df');\n",
              "      }\n",
              "      })();\n",
              "    </script>\n",
              "  </div>\n",
              "\n",
              "    </div>\n",
              "  </div>\n"
            ],
            "application/vnd.google.colaboratory.intrinsic+json": {
              "type": "dataframe",
              "variable_name": "metadata_df",
              "summary": "{\n  \"name\": \"metadata_df\",\n  \"rows\": 23994,\n  \"fields\": [\n    {\n      \"column\": \"Treatment\",\n      \"properties\": {\n        \"dtype\": \"category\",\n        \"num_unique_values\": 2,\n        \"samples\": [\n          \"1\",\n          \"0\"\n        ],\n        \"semantic_type\": \"\",\n        \"description\": \"\"\n      }\n    }\n  ]\n}"
            }
          },
          "metadata": {},
          "execution_count": 43
        }
      ]
    },
    {
      "cell_type": "code",
      "source": [
        "from pydeseq2.dds import DeseqDataSet\n",
        "from pydeseq2.default_inference import DefaultInference\n",
        "from pydeseq2.ds import DeseqStats"
      ],
      "metadata": {
        "id": "ZZwBzAxb7KWy"
      },
      "id": "ZZwBzAxb7KWy",
      "execution_count": 44,
      "outputs": []
    },
    {
      "cell_type": "code",
      "source": [
        "dds = DeseqDataSet(\n",
        "    counts=count_df,\n",
        "    metadata=metadata_df,\n",
        "    design_factors=\"Treatment\",\n",
        "    refit_cooks=True,\n",
        ")"
      ],
      "metadata": {
        "id": "-DZsXOZL6hML"
      },
      "id": "-DZsXOZL6hML",
      "execution_count": 45,
      "outputs": []
    },
    {
      "source": [
        "!pip install tqdm"
      ],
      "cell_type": "code",
      "metadata": {
        "colab": {
          "base_uri": "https://localhost:8080/"
        },
        "id": "t-zPCrPTTziy",
        "outputId": "fd7db644-aba8-40eb-a4e9-d3e4bf5a1b95"
      },
      "id": "t-zPCrPTTziy",
      "execution_count": 46,
      "outputs": [
        {
          "output_type": "stream",
          "name": "stdout",
          "text": [
            "Requirement already satisfied: tqdm in /usr/local/lib/python3.10/dist-packages (4.67.1)\n"
          ]
        }
      ]
    },
    {
      "source": [
        "from tqdm.notebook import tqdm"
      ],
      "cell_type": "code",
      "metadata": {
        "id": "caIRuxZoT0VT"
      },
      "id": "caIRuxZoT0VT",
      "execution_count": 47,
      "outputs": []
    },
    {
      "source": [
        "import cProfile\n",
        "import pstats\n",
        "\n",
        "profiler = cProfile.Profile()\n",
        "profiler.enable()\n",
        "\n",
        "# Your DESeq2 analysis code here:\n",
        "dds.deseq2()\n",
        "results = dds.get_results()\n",
        "\n",
        "profiler.disable()\n",
        "stats = pstats.Stats(profiler).sort_stats('cumulative')\n",
        "stats.print_stats()"
      ],
      "cell_type": "code",
      "metadata": {
        "colab": {
          "base_uri": "https://localhost:8080/",
          "height": 445
        },
        "id": "ZNR2I7MFiuzx",
        "outputId": "7914f4a1-caf4-4608-868a-d090a8207e2a"
      },
      "id": "ZNR2I7MFiuzx",
      "execution_count": 48,
      "outputs": [
        {
          "output_type": "stream",
          "name": "stderr",
          "text": [
            "Fitting size factors...\n",
            "/usr/local/lib/python3.10/dist-packages/pydeseq2/dds.py:490: UserWarning: Every gene contains at least one zero, cannot compute log geometric means. Switching to iterative mode.\n",
            "  self.fit_size_factors()\n",
            "Fitting dispersions...\n"
          ]
        },
        {
          "output_type": "error",
          "ename": "KeyboardInterrupt",
          "evalue": "",
          "traceback": [
            "\u001b[0;31m---------------------------------------------------------------------------\u001b[0m",
            "\u001b[0;31mKeyboardInterrupt\u001b[0m                         Traceback (most recent call last)",
            "\u001b[0;32m<ipython-input-48-af268e17c6d6>\u001b[0m in \u001b[0;36m<cell line: 8>\u001b[0;34m()\u001b[0m\n\u001b[1;32m      6\u001b[0m \u001b[0;34m\u001b[0m\u001b[0m\n\u001b[1;32m      7\u001b[0m \u001b[0;31m# Your DESeq2 analysis code here:\u001b[0m\u001b[0;34m\u001b[0m\u001b[0;34m\u001b[0m\u001b[0m\n\u001b[0;32m----> 8\u001b[0;31m \u001b[0mdds\u001b[0m\u001b[0;34m.\u001b[0m\u001b[0mdeseq2\u001b[0m\u001b[0;34m(\u001b[0m\u001b[0;34m)\u001b[0m\u001b[0;34m\u001b[0m\u001b[0;34m\u001b[0m\u001b[0m\n\u001b[0m\u001b[1;32m      9\u001b[0m \u001b[0mresults\u001b[0m \u001b[0;34m=\u001b[0m \u001b[0mdds\u001b[0m\u001b[0;34m.\u001b[0m\u001b[0mget_results\u001b[0m\u001b[0;34m(\u001b[0m\u001b[0;34m)\u001b[0m\u001b[0;34m\u001b[0m\u001b[0;34m\u001b[0m\u001b[0m\n\u001b[1;32m     10\u001b[0m \u001b[0;34m\u001b[0m\u001b[0m\n",
            "\u001b[0;32m/usr/local/lib/python3.10/dist-packages/pydeseq2/dds.py\u001b[0m in \u001b[0;36mdeseq2\u001b[0;34m(self, fit_type)\u001b[0m\n\u001b[1;32m    488\u001b[0m \u001b[0;34m\u001b[0m\u001b[0m\n\u001b[1;32m    489\u001b[0m         \u001b[0;31m# Compute DESeq2 normalization factors using the Median-of-ratios method\u001b[0m\u001b[0;34m\u001b[0m\u001b[0;34m\u001b[0m\u001b[0m\n\u001b[0;32m--> 490\u001b[0;31m         \u001b[0mself\u001b[0m\u001b[0;34m.\u001b[0m\u001b[0mfit_size_factors\u001b[0m\u001b[0;34m(\u001b[0m\u001b[0;34m)\u001b[0m\u001b[0;34m\u001b[0m\u001b[0;34m\u001b[0m\u001b[0m\n\u001b[0m\u001b[1;32m    491\u001b[0m         \u001b[0;31m# Fit an independent negative binomial model per gene\u001b[0m\u001b[0;34m\u001b[0m\u001b[0;34m\u001b[0m\u001b[0m\n\u001b[1;32m    492\u001b[0m         \u001b[0mself\u001b[0m\u001b[0;34m.\u001b[0m\u001b[0mfit_genewise_dispersions\u001b[0m\u001b[0;34m(\u001b[0m\u001b[0;34m)\u001b[0m\u001b[0;34m\u001b[0m\u001b[0;34m\u001b[0m\u001b[0m\n",
            "\u001b[0;32m/usr/local/lib/python3.10/dist-packages/pydeseq2/dds.py\u001b[0m in \u001b[0;36mfit_size_factors\u001b[0;34m(self, fit_type, control_genes)\u001b[0m\n\u001b[1;32m    602\u001b[0m                 \u001b[0mstacklevel\u001b[0m\u001b[0;34m=\u001b[0m\u001b[0;36m2\u001b[0m\u001b[0;34m,\u001b[0m\u001b[0;34m\u001b[0m\u001b[0;34m\u001b[0m\u001b[0m\n\u001b[1;32m    603\u001b[0m             )\n\u001b[0;32m--> 604\u001b[0;31m             \u001b[0mself\u001b[0m\u001b[0;34m.\u001b[0m\u001b[0m_fit_iterate_size_factors\u001b[0m\u001b[0;34m(\u001b[0m\u001b[0;34m)\u001b[0m\u001b[0;34m\u001b[0m\u001b[0;34m\u001b[0m\u001b[0m\n\u001b[0m\u001b[1;32m    605\u001b[0m \u001b[0;34m\u001b[0m\u001b[0m\n\u001b[1;32m    606\u001b[0m         \u001b[0;32melse\u001b[0m\u001b[0;34m:\u001b[0m\u001b[0;34m\u001b[0m\u001b[0;34m\u001b[0m\u001b[0m\n",
            "\u001b[0;32m/usr/local/lib/python3.10/dist-packages/pydeseq2/dds.py\u001b[0m in \u001b[0;36m_fit_iterate_size_factors\u001b[0;34m(self, niter, quant)\u001b[0m\n\u001b[1;32m   1378\u001b[0m         \u001b[0;32mfor\u001b[0m \u001b[0mi\u001b[0m \u001b[0;32min\u001b[0m \u001b[0mrange\u001b[0m\u001b[0;34m(\u001b[0m\u001b[0mniter\u001b[0m\u001b[0;34m)\u001b[0m\u001b[0;34m:\u001b[0m\u001b[0;34m\u001b[0m\u001b[0;34m\u001b[0m\u001b[0m\n\u001b[1;32m   1379\u001b[0m             \u001b[0;31m# Estimate dispersions based on current size factors\u001b[0m\u001b[0;34m\u001b[0m\u001b[0;34m\u001b[0m\u001b[0m\n\u001b[0;32m-> 1380\u001b[0;31m             \u001b[0mself\u001b[0m\u001b[0;34m.\u001b[0m\u001b[0mfit_genewise_dispersions\u001b[0m\u001b[0;34m(\u001b[0m\u001b[0;34m)\u001b[0m\u001b[0;34m\u001b[0m\u001b[0;34m\u001b[0m\u001b[0m\n\u001b[0m\u001b[1;32m   1381\u001b[0m \u001b[0;34m\u001b[0m\u001b[0m\n\u001b[1;32m   1382\u001b[0m             \u001b[0;31m# Use a mean trend curve\u001b[0m\u001b[0;34m\u001b[0m\u001b[0;34m\u001b[0m\u001b[0m\n",
            "\u001b[0;32m/usr/local/lib/python3.10/dist-packages/pydeseq2/dds.py\u001b[0m in \u001b[0;36mfit_genewise_dispersions\u001b[0;34m(self, vst)\u001b[0m\n\u001b[1;32m    683\u001b[0m             \u001b[0mprint\u001b[0m\u001b[0;34m(\u001b[0m\u001b[0;34m\"Fitting dispersions...\"\u001b[0m\u001b[0;34m,\u001b[0m \u001b[0mfile\u001b[0m\u001b[0;34m=\u001b[0m\u001b[0msys\u001b[0m\u001b[0;34m.\u001b[0m\u001b[0mstderr\u001b[0m\u001b[0;34m)\u001b[0m\u001b[0;34m\u001b[0m\u001b[0;34m\u001b[0m\u001b[0m\n\u001b[1;32m    684\u001b[0m         \u001b[0mstart\u001b[0m \u001b[0;34m=\u001b[0m \u001b[0mtime\u001b[0m\u001b[0;34m.\u001b[0m\u001b[0mtime\u001b[0m\u001b[0;34m(\u001b[0m\u001b[0;34m)\u001b[0m\u001b[0;34m\u001b[0m\u001b[0;34m\u001b[0m\u001b[0m\n\u001b[0;32m--> 685\u001b[0;31m         dispersions_, l_bfgs_b_converged_ = self.inference.alpha_mle(\n\u001b[0m\u001b[1;32m    686\u001b[0m             \u001b[0mcounts\u001b[0m\u001b[0;34m=\u001b[0m\u001b[0mself\u001b[0m\u001b[0;34m.\u001b[0m\u001b[0mX\u001b[0m\u001b[0;34m[\u001b[0m\u001b[0;34m:\u001b[0m\u001b[0;34m,\u001b[0m \u001b[0mself\u001b[0m\u001b[0;34m.\u001b[0m\u001b[0mnon_zero_idx\u001b[0m\u001b[0;34m]\u001b[0m\u001b[0;34m,\u001b[0m\u001b[0;34m\u001b[0m\u001b[0;34m\u001b[0m\u001b[0m\n\u001b[1;32m    687\u001b[0m             \u001b[0mdesign_matrix\u001b[0m\u001b[0;34m=\u001b[0m\u001b[0mdesign_matrix\u001b[0m\u001b[0;34m,\u001b[0m\u001b[0;34m\u001b[0m\u001b[0;34m\u001b[0m\u001b[0m\n",
            "\u001b[0;32m/usr/local/lib/python3.10/dist-packages/pydeseq2/default_inference.py\u001b[0m in \u001b[0;36malpha_mle\u001b[0;34m(self, counts, design_matrix, mu, alpha_hat, min_disp, max_disp, prior_disp_var, cr_reg, prior_reg, optimizer)\u001b[0m\n\u001b[1;32m    140\u001b[0m     ) -> Tuple[np.ndarray, np.ndarray]:\n\u001b[1;32m    141\u001b[0m         \u001b[0;32mwith\u001b[0m \u001b[0mparallel_backend\u001b[0m\u001b[0;34m(\u001b[0m\u001b[0mself\u001b[0m\u001b[0;34m.\u001b[0m\u001b[0m_backend\u001b[0m\u001b[0;34m,\u001b[0m \u001b[0minner_max_num_threads\u001b[0m\u001b[0;34m=\u001b[0m\u001b[0;36m1\u001b[0m\u001b[0;34m)\u001b[0m\u001b[0;34m:\u001b[0m\u001b[0;34m\u001b[0m\u001b[0;34m\u001b[0m\u001b[0m\n\u001b[0;32m--> 142\u001b[0;31m             res = Parallel(\n\u001b[0m\u001b[1;32m    143\u001b[0m                 \u001b[0mn_jobs\u001b[0m\u001b[0;34m=\u001b[0m\u001b[0mself\u001b[0m\u001b[0;34m.\u001b[0m\u001b[0mn_cpus\u001b[0m\u001b[0;34m,\u001b[0m\u001b[0;34m\u001b[0m\u001b[0;34m\u001b[0m\u001b[0m\n\u001b[1;32m    144\u001b[0m                 \u001b[0mverbose\u001b[0m\u001b[0;34m=\u001b[0m\u001b[0mself\u001b[0m\u001b[0;34m.\u001b[0m\u001b[0m_joblib_verbosity\u001b[0m\u001b[0;34m,\u001b[0m\u001b[0;34m\u001b[0m\u001b[0;34m\u001b[0m\u001b[0m\n",
            "\u001b[0;32m/usr/local/lib/python3.10/dist-packages/joblib/parallel.py\u001b[0m in \u001b[0;36m__call__\u001b[0;34m(self, iterable)\u001b[0m\n\u001b[1;32m   2005\u001b[0m         \u001b[0mnext\u001b[0m\u001b[0;34m(\u001b[0m\u001b[0moutput\u001b[0m\u001b[0;34m)\u001b[0m\u001b[0;34m\u001b[0m\u001b[0;34m\u001b[0m\u001b[0m\n\u001b[1;32m   2006\u001b[0m \u001b[0;34m\u001b[0m\u001b[0m\n\u001b[0;32m-> 2007\u001b[0;31m         \u001b[0;32mreturn\u001b[0m \u001b[0moutput\u001b[0m \u001b[0;32mif\u001b[0m \u001b[0mself\u001b[0m\u001b[0;34m.\u001b[0m\u001b[0mreturn_generator\u001b[0m \u001b[0;32melse\u001b[0m \u001b[0mlist\u001b[0m\u001b[0;34m(\u001b[0m\u001b[0moutput\u001b[0m\u001b[0;34m)\u001b[0m\u001b[0;34m\u001b[0m\u001b[0;34m\u001b[0m\u001b[0m\n\u001b[0m\u001b[1;32m   2008\u001b[0m \u001b[0;34m\u001b[0m\u001b[0m\n\u001b[1;32m   2009\u001b[0m     \u001b[0;32mdef\u001b[0m \u001b[0m__repr__\u001b[0m\u001b[0;34m(\u001b[0m\u001b[0mself\u001b[0m\u001b[0;34m)\u001b[0m\u001b[0;34m:\u001b[0m\u001b[0;34m\u001b[0m\u001b[0;34m\u001b[0m\u001b[0m\n",
            "\u001b[0;32m/usr/local/lib/python3.10/dist-packages/joblib/parallel.py\u001b[0m in \u001b[0;36m_get_outputs\u001b[0;34m(self, iterator, pre_dispatch)\u001b[0m\n\u001b[1;32m   1648\u001b[0m \u001b[0;34m\u001b[0m\u001b[0m\n\u001b[1;32m   1649\u001b[0m             \u001b[0;32mwith\u001b[0m \u001b[0mself\u001b[0m\u001b[0;34m.\u001b[0m\u001b[0m_backend\u001b[0m\u001b[0;34m.\u001b[0m\u001b[0mretrieval_context\u001b[0m\u001b[0;34m(\u001b[0m\u001b[0;34m)\u001b[0m\u001b[0;34m:\u001b[0m\u001b[0;34m\u001b[0m\u001b[0;34m\u001b[0m\u001b[0m\n\u001b[0;32m-> 1650\u001b[0;31m                 \u001b[0;32myield\u001b[0m \u001b[0;32mfrom\u001b[0m \u001b[0mself\u001b[0m\u001b[0;34m.\u001b[0m\u001b[0m_retrieve\u001b[0m\u001b[0;34m(\u001b[0m\u001b[0;34m)\u001b[0m\u001b[0;34m\u001b[0m\u001b[0;34m\u001b[0m\u001b[0m\n\u001b[0m\u001b[1;32m   1651\u001b[0m \u001b[0;34m\u001b[0m\u001b[0m\n\u001b[1;32m   1652\u001b[0m         \u001b[0;32mexcept\u001b[0m \u001b[0mGeneratorExit\u001b[0m\u001b[0;34m:\u001b[0m\u001b[0;34m\u001b[0m\u001b[0;34m\u001b[0m\u001b[0m\n",
            "\u001b[0;32m/usr/local/lib/python3.10/dist-packages/joblib/parallel.py\u001b[0m in \u001b[0;36m_retrieve\u001b[0;34m(self)\u001b[0m\n\u001b[1;32m   1760\u001b[0m                 (self._jobs[0].get_status(\n\u001b[1;32m   1761\u001b[0m                     timeout=self.timeout) == TASK_PENDING)):\n\u001b[0;32m-> 1762\u001b[0;31m                 \u001b[0mtime\u001b[0m\u001b[0;34m.\u001b[0m\u001b[0msleep\u001b[0m\u001b[0;34m(\u001b[0m\u001b[0;36m0.01\u001b[0m\u001b[0;34m)\u001b[0m\u001b[0;34m\u001b[0m\u001b[0;34m\u001b[0m\u001b[0m\n\u001b[0m\u001b[1;32m   1763\u001b[0m                 \u001b[0;32mcontinue\u001b[0m\u001b[0;34m\u001b[0m\u001b[0;34m\u001b[0m\u001b[0m\n\u001b[1;32m   1764\u001b[0m \u001b[0;34m\u001b[0m\u001b[0m\n",
            "\u001b[0;31mKeyboardInterrupt\u001b[0m: "
          ]
        }
      ]
    }
  ],
  "metadata": {
    "colab": {
      "machine_shape": "hm",
      "provenance": [],
      "toc_visible": true,
      "include_colab_link": true
    },
    "kernelspec": {
      "display_name": "Python 3",
      "name": "python3"
    },
    "language_info": {
      "name": "python"
    }
  },
  "nbformat": 4,
  "nbformat_minor": 5
}