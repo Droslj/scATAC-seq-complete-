{
  "cells": [
    {
      "cell_type": "markdown",
      "metadata": {
        "id": "view-in-github",
        "colab_type": "text"
      },
      "source": [
        "<a href=\"https://colab.research.google.com/github/Droslj/scATAC-seq-complete-/blob/Google-colab/scATAC_seq_(1)_DA.ipynb\" target=\"_parent\"><img src=\"https://colab.research.google.com/assets/colab-badge.svg\" alt=\"Open In Colab\"/></a>"
      ]
    },
    {
      "cell_type": "markdown",
      "id": "f268332b-53de-4af8-9533-e48c041292f3",
      "metadata": {
        "id": "f268332b-53de-4af8-9533-e48c041292f3"
      },
      "source": [
        "scATAC seq, based on scATAC seq processing Galaxy tutorials (scATAC preprocessing (2), Standard scATAC seq processing pipeline (1) )\n",
        "AD Objects created in Galaxy using customized Galaxy WF with Snapatac2 and imported\n",
        "(1) https://usegalaxy.eu/training-material/topics/single-cell/tutorials/scatac-preprocessing-tenx/tutorial.html#mapping-reads-to-a-reference-genome, (2) https://usegalaxy.eu/training-material/topics/single-cell/tutorials/scatac-standard-processing-snapatac2/tutorial.html\n",
        "Data taken from the following NCBI study:\n",
        "Metabolic adaptation pilots the differentiation of human hematopoietic cells (https://www.ncbi.nlm.nih.gov/bioproject/PRJNA1015713)\n",
        "Import Anndata objects for two biological replicates, SRR26046013 (cells treated with AOA inhibitor) and SRR26046019 (untreated cells)\n",
        "Perform Differential accesibility analysis"
      ]
    },
    {
      "cell_type": "code",
      "source": [
        "!pip install -q condacolab"
      ],
      "metadata": {
        "id": "HYs7RhoU68Ks"
      },
      "id": "HYs7RhoU68Ks",
      "execution_count": null,
      "outputs": []
    },
    {
      "cell_type": "code",
      "source": [
        "import condacolab"
      ],
      "metadata": {
        "id": "QBQXEKjk7O-V"
      },
      "id": "QBQXEKjk7O-V",
      "execution_count": null,
      "outputs": []
    },
    {
      "cell_type": "code",
      "source": [
        "condacolab.install()"
      ],
      "metadata": {
        "id": "YdiPg8vS7ZKq"
      },
      "id": "YdiPg8vS7ZKq",
      "execution_count": null,
      "outputs": []
    },
    {
      "cell_type": "code",
      "source": [
        "!conda --version"
      ],
      "metadata": {
        "id": "VITjp1M56yu_"
      },
      "id": "VITjp1M56yu_",
      "execution_count": null,
      "outputs": []
    },
    {
      "cell_type": "code",
      "source": [
        "!which conda"
      ],
      "metadata": {
        "id": "S-oCMIm-7p9i"
      },
      "id": "S-oCMIm-7p9i",
      "execution_count": null,
      "outputs": []
    },
    {
      "cell_type": "code",
      "source": [
        "!conda config --add channels conda-forge"
      ],
      "metadata": {
        "id": "D6zjhdZm-BJp"
      },
      "id": "D6zjhdZm-BJp",
      "execution_count": null,
      "outputs": []
    },
    {
      "cell_type": "code",
      "source": [
        "!conda config --add channels bioconda"
      ],
      "metadata": {
        "id": "JpJESCcU-fO_"
      },
      "id": "JpJESCcU-fO_",
      "execution_count": null,
      "outputs": []
    },
    {
      "source": [
        "!pip install snapatac2 -q"
      ],
      "cell_type": "code",
      "metadata": {
        "id": "gZdiRWwb1rZJ"
      },
      "id": "gZdiRWwb1rZJ",
      "execution_count": null,
      "outputs": []
    },
    {
      "cell_type": "code",
      "source": [
        "!pip show snapatac2"
      ],
      "metadata": {
        "id": "jsCJ2get4W8l"
      },
      "id": "jsCJ2get4W8l",
      "execution_count": null,
      "outputs": []
    },
    {
      "cell_type": "code",
      "source": [
        "import snapatac2 as snap"
      ],
      "metadata": {
        "id": "z2G4FDYqgSmQ"
      },
      "id": "z2G4FDYqgSmQ",
      "execution_count": null,
      "outputs": []
    },
    {
      "cell_type": "code",
      "source": [
        "!pip install umap-learn\n",
        "\n"
      ],
      "metadata": {
        "id": "VZLaiDEzlB1m"
      },
      "id": "VZLaiDEzlB1m",
      "execution_count": null,
      "outputs": []
    },
    {
      "cell_type": "code",
      "source": [
        "import umap.umap_ as umap\n"
      ],
      "metadata": {
        "id": "BCEdegOSgRBg"
      },
      "id": "BCEdegOSgRBg",
      "execution_count": null,
      "outputs": []
    },
    {
      "cell_type": "code",
      "source": [
        "from umap import UMAP"
      ],
      "metadata": {
        "id": "FVmqXk-vlFrB"
      },
      "id": "FVmqXk-vlFrB",
      "execution_count": null,
      "outputs": []
    },
    {
      "cell_type": "code",
      "source": [
        "!pip install scanpy -q"
      ],
      "metadata": {
        "id": "CM_xhHZxUcF5"
      },
      "id": "CM_xhHZxUcF5",
      "execution_count": null,
      "outputs": []
    },
    {
      "cell_type": "code",
      "source": [
        "import scanpy as sc"
      ],
      "metadata": {
        "id": "NYl1nQOhUoj2"
      },
      "id": "NYl1nQOhUoj2",
      "execution_count": null,
      "outputs": []
    },
    {
      "cell_type": "code",
      "source": [
        "pip show scanpy"
      ],
      "metadata": {
        "id": "rkvTEjpw_csS"
      },
      "id": "rkvTEjpw_csS",
      "execution_count": null,
      "outputs": []
    },
    {
      "cell_type": "code",
      "source": [
        "!pip install magic-impute -q"
      ],
      "metadata": {
        "id": "wHb_wo4QB7C_"
      },
      "id": "wHb_wo4QB7C_",
      "execution_count": null,
      "outputs": []
    },
    {
      "cell_type": "code",
      "source": [
        "!pip install leidenalg -q"
      ],
      "metadata": {
        "id": "oirt93RVEK-D"
      },
      "id": "oirt93RVEK-D",
      "execution_count": null,
      "outputs": []
    },
    {
      "cell_type": "code",
      "execution_count": null,
      "id": "4e15629f-bdc4-46dd-8375-a1f2e17960ca",
      "metadata": {
        "id": "4e15629f-bdc4-46dd-8375-a1f2e17960ca"
      },
      "outputs": [],
      "source": [
        "import numpy as np"
      ]
    },
    {
      "cell_type": "code",
      "execution_count": null,
      "id": "37ff51dc-8860-4ab6-ab44-8223b33ea879",
      "metadata": {
        "id": "37ff51dc-8860-4ab6-ab44-8223b33ea879"
      },
      "outputs": [],
      "source": [
        "import anndata as ad"
      ]
    },
    {
      "cell_type": "markdown",
      "source": [],
      "metadata": {
        "id": "wUGo0ng5i6X7"
      },
      "id": "wUGo0ng5i6X7"
    },
    {
      "cell_type": "code",
      "execution_count": null,
      "id": "f54f07e0-84cc-4ab9-a156-ea8467a76fc4",
      "metadata": {
        "id": "f54f07e0-84cc-4ab9-a156-ea8467a76fc4"
      },
      "outputs": [],
      "source": [
        "import matplotlib.pyplot as plt"
      ]
    },
    {
      "cell_type": "code",
      "execution_count": null,
      "id": "dfc626e2-9a64-4f0f-8677-1da6e446ea3a",
      "metadata": {
        "id": "dfc626e2-9a64-4f0f-8677-1da6e446ea3a"
      },
      "outputs": [],
      "source": [
        "import plotly.subplots as sp\n",
        "import plotly.graph_objects as go"
      ]
    },
    {
      "cell_type": "code",
      "source": [
        "import numpy as np"
      ],
      "metadata": {
        "id": "xRVSWxoGo1by"
      },
      "id": "xRVSWxoGo1by",
      "execution_count": null,
      "outputs": []
    },
    {
      "cell_type": "code",
      "execution_count": null,
      "id": "ffa7a645-c56a-4d94-af04-6869e008ca12",
      "metadata": {
        "id": "ffa7a645-c56a-4d94-af04-6869e008ca12"
      },
      "outputs": [],
      "source": [
        "from scipy import stats"
      ]
    },
    {
      "cell_type": "markdown",
      "id": "43f56d4f-c4ec-496e-96bd-6645365df65c",
      "metadata": {
        "id": "43f56d4f-c4ec-496e-96bd-6645365df65c"
      },
      "source": [
        "# Import reads from google drive"
      ]
    },
    {
      "cell_type": "code",
      "source": [
        "from google.colab import drive\n",
        "drive.mount('/content/drive')"
      ],
      "metadata": {
        "id": "BpK5P48ACJOW"
      },
      "id": "BpK5P48ACJOW",
      "execution_count": null,
      "outputs": []
    },
    {
      "cell_type": "code",
      "source": [
        "adata_concat = sc.read_h5ad('/content/drive/MyDrive/Colab Notebooks/adata_concat.h5ad')"
      ],
      "metadata": {
        "id": "1cXRT2CZWS8z"
      },
      "id": "1cXRT2CZWS8z",
      "execution_count": null,
      "outputs": []
    },
    {
      "cell_type": "code",
      "source": [
        "adata_concat"
      ],
      "metadata": {
        "id": "JLg8KThFr40i"
      },
      "id": "JLg8KThFr40i",
      "execution_count": null,
      "outputs": []
    },
    {
      "cell_type": "markdown",
      "id": "7ab463c4-c21e-4fbf-85e0-f70e4f6b91f2",
      "metadata": {
        "id": "7ab463c4-c21e-4fbf-85e0-f70e4f6b91f2"
      },
      "source": [
        "# Differential accesibility analysis"
      ]
    },
    {
      "cell_type": "code",
      "execution_count": null,
      "id": "62023b15-0427-43d2-ada2-edbaf46b20cb",
      "metadata": {
        "id": "62023b15-0427-43d2-ada2-edbaf46b20cb"
      },
      "outputs": [],
      "source": [
        "# Assuming adata is your AnnData object\n",
        "condition1 = adata_concat[adata_concat.obs['Treatment'] == 'Treated w/AOA']\n",
        "condition2 = adata_concat[adata_concat.obs['Treatment'] == 'Untreated']"
      ]
    },
    {
      "cell_type": "code",
      "source": [
        "#Original code\n",
        "#pvals = []\n",
        "# for peak in adata_concat.var_names: _, pval = stats.ttest_ind(condition1[:, peak].X.toarray(), condition2[:, peak].X.toarray())\n",
        "# pvals.append(pval)"
      ],
      "metadata": {
        "id": "0ZTRvObBuU9_"
      },
      "id": "0ZTRvObBuU9_",
      "execution_count": null,
      "outputs": []
    },
    {
      "source": [
        "##Improved code with progress tracking\n",
        "#import tqdm\n",
        "\n",
        "## Perform a t-test for each peak/gene\n",
        "#pvals = []\n",
        "#for peak in tqdm.tqdm(adata_concat.var_names, desc=\"Calculating p-values\"):\n",
        "#    _, pval = stats.ttest_ind(condition1[:, peak].X.toarray(), condition2[:, peak].X.toarray())\n",
        "#    pvals.append(pval)"
      ],
      "cell_type": "code",
      "metadata": {
        "id": "76CtVAiHtRA8"
      },
      "id": "76CtVAiHtRA8",
      "execution_count": null,
      "outputs": []
    },
    {
      "source": [
        "from joblib import Parallel, delayed\n",
        "import multiprocessing\n",
        "import tqdm\n",
        "\n",
        "num_cores = multiprocessing.cpu_count()\n",
        "\n",
        "pvals = Parallel(n_jobs=num_cores)(\n",
        "       delayed(stats.ttest_ind)(condition1[:, peak].X.toarray(), condition2[:, peak].X.toarray())\n",
        "       for peak in tqdm.tqdm(adata_concat.var_names, desc=\"Calculating p-values\")\n",
        "   )\n",
        "pvals = [p[1] for p in pvals]  # Extract p-values from results"
      ],
      "cell_type": "code",
      "metadata": {
        "id": "qoEFcQ1jvg0H"
      },
      "id": "qoEFcQ1jvg0H",
      "execution_count": null,
      "outputs": []
    },
    {
      "cell_type": "code",
      "execution_count": null,
      "id": "0acc1066-bb4a-4c71-999a-c77e58d65cbd",
      "metadata": {
        "id": "0acc1066-bb4a-4c71-999a-c77e58d65cbd"
      },
      "outputs": [],
      "source": [
        "# Adjust p-values for multiple testing (e.g., using Benjamini-Hochberg)\n",
        "from statsmodels.stats.multitest import multipletests\n",
        "_, pvals_adj, _, _ = multipletests(pvals, method='fdr_bh')"
      ]
    },
    {
      "cell_type": "code",
      "execution_count": null,
      "id": "8f560497-6eaa-4600-af81-cddaf3db3a7d",
      "metadata": {
        "id": "8f560497-6eaa-4600-af81-cddaf3db3a7d"
      },
      "outputs": [],
      "source": [
        "# Add p-values to AnnData object\n",
        "adata_concat.var['pvals'] = pvals\n",
        "adata_concat.var['pvals_adj'] = pvals_adj"
      ]
    },
    {
      "cell_type": "code",
      "execution_count": null,
      "id": "805e9c59-a29c-4220-b5b6-ba9d7672844e",
      "metadata": {
        "id": "805e9c59-a29c-4220-b5b6-ba9d7672844e"
      },
      "outputs": [],
      "source": [
        "Filter Significant DARs: Filter the results to retain only those regions that are significantly differentially accessible after multiple testing correction."
      ]
    },
    {
      "cell_type": "code",
      "execution_count": null,
      "id": "4a5ba1af-324e-4599-8f0b-b76349556e07",
      "metadata": {
        "id": "4a5ba1af-324e-4599-8f0b-b76349556e07"
      },
      "outputs": [],
      "source": [
        "significant_dars = adata.var[adata.var['pvals_adj'] < 0.05]"
      ]
    },
    {
      "cell_type": "code",
      "execution_count": null,
      "id": "7acd26c4-c431-4a47-8aeb-4edf6520b75d",
      "metadata": {
        "id": "7acd26c4-c431-4a47-8aeb-4edf6520b75d"
      },
      "outputs": [],
      "source": [
        "Visualize Results: Visualize the differentially accessible regions using various plotting functions available in scanpy or other visualization libraries."
      ]
    },
    {
      "cell_type": "code",
      "execution_count": null,
      "id": "575eb596-0196-4dc9-831d-c883201014a0",
      "metadata": {
        "id": "575eb596-0196-4dc9-831d-c883201014a0"
      },
      "outputs": [],
      "source": [
        "sc.pl.heatmap(adata, var_names=significant_dars.index, groupby='condition')\n",
        "\n",
        "Interpret Results: Interpret the biological significance of the differentially accessible regions. This might involve looking at the genes associated with these regions and understanding their roles in the biological conditions you are studying."
      ]
    }
  ],
  "metadata": {
    "colab": {
      "machine_shape": "hm",
      "provenance": [],
      "include_colab_link": true
    },
    "kernelspec": {
      "display_name": "Python 3",
      "name": "python3"
    },
    "language_info": {
      "name": "python"
    }
  },
  "nbformat": 4,
  "nbformat_minor": 5
}