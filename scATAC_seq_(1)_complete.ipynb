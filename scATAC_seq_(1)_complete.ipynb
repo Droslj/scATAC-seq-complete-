{
  "cells": [
    {
      "cell_type": "markdown",
      "metadata": {
        "id": "view-in-github",
        "colab_type": "text"
      },
      "source": [
        "<a href=\"https://colab.research.google.com/github/Droslj/scATAC-seq-complete-/blob/Google-colab/scATAC_seq_(1)_complete.ipynb\" target=\"_parent\"><img src=\"https://colab.research.google.com/assets/colab-badge.svg\" alt=\"Open In Colab\"/></a>"
      ]
    },
    {
      "cell_type": "markdown",
      "id": "f268332b-53de-4af8-9533-e48c041292f3",
      "metadata": {
        "id": "f268332b-53de-4af8-9533-e48c041292f3"
      },
      "source": [
        "scATAC seq, partly based on scATAC seq processing Galaxy tutorials\n",
        "(1) scATAC preprocessing\n",
        "https://usegalaxy.eu/training-material/topics/single-cell/tutorials/scatac-preprocessing-tenx/tutorial.html#mapping-reads-to-a-reference-genome,\n",
        "\n",
        "(2) Standard scATAC seq processing pipeline\n",
        "https://usegalaxy.eu/training-material/topics/single-cell/tutorials/scatac-standard-processing-snapatac2/tutorial.html\n",
        "\n",
        "AD Objects created in Galaxy using customized Galaxy WF with Snapatac2 and imported\n",
        "\n",
        "Data taken from the following NCBI study:\n",
        "Metabolic adaptation pilots the differentiation of human hematopoietic cells (https://www.ncbi.nlm.nih.gov/bioproject/PRJNA1015713)\n",
        "Import Anndata objects for SRR26046013 (cells treated with AOA inhibitor)\n",
        "\n",
        "Perform following steps:\n",
        "Part I: Standard pipeline\n",
        "(1) Import matrices\n",
        "(2) Compute fragment size distribution\n",
        "(3) Compute TSS enrichment\n",
        "(4) Filter cell counts based on TSSe\n",
        "(5) Create cell by bin matrix based on 500 bp wide bins accross the whole genome\n",
        "(6) Perform feature selection\n",
        "(7) Perform Doublet removal\n",
        "(8) Perform Dim reduction (spectral)\n",
        "(9) Perform Clustering (neighborhood, UMAP, leiden)\n",
        "(10) Create a cell by gene matrix\n",
        "(11) Impute with scanpy and magic\n",
        "(12) Preprocess according to scanpy flow\n",
        "Part II: Cell and cluster annotation\n",
        "(1) Read reference file\n",
        "(2) Read query file (CBB matrix)\n",
        "(3) Data integration\n",
        "(4) Perform label transfer/prediction\n",
        "(5) Save predicted labels back to original matrix"
      ]
    },
    {
      "cell_type": "code",
      "source": [
        "!pip install -q condacolab"
      ],
      "metadata": {
        "id": "HYs7RhoU68Ks"
      },
      "id": "HYs7RhoU68Ks",
      "execution_count": null,
      "outputs": []
    },
    {
      "cell_type": "code",
      "source": [
        "import condacolab"
      ],
      "metadata": {
        "id": "QBQXEKjk7O-V"
      },
      "id": "QBQXEKjk7O-V",
      "execution_count": null,
      "outputs": []
    },
    {
      "cell_type": "code",
      "source": [
        "condacolab.install()"
      ],
      "metadata": {
        "id": "YdiPg8vS7ZKq"
      },
      "id": "YdiPg8vS7ZKq",
      "execution_count": null,
      "outputs": []
    },
    {
      "cell_type": "code",
      "source": [
        "!conda --version"
      ],
      "metadata": {
        "id": "VITjp1M56yu_"
      },
      "id": "VITjp1M56yu_",
      "execution_count": null,
      "outputs": []
    },
    {
      "cell_type": "code",
      "source": [
        "!which conda"
      ],
      "metadata": {
        "id": "S-oCMIm-7p9i"
      },
      "id": "S-oCMIm-7p9i",
      "execution_count": null,
      "outputs": []
    },
    {
      "cell_type": "code",
      "source": [
        "!conda config --add channels conda-forge"
      ],
      "metadata": {
        "id": "D6zjhdZm-BJp"
      },
      "id": "D6zjhdZm-BJp",
      "execution_count": null,
      "outputs": []
    },
    {
      "cell_type": "code",
      "source": [
        "!conda config --add channels bioconda"
      ],
      "metadata": {
        "id": "JpJESCcU-fO_"
      },
      "id": "JpJESCcU-fO_",
      "execution_count": null,
      "outputs": []
    },
    {
      "source": [
        "!pip install snapatac2 -q"
      ],
      "cell_type": "code",
      "metadata": {
        "colab": {
          "base_uri": "https://localhost:8080/"
        },
        "id": "gZdiRWwb1rZJ",
        "outputId": "31c429a6-c175-4acf-a9c8-4acc06dd9112"
      },
      "id": "gZdiRWwb1rZJ",
      "execution_count": 1,
      "outputs": [
        {
          "output_type": "stream",
          "name": "stdout",
          "text": [
            "\u001b[?25l     \u001b[90m━━━━━━━━━━━━━━━━━━━━━━━━━━━━━━━━━━━━━━━━\u001b[0m \u001b[32m0.0/687.2 kB\u001b[0m \u001b[31m?\u001b[0m eta \u001b[36m-:--:--\u001b[0m\r\u001b[2K     \u001b[90m━━━━━━━━━━━━━━━━━━━━━━━━━━━━━━━━━━━━━━━━\u001b[0m \u001b[32m687.2/687.2 kB\u001b[0m \u001b[31m33.2 MB/s\u001b[0m eta \u001b[36m0:00:00\u001b[0m\n",
            "\u001b[?25h  Installing build dependencies ... \u001b[?25l\u001b[?25hdone\n",
            "  Getting requirements to build wheel ... \u001b[?25l\u001b[?25hdone\n",
            "  Preparing metadata (pyproject.toml) ... \u001b[?25l\u001b[?25hdone\n",
            "\u001b[2K   \u001b[90m━━━━━━━━━━━━━━━━━━━━━━━━━━━━━━━━━━━━━━━━\u001b[0m \u001b[32m17.4/17.4 MB\u001b[0m \u001b[31m83.9 MB/s\u001b[0m eta \u001b[36m0:00:00\u001b[0m\n",
            "\u001b[2K   \u001b[90m━━━━━━━━━━━━━━━━━━━━━━━━━━━━━━━━━━━━━━━━\u001b[0m \u001b[32m129.0/129.0 kB\u001b[0m \u001b[31m11.6 MB/s\u001b[0m eta \u001b[36m0:00:00\u001b[0m\n",
            "\u001b[2K   \u001b[90m━━━━━━━━━━━━━━━━━━━━━━━━━━━━━━━━━━━━━━━━\u001b[0m \u001b[32m3.1/3.1 MB\u001b[0m \u001b[31m85.9 MB/s\u001b[0m eta \u001b[36m0:00:00\u001b[0m\n",
            "\u001b[2K   \u001b[90m━━━━━━━━━━━━━━━━━━━━━━━━━━━━━━━━━━━━━━━━\u001b[0m \u001b[32m12.2/12.2 MB\u001b[0m \u001b[31m101.3 MB/s\u001b[0m eta \u001b[36m0:00:00\u001b[0m\n",
            "\u001b[2K   \u001b[90m━━━━━━━━━━━━━━━━━━━━━━━━━━━━━━━━━━━━━━━━\u001b[0m \u001b[32m79.9/79.9 MB\u001b[0m \u001b[31m19.1 MB/s\u001b[0m eta \u001b[36m0:00:00\u001b[0m\n",
            "\u001b[2K   \u001b[90m━━━━━━━━━━━━━━━━━━━━━━━━━━━━━━━━━━━━━━━━\u001b[0m \u001b[32m144.3/144.3 kB\u001b[0m \u001b[31m13.3 MB/s\u001b[0m eta \u001b[36m0:00:00\u001b[0m\n",
            "\u001b[2K   \u001b[90m━━━━━━━━━━━━━━━━━━━━━━━━━━━━━━━━━━━━━━━━\u001b[0m \u001b[32m2.0/2.0 MB\u001b[0m \u001b[31m60.3 MB/s\u001b[0m eta \u001b[36m0:00:00\u001b[0m\n",
            "\u001b[2K   \u001b[90m━━━━━━━━━━━━━━━━━━━━━━━━━━━━━━━━━━━━━━━━\u001b[0m \u001b[32m50.4/50.4 kB\u001b[0m \u001b[31m4.3 MB/s\u001b[0m eta \u001b[36m0:00:00\u001b[0m\n",
            "\u001b[2K   \u001b[90m━━━━━━━━━━━━━━━━━━━━━━━━━━━━━━━━━━━━━━━━\u001b[0m \u001b[32m119.4/119.4 kB\u001b[0m \u001b[31m10.6 MB/s\u001b[0m eta \u001b[36m0:00:00\u001b[0m\n",
            "\u001b[?25h  Building wheel for macs3 (pyproject.toml) ... \u001b[?25l\u001b[?25hdone\n",
            "\u001b[31mERROR: pip's dependency resolver does not currently take into account all the packages that are installed. This behaviour is the source of the following dependency conflicts.\n",
            "google-colab 1.0.0 requires pandas==2.2.2, but you have pandas 2.1.1 which is incompatible.\n",
            "mizani 0.13.1 requires pandas>=2.2.0, but you have pandas 2.1.1 which is incompatible.\n",
            "plotnine 0.14.5 requires pandas>=2.2.0, but you have pandas 2.1.1 which is incompatible.\u001b[0m\u001b[31m\n",
            "\u001b[0m"
          ]
        }
      ]
    },
    {
      "cell_type": "code",
      "source": [
        "!pip install snapatac2 -q"
      ],
      "metadata": {
        "id": "eMZGOliRmvNh"
      },
      "id": "eMZGOliRmvNh",
      "execution_count": 2,
      "outputs": []
    },
    {
      "cell_type": "code",
      "source": [
        "!pip show snapatac2"
      ],
      "metadata": {
        "colab": {
          "base_uri": "https://localhost:8080/"
        },
        "id": "jsCJ2get4W8l",
        "outputId": "3ced8385-08b3-4808-d30e-1c7fd514a4e6"
      },
      "id": "jsCJ2get4W8l",
      "execution_count": 3,
      "outputs": [
        {
          "output_type": "stream",
          "name": "stdout",
          "text": [
            "Name: snapatac2\n",
            "Version: 2.8.0\n",
            "Summary: SnapATAC2: Single-cell epigenomics analysis pipeline\n",
            "Home-page: https://github.com/\n",
            "Author: Kai Zhang <kai@kzhang.org>\n",
            "Author-email: Kai Zhang <zhangkai33@westlake.edu.cn>\n",
            "License: MIT\n",
            "Location: /usr/local/lib/python3.11/dist-packages\n",
            "Requires: anndata, igraph, kaleido, macs3, multiprocess, natsort, numpy, pandas, plotly, polars, pooch, pyarrow, pyfaidx, rustworkx, scikit-learn, scipy, tqdm, typeguard\n",
            "Required-by: \n"
          ]
        }
      ]
    },
    {
      "cell_type": "code",
      "source": [
        "!pip install scvi-tools -q"
      ],
      "metadata": {
        "colab": {
          "base_uri": "https://localhost:8080/"
        },
        "id": "cu7XM4KXOQGA",
        "outputId": "985c781c-8d2e-42d7-9b04-cc307578146b"
      },
      "id": "cu7XM4KXOQGA",
      "execution_count": 4,
      "outputs": [
        {
          "output_type": "stream",
          "name": "stdout",
          "text": [
            "  Preparing metadata (setup.py) ... \u001b[?25l\u001b[?25hdone\n",
            "\u001b[2K     \u001b[90m━━━━━━━━━━━━━━━━━━━━━━━━━━━━━━━━━━━━━━━━\u001b[0m \u001b[32m40.4/40.4 kB\u001b[0m \u001b[31m3.4 MB/s\u001b[0m eta \u001b[36m0:00:00\u001b[0m\n",
            "\u001b[2K   \u001b[90m━━━━━━━━━━━━━━━━━━━━━━━━━━━━━━━━━━━━━━━━\u001b[0m \u001b[32m459.3/459.3 kB\u001b[0m \u001b[31m32.6 MB/s\u001b[0m eta \u001b[36m0:00:00\u001b[0m\n",
            "\u001b[2K   \u001b[90m━━━━━━━━━━━━━━━━━━━━━━━━━━━━━━━━━━━━━━━━\u001b[0m \u001b[32m142.7/142.7 kB\u001b[0m \u001b[31m12.7 MB/s\u001b[0m eta \u001b[36m0:00:00\u001b[0m\n",
            "\u001b[2K   \u001b[90m━━━━━━━━━━━━━━━━━━━━━━━━━━━━━━━━━━━━━━━━\u001b[0m \u001b[32m815.2/815.2 kB\u001b[0m \u001b[31m45.6 MB/s\u001b[0m eta \u001b[36m0:00:00\u001b[0m\n",
            "\u001b[2K   \u001b[90m━━━━━━━━━━━━━━━━━━━━━━━━━━━━━━━━━━━━━━━━\u001b[0m \u001b[32m76.5/76.5 kB\u001b[0m \u001b[31m6.7 MB/s\u001b[0m eta \u001b[36m0:00:00\u001b[0m\n",
            "\u001b[2K   \u001b[90m━━━━━━━━━━━━━━━━━━━━━━━━━━━━━━━━━━━━━━━━\u001b[0m \u001b[32m41.0/41.0 kB\u001b[0m \u001b[31m3.2 MB/s\u001b[0m eta \u001b[36m0:00:00\u001b[0m\n",
            "\u001b[2K   \u001b[90m━━━━━━━━━━━━━━━━━━━━━━━━━━━━━━━━━━━━━━━━\u001b[0m \u001b[32m356.1/356.1 kB\u001b[0m \u001b[31m24.5 MB/s\u001b[0m eta \u001b[36m0:00:00\u001b[0m\n",
            "\u001b[2K   \u001b[90m━━━━━━━━━━━━━━━━━━━━━━━━━━━━━━━━━━━━━━━━\u001b[0m \u001b[32m756.0/756.0 kB\u001b[0m \u001b[31m46.1 MB/s\u001b[0m eta \u001b[36m0:00:00\u001b[0m\n",
            "\u001b[2K   \u001b[90m━━━━━━━━━━━━━━━━━━━━━━━━━━━━━━━━━━━━━━━━\u001b[0m \u001b[32m117.4/117.4 kB\u001b[0m \u001b[31m10.9 MB/s\u001b[0m eta \u001b[36m0:00:00\u001b[0m\n",
            "\u001b[2K   \u001b[90m━━━━━━━━━━━━━━━━━━━━━━━━━━━━━━━━━━━━━━━━\u001b[0m \u001b[32m927.3/927.3 kB\u001b[0m \u001b[31m47.6 MB/s\u001b[0m eta \u001b[36m0:00:00\u001b[0m\n",
            "\u001b[2K   \u001b[90m━━━━━━━━━━━━━━━━━━━━━━━━━━━━━━━━━━━━━━━━\u001b[0m \u001b[32m819.3/819.3 kB\u001b[0m \u001b[31m42.7 MB/s\u001b[0m eta \u001b[36m0:00:00\u001b[0m\n",
            "\u001b[?25h  Building wheel for docrep (setup.py) ... \u001b[?25l\u001b[?25hdone\n",
            "\u001b[31mERROR: pip's dependency resolver does not currently take into account all the packages that are installed. This behaviour is the source of the following dependency conflicts.\n",
            "snapatac2 2.8.0 requires anndata<0.11.0,>=0.8.0, but you have anndata 0.11.3 which is incompatible.\u001b[0m\u001b[31m\n",
            "\u001b[0m"
          ]
        }
      ]
    },
    {
      "cell_type": "code",
      "source": [
        "!pip install scvi-tools -q"
      ],
      "metadata": {
        "id": "jnB1seAgOaVw"
      },
      "id": "jnB1seAgOaVw",
      "execution_count": 5,
      "outputs": []
    },
    {
      "cell_type": "code",
      "source": [
        "import scvi"
      ],
      "metadata": {
        "id": "29h1GkcLOVTU"
      },
      "id": "29h1GkcLOVTU",
      "execution_count": 6,
      "outputs": []
    },
    {
      "cell_type": "code",
      "source": [
        "import snapatac2 as snap"
      ],
      "metadata": {
        "id": "z2G4FDYqgSmQ"
      },
      "id": "z2G4FDYqgSmQ",
      "execution_count": 7,
      "outputs": []
    },
    {
      "cell_type": "code",
      "source": [
        "!pip install umap-learn -q\n",
        "\n"
      ],
      "metadata": {
        "colab": {
          "base_uri": "https://localhost:8080/"
        },
        "id": "VZLaiDEzlB1m",
        "outputId": "e58c9171-8c06-41ea-9def-4cc755ce77de"
      },
      "id": "VZLaiDEzlB1m",
      "execution_count": 8,
      "outputs": [
        {
          "output_type": "stream",
          "name": "stdout",
          "text": [
            "\u001b[?25l   \u001b[90m━━━━━━━━━━━━━━━━━━━━━━━━━━━━━━━━━━━━━━━━\u001b[0m \u001b[32m0.0/88.8 kB\u001b[0m \u001b[31m?\u001b[0m eta \u001b[36m-:--:--\u001b[0m\r\u001b[2K   \u001b[90m━━━━━━━━━━━━━━━━━━━━━━━━━━━━━━━━━━━━━━━━\u001b[0m \u001b[32m88.8/88.8 kB\u001b[0m \u001b[31m8.3 MB/s\u001b[0m eta \u001b[36m0:00:00\u001b[0m\n",
            "\u001b[?25h\u001b[?25l   \u001b[90m━━━━━━━━━━━━━━━━━━━━━━━━━━━━━━━━━━━━━━━━\u001b[0m \u001b[32m0.0/56.9 kB\u001b[0m \u001b[31m?\u001b[0m eta \u001b[36m-:--:--\u001b[0m\r\u001b[2K   \u001b[90m━━━━━━━━━━━━━━━━━━━━━━━━━━━━━━━━━━━━━━━━\u001b[0m \u001b[32m56.9/56.9 kB\u001b[0m \u001b[31m5.5 MB/s\u001b[0m eta \u001b[36m0:00:00\u001b[0m\n",
            "\u001b[?25h"
          ]
        }
      ]
    },
    {
      "cell_type": "code",
      "source": [
        "import umap.umap_ as umap\n"
      ],
      "metadata": {
        "id": "BCEdegOSgRBg"
      },
      "id": "BCEdegOSgRBg",
      "execution_count": 9,
      "outputs": []
    },
    {
      "cell_type": "code",
      "source": [
        "from umap import UMAP"
      ],
      "metadata": {
        "id": "FVmqXk-vlFrB"
      },
      "id": "FVmqXk-vlFrB",
      "execution_count": 10,
      "outputs": []
    },
    {
      "cell_type": "code",
      "source": [
        "!pip install scanpy -q"
      ],
      "metadata": {
        "id": "CM_xhHZxUcF5",
        "colab": {
          "base_uri": "https://localhost:8080/"
        },
        "outputId": "56f156ed-3032-48e8-98d5-4f3f54616e09"
      },
      "id": "CM_xhHZxUcF5",
      "execution_count": 11,
      "outputs": [
        {
          "output_type": "stream",
          "name": "stdout",
          "text": [
            "  Preparing metadata (setup.py) ... \u001b[?25l\u001b[?25hdone\n",
            "\u001b[2K   \u001b[90m━━━━━━━━━━━━━━━━━━━━━━━━━━━━━━━━━━━━━━━━\u001b[0m \u001b[32m2.1/2.1 MB\u001b[0m \u001b[31m67.4 MB/s\u001b[0m eta \u001b[36m0:00:00\u001b[0m\n",
            "\u001b[2K   \u001b[90m━━━━━━━━━━━━━━━━━━━━━━━━━━━━━━━━━━━━━━━━\u001b[0m \u001b[32m83.6/83.6 kB\u001b[0m \u001b[31m8.2 MB/s\u001b[0m eta \u001b[36m0:00:00\u001b[0m\n",
            "\u001b[?25h  Building wheel for session-info (setup.py) ... \u001b[?25l\u001b[?25hdone\n"
          ]
        }
      ]
    },
    {
      "cell_type": "code",
      "source": [
        "import scanpy as sc"
      ],
      "metadata": {
        "id": "NYl1nQOhUoj2"
      },
      "id": "NYl1nQOhUoj2",
      "execution_count": 12,
      "outputs": []
    },
    {
      "cell_type": "code",
      "source": [
        "pip show scanpy"
      ],
      "metadata": {
        "colab": {
          "base_uri": "https://localhost:8080/"
        },
        "id": "rkvTEjpw_csS",
        "outputId": "05ac1f33-9a2a-47ed-b29c-97dccb5748ff"
      },
      "id": "rkvTEjpw_csS",
      "execution_count": 13,
      "outputs": [
        {
          "output_type": "stream",
          "name": "stdout",
          "text": [
            "Name: scanpy\n",
            "Version: 1.10.4\n",
            "Summary: Single-Cell Analysis in Python.\n",
            "Home-page: https://scanpy.org\n",
            "Author: Alex Wolf, Philipp Angerer, Fidel Ramirez, Isaac Virshup, Sergei Rybakov, Gokcen Eraslan, Tom White, Malte Luecken, Davide Cittaro, Tobias Callies, Marius Lange, Andrés R. Muñoz-Rojas\n",
            "Author-email: \n",
            "License: \n",
            "Location: /usr/local/lib/python3.11/dist-packages\n",
            "Requires: anndata, h5py, joblib, legacy-api-wrap, matplotlib, natsort, networkx, numba, numpy, packaging, pandas, patsy, pynndescent, scikit-learn, scipy, seaborn, session-info, statsmodels, tqdm, umap-learn\n",
            "Required-by: \n"
          ]
        }
      ]
    },
    {
      "cell_type": "code",
      "source": [
        "!pip install magic-impute -q"
      ],
      "metadata": {
        "colab": {
          "base_uri": "https://localhost:8080/"
        },
        "id": "wHb_wo4QB7C_",
        "outputId": "f07f44ad-b0b3-474a-9887-f2c2aac19f1f"
      },
      "id": "wHb_wo4QB7C_",
      "execution_count": 14,
      "outputs": [
        {
          "output_type": "stream",
          "name": "stdout",
          "text": [
            "\u001b[?25l   \u001b[90m━━━━━━━━━━━━━━━━━━━━━━━━━━━━━━━━━━━━━━━━\u001b[0m \u001b[32m0.0/45.4 kB\u001b[0m \u001b[31m?\u001b[0m eta \u001b[36m-:--:--\u001b[0m\r\u001b[2K   \u001b[90m━━━━━━━━━━━━━━━━━━━━━━━━━━━━━━━━━━━━━━━━\u001b[0m \u001b[32m45.4/45.4 kB\u001b[0m \u001b[31m3.5 MB/s\u001b[0m eta \u001b[36m0:00:00\u001b[0m\n",
            "\u001b[?25h\u001b[?25l   \u001b[90m━━━━━━━━━━━━━━━━━━━━━━━━━━━━━━━━━━━━━━━━\u001b[0m \u001b[32m0.0/94.1 kB\u001b[0m \u001b[31m?\u001b[0m eta \u001b[36m-:--:--\u001b[0m\r\u001b[2K   \u001b[90m━━━━━━━━━━━━━━━━━━━━━━━━━━━━━━━━━━━━━━━━\u001b[0m \u001b[32m94.1/94.1 kB\u001b[0m \u001b[31m8.9 MB/s\u001b[0m eta \u001b[36m0:00:00\u001b[0m\n",
            "\u001b[2K   \u001b[90m━━━━━━━━━━━━━━━━━━━━━━━━━━━━━━━━━━━━━━━━\u001b[0m \u001b[32m12.2/12.2 MB\u001b[0m \u001b[31m99.3 MB/s\u001b[0m eta \u001b[36m0:00:00\u001b[0m\n",
            "\u001b[2K   \u001b[90m━━━━━━━━━━━━━━━━━━━━━━━━━━━━━━━━━━━━━━━━\u001b[0m \u001b[32m1.8/1.8 MB\u001b[0m \u001b[31m70.3 MB/s\u001b[0m eta \u001b[36m0:00:00\u001b[0m\n",
            "\u001b[?25h\u001b[31mERROR: pip's dependency resolver does not currently take into account all the packages that are installed. This behaviour is the source of the following dependency conflicts.\n",
            "snapatac2 2.8.0 requires anndata<0.11.0,>=0.8.0, but you have anndata 0.11.3 which is incompatible.\n",
            "google-colab 1.0.0 requires pandas==2.2.2, but you have pandas 2.0.3 which is incompatible.\n",
            "mizani 0.13.1 requires pandas>=2.2.0, but you have pandas 2.0.3 which is incompatible.\n",
            "plotnine 0.14.5 requires pandas>=2.2.0, but you have pandas 2.0.3 which is incompatible.\n",
            "xarray 2025.1.1 requires pandas>=2.1, but you have pandas 2.0.3 which is incompatible.\u001b[0m\u001b[31m\n",
            "\u001b[0m"
          ]
        }
      ]
    },
    {
      "cell_type": "code",
      "source": [
        "!pip install leidenalg -q"
      ],
      "metadata": {
        "colab": {
          "base_uri": "https://localhost:8080/"
        },
        "id": "oirt93RVEK-D",
        "outputId": "e50b96fa-c714-4ea7-cab3-1b41506d93f2"
      },
      "id": "oirt93RVEK-D",
      "execution_count": 15,
      "outputs": [
        {
          "output_type": "stream",
          "name": "stdout",
          "text": [
            "\u001b[?25l   \u001b[90m━━━━━━━━━━━━━━━━━━━━━━━━━━━━━━━━━━━━━━━━\u001b[0m \u001b[32m0.0/2.0 MB\u001b[0m \u001b[31m?\u001b[0m eta \u001b[36m-:--:--\u001b[0m\r\u001b[2K   \u001b[91m━━━━━━━━━━━━━━━━━━━━━━━━━━━━━━━━━━━━━━━\u001b[0m\u001b[91m╸\u001b[0m \u001b[32m2.0/2.0 MB\u001b[0m \u001b[31m98.7 MB/s\u001b[0m eta \u001b[36m0:00:01\u001b[0m\r\u001b[2K   \u001b[90m━━━━━━━━━━━━━━━━━━━━━━━━━━━━━━━━━━━━━━━━\u001b[0m \u001b[32m2.0/2.0 MB\u001b[0m \u001b[31m51.3 MB/s\u001b[0m eta \u001b[36m0:00:00\u001b[0m\n",
            "\u001b[?25h"
          ]
        }
      ]
    },
    {
      "cell_type": "code",
      "execution_count": 16,
      "id": "4e15629f-bdc4-46dd-8375-a1f2e17960ca",
      "metadata": {
        "id": "4e15629f-bdc4-46dd-8375-a1f2e17960ca"
      },
      "outputs": [],
      "source": [
        "import numpy as np"
      ]
    },
    {
      "cell_type": "code",
      "execution_count": 17,
      "id": "37ff51dc-8860-4ab6-ab44-8223b33ea879",
      "metadata": {
        "id": "37ff51dc-8860-4ab6-ab44-8223b33ea879"
      },
      "outputs": [],
      "source": [
        "import anndata as ad"
      ]
    },
    {
      "cell_type": "code",
      "execution_count": 18,
      "id": "f54f07e0-84cc-4ab9-a156-ea8467a76fc4",
      "metadata": {
        "id": "f54f07e0-84cc-4ab9-a156-ea8467a76fc4"
      },
      "outputs": [],
      "source": [
        "import matplotlib.pyplot as plt"
      ]
    },
    {
      "cell_type": "code",
      "execution_count": 19,
      "id": "dfc626e2-9a64-4f0f-8677-1da6e446ea3a",
      "metadata": {
        "id": "dfc626e2-9a64-4f0f-8677-1da6e446ea3a"
      },
      "outputs": [],
      "source": [
        "import plotly.subplots as sp\n",
        "import plotly.graph_objects as go"
      ]
    },
    {
      "cell_type": "code",
      "source": [
        "import pandas as pd"
      ],
      "metadata": {
        "id": "wIN4ttvPN-LD"
      },
      "id": "wIN4ttvPN-LD",
      "execution_count": 20,
      "outputs": []
    },
    {
      "cell_type": "markdown",
      "source": [
        "# Part I - Preprocess using standard pipeline"
      ],
      "metadata": {
        "id": "9ejnRS6LpqAB"
      },
      "id": "9ejnRS6LpqAB"
    },
    {
      "cell_type": "markdown",
      "id": "43f56d4f-c4ec-496e-96bd-6645365df65c",
      "metadata": {
        "id": "43f56d4f-c4ec-496e-96bd-6645365df65c"
      },
      "source": [
        "# Import fragment file from google drive (sinto fragments)"
      ]
    },
    {
      "cell_type": "code",
      "source": [
        "from google.colab import drive\n",
        "drive.mount('/content/drive')"
      ],
      "metadata": {
        "colab": {
          "base_uri": "https://localhost:8080/"
        },
        "id": "BpK5P48ACJOW",
        "outputId": "b150df3a-c061-4a96-aefc-82ced106ccf8"
      },
      "id": "BpK5P48ACJOW",
      "execution_count": 21,
      "outputs": [
        {
          "output_type": "stream",
          "name": "stdout",
          "text": [
            "Mounted at /content/drive\n"
          ]
        }
      ]
    },
    {
      "cell_type": "code",
      "source": [
        "fragment_file = '/content/drive/MyDrive/Colab Notebooks/Sinto_fragments.bed'"
      ],
      "metadata": {
        "id": "4g5fqgI-66Fc"
      },
      "id": "4g5fqgI-66Fc",
      "execution_count": 24,
      "outputs": []
    },
    {
      "cell_type": "code",
      "execution_count": 27,
      "id": "be1662ba-006c-4be4-9858-70480fa51fe3",
      "metadata": {
        "id": "be1662ba-006c-4be4-9858-70480fa51fe3"
      },
      "outputs": [],
      "source": [
        "data = snap.pp.import_fragments(\n",
        "    fragment_file,\n",
        "    chrom_sizes=snap.genome.hg38,\n",
        "    sorted_by_barcode=False,\n",
        ")"
      ]
    },
    {
      "cell_type": "code",
      "execution_count": 28,
      "id": "967b901c-c65e-436a-8c7c-2583264344ce",
      "metadata": {
        "id": "967b901c-c65e-436a-8c7c-2583264344ce",
        "colab": {
          "base_uri": "https://localhost:8080/"
        },
        "outputId": "04697996-7360-48be-cafc-7bfbbc54d9d6"
      },
      "outputs": [
        {
          "output_type": "execute_result",
          "data": {
            "text/plain": [
              "AnnData object with n_obs × n_vars = 10210 × 0\n",
              "    obs: 'n_fragment', 'frac_dup', 'frac_mito'\n",
              "    uns: 'reference_sequences'\n",
              "    obsm: 'fragment_paired'"
            ]
          },
          "metadata": {},
          "execution_count": 28
        }
      ],
      "source": [
        "data"
      ]
    },
    {
      "cell_type": "markdown",
      "id": "8d0d9a69-6554-4ab7-8457-626e3316378d",
      "metadata": {
        "id": "8d0d9a69-6554-4ab7-8457-626e3316378d"
      },
      "source": [
        "Compute fragment size distributions"
      ]
    },
    {
      "cell_type": "code",
      "source": [
        "snap.metrics.frag_size_distr(data)"
      ],
      "metadata": {
        "id": "oH-_Vju2Q28S"
      },
      "id": "oH-_Vju2Q28S",
      "execution_count": 29,
      "outputs": []
    },
    {
      "cell_type": "code",
      "source": [
        "snap.pl.frag_size_distr(data)"
      ],
      "metadata": {
        "id": "BrIzaeEa_CTW",
        "outputId": "92648fdd-975e-4fa5-ad96-4e0ce5242574",
        "colab": {
          "base_uri": "https://localhost:8080/",
          "height": 417
        }
      },
      "id": "BrIzaeEa_CTW",
      "execution_count": 32,
      "outputs": [
        {
          "output_type": "display_data",
          "data": {
            "text/html": [
              "<html>\n",
              "<head><meta charset=\"utf-8\" /></head>\n",
              "<body>\n",
              "    <div>            <script src=\"https://cdnjs.cloudflare.com/ajax/libs/mathjax/2.7.5/MathJax.js?config=TeX-AMS-MML_SVG\"></script><script type=\"text/javascript\">if (window.MathJax && window.MathJax.Hub && window.MathJax.Hub.Config) {window.MathJax.Hub.Config({SVG: {font: \"STIX-Web\"}});}</script>                <script type=\"text/javascript\">window.PlotlyConfig = {MathJaxConfig: 'local'};</script>\n",
              "        <script charset=\"utf-8\" src=\"https://cdn.plot.ly/plotly-2.35.2.min.js\"></script>                <div id=\"7e7d1d6c-3ee6-46e3-8f6e-b0320c361115\" class=\"plotly-graph-div\" style=\"height:400px; width:600px;\"></div>            <script type=\"text/javascript\">                                    window.PLOTLYENV=window.PLOTLYENV || {};                                    if (document.getElementById(\"7e7d1d6c-3ee6-46e3-8f6e-b0320c361115\")) {                    Plotly.newPlot(                        \"7e7d1d6c-3ee6-46e3-8f6e-b0320c361115\",                        [{\"mode\":\"lines\",\"x\":[1,2,3,4,5,6,7,8,9,10,11,12,13,14,15,16,17,18,19,20,21,22,23,24,25,26,27,28,29,30,31,32,33,34,35,36,37,38,39,40,41,42,43,44,45,46,47,48,49,50,51,52,53,54,55,56,57,58,59,60,61,62,63,64,65,66,67,68,69,70,71,72,73,74,75,76,77,78,79,80,81,82,83,84,85,86,87,88,89,90,91,92,93,94,95,96,97,98,99,100,101,102,103,104,105,106,107,108,109,110,111,112,113,114,115,116,117,118,119,120,121,122,123,124,125,126,127,128,129,130,131,132,133,134,135,136,137,138,139,140,141,142,143,144,145,146,147,148,149,150,151,152,153,154,155,156,157,158,159,160,161,162,163,164,165,166,167,168,169,170,171,172,173,174,175,176,177,178,179,180,181,182,183,184,185,186,187,188,189,190,191,192,193,194,195,196,197,198,199,200,201,202,203,204,205,206,207,208,209,210,211,212,213,214,215,216,217,218,219,220,221,222,223,224,225,226,227,228,229,230,231,232,233,234,235,236,237,238,239,240,241,242,243,244,245,246,247,248,249,250,251,252,253,254,255,256,257,258,259,260,261,262,263,264,265,266,267,268,269,270,271,272,273,274,275,276,277,278,279,280,281,282,283,284,285,286,287,288,289,290,291,292,293,294,295,296,297,298,299,300,301,302,303,304,305,306,307,308,309,310,311,312,313,314,315,316,317,318,319,320,321,322,323,324,325,326,327,328,329,330,331,332,333,334,335,336,337,338,339,340,341,342,343,344,345,346,347,348,349,350,351,352,353,354,355,356,357,358,359,360,361,362,363,364,365,366,367,368,369,370,371,372,373,374,375,376,377,378,379,380,381,382,383,384,385,386,387,388,389,390,391,392,393,394,395,396,397,398,399,400,401,402,403,404,405,406,407,408,409,410,411,412,413,414,415,416,417,418,419,420,421,422,423,424,425,426,427,428,429,430,431,432,433,434,435,436,437,438,439,440,441,442,443,444,445,446,447,448,449,450,451,452,453,454,455,456,457,458,459,460,461,462,463,464,465,466,467,468,469,470,471,472,473,474,475,476,477,478,479,480,481,482,483,484,485,486,487,488,489,490,491,492,493,494,495,496,497,498,499,500,501,502,503,504,505,506,507,508,509,510,511,512,513,514,515,516,517,518,519,520,521,522,523,524,525,526,527,528,529,530,531,532,533,534,535,536,537,538,539,540,541,542,543,544,545,546,547,548,549,550,551,552,553,554,555,556,557,558,559,560,561,562,563,564,565,566,567,568,569,570,571,572,573,574,575,576,577,578,579,580,581,582,583,584,585,586,587,588,589,590,591,592,593,594,595,596,597,598,599,600,601,602,603,604,605,606,607,608,609,610,611,612,613,614,615,616,617,618,619,620,621,622,623,624,625,626,627,628,629,630,631,632,633,634,635,636,637,638,639,640,641,642,643,644,645,646,647,648,649,650,651,652,653,654,655,656,657,658,659,660,661,662,663,664,665,666,667,668,669,670,671,672,673,674,675,676,677,678,679,680,681,682,683,684,685,686,687,688,689,690,691,692,693,694,695,696,697,698,699,700,701,702,703,704,705,706,707,708,709,710,711,712,713,714,715,716,717,718,719,720,721,722,723,724,725,726,727,728,729,730,731,732,733,734,735,736,737,738,739,740,741,742,743,744,745,746,747,748,749,750,751,752,753,754,755,756,757,758,759,760,761,762,763,764,765,766,767,768,769,770,771,772,773,774,775,776,777,778,779,780,781,782,783,784,785,786,787,788,789,790,791,792,793,794,795,796,797,798,799,800,801,802,803,804,805,806,807,808,809,810,811,812,813,814,815,816,817,818,819,820,821,822,823,824,825,826,827,828,829,830,831,832,833,834,835,836,837,838,839,840,841,842,843,844,845,846,847,848,849,850,851,852,853,854,855,856,857,858,859,860,861,862,863,864,865,866,867,868,869,870,871,872,873,874,875,876,877,878,879,880,881,882,883,884,885,886,887,888,889,890,891,892,893,894,895,896,897,898,899,900,901,902,903,904,905,906,907,908,909,910,911,912,913,914,915,916,917,918,919,920,921,922,923,924,925,926,927,928,929,930,931,932,933,934,935,936,937,938,939,940,941,942,943,944,945,946,947,948,949,950,951,952,953,954,955,956,957,958,959,960,961,962,963,964,965,966,967,968,969,970,971,972,973,974,975,976,977,978,979,980,981,982,983,984,985,986,987,988,989,990,991,992,993,994,995,996,997,998,999,1000],\"y\":[0,0,0,0,0,0,0,0,0,4462,2349,1422,1196,1212,1442,1656,4653,12738,25897,44122,99806,121346,156712,194192,237717,365066,485034,487574,476064,519413,587841,635736,689546,783250,841500,836528,775148,698679,648532,654090,701153,749465,788952,825364,845185,823522,764385,690485,637678,625156,653031,696332,738567,764816,776436,754090,701931,637585,583553,559825,570566,608707,645882,672655,684210,666563,629817,575850,520908,488273,482287,503516,535435,563213,576224,571343,542492,499179,452428,417314,403542,409737,430633,455639,472530,476748,458072,426154,388810,355563,336720,333530,345272,364561,379382,387803,379959,360496,331843,302845,283398,275101,278182,290230,303844,312196,310930,300991,281849,259435,240318,228427,225462,232796,245110,255351,255581,252912,242486,225625,214703,209395,200806,194943,197730,206379,214759,230627,241454,226762,219440,224928,211068,184579,170861,171615,178875,191611,206557,217033,236350,255457,236984,199219,178139,174112,175255,187039,206924,215837,211592,201304,196445,198579,209854,229669,260782,298420,310470,284720,247326,223260,215037,224334,253327,291121,321419,331027,320673,290361,257413,232154,222961,226370,242203,261957,281055,291876,290815,280421,263437,250895,247948,252875,264758,278281,289003,293017,287821,281404,273516,272145,276002,286739,298364,308018,313502,310521,301056,291338,285373,286272,293363,302599,310024,315368,318100,314241,304902,294217,285747,281119,281470,285585,288259,289556,291980,289543,285534,278209,271736,266549,264223,263982,263318,264576,262721,260055,254561,248959,240909,235603,230544,227671,226709,225918,224245,221391,217163,212925,207702,202391,198300,194589,191520,191359,189209,188086,184847,182032,178292,173137,168355,165336,163099,160131,158749,158649,157435,154947,152154,148881,144572,141999,138510,137352,136081,135531,134926,134164,132447,129645,127487,124313,121031,119649,117723,118172,118303,118840,118555,117212,114955,112619,109986,107579,106482,106310,107973,109241,110737,110140,108303,106103,102890,100783,99260,98951,100466,101756,103151,104049,103951,102303,101485,98807,96141,95379,96177,97346,98002,99445,100405,99198,98158,96780,94788,93530,93121,93857,95169,95869,96538,97881,96758,95898,94651,93684,93362,93004,92721,94039,95260,95740,96279,95994,95386,94723,93974,93242,92902,93537,94342,95571,95458,96463,95536,94921,94758,94208,93638,93199,93322,93367,94152,94317,94346,94457,93242,93014,92773,91615,92102,91597,91251,90999,91273,90520,89701,90322,89274,89555,89548,88737,88377,87847,87193,86270,85578,84923,84941,84622,83939,84578,83895,82760,81807,80615,79269,79085,77924,77530,77436,76809,76600,75680,74770,73153,72194,70436,69522,68654,68242,67753,66732,66208,65446,63587,62222,60940,59827,58936,57953,57468,56725,55865,54717,53702,52072,51266,50096,48847,47887,47242,46562,45301,44483,43685,42487,41860,40893,39731,38874,38014,37189,36345,35316,35008,34102,33127,32294,31715,30881,30045,29502,29069,28469,27649,27144,26165,26051,24924,24491,24247,23613,23080,22732,22101,21307,20783,20510,19865,19791,19232,18750,18409,17729,17403,17170,16874,16162,15787,15588,15196,15007,14627,14254,14013,13789,13385,13239,12927,12497,12627,12254,11797,11596,11539,11282,11041,10730,10639,10369,10225,10044,9760,9789,9601,9476,9286,9081,9052,8857,8648,8462,8410,8174,8009,7851,7653,7560,7541,7361,7220,6999,7058,6903,6846,6727,6577,6559,6620,6347,6420,5999,6011,5740,5907,5831,5633,5473,5493,5437,5272,5247,5167,5131,5084,5024,4868,4737,4735,4613,4606,4586,4519,4460,4343,4194,4215,4320,4005,3994,4032,3854,3797,3779,3700,3666,3721,3595,3528,3441,3446,3386,3366,3207,3250,3192,3034,3066,3069,2993,2974,2954,2900,2822,2774,2756,2730,2734,2634,2594,2549,2492,2493,2408,2397,2433,2246,2275,2245,2213,2150,2103,2186,2116,2141,2039,1996,1940,2030,1841,1859,1771,1761,1776,1683,1703,1673,1592,1620,1593,1596,1584,1514,1498,1454,1477,1481,1353,1376,1356,1327,1335,1310,1230,1257,1215,1262,1278,1221,1193,1191,1139,1134,1103,1030,1051,1013,1062,1015,967,993,967,965,992,980,918,924,908,845,865,806,808,810,829,805,771,743,756,732,713,661,716,716,660,667,645,643,705,669,615,600,644,596,578,576,561,627,547,566,546,581,488,511,515,533,477,502,492,514,492,497,485,473,501,481,479,452,478,454,489,448,489,432,464,453,442,479,431,481,425,401,426,424,395,446,390,407,415,469,397,412,369,415,372,439,384,441,419,383,388,358,367,372,362,363,380,392,368,377,349,377,377,326,349,345,346,328,338,323,348,307,325,345,316,326,300,304,342,319,305,297,322,280,297,282,341,258,262,280,278,261,320,276,250,283,264,257,233,286,256,257,238,237,210,248,236,251,214,220,214,216,224,200,223,200,200,172,214,181,196,201,186,198,164,172,177,163,182,158,181,169,170,157,182,135,151,152,156,151,124,118,136,130,117,141,154,119,141,120,132,113,134,132,124,122,112,144,108,109,118,102,97,107,106,109,103,94,91,112,92,99,100,78,88,84,94,91,91,86,75,90,86,61,95,84,91,73,70,79,76,75,57,79,71,71,68,87,74,77,69,78,67,70,72,53,51,67,73,63,49,53,66,64,66,66,58,64,56,62,58,47,54,67,52,67,60,55,48,52,57,60,50,51,60,60,49,55,43,37,55,51,47,56,52,54,45,43,43,44,37,49,48,44,33,37,34,46,50,50,41,38,37,35,37,29,51,51,42,36,31,41,28,39,32,28,34,22,34,38,35,31,42,30,37,30,32,20,33,37,26,37,35,31,29,35,37,30,23,28,28,25,17,29,39,33,26,32,31,27,30,32,22,22,14,18,19,18],\"type\":\"scatter\"}],                        {\"template\":{\"data\":{\"histogram2dcontour\":[{\"type\":\"histogram2dcontour\",\"colorbar\":{\"outlinewidth\":0,\"ticks\":\"\"},\"colorscale\":[[0.0,\"#0d0887\"],[0.1111111111111111,\"#46039f\"],[0.2222222222222222,\"#7201a8\"],[0.3333333333333333,\"#9c179e\"],[0.4444444444444444,\"#bd3786\"],[0.5555555555555556,\"#d8576b\"],[0.6666666666666666,\"#ed7953\"],[0.7777777777777778,\"#fb9f3a\"],[0.8888888888888888,\"#fdca26\"],[1.0,\"#f0f921\"]]}],\"choropleth\":[{\"type\":\"choropleth\",\"colorbar\":{\"outlinewidth\":0,\"ticks\":\"\"}}],\"histogram2d\":[{\"type\":\"histogram2d\",\"colorbar\":{\"outlinewidth\":0,\"ticks\":\"\"},\"colorscale\":[[0.0,\"#0d0887\"],[0.1111111111111111,\"#46039f\"],[0.2222222222222222,\"#7201a8\"],[0.3333333333333333,\"#9c179e\"],[0.4444444444444444,\"#bd3786\"],[0.5555555555555556,\"#d8576b\"],[0.6666666666666666,\"#ed7953\"],[0.7777777777777778,\"#fb9f3a\"],[0.8888888888888888,\"#fdca26\"],[1.0,\"#f0f921\"]]}],\"heatmap\":[{\"type\":\"heatmap\",\"colorbar\":{\"outlinewidth\":0,\"ticks\":\"\"},\"colorscale\":[[0.0,\"#0d0887\"],[0.1111111111111111,\"#46039f\"],[0.2222222222222222,\"#7201a8\"],[0.3333333333333333,\"#9c179e\"],[0.4444444444444444,\"#bd3786\"],[0.5555555555555556,\"#d8576b\"],[0.6666666666666666,\"#ed7953\"],[0.7777777777777778,\"#fb9f3a\"],[0.8888888888888888,\"#fdca26\"],[1.0,\"#f0f921\"]]}],\"heatmapgl\":[{\"type\":\"heatmapgl\",\"colorbar\":{\"outlinewidth\":0,\"ticks\":\"\"},\"colorscale\":[[0.0,\"#0d0887\"],[0.1111111111111111,\"#46039f\"],[0.2222222222222222,\"#7201a8\"],[0.3333333333333333,\"#9c179e\"],[0.4444444444444444,\"#bd3786\"],[0.5555555555555556,\"#d8576b\"],[0.6666666666666666,\"#ed7953\"],[0.7777777777777778,\"#fb9f3a\"],[0.8888888888888888,\"#fdca26\"],[1.0,\"#f0f921\"]]}],\"contourcarpet\":[{\"type\":\"contourcarpet\",\"colorbar\":{\"outlinewidth\":0,\"ticks\":\"\"}}],\"contour\":[{\"type\":\"contour\",\"colorbar\":{\"outlinewidth\":0,\"ticks\":\"\"},\"colorscale\":[[0.0,\"#0d0887\"],[0.1111111111111111,\"#46039f\"],[0.2222222222222222,\"#7201a8\"],[0.3333333333333333,\"#9c179e\"],[0.4444444444444444,\"#bd3786\"],[0.5555555555555556,\"#d8576b\"],[0.6666666666666666,\"#ed7953\"],[0.7777777777777778,\"#fb9f3a\"],[0.8888888888888888,\"#fdca26\"],[1.0,\"#f0f921\"]]}],\"surface\":[{\"type\":\"surface\",\"colorbar\":{\"outlinewidth\":0,\"ticks\":\"\"},\"colorscale\":[[0.0,\"#0d0887\"],[0.1111111111111111,\"#46039f\"],[0.2222222222222222,\"#7201a8\"],[0.3333333333333333,\"#9c179e\"],[0.4444444444444444,\"#bd3786\"],[0.5555555555555556,\"#d8576b\"],[0.6666666666666666,\"#ed7953\"],[0.7777777777777778,\"#fb9f3a\"],[0.8888888888888888,\"#fdca26\"],[1.0,\"#f0f921\"]]}],\"mesh3d\":[{\"type\":\"mesh3d\",\"colorbar\":{\"outlinewidth\":0,\"ticks\":\"\"}}],\"scatter\":[{\"fillpattern\":{\"fillmode\":\"overlay\",\"size\":10,\"solidity\":0.2},\"type\":\"scatter\"}],\"parcoords\":[{\"type\":\"parcoords\",\"line\":{\"colorbar\":{\"outlinewidth\":0,\"ticks\":\"\"}}}],\"scatterpolargl\":[{\"type\":\"scatterpolargl\",\"marker\":{\"colorbar\":{\"outlinewidth\":0,\"ticks\":\"\"}}}],\"bar\":[{\"error_x\":{\"color\":\"#2a3f5f\"},\"error_y\":{\"color\":\"#2a3f5f\"},\"marker\":{\"line\":{\"color\":\"#E5ECF6\",\"width\":0.5},\"pattern\":{\"fillmode\":\"overlay\",\"size\":10,\"solidity\":0.2}},\"type\":\"bar\"}],\"scattergeo\":[{\"type\":\"scattergeo\",\"marker\":{\"colorbar\":{\"outlinewidth\":0,\"ticks\":\"\"}}}],\"scatterpolar\":[{\"type\":\"scatterpolar\",\"marker\":{\"colorbar\":{\"outlinewidth\":0,\"ticks\":\"\"}}}],\"histogram\":[{\"marker\":{\"pattern\":{\"fillmode\":\"overlay\",\"size\":10,\"solidity\":0.2}},\"type\":\"histogram\"}],\"scattergl\":[{\"type\":\"scattergl\",\"marker\":{\"colorbar\":{\"outlinewidth\":0,\"ticks\":\"\"}}}],\"scatter3d\":[{\"type\":\"scatter3d\",\"line\":{\"colorbar\":{\"outlinewidth\":0,\"ticks\":\"\"}},\"marker\":{\"colorbar\":{\"outlinewidth\":0,\"ticks\":\"\"}}}],\"scattermapbox\":[{\"type\":\"scattermapbox\",\"marker\":{\"colorbar\":{\"outlinewidth\":0,\"ticks\":\"\"}}}],\"scatterternary\":[{\"type\":\"scatterternary\",\"marker\":{\"colorbar\":{\"outlinewidth\":0,\"ticks\":\"\"}}}],\"scattercarpet\":[{\"type\":\"scattercarpet\",\"marker\":{\"colorbar\":{\"outlinewidth\":0,\"ticks\":\"\"}}}],\"carpet\":[{\"aaxis\":{\"endlinecolor\":\"#2a3f5f\",\"gridcolor\":\"white\",\"linecolor\":\"white\",\"minorgridcolor\":\"white\",\"startlinecolor\":\"#2a3f5f\"},\"baxis\":{\"endlinecolor\":\"#2a3f5f\",\"gridcolor\":\"white\",\"linecolor\":\"white\",\"minorgridcolor\":\"white\",\"startlinecolor\":\"#2a3f5f\"},\"type\":\"carpet\"}],\"table\":[{\"cells\":{\"fill\":{\"color\":\"#EBF0F8\"},\"line\":{\"color\":\"white\"}},\"header\":{\"fill\":{\"color\":\"#C8D4E3\"},\"line\":{\"color\":\"white\"}},\"type\":\"table\"}],\"barpolar\":[{\"marker\":{\"line\":{\"color\":\"#E5ECF6\",\"width\":0.5},\"pattern\":{\"fillmode\":\"overlay\",\"size\":10,\"solidity\":0.2}},\"type\":\"barpolar\"}],\"pie\":[{\"automargin\":true,\"type\":\"pie\"}]},\"layout\":{\"autotypenumbers\":\"strict\",\"colorway\":[\"#636efa\",\"#EF553B\",\"#00cc96\",\"#ab63fa\",\"#FFA15A\",\"#19d3f3\",\"#FF6692\",\"#B6E880\",\"#FF97FF\",\"#FECB52\"],\"font\":{\"color\":\"#2a3f5f\"},\"hovermode\":\"closest\",\"hoverlabel\":{\"align\":\"left\"},\"paper_bgcolor\":\"white\",\"plot_bgcolor\":\"#E5ECF6\",\"polar\":{\"bgcolor\":\"#E5ECF6\",\"angularaxis\":{\"gridcolor\":\"white\",\"linecolor\":\"white\",\"ticks\":\"\"},\"radialaxis\":{\"gridcolor\":\"white\",\"linecolor\":\"white\",\"ticks\":\"\"}},\"ternary\":{\"bgcolor\":\"#E5ECF6\",\"aaxis\":{\"gridcolor\":\"white\",\"linecolor\":\"white\",\"ticks\":\"\"},\"baxis\":{\"gridcolor\":\"white\",\"linecolor\":\"white\",\"ticks\":\"\"},\"caxis\":{\"gridcolor\":\"white\",\"linecolor\":\"white\",\"ticks\":\"\"}},\"coloraxis\":{\"colorbar\":{\"outlinewidth\":0,\"ticks\":\"\"}},\"colorscale\":{\"sequential\":[[0.0,\"#0d0887\"],[0.1111111111111111,\"#46039f\"],[0.2222222222222222,\"#7201a8\"],[0.3333333333333333,\"#9c179e\"],[0.4444444444444444,\"#bd3786\"],[0.5555555555555556,\"#d8576b\"],[0.6666666666666666,\"#ed7953\"],[0.7777777777777778,\"#fb9f3a\"],[0.8888888888888888,\"#fdca26\"],[1.0,\"#f0f921\"]],\"sequentialminus\":[[0.0,\"#0d0887\"],[0.1111111111111111,\"#46039f\"],[0.2222222222222222,\"#7201a8\"],[0.3333333333333333,\"#9c179e\"],[0.4444444444444444,\"#bd3786\"],[0.5555555555555556,\"#d8576b\"],[0.6666666666666666,\"#ed7953\"],[0.7777777777777778,\"#fb9f3a\"],[0.8888888888888888,\"#fdca26\"],[1.0,\"#f0f921\"]],\"diverging\":[[0,\"#8e0152\"],[0.1,\"#c51b7d\"],[0.2,\"#de77ae\"],[0.3,\"#f1b6da\"],[0.4,\"#fde0ef\"],[0.5,\"#f7f7f7\"],[0.6,\"#e6f5d0\"],[0.7,\"#b8e186\"],[0.8,\"#7fbc41\"],[0.9,\"#4d9221\"],[1,\"#276419\"]]},\"xaxis\":{\"gridcolor\":\"white\",\"linecolor\":\"white\",\"ticks\":\"\",\"title\":{\"standoff\":15},\"zerolinecolor\":\"white\",\"automargin\":true,\"zerolinewidth\":2},\"yaxis\":{\"gridcolor\":\"white\",\"linecolor\":\"white\",\"ticks\":\"\",\"title\":{\"standoff\":15},\"zerolinecolor\":\"white\",\"automargin\":true,\"zerolinewidth\":2},\"scene\":{\"xaxis\":{\"backgroundcolor\":\"#E5ECF6\",\"gridcolor\":\"white\",\"linecolor\":\"white\",\"showbackground\":true,\"ticks\":\"\",\"zerolinecolor\":\"white\",\"gridwidth\":2},\"yaxis\":{\"backgroundcolor\":\"#E5ECF6\",\"gridcolor\":\"white\",\"linecolor\":\"white\",\"showbackground\":true,\"ticks\":\"\",\"zerolinecolor\":\"white\",\"gridwidth\":2},\"zaxis\":{\"backgroundcolor\":\"#E5ECF6\",\"gridcolor\":\"white\",\"linecolor\":\"white\",\"showbackground\":true,\"ticks\":\"\",\"zerolinecolor\":\"white\",\"gridwidth\":2}},\"shapedefaults\":{\"line\":{\"color\":\"#2a3f5f\"}},\"annotationdefaults\":{\"arrowcolor\":\"#2a3f5f\",\"arrowhead\":0,\"arrowwidth\":1},\"geo\":{\"bgcolor\":\"white\",\"landcolor\":\"#E5ECF6\",\"subunitcolor\":\"white\",\"showland\":true,\"showlakes\":true,\"lakecolor\":\"white\"},\"title\":{\"x\":0.05},\"mapbox\":{\"style\":\"light\"}}},\"xaxis\":{\"title\":{\"text\":\"Fragment size\"}},\"yaxis\":{\"title\":{\"text\":\"Count\"}},\"width\":600,\"height\":400},                        {\"responsive\": true}                    ).then(function(){\n",
              "                            \n",
              "var gd = document.getElementById('7e7d1d6c-3ee6-46e3-8f6e-b0320c361115');\n",
              "var x = new MutationObserver(function (mutations, observer) {{\n",
              "        var display = window.getComputedStyle(gd).display;\n",
              "        if (!display || display === 'none') {{\n",
              "            console.log([gd, 'removed!']);\n",
              "            Plotly.purge(gd);\n",
              "            observer.disconnect();\n",
              "        }}\n",
              "}});\n",
              "\n",
              "// Listen for the removal of the full notebook cells\n",
              "var notebookContainer = gd.closest('#notebook-container');\n",
              "if (notebookContainer) {{\n",
              "    x.observe(notebookContainer, {childList: true});\n",
              "}}\n",
              "\n",
              "// Listen for the clearing of the current output cell\n",
              "var outputEl = gd.closest('.output');\n",
              "if (outputEl) {{\n",
              "    x.observe(outputEl, {childList: true});\n",
              "}}\n",
              "\n",
              "                        })                };                            </script>        </div>\n",
              "</body>\n",
              "</html>"
            ]
          },
          "metadata": {}
        }
      ]
    },
    {
      "cell_type": "code",
      "source": [
        "data"
      ],
      "metadata": {
        "id": "zekcEtKn-nrV",
        "outputId": "f42c1201-b3c4-48ec-a6cb-83144618a4fb",
        "colab": {
          "base_uri": "https://localhost:8080/"
        }
      },
      "id": "zekcEtKn-nrV",
      "execution_count": 33,
      "outputs": [
        {
          "output_type": "execute_result",
          "data": {
            "text/plain": [
              "AnnData object with n_obs × n_vars = 10210 × 0\n",
              "    obs: 'n_fragment', 'frac_dup', 'frac_mito'\n",
              "    uns: 'reference_sequences', 'frag_size_distr'\n",
              "    obsm: 'fragment_paired'"
            ]
          },
          "metadata": {},
          "execution_count": 33
        }
      ]
    },
    {
      "cell_type": "markdown",
      "id": "bfb2ab5a-2f93-46ec-be0c-0711844bff6e",
      "metadata": {
        "id": "bfb2ab5a-2f93-46ec-be0c-0711844bff6e"
      },
      "source": [
        "# Compute and plot TSSe"
      ]
    },
    {
      "cell_type": "code",
      "execution_count": 34,
      "id": "50d4eb5b-0e04-4227-9899-0380f7910d01",
      "metadata": {
        "id": "50d4eb5b-0e04-4227-9899-0380f7910d01"
      },
      "outputs": [],
      "source": [
        "# Get genome annotation\n",
        "gene_anno = snap.genome.hg38"
      ]
    },
    {
      "cell_type": "code",
      "execution_count": 35,
      "id": "27e4db60-aa9d-4e17-8f4b-0d30bd9b7b1f",
      "metadata": {
        "id": "27e4db60-aa9d-4e17-8f4b-0d30bd9b7b1f",
        "colab": {
          "base_uri": "https://localhost:8080/"
        },
        "outputId": "2e465176-fb3f-437d-fba9-fe419b0c297f"
      },
      "outputs": [
        {
          "output_type": "execute_result",
          "data": {
            "text/plain": [
              "<snapatac2.genome.Genome at 0x790ddc5ffdd0>"
            ]
          },
          "metadata": {},
          "execution_count": 35
        }
      ],
      "source": [
        "gene_anno"
      ]
    },
    {
      "cell_type": "code",
      "execution_count": 36,
      "id": "548c5878-5da8-430b-b83d-d6596b92209d",
      "metadata": {
        "id": "548c5878-5da8-430b-b83d-d6596b92209d",
        "outputId": "460e560c-e61e-49e4-918e-f56fa48f4553",
        "colab": {
          "base_uri": "https://localhost:8080/"
        }
      },
      "outputs": [
        {
          "output_type": "stream",
          "name": "stderr",
          "text": [
            "Downloading file 'gencode_v41_GRCh38.gff3.gz' from 'https://ftp.ebi.ac.uk/pub/databases/gencode/Gencode_human/release_41/gencode.v41.basic.annotation.gff3.gz' to '/root/.cache/snapatac2'.\n",
            "100%|█████████████████████████████████████| 35.0M/35.0M [00:00<00:00, 23.7GB/s]\n"
          ]
        }
      ],
      "source": [
        "# Compute TSSe metrics\n",
        "snap.metrics.tsse(data, gene_anno)"
      ]
    },
    {
      "cell_type": "code",
      "execution_count": 37,
      "id": "a8dcf546-39fe-4cd8-b12d-ec1189032d2e",
      "metadata": {
        "id": "a8dcf546-39fe-4cd8-b12d-ec1189032d2e",
        "colab": {
          "base_uri": "https://localhost:8080/",
          "height": 582
        },
        "outputId": "fca4998a-a0e9-43df-fd21-ec1c1dfa90e2"
      },
      "outputs": [
        {
          "output_type": "stream",
          "name": "stderr",
          "text": [
            "/usr/local/lib/python3.11/dist-packages/snapatac2/plotting/__init__.py:97: FutureWarning:\n",
            "\n",
            "Series.__getitem__ treating keys as positions is deprecated. In a future version, integer keys will always be treated as labels (consistent with DataFrame behavior). To access a value by position, use `ser.iloc[pos]`\n",
            "\n",
            "/usr/local/lib/python3.11/dist-packages/snapatac2/plotting/__init__.py:98: FutureWarning:\n",
            "\n",
            "Series.__getitem__ treating keys as positions is deprecated. In a future version, integer keys will always be treated as labels (consistent with DataFrame behavior). To access a value by position, use `ser.iloc[pos]`\n",
            "\n"
          ]
        },
        {
          "output_type": "display_data",
          "data": {
            "text/html": [
              "<html>\n",
              "<head><meta charset=\"utf-8\" /></head>\n",
              "<body>\n",
              "    <div>            <script src=\"https://cdnjs.cloudflare.com/ajax/libs/mathjax/2.7.5/MathJax.js?config=TeX-AMS-MML_SVG\"></script><script type=\"text/javascript\">if (window.MathJax && window.MathJax.Hub && window.MathJax.Hub.Config) {window.MathJax.Hub.Config({SVG: {font: \"STIX-Web\"}});}</script>                <script type=\"text/javascript\">window.PlotlyConfig = {MathJaxConfig: 'local'};</script>\n",
              "        <script charset=\"utf-8\" src=\"https://cdn.plot.ly/plotly-2.35.2.min.js\"></script>                <div id=\"0f3829d4-5306-41c2-8d43-e3de5ba543be\" class=\"plotly-graph-div\" style=\"height:400px; width:500px;\"></div>            <script type=\"text/javascript\">                                    window.PLOTLYENV=window.PLOTLYENV || {};                                    if (document.getElementById(\"0f3829d4-5306-41c2-8d43-e3de5ba543be\")) {                    Plotly.newPlot(                        \"0f3829d4-5306-41c2-8d43-e3de5ba543be\",                        [{\"colorbar\":{\"ticktext\":[\"0.003\",\"0.009\",\"0.022\",\"0.039\",\"0.059\",\"0.081\",\"0.102\",\"0.126\",\"0.155\",\"0.189\"],\"tickvals\":[1,2,3,4,5,6,7,8,9],\"title\":{\"text\":\"Density\"},\"y\":1,\"yanchor\":\"top\"},\"colorscale\":[[0.0,\"rgb(247,251,255)\"],[0.125,\"rgb(222,235,247)\"],[0.25,\"rgb(198,219,239)\"],[0.375,\"rgb(158,202,225)\"],[0.5,\"rgb(107,174,214)\"],[0.625,\"rgb(66,146,198)\"],[0.75,\"rgb(33,113,181)\"],[0.875,\"rgb(8,81,156)\"],[1.0,\"rgb(8,48,107)\"]],\"line\":{\"smoothing\":0.85},\"x\":[277.7622078684486,303.160765959313,330.8817665381077,361.1375735937823,394.1599696645236,430.2019314686255,469.5395678989309,512.4742352273548,559.3348457235741,610.4803873736575,666.302674001602,727.2293468618025,793.7271506969403,866.3055093583904,945.5204283811244,1031.9787544098056,1126.3428241065337,1229.335538154396,1341.7458992275851,1464.4350563531318,1598.3429019686846,1744.4952722148162,1904.0118056215867,2078.1145203929027,2268.137175997173,2475.5354907812234,2701.898293882147,2948.959696869246,3218.612378360115,3512.92208338115,3834.1434485486307,4184.737274303323,4567.389376517088,4985.031161889155,5440.862084755293,5938.374157346124,6481.378701261891,7074.035545100259,7720.884891913352,8426.882100622935,9197.435647845978,10038.448560946956,10956.363639725845,11958.212813174257,13051.671009410124,14245.114951475678,15547.687329419374,16969.366840268733,18521.044632453762,20214.607740303407,22063.030147786918,24080.472179117747,26282.388977627757,28685.64890394253,31308.662760478353,34171.52483221817,37296.16682424741,40706.52587532773,44428.727934621005,48491.28790636891,52925.32809578894,57764.81662964879,63046.8276780025,68811.82547058506,75103.97428364755,81971.4767719682,89466.9432379203,97647.79466647962,106576.70261372632,116322.06931872286,126958.55171679042,138567.63336852507,151238.24868596566,165067.46423796166,180161.22235405914,196635.15272347743,214615.45820664297,234239.8816452719,255658.76107750257,279036.18144183344,304551.2315927882,332399.3762580163,362793.9534470584,395967.80878307135,432175.07927773934,471693.1402144462,514824.730054317,561900.269643528,613280.3934887872,669358.7124924666,730564.829312066,797367.6294439433,870278.873243526,949857.1163996155,1036711.9888966057,1131508.8652447253,1234973.9617558287,1347899.8999137508,1471151.7784588828,1605673.8007037628],\"y\":[-3.9019359094944734,-3.3128465929797315,-2.7237572764649896,-2.134667959950247,-1.5455786434355052,-0.9564893269207633,-0.3674000104060209,0.22168930610872106,0.810778622623463,1.399867939138205,1.988957255652947,2.578046572167689,3.1671358886824317,3.7562252051971736,4.345314521711916,4.934403838226657,5.5234931547413995,6.112582471256142,6.701671787770883,7.290761104285626,7.879850420800367,8.468939737315111,9.058029053829852,9.647118370344593,10.236207686859338,10.825297003374079,11.41438631988882,12.00347563640356,12.592564952918305,13.181654269433047,13.770743585947788,14.359832902462532,14.948922218977273,15.538011535492014,16.12710085200676,16.7161901685215,17.30527948503624,17.894368801550982,18.483458118065727,19.072547434580468,19.66163675109521,20.250726067609953,20.839815384124694,21.428904700639436,22.017994017154177,22.60708333366892,23.196172650183662,23.785261966698403,24.374351283213148,24.96344059972789,25.55252991624263,26.14161923275737,26.730708549272116,27.319797865786857,27.908887182301598,28.49797649881634,29.087065815331083,29.676155131845828,30.265244448360566,30.85433376487531,31.443423081390048,32.03251239790479,32.62160171441953,33.21069103093427,33.799780347449015,34.38886966396376,34.9779589804785,35.56704829699324,36.15613761350799,36.745226930022724,37.33431624653747,37.923405563052206,38.51249487956695,39.101584196081696,39.69067351259643,40.27976282911118,40.86885214562592,41.45794146214066,42.047030778655405,42.63612009517015,43.22520941168489,43.81429872819963,44.403388044714376,44.99247736122911,45.58156667774386,46.170655994258595,46.75974531077334,47.348834627288085,47.93792394380282,48.52701326031757,49.11610257683231,49.70519189334705,50.29428120986179,50.88337052637654,51.472459842891276,52.06154915940602,52.650638475920765,53.2397277924355,53.82881710895025,54.41790642546499],\"z\":[[0.1,0.1,0.1,0.1,0.1,0.1,0.1,0.1,0.1,0.1,0.1,0.1,0.1,0.1,0.1,0.1,0.1,0.1,0.1,0.1,0.1,0.1,0.1,0.1,0.1,0.1,0.1,0.1,0.1,0.1,0.1,0.1,0.1,0.1,0.1,0.1,0.1,0.1,0.1,0.1,0.1,0.1,0.1,0.1,0.1,0.1,0.1,0.1,0.1,0.1,0.1,0.1,0.1,0.1,0.1,0.1,0.1,0.1,0.1,0.1,0.1,0.1,0.1,0.1,0.1,0.1,0.1,0.1,0.1,0.1,0.1,0.1,0.1,0.1,0.1,0.1,0.1,0.1,0.1,0.1,0.1,0.1,0.1,0.1,0.1,0.1,0.1,0.1,0.1,0.1,0.1,0.1,0.1,0.1,0.1,0.1,0.1,0.1,0.1,0.1],[0.1,0.1,0.1,0.1,0.1,0.1,0.1,0.1,0.1,0.1,0.1,0.1,0.1,0.1,0.1,0.1,0.1,0.1,0.1,0.1,0.1,0.1,0.1,0.1,0.1,0.1,0.1,0.1,0.1,0.1,0.1,0.1,0.1,0.1,0.1,0.1,0.1,0.1,0.1,0.1,0.1,0.1,0.1,0.1,0.1,0.1,0.1,0.1,0.1,0.1,0.1,0.1,0.1,0.1,0.1,0.1,0.1,0.1,0.1,0.1,0.1,0.1,0.1,0.1,0.1,0.1,0.1,0.1,0.1,0.1,0.1,0.1,0.1,0.1,0.1,0.1,0.1,0.1,0.1,0.1,0.1,0.1,0.1,0.1,0.1,0.1,0.1,0.1,0.1,0.1,0.1,0.1,0.1,0.1,0.1,0.1,0.1,0.1,0.1,0.1],[0.1,0.1,0.1,0.1,0.1,0.1,0.1,0.1,0.1,0.1,0.1,0.1,0.1,0.1,0.1,0.1,0.1,0.1,0.1,0.1,0.1,0.1,0.1,0.1,0.1,0.1,0.1,0.1,0.1,0.1,0.1,0.1,0.1,0.1,0.1,0.1,0.1,0.1,0.1,0.1,0.1,0.1,0.1,0.1,0.1,0.1,0.1,0.1,0.1,0.1,0.1,0.1,0.1,0.1,0.1,0.1,0.1,0.1,0.1,0.1,0.1,0.1,0.1,0.1,0.1,0.1,0.1,0.1,0.1,0.1,0.1,0.1,0.1,0.1,0.1,0.1,0.1,0.1,0.1,0.1,0.1,0.1,0.1,0.1,0.1,0.1,0.1,0.1,0.1,0.1,0.1,0.1,0.1,0.1,0.1,0.1,0.1,0.1,0.1,0.1],[0.1,0.1,0.1,0.1,0.1,0.1,0.1,0.1,0.1,0.1,0.1,0.1,0.1,0.1,0.1,0.1,0.1,0.1,0.1,0.1,0.1,0.1,0.1,0.1,0.1,0.1,0.1,0.1,0.1,0.1,0.1,0.1,0.1,0.1,0.1,0.1,0.1,0.1,0.1,0.1,0.1,0.1,0.1,0.1,0.1,0.1,0.1,0.1,0.1,0.1,0.1,0.1,0.1,0.1,0.1,0.1,0.1,0.1,0.1,0.1,0.1,0.1,0.1,0.1,0.1,0.1,0.1,0.1,0.1,0.1,0.1,0.1,0.1,0.1,0.1,0.1,0.1,0.1,0.1,0.1,0.1,0.1,0.1,0.1,0.1,0.1,0.1,0.1,0.1,0.1,0.1,0.1,0.1,0.1,0.1,0.1,0.1,0.1,0.1,0.1],[0.1,0.1,0.1,0.1,0.1,0.1,0.1,0.1,0.1,0.1,0.1,0.1,0.1,0.1,0.1,0.1,0.1,0.1,0.1,0.1,0.1,0.1,0.1,0.1,0.1,0.1,0.1,0.1,0.1,0.1,0.1,0.1,0.1,0.1,0.1,0.1,0.1,0.1,0.1,0.1,0.1,0.1,0.1,0.1,0.1,0.1,0.1,0.1,0.1,0.1,0.1,0.1,0.1,0.1,0.1,0.1,0.1,0.1,0.1,0.1,0.1,0.1,0.1,0.1,0.1,0.1,0.1,0.1,0.1,0.1,0.1,0.1,0.1,0.1,0.1,0.1,0.1,0.1,0.1,0.1,0.1,0.1,0.1,0.1,0.1,0.1,0.1,0.1,0.1,0.1,0.1,0.1,0.1,0.1,0.1,0.1,0.1,0.1,0.1,0.1],[0.1,0.1,0.1,0.1,0.1,0.1,0.1,0.1,0.1,0.1,0.1,0.1,0.1,0.1,0.1,0.1,0.1,0.1,0.1,0.1,0.1,0.1,0.1,0.1,0.1,0.1,0.1,0.1,0.1,0.1,0.1,0.1,0.1,0.1,0.1,0.1,0.1,0.1,0.1,0.1,0.1,0.1,0.1,0.1,0.1,0.1,0.1,0.1,0.1,0.1,0.1,0.1,0.1,0.1,0.1,0.1,0.1,0.1,0.1,0.1,0.1,0.1,0.1,0.1,0.1,0.1,0.1,0.1,0.1,0.1,0.1,0.1,0.1,0.1,0.1,0.1,0.1,0.1,0.1,0.1,0.1,0.1,0.1,0.1,0.1,0.1,0.1,0.1,0.1,0.1,0.1,0.1,0.1,0.1,0.1,0.1,0.1,0.1,0.1,0.1],[0.1,0.1,0.1,0.1,0.1,0.1,0.1,0.1,1.1,1.1,1.1,1.1,1.1,1.1,1.1,1.1,1.1,0.1,0.1,0.1,0.1,0.1,0.1,0.1,0.1,0.1,0.1,0.1,0.1,0.1,0.1,0.1,0.1,0.1,0.1,0.1,0.1,0.1,0.1,0.1,0.1,0.1,0.1,0.1,0.1,0.1,0.1,0.1,0.1,0.1,0.1,0.1,0.1,0.1,0.1,0.1,0.1,0.1,0.1,0.1,0.1,0.1,0.1,0.1,0.1,0.1,0.1,0.1,0.1,0.1,0.1,0.1,0.1,0.1,0.1,0.1,0.1,0.1,0.1,0.1,0.1,0.1,0.1,0.1,0.1,0.1,0.1,0.1,0.1,0.1,0.1,0.1,0.1,0.1,0.1,0.1,0.1,0.1,0.1,0.1],[0.1,0.1,0.1,0.1,0.1,0.1,0.1,1.1,1.1,1.1,1.1,1.1,1.1,1.1,1.1,1.1,1.1,1.1,1.1,1.1,0.1,0.1,0.1,0.1,0.1,0.1,0.1,0.1,0.1,0.1,0.1,0.1,0.1,0.1,0.1,0.1,0.1,0.1,0.1,0.1,0.1,0.1,0.1,0.1,0.1,0.1,0.1,0.1,0.1,0.1,0.1,0.1,0.1,0.1,0.1,0.1,0.1,0.1,0.1,0.1,0.1,0.1,0.1,0.1,0.1,0.1,0.1,0.1,0.1,0.1,0.1,0.1,0.1,0.1,0.1,0.1,0.1,0.1,0.1,0.1,0.1,0.1,0.1,0.1,0.1,0.1,0.1,0.1,0.1,0.1,0.1,0.1,0.1,0.1,0.1,0.1,0.1,0.1,0.1,0.1],[0.1,0.1,0.1,0.1,0.1,0.1,1.1,1.1,1.1,1.1,1.1,1.1,1.1,1.1,1.1,1.1,1.1,1.1,1.1,1.1,1.1,0.1,0.1,0.1,0.1,0.1,0.1,0.1,0.1,0.1,0.1,0.1,0.1,0.1,0.1,0.1,0.1,0.1,0.1,0.1,0.1,0.1,0.1,0.1,0.1,0.1,0.1,0.1,0.1,0.1,0.1,0.1,0.1,0.1,0.1,0.1,0.1,0.1,0.1,0.1,0.1,0.1,0.1,0.1,0.1,0.1,0.1,0.1,0.1,0.1,0.1,0.1,0.1,0.1,0.1,0.1,0.1,0.1,0.1,0.1,0.1,0.1,0.1,0.1,0.1,0.1,0.1,0.1,0.1,0.1,0.1,0.1,0.1,0.1,0.1,0.1,0.1,0.1,0.1,0.1],[0.1,0.1,0.1,0.1,0.1,0.1,1.1,1.1,1.1,1.1,1.1,1.1,1.1,1.1,1.1,1.1,1.1,1.1,1.1,1.1,1.1,0.1,0.1,0.1,0.1,0.1,0.1,0.1,0.1,0.1,0.1,0.1,0.1,0.1,0.1,0.1,0.1,0.1,0.1,0.1,0.1,0.1,0.1,0.1,0.1,0.1,0.1,0.1,0.1,0.1,0.1,0.1,0.1,0.1,0.1,0.1,0.1,0.1,0.1,0.1,0.1,0.1,0.1,0.1,0.1,0.1,0.1,0.1,0.1,0.1,0.1,0.1,0.1,0.1,0.1,0.1,0.1,0.1,0.1,0.1,0.1,0.1,0.1,0.1,0.1,0.1,0.1,0.1,0.1,0.1,0.1,0.1,0.1,0.1,0.1,0.1,0.1,0.1,0.1,0.1],[0.1,0.1,0.1,0.1,0.1,0.1,1.1,1.1,1.1,1.1,1.1,1.1,1.1,1.1,1.1,1.1,1.1,1.1,1.1,1.1,1.1,0.1,0.1,0.1,0.1,0.1,0.1,0.1,0.1,0.1,0.1,0.1,0.1,0.1,0.1,0.1,0.1,0.1,0.1,0.1,0.1,0.1,0.1,0.1,0.1,0.1,0.1,0.1,0.1,0.1,0.1,0.1,0.1,0.1,0.1,0.1,0.1,0.1,0.1,0.1,0.1,0.1,0.1,0.1,0.1,0.1,0.1,0.1,0.1,0.1,0.1,0.1,0.1,0.1,0.1,0.1,0.1,0.1,0.1,0.1,0.1,0.1,0.1,0.1,0.1,0.1,0.1,0.1,0.1,0.1,0.1,0.1,0.1,0.1,0.1,0.1,0.1,0.1,0.1,0.1],[0.1,0.1,0.1,0.1,0.1,0.1,0.1,1.1,1.1,1.1,1.1,1.1,1.1,1.1,1.1,1.1,1.1,1.1,1.1,1.1,0.1,0.1,0.1,0.1,0.1,0.1,0.1,0.1,0.1,0.1,0.1,0.1,0.1,0.1,0.1,0.1,0.1,0.1,0.1,0.1,0.1,0.1,0.1,0.1,0.1,0.1,0.1,0.1,0.1,0.1,0.1,0.1,0.1,0.1,0.1,0.1,0.1,0.1,0.1,0.1,0.1,0.1,0.1,0.1,0.1,0.1,0.1,0.1,0.1,0.1,0.1,0.1,0.1,0.1,0.1,0.1,0.1,0.1,0.1,0.1,0.1,0.1,0.1,0.1,0.1,0.1,0.1,0.1,0.1,0.1,0.1,0.1,0.1,0.1,0.1,0.1,0.1,0.1,0.1,0.1],[0.1,0.1,0.1,0.1,0.1,0.1,0.1,1.1,1.1,1.1,1.1,1.1,1.1,1.1,1.1,1.1,1.1,0.1,0.1,0.1,0.1,0.1,0.1,0.1,0.1,0.1,0.1,0.1,0.1,0.1,0.1,0.1,0.1,0.1,0.1,0.1,0.1,0.1,0.1,0.1,0.1,0.1,0.1,0.1,0.1,0.1,0.1,0.1,0.1,0.1,0.1,0.1,0.1,0.1,0.1,0.1,0.1,0.1,0.1,0.1,0.1,0.1,0.1,0.1,0.1,0.1,0.1,0.1,0.1,0.1,0.1,0.1,0.1,0.1,0.1,0.1,0.1,0.1,0.1,0.1,0.1,0.1,0.1,0.1,0.1,0.1,0.1,0.1,0.1,0.1,0.1,0.1,0.1,0.1,0.1,0.1,0.1,0.1,0.1,0.1],[0.1,0.1,0.1,0.1,0.1,0.1,0.1,1.1,1.1,1.1,1.1,1.1,1.1,1.1,0.1,0.1,0.1,0.1,0.1,0.1,0.1,0.1,0.1,0.1,0.1,0.1,0.1,0.1,0.1,0.1,0.1,0.1,0.1,0.1,0.1,0.1,0.1,0.1,0.1,0.1,0.1,0.1,0.1,0.1,0.1,0.1,0.1,0.1,0.1,0.1,0.1,0.1,0.1,0.1,0.1,0.1,0.1,0.1,0.1,0.1,0.1,0.1,0.1,0.1,0.1,0.1,0.1,0.1,0.1,0.1,0.1,0.1,0.1,0.1,0.1,0.1,0.1,0.1,0.1,0.1,0.1,0.1,0.1,0.1,0.1,0.1,0.1,0.1,0.1,0.1,0.1,0.1,0.1,0.1,0.1,0.1,0.1,0.1,0.1,0.1],[0.1,0.1,0.1,0.1,0.1,0.1,0.1,0.1,1.1,1.1,1.1,1.1,0.1,0.1,0.1,0.1,0.1,0.1,0.1,0.1,0.1,0.1,0.1,0.1,0.1,0.1,0.1,0.1,0.1,0.1,0.1,0.1,0.1,0.1,0.1,0.1,0.1,0.1,0.1,0.1,0.1,0.1,0.1,0.1,0.1,0.1,0.1,0.1,0.1,0.1,0.1,0.1,0.1,0.1,0.1,0.1,0.1,0.1,0.1,0.1,0.1,0.1,0.1,0.1,0.1,0.1,0.1,0.1,0.1,0.1,0.1,0.1,0.1,0.1,0.1,0.1,0.1,0.1,0.1,0.1,0.1,0.1,0.1,0.1,0.1,0.1,0.1,0.1,0.1,0.1,0.1,0.1,0.1,0.1,0.1,0.1,0.1,0.1,0.1,0.1],[0.1,0.1,0.1,0.1,0.1,0.1,0.1,0.1,1.1,1.1,1.1,1.1,0.1,0.1,0.1,0.1,0.1,0.1,0.1,0.1,0.1,0.1,0.1,0.1,0.1,0.1,0.1,0.1,0.1,0.1,0.1,0.1,0.1,0.1,0.1,0.1,0.1,0.1,0.1,0.1,0.1,0.1,0.1,0.1,0.1,0.1,0.1,0.1,0.1,0.1,0.1,0.1,0.1,0.1,0.1,0.1,0.1,0.1,0.1,0.1,0.1,0.1,0.1,0.1,0.1,0.1,0.1,0.1,0.1,0.1,0.1,0.1,0.1,0.1,0.1,0.1,0.1,0.1,0.1,0.1,0.1,0.1,0.1,0.1,0.1,0.1,0.1,0.1,0.1,0.1,0.1,0.1,0.1,0.1,0.1,0.1,0.1,0.1,0.1,0.1],[0.1,0.1,0.1,0.1,0.1,0.1,0.1,1.1,1.1,1.1,1.1,1.1,0.1,0.1,0.1,0.1,0.1,0.1,0.1,0.1,0.1,0.1,0.1,0.1,0.1,0.1,0.1,0.1,0.1,0.1,0.1,0.1,0.1,0.1,0.1,0.1,0.1,0.1,0.1,0.1,0.1,0.1,0.1,0.1,0.1,0.1,0.1,0.1,0.1,0.1,0.1,0.1,0.1,0.1,0.1,0.1,0.1,0.1,0.1,0.1,0.1,0.1,0.1,0.1,0.1,0.1,0.1,0.1,0.1,0.1,0.1,0.1,0.1,0.1,0.1,0.1,0.1,0.1,0.1,0.1,0.1,0.1,0.1,0.1,0.1,0.1,0.1,0.1,0.1,0.1,0.1,0.1,0.1,0.1,0.1,0.1,0.1,0.1,0.1,0.1],[0.1,0.1,0.1,0.1,0.1,0.1,0.1,1.1,1.1,1.1,1.1,1.1,1.1,0.1,0.1,0.1,0.1,0.1,0.1,0.1,0.1,0.1,0.1,0.1,0.1,0.1,0.1,0.1,0.1,0.1,0.1,0.1,0.1,0.1,0.1,0.1,0.1,0.1,0.1,0.1,0.1,0.1,0.1,0.1,0.1,0.1,0.1,0.1,0.1,0.1,0.1,0.1,0.1,0.1,0.1,0.1,0.1,0.1,0.1,0.1,0.1,0.1,0.1,0.1,0.1,0.1,0.1,0.1,0.1,0.1,0.1,0.1,0.1,0.1,0.1,0.1,0.1,0.1,0.1,0.1,0.1,0.1,0.1,0.1,0.1,0.1,0.1,0.1,0.1,0.1,0.1,0.1,0.1,0.1,0.1,0.1,0.1,0.1,0.1,0.1],[0.1,0.1,0.1,0.1,0.1,0.1,1.1,1.1,1.1,1.1,1.1,1.1,1.1,1.1,0.1,0.1,0.1,0.1,0.1,0.1,0.1,0.1,0.1,0.1,0.1,0.1,0.1,0.1,0.1,0.1,0.1,0.1,0.1,0.1,0.1,0.1,0.1,0.1,0.1,0.1,0.1,0.1,0.1,0.1,0.1,0.1,0.1,0.1,0.1,0.1,0.1,0.1,0.1,0.1,0.1,0.1,0.1,0.1,0.1,0.1,0.1,0.1,0.1,0.1,0.1,0.1,0.1,0.1,0.1,0.1,0.1,0.1,0.1,0.1,0.1,0.1,0.1,0.1,0.1,0.1,0.1,0.1,0.1,0.1,0.1,0.1,0.1,0.1,0.1,0.1,0.1,0.1,0.1,0.1,0.1,0.1,0.1,0.1,0.1,0.1],[0.1,0.1,0.1,0.1,0.1,0.1,1.1,1.1,1.1,1.1,1.1,1.1,1.1,1.1,1.1,0.1,0.1,0.1,0.1,0.1,0.1,0.1,0.1,0.1,0.1,0.1,0.1,0.1,0.1,0.1,0.1,0.1,0.1,0.1,0.1,0.1,0.1,0.1,0.1,0.1,0.1,0.1,0.1,0.1,0.1,0.1,0.1,0.1,0.1,0.1,0.1,0.1,0.1,0.1,0.1,0.1,0.1,0.1,0.1,0.1,0.1,0.1,0.1,0.1,0.1,0.1,0.1,0.1,0.1,0.1,0.1,0.1,0.1,0.1,0.1,0.1,0.1,0.1,0.1,0.1,0.1,0.1,0.1,0.1,0.1,0.1,0.1,0.1,0.1,0.1,0.1,0.1,0.1,0.1,0.1,0.1,0.1,0.1,0.1,0.1],[0.1,0.1,0.1,0.1,0.1,0.1,1.1,1.1,1.1,1.1,1.1,1.1,1.1,1.1,1.1,1.1,0.1,0.1,0.1,0.1,0.1,0.1,0.1,0.1,0.1,0.1,0.1,0.1,0.1,0.1,0.1,0.1,0.1,0.1,0.1,0.1,0.1,0.1,0.1,0.1,0.1,0.1,0.1,0.1,0.1,0.1,0.1,0.1,0.1,0.1,0.1,0.1,0.1,0.1,0.1,0.1,0.1,0.1,0.1,0.1,0.1,0.1,0.1,0.1,0.1,0.1,0.1,0.1,0.1,0.1,0.1,0.1,0.1,0.1,0.1,0.1,0.1,0.1,0.1,0.1,0.1,0.1,0.1,0.1,0.1,0.1,0.1,0.1,0.1,0.1,0.1,0.1,0.1,0.1,0.1,0.1,0.1,0.1,0.1,0.1],[0.1,0.1,0.1,0.1,0.1,1.1,1.1,1.1,1.1,1.1,1.1,1.1,1.1,1.1,1.1,1.1,1.1,0.1,0.1,0.1,0.1,0.1,0.1,0.1,0.1,0.1,1.1,1.1,1.1,1.1,0.1,0.1,0.1,0.1,0.1,0.1,0.1,0.1,0.1,0.1,0.1,0.1,0.1,0.1,0.1,0.1,0.1,0.1,0.1,0.1,0.1,0.1,0.1,0.1,0.1,0.1,0.1,0.1,0.1,0.1,0.1,0.1,0.1,0.1,0.1,0.1,0.1,0.1,0.1,0.1,0.1,0.1,0.1,0.1,0.1,0.1,0.1,0.1,0.1,0.1,0.1,0.1,0.1,0.1,0.1,0.1,0.1,0.1,0.1,0.1,0.1,0.1,0.1,0.1,0.1,0.1,0.1,0.1,0.1,0.1],[0.1,0.1,0.1,0.1,0.1,1.1,1.1,1.1,2.1,2.1,2.1,1.1,1.1,1.1,1.1,1.1,1.1,1.1,1.1,0.1,0.1,0.1,1.1,1.1,1.1,1.1,1.1,1.1,1.1,1.1,1.1,0.1,0.1,0.1,0.1,0.1,0.1,0.1,0.1,0.1,0.1,0.1,0.1,0.1,0.1,0.1,0.1,0.1,0.1,0.1,0.1,0.1,0.1,0.1,0.1,0.1,0.1,0.1,0.1,0.1,0.1,0.1,0.1,0.1,0.1,0.1,0.1,0.1,0.1,0.1,0.1,0.1,0.1,0.1,0.1,0.1,0.1,0.1,0.1,0.1,0.1,0.1,0.1,0.1,0.1,0.1,0.1,0.1,0.1,0.1,0.1,0.1,0.1,0.1,0.1,0.1,0.1,0.1,0.1,0.1],[0.1,0.1,0.1,0.1,0.1,1.1,1.1,1.1,2.1,2.1,2.1,2.1,1.1,1.1,1.1,1.1,1.1,1.1,1.1,1.1,1.1,1.1,1.1,1.1,1.1,1.1,1.1,1.1,1.1,1.1,1.1,1.1,0.1,0.1,0.1,0.1,0.1,0.1,0.1,0.1,0.1,0.1,0.1,0.1,0.1,0.1,0.1,0.1,0.1,0.1,0.1,0.1,0.1,0.1,0.1,0.1,0.1,0.1,0.1,0.1,0.1,0.1,0.1,0.1,0.1,0.1,0.1,0.1,0.1,0.1,0.1,0.1,0.1,0.1,0.1,0.1,0.1,0.1,0.1,0.1,0.1,0.1,0.1,0.1,0.1,0.1,0.1,0.1,0.1,0.1,0.1,0.1,0.1,0.1,0.1,0.1,0.1,0.1,0.1,0.1],[0.1,0.1,0.1,0.1,0.1,1.1,1.1,1.1,2.1,2.1,2.1,2.1,1.1,1.1,1.1,1.1,1.1,1.1,1.1,1.1,1.1,1.1,1.1,1.1,1.1,1.1,1.1,1.1,1.1,1.1,1.1,1.1,1.1,0.1,0.1,0.1,0.1,0.1,0.1,0.1,0.1,0.1,0.1,0.1,0.1,0.1,0.1,0.1,0.1,0.1,0.1,0.1,0.1,0.1,0.1,0.1,0.1,0.1,0.1,0.1,0.1,0.1,0.1,0.1,0.1,0.1,0.1,0.1,0.1,0.1,0.1,0.1,0.1,0.1,0.1,0.1,0.1,0.1,0.1,0.1,0.1,0.1,0.1,0.1,0.1,0.1,0.1,0.1,0.1,0.1,0.1,0.1,0.1,0.1,0.1,0.1,0.1,0.1,0.1,0.1],[0.1,0.1,0.1,0.1,0.1,1.1,1.1,1.1,2.1,2.1,2.1,2.1,1.1,1.1,1.1,1.1,1.1,1.1,1.1,1.1,1.1,1.1,1.1,1.1,1.1,1.1,1.1,1.1,1.1,1.1,1.1,1.1,1.1,1.1,1.1,0.1,0.1,0.1,0.1,0.1,0.1,0.1,0.1,0.1,0.1,0.1,0.1,0.1,0.1,0.1,0.1,0.1,0.1,0.1,0.1,0.1,0.1,0.1,0.1,0.1,0.1,0.1,0.1,0.1,0.1,0.1,0.1,0.1,0.1,0.1,0.1,0.1,0.1,0.1,0.1,0.1,0.1,0.1,0.1,0.1,0.1,0.1,0.1,0.1,0.1,0.1,0.1,0.1,0.1,0.1,0.1,0.1,0.1,0.1,0.1,0.1,0.1,0.1,0.1,0.1],[0.1,0.1,0.1,0.1,0.1,0.1,1.1,1.1,1.1,2.1,2.1,2.1,1.1,1.1,1.1,1.1,1.1,1.1,1.1,1.1,1.1,1.1,1.1,1.1,1.1,1.1,1.1,1.1,1.1,1.1,1.1,1.1,1.1,1.1,1.1,1.1,1.1,1.1,1.1,1.1,1.1,1.1,1.1,1.1,1.1,1.1,1.1,1.1,0.1,0.1,0.1,0.1,0.1,0.1,0.1,0.1,0.1,0.1,0.1,0.1,0.1,0.1,0.1,0.1,0.1,0.1,0.1,0.1,0.1,0.1,0.1,0.1,0.1,0.1,0.1,0.1,0.1,0.1,0.1,0.1,0.1,0.1,0.1,0.1,0.1,0.1,0.1,0.1,0.1,0.1,0.1,0.1,0.1,0.1,0.1,0.1,0.1,0.1,0.1,0.1],[0.1,0.1,0.1,0.1,0.1,0.1,1.1,1.1,1.1,1.1,2.1,1.1,1.1,1.1,1.1,1.1,1.1,1.1,1.1,1.1,1.1,1.1,1.1,1.1,1.1,1.1,1.1,1.1,1.1,1.1,1.1,1.1,1.1,1.1,1.1,1.1,1.1,1.1,1.1,1.1,1.1,1.1,1.1,1.1,1.1,1.1,1.1,1.1,1.1,1.1,1.1,0.1,0.1,0.1,0.1,0.1,0.1,0.1,0.1,0.1,0.1,0.1,0.1,0.1,0.1,0.1,0.1,0.1,0.1,0.1,0.1,0.1,0.1,0.1,0.1,0.1,0.1,0.1,0.1,0.1,0.1,0.1,0.1,0.1,0.1,0.1,0.1,0.1,0.1,0.1,0.1,0.1,0.1,0.1,0.1,0.1,0.1,0.1,0.1,0.1],[0.1,0.1,0.1,0.1,0.1,0.1,1.1,1.1,1.1,1.1,1.1,1.1,1.1,1.1,1.1,1.1,1.1,1.1,1.1,1.1,1.1,1.1,1.1,1.1,1.1,1.1,1.1,1.1,1.1,1.1,1.1,1.1,1.1,1.1,1.1,1.1,1.1,1.1,1.1,1.1,1.1,1.1,1.1,1.1,1.1,1.1,1.1,1.1,1.1,1.1,1.1,1.1,1.1,0.1,0.1,0.1,0.1,0.1,0.1,0.1,0.1,0.1,0.1,0.1,0.1,0.1,0.1,0.1,0.1,0.1,0.1,0.1,0.1,0.1,0.1,0.1,0.1,0.1,0.1,0.1,0.1,0.1,0.1,0.1,0.1,0.1,0.1,0.1,0.1,0.1,0.1,0.1,0.1,0.1,0.1,0.1,0.1,0.1,0.1,0.1],[0.1,0.1,0.1,0.1,0.1,0.1,1.1,1.1,1.1,1.1,1.1,1.1,1.1,1.1,1.1,1.1,1.1,1.1,1.1,1.1,1.1,1.1,1.1,1.1,1.1,1.1,2.1,1.1,1.1,1.1,1.1,1.1,1.1,1.1,1.1,1.1,1.1,1.1,1.1,1.1,1.1,1.1,1.1,1.1,1.1,2.1,1.1,1.1,1.1,1.1,1.1,1.1,1.1,1.1,0.1,0.1,0.1,0.1,0.1,0.1,0.1,0.1,0.1,0.1,0.1,0.1,0.1,0.1,0.1,0.1,0.1,0.1,0.1,0.1,0.1,0.1,0.1,0.1,0.1,0.1,0.1,0.1,0.1,0.1,0.1,0.1,0.1,0.1,0.1,0.1,0.1,0.1,0.1,0.1,0.1,0.1,0.1,0.1,0.1,0.1],[0.1,0.1,0.1,0.1,0.1,0.1,0.1,1.1,1.1,1.1,1.1,1.1,1.1,1.1,1.1,1.1,1.1,1.1,1.1,1.1,1.1,1.1,1.1,1.1,1.1,1.1,2.1,2.1,2.1,2.1,1.1,1.1,1.1,1.1,1.1,1.1,1.1,1.1,2.1,2.1,2.1,2.1,2.1,2.1,2.1,2.1,2.1,2.1,2.1,2.1,2.1,1.1,1.1,1.1,1.1,1.1,0.1,0.1,0.1,0.1,0.1,0.1,0.1,0.1,0.1,0.1,0.1,0.1,0.1,0.1,0.1,0.1,0.1,0.1,0.1,0.1,0.1,0.1,0.1,0.1,0.1,0.1,0.1,0.1,0.1,0.1,0.1,0.1,0.1,0.1,0.1,0.1,0.1,0.1,0.1,0.1,0.1,0.1,0.1,0.1],[0.1,0.1,0.1,0.1,0.1,0.1,0.1,1.1,1.1,1.1,1.1,1.1,1.1,1.1,1.1,1.1,1.1,1.1,1.1,1.1,1.1,1.1,1.1,1.1,1.1,1.1,2.1,2.1,2.1,2.1,2.1,2.1,2.1,2.1,2.1,2.1,2.1,2.1,2.1,2.1,2.1,2.1,2.1,2.1,2.1,2.1,2.1,2.1,2.1,2.1,2.1,2.1,2.1,1.1,1.1,1.1,0.1,0.1,0.1,0.1,0.1,0.1,0.1,0.1,0.1,0.1,0.1,0.1,0.1,0.1,0.1,0.1,0.1,0.1,0.1,0.1,0.1,0.1,0.1,0.1,0.1,0.1,0.1,0.1,0.1,0.1,0.1,0.1,0.1,0.1,0.1,0.1,0.1,0.1,0.1,0.1,0.1,0.1,0.1,0.1],[0.1,0.1,0.1,0.1,0.1,0.1,0.1,1.1,1.1,1.1,1.1,1.1,1.1,1.1,1.1,1.1,1.1,1.1,1.1,1.1,1.1,1.1,1.1,1.1,1.1,1.1,1.1,2.1,2.1,2.1,2.1,2.1,2.1,2.1,2.1,2.1,2.1,2.1,2.1,2.1,2.1,2.1,2.1,3.1,3.1,3.1,3.1,3.1,3.1,3.1,3.1,2.1,2.1,2.1,1.1,1.1,1.1,0.1,0.1,0.1,0.1,0.1,0.1,0.1,0.1,0.1,0.1,0.1,0.1,0.1,0.1,0.1,0.1,0.1,0.1,0.1,0.1,0.1,0.1,0.1,0.1,0.1,0.1,0.1,0.1,0.1,0.1,0.1,0.1,0.1,0.1,0.1,0.1,0.1,0.1,0.1,0.1,0.1,0.1,0.1],[0.1,0.1,0.1,0.1,0.1,0.1,0.1,0.1,1.1,1.1,1.1,1.1,1.1,1.1,1.1,1.1,1.1,1.1,1.1,1.1,1.1,1.1,1.1,1.1,1.1,1.1,1.1,2.1,2.1,2.1,2.1,2.1,2.1,2.1,2.1,2.1,2.1,2.1,2.1,3.1,3.1,3.1,3.1,3.1,3.1,4.1,4.1,4.1,4.1,4.1,3.1,3.1,3.1,2.1,2.1,1.1,1.1,1.1,0.1,0.1,0.1,0.1,0.1,0.1,0.1,0.1,0.1,0.1,0.1,0.1,0.1,0.1,0.1,0.1,0.1,0.1,0.1,0.1,0.1,0.1,0.1,0.1,0.1,0.1,0.1,0.1,0.1,0.1,0.1,0.1,0.1,0.1,0.1,0.1,0.1,0.1,0.1,0.1,0.1,0.1],[0.1,0.1,0.1,0.1,0.1,0.1,0.1,0.1,1.1,1.1,1.1,1.1,1.1,1.1,1.1,1.1,1.1,1.1,1.1,1.1,1.1,1.1,1.1,1.1,1.1,1.1,1.1,2.1,2.1,2.1,2.1,2.1,2.1,2.1,2.1,2.1,2.1,3.1,3.1,3.1,3.1,3.1,4.1,4.1,4.1,4.1,5.1,5.1,5.1,5.1,4.1,4.1,3.1,3.1,2.1,2.1,1.1,1.1,0.1,0.1,0.1,0.1,0.1,0.1,0.1,0.1,0.1,0.1,0.1,0.1,0.1,0.1,0.1,0.1,0.1,0.1,0.1,0.1,0.1,0.1,0.1,0.1,0.1,0.1,0.1,0.1,0.1,0.1,0.1,0.1,0.1,0.1,0.1,0.1,0.1,0.1,0.1,0.1,0.1,0.1],[0.1,0.1,0.1,0.1,0.1,0.1,0.1,0.1,0.1,1.1,1.1,1.1,1.1,1.1,1.1,1.1,1.1,1.1,1.1,1.1,1.1,1.1,1.1,1.1,1.1,1.1,1.1,2.1,2.1,2.1,2.1,2.1,2.1,2.1,2.1,3.1,3.1,3.1,3.1,3.1,4.1,4.1,4.1,5.1,5.1,5.1,6.1,6.1,6.1,6.1,5.1,4.1,4.1,3.1,2.1,2.1,1.1,1.1,0.1,0.1,0.1,0.1,0.1,0.1,0.1,0.1,0.1,0.1,0.1,0.1,0.1,0.1,0.1,0.1,0.1,0.1,0.1,0.1,0.1,0.1,0.1,0.1,0.1,0.1,0.1,0.1,0.1,0.1,0.1,0.1,0.1,0.1,0.1,0.1,0.1,0.1,0.1,0.1,0.1,0.1],[0.1,0.1,0.1,0.1,0.1,0.1,0.1,0.1,0.1,0.1,0.1,1.1,1.1,1.1,1.1,1.1,1.1,1.1,1.1,1.1,1.1,1.1,1.1,1.1,1.1,1.1,1.1,2.1,2.1,2.1,2.1,2.1,2.1,3.1,3.1,3.1,3.1,3.1,3.1,4.1,4.1,4.1,5.1,5.1,6.1,7.1,7.1,7.1,7.1,7.1,6.1,5.1,4.1,4.1,3.1,2.1,2.1,1.1,1.1,0.1,0.1,0.1,0.1,0.1,0.1,0.1,0.1,0.1,0.1,0.1,0.1,0.1,0.1,0.1,0.1,0.1,0.1,0.1,0.1,0.1,0.1,0.1,0.1,0.1,0.1,0.1,0.1,0.1,0.1,0.1,0.1,0.1,0.1,0.1,0.1,0.1,0.1,0.1,0.1,0.1],[0.1,0.1,0.1,0.1,0.1,0.1,0.1,0.1,0.1,0.1,0.1,0.1,0.1,0.1,1.1,1.1,1.1,1.1,1.1,1.1,1.1,1.1,1.1,1.1,1.1,1.1,1.1,2.1,2.1,2.1,2.1,2.1,3.1,3.1,3.1,3.1,3.1,3.1,4.1,4.1,4.1,5.1,6.1,6.1,7.1,8.1,8.1,8.1,8.1,8.1,7.1,6.1,5.1,4.1,3.1,2.1,2.1,1.1,1.1,0.1,0.1,0.1,0.1,0.1,0.1,0.1,0.1,0.1,0.1,0.1,0.1,0.1,0.1,0.1,0.1,0.1,0.1,0.1,0.1,0.1,0.1,0.1,0.1,0.1,0.1,0.1,0.1,0.1,0.1,0.1,0.1,0.1,0.1,0.1,0.1,0.1,0.1,0.1,0.1,0.1],[0.1,0.1,0.1,0.1,0.1,0.1,0.1,0.1,0.1,0.1,0.1,0.1,0.1,0.1,0.1,0.1,1.1,1.1,1.1,1.1,1.1,1.1,1.1,1.1,1.1,1.1,1.1,2.1,2.1,2.1,2.1,2.1,3.1,3.1,3.1,3.1,3.1,4.1,4.1,4.1,5.1,5.1,6.1,7.1,8.1,8.1,9.1,9.1,9.1,8.1,7.1,6.1,5.1,4.1,3.1,3.1,2.1,2.1,1.1,0.1,0.1,0.1,0.1,0.1,0.1,0.1,0.1,0.1,0.1,0.1,0.1,0.1,0.1,0.1,0.1,0.1,0.1,0.1,0.1,0.1,0.1,0.1,0.1,0.1,0.1,0.1,0.1,0.1,0.1,0.1,0.1,0.1,0.1,0.1,0.1,0.1,0.1,0.1,0.1,0.1],[0.1,0.1,0.1,0.1,0.1,0.1,0.1,0.1,0.1,0.1,0.1,0.1,0.1,0.1,0.1,0.1,0.1,0.1,1.1,1.1,1.1,1.1,1.1,1.1,1.1,1.1,1.1,2.1,2.1,2.1,2.1,2.1,3.1,3.1,3.1,3.1,3.1,4.1,4.1,5.1,5.1,6.1,7.1,7.1,8.1,9.1,9.1,9.1,9.1,9.1,8.1,7.1,6.1,5.1,4.1,3.1,2.1,2.1,1.1,1.1,0.1,0.1,0.1,0.1,0.1,0.1,0.1,0.1,0.1,0.1,0.1,0.1,0.1,0.1,0.1,0.1,0.1,0.1,0.1,0.1,0.1,0.1,0.1,0.1,0.1,0.1,0.1,0.1,0.1,0.1,0.1,0.1,0.1,0.1,0.1,0.1,0.1,0.1,0.1,0.1],[0.1,0.1,0.1,0.1,0.1,0.1,0.1,0.1,0.1,0.1,0.1,0.1,0.1,0.1,0.1,0.1,0.1,0.1,0.1,1.1,1.1,1.1,1.1,1.1,1.1,1.1,1.1,2.1,2.1,2.1,2.1,2.1,3.1,3.1,3.1,3.1,3.1,4.1,4.1,5.1,5.1,6.1,7.1,8.1,8.1,9.1,9.1,9.1,9.1,9.1,8.1,7.1,6.1,5.1,4.1,3.1,2.1,2.1,1.1,1.1,0.1,0.1,0.1,0.1,0.1,0.1,0.1,0.1,0.1,0.1,0.1,0.1,0.1,0.1,0.1,0.1,0.1,0.1,0.1,0.1,0.1,0.1,0.1,0.1,0.1,0.1,0.1,0.1,0.1,0.1,0.1,0.1,0.1,0.1,0.1,0.1,0.1,0.1,0.1,0.1],[0.1,0.1,0.1,0.1,0.1,0.1,0.1,0.1,0.1,0.1,0.1,0.1,0.1,0.1,0.1,0.1,0.1,0.1,0.1,0.1,1.1,1.1,1.1,1.1,1.1,1.1,1.1,2.1,2.1,2.1,2.1,2.1,3.1,3.1,3.1,3.1,4.1,4.1,4.1,5.1,5.1,6.1,7.1,8.1,9.1,9.1,9.1,9.1,9.1,9.1,8.1,7.1,6.1,5.1,4.1,3.1,2.1,2.1,1.1,1.1,0.1,0.1,0.1,0.1,0.1,0.1,0.1,0.1,0.1,0.1,0.1,0.1,0.1,0.1,0.1,0.1,0.1,0.1,0.1,0.1,0.1,0.1,0.1,0.1,0.1,0.1,0.1,0.1,0.1,0.1,0.1,0.1,0.1,0.1,0.1,0.1,0.1,0.1,0.1,0.1],[0.1,0.1,0.1,0.1,0.1,0.1,0.1,0.1,0.1,0.1,0.1,0.1,0.1,0.1,0.1,0.1,0.1,0.1,0.1,0.1,1.1,1.1,1.1,1.1,1.1,1.1,1.1,2.1,2.1,2.1,2.1,2.1,3.1,3.1,3.1,3.1,4.1,4.1,4.1,5.1,5.1,6.1,7.1,8.1,9.1,9.1,9.1,9.1,9.1,8.1,8.1,7.1,5.1,4.1,4.1,3.1,2.1,2.1,1.1,1.1,0.1,0.1,0.1,0.1,0.1,0.1,0.1,0.1,0.1,0.1,0.1,0.1,0.1,0.1,0.1,0.1,0.1,0.1,0.1,0.1,0.1,0.1,0.1,0.1,0.1,0.1,0.1,0.1,0.1,0.1,0.1,0.1,0.1,0.1,0.1,0.1,0.1,0.1,0.1,0.1],[0.1,0.1,0.1,0.1,0.1,0.1,0.1,0.1,0.1,0.1,0.1,0.1,0.1,0.1,0.1,0.1,0.1,0.1,0.1,0.1,1.1,1.1,1.1,1.1,1.1,1.1,2.1,2.1,2.1,2.1,2.1,2.1,3.1,3.1,3.1,3.1,4.1,4.1,4.1,5.1,5.1,6.1,7.1,8.1,8.1,9.1,9.1,9.1,8.1,8.1,7.1,6.1,5.1,4.1,3.1,3.1,2.1,2.1,1.1,1.1,0.1,0.1,0.1,0.1,0.1,0.1,0.1,0.1,0.1,0.1,0.1,0.1,0.1,0.1,0.1,0.1,0.1,0.1,0.1,0.1,0.1,0.1,0.1,0.1,0.1,0.1,0.1,0.1,0.1,0.1,0.1,0.1,0.1,0.1,0.1,0.1,0.1,0.1,0.1,0.1],[0.1,0.1,0.1,0.1,0.1,0.1,0.1,0.1,0.1,0.1,0.1,0.1,0.1,0.1,0.1,0.1,0.1,0.1,0.1,0.1,1.1,1.1,1.1,1.1,1.1,1.1,1.1,2.1,2.1,2.1,2.1,2.1,3.1,3.1,3.1,3.1,3.1,4.1,4.1,5.1,5.1,6.1,7.1,8.1,8.1,8.1,8.1,8.1,8.1,7.1,6.1,5.1,5.1,4.1,3.1,3.1,2.1,2.1,1.1,1.1,0.1,0.1,0.1,0.1,0.1,0.1,0.1,0.1,0.1,0.1,0.1,0.1,0.1,0.1,0.1,0.1,0.1,0.1,0.1,0.1,0.1,0.1,0.1,0.1,0.1,0.1,0.1,0.1,0.1,0.1,0.1,0.1,0.1,0.1,0.1,0.1,0.1,0.1,0.1,0.1],[0.1,0.1,0.1,0.1,0.1,0.1,0.1,0.1,0.1,0.1,0.1,0.1,0.1,0.1,0.1,0.1,0.1,0.1,0.1,0.1,1.1,1.1,1.1,1.1,1.1,1.1,1.1,2.1,2.1,2.1,2.1,2.1,2.1,3.1,3.1,3.1,3.1,4.1,4.1,5.1,5.1,6.1,7.1,7.1,8.1,8.1,8.1,8.1,7.1,6.1,6.1,5.1,4.1,3.1,3.1,2.1,2.1,1.1,1.1,1.1,0.1,0.1,0.1,0.1,0.1,0.1,0.1,0.1,0.1,0.1,0.1,0.1,0.1,0.1,0.1,0.1,0.1,0.1,0.1,0.1,0.1,0.1,0.1,0.1,0.1,0.1,0.1,0.1,0.1,0.1,0.1,0.1,0.1,0.1,0.1,0.1,0.1,0.1,0.1,0.1],[0.1,0.1,0.1,0.1,0.1,0.1,0.1,0.1,0.1,0.1,0.1,0.1,0.1,0.1,0.1,0.1,0.1,0.1,0.1,0.1,0.1,1.1,1.1,1.1,1.1,1.1,1.1,2.1,2.1,2.1,2.1,2.1,2.1,3.1,3.1,3.1,3.1,4.1,4.1,5.1,5.1,6.1,7.1,7.1,8.1,8.1,7.1,7.1,6.1,6.1,5.1,4.1,4.1,3.1,3.1,2.1,2.1,1.1,1.1,0.1,0.1,0.1,0.1,0.1,0.1,0.1,0.1,0.1,0.1,0.1,0.1,0.1,0.1,0.1,0.1,0.1,0.1,0.1,0.1,0.1,0.1,0.1,0.1,0.1,0.1,0.1,0.1,0.1,0.1,0.1,0.1,0.1,0.1,0.1,0.1,0.1,0.1,0.1,0.1,0.1],[0.1,0.1,0.1,0.1,0.1,0.1,0.1,0.1,0.1,0.1,0.1,0.1,0.1,0.1,0.1,0.1,0.1,0.1,0.1,0.1,0.1,1.1,1.1,1.1,1.1,1.1,1.1,1.1,2.1,2.1,2.1,2.1,2.1,2.1,3.1,3.1,3.1,4.1,4.1,5.1,5.1,6.1,7.1,7.1,7.1,7.1,7.1,6.1,6.1,5.1,4.1,4.1,3.1,3.1,2.1,2.1,1.1,1.1,1.1,0.1,0.1,0.1,0.1,0.1,0.1,0.1,0.1,0.1,0.1,0.1,0.1,0.1,0.1,0.1,0.1,0.1,0.1,0.1,0.1,0.1,0.1,0.1,0.1,0.1,0.1,0.1,0.1,0.1,0.1,0.1,0.1,0.1,0.1,0.1,0.1,0.1,0.1,0.1,0.1,0.1],[0.1,0.1,0.1,0.1,0.1,0.1,0.1,0.1,0.1,0.1,0.1,0.1,0.1,0.1,0.1,0.1,0.1,0.1,0.1,0.1,0.1,0.1,1.1,1.1,1.1,1.1,1.1,1.1,1.1,2.1,2.1,2.1,2.1,2.1,3.1,3.1,3.1,3.1,4.1,4.1,5.1,6.1,6.1,7.1,7.1,7.1,6.1,6.1,5.1,5.1,4.1,3.1,3.1,2.1,2.1,2.1,1.1,1.1,0.1,0.1,0.1,0.1,0.1,0.1,0.1,0.1,0.1,0.1,0.1,0.1,0.1,0.1,0.1,0.1,0.1,0.1,0.1,0.1,0.1,0.1,0.1,0.1,0.1,0.1,0.1,0.1,0.1,0.1,0.1,0.1,0.1,0.1,0.1,0.1,0.1,0.1,0.1,0.1,0.1,0.1],[0.1,0.1,0.1,0.1,0.1,0.1,0.1,0.1,0.1,0.1,0.1,0.1,0.1,0.1,0.1,0.1,0.1,0.1,0.1,0.1,0.1,0.1,1.1,1.1,1.1,1.1,1.1,1.1,1.1,2.1,2.1,2.1,2.1,2.1,3.1,3.1,3.1,3.1,4.1,4.1,5.1,6.1,6.1,7.1,7.1,7.1,6.1,5.1,5.1,4.1,4.1,3.1,3.1,2.1,2.1,1.1,1.1,0.1,0.1,0.1,0.1,0.1,0.1,0.1,0.1,0.1,0.1,0.1,0.1,0.1,0.1,0.1,0.1,0.1,0.1,0.1,0.1,0.1,0.1,0.1,0.1,0.1,0.1,0.1,0.1,0.1,0.1,0.1,0.1,0.1,0.1,0.1,0.1,0.1,0.1,0.1,0.1,0.1,0.1,0.1],[0.1,0.1,0.1,0.1,0.1,0.1,0.1,0.1,0.1,0.1,0.1,0.1,0.1,0.1,0.1,0.1,0.1,0.1,0.1,0.1,0.1,0.1,1.1,1.1,1.1,1.1,1.1,1.1,1.1,1.1,2.1,2.1,2.1,2.1,2.1,3.1,3.1,3.1,4.1,4.1,5.1,6.1,6.1,7.1,7.1,6.1,6.1,5.1,4.1,4.1,3.1,3.1,2.1,2.1,2.1,1.1,1.1,0.1,0.1,0.1,0.1,0.1,0.1,0.1,0.1,0.1,0.1,0.1,0.1,0.1,0.1,0.1,0.1,0.1,0.1,0.1,0.1,0.1,0.1,0.1,0.1,0.1,0.1,0.1,0.1,0.1,0.1,0.1,0.1,0.1,0.1,0.1,0.1,0.1,0.1,0.1,0.1,0.1,0.1,0.1],[0.1,0.1,0.1,0.1,0.1,0.1,0.1,0.1,0.1,0.1,0.1,0.1,0.1,0.1,0.1,0.1,0.1,0.1,0.1,0.1,0.1,0.1,0.1,1.1,1.1,1.1,1.1,1.1,1.1,1.1,2.1,2.1,2.1,2.1,2.1,2.1,3.1,3.1,3.1,4.1,5.1,5.1,6.1,6.1,6.1,6.1,5.1,5.1,4.1,3.1,3.1,2.1,2.1,2.1,1.1,1.1,0.1,0.1,0.1,0.1,0.1,0.1,0.1,0.1,0.1,0.1,0.1,0.1,0.1,0.1,0.1,0.1,0.1,0.1,0.1,0.1,0.1,0.1,0.1,0.1,0.1,0.1,0.1,0.1,0.1,0.1,0.1,0.1,0.1,0.1,0.1,0.1,0.1,0.1,0.1,0.1,0.1,0.1,0.1,0.1],[0.1,0.1,0.1,0.1,0.1,0.1,0.1,0.1,0.1,0.1,0.1,0.1,0.1,0.1,0.1,0.1,0.1,0.1,0.1,0.1,0.1,0.1,0.1,1.1,1.1,1.1,1.1,1.1,1.1,1.1,2.1,2.1,2.1,2.1,2.1,2.1,3.1,3.1,3.1,4.1,4.1,5.1,6.1,6.1,6.1,6.1,5.1,4.1,4.1,3.1,3.1,2.1,2.1,1.1,1.1,1.1,0.1,0.1,0.1,0.1,0.1,0.1,0.1,0.1,0.1,0.1,0.1,0.1,0.1,0.1,0.1,0.1,0.1,0.1,0.1,0.1,0.1,0.1,0.1,0.1,0.1,0.1,0.1,0.1,0.1,0.1,0.1,0.1,0.1,0.1,0.1,0.1,0.1,0.1,0.1,0.1,0.1,0.1,0.1,0.1],[0.1,0.1,0.1,0.1,0.1,0.1,0.1,0.1,0.1,0.1,0.1,0.1,0.1,0.1,0.1,0.1,0.1,0.1,0.1,0.1,0.1,0.1,0.1,0.1,1.1,1.1,1.1,1.1,1.1,1.1,2.1,2.1,2.1,2.1,2.1,2.1,2.1,3.1,3.1,4.1,4.1,5.1,5.1,6.1,6.1,5.1,5.1,4.1,3.1,3.1,2.1,2.1,2.1,1.1,1.1,0.1,0.1,0.1,0.1,0.1,0.1,0.1,0.1,0.1,0.1,0.1,0.1,0.1,0.1,0.1,0.1,0.1,0.1,0.1,0.1,0.1,0.1,0.1,0.1,0.1,0.1,0.1,0.1,0.1,0.1,0.1,0.1,0.1,0.1,0.1,0.1,0.1,0.1,0.1,0.1,0.1,0.1,0.1,0.1,0.1],[0.1,0.1,0.1,0.1,0.1,0.1,0.1,0.1,0.1,0.1,0.1,0.1,0.1,0.1,0.1,0.1,0.1,0.1,0.1,0.1,0.1,0.1,0.1,0.1,0.1,1.1,1.1,1.1,1.1,1.1,1.1,2.1,2.1,2.1,2.1,2.1,2.1,3.1,3.1,3.1,4.1,4.1,5.1,5.1,5.1,5.1,4.1,4.1,3.1,2.1,2.1,2.1,1.1,1.1,1.1,0.1,0.1,0.1,0.1,0.1,0.1,0.1,0.1,0.1,0.1,0.1,0.1,0.1,0.1,0.1,0.1,0.1,0.1,0.1,0.1,0.1,0.1,0.1,0.1,0.1,0.1,0.1,0.1,0.1,0.1,0.1,0.1,0.1,0.1,0.1,0.1,0.1,0.1,0.1,0.1,0.1,0.1,0.1,0.1,0.1],[0.1,0.1,0.1,0.1,0.1,0.1,0.1,0.1,0.1,0.1,0.1,0.1,0.1,0.1,0.1,0.1,0.1,0.1,0.1,0.1,0.1,0.1,0.1,0.1,0.1,1.1,1.1,1.1,1.1,1.1,1.1,2.1,2.1,2.1,2.1,2.1,2.1,2.1,3.1,3.1,4.1,4.1,4.1,5.1,5.1,4.1,4.1,3.1,3.1,2.1,2.1,1.1,1.1,1.1,0.1,0.1,0.1,0.1,0.1,0.1,0.1,0.1,0.1,0.1,0.1,0.1,0.1,0.1,0.1,0.1,0.1,0.1,0.1,0.1,0.1,0.1,0.1,0.1,0.1,0.1,0.1,0.1,0.1,0.1,0.1,0.1,0.1,0.1,0.1,0.1,0.1,0.1,0.1,0.1,0.1,0.1,0.1,0.1,0.1,0.1],[0.1,0.1,0.1,0.1,0.1,0.1,0.1,0.1,0.1,0.1,0.1,0.1,0.1,0.1,0.1,0.1,0.1,0.1,0.1,0.1,0.1,0.1,0.1,0.1,0.1,0.1,1.1,1.1,1.1,1.1,1.1,2.1,2.1,2.1,2.1,2.1,2.1,2.1,2.1,3.1,3.1,4.1,4.1,4.1,4.1,4.1,3.1,3.1,2.1,2.1,2.1,1.1,1.1,0.1,0.1,0.1,0.1,0.1,0.1,0.1,0.1,0.1,0.1,0.1,0.1,0.1,0.1,0.1,0.1,0.1,0.1,0.1,0.1,0.1,0.1,0.1,0.1,0.1,0.1,0.1,0.1,0.1,0.1,0.1,0.1,0.1,0.1,0.1,0.1,0.1,0.1,0.1,0.1,0.1,0.1,0.1,0.1,0.1,0.1,0.1],[0.1,0.1,0.1,0.1,0.1,0.1,0.1,0.1,0.1,0.1,0.1,0.1,0.1,0.1,0.1,0.1,0.1,0.1,0.1,0.1,0.1,0.1,0.1,0.1,0.1,0.1,0.1,1.1,1.1,1.1,1.1,1.1,2.1,2.1,2.1,2.1,2.1,2.1,2.1,3.1,3.1,3.1,3.1,4.1,4.1,3.1,3.1,3.1,2.1,2.1,1.1,1.1,0.1,0.1,0.1,0.1,0.1,0.1,0.1,0.1,0.1,0.1,0.1,0.1,0.1,0.1,0.1,0.1,0.1,0.1,0.1,0.1,0.1,0.1,0.1,0.1,0.1,0.1,0.1,0.1,0.1,0.1,0.1,0.1,0.1,0.1,0.1,0.1,0.1,0.1,0.1,0.1,0.1,0.1,0.1,0.1,0.1,0.1,0.1,0.1],[0.1,0.1,0.1,0.1,0.1,0.1,0.1,0.1,0.1,0.1,0.1,0.1,0.1,0.1,0.1,0.1,0.1,0.1,0.1,0.1,0.1,0.1,0.1,0.1,0.1,0.1,0.1,1.1,1.1,1.1,1.1,1.1,1.1,2.1,2.1,2.1,2.1,2.1,2.1,2.1,3.1,3.1,3.1,3.1,3.1,3.1,3.1,2.1,2.1,1.1,1.1,1.1,0.1,0.1,0.1,0.1,0.1,0.1,0.1,0.1,0.1,0.1,0.1,0.1,0.1,0.1,0.1,0.1,0.1,0.1,0.1,0.1,0.1,0.1,0.1,0.1,0.1,0.1,0.1,0.1,0.1,0.1,0.1,0.1,0.1,0.1,0.1,0.1,0.1,0.1,0.1,0.1,0.1,0.1,0.1,0.1,0.1,0.1,0.1,0.1],[0.1,0.1,0.1,0.1,0.1,0.1,0.1,0.1,0.1,0.1,0.1,0.1,0.1,0.1,0.1,0.1,0.1,0.1,0.1,0.1,0.1,0.1,0.1,0.1,0.1,0.1,0.1,1.1,1.1,1.1,1.1,1.1,1.1,1.1,2.1,2.1,2.1,2.1,2.1,2.1,2.1,2.1,3.1,3.1,3.1,2.1,2.1,2.1,2.1,1.1,1.1,0.1,0.1,0.1,0.1,0.1,0.1,0.1,0.1,0.1,0.1,0.1,0.1,0.1,0.1,0.1,0.1,0.1,0.1,0.1,0.1,0.1,0.1,0.1,0.1,0.1,0.1,0.1,0.1,0.1,0.1,0.1,0.1,0.1,0.1,0.1,0.1,0.1,0.1,0.1,0.1,0.1,0.1,0.1,0.1,0.1,0.1,0.1,0.1,0.1],[0.1,0.1,0.1,0.1,0.1,0.1,0.1,0.1,0.1,0.1,0.1,0.1,0.1,0.1,0.1,0.1,0.1,0.1,0.1,0.1,0.1,0.1,0.1,0.1,0.1,0.1,0.1,1.1,1.1,1.1,1.1,1.1,1.1,1.1,1.1,2.1,2.1,2.1,2.1,2.1,2.1,2.1,2.1,2.1,2.1,2.1,2.1,2.1,1.1,1.1,0.1,0.1,0.1,0.1,0.1,0.1,0.1,0.1,0.1,0.1,0.1,0.1,0.1,0.1,0.1,0.1,0.1,0.1,0.1,0.1,0.1,0.1,0.1,0.1,0.1,0.1,0.1,0.1,0.1,0.1,0.1,0.1,0.1,0.1,0.1,0.1,0.1,0.1,0.1,0.1,0.1,0.1,0.1,0.1,0.1,0.1,0.1,0.1,0.1,0.1],[0.1,0.1,0.1,0.1,0.1,0.1,0.1,0.1,0.1,0.1,0.1,0.1,0.1,0.1,0.1,0.1,0.1,0.1,0.1,0.1,0.1,0.1,0.1,0.1,0.1,0.1,0.1,1.1,1.1,1.1,1.1,1.1,1.1,1.1,1.1,1.1,1.1,2.1,2.1,2.1,2.1,2.1,2.1,2.1,2.1,2.1,2.1,1.1,1.1,1.1,0.1,0.1,0.1,0.1,0.1,0.1,0.1,0.1,0.1,0.1,0.1,0.1,0.1,0.1,0.1,0.1,0.1,0.1,0.1,0.1,0.1,0.1,0.1,0.1,0.1,0.1,0.1,0.1,0.1,0.1,0.1,0.1,0.1,0.1,0.1,0.1,0.1,0.1,0.1,0.1,0.1,0.1,0.1,0.1,0.1,0.1,0.1,0.1,0.1,0.1],[0.1,0.1,0.1,0.1,0.1,0.1,0.1,0.1,0.1,0.1,0.1,0.1,0.1,0.1,0.1,0.1,0.1,0.1,0.1,0.1,0.1,0.1,0.1,0.1,0.1,0.1,0.1,1.1,1.1,1.1,1.1,1.1,1.1,1.1,1.1,1.1,1.1,1.1,2.1,2.1,2.1,2.1,2.1,2.1,2.1,1.1,1.1,1.1,1.1,0.1,0.1,0.1,0.1,0.1,0.1,0.1,0.1,0.1,0.1,0.1,0.1,0.1,0.1,0.1,0.1,0.1,0.1,0.1,0.1,0.1,0.1,0.1,0.1,0.1,0.1,0.1,0.1,0.1,0.1,0.1,0.1,0.1,0.1,0.1,0.1,0.1,0.1,0.1,0.1,0.1,0.1,0.1,0.1,0.1,0.1,0.1,0.1,0.1,0.1,0.1],[0.1,0.1,0.1,0.1,0.1,0.1,0.1,0.1,0.1,0.1,0.1,0.1,0.1,0.1,0.1,0.1,0.1,0.1,0.1,0.1,0.1,0.1,0.1,0.1,0.1,0.1,0.1,0.1,1.1,1.1,1.1,1.1,1.1,1.1,1.1,1.1,1.1,1.1,1.1,1.1,1.1,2.1,1.1,1.1,1.1,1.1,1.1,1.1,0.1,0.1,0.1,0.1,0.1,0.1,0.1,0.1,0.1,0.1,0.1,0.1,0.1,0.1,0.1,0.1,0.1,0.1,0.1,0.1,0.1,0.1,0.1,0.1,0.1,0.1,0.1,0.1,0.1,0.1,0.1,0.1,0.1,0.1,0.1,0.1,0.1,0.1,0.1,0.1,0.1,0.1,0.1,0.1,0.1,0.1,0.1,0.1,0.1,0.1,0.1,0.1],[0.1,0.1,0.1,0.1,0.1,0.1,0.1,0.1,0.1,0.1,0.1,0.1,0.1,0.1,0.1,0.1,0.1,0.1,0.1,0.1,0.1,0.1,0.1,0.1,0.1,0.1,0.1,0.1,1.1,1.1,1.1,1.1,1.1,1.1,1.1,1.1,1.1,1.1,1.1,1.1,1.1,1.1,1.1,1.1,1.1,1.1,0.1,0.1,0.1,0.1,0.1,0.1,0.1,0.1,0.1,0.1,0.1,0.1,0.1,0.1,0.1,0.1,0.1,0.1,0.1,0.1,0.1,0.1,0.1,0.1,0.1,0.1,0.1,0.1,0.1,0.1,0.1,0.1,0.1,0.1,0.1,0.1,0.1,0.1,0.1,0.1,0.1,0.1,0.1,0.1,0.1,0.1,0.1,0.1,0.1,0.1,0.1,0.1,0.1,0.1],[0.1,0.1,0.1,0.1,0.1,0.1,0.1,0.1,0.1,0.1,0.1,0.1,0.1,0.1,0.1,0.1,0.1,0.1,0.1,0.1,0.1,0.1,0.1,0.1,0.1,0.1,0.1,0.1,0.1,1.1,1.1,1.1,1.1,1.1,1.1,1.1,1.1,1.1,1.1,1.1,1.1,1.1,1.1,1.1,1.1,0.1,0.1,0.1,0.1,0.1,0.1,0.1,0.1,0.1,0.1,0.1,0.1,0.1,0.1,0.1,0.1,0.1,0.1,0.1,0.1,0.1,0.1,0.1,0.1,0.1,0.1,0.1,0.1,0.1,0.1,0.1,0.1,0.1,0.1,0.1,0.1,0.1,0.1,0.1,0.1,0.1,0.1,0.1,0.1,0.1,0.1,0.1,0.1,0.1,0.1,0.1,0.1,0.1,0.1,0.1],[0.1,0.1,0.1,0.1,0.1,0.1,0.1,0.1,0.1,0.1,0.1,0.1,0.1,0.1,0.1,0.1,0.1,0.1,0.1,0.1,0.1,0.1,0.1,0.1,0.1,0.1,0.1,0.1,0.1,0.1,0.1,1.1,1.1,1.1,1.1,1.1,1.1,1.1,1.1,1.1,1.1,1.1,1.1,0.1,0.1,0.1,0.1,0.1,0.1,0.1,0.1,0.1,0.1,0.1,0.1,0.1,0.1,0.1,0.1,0.1,0.1,0.1,0.1,0.1,0.1,0.1,0.1,0.1,0.1,0.1,0.1,0.1,0.1,0.1,0.1,0.1,0.1,0.1,0.1,0.1,0.1,0.1,0.1,0.1,0.1,0.1,0.1,0.1,0.1,0.1,0.1,0.1,0.1,0.1,0.1,0.1,0.1,0.1,0.1,0.1],[0.1,0.1,0.1,0.1,0.1,0.1,0.1,0.1,0.1,0.1,0.1,0.1,0.1,0.1,0.1,0.1,0.1,0.1,0.1,0.1,0.1,0.1,0.1,0.1,0.1,0.1,0.1,0.1,0.1,0.1,0.1,0.1,0.1,0.1,1.1,1.1,1.1,1.1,1.1,1.1,1.1,0.1,0.1,0.1,0.1,0.1,0.1,0.1,0.1,0.1,0.1,0.1,0.1,0.1,0.1,0.1,0.1,0.1,0.1,0.1,0.1,0.1,0.1,0.1,0.1,0.1,0.1,0.1,0.1,0.1,0.1,0.1,0.1,0.1,0.1,0.1,0.1,0.1,0.1,0.1,0.1,0.1,0.1,0.1,0.1,0.1,0.1,0.1,0.1,0.1,0.1,0.1,0.1,0.1,0.1,0.1,0.1,0.1,0.1,0.1],[0.1,0.1,0.1,0.1,0.1,0.1,0.1,0.1,0.1,0.1,0.1,0.1,0.1,0.1,0.1,0.1,0.1,0.1,0.1,0.1,0.1,0.1,0.1,0.1,0.1,0.1,0.1,0.1,0.1,0.1,0.1,0.1,0.1,0.1,0.1,0.1,1.1,1.1,1.1,0.1,0.1,0.1,0.1,0.1,0.1,0.1,0.1,0.1,0.1,0.1,0.1,0.1,0.1,0.1,0.1,0.1,0.1,0.1,0.1,0.1,0.1,0.1,0.1,0.1,0.1,0.1,0.1,0.1,0.1,0.1,0.1,0.1,0.1,0.1,0.1,0.1,0.1,0.1,0.1,0.1,0.1,0.1,0.1,0.1,0.1,0.1,0.1,0.1,0.1,0.1,0.1,0.1,0.1,0.1,0.1,0.1,0.1,0.1,0.1,0.1],[0.1,0.1,0.1,0.1,0.1,0.1,0.1,0.1,0.1,0.1,0.1,0.1,0.1,0.1,0.1,0.1,0.1,0.1,0.1,0.1,0.1,0.1,0.1,0.1,0.1,0.1,0.1,0.1,0.1,0.1,0.1,0.1,0.1,0.1,0.1,0.1,0.1,0.1,0.1,0.1,0.1,0.1,0.1,0.1,0.1,0.1,0.1,0.1,0.1,0.1,0.1,0.1,0.1,0.1,0.1,0.1,0.1,0.1,0.1,0.1,0.1,0.1,0.1,0.1,0.1,0.1,0.1,0.1,0.1,0.1,0.1,0.1,0.1,0.1,0.1,0.1,0.1,0.1,0.1,0.1,0.1,0.1,0.1,0.1,0.1,0.1,0.1,0.1,0.1,0.1,0.1,0.1,0.1,0.1,0.1,0.1,0.1,0.1,0.1,0.1],[0.1,0.1,0.1,0.1,0.1,0.1,0.1,0.1,0.1,0.1,0.1,0.1,0.1,0.1,0.1,0.1,0.1,0.1,0.1,0.1,0.1,0.1,0.1,0.1,0.1,0.1,0.1,0.1,0.1,0.1,0.1,0.1,0.1,0.1,0.1,0.1,0.1,0.1,0.1,0.1,0.1,0.1,0.1,0.1,0.1,0.1,0.1,0.1,0.1,0.1,0.1,0.1,0.1,0.1,0.1,0.1,0.1,0.1,0.1,0.1,0.1,0.1,0.1,0.1,0.1,0.1,0.1,0.1,0.1,0.1,0.1,0.1,0.1,0.1,0.1,0.1,0.1,0.1,0.1,0.1,0.1,0.1,0.1,0.1,0.1,0.1,0.1,0.1,0.1,0.1,0.1,0.1,0.1,0.1,0.1,0.1,0.1,0.1,0.1,0.1],[0.1,0.1,0.1,0.1,0.1,0.1,0.1,0.1,0.1,0.1,0.1,0.1,0.1,0.1,0.1,0.1,0.1,0.1,0.1,0.1,0.1,0.1,0.1,0.1,0.1,0.1,0.1,0.1,0.1,0.1,0.1,0.1,0.1,0.1,0.1,0.1,0.1,0.1,0.1,0.1,0.1,0.1,0.1,0.1,0.1,0.1,0.1,0.1,0.1,0.1,0.1,0.1,0.1,0.1,0.1,0.1,0.1,0.1,0.1,0.1,0.1,0.1,0.1,0.1,0.1,0.1,0.1,0.1,0.1,0.1,0.1,0.1,0.1,0.1,0.1,0.1,0.1,0.1,0.1,0.1,0.1,0.1,0.1,0.1,0.1,0.1,0.1,0.1,0.1,0.1,0.1,0.1,0.1,0.1,0.1,0.1,0.1,0.1,0.1,0.1],[0.1,0.1,0.1,0.1,0.1,0.1,0.1,0.1,0.1,0.1,0.1,0.1,0.1,0.1,0.1,0.1,0.1,0.1,0.1,0.1,0.1,0.1,0.1,0.1,0.1,0.1,0.1,0.1,0.1,0.1,0.1,0.1,0.1,0.1,0.1,0.1,0.1,0.1,0.1,0.1,0.1,0.1,0.1,0.1,0.1,0.1,0.1,0.1,0.1,0.1,0.1,0.1,0.1,0.1,0.1,0.1,0.1,0.1,0.1,0.1,0.1,0.1,0.1,0.1,0.1,0.1,0.1,0.1,0.1,0.1,0.1,0.1,0.1,0.1,0.1,0.1,0.1,0.1,0.1,0.1,0.1,0.1,0.1,0.1,0.1,0.1,0.1,0.1,0.1,0.1,0.1,0.1,0.1,0.1,0.1,0.1,0.1,0.1,0.1,0.1],[0.1,0.1,0.1,0.1,0.1,0.1,0.1,0.1,0.1,0.1,0.1,0.1,0.1,0.1,0.1,0.1,0.1,0.1,0.1,0.1,0.1,0.1,0.1,0.1,0.1,0.1,0.1,0.1,0.1,0.1,0.1,0.1,0.1,0.1,0.1,0.1,0.1,0.1,0.1,0.1,0.1,0.1,0.1,0.1,0.1,0.1,0.1,0.1,0.1,0.1,0.1,0.1,0.1,0.1,0.1,0.1,0.1,0.1,0.1,0.1,0.1,0.1,0.1,0.1,0.1,0.1,0.1,0.1,0.1,0.1,0.1,0.1,0.1,0.1,0.1,0.1,0.1,0.1,0.1,0.1,0.1,0.1,0.1,0.1,0.1,0.1,0.1,0.1,0.1,0.1,0.1,0.1,0.1,0.1,0.1,0.1,0.1,0.1,0.1,0.1],[0.1,0.1,0.1,0.1,0.1,0.1,0.1,0.1,0.1,0.1,0.1,0.1,0.1,0.1,0.1,0.1,0.1,0.1,0.1,0.1,0.1,0.1,0.1,0.1,0.1,0.1,0.1,0.1,0.1,0.1,0.1,0.1,0.1,0.1,0.1,0.1,0.1,0.1,0.1,0.1,0.1,0.1,0.1,0.1,0.1,0.1,0.1,0.1,0.1,0.1,0.1,0.1,0.1,0.1,0.1,0.1,0.1,0.1,0.1,0.1,0.1,0.1,0.1,0.1,0.1,0.1,0.1,0.1,0.1,0.1,0.1,0.1,0.1,0.1,0.1,0.1,0.1,0.1,0.1,0.1,0.1,0.1,0.1,0.1,0.1,0.1,0.1,0.1,0.1,0.1,0.1,0.1,0.1,0.1,0.1,0.1,0.1,0.1,0.1,0.1],[0.1,0.1,0.1,0.1,0.1,0.1,0.1,0.1,0.1,0.1,0.1,0.1,0.1,0.1,0.1,0.1,0.1,0.1,0.1,0.1,0.1,0.1,0.1,0.1,0.1,0.1,0.1,0.1,0.1,0.1,0.1,0.1,0.1,0.1,0.1,0.1,0.1,0.1,0.1,0.1,0.1,0.1,0.1,0.1,0.1,0.1,0.1,0.1,0.1,0.1,0.1,0.1,0.1,0.1,0.1,0.1,0.1,0.1,0.1,0.1,0.1,0.1,0.1,0.1,0.1,0.1,0.1,0.1,0.1,0.1,0.1,0.1,0.1,0.1,0.1,0.1,0.1,0.1,0.1,0.1,0.1,0.1,0.1,0.1,0.1,0.1,0.1,0.1,0.1,0.1,0.1,0.1,0.1,0.1,0.1,0.1,0.1,0.1,0.1,0.1],[0.1,0.1,0.1,0.1,0.1,0.1,0.1,0.1,0.1,0.1,0.1,0.1,0.1,0.1,0.1,0.1,0.1,0.1,0.1,0.1,0.1,0.1,0.1,0.1,0.1,0.1,0.1,0.1,0.1,0.1,0.1,0.1,0.1,0.1,0.1,0.1,0.1,0.1,0.1,0.1,0.1,0.1,0.1,0.1,0.1,0.1,0.1,0.1,0.1,0.1,0.1,0.1,0.1,0.1,0.1,0.1,0.1,0.1,0.1,0.1,0.1,0.1,0.1,0.1,0.1,0.1,0.1,0.1,0.1,0.1,0.1,0.1,0.1,0.1,0.1,0.1,0.1,0.1,0.1,0.1,0.1,0.1,0.1,0.1,0.1,0.1,0.1,0.1,0.1,0.1,0.1,0.1,0.1,0.1,0.1,0.1,0.1,0.1,0.1,0.1],[0.1,0.1,0.1,0.1,0.1,0.1,0.1,0.1,0.1,0.1,0.1,0.1,0.1,0.1,0.1,0.1,0.1,0.1,0.1,0.1,0.1,0.1,0.1,0.1,0.1,0.1,0.1,0.1,0.1,0.1,0.1,0.1,0.1,0.1,0.1,0.1,0.1,0.1,0.1,0.1,0.1,0.1,0.1,0.1,0.1,0.1,0.1,0.1,0.1,0.1,0.1,0.1,0.1,0.1,0.1,0.1,0.1,0.1,0.1,0.1,0.1,0.1,0.1,0.1,0.1,0.1,0.1,0.1,0.1,0.1,0.1,0.1,0.1,0.1,0.1,0.1,0.1,0.1,0.1,0.1,0.1,0.1,0.1,0.1,0.1,0.1,0.1,0.1,0.1,0.1,0.1,0.1,0.1,0.1,0.1,0.1,0.1,0.1,0.1,0.1],[0.1,0.1,0.1,0.1,0.1,0.1,0.1,0.1,0.1,0.1,0.1,0.1,0.1,0.1,0.1,0.1,0.1,0.1,0.1,0.1,0.1,0.1,0.1,0.1,0.1,0.1,0.1,0.1,0.1,0.1,0.1,0.1,0.1,0.1,0.1,0.1,0.1,0.1,0.1,0.1,0.1,0.1,0.1,0.1,0.1,0.1,0.1,0.1,0.1,0.1,0.1,0.1,0.1,0.1,0.1,0.1,0.1,0.1,0.1,0.1,0.1,0.1,0.1,0.1,0.1,0.1,0.1,0.1,0.1,0.1,0.1,0.1,0.1,0.1,0.1,0.1,0.1,0.1,0.1,0.1,0.1,0.1,0.1,0.1,0.1,0.1,0.1,0.1,0.1,0.1,0.1,0.1,0.1,0.1,0.1,0.1,0.1,0.1,0.1,0.1],[0.1,0.1,0.1,0.1,0.1,0.1,0.1,0.1,0.1,0.1,0.1,0.1,0.1,0.1,0.1,0.1,0.1,0.1,0.1,0.1,0.1,0.1,0.1,0.1,0.1,0.1,0.1,0.1,0.1,0.1,0.1,0.1,0.1,0.1,0.1,0.1,0.1,0.1,0.1,0.1,0.1,0.1,0.1,0.1,0.1,0.1,0.1,0.1,0.1,0.1,0.1,0.1,0.1,0.1,0.1,0.1,0.1,0.1,0.1,0.1,0.1,0.1,0.1,0.1,0.1,0.1,0.1,0.1,0.1,0.1,0.1,0.1,0.1,0.1,0.1,0.1,0.1,0.1,0.1,0.1,0.1,0.1,0.1,0.1,0.1,0.1,0.1,0.1,0.1,0.1,0.1,0.1,0.1,0.1,0.1,0.1,0.1,0.1,0.1,0.1],[0.1,0.1,0.1,0.1,0.1,0.1,0.1,0.1,0.1,0.1,0.1,0.1,0.1,0.1,0.1,0.1,0.1,0.1,0.1,0.1,0.1,0.1,0.1,0.1,0.1,0.1,0.1,0.1,0.1,0.1,0.1,0.1,0.1,0.1,0.1,0.1,0.1,0.1,0.1,0.1,0.1,0.1,0.1,0.1,0.1,0.1,0.1,0.1,0.1,0.1,0.1,0.1,0.1,0.1,0.1,0.1,0.1,0.1,0.1,0.1,0.1,0.1,0.1,0.1,0.1,0.1,0.1,0.1,0.1,0.1,0.1,0.1,0.1,0.1,0.1,0.1,0.1,0.1,0.1,0.1,0.1,0.1,0.1,0.1,0.1,0.1,0.1,0.1,0.1,0.1,0.1,0.1,0.1,0.1,0.1,0.1,0.1,0.1,0.1,0.1],[0.1,0.1,0.1,0.1,0.1,0.1,0.1,0.1,0.1,0.1,0.1,0.1,0.1,0.1,0.1,0.1,0.1,0.1,0.1,0.1,0.1,0.1,0.1,0.1,0.1,0.1,0.1,0.1,0.1,0.1,0.1,0.1,0.1,0.1,0.1,0.1,0.1,0.1,0.1,0.1,0.1,0.1,0.1,0.1,0.1,0.1,0.1,0.1,0.1,0.1,0.1,0.1,0.1,0.1,0.1,0.1,0.1,0.1,0.1,0.1,0.1,0.1,0.1,0.1,0.1,0.1,0.1,0.1,0.1,0.1,0.1,0.1,0.1,0.1,0.1,0.1,0.1,0.1,0.1,0.1,0.1,0.1,0.1,0.1,0.1,0.1,0.1,0.1,0.1,0.1,0.1,0.1,0.1,0.1,0.1,0.1,0.1,0.1,0.1,0.1],[0.1,0.1,0.1,0.1,0.1,0.1,0.1,0.1,0.1,0.1,0.1,0.1,0.1,0.1,0.1,0.1,0.1,0.1,0.1,0.1,0.1,0.1,0.1,0.1,0.1,0.1,0.1,0.1,0.1,0.1,0.1,0.1,0.1,0.1,0.1,0.1,0.1,0.1,0.1,0.1,0.1,0.1,0.1,0.1,0.1,0.1,0.1,0.1,0.1,0.1,0.1,0.1,0.1,0.1,0.1,0.1,0.1,0.1,0.1,0.1,0.1,0.1,0.1,0.1,0.1,0.1,0.1,0.1,0.1,0.1,0.1,0.1,0.1,0.1,0.1,0.1,0.1,0.1,0.1,0.1,0.1,0.1,0.1,0.1,0.1,0.1,0.1,0.1,0.1,0.1,0.1,0.1,0.1,0.1,0.1,0.1,0.1,0.1,0.1,0.1],[0.1,0.1,0.1,0.1,0.1,0.1,0.1,0.1,0.1,0.1,0.1,0.1,0.1,0.1,0.1,0.1,0.1,0.1,0.1,0.1,0.1,0.1,0.1,0.1,0.1,0.1,0.1,0.1,0.1,0.1,0.1,0.1,0.1,0.1,0.1,0.1,0.1,0.1,0.1,0.1,0.1,0.1,0.1,0.1,0.1,0.1,0.1,0.1,0.1,0.1,0.1,0.1,0.1,0.1,0.1,0.1,0.1,0.1,0.1,0.1,0.1,0.1,0.1,0.1,0.1,0.1,0.1,0.1,0.1,0.1,0.1,0.1,0.1,0.1,0.1,0.1,0.1,0.1,0.1,0.1,0.1,0.1,0.1,0.1,0.1,0.1,0.1,0.1,0.1,0.1,0.1,0.1,0.1,0.1,0.1,0.1,0.1,0.1,0.1,0.1],[0.1,0.1,0.1,0.1,0.1,0.1,0.1,0.1,0.1,0.1,0.1,0.1,0.1,0.1,0.1,0.1,0.1,0.1,0.1,0.1,0.1,0.1,0.1,0.1,0.1,0.1,0.1,0.1,0.1,0.1,0.1,0.1,0.1,0.1,0.1,0.1,0.1,0.1,0.1,0.1,0.1,0.1,0.1,0.1,0.1,0.1,0.1,0.1,0.1,0.1,0.1,0.1,0.1,0.1,0.1,0.1,0.1,0.1,0.1,0.1,0.1,0.1,0.1,0.1,0.1,0.1,0.1,0.1,0.1,0.1,0.1,0.1,0.1,0.1,0.1,0.1,0.1,0.1,0.1,0.1,0.1,0.1,0.1,0.1,0.1,0.1,0.1,0.1,0.1,0.1,0.1,0.1,0.1,0.1,0.1,0.1,0.1,0.1,0.1,0.1],[0.1,0.1,0.1,0.1,0.1,0.1,0.1,0.1,0.1,0.1,0.1,0.1,0.1,0.1,0.1,0.1,0.1,0.1,0.1,0.1,0.1,0.1,0.1,0.1,0.1,0.1,0.1,0.1,0.1,0.1,0.1,0.1,0.1,0.1,0.1,0.1,0.1,0.1,0.1,0.1,0.1,0.1,0.1,0.1,0.1,0.1,0.1,0.1,0.1,0.1,0.1,0.1,0.1,0.1,0.1,0.1,0.1,0.1,0.1,0.1,0.1,0.1,0.1,0.1,0.1,0.1,0.1,0.1,0.1,0.1,0.1,0.1,0.1,0.1,0.1,0.1,0.1,0.1,0.1,0.1,0.1,0.1,0.1,0.1,0.1,0.1,0.1,0.1,0.1,0.1,0.1,0.1,0.1,0.1,0.1,0.1,0.1,0.1,0.1,0.1],[0.1,0.1,0.1,0.1,0.1,0.1,0.1,0.1,0.1,0.1,0.1,0.1,0.1,0.1,0.1,0.1,0.1,0.1,0.1,0.1,0.1,0.1,0.1,0.1,0.1,0.1,0.1,0.1,0.1,0.1,0.1,0.1,0.1,0.1,0.1,0.1,0.1,0.1,0.1,0.1,0.1,0.1,0.1,0.1,0.1,0.1,0.1,0.1,0.1,0.1,0.1,0.1,0.1,0.1,0.1,0.1,0.1,0.1,0.1,0.1,0.1,0.1,0.1,0.1,0.1,0.1,0.1,0.1,0.1,0.1,0.1,0.1,0.1,0.1,0.1,0.1,0.1,0.1,0.1,0.1,0.1,0.1,0.1,0.1,0.1,0.1,0.1,0.1,0.1,0.1,0.1,0.1,0.1,0.1,0.1,0.1,0.1,0.1,0.1,0.1],[0.1,0.1,0.1,0.1,0.1,0.1,0.1,0.1,0.1,0.1,0.1,0.1,0.1,0.1,0.1,0.1,0.1,0.1,0.1,0.1,0.1,0.1,0.1,0.1,0.1,0.1,0.1,0.1,0.1,0.1,0.1,0.1,0.1,0.1,0.1,0.1,0.1,0.1,0.1,0.1,0.1,0.1,0.1,0.1,0.1,0.1,0.1,0.1,0.1,0.1,0.1,0.1,0.1,0.1,0.1,0.1,0.1,0.1,0.1,0.1,0.1,0.1,0.1,0.1,0.1,0.1,0.1,0.1,0.1,0.1,0.1,0.1,0.1,0.1,0.1,0.1,0.1,0.1,0.1,0.1,0.1,0.1,0.1,0.1,0.1,0.1,0.1,0.1,0.1,0.1,0.1,0.1,0.1,0.1,0.1,0.1,0.1,0.1,0.1,0.1],[0.1,0.1,0.1,0.1,0.1,0.1,0.1,0.1,0.1,0.1,0.1,0.1,0.1,0.1,0.1,0.1,0.1,0.1,0.1,0.1,0.1,0.1,0.1,0.1,0.1,0.1,0.1,0.1,0.1,0.1,0.1,0.1,0.1,0.1,0.1,0.1,0.1,0.1,0.1,0.1,0.1,0.1,0.1,0.1,0.1,0.1,0.1,0.1,0.1,0.1,0.1,0.1,0.1,0.1,0.1,0.1,0.1,0.1,0.1,0.1,0.1,0.1,0.1,0.1,0.1,0.1,0.1,0.1,0.1,0.1,0.1,0.1,0.1,0.1,0.1,0.1,0.1,0.1,0.1,0.1,0.1,0.1,0.1,0.1,0.1,0.1,0.1,0.1,0.1,0.1,0.1,0.1,0.1,0.1,0.1,0.1,0.1,0.1,0.1,0.1],[0.1,0.1,0.1,0.1,0.1,0.1,0.1,0.1,0.1,0.1,0.1,0.1,0.1,0.1,0.1,0.1,0.1,0.1,0.1,0.1,0.1,0.1,0.1,0.1,0.1,0.1,0.1,0.1,0.1,0.1,0.1,0.1,0.1,0.1,0.1,0.1,0.1,0.1,0.1,0.1,0.1,0.1,0.1,0.1,0.1,0.1,0.1,0.1,0.1,0.1,0.1,0.1,0.1,0.1,0.1,0.1,0.1,0.1,0.1,0.1,0.1,0.1,0.1,0.1,0.1,0.1,0.1,0.1,0.1,0.1,0.1,0.1,0.1,0.1,0.1,0.1,0.1,0.1,0.1,0.1,0.1,0.1,0.1,0.1,0.1,0.1,0.1,0.1,0.1,0.1,0.1,0.1,0.1,0.1,0.1,0.1,0.1,0.1,0.1,0.1],[0.1,0.1,0.1,0.1,0.1,0.1,0.1,0.1,0.1,0.1,0.1,0.1,0.1,0.1,0.1,0.1,0.1,0.1,0.1,0.1,0.1,0.1,0.1,0.1,0.1,0.1,0.1,0.1,0.1,0.1,0.1,0.1,0.1,0.1,0.1,0.1,0.1,0.1,0.1,0.1,0.1,0.1,0.1,0.1,0.1,0.1,0.1,0.1,0.1,0.1,0.1,0.1,0.1,0.1,0.1,0.1,0.1,0.1,0.1,0.1,0.1,0.1,0.1,0.1,0.1,0.1,0.1,0.1,0.1,0.1,0.1,0.1,0.1,0.1,0.1,0.1,0.1,0.1,0.1,0.1,0.1,0.1,0.1,0.1,0.1,0.1,0.1,0.1,0.1,0.1,0.1,0.1,0.1,0.1,0.1,0.1,0.1,0.1,0.1,0.1],[0.1,0.1,0.1,0.1,0.1,0.1,0.1,0.1,0.1,0.1,0.1,0.1,0.1,0.1,0.1,0.1,0.1,0.1,0.1,0.1,0.1,0.1,0.1,0.1,0.1,0.1,0.1,0.1,0.1,0.1,0.1,0.1,0.1,0.1,0.1,0.1,0.1,0.1,0.1,0.1,0.1,0.1,0.1,0.1,0.1,0.1,0.1,0.1,0.1,0.1,0.1,0.1,0.1,0.1,0.1,0.1,0.1,0.1,0.1,0.1,0.1,0.1,0.1,0.1,0.1,0.1,0.1,0.1,0.1,0.1,0.1,0.1,0.1,0.1,0.1,0.1,0.1,0.1,0.1,0.1,0.1,0.1,0.1,0.1,0.1,0.1,0.1,0.1,0.1,0.1,0.1,0.1,0.1,0.1,0.1,0.1,0.1,0.1,0.1,0.1],[0.1,0.1,0.1,0.1,0.1,0.1,0.1,0.1,0.1,0.1,0.1,0.1,0.1,0.1,0.1,0.1,0.1,0.1,0.1,0.1,0.1,0.1,0.1,0.1,0.1,0.1,0.1,0.1,0.1,0.1,0.1,0.1,0.1,0.1,0.1,0.1,0.1,0.1,0.1,0.1,0.1,0.1,0.1,0.1,0.1,0.1,0.1,0.1,0.1,0.1,0.1,0.1,0.1,0.1,0.1,0.1,0.1,0.1,0.1,0.1,0.1,0.1,0.1,0.1,0.1,0.1,0.1,0.1,0.1,0.1,0.1,0.1,0.1,0.1,0.1,0.1,0.1,0.1,0.1,0.1,0.1,0.1,0.1,0.1,0.1,0.1,0.1,0.1,0.1,0.1,0.1,0.1,0.1,0.1,0.1,0.1,0.1,0.1,0.1,0.1],[0.1,0.1,0.1,0.1,0.1,0.1,0.1,0.1,0.1,0.1,0.1,0.1,0.1,0.1,0.1,0.1,0.1,0.1,0.1,0.1,0.1,0.1,0.1,0.1,0.1,0.1,0.1,0.1,0.1,0.1,0.1,0.1,0.1,0.1,0.1,0.1,0.1,0.1,0.1,0.1,0.1,0.1,0.1,0.1,0.1,0.1,0.1,0.1,0.1,0.1,0.1,0.1,0.1,0.1,0.1,0.1,0.1,0.1,0.1,0.1,0.1,0.1,0.1,0.1,0.1,0.1,0.1,0.1,0.1,0.1,0.1,0.1,0.1,0.1,0.1,0.1,0.1,0.1,0.1,0.1,0.1,0.1,0.1,0.1,0.1,0.1,0.1,0.1,0.1,0.1,0.1,0.1,0.1,0.1,0.1,0.1,0.1,0.1,0.1,0.1],[0.1,0.1,0.1,0.1,0.1,0.1,0.1,0.1,0.1,0.1,0.1,0.1,0.1,0.1,0.1,0.1,0.1,0.1,0.1,0.1,0.1,0.1,0.1,0.1,0.1,0.1,0.1,0.1,0.1,0.1,0.1,0.1,0.1,0.1,0.1,0.1,0.1,0.1,0.1,0.1,0.1,0.1,0.1,0.1,0.1,0.1,0.1,0.1,0.1,0.1,0.1,0.1,0.1,0.1,0.1,0.1,0.1,0.1,0.1,0.1,0.1,0.1,0.1,0.1,0.1,0.1,0.1,0.1,0.1,0.1,0.1,0.1,0.1,0.1,0.1,0.1,0.1,0.1,0.1,0.1,0.1,0.1,0.1,0.1,0.1,0.1,0.1,0.1,0.1,0.1,0.1,0.1,0.1,0.1,0.1,0.1,0.1,0.1,0.1,0.1],[0.1,0.1,0.1,0.1,0.1,0.1,0.1,0.1,0.1,0.1,0.1,0.1,0.1,0.1,0.1,0.1,0.1,0.1,0.1,0.1,0.1,0.1,0.1,0.1,0.1,0.1,0.1,0.1,0.1,0.1,0.1,0.1,0.1,0.1,0.1,0.1,0.1,0.1,0.1,0.1,0.1,0.1,0.1,0.1,0.1,0.1,0.1,0.1,0.1,0.1,0.1,0.1,0.1,0.1,0.1,0.1,0.1,0.1,0.1,0.1,0.1,0.1,0.1,0.1,0.1,0.1,0.1,0.1,0.1,0.1,0.1,0.1,0.1,0.1,0.1,0.1,0.1,0.1,0.1,0.1,0.1,0.1,0.1,0.1,0.1,0.1,0.1,0.1,0.1,0.1,0.1,0.1,0.1,0.1,0.1,0.1,0.1,0.1,0.1,0.1],[0.1,0.1,0.1,0.1,0.1,0.1,0.1,0.1,0.1,0.1,0.1,0.1,0.1,0.1,0.1,0.1,0.1,0.1,0.1,0.1,0.1,0.1,0.1,0.1,0.1,0.1,0.1,0.1,0.1,0.1,0.1,0.1,0.1,0.1,0.1,0.1,0.1,0.1,0.1,0.1,0.1,0.1,0.1,0.1,0.1,0.1,0.1,0.1,0.1,0.1,0.1,0.1,0.1,0.1,0.1,0.1,0.1,0.1,0.1,0.1,0.1,0.1,0.1,0.1,0.1,0.1,0.1,0.1,0.1,0.1,0.1,0.1,0.1,0.1,0.1,0.1,0.1,0.1,0.1,0.1,0.1,0.1,0.1,0.1,0.1,0.1,0.1,0.1,0.1,0.1,0.1,0.1,0.1,0.1,0.1,0.1,0.1,0.1,0.1,0.1],[0.1,0.1,0.1,0.1,0.1,0.1,0.1,0.1,0.1,0.1,0.1,0.1,0.1,0.1,0.1,0.1,0.1,0.1,0.1,0.1,0.1,0.1,0.1,0.1,0.1,0.1,0.1,0.1,0.1,0.1,0.1,0.1,0.1,0.1,0.1,0.1,0.1,0.1,0.1,0.1,0.1,0.1,0.1,0.1,0.1,0.1,0.1,0.1,0.1,0.1,0.1,0.1,0.1,0.1,0.1,0.1,0.1,0.1,0.1,0.1,0.1,0.1,0.1,0.1,0.1,0.1,0.1,0.1,0.1,0.1,0.1,0.1,0.1,0.1,0.1,0.1,0.1,0.1,0.1,0.1,0.1,0.1,0.1,0.1,0.1,0.1,0.1,0.1,0.1,0.1,0.1,0.1,0.1,0.1,0.1,0.1,0.1,0.1,0.1,0.1],[0.1,0.1,0.1,0.1,0.1,0.1,0.1,0.1,0.1,0.1,0.1,0.1,0.1,0.1,0.1,0.1,0.1,0.1,0.1,0.1,0.1,0.1,0.1,0.1,0.1,0.1,0.1,0.1,0.1,0.1,0.1,0.1,0.1,0.1,0.1,0.1,0.1,0.1,0.1,0.1,0.1,0.1,0.1,0.1,0.1,0.1,0.1,0.1,0.1,0.1,0.1,0.1,0.1,0.1,0.1,0.1,0.1,0.1,0.1,0.1,0.1,0.1,0.1,0.1,0.1,0.1,0.1,0.1,0.1,0.1,0.1,0.1,0.1,0.1,0.1,0.1,0.1,0.1,0.1,0.1,0.1,0.1,0.1,0.1,0.1,0.1,0.1,0.1,0.1,0.1,0.1,0.1,0.1,0.1,0.1,0.1,0.1,0.1,0.1,0.1],[0.1,0.1,0.1,0.1,0.1,0.1,0.1,0.1,0.1,0.1,0.1,0.1,0.1,0.1,0.1,0.1,0.1,0.1,0.1,0.1,0.1,0.1,0.1,0.1,0.1,0.1,0.1,0.1,0.1,0.1,0.1,0.1,0.1,0.1,0.1,0.1,0.1,0.1,0.1,0.1,0.1,0.1,0.1,0.1,0.1,0.1,0.1,0.1,0.1,0.1,0.1,0.1,0.1,0.1,0.1,0.1,0.1,0.1,0.1,0.1,0.1,0.1,0.1,0.1,0.1,0.1,0.1,0.1,0.1,0.1,0.1,0.1,0.1,0.1,0.1,0.1,0.1,0.1,0.1,0.1,0.1,0.1,0.1,0.1,0.1,0.1,0.1,0.1,0.1,0.1,0.1,0.1,0.1,0.1,0.1,0.1,0.1,0.1,0.1,0.1]],\"type\":\"contour\"}],                        {\"template\":{\"data\":{\"barpolar\":[{\"marker\":{\"line\":{\"color\":\"white\",\"width\":0.5},\"pattern\":{\"fillmode\":\"overlay\",\"size\":10,\"solidity\":0.2}},\"type\":\"barpolar\"}],\"bar\":[{\"error_x\":{\"color\":\"rgb(36,36,36)\"},\"error_y\":{\"color\":\"rgb(36,36,36)\"},\"marker\":{\"line\":{\"color\":\"white\",\"width\":0.5},\"pattern\":{\"fillmode\":\"overlay\",\"size\":10,\"solidity\":0.2}},\"type\":\"bar\"}],\"carpet\":[{\"aaxis\":{\"endlinecolor\":\"rgb(36,36,36)\",\"gridcolor\":\"white\",\"linecolor\":\"white\",\"minorgridcolor\":\"white\",\"startlinecolor\":\"rgb(36,36,36)\"},\"baxis\":{\"endlinecolor\":\"rgb(36,36,36)\",\"gridcolor\":\"white\",\"linecolor\":\"white\",\"minorgridcolor\":\"white\",\"startlinecolor\":\"rgb(36,36,36)\"},\"type\":\"carpet\"}],\"choropleth\":[{\"colorbar\":{\"outlinewidth\":1,\"tickcolor\":\"rgb(36,36,36)\",\"ticks\":\"outside\"},\"type\":\"choropleth\"}],\"contourcarpet\":[{\"colorbar\":{\"outlinewidth\":1,\"tickcolor\":\"rgb(36,36,36)\",\"ticks\":\"outside\"},\"type\":\"contourcarpet\"}],\"contour\":[{\"colorbar\":{\"outlinewidth\":1,\"tickcolor\":\"rgb(36,36,36)\",\"ticks\":\"outside\"},\"colorscale\":[[0.0,\"#440154\"],[0.1111111111111111,\"#482878\"],[0.2222222222222222,\"#3e4989\"],[0.3333333333333333,\"#31688e\"],[0.4444444444444444,\"#26828e\"],[0.5555555555555556,\"#1f9e89\"],[0.6666666666666666,\"#35b779\"],[0.7777777777777778,\"#6ece58\"],[0.8888888888888888,\"#b5de2b\"],[1.0,\"#fde725\"]],\"type\":\"contour\"}],\"heatmapgl\":[{\"colorbar\":{\"outlinewidth\":1,\"tickcolor\":\"rgb(36,36,36)\",\"ticks\":\"outside\"},\"colorscale\":[[0.0,\"#440154\"],[0.1111111111111111,\"#482878\"],[0.2222222222222222,\"#3e4989\"],[0.3333333333333333,\"#31688e\"],[0.4444444444444444,\"#26828e\"],[0.5555555555555556,\"#1f9e89\"],[0.6666666666666666,\"#35b779\"],[0.7777777777777778,\"#6ece58\"],[0.8888888888888888,\"#b5de2b\"],[1.0,\"#fde725\"]],\"type\":\"heatmapgl\"}],\"heatmap\":[{\"colorbar\":{\"outlinewidth\":1,\"tickcolor\":\"rgb(36,36,36)\",\"ticks\":\"outside\"},\"colorscale\":[[0.0,\"#440154\"],[0.1111111111111111,\"#482878\"],[0.2222222222222222,\"#3e4989\"],[0.3333333333333333,\"#31688e\"],[0.4444444444444444,\"#26828e\"],[0.5555555555555556,\"#1f9e89\"],[0.6666666666666666,\"#35b779\"],[0.7777777777777778,\"#6ece58\"],[0.8888888888888888,\"#b5de2b\"],[1.0,\"#fde725\"]],\"type\":\"heatmap\"}],\"histogram2dcontour\":[{\"colorbar\":{\"outlinewidth\":1,\"tickcolor\":\"rgb(36,36,36)\",\"ticks\":\"outside\"},\"colorscale\":[[0.0,\"#440154\"],[0.1111111111111111,\"#482878\"],[0.2222222222222222,\"#3e4989\"],[0.3333333333333333,\"#31688e\"],[0.4444444444444444,\"#26828e\"],[0.5555555555555556,\"#1f9e89\"],[0.6666666666666666,\"#35b779\"],[0.7777777777777778,\"#6ece58\"],[0.8888888888888888,\"#b5de2b\"],[1.0,\"#fde725\"]],\"type\":\"histogram2dcontour\"}],\"histogram2d\":[{\"colorbar\":{\"outlinewidth\":1,\"tickcolor\":\"rgb(36,36,36)\",\"ticks\":\"outside\"},\"colorscale\":[[0.0,\"#440154\"],[0.1111111111111111,\"#482878\"],[0.2222222222222222,\"#3e4989\"],[0.3333333333333333,\"#31688e\"],[0.4444444444444444,\"#26828e\"],[0.5555555555555556,\"#1f9e89\"],[0.6666666666666666,\"#35b779\"],[0.7777777777777778,\"#6ece58\"],[0.8888888888888888,\"#b5de2b\"],[1.0,\"#fde725\"]],\"type\":\"histogram2d\"}],\"histogram\":[{\"marker\":{\"line\":{\"color\":\"white\",\"width\":0.6}},\"type\":\"histogram\"}],\"mesh3d\":[{\"colorbar\":{\"outlinewidth\":1,\"tickcolor\":\"rgb(36,36,36)\",\"ticks\":\"outside\"},\"type\":\"mesh3d\"}],\"parcoords\":[{\"line\":{\"colorbar\":{\"outlinewidth\":1,\"tickcolor\":\"rgb(36,36,36)\",\"ticks\":\"outside\"}},\"type\":\"parcoords\"}],\"pie\":[{\"automargin\":true,\"type\":\"pie\"}],\"scatter3d\":[{\"line\":{\"colorbar\":{\"outlinewidth\":1,\"tickcolor\":\"rgb(36,36,36)\",\"ticks\":\"outside\"}},\"marker\":{\"colorbar\":{\"outlinewidth\":1,\"tickcolor\":\"rgb(36,36,36)\",\"ticks\":\"outside\"}},\"type\":\"scatter3d\"}],\"scattercarpet\":[{\"marker\":{\"colorbar\":{\"outlinewidth\":1,\"tickcolor\":\"rgb(36,36,36)\",\"ticks\":\"outside\"}},\"type\":\"scattercarpet\"}],\"scattergeo\":[{\"marker\":{\"colorbar\":{\"outlinewidth\":1,\"tickcolor\":\"rgb(36,36,36)\",\"ticks\":\"outside\"}},\"type\":\"scattergeo\"}],\"scattergl\":[{\"marker\":{\"colorbar\":{\"outlinewidth\":1,\"tickcolor\":\"rgb(36,36,36)\",\"ticks\":\"outside\"}},\"type\":\"scattergl\"}],\"scattermapbox\":[{\"marker\":{\"colorbar\":{\"outlinewidth\":1,\"tickcolor\":\"rgb(36,36,36)\",\"ticks\":\"outside\"}},\"type\":\"scattermapbox\"}],\"scatterpolargl\":[{\"marker\":{\"colorbar\":{\"outlinewidth\":1,\"tickcolor\":\"rgb(36,36,36)\",\"ticks\":\"outside\"}},\"type\":\"scatterpolargl\"}],\"scatterpolar\":[{\"marker\":{\"colorbar\":{\"outlinewidth\":1,\"tickcolor\":\"rgb(36,36,36)\",\"ticks\":\"outside\"}},\"type\":\"scatterpolar\"}],\"scatter\":[{\"fillpattern\":{\"fillmode\":\"overlay\",\"size\":10,\"solidity\":0.2},\"type\":\"scatter\"}],\"scatterternary\":[{\"marker\":{\"colorbar\":{\"outlinewidth\":1,\"tickcolor\":\"rgb(36,36,36)\",\"ticks\":\"outside\"}},\"type\":\"scatterternary\"}],\"surface\":[{\"colorbar\":{\"outlinewidth\":1,\"tickcolor\":\"rgb(36,36,36)\",\"ticks\":\"outside\"},\"colorscale\":[[0.0,\"#440154\"],[0.1111111111111111,\"#482878\"],[0.2222222222222222,\"#3e4989\"],[0.3333333333333333,\"#31688e\"],[0.4444444444444444,\"#26828e\"],[0.5555555555555556,\"#1f9e89\"],[0.6666666666666666,\"#35b779\"],[0.7777777777777778,\"#6ece58\"],[0.8888888888888888,\"#b5de2b\"],[1.0,\"#fde725\"]],\"type\":\"surface\"}],\"table\":[{\"cells\":{\"fill\":{\"color\":\"rgb(237,237,237)\"},\"line\":{\"color\":\"white\"}},\"header\":{\"fill\":{\"color\":\"rgb(217,217,217)\"},\"line\":{\"color\":\"white\"}},\"type\":\"table\"}]},\"layout\":{\"annotationdefaults\":{\"arrowhead\":0,\"arrowwidth\":1},\"autotypenumbers\":\"strict\",\"coloraxis\":{\"colorbar\":{\"outlinewidth\":1,\"tickcolor\":\"rgb(36,36,36)\",\"ticks\":\"outside\"}},\"colorscale\":{\"diverging\":[[0.0,\"rgb(103,0,31)\"],[0.1,\"rgb(178,24,43)\"],[0.2,\"rgb(214,96,77)\"],[0.3,\"rgb(244,165,130)\"],[0.4,\"rgb(253,219,199)\"],[0.5,\"rgb(247,247,247)\"],[0.6,\"rgb(209,229,240)\"],[0.7,\"rgb(146,197,222)\"],[0.8,\"rgb(67,147,195)\"],[0.9,\"rgb(33,102,172)\"],[1.0,\"rgb(5,48,97)\"]],\"sequential\":[[0.0,\"#440154\"],[0.1111111111111111,\"#482878\"],[0.2222222222222222,\"#3e4989\"],[0.3333333333333333,\"#31688e\"],[0.4444444444444444,\"#26828e\"],[0.5555555555555556,\"#1f9e89\"],[0.6666666666666666,\"#35b779\"],[0.7777777777777778,\"#6ece58\"],[0.8888888888888888,\"#b5de2b\"],[1.0,\"#fde725\"]],\"sequentialminus\":[[0.0,\"#440154\"],[0.1111111111111111,\"#482878\"],[0.2222222222222222,\"#3e4989\"],[0.3333333333333333,\"#31688e\"],[0.4444444444444444,\"#26828e\"],[0.5555555555555556,\"#1f9e89\"],[0.6666666666666666,\"#35b779\"],[0.7777777777777778,\"#6ece58\"],[0.8888888888888888,\"#b5de2b\"],[1.0,\"#fde725\"]]},\"colorway\":[\"#1F77B4\",\"#FF7F0E\",\"#2CA02C\",\"#D62728\",\"#9467BD\",\"#8C564B\",\"#E377C2\",\"#7F7F7F\",\"#BCBD22\",\"#17BECF\"],\"font\":{\"color\":\"rgb(36,36,36)\"},\"geo\":{\"bgcolor\":\"white\",\"lakecolor\":\"white\",\"landcolor\":\"white\",\"showlakes\":true,\"showland\":true,\"subunitcolor\":\"white\"},\"hoverlabel\":{\"align\":\"left\"},\"hovermode\":\"closest\",\"mapbox\":{\"style\":\"light\"},\"paper_bgcolor\":\"white\",\"plot_bgcolor\":\"white\",\"polar\":{\"angularaxis\":{\"gridcolor\":\"rgb(232,232,232)\",\"linecolor\":\"rgb(36,36,36)\",\"showgrid\":false,\"showline\":true,\"ticks\":\"outside\"},\"bgcolor\":\"white\",\"radialaxis\":{\"gridcolor\":\"rgb(232,232,232)\",\"linecolor\":\"rgb(36,36,36)\",\"showgrid\":false,\"showline\":true,\"ticks\":\"outside\"}},\"scene\":{\"xaxis\":{\"backgroundcolor\":\"white\",\"gridcolor\":\"rgb(232,232,232)\",\"gridwidth\":2,\"linecolor\":\"rgb(36,36,36)\",\"showbackground\":true,\"showgrid\":false,\"showline\":true,\"ticks\":\"outside\",\"zeroline\":false,\"zerolinecolor\":\"rgb(36,36,36)\"},\"yaxis\":{\"backgroundcolor\":\"white\",\"gridcolor\":\"rgb(232,232,232)\",\"gridwidth\":2,\"linecolor\":\"rgb(36,36,36)\",\"showbackground\":true,\"showgrid\":false,\"showline\":true,\"ticks\":\"outside\",\"zeroline\":false,\"zerolinecolor\":\"rgb(36,36,36)\"},\"zaxis\":{\"backgroundcolor\":\"white\",\"gridcolor\":\"rgb(232,232,232)\",\"gridwidth\":2,\"linecolor\":\"rgb(36,36,36)\",\"showbackground\":true,\"showgrid\":false,\"showline\":true,\"ticks\":\"outside\",\"zeroline\":false,\"zerolinecolor\":\"rgb(36,36,36)\"}},\"shapedefaults\":{\"fillcolor\":\"black\",\"line\":{\"width\":0},\"opacity\":0.3},\"ternary\":{\"aaxis\":{\"gridcolor\":\"rgb(232,232,232)\",\"linecolor\":\"rgb(36,36,36)\",\"showgrid\":false,\"showline\":true,\"ticks\":\"outside\"},\"baxis\":{\"gridcolor\":\"rgb(232,232,232)\",\"linecolor\":\"rgb(36,36,36)\",\"showgrid\":false,\"showline\":true,\"ticks\":\"outside\"},\"bgcolor\":\"white\",\"caxis\":{\"gridcolor\":\"rgb(232,232,232)\",\"linecolor\":\"rgb(36,36,36)\",\"showgrid\":false,\"showline\":true,\"ticks\":\"outside\"}},\"title\":{\"x\":0.05},\"xaxis\":{\"automargin\":true,\"gridcolor\":\"rgb(232,232,232)\",\"linecolor\":\"rgb(36,36,36)\",\"showgrid\":false,\"showline\":true,\"ticks\":\"outside\",\"title\":{\"standoff\":15},\"zeroline\":false,\"zerolinecolor\":\"rgb(36,36,36)\"},\"yaxis\":{\"automargin\":true,\"gridcolor\":\"rgb(232,232,232)\",\"linecolor\":\"rgb(36,36,36)\",\"showgrid\":false,\"showline\":true,\"ticks\":\"outside\",\"title\":{\"standoff\":15},\"zeroline\":false,\"zerolinecolor\":\"rgb(36,36,36)\"}}},\"xaxis\":{\"type\":\"log\",\"title\":{\"text\":\"Number of unique fragments\"}},\"yaxis\":{\"title\":{\"text\":\"TSS enrichment score\"}},\"width\":500,\"height\":400},                        {\"responsive\": true}                    ).then(function(){\n",
              "                            \n",
              "var gd = document.getElementById('0f3829d4-5306-41c2-8d43-e3de5ba543be');\n",
              "var x = new MutationObserver(function (mutations, observer) {{\n",
              "        var display = window.getComputedStyle(gd).display;\n",
              "        if (!display || display === 'none') {{\n",
              "            console.log([gd, 'removed!']);\n",
              "            Plotly.purge(gd);\n",
              "            observer.disconnect();\n",
              "        }}\n",
              "}});\n",
              "\n",
              "// Listen for the removal of the full notebook cells\n",
              "var notebookContainer = gd.closest('#notebook-container');\n",
              "if (notebookContainer) {{\n",
              "    x.observe(notebookContainer, {childList: true});\n",
              "}}\n",
              "\n",
              "// Listen for the clearing of the current output cell\n",
              "var outputEl = gd.closest('.output');\n",
              "if (outputEl) {{\n",
              "    x.observe(outputEl, {childList: true});\n",
              "}}\n",
              "\n",
              "                        })                };                            </script>        </div>\n",
              "</body>\n",
              "</html>"
            ]
          },
          "metadata": {}
        }
      ],
      "source": [
        "# Generate TSSE plots\n",
        "snap.pl.tsse(data)"
      ]
    },
    {
      "cell_type": "markdown",
      "id": "01cf9321-d5d4-41ff-874c-6d35b89c4d85",
      "metadata": {
        "id": "01cf9321-d5d4-41ff-874c-6d35b89c4d85"
      },
      "source": [
        "#Filter cell counts and TSSE values based on above plots"
      ]
    },
    {
      "cell_type": "code",
      "execution_count": 38,
      "id": "2009add0-8ae3-487a-bac6-3f03d6ebe5b6",
      "metadata": {
        "id": "2009add0-8ae3-487a-bac6-3f03d6ebe5b6",
        "colab": {
          "base_uri": "https://localhost:8080/"
        },
        "outputId": "75c297d5-4077-4373-c0cf-f73bb8a4e2cf"
      },
      "outputs": [
        {
          "output_type": "stream",
          "name": "stderr",
          "text": [
            "/usr/local/lib/python3.11/dist-packages/anndata/_core/aligned_df.py:68: ImplicitModificationWarning:\n",
            "\n",
            "Transforming to str index.\n",
            "\n",
            "/usr/local/lib/python3.11/dist-packages/anndata/_core/aligned_df.py:68: ImplicitModificationWarning:\n",
            "\n",
            "Transforming to str index.\n",
            "\n"
          ]
        }
      ],
      "source": [
        "snap.pp.filter_cells(data, min_counts=5000, min_tsse=10, max_counts=100000)"
      ]
    },
    {
      "cell_type": "code",
      "execution_count": 39,
      "id": "182875b4-c906-4329-9489-4fbc4efb5246",
      "metadata": {
        "id": "182875b4-c906-4329-9489-4fbc4efb5246",
        "colab": {
          "base_uri": "https://localhost:8080/"
        },
        "outputId": "ed7cd8e5-b644-42c0-b021-d7b26f92a645"
      },
      "outputs": [
        {
          "output_type": "execute_result",
          "data": {
            "text/plain": [
              "AnnData object with n_obs × n_vars = 6145 × 0\n",
              "    obs: 'n_fragment', 'frac_dup', 'frac_mito', 'tsse'\n",
              "    uns: 'reference_sequences', 'frag_size_distr', 'library_tsse', 'frac_overlap_TSS', 'TSS_profile'\n",
              "    obsm: 'fragment_paired'"
            ]
          },
          "metadata": {},
          "execution_count": 39
        }
      ],
      "source": [
        "data"
      ]
    },
    {
      "cell_type": "markdown",
      "id": "8ce65559-6f39-4703-925c-ac383a213635",
      "metadata": {
        "id": "8ce65559-6f39-4703-925c-ac383a213635"
      },
      "source": [
        "# Create cell by bin matrix containing insertion counts across genome-wide 500-bp bins"
      ]
    },
    {
      "cell_type": "code",
      "execution_count": 40,
      "id": "f684eddb-6f17-42ce-865e-1922f062826b",
      "metadata": {
        "id": "f684eddb-6f17-42ce-865e-1922f062826b"
      },
      "outputs": [],
      "source": [
        "snap.pp.add_tile_matrix(data)"
      ]
    },
    {
      "cell_type": "code",
      "execution_count": 41,
      "id": "ba0de516-0fd3-45c2-9656-cd7fad02ae26",
      "metadata": {
        "id": "ba0de516-0fd3-45c2-9656-cd7fad02ae26",
        "colab": {
          "base_uri": "https://localhost:8080/"
        },
        "outputId": "cb83ef93-a153-403b-fd1e-29a5f574a8f8"
      },
      "outputs": [
        {
          "output_type": "execute_result",
          "data": {
            "text/plain": [
              "AnnData object with n_obs × n_vars = 6145 × 6062095\n",
              "    obs: 'n_fragment', 'frac_dup', 'frac_mito', 'tsse'\n",
              "    uns: 'reference_sequences', 'frag_size_distr', 'library_tsse', 'frac_overlap_TSS', 'TSS_profile'\n",
              "    obsm: 'fragment_paired'"
            ]
          },
          "metadata": {},
          "execution_count": 41
        }
      ],
      "source": [
        "data"
      ]
    },
    {
      "cell_type": "markdown",
      "id": "730b9eda-c947-4340-a957-adc92e88fb78",
      "metadata": {
        "id": "730b9eda-c947-4340-a957-adc92e88fb78"
      },
      "source": [
        "# Perform feature selection"
      ]
    },
    {
      "cell_type": "code",
      "execution_count": 42,
      "id": "3d1591cc-9311-4a03-b067-97b8ca34d72b",
      "metadata": {
        "id": "3d1591cc-9311-4a03-b067-97b8ca34d72b"
      },
      "outputs": [],
      "source": [
        "snap.pp.select_features(data, n_features = 250000)"
      ]
    },
    {
      "cell_type": "code",
      "execution_count": 43,
      "id": "9232b309-c72a-47e0-8bd9-b4471f3255de",
      "metadata": {
        "id": "9232b309-c72a-47e0-8bd9-b4471f3255de",
        "colab": {
          "base_uri": "https://localhost:8080/"
        },
        "outputId": "93ce68d6-ce1e-4b5e-c889-022c769aa6be"
      },
      "outputs": [
        {
          "output_type": "execute_result",
          "data": {
            "text/plain": [
              "AnnData object with n_obs × n_vars = 6145 × 6062095\n",
              "    obs: 'n_fragment', 'frac_dup', 'frac_mito', 'tsse'\n",
              "    var: 'count', 'selected'\n",
              "    uns: 'reference_sequences', 'frag_size_distr', 'library_tsse', 'frac_overlap_TSS', 'TSS_profile'\n",
              "    obsm: 'fragment_paired'"
            ]
          },
          "metadata": {},
          "execution_count": 43
        }
      ],
      "source": [
        "data"
      ]
    },
    {
      "cell_type": "markdown",
      "id": "ff5b4e7e-cd5b-4caf-971c-e6c466aee157",
      "metadata": {
        "id": "ff5b4e7e-cd5b-4caf-971c-e6c466aee157"
      },
      "source": [
        "# Doublet removal"
      ]
    },
    {
      "cell_type": "code",
      "execution_count": 44,
      "id": "1146d5f9-9d0a-49b2-bce0-533dbe84adfb",
      "metadata": {
        "id": "1146d5f9-9d0a-49b2-bce0-533dbe84adfb"
      },
      "outputs": [],
      "source": [
        "#Apply a scrublet algorithm to identify potential doublets\n",
        "snap.pp.scrublet(data)"
      ]
    },
    {
      "cell_type": "code",
      "execution_count": 45,
      "id": "e974e903-2885-418e-bfa4-1863883b94c7",
      "metadata": {
        "id": "e974e903-2885-418e-bfa4-1863883b94c7",
        "colab": {
          "base_uri": "https://localhost:8080/"
        },
        "outputId": "f9285277-4b05-4dbc-dbd2-56b47bfb95bc"
      },
      "outputs": [
        {
          "output_type": "execute_result",
          "data": {
            "text/plain": [
              "AnnData object with n_obs × n_vars = 6145 × 6062095\n",
              "    obs: 'n_fragment', 'frac_dup', 'frac_mito', 'tsse', 'doublet_probability', 'doublet_score'\n",
              "    var: 'count', 'selected'\n",
              "    uns: 'reference_sequences', 'frag_size_distr', 'library_tsse', 'frac_overlap_TSS', 'TSS_profile', 'scrublet_sim_doublet_score'\n",
              "    obsm: 'fragment_paired'"
            ]
          },
          "metadata": {},
          "execution_count": 45
        }
      ],
      "source": [
        "data"
      ]
    },
    {
      "cell_type": "code",
      "execution_count": 46,
      "id": "7b7da120-079f-4c39-ac77-70f23af9b7ff",
      "metadata": {
        "id": "7b7da120-079f-4c39-ac77-70f23af9b7ff"
      },
      "outputs": [],
      "source": [
        "#Filter doublets\n",
        "snap.pp.filter_doublets(data)"
      ]
    },
    {
      "cell_type": "code",
      "execution_count": 47,
      "id": "c728e0de-7f6c-4cc4-ab6a-d01a9172600c",
      "metadata": {
        "id": "c728e0de-7f6c-4cc4-ab6a-d01a9172600c",
        "colab": {
          "base_uri": "https://localhost:8080/"
        },
        "outputId": "80e23289-ff3a-423c-e039-8b746df5bcd4"
      },
      "outputs": [
        {
          "output_type": "execute_result",
          "data": {
            "text/plain": [
              "AnnData object with n_obs × n_vars = 5806 × 6062095\n",
              "    obs: 'n_fragment', 'frac_dup', 'frac_mito', 'tsse', 'doublet_probability', 'doublet_score'\n",
              "    var: 'count', 'selected'\n",
              "    uns: 'reference_sequences', 'frag_size_distr', 'library_tsse', 'frac_overlap_TSS', 'TSS_profile', 'scrublet_sim_doublet_score', 'doublet_rate'\n",
              "    obsm: 'fragment_paired'"
            ]
          },
          "metadata": {},
          "execution_count": 47
        }
      ],
      "source": [
        "data"
      ]
    },
    {
      "cell_type": "markdown",
      "id": "bfc2abee-49e3-40dc-97e0-45ade82afaa3",
      "metadata": {
        "id": "bfc2abee-49e3-40dc-97e0-45ade82afaa3"
      },
      "source": [
        "# Dimension reduction"
      ]
    },
    {
      "cell_type": "code",
      "execution_count": 48,
      "id": "63bf28a2-e84b-43c9-9746-b6163995a3c2",
      "metadata": {
        "id": "63bf28a2-e84b-43c9-9746-b6163995a3c2"
      },
      "outputs": [],
      "source": [
        "snap.tl.spectral(data)"
      ]
    },
    {
      "cell_type": "code",
      "execution_count": 49,
      "id": "e9349aed-2f90-42ce-9b89-ac078dbe7ef8",
      "metadata": {
        "id": "e9349aed-2f90-42ce-9b89-ac078dbe7ef8",
        "colab": {
          "base_uri": "https://localhost:8080/"
        },
        "outputId": "db6dc51c-98fb-4e33-a3ee-9723d6fc1aec"
      },
      "outputs": [
        {
          "output_type": "execute_result",
          "data": {
            "text/plain": [
              "AnnData object with n_obs × n_vars = 5806 × 6062095\n",
              "    obs: 'n_fragment', 'frac_dup', 'frac_mito', 'tsse', 'doublet_probability', 'doublet_score'\n",
              "    var: 'count', 'selected'\n",
              "    uns: 'reference_sequences', 'frag_size_distr', 'library_tsse', 'frac_overlap_TSS', 'TSS_profile', 'scrublet_sim_doublet_score', 'doublet_rate', 'spectral_eigenvalue'\n",
              "    obsm: 'fragment_paired', 'X_spectral'"
            ]
          },
          "metadata": {},
          "execution_count": 49
        }
      ],
      "source": [
        "data"
      ]
    },
    {
      "cell_type": "code",
      "execution_count": 50,
      "id": "fa32f615-4e62-425f-9fbc-6538f5253194",
      "metadata": {
        "id": "fa32f615-4e62-425f-9fbc-6538f5253194",
        "colab": {
          "base_uri": "https://localhost:8080/"
        },
        "outputId": "cd1aa45e-2a1d-4a0d-a507-a7c21a7413d8"
      },
      "outputs": [
        {
          "output_type": "stream",
          "name": "stderr",
          "text": [
            "/usr/local/lib/python3.11/dist-packages/sklearn/utils/deprecation.py:151: FutureWarning:\n",
            "\n",
            "'force_all_finite' was renamed to 'ensure_all_finite' in 1.6 and will be removed in 1.8.\n",
            "\n",
            "/usr/local/lib/python3.11/dist-packages/umap/umap_.py:1952: UserWarning:\n",
            "\n",
            "n_jobs value 1 overridden to 1 by setting random_state. Use no seed for parallelism.\n",
            "\n"
          ]
        }
      ],
      "source": [
        "snap.tl.umap(data)"
      ]
    },
    {
      "cell_type": "code",
      "execution_count": 51,
      "id": "695b9690-a818-4a6d-a4a7-18ecd87f9adc",
      "metadata": {
        "id": "695b9690-a818-4a6d-a4a7-18ecd87f9adc",
        "colab": {
          "base_uri": "https://localhost:8080/"
        },
        "outputId": "69136a3e-2447-404f-f573-2775933e8296"
      },
      "outputs": [
        {
          "output_type": "execute_result",
          "data": {
            "text/plain": [
              "AnnData object with n_obs × n_vars = 5806 × 6062095\n",
              "    obs: 'n_fragment', 'frac_dup', 'frac_mito', 'tsse', 'doublet_probability', 'doublet_score'\n",
              "    var: 'count', 'selected'\n",
              "    uns: 'reference_sequences', 'frag_size_distr', 'library_tsse', 'frac_overlap_TSS', 'TSS_profile', 'scrublet_sim_doublet_score', 'doublet_rate', 'spectral_eigenvalue'\n",
              "    obsm: 'fragment_paired', 'X_spectral', 'X_umap'"
            ]
          },
          "metadata": {},
          "execution_count": 51
        }
      ],
      "source": [
        "data"
      ]
    },
    {
      "cell_type": "markdown",
      "id": "20ae1ff6-1cc5-4fd7-802d-b2c6c9091bb2",
      "metadata": {
        "id": "20ae1ff6-1cc5-4fd7-802d-b2c6c9091bb2"
      },
      "source": [
        "# Clustering analysis\n"
      ]
    },
    {
      "cell_type": "code",
      "execution_count": 52,
      "id": "3c33e76d-5036-4be7-8cca-14ddd50824b6",
      "metadata": {
        "id": "3c33e76d-5036-4be7-8cca-14ddd50824b6"
      },
      "outputs": [],
      "source": [
        "# Calculate knn graph\n",
        "snap.pp.knn(data)"
      ]
    },
    {
      "cell_type": "code",
      "source": [
        "# Apply Leiden community detection\n",
        "snap.tl.leiden(data)"
      ],
      "metadata": {
        "id": "QTLxzuRyBE_q"
      },
      "id": "QTLxzuRyBE_q",
      "execution_count": 53,
      "outputs": []
    },
    {
      "cell_type": "code",
      "source": [
        "# Plot UMAP\n",
        "snap.pl.umap(data, color = 'leiden', interactive = False, show = False)"
      ],
      "metadata": {
        "id": "wFwlElCyBFv1",
        "outputId": "b955a5b9-dcb5-43ae-f26e-9e391bbedf59",
        "colab": {
          "base_uri": "https://localhost:8080/",
          "height": 417
        }
      },
      "id": "wFwlElCyBFv1",
      "execution_count": 54,
      "outputs": [
        {
          "output_type": "display_data",
          "data": {
            "text/html": [
              "<html>\n",
              "<head><meta charset=\"utf-8\" /></head>\n",
              "<body>\n",
              "    <div>            <script src=\"https://cdnjs.cloudflare.com/ajax/libs/mathjax/2.7.5/MathJax.js?config=TeX-AMS-MML_SVG\"></script><script type=\"text/javascript\">if (window.MathJax && window.MathJax.Hub && window.MathJax.Hub.Config) {window.MathJax.Hub.Config({SVG: {font: \"STIX-Web\"}});}</script>                <script type=\"text/javascript\">window.PlotlyConfig = {MathJaxConfig: 'local'};</script>\n",
              "        <script charset=\"utf-8\" src=\"https://cdn.plot.ly/plotly-2.35.2.min.js\"></script>                <div id=\"e0e3a7c1-3bdc-4e69-b5de-3bdfa54e4c23\" class=\"plotly-graph-div\" style=\"height:400px; width:600px;\"></div>            <script type=\"text/javascript\">                                    window.PLOTLYENV=window.PLOTLYENV || {};                                    if (document.getElementById(\"e0e3a7c1-3bdc-4e69-b5de-3bdfa54e4c23\")) {                    Plotly.newPlot(                        \"e0e3a7c1-3bdc-4e69-b5de-3bdfa54e4c23\",                        [{\"hovertemplate\":\"leiden=0\\u003cbr\\u003eUMAP-1=%{x}\\u003cbr\\u003eUMAP-2=%{y}\\u003cextra\\u003e\\u003c\\u002fextra\\u003e\",\"legendgroup\":\"0\",\"marker\":{\"color\":\"#2E91E5\",\"symbol\":\"circle\",\"opacity\":1,\"size\":1.6691508100663226},\"mode\":\"markers\",\"name\":\"0\",\"showlegend\":true,\"x\":[16.622757,15.821528,16.091972,15.864525,16.531452,16.049791,16.54823,15.235705,15.94687,16.28849,16.306503,16.041973,16.21501,16.407503,16.084381,16.361336,17.087687,16.85508,17.283121,15.335839,17.500263,15.512955,16.023716,16.105862,16.116467,15.451649,16.176508,17.52604,16.098085,15.860938,16.497719,17.136055,17.430332,17.483498,17.04779,16.250813,17.2258,16.487484,15.688509,17.256247,15.96633,16.913105,17.252024,16.994177,17.081453,15.874808,15.308936,16.776848,16.779293,16.665483,17.245687,17.08772,17.261307,17.311478,16.737953,16.82366,15.746799,17.02435,16.529648,16.903938,17.331993,16.601381,16.17392,16.137136,16.958189,16.4651,16.544718,16.943623,16.839716,17.406065,17.28668,16.666277,17.147099,16.885952,17.250422,17.675968,16.40376,16.285103,16.123081,15.362068,16.843172,16.090109,16.281225,15.638576,16.040468,16.124634,16.459293,16.990965,15.998321,16.115328,16.100105,16.758528,15.886785,16.636593,16.082607,15.585837,16.39129,16.253006,14.911948,15.833947,16.875563,16.366968,16.769764,15.582091,17.55615,15.904201,15.773413,17.123693,17.189896,15.884896,16.003906,16.152962,16.01587,16.980984,14.439069,16.396055,16.686916,17.076532,16.498209,16.136286,16.128727,16.652237,16.402662,17.034725,17.099838,15.508106,16.267195,15.559791,15.2544775,15.409055,17.284029,15.637077,17.474443,16.107016,16.358583,16.359688,16.9051,14.757456,17.035921,16.619528,16.847872,17.108025,15.746332,17.43336,14.892612,17.535053,16.195103,16.18355,15.697104,16.824198,15.777944,16.617725,15.893662,16.990417,16.173822,17.118141,17.076189,17.502405,16.009007,17.202456,16.6152,16.280558,17.299538,15.044238,16.688042,16.111643,15.971861,16.728714,17.643948,16.119856,17.000353,17.485052,15.909219,16.161118,16.45336,16.657282,17.540632,16.1882,17.328411,16.37481,16.969582,15.818505,16.217628,15.688942,15.524531,14.758328,16.470062,15.795538,16.27957,17.00327,16.593527,15.893126,15.76732,17.15884,16.892878,15.923567,16.922697,15.88206,17.020153,16.81528,14.44527,15.884661,14.741696,17.003729,16.945477,17.366955,17.147308,15.828314,16.698942,15.27119,15.910427,16.509146,15.74746,16.430492,16.001852,16.031477,15.935153,15.726278,16.485914,16.922867,17.125153,16.4783,16.27565,16.204266,15.1894245,17.18532,16.262629,16.45905,16.81718,16.921923,16.657492,17.361652,15.367246,16.032019,16.469564,16.121078,15.668865,16.896025,15.542212,15.935865,15.663125,16.325172,16.44339,16.763414,17.103233,16.497807,17.439672,17.479826,16.504288,15.866674,16.413254,16.543982,17.23646,15.932782,16.99384,16.657919,16.770967,16.37224,16.053535,15.988635,16.21492,17.040823,17.482365,14.701679,16.037558,17.348219,15.49768,15.913934,15.173523,15.62212,16.984053,17.128454,16.913664,14.405225,14.425174,16.442562,16.865444,16.721357,17.484114,16.126123,15.095202,17.334728,17.087698,15.941957,15.332869,15.076478,15.674866,16.813908,16.190676,15.787183,17.124924,16.227606,16.672415,16.129417,16.967012,15.768105,15.796987,17.527899,17.233763,16.693073,15.993747,15.53814,17.348614,16.402212,16.809021,16.319038,16.86744,17.20846,16.545807,15.112022,17.06703,16.94494,16.775408,16.363384,17.098694,15.160948,17.509861,16.039806,17.22128,16.33403,17.024801,17.737577,16.924746,17.019197,17.184534,17.249134,16.008305,17.13217,16.306725,16.113676,17.533129,17.554098,15.471105,16.486876,16.339445,16.744932,16.833021,16.2329,16.710636,17.494188,14.400924,16.249464,17.093115,16.97212,15.734684,16.440699,16.869211,17.198055,16.9063,15.660436,16.303667,16.628506,17.011383,16.445824,16.842146,16.342508,17.773964,16.864222,15.855252,16.811789,15.280115,16.554892,15.156221,16.334373,15.128266,16.89416,17.16688,15.639797,16.729094,17.674015,16.612995,17.263906,16.840515,14.4095545,16.208933,16.66248,15.80428,16.6612,15.626357,17.241055,16.613894,16.177479,16.360462,17.192211,16.818386,15.655722,15.944096,17.61563,16.692335,16.772789,16.379772,17.201073,16.434814,16.083437,16.898392,16.518335,16.558496,16.38888,16.368624,16.231543,16.607433,17.170214,16.593966,15.407354,15.565099,16.72062,16.005198,16.005686,17.125496,16.530418,17.511786,16.609196,16.48051,16.107994,16.951277,15.327788,16.534657,17.441023,16.993414,17.394773,17.363417,17.426134,17.47617,16.044994,15.220254,17.06936,16.923489,17.413305,17.022186,16.904474,16.420765,15.611003,16.60455,17.68966,16.002497,17.194252,17.182093,16.474438,16.117853,17.207245,16.17925,16.430454,15.784394,16.957657,17.228138,16.67743,15.283123,17.23429,15.905858,16.757442,16.82745,17.49356,16.18851,17.75153,15.218945,15.8838005,17.357086,16.811169,16.844425,15.585118,16.130526,17.039299,17.484766,16.539816,16.565136,17.20752,17.060188,15.722511,16.053839,16.068151,14.767854,15.643618,17.133564,17.425121,15.293021,16.95087,15.786973,17.525352,17.398819,15.849494,16.680733,15.479009,15.244846,17.277414,17.178387,15.299977,17.31208,17.140348,17.183504,17.2148,14.395303,16.722973,16.266842,15.970026,17.397024,15.989104,17.3096,15.324721,16.90444,17.516417,16.365438,15.898808,16.523043,16.342335,17.484032,17.23998,14.438093,17.028852,16.464169,16.68744,16.205994,15.568551,17.002817,16.539015,16.949268,17.118298,15.987814,14.7818775,17.191505,15.771954,17.63973,16.568155,16.179882,16.803453,16.24598,16.785158,14.3447695,15.67903,16.735298,16.141102,14.758507,16.050745,17.238073,17.45483,17.440899,17.717451,17.682594,16.677227,17.663008,15.926405,15.922246,15.341614,17.056421,17.144842,15.939192,16.928719,16.488327,15.0845785,14.76001,16.955988,17.618002,16.356922,17.41293,15.982505,17.24933,17.136646,17.322945,14.780559,15.8610115,17.344982,16.963743,17.152298,16.932428,16.02643,17.19079,15.929769,17.215734,15.718837,15.725268,16.431383,16.824402,16.11123,17.161606,16.610588,16.212938,16.516476,16.318485,16.51196,15.846402,17.196915,16.197136,16.415646,16.222446,17.195538,16.484566,16.005993,16.742052,16.080734,16.930086,17.191305,16.166805,16.70595,17.167448,15.265701,17.351568,16.880144,16.396162,15.96809,16.205359,15.21259,16.386406,17.309748,15.480924,15.760442,16.458052,17.338917,15.84492,16.723463,16.913742,15.817496,17.270828,14.931458,16.99727,17.678083,15.876833,16.854322,16.225126,15.984537,16.623508,16.81463,16.580936,17.403847,16.527254,16.934599,16.668934,16.080763,15.456163,15.471574,15.613076,15.958857,17.133995,15.154373,16.714128,16.844475,16.118595,17.080904,16.077278,16.632788,16.280098,16.452583,15.339658,17.084187,17.206106,16.765667,16.4675,16.133356,17.166866,16.024197,15.276393,16.825577,17.339207,16.236,16.313353,16.612833,15.727415,15.697403,16.304426,15.786434,17.492367,15.275802,16.165323,17.514904,16.972557,16.305746,16.64948,17.191408,17.592686,15.848137,15.955476,16.535011,15.770062,16.58082,15.891393,16.686832,16.519272,16.363626,16.31735,16.648373,16.926403,16.720678,16.310122,16.986315,17.464478,15.161767,16.032534,15.143811,17.57228,17.355469,15.980294,16.720554,17.02475,17.15661,15.750764,15.63832,16.215662,17.081993,16.097006,16.931175,16.9292,17.271431,16.868887,16.410027,15.350776,16.112398,17.444355,16.09707,16.430576,16.42165,16.07237,16.869991,15.705793,15.6356535,17.277555,16.581083,15.8369465,14.80294,16.061281,15.32409,16.385948,16.54799,17.556288,17.252342,15.612168,17.12148,16.343002,16.240543,16.802917,16.360895,16.488047,15.686879,16.415855,15.73077,16.44269,17.458763,16.50236,16.668646,14.806773,16.720312,15.613392,16.53509,16.115717,15.361848,17.280674,16.556936,16.440117,15.861552,16.140139,17.207922,17.209944,17.190887,17.16163,16.903635,16.369661,16.16776,16.069504,16.541628,15.766972,16.989079,15.6791525,16.092335,14.756692,17.070631,17.064732,17.44922,16.885275,15.88324,16.808788,16.010641,15.615576,15.55953,17.306711,16.217197,16.34004,16.31493,16.26734,16.767178,16.634956,16.006784,16.366423,16.667753,16.892027,16.845848,16.59572,16.251556,17.479002,16.499374,16.670034,16.66251,16.62385,15.765513,17.205069,16.44902,15.749037,15.439016,16.915611,16.953299,17.612534,16.178001,17.243746,16.618782,15.958916,15.781543,15.840073,15.306405,17.373934,15.527716,15.594785,16.352373,17.26218,16.857922,16.533266,16.310907,15.704201,17.42936,16.006514,16.912405,16.41823,15.353594,16.78872,15.946268,17.129768,16.639067,16.549076,16.521872,16.92159,16.368101,17.19783,17.726894,17.352201,16.65479,15.251756,17.351992,16.080526,17.412823,16.530315,17.219366,16.583681,16.583323,16.16524,15.87531,15.892302,17.516806,17.203482,17.078732,16.335451,17.44915,16.305378,16.56904,16.723925,16.38202,15.847543,16.551811,16.036863,16.703213,17.065155,16.457859,16.156893,16.881844,17.483095,17.27401,16.497341,15.204012,17.108202,16.038334,16.12361,16.482693,16.66892,16.198011,16.466213,16.45148,16.124878,16.265068,16.491634,16.809345,16.338995,16.378725,16.225958,15.64359,16.219872,15.656488,16.340315,16.968874,16.815176,16.294046,16.00597,17.68516,16.26488,17.141726,17.490192,15.796358,15.742477,16.77716,16.307528,15.528091,17.523436,17.385721,16.963964,14.85027,15.83488,15.933017,16.61718,16.690117,15.502373,15.856184,15.854054,17.147171,16.409224,15.965804,16.987263,16.277328,16.032131,15.8935,16.999405,15.997098,16.984957,16.45616,15.807683,16.356396,15.510261,17.42823,15.9981165,16.138613,16.332165,16.87845,15.980056,16.62708,17.359936,15.175274,16.287909,17.207611,17.660692,17.49395,16.815922,16.954277,16.059586,17.10569,16.275297,15.680274,16.426453,17.350576,17.317102,16.722483,16.322622,17.69754,16.685379,16.40729,16.200426,15.717614,17.119152,16.043543,16.882875,17.736511,16.060423,16.82011,16.344885,16.146349,17.237589,16.20177,15.865351,15.816152,17.34041,17.290092,15.881615,16.216759,16.844675,14.816179,16.19336,16.044445,16.091757,17.51911,15.553124,15.731695,16.98285,16.474611,16.416931,16.002062,16.228477,15.947406,16.465298,16.277721,16.793884,16.863066,16.952688,16.824574,16.060003,16.90266,15.9914255,14.651405,16.34446,16.915537,15.859706,15.702843,16.21064,15.694437,16.500237,16.406355,16.10459,17.3111,16.198162,16.9543,15.964432,16.310677,17.06199,17.397907,14.777943,16.215782,16.43017,14.685036,15.235765,16.418802,17.572363,17.143656,16.724077,17.09991,16.126661,15.879028,15.45211,17.602259,16.505121,17.183804,16.808975,15.419055,16.038599,14.469073,16.00614,17.553118,16.044508,16.061504,16.4476,16.114016,15.916046,15.095286,17.199728,15.54444,16.784262,16.867868,16.475895,14.916553,16.499142,15.677838,17.140581,16.386658,16.422289,16.592829,16.79885,17.060678,15.73686,16.65334,15.493165,16.8074,17.460392,17.67429,16.303047,16.72245,17.016865,15.779301,17.574932,16.233812,17.185253,16.590939,16.341248,17.275724,16.823437,16.373507,16.69965,10.582448,17.31228,16.11019,16.269884,16.726112,16.684185,17.157925,17.09357,16.713009,16.461456,17.498453,17.434002,16.234467,16.14938,17.290636,17.461039,17.588491,16.811817,16.177904,16.670168,17.332954,16.784492,16.4902,17.176233,16.378063,17.563545,16.353676,16.441559,16.178911,16.7482,16.303387,15.219449,17.479145,15.266876,17.511267,15.999255,17.412844,15.711714,15.639336,17.389652,15.338322,16.14758,17.525461,16.856335,17.010431,16.321075,16.849266,15.946026,16.886173,16.11836,16.277988,16.419428,15.009215,16.572735,16.715252,17.386084,17.238615,16.986609,16.770203,15.4416065,15.82917,15.962431,16.110806,15.3512745,17.231976,16.419403,17.737125,16.068085,17.385965,15.482726,15.704686,17.339342,17.32109,17.06663,16.808182,17.090084,16.48514,16.06325,15.913477,16.858955,17.124025,17.1931,17.143406,16.76135,15.73163,16.477383,16.720291,16.06683,17.027443,15.943377,15.938016,15.723677,16.443075,16.665424,15.870053,15.517657,15.831673,16.184395,17.40498,16.217957,16.983742,16.299686,16.06542,16.699228,15.162413,16.767084,16.550295,16.292608,16.623392,16.678286,17.387732,15.737099,16.66255,16.861458,17.574804,15.466912,17.288198,16.551235,16.077772,15.861634,16.924437,17.622952,17.18074,16.007065,16.653725,16.787018,15.074256,16.145533],\"xaxis\":\"x\",\"y\":[12.604049,12.401798,13.704856,12.966459,11.598236,11.646722,12.873495,13.225549,13.98447,10.085861,12.041311,13.030447,12.200335,11.849875,13.662389,13.405595,13.5170555,12.34843,13.123059,12.525492,13.67612,13.583419,11.52309,12.096043,13.488994,12.71769,13.796834,13.567524,14.257265,11.725572,11.791546,14.213222,11.635785,11.760837,13.965773,13.397127,14.005774,11.933511,13.3769455,14.053711,13.8450365,12.097647,14.0993185,14.130452,12.158468,12.305404,12.429384,12.921998,12.63658,14.319513,13.924933,12.379982,13.29917,11.677464,12.591413,11.620557,12.377368,13.574138,13.754048,11.605675,12.659142,13.414828,11.681653,13.93108,11.272667,13.074787,14.256496,12.009714,11.884441,12.062623,11.512394,12.637723,12.719444,14.188666,13.23966,11.912725,12.262567,13.342041,11.921273,12.580175,12.814961,11.596639,11.582438,11.039134,11.54896,11.525613,12.276464,11.426513,11.615279,12.329316,14.58774,13.025484,14.096546,14.605719,13.71624,12.201249,11.819799,13.316176,11.540218,11.6821,14.111198,13.386594,13.426672,13.363673,12.948503,12.09504,12.169509,13.379137,11.541724,13.962604,7.321601,13.161281,14.545521,13.520517,11.43257,13.839575,14.210186,12.471157,14.552938,11.99454,14.435027,13.151099,12.15047,13.480161,11.745138,13.539102,13.468554,11.8004465,12.522151,11.984636,12.941044,11.059681,12.119823,12.319192,12.379635,12.280975,14.281264,11.747033,11.652676,11.883263,14.2462,14.12458,11.889273,12.880012,11.517617,12.976115,11.632916,11.973762,12.626138,11.448882,13.443526,14.055192,12.873302,13.829159,14.706237,13.692193,14.334685,11.679231,13.371475,11.408428,14.744026,11.639665,12.332732,11.795223,12.875974,14.512655,13.150171,14.351432,11.758205,11.662802,11.9989195,13.432846,13.853315,13.700861,13.369968,14.651389,12.938662,14.707824,13.31167,14.812864,12.992223,13.97642,13.397931,13.235876,13.597855,11.489468,11.666705,13.52093,14.194702,12.203026,12.947799,13.684055,12.734233,12.558759,13.502075,14.311636,12.696788,13.0013275,11.587243,13.194404,11.442981,13.135445,11.776391,12.99336,14.295539,12.992495,13.92083,12.361552,13.263575,12.447262,14.225799,14.829948,12.491368,12.288224,14.560012,14.5609045,14.450458,12.291122,14.321509,11.600297,12.435386,13.406819,13.082709,11.605604,13.217411,11.543342,13.189259,12.917721,14.424619,13.287726,12.635702,12.995003,13.220921,13.395538,11.967274,14.515864,12.730219,11.531167,13.518297,13.989594,11.83595,14.202391,11.73226,11.693153,11.481191,13.546021,13.739609,11.671923,13.719877,13.757204,13.763205,12.486247,13.542212,12.930975,13.070427,14.096376,12.498513,13.112051,12.69506,13.83138,12.06732,12.458371,11.697695,11.474622,13.140757,12.210356,12.282473,12.620893,12.995154,13.219914,14.208311,11.704131,12.387732,11.407409,11.4273405,12.714682,11.668195,11.958724,11.961743,13.2486515,12.068968,11.882622,12.123536,13.667385,12.370176,11.852658,11.526316,14.383367,14.564322,11.95305,11.440711,14.201851,10.793492,13.862437,12.908795,12.054325,12.779513,11.866142,13.240726,12.788876,11.500954,11.893874,11.64379,13.546401,12.942867,13.7151985,14.177389,14.059168,14.074612,9.904648,13.538923,12.227552,13.920739,13.787643,13.359009,11.870313,12.751054,11.86695,12.957351,13.847536,12.938509,11.86319,11.6031885,13.367071,11.427737,12.814138,13.733673,12.757493,11.953563,14.664303,12.954673,11.80594,12.825528,12.679253,10.222543,12.89937,13.172146,12.1732855,13.065706,13.378141,11.411547,13.80152,12.759551,13.757375,11.441241,12.993114,13.861308,12.4309635,12.923973,11.198875,10.188697,13.865886,14.089548,13.678147,14.505218,14.854599,12.000773,13.401483,11.912779,13.910708,13.283709,11.592784,11.894908,12.623968,11.933664,13.430784,11.532029,13.575669,14.323313,11.980395,13.130196,12.93778,14.198639,11.422963,13.930528,12.550573,12.451961,10.824955,12.783345,11.829404,13.023093,14.199036,12.461707,13.122372,12.214117,13.396768,14.341758,11.947745,13.212963,12.625176,12.925124,11.901644,13.00953,11.485018,13.047143,12.468764,14.149422,12.537771,13.150849,12.17698,10.930055,11.475486,13.968831,12.354638,11.8323145,11.951028,12.812263,13.736032,13.3451805,14.825787,11.981365,13.60108,12.390716,14.597084,12.423457,12.580549,11.849679,11.872955,13.190368,13.053074,12.883059,12.929497,12.024451,11.896139,13.268531,12.950066,14.391777,11.827214,12.644031,12.773498,11.832524,13.145522,14.356319,12.631808,14.611363,12.1979475,11.616533,12.282247,12.871499,13.471983,13.598703,12.085833,13.30811,12.051627,12.92701,11.540691,12.437341,13.991817,11.708278,12.3227215,11.9298725,13.5716915,13.538915,12.150284,12.460174,14.345075,12.6204405,14.08229,13.053034,12.076331,13.478257,14.136127,12.785327,14.508252,14.276935,12.235211,11.655196,13.590842,13.686833,11.955104,11.200594,13.705912,11.377728,12.991358,12.442572,12.261945,11.800811,13.543302,13.2101755,11.775959,13.583434,12.979439,12.421348,12.276592,12.533472,12.497772,12.943158,13.501616,13.645615,12.933235,11.411828,11.82419,11.890648,11.568495,13.965403,11.630481,13.90574,12.514181,14.249152,12.874226,13.437268,13.780814,12.1565075,12.088666,12.828986,12.805522,11.44095,11.654693,10.563782,12.134818,12.973083,12.260505,13.713351,12.221225,12.014391,12.5721445,11.835935,11.541392,14.106667,12.817411,11.810583,13.832047,12.113127,14.474172,13.015138,14.572762,11.384808,13.395166,14.269307,12.686439,11.542168,13.973113,13.285885,12.015344,12.038419,11.851072,11.914669,12.257837,12.715137,11.445598,13.468894,12.401762,14.105583,12.81758,12.293676,14.306936,14.456321,11.504274,11.483191,12.220073,11.683146,13.466868,12.90344,13.820448,14.044638,14.02642,12.687072,11.1967945,11.802637,14.102582,14.008083,11.792681,12.091144,13.287346,12.019164,12.229112,11.710034,11.38868,12.937937,14.713103,12.882798,13.737808,13.202383,13.225479,14.4969015,11.911551,11.594725,11.835187,13.942463,13.850411,12.413043,14.632394,13.079419,13.737526,14.647966,11.60133,11.7821045,11.996205,12.498986,14.124042,12.49998,14.049633,12.920097,12.472042,12.840868,11.424156,14.446854,13.998179,12.066242,13.215607,13.727443,12.842809,13.515264,12.196799,14.663696,11.978128,11.9259615,11.83695,12.871602,11.974483,12.095876,11.634027,12.1258335,12.66933,13.988064,13.78819,12.971294,6.506638,14.0915575,11.217497,12.290536,11.599447,12.789373,14.3056965,12.8833475,12.5092125,12.401713,11.601284,13.541813,11.587135,11.376567,11.90244,12.875638,14.474442,13.325536,11.698604,11.591241,11.758083,12.3817625,12.487622,12.528446,12.146709,12.406986,12.313959,12.0383835,11.98312,11.691483,11.5535755,12.493872,12.369258,14.093981,11.583296,12.070675,12.939955,11.638946,13.211382,14.389665,13.3935795,13.299742,12.446753,13.860497,13.570392,12.297749,13.83286,14.077186,12.318905,11.717204,13.103024,12.8396225,11.54893,11.891482,12.242871,11.536276,13.904378,11.565777,14.4484625,12.502815,11.65628,12.467821,13.051536,13.481452,13.168681,13.316236,12.532686,12.413626,11.571729,11.733558,11.56115,13.762347,13.029819,12.905777,13.568686,12.268504,11.049928,14.693021,13.649046,13.650748,13.9754305,11.654319,11.46279,12.91633,13.9672575,11.646822,14.393388,12.002634,12.713951,12.095242,13.380495,12.191699,11.983881,12.254788,11.07803,11.570517,12.8173,14.066617,11.549713,11.601415,12.48956,14.52796,12.953282,12.099604,11.740476,13.338569,11.663279,12.183719,13.691864,12.481,11.978564,12.710906,13.455016,14.132122,12.752723,11.560405,14.00466,14.76176,14.218709,11.116559,13.881923,13.351888,13.394726,13.160146,12.430323,11.722065,14.776987,14.514402,11.700075,12.935705,12.46082,13.160728,11.428952,11.553573,13.4616,13.008645,13.907738,13.28033,12.0968075,13.528183,12.095214,13.8476515,14.669764,11.543487,12.234563,13.556855,13.055125,12.245744,11.8473015,12.90394,13.004151,13.579721,12.962208,12.437812,13.928951,12.931486,12.13586,12.765148,14.547682,14.169308,13.070483,11.839085,13.008191,13.541656,13.432704,12.040912,12.920531,13.391875,13.771527,12.734371,13.6082325,14.109575,12.733602,11.4756155,13.232268,11.681629,12.297749,13.340294,12.869452,12.720184,12.1556635,12.780955,12.107942,13.830523,13.005657,12.964086,12.509311,12.6729355,12.960331,13.077592,14.076133,13.146923,14.102735,11.724056,11.802253,12.134703,12.852124,14.426726,14.400949,11.63402,12.401069,13.389528,11.973936,12.32359,12.0303755,13.011097,13.894028,14.40356,13.992555,12.0283,11.801657,11.987653,12.930114,12.398877,12.757267,11.9515085,11.907332,14.682173,12.03949,12.025117,12.404409,12.174386,14.29068,11.782498,13.747855,13.052639,11.682461,14.369122,13.410159,10.033535,12.689424,13.148972,12.565696,11.568485,12.512884,11.956183,12.507442,14.114757,14.734363,11.8307,14.54283,13.040026,11.627561,13.867694,13.255811,13.92115,14.574642,14.632794,12.045861,14.661911,11.99785,14.69259,12.033989,13.337074,11.715995,13.463262,13.844702,14.818433,14.659113,13.884968,11.080249,13.5883045,13.400706,13.463576,11.4775095,13.276543,13.388877,13.341368,11.878845,14.602834,12.047429,13.149804,12.893223,11.88896,13.043572,13.597143,11.924624,11.748266,12.658137,13.744865,11.698621,13.991556,13.435811,11.664963,12.612423,13.126536,13.022512,13.1672735,12.560327,12.814012,13.64534,12.043181,13.043449,14.214999,13.571944,12.348603,11.548314,13.45796,12.461828,11.704317,12.809184,13.540283,12.027431,14.5440445,11.860453,12.990381,13.548614,12.083308,13.7541,13.312357,13.130304,11.791959,12.474389,12.747108,13.073795,11.631077,13.51731,12.6318655,14.103898,12.511309,11.984384,13.906788,13.86491,11.53065,12.247973,14.406482,11.876847,12.463827,14.137198,13.953502,11.970711,13.847989,13.733566,11.966472,11.8407345,11.995914,13.40451,13.661699,12.541728,11.630173,13.658504,14.300608,12.757091,12.93854,12.220323,11.575669,13.002408,11.482138,11.858414,13.910519,11.7118025,14.658357,11.842001,13.4416685,12.82545,12.572398,14.385672,13.496947,13.400019,13.697953,14.330437,14.528915,14.783063,14.297093,12.038825,14.370628,12.874982,11.487237,13.953383,11.494443,11.419413,14.853849,12.465373,12.631056,12.312084,12.972139,12.270551,12.895461,12.895564,14.600782,11.938104,13.476099,13.379955,14.488702,14.20176,11.992837,11.541927,11.143601,12.002862,13.855871,11.478902,12.475165,14.206321,11.852101,13.819274,14.403872,11.491231,12.973288,11.6387,13.508522,11.924275,11.84297,14.10067,14.449031,12.322315,14.547931,11.449094,13.802777,11.69959,13.586082,13.394203,11.9390135,14.581497,12.147779,11.716999,14.136734,12.721366,13.058645,12.8398,11.542816,11.669159,13.835343,12.528269,12.177956,14.53409,14.134778,14.463796,13.429063,12.137147,12.848314,12.645902,11.844511,12.1253195,13.187387,12.693531,13.234076,13.712657,12.814377,12.201335,12.49,11.676578,11.6434355,13.2931385,14.508318,13.694318,12.841412,14.50891,11.919061,-1.8919349,14.001965,14.361584,14.821353,11.886946,11.985953,12.9205885,13.52713,12.763907,14.494764,12.682745,13.031895,12.941275,13.676821,14.023617,12.942191,11.970142,12.219568,14.03986,13.292487,12.554055,13.339466,12.742908,12.037036,13.602513,12.030925,14.09559,13.257977,11.63996,12.170055,12.7709255,12.486046,13.30547,12.457427,11.8022785,13.998598,11.967545,13.175697,12.038705,13.133461,12.580664,14.528323,11.5876875,13.987787,14.056794,10.271546,12.712525,12.8790655,12.811358,13.686789,13.612635,11.615951,11.6532545,14.399048,12.12575,13.1459255,12.083904,13.209466,13.944602,12.329069,14.0422945,11.578756,11.9749975,12.451402,13.241539,12.197929,11.8663845,11.805667,13.387028,12.656056,12.082869,13.3294115,14.073879,13.192033,13.83696,11.598841,13.271623,11.565182,13.902319,13.45789,13.049327,11.993641,11.465648,13.559614,13.455256,13.065341,11.998492,11.630205,13.444695,14.444927,11.4554,12.7681,12.765731,14.423181,12.012736,12.9221115,11.728043,13.654477,11.618618,14.727572,11.736731,11.929449,13.630598,14.591754,13.108363,12.682428,13.956335,14.048546,14.203494,14.586742,13.712654,13.657794,13.675818,12.52811,12.500098,13.489516,12.566485,13.425634,14.369563,13.053999,12.033813,12.372163,13.839109,11.569208,14.322568,14.239514,11.948744,13.63657],\"yaxis\":\"y\",\"type\":\"scattergl\"},{\"hovertemplate\":\"leiden=1\\u003cbr\\u003eUMAP-1=%{x}\\u003cbr\\u003eUMAP-2=%{y}\\u003cextra\\u003e\\u003c\\u002fextra\\u003e\",\"legendgroup\":\"1\",\"marker\":{\"color\":\"#E15F99\",\"symbol\":\"circle\",\"opacity\":1,\"size\":1.6691508100663226},\"mode\":\"markers\",\"name\":\"1\",\"showlegend\":true,\"x\":[-1.729265,-0.96855676,-1.4843967,-2.1935263,-1.5169116,-2.1862564,-2.1293576,-2.128083,-1.1604553,-1.7459311,-0.97794926,-1.8690534,-1.0749401,-0.81058705,-0.9616707,-2.372947,-1.1921283,-1.7368295,-2.0220723,-1.8399695,-1.709183,-2.1608555,-1.6623341,-2.3491032,-1.871287,-0.81471115,-1.6741275,-2.6951547,-2.592013,-1.3513211,-0.86243147,-1.924075,-1.5628189,-3.1437545,-0.9355184,-2.2529628,-2.3643038,-1.2926148,-1.3035737,-3.6304884,-2.0623467,-0.9608638,-2.7895522,-1.0220987,-2.5102677,-2.42531,-1.9894415,-2.143109,-2.1355863,-1.7385578,-1.6333313,-1.9379232,-1.3525062,-2.2776415,-0.90238726,-2.8515356,-0.92397183,-1.8428818,-3.0097985,-0.9890126,-1.8484825,-1.5914065,-1.6511463,-0.68761927,-1.9347388,-2.1960146,-2.2581296,-1.6271329,-2.57594,-3.1345792,-1.9991289,-2.77723,-1.2695901,-1.5538126,-2.398212,-0.61402386,-1.9634197,-1.9374206,-1.3739011,-3.3769872,-2.0091186,-0.9356862,-2.2700021,-1.6614763,-2.561051,-1.7167935,-0.68801,-1.871834,-3.5645192,-2.827669,-1.6674421,-2.471715,-2.2283614,-1.0158666,-1.4208232,-1.734555,-1.5975517,-1.1812427,-1.2278359,-1.6819978,-2.3379567,-1.4208901,-1.5178448,-2.1674795,-1.6728687,-1.4343481,-3.0345929,-0.5709652,-1.4744939,-3.6263793,-1.996423,-2.9149818,-1.9936905,-2.4920738,-2.9938238,-2.5089478,-1.1508467,-1.6038344,-3.3698804,-1.9366654,-3.8545449,-2.441207,-0.75508046,-1.4341254,-0.86259174,-1.918245,-2.0807045,-2.2486453,-3.2100291,-1.8649635,-1.1504431,-1.6515692,-1.2024305,-0.9629612,-2.2664866,-1.5964696,-3.099137,-0.8814507,-0.91747886,-1.0075624,-2.1292708,-3.364128,-1.5600737,-2.1904395,-2.4192128,-1.0833539,-1.9476506,-2.7208652,-2.685258,-1.6540763,-1.7106982,-1.8931751,-2.1764097,-1.9779257,-3.1158764,-3.8092477,-0.6316015,-2.059577,-1.9294177,-1.4255074,-3.2960942,-2.5439754,-2.3857222,-2.420794,-2.9188566,-1.5103462,-1.3003567,-2.3349895,-0.6123436,-2.022346,-1.7564018,-1.6564431,-1.1935468,-1.6895212,-0.9948517,-1.8205006,-2.8008244,-3.3232052,-3.0267186,-1.3709575,-1.0576952,-1.9547949,-3.7927046,-1.5646529,-0.993283,-2.044424,-3.7383907,-0.9971767,-1.8809996,-1.8904645,-2.1048315,-2.4236789,-1.2351903,-1.7657704,-2.3533258,-1.5020947,-3.5540314,-2.3279302,-2.035285,-2.8681445,-0.96010995,-1.1781759,-1.4652772,-1.4520707,-0.9800694,-1.3041549,-1.8549501,-1.0199424,-1.2496073,-2.7461011,-1.64627,-3.2365532,-1.8112931,-1.8702923,-1.8335543,-1.3767966,-2.5941434,-2.3828154,-1.7817646,-1.3617953,-2.2859802,-2.0600975,-2.3744252,-2.629248,-1.5297791,-2.8664901,-1.4844497,-2.0475886,-3.8415215,-1.6084707,-1.4741935,-1.2164301,-1.3949429,-1.9522635,-2.146106,-2.1991754,-2.5228417,-1.5444139,-1.4506134,-0.8497796,-1.0179908,-1.5365775,-2.1196592,-2.7777395,-1.3686138,-0.86335367,-3.6822212,-1.3513054,-0.82663375,-1.3190637,-1.8556206,-1.4786035,-2.9389555,-2.0620396,-1.3410542,-0.7288423,-2.693298,-2.7292762,-1.7619257,-1.5154436,-2.0047905,-1.5587808,-1.3147244,-1.7694507,-1.6462059,-0.94809365,-1.8153471,-1.1261791,-1.5946145,-2.6180012,-2.869596,-3.0258524,-2.3199553,-2.1793072,-2.2400758,-1.9888276,-2.096427,-0.69417936,-1.929353,-1.3037394,-1.5325693,-1.92817,-1.9100374,-3.6633139,-1.4406259,-1.5627327,-0.85945714,-3.6323066,-2.0120647,-1.3072217,-2.1873956,-2.1283262,-2.1613472,-1.2035229,-3.0196633,-1.756097,-1.9741266,-1.5175754,-0.95389664,-0.8807235,-0.86639714,-1.4113691,-1.6332297,-1.8839521,-1.1753991,-1.3221954,-1.4260277,-1.8884169,-2.1798027,-3.3473988,-1.7879701,-1.4353045,-2.4106798,-2.2231112,-2.3672125,-2.3368416,-3.1397197,-1.3458979,-2.226337,-1.3200132,-1.8252839,-2.1565259,-2.5170343,-1.3391607,-3.1855204,-2.2321992,-3.2022505,-1.563943,-1.4564135,-1.7925776,-1.91115,-2.0179074,-1.8326142,-2.211451,-1.8161107,-1.8827757,-1.0697547,-1.4054123,-2.715406,-2.0446873,-0.63526803,-0.84796655,-0.9204776,-1.1679419,-1.7249596,-1.2870781,-1.5431033,-1.8213081,-0.735597,-0.54173905,-0.99709684,-2.1408832,-3.0072696,-1.9727587,-1.4126914,-1.5492725,-2.175019,-1.09971,-3.0176995,-3.202592,-0.8765623,-1.8648192,-2.4965866,-2.2011697,-2.3101828,-0.7760919,-1.109911,-1.3292634,-1.0316466,-1.8618973,-1.754572,-1.276652,-0.6226476,-2.5828226,-2.2670877,-2.0508919,-2.0599313,-2.1232347,-1.245673,-2.1000192,-0.84325904,-1.4015485,-2.522227,-1.0812463,-1.4207938,-1.8858974,-1.6380019,-2.8698187,-2.621152,-2.1571686,-1.8278382,-1.5121087,-2.3017983,-2.7957528,-1.573832,-2.363484,-2.2034376,-3.4134252,-2.628683,-2.3493192,-2.4480934,-2.1236458,-1.2788239,-1.7989365,-2.0014105,-1.7940973,-2.1606338,-2.2631283,-3.2850564,-2.3735416,-1.3359447,-2.3915246,-2.939472,-0.57473,-1.7272552,-1.3412488,-1.2577007,-2.0396538,-1.0036888,-2.1447144,-3.1068556,-1.7283231,-0.8390368,-1.819819,-3.0018218,-1.9887917,-1.0185428,-2.7829225,-0.92069197,-1.2571905,-1.2418345,-0.82813364,-2.6829472,-0.8203591,-2.075348,-1.0569533,-1.9533433,-2.3245804,-3.0718017,-1.0346301,-1.9982916,-2.2415872,-1.6463499,-1.5603702,-1.3228309,-1.3564996,-1.4462767,-1.5074723,-2.382817,-1.7545112,-1.0554067,-2.7812543,-1.737794,-3.145425,-2.4319925,-0.8542987,-0.70119953,-3.017278,-2.3986614,-0.55655915,-2.5975835,-1.1086645,-2.9030516,-3.2404346,-2.828012,-1.227782,-2.0428724,-2.711431,-0.96196926,-0.47975,-1.9562644,-2.4264307,-1.490873,-2.9698877,-1.2792805,-0.63356656,-1.8348907,-1.6856227,-1.9447391,-2.2110271,-0.8006397,-1.8768727,-2.2928975,-2.2127743,-2.650725,-2.1078367,-0.9674162,-1.0781343,-1.7446738,-3.0120156,-3.0213373,-2.7010772,-0.9808402,-1.3368418,-1.3520291,-1.0386947,-0.8843574,-2.2789817,-1.102661,-1.6422554,-1.8437043,-0.82036626,-2.1156268,-2.2730877,-0.9059168,-2.3416772,-2.4297323,-2.723835,-2.1336503,-1.4751921,-2.026792,-3.0556188,-1.577512,-0.8451892,-2.0868077,-1.2929382,-1.9823536,-1.3125104,-1.7480961,-2.3037739,-2.2906296,-3.2052817,-1.5037432,-0.99007046,-2.4827814,-1.6276153,-0.6311501,-1.9800009,-2.2135315,-2.4212456,-0.8801227,-2.030187,-2.4151256,-2.4157028,-2.2076263,-2.0884182,-1.3597811,-1.8514317,-1.515263,-1.9189842,-2.3352516,-2.001087,-2.15057,-1.3790362,-2.036581,-1.5449214,-2.9403782,-1.3926843,-1.1139288,-1.5133559,-3.2207806,-1.9696919,-1.0074629,-2.4650984,-1.1954283,-1.931886,-2.9359198,-1.6902472,-1.5783552,-2.7104275,-2.2472243,-1.276751,-2.7813723,-1.6371942,-2.3443284,-1.3983752,-1.35512,-2.11549,-1.7321733,-1.6125721,-1.9109913,-2.7505271,-1.8891519,-1.6949717,-2.29366,-0.8396706,-2.2253714,-1.897096,-1.6751778,-1.9295553,-3.205632,-1.6540384,-2.6859186,-2.39978,-1.6035614,-2.9305332,-0.73599476,-0.89656484,-1.8360147,-2.0200691,-2.8239102,-3.2552383,-1.8569298,-2.1374328,-1.2940878,-2.1767037,-1.6087732,-3.0245137,-1.478101,-1.9200579,-2.2421637,-2.4685612,-1.8207521,-1.1514506,-2.1293395,-2.9126265,-3.243814,-1.1284118,-1.8974605,-1.0917001,-2.0895224,-2.1598473,-1.3017589,-0.82433826,-2.3229804,-2.283624,-1.8507694,-1.1520154,-2.1475122,-1.6531203,-2.0607228,-1.2100589,-2.312912,-2.2771084,-1.5162138,-0.96788996,-2.9780643,-3.1224678,-1.3403467,-1.2447565,-0.79391074,-1.5800325,-1.1130095,-1.7658043,-2.255592,-2.0187116,-2.0235696,-1.6478981,-2.166525,-1.4879134,-1.3886654,-2.645004,-2.1001494,-1.9421102,-1.4081079,-1.5433561,-1.0403557,-2.3512008,-0.89040077,-2.003507,-1.8977245,-0.6678734,-1.7110852,-2.82899,-1.3070649,-1.2561857,-1.6707476,-2.548325,-2.19992,-2.944455,-1.91654,-1.2991635,-1.2716277,-1.0902016,-0.96196896,-1.960234,-3.2012382,-2.8277953,-1.4005815,-1.7184504,-1.1735848,-2.923806,-1.8889802,-0.98826534,-2.0324013,-0.79726267,-1.7053497,-1.4894662,-0.65692973,-1.0960668,-1.7643415,-1.831078,-2.4689538,-1.1494778,-1.9912504,-3.0687594,-2.147252,-1.132313,-1.1341332,-1.9977261,-1.797211,-2.6386235,-2.8202379,-1.4173279,-2.0939686,-2.714281,-1.3907081,-2.2646372,-3.3832843,-2.0594976,-2.9136338,-2.3110096,-1.6918281,-2.1971753,-1.8052857,-2.7959478,-2.9081042,-0.8359444,-2.9858105,-1.3340676,-2.356046,-3.0248888,-1.7783908,-1.5635046,-2.7861588,-0.9407275,-2.472113,-2.6798685,-1.6156956,-1.7942829,-1.5164537,-2.881361,-1.7466596,-2.4778416,-3.186903,-1.9987661,-1.5177864,-1.1011082,-2.4729302,-1.5292716,-1.325806,-2.3196952,-1.2979113,-2.123514,-2.9973292,-2.8676558,-1.4276068,-1.677233,-2.3528147,-2.1791968,-2.3042789,-2.9183755,-1.0151874,-2.7491438,-2.1831586,-2.1658337,-1.0875849,-1.7766037,-1.5489097,-1.6489013,-1.7049295,-1.2310843,-2.2471247,-2.9128199,-2.2348132,-1.5486931,-1.9009613,-0.8876613,-1.3471756,-1.3959976,-3.0923553,-2.09487,-2.39314,-2.6777918,-1.5072743,-0.9699718,-1.967682,-2.1712177,-3.1756105,-1.3465315,-1.0416857,-2.1091247,-2.3706036,-1.2332175,-1.5313807,-2.968338,-1.2291366,-0.95669574,-1.6828258,-1.7890307,-0.53270036,-1.908529,-3.2261138,-1.1273978,-1.5934769,-2.3187115,-1.2205585,-1.3272815,-2.4723942,-1.9504976,-2.9339337,-2.830748,-1.3085457,-2.5252256,-3.558846,-1.5864067,-2.7352004,-1.8820131,-1.4868449,-1.1124833,-1.0687306,-1.19222,-2.9250646,-2.153907,-1.6099437,-2.4124262,-1.565757,-1.9795591,-0.8160003,-2.1601243,-2.513598,-2.3663363,-2.0335474,-1.3752805,-1.0084034,-1.3293698,-2.6207738,-2.2464683,-1.7279971,-1.435386,-1.6313951,-0.6237833,-1.7868055,-0.9145984,-2.1505108,-1.7897226,-1.5484502,-1.366095,-1.5044031,-3.7169688,-3.6148362,-1.7110798,-1.330118,-2.4723847,-2.4123938,-1.250818,-1.9974991,-3.007151,-2.0048842,-2.4104464,-2.3839083,-1.2062119,-0.90796524,-2.1035724,-1.516915,-2.8164837,-3.1700897,-1.8292183,-2.089594,-1.3956462,-2.0571136,-3.3638887,-2.5741575,-1.0191703,-2.067769,-1.7068702,-2.9165156,-2.9066675,-1.5345575,-1.4575864,-1.8795823,-2.1474335,-2.1318638,-1.4125837,-2.5529737,-3.2485428,-2.1158047,-1.185792,-0.88892317,-2.4567337,-0.9514639,-1.7358234,-2.129222,-1.5670261,-3.0781238,-3.0404515,-2.2693126,-1.9911586,-1.5861044,-2.4806335,-1.9143227,-2.5559602,-1.6810567,-1.743005,-2.084702,-1.3254888,-1.5692384,-1.8234029,-0.54857296,-2.1817954,-1.2883708,-1.7482202,-1.3824404,-1.3235168,-2.3321528,-1.0296172,-0.74502414,-1.3466384,-2.4612882,-3.3491817,-0.92405254,-2.8526242,-2.3738759,-1.1253031,-2.5000196,-3.3262043,-0.96151614,-3.1488454,-1.317876,-2.6433015,-2.1619322,-1.9210835,-2.3333395,-2.115059,-0.9654832,-1.6652411,-3.3538406,-2.079679,-3.4228017,-2.5890486,-1.630974,-1.6354643,-3.0356798,-0.67501223,-1.5064502,-1.6864046,-1.0825324,-2.711661,-1.0293026,-1.4312567,-2.9661624,-2.0203218,-3.4575615,-3.1177597,-1.8798465,-1.7366686,-1.9514885,-1.2665647,-0.886411,-1.2485205,-2.4058166,-1.3509922,-3.005033,-2.8696244,-1.3525313,-1.1896975,-2.8206491,-1.337558,-2.1089947,-2.190478,8.921855,-0.6768948,-0.80242914,-3.3749044,-2.066598,-2.0751748,-1.3184379,-1.9749202,-2.3704705,-1.1288297,-1.9399683,-1.7171559,-2.947267,-3.2202313,-2.801052,-0.978751,-2.3540843,-2.1561015,-1.2534727,-3.5022812,-1.3723749,-1.8927467,-1.5038594,-2.1716273,-2.0748553,-1.1807507,-1.3745222,-1.9492806,-1.5170101,-1.617488,-3.0066564,-2.068683,-2.3721833,-2.4219298,-2.7031653,-0.80401903,-1.0711687,-2.7205667,-1.8409481,-1.4581136,-1.872251,-1.7602599,-1.3589828,-2.1093013,-1.8418604,-1.0007682,-1.505271,-1.6594114,-1.811962,-3.0686927,-1.5541005,-1.3989261],\"xaxis\":\"x\",\"y\":[10.962729,12.541494,14.586372,11.78481,11.625094,12.896975,13.679474,13.610134,11.613199,9.825847,13.246848,13.239953,12.115848,12.008829,11.763744,12.90852,12.810002,13.657274,12.310304,12.016895,13.715163,11.680062,11.029983,10.83255,12.833636,12.621872,12.650644,12.47648,13.097397,13.223308,12.111626,11.522231,10.413361,13.251589,13.066976,13.893896,13.563955,12.029052,9.786633,11.18872,10.870105,13.333646,11.38495,12.950103,13.1993885,12.273204,11.389202,13.431156,12.9718075,9.514137,14.364156,14.147246,13.764933,11.244003,12.08304,12.770232,11.901425,12.278461,11.876053,13.261294,13.00023,12.130164,12.615822,11.94745,13.210409,13.40453,11.604166,11.363767,12.211909,12.414185,12.886264,12.392615,11.301456,12.844668,13.2744,12.039065,12.8129635,13.120865,13.701747,11.756455,13.145916,12.024251,12.506224,12.949837,13.114463,11.571603,11.932625,13.657757,11.4300585,13.380486,9.922729,13.191688,14.178437,13.389079,9.988928,12.815198,13.714639,13.225555,12.090353,13.297357,13.146271,9.908685,12.784829,10.6734705,9.422258,13.348047,12.431466,11.825671,9.917716,11.245187,13.02027,13.166652,14.084971,11.855535,12.077204,13.348605,13.8235445,12.034893,11.886175,13.2014475,10.871276,13.739387,12.63421,13.344261,11.967499,11.423272,13.22738,11.2220745,12.028733,13.25615,13.16454,13.789446,13.133827,12.250124,12.362297,13.119611,12.144417,12.233303,12.06115,12.606086,12.632535,12.387463,12.00314,11.867315,12.871178,11.963204,11.78415,11.635437,13.290812,12.63979,12.319055,10.012712,12.220541,11.792009,12.57373,11.028212,11.848588,11.954876,13.503842,9.560667,12.232041,13.391022,11.564504,13.107991,13.235381,11.486037,12.196889,11.897483,11.8899,9.788347,13.771123,11.326962,13.410976,13.866317,12.833269,13.136386,12.290541,11.656482,12.892968,13.639748,12.490037,10.991007,10.993887,12.916443,13.120981,10.765312,11.091445,12.887958,13.006332,11.3482,10.682024,12.710735,11.914709,9.972264,13.187925,9.483968,11.432946,13.133909,11.584365,13.240305,12.441121,12.954011,11.829141,10.814726,12.5733795,14.372531,13.6026125,13.024529,13.399096,11.349826,11.094069,11.333947,12.487843,9.243306,14.046748,10.007184,11.904507,11.20688,11.067621,11.96009,13.479235,11.174612,11.629296,13.078567,13.44699,13.191536,11.198057,11.687087,11.286211,12.83734,11.6987505,10.080582,13.395011,11.937639,13.752597,12.797211,12.350885,11.32445,11.146101,12.659276,11.894319,11.249976,11.799122,13.3175535,11.787415,12.367424,11.266708,9.726179,12.248977,12.659884,12.121467,12.484637,11.713682,13.390971,9.697041,12.496519,12.101404,11.96332,10.306301,12.461535,13.448256,12.966658,9.604062,12.886326,12.883112,11.469244,10.962854,13.115367,12.610786,13.619035,13.573279,13.748443,11.227605,12.693633,12.455194,13.568378,12.516004,12.575776,10.758113,11.821446,9.71866,11.38259,13.947619,11.171759,12.861185,12.157174,12.499021,11.291878,11.037867,9.864456,11.790848,11.985741,11.725388,10.524601,12.313573,11.944706,12.311682,9.9258585,12.0163,12.764259,12.455377,9.983464,12.882864,11.884503,12.092976,9.739287,11.771648,10.392757,11.756115,11.269076,12.188951,12.654168,12.751443,11.640443,13.360629,13.724123,12.869315,9.98609,13.274166,9.652626,13.614274,13.663268,11.14457,9.884578,11.999872,11.708501,12.233734,13.119127,12.00514,9.482028,11.327057,13.416758,9.793351,13.652192,13.107834,12.817838,13.172002,12.711302,13.552105,11.74165,12.120372,12.937486,13.373319,12.953112,12.56794,14.138255,12.636969,9.890344,12.204892,11.843243,12.954041,13.698964,11.80864,11.852966,13.430181,12.158718,13.795422,12.757747,12.111211,12.699033,11.822894,10.435835,11.400063,11.419604,13.788007,12.633871,11.91888,9.980285,13.4973,12.7627535,11.297185,9.85259,12.054563,12.506783,11.465663,10.285279,12.040522,12.460553,9.9413805,10.313816,11.812012,9.747399,12.114035,13.452899,9.525525,11.968266,11.609594,12.975721,12.165801,12.9582615,9.472581,13.3593855,12.23494,13.118004,12.818992,14.432636,13.73771,11.608011,13.166946,14.642085,13.596363,12.840902,10.722356,12.753632,12.763384,10.169339,13.615395,12.997007,11.514583,12.995916,9.687524,13.3760195,12.300489,11.78676,11.549881,9.942018,9.57814,11.185587,13.473428,13.483541,12.730931,13.964383,12.184734,12.105408,11.679577,11.816692,12.35729,13.07184,11.913696,11.021549,12.99492,12.848726,13.319805,12.175694,12.583737,12.916804,13.629775,11.048687,12.199236,13.555261,10.286446,12.894271,11.449338,13.564224,9.860409,10.10864,12.151934,11.734275,13.96596,12.025473,12.627837,12.099082,12.599451,12.404891,13.109376,11.511927,12.188537,12.986011,12.205783,11.82864,12.953782,12.77815,12.455176,12.051045,13.461946,13.0758,13.571595,11.270961,13.198203,11.963536,13.178106,13.985581,9.990264,12.510494,10.982116,12.001074,10.690087,12.457423,11.004923,13.475631,11.992621,13.137535,12.054336,12.793858,11.082663,10.560598,12.295457,12.906596,14.150578,13.336715,12.455597,11.50558,12.690816,11.811043,9.578448,13.604635,13.169159,13.338572,13.394489,10.889538,11.090754,12.171462,10.358428,13.097511,13.247222,12.481201,12.396949,12.189241,13.491329,11.798276,11.505913,12.500627,12.518201,12.461908,13.814317,9.885164,9.374052,11.193561,9.787647,13.27314,10.779736,11.879719,12.123905,12.367686,13.199862,9.650224,11.941069,13.173628,13.257663,13.537573,12.300465,13.002798,13.821037,13.008224,11.52385,11.522232,12.281114,12.765366,13.021489,10.6062565,11.032694,13.239426,11.446365,11.044305,11.202197,13.316864,11.899658,11.979953,11.448489,12.845594,11.637039,10.049704,13.529654,10.9445505,11.939258,11.451258,13.259321,11.842547,13.66657,13.26592,10.484737,13.550821,11.402218,13.363171,11.643625,10.043566,11.077414,11.698159,11.600006,12.246879,13.5163765,12.165188,13.352837,12.818363,13.829578,11.853634,12.942452,11.174316,11.872077,12.623707,12.89659,12.03243,12.627924,12.793465,11.9077015,13.476352,12.912403,11.702035,12.660041,10.711521,11.905635,11.969241,10.160513,13.396688,9.826503,12.913109,11.193438,12.655204,10.296771,14.003743,11.678648,13.48919,9.941059,12.001488,12.9039345,13.573309,11.992605,12.314411,10.4022255,12.824029,13.333411,10.385506,11.722676,12.943969,11.010579,14.386678,11.374165,13.019596,12.777654,11.676032,11.6584215,11.9828005,12.771624,13.676981,12.616209,12.319195,13.480145,11.81323,13.178058,12.884893,11.656553,12.472001,12.384662,11.477701,12.26298,14.132894,11.401207,11.9794855,10.450402,14.280642,14.437645,11.9669485,12.103571,9.614901,13.231353,10.987077,13.538881,12.724105,13.009394,12.564875,10.240225,12.529567,10.750441,11.684209,12.921572,13.144824,9.850074,12.172227,11.7290945,12.053733,13.083522,11.029465,13.304815,12.248648,13.525101,10.227588,11.384952,13.457019,9.948164,12.329951,12.320917,12.003652,11.414216,12.267835,12.859854,11.874678,13.151934,13.72029,11.918527,13.415413,12.7888775,12.090809,12.310946,12.411917,11.688285,12.940386,11.441422,12.874275,12.084552,11.284244,13.93257,13.087276,11.727692,12.687358,10.827335,13.598809,11.997818,12.378371,12.262336,10.779521,13.304813,12.0533085,14.3734865,13.024775,13.424726,12.964212,12.742358,12.736165,11.618584,13.106227,13.5529375,12.590221,13.038202,11.865511,11.3778715,11.928714,13.261313,11.313195,9.817613,10.318044,10.195016,12.024128,13.8361435,12.764109,11.639715,13.217555,10.056019,12.699947,12.734468,9.376868,12.2031145,13.7913475,11.854361,12.706647,13.35585,11.678249,12.373788,11.814838,13.022669,11.800744,13.303366,11.770969,12.698285,11.295513,13.73241,12.729799,12.011503,11.325657,13.331554,12.149055,11.132354,12.0941305,13.230042,12.844551,13.44399,9.903189,10.281441,13.341005,11.821821,13.6010275,11.918561,12.013449,12.439641,12.907582,13.561712,11.456723,11.988137,12.889079,11.765011,9.555994,12.353598,13.836497,13.885781,10.061236,11.13969,12.4951315,10.282593,11.734656,9.62294,12.229125,11.818178,12.016342,12.741597,13.624589,11.730291,13.555419,13.045353,14.201266,13.1328125,11.256459,12.007765,12.671733,11.092457,11.314838,11.45275,11.789271,12.206889,10.471216,13.391956,12.688652,11.866258,11.761335,12.243871,11.662166,13.08151,13.071019,10.946684,13.742175,12.717559,13.840655,10.878423,14.093842,12.658492,13.142167,12.049314,13.198043,13.131235,13.548927,12.674369,9.645863,12.368124,11.940097,11.589444,12.404995,10.681467,12.733838,13.824679,12.343396,9.571374,11.196279,11.282612,11.903657,13.748754,14.496035,12.870537,12.402341,12.960567,13.461997,11.290792,13.720708,12.104337,12.309726,12.320135,13.252273,11.78535,12.029744,12.980292,13.11005,12.824792,12.338115,12.016938,12.332195,12.199742,11.932148,13.229918,13.241673,12.022558,12.583982,13.542484,13.18218,13.145402,11.712699,13.53105,11.115031,11.952881,12.491356,13.358728,11.986953,13.074745,13.550803,12.476949,13.677486,12.434026,9.866476,13.384955,13.040727,13.623097,13.664818,12.759171,12.264973,12.29417,12.174992,13.223713,10.250596,11.202867,9.944348,12.895158,9.994233,11.970348,10.969613,12.454128,9.518031,12.359787,10.912065,12.495887,11.825351,11.798421,13.248697,11.203732,11.248167,11.710587,12.865635,9.69029,12.456307,11.912521,11.511922,11.557533,12.645872,14.366828,13.235537,11.098111,12.409674,13.867918,10.741946,11.976565,13.017522,11.668967,12.442577,11.459805,12.017229,11.978775,12.669782,11.723911,12.577574,13.333996,11.018592,11.391082,11.343529,11.687964,14.30931,11.52964,13.178203,11.225276,12.329098,13.33092,9.264371,10.052607,9.674986,12.362542,12.674323,13.164068,13.104349,13.350641,13.383023,9.594075,12.222662,13.777546,12.252172,11.5475235,11.409218,6.5203915,12.115316,13.07935,12.003247,13.650752,13.688864,10.11618,12.041944,10.853173,13.111009,12.435853,12.081126,15.125825,11.606218,12.269723,12.462293,12.75433,13.797745,9.862191,11.315064,11.14151,13.630737,12.940772,11.014296,13.324877,11.776276,13.079756,11.957227,11.16083,12.261335,13.571127,13.4561825,13.582245,13.016637,12.022789,12.541243,12.364842,13.349132,10.803074,10.8991995,10.629052,11.15791,13.617372,13.752334,13.240772,11.817327,12.85111,9.927226,10.80744,11.633179,12.732245,11.587453],\"yaxis\":\"y\",\"type\":\"scattergl\"},{\"hovertemplate\":\"leiden=2\\u003cbr\\u003eUMAP-1=%{x}\\u003cbr\\u003eUMAP-2=%{y}\\u003cextra\\u003e\\u003c\\u002fextra\\u003e\",\"legendgroup\":\"2\",\"marker\":{\"color\":\"#1CA71C\",\"symbol\":\"circle\",\"opacity\":1,\"size\":1.6691508100663226},\"mode\":\"markers\",\"name\":\"2\",\"showlegend\":true,\"x\":[-4.3908563,-3.9650438,-1.7846282,-4.363124,-3.0839643,-3.4715614,-4.042512,-5.081845,-3.4558284,-4.4270525,-4.219726,-3.5848234,-1.7640603,-2.7167723,-5.409591,-4.3436875,-4.0860324,-2.5979738,-4.322017,-2.243381,-3.8651242,-4.8562956,-3.4506025,-1.9635339,-3.4476814,-3.6297631,-2.9400363,-3.3499918,-3.613924,-5.041403,-4.8204165,-5.033642,-3.4615197,-2.8755033,-2.7924323,-4.829801,-2.6529472,-4.0577493,-2.4472353,-4.1451735,-4.5842795,-4.027896,-5.1966414,-3.48316,-2.2673423,-3.2265043,-4.2227244,-3.573177,-2.1771493,-3.5390303,-2.392154,-3.6198003,-3.9883878,-2.0097675,-3.2541125,-5.149232,-3.677368,-1.8690785,-5.2663794,-4.234432,-4.6157985,-4.1339664,-3.0232108,-2.2027972,-3.1575997,-4.0695314,-3.3477736,-2.4014862,-2.872841,-3.5163634,-5.1160803,-4.1742806,-3.6531246,-3.5806046,-3.5044572,-4.975777,-3.6058433,-3.370939,-2.7930913,-3.7711797,-2.93424,-3.481015,-2.3586974,-5.0169554,-3.393384,-3.6669307,-1.6821074,-2.166846,-3.0865526,-2.269421,-3.7206557,-4.3834543,-3.6304264,-4.058882,-4.6843057,-2.7563508,-4.214629,-2.7325947,-4.99305,-4.774164,-4.5940275,-3.075198,-3.2415974,-4.755778,-5.168407,-3.6697648,-1.7822074,-4.2721567,-2.8781214,-2.4716787,-5.37475,-4.321437,-4.960087,-4.6664157,-3.0326447,-2.4419656,-5.1338363,-3.3200355,-3.7616467,-4.643776,-2.9613016,-2.8447855,-1.8064668,-4.641978,-4.8707476,-2.985266,-5.0683956,-3.6846669,-4.0399604,-3.5424328,-5.2536087,-3.3866909,-5.2446957,-4.403191,-4.103178,-1.8298105,-2.5201693,-5.044368,-4.2962914,-3.5959623,-3.9691963,-2.7488291,-2.1532698,-4.998419,-4.781157,-4.3695226,-3.7020824,-3.7483082,-3.8899996,-3.4933207,-4.2703266,-5.2367764,-2.8215497,-3.8539722,-3.436899,-4.5983186,-3.4044855,-3.1368158,-2.4527044,-5.046931,-2.9266274,-2.7690425,-4.6331487,-2.8507519,-2.7165692,-2.9996328,-3.4461174,-4.3878984,-2.9340856,-5.088733,-4.707668,-2.6085892,-5.1226635,-3.5272553,-5.075574,-5.343,-4.7719927,-5.0053167,-3.2764359,-3.8028357,-2.8709638,-3.933171,-4.357114,-2.7270625,-5.047263,-5.0843334,-3.5406027,-3.6273453,-3.507349,-2.3843954,-3.6847575,-3.7229104,-2.897218,-4.945084,-5.018527,-4.592071,-2.6006176,-3.3864079,-4.1579475,-2.4054635,-5.3000355,-3.9241064,-5.4133306,-4.1967087,-2.787078,-4.475608,-4.9778395,-2.6610074,-5.016824,-3.7910168,-4.617252,-4.8551655,-2.1183007,-2.3447855,-3.575426,-5.132154,-3.6184466,-2.311789,-2.3299205,-4.78926,-5.054313,-2.6810257,-4.747618,-3.5392559,-4.3413014,-4.371068,-3.4843714,-4.124549,-3.5756915,-2.6618135,-4.4348454,-4.175122,-4.8913226,-3.5993285,-3.9268157,-5.091593,-1.9201592,-5.3829274,-3.9663513,-1.9923785,-3.1949246,-5.1028743,-4.121871,-2.6156964,-4.529495,-4.065064,-1.4134885,-2.736332,-4.675197,-3.845625,-4.574779,-2.9891186,-2.788277,-2.679357,-4.741737,-2.6739967,-2.632544,-2.834929,-4.2445416,-4.3462214,-4.9673605,-1.8150376,-4.8729877,-3.2846081,-1.8843995,-3.8402572,-2.325501,-1.9903197,-2.7436595,-4.527087,-4.866118,-5.066434,-3.4506571,-4.273438,-2.006079,-4.2509146,-4.8193245,-3.5766904,-4.8217626,-3.1586027,-5.0890675,-5.2649517,-4.6817784,-2.7658496,-4.984709,-2.2136152,-4.1381316,-2.548494,-3.6456852,-4.670069,-5.314027,-5.0699086,-4.0390964,-2.3831847,-5.363124,-4.6664143,-3.5765626,-3.487146,-5.440004,-2.3683395,-3.8634748,-3.8080971,-2.98492,-5.1070914,-4.338563,-2.8654704,-4.1415443,-3.6672916,-3.4815178,-3.5252364,-5.0472503,-2.3384314,-1.9480793,-3.0905938,-2.7910178,-3.5414834,-4.886581,-3.752185,-3.9182065,-4.9735746,-5.028122,-3.9490924,-4.0979238,-5.089152,-3.7815893,-4.9300094,-3.2554746,-3.449934,-5.41951,-2.7089267,-3.5109532,-3.267025,-2.610652,-4.0670686,-5.2264023,-5.2447853,-2.8895128,-3.1893568,-3.6224685,-5.135551,-3.7811294,-5.205591,-4.366133,-1.8628556,-2.8538752,-3.1401808,-4.769854,-3.2230825,-2.9708822,-3.2516935,-3.291497,-3.2388756,-4.590741,-4.782194,-3.3270745,-2.6387246,-3.6572049,-4.3443437,-2.343765,-3.7535954,-2.6127877,-2.8578568,-3.6007102,-2.8257697,-4.2900877,-2.9443662,-3.2241678,-4.0857196,-5.0366607,-1.9653872,-4.0114837,-4.888994,-2.8274105,-4.635829,-3.59483,-5.089427,-4.9113183,-2.9148657,-4.4333663,-5.18251,-2.8564308,-2.2402442,-1.7778847,-1.7236618,-2.2991872,-4.2234945,-3.8385983,-2.670133,-2.721908,-2.4529393,-3.2518258,-4.360837,-4.8196015,-3.5781069,-4.5153112,-3.1688673,-1.9741645,-4.9039803,-2.2479005,-4.3334107,-1.8257186,-4.0615973,-3.4994657,-3.4234753,-3.2863963,-3.6126566,-5.2394443,-3.8829303,-4.5081987,-3.8080082,-4.846834,-3.677012,-2.3301234,-3.9651322,-4.9349365,-2.5990117,-2.607097,-3.0762048,-3.014087,-3.6624792,-2.7900097,-4.0883136,-5.276668,-2.6953664,-5.1225896,-5.1908283,-2.9363027,-5.329646,-3.2905211,-4.8925214,-4.8954363,-1.6974212,-4.350086,-4.60656,-3.4070513,-4.0877256,-4.3299694,-2.4197254,-1.6489033,-2.3280997,-3.0324368,-5.040244,-2.7904959,-1.8146428,-3.5048566,-2.076328,-2.8448045,-3.816794,-3.3720865,-3.801226,-2.7597413,-2.1291144,-2.7329245,-4.881613,-3.5726182,-2.8546937,-3.4767962,-2.8732684,-2.8142965,-3.84358,-3.528253,-2.8484745,-4.8023024,-2.7692583,-2.3455288,-3.4281993,-2.9596858,-3.7050855,-2.2737842,-4.331149,-3.164964,-2.4512846,-1.5701556,-2.2835126,-3.6949623,-2.0456161,-2.7659414,-3.4410613,-4.685141,-4.1645308,-5.085927,-2.1968384,-3.84636,-3.9929123,-3.6444468,-2.892414,-4.244549,-4.072765,-5.318377,-2.5492847,-3.9110885,-3.34068,-2.843958,-3.2900465,-3.3401117,-4.2796206,-4.200736,-2.9841144,-3.2249553,-5.1173368,-2.7429187,-4.5496497,-3.896945,-5.1349916,-1.6921979,-3.472069,-3.0282154,-4.2646127,-5.071587,-3.1508636,-3.0842395,-3.180725,-3.1560025,-2.8009846,-4.8257694,-5.1531367,-3.5776443,-3.582811,-2.2412288,-5.0550117,-2.478105,-3.2890203,-4.141919,-4.8903437,-4.7919765,-2.4435039,-2.8990567,-4.766755,-3.9915855,-2.8919168,-3.9594233,-4.9647098,-4.736461,-3.7664948,-3.2390597,-2.7679942,-2.119912,-5.32876,-5.0802093,-3.9312165,-3.7173274,-4.2207108,-1.8926303,-2.0897279,-5.095752,-2.766308,-2.3432033,-4.521588,-3.492444,-2.9648592,-3.84789,-2.005659,-3.8262177,-4.029627,-4.9841814,-3.1870618,-2.844486,-4.0392923,-4.9023232,-3.033586,-2.9950922,-3.1729734,-4.194319,-4.004239,-3.9790037,-3.9108615,-2.1927457,-3.70587,-2.9108765,-2.3507993,-4.863812,-3.6571784,-4.9193373,-4.209069,-5.2098875,-3.5439713,-3.2797482,-5.2391076,-2.3581405,-4.949002,-4.5598907,-2.828264,-5.3030324,-2.7035768,-3.3580787,-3.1809757,-3.9982805,-4.581345,-3.0261953,-3.6399548,-5.289917,-3.9077618,-3.2339408,-5.2004457,-4.7104015,-5.1691456,-5.1049504,-3.3505578,-2.3616576,-4.9217644,-3.1092956,-4.0232954,-3.3245375,-4.097725,-3.5597904,-4.0725803,-2.9674199,-4.9881315,-5.2627206,-3.6701744,-2.4819782,-3.277456,-3.5095935,-2.210283,-5.285963,-4.432738,-5.1029434,-4.939513,-5.1216383,-1.730213,-2.9893734,-4.2208543,-2.3413374,-2.9504306,-3.3928618,-3.2876966,-3.102356,-3.0768478,-1.7867626,-3.614836,-4.700535,-3.0194035,-2.5198603,-4.5106416,-3.392498,-5.0963902,-5.0658884,-4.2031274,-5.07698,-2.668624,-4.921247,-3.7199242,-4.0854235,-3.432357,-3.8681736,-4.1192737,-1.7809541,-2.3949597,-3.2125106,-3.6702583,-5.087643,-3.3589394,-3.9801822,-1.6459305,-5.1584935,-3.5839236,-2.73446,-5.115638,-5.1251817,-2.0106514,-5.3423886,-4.9375706,-5.2498097,-2.5471559,-4.56752,-3.1825316,-4.9854226,-4.775151,-1.7821437,-4.3779345,-4.726969,-4.968417,-3.7749634,-2.5544956,-4.1961956,-2.9583879,-3.3876395,-2.6522052,-4.682108,-5.102566,-2.2345512,-2.6582456,-4.221341,-3.2016819,-3.7266545,-3.802312,-5.160761,-3.9097657,-3.1423323,-3.9554744,-2.7108643,-2.9790623,-4.143959,-2.3125312,-4.199904,-2.3878534,-3.3027663,-4.90011,-3.1153228,-2.511526,-2.3714027,-4.0713224,-4.680853,-3.573974,-2.4731112,-1.8313961,-3.669247,-4.922125,-4.4356985,-5.0543904,-3.5673263,-3.6134467,-2.6390235,-3.688411,-4.156287,-2.2556489,-2.520627,-5.165476,-3.616156,-3.5858128,-3.0984652,-3.8101165,-3.5007646,-4.4322166,-4.944428,-4.181007,-5.389064,-2.2255456,-3.1359572,-4.2252555,-1.9561275,-3.3821082,-5.289459,-2.6039348,-4.1285467,-4.1681185,-3.6923733,-4.6649547,-4.337226,-2.705957,-2.2972858,-5.1173396,-3.1685317,-2.6191325,-4.8427405,-4.0914474,-2.6470213,-5.098049,-2.252467,-3.4261034,-5.367413,-3.9194667,-3.8060362,-3.50438,-3.5510633,-4.968683,-4.316587,-2.9419298,-3.3958693,-4.1153493,-1.765775,-1.9591985,-4.0818815,-4.705493,-2.582376,-5.118044,-4.2301345,-3.8440816,-4.0100393,-4.9069924,-1.4516354,-3.110289,-2.831792,-2.6310043,-2.5791397,-3.2949922,-5.2452917,-3.7432714,-4.1973,-4.7610955,-3.6527903,-3.9984863,-5.410171,-3.898838,-2.876758,-3.9583483,-4.0678997,-2.3101733,-2.665877,-4.2573185,-2.8285418,-2.9220977,-3.793756,-4.0205555,-3.7093523,-2.1609643,-4.1504536,-3.8624349,-4.285906,-5.3970804,-5.181984,-2.809581,-2.7028913,-4.542496,-2.6553838,-4.051874,-3.5775428,-3.4466398,-4.870995,-5.2221484,-4.4151645,-4.129473,-5.2309756,-3.2180893,-3.782725,-3.5061324,-4.2695518,-2.882796,-3.9394755,-5.4768085,-5.388457,-4.177734,-2.8589892,-2.8159432,-2.817355,-4.987079,-4.6067185,-4.978454,-3.7166295,-5.018217,-2.6202145,-3.5093708,-2.527093,-3.484104,-4.5464497,-4.3126526,-3.1663468,-2.2088442,-3.638216,-4.1209908,-4.1748624,-5.4083467,-4.559683,-1.7871552,-3.4733412,-3.1925678,-4.0793834,-2.5157049,-2.6002004,-1.771693,-2.6485386,-4.8261847,-4.073126,-3.526111,-3.997182,-2.6754985,-3.887452,-5.1113534,-2.7795885,-4.480928,-4.905689,-3.366604,-2.9043279,-2.8425248,-2.4021635,-3.2020454,-3.256805,-4.0844398,-2.5814595,-4.1600204,-2.787488,-1.7446382,-4.1103964,-4.3222547,-1.7816048,-3.5760005,-3.348116,-1.7743844,-2.6216486,-4.107531,-4.1186943,-2.960893,-2.9397235,-5.0765686,-2.455428,-2.4065387,-3.803453,-4.924242,-5.2585626,-3.9891703,-4.0185246,-2.2224848,-1.5828235,-2.1667974,-3.8779328,-3.6991534,-3.4607432,-1.9485043,-3.5930622,-3.571788,-2.0300612,-4.598585,-2.7848375,-5.079176,-3.5591445,-4.4624248,-3.5486903,-3.9225805,-4.9626603,-3.7574472,-3.9115486,-4.8998413,-2.5214732,-3.7658598,-4.8285794,-5.109203,-3.0712936,-4.946385,-4.489281,-4.432111,-4.165029,-5.363162,-3.6193016,-1.7742462,-2.5158207,-5.2403812,-3.3203442,-3.35797,-3.8170187,-5.1773443,-4.554781,-2.933682,-4.3536544,-5.10806,-4.6975946,-3.898442,-4.485307,-4.3396025,-5.080691,-3.2547858,-5.04289,-3.8212047,-2.9634717,-2.208733,-3.473371,-2.2785976,-4.309282,-2.4785695,-3.9030552,-4.1821637,-4.5484676,-3.480868,-5.0558357,-2.0212235,-4.1952,-3.4743414,-2.1677868,-5.258919,-3.6687973,-4.76409,-2.27697,-4.430274,-4.4238157,-5.418015,-2.6738024,-2.423603,-3.1311207,-4.382468,-3.1369126,-2.1259496,-3.0286489,-5.186653,-4.083845,-3.7901638,-3.2577207,-3.2330618,-4.972708,-2.9615502,-2.7736664,-4.4563055,-1.9802773,-2.3226802,-5.132155,-3.2083867],\"xaxis\":\"x\",\"y\":[7.2516966,6.9960413,3.3136513,7.1984806,7.53309,6.646152,6.5528064,5.991489,5.1923137,5.574545,5.1204815,5.7366858,3.3233593,4.2974896,5.7985845,5.7542477,6.9595833,4.480674,7.563609,5.580825,6.288065,6.251986,5.969973,3.4802012,6.401281,7.494376,4.430004,8.396903,5.9855347,7.288996,5.926606,6.6430817,7.0540953,4.4838195,6.3225284,5.940019,5.920803,6.7781096,8.657231,5.0743494,5.7425313,6.352972,6.881771,7.2996707,5.5485044,6.3197436,5.1025534,5.3451724,5.4808607,6.850423,4.414609,5.6998854,6.538583,9.070391,6.145835,6.313573,5.9866915,3.397448,6.4567523,7.349589,7.11058,5.040649,5.336013,5.1970015,5.567399,8.072788,5.849363,7.0170503,6.391969,5.564352,7.184581,6.2440834,5.738615,7.495803,5.707957,6.5708184,5.2465897,5.4347587,5.806314,5.476026,4.482323,5.191935,8.743116,6.330551,6.5945125,5.1651564,3.8684287,3.605385,5.425731,8.964709,5.905997,7.3312607,6.099774,5.4958696,6.4979143,5.853104,7.459405,5.547657,6.859932,6.285473,6.3378906,5.17425,5.7056336,7.5959167,6.8602347,6.665305,3.2996826,6.977315,5.3943686,5.426069,5.81496,6.3173413,6.3151927,5.5041504,6.00573,6.549726,6.552338,5.996893,5.5928426,6.750248,6.871924,4.3166413,3.4698322,6.4252367,7.2533255,5.5238066,7.29482,6.940182,7.1577945,5.575765,6.458432,7.1148634,6.329601,7.3703265,6.3281126,4.756382,5.323022,7.3712335,5.4488697,7.1904836,5.652579,4.2488,3.7403011,7.2845974,5.8593793,6.6882467,6.5957317,6.553888,6.51529,6.8352623,5.788092,5.9021735,6.6197796,5.2648,6.581216,5.81121,6.1938615,5.1734576,4.0511436,6.5535545,6.0824995,5.407049,5.955094,5.7949295,5.978133,5.338691,5.9922724,7.229849,4.4656525,6.3575754,6.7672205,4.8650913,6.5668063,5.6765924,6.127721,5.8482842,5.761184,6.7903886,6.7192607,7.002153,4.9471607,6.5662346,6.081775,6.6171236,6.0485554,7.144787,5.6268735,5.9502454,6.829512,5.662324,6.632133,5.5643263,4.30303,6.3351884,6.6320286,6.3557816,4.1111407,5.0517645,7.962322,4.6693487,5.7979918,6.6654205,5.737389,6.609275,8.288826,6.669522,6.822688,5.45244,7.298867,4.9294906,5.795679,7.228282,3.579455,5.413192,5.4380226,6.5102477,6.748775,5.0328584,6.089291,6.4402914,5.8129287,4.173459,5.7693133,5.3950224,6.995841,6.261726,6.291046,5.0790443,6.8817773,5.867799,5.2943845,5.592522,7.2698646,5.8399453,5.66532,6.5864205,9.1833,5.7353606,7.939801,3.4868438,6.398067,6.032146,6.79924,5.3187184,6.730664,6.673289,4.781805,4.1548657,7.0944448,6.021759,6.1784554,6.2489944,4.6549783,5.921872,7.015304,4.8208733,5.723892,7.0361724,5.7650075,5.3311615,6.0824065,3.4222574,6.8745112,6.7181373,4.8335238,5.580085,6.013569,3.5104764,6.0550933,6.408965,7.2583885,6.312575,5.258679,7.1668606,5.422458,5.305692,5.8595777,5.550145,5.9497786,5.6378403,7.2960515,5.8101864,6.8980327,5.6841974,7.3338156,5.929832,6.9711847,5.3486633,5.6418295,5.8252234,5.9284525,6.354306,6.7665887,4.960459,6.4379454,5.8745556,5.5175524,5.2410655,5.7519116,5.789382,6.622889,6.7260203,4.6330485,6.97538,7.0693207,4.43755,5.190141,6.2475405,5.646619,7.617623,7.2719073,5.6078243,3.31983,5.656198,5.212873,6.098031,7.3079906,6.1516995,5.8160405,7.25039,7.177852,8.094045,6.7769494,6.676526,6.1733375,7.4051485,5.5228453,6.564418,5.8083954,5.3252873,7.7165556,5.912169,5.9872866,5.4708652,6.2062435,6.1081057,5.454157,5.4623227,5.7562737,6.2989116,6.143307,6.054664,5.4020596,3.3798375,4.347573,5.771404,6.1115375,5.4060035,6.4436374,5.6417456,6.178012,6.226562,7.0453396,6.4312177,6.6443305,4.0629935,7.3511133,6.4771996,4.2692904,5.6275697,5.4286356,5.8929853,5.8009973,4.1833053,5.2342153,6.0223436,5.3921876,6.748911,6.0562916,2.855916,8.206405,6.751501,4.2638497,5.8075533,5.38238,7.248484,7.4570227,7.2236915,5.777672,5.9009814,5.0703244,6.38388,3.3093839,3.4023328,5.798439,5.029815,5.54115,8.407526,5.2540517,4.815661,8.027652,7.397464,6.8390946,7.2144156,5.9074054,5.743459,3.2853467,7.2465134,5.1758933,7.007522,3.8052664,6.4879894,6.828726,6.3293233,6.6763706,4.9992704,6.3367324,5.9469433,6.1899347,5.8572717,6.9749765,6.6264787,5.3794174,5.9402733,5.9644165,4.3877206,5.653826,6.144506,8.305956,6.938061,5.0858674,5.664926,6.166212,8.391657,6.8529344,6.226198,8.34856,6.5793104,6.5278783,6.050379,6.65453,3.5368953,7.6286216,7.4926786,6.267581,8.1119,7.5338936,4.0173917,9.253463,5.399675,6.00954,6.1829023,8.374759,3.3109112,6.796958,6.036025,5.780839,7.7457676,5.8245015,5.6062365,5.9235363,3.805384,5.1993346,5.917864,5.6062274,4.4014664,7.7041526,5.918958,5.1569324,5.502079,6.625798,4.4735746,7.0108294,7.2915406,5.521363,5.6927915,5.122095,5.7548447,5.663838,6.7857947,6.471896,5.619449,3.592701,5.8395314,7.191738,3.3717358,4.1363435,6.245222,6.2133985,6.6877937,6.7854137,5.773234,5.753896,6.9021726,6.877552,4.3700504,5.5041623,8.080316,6.467592,4.1354375,5.754753,5.866398,4.21244,5.4769187,5.7048187,6.713959,6.2656307,5.4603662,5.972099,6.9453382,6.017038,7.1171565,5.8371925,6.9658036,3.5653949,5.5599613,8.282766,6.708419,6.7630935,5.6864176,4.698701,6.012333,5.723904,4.198779,7.2491183,7.07006,5.4233856,6.9259396,5.240019,6.12203,6.2049384,7.17563,7.0262837,6.7684827,6.04277,6.0796447,4.336886,6.392885,6.537786,5.157342,6.7451377,6.766354,6.8043785,7.0099463,5.055776,5.956021,5.456501,5.9129367,7.293423,5.8984137,6.5668073,6.2106857,9.107682,5.4394913,6.748005,4.178398,6.428403,7.263029,6.1229944,4.6777763,6.4286017,5.4768896,7.707406,7.0132103,6.2444186,6.3152213,4.20716,6.5891733,7.271088,4.717043,4.4509425,6.8689427,6.278471,8.132417,5.3914623,6.673696,5.248802,6.401152,4.2754273,5.67791,6.390083,6.0542097,5.880238,6.623731,6.5066047,6.8606806,5.9856577,6.1726284,5.790813,5.971929,7.5627847,5.430017,6.194045,5.37439,5.5558352,7.619778,6.20338,5.3810043,6.813363,5.7732215,5.853997,5.0597034,6.2313385,6.324933,6.1720505,6.6822195,7.2918506,5.318551,3.9434273,6.386252,6.279525,6.2373147,6.273902,7.854372,5.4564724,5.950468,5.92936,6.78577,6.371549,6.6296906,4.0773373,6.4461446,5.9126205,9.258843,5.6566906,6.268154,5.622403,7.3007298,7.2217255,9.2713,6.1804986,6.1311846,5.913146,5.856984,6.476759,7.445641,6.200583,5.4061756,3.313652,5.5853386,6.3481007,5.465358,7.041514,6.826633,7.372534,5.8483634,6.835717,5.12785,6.238564,4.06091,6.0282903,5.392039,6.0209856,6.75042,8.269631,6.1966095,3.3823924,4.289896,7.299364,5.5230923,6.8675117,7.516898,7.6553626,3.5094624,6.8462586,6.0033455,6.536587,7.2453923,7.315699,5.2000537,5.7754407,7.2261176,6.4169383,8.528424,5.632584,7.018165,6.474786,7.0908628,3.3949277,7.618023,6.6756554,7.3135324,6.5246854,4.0987763,7.793775,4.5333967,5.955459,6.1166954,5.887868,7.372939,3.8359976,5.678815,5.9185004,6.6774483,5.814287,5.67279,6.348274,4.989978,5.4252925,6.041731,5.834601,4.4210687,6.8839593,5.334329,5.0871024,5.4633565,5.615075,6.096856,5.128419,8.545609,4.998612,6.4449153,6.33568,5.6874323,6.1720614,3.455535,5.3578916,7.280965,5.7924075,5.8551965,5.449248,5.4706383,5.3783154,5.759239,8.067035,3.7974226,5.267626,7.029671,5.354641,5.924029,7.6524916,6.230021,5.8170905,5.821731,6.8185024,5.1375165,5.674533,5.643678,5.668473,6.831268,3.0756922,5.9881673,5.923985,8.465762,6.7939434,6.523943,6.9420295,7.478312,5.1201043,4.1408353,6.011265,6.672117,5.5588655,4.2120795,6.5126104,5.8296876,5.9069448,6.559026,6.0941567,5.3230004,5.9641147,6.424234,6.373304,5.8483477,5.9803095,6.297446,5.618359,6.163433,6.040823,6.137007,3.3260643,2.9602375,6.645701,5.7439427,5.615386,6.673796,7.160132,6.880847,5.4754457,6.316973,9.406989,7.482568,4.257052,5.6002192,4.7281356,6.4955025,6.326813,6.2974668,6.73552,6.68077,6.1834607,8.210799,5.7988677,6.60786,5.2932386,7.2612276,7.349244,6.250399,8.425136,6.987658,5.678658,4.448746,6.3516326,6.666854,5.7257743,5.857564,5.5476985,5.998107,5.086408,5.7992663,6.6584916,6.8913307,5.3217964,5.9593863,6.062273,8.124001,6.089012,6.1626415,7.240517,6.60917,6.2764926,6.5368757,5.657034,5.2985916,6.7032804,7.1955113,5.3014765,4.2588377,5.5919137,5.7469172,5.722511,6.6474614,4.3298955,5.905497,8.502395,6.3651996,6.825636,7.3113976,5.296743,6.4007363,5.006011,5.6239014,4.055544,6.1552486,5.56249,5.155884,6.1762753,3.76064,7.372035,6.734373,5.118588,5.82463,6.8761444,3.3057394,6.9331436,6.5466533,5.304901,5.174878,5.72525,3.2980537,4.717984,6.6518726,6.788735,5.3252916,8.174376,5.10195,7.061861,7.0928507,5.8196096,7.2881103,6.513271,6.3750877,6.5076914,4.261156,6.4908853,5.9705753,6.010584,6.816809,5.0246363,5.518211,5.6711874,9.257562,7.0904703,5.964403,3.2812705,5.4316792,5.4873457,3.3065224,4.489995,8.049,8.103794,4.4004674,6.056105,7.3193216,4.805696,5.533052,6.3828335,6.6553097,6.411441,6.867139,5.4439707,6.270837,3.5351727,6.193632,6.984318,5.882607,5.61044,5.166955,5.4548874,5.585494,6.3569975,5.9325466,4.577485,6.8014636,6.959338,5.616461,6.4763436,5.818587,6.5748816,5.8711004,6.597464,7.27687,3.9877143,6.042381,5.949548,5.982856,6.224195,5.670757,5.441457,5.6136165,6.0092306,5.7592397,6.0339637,3.3513348,6.0082216,6.2069488,5.7745633,7.024008,6.4885397,6.224355,7.6935353,6.9106855,6.395408,6.603518,6.722116,6.3599515,5.7098002,5.692135,6.80084,5.3078346,6.0853367,5.916481,5.9277225,3.7844694,5.5782967,6.244879,6.2054415,5.6252456,5.730722,6.7763853,7.044587,7.021205,6.146946,3.2280064,6.8111105,5.50824,6.400762,5.614149,7.09763,6.195795,3.7194893,7.6174994,5.4541154,5.7503076,5.872777,5.355092,4.6640234,7.141306,5.6334596,3.25273,5.4723735,5.9524693,8.142793,5.4917426,5.904368,5.5183263,6.0015388,5.1002755,4.2147307,5.869405,3.2376428,5.9646754,7.010638,5.9250407],\"yaxis\":\"y\",\"type\":\"scattergl\"},{\"hovertemplate\":\"leiden=3\\u003cbr\\u003eUMAP-1=%{x}\\u003cbr\\u003eUMAP-2=%{y}\\u003cextra\\u003e\\u003c\\u002fextra\\u003e\",\"legendgroup\":\"3\",\"marker\":{\"color\":\"#FB0D0D\",\"symbol\":\"circle\",\"opacity\":1,\"size\":1.6691508100663226},\"mode\":\"markers\",\"name\":\"3\",\"showlegend\":true,\"x\":[-3.678213,-3.0295618,-3.100736,-2.3567438,-3.9105108,-3.2992465,-2.3163936,-4.3361278,-2.5743766,-3.2616563,-2.2883687,-3.9940927,-3.0488982,-3.531395,-4.464859,-2.6649246,-2.7456038,-2.613188,-2.003397,-4.1690006,-4.265645,-2.9447184,-2.1786463,-3.2070467,-3.146169,-4.1130743,-1.8904554,-3.0502098,-2.5380323,-2.055403,-1.7360156,-2.981285,-3.5408392,-4.323727,-2.72951,-2.6656117,-2.301655,-2.082725,-3.3410008,-1.59829,-2.057683,-4.0040975,-3.309852,-4.4051785,-3.2970355,-4.379977,-2.9426289,-2.7043498,-3.6471243,-2.830673,-2.0476065,-3.9591339,-2.8362327,-4.304244,-3.960924,-2.911173,-3.482133,-2.5081546,-1.6614366,-4.2341824,-3.70701,-3.6539688,-3.570209,-3.0581326,-3.970522,-2.8407052,-4.4901767,-2.1553724,-2.388502,-3.0235949,-2.6256745,-3.133687,-2.6698081,-1.926345,-3.2377224,-2.615305,-3.2743452,-3.4436326,-4.1587753,-4.4004607,-3.1530588,-2.836982,-2.8051174,-2.4852533,-3.0819507,-3.6551125,-4.2661357,-2.409745,-3.1072042,-3.94955,-2.5046341,-3.2932398,-2.2721195,-3.0496197,-2.607068,-3.8779614,-3.1817832,-1.0675405,-2.5205421,-2.774485,-4.412127,-1.2528311,-2.888874,-2.8694532,-3.5571883,-3.841785,-2.2410443,-2.1418188,-2.4329896,-1.8196312,-2.8345132,-3.6177416,-2.500072,-3.9917736,-2.609022,-2.1255014,-3.277727,-4.362694,-3.5542414,-2.387596,-1.8932016,-3.7760828,-2.6220384,-3.1574264,-3.854854,-4.2997346,-2.3080626,-3.3241522,-1.5276971,-1.7439774,-2.96433,-2.3680723,-1.8485363,-3.5462906,-3.3182092,-1.9163934,-4.1869345,-3.293059,-2.5155985,-2.7340171,-1.954365,-2.789614,-4.3103952,-2.1223898,-3.1365705,-4.0406485,-4.3362284,-2.8942661,-3.074836,-2.4662724,-2.3472064,-4.0549374,-3.2535882,-4.25829,-3.012791,-4.1347117,-2.2910175,-3.3820531,-3.2685525,-2.4002528,-2.005619,-2.8082373,-2.4072254,-2.9125125,-3.746476,-1.9322168,-3.2833598,-2.9343274,-2.9453514,-3.021937,-3.9563727,-3.2785602,-2.7919476,-3.1589694,-3.4463356,-2.8888965,-2.5474472,-1.1917745,-3.8399942,-2.4115825,-3.9227533,-3.635547,-1.0823369,-4.4524193,-1.0265532,-3.066892,-3.3842742,-3.695433,-4.103985,-4.478639,-3.1072636,-3.8752756,-2.4311643,-3.73205,-4.494035,-2.5656679,-4.433872,-3.4994535,-2.2391424,-3.3443346,-4.3493915,-2.3376114,-2.4865062,-3.9460244,-3.3943768,-2.9307673,-2.5221584,-3.0160573,-3.9428198,-3.876232,-3.2006974,-3.2242672,-3.169959,-2.6898484,-3.3437831,-3.008105,-2.403144,-4.0498314,-2.1521826,-2.1939342,-4.4165273,-3.2250755,-1.3037118,-2.0479178,-1.3891733,-3.5715897,-3.0446968,-2.349611,-3.5238533,-3.141632,-2.2558904,-3.008712,-3.8344371,-2.9090793,-2.087777,-1.9578065,-2.8417306,-2.8933222,-4.448981,-1.297878,-3.1827545,-3.0470593,-2.9191537,-1.6526202,-1.9450014,-3.7882452,-3.789568,-3.6067555,-3.215524,-2.4050167,-2.9470274,-4.0385833,-4.102303,-3.1180353,-3.748755,-1.243736,-3.2938182,-2.4365811,-1.8555696,-3.558011,-1.9236617,-4.062725,-2.744685,-3.8475196,-3.6321657,-1.2495084,-1.3780531,-3.196105,-1.0997576,-2.8132966,-3.220146,-1.7397783,-0.7853508,-4.3879523,-3.0716975,-3.2390182,-2.5326931,-1.8720243,-4.0935326,-3.7132144,-1.6456082,-3.96412,-2.4923685,-3.2326005,-3.1370018,-2.202293,-2.4239788,-1.0736964,-2.1206682,-1.6639245,-3.8489764,-2.4300616,-4.4607186,-3.3179004,-2.4944503,-1.9201542,-2.7491553,-2.6867414,-3.3429785,-3.183169,-2.436978,-2.3236222,-2.466138,-2.9865708,-2.6456344,-2.2240543,-2.3107512,-2.8682592,-2.7960987,-2.5802565,-3.8965003,-1.420325,-2.9504313,-3.5801659,-3.669509,-2.2814567,-2.8375077,-3.0096078,-3.2340457,-2.6462095,-2.0202746,-2.5776956,-2.559208,-1.9715409,-3.7974062,-3.325139,-2.4235082,-2.2453332,-3.4770246,-3.7379825,-3.3568628,-3.684797,-2.8901763,-2.602062,-3.460339,-4.3896885,-1.8319445,-3.3572645,-1.5785388,-2.4005535,-4.044051,-3.2518075,-2.1196096,-2.7116003,-2.7261984,-3.0759926,-3.303082,-1.6311077,-2.4095426,-2.3191245,-2.3286452,-3.5170064,-2.0774257,-2.9388983,-2.8796906,-2.1831083,-2.6252165,-1.498329,-2.5370567,-4.498733,-2.6611428,-2.4882383,-3.3172915,-2.8968427,-2.8611357,-2.820153,-2.17792,-3.803979,-2.5325491,-2.3969336,-3.5061054,-4.5174904,-3.6166277,-4.357168,-3.3126187,-3.3414135,-3.8960562,-1.7994454,-1.0355207,-4.4705086,-1.5529408,-2.1499102,-2.066482,-2.8808608,-2.4535308,-4.301843,-1.1491749,-2.5382066,-2.5960908,-3.2543793,-2.9205792,-2.0916965,-1.2578833,-2.8784137,-3.3000162,-1.2622913,-2.8880174,-2.4436212,-2.0161858,-2.496788,-3.8046243,-2.8646119,-3.453369,-3.1382651,-4.431513,-1.316078,-2.676865,-3.1705406,-2.2997591,-2.5179653,-3.3095305,-4.366339,-2.5666158,-2.9506907,-3.5545852,-3.1361709,-3.2567172,-3.3337116,-3.824761,-3.0847611,-3.1723409,-3.7088935,-2.5565503,-3.0250037,-2.285816,-3.624056,-2.5680661,-3.7073345,-3.045764,-2.10548,-2.9355724,-3.3513987,-2.937516,-2.7073376,-3.797933,-3.336887,-4.280215,-3.22232,-1.8599068,-2.5417867,-3.5790029,-3.5823777,-2.8693159,-2.9124036,-4.410388,-3.163829,-2.6163914,-3.2572567,-3.3041322,-3.8455622,-4.2019763,-3.9074495,-2.6760597,-3.8938634,-3.7775261,-4.332184,-2.8684242,-2.0815628,-3.1472046,-1.6172225,-3.0383677,-3.106919,-2.899732,-4.406192,-1.6414368,-2.8890667,-2.4562154,-2.266783,-3.584281,-3.3100235,-2.6874015,-3.10978,-2.6768944,-2.9016008,-2.2025807,-2.8147118,-3.0163562,-3.8315828,-2.436126,-3.8280342,-2.8134022,-1.9611722,-1.9156249,-3.1297596,-2.3268042,-2.633946,-3.9244158,-2.148354,-3.1105716,-1.451569,-3.7439137,-2.7490125,-3.8345098,-2.6078994,-1.7758783,-3.2301383,-2.5587795,-2.2649918,-3.2748399,-3.2604923,-3.08421,-3.8332427,-2.6179707,-3.832353,-2.0907536,-2.535337,-1.4439045,-2.324274,-3.4008057,-2.2522607,-3.1756344,-2.9018674,-1.7888582,-2.5648553,-2.2421606,-3.229788,-3.7804852,-1.2426001,-3.2197409,-4.2154417,-2.6413367,-2.7089262,-1.4044087,-3.5996735,-1.7886846,-2.1065278,-3.6679018,-2.9026997,-2.9596875,-3.126326,-3.1130557,-3.8172758,-3.2737873,-4.0152845,-4.2411237,-2.5892813,-3.1746452,-3.0357776,-3.0012882,-1.9886398,-1.6156665,-3.1427462,-2.5397868,-3.1121507,-2.4861221,-2.3119445,-3.1179764,-3.3572588,-3.4951386,-2.2951362,-3.174264,-1.8882555,-2.7451313,-3.3583312,-3.1523504,-3.9013193,-2.501732,-2.99143,-2.6827538,-3.5249193,-3.3164032,-1.3632665,-2.640829,-3.126335,-3.338668,-2.6113603,-2.970437,-2.8437815,-2.0211034,-4.3511434,-3.2146375,-2.4907484,-2.4720547,-3.3701663,-4.2044706,-3.4822772,-4.2740884,-3.9656298,-4.0984864,-3.2652633,-3.875846,-4.2528467,-1.9964874,-2.252232,-2.4011536,-3.5642674,-3.240469,-2.9000084,-3.7185059,-3.7951238,-2.7233114,-1.6224517,-3.2956498,-4.4150424,-3.424064,-3.881269,-3.20638,-3.213258,-3.1876228,-2.731311,-3.7796025,-4.4071693,-4.281582,-2.362387,-2.5202372,-3.0555336,-1.3765974,-1.6042398,-2.627828,-2.8783617,-3.9992175,-3.2635648,-3.0604494,-1.1710954,-2.8622248,-2.4775276,-1.5793241,-2.8763924,-3.1530004,-3.0247433,-1.0880977,-3.1902518,-1.9447784,-2.204639,-3.4460106,-2.940589,-3.907344,-4.166281,-2.962247,-1.3964785,-1.8633865,-2.5402572,-3.8965356,-3.2112548,-3.0986824,-3.239527,-3.1558478,-2.4835916,-3.273683,-3.3835793,-3.0499835,-2.5607934,-3.2289329,-1.1429805,-1.1004908,-3.789528,-3.808254,-2.8501296,-2.8455908,-2.6029537,-2.8922625,-3.875675,-3.5033789,-1.7307632,-3.2650757,-3.4038255,-2.9341338,-2.7799745,-2.5184767,-1.9608142,-2.5194314,-3.9382195,-2.4390016,-2.8292282,-3.3995035,-2.2690225,-1.9109112,-2.8282416,-2.6473472,-2.0374448,-3.2274575,-3.5470986,-1.9964466,-3.0817425,-3.282505,-2.2831342,-2.2786143,-1.3636161,-1.5640755,-2.0437837,-2.3513772,-2.7214632,-2.2181182,-2.4823673,-2.6601837,-3.8012407,-2.015263,-1.9640508,-3.656824,-3.0147805,-4.4461293,-2.931219,-1.7525809,-1.4643431,-3.4241085,-4.4855523,-2.3113382,-3.000622,-2.167334,-4.3714714,-1.3159585,-2.5941117,-4.1586595,-3.2267687,-2.9555724,-3.4195077,-3.0999014,-2.6882894,-4.4376154,-3.7833898,-3.6752174,-2.8629162,-3.9770057,-1.7927873,-4.209389,-3.0196726,-2.3779068,-3.7944431,-3.1855502,-2.876486,-3.172041,-2.3410337,-3.381412,-3.1800337,-3.9120026,-4.033062,-3.9491432,-3.038057],\"xaxis\":\"x\",\"y\":[11.108736,8.954628,10.216935,10.387127,10.2537775,8.855021,7.1289415,10.605755,9.550336,9.878101,10.18181,9.983556,9.9904175,10.272231,10.464842,9.477157,9.368275,8.886647,6.794895,10.045151,10.480085,9.262665,6.871834,9.825958,9.682211,10.181055,7.068184,7.5938363,10.81954,6.8849673,7.2457232,7.6368833,10.586447,10.626582,7.064329,7.2120504,7.459701,6.7188745,9.33443,6.6659384,9.566341,10.073078,7.7581053,10.417144,9.755929,10.22691,8.230998,10.15225,9.953381,9.586412,7.046918,10.285349,10.293091,10.529359,8.2488365,8.503776,10.272047,9.74295,6.295113,10.368843,9.8965435,9.248,10.015257,8.201051,10.957141,10.265473,10.494599,10.132886,10.2912245,8.503449,10.485947,7.914905,9.965585,7.003531,7.923322,10.264308,10.230198,9.8804865,10.694795,10.493113,9.75264,8.767462,9.253757,9.610129,8.705048,7.8914742,10.380339,9.238427,8.417147,8.212582,9.525407,7.7793636,10.068798,10.772615,9.479176,9.744317,7.4740014,6.324027,8.658942,9.612322,10.492527,6.1946783,9.255252,8.459062,11.002139,7.579467,6.900933,9.067988,10.400245,7.214941,8.6946,9.895604,10.024205,10.197433,9.335474,7.0616107,7.936921,10.634428,8.749539,9.948092,7.0215054,10.987306,7.8152843,8.554844,10.250784,10.721909,10.286957,9.692032,6.8644314,6.9505515,6.966079,9.980359,6.4847536,7.9310045,7.4376087,9.78042,11.037547,9.096524,9.809863,9.186023,6.423558,9.00179,10.470124,10.326029,9.74295,10.294467,10.451183,9.589687,9.651499,9.814108,9.810156,9.892214,10.087288,10.134283,7.7622223,10.007422,9.33126,7.762257,8.975444,9.971912,6.3346105,10.026196,9.7922,8.30134,11.05984,7.0314393,10.127699,8.267751,7.7959085,7.6216793,8.249206,7.5431275,8.994347,8.826262,7.7552104,7.561099,9.894508,6.326395,10.072525,8.990874,10.398964,8.147392,6.399807,10.603664,6.3359084,9.554645,9.1966,9.734428,10.145644,10.458985,8.865222,9.662034,10.250662,10.207006,10.535657,10.297391,10.59253,9.218373,9.77403,9.393597,10.609711,7.645733,10.569231,10.15126,9.045456,10.778306,9.58141,7.5901985,8.204635,10.956379,10.720767,7.7818995,7.4105444,7.9532237,9.927571,7.595042,9.580228,10.211671,7.1246734,10.282052,10.416679,9.901878,6.409896,7.3845987,6.3423085,8.621506,8.177014,9.81466,8.32409,9.559984,10.833175,10.800351,8.334465,9.772484,9.275022,7.141278,9.729885,10.05124,10.612862,6.54558,10.664045,8.574907,10.438576,6.7232995,9.539807,9.929745,9.943606,10.195744,9.466357,9.79398,9.147997,10.135293,11.128952,7.787081,10.906916,6.55359,10.521905,10.328481,7.2830935,10.573151,6.943988,10.417025,10.904591,9.904541,9.488597,6.5313287,6.144255,9.401309,6.3797565,9.272724,8.190369,6.8006415,5.975414,10.543413,10.154868,7.4692593,9.764695,9.741811,10.130501,10.098035,7.13716,10.136981,9.53026,8.061445,9.795367,9.983207,9.913109,6.3457165,6.619881,6.815718,10.608958,7.2912664,10.460257,10.482708,10.83257,9.853035,8.747343,7.5133104,7.770824,10.151098,9.933519,7.015214,6.8343997,9.354332,10.552686,9.850913,7.400489,8.379748,7.1015325,9.789934,10.840691,6.3949475,9.155964,8.81053,10.090382,7.2400637,9.014529,8.864279,10.863289,10.031735,10.31048,9.52615,10.263042,6.9993625,10.297426,10.37819,10.452406,9.63029,10.189151,10.230421,7.779605,9.886206,8.8582115,10.279426,8.976507,10.669526,7.2380667,9.245439,6.7444096,8.946271,10.455862,10.107204,7.063818,9.640476,10.018692,7.3293705,7.777028,6.3694987,9.38009,10.210684,10.56461,8.789208,9.810653,9.656464,8.196626,7.3057184,10.8468075,6.580087,8.9526005,10.474101,9.421372,11.085962,9.965049,8.897682,9.04247,9.782032,9.209351,9.940052,7.284713,10.063367,9.920201,10.555951,10.487948,10.19669,10.3489895,8.140418,10.862252,7.1288676,6.3560843,10.343182,6.769256,10.021878,9.126538,9.421475,9.914066,10.685953,6.397094,10.114902,10.565626,8.283166,7.386809,10.118854,5.5944905,8.64885,9.874589,6.5186987,8.387206,9.9148245,10.1234045,10.104288,10.230659,8.935621,8.84756,8.657379,10.565325,6.496525,10.028998,7.3894377,9.819025,9.916055,10.2866,5.3714805,8.751734,8.347622,9.120537,7.866755,9.901679,9.7638235,9.654836,9.318611,9.60047,9.848224,9.840427,9.443082,8.967006,8.032795,9.681068,10.399489,8.03438,9.60528,7.9530277,9.751012,7.942229,9.005884,8.302679,7.6976757,10.931334,7.0022855,6.557613,9.550973,8.547108,10.244883,9.776075,9.681412,10.282986,9.098945,10.46566,8.921035,7.9218817,10.784186,10.080444,10.735802,8.949367,10.875613,9.527802,10.494256,8.86863,6.8683233,10.164936,6.611613,8.809498,10.441744,8.023827,10.47798,6.8026323,8.149835,10.265861,10.6354475,8.704266,7.691102,9.316512,7.901111,9.450829,11.355319,9.5065,11.224681,9.330896,9.574069,10.448369,10.515668,9.438127,11.131026,7.089649,9.500538,7.281969,10.840658,10.178498,10.120804,7.73567,6.7054615,10.459131,7.266715,9.898088,9.313218,7.100616,8.330837,10.868523,9.848013,9.872672,10.389517,9.11953,9.597632,9.284344,9.573823,6.700231,10.765257,6.391757,10.694398,7.4051743,10.069784,9.124214,8.889168,7.2670207,10.856199,9.907917,10.180902,8.268325,5.6179314,9.881364,10.095382,9.544023,9.107218,6.324198,9.78701,7.1989074,6.5144777,11.082716,7.2890058,9.52886,9.900305,8.220917,7.87484,10.98253,10.303656,10.130965,9.595234,8.255238,9.362572,7.538763,7.0258193,6.4442515,8.948789,9.721491,8.551941,9.872308,9.567128,9.408171,10.608385,9.152578,9.697549,9.0408745,6.828396,9.852673,7.8070893,8.349516,10.138986,11.004019,10.610781,9.430061,10.076525,8.093616,6.568089,10.226424,8.103266,7.6788936,8.728645,9.761202,9.542321,10.279722,10.665326,9.303817,10.583585,9.810988,9.347376,10.292052,10.776421,10.716966,9.878356,10.728667,9.7062025,8.166777,10.36388,7.0651784,10.083576,7.0825953,11.069962,9.436322,10.574133,11.075362,10.818388,9.190643,7.065825,8.155498,10.607801,7.7476144,9.757345,9.877371,9.706612,8.116924,9.017261,7.750754,10.408835,10.499994,7.350977,10.888741,9.471884,6.491307,6.9930468,7.6471887,9.5210495,7.3768516,7.9433484,7.60314,6.498277,10.169899,9.96249,6.3671665,10.69933,10.178623,10.2721815,6.1680007,7.78214,6.9786143,6.629751,10.1556,9.345141,9.750117,10.415954,9.751437,6.601041,7.2025785,7.9369025,9.948856,9.901598,9.792678,10.169379,7.897508,8.812326,9.093225,9.979707,9.237281,10.298798,10.388609,6.3637786,6.3866043,9.781044,10.478544,7.33118,8.954246,8.862643,11.130934,9.655112,7.820188,7.0018973,8.011659,7.8299356,7.826517,11.276557,8.881274,7.0811405,10.594304,10.40672,10.289796,9.02702,9.288711,9.805808,7.1506877,7.0825233,7.3571076,6.9934077,8.243476,9.070483,6.949408,10.096013,10.019722,6.7427397,6.9274898,6.1403246,6.7637243,9.206826,9.661859,8.735198,7.373572,9.743756,10.009972,10.022696,10.207175,7.4310713,10.546726,8.075189,10.599103,9.585674,6.4579234,6.2349367,7.387758,10.441433,7.3984733,7.972276,9.29211,10.275556,6.1690493,10.956286,10.399836,7.8354983,7.846512,9.2921,9.831972,9.876728,10.472944,10.951684,7.792088,9.723912,9.879215,9.46431,10.372354,8.460357,7.304785,10.054772,7.8000546,10.655456,9.283972,9.04855,9.187755,9.333239,10.735064,10.800091,10.399161,8.11027],\"yaxis\":\"y\",\"type\":\"scattergl\"},{\"hovertemplate\":\"leiden=4\\u003cbr\\u003eUMAP-1=%{x}\\u003cbr\\u003eUMAP-2=%{y}\\u003cextra\\u003e\\u003c\\u002fextra\\u003e\",\"legendgroup\":\"4\",\"marker\":{\"color\":\"#DA16FF\",\"symbol\":\"circle\",\"opacity\":1,\"size\":1.6691508100663226},\"mode\":\"markers\",\"name\":\"4\",\"showlegend\":true,\"x\":[-2.0566206,-2.3293872,-1.6355585,-1.5051394,-0.70496505,-2.4538677,-0.82061106,-1.3895898,-0.85511667,-0.54618114,-0.5963703,-2.2821898,-1.7526935,-1.9190778,-1.7213137,-0.8095017,-0.6089553,-1.0876584,-1.5303378,-0.94519854,-0.7695695,-1.6846664,-1.4752514,-1.2374468,-2.2265806,-0.9756864,-2.3092074,-1.0033652,-0.50562763,-0.5785792,-0.9644206,-1.9008918,-1.0955418,-1.1945691,-1.6162765,-1.5621387,-1.0417213,-1.4141433,-1.3266323,-1.4278668,-1.2301295,-1.4542582,-2.0731626,-0.9870355,-0.79913443,-0.87974167,-1.5604352,-0.909752,-0.9785293,-1.0891033,-0.9316532,-0.8080441,-0.79283506,-1.2042482,-0.858996,-1.2339014,-0.76395655,-1.7958279,-1.6937283,-1.5668241,-0.7739448,-1.3443269,-1.9477673,-1.280239,-2.4660833,-1.2050025,-1.7199187,-2.4819195,-1.1550816,-0.68734336,-0.829881,-0.92602086,-1.0563533,-1.6712459,-1.7652766,-2.2363503,-0.98566574,-1.3000001,-0.9415582,-1.5305402,-1.0923088,-0.98139226,-0.98701566,-0.6214805,-1.3411897,-1.0684297,-0.8423482,-0.68083835,-0.6531783,-0.8302193,-1.008211,-1.2588443,-1.4051846,-1.2214905,-0.6458998,-0.5907134,-1.8063129,-1.2031832,-1.4707636,-1.0599475,-2.4192998,-0.66748494,-0.91717917,-1.1094941,-1.6792653,-1.9440265,-1.310002,-0.8688866,-1.1791608,-1.0002829,-1.3428413,-1.4527378,-0.7689904,-2.2533157,-1.1973913,-0.97224706,-0.6851333,-0.99906254,-0.5406538,-1.0064646,-0.5475154,-0.8893125,-2.210351,-1.7202744,-1.0998867,-0.5407662,-1.9742081,-1.0296224,-0.8300796,-1.1961653,-1.1566128,-1.4514167,-0.5166218,-1.5116352,-1.1133115,-0.8671411,-1.1177815,-1.1778817,-0.92468685,-0.51348823,-1.1527783,-1.8302729,-0.9365717,-0.8840149,-1.4573756,-1.7441554,-0.7980427,-0.61942184,-1.5330139,-0.70358855,-0.99724495,-1.7848552,-0.7248105,-1.3515782,7.8106885,-0.9993869,-0.897531,-1.8185515,-0.6561786,-1.5730181,-1.0928217,-0.74641883,-2.1809,-0.53960776,-1.7025136,-1.3123947,-0.9024108,-0.88940316,-2.0526707,-1.7512017,-1.1927948,-0.7981664,-1.0771301,-0.80295324,-0.68458116,-1.6813308,-0.63733774,-1.5127486,-0.91814977,-1.2974092,-0.6533367,-0.6052125,-1.0794687,-0.7059657,-0.6752539,-0.74437493,-1.7324941,-1.7093624,-1.7318318,-1.1579014,-0.9697723,-0.9113012,-0.5356694,-0.9502218,-1.0377188,-1.6527833,-1.0502758,-1.1217756,-1.1493559,-0.7343225,-2.4110816,-1.271465,-0.9849747,-0.77919036,-0.8050234,-1.1565667,-1.1440992,-2.461411,-0.99053556,-0.8100005,-1.3443644,-1.5594469,-1.1295042,-1.0796123,-0.69546586,-1.1086311,-1.0827297,-1.0807018,-1.2560962,-1.3796842,-0.9447366,-0.71466863,-1.6386201,-0.84164685,-1.2491896,-2.257538,-1.0747917,-1.029815,-1.1052283,-2.0762734,-1.1950599,-2.0932977,-1.4885168,-1.0049263,-0.844017,-0.9468066,-0.6200848,-1.3034037,-0.8689064,-1.710742,-0.78309464,-1.2511954,-2.2651474,-0.725163,-1.1360896,-0.84452474,-0.7164186,-0.48926863,-1.807319,-1.6292953,-0.9468993,-1.1964586,-1.5465038,-0.7681904,-0.9525175,-1.7462425,-1.6736689,-0.65520495,-1.0123442,-1.9777428,-1.9454451,-0.8538892,-0.7810018,-1.5006403,-0.7454065,-1.0334176,-1.1439583,-0.60638,-1.6253784,-1.552405,-0.48880407,-2.3348591,-0.89936626,-0.8556826,-0.92130494,-1.9579964,-1.3969457,-1.5436269,-0.9122031,-1.034641,-1.8111392,-0.52726185,-1.062393,-0.94823146,-1.1172597,-0.842141,-0.60823244,-0.8335176,-1.0589149,-0.5111145,-0.5985486,-1.3877414,-0.54605055,-1.0085527,-0.652972,-1.713319,-0.67256135,-0.9706539,-0.8432702,-0.94387424,-1.1089759,-1.1622858,-1.7304528,-0.7210791,-0.658681,-1.8119148,-2.1807544,-1.0871818,-1.6996468,-1.2021828,-2.2954025,-1.5864924,-2.3216102,-1.2781806,-1.455298,-0.7451474,-1.1288692,-1.0158068,-0.90967506,-0.8632008,-0.68676615,-1.7280787,-1.045677,-0.9330788,-1.3180481,-2.1484954,-1.3270124,-1.0523673,-1.29916,-2.0795481,-1.7687092,-1.0225211,-1.0267041,-1.7145084,-0.9226945,-1.8174126,-0.8486303,-1.0122558,-1.1260997,-2.4871907,-0.82372665,-0.8942193,-1.0204948,-0.7619666,-2.3013968,-1.1479493,-1.2655879,-2.1907432,-0.870796,-0.88570607,-1.4346539,-1.7314562,-0.8556529,-0.74341404,-1.6730455,-1.006603,-0.48774436,-2.013964,-1.0101644,-0.76800525,-0.6822591,-1.8192673,-0.67975366,-1.0977492,-1.222144,-0.5267303,-1.83139,-0.66476166,-1.6769415,-0.6821826,-0.9700463,-1.1580539,-1.6865127,-1.3626806,-1.5638136,-1.4420445,-2.2892628,-1.5449004,-2.4414706,-0.5797673,-0.8002541,-0.93122166,-2.158812,-1.0093321,-1.9022983,-0.77088666,-1.131413,-0.9195964,-0.9919673,-1.0038666,-1.1263291,-1.5817524,-0.8336853,-0.51242626,-1.418491,-2.3373833,-0.9997746,-0.67161155,-1.4322355,-2.5725513,-1.026607,-1.6097742,-1.3930295,-0.93653655,-0.79637,-1.6719733,-0.52601403,-1.1238933,-0.90865487,-1.2017583,-0.65040505,-2.039504,-1.0806669,-1.5375804,-1.8961263,-0.95776004,-1.0409693,-0.6527868,-0.7512887,-2.545165,-1.0828422,-2.234797,-1.1511061,-0.64321077,-0.58349895,-1.2754958,-1.3728275,-1.445072,-1.0142914,-0.8617095,-1.7794096,-0.8431337,-2.1116483,7.798874,-1.3078885,-0.77712876,-1.0532463,-1.8021004,-2.3277729,-0.8823523,-1.0259221,-0.97737193,-0.951497,-0.67916626,-1.1193672,7.9943066,-1.601464,-0.84986323,-0.91929543,-2.3393679,-1.2469962,-1.6561252,-1.1219835,-1.0848429,-1.3037298,-1.0944737,-2.5720143,-0.565535,-1.3473648,-0.9147112,-1.8423111,-0.89498985,-1.155101,-1.0323023,-1.1199886,-1.7442524,-1.682348,-1.110837,-1.2317841],\"xaxis\":\"x\",\"y\":[15.660798,14.586006,16.039375,15.328023,15.649723,15.493955,14.887059,15.763881,16.047213,16.301044,16.43459,14.640934,14.185466,15.048314,15.343415,16.126413,15.789658,16.646742,15.486448,14.71482,15.317021,15.340563,15.842905,15.652471,15.045216,14.757153,14.966502,16.053694,16.283703,16.455647,16.67436,15.687627,15.218152,14.578787,14.567804,15.444743,14.718262,14.61726,16.046837,14.745456,16.484558,16.223734,15.182385,16.674536,16.136892,15.251813,15.988,14.521804,16.381853,15.190324,15.451349,15.143062,15.378888,16.532581,15.035013,14.442672,16.412937,15.541664,14.776513,15.871934,15.4725065,15.068419,14.807816,15.58154,14.8963175,14.920192,15.295907,15.382073,13.269434,16.277798,15.52111,13.960554,16.750294,15.9005165,15.275801,14.595993,15.111247,15.1434,14.718322,14.213344,16.444336,15.2350235,16.26273,15.782757,15.340192,15.065807,13.899019,15.808826,16.231644,15.142371,15.736297,14.722587,14.915578,16.64675,16.185316,15.805649,14.306749,15.9996605,15.044851,15.57129,16.205078,16.193336,16.250237,13.931995,15.471148,15.566929,14.990259,16.569242,15.0299635,15.33535,14.865631,15.047772,16.091024,15.287594,16.659367,15.038606,16.489994,13.227743,16.185385,16.052095,16.246475,15.865663,15.622768,15.386515,15.04452,16.239357,15.546518,14.811835,16.221153,15.499889,14.615848,15.38174,16.069765,13.697479,15.109299,16.494461,16.792948,14.465706,15.326142,16.231043,16.770737,15.615518,15.404245,15.468578,16.465878,15.140293,13.466729,16.116848,16.070456,15.975138,15.826285,16.086382,16.535004,16.669386,6.9192467,15.012124,16.51612,15.012642,16.087324,15.038494,14.749864,15.559232,15.357566,16.296595,14.676932,14.745456,14.707223,16.234402,15.40592,16.241207,14.784158,16.472263,15.237268,16.236849,16.564226,14.403832,16.4795,15.130847,15.762533,15.921881,16.580952,16.400013,15.008567,16.1435,16.279335,16.436153,15.402091,15.721085,14.699022,15.126802,16.485361,15.412963,16.326239,15.976825,15.314669,14.752755,16.096931,15.96101,15.975985,15.527014,14.814528,15.212775,16.647385,15.701453,16.431116,16.789824,16.777906,15.427629,15.04392,15.481985,15.575692,14.828256,16.7966,13.828541,15.530121,16.610413,16.743412,16.538599,16.185553,15.086029,16.386932,16.036785,15.812893,14.613651,15.365735,16.19558,15.19553,14.879969,13.715415,16.060488,15.145162,14.992227,16.189053,14.90973,16.284662,16.660719,16.022327,15.157882,16.056625,15.764443,16.055607,15.194721,14.420849,16.11078,15.397313,16.467272,16.562471,16.270706,14.576067,15.221697,13.780827,15.94473,14.513857,16.494598,16.46155,15.031526,14.601971,15.598224,15.526296,15.107035,14.938617,15.331217,16.11362,15.14117,16.29222,14.960459,14.680839,16.335587,15.804314,14.708432,16.112206,15.519248,16.135323,16.103556,15.555897,16.093153,16.088614,16.224329,16.621153,15.928469,14.500169,16.180723,16.060562,16.537271,15.641802,13.128997,16.239752,15.699029,16.600164,15.915124,16.202435,16.228554,16.350702,16.109785,16.6044,14.524079,16.621038,16.109701,15.346329,16.170918,16.810717,16.776564,14.771501,16.531567,16.401367,14.211836,14.785554,16.754557,14.580379,16.338974,14.844155,15.8402605,14.56705,14.8064995,15.677161,16.341139,16.392735,16.011848,15.437652,15.412271,16.422852,16.167011,15.114064,16.306587,15.695296,14.900931,14.231372,15.379115,16.125544,15.698098,14.1256275,15.808947,15.648918,14.348788,15.432765,15.487742,15.362287,15.8179455,15.19272,15.429733,16.13184,14.011789,15.7790575,15.409715,14.828074,16.700489,16.757736,15.458147,16.556583,15.591061,16.162817,14.3549185,15.573688,15.685827,14.688933,15.131575,16.264883,15.057262,15.498147,15.523278,16.450417,15.489935,16.376348,14.872328,14.845721,16.358892,15.427122,16.34564,16.310408,16.523544,15.116701,14.8549595,14.74586,14.998094,14.984726,15.804563,14.750018,14.868601,16.127886,15.696455,16.023073,16.041409,16.123798,16.593748,14.822977,16.350006,14.844762,16.27973,15.462896,16.25858,15.584602,15.588342,16.51994,16.176414,14.839392,15.056334,15.386918,16.61303,14.951414,15.825029,14.864107,14.533794,15.365855,16.286713,15.424653,14.742058,16.278126,14.686414,16.550556,15.514792,16.243065,15.777021,15.981201,15.44522,13.669368,16.05467,15.453091,16.440557,16.283134,14.766898,15.240032,15.262073,16.79565,16.152748,16.339024,13.18486,15.157378,14.93986,16.134285,16.125805,15.271769,16.001516,15.717003,6.878173,14.838936,15.992661,16.372137,15.797605,15.009923,16.501995,16.061596,14.943856,15.576422,15.931085,16.704882,6.835985,15.566907,15.355799,15.390011,14.843238,15.1764765,15.0708885,16.764624,15.788866,14.807795,16.775389,15.463278,16.42361,16.644642,16.12025,15.471843,15.046536,14.649757,16.07778,16.794832,14.751,14.727823,14.921224,14.919093],\"yaxis\":\"y\",\"type\":\"scattergl\"},{\"hovertemplate\":\"leiden=5\\u003cbr\\u003eUMAP-1=%{x}\\u003cbr\\u003eUMAP-2=%{y}\\u003cextra\\u003e\\u003c\\u002fextra\\u003e\",\"legendgroup\":\"5\",\"marker\":{\"color\":\"#222A2A\",\"symbol\":\"circle\",\"opacity\":1,\"size\":1.6691508100663226},\"mode\":\"markers\",\"name\":\"5\",\"showlegend\":true,\"x\":[8.000316,8.650058,8.8631,8.23361,8.78557,8.333486,7.94842,8.204015,8.433591,7.853174,8.685485,7.5719466,7.9140406,9.006343,8.376924,8.601942,8.437814,8.323447,8.89093,8.361647,7.996288,7.624691,8.022998,8.751187,8.248761,7.9405866,8.753921,7.6939607,8.661133,7.96571,8.955278,8.925173,7.4822345,8.9502735,7.879587,7.5662656,8.716643,8.979266,8.561974,8.741778,8.295415,8.465464,8.086034,8.431654,7.9237046,8.42644,7.967065,7.6252255,8.815964,7.986211,7.944151,8.874847,7.998528,8.229872,8.808826,8.696394,8.212118,8.103203,8.6501465,7.9293947,8.502233,7.9089155,8.490953,7.943765,8.595761,8.626352,8.422131,8.002329,7.9713936,7.558729,8.706502,8.433226,8.260431,7.961,14.319862,8.416719,8.963898,8.712335,8.53888,7.738535,8.264281,7.8669953,8.985003,8.686613,7.9232135,7.9570932,9.016697,8.63994,8.077591,7.876119,8.565123,8.789018,7.9479346,8.813655,8.994773,7.754247,8.024526,8.638651,8.613044,8.576599,7.58514,8.809422,8.834694,8.6874485,8.8864975,8.480062,8.196245,7.9999633,7.97455,8.213355,8.154569,8.647934,7.872435,8.841206,8.037451,7.566276,8.719844,8.7114525,9.0157385,8.86902,8.299806,8.122004,8.547619,7.9463735,7.625152,8.6972685,7.579326,7.827518,7.5011096,8.863091,8.619478,8.881279,7.7596593,8.6013975,8.470868,8.94272,8.423126,8.2704115,8.976092,8.54898,8.323398,7.957071,8.955703,8.29093,8.480011,8.283068,8.364,7.91371,7.9361424,8.895716,8.756787,7.4792686,8.238517,7.9328,8.772592,8.730395,8.659808,8.172372,8.438246,7.6389832,8.518892,8.911917,8.657223,8.086006,8.028903,8.066107,8.425407,7.949623,8.258779,8.463161,7.564192,8.861518,8.471207,8.731466,7.501397,8.411547,8.740101,8.620438,8.307911,8.218861,8.112055,8.232291,8.145346,8.659829,8.091298,8.793203,7.5678077,8.655341,8.079011,8.885961,8.912363,8.414185,8.815516,8.575991,8.511323,8.623148,8.8765,7.9401917,-2.7414567,9.013231,7.424905,8.743569,8.626808,8.721478,8.84535,7.9953914,8.269493,8.786784,8.374303,8.416196,8.874395,7.777248,8.08139,8.943561,8.790118,8.478574,8.038904,8.278766,8.357137,8.79335,8.511531,8.930048,9.012004,8.34702,8.949534,8.161083,8.666057,14.367995,8.733549,8.458076,7.942866,8.407389,8.497269,8.678356,8.565648,8.65474,7.797954,7.8231616,8.190344,8.179326,8.596641,8.778822,8.082585,7.9670877,7.9259696,8.151883,8.750719,8.443899,8.729562,8.915611,8.694829,8.771725,8.3675785,8.565935,8.399303,8.412438,8.9332695,7.5339327,7.9281206,7.5574183,8.916248,8.182405],\"xaxis\":\"x\",\"y\":[6.648644,6.9309325,6.678031,6.3693814,6.7601943,6.6728644,6.696176,6.969694,7.4895725,6.0730686,6.4268155,6.7945137,6.145244,6.721646,6.5544796,6.503678,6.8376236,6.9448013,6.7939906,6.505015,6.433459,6.6922364,6.1678333,6.42004,6.3590817,6.5863547,6.4688582,6.6696725,6.6325126,6.1803994,6.747068,6.891505,6.749076,6.7720833,6.5926366,6.726307,6.4462686,6.752821,6.8058696,6.9684405,6.536661,6.384862,6.2730775,7.6391315,6.509271,7.499801,6.4628673,6.708894,7.093912,6.1871543,6.4792886,7.02226,6.6873045,6.428642,6.9017897,6.46061,6.5228095,6.5345006,6.960945,6.1636577,6.5328016,6.723559,7.2801943,6.0974317,6.6194563,7.243934,7.51618,6.3749957,6.659516,6.791721,6.76809,7.459924,6.460947,6.5572343,11.359135,7.361795,6.7503533,6.3901134,7.266486,6.686971,6.3370857,6.078782,6.843287,6.9847493,6.14789,6.175686,6.6663933,6.6328573,6.5881705,6.388704,6.9005733,6.5669637,6.149105,6.8546076,6.651994,6.788091,6.2565722,6.414352,6.8466616,6.7988615,6.7185297,6.408603,6.7301836,7.150773,6.7886643,6.5088267,6.348243,6.371677,6.4894977,6.585829,6.5310574,6.803338,6.118468,6.482035,6.746636,6.7643323,6.446962,7.1358385,6.671152,7.003159,6.5869865,6.544936,6.324357,6.597444,6.7270384,6.44259,6.7221327,6.56119,6.729614,6.5989256,6.4034057,6.6161356,6.668254,6.5689025,6.405895,6.8035984,7.368911,6.468783,6.884705,6.429547,6.736977,6.249354,6.845581,6.2743897,6.540688,6.3542004,6.8213525,6.423696,6.403413,6.504349,6.6606307,6.7673593,6.766148,6.6414814,6.776991,6.4600997,6.3536577,6.8390245,6.684368,6.7194557,6.8526254,6.8939433,6.4462724,6.744393,6.7732644,6.8360195,7.491191,6.2981315,6.5632815,7.3800745,6.705914,6.584666,6.5182705,6.378026,6.833337,7.441414,6.5489964,6.3977556,6.8371425,6.4533696,6.6001377,7.025903,6.2528176,6.4351654,6.388201,6.4000845,6.7282786,6.4646993,6.4949636,6.5145807,6.909413,7.409022,6.584069,6.468373,7.278175,7.150088,6.8174067,6.115253,8.780692,6.740687,6.7259874,7.1667156,7.1425138,6.334561,7.067796,6.408849,6.9889283,6.6998563,6.405179,7.5051684,6.4492755,6.6268706,6.311283,6.887416,7.0591936,9.97545,6.4607425,6.363563,6.4056187,6.592225,6.3684115,6.932876,6.864255,7.281045,6.7760377,6.290034,6.4142323,11.393192,6.662265,7.2143283,6.1184206,7.523587,10.014683,6.4643893,7.2559123,6.7356133,6.863826,6.715235,6.3955045,6.303486,6.392591,6.838467,6.2634306,6.223344,6.639376,6.4331737,6.8606157,7.113448,6.5238876,6.8333187,7.1981483,6.7328525,6.490427,7.2883277,7.2963457,7.5298576,6.9549913,6.7745924,6.135302,6.7161665,6.9320326,6.604922],\"yaxis\":\"y\",\"type\":\"scattergl\"},{\"hovertemplate\":\"leiden=6\\u003cbr\\u003eUMAP-1=%{x}\\u003cbr\\u003eUMAP-2=%{y}\\u003cextra\\u003e\\u003c\\u002fextra\\u003e\",\"legendgroup\":\"6\",\"marker\":{\"color\":\"#B68100\",\"symbol\":\"circle\",\"opacity\":1,\"size\":1.6691508100663226},\"mode\":\"markers\",\"name\":\"6\",\"showlegend\":true,\"x\":[-0.7472389,-0.54920095,-0.9037302,-0.8314721,-1.836328,-1.2363979,-0.8044563,-1.4802372,-0.32797256,-1.1665868,-0.7011695,-0.36585477,-0.509875,-0.42285758,-1.6282437,-0.22451739,-0.1281386,-1.6684632,-1.0839189,-1.7374843,-1.7425687,-0.9819586,-1.0071721,-0.23852947,-0.5064082,-1.6050603,-0.85618556,-0.55356365,-0.22597839,-0.2194567,-0.23737791,-0.16642018,-1.2207235,-0.23095223,-1.388016,-1.6121465,-0.87348914,-0.21902189,-0.2132329,-1.3221879,-0.7014283,-1.1752052,-0.21303768,-0.6070931,-2.1051517,-0.4524006,-1.3239579,-0.50749487,-0.57019055,-0.49385437,-1.5299455,-0.7912494,-1.136581,-0.6143811,-1.2974274,-1.1379069,-0.997067,-1.3486109,-0.75440496,-0.7758263,-0.96931785,-0.37421137,-0.53656405,-0.33526352,-0.21304461,-0.52118844,-1.5326598,-1.2444676,-0.22201802,-0.24289088,-0.7250999,-1.5397861,-0.6091313,-0.13169749,-1.9258078,-0.29099783,-1.4144632,-0.8510868,-0.14546889,-0.4404476,-1.4940519,-1.3355067,-0.82907,-0.45282122,-1.4182235,-1.2013104,-0.19330798,-0.64811414,-1.583966,-1.3735986,-1.990329,-0.6015116,-0.8410188,-0.71814996,-1.4130971,-1.513737,-0.36854103,-0.23532763,-1.2030869,-0.36243328,-0.64106965,-1.2629675,-1.446371,-1.2423384,-0.6502576,-1.2125617,-0.25710076,-0.48841697,-1.0472614,-0.83468324,-1.3866647,-0.6350843,-0.58058214,-0.71228534,-0.25415587,-1.4581944,-0.28827184,-1.2386953,-0.5723085,-0.59686035,-1.3834052,-0.7959282,-0.59988153,-1.2405412,-0.62930584,-0.1739882,-0.78636503,-0.67647237,-0.4404962,-1.2594898,-0.65693814,-0.24042103,-0.45860162,-1.2931685,-1.4190857,-0.24382196,-1.5367213,-0.8879813,-0.77299285,-1.398835,-1.3589679,-1.4521924,-0.11924156,-1.2618023,-0.5362389,-1.1212745,-1.2476606,-1.4523684,-0.14226912,-0.8934819,-1.1901118,-0.1369568,-1.0032599,-0.23092543,-0.4539162,-0.53048223,-0.2016638,-1.2320905,-0.6794898,-1.6091357,-0.82346904,-0.5799626,-0.36486995,-0.77009547,-1.316075,-0.601777,-1.3869777,-1.4212,-1.2641758,-1.1973587,-1.2415619,-0.30501333,-0.77618355,-0.2381871,-1.4868692,-0.17522375,-1.1503087,-0.66935474,-1.384355,-1.3606634,-1.3515183,-0.24360234,-0.2557445,-0.778039,-1.4079998,-1.5673305,-0.34082264,-0.5558281,-0.9239378,-1.4444102,-0.85676426,-0.2563945,-0.31349564,-1.4887317,-0.69106716,-0.51642877,-0.7936655,-1.3297743,-1.2514563,-1.7886273,-1.7712519,-0.17974593,-0.85232425,-0.85023314,-1.7994647,-2.1298993,-0.51798517,-0.27421904,-0.82210976,-1.2643516,-1.3440933,-0.69480133,-0.23203169,-0.3855986,-0.8668593,-1.6280586,-1.1805596,-0.39805523,-1.1310693,-0.7484317,-1.0111774,-0.6847791,-1.3216275,-0.8566009,-0.49316376,-0.59060186,-1.4805331,-0.3426419,-1.3621736,-0.12316198,-0.2389314,-0.67749244,-0.713814,-1.4536299,-1.3898481,-0.83283776,-0.34105998,-1.8218557,-0.24455968,-1.195484,-1.2145944],\"xaxis\":\"x\",\"y\":[3.9518397,5.261927,3.9170115,3.8770733,5.2776585,5.021138,4.910635,3.6704698,4.3072047,4.0365524,4.7497845,4.647347,4.5186615,5.4503965,5.7554646,5.232724,4.456078,5.0857925,3.7635968,5.5055585,5.320292,3.9969432,4.8213177,4.96969,4.1948214,4.775573,5.4022756,5.378891,4.4027047,4.9900255,5.2841573,4.8628855,3.7531948,5.0382934,5.9550643,4.7031746,3.872211,4.3929124,5.111121,5.490731,4.013479,5.2040377,5.0715356,4.1966734,5.470322,5.441634,5.495402,5.477618,5.086987,4.4617357,5.9509726,5.122252,3.9843993,5.2557745,4.0014453,4.899771,4.829171,3.5860345,5.1632023,4.666757,4.005119,5.2451935,5.335456,4.4580083,4.7000837,5.1949296,5.592897,3.895171,4.717221,5.2434187,3.99032,5.5622025,5.0842156,4.4737244,5.3859596,4.803806,5.2411194,3.9195204,4.4927263,4.540675,5.5848665,5.507398,3.887659,5.417026,5.80368,5.403082,5.025393,4.0744476,5.260435,5.2235627,5.6143513,5.24946,4.51568,4.0506616,4.501724,5.07507,5.437721,5.242905,4.1073184,5.3813305,4.065773,4.190663,5.215347,4.5383816,5.2605224,5.434145,4.7695656,5.481607,3.7550094,3.901189,5.944386,5.392011,4.5628996,4.0533175,4.427403,5.185086,4.585915,5.3555512,4.447534,4.2944627,5.2576222,5.1805363,4.3914604,5.407063,5.703786,4.482078,3.927229,4.0715938,5.5299587,5.434496,5.09202,5.251371,5.4588394,5.405364,5.6046395,4.767244,4.8768845,4.057734,3.9424427,5.5234823,5.4214087,5.294631,4.532498,5.4515834,5.5216312,4.100812,4.117166,5.997314,4.4566073,3.9292622,5.4058776,4.4843597,4.694307,5.203381,5.1520963,5.4500713,4.6713142,5.3233852,4.06223,4.775104,3.88937,5.6266904,4.5341277,5.1751504,3.9121966,4.6058526,4.540646,5.6106267,5.2052207,5.535621,4.6752753,4.938027,4.544568,5.2491713,5.63504,5.062857,5.340907,4.137545,4.4941807,5.4555387,5.3135705,4.733972,4.6906238,4.3226194,5.908797,5.246701,4.706321,5.401532,3.8149922,5.098911,3.8741448,4.8050704,4.928977,5.4732003,5.0866942,4.7932,3.9281716,3.7381237,5.3867574,5.473073,5.7673965,4.948825,3.8814623,3.8670347,5.3011403,5.0662804,5.380412,4.77603,3.8997452,5.35509,4.9237137,4.0253115,5.1806364,4.2546086,3.8568442,5.2340984,5.184163,5.2172794,4.7343774,5.1720657,5.152491,4.0136943,5.520129,3.8676064,5.552409,5.3350554,5.2459216,4.323673,5.592697,4.473007,4.86115,4.3179207,4.055644,5.95756,5.68985,3.8859673,4.6281238,5.3132944,5.1480865,5.470766,3.6906996],\"yaxis\":\"y\",\"type\":\"scattergl\"},{\"hovertemplate\":\"leiden=7\\u003cbr\\u003eUMAP-1=%{x}\\u003cbr\\u003eUMAP-2=%{y}\\u003cextra\\u003e\\u003c\\u002fextra\\u003e\",\"legendgroup\":\"7\",\"marker\":{\"color\":\"#750D86\",\"symbol\":\"circle\",\"opacity\":1,\"size\":1.6691508100663226},\"mode\":\"markers\",\"name\":\"7\",\"showlegend\":true,\"x\":[10.55099,16.207119,11.356506,11.594552,10.468101,10.41475,11.200339,11.226055,16.18474,11.431061,11.106481,10.327771,10.533617,11.466382,11.408735,12.193371,11.134145,10.548007,11.53322,10.57913,10.424039,11.399684,10.338561,12.188453,11.406488,11.529565,11.449944,10.8491955,11.139257,11.371771,11.550777,11.544548,11.541924,16.206474,16.175968,11.437203,10.511274,10.352792,16.220427,11.465708,16.020672,12.042903,16.254559,12.035931,11.5499115,10.375064,11.067358,16.179329,11.462475,10.564754,12.198013,10.453055,16.237349,11.077372,16.266962,10.555642,11.206945,11.060166,11.595248,11.447563,11.519381,11.439285,12.225103,10.511004,11.368292,10.354901,11.3003435,12.191557,11.215395,10.360788,10.48339,11.2550125,16.074194,11.447958,11.097588,10.342497,16.04221,10.990448,12.031176,11.100664,11.315796,12.015978,11.364517,10.403436,12.196791,11.081807,10.377597,11.298654,11.076918,16.208185,11.95651,11.06328,11.966199,11.533653,11.345675,10.324711,10.507272,11.129287,11.180487,11.310882,12.199006,11.282741,11.028051,11.44083,11.406547,11.222964,11.492788,11.6283,11.044567,11.490352,11.019041,10.338859,11.273023,16.217962,11.462959,11.398471,11.246547,12.043686,11.349946,11.149627,10.4073305,11.272767,10.405625,10.522983,11.092707,11.33738,11.557116,10.40724,12.197384,11.186559,11.192405,11.322362,11.119978,16.22537,11.16581,11.620589,11.387029,12.031271,11.099105,11.456324,11.167678,11.573893,11.523531,11.547889,11.499837,11.060433,10.493093,10.418632,11.174345,16.094116,11.143933,10.519551,10.324873,11.611703,11.469312,11.217409,11.273055,11.623159,10.435067,12.044082,11.187059,10.586883,11.261606,16.195654,10.53332,11.338605,16.175787,11.476223,10.506024,10.566043,11.31149,11.062839,11.349196,12.200385,10.356946,10.528157,11.128722,10.318686,11.404119,10.354026,11.353442,10.4743395,11.602243,11.3106985,11.296517,11.396497,11.452323,11.580708,11.177358,12.197807,11.196501,11.437523,10.459141,11.023667,11.382736,10.5121155,11.214236,11.373111,11.552753,11.08917,11.585807,11.618447,11.500171,16.25626,11.251066,11.245422,10.524829,10.395258,11.310658,16.129292,12.195678,11.26659,16.158636,10.377719,11.274818,11.34886,11.367414,11.549309,11.091108,11.359143,10.617025,11.448097,11.129444,11.412995,11.355832,10.590813,16.225048,11.567573],\"xaxis\":\"x\",\"y\":[-1.9019291,9.826058,-3.4744072,-3.2354295,-2.2006602,-2.127366,-3.4197407,-3.0563047,9.827124,-3.4760313,-3.0273051,-2.1770823,-1.903665,-3.522636,-3.5860076,-2.30469,-3.0017056,-1.9120084,-3.528605,-1.8778412,-2.1536343,-3.2965133,-2.1347485,-2.3097222,-3.515819,-3.358574,-3.3576148,-2.6517267,-2.9242396,-3.4697316,-3.46466,-3.5175369,-3.511853,9.85016,9.711115,-3.5930343,-1.9219455,-2.1596224,9.80718,-3.4106677,9.429188,-2.5013452,9.938597,-2.5101037,-3.3526192,-2.1330345,-2.9678385,9.848588,-3.5628548,-1.8744748,-2.297328,-2.0025272,9.9018755,-3.1083248,10.014667,-1.9348557,-3.0388312,-3.0421033,-3.1295545,-3.4866867,-3.5001364,-3.6184273,-2.2673557,-2.0408769,-3.6145043,-2.1337986,-3.317643,-2.3057785,-3.3286722,-2.1809678,-1.9516588,-3.4429898,9.549164,-3.5754309,-2.9644215,-2.1762035,9.505062,-2.8364017,-2.5131652,-3.1038158,-3.3388345,-2.5404348,-3.033765,-2.0540097,-2.2991936,-3.0755033,-2.1486697,-3.4912848,-3.013673,9.840643,-2.605173,-3.0672104,-2.579065,-3.5424664,-3.641761,-2.1902633,-1.9183403,-3.1032164,-3.0890996,-3.6089714,-2.2972982,-3.4450777,-2.915037,-3.4901962,-3.4911425,-3.1418338,-3.549581,-3.2149324,-2.9479744,-3.3696795,-2.99275,-2.172872,-3.6250339,9.822972,-3.1000519,-3.3991904,-3.3727686,-2.488228,-3.4927478,-2.9490898,-2.0890083,-3.1503396,-2.1281705,-1.9599197,-3.0721722,-3.4958751,-3.4047275,-2.0504127,-2.2959194,-3.323599,-3.318671,-3.022393,-2.9711378,9.807345,-2.9940422,-2.957102,-3.5758166,-2.5177672,-3.07565,-3.3332608,-2.9855251,-3.5063667,-3.0986109,-3.4204438,-3.1394305,-3.0353627,-1.9615167,-2.1907809,-3.2599125,9.563206,-2.9837089,-1.9244415,-2.1776505,-3.0973294,-3.5930448,-3.0841153,-3.190787,-3.2955563,-2.1707036,-2.501412,-2.9782066,-1.9409522,-3.065682,9.740302,-2.2192175,-3.569145,9.77894,-3.5863833,-1.924739,-1.9097049,-3.651696,-3.0204737,-3.5341957,-2.2951095,-2.1498947,-1.8857833,-3.053064,-2.1880171,-3.6133635,-2.1674798,-3.4004498,-1.9721111,-3.2605503,-3.645895,-3.5113993,-3.4555647,-3.5593293,-3.2665997,-3.361902,-2.2990413,-3.2400331,-3.498016,-2.0920458,-2.9677196,-3.6731787,-1.899684,-3.1903236,-3.6732388,-3.39932,-3.0892081,-3.1501663,-3.408233,-3.4548862,9.953689,-3.1597052,-3.1435847,-1.939103,-2.1614926,-3.6563427,9.59729,-2.3019392,-2.9431114,9.675631,-2.0987298,-3.3610153,-3.6389523,-3.3475294,-3.4604373,-3.2092094,-3.5052094,-2.3876271,-3.210255,-3.0852594,-2.9817839,-3.5710196,-1.9775616,9.835217,-3.4388304],\"yaxis\":\"y\",\"type\":\"scattergl\"},{\"hovertemplate\":\"leiden=8\\u003cbr\\u003eUMAP-1=%{x}\\u003cbr\\u003eUMAP-2=%{y}\\u003cextra\\u003e\\u003c\\u002fextra\\u003e\",\"legendgroup\":\"8\",\"marker\":{\"color\":\"#EB663B\",\"symbol\":\"circle\",\"opacity\":1,\"size\":1.6691508100663226},\"mode\":\"markers\",\"name\":\"8\",\"showlegend\":true,\"x\":[16.254196,15.821017,15.89619,15.901328,15.682799,16.117043,15.6767435,15.932386,15.804644,15.642568,15.719519,16.121067,15.64316,15.846749,15.678421,15.587522,15.945067,16.025925,16.009466,16.261007,15.895123,15.7354555,15.836992,15.7118,15.695486,15.990214,15.862321,15.760413,16.316036,15.778512,15.990389,15.836008,15.903348,15.684668,15.687073,16.084242,15.696507,16.110706,15.861439,16.20466,15.911352,16.31193,16.043356,15.7955675,15.613788,16.017714,15.634075,16.102964,15.797069,16.153845,15.86424,16.111656,15.748232,15.708477,15.728405,15.690969,15.761764,16.067867,15.949029,15.941627,15.884774,15.848203,15.613461,15.961531,15.917591,15.774363,15.716714,15.629706,15.692229,15.886312,15.994161,15.658829,16.039824,15.783594,15.618962,15.807817,15.645714,15.898725,15.751415,16.219795,15.805279,15.92295,15.668992,15.656845,16.226318,15.67738,15.7315035,15.696692,16.311262,15.710725,16.160427,16.181044,15.766701,16.265953,15.877386,16.203917,15.891788,16.275055,15.764864,15.729661,16.007595,15.765707,15.928977,16.144848,15.83329,15.867438,16.102863,15.657442,16.286499,15.684876,15.853303,16.174799,16.072203,15.805914,15.8345375,15.87779,16.183495,15.627049,15.6150255,16.27595,15.794993,15.836614,15.705345,15.860628,15.670257,15.656345,16.033676,15.972492,16.284416,15.99905,15.839912,16.027151,15.774612,15.700621,15.61823,15.963137,15.956071,15.889012,15.762833,16.231411,16.28261,15.656783,15.954099,16.100399,16.298195,15.654233,16.12746,16.189503,15.779218,15.718712,15.66912,15.96789,16.035408,16.16746,16.086456,15.699071,15.788858,16.004337,15.909605,15.699939,15.710648,15.813232,16.170033,15.796778,16.031168,16.333666,15.901331,16.102331,16.327055,16.320898,15.633317,15.723616,16.104591,15.906533,15.872959,16.291803,16.081846,15.913909,16.04697,15.643164,15.640772,15.7830105,15.644792,15.643278,15.988386,16.083403,15.73932,15.517027,15.725823],\"xaxis\":\"x\",\"y\":[6.6686335,6.432417,6.8065786,6.43423,6.4511313,6.5336194,6.3398175,6.2179055,6.4889617,6.2289376,6.6626563,6.8381953,6.3753896,6.847609,6.358928,6.2999234,6.2047076,9.480312,6.909795,6.6164603,6.1453285,6.69854,6.97125,6.3219404,6.145446,6.55063,6.8628483,6.7854705,6.690625,6.6967473,6.950517,6.927664,6.7357516,6.367108,6.1547003,6.589854,6.2205744,6.6132207,6.9782205,6.709924,6.829042,6.6884127,6.320743,6.1740146,6.176357,6.3499923,6.2638116,6.9304457,6.5052557,6.4165306,6.7418604,6.8969793,6.1568694,6.1347947,6.3552766,6.212158,6.2032905,6.5820856,6.609415,6.263387,6.892632,6.3625593,6.5723515,6.722647,6.326991,6.215006,6.321108,6.3706694,6.122147,6.453157,6.2387943,6.5627885,9.482363,6.919851,6.537918,6.18142,6.222933,7.002537,6.3103375,6.516897,6.8738384,7.137494,6.188828,6.6325617,6.789597,6.20728,6.784929,6.466844,6.7077417,6.1347733,6.804919,6.8853474,6.872839,6.7006674,6.1892266,6.558961,6.6750546,6.7158375,6.133384,6.6504354,6.198885,6.3531466,6.3809333,6.841235,6.9546733,6.9124846,6.8066387,6.162953,6.5691752,6.625565,6.852735,6.716638,6.9739866,6.2219462,6.9192643,7.0178266,6.744346,6.1133385,6.2474275,6.653118,6.874455,6.9913764,6.7218537,6.225727,6.187006,6.666875,6.8012347,6.928274,6.6072383,6.80012,6.220719,6.2770987,6.794094,6.3306394,6.1589837,6.253852,6.4850397,6.910278,6.830107,6.539346,6.7468185,6.1279325,6.9416223,6.894494,6.738286,6.7048492,6.9009547,6.7792706,6.6313086,6.357325,6.3694963,6.9019747,6.255256,6.779526,6.2657824,6.4554687,6.3225336,6.4957743,6.1997595,6.74833,6.412547,6.5868464,6.8240256,6.526437,6.6248055,6.632725,6.2273674,6.3261986,6.781857,6.6200376,6.23048,6.8477044,7.036777,6.9520764,6.9162903,6.7759247,6.91752,9.300206,9.486062,6.135637,6.32123,6.137243,6.6054916,6.4549217,6.201036,6.2648983,6.387456,6.2899246,6.1041226],\"yaxis\":\"y\",\"type\":\"scattergl\"},{\"hovertemplate\":\"leiden=9\\u003cbr\\u003eUMAP-1=%{x}\\u003cbr\\u003eUMAP-2=%{y}\\u003cextra\\u003e\\u003c\\u002fextra\\u003e\",\"legendgroup\":\"9\",\"marker\":{\"color\":\"#511CFB\",\"symbol\":\"circle\",\"opacity\":1,\"size\":1.6691508100663226},\"mode\":\"markers\",\"name\":\"9\",\"showlegend\":true,\"x\":[-2.8858802,-3.4605513,-3.405626,-3.131952,-3.0718665,-2.8278978,-3.1259756,-3.4904168,-3.1823514,-3.407491,-3.1350071,-3.4030106,-3.1448114,-2.712057,-3.0311968,-3.4156313,-2.9926224,-3.4914382,-3.35571,-3.225587,-3.0771735,-3.2633746,-2.6219003,-3.546847,-3.030869,-3.341702,-3.1155617,-3.005269,-3.4374483,-3.3459733,-2.450806,-3.4100626,-3.3634992,-2.7715387,-2.8587084,-3.2116146,-2.6972563,-3.2873116,-2.5295758,-3.455167,-3.1474285,-2.9233396,-3.494471,-2.966484,-3.3571851,-2.9884937,-3.0723872,-2.9850006,-3.412798,-3.3521404,-3.1558645,-3.3097606,-3.1579566,-2.4229555,-3.5768886,-3.2162697,-2.9186094,-3.004127,-3.2774167,-3.5252974,-3.049644,-2.7480676,-3.3582249,-3.3737738,-2.9352212,-2.9543917,-3.4775486,-3.258553,-2.60941,-2.8851736,-3.4585962,-3.439983,-2.5677924,-3.2375247,-3.4166722,-3.3357923,-3.5101724,-3.3324435,-3.4726691,-3.396228,-2.7275515,-2.9409828,-3.5633807,-2.8166661,-2.4703095,-2.8837829,-3.224074,-3.4369416,-3.482081,-2.8499672,-3.3174608,-3.4789317,-3.4637175,-3.4710846,-3.2862246,-3.3589811,-3.2546773,-2.4410775,-3.4317222,-3.3481312,-3.4802923,-3.3542998,-3.4069123,-3.4421728,-3.1644106,-3.455765,-3.4846663,-3.2797518,-3.4508934,-3.1406915,-3.43808,-3.4953516,-2.5077682,-2.6234572,-2.833438,-2.5635073,-3.051632,-3.1904116,-2.9325275,-3.098495,-3.090357,-3.4203966,-2.789651,-3.3845901,-3.621534,-2.581498,-2.8604083,-3.451076,-2.7012186,-3.3939474,-2.8211668],\"xaxis\":\"x\",\"y\":[16.03576,16.290834,16.136433,15.687554,11.827303,16.134295,16.09589,16.06606,15.856286,15.948925,15.722235,16.211102,16.033306,16.016846,15.993586,16.124104,16.030931,16.232698,15.962926,15.475492,16.106798,15.719056,16.06524,16.182394,15.845524,15.917153,16.137104,15.638475,16.20911,16.146917,16.16896,16.284338,16.07342,15.574605,16.097336,16.091993,15.546667,16.098005,15.792243,16.147663,15.651618,16.148134,16.215317,15.982796,16.140858,15.864398,16.145916,13.761179,16.31805,16.188862,16.11895,15.795775,15.929609,16.178179,16.004105,15.816009,16.075432,16.134777,16.13399,16.274813,16.075066,15.991326,16.087408,16.085148,15.567364,15.977917,16.079664,16.122671,15.873972,16.121466,16.167294,16.15963,16.15427,16.127106,16.083307,16.18226,16.040243,16.072693,16.067747,16.004671,15.056499,16.16203,16.041462,15.540242,16.1845,15.35953,16.072884,16.267162,16.042198,15.630232,16.22536,16.042736,16.316772,16.290169,15.781877,16.219646,16.142637,16.174097,16.13,16.040834,16.267057,16.150063,16.28442,16.202589,15.598095,16.255545,16.008171,16.083351,16.285208,16.072723,15.993211,16.210663,16.189144,16.120934,15.613213,16.168097,15.560923,15.963515,16.135096,16.100143,16.101284,16.058052,15.688087,16.174706,16.117527,16.039371,16.079847,16.303434,15.847812,16.090128,15.658722],\"yaxis\":\"y\",\"type\":\"scattergl\"},{\"hovertemplate\":\"leiden=10\\u003cbr\\u003eUMAP-1=%{x}\\u003cbr\\u003eUMAP-2=%{y}\\u003cextra\\u003e\\u003c\\u002fextra\\u003e\",\"legendgroup\":\"10\",\"marker\":{\"color\":\"#00A08B\",\"symbol\":\"circle\",\"opacity\":1,\"size\":1.6691508100663226},\"mode\":\"markers\",\"name\":\"10\",\"showlegend\":true,\"x\":[0.8532261,0.3452376,0.7080319,0.70803773,0.7048973,0.26112735,0.69847834,0.5895747,0.63420177,0.47136796,0.38864586,0.41367486,0.68593746,0.4015203,0.7233981,0.912575,0.6833918,0.8140063,0.85405535,0.29431278,0.3974768,0.92049986,0.2373703,0.779656,0.48813573,0.6390653,0.7896469,0.5524388,0.24832156,0.64763474,0.5033332,0.25232324,0.5826264,0.7073344,0.6406086,0.5808009,0.63559175,0.67730427,0.6073729,0.41813168,0.3214364,0.2732476,0.25423858,0.82215583,0.878636,0.9347827,0.49895883,0.6907735,0.55375165,0.7871626,0.5152207,0.7544787,0.75201,0.32325256,0.57992876,0.5683669,0.82139456,0.7183473,0.53874284,0.5370459,0.6698196,0.40153807,0.27344024,0.2697659,0.3206701,0.64883685,0.84614134,0.7089031,0.6393796,0.9241646,0.78719205,0.45506704,0.40925485,0.4352404,0.6051159,0.8834792,0.58310324,0.4171284,0.5815616,0.749872,0.54679227,0.64941436,0.66374016,0.93930775,0.6613514,0.6552134,0.5605384,0.51326835,0.26831484,0.64133584,0.34917212,0.8202477,0.42169598,0.93535733,0.78422886,0.6966104,0.83013344,0.3269743,0.42567432,0.5446637,0.6766033,0.6383102,0.59874463,0.30046892,0.4116377,0.5211221,0.3502592,0.2862673,0.4006968,0.91266936,0.6982421,0.4285103,0.4466015,0.4313341,0.39279142,0.60281885,0.7654616,0.44782892,0.4940363,0.25207537,0.36349824],\"xaxis\":\"x\",\"y\":[-5.5971704,-5.440714,-5.7837977,-5.7055182,-5.7236624,-5.3089566,-6.015616,-5.589422,-6.1056976,-5.905862,-5.323427,-5.3347297,-5.8640475,-5.6255445,-6.0459414,-5.6622243,-6.0580735,-5.5497966,-5.586251,-5.353367,-5.2982025,-5.6681185,-5.3517275,-5.723245,-5.880408,-5.6358833,-5.5556474,-5.9945173,-5.4171605,-5.56039,-5.5337234,-5.395358,-5.7261786,-6.053642,-6.1019115,-5.6461973,-6.1036787,-6.083781,-6.092313,-5.318861,-5.4618936,-5.3717833,-5.406931,-5.918559,-5.63816,-5.6923203,-5.377544,-5.6127663,-5.657563,-5.6930957,-5.7649865,-5.7343245,-5.7434487,-5.4027505,-5.705183,-5.949763,-5.7090435,-5.614114,-5.5472283,-5.676144,-5.7052965,-5.4036274,-5.363744,-5.4049253,-5.4394245,-6.115991,-5.5964327,-5.8295546,-5.988921,-5.6598506,-5.7498565,-5.590952,-5.6150923,-5.3171134,-5.7164626,-5.687225,-6.023103,-5.323381,-6.0706763,-5.567101,-5.665032,-6.1131005,-6.1257453,-5.6763787,-6.1237893,-6.136696,-5.5806866,-6.0185866,-5.3963184,-6.112094,-5.4755754,-5.587041,-5.781367,-5.6761627,-5.6449394,-5.8095856,-5.590127,-5.374451,-5.5055814,-5.688585,-5.643198,-5.651313,-5.9289227,-5.34366,-5.314216,-5.386245,-5.334397,-5.3335414,-5.5654593,-5.6412144,-6.0887165,-5.7009363,-5.8780174,-5.3127246,-5.801483,-5.777904,-5.5399003,-5.820587,-6.0001616,-5.3927503,-5.368416],\"yaxis\":\"y\",\"type\":\"scattergl\"},{\"hovertemplate\":\"leiden=11\\u003cbr\\u003eUMAP-1=%{x}\\u003cbr\\u003eUMAP-2=%{y}\\u003cextra\\u003e\\u003c\\u002fextra\\u003e\",\"legendgroup\":\"11\",\"marker\":{\"color\":\"#FB00D1\",\"symbol\":\"circle\",\"opacity\":1,\"size\":1.6691508100663226},\"mode\":\"markers\",\"name\":\"11\",\"showlegend\":true,\"x\":[14.993445,15.002129,15.047127,15.041364,14.798952,15.139078,15.002978,14.795655,15.04542,15.005931,15.0704975,14.834255,14.969557,14.890355,16.203152,14.851134,14.877387,14.9638815,15.049728,14.892288,14.80731,14.863583,14.9129,14.804942,15.4904175,15.005872,15.067502,15.049034,14.851414,15.040875,14.933817,15.082503,15.032864,14.82685,14.797709,14.977259,15.03779,15.526785,14.910522,15.086878,14.888747,15.017677,15.043369,15.037748,14.795003,15.021699,14.993968,15.006548,15.031997,15.080006,15.027771,14.8269415,15.074089,14.790242,14.886241,14.891017,14.894765,14.939638,14.822959,15.619511,15.128074,15.719529,14.975158,15.06866,15.001355,14.790601,14.88509,15.020051,15.073191,14.785178,15.138623,15.026545,15.069496,14.855023,14.790911,14.826995,14.877287,14.840736,15.095174,15.57838,15.051106,14.979535,15.030539],\"xaxis\":\"x\",\"y\":[9.930531,9.884396,9.941925,9.875769,10.070685,10.17906,9.87298,10.1199,10.049018,10.039275,10.001463,10.025195,9.842361,10.277768,10.116393,10.011646,10.342102,9.952486,9.906268,9.851486,10.183622,9.968899,9.844491,10.06157,12.32617,9.900315,10.019441,9.848986,9.862969,9.886706,9.848314,9.961067,9.850053,10.202876,9.864483,10.028888,9.941918,12.220236,9.946824,9.985274,9.860092,9.933582,10.015085,10.038424,10.16483,9.92749,10.065977,9.8968,9.862531,10.043129,9.933761,10.357878,10.073582,10.086005,9.838762,9.952427,9.846797,10.035671,10.171092,10.984425,9.974774,9.500035,9.997272,9.997613,9.94977,10.149945,9.970586,10.024871,9.963863,10.123697,10.032651,9.868471,9.957723,9.82743,10.046032,10.131263,9.936911,10.133676,10.041988,10.17369,9.897925,9.844174,9.938496],\"yaxis\":\"y\",\"type\":\"scattergl\"},{\"hovertemplate\":\"leiden=12\\u003cbr\\u003eUMAP-1=%{x}\\u003cbr\\u003eUMAP-2=%{y}\\u003cextra\\u003e\\u003c\\u002fextra\\u003e\",\"legendgroup\":\"12\",\"marker\":{\"color\":\"#FC0080\",\"symbol\":\"circle\",\"opacity\":1,\"size\":1.6691508100663226},\"mode\":\"markers\",\"name\":\"12\",\"showlegend\":true,\"x\":[8.579177,8.505048,8.3882675,8.394776,8.62196,8.367071,8.487697,8.457646,8.471059,8.506882,8.527289,8.598925,8.374107,8.469152,8.368208,8.428678,8.652334,8.625361,8.614337,8.409571,8.441365,8.462444,8.4873495,8.645762,8.40376,8.401337,8.466603,8.499561,8.615236,8.54285,8.625961,8.41255,8.399848,8.564125,8.563502,8.436093,8.572878,8.441485,8.399776,8.6136465,8.439408,8.5474615,8.382997,8.367984,8.464551,8.470297,8.446214,8.649253,8.610531,8.614422,8.527221,8.484066,8.606967,8.470608,8.613579,8.579226,8.4953375,8.441535,8.478931,8.456527,8.450117,8.4731,8.46927,8.556184,8.455493,8.592568,8.424532,8.557872,8.353285,8.621996,8.390375],\"xaxis\":\"x\",\"y\":[10.4794035,10.382102,10.250739,10.218238,10.472516,10.201239,10.379078,9.992636,9.988577,10.418616,10.437671,10.416956,10.24824,9.962539,10.208912,10.27491,10.503294,10.474884,10.463154,10.115797,10.26969,10.28124,10.325222,10.497934,10.223026,10.18254,9.966179,10.326546,10.478361,10.425077,10.491461,10.195592,10.2385235,10.395267,10.312958,10.238693,10.40757,10.098113,10.174224,10.491039,10.12293,10.415143,10.226462,10.221824,9.970573,9.968402,10.079378,10.486686,10.457011,10.466958,10.442676,10.013106,10.428425,9.987117,10.454816,10.419989,10.394354,10.147028,10.416397,10.358445,10.2026,10.394223,9.953617,10.395023,10.34438,10.437574,10.293788,10.449957,10.217429,10.481692,10.209761],\"yaxis\":\"y\",\"type\":\"scattergl\"},{\"hovertemplate\":\"leiden=13\\u003cbr\\u003eUMAP-1=%{x}\\u003cbr\\u003eUMAP-2=%{y}\\u003cextra\\u003e\\u003c\\u002fextra\\u003e\",\"legendgroup\":\"13\",\"marker\":{\"color\":\"#B2828D\",\"symbol\":\"circle\",\"opacity\":1,\"size\":1.6691508100663226},\"mode\":\"markers\",\"name\":\"13\",\"showlegend\":true,\"x\":[-6.1640167,-6.213559,-6.2103863,-6.1959724,-6.1830673,-6.244101,-6.256715,-6.253397,-6.1702657,-4.3402243,-6.19161,-6.1632037,-6.039136,-6.21096,-6.17518,-4.3170757,-6.1217294,-6.0508165,-6.028784,-6.2178407,-6.2127624,-6.2514987,-6.224335,-4.329256,-6.219941,-6.2467475,-6.2102523,-6.294728,-6.122452,-6.2072124,-6.1775303,-6.2425957,-6.246608,-6.258233,-6.1601596,-6.033996,-6.0878506,-4.34801,-6.21905,-6.174829,-6.013489,-6.1784997,-6.2321134,-6.2788754,-6.2117643,-6.0720553,-6.1747446,-4.291775,-6.148457,-6.2130485,-6.0294013,-6.2551317],\"xaxis\":\"x\",\"y\":[2.196671,2.1414073,2.143738,2.1582239,2.1576767,2.1094213,2.097033,2.102047,2.1883264,5.373194,2.1500413,2.181595,2.3481514,2.1437154,2.1829133,5.3080754,2.2436066,2.3417044,2.3520875,2.1380627,2.1355128,2.1033478,2.130353,5.3658586,2.1381273,2.107466,2.1466308,2.0578775,2.2382157,2.127665,2.1711094,2.114351,2.111162,2.0946803,2.1881106,2.3629286,2.271887,5.4919333,2.136585,2.1835313,2.3726587,2.1799016,2.1219568,2.0653794,2.2008731,2.303766,2.1930676,5.366796,2.16784,2.1364787,2.3652208,2.0992713],\"yaxis\":\"y\",\"type\":\"scattergl\"},{\"hovertemplate\":\"leiden=14\\u003cbr\\u003eUMAP-1=%{x}\\u003cbr\\u003eUMAP-2=%{y}\\u003cextra\\u003e\\u003c\\u002fextra\\u003e\",\"legendgroup\":\"14\",\"marker\":{\"color\":\"#6C7C32\",\"symbol\":\"circle\",\"opacity\":1,\"size\":1.6691508100663226},\"mode\":\"markers\",\"name\":\"14\",\"showlegend\":true,\"x\":[-1.6435844,-1.5818763,-1.6870568,-1.6863768,-1.6043123,-1.6361086,-1.7106721,-1.6645952,-1.6627026,-1.701959,-1.9452595,-1.5847297,-1.7382133,-1.633401,-1.599386,-1.7991897,-1.7963796,-1.6953927,-1.6487687,-1.6169528,-1.7665181,-1.7366719,-1.8039696,-1.6592946,-1.6793207,-1.6869408,-1.6481569,-1.6454982,-1.7512516,-1.7274404,-1.7031267,-1.8748648,-1.66364,-1.6781659,-1.6553376,-1.6539103,-1.8932397,-1.7429898,-1.6714971,-1.8209528,-1.6963941,-1.6809363,-1.574858,-1.6105087,-1.7934593,-1.590959,-1.7874153,-1.6623963,-1.9193541,-1.7245177,-1.7134092,-1.7450877],\"xaxis\":\"x\",\"y\":[1.511803,1.4139194,1.5867873,1.5840119,1.449245,1.488577,1.6443858,1.5249032,1.5213642,1.5944762,2.6361175,1.4295565,1.7041509,1.4797242,1.4609643,2.0066605,1.9752065,1.5403682,1.5084248,1.4654306,1.8483385,1.7373255,2.0579536,1.5302349,1.5425322,1.5767992,1.5508782,1.5159744,1.78831,1.7638795,1.5729153,2.400113,1.5338308,1.5491099,1.5217553,1.5141912,2.4903033,1.7572916,1.545417,2.099189,1.6162411,1.5726309,1.4162126,1.447756,1.9342034,1.4317508,2.0217483,1.5309582,2.657528,1.622872,1.6255045,1.7549042],\"yaxis\":\"y\",\"type\":\"scattergl\"}],                        {\"template\":{\"data\":{\"barpolar\":[{\"marker\":{\"line\":{\"color\":\"white\",\"width\":0.5},\"pattern\":{\"fillmode\":\"overlay\",\"size\":10,\"solidity\":0.2}},\"type\":\"barpolar\"}],\"bar\":[{\"error_x\":{\"color\":\"rgb(36,36,36)\"},\"error_y\":{\"color\":\"rgb(36,36,36)\"},\"marker\":{\"line\":{\"color\":\"white\",\"width\":0.5},\"pattern\":{\"fillmode\":\"overlay\",\"size\":10,\"solidity\":0.2}},\"type\":\"bar\"}],\"carpet\":[{\"aaxis\":{\"endlinecolor\":\"rgb(36,36,36)\",\"gridcolor\":\"white\",\"linecolor\":\"white\",\"minorgridcolor\":\"white\",\"startlinecolor\":\"rgb(36,36,36)\"},\"baxis\":{\"endlinecolor\":\"rgb(36,36,36)\",\"gridcolor\":\"white\",\"linecolor\":\"white\",\"minorgridcolor\":\"white\",\"startlinecolor\":\"rgb(36,36,36)\"},\"type\":\"carpet\"}],\"choropleth\":[{\"colorbar\":{\"outlinewidth\":1,\"tickcolor\":\"rgb(36,36,36)\",\"ticks\":\"outside\"},\"type\":\"choropleth\"}],\"contourcarpet\":[{\"colorbar\":{\"outlinewidth\":1,\"tickcolor\":\"rgb(36,36,36)\",\"ticks\":\"outside\"},\"type\":\"contourcarpet\"}],\"contour\":[{\"colorbar\":{\"outlinewidth\":1,\"tickcolor\":\"rgb(36,36,36)\",\"ticks\":\"outside\"},\"colorscale\":[[0.0,\"#440154\"],[0.1111111111111111,\"#482878\"],[0.2222222222222222,\"#3e4989\"],[0.3333333333333333,\"#31688e\"],[0.4444444444444444,\"#26828e\"],[0.5555555555555556,\"#1f9e89\"],[0.6666666666666666,\"#35b779\"],[0.7777777777777778,\"#6ece58\"],[0.8888888888888888,\"#b5de2b\"],[1.0,\"#fde725\"]],\"type\":\"contour\"}],\"heatmapgl\":[{\"colorbar\":{\"outlinewidth\":1,\"tickcolor\":\"rgb(36,36,36)\",\"ticks\":\"outside\"},\"colorscale\":[[0.0,\"#440154\"],[0.1111111111111111,\"#482878\"],[0.2222222222222222,\"#3e4989\"],[0.3333333333333333,\"#31688e\"],[0.4444444444444444,\"#26828e\"],[0.5555555555555556,\"#1f9e89\"],[0.6666666666666666,\"#35b779\"],[0.7777777777777778,\"#6ece58\"],[0.8888888888888888,\"#b5de2b\"],[1.0,\"#fde725\"]],\"type\":\"heatmapgl\"}],\"heatmap\":[{\"colorbar\":{\"outlinewidth\":1,\"tickcolor\":\"rgb(36,36,36)\",\"ticks\":\"outside\"},\"colorscale\":[[0.0,\"#440154\"],[0.1111111111111111,\"#482878\"],[0.2222222222222222,\"#3e4989\"],[0.3333333333333333,\"#31688e\"],[0.4444444444444444,\"#26828e\"],[0.5555555555555556,\"#1f9e89\"],[0.6666666666666666,\"#35b779\"],[0.7777777777777778,\"#6ece58\"],[0.8888888888888888,\"#b5de2b\"],[1.0,\"#fde725\"]],\"type\":\"heatmap\"}],\"histogram2dcontour\":[{\"colorbar\":{\"outlinewidth\":1,\"tickcolor\":\"rgb(36,36,36)\",\"ticks\":\"outside\"},\"colorscale\":[[0.0,\"#440154\"],[0.1111111111111111,\"#482878\"],[0.2222222222222222,\"#3e4989\"],[0.3333333333333333,\"#31688e\"],[0.4444444444444444,\"#26828e\"],[0.5555555555555556,\"#1f9e89\"],[0.6666666666666666,\"#35b779\"],[0.7777777777777778,\"#6ece58\"],[0.8888888888888888,\"#b5de2b\"],[1.0,\"#fde725\"]],\"type\":\"histogram2dcontour\"}],\"histogram2d\":[{\"colorbar\":{\"outlinewidth\":1,\"tickcolor\":\"rgb(36,36,36)\",\"ticks\":\"outside\"},\"colorscale\":[[0.0,\"#440154\"],[0.1111111111111111,\"#482878\"],[0.2222222222222222,\"#3e4989\"],[0.3333333333333333,\"#31688e\"],[0.4444444444444444,\"#26828e\"],[0.5555555555555556,\"#1f9e89\"],[0.6666666666666666,\"#35b779\"],[0.7777777777777778,\"#6ece58\"],[0.8888888888888888,\"#b5de2b\"],[1.0,\"#fde725\"]],\"type\":\"histogram2d\"}],\"histogram\":[{\"marker\":{\"line\":{\"color\":\"white\",\"width\":0.6}},\"type\":\"histogram\"}],\"mesh3d\":[{\"colorbar\":{\"outlinewidth\":1,\"tickcolor\":\"rgb(36,36,36)\",\"ticks\":\"outside\"},\"type\":\"mesh3d\"}],\"parcoords\":[{\"line\":{\"colorbar\":{\"outlinewidth\":1,\"tickcolor\":\"rgb(36,36,36)\",\"ticks\":\"outside\"}},\"type\":\"parcoords\"}],\"pie\":[{\"automargin\":true,\"type\":\"pie\"}],\"scatter3d\":[{\"line\":{\"colorbar\":{\"outlinewidth\":1,\"tickcolor\":\"rgb(36,36,36)\",\"ticks\":\"outside\"}},\"marker\":{\"colorbar\":{\"outlinewidth\":1,\"tickcolor\":\"rgb(36,36,36)\",\"ticks\":\"outside\"}},\"type\":\"scatter3d\"}],\"scattercarpet\":[{\"marker\":{\"colorbar\":{\"outlinewidth\":1,\"tickcolor\":\"rgb(36,36,36)\",\"ticks\":\"outside\"}},\"type\":\"scattercarpet\"}],\"scattergeo\":[{\"marker\":{\"colorbar\":{\"outlinewidth\":1,\"tickcolor\":\"rgb(36,36,36)\",\"ticks\":\"outside\"}},\"type\":\"scattergeo\"}],\"scattergl\":[{\"marker\":{\"colorbar\":{\"outlinewidth\":1,\"tickcolor\":\"rgb(36,36,36)\",\"ticks\":\"outside\"}},\"type\":\"scattergl\"}],\"scattermapbox\":[{\"marker\":{\"colorbar\":{\"outlinewidth\":1,\"tickcolor\":\"rgb(36,36,36)\",\"ticks\":\"outside\"}},\"type\":\"scattermapbox\"}],\"scatterpolargl\":[{\"marker\":{\"colorbar\":{\"outlinewidth\":1,\"tickcolor\":\"rgb(36,36,36)\",\"ticks\":\"outside\"}},\"type\":\"scatterpolargl\"}],\"scatterpolar\":[{\"marker\":{\"colorbar\":{\"outlinewidth\":1,\"tickcolor\":\"rgb(36,36,36)\",\"ticks\":\"outside\"}},\"type\":\"scatterpolar\"}],\"scatter\":[{\"fillpattern\":{\"fillmode\":\"overlay\",\"size\":10,\"solidity\":0.2},\"type\":\"scatter\"}],\"scatterternary\":[{\"marker\":{\"colorbar\":{\"outlinewidth\":1,\"tickcolor\":\"rgb(36,36,36)\",\"ticks\":\"outside\"}},\"type\":\"scatterternary\"}],\"surface\":[{\"colorbar\":{\"outlinewidth\":1,\"tickcolor\":\"rgb(36,36,36)\",\"ticks\":\"outside\"},\"colorscale\":[[0.0,\"#440154\"],[0.1111111111111111,\"#482878\"],[0.2222222222222222,\"#3e4989\"],[0.3333333333333333,\"#31688e\"],[0.4444444444444444,\"#26828e\"],[0.5555555555555556,\"#1f9e89\"],[0.6666666666666666,\"#35b779\"],[0.7777777777777778,\"#6ece58\"],[0.8888888888888888,\"#b5de2b\"],[1.0,\"#fde725\"]],\"type\":\"surface\"}],\"table\":[{\"cells\":{\"fill\":{\"color\":\"rgb(237,237,237)\"},\"line\":{\"color\":\"white\"}},\"header\":{\"fill\":{\"color\":\"rgb(217,217,217)\"},\"line\":{\"color\":\"white\"}},\"type\":\"table\"}]},\"layout\":{\"annotationdefaults\":{\"arrowhead\":0,\"arrowwidth\":1},\"autotypenumbers\":\"strict\",\"coloraxis\":{\"colorbar\":{\"outlinewidth\":1,\"tickcolor\":\"rgb(36,36,36)\",\"ticks\":\"outside\"}},\"colorscale\":{\"diverging\":[[0.0,\"rgb(103,0,31)\"],[0.1,\"rgb(178,24,43)\"],[0.2,\"rgb(214,96,77)\"],[0.3,\"rgb(244,165,130)\"],[0.4,\"rgb(253,219,199)\"],[0.5,\"rgb(247,247,247)\"],[0.6,\"rgb(209,229,240)\"],[0.7,\"rgb(146,197,222)\"],[0.8,\"rgb(67,147,195)\"],[0.9,\"rgb(33,102,172)\"],[1.0,\"rgb(5,48,97)\"]],\"sequential\":[[0.0,\"#440154\"],[0.1111111111111111,\"#482878\"],[0.2222222222222222,\"#3e4989\"],[0.3333333333333333,\"#31688e\"],[0.4444444444444444,\"#26828e\"],[0.5555555555555556,\"#1f9e89\"],[0.6666666666666666,\"#35b779\"],[0.7777777777777778,\"#6ece58\"],[0.8888888888888888,\"#b5de2b\"],[1.0,\"#fde725\"]],\"sequentialminus\":[[0.0,\"#440154\"],[0.1111111111111111,\"#482878\"],[0.2222222222222222,\"#3e4989\"],[0.3333333333333333,\"#31688e\"],[0.4444444444444444,\"#26828e\"],[0.5555555555555556,\"#1f9e89\"],[0.6666666666666666,\"#35b779\"],[0.7777777777777778,\"#6ece58\"],[0.8888888888888888,\"#b5de2b\"],[1.0,\"#fde725\"]]},\"colorway\":[\"#1F77B4\",\"#FF7F0E\",\"#2CA02C\",\"#D62728\",\"#9467BD\",\"#8C564B\",\"#E377C2\",\"#7F7F7F\",\"#BCBD22\",\"#17BECF\"],\"font\":{\"color\":\"rgb(36,36,36)\"},\"geo\":{\"bgcolor\":\"white\",\"lakecolor\":\"white\",\"landcolor\":\"white\",\"showlakes\":true,\"showland\":true,\"subunitcolor\":\"white\"},\"hoverlabel\":{\"align\":\"left\"},\"hovermode\":\"closest\",\"mapbox\":{\"style\":\"light\"},\"paper_bgcolor\":\"white\",\"plot_bgcolor\":\"white\",\"polar\":{\"angularaxis\":{\"gridcolor\":\"rgb(232,232,232)\",\"linecolor\":\"rgb(36,36,36)\",\"showgrid\":false,\"showline\":true,\"ticks\":\"outside\"},\"bgcolor\":\"white\",\"radialaxis\":{\"gridcolor\":\"rgb(232,232,232)\",\"linecolor\":\"rgb(36,36,36)\",\"showgrid\":false,\"showline\":true,\"ticks\":\"outside\"}},\"scene\":{\"xaxis\":{\"backgroundcolor\":\"white\",\"gridcolor\":\"rgb(232,232,232)\",\"gridwidth\":2,\"linecolor\":\"rgb(36,36,36)\",\"showbackground\":true,\"showgrid\":false,\"showline\":true,\"ticks\":\"outside\",\"zeroline\":false,\"zerolinecolor\":\"rgb(36,36,36)\"},\"yaxis\":{\"backgroundcolor\":\"white\",\"gridcolor\":\"rgb(232,232,232)\",\"gridwidth\":2,\"linecolor\":\"rgb(36,36,36)\",\"showbackground\":true,\"showgrid\":false,\"showline\":true,\"ticks\":\"outside\",\"zeroline\":false,\"zerolinecolor\":\"rgb(36,36,36)\"},\"zaxis\":{\"backgroundcolor\":\"white\",\"gridcolor\":\"rgb(232,232,232)\",\"gridwidth\":2,\"linecolor\":\"rgb(36,36,36)\",\"showbackground\":true,\"showgrid\":false,\"showline\":true,\"ticks\":\"outside\",\"zeroline\":false,\"zerolinecolor\":\"rgb(36,36,36)\"}},\"shapedefaults\":{\"fillcolor\":\"black\",\"line\":{\"width\":0},\"opacity\":0.3},\"ternary\":{\"aaxis\":{\"gridcolor\":\"rgb(232,232,232)\",\"linecolor\":\"rgb(36,36,36)\",\"showgrid\":false,\"showline\":true,\"ticks\":\"outside\"},\"baxis\":{\"gridcolor\":\"rgb(232,232,232)\",\"linecolor\":\"rgb(36,36,36)\",\"showgrid\":false,\"showline\":true,\"ticks\":\"outside\"},\"bgcolor\":\"white\",\"caxis\":{\"gridcolor\":\"rgb(232,232,232)\",\"linecolor\":\"rgb(36,36,36)\",\"showgrid\":false,\"showline\":true,\"ticks\":\"outside\"}},\"title\":{\"x\":0.05},\"xaxis\":{\"automargin\":true,\"gridcolor\":\"rgb(232,232,232)\",\"linecolor\":\"rgb(36,36,36)\",\"showgrid\":false,\"showline\":true,\"ticks\":\"outside\",\"title\":{\"standoff\":15},\"zeroline\":false,\"zerolinecolor\":\"rgb(36,36,36)\"},\"yaxis\":{\"automargin\":true,\"gridcolor\":\"rgb(232,232,232)\",\"linecolor\":\"rgb(36,36,36)\",\"showgrid\":false,\"showline\":true,\"ticks\":\"outside\",\"title\":{\"standoff\":15},\"zeroline\":false,\"zerolinecolor\":\"rgb(36,36,36)\"}}},\"xaxis\":{\"anchor\":\"y\",\"domain\":[0.0,1.0],\"title\":{\"text\":\"UMAP-1\"}},\"yaxis\":{\"anchor\":\"x\",\"domain\":[0.0,1.0],\"title\":{\"text\":\"UMAP-2\"}},\"legend\":{\"title\":{\"text\":\"leiden\"},\"tracegroupgap\":0,\"itemsizing\":\"constant\"},\"margin\":{\"t\":60},\"width\":600,\"height\":400},                        {\"responsive\": true}                    ).then(function(){\n",
              "                            \n",
              "var gd = document.getElementById('e0e3a7c1-3bdc-4e69-b5de-3bdfa54e4c23');\n",
              "var x = new MutationObserver(function (mutations, observer) {{\n",
              "        var display = window.getComputedStyle(gd).display;\n",
              "        if (!display || display === 'none') {{\n",
              "            console.log([gd, 'removed!']);\n",
              "            Plotly.purge(gd);\n",
              "            observer.disconnect();\n",
              "        }}\n",
              "}});\n",
              "\n",
              "// Listen for the removal of the full notebook cells\n",
              "var notebookContainer = gd.closest('#notebook-container');\n",
              "if (notebookContainer) {{\n",
              "    x.observe(notebookContainer, {childList: true});\n",
              "}}\n",
              "\n",
              "// Listen for the clearing of the current output cell\n",
              "var outputEl = gd.closest('.output');\n",
              "if (outputEl) {{\n",
              "    x.observe(outputEl, {childList: true});\n",
              "}}\n",
              "\n",
              "                        })                };                            </script>        </div>\n",
              "</body>\n",
              "</html>"
            ]
          },
          "metadata": {}
        }
      ]
    },
    {
      "cell_type": "code",
      "source": [
        "data"
      ],
      "metadata": {
        "id": "YkumFRvpBbgF",
        "outputId": "ef69295d-aab0-4f09-a164-49f4842c76b0",
        "colab": {
          "base_uri": "https://localhost:8080/"
        }
      },
      "id": "YkumFRvpBbgF",
      "execution_count": 55,
      "outputs": [
        {
          "output_type": "execute_result",
          "data": {
            "text/plain": [
              "AnnData object with n_obs × n_vars = 5806 × 6062095\n",
              "    obs: 'n_fragment', 'frac_dup', 'frac_mito', 'tsse', 'doublet_probability', 'doublet_score', 'leiden'\n",
              "    var: 'count', 'selected'\n",
              "    uns: 'reference_sequences', 'frag_size_distr', 'library_tsse', 'frac_overlap_TSS', 'TSS_profile', 'scrublet_sim_doublet_score', 'doublet_rate', 'spectral_eigenvalue'\n",
              "    obsm: 'fragment_paired', 'X_spectral', 'X_umap'\n",
              "    obsp: 'distances'"
            ]
          },
          "metadata": {},
          "execution_count": 55
        }
      ]
    },
    {
      "cell_type": "markdown",
      "id": "d6405283-9006-46f5-be16-93fb0598c96c",
      "metadata": {
        "id": "d6405283-9006-46f5-be16-93fb0598c96c"
      },
      "source": [
        "# Create a cell-by-gene activity matrix"
      ]
    },
    {
      "cell_type": "code",
      "execution_count": null,
      "id": "d8408450-f2eb-455d-9dc4-359b71604bc6",
      "metadata": {
        "id": "d8408450-f2eb-455d-9dc4-359b71604bc6"
      },
      "outputs": [],
      "source": [
        "#sc.write(SRR26046013_DM_AOA_INH,\"/SRR26046013_DM_AOA_INH.h5ad\")"
      ]
    },
    {
      "cell_type": "code",
      "execution_count": null,
      "id": "73d3c212-d8ca-46ae-89b0-64f5c403f9c8",
      "metadata": {
        "id": "73d3c212-d8ca-46ae-89b0-64f5c403f9c8"
      },
      "outputs": [],
      "source": [
        "gene_matrix = snap.pp.make_gene_matrix(data, snap.genome.hg38)"
      ]
    },
    {
      "cell_type": "code",
      "execution_count": null,
      "id": "812e1a2d-a582-429a-8d58-7b631269589e",
      "metadata": {
        "id": "812e1a2d-a582-429a-8d58-7b631269589e"
      },
      "outputs": [],
      "source": [
        "gene_matrix"
      ]
    },
    {
      "cell_type": "code",
      "source": [
        "atac.write_h5ad('/content/drive/MyDrive/Colab Notebooks/CBG_matrix.h5ad')"
      ],
      "metadata": {
        "id": "RfW3b4B1r0Sv"
      },
      "id": "RfW3b4B1r0Sv",
      "execution_count": null,
      "outputs": []
    },
    {
      "cell_type": "markdown",
      "source": [
        "# Copy back other annotations"
      ],
      "metadata": {
        "id": "CVjloQOQV8Yi"
      },
      "id": "CVjloQOQV8Yi"
    },
    {
      "cell_type": "code",
      "source": [
        "SRR26046013_DM_AOA_INH_GM.uns = SRR26046013_DM_AOA_INH.uns\n",
        "SRR26046013_DM_AOA_INH_GM.obsm = SRR26046013_DM_AOA_INH.obsm\n",
        "SRR26046013_DM_AOA_INH_GM.obsp = SRR26046013_DM_AOA_INH.obsp"
      ],
      "metadata": {
        "id": "2w99ajAkV5MX"
      },
      "id": "2w99ajAkV5MX",
      "execution_count": null,
      "outputs": []
    },
    {
      "cell_type": "markdown",
      "source": [
        "# Imputation with scanpy and MAGIC"
      ],
      "metadata": {
        "id": "9fp-ZWO7AueM"
      },
      "id": "9fp-ZWO7AueM"
    },
    {
      "cell_type": "code",
      "source": [
        "%%time\n",
        "sc.pp.filter_genes(SRR26046013_DM_AOA_INH_GM, min_cells= 5)\n",
        "sc.pp.normalize_total(SRR26046013_DM_AOA_INH_GM)\n",
        "sc.pp.log1p(SRR26046013_DM_AOA_INH_GM)"
      ],
      "metadata": {
        "id": "nV6sPQwpA0CS"
      },
      "id": "nV6sPQwpA0CS",
      "execution_count": null,
      "outputs": []
    },
    {
      "cell_type": "code",
      "source": [
        "sc.external.pp.magic(SRR26046013_DM_AOA_INH_GM, solver=\"approximate\")"
      ],
      "metadata": {
        "id": "eqrY_cb-CIwB"
      },
      "id": "eqrY_cb-CIwB",
      "execution_count": null,
      "outputs": []
    },
    {
      "cell_type": "markdown",
      "source": [
        "# Preprocess according to scanpy flow"
      ],
      "metadata": {
        "id": "H9UNeOM7DRxH"
      },
      "id": "H9UNeOM7DRxH"
    },
    {
      "cell_type": "code",
      "source": [
        "sc.pp.scale(SRR26046013_DM_AOA_INH_GM, max_value = 10)\n",
        "sc.pp.pca(SRR26046013_DM_AOA_INH_GM, svd_solver = 'arpack')\n",
        "sc.pp.neighbors(SRR26046013_DM_AOA_INH_GM, n_neighbors=10, n_pcs=40)\n",
        "sc.tl.umap(SRR26046013_DM_AOA_INH_GM)\n",
        "sc.tl.leiden(SRR26046013_DM_AOA_INH_GM)"
      ],
      "metadata": {
        "id": "Q4q8Ura_DQUN"
      },
      "id": "Q4q8Ura_DQUN",
      "execution_count": null,
      "outputs": []
    },
    {
      "cell_type": "code",
      "source": [
        "SRR26046013_DM_AOA_INH_GM"
      ],
      "metadata": {
        "id": "Mt8JQVgYE1nc"
      },
      "id": "Mt8JQVgYE1nc",
      "execution_count": null,
      "outputs": []
    },
    {
      "cell_type": "code",
      "source": [
        "SRR26046013_DM_AOA_INH_GM.write_h5ad('/content/drive/MyDrive/Colab Notebooks/SRR26046013_DM_AOA_INH_GM.h5ad')"
      ],
      "metadata": {
        "id": "LAgkMmagtJ9Q"
      },
      "id": "LAgkMmagtJ9Q",
      "execution_count": null,
      "outputs": []
    },
    {
      "cell_type": "markdown",
      "source": [
        "# Part II - Annotate using reference scRNA dataset"
      ],
      "metadata": {
        "id": "dBs4VMDb97ON"
      },
      "id": "dBs4VMDb97ON"
    },
    {
      "cell_type": "markdown",
      "source": [
        "The process of setting up and training two models for label transfer using scvi-tools involves distinct steps for different purposes:\n",
        "\n",
        "1.  SCVI Model:\n",
        "\n",
        "Purpose: The SCVI model is trained to learn a latent representation of the data. This step helps in capturing the underlying structure and variability in the single-cell data.\n",
        "\n",
        "Functionality: By training the SCVI model, you obtain a latent space that can be used for various downstream analyses, including clustering, visualization, and integration of datasets.\n",
        "\n",
        "2. SCANVI Model:\n",
        "\n",
        "Purpose: The SCANVI model extends the SCVI model by incorporating cell type labels. It is specifically designed for semi-supervised learning, where some cells have known labels (from the reference dataset) and others do not (from the query dataset).\n",
        "\n",
        "Functionality: The SCANVI model uses the latent representation learned by the SCVI model and refines it by leveraging the cell type labels. This allows for accurate label transfer from the reference dataset to the query dataset.\n",
        "\n",
        "In summary, the SCVI model is first trained to learn a robust latent representation of the data. The SCANVI model then builds on this representation to perform label transfer, effectively combining the strengths of unsupervised and semi-supervised learning\n",
        "\n",
        "Reference:\n",
        "https://discourse.scverse.org/t/label-transfer-discrepancy-in-scanvi-model-training/2011https://discourse.scverse.org/t/scanvi-inferred-cell-types-dont-make-sense/3300.\n"
      ],
      "metadata": {
        "id": "mNBsOzZuQV21"
      },
      "id": "mNBsOzZuQV21"
    },
    {
      "cell_type": "markdown",
      "source": [
        "# Read reference file"
      ],
      "metadata": {
        "id": "MdeHNmeCU8On"
      },
      "id": "MdeHNmeCU8On"
    },
    {
      "cell_type": "code",
      "source": [
        "reference = sc.read_h5ad('/content/drive/MyDrive/Colab Notebooks/PBMC_reference_atlas_final.h5ad')\n",
        "#reference = snap.read(snap.datasets.pbmc10k_multiome(), backed=None)"
      ],
      "metadata": {
        "id": "vZ9PN_-57Rsb"
      },
      "id": "vZ9PN_-57Rsb",
      "execution_count": null,
      "outputs": []
    },
    {
      "cell_type": "code",
      "source": [
        "reference"
      ],
      "metadata": {
        "id": "uXctMECL7fkK"
      },
      "id": "uXctMECL7fkK",
      "execution_count": null,
      "outputs": []
    },
    {
      "cell_type": "code",
      "source": [
        "SRR26046013_DM_AOA_INH_GM"
      ],
      "metadata": {
        "id": "p4HtV-8N8fSb"
      },
      "id": "p4HtV-8N8fSb",
      "execution_count": null,
      "outputs": []
    },
    {
      "cell_type": "markdown",
      "source": [
        "# Read cell by gene matrix"
      ],
      "metadata": {
        "id": "RFddd3Dy-Ifw"
      },
      "id": "RFddd3Dy-Ifw"
    },
    {
      "cell_type": "code",
      "execution_count": null,
      "metadata": {
        "id": "__eI1yDCNEjJ"
      },
      "outputs": [],
      "source": [
        "query = sc.read_h5ad('/content/drive/MyDrive/Colab Notebooks/CBG_matrix.h5ad')"
      ],
      "id": "__eI1yDCNEjJ"
    },
    {
      "cell_type": "code",
      "source": [
        "query"
      ],
      "metadata": {
        "id": "Hbg3CA5INnO7"
      },
      "id": "Hbg3CA5INnO7",
      "execution_count": null,
      "outputs": []
    },
    {
      "cell_type": "code",
      "source": [
        "query.obs['cell_type'] = pd.NA"
      ],
      "metadata": {
        "id": "9-lVY4rFNQpK"
      },
      "id": "9-lVY4rFNQpK",
      "execution_count": null,
      "outputs": []
    },
    {
      "cell_type": "code",
      "source": [
        "query"
      ],
      "metadata": {
        "id": "lsLWca-6vnaU"
      },
      "id": "lsLWca-6vnaU",
      "execution_count": null,
      "outputs": []
    },
    {
      "cell_type": "code",
      "source": [
        "data = ad.concat(\n",
        "    [reference, query],\n",
        "    join='inner',\n",
        "    label='batch',\n",
        "    keys=[\"reference\", \"query\"],\n",
        "    index_unique='_',\n",
        ")\n",
        "data"
      ],
      "metadata": {
        "id": "mn9nAw_lNttw"
      },
      "id": "mn9nAw_lNttw",
      "execution_count": null,
      "outputs": []
    },
    {
      "cell_type": "markdown",
      "source": [
        "# Data integration\n",
        "First we setup the scvi-tools to pretrain the model."
      ],
      "metadata": {
        "id": "t8YrhAaFN1U0"
      },
      "id": "t8YrhAaFN1U0"
    },
    {
      "cell_type": "code",
      "source": [
        "# Train with scvi - part I\n",
        "scvi.model.SCVI.setup_anndata(data, batch_key=\"batch\")\n",
        "vae = scvi.model.SCVI(\n",
        "    data,\n",
        "    n_layers=2,\n",
        "    n_latent=30,\n",
        "    gene_likelihood=\"nb\",\n",
        "    dispersion=\"gene-batch\",\n",
        ")"
      ],
      "metadata": {
        "id": "5WFy85hKPxKr"
      },
      "id": "5WFy85hKPxKr",
      "execution_count": null,
      "outputs": []
    },
    {
      "cell_type": "code",
      "source": [
        "vae.train(max_epochs=1000, early_stopping=True)"
      ],
      "metadata": {
        "id": "lGE07eeTO1uk"
      },
      "id": "lGE07eeTO1uk",
      "execution_count": null,
      "outputs": []
    },
    {
      "cell_type": "code",
      "source": [
        "import matplotlib.pyplot as plt\n",
        "import matplotlib\n",
        "\n",
        "elbo_train = vae.history_['elbo_train']\n",
        "elbo_validation = vae.history_['elbo_validation']\n",
        "\n",
        "# Plot the training history\n",
        "ax = elbo_train.plot()\n",
        "elbo_validation.plot(ax=ax)\n",
        "\n",
        "# Customize the plot\n",
        "plt.xlabel(\"Epoch\")\n",
        "plt.ylabel(\"ELBO\")\n",
        "plt.title(\"Training and Validation ELBO\")\n",
        "plt.legend([\"Training ELBO\", \"Validation ELBO\"])\n",
        "\n",
        "# Show the plot\n",
        "plt.show()"
      ],
      "metadata": {
        "id": "9kMo84XzVYHk"
      },
      "id": "9kMo84XzVYHk",
      "execution_count": null,
      "outputs": []
    },
    {
      "cell_type": "code",
      "source": [
        "data"
      ],
      "metadata": {
        "id": "o0sRe-IWVx4E"
      },
      "id": "o0sRe-IWVx4E",
      "execution_count": null,
      "outputs": []
    },
    {
      "cell_type": "code",
      "source": [
        "data.obs[\"celltype_scanvi\"] = 'Unknown'\n",
        "ref_idx = data.obs['batch'] == \"reference\"\n",
        "data.obs[\"celltype_scanvi\"][ref_idx] = data.obs['cell_type'][ref_idx]"
      ],
      "metadata": {
        "id": "O6lAgB3APRMU"
      },
      "id": "O6lAgB3APRMU",
      "execution_count": null,
      "outputs": []
    },
    {
      "cell_type": "code",
      "source": [
        "data.obs"
      ],
      "metadata": {
        "id": "WPB6FsCoWCJ-"
      },
      "id": "WPB6FsCoWCJ-",
      "execution_count": null,
      "outputs": []
    },
    {
      "cell_type": "code",
      "source": [
        "# Train with scanvi - part II\n",
        "lvae = scvi.model.SCANVI.from_scvi_model(\n",
        "    vae,\n",
        "    adata=data,\n",
        "    labels_key=\"celltype_scanvi\",\n",
        "    unlabeled_category=\"Unknown\",\n",
        ")"
      ],
      "metadata": {
        "id": "AnMZad8jPvXn"
      },
      "id": "AnMZad8jPvXn",
      "execution_count": null,
      "outputs": []
    },
    {
      "cell_type": "code",
      "source": [
        "lvae.train(max_epochs=1000, n_samples_per_label=100)"
      ],
      "metadata": {
        "id": "Dg66OHVpPmbQ"
      },
      "id": "Dg66OHVpPmbQ",
      "execution_count": null,
      "outputs": []
    },
    {
      "cell_type": "markdown",
      "source": [
        "# Perform the label transfer/prediction\n",
        "Obtain the joint embedding of reference and query data"
      ],
      "metadata": {
        "id": "GdXuyClYRCNm"
      },
      "id": "GdXuyClYRCNm"
    },
    {
      "cell_type": "code",
      "source": [
        "data.obs[\"C_scANVI\"] = lvae.predict(data)\n",
        "data.obsm[\"X_scANVI\"] = lvae.get_latent_representation(data)\n",
        "sc.pp.neighbors(data, use_rep=\"X_scANVI\")\n",
        "sc.tl.umap(data)\n",
        "sc.pl.umap(data, color=['C_scANVI', \"batch\"], wspace=0.45)"
      ],
      "metadata": {
        "id": "nIpQW14JRD1r"
      },
      "id": "nIpQW14JRD1r",
      "execution_count": null,
      "outputs": []
    },
    {
      "cell_type": "code",
      "source": [
        "data"
      ],
      "metadata": {
        "id": "-rfHrSvSib9W"
      },
      "id": "-rfHrSvSib9W",
      "execution_count": null,
      "outputs": []
    },
    {
      "cell_type": "code",
      "source": [
        "data.obs"
      ],
      "metadata": {
        "id": "vwEkW1deiDJS"
      },
      "id": "vwEkW1deiDJS",
      "execution_count": null,
      "outputs": []
    },
    {
      "cell_type": "markdown",
      "source": [
        "# Save predicted cell type labels back to the original cell by bin matrix."
      ],
      "metadata": {
        "id": "bS6qkxutRosp"
      },
      "id": "bS6qkxutRosp"
    },
    {
      "cell_type": "code",
      "source": [
        "atac"
      ],
      "metadata": {
        "id": "4ldLlixpxdKE"
      },
      "id": "4ldLlixpxdKE",
      "execution_count": null,
      "outputs": []
    },
    {
      "cell_type": "code",
      "source": [
        "atac.obs['cell_type'] = query_data.obs.loc[atac.obs_names, 'cell_type'].to_numpy()"
      ],
      "metadata": {
        "id": "wHdOFBoFglsl"
      },
      "id": "wHdOFBoFglsl",
      "execution_count": null,
      "outputs": []
    },
    {
      "cell_type": "code",
      "source": [
        "atac"
      ],
      "metadata": {
        "id": "wpm_qT9Zx3OL"
      },
      "id": "wpm_qT9Zx3OL",
      "execution_count": null,
      "outputs": []
    },
    {
      "cell_type": "code",
      "source": [
        "atac.write_h5ad('/content/drive/MyDrive/Colab Notebooks/CBG_matrix_annotated.h5ad')"
      ],
      "metadata": {
        "id": "DKEzEdM5yAhb"
      },
      "id": "DKEzEdM5yAhb",
      "execution_count": null,
      "outputs": []
    },
    {
      "cell_type": "code",
      "source": [
        "atac.obs"
      ],
      "metadata": {
        "id": "JtG8aTZbySaU"
      },
      "id": "JtG8aTZbySaU",
      "execution_count": null,
      "outputs": []
    },
    {
      "cell_type": "code",
      "source": [
        "snap.pl.umap(query_data, color='cell_type', interactive=False)"
      ],
      "metadata": {
        "id": "I6CYcICkuDPb"
      },
      "id": "I6CYcICkuDPb",
      "execution_count": null,
      "outputs": []
    },
    {
      "cell_type": "code",
      "source": [
        "query_data.write_h5ad('/content/drive/MyDrive/Colab Notebooks/annotated_query_data.h5ad')"
      ],
      "metadata": {
        "id": "s7R41a-mkGkH"
      },
      "id": "s7R41a-mkGkH",
      "execution_count": null,
      "outputs": []
    },
    {
      "cell_type": "markdown",
      "source": [
        "# Part III - Identify differentially accessible regions"
      ],
      "metadata": {
        "id": "wbN4_ELOpclj"
      },
      "id": "wbN4_ELOpclj"
    },
    {
      "cell_type": "markdown",
      "source": [
        "# Load annotated AD matrix"
      ],
      "metadata": {
        "id": "G9_fyYkMplxp"
      },
      "id": "G9_fyYkMplxp"
    },
    {
      "cell_type": "code",
      "source": [
        "SRR26046013_DM_AOA_INH"
      ],
      "metadata": {
        "id": "w4P9niJT1O-O"
      },
      "id": "w4P9niJT1O-O",
      "execution_count": null,
      "outputs": []
    },
    {
      "cell_type": "code",
      "source": [
        "data = sc.read_h5ad('/content/drive/MyDrive/Colab Notebooks/CBG_matrix_annotated.h5ad')"
      ],
      "metadata": {
        "id": "kM6hG48bqMrG"
      },
      "id": "kM6hG48bqMrG",
      "execution_count": null,
      "outputs": []
    },
    {
      "cell_type": "code",
      "source": [
        "data"
      ],
      "metadata": {
        "id": "5QpfZyjgsFqG"
      },
      "id": "5QpfZyjgsFqG",
      "execution_count": null,
      "outputs": []
    },
    {
      "cell_type": "code",
      "source": [
        "sc.pp.scale(data, max_value = 10)\n",
        "sc.pp.pca(data, svd_solver = 'arpack')\n",
        "sc.pp.neighbors(data, n_neighbors=10, n_pcs=40)\n",
        "sc.tl.umap(data)\n",
        "sc.tl.leiden(data)"
      ],
      "metadata": {
        "id": "GBOJgKBU0hdQ"
      },
      "id": "GBOJgKBU0hdQ",
      "execution_count": null,
      "outputs": []
    },
    {
      "cell_type": "code",
      "source": [
        "data"
      ],
      "metadata": {
        "id": "5gC0Jtic05OX"
      },
      "id": "5gC0Jtic05OX",
      "execution_count": null,
      "outputs": []
    },
    {
      "cell_type": "code",
      "source": [
        "snap.pl.umap(data, color='cell_type', interactive=False)"
      ],
      "metadata": {
        "id": "0RoJb0Pur8oz"
      },
      "id": "0RoJb0Pur8oz",
      "execution_count": null,
      "outputs": []
    },
    {
      "cell_type": "code",
      "source": [
        "snap.tl.macs3(data, groupby='cell_type', )"
      ],
      "metadata": {
        "id": "o5CqI1G7e9av"
      },
      "id": "o5CqI1G7e9av",
      "execution_count": null,
      "outputs": []
    },
    {
      "cell_type": "code",
      "source": [],
      "metadata": {
        "id": "GUytvl-veded"
      },
      "id": "GUytvl-veded",
      "execution_count": null,
      "outputs": []
    }
  ],
  "metadata": {
    "colab": {
      "machine_shape": "hm",
      "provenance": [],
      "toc_visible": true,
      "include_colab_link": true
    },
    "kernelspec": {
      "display_name": "Python 3",
      "name": "python3"
    },
    "language_info": {
      "name": "python"
    }
  },
  "nbformat": 4,
  "nbformat_minor": 5
}