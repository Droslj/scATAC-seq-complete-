{
  "cells": [
    {
      "cell_type": "markdown",
      "metadata": {
        "id": "view-in-github",
        "colab_type": "text"
      },
      "source": [
        "<a href=\"https://colab.research.google.com/github/Droslj/scATAC-seq-complete-/blob/Google-colab/scATAC_seq_(1)_complete.ipynb\" target=\"_parent\"><img src=\"https://colab.research.google.com/assets/colab-badge.svg\" alt=\"Open In Colab\"/></a>"
      ]
    },
    {
      "cell_type": "markdown",
      "id": "f268332b-53de-4af8-9533-e48c041292f3",
      "metadata": {
        "id": "f268332b-53de-4af8-9533-e48c041292f3"
      },
      "source": [
        "scATAC seq, based on scATAC seq processing Galaxy tutorials (scATAC preprocessing (2), Standard scATAC seq processing pipeline (1) )\n",
        "AD Objects created in Galaxy using customized Galaxy WF with Snapatac2 and imported\n",
        "(1) https://usegalaxy.eu/training-material/topics/single-cell/tutorials/scatac-preprocessing-tenx/tutorial.html#mapping-reads-to-a-reference-genome, (2) https://usegalaxy.eu/training-material/topics/single-cell/tutorials/scatac-standard-processing-snapatac2/tutorial.html\n",
        "Data taken from the following NCBI study:\n",
        "Metabolic adaptation pilots the differentiation of human hematopoietic cells (https://www.ncbi.nlm.nih.gov/bioproject/PRJNA1015713)\n",
        "Import Anndata objects for two biological replicates, SRR26046013 (cells treated with AOA inhibitor) and SRR26046019 (untreated cells)\n",
        "Perform following steps:\n",
        "(1) Import matrices\n",
        "(2) Compute fragment size distribution\n",
        "(3) Compute TSS enrichment\n",
        "(4) Filter cell counts based on TSSe\n",
        "(5) Create cell by bin matrix based on 500 bp wide bins accross the whole genome\n",
        "(6) Perform feature selection\n",
        "(7) Perform Doublet removal\n",
        "(8) Perform Dim reduction (spectral)\n",
        "(9) Perform Clustering (neighborhood, UMAP, leiden)\n",
        "(10) Create a cell by gene matrix\n",
        "(11) Concatenate matrices using Inner join\n",
        "(12) Remove batch effects"
      ]
    },
    {
      "cell_type": "code",
      "source": [
        "!pip install -q condacolab"
      ],
      "metadata": {
        "id": "HYs7RhoU68Ks"
      },
      "id": "HYs7RhoU68Ks",
      "execution_count": null,
      "outputs": []
    },
    {
      "cell_type": "code",
      "source": [
        "import condacolab"
      ],
      "metadata": {
        "id": "QBQXEKjk7O-V"
      },
      "id": "QBQXEKjk7O-V",
      "execution_count": null,
      "outputs": []
    },
    {
      "cell_type": "code",
      "source": [
        "condacolab.install()"
      ],
      "metadata": {
        "colab": {
          "base_uri": "https://localhost:8080/"
        },
        "id": "YdiPg8vS7ZKq",
        "outputId": "636bc07a-1939-44f5-fb6b-3da213ed8c9d"
      },
      "id": "YdiPg8vS7ZKq",
      "execution_count": null,
      "outputs": [
        {
          "output_type": "stream",
          "name": "stdout",
          "text": [
            "✨🍰✨ Everything looks OK!\n"
          ]
        }
      ]
    },
    {
      "cell_type": "code",
      "source": [
        "!conda --version"
      ],
      "metadata": {
        "colab": {
          "base_uri": "https://localhost:8080/"
        },
        "id": "VITjp1M56yu_",
        "outputId": "c5ab92e1-7aab-477a-bcb8-621829cef921"
      },
      "id": "VITjp1M56yu_",
      "execution_count": null,
      "outputs": [
        {
          "output_type": "stream",
          "name": "stdout",
          "text": [
            "conda 23.11.0\n"
          ]
        }
      ]
    },
    {
      "cell_type": "code",
      "source": [
        "!which conda"
      ],
      "metadata": {
        "colab": {
          "base_uri": "https://localhost:8080/"
        },
        "id": "S-oCMIm-7p9i",
        "outputId": "60f11b3e-90e9-426d-df38-17c377d49a8d"
      },
      "id": "S-oCMIm-7p9i",
      "execution_count": null,
      "outputs": [
        {
          "output_type": "stream",
          "name": "stdout",
          "text": [
            "/usr/local/bin/conda\n"
          ]
        }
      ]
    },
    {
      "cell_type": "code",
      "source": [
        "!conda config --add channels conda-forge"
      ],
      "metadata": {
        "colab": {
          "base_uri": "https://localhost:8080/"
        },
        "id": "D6zjhdZm-BJp",
        "outputId": "d33b9ab8-539d-48b8-a064-4ef46a99906e"
      },
      "id": "D6zjhdZm-BJp",
      "execution_count": null,
      "outputs": [
        {
          "output_type": "stream",
          "name": "stdout",
          "text": [
            "Warning: 'conda-forge' already in 'channels' list, moving to the top\n"
          ]
        }
      ]
    },
    {
      "cell_type": "code",
      "source": [
        "!conda config --add channels bioconda"
      ],
      "metadata": {
        "colab": {
          "base_uri": "https://localhost:8080/"
        },
        "id": "JpJESCcU-fO_",
        "outputId": "756e56a6-78c9-4af0-e576-2e1fde6c474c"
      },
      "id": "JpJESCcU-fO_",
      "execution_count": null,
      "outputs": [
        {
          "output_type": "stream",
          "name": "stdout",
          "text": [
            "Warning: 'bioconda' already in 'channels' list, moving to the top\n"
          ]
        }
      ]
    },
    {
      "source": [
        "!pip install snapatac2 -q"
      ],
      "cell_type": "code",
      "metadata": {
        "colab": {
          "base_uri": "https://localhost:8080/"
        },
        "id": "gZdiRWwb1rZJ",
        "outputId": "53eec155-5890-4d60-8f1a-89a58071de71"
      },
      "id": "gZdiRWwb1rZJ",
      "execution_count": 1,
      "outputs": [
        {
          "output_type": "stream",
          "name": "stdout",
          "text": [
            "\u001b[?25l     \u001b[90m━━━━━━━━━━━━━━━━━━━━━━━━━━━━━━━━━━━━━━━━\u001b[0m \u001b[32m0.0/687.2 kB\u001b[0m \u001b[31m?\u001b[0m eta \u001b[36m-:--:--\u001b[0m\r\u001b[2K     \u001b[91m━━━━━━━━━━━━━━━━━━━━━━━━━━━━━━━━━━━━━━━\u001b[0m\u001b[91m╸\u001b[0m \u001b[32m686.1/687.2 kB\u001b[0m \u001b[31m22.2 MB/s\u001b[0m eta \u001b[36m0:00:01\u001b[0m\r\u001b[2K     \u001b[90m━━━━━━━━━━━━━━━━━━━━━━━━━━━━━━━━━━━━━━━━\u001b[0m \u001b[32m687.2/687.2 kB\u001b[0m \u001b[31m16.9 MB/s\u001b[0m eta \u001b[36m0:00:00\u001b[0m\n",
            "\u001b[?25h  Installing build dependencies ... \u001b[?25l\u001b[?25hdone\n",
            "  Getting requirements to build wheel ... \u001b[?25l\u001b[?25hdone\n",
            "  Preparing metadata (pyproject.toml) ... \u001b[?25l\u001b[?25hdone\n",
            "\u001b[2K   \u001b[90m━━━━━━━━━━━━━━━━━━━━━━━━━━━━━━━━━━━━━━━━\u001b[0m \u001b[32m17.4/17.4 MB\u001b[0m \u001b[31m11.1 MB/s\u001b[0m eta \u001b[36m0:00:00\u001b[0m\n",
            "\u001b[2K   \u001b[90m━━━━━━━━━━━━━━━━━━━━━━━━━━━━━━━━━━━━━━━━\u001b[0m \u001b[32m129.0/129.0 kB\u001b[0m \u001b[31m14.1 MB/s\u001b[0m eta \u001b[36m0:00:00\u001b[0m\n",
            "\u001b[2K   \u001b[90m━━━━━━━━━━━━━━━━━━━━━━━━━━━━━━━━━━━━━━━━\u001b[0m \u001b[32m3.1/3.1 MB\u001b[0m \u001b[31m106.3 MB/s\u001b[0m eta \u001b[36m0:00:00\u001b[0m\n",
            "\u001b[2K   \u001b[90m━━━━━━━━━━━━━━━━━━━━━━━━━━━━━━━━━━━━━━━━\u001b[0m \u001b[32m12.2/12.2 MB\u001b[0m \u001b[31m118.5 MB/s\u001b[0m eta \u001b[36m0:00:00\u001b[0m\n",
            "\u001b[2K   \u001b[90m━━━━━━━━━━━━━━━━━━━━━━━━━━━━━━━━━━━━━━━━\u001b[0m \u001b[32m79.9/79.9 MB\u001b[0m \u001b[31m28.7 MB/s\u001b[0m eta \u001b[36m0:00:00\u001b[0m\n",
            "\u001b[2K   \u001b[90m━━━━━━━━━━━━━━━━━━━━━━━━━━━━━━━━━━━━━━━━\u001b[0m \u001b[32m144.3/144.3 kB\u001b[0m \u001b[31m16.5 MB/s\u001b[0m eta \u001b[36m0:00:00\u001b[0m\n",
            "\u001b[2K   \u001b[90m━━━━━━━━━━━━━━━━━━━━━━━━━━━━━━━━━━━━━━━━\u001b[0m \u001b[32m2.0/2.0 MB\u001b[0m \u001b[31m90.0 MB/s\u001b[0m eta \u001b[36m0:00:00\u001b[0m\n",
            "\u001b[2K   \u001b[90m━━━━━━━━━━━━━━━━━━━━━━━━━━━━━━━━━━━━━━━━\u001b[0m \u001b[32m50.4/50.4 kB\u001b[0m \u001b[31m5.7 MB/s\u001b[0m eta \u001b[36m0:00:00\u001b[0m\n",
            "\u001b[2K   \u001b[90m━━━━━━━━━━━━━━━━━━━━━━━━━━━━━━━━━━━━━━━━\u001b[0m \u001b[32m119.4/119.4 kB\u001b[0m \u001b[31m14.7 MB/s\u001b[0m eta \u001b[36m0:00:00\u001b[0m\n",
            "\u001b[?25h  Building wheel for macs3 (pyproject.toml) ... \u001b[?25l\u001b[?25hdone\n",
            "\u001b[31mERROR: pip's dependency resolver does not currently take into account all the packages that are installed. This behaviour is the source of the following dependency conflicts.\n",
            "google-colab 1.0.0 requires pandas==2.2.2, but you have pandas 2.1.1 which is incompatible.\n",
            "plotnine 0.14.5 requires pandas>=2.2.0, but you have pandas 2.1.1 which is incompatible.\n",
            "mizani 0.13.1 requires pandas>=2.2.0, but you have pandas 2.1.1 which is incompatible.\u001b[0m\u001b[31m\n",
            "\u001b[0m"
          ]
        }
      ]
    },
    {
      "cell_type": "code",
      "source": [
        "!pip install snapatac2 -q"
      ],
      "metadata": {
        "id": "eMZGOliRmvNh"
      },
      "id": "eMZGOliRmvNh",
      "execution_count": 2,
      "outputs": []
    },
    {
      "cell_type": "code",
      "source": [
        "!pip show snapatac2"
      ],
      "metadata": {
        "colab": {
          "base_uri": "https://localhost:8080/"
        },
        "id": "jsCJ2get4W8l",
        "outputId": "3504fd86-40f5-4d28-b2fb-fee0cb0de337"
      },
      "id": "jsCJ2get4W8l",
      "execution_count": 3,
      "outputs": [
        {
          "output_type": "stream",
          "name": "stdout",
          "text": [
            "Name: snapatac2\n",
            "Version: 2.8.0\n",
            "Summary: SnapATAC2: Single-cell epigenomics analysis pipeline\n",
            "Home-page: https://github.com/\n",
            "Author: Kai Zhang <kai@kzhang.org>\n",
            "Author-email: Kai Zhang <zhangkai33@westlake.edu.cn>\n",
            "License: MIT\n",
            "Location: /usr/local/lib/python3.11/dist-packages\n",
            "Requires: anndata, igraph, kaleido, macs3, multiprocess, natsort, numpy, pandas, plotly, polars, pooch, pyarrow, pyfaidx, rustworkx, scikit-learn, scipy, tqdm, typeguard\n",
            "Required-by: \n"
          ]
        }
      ]
    },
    {
      "cell_type": "code",
      "source": [
        "!pip install scvi-tools -q"
      ],
      "metadata": {
        "colab": {
          "base_uri": "https://localhost:8080/"
        },
        "id": "cu7XM4KXOQGA",
        "outputId": "9449aa3f-30d7-4dc9-9ff3-93933e112397"
      },
      "id": "cu7XM4KXOQGA",
      "execution_count": 4,
      "outputs": [
        {
          "output_type": "stream",
          "name": "stdout",
          "text": [
            "  Preparing metadata (setup.py) ... \u001b[?25l\u001b[?25hdone\n",
            "\u001b[2K     \u001b[90m━━━━━━━━━━━━━━━━━━━━━━━━━━━━━━━━━━━━━━━━\u001b[0m \u001b[32m40.4/40.4 kB\u001b[0m \u001b[31m4.3 MB/s\u001b[0m eta \u001b[36m0:00:00\u001b[0m\n",
            "\u001b[2K   \u001b[90m━━━━━━━━━━━━━━━━━━━━━━━━━━━━━━━━━━━━━━━━\u001b[0m \u001b[32m459.3/459.3 kB\u001b[0m \u001b[31m15.4 MB/s\u001b[0m eta \u001b[36m0:00:00\u001b[0m\n",
            "\u001b[2K   \u001b[90m━━━━━━━━━━━━━━━━━━━━━━━━━━━━━━━━━━━━━━━━\u001b[0m \u001b[32m142.7/142.7 kB\u001b[0m \u001b[31m17.6 MB/s\u001b[0m eta \u001b[36m0:00:00\u001b[0m\n",
            "\u001b[2K   \u001b[90m━━━━━━━━━━━━━━━━━━━━━━━━━━━━━━━━━━━━━━━━\u001b[0m \u001b[32m815.2/815.2 kB\u001b[0m \u001b[31m48.2 MB/s\u001b[0m eta \u001b[36m0:00:00\u001b[0m\n",
            "\u001b[2K   \u001b[90m━━━━━━━━━━━━━━━━━━━━━━━━━━━━━━━━━━━━━━━━\u001b[0m \u001b[32m76.5/76.5 kB\u001b[0m \u001b[31m8.9 MB/s\u001b[0m eta \u001b[36m0:00:00\u001b[0m\n",
            "\u001b[2K   \u001b[90m━━━━━━━━━━━━━━━━━━━━━━━━━━━━━━━━━━━━━━━━\u001b[0m \u001b[32m41.0/41.0 kB\u001b[0m \u001b[31m4.5 MB/s\u001b[0m eta \u001b[36m0:00:00\u001b[0m\n",
            "\u001b[2K   \u001b[90m━━━━━━━━━━━━━━━━━━━━━━━━━━━━━━━━━━━━━━━━\u001b[0m \u001b[32m356.1/356.1 kB\u001b[0m \u001b[31m39.3 MB/s\u001b[0m eta \u001b[36m0:00:00\u001b[0m\n",
            "\u001b[2K   \u001b[90m━━━━━━━━━━━━━━━━━━━━━━━━━━━━━━━━━━━━━━━━\u001b[0m \u001b[32m756.0/756.0 kB\u001b[0m \u001b[31m55.6 MB/s\u001b[0m eta \u001b[36m0:00:00\u001b[0m\n",
            "\u001b[2K   \u001b[90m━━━━━━━━━━━━━━━━━━━━━━━━━━━━━━━━━━━━━━━━\u001b[0m \u001b[32m117.4/117.4 kB\u001b[0m \u001b[31m14.2 MB/s\u001b[0m eta \u001b[36m0:00:00\u001b[0m\n",
            "\u001b[2K   \u001b[90m━━━━━━━━━━━━━━━━━━━━━━━━━━━━━━━━━━━━━━━━\u001b[0m \u001b[32m927.3/927.3 kB\u001b[0m \u001b[31m58.4 MB/s\u001b[0m eta \u001b[36m0:00:00\u001b[0m\n",
            "\u001b[2K   \u001b[90m━━━━━━━━━━━━━━━━━━━━━━━━━━━━━━━━━━━━━━━━\u001b[0m \u001b[32m819.3/819.3 kB\u001b[0m \u001b[31m56.9 MB/s\u001b[0m eta \u001b[36m0:00:00\u001b[0m\n",
            "\u001b[?25h  Building wheel for docrep (setup.py) ... \u001b[?25l\u001b[?25hdone\n",
            "\u001b[31mERROR: pip's dependency resolver does not currently take into account all the packages that are installed. This behaviour is the source of the following dependency conflicts.\n",
            "snapatac2 2.8.0 requires anndata<0.11.0,>=0.8.0, but you have anndata 0.11.3 which is incompatible.\u001b[0m\u001b[31m\n",
            "\u001b[0m"
          ]
        }
      ]
    },
    {
      "cell_type": "code",
      "source": [
        "!pip install scvi-tools -q"
      ],
      "metadata": {
        "id": "jnB1seAgOaVw"
      },
      "id": "jnB1seAgOaVw",
      "execution_count": 5,
      "outputs": []
    },
    {
      "cell_type": "code",
      "source": [
        "import scvi"
      ],
      "metadata": {
        "id": "29h1GkcLOVTU"
      },
      "id": "29h1GkcLOVTU",
      "execution_count": 6,
      "outputs": []
    },
    {
      "cell_type": "code",
      "source": [
        "import snapatac2 as snap"
      ],
      "metadata": {
        "id": "z2G4FDYqgSmQ"
      },
      "id": "z2G4FDYqgSmQ",
      "execution_count": 7,
      "outputs": []
    },
    {
      "cell_type": "code",
      "source": [
        "!pip install umap-learn -q\n",
        "\n"
      ],
      "metadata": {
        "colab": {
          "base_uri": "https://localhost:8080/"
        },
        "id": "VZLaiDEzlB1m",
        "outputId": "f6524136-69e4-4d04-8029-21c6a6a293b4"
      },
      "id": "VZLaiDEzlB1m",
      "execution_count": 8,
      "outputs": [
        {
          "output_type": "stream",
          "name": "stdout",
          "text": [
            "\u001b[?25l   \u001b[90m━━━━━━━━━━━━━━━━━━━━━━━━━━━━━━━━━━━━━━━━\u001b[0m \u001b[32m0.0/88.8 kB\u001b[0m \u001b[31m?\u001b[0m eta \u001b[36m-:--:--\u001b[0m\r\u001b[2K   \u001b[90m━━━━━━━━━━━━━━━━━━━━━━━━━━━━━━━━━━━━━━━━\u001b[0m \u001b[32m88.8/88.8 kB\u001b[0m \u001b[31m6.3 MB/s\u001b[0m eta \u001b[36m0:00:00\u001b[0m\n",
            "\u001b[?25h\u001b[?25l   \u001b[90m━━━━━━━━━━━━━━━━━━━━━━━━━━━━━━━━━━━━━━━━\u001b[0m \u001b[32m0.0/56.9 kB\u001b[0m \u001b[31m?\u001b[0m eta \u001b[36m-:--:--\u001b[0m\r\u001b[2K   \u001b[90m━━━━━━━━━━━━━━━━━━━━━━━━━━━━━━━━━━━━━━━━\u001b[0m \u001b[32m56.9/56.9 kB\u001b[0m \u001b[31m6.9 MB/s\u001b[0m eta \u001b[36m0:00:00\u001b[0m\n",
            "\u001b[?25h"
          ]
        }
      ]
    },
    {
      "cell_type": "code",
      "source": [
        "import umap.umap_ as umap\n"
      ],
      "metadata": {
        "id": "BCEdegOSgRBg"
      },
      "id": "BCEdegOSgRBg",
      "execution_count": 9,
      "outputs": []
    },
    {
      "cell_type": "code",
      "source": [
        "from umap import UMAP"
      ],
      "metadata": {
        "id": "FVmqXk-vlFrB"
      },
      "id": "FVmqXk-vlFrB",
      "execution_count": 10,
      "outputs": []
    },
    {
      "cell_type": "code",
      "source": [
        "!pip install scanpy -q"
      ],
      "metadata": {
        "id": "CM_xhHZxUcF5",
        "colab": {
          "base_uri": "https://localhost:8080/"
        },
        "outputId": "dbf95d27-e2ab-49d2-f1d0-aca3ee4cc3f8"
      },
      "id": "CM_xhHZxUcF5",
      "execution_count": 11,
      "outputs": [
        {
          "output_type": "stream",
          "name": "stdout",
          "text": [
            "  Preparing metadata (setup.py) ... \u001b[?25l\u001b[?25hdone\n",
            "\u001b[2K   \u001b[90m━━━━━━━━━━━━━━━━━━━━━━━━━━━━━━━━━━━━━━━━\u001b[0m \u001b[32m2.1/2.1 MB\u001b[0m \u001b[31m40.4 MB/s\u001b[0m eta \u001b[36m0:00:00\u001b[0m\n",
            "\u001b[2K   \u001b[90m━━━━━━━━━━━━━━━━━━━━━━━━━━━━━━━━━━━━━━━━\u001b[0m \u001b[32m83.6/83.6 kB\u001b[0m \u001b[31m9.9 MB/s\u001b[0m eta \u001b[36m0:00:00\u001b[0m\n",
            "\u001b[?25h  Building wheel for session-info (setup.py) ... \u001b[?25l\u001b[?25hdone\n"
          ]
        }
      ]
    },
    {
      "cell_type": "code",
      "source": [
        "import scanpy as sc"
      ],
      "metadata": {
        "id": "NYl1nQOhUoj2"
      },
      "id": "NYl1nQOhUoj2",
      "execution_count": 12,
      "outputs": []
    },
    {
      "cell_type": "code",
      "source": [
        "pip show scanpy"
      ],
      "metadata": {
        "colab": {
          "base_uri": "https://localhost:8080/"
        },
        "id": "rkvTEjpw_csS",
        "outputId": "b1b43b36-85c2-4a13-ce27-d600d33a2442"
      },
      "id": "rkvTEjpw_csS",
      "execution_count": 13,
      "outputs": [
        {
          "output_type": "stream",
          "name": "stdout",
          "text": [
            "Name: scanpy\n",
            "Version: 1.10.4\n",
            "Summary: Single-Cell Analysis in Python.\n",
            "Home-page: https://scanpy.org\n",
            "Author: Alex Wolf, Philipp Angerer, Fidel Ramirez, Isaac Virshup, Sergei Rybakov, Gokcen Eraslan, Tom White, Malte Luecken, Davide Cittaro, Tobias Callies, Marius Lange, Andrés R. Muñoz-Rojas\n",
            "Author-email: \n",
            "License: \n",
            "Location: /usr/local/lib/python3.11/dist-packages\n",
            "Requires: anndata, h5py, joblib, legacy-api-wrap, matplotlib, natsort, networkx, numba, numpy, packaging, pandas, patsy, pynndescent, scikit-learn, scipy, seaborn, session-info, statsmodels, tqdm, umap-learn\n",
            "Required-by: \n"
          ]
        }
      ]
    },
    {
      "cell_type": "code",
      "source": [
        "!pip install magic-impute -q"
      ],
      "metadata": {
        "colab": {
          "base_uri": "https://localhost:8080/"
        },
        "id": "wHb_wo4QB7C_",
        "outputId": "c5df7730-e5d8-40e8-a0d3-e635da1e1b8a"
      },
      "id": "wHb_wo4QB7C_",
      "execution_count": 14,
      "outputs": [
        {
          "output_type": "stream",
          "name": "stdout",
          "text": [
            "\u001b[?25l   \u001b[90m━━━━━━━━━━━━━━━━━━━━━━━━━━━━━━━━━━━━━━━━\u001b[0m \u001b[32m0.0/45.4 kB\u001b[0m \u001b[31m?\u001b[0m eta \u001b[36m-:--:--\u001b[0m\r\u001b[2K   \u001b[90m━━━━━━━━━━━━━━━━━━━━━━━━━━━━━━━━━━━━━━━━\u001b[0m \u001b[32m45.4/45.4 kB\u001b[0m \u001b[31m3.2 MB/s\u001b[0m eta \u001b[36m0:00:00\u001b[0m\n",
            "\u001b[2K   \u001b[90m━━━━━━━━━━━━━━━━━━━━━━━━━━━━━━━━━━━━━━━━\u001b[0m \u001b[32m94.1/94.1 kB\u001b[0m \u001b[31m7.1 MB/s\u001b[0m eta \u001b[36m0:00:00\u001b[0m\n",
            "\u001b[2K   \u001b[90m━━━━━━━━━━━━━━━━━━━━━━━━━━━━━━━━━━━━━━━━\u001b[0m \u001b[32m12.2/12.2 MB\u001b[0m \u001b[31m67.7 MB/s\u001b[0m eta \u001b[36m0:00:00\u001b[0m\n",
            "\u001b[2K   \u001b[90m━━━━━━━━━━━━━━━━━━━━━━━━━━━━━━━━━━━━━━━━\u001b[0m \u001b[32m1.8/1.8 MB\u001b[0m \u001b[31m22.8 MB/s\u001b[0m eta \u001b[36m0:00:00\u001b[0m\n",
            "\u001b[?25h\u001b[31mERROR: pip's dependency resolver does not currently take into account all the packages that are installed. This behaviour is the source of the following dependency conflicts.\n",
            "snapatac2 2.8.0 requires anndata<0.11.0,>=0.8.0, but you have anndata 0.11.3 which is incompatible.\n",
            "google-colab 1.0.0 requires pandas==2.2.2, but you have pandas 2.0.3 which is incompatible.\n",
            "plotnine 0.14.5 requires pandas>=2.2.0, but you have pandas 2.0.3 which is incompatible.\n",
            "xarray 2025.1.1 requires pandas>=2.1, but you have pandas 2.0.3 which is incompatible.\n",
            "mizani 0.13.1 requires pandas>=2.2.0, but you have pandas 2.0.3 which is incompatible.\u001b[0m\u001b[31m\n",
            "\u001b[0m"
          ]
        }
      ]
    },
    {
      "cell_type": "code",
      "source": [
        "!pip install leidenalg -q"
      ],
      "metadata": {
        "colab": {
          "base_uri": "https://localhost:8080/"
        },
        "id": "oirt93RVEK-D",
        "outputId": "321b842d-863f-457b-9ad7-254431e27b01"
      },
      "id": "oirt93RVEK-D",
      "execution_count": 15,
      "outputs": [
        {
          "output_type": "stream",
          "name": "stdout",
          "text": [
            "\u001b[?25l   \u001b[90m━━━━━━━━━━━━━━━━━━━━━━━━━━━━━━━━━━━━━━━━\u001b[0m \u001b[32m0.0/2.0 MB\u001b[0m \u001b[31m?\u001b[0m eta \u001b[36m-:--:--\u001b[0m\r\u001b[2K   \u001b[91m━━━━━━\u001b[0m\u001b[90m╺\u001b[0m\u001b[90m━━━━━━━━━━━━━━━━━━━━━━━━━━━━━━━━━\u001b[0m \u001b[32m0.3/2.0 MB\u001b[0m \u001b[31m9.6 MB/s\u001b[0m eta \u001b[36m0:00:01\u001b[0m\r\u001b[2K   \u001b[91m━━━━━━━━━━━━━━━━━━━━━━━━━━━━━━━━━━━━━━━\u001b[0m\u001b[91m╸\u001b[0m \u001b[32m2.0/2.0 MB\u001b[0m \u001b[31m35.3 MB/s\u001b[0m eta \u001b[36m0:00:01\u001b[0m\r\u001b[2K   \u001b[90m━━━━━━━━━━━━━━━━━━━━━━━━━━━━━━━━━━━━━━━━\u001b[0m \u001b[32m2.0/2.0 MB\u001b[0m \u001b[31m28.1 MB/s\u001b[0m eta \u001b[36m0:00:00\u001b[0m\n",
            "\u001b[?25h"
          ]
        }
      ]
    },
    {
      "cell_type": "code",
      "execution_count": 16,
      "id": "4e15629f-bdc4-46dd-8375-a1f2e17960ca",
      "metadata": {
        "id": "4e15629f-bdc4-46dd-8375-a1f2e17960ca"
      },
      "outputs": [],
      "source": [
        "import numpy as np"
      ]
    },
    {
      "cell_type": "code",
      "execution_count": 17,
      "id": "37ff51dc-8860-4ab6-ab44-8223b33ea879",
      "metadata": {
        "id": "37ff51dc-8860-4ab6-ab44-8223b33ea879"
      },
      "outputs": [],
      "source": [
        "import anndata as ad"
      ]
    },
    {
      "cell_type": "code",
      "execution_count": 18,
      "id": "f54f07e0-84cc-4ab9-a156-ea8467a76fc4",
      "metadata": {
        "id": "f54f07e0-84cc-4ab9-a156-ea8467a76fc4"
      },
      "outputs": [],
      "source": [
        "import matplotlib.pyplot as plt"
      ]
    },
    {
      "cell_type": "code",
      "execution_count": 19,
      "id": "dfc626e2-9a64-4f0f-8677-1da6e446ea3a",
      "metadata": {
        "id": "dfc626e2-9a64-4f0f-8677-1da6e446ea3a"
      },
      "outputs": [],
      "source": [
        "import plotly.subplots as sp\n",
        "import plotly.graph_objects as go"
      ]
    },
    {
      "cell_type": "code",
      "source": [
        "import pandas as pd"
      ],
      "metadata": {
        "id": "wIN4ttvPN-LD"
      },
      "id": "wIN4ttvPN-LD",
      "execution_count": 20,
      "outputs": []
    },
    {
      "cell_type": "markdown",
      "id": "43f56d4f-c4ec-496e-96bd-6645365df65c",
      "metadata": {
        "id": "43f56d4f-c4ec-496e-96bd-6645365df65c"
      },
      "source": [
        "# Import reads from google drive, one sample treated with energy metabolism inhibitors and one untreated"
      ]
    },
    {
      "cell_type": "code",
      "source": [
        "from google.colab import drive\n",
        "drive.mount('/content/drive')"
      ],
      "metadata": {
        "colab": {
          "base_uri": "https://localhost:8080/"
        },
        "id": "BpK5P48ACJOW",
        "outputId": "52de3a91-f7c2-4651-9194-d3f56a51523e"
      },
      "id": "BpK5P48ACJOW",
      "execution_count": 22,
      "outputs": [
        {
          "output_type": "stream",
          "name": "stdout",
          "text": [
            "Mounted at /content/drive\n"
          ]
        }
      ]
    },
    {
      "cell_type": "code",
      "execution_count": 23,
      "id": "be1662ba-006c-4be4-9858-70480fa51fe3",
      "metadata": {
        "id": "be1662ba-006c-4be4-9858-70480fa51fe3"
      },
      "outputs": [],
      "source": [
        "SRR26046013_DM_AOA_INH = sc.read_h5ad('/content/drive/MyDrive/Colab Notebooks/fragments_matrix.h5ad')"
      ]
    },
    {
      "cell_type": "code",
      "execution_count": 24,
      "id": "967b901c-c65e-436a-8c7c-2583264344ce",
      "metadata": {
        "id": "967b901c-c65e-436a-8c7c-2583264344ce",
        "colab": {
          "base_uri": "https://localhost:8080/"
        },
        "outputId": "e728db9d-6b91-4fd9-fec0-6fdfeb49c1c5"
      },
      "outputs": [
        {
          "output_type": "execute_result",
          "data": {
            "text/plain": [
              "AnnData object with n_obs × n_vars = 10210 × 0\n",
              "    obs: 'n_fragment', 'frac_dup', 'frac_mito'\n",
              "    uns: 'reference_sequences'\n",
              "    obsm: 'fragment_paired'"
            ]
          },
          "metadata": {},
          "execution_count": 24
        }
      ],
      "source": [
        "SRR26046013_DM_AOA_INH"
      ]
    },
    {
      "cell_type": "markdown",
      "id": "8d0d9a69-6554-4ab7-8457-626e3316378d",
      "metadata": {
        "id": "8d0d9a69-6554-4ab7-8457-626e3316378d"
      },
      "source": [
        "Compute fragment size distributions"
      ]
    },
    {
      "cell_type": "code",
      "source": [
        "snap.metrics.frag_size_distr(SRR26046013_DM_AOA_INH)"
      ],
      "metadata": {
        "id": "oH-_Vju2Q28S"
      },
      "id": "oH-_Vju2Q28S",
      "execution_count": 25,
      "outputs": []
    },
    {
      "cell_type": "markdown",
      "id": "bfb2ab5a-2f93-46ec-be0c-0711844bff6e",
      "metadata": {
        "id": "bfb2ab5a-2f93-46ec-be0c-0711844bff6e"
      },
      "source": [
        "# Compute and plot TSSe"
      ]
    },
    {
      "cell_type": "code",
      "execution_count": 26,
      "id": "50d4eb5b-0e04-4227-9899-0380f7910d01",
      "metadata": {
        "id": "50d4eb5b-0e04-4227-9899-0380f7910d01"
      },
      "outputs": [],
      "source": [
        "# Compute TSSe metrics\n",
        "# Get genome annotation\n",
        "gene_anno = snap.genome.hg38"
      ]
    },
    {
      "cell_type": "code",
      "execution_count": 27,
      "id": "548c5878-5da8-430b-b83d-d6596b92209d",
      "metadata": {
        "id": "548c5878-5da8-430b-b83d-d6596b92209d",
        "colab": {
          "base_uri": "https://localhost:8080/"
        },
        "outputId": "81cdf7e8-0ce1-479e-a821-09a355849254"
      },
      "outputs": [
        {
          "output_type": "stream",
          "name": "stderr",
          "text": [
            "Downloading file 'gencode_v41_GRCh38.gff3.gz' from 'https://ftp.ebi.ac.uk/pub/databases/gencode/Gencode_human/release_41/gencode.v41.basic.annotation.gff3.gz' to '/root/.cache/snapatac2'.\n",
            "100%|█████████████████████████████████████| 35.0M/35.0M [00:00<00:00, 37.6GB/s]\n"
          ]
        }
      ],
      "source": [
        "snap.metrics.tsse(SRR26046013_DM_AOA_INH, gene_anno)"
      ]
    },
    {
      "cell_type": "code",
      "execution_count": 28,
      "id": "a8dcf546-39fe-4cd8-b12d-ec1189032d2e",
      "metadata": {
        "id": "a8dcf546-39fe-4cd8-b12d-ec1189032d2e",
        "colab": {
          "base_uri": "https://localhost:8080/",
          "height": 506
        },
        "outputId": "8fe1f51c-e418-4119-cc38-3f897f2a6fd5"
      },
      "outputs": [
        {
          "output_type": "stream",
          "name": "stderr",
          "text": [
            "/usr/local/lib/python3.11/dist-packages/snapatac2/plotting/__init__.py:97: FutureWarning: Series.__getitem__ treating keys as positions is deprecated. In a future version, integer keys will always be treated as labels (consistent with DataFrame behavior). To access a value by position, use `ser.iloc[pos]`\n",
            "  x = adata.obs[\"n_fragment\"][selected_cells]\n",
            "/usr/local/lib/python3.11/dist-packages/snapatac2/plotting/__init__.py:98: FutureWarning: Series.__getitem__ treating keys as positions is deprecated. In a future version, integer keys will always be treated as labels (consistent with DataFrame behavior). To access a value by position, use `ser.iloc[pos]`\n",
            "  y = adata.obs[\"tsse\"][selected_cells]\n"
          ]
        },
        {
          "output_type": "display_data",
          "data": {
            "text/html": [
              "<html>\n",
              "<head><meta charset=\"utf-8\" /></head>\n",
              "<body>\n",
              "    <div>            <script src=\"https://cdnjs.cloudflare.com/ajax/libs/mathjax/2.7.5/MathJax.js?config=TeX-AMS-MML_SVG\"></script><script type=\"text/javascript\">if (window.MathJax && window.MathJax.Hub && window.MathJax.Hub.Config) {window.MathJax.Hub.Config({SVG: {font: \"STIX-Web\"}});}</script>                <script type=\"text/javascript\">window.PlotlyConfig = {MathJaxConfig: 'local'};</script>\n",
              "        <script charset=\"utf-8\" src=\"https://cdn.plot.ly/plotly-2.35.2.min.js\"></script>                <div id=\"ccb0a704-f0f8-45d0-ac6c-68b2c1c87b7c\" class=\"plotly-graph-div\" style=\"height:400px; width:500px;\"></div>            <script type=\"text/javascript\">                                    window.PLOTLYENV=window.PLOTLYENV || {};                                    if (document.getElementById(\"ccb0a704-f0f8-45d0-ac6c-68b2c1c87b7c\")) {                    Plotly.newPlot(                        \"ccb0a704-f0f8-45d0-ac6c-68b2c1c87b7c\",                        [{\"colorbar\":{\"ticktext\":[\"0.003\",\"0.009\",\"0.022\",\"0.039\",\"0.059\",\"0.081\",\"0.102\",\"0.126\",\"0.155\",\"0.189\"],\"tickvals\":[1,2,3,4,5,6,7,8,9],\"title\":{\"text\":\"Density\"},\"y\":1,\"yanchor\":\"top\"},\"colorscale\":[[0.0,\"rgb(247,251,255)\"],[0.125,\"rgb(222,235,247)\"],[0.25,\"rgb(198,219,239)\"],[0.375,\"rgb(158,202,225)\"],[0.5,\"rgb(107,174,214)\"],[0.625,\"rgb(66,146,198)\"],[0.75,\"rgb(33,113,181)\"],[0.875,\"rgb(8,81,156)\"],[1.0,\"rgb(8,48,107)\"]],\"line\":{\"smoothing\":0.85},\"x\":[277.76220786844857,303.160765959313,330.8817665381077,361.13757359378224,394.1599696645236,430.2019314686255,469.5395678989309,512.4742352273548,559.3348457235741,610.4803873736575,666.302674001602,727.2293468618026,793.7271506969403,866.3055093583904,945.5204283811244,1031.9787544098056,1126.3428241065337,1229.335538154396,1341.745899227585,1464.435056353132,1598.3429019686846,1744.495272214816,1904.0118056215867,2078.1145203929027,2268.137175997173,2475.5354907812234,2701.898293882147,2948.959696869246,3218.6123783601147,3512.92208338115,3834.1434485486307,4184.737274303323,4567.389376517088,4985.031161889155,5440.862084755293,5938.374157346124,6481.3787012618905,7074.035545100259,7720.884891913352,8426.882100622935,9197.435647845978,10038.448560946956,10956.363639725845,11958.212813174257,13051.671009410122,14245.114951475678,15547.687329419374,16969.366840268733,18521.044632453762,20214.607740303407,22063.030147786918,24080.472179117747,26282.388977627754,28685.64890394253,31308.662760478353,34171.52483221817,37296.16682424741,40706.52587532773,44428.727934621,48491.28790636891,52925.32809578894,57764.81662964878,63046.8276780025,68811.82547058504,75103.97428364753,81971.4767719682,89466.9432379203,97647.79466647962,106576.70261372632,116322.06931872286,126958.55171679043,138567.63336852507,151238.24868596566,165067.46423796166,180161.22235405914,196635.15272347743,214615.45820664297,234239.88164527187,255658.76107750257,279036.1814418334,304551.2315927881,332399.3762580163,362793.9534470584,395967.80878307135,432175.07927773934,471693.1402144462,514824.730054317,561900.269643528,613280.3934887872,669358.7124924666,730564.8293120658,797367.6294439433,870278.873243526,949857.1163996155,1036711.9888966058,1131508.8652447253,1234973.9617558287,1347899.8999137508,1471151.7784588828,1605673.8007037628],\"y\":[-3.9019359094944726,-3.3128465929797306,-2.7237572764649887,-2.1346679599502463,-1.5455786434355043,-0.9564893269207624,-0.36740001040602,0.22168930610872195,0.8107786226234639,1.3998679391382058,1.9889572556529478,2.5780465721676897,3.1671358886824326,3.7562252051971745,4.3453145217119165,4.9344038382266575,5.5234931547414,6.112582471256143,6.701671787770884,7.290761104285627,7.879850420800368,8.468939737315111,9.058029053829852,9.647118370344595,10.236207686859338,10.825297003374079,11.414386319888822,12.003475636403563,12.592564952918305,13.181654269433047,13.770743585947788,14.359832902462532,14.948922218977273,15.538011535492014,16.12710085200676,16.7161901685215,17.30527948503624,17.894368801550982,18.483458118065727,19.072547434580468,19.66163675109521,20.250726067609953,20.839815384124694,21.428904700639436,22.017994017154177,22.60708333366892,23.196172650183662,23.785261966698403,24.374351283213148,24.96344059972789,25.55252991624263,26.14161923275737,26.730708549272116,27.319797865786857,27.908887182301598,28.49797649881634,29.087065815331083,29.676155131845828,30.265244448360566,30.85433376487531,31.443423081390048,32.032512397904796,32.62160171441954,33.21069103093427,33.799780347449015,34.38886966396376,34.977958980478505,35.56704829699325,36.156137613507994,36.745226930022724,37.33431624653747,37.92340556305221,38.51249487956696,39.1015841960817,39.69067351259643,40.27976282911118,40.86885214562592,41.45794146214067,42.04703077865541,42.636120095170156,43.22520941168489,43.81429872819963,44.403388044714376,44.99247736122912,45.581566677743865,46.170655994258595,46.75974531077334,47.348834627288085,47.93792394380283,48.527013260317574,49.11610257683232,49.70519189334705,50.29428120986179,50.88337052637654,51.47245984289128,52.06154915940603,52.65063847592077,53.2397277924355,53.82881710895025,54.41790642546499],\"z\":[[0.1,0.1,0.1,0.1,0.1,0.1,0.1,0.1,0.1,0.1,0.1,0.1,0.1,0.1,0.1,0.1,0.1,0.1,0.1,0.1,0.1,0.1,0.1,0.1,0.1,0.1,0.1,0.1,0.1,0.1,0.1,0.1,0.1,0.1,0.1,0.1,0.1,0.1,0.1,0.1,0.1,0.1,0.1,0.1,0.1,0.1,0.1,0.1,0.1,0.1,0.1,0.1,0.1,0.1,0.1,0.1,0.1,0.1,0.1,0.1,0.1,0.1,0.1,0.1,0.1,0.1,0.1,0.1,0.1,0.1,0.1,0.1,0.1,0.1,0.1,0.1,0.1,0.1,0.1,0.1,0.1,0.1,0.1,0.1,0.1,0.1,0.1,0.1,0.1,0.1,0.1,0.1,0.1,0.1,0.1,0.1,0.1,0.1,0.1,0.1],[0.1,0.1,0.1,0.1,0.1,0.1,0.1,0.1,0.1,0.1,0.1,0.1,0.1,0.1,0.1,0.1,0.1,0.1,0.1,0.1,0.1,0.1,0.1,0.1,0.1,0.1,0.1,0.1,0.1,0.1,0.1,0.1,0.1,0.1,0.1,0.1,0.1,0.1,0.1,0.1,0.1,0.1,0.1,0.1,0.1,0.1,0.1,0.1,0.1,0.1,0.1,0.1,0.1,0.1,0.1,0.1,0.1,0.1,0.1,0.1,0.1,0.1,0.1,0.1,0.1,0.1,0.1,0.1,0.1,0.1,0.1,0.1,0.1,0.1,0.1,0.1,0.1,0.1,0.1,0.1,0.1,0.1,0.1,0.1,0.1,0.1,0.1,0.1,0.1,0.1,0.1,0.1,0.1,0.1,0.1,0.1,0.1,0.1,0.1,0.1],[0.1,0.1,0.1,0.1,0.1,0.1,0.1,0.1,0.1,0.1,0.1,0.1,0.1,0.1,0.1,0.1,0.1,0.1,0.1,0.1,0.1,0.1,0.1,0.1,0.1,0.1,0.1,0.1,0.1,0.1,0.1,0.1,0.1,0.1,0.1,0.1,0.1,0.1,0.1,0.1,0.1,0.1,0.1,0.1,0.1,0.1,0.1,0.1,0.1,0.1,0.1,0.1,0.1,0.1,0.1,0.1,0.1,0.1,0.1,0.1,0.1,0.1,0.1,0.1,0.1,0.1,0.1,0.1,0.1,0.1,0.1,0.1,0.1,0.1,0.1,0.1,0.1,0.1,0.1,0.1,0.1,0.1,0.1,0.1,0.1,0.1,0.1,0.1,0.1,0.1,0.1,0.1,0.1,0.1,0.1,0.1,0.1,0.1,0.1,0.1],[0.1,0.1,0.1,0.1,0.1,0.1,0.1,0.1,0.1,0.1,0.1,0.1,0.1,0.1,0.1,0.1,0.1,0.1,0.1,0.1,0.1,0.1,0.1,0.1,0.1,0.1,0.1,0.1,0.1,0.1,0.1,0.1,0.1,0.1,0.1,0.1,0.1,0.1,0.1,0.1,0.1,0.1,0.1,0.1,0.1,0.1,0.1,0.1,0.1,0.1,0.1,0.1,0.1,0.1,0.1,0.1,0.1,0.1,0.1,0.1,0.1,0.1,0.1,0.1,0.1,0.1,0.1,0.1,0.1,0.1,0.1,0.1,0.1,0.1,0.1,0.1,0.1,0.1,0.1,0.1,0.1,0.1,0.1,0.1,0.1,0.1,0.1,0.1,0.1,0.1,0.1,0.1,0.1,0.1,0.1,0.1,0.1,0.1,0.1,0.1],[0.1,0.1,0.1,0.1,0.1,0.1,0.1,0.1,0.1,0.1,0.1,0.1,0.1,0.1,0.1,0.1,0.1,0.1,0.1,0.1,0.1,0.1,0.1,0.1,0.1,0.1,0.1,0.1,0.1,0.1,0.1,0.1,0.1,0.1,0.1,0.1,0.1,0.1,0.1,0.1,0.1,0.1,0.1,0.1,0.1,0.1,0.1,0.1,0.1,0.1,0.1,0.1,0.1,0.1,0.1,0.1,0.1,0.1,0.1,0.1,0.1,0.1,0.1,0.1,0.1,0.1,0.1,0.1,0.1,0.1,0.1,0.1,0.1,0.1,0.1,0.1,0.1,0.1,0.1,0.1,0.1,0.1,0.1,0.1,0.1,0.1,0.1,0.1,0.1,0.1,0.1,0.1,0.1,0.1,0.1,0.1,0.1,0.1,0.1,0.1],[0.1,0.1,0.1,0.1,0.1,0.1,0.1,0.1,0.1,0.1,0.1,0.1,0.1,0.1,0.1,0.1,0.1,0.1,0.1,0.1,0.1,0.1,0.1,0.1,0.1,0.1,0.1,0.1,0.1,0.1,0.1,0.1,0.1,0.1,0.1,0.1,0.1,0.1,0.1,0.1,0.1,0.1,0.1,0.1,0.1,0.1,0.1,0.1,0.1,0.1,0.1,0.1,0.1,0.1,0.1,0.1,0.1,0.1,0.1,0.1,0.1,0.1,0.1,0.1,0.1,0.1,0.1,0.1,0.1,0.1,0.1,0.1,0.1,0.1,0.1,0.1,0.1,0.1,0.1,0.1,0.1,0.1,0.1,0.1,0.1,0.1,0.1,0.1,0.1,0.1,0.1,0.1,0.1,0.1,0.1,0.1,0.1,0.1,0.1,0.1],[0.1,0.1,0.1,0.1,0.1,0.1,0.1,0.1,1.1,1.1,1.1,1.1,1.1,1.1,1.1,1.1,1.1,0.1,0.1,0.1,0.1,0.1,0.1,0.1,0.1,0.1,0.1,0.1,0.1,0.1,0.1,0.1,0.1,0.1,0.1,0.1,0.1,0.1,0.1,0.1,0.1,0.1,0.1,0.1,0.1,0.1,0.1,0.1,0.1,0.1,0.1,0.1,0.1,0.1,0.1,0.1,0.1,0.1,0.1,0.1,0.1,0.1,0.1,0.1,0.1,0.1,0.1,0.1,0.1,0.1,0.1,0.1,0.1,0.1,0.1,0.1,0.1,0.1,0.1,0.1,0.1,0.1,0.1,0.1,0.1,0.1,0.1,0.1,0.1,0.1,0.1,0.1,0.1,0.1,0.1,0.1,0.1,0.1,0.1,0.1],[0.1,0.1,0.1,0.1,0.1,0.1,0.1,1.1,1.1,1.1,1.1,1.1,1.1,1.1,1.1,1.1,1.1,1.1,1.1,1.1,0.1,0.1,0.1,0.1,0.1,0.1,0.1,0.1,0.1,0.1,0.1,0.1,0.1,0.1,0.1,0.1,0.1,0.1,0.1,0.1,0.1,0.1,0.1,0.1,0.1,0.1,0.1,0.1,0.1,0.1,0.1,0.1,0.1,0.1,0.1,0.1,0.1,0.1,0.1,0.1,0.1,0.1,0.1,0.1,0.1,0.1,0.1,0.1,0.1,0.1,0.1,0.1,0.1,0.1,0.1,0.1,0.1,0.1,0.1,0.1,0.1,0.1,0.1,0.1,0.1,0.1,0.1,0.1,0.1,0.1,0.1,0.1,0.1,0.1,0.1,0.1,0.1,0.1,0.1,0.1],[0.1,0.1,0.1,0.1,0.1,0.1,1.1,1.1,1.1,1.1,1.1,1.1,1.1,1.1,1.1,1.1,1.1,1.1,1.1,1.1,1.1,0.1,0.1,0.1,0.1,0.1,0.1,0.1,0.1,0.1,0.1,0.1,0.1,0.1,0.1,0.1,0.1,0.1,0.1,0.1,0.1,0.1,0.1,0.1,0.1,0.1,0.1,0.1,0.1,0.1,0.1,0.1,0.1,0.1,0.1,0.1,0.1,0.1,0.1,0.1,0.1,0.1,0.1,0.1,0.1,0.1,0.1,0.1,0.1,0.1,0.1,0.1,0.1,0.1,0.1,0.1,0.1,0.1,0.1,0.1,0.1,0.1,0.1,0.1,0.1,0.1,0.1,0.1,0.1,0.1,0.1,0.1,0.1,0.1,0.1,0.1,0.1,0.1,0.1,0.1],[0.1,0.1,0.1,0.1,0.1,0.1,1.1,1.1,1.1,1.1,1.1,1.1,1.1,1.1,1.1,1.1,1.1,1.1,1.1,1.1,1.1,0.1,0.1,0.1,0.1,0.1,0.1,0.1,0.1,0.1,0.1,0.1,0.1,0.1,0.1,0.1,0.1,0.1,0.1,0.1,0.1,0.1,0.1,0.1,0.1,0.1,0.1,0.1,0.1,0.1,0.1,0.1,0.1,0.1,0.1,0.1,0.1,0.1,0.1,0.1,0.1,0.1,0.1,0.1,0.1,0.1,0.1,0.1,0.1,0.1,0.1,0.1,0.1,0.1,0.1,0.1,0.1,0.1,0.1,0.1,0.1,0.1,0.1,0.1,0.1,0.1,0.1,0.1,0.1,0.1,0.1,0.1,0.1,0.1,0.1,0.1,0.1,0.1,0.1,0.1],[0.1,0.1,0.1,0.1,0.1,0.1,1.1,1.1,1.1,1.1,1.1,1.1,1.1,1.1,1.1,1.1,1.1,1.1,1.1,1.1,1.1,0.1,0.1,0.1,0.1,0.1,0.1,0.1,0.1,0.1,0.1,0.1,0.1,0.1,0.1,0.1,0.1,0.1,0.1,0.1,0.1,0.1,0.1,0.1,0.1,0.1,0.1,0.1,0.1,0.1,0.1,0.1,0.1,0.1,0.1,0.1,0.1,0.1,0.1,0.1,0.1,0.1,0.1,0.1,0.1,0.1,0.1,0.1,0.1,0.1,0.1,0.1,0.1,0.1,0.1,0.1,0.1,0.1,0.1,0.1,0.1,0.1,0.1,0.1,0.1,0.1,0.1,0.1,0.1,0.1,0.1,0.1,0.1,0.1,0.1,0.1,0.1,0.1,0.1,0.1],[0.1,0.1,0.1,0.1,0.1,0.1,0.1,1.1,1.1,1.1,1.1,1.1,1.1,1.1,1.1,1.1,1.1,1.1,1.1,1.1,0.1,0.1,0.1,0.1,0.1,0.1,0.1,0.1,0.1,0.1,0.1,0.1,0.1,0.1,0.1,0.1,0.1,0.1,0.1,0.1,0.1,0.1,0.1,0.1,0.1,0.1,0.1,0.1,0.1,0.1,0.1,0.1,0.1,0.1,0.1,0.1,0.1,0.1,0.1,0.1,0.1,0.1,0.1,0.1,0.1,0.1,0.1,0.1,0.1,0.1,0.1,0.1,0.1,0.1,0.1,0.1,0.1,0.1,0.1,0.1,0.1,0.1,0.1,0.1,0.1,0.1,0.1,0.1,0.1,0.1,0.1,0.1,0.1,0.1,0.1,0.1,0.1,0.1,0.1,0.1],[0.1,0.1,0.1,0.1,0.1,0.1,0.1,1.1,1.1,1.1,1.1,1.1,1.1,1.1,1.1,1.1,1.1,0.1,0.1,0.1,0.1,0.1,0.1,0.1,0.1,0.1,0.1,0.1,0.1,0.1,0.1,0.1,0.1,0.1,0.1,0.1,0.1,0.1,0.1,0.1,0.1,0.1,0.1,0.1,0.1,0.1,0.1,0.1,0.1,0.1,0.1,0.1,0.1,0.1,0.1,0.1,0.1,0.1,0.1,0.1,0.1,0.1,0.1,0.1,0.1,0.1,0.1,0.1,0.1,0.1,0.1,0.1,0.1,0.1,0.1,0.1,0.1,0.1,0.1,0.1,0.1,0.1,0.1,0.1,0.1,0.1,0.1,0.1,0.1,0.1,0.1,0.1,0.1,0.1,0.1,0.1,0.1,0.1,0.1,0.1],[0.1,0.1,0.1,0.1,0.1,0.1,0.1,1.1,1.1,1.1,1.1,1.1,1.1,1.1,0.1,0.1,0.1,0.1,0.1,0.1,0.1,0.1,0.1,0.1,0.1,0.1,0.1,0.1,0.1,0.1,0.1,0.1,0.1,0.1,0.1,0.1,0.1,0.1,0.1,0.1,0.1,0.1,0.1,0.1,0.1,0.1,0.1,0.1,0.1,0.1,0.1,0.1,0.1,0.1,0.1,0.1,0.1,0.1,0.1,0.1,0.1,0.1,0.1,0.1,0.1,0.1,0.1,0.1,0.1,0.1,0.1,0.1,0.1,0.1,0.1,0.1,0.1,0.1,0.1,0.1,0.1,0.1,0.1,0.1,0.1,0.1,0.1,0.1,0.1,0.1,0.1,0.1,0.1,0.1,0.1,0.1,0.1,0.1,0.1,0.1],[0.1,0.1,0.1,0.1,0.1,0.1,0.1,0.1,1.1,1.1,1.1,1.1,0.1,0.1,0.1,0.1,0.1,0.1,0.1,0.1,0.1,0.1,0.1,0.1,0.1,0.1,0.1,0.1,0.1,0.1,0.1,0.1,0.1,0.1,0.1,0.1,0.1,0.1,0.1,0.1,0.1,0.1,0.1,0.1,0.1,0.1,0.1,0.1,0.1,0.1,0.1,0.1,0.1,0.1,0.1,0.1,0.1,0.1,0.1,0.1,0.1,0.1,0.1,0.1,0.1,0.1,0.1,0.1,0.1,0.1,0.1,0.1,0.1,0.1,0.1,0.1,0.1,0.1,0.1,0.1,0.1,0.1,0.1,0.1,0.1,0.1,0.1,0.1,0.1,0.1,0.1,0.1,0.1,0.1,0.1,0.1,0.1,0.1,0.1,0.1],[0.1,0.1,0.1,0.1,0.1,0.1,0.1,0.1,1.1,1.1,1.1,1.1,0.1,0.1,0.1,0.1,0.1,0.1,0.1,0.1,0.1,0.1,0.1,0.1,0.1,0.1,0.1,0.1,0.1,0.1,0.1,0.1,0.1,0.1,0.1,0.1,0.1,0.1,0.1,0.1,0.1,0.1,0.1,0.1,0.1,0.1,0.1,0.1,0.1,0.1,0.1,0.1,0.1,0.1,0.1,0.1,0.1,0.1,0.1,0.1,0.1,0.1,0.1,0.1,0.1,0.1,0.1,0.1,0.1,0.1,0.1,0.1,0.1,0.1,0.1,0.1,0.1,0.1,0.1,0.1,0.1,0.1,0.1,0.1,0.1,0.1,0.1,0.1,0.1,0.1,0.1,0.1,0.1,0.1,0.1,0.1,0.1,0.1,0.1,0.1],[0.1,0.1,0.1,0.1,0.1,0.1,0.1,1.1,1.1,1.1,1.1,1.1,0.1,0.1,0.1,0.1,0.1,0.1,0.1,0.1,0.1,0.1,0.1,0.1,0.1,0.1,0.1,0.1,0.1,0.1,0.1,0.1,0.1,0.1,0.1,0.1,0.1,0.1,0.1,0.1,0.1,0.1,0.1,0.1,0.1,0.1,0.1,0.1,0.1,0.1,0.1,0.1,0.1,0.1,0.1,0.1,0.1,0.1,0.1,0.1,0.1,0.1,0.1,0.1,0.1,0.1,0.1,0.1,0.1,0.1,0.1,0.1,0.1,0.1,0.1,0.1,0.1,0.1,0.1,0.1,0.1,0.1,0.1,0.1,0.1,0.1,0.1,0.1,0.1,0.1,0.1,0.1,0.1,0.1,0.1,0.1,0.1,0.1,0.1,0.1],[0.1,0.1,0.1,0.1,0.1,0.1,0.1,1.1,1.1,1.1,1.1,1.1,1.1,0.1,0.1,0.1,0.1,0.1,0.1,0.1,0.1,0.1,0.1,0.1,0.1,0.1,0.1,0.1,0.1,0.1,0.1,0.1,0.1,0.1,0.1,0.1,0.1,0.1,0.1,0.1,0.1,0.1,0.1,0.1,0.1,0.1,0.1,0.1,0.1,0.1,0.1,0.1,0.1,0.1,0.1,0.1,0.1,0.1,0.1,0.1,0.1,0.1,0.1,0.1,0.1,0.1,0.1,0.1,0.1,0.1,0.1,0.1,0.1,0.1,0.1,0.1,0.1,0.1,0.1,0.1,0.1,0.1,0.1,0.1,0.1,0.1,0.1,0.1,0.1,0.1,0.1,0.1,0.1,0.1,0.1,0.1,0.1,0.1,0.1,0.1],[0.1,0.1,0.1,0.1,0.1,0.1,1.1,1.1,1.1,1.1,1.1,1.1,1.1,1.1,0.1,0.1,0.1,0.1,0.1,0.1,0.1,0.1,0.1,0.1,0.1,0.1,0.1,0.1,0.1,0.1,0.1,0.1,0.1,0.1,0.1,0.1,0.1,0.1,0.1,0.1,0.1,0.1,0.1,0.1,0.1,0.1,0.1,0.1,0.1,0.1,0.1,0.1,0.1,0.1,0.1,0.1,0.1,0.1,0.1,0.1,0.1,0.1,0.1,0.1,0.1,0.1,0.1,0.1,0.1,0.1,0.1,0.1,0.1,0.1,0.1,0.1,0.1,0.1,0.1,0.1,0.1,0.1,0.1,0.1,0.1,0.1,0.1,0.1,0.1,0.1,0.1,0.1,0.1,0.1,0.1,0.1,0.1,0.1,0.1,0.1],[0.1,0.1,0.1,0.1,0.1,0.1,1.1,1.1,1.1,1.1,1.1,1.1,1.1,1.1,1.1,0.1,0.1,0.1,0.1,0.1,0.1,0.1,0.1,0.1,0.1,0.1,0.1,0.1,0.1,0.1,0.1,0.1,0.1,0.1,0.1,0.1,0.1,0.1,0.1,0.1,0.1,0.1,0.1,0.1,0.1,0.1,0.1,0.1,0.1,0.1,0.1,0.1,0.1,0.1,0.1,0.1,0.1,0.1,0.1,0.1,0.1,0.1,0.1,0.1,0.1,0.1,0.1,0.1,0.1,0.1,0.1,0.1,0.1,0.1,0.1,0.1,0.1,0.1,0.1,0.1,0.1,0.1,0.1,0.1,0.1,0.1,0.1,0.1,0.1,0.1,0.1,0.1,0.1,0.1,0.1,0.1,0.1,0.1,0.1,0.1],[0.1,0.1,0.1,0.1,0.1,0.1,1.1,1.1,1.1,1.1,1.1,1.1,1.1,1.1,1.1,1.1,0.1,0.1,0.1,0.1,0.1,0.1,0.1,0.1,0.1,0.1,0.1,0.1,0.1,0.1,0.1,0.1,0.1,0.1,0.1,0.1,0.1,0.1,0.1,0.1,0.1,0.1,0.1,0.1,0.1,0.1,0.1,0.1,0.1,0.1,0.1,0.1,0.1,0.1,0.1,0.1,0.1,0.1,0.1,0.1,0.1,0.1,0.1,0.1,0.1,0.1,0.1,0.1,0.1,0.1,0.1,0.1,0.1,0.1,0.1,0.1,0.1,0.1,0.1,0.1,0.1,0.1,0.1,0.1,0.1,0.1,0.1,0.1,0.1,0.1,0.1,0.1,0.1,0.1,0.1,0.1,0.1,0.1,0.1,0.1],[0.1,0.1,0.1,0.1,0.1,1.1,1.1,1.1,1.1,1.1,1.1,1.1,1.1,1.1,1.1,1.1,1.1,0.1,0.1,0.1,0.1,0.1,0.1,0.1,0.1,0.1,1.1,1.1,1.1,1.1,0.1,0.1,0.1,0.1,0.1,0.1,0.1,0.1,0.1,0.1,0.1,0.1,0.1,0.1,0.1,0.1,0.1,0.1,0.1,0.1,0.1,0.1,0.1,0.1,0.1,0.1,0.1,0.1,0.1,0.1,0.1,0.1,0.1,0.1,0.1,0.1,0.1,0.1,0.1,0.1,0.1,0.1,0.1,0.1,0.1,0.1,0.1,0.1,0.1,0.1,0.1,0.1,0.1,0.1,0.1,0.1,0.1,0.1,0.1,0.1,0.1,0.1,0.1,0.1,0.1,0.1,0.1,0.1,0.1,0.1],[0.1,0.1,0.1,0.1,0.1,1.1,1.1,1.1,2.1,2.1,2.1,1.1,1.1,1.1,1.1,1.1,1.1,1.1,1.1,0.1,0.1,0.1,1.1,1.1,1.1,1.1,1.1,1.1,1.1,1.1,1.1,0.1,0.1,0.1,0.1,0.1,0.1,0.1,0.1,0.1,0.1,0.1,0.1,0.1,0.1,0.1,0.1,0.1,0.1,0.1,0.1,0.1,0.1,0.1,0.1,0.1,0.1,0.1,0.1,0.1,0.1,0.1,0.1,0.1,0.1,0.1,0.1,0.1,0.1,0.1,0.1,0.1,0.1,0.1,0.1,0.1,0.1,0.1,0.1,0.1,0.1,0.1,0.1,0.1,0.1,0.1,0.1,0.1,0.1,0.1,0.1,0.1,0.1,0.1,0.1,0.1,0.1,0.1,0.1,0.1],[0.1,0.1,0.1,0.1,0.1,1.1,1.1,1.1,2.1,2.1,2.1,2.1,1.1,1.1,1.1,1.1,1.1,1.1,1.1,1.1,1.1,1.1,1.1,1.1,1.1,1.1,1.1,1.1,1.1,1.1,1.1,1.1,0.1,0.1,0.1,0.1,0.1,0.1,0.1,0.1,0.1,0.1,0.1,0.1,0.1,0.1,0.1,0.1,0.1,0.1,0.1,0.1,0.1,0.1,0.1,0.1,0.1,0.1,0.1,0.1,0.1,0.1,0.1,0.1,0.1,0.1,0.1,0.1,0.1,0.1,0.1,0.1,0.1,0.1,0.1,0.1,0.1,0.1,0.1,0.1,0.1,0.1,0.1,0.1,0.1,0.1,0.1,0.1,0.1,0.1,0.1,0.1,0.1,0.1,0.1,0.1,0.1,0.1,0.1,0.1],[0.1,0.1,0.1,0.1,0.1,1.1,1.1,1.1,2.1,2.1,2.1,2.1,1.1,1.1,1.1,1.1,1.1,1.1,1.1,1.1,1.1,1.1,1.1,1.1,1.1,1.1,1.1,1.1,1.1,1.1,1.1,1.1,1.1,0.1,0.1,0.1,0.1,0.1,0.1,0.1,0.1,0.1,0.1,0.1,0.1,0.1,0.1,0.1,0.1,0.1,0.1,0.1,0.1,0.1,0.1,0.1,0.1,0.1,0.1,0.1,0.1,0.1,0.1,0.1,0.1,0.1,0.1,0.1,0.1,0.1,0.1,0.1,0.1,0.1,0.1,0.1,0.1,0.1,0.1,0.1,0.1,0.1,0.1,0.1,0.1,0.1,0.1,0.1,0.1,0.1,0.1,0.1,0.1,0.1,0.1,0.1,0.1,0.1,0.1,0.1],[0.1,0.1,0.1,0.1,0.1,1.1,1.1,1.1,2.1,2.1,2.1,2.1,1.1,1.1,1.1,1.1,1.1,1.1,1.1,1.1,1.1,1.1,1.1,1.1,1.1,1.1,1.1,1.1,1.1,1.1,1.1,1.1,1.1,1.1,1.1,0.1,0.1,0.1,0.1,0.1,0.1,0.1,0.1,0.1,0.1,0.1,0.1,0.1,0.1,0.1,0.1,0.1,0.1,0.1,0.1,0.1,0.1,0.1,0.1,0.1,0.1,0.1,0.1,0.1,0.1,0.1,0.1,0.1,0.1,0.1,0.1,0.1,0.1,0.1,0.1,0.1,0.1,0.1,0.1,0.1,0.1,0.1,0.1,0.1,0.1,0.1,0.1,0.1,0.1,0.1,0.1,0.1,0.1,0.1,0.1,0.1,0.1,0.1,0.1,0.1],[0.1,0.1,0.1,0.1,0.1,0.1,1.1,1.1,1.1,2.1,2.1,2.1,1.1,1.1,1.1,1.1,1.1,1.1,1.1,1.1,1.1,1.1,1.1,1.1,1.1,1.1,1.1,1.1,1.1,1.1,1.1,1.1,1.1,1.1,1.1,1.1,1.1,1.1,1.1,1.1,1.1,1.1,1.1,1.1,1.1,1.1,1.1,1.1,0.1,0.1,0.1,0.1,0.1,0.1,0.1,0.1,0.1,0.1,0.1,0.1,0.1,0.1,0.1,0.1,0.1,0.1,0.1,0.1,0.1,0.1,0.1,0.1,0.1,0.1,0.1,0.1,0.1,0.1,0.1,0.1,0.1,0.1,0.1,0.1,0.1,0.1,0.1,0.1,0.1,0.1,0.1,0.1,0.1,0.1,0.1,0.1,0.1,0.1,0.1,0.1],[0.1,0.1,0.1,0.1,0.1,0.1,1.1,1.1,1.1,1.1,2.1,1.1,1.1,1.1,1.1,1.1,1.1,1.1,1.1,1.1,1.1,1.1,1.1,1.1,1.1,1.1,1.1,1.1,1.1,1.1,1.1,1.1,1.1,1.1,1.1,1.1,1.1,1.1,1.1,1.1,1.1,1.1,1.1,1.1,1.1,1.1,1.1,1.1,1.1,1.1,1.1,0.1,0.1,0.1,0.1,0.1,0.1,0.1,0.1,0.1,0.1,0.1,0.1,0.1,0.1,0.1,0.1,0.1,0.1,0.1,0.1,0.1,0.1,0.1,0.1,0.1,0.1,0.1,0.1,0.1,0.1,0.1,0.1,0.1,0.1,0.1,0.1,0.1,0.1,0.1,0.1,0.1,0.1,0.1,0.1,0.1,0.1,0.1,0.1,0.1],[0.1,0.1,0.1,0.1,0.1,0.1,1.1,1.1,1.1,1.1,1.1,1.1,1.1,1.1,1.1,1.1,1.1,1.1,1.1,1.1,1.1,1.1,1.1,1.1,1.1,1.1,1.1,1.1,1.1,1.1,1.1,1.1,1.1,1.1,1.1,1.1,1.1,1.1,1.1,1.1,1.1,1.1,1.1,1.1,1.1,1.1,1.1,1.1,1.1,1.1,1.1,1.1,1.1,0.1,0.1,0.1,0.1,0.1,0.1,0.1,0.1,0.1,0.1,0.1,0.1,0.1,0.1,0.1,0.1,0.1,0.1,0.1,0.1,0.1,0.1,0.1,0.1,0.1,0.1,0.1,0.1,0.1,0.1,0.1,0.1,0.1,0.1,0.1,0.1,0.1,0.1,0.1,0.1,0.1,0.1,0.1,0.1,0.1,0.1,0.1],[0.1,0.1,0.1,0.1,0.1,0.1,1.1,1.1,1.1,1.1,1.1,1.1,1.1,1.1,1.1,1.1,1.1,1.1,1.1,1.1,1.1,1.1,1.1,1.1,1.1,1.1,2.1,1.1,1.1,1.1,1.1,1.1,1.1,1.1,1.1,1.1,1.1,1.1,1.1,1.1,1.1,1.1,1.1,1.1,1.1,2.1,1.1,1.1,1.1,1.1,1.1,1.1,1.1,1.1,0.1,0.1,0.1,0.1,0.1,0.1,0.1,0.1,0.1,0.1,0.1,0.1,0.1,0.1,0.1,0.1,0.1,0.1,0.1,0.1,0.1,0.1,0.1,0.1,0.1,0.1,0.1,0.1,0.1,0.1,0.1,0.1,0.1,0.1,0.1,0.1,0.1,0.1,0.1,0.1,0.1,0.1,0.1,0.1,0.1,0.1],[0.1,0.1,0.1,0.1,0.1,0.1,0.1,1.1,1.1,1.1,1.1,1.1,1.1,1.1,1.1,1.1,1.1,1.1,1.1,1.1,1.1,1.1,1.1,1.1,1.1,1.1,2.1,2.1,2.1,2.1,1.1,1.1,1.1,1.1,1.1,1.1,1.1,1.1,2.1,2.1,2.1,2.1,2.1,2.1,2.1,2.1,2.1,2.1,2.1,2.1,2.1,1.1,1.1,1.1,1.1,1.1,0.1,0.1,0.1,0.1,0.1,0.1,0.1,0.1,0.1,0.1,0.1,0.1,0.1,0.1,0.1,0.1,0.1,0.1,0.1,0.1,0.1,0.1,0.1,0.1,0.1,0.1,0.1,0.1,0.1,0.1,0.1,0.1,0.1,0.1,0.1,0.1,0.1,0.1,0.1,0.1,0.1,0.1,0.1,0.1],[0.1,0.1,0.1,0.1,0.1,0.1,0.1,1.1,1.1,1.1,1.1,1.1,1.1,1.1,1.1,1.1,1.1,1.1,1.1,1.1,1.1,1.1,1.1,1.1,1.1,1.1,2.1,2.1,2.1,2.1,2.1,2.1,2.1,2.1,2.1,2.1,2.1,2.1,2.1,2.1,2.1,2.1,2.1,2.1,2.1,2.1,2.1,2.1,2.1,2.1,2.1,2.1,2.1,1.1,1.1,1.1,0.1,0.1,0.1,0.1,0.1,0.1,0.1,0.1,0.1,0.1,0.1,0.1,0.1,0.1,0.1,0.1,0.1,0.1,0.1,0.1,0.1,0.1,0.1,0.1,0.1,0.1,0.1,0.1,0.1,0.1,0.1,0.1,0.1,0.1,0.1,0.1,0.1,0.1,0.1,0.1,0.1,0.1,0.1,0.1],[0.1,0.1,0.1,0.1,0.1,0.1,0.1,1.1,1.1,1.1,1.1,1.1,1.1,1.1,1.1,1.1,1.1,1.1,1.1,1.1,1.1,1.1,1.1,1.1,1.1,1.1,1.1,2.1,2.1,2.1,2.1,2.1,2.1,2.1,2.1,2.1,2.1,2.1,2.1,2.1,2.1,2.1,2.1,3.1,3.1,3.1,3.1,3.1,3.1,3.1,3.1,2.1,2.1,2.1,1.1,1.1,1.1,0.1,0.1,0.1,0.1,0.1,0.1,0.1,0.1,0.1,0.1,0.1,0.1,0.1,0.1,0.1,0.1,0.1,0.1,0.1,0.1,0.1,0.1,0.1,0.1,0.1,0.1,0.1,0.1,0.1,0.1,0.1,0.1,0.1,0.1,0.1,0.1,0.1,0.1,0.1,0.1,0.1,0.1,0.1],[0.1,0.1,0.1,0.1,0.1,0.1,0.1,0.1,1.1,1.1,1.1,1.1,1.1,1.1,1.1,1.1,1.1,1.1,1.1,1.1,1.1,1.1,1.1,1.1,1.1,1.1,1.1,2.1,2.1,2.1,2.1,2.1,2.1,2.1,2.1,2.1,2.1,2.1,2.1,3.1,3.1,3.1,3.1,3.1,3.1,4.1,4.1,4.1,4.1,4.1,3.1,3.1,3.1,2.1,2.1,1.1,1.1,1.1,0.1,0.1,0.1,0.1,0.1,0.1,0.1,0.1,0.1,0.1,0.1,0.1,0.1,0.1,0.1,0.1,0.1,0.1,0.1,0.1,0.1,0.1,0.1,0.1,0.1,0.1,0.1,0.1,0.1,0.1,0.1,0.1,0.1,0.1,0.1,0.1,0.1,0.1,0.1,0.1,0.1,0.1],[0.1,0.1,0.1,0.1,0.1,0.1,0.1,0.1,1.1,1.1,1.1,1.1,1.1,1.1,1.1,1.1,1.1,1.1,1.1,1.1,1.1,1.1,1.1,1.1,1.1,1.1,1.1,2.1,2.1,2.1,2.1,2.1,2.1,2.1,2.1,2.1,2.1,3.1,3.1,3.1,3.1,3.1,4.1,4.1,4.1,4.1,5.1,5.1,5.1,5.1,4.1,4.1,3.1,3.1,2.1,2.1,1.1,1.1,0.1,0.1,0.1,0.1,0.1,0.1,0.1,0.1,0.1,0.1,0.1,0.1,0.1,0.1,0.1,0.1,0.1,0.1,0.1,0.1,0.1,0.1,0.1,0.1,0.1,0.1,0.1,0.1,0.1,0.1,0.1,0.1,0.1,0.1,0.1,0.1,0.1,0.1,0.1,0.1,0.1,0.1],[0.1,0.1,0.1,0.1,0.1,0.1,0.1,0.1,0.1,1.1,1.1,1.1,1.1,1.1,1.1,1.1,1.1,1.1,1.1,1.1,1.1,1.1,1.1,1.1,1.1,1.1,1.1,2.1,2.1,2.1,2.1,2.1,2.1,2.1,2.1,3.1,3.1,3.1,3.1,3.1,4.1,4.1,4.1,5.1,5.1,5.1,6.1,6.1,6.1,6.1,5.1,4.1,4.1,3.1,2.1,2.1,1.1,1.1,0.1,0.1,0.1,0.1,0.1,0.1,0.1,0.1,0.1,0.1,0.1,0.1,0.1,0.1,0.1,0.1,0.1,0.1,0.1,0.1,0.1,0.1,0.1,0.1,0.1,0.1,0.1,0.1,0.1,0.1,0.1,0.1,0.1,0.1,0.1,0.1,0.1,0.1,0.1,0.1,0.1,0.1],[0.1,0.1,0.1,0.1,0.1,0.1,0.1,0.1,0.1,0.1,0.1,1.1,1.1,1.1,1.1,1.1,1.1,1.1,1.1,1.1,1.1,1.1,1.1,1.1,1.1,1.1,1.1,2.1,2.1,2.1,2.1,2.1,2.1,3.1,3.1,3.1,3.1,3.1,3.1,4.1,4.1,4.1,5.1,5.1,6.1,7.1,7.1,7.1,7.1,7.1,6.1,5.1,4.1,4.1,3.1,2.1,2.1,1.1,1.1,0.1,0.1,0.1,0.1,0.1,0.1,0.1,0.1,0.1,0.1,0.1,0.1,0.1,0.1,0.1,0.1,0.1,0.1,0.1,0.1,0.1,0.1,0.1,0.1,0.1,0.1,0.1,0.1,0.1,0.1,0.1,0.1,0.1,0.1,0.1,0.1,0.1,0.1,0.1,0.1,0.1],[0.1,0.1,0.1,0.1,0.1,0.1,0.1,0.1,0.1,0.1,0.1,0.1,0.1,0.1,1.1,1.1,1.1,1.1,1.1,1.1,1.1,1.1,1.1,1.1,1.1,1.1,1.1,2.1,2.1,2.1,2.1,2.1,3.1,3.1,3.1,3.1,3.1,3.1,4.1,4.1,4.1,5.1,6.1,6.1,7.1,8.1,8.1,8.1,8.1,8.1,7.1,6.1,5.1,4.1,3.1,2.1,2.1,1.1,1.1,0.1,0.1,0.1,0.1,0.1,0.1,0.1,0.1,0.1,0.1,0.1,0.1,0.1,0.1,0.1,0.1,0.1,0.1,0.1,0.1,0.1,0.1,0.1,0.1,0.1,0.1,0.1,0.1,0.1,0.1,0.1,0.1,0.1,0.1,0.1,0.1,0.1,0.1,0.1,0.1,0.1],[0.1,0.1,0.1,0.1,0.1,0.1,0.1,0.1,0.1,0.1,0.1,0.1,0.1,0.1,0.1,0.1,1.1,1.1,1.1,1.1,1.1,1.1,1.1,1.1,1.1,1.1,1.1,2.1,2.1,2.1,2.1,2.1,3.1,3.1,3.1,3.1,3.1,4.1,4.1,4.1,5.1,5.1,6.1,7.1,8.1,8.1,9.1,9.1,9.1,8.1,7.1,6.1,5.1,4.1,3.1,3.1,2.1,2.1,1.1,0.1,0.1,0.1,0.1,0.1,0.1,0.1,0.1,0.1,0.1,0.1,0.1,0.1,0.1,0.1,0.1,0.1,0.1,0.1,0.1,0.1,0.1,0.1,0.1,0.1,0.1,0.1,0.1,0.1,0.1,0.1,0.1,0.1,0.1,0.1,0.1,0.1,0.1,0.1,0.1,0.1],[0.1,0.1,0.1,0.1,0.1,0.1,0.1,0.1,0.1,0.1,0.1,0.1,0.1,0.1,0.1,0.1,0.1,0.1,1.1,1.1,1.1,1.1,1.1,1.1,1.1,1.1,1.1,2.1,2.1,2.1,2.1,2.1,3.1,3.1,3.1,3.1,3.1,4.1,4.1,5.1,5.1,6.1,7.1,7.1,8.1,9.1,9.1,9.1,9.1,9.1,8.1,7.1,6.1,5.1,4.1,3.1,2.1,2.1,1.1,1.1,0.1,0.1,0.1,0.1,0.1,0.1,0.1,0.1,0.1,0.1,0.1,0.1,0.1,0.1,0.1,0.1,0.1,0.1,0.1,0.1,0.1,0.1,0.1,0.1,0.1,0.1,0.1,0.1,0.1,0.1,0.1,0.1,0.1,0.1,0.1,0.1,0.1,0.1,0.1,0.1],[0.1,0.1,0.1,0.1,0.1,0.1,0.1,0.1,0.1,0.1,0.1,0.1,0.1,0.1,0.1,0.1,0.1,0.1,0.1,1.1,1.1,1.1,1.1,1.1,1.1,1.1,1.1,2.1,2.1,2.1,2.1,2.1,3.1,3.1,3.1,3.1,3.1,4.1,4.1,5.1,5.1,6.1,7.1,8.1,8.1,9.1,9.1,9.1,9.1,9.1,8.1,7.1,6.1,5.1,4.1,3.1,2.1,2.1,1.1,1.1,0.1,0.1,0.1,0.1,0.1,0.1,0.1,0.1,0.1,0.1,0.1,0.1,0.1,0.1,0.1,0.1,0.1,0.1,0.1,0.1,0.1,0.1,0.1,0.1,0.1,0.1,0.1,0.1,0.1,0.1,0.1,0.1,0.1,0.1,0.1,0.1,0.1,0.1,0.1,0.1],[0.1,0.1,0.1,0.1,0.1,0.1,0.1,0.1,0.1,0.1,0.1,0.1,0.1,0.1,0.1,0.1,0.1,0.1,0.1,0.1,1.1,1.1,1.1,1.1,1.1,1.1,1.1,2.1,2.1,2.1,2.1,2.1,3.1,3.1,3.1,3.1,4.1,4.1,4.1,5.1,5.1,6.1,7.1,8.1,9.1,9.1,9.1,9.1,9.1,9.1,8.1,7.1,6.1,5.1,4.1,3.1,2.1,2.1,1.1,1.1,0.1,0.1,0.1,0.1,0.1,0.1,0.1,0.1,0.1,0.1,0.1,0.1,0.1,0.1,0.1,0.1,0.1,0.1,0.1,0.1,0.1,0.1,0.1,0.1,0.1,0.1,0.1,0.1,0.1,0.1,0.1,0.1,0.1,0.1,0.1,0.1,0.1,0.1,0.1,0.1],[0.1,0.1,0.1,0.1,0.1,0.1,0.1,0.1,0.1,0.1,0.1,0.1,0.1,0.1,0.1,0.1,0.1,0.1,0.1,0.1,1.1,1.1,1.1,1.1,1.1,1.1,1.1,2.1,2.1,2.1,2.1,2.1,3.1,3.1,3.1,3.1,4.1,4.1,4.1,5.1,5.1,6.1,7.1,8.1,9.1,9.1,9.1,9.1,9.1,8.1,8.1,7.1,5.1,4.1,4.1,3.1,2.1,2.1,1.1,1.1,0.1,0.1,0.1,0.1,0.1,0.1,0.1,0.1,0.1,0.1,0.1,0.1,0.1,0.1,0.1,0.1,0.1,0.1,0.1,0.1,0.1,0.1,0.1,0.1,0.1,0.1,0.1,0.1,0.1,0.1,0.1,0.1,0.1,0.1,0.1,0.1,0.1,0.1,0.1,0.1],[0.1,0.1,0.1,0.1,0.1,0.1,0.1,0.1,0.1,0.1,0.1,0.1,0.1,0.1,0.1,0.1,0.1,0.1,0.1,0.1,1.1,1.1,1.1,1.1,1.1,1.1,2.1,2.1,2.1,2.1,2.1,2.1,3.1,3.1,3.1,3.1,4.1,4.1,4.1,5.1,5.1,6.1,7.1,8.1,8.1,9.1,9.1,9.1,8.1,8.1,7.1,6.1,5.1,4.1,3.1,3.1,2.1,2.1,1.1,1.1,0.1,0.1,0.1,0.1,0.1,0.1,0.1,0.1,0.1,0.1,0.1,0.1,0.1,0.1,0.1,0.1,0.1,0.1,0.1,0.1,0.1,0.1,0.1,0.1,0.1,0.1,0.1,0.1,0.1,0.1,0.1,0.1,0.1,0.1,0.1,0.1,0.1,0.1,0.1,0.1],[0.1,0.1,0.1,0.1,0.1,0.1,0.1,0.1,0.1,0.1,0.1,0.1,0.1,0.1,0.1,0.1,0.1,0.1,0.1,0.1,1.1,1.1,1.1,1.1,1.1,1.1,1.1,2.1,2.1,2.1,2.1,2.1,3.1,3.1,3.1,3.1,3.1,4.1,4.1,5.1,5.1,6.1,7.1,8.1,8.1,8.1,8.1,8.1,8.1,7.1,6.1,5.1,5.1,4.1,3.1,3.1,2.1,2.1,1.1,1.1,0.1,0.1,0.1,0.1,0.1,0.1,0.1,0.1,0.1,0.1,0.1,0.1,0.1,0.1,0.1,0.1,0.1,0.1,0.1,0.1,0.1,0.1,0.1,0.1,0.1,0.1,0.1,0.1,0.1,0.1,0.1,0.1,0.1,0.1,0.1,0.1,0.1,0.1,0.1,0.1],[0.1,0.1,0.1,0.1,0.1,0.1,0.1,0.1,0.1,0.1,0.1,0.1,0.1,0.1,0.1,0.1,0.1,0.1,0.1,0.1,1.1,1.1,1.1,1.1,1.1,1.1,1.1,2.1,2.1,2.1,2.1,2.1,2.1,3.1,3.1,3.1,3.1,4.1,4.1,5.1,5.1,6.1,7.1,7.1,8.1,8.1,8.1,8.1,7.1,6.1,6.1,5.1,4.1,3.1,3.1,2.1,2.1,1.1,1.1,1.1,0.1,0.1,0.1,0.1,0.1,0.1,0.1,0.1,0.1,0.1,0.1,0.1,0.1,0.1,0.1,0.1,0.1,0.1,0.1,0.1,0.1,0.1,0.1,0.1,0.1,0.1,0.1,0.1,0.1,0.1,0.1,0.1,0.1,0.1,0.1,0.1,0.1,0.1,0.1,0.1],[0.1,0.1,0.1,0.1,0.1,0.1,0.1,0.1,0.1,0.1,0.1,0.1,0.1,0.1,0.1,0.1,0.1,0.1,0.1,0.1,0.1,1.1,1.1,1.1,1.1,1.1,1.1,2.1,2.1,2.1,2.1,2.1,2.1,3.1,3.1,3.1,3.1,4.1,4.1,5.1,5.1,6.1,7.1,7.1,8.1,8.1,7.1,7.1,6.1,6.1,5.1,4.1,4.1,3.1,3.1,2.1,2.1,1.1,1.1,0.1,0.1,0.1,0.1,0.1,0.1,0.1,0.1,0.1,0.1,0.1,0.1,0.1,0.1,0.1,0.1,0.1,0.1,0.1,0.1,0.1,0.1,0.1,0.1,0.1,0.1,0.1,0.1,0.1,0.1,0.1,0.1,0.1,0.1,0.1,0.1,0.1,0.1,0.1,0.1,0.1],[0.1,0.1,0.1,0.1,0.1,0.1,0.1,0.1,0.1,0.1,0.1,0.1,0.1,0.1,0.1,0.1,0.1,0.1,0.1,0.1,0.1,1.1,1.1,1.1,1.1,1.1,1.1,1.1,2.1,2.1,2.1,2.1,2.1,2.1,3.1,3.1,3.1,4.1,4.1,5.1,5.1,6.1,7.1,7.1,7.1,7.1,7.1,6.1,6.1,5.1,4.1,4.1,3.1,3.1,2.1,2.1,1.1,1.1,1.1,0.1,0.1,0.1,0.1,0.1,0.1,0.1,0.1,0.1,0.1,0.1,0.1,0.1,0.1,0.1,0.1,0.1,0.1,0.1,0.1,0.1,0.1,0.1,0.1,0.1,0.1,0.1,0.1,0.1,0.1,0.1,0.1,0.1,0.1,0.1,0.1,0.1,0.1,0.1,0.1,0.1],[0.1,0.1,0.1,0.1,0.1,0.1,0.1,0.1,0.1,0.1,0.1,0.1,0.1,0.1,0.1,0.1,0.1,0.1,0.1,0.1,0.1,0.1,1.1,1.1,1.1,1.1,1.1,1.1,1.1,2.1,2.1,2.1,2.1,2.1,3.1,3.1,3.1,3.1,4.1,4.1,5.1,6.1,6.1,7.1,7.1,7.1,6.1,6.1,5.1,5.1,4.1,3.1,3.1,2.1,2.1,2.1,1.1,1.1,0.1,0.1,0.1,0.1,0.1,0.1,0.1,0.1,0.1,0.1,0.1,0.1,0.1,0.1,0.1,0.1,0.1,0.1,0.1,0.1,0.1,0.1,0.1,0.1,0.1,0.1,0.1,0.1,0.1,0.1,0.1,0.1,0.1,0.1,0.1,0.1,0.1,0.1,0.1,0.1,0.1,0.1],[0.1,0.1,0.1,0.1,0.1,0.1,0.1,0.1,0.1,0.1,0.1,0.1,0.1,0.1,0.1,0.1,0.1,0.1,0.1,0.1,0.1,0.1,1.1,1.1,1.1,1.1,1.1,1.1,1.1,2.1,2.1,2.1,2.1,2.1,3.1,3.1,3.1,3.1,4.1,4.1,5.1,6.1,6.1,7.1,7.1,7.1,6.1,5.1,5.1,4.1,4.1,3.1,3.1,2.1,2.1,1.1,1.1,0.1,0.1,0.1,0.1,0.1,0.1,0.1,0.1,0.1,0.1,0.1,0.1,0.1,0.1,0.1,0.1,0.1,0.1,0.1,0.1,0.1,0.1,0.1,0.1,0.1,0.1,0.1,0.1,0.1,0.1,0.1,0.1,0.1,0.1,0.1,0.1,0.1,0.1,0.1,0.1,0.1,0.1,0.1],[0.1,0.1,0.1,0.1,0.1,0.1,0.1,0.1,0.1,0.1,0.1,0.1,0.1,0.1,0.1,0.1,0.1,0.1,0.1,0.1,0.1,0.1,1.1,1.1,1.1,1.1,1.1,1.1,1.1,1.1,2.1,2.1,2.1,2.1,2.1,3.1,3.1,3.1,4.1,4.1,5.1,6.1,6.1,7.1,7.1,6.1,6.1,5.1,4.1,4.1,3.1,3.1,2.1,2.1,2.1,1.1,1.1,0.1,0.1,0.1,0.1,0.1,0.1,0.1,0.1,0.1,0.1,0.1,0.1,0.1,0.1,0.1,0.1,0.1,0.1,0.1,0.1,0.1,0.1,0.1,0.1,0.1,0.1,0.1,0.1,0.1,0.1,0.1,0.1,0.1,0.1,0.1,0.1,0.1,0.1,0.1,0.1,0.1,0.1,0.1],[0.1,0.1,0.1,0.1,0.1,0.1,0.1,0.1,0.1,0.1,0.1,0.1,0.1,0.1,0.1,0.1,0.1,0.1,0.1,0.1,0.1,0.1,0.1,1.1,1.1,1.1,1.1,1.1,1.1,1.1,2.1,2.1,2.1,2.1,2.1,2.1,3.1,3.1,3.1,4.1,5.1,5.1,6.1,6.1,6.1,6.1,5.1,5.1,4.1,3.1,3.1,2.1,2.1,2.1,1.1,1.1,0.1,0.1,0.1,0.1,0.1,0.1,0.1,0.1,0.1,0.1,0.1,0.1,0.1,0.1,0.1,0.1,0.1,0.1,0.1,0.1,0.1,0.1,0.1,0.1,0.1,0.1,0.1,0.1,0.1,0.1,0.1,0.1,0.1,0.1,0.1,0.1,0.1,0.1,0.1,0.1,0.1,0.1,0.1,0.1],[0.1,0.1,0.1,0.1,0.1,0.1,0.1,0.1,0.1,0.1,0.1,0.1,0.1,0.1,0.1,0.1,0.1,0.1,0.1,0.1,0.1,0.1,0.1,1.1,1.1,1.1,1.1,1.1,1.1,1.1,2.1,2.1,2.1,2.1,2.1,2.1,3.1,3.1,3.1,4.1,4.1,5.1,6.1,6.1,6.1,6.1,5.1,4.1,4.1,3.1,3.1,2.1,2.1,1.1,1.1,1.1,0.1,0.1,0.1,0.1,0.1,0.1,0.1,0.1,0.1,0.1,0.1,0.1,0.1,0.1,0.1,0.1,0.1,0.1,0.1,0.1,0.1,0.1,0.1,0.1,0.1,0.1,0.1,0.1,0.1,0.1,0.1,0.1,0.1,0.1,0.1,0.1,0.1,0.1,0.1,0.1,0.1,0.1,0.1,0.1],[0.1,0.1,0.1,0.1,0.1,0.1,0.1,0.1,0.1,0.1,0.1,0.1,0.1,0.1,0.1,0.1,0.1,0.1,0.1,0.1,0.1,0.1,0.1,0.1,1.1,1.1,1.1,1.1,1.1,1.1,2.1,2.1,2.1,2.1,2.1,2.1,2.1,3.1,3.1,4.1,4.1,5.1,5.1,6.1,6.1,5.1,5.1,4.1,3.1,3.1,2.1,2.1,2.1,1.1,1.1,0.1,0.1,0.1,0.1,0.1,0.1,0.1,0.1,0.1,0.1,0.1,0.1,0.1,0.1,0.1,0.1,0.1,0.1,0.1,0.1,0.1,0.1,0.1,0.1,0.1,0.1,0.1,0.1,0.1,0.1,0.1,0.1,0.1,0.1,0.1,0.1,0.1,0.1,0.1,0.1,0.1,0.1,0.1,0.1,0.1],[0.1,0.1,0.1,0.1,0.1,0.1,0.1,0.1,0.1,0.1,0.1,0.1,0.1,0.1,0.1,0.1,0.1,0.1,0.1,0.1,0.1,0.1,0.1,0.1,0.1,1.1,1.1,1.1,1.1,1.1,1.1,2.1,2.1,2.1,2.1,2.1,2.1,3.1,3.1,3.1,4.1,4.1,5.1,5.1,5.1,5.1,4.1,4.1,3.1,2.1,2.1,2.1,1.1,1.1,1.1,0.1,0.1,0.1,0.1,0.1,0.1,0.1,0.1,0.1,0.1,0.1,0.1,0.1,0.1,0.1,0.1,0.1,0.1,0.1,0.1,0.1,0.1,0.1,0.1,0.1,0.1,0.1,0.1,0.1,0.1,0.1,0.1,0.1,0.1,0.1,0.1,0.1,0.1,0.1,0.1,0.1,0.1,0.1,0.1,0.1],[0.1,0.1,0.1,0.1,0.1,0.1,0.1,0.1,0.1,0.1,0.1,0.1,0.1,0.1,0.1,0.1,0.1,0.1,0.1,0.1,0.1,0.1,0.1,0.1,0.1,1.1,1.1,1.1,1.1,1.1,1.1,2.1,2.1,2.1,2.1,2.1,2.1,2.1,3.1,3.1,4.1,4.1,4.1,5.1,5.1,4.1,4.1,3.1,3.1,2.1,2.1,1.1,1.1,1.1,0.1,0.1,0.1,0.1,0.1,0.1,0.1,0.1,0.1,0.1,0.1,0.1,0.1,0.1,0.1,0.1,0.1,0.1,0.1,0.1,0.1,0.1,0.1,0.1,0.1,0.1,0.1,0.1,0.1,0.1,0.1,0.1,0.1,0.1,0.1,0.1,0.1,0.1,0.1,0.1,0.1,0.1,0.1,0.1,0.1,0.1],[0.1,0.1,0.1,0.1,0.1,0.1,0.1,0.1,0.1,0.1,0.1,0.1,0.1,0.1,0.1,0.1,0.1,0.1,0.1,0.1,0.1,0.1,0.1,0.1,0.1,0.1,1.1,1.1,1.1,1.1,1.1,2.1,2.1,2.1,2.1,2.1,2.1,2.1,2.1,3.1,3.1,4.1,4.1,4.1,4.1,4.1,3.1,3.1,2.1,2.1,2.1,1.1,1.1,0.1,0.1,0.1,0.1,0.1,0.1,0.1,0.1,0.1,0.1,0.1,0.1,0.1,0.1,0.1,0.1,0.1,0.1,0.1,0.1,0.1,0.1,0.1,0.1,0.1,0.1,0.1,0.1,0.1,0.1,0.1,0.1,0.1,0.1,0.1,0.1,0.1,0.1,0.1,0.1,0.1,0.1,0.1,0.1,0.1,0.1,0.1],[0.1,0.1,0.1,0.1,0.1,0.1,0.1,0.1,0.1,0.1,0.1,0.1,0.1,0.1,0.1,0.1,0.1,0.1,0.1,0.1,0.1,0.1,0.1,0.1,0.1,0.1,0.1,1.1,1.1,1.1,1.1,1.1,2.1,2.1,2.1,2.1,2.1,2.1,2.1,3.1,3.1,3.1,3.1,4.1,4.1,3.1,3.1,3.1,2.1,2.1,1.1,1.1,0.1,0.1,0.1,0.1,0.1,0.1,0.1,0.1,0.1,0.1,0.1,0.1,0.1,0.1,0.1,0.1,0.1,0.1,0.1,0.1,0.1,0.1,0.1,0.1,0.1,0.1,0.1,0.1,0.1,0.1,0.1,0.1,0.1,0.1,0.1,0.1,0.1,0.1,0.1,0.1,0.1,0.1,0.1,0.1,0.1,0.1,0.1,0.1],[0.1,0.1,0.1,0.1,0.1,0.1,0.1,0.1,0.1,0.1,0.1,0.1,0.1,0.1,0.1,0.1,0.1,0.1,0.1,0.1,0.1,0.1,0.1,0.1,0.1,0.1,0.1,1.1,1.1,1.1,1.1,1.1,1.1,2.1,2.1,2.1,2.1,2.1,2.1,2.1,3.1,3.1,3.1,3.1,3.1,3.1,3.1,2.1,2.1,1.1,1.1,1.1,0.1,0.1,0.1,0.1,0.1,0.1,0.1,0.1,0.1,0.1,0.1,0.1,0.1,0.1,0.1,0.1,0.1,0.1,0.1,0.1,0.1,0.1,0.1,0.1,0.1,0.1,0.1,0.1,0.1,0.1,0.1,0.1,0.1,0.1,0.1,0.1,0.1,0.1,0.1,0.1,0.1,0.1,0.1,0.1,0.1,0.1,0.1,0.1],[0.1,0.1,0.1,0.1,0.1,0.1,0.1,0.1,0.1,0.1,0.1,0.1,0.1,0.1,0.1,0.1,0.1,0.1,0.1,0.1,0.1,0.1,0.1,0.1,0.1,0.1,0.1,1.1,1.1,1.1,1.1,1.1,1.1,1.1,2.1,2.1,2.1,2.1,2.1,2.1,2.1,2.1,3.1,3.1,3.1,2.1,2.1,2.1,2.1,1.1,1.1,0.1,0.1,0.1,0.1,0.1,0.1,0.1,0.1,0.1,0.1,0.1,0.1,0.1,0.1,0.1,0.1,0.1,0.1,0.1,0.1,0.1,0.1,0.1,0.1,0.1,0.1,0.1,0.1,0.1,0.1,0.1,0.1,0.1,0.1,0.1,0.1,0.1,0.1,0.1,0.1,0.1,0.1,0.1,0.1,0.1,0.1,0.1,0.1,0.1],[0.1,0.1,0.1,0.1,0.1,0.1,0.1,0.1,0.1,0.1,0.1,0.1,0.1,0.1,0.1,0.1,0.1,0.1,0.1,0.1,0.1,0.1,0.1,0.1,0.1,0.1,0.1,1.1,1.1,1.1,1.1,1.1,1.1,1.1,1.1,2.1,2.1,2.1,2.1,2.1,2.1,2.1,2.1,2.1,2.1,2.1,2.1,2.1,1.1,1.1,0.1,0.1,0.1,0.1,0.1,0.1,0.1,0.1,0.1,0.1,0.1,0.1,0.1,0.1,0.1,0.1,0.1,0.1,0.1,0.1,0.1,0.1,0.1,0.1,0.1,0.1,0.1,0.1,0.1,0.1,0.1,0.1,0.1,0.1,0.1,0.1,0.1,0.1,0.1,0.1,0.1,0.1,0.1,0.1,0.1,0.1,0.1,0.1,0.1,0.1],[0.1,0.1,0.1,0.1,0.1,0.1,0.1,0.1,0.1,0.1,0.1,0.1,0.1,0.1,0.1,0.1,0.1,0.1,0.1,0.1,0.1,0.1,0.1,0.1,0.1,0.1,0.1,1.1,1.1,1.1,1.1,1.1,1.1,1.1,1.1,1.1,1.1,2.1,2.1,2.1,2.1,2.1,2.1,2.1,2.1,2.1,2.1,1.1,1.1,1.1,0.1,0.1,0.1,0.1,0.1,0.1,0.1,0.1,0.1,0.1,0.1,0.1,0.1,0.1,0.1,0.1,0.1,0.1,0.1,0.1,0.1,0.1,0.1,0.1,0.1,0.1,0.1,0.1,0.1,0.1,0.1,0.1,0.1,0.1,0.1,0.1,0.1,0.1,0.1,0.1,0.1,0.1,0.1,0.1,0.1,0.1,0.1,0.1,0.1,0.1],[0.1,0.1,0.1,0.1,0.1,0.1,0.1,0.1,0.1,0.1,0.1,0.1,0.1,0.1,0.1,0.1,0.1,0.1,0.1,0.1,0.1,0.1,0.1,0.1,0.1,0.1,0.1,1.1,1.1,1.1,1.1,1.1,1.1,1.1,1.1,1.1,1.1,1.1,2.1,2.1,2.1,2.1,2.1,2.1,2.1,1.1,1.1,1.1,1.1,0.1,0.1,0.1,0.1,0.1,0.1,0.1,0.1,0.1,0.1,0.1,0.1,0.1,0.1,0.1,0.1,0.1,0.1,0.1,0.1,0.1,0.1,0.1,0.1,0.1,0.1,0.1,0.1,0.1,0.1,0.1,0.1,0.1,0.1,0.1,0.1,0.1,0.1,0.1,0.1,0.1,0.1,0.1,0.1,0.1,0.1,0.1,0.1,0.1,0.1,0.1],[0.1,0.1,0.1,0.1,0.1,0.1,0.1,0.1,0.1,0.1,0.1,0.1,0.1,0.1,0.1,0.1,0.1,0.1,0.1,0.1,0.1,0.1,0.1,0.1,0.1,0.1,0.1,0.1,1.1,1.1,1.1,1.1,1.1,1.1,1.1,1.1,1.1,1.1,1.1,1.1,1.1,2.1,1.1,1.1,1.1,1.1,1.1,1.1,0.1,0.1,0.1,0.1,0.1,0.1,0.1,0.1,0.1,0.1,0.1,0.1,0.1,0.1,0.1,0.1,0.1,0.1,0.1,0.1,0.1,0.1,0.1,0.1,0.1,0.1,0.1,0.1,0.1,0.1,0.1,0.1,0.1,0.1,0.1,0.1,0.1,0.1,0.1,0.1,0.1,0.1,0.1,0.1,0.1,0.1,0.1,0.1,0.1,0.1,0.1,0.1],[0.1,0.1,0.1,0.1,0.1,0.1,0.1,0.1,0.1,0.1,0.1,0.1,0.1,0.1,0.1,0.1,0.1,0.1,0.1,0.1,0.1,0.1,0.1,0.1,0.1,0.1,0.1,0.1,1.1,1.1,1.1,1.1,1.1,1.1,1.1,1.1,1.1,1.1,1.1,1.1,1.1,1.1,1.1,1.1,1.1,1.1,0.1,0.1,0.1,0.1,0.1,0.1,0.1,0.1,0.1,0.1,0.1,0.1,0.1,0.1,0.1,0.1,0.1,0.1,0.1,0.1,0.1,0.1,0.1,0.1,0.1,0.1,0.1,0.1,0.1,0.1,0.1,0.1,0.1,0.1,0.1,0.1,0.1,0.1,0.1,0.1,0.1,0.1,0.1,0.1,0.1,0.1,0.1,0.1,0.1,0.1,0.1,0.1,0.1,0.1],[0.1,0.1,0.1,0.1,0.1,0.1,0.1,0.1,0.1,0.1,0.1,0.1,0.1,0.1,0.1,0.1,0.1,0.1,0.1,0.1,0.1,0.1,0.1,0.1,0.1,0.1,0.1,0.1,0.1,1.1,1.1,1.1,1.1,1.1,1.1,1.1,1.1,1.1,1.1,1.1,1.1,1.1,1.1,1.1,1.1,0.1,0.1,0.1,0.1,0.1,0.1,0.1,0.1,0.1,0.1,0.1,0.1,0.1,0.1,0.1,0.1,0.1,0.1,0.1,0.1,0.1,0.1,0.1,0.1,0.1,0.1,0.1,0.1,0.1,0.1,0.1,0.1,0.1,0.1,0.1,0.1,0.1,0.1,0.1,0.1,0.1,0.1,0.1,0.1,0.1,0.1,0.1,0.1,0.1,0.1,0.1,0.1,0.1,0.1,0.1],[0.1,0.1,0.1,0.1,0.1,0.1,0.1,0.1,0.1,0.1,0.1,0.1,0.1,0.1,0.1,0.1,0.1,0.1,0.1,0.1,0.1,0.1,0.1,0.1,0.1,0.1,0.1,0.1,0.1,0.1,0.1,1.1,1.1,1.1,1.1,1.1,1.1,1.1,1.1,1.1,1.1,1.1,1.1,0.1,0.1,0.1,0.1,0.1,0.1,0.1,0.1,0.1,0.1,0.1,0.1,0.1,0.1,0.1,0.1,0.1,0.1,0.1,0.1,0.1,0.1,0.1,0.1,0.1,0.1,0.1,0.1,0.1,0.1,0.1,0.1,0.1,0.1,0.1,0.1,0.1,0.1,0.1,0.1,0.1,0.1,0.1,0.1,0.1,0.1,0.1,0.1,0.1,0.1,0.1,0.1,0.1,0.1,0.1,0.1,0.1],[0.1,0.1,0.1,0.1,0.1,0.1,0.1,0.1,0.1,0.1,0.1,0.1,0.1,0.1,0.1,0.1,0.1,0.1,0.1,0.1,0.1,0.1,0.1,0.1,0.1,0.1,0.1,0.1,0.1,0.1,0.1,0.1,0.1,0.1,1.1,1.1,1.1,1.1,1.1,1.1,1.1,0.1,0.1,0.1,0.1,0.1,0.1,0.1,0.1,0.1,0.1,0.1,0.1,0.1,0.1,0.1,0.1,0.1,0.1,0.1,0.1,0.1,0.1,0.1,0.1,0.1,0.1,0.1,0.1,0.1,0.1,0.1,0.1,0.1,0.1,0.1,0.1,0.1,0.1,0.1,0.1,0.1,0.1,0.1,0.1,0.1,0.1,0.1,0.1,0.1,0.1,0.1,0.1,0.1,0.1,0.1,0.1,0.1,0.1,0.1],[0.1,0.1,0.1,0.1,0.1,0.1,0.1,0.1,0.1,0.1,0.1,0.1,0.1,0.1,0.1,0.1,0.1,0.1,0.1,0.1,0.1,0.1,0.1,0.1,0.1,0.1,0.1,0.1,0.1,0.1,0.1,0.1,0.1,0.1,0.1,0.1,1.1,1.1,1.1,0.1,0.1,0.1,0.1,0.1,0.1,0.1,0.1,0.1,0.1,0.1,0.1,0.1,0.1,0.1,0.1,0.1,0.1,0.1,0.1,0.1,0.1,0.1,0.1,0.1,0.1,0.1,0.1,0.1,0.1,0.1,0.1,0.1,0.1,0.1,0.1,0.1,0.1,0.1,0.1,0.1,0.1,0.1,0.1,0.1,0.1,0.1,0.1,0.1,0.1,0.1,0.1,0.1,0.1,0.1,0.1,0.1,0.1,0.1,0.1,0.1],[0.1,0.1,0.1,0.1,0.1,0.1,0.1,0.1,0.1,0.1,0.1,0.1,0.1,0.1,0.1,0.1,0.1,0.1,0.1,0.1,0.1,0.1,0.1,0.1,0.1,0.1,0.1,0.1,0.1,0.1,0.1,0.1,0.1,0.1,0.1,0.1,0.1,0.1,0.1,0.1,0.1,0.1,0.1,0.1,0.1,0.1,0.1,0.1,0.1,0.1,0.1,0.1,0.1,0.1,0.1,0.1,0.1,0.1,0.1,0.1,0.1,0.1,0.1,0.1,0.1,0.1,0.1,0.1,0.1,0.1,0.1,0.1,0.1,0.1,0.1,0.1,0.1,0.1,0.1,0.1,0.1,0.1,0.1,0.1,0.1,0.1,0.1,0.1,0.1,0.1,0.1,0.1,0.1,0.1,0.1,0.1,0.1,0.1,0.1,0.1],[0.1,0.1,0.1,0.1,0.1,0.1,0.1,0.1,0.1,0.1,0.1,0.1,0.1,0.1,0.1,0.1,0.1,0.1,0.1,0.1,0.1,0.1,0.1,0.1,0.1,0.1,0.1,0.1,0.1,0.1,0.1,0.1,0.1,0.1,0.1,0.1,0.1,0.1,0.1,0.1,0.1,0.1,0.1,0.1,0.1,0.1,0.1,0.1,0.1,0.1,0.1,0.1,0.1,0.1,0.1,0.1,0.1,0.1,0.1,0.1,0.1,0.1,0.1,0.1,0.1,0.1,0.1,0.1,0.1,0.1,0.1,0.1,0.1,0.1,0.1,0.1,0.1,0.1,0.1,0.1,0.1,0.1,0.1,0.1,0.1,0.1,0.1,0.1,0.1,0.1,0.1,0.1,0.1,0.1,0.1,0.1,0.1,0.1,0.1,0.1],[0.1,0.1,0.1,0.1,0.1,0.1,0.1,0.1,0.1,0.1,0.1,0.1,0.1,0.1,0.1,0.1,0.1,0.1,0.1,0.1,0.1,0.1,0.1,0.1,0.1,0.1,0.1,0.1,0.1,0.1,0.1,0.1,0.1,0.1,0.1,0.1,0.1,0.1,0.1,0.1,0.1,0.1,0.1,0.1,0.1,0.1,0.1,0.1,0.1,0.1,0.1,0.1,0.1,0.1,0.1,0.1,0.1,0.1,0.1,0.1,0.1,0.1,0.1,0.1,0.1,0.1,0.1,0.1,0.1,0.1,0.1,0.1,0.1,0.1,0.1,0.1,0.1,0.1,0.1,0.1,0.1,0.1,0.1,0.1,0.1,0.1,0.1,0.1,0.1,0.1,0.1,0.1,0.1,0.1,0.1,0.1,0.1,0.1,0.1,0.1],[0.1,0.1,0.1,0.1,0.1,0.1,0.1,0.1,0.1,0.1,0.1,0.1,0.1,0.1,0.1,0.1,0.1,0.1,0.1,0.1,0.1,0.1,0.1,0.1,0.1,0.1,0.1,0.1,0.1,0.1,0.1,0.1,0.1,0.1,0.1,0.1,0.1,0.1,0.1,0.1,0.1,0.1,0.1,0.1,0.1,0.1,0.1,0.1,0.1,0.1,0.1,0.1,0.1,0.1,0.1,0.1,0.1,0.1,0.1,0.1,0.1,0.1,0.1,0.1,0.1,0.1,0.1,0.1,0.1,0.1,0.1,0.1,0.1,0.1,0.1,0.1,0.1,0.1,0.1,0.1,0.1,0.1,0.1,0.1,0.1,0.1,0.1,0.1,0.1,0.1,0.1,0.1,0.1,0.1,0.1,0.1,0.1,0.1,0.1,0.1],[0.1,0.1,0.1,0.1,0.1,0.1,0.1,0.1,0.1,0.1,0.1,0.1,0.1,0.1,0.1,0.1,0.1,0.1,0.1,0.1,0.1,0.1,0.1,0.1,0.1,0.1,0.1,0.1,0.1,0.1,0.1,0.1,0.1,0.1,0.1,0.1,0.1,0.1,0.1,0.1,0.1,0.1,0.1,0.1,0.1,0.1,0.1,0.1,0.1,0.1,0.1,0.1,0.1,0.1,0.1,0.1,0.1,0.1,0.1,0.1,0.1,0.1,0.1,0.1,0.1,0.1,0.1,0.1,0.1,0.1,0.1,0.1,0.1,0.1,0.1,0.1,0.1,0.1,0.1,0.1,0.1,0.1,0.1,0.1,0.1,0.1,0.1,0.1,0.1,0.1,0.1,0.1,0.1,0.1,0.1,0.1,0.1,0.1,0.1,0.1],[0.1,0.1,0.1,0.1,0.1,0.1,0.1,0.1,0.1,0.1,0.1,0.1,0.1,0.1,0.1,0.1,0.1,0.1,0.1,0.1,0.1,0.1,0.1,0.1,0.1,0.1,0.1,0.1,0.1,0.1,0.1,0.1,0.1,0.1,0.1,0.1,0.1,0.1,0.1,0.1,0.1,0.1,0.1,0.1,0.1,0.1,0.1,0.1,0.1,0.1,0.1,0.1,0.1,0.1,0.1,0.1,0.1,0.1,0.1,0.1,0.1,0.1,0.1,0.1,0.1,0.1,0.1,0.1,0.1,0.1,0.1,0.1,0.1,0.1,0.1,0.1,0.1,0.1,0.1,0.1,0.1,0.1,0.1,0.1,0.1,0.1,0.1,0.1,0.1,0.1,0.1,0.1,0.1,0.1,0.1,0.1,0.1,0.1,0.1,0.1],[0.1,0.1,0.1,0.1,0.1,0.1,0.1,0.1,0.1,0.1,0.1,0.1,0.1,0.1,0.1,0.1,0.1,0.1,0.1,0.1,0.1,0.1,0.1,0.1,0.1,0.1,0.1,0.1,0.1,0.1,0.1,0.1,0.1,0.1,0.1,0.1,0.1,0.1,0.1,0.1,0.1,0.1,0.1,0.1,0.1,0.1,0.1,0.1,0.1,0.1,0.1,0.1,0.1,0.1,0.1,0.1,0.1,0.1,0.1,0.1,0.1,0.1,0.1,0.1,0.1,0.1,0.1,0.1,0.1,0.1,0.1,0.1,0.1,0.1,0.1,0.1,0.1,0.1,0.1,0.1,0.1,0.1,0.1,0.1,0.1,0.1,0.1,0.1,0.1,0.1,0.1,0.1,0.1,0.1,0.1,0.1,0.1,0.1,0.1,0.1],[0.1,0.1,0.1,0.1,0.1,0.1,0.1,0.1,0.1,0.1,0.1,0.1,0.1,0.1,0.1,0.1,0.1,0.1,0.1,0.1,0.1,0.1,0.1,0.1,0.1,0.1,0.1,0.1,0.1,0.1,0.1,0.1,0.1,0.1,0.1,0.1,0.1,0.1,0.1,0.1,0.1,0.1,0.1,0.1,0.1,0.1,0.1,0.1,0.1,0.1,0.1,0.1,0.1,0.1,0.1,0.1,0.1,0.1,0.1,0.1,0.1,0.1,0.1,0.1,0.1,0.1,0.1,0.1,0.1,0.1,0.1,0.1,0.1,0.1,0.1,0.1,0.1,0.1,0.1,0.1,0.1,0.1,0.1,0.1,0.1,0.1,0.1,0.1,0.1,0.1,0.1,0.1,0.1,0.1,0.1,0.1,0.1,0.1,0.1,0.1],[0.1,0.1,0.1,0.1,0.1,0.1,0.1,0.1,0.1,0.1,0.1,0.1,0.1,0.1,0.1,0.1,0.1,0.1,0.1,0.1,0.1,0.1,0.1,0.1,0.1,0.1,0.1,0.1,0.1,0.1,0.1,0.1,0.1,0.1,0.1,0.1,0.1,0.1,0.1,0.1,0.1,0.1,0.1,0.1,0.1,0.1,0.1,0.1,0.1,0.1,0.1,0.1,0.1,0.1,0.1,0.1,0.1,0.1,0.1,0.1,0.1,0.1,0.1,0.1,0.1,0.1,0.1,0.1,0.1,0.1,0.1,0.1,0.1,0.1,0.1,0.1,0.1,0.1,0.1,0.1,0.1,0.1,0.1,0.1,0.1,0.1,0.1,0.1,0.1,0.1,0.1,0.1,0.1,0.1,0.1,0.1,0.1,0.1,0.1,0.1],[0.1,0.1,0.1,0.1,0.1,0.1,0.1,0.1,0.1,0.1,0.1,0.1,0.1,0.1,0.1,0.1,0.1,0.1,0.1,0.1,0.1,0.1,0.1,0.1,0.1,0.1,0.1,0.1,0.1,0.1,0.1,0.1,0.1,0.1,0.1,0.1,0.1,0.1,0.1,0.1,0.1,0.1,0.1,0.1,0.1,0.1,0.1,0.1,0.1,0.1,0.1,0.1,0.1,0.1,0.1,0.1,0.1,0.1,0.1,0.1,0.1,0.1,0.1,0.1,0.1,0.1,0.1,0.1,0.1,0.1,0.1,0.1,0.1,0.1,0.1,0.1,0.1,0.1,0.1,0.1,0.1,0.1,0.1,0.1,0.1,0.1,0.1,0.1,0.1,0.1,0.1,0.1,0.1,0.1,0.1,0.1,0.1,0.1,0.1,0.1],[0.1,0.1,0.1,0.1,0.1,0.1,0.1,0.1,0.1,0.1,0.1,0.1,0.1,0.1,0.1,0.1,0.1,0.1,0.1,0.1,0.1,0.1,0.1,0.1,0.1,0.1,0.1,0.1,0.1,0.1,0.1,0.1,0.1,0.1,0.1,0.1,0.1,0.1,0.1,0.1,0.1,0.1,0.1,0.1,0.1,0.1,0.1,0.1,0.1,0.1,0.1,0.1,0.1,0.1,0.1,0.1,0.1,0.1,0.1,0.1,0.1,0.1,0.1,0.1,0.1,0.1,0.1,0.1,0.1,0.1,0.1,0.1,0.1,0.1,0.1,0.1,0.1,0.1,0.1,0.1,0.1,0.1,0.1,0.1,0.1,0.1,0.1,0.1,0.1,0.1,0.1,0.1,0.1,0.1,0.1,0.1,0.1,0.1,0.1,0.1],[0.1,0.1,0.1,0.1,0.1,0.1,0.1,0.1,0.1,0.1,0.1,0.1,0.1,0.1,0.1,0.1,0.1,0.1,0.1,0.1,0.1,0.1,0.1,0.1,0.1,0.1,0.1,0.1,0.1,0.1,0.1,0.1,0.1,0.1,0.1,0.1,0.1,0.1,0.1,0.1,0.1,0.1,0.1,0.1,0.1,0.1,0.1,0.1,0.1,0.1,0.1,0.1,0.1,0.1,0.1,0.1,0.1,0.1,0.1,0.1,0.1,0.1,0.1,0.1,0.1,0.1,0.1,0.1,0.1,0.1,0.1,0.1,0.1,0.1,0.1,0.1,0.1,0.1,0.1,0.1,0.1,0.1,0.1,0.1,0.1,0.1,0.1,0.1,0.1,0.1,0.1,0.1,0.1,0.1,0.1,0.1,0.1,0.1,0.1,0.1],[0.1,0.1,0.1,0.1,0.1,0.1,0.1,0.1,0.1,0.1,0.1,0.1,0.1,0.1,0.1,0.1,0.1,0.1,0.1,0.1,0.1,0.1,0.1,0.1,0.1,0.1,0.1,0.1,0.1,0.1,0.1,0.1,0.1,0.1,0.1,0.1,0.1,0.1,0.1,0.1,0.1,0.1,0.1,0.1,0.1,0.1,0.1,0.1,0.1,0.1,0.1,0.1,0.1,0.1,0.1,0.1,0.1,0.1,0.1,0.1,0.1,0.1,0.1,0.1,0.1,0.1,0.1,0.1,0.1,0.1,0.1,0.1,0.1,0.1,0.1,0.1,0.1,0.1,0.1,0.1,0.1,0.1,0.1,0.1,0.1,0.1,0.1,0.1,0.1,0.1,0.1,0.1,0.1,0.1,0.1,0.1,0.1,0.1,0.1,0.1],[0.1,0.1,0.1,0.1,0.1,0.1,0.1,0.1,0.1,0.1,0.1,0.1,0.1,0.1,0.1,0.1,0.1,0.1,0.1,0.1,0.1,0.1,0.1,0.1,0.1,0.1,0.1,0.1,0.1,0.1,0.1,0.1,0.1,0.1,0.1,0.1,0.1,0.1,0.1,0.1,0.1,0.1,0.1,0.1,0.1,0.1,0.1,0.1,0.1,0.1,0.1,0.1,0.1,0.1,0.1,0.1,0.1,0.1,0.1,0.1,0.1,0.1,0.1,0.1,0.1,0.1,0.1,0.1,0.1,0.1,0.1,0.1,0.1,0.1,0.1,0.1,0.1,0.1,0.1,0.1,0.1,0.1,0.1,0.1,0.1,0.1,0.1,0.1,0.1,0.1,0.1,0.1,0.1,0.1,0.1,0.1,0.1,0.1,0.1,0.1],[0.1,0.1,0.1,0.1,0.1,0.1,0.1,0.1,0.1,0.1,0.1,0.1,0.1,0.1,0.1,0.1,0.1,0.1,0.1,0.1,0.1,0.1,0.1,0.1,0.1,0.1,0.1,0.1,0.1,0.1,0.1,0.1,0.1,0.1,0.1,0.1,0.1,0.1,0.1,0.1,0.1,0.1,0.1,0.1,0.1,0.1,0.1,0.1,0.1,0.1,0.1,0.1,0.1,0.1,0.1,0.1,0.1,0.1,0.1,0.1,0.1,0.1,0.1,0.1,0.1,0.1,0.1,0.1,0.1,0.1,0.1,0.1,0.1,0.1,0.1,0.1,0.1,0.1,0.1,0.1,0.1,0.1,0.1,0.1,0.1,0.1,0.1,0.1,0.1,0.1,0.1,0.1,0.1,0.1,0.1,0.1,0.1,0.1,0.1,0.1],[0.1,0.1,0.1,0.1,0.1,0.1,0.1,0.1,0.1,0.1,0.1,0.1,0.1,0.1,0.1,0.1,0.1,0.1,0.1,0.1,0.1,0.1,0.1,0.1,0.1,0.1,0.1,0.1,0.1,0.1,0.1,0.1,0.1,0.1,0.1,0.1,0.1,0.1,0.1,0.1,0.1,0.1,0.1,0.1,0.1,0.1,0.1,0.1,0.1,0.1,0.1,0.1,0.1,0.1,0.1,0.1,0.1,0.1,0.1,0.1,0.1,0.1,0.1,0.1,0.1,0.1,0.1,0.1,0.1,0.1,0.1,0.1,0.1,0.1,0.1,0.1,0.1,0.1,0.1,0.1,0.1,0.1,0.1,0.1,0.1,0.1,0.1,0.1,0.1,0.1,0.1,0.1,0.1,0.1,0.1,0.1,0.1,0.1,0.1,0.1],[0.1,0.1,0.1,0.1,0.1,0.1,0.1,0.1,0.1,0.1,0.1,0.1,0.1,0.1,0.1,0.1,0.1,0.1,0.1,0.1,0.1,0.1,0.1,0.1,0.1,0.1,0.1,0.1,0.1,0.1,0.1,0.1,0.1,0.1,0.1,0.1,0.1,0.1,0.1,0.1,0.1,0.1,0.1,0.1,0.1,0.1,0.1,0.1,0.1,0.1,0.1,0.1,0.1,0.1,0.1,0.1,0.1,0.1,0.1,0.1,0.1,0.1,0.1,0.1,0.1,0.1,0.1,0.1,0.1,0.1,0.1,0.1,0.1,0.1,0.1,0.1,0.1,0.1,0.1,0.1,0.1,0.1,0.1,0.1,0.1,0.1,0.1,0.1,0.1,0.1,0.1,0.1,0.1,0.1,0.1,0.1,0.1,0.1,0.1,0.1],[0.1,0.1,0.1,0.1,0.1,0.1,0.1,0.1,0.1,0.1,0.1,0.1,0.1,0.1,0.1,0.1,0.1,0.1,0.1,0.1,0.1,0.1,0.1,0.1,0.1,0.1,0.1,0.1,0.1,0.1,0.1,0.1,0.1,0.1,0.1,0.1,0.1,0.1,0.1,0.1,0.1,0.1,0.1,0.1,0.1,0.1,0.1,0.1,0.1,0.1,0.1,0.1,0.1,0.1,0.1,0.1,0.1,0.1,0.1,0.1,0.1,0.1,0.1,0.1,0.1,0.1,0.1,0.1,0.1,0.1,0.1,0.1,0.1,0.1,0.1,0.1,0.1,0.1,0.1,0.1,0.1,0.1,0.1,0.1,0.1,0.1,0.1,0.1,0.1,0.1,0.1,0.1,0.1,0.1,0.1,0.1,0.1,0.1,0.1,0.1],[0.1,0.1,0.1,0.1,0.1,0.1,0.1,0.1,0.1,0.1,0.1,0.1,0.1,0.1,0.1,0.1,0.1,0.1,0.1,0.1,0.1,0.1,0.1,0.1,0.1,0.1,0.1,0.1,0.1,0.1,0.1,0.1,0.1,0.1,0.1,0.1,0.1,0.1,0.1,0.1,0.1,0.1,0.1,0.1,0.1,0.1,0.1,0.1,0.1,0.1,0.1,0.1,0.1,0.1,0.1,0.1,0.1,0.1,0.1,0.1,0.1,0.1,0.1,0.1,0.1,0.1,0.1,0.1,0.1,0.1,0.1,0.1,0.1,0.1,0.1,0.1,0.1,0.1,0.1,0.1,0.1,0.1,0.1,0.1,0.1,0.1,0.1,0.1,0.1,0.1,0.1,0.1,0.1,0.1,0.1,0.1,0.1,0.1,0.1,0.1],[0.1,0.1,0.1,0.1,0.1,0.1,0.1,0.1,0.1,0.1,0.1,0.1,0.1,0.1,0.1,0.1,0.1,0.1,0.1,0.1,0.1,0.1,0.1,0.1,0.1,0.1,0.1,0.1,0.1,0.1,0.1,0.1,0.1,0.1,0.1,0.1,0.1,0.1,0.1,0.1,0.1,0.1,0.1,0.1,0.1,0.1,0.1,0.1,0.1,0.1,0.1,0.1,0.1,0.1,0.1,0.1,0.1,0.1,0.1,0.1,0.1,0.1,0.1,0.1,0.1,0.1,0.1,0.1,0.1,0.1,0.1,0.1,0.1,0.1,0.1,0.1,0.1,0.1,0.1,0.1,0.1,0.1,0.1,0.1,0.1,0.1,0.1,0.1,0.1,0.1,0.1,0.1,0.1,0.1,0.1,0.1,0.1,0.1,0.1,0.1],[0.1,0.1,0.1,0.1,0.1,0.1,0.1,0.1,0.1,0.1,0.1,0.1,0.1,0.1,0.1,0.1,0.1,0.1,0.1,0.1,0.1,0.1,0.1,0.1,0.1,0.1,0.1,0.1,0.1,0.1,0.1,0.1,0.1,0.1,0.1,0.1,0.1,0.1,0.1,0.1,0.1,0.1,0.1,0.1,0.1,0.1,0.1,0.1,0.1,0.1,0.1,0.1,0.1,0.1,0.1,0.1,0.1,0.1,0.1,0.1,0.1,0.1,0.1,0.1,0.1,0.1,0.1,0.1,0.1,0.1,0.1,0.1,0.1,0.1,0.1,0.1,0.1,0.1,0.1,0.1,0.1,0.1,0.1,0.1,0.1,0.1,0.1,0.1,0.1,0.1,0.1,0.1,0.1,0.1,0.1,0.1,0.1,0.1,0.1,0.1],[0.1,0.1,0.1,0.1,0.1,0.1,0.1,0.1,0.1,0.1,0.1,0.1,0.1,0.1,0.1,0.1,0.1,0.1,0.1,0.1,0.1,0.1,0.1,0.1,0.1,0.1,0.1,0.1,0.1,0.1,0.1,0.1,0.1,0.1,0.1,0.1,0.1,0.1,0.1,0.1,0.1,0.1,0.1,0.1,0.1,0.1,0.1,0.1,0.1,0.1,0.1,0.1,0.1,0.1,0.1,0.1,0.1,0.1,0.1,0.1,0.1,0.1,0.1,0.1,0.1,0.1,0.1,0.1,0.1,0.1,0.1,0.1,0.1,0.1,0.1,0.1,0.1,0.1,0.1,0.1,0.1,0.1,0.1,0.1,0.1,0.1,0.1,0.1,0.1,0.1,0.1,0.1,0.1,0.1,0.1,0.1,0.1,0.1,0.1,0.1],[0.1,0.1,0.1,0.1,0.1,0.1,0.1,0.1,0.1,0.1,0.1,0.1,0.1,0.1,0.1,0.1,0.1,0.1,0.1,0.1,0.1,0.1,0.1,0.1,0.1,0.1,0.1,0.1,0.1,0.1,0.1,0.1,0.1,0.1,0.1,0.1,0.1,0.1,0.1,0.1,0.1,0.1,0.1,0.1,0.1,0.1,0.1,0.1,0.1,0.1,0.1,0.1,0.1,0.1,0.1,0.1,0.1,0.1,0.1,0.1,0.1,0.1,0.1,0.1,0.1,0.1,0.1,0.1,0.1,0.1,0.1,0.1,0.1,0.1,0.1,0.1,0.1,0.1,0.1,0.1,0.1,0.1,0.1,0.1,0.1,0.1,0.1,0.1,0.1,0.1,0.1,0.1,0.1,0.1,0.1,0.1,0.1,0.1,0.1,0.1],[0.1,0.1,0.1,0.1,0.1,0.1,0.1,0.1,0.1,0.1,0.1,0.1,0.1,0.1,0.1,0.1,0.1,0.1,0.1,0.1,0.1,0.1,0.1,0.1,0.1,0.1,0.1,0.1,0.1,0.1,0.1,0.1,0.1,0.1,0.1,0.1,0.1,0.1,0.1,0.1,0.1,0.1,0.1,0.1,0.1,0.1,0.1,0.1,0.1,0.1,0.1,0.1,0.1,0.1,0.1,0.1,0.1,0.1,0.1,0.1,0.1,0.1,0.1,0.1,0.1,0.1,0.1,0.1,0.1,0.1,0.1,0.1,0.1,0.1,0.1,0.1,0.1,0.1,0.1,0.1,0.1,0.1,0.1,0.1,0.1,0.1,0.1,0.1,0.1,0.1,0.1,0.1,0.1,0.1,0.1,0.1,0.1,0.1,0.1,0.1],[0.1,0.1,0.1,0.1,0.1,0.1,0.1,0.1,0.1,0.1,0.1,0.1,0.1,0.1,0.1,0.1,0.1,0.1,0.1,0.1,0.1,0.1,0.1,0.1,0.1,0.1,0.1,0.1,0.1,0.1,0.1,0.1,0.1,0.1,0.1,0.1,0.1,0.1,0.1,0.1,0.1,0.1,0.1,0.1,0.1,0.1,0.1,0.1,0.1,0.1,0.1,0.1,0.1,0.1,0.1,0.1,0.1,0.1,0.1,0.1,0.1,0.1,0.1,0.1,0.1,0.1,0.1,0.1,0.1,0.1,0.1,0.1,0.1,0.1,0.1,0.1,0.1,0.1,0.1,0.1,0.1,0.1,0.1,0.1,0.1,0.1,0.1,0.1,0.1,0.1,0.1,0.1,0.1,0.1,0.1,0.1,0.1,0.1,0.1,0.1],[0.1,0.1,0.1,0.1,0.1,0.1,0.1,0.1,0.1,0.1,0.1,0.1,0.1,0.1,0.1,0.1,0.1,0.1,0.1,0.1,0.1,0.1,0.1,0.1,0.1,0.1,0.1,0.1,0.1,0.1,0.1,0.1,0.1,0.1,0.1,0.1,0.1,0.1,0.1,0.1,0.1,0.1,0.1,0.1,0.1,0.1,0.1,0.1,0.1,0.1,0.1,0.1,0.1,0.1,0.1,0.1,0.1,0.1,0.1,0.1,0.1,0.1,0.1,0.1,0.1,0.1,0.1,0.1,0.1,0.1,0.1,0.1,0.1,0.1,0.1,0.1,0.1,0.1,0.1,0.1,0.1,0.1,0.1,0.1,0.1,0.1,0.1,0.1,0.1,0.1,0.1,0.1,0.1,0.1,0.1,0.1,0.1,0.1,0.1,0.1],[0.1,0.1,0.1,0.1,0.1,0.1,0.1,0.1,0.1,0.1,0.1,0.1,0.1,0.1,0.1,0.1,0.1,0.1,0.1,0.1,0.1,0.1,0.1,0.1,0.1,0.1,0.1,0.1,0.1,0.1,0.1,0.1,0.1,0.1,0.1,0.1,0.1,0.1,0.1,0.1,0.1,0.1,0.1,0.1,0.1,0.1,0.1,0.1,0.1,0.1,0.1,0.1,0.1,0.1,0.1,0.1,0.1,0.1,0.1,0.1,0.1,0.1,0.1,0.1,0.1,0.1,0.1,0.1,0.1,0.1,0.1,0.1,0.1,0.1,0.1,0.1,0.1,0.1,0.1,0.1,0.1,0.1,0.1,0.1,0.1,0.1,0.1,0.1,0.1,0.1,0.1,0.1,0.1,0.1,0.1,0.1,0.1,0.1,0.1,0.1],[0.1,0.1,0.1,0.1,0.1,0.1,0.1,0.1,0.1,0.1,0.1,0.1,0.1,0.1,0.1,0.1,0.1,0.1,0.1,0.1,0.1,0.1,0.1,0.1,0.1,0.1,0.1,0.1,0.1,0.1,0.1,0.1,0.1,0.1,0.1,0.1,0.1,0.1,0.1,0.1,0.1,0.1,0.1,0.1,0.1,0.1,0.1,0.1,0.1,0.1,0.1,0.1,0.1,0.1,0.1,0.1,0.1,0.1,0.1,0.1,0.1,0.1,0.1,0.1,0.1,0.1,0.1,0.1,0.1,0.1,0.1,0.1,0.1,0.1,0.1,0.1,0.1,0.1,0.1,0.1,0.1,0.1,0.1,0.1,0.1,0.1,0.1,0.1,0.1,0.1,0.1,0.1,0.1,0.1,0.1,0.1,0.1,0.1,0.1,0.1],[0.1,0.1,0.1,0.1,0.1,0.1,0.1,0.1,0.1,0.1,0.1,0.1,0.1,0.1,0.1,0.1,0.1,0.1,0.1,0.1,0.1,0.1,0.1,0.1,0.1,0.1,0.1,0.1,0.1,0.1,0.1,0.1,0.1,0.1,0.1,0.1,0.1,0.1,0.1,0.1,0.1,0.1,0.1,0.1,0.1,0.1,0.1,0.1,0.1,0.1,0.1,0.1,0.1,0.1,0.1,0.1,0.1,0.1,0.1,0.1,0.1,0.1,0.1,0.1,0.1,0.1,0.1,0.1,0.1,0.1,0.1,0.1,0.1,0.1,0.1,0.1,0.1,0.1,0.1,0.1,0.1,0.1,0.1,0.1,0.1,0.1,0.1,0.1,0.1,0.1,0.1,0.1,0.1,0.1,0.1,0.1,0.1,0.1,0.1,0.1],[0.1,0.1,0.1,0.1,0.1,0.1,0.1,0.1,0.1,0.1,0.1,0.1,0.1,0.1,0.1,0.1,0.1,0.1,0.1,0.1,0.1,0.1,0.1,0.1,0.1,0.1,0.1,0.1,0.1,0.1,0.1,0.1,0.1,0.1,0.1,0.1,0.1,0.1,0.1,0.1,0.1,0.1,0.1,0.1,0.1,0.1,0.1,0.1,0.1,0.1,0.1,0.1,0.1,0.1,0.1,0.1,0.1,0.1,0.1,0.1,0.1,0.1,0.1,0.1,0.1,0.1,0.1,0.1,0.1,0.1,0.1,0.1,0.1,0.1,0.1,0.1,0.1,0.1,0.1,0.1,0.1,0.1,0.1,0.1,0.1,0.1,0.1,0.1,0.1,0.1,0.1,0.1,0.1,0.1,0.1,0.1,0.1,0.1,0.1,0.1],[0.1,0.1,0.1,0.1,0.1,0.1,0.1,0.1,0.1,0.1,0.1,0.1,0.1,0.1,0.1,0.1,0.1,0.1,0.1,0.1,0.1,0.1,0.1,0.1,0.1,0.1,0.1,0.1,0.1,0.1,0.1,0.1,0.1,0.1,0.1,0.1,0.1,0.1,0.1,0.1,0.1,0.1,0.1,0.1,0.1,0.1,0.1,0.1,0.1,0.1,0.1,0.1,0.1,0.1,0.1,0.1,0.1,0.1,0.1,0.1,0.1,0.1,0.1,0.1,0.1,0.1,0.1,0.1,0.1,0.1,0.1,0.1,0.1,0.1,0.1,0.1,0.1,0.1,0.1,0.1,0.1,0.1,0.1,0.1,0.1,0.1,0.1,0.1,0.1,0.1,0.1,0.1,0.1,0.1,0.1,0.1,0.1,0.1,0.1,0.1]],\"type\":\"contour\"}],                        {\"template\":{\"data\":{\"barpolar\":[{\"marker\":{\"line\":{\"color\":\"white\",\"width\":0.5},\"pattern\":{\"fillmode\":\"overlay\",\"size\":10,\"solidity\":0.2}},\"type\":\"barpolar\"}],\"bar\":[{\"error_x\":{\"color\":\"rgb(36,36,36)\"},\"error_y\":{\"color\":\"rgb(36,36,36)\"},\"marker\":{\"line\":{\"color\":\"white\",\"width\":0.5},\"pattern\":{\"fillmode\":\"overlay\",\"size\":10,\"solidity\":0.2}},\"type\":\"bar\"}],\"carpet\":[{\"aaxis\":{\"endlinecolor\":\"rgb(36,36,36)\",\"gridcolor\":\"white\",\"linecolor\":\"white\",\"minorgridcolor\":\"white\",\"startlinecolor\":\"rgb(36,36,36)\"},\"baxis\":{\"endlinecolor\":\"rgb(36,36,36)\",\"gridcolor\":\"white\",\"linecolor\":\"white\",\"minorgridcolor\":\"white\",\"startlinecolor\":\"rgb(36,36,36)\"},\"type\":\"carpet\"}],\"choropleth\":[{\"colorbar\":{\"outlinewidth\":1,\"tickcolor\":\"rgb(36,36,36)\",\"ticks\":\"outside\"},\"type\":\"choropleth\"}],\"contourcarpet\":[{\"colorbar\":{\"outlinewidth\":1,\"tickcolor\":\"rgb(36,36,36)\",\"ticks\":\"outside\"},\"type\":\"contourcarpet\"}],\"contour\":[{\"colorbar\":{\"outlinewidth\":1,\"tickcolor\":\"rgb(36,36,36)\",\"ticks\":\"outside\"},\"colorscale\":[[0.0,\"#440154\"],[0.1111111111111111,\"#482878\"],[0.2222222222222222,\"#3e4989\"],[0.3333333333333333,\"#31688e\"],[0.4444444444444444,\"#26828e\"],[0.5555555555555556,\"#1f9e89\"],[0.6666666666666666,\"#35b779\"],[0.7777777777777778,\"#6ece58\"],[0.8888888888888888,\"#b5de2b\"],[1.0,\"#fde725\"]],\"type\":\"contour\"}],\"heatmapgl\":[{\"colorbar\":{\"outlinewidth\":1,\"tickcolor\":\"rgb(36,36,36)\",\"ticks\":\"outside\"},\"colorscale\":[[0.0,\"#440154\"],[0.1111111111111111,\"#482878\"],[0.2222222222222222,\"#3e4989\"],[0.3333333333333333,\"#31688e\"],[0.4444444444444444,\"#26828e\"],[0.5555555555555556,\"#1f9e89\"],[0.6666666666666666,\"#35b779\"],[0.7777777777777778,\"#6ece58\"],[0.8888888888888888,\"#b5de2b\"],[1.0,\"#fde725\"]],\"type\":\"heatmapgl\"}],\"heatmap\":[{\"colorbar\":{\"outlinewidth\":1,\"tickcolor\":\"rgb(36,36,36)\",\"ticks\":\"outside\"},\"colorscale\":[[0.0,\"#440154\"],[0.1111111111111111,\"#482878\"],[0.2222222222222222,\"#3e4989\"],[0.3333333333333333,\"#31688e\"],[0.4444444444444444,\"#26828e\"],[0.5555555555555556,\"#1f9e89\"],[0.6666666666666666,\"#35b779\"],[0.7777777777777778,\"#6ece58\"],[0.8888888888888888,\"#b5de2b\"],[1.0,\"#fde725\"]],\"type\":\"heatmap\"}],\"histogram2dcontour\":[{\"colorbar\":{\"outlinewidth\":1,\"tickcolor\":\"rgb(36,36,36)\",\"ticks\":\"outside\"},\"colorscale\":[[0.0,\"#440154\"],[0.1111111111111111,\"#482878\"],[0.2222222222222222,\"#3e4989\"],[0.3333333333333333,\"#31688e\"],[0.4444444444444444,\"#26828e\"],[0.5555555555555556,\"#1f9e89\"],[0.6666666666666666,\"#35b779\"],[0.7777777777777778,\"#6ece58\"],[0.8888888888888888,\"#b5de2b\"],[1.0,\"#fde725\"]],\"type\":\"histogram2dcontour\"}],\"histogram2d\":[{\"colorbar\":{\"outlinewidth\":1,\"tickcolor\":\"rgb(36,36,36)\",\"ticks\":\"outside\"},\"colorscale\":[[0.0,\"#440154\"],[0.1111111111111111,\"#482878\"],[0.2222222222222222,\"#3e4989\"],[0.3333333333333333,\"#31688e\"],[0.4444444444444444,\"#26828e\"],[0.5555555555555556,\"#1f9e89\"],[0.6666666666666666,\"#35b779\"],[0.7777777777777778,\"#6ece58\"],[0.8888888888888888,\"#b5de2b\"],[1.0,\"#fde725\"]],\"type\":\"histogram2d\"}],\"histogram\":[{\"marker\":{\"line\":{\"color\":\"white\",\"width\":0.6}},\"type\":\"histogram\"}],\"mesh3d\":[{\"colorbar\":{\"outlinewidth\":1,\"tickcolor\":\"rgb(36,36,36)\",\"ticks\":\"outside\"},\"type\":\"mesh3d\"}],\"parcoords\":[{\"line\":{\"colorbar\":{\"outlinewidth\":1,\"tickcolor\":\"rgb(36,36,36)\",\"ticks\":\"outside\"}},\"type\":\"parcoords\"}],\"pie\":[{\"automargin\":true,\"type\":\"pie\"}],\"scatter3d\":[{\"line\":{\"colorbar\":{\"outlinewidth\":1,\"tickcolor\":\"rgb(36,36,36)\",\"ticks\":\"outside\"}},\"marker\":{\"colorbar\":{\"outlinewidth\":1,\"tickcolor\":\"rgb(36,36,36)\",\"ticks\":\"outside\"}},\"type\":\"scatter3d\"}],\"scattercarpet\":[{\"marker\":{\"colorbar\":{\"outlinewidth\":1,\"tickcolor\":\"rgb(36,36,36)\",\"ticks\":\"outside\"}},\"type\":\"scattercarpet\"}],\"scattergeo\":[{\"marker\":{\"colorbar\":{\"outlinewidth\":1,\"tickcolor\":\"rgb(36,36,36)\",\"ticks\":\"outside\"}},\"type\":\"scattergeo\"}],\"scattergl\":[{\"marker\":{\"colorbar\":{\"outlinewidth\":1,\"tickcolor\":\"rgb(36,36,36)\",\"ticks\":\"outside\"}},\"type\":\"scattergl\"}],\"scattermapbox\":[{\"marker\":{\"colorbar\":{\"outlinewidth\":1,\"tickcolor\":\"rgb(36,36,36)\",\"ticks\":\"outside\"}},\"type\":\"scattermapbox\"}],\"scatterpolargl\":[{\"marker\":{\"colorbar\":{\"outlinewidth\":1,\"tickcolor\":\"rgb(36,36,36)\",\"ticks\":\"outside\"}},\"type\":\"scatterpolargl\"}],\"scatterpolar\":[{\"marker\":{\"colorbar\":{\"outlinewidth\":1,\"tickcolor\":\"rgb(36,36,36)\",\"ticks\":\"outside\"}},\"type\":\"scatterpolar\"}],\"scatter\":[{\"fillpattern\":{\"fillmode\":\"overlay\",\"size\":10,\"solidity\":0.2},\"type\":\"scatter\"}],\"scatterternary\":[{\"marker\":{\"colorbar\":{\"outlinewidth\":1,\"tickcolor\":\"rgb(36,36,36)\",\"ticks\":\"outside\"}},\"type\":\"scatterternary\"}],\"surface\":[{\"colorbar\":{\"outlinewidth\":1,\"tickcolor\":\"rgb(36,36,36)\",\"ticks\":\"outside\"},\"colorscale\":[[0.0,\"#440154\"],[0.1111111111111111,\"#482878\"],[0.2222222222222222,\"#3e4989\"],[0.3333333333333333,\"#31688e\"],[0.4444444444444444,\"#26828e\"],[0.5555555555555556,\"#1f9e89\"],[0.6666666666666666,\"#35b779\"],[0.7777777777777778,\"#6ece58\"],[0.8888888888888888,\"#b5de2b\"],[1.0,\"#fde725\"]],\"type\":\"surface\"}],\"table\":[{\"cells\":{\"fill\":{\"color\":\"rgb(237,237,237)\"},\"line\":{\"color\":\"white\"}},\"header\":{\"fill\":{\"color\":\"rgb(217,217,217)\"},\"line\":{\"color\":\"white\"}},\"type\":\"table\"}]},\"layout\":{\"annotationdefaults\":{\"arrowhead\":0,\"arrowwidth\":1},\"autotypenumbers\":\"strict\",\"coloraxis\":{\"colorbar\":{\"outlinewidth\":1,\"tickcolor\":\"rgb(36,36,36)\",\"ticks\":\"outside\"}},\"colorscale\":{\"diverging\":[[0.0,\"rgb(103,0,31)\"],[0.1,\"rgb(178,24,43)\"],[0.2,\"rgb(214,96,77)\"],[0.3,\"rgb(244,165,130)\"],[0.4,\"rgb(253,219,199)\"],[0.5,\"rgb(247,247,247)\"],[0.6,\"rgb(209,229,240)\"],[0.7,\"rgb(146,197,222)\"],[0.8,\"rgb(67,147,195)\"],[0.9,\"rgb(33,102,172)\"],[1.0,\"rgb(5,48,97)\"]],\"sequential\":[[0.0,\"#440154\"],[0.1111111111111111,\"#482878\"],[0.2222222222222222,\"#3e4989\"],[0.3333333333333333,\"#31688e\"],[0.4444444444444444,\"#26828e\"],[0.5555555555555556,\"#1f9e89\"],[0.6666666666666666,\"#35b779\"],[0.7777777777777778,\"#6ece58\"],[0.8888888888888888,\"#b5de2b\"],[1.0,\"#fde725\"]],\"sequentialminus\":[[0.0,\"#440154\"],[0.1111111111111111,\"#482878\"],[0.2222222222222222,\"#3e4989\"],[0.3333333333333333,\"#31688e\"],[0.4444444444444444,\"#26828e\"],[0.5555555555555556,\"#1f9e89\"],[0.6666666666666666,\"#35b779\"],[0.7777777777777778,\"#6ece58\"],[0.8888888888888888,\"#b5de2b\"],[1.0,\"#fde725\"]]},\"colorway\":[\"#1F77B4\",\"#FF7F0E\",\"#2CA02C\",\"#D62728\",\"#9467BD\",\"#8C564B\",\"#E377C2\",\"#7F7F7F\",\"#BCBD22\",\"#17BECF\"],\"font\":{\"color\":\"rgb(36,36,36)\"},\"geo\":{\"bgcolor\":\"white\",\"lakecolor\":\"white\",\"landcolor\":\"white\",\"showlakes\":true,\"showland\":true,\"subunitcolor\":\"white\"},\"hoverlabel\":{\"align\":\"left\"},\"hovermode\":\"closest\",\"mapbox\":{\"style\":\"light\"},\"paper_bgcolor\":\"white\",\"plot_bgcolor\":\"white\",\"polar\":{\"angularaxis\":{\"gridcolor\":\"rgb(232,232,232)\",\"linecolor\":\"rgb(36,36,36)\",\"showgrid\":false,\"showline\":true,\"ticks\":\"outside\"},\"bgcolor\":\"white\",\"radialaxis\":{\"gridcolor\":\"rgb(232,232,232)\",\"linecolor\":\"rgb(36,36,36)\",\"showgrid\":false,\"showline\":true,\"ticks\":\"outside\"}},\"scene\":{\"xaxis\":{\"backgroundcolor\":\"white\",\"gridcolor\":\"rgb(232,232,232)\",\"gridwidth\":2,\"linecolor\":\"rgb(36,36,36)\",\"showbackground\":true,\"showgrid\":false,\"showline\":true,\"ticks\":\"outside\",\"zeroline\":false,\"zerolinecolor\":\"rgb(36,36,36)\"},\"yaxis\":{\"backgroundcolor\":\"white\",\"gridcolor\":\"rgb(232,232,232)\",\"gridwidth\":2,\"linecolor\":\"rgb(36,36,36)\",\"showbackground\":true,\"showgrid\":false,\"showline\":true,\"ticks\":\"outside\",\"zeroline\":false,\"zerolinecolor\":\"rgb(36,36,36)\"},\"zaxis\":{\"backgroundcolor\":\"white\",\"gridcolor\":\"rgb(232,232,232)\",\"gridwidth\":2,\"linecolor\":\"rgb(36,36,36)\",\"showbackground\":true,\"showgrid\":false,\"showline\":true,\"ticks\":\"outside\",\"zeroline\":false,\"zerolinecolor\":\"rgb(36,36,36)\"}},\"shapedefaults\":{\"fillcolor\":\"black\",\"line\":{\"width\":0},\"opacity\":0.3},\"ternary\":{\"aaxis\":{\"gridcolor\":\"rgb(232,232,232)\",\"linecolor\":\"rgb(36,36,36)\",\"showgrid\":false,\"showline\":true,\"ticks\":\"outside\"},\"baxis\":{\"gridcolor\":\"rgb(232,232,232)\",\"linecolor\":\"rgb(36,36,36)\",\"showgrid\":false,\"showline\":true,\"ticks\":\"outside\"},\"bgcolor\":\"white\",\"caxis\":{\"gridcolor\":\"rgb(232,232,232)\",\"linecolor\":\"rgb(36,36,36)\",\"showgrid\":false,\"showline\":true,\"ticks\":\"outside\"}},\"title\":{\"x\":0.05},\"xaxis\":{\"automargin\":true,\"gridcolor\":\"rgb(232,232,232)\",\"linecolor\":\"rgb(36,36,36)\",\"showgrid\":false,\"showline\":true,\"ticks\":\"outside\",\"title\":{\"standoff\":15},\"zeroline\":false,\"zerolinecolor\":\"rgb(36,36,36)\"},\"yaxis\":{\"automargin\":true,\"gridcolor\":\"rgb(232,232,232)\",\"linecolor\":\"rgb(36,36,36)\",\"showgrid\":false,\"showline\":true,\"ticks\":\"outside\",\"title\":{\"standoff\":15},\"zeroline\":false,\"zerolinecolor\":\"rgb(36,36,36)\"}}},\"xaxis\":{\"type\":\"log\",\"title\":{\"text\":\"Number of unique fragments\"}},\"yaxis\":{\"title\":{\"text\":\"TSS enrichment score\"}},\"width\":500,\"height\":400},                        {\"responsive\": true}                    ).then(function(){\n",
              "                            \n",
              "var gd = document.getElementById('ccb0a704-f0f8-45d0-ac6c-68b2c1c87b7c');\n",
              "var x = new MutationObserver(function (mutations, observer) {{\n",
              "        var display = window.getComputedStyle(gd).display;\n",
              "        if (!display || display === 'none') {{\n",
              "            console.log([gd, 'removed!']);\n",
              "            Plotly.purge(gd);\n",
              "            observer.disconnect();\n",
              "        }}\n",
              "}});\n",
              "\n",
              "// Listen for the removal of the full notebook cells\n",
              "var notebookContainer = gd.closest('#notebook-container');\n",
              "if (notebookContainer) {{\n",
              "    x.observe(notebookContainer, {childList: true});\n",
              "}}\n",
              "\n",
              "// Listen for the clearing of the current output cell\n",
              "var outputEl = gd.closest('.output');\n",
              "if (outputEl) {{\n",
              "    x.observe(outputEl, {childList: true});\n",
              "}}\n",
              "\n",
              "                        })                };                            </script>        </div>\n",
              "</body>\n",
              "</html>"
            ]
          },
          "metadata": {}
        }
      ],
      "source": [
        "# Generate TSSE plots\n",
        "snap.pl.tsse(SRR26046013_DM_AOA_INH)\n"
      ]
    },
    {
      "cell_type": "code",
      "execution_count": 29,
      "id": "27e4db60-aa9d-4e17-8f4b-0d30bd9b7b1f",
      "metadata": {
        "id": "27e4db60-aa9d-4e17-8f4b-0d30bd9b7b1f",
        "colab": {
          "base_uri": "https://localhost:8080/"
        },
        "outputId": "c86b09cc-0476-4884-f214-22362a724a08"
      },
      "outputs": [
        {
          "output_type": "execute_result",
          "data": {
            "text/plain": [
              "<snapatac2.genome.Genome at 0x7e8fcc6197d0>"
            ]
          },
          "metadata": {},
          "execution_count": 29
        }
      ],
      "source": [
        "gene_anno"
      ]
    },
    {
      "cell_type": "markdown",
      "id": "9bd3c212-8a10-4379-986b-8757c44715c9",
      "metadata": {
        "id": "9bd3c212-8a10-4379-986b-8757c44715c9"
      },
      "source": [
        "fig.write_image(\"TSSe_plot.png\",  width=1920, height=1080)"
      ]
    },
    {
      "cell_type": "markdown",
      "id": "01cf9321-d5d4-41ff-874c-6d35b89c4d85",
      "metadata": {
        "id": "01cf9321-d5d4-41ff-874c-6d35b89c4d85"
      },
      "source": [
        "#Filter cell counts and TSSE values based on above plots"
      ]
    },
    {
      "cell_type": "code",
      "execution_count": 30,
      "id": "2009add0-8ae3-487a-bac6-3f03d6ebe5b6",
      "metadata": {
        "id": "2009add0-8ae3-487a-bac6-3f03d6ebe5b6",
        "colab": {
          "base_uri": "https://localhost:8080/"
        },
        "outputId": "1c53dfd6-8d8f-4d87-f1e0-714c7b3e93dc"
      },
      "outputs": [
        {
          "output_type": "stream",
          "name": "stderr",
          "text": [
            "/usr/local/lib/python3.11/dist-packages/anndata/_core/aligned_df.py:68: ImplicitModificationWarning:\n",
            "\n",
            "Transforming to str index.\n",
            "\n",
            "/usr/local/lib/python3.11/dist-packages/anndata/_core/aligned_df.py:68: ImplicitModificationWarning:\n",
            "\n",
            "Transforming to str index.\n",
            "\n"
          ]
        }
      ],
      "source": [
        "snap.pp.filter_cells(SRR26046013_DM_AOA_INH, min_counts=3000, min_tsse=15, max_counts=70000)"
      ]
    },
    {
      "cell_type": "code",
      "execution_count": 31,
      "id": "182875b4-c906-4329-9489-4fbc4efb5246",
      "metadata": {
        "id": "182875b4-c906-4329-9489-4fbc4efb5246",
        "colab": {
          "base_uri": "https://localhost:8080/"
        },
        "outputId": "43c731ce-ad09-4aea-d084-6a8b6e3984b4"
      },
      "outputs": [
        {
          "output_type": "execute_result",
          "data": {
            "text/plain": [
              "AnnData object with n_obs × n_vars = 6370 × 0\n",
              "    obs: 'n_fragment', 'frac_dup', 'frac_mito', 'tsse'\n",
              "    uns: 'reference_sequences', 'frag_size_distr', 'library_tsse', 'frac_overlap_TSS', 'TSS_profile'\n",
              "    obsm: 'fragment_paired'"
            ]
          },
          "metadata": {},
          "execution_count": 31
        }
      ],
      "source": [
        "SRR26046013_DM_AOA_INH"
      ]
    },
    {
      "cell_type": "markdown",
      "id": "608ca025-f7d6-4705-9036-eeb113d223a1",
      "metadata": {
        "id": "608ca025-f7d6-4705-9036-eeb113d223a1"
      },
      "source": [
        "Write to file\n",
        "SRR26046013_DM_AOA_INH.write_h5ad('SRR26046013_DM_AOA_INH_filt.h5ad')\n",
        "SRR26046019_DM_UT.write_h5ad('SRR26046018_DM_UT_filt.h5ad')"
      ]
    },
    {
      "cell_type": "markdown",
      "id": "8ce65559-6f39-4703-925c-ac383a213635",
      "metadata": {
        "id": "8ce65559-6f39-4703-925c-ac383a213635"
      },
      "source": [
        "# Create cell by bin matrix containing insertion counts across genome-wide 500-bp bins"
      ]
    },
    {
      "cell_type": "code",
      "execution_count": 32,
      "id": "f684eddb-6f17-42ce-865e-1922f062826b",
      "metadata": {
        "id": "f684eddb-6f17-42ce-865e-1922f062826b"
      },
      "outputs": [],
      "source": [
        "snap.pp.add_tile_matrix(SRR26046013_DM_AOA_INH)"
      ]
    },
    {
      "cell_type": "code",
      "execution_count": 33,
      "id": "ba0de516-0fd3-45c2-9656-cd7fad02ae26",
      "metadata": {
        "id": "ba0de516-0fd3-45c2-9656-cd7fad02ae26",
        "colab": {
          "base_uri": "https://localhost:8080/"
        },
        "outputId": "c9be13a2-241d-4bcb-aea4-06189f537004"
      },
      "outputs": [
        {
          "output_type": "execute_result",
          "data": {
            "text/plain": [
              "AnnData object with n_obs × n_vars = 6370 × 6062095\n",
              "    obs: 'n_fragment', 'frac_dup', 'frac_mito', 'tsse'\n",
              "    uns: 'reference_sequences', 'frag_size_distr', 'library_tsse', 'frac_overlap_TSS', 'TSS_profile'\n",
              "    obsm: 'fragment_paired'"
            ]
          },
          "metadata": {},
          "execution_count": 33
        }
      ],
      "source": [
        "SRR26046013_DM_AOA_INH"
      ]
    },
    {
      "cell_type": "markdown",
      "id": "730b9eda-c947-4340-a957-adc92e88fb78",
      "metadata": {
        "id": "730b9eda-c947-4340-a957-adc92e88fb78"
      },
      "source": [
        "# Perform feature selection"
      ]
    },
    {
      "cell_type": "code",
      "execution_count": 34,
      "id": "3d1591cc-9311-4a03-b067-97b8ca34d72b",
      "metadata": {
        "id": "3d1591cc-9311-4a03-b067-97b8ca34d72b"
      },
      "outputs": [],
      "source": [
        "snap.pp.select_features(SRR26046013_DM_AOA_INH, n_features = 250000)"
      ]
    },
    {
      "cell_type": "code",
      "execution_count": 35,
      "id": "9232b309-c72a-47e0-8bd9-b4471f3255de",
      "metadata": {
        "id": "9232b309-c72a-47e0-8bd9-b4471f3255de",
        "colab": {
          "base_uri": "https://localhost:8080/"
        },
        "outputId": "9b4d2ea0-fd57-44f9-ba4c-f465fdd51139"
      },
      "outputs": [
        {
          "output_type": "execute_result",
          "data": {
            "text/plain": [
              "AnnData object with n_obs × n_vars = 6370 × 6062095\n",
              "    obs: 'n_fragment', 'frac_dup', 'frac_mito', 'tsse'\n",
              "    var: 'count', 'selected'\n",
              "    uns: 'reference_sequences', 'frag_size_distr', 'library_tsse', 'frac_overlap_TSS', 'TSS_profile'\n",
              "    obsm: 'fragment_paired'"
            ]
          },
          "metadata": {},
          "execution_count": 35
        }
      ],
      "source": [
        "SRR26046013_DM_AOA_INH"
      ]
    },
    {
      "cell_type": "markdown",
      "id": "ff5b4e7e-cd5b-4caf-971c-e6c466aee157",
      "metadata": {
        "id": "ff5b4e7e-cd5b-4caf-971c-e6c466aee157"
      },
      "source": [
        "# Doublet removal"
      ]
    },
    {
      "cell_type": "code",
      "execution_count": 36,
      "id": "997a0c44-fed5-4252-803c-e38caa70cd59",
      "metadata": {
        "id": "997a0c44-fed5-4252-803c-e38caa70cd59",
        "colab": {
          "base_uri": "https://localhost:8080/"
        },
        "outputId": "db626e19-291d-443e-dd60-2c2fb073d3ad"
      },
      "outputs": [
        {
          "output_type": "execute_result",
          "data": {
            "text/plain": [
              "AnnData object with n_obs × n_vars = 6370 × 6062095\n",
              "    obs: 'n_fragment', 'frac_dup', 'frac_mito', 'tsse'\n",
              "    var: 'count', 'selected'\n",
              "    uns: 'reference_sequences', 'frag_size_distr', 'library_tsse', 'frac_overlap_TSS', 'TSS_profile'\n",
              "    obsm: 'fragment_paired'"
            ]
          },
          "metadata": {},
          "execution_count": 36
        }
      ],
      "source": [
        "SRR26046013_DM_AOA_INH"
      ]
    },
    {
      "cell_type": "code",
      "execution_count": 37,
      "id": "1146d5f9-9d0a-49b2-bce0-533dbe84adfb",
      "metadata": {
        "id": "1146d5f9-9d0a-49b2-bce0-533dbe84adfb"
      },
      "outputs": [],
      "source": [
        "#Apply a scrublet algorithm to identify potential doublets\n",
        "snap.pp.scrublet(SRR26046013_DM_AOA_INH)"
      ]
    },
    {
      "cell_type": "code",
      "execution_count": 38,
      "id": "e974e903-2885-418e-bfa4-1863883b94c7",
      "metadata": {
        "id": "e974e903-2885-418e-bfa4-1863883b94c7",
        "colab": {
          "base_uri": "https://localhost:8080/"
        },
        "outputId": "46855fde-5ea5-4450-b0b3-cbedb35a5691"
      },
      "outputs": [
        {
          "output_type": "execute_result",
          "data": {
            "text/plain": [
              "AnnData object with n_obs × n_vars = 6370 × 6062095\n",
              "    obs: 'n_fragment', 'frac_dup', 'frac_mito', 'tsse', 'doublet_probability', 'doublet_score'\n",
              "    var: 'count', 'selected'\n",
              "    uns: 'reference_sequences', 'frag_size_distr', 'library_tsse', 'frac_overlap_TSS', 'TSS_profile', 'scrublet_sim_doublet_score'\n",
              "    obsm: 'fragment_paired'"
            ]
          },
          "metadata": {},
          "execution_count": 38
        }
      ],
      "source": [
        "SRR26046013_DM_AOA_INH"
      ]
    },
    {
      "cell_type": "code",
      "execution_count": 39,
      "id": "7b7da120-079f-4c39-ac77-70f23af9b7ff",
      "metadata": {
        "id": "7b7da120-079f-4c39-ac77-70f23af9b7ff"
      },
      "outputs": [],
      "source": [
        "#Filter doublets\n",
        "snap.pp.filter_doublets(SRR26046013_DM_AOA_INH)"
      ]
    },
    {
      "cell_type": "code",
      "execution_count": 40,
      "id": "c728e0de-7f6c-4cc4-ab6a-d01a9172600c",
      "metadata": {
        "id": "c728e0de-7f6c-4cc4-ab6a-d01a9172600c",
        "colab": {
          "base_uri": "https://localhost:8080/"
        },
        "outputId": "22304740-2fbe-4a60-f876-763e2f8fa098"
      },
      "outputs": [
        {
          "output_type": "execute_result",
          "data": {
            "text/plain": [
              "AnnData object with n_obs × n_vars = 6013 × 6062095\n",
              "    obs: 'n_fragment', 'frac_dup', 'frac_mito', 'tsse', 'doublet_probability', 'doublet_score'\n",
              "    var: 'count', 'selected'\n",
              "    uns: 'reference_sequences', 'frag_size_distr', 'library_tsse', 'frac_overlap_TSS', 'TSS_profile', 'scrublet_sim_doublet_score', 'doublet_rate'\n",
              "    obsm: 'fragment_paired'"
            ]
          },
          "metadata": {},
          "execution_count": 40
        }
      ],
      "source": [
        "SRR26046013_DM_AOA_INH"
      ]
    },
    {
      "cell_type": "markdown",
      "id": "bfc2abee-49e3-40dc-97e0-45ade82afaa3",
      "metadata": {
        "id": "bfc2abee-49e3-40dc-97e0-45ade82afaa3"
      },
      "source": [
        "# Dimension reduction"
      ]
    },
    {
      "cell_type": "code",
      "execution_count": 41,
      "id": "63bf28a2-e84b-43c9-9746-b6163995a3c2",
      "metadata": {
        "id": "63bf28a2-e84b-43c9-9746-b6163995a3c2"
      },
      "outputs": [],
      "source": [
        "snap.tl.spectral(SRR26046013_DM_AOA_INH)"
      ]
    },
    {
      "cell_type": "code",
      "execution_count": 42,
      "id": "e9349aed-2f90-42ce-9b89-ac078dbe7ef8",
      "metadata": {
        "id": "e9349aed-2f90-42ce-9b89-ac078dbe7ef8",
        "colab": {
          "base_uri": "https://localhost:8080/"
        },
        "outputId": "33ff37a6-94ce-4cfd-a17d-1cbfa42f937f"
      },
      "outputs": [
        {
          "output_type": "execute_result",
          "data": {
            "text/plain": [
              "AnnData object with n_obs × n_vars = 6013 × 6062095\n",
              "    obs: 'n_fragment', 'frac_dup', 'frac_mito', 'tsse', 'doublet_probability', 'doublet_score'\n",
              "    var: 'count', 'selected'\n",
              "    uns: 'reference_sequences', 'frag_size_distr', 'library_tsse', 'frac_overlap_TSS', 'TSS_profile', 'scrublet_sim_doublet_score', 'doublet_rate', 'spectral_eigenvalue'\n",
              "    obsm: 'fragment_paired', 'X_spectral'"
            ]
          },
          "metadata": {},
          "execution_count": 42
        }
      ],
      "source": [
        "SRR26046013_DM_AOA_INH"
      ]
    },
    {
      "cell_type": "code",
      "execution_count": 43,
      "id": "fa32f615-4e62-425f-9fbc-6538f5253194",
      "metadata": {
        "id": "fa32f615-4e62-425f-9fbc-6538f5253194",
        "colab": {
          "base_uri": "https://localhost:8080/"
        },
        "outputId": "89424f31-d50f-4438-a162-e34fdab7b150"
      },
      "outputs": [
        {
          "output_type": "stream",
          "name": "stderr",
          "text": [
            "/usr/local/lib/python3.11/dist-packages/sklearn/utils/deprecation.py:151: FutureWarning:\n",
            "\n",
            "'force_all_finite' was renamed to 'ensure_all_finite' in 1.6 and will be removed in 1.8.\n",
            "\n",
            "/usr/local/lib/python3.11/dist-packages/umap/umap_.py:1952: UserWarning:\n",
            "\n",
            "n_jobs value 1 overridden to 1 by setting random_state. Use no seed for parallelism.\n",
            "\n"
          ]
        }
      ],
      "source": [
        "snap.tl.umap(SRR26046013_DM_AOA_INH)"
      ]
    },
    {
      "cell_type": "code",
      "execution_count": 44,
      "id": "695b9690-a818-4a6d-a4a7-18ecd87f9adc",
      "metadata": {
        "id": "695b9690-a818-4a6d-a4a7-18ecd87f9adc",
        "colab": {
          "base_uri": "https://localhost:8080/"
        },
        "outputId": "1a1cbd0a-f6d4-4904-df68-18e8212148c4"
      },
      "outputs": [
        {
          "output_type": "execute_result",
          "data": {
            "text/plain": [
              "AnnData object with n_obs × n_vars = 6013 × 6062095\n",
              "    obs: 'n_fragment', 'frac_dup', 'frac_mito', 'tsse', 'doublet_probability', 'doublet_score'\n",
              "    var: 'count', 'selected'\n",
              "    uns: 'reference_sequences', 'frag_size_distr', 'library_tsse', 'frac_overlap_TSS', 'TSS_profile', 'scrublet_sim_doublet_score', 'doublet_rate', 'spectral_eigenvalue'\n",
              "    obsm: 'fragment_paired', 'X_spectral', 'X_umap'"
            ]
          },
          "metadata": {},
          "execution_count": 44
        }
      ],
      "source": [
        "SRR26046013_DM_AOA_INH"
      ]
    },
    {
      "cell_type": "markdown",
      "id": "20ae1ff6-1cc5-4fd7-802d-b2c6c9091bb2",
      "metadata": {
        "id": "20ae1ff6-1cc5-4fd7-802d-b2c6c9091bb2"
      },
      "source": [
        "# Clustering analysis"
      ]
    },
    {
      "cell_type": "code",
      "execution_count": 45,
      "id": "8b8e25a7-96a8-490d-991e-cd235d47f944",
      "metadata": {
        "id": "8b8e25a7-96a8-490d-991e-cd235d47f944"
      },
      "outputs": [],
      "source": [
        "#(1)Calculate knn graph, (2) use Leiden community detection, (3) plot UMAP (returns plotly object)"
      ]
    },
    {
      "cell_type": "code",
      "execution_count": 46,
      "id": "3c33e76d-5036-4be7-8cca-14ddd50824b6",
      "metadata": {
        "id": "3c33e76d-5036-4be7-8cca-14ddd50824b6",
        "colab": {
          "base_uri": "https://localhost:8080/",
          "height": 417
        },
        "outputId": "6c4718ee-d85f-4562-88fb-252c2b31e369"
      },
      "outputs": [
        {
          "output_type": "display_data",
          "data": {
            "text/html": [
              "<html>\n",
              "<head><meta charset=\"utf-8\" /></head>\n",
              "<body>\n",
              "    <div>            <script src=\"https://cdnjs.cloudflare.com/ajax/libs/mathjax/2.7.5/MathJax.js?config=TeX-AMS-MML_SVG\"></script><script type=\"text/javascript\">if (window.MathJax && window.MathJax.Hub && window.MathJax.Hub.Config) {window.MathJax.Hub.Config({SVG: {font: \"STIX-Web\"}});}</script>                <script type=\"text/javascript\">window.PlotlyConfig = {MathJaxConfig: 'local'};</script>\n",
              "        <script charset=\"utf-8\" src=\"https://cdn.plot.ly/plotly-2.35.2.min.js\"></script>                <div id=\"624c8f7b-ed34-412e-8d06-5f519f7c48d3\" class=\"plotly-graph-div\" style=\"height:400px; width:600px;\"></div>            <script type=\"text/javascript\">                                    window.PLOTLYENV=window.PLOTLYENV || {};                                    if (document.getElementById(\"624c8f7b-ed34-412e-8d06-5f519f7c48d3\")) {                    Plotly.newPlot(                        \"624c8f7b-ed34-412e-8d06-5f519f7c48d3\",                        [{\"hovertemplate\":\"leiden=0\\u003cbr\\u003eUMAP-1=%{x}\\u003cbr\\u003eUMAP-2=%{y}\\u003cextra\\u003e\\u003c\\u002fextra\\u003e\",\"legendgroup\":\"0\",\"marker\":{\"color\":\"#2E91E5\",\"symbol\":\"circle\",\"opacity\":1,\"size\":1.6497729812340491},\"mode\":\"markers\",\"name\":\"0\",\"showlegend\":true,\"x\":[12.732167,13.756858,13.1632805,15.087785,13.56268,13.640411,13.15874,13.548866,12.757455,14.976798,13.675867,13.478001,13.066147,13.216286,13.105278,12.957366,13.192549,12.934843,12.475122,12.665784,15.023853,15.118991,12.070345,14.199093,11.883448,14.760665,13.692483,13.613805,13.178755,13.967787,13.19053,11.935873,13.15073,13.70736,13.165064,12.060368,12.289456,12.197889,12.226936,13.039003,12.095888,13.001487,14.764565,11.996263,13.288059,14.93847,7.1319857,12.543085,14.982517,11.941626,12.216187,12.509836,13.443443,14.366312,12.872202,12.710294,12.571678,11.991559,12.335097,12.098431,13.655425,12.278618,15.059003,12.669523,12.685047,14.964526,15.118115,13.604654,12.352944,12.833931,12.770854,15.005095,12.191409,12.760297,13.555279,13.112362,12.764143,12.99073,12.678577,12.551841,12.653736,12.118289,15.11703,12.303551,12.815906,12.308258,12.336506,15.000643,11.985715,11.938129,13.020693,14.092444,13.034055,13.534525,14.160781,12.536106,13.48024,14.571079,13.453533,13.986788,14.935578,13.536583,13.41193,12.859394,12.600397,13.637699,13.019096,12.582105,13.235237,12.555795,13.150373,14.742175,15.17595,13.36729,13.006293,13.745467,12.467067,12.925462,12.57729,13.686641,11.820843,13.823865,13.869986,12.37098,12.364591,13.452955,13.263225,13.188692,7.0506783,12.426901,7.042585,12.958149,12.408271,12.330405,12.67066,13.444611,12.999533,12.849062,13.011285,7.0812135,12.172037,14.227982,12.380593,14.788984,7.165968,13.040783,14.409353,14.288942,14.284906,14.752946,12.015723,14.037625,12.151912,13.374437,13.1660595,13.168628,12.343375,14.274447,12.46701,12.830281,15.104221,12.080079,13.741768,11.970545,11.863252,13.360305,15.095075,13.453553,13.650369,12.787361,13.529452,12.643733,13.404575,14.964508,12.353403,12.964013,12.13816,12.026566,12.15806,13.199229,15.020023,12.612736,12.554167,13.3682165,12.222477,14.145665,12.744839,12.938993,14.165164,13.37817,12.585151,12.026507,14.4091425,13.550365,12.646479,11.902483,13.296599,13.531042,12.852261,12.573446,11.8467045,13.006705,7.091396,12.068574,12.794343,12.328691,13.325935,13.176084,15.074881,13.560602,14.788755,13.144441,13.441111,13.33409,12.702242,12.664486,13.251434,13.464817,12.303651,15.162227,12.248864,13.244227,12.38347,13.408996,12.595926,12.676299,13.642039,14.612981,7.0130267,13.607795,14.300703,12.435911,12.205866,13.679253,12.078634,14.810662,12.085215,13.49157,12.732112,14.385095,13.222193,12.704147,13.664121,14.503776,13.114094,13.261922,13.123498,13.243462,13.8230915,12.641932,12.565649,12.634121,12.9741,13.093863,13.3726225,14.987693,12.451066,13.1440735,12.749097,12.398894,12.547434,12.901662,12.095365,7.012797,14.580463,14.851075,13.661433,13.3558035,12.949311,13.070504,13.673355,12.702231,14.772037,13.237339,14.604884,13.94263,12.91138,15.177766,13.220395,12.899895,12.442448,12.874952,11.845406,12.067519,12.904116,14.73981,12.922763,13.734401,15.070172,13.011327,12.015163,13.413081,12.46981,13.561586,12.564006,12.676752,14.949848,13.010637,13.312989,13.151642,13.472545,12.504448,12.097139,13.239206,13.973838,12.006165,14.031213,13.496898,14.819796,15.051294,13.66653,14.883845,12.210045,12.556911,14.917636,12.624145,6.9954467,7.0195236,13.121969,12.797146,12.919563,12.150441,13.298144,13.682042,14.845397,12.266595,12.507666,13.34254,14.267531,14.910292,13.880803,12.467884,13.034936,13.724634,12.681529,14.130327,12.979201,13.226157,13.381022,12.635177,15.177732,13.7740345,13.508524,12.150044,12.094246,12.67567,13.498508,14.41702,12.28081,12.903272,12.640162,13.039052,13.584814,12.421877,12.006216,12.649691,12.125445,13.796961,12.340217,13.574,12.338006,12.978383,12.28347,14.897254,14.86614,11.919915,13.689439,14.91635,12.23744,15.09313,12.89518,12.27378,15.078523,11.889142,12.704552,12.098952,12.607514,12.534321,13.131784,12.455364,13.248135,12.979081,11.850329,12.000233,14.05168,12.914049,13.36871,12.857786,12.712695,13.101145,15.209652,12.471997,11.888828,7.008211,13.241958,12.222461,12.132014,13.920344,15.104757,12.968893,12.314116,12.231571,12.320969,14.018351,13.36468,12.807555,12.224216,12.967065,12.300195,7.0033426,12.80048,11.872987,14.5319805,12.692836,13.760588,12.51272,15.002161,13.033539,14.839979,13.176185,14.863654,14.538726,12.330153,12.38652,14.5921955,12.3643265,11.980658,7.082676,12.644782,12.157821,12.2987585,7.0023627,13.363767,15.254315,12.627068,14.449406,13.053312,13.464949,12.327953,12.672844,13.654952,12.955903,12.231657,12.789085,13.632796,13.188038,11.971065,12.585852,12.865163,13.153332,14.220472,12.422914,12.900344,13.653878,15.242544,12.542742,12.941038,12.566127,13.118303,15.009565,12.957442,13.296764,13.115856,12.502295,12.599771,6.9095073,14.931993,14.389922,13.700833,14.381029,14.567868,15.135265,14.977122,14.402722,12.793335,13.506308,13.882544,12.218186,12.6489,12.239776,12.847194,12.9430685,13.0321,12.504479,14.120745,13.876127,13.077225,12.124642,12.386786,12.079137,11.887609,14.969506,12.023625,13.731837,12.098644,15.022342,13.531573,14.965184,15.034935,12.330597,12.370193,12.275823,12.469932,12.493417,13.117434,13.76124,12.6148815,14.939728,11.789935,6.973552,13.104932,12.306172,12.446825,12.933646,13.289386,12.071298,14.739534,13.148181,12.964145,14.755466,12.57228,11.904116,13.100426,14.335587,11.925123,13.772627,14.89772,12.575915,12.658497,11.885648,13.065222,11.876343,14.366285,13.271152,11.962879,12.356164,12.479451,13.991977,12.9902315,12.184547,12.002295,12.632306,12.829208,12.122301,12.540435,13.673431,13.208618,13.312504,13.653141,12.6144085,11.916399,14.960766,14.257462,12.522103,13.81497,15.140316,11.897875,11.972647,13.675961,12.883739,14.00047,13.697744,14.409517,12.220248,12.177736,14.230611,12.146992,11.900203,12.075714,12.141176,6.9939475,15.013802,12.959148,13.14435,13.761128,11.861002,13.668455,12.122263,14.14985,15.178645,13.652299,15.237157,12.475626,11.850408,12.8890915,13.255362,12.980043,13.025117,14.966168,11.918508,12.38754,7.0391536,12.656568,13.357834,12.581736,13.126046,14.676302,12.148572,13.056832,12.566922,12.370844,13.649041,12.056001,13.674664,11.906162,12.918936,13.209082,12.300556,12.968353,12.355224,6.940933,13.742106,12.402344,13.160616,14.557196,15.123972,13.097088,12.06542,12.10915,12.171143,11.932612,14.917032,11.992929,14.920304,12.752319,11.751353,13.784277,13.408249,14.376061,12.318461,12.357481,13.688299,12.530752,12.682109,12.480682,15.024519,12.044107,12.868364,12.0437,13.319982,13.843179,11.985269,12.034233,11.987226,13.775483,11.896962,15.240729,12.268961,12.623564,12.622755,13.120496,6.996791,12.373435,13.683967,12.344768,13.933523,13.471086,12.759804,12.799838,13.631298,12.108016,12.833102,13.010987,13.137511,13.076976,13.162077,13.256484,12.04115,13.1046715,15.059226,12.702598,13.097853,12.060625,12.674595,13.706347,12.949949,13.70565,14.545966,12.737504,12.136866,15.126708,13.380857,12.491852,12.417089,14.365317,14.928906,11.925152,12.693461,14.115652,12.72535,13.169961,14.888875,13.431718,15.094626,14.298656,14.985806,13.356425,12.257296,13.905637,14.751958,14.829872,13.922673,15.043976,12.845552,12.212684,13.8225,12.925027,12.712311,14.187411,12.29511,14.485379,12.470459,11.789938,12.586806,13.226565,12.274701,14.749827,14.329102,14.598909,12.856829,12.931853,12.957938,12.188286,12.850753,12.198219,12.811719,13.720835,14.262612,14.811728,14.163896,15.237449,12.680569,13.727714,13.537046,12.553789,14.888259,12.791377,12.366616,13.288151,12.6109295,13.509479,13.309598,13.149883,13.126769,15.067903,14.169125,12.3929615,12.300126,12.793447,12.955433,13.517239,15.029276,12.454877,13.575858,14.159419,14.3873005,12.663577,14.95226,13.649463,11.855887,13.2507925,13.125326,15.084746,12.776025,13.818543,13.615861,13.190661,13.535874,11.906971,14.363338,13.213182,11.878806,12.769489,12.87509,14.865665,12.624755,12.312853,12.064952,13.511021,13.394408,13.046988,13.815329,12.919435,15.035431,13.722697,12.4219055,13.177536,12.806119,12.952038,13.138724,14.751544,14.979295,12.624698,15.118434,7.064724,12.829531,14.075037,14.04688,12.216438,15.066983,11.88938,15.040346,13.470377,13.793635,12.151978,14.249314,12.24807,13.199318,12.716357,12.288111,12.057032,14.852092,15.029196,13.793962,13.76469,14.039345,14.997159,12.95585,15.0133915,12.430802,13.0168,12.5529585,12.84954,12.328604,12.461589,12.6902,13.316133,13.119593,12.157737,15.251743,13.170661,14.949047,13.056273,12.8306055,13.491623,12.661901,14.658906,14.033054,12.399958,13.942515,12.663607,13.312407,13.668661,14.270758,7.049753,12.804388,13.006526,12.016501,12.344716,13.68822,12.684439,13.27551,13.584538,15.089362,15.035608,12.694794,15.009181,13.116941,12.924674,14.58959,12.964439,13.677096,7.026425,13.659742,13.280736,11.839202,12.654227,14.126378,12.702734,12.360738,14.756705,12.818072,13.40702,14.137437,12.301856,12.595785,12.96511,13.776897,13.246487,12.064212,12.249456,15.074252,12.490291,12.429837,12.725963,13.106352,12.99651,13.525837,13.005831,13.406791,12.298729,13.663048,13.086887,13.768345,12.534269,15.003986,12.334841,11.942229,12.49396,13.648904,12.615106,13.818512,13.098008,14.771984,13.708214,12.127052,15.050644,12.950409,13.054228,13.207425,13.202981,12.414857,12.586964,13.237748,13.331048,15.087435,12.638951,12.401417,12.362846,12.997314,15.027241,13.14856,13.75201,11.861749,12.820566,12.625353,12.732401,12.665855,13.432158,12.54257,12.897668,13.873955,14.123013,12.260993,12.523632,11.94809,14.628092,13.386078,12.170444,12.818806,13.150113,13.6101465,13.468267,14.333333,13.867975,12.24058,14.258593,13.935429,14.39255,14.849444,12.866396,12.150548,12.319848,13.178474,13.332116,13.797579,11.935283,13.140989,12.221696,13.314539,14.349446,12.729928,14.031801,14.337736,12.414351,12.910346,12.808829,13.697576,15.147609,14.204886,12.685067,12.27198,13.023855,12.304827,11.890637,12.193323,12.835369,15.021002,12.079356,13.476323,12.122504,12.602799,14.983902,12.287945,12.881629,12.808201,13.265947,13.416967,13.790869,15.099387,11.857551,12.025196,15.165412,12.662991,12.865133,11.961954,15.033977,13.547554,12.886435,12.782806,13.085137,13.789353,12.865522,14.459307,13.690607,14.518028,12.9336815,15.052393,12.217716,12.685969,13.408471,12.304263,11.850649,12.378373,13.044937,14.965316,12.369583,14.899922,13.122238,13.08142,13.050127,12.544844,13.731376,13.776429,13.33296,12.72306,12.897201,13.218539,13.452001,12.7245455,12.306386,12.7676735,15.015799,12.779336,14.379355,13.162294,15.125051,14.010415,13.070342,14.778275,12.993828,12.713894,13.678171,12.390851,13.134107,13.255628,11.9139,12.941265,12.368285,11.886985,13.686935,14.527335,13.960749,12.8081045,13.124478,14.4961195,12.117255,12.022719,12.25388,14.868572,13.419188,13.327731,12.985446,12.884046,13.82191,13.491302,13.298935,13.629712,13.154317,13.34136,12.636032,15.256473,13.174055,14.454553,13.3142395,13.350053,14.973363,12.386678,13.598656,12.443387,12.975163,13.754855,13.127318,14.768514,12.18687,7.0742445,15.222869,15.178917,13.575501,13.430894,13.071731,12.588128,13.72094,13.777683,12.613359,7.0029054,11.951743,14.999257,13.350626,12.26206,11.794464,11.959886,12.894445,12.414859,13.390266,12.086291,13.101493,13.929811,15.0443,12.744369,11.859303,12.287441,12.856419,13.034325,11.961701,12.84232,12.902672,12.782455,13.38056,12.161612,13.220419,12.64275,11.867799,13.55084,12.449799,12.914559,13.095304,12.414006,13.16891,15.078887,13.390056,13.532941,12.095177,12.2633705,13.647013,14.055983,13.121561,12.82983,15.030729,14.28104,13.188129,13.643565,13.058384,13.798864,12.154882,13.672037,13.550118,12.623677,12.749578,12.949913,13.159885,13.492276,13.143059,12.683562,12.860175,12.491049,12.863607,12.258919,12.695968,14.236128,13.529664,12.267057,13.511687,14.694171,14.372604,12.874807,12.547045,13.755435,13.785563,13.126727,14.494626,12.926875,13.150934,13.839946,15.061425,12.117638,12.989841,12.517381,13.253533,13.014309,15.020725,12.528947,12.25756,13.178701,12.756942,14.358808,7.012656,12.756662,12.009876,12.154023,7.085531,12.564788,12.63337,13.756184,14.847976,12.034521,13.413598,12.070573,12.295302,14.203317,15.014366,13.117037,7.061927,13.509689,12.003653,13.276678,15.050362,12.980587,13.306943,13.168504,15.077075,13.704101,14.502155,12.178674,13.6998005,12.576714,12.244647,13.205949,14.168138,13.017682,13.862559,12.473474,12.924815,12.834819,12.540841,15.167277,6.9523597,12.632531,12.687291,13.514424,14.592855,12.561417,14.109452,12.681853,11.903548,11.790872,13.336838,12.608962,12.788383,15.026389,13.7393265,11.9808,13.373288,12.428447,14.465855,14.827482,12.936646,12.895678,12.191388,12.44385,13.097251,12.977919,14.973885,11.992282,13.05795,12.828012,15.0364895,12.9636,13.121919,12.225716,12.375522,12.722971,12.697195,11.95961,11.952159,13.128136,13.573015,11.940205,13.659457,11.968972,15.093302,12.919124,13.582264,12.537389,12.014455,12.715283,14.90169,12.816634,15.148911,15.0446,12.455997,13.069661,12.06292,13.134721,12.669506,13.369273,12.806621,14.409329,11.954372,14.345837,14.124925,12.163694,13.249718,12.250879,13.625399,15.260094,13.818691,14.096917,11.933582,14.158471,13.098907,12.118029,12.524494,13.863904,12.155972,13.426907,12.370968,14.454569,13.46549,12.4997835,13.302874,12.979812,13.181103,14.520878,12.764625,12.857287,15.148737,11.964865,12.274635,13.70322,12.259559,12.332654,13.986211,13.567198,13.788902,13.51985,14.366532,12.077907,13.041242,11.886064,13.363321,15.085862,12.089429,13.950204,14.296224,14.834138,12.017527,11.928542,12.459529,12.401335,12.534023,12.8369255,13.589721,13.349457,12.619386,12.296392,12.449889,12.566368,12.4830265,13.485044,14.560324,12.836469,13.687927,12.383246,13.168391,13.80775,13.723159,13.112203,12.597334,13.694045,15.2284155,15.124393,13.843848,15.03868,13.787684,13.502646,13.0787735,12.28875,12.9140005,12.674304,13.417957,13.050934,13.736488,12.459114,12.62922,13.626971,12.468609,12.756605,12.726095,12.455994,11.936907,13.574517,14.459973,12.754694,12.720268,11.88347,14.826582,11.999682,13.019452,15.099342,12.994551,13.640025,15.209397,15.071502,12.579243,11.974492,12.141959,12.59727,12.4445095,14.874339,13.712063],\"xaxis\":\"x\",\"y\":[13.085003,12.660125,14.007786,10.529594,12.995949,10.455222,12.090656,12.101194,13.257608,14.182858,14.153962,10.729125,12.35662,13.383063,12.624108,12.13579,13.810943,13.819332,14.060369,12.617753,13.9564,10.538516,13.338025,13.054666,14.0363035,14.224644,12.005642,12.580085,13.918988,13.262273,14.1229315,13.920216,14.764638,12.329012,12.270906,14.368295,11.770959,12.035782,14.162168,13.504316,14.269729,12.167896,14.144607,14.2276945,14.113214,14.197014,13.639855,12.260201,14.197263,14.2680645,14.395667,12.352323,12.612713,13.174982,13.163979,13.046397,14.63634,14.176223,12.50798,13.375259,10.418729,12.0308895,10.542071,12.972157,11.874701,14.122535,10.532555,12.748523,13.87973,14.103882,11.87515,13.997461,12.60984,13.739255,12.193917,14.220738,11.533431,13.427391,14.568555,12.165303,12.270964,12.205368,10.25518,11.936715,13.132619,13.024853,14.573927,10.680773,13.509602,12.037371,12.603169,13.585363,13.46978,12.367542,13.250387,13.193768,12.017756,13.171276,12.027388,11.639154,14.171929,11.964157,11.9627495,12.619569,11.762396,12.058953,14.858275,13.356086,14.340961,14.871608,14.028654,13.7623005,10.450982,12.310318,13.605253,12.200541,14.305661,13.483956,13.69387,13.7026615,13.557383,12.65573,12.688371,13.654541,11.831324,14.426698,13.480336,14.7792015,13.6921015,13.772369,13.696074,14.151496,14.453456,12.723829,14.73124,12.45588,14.783982,13.401317,12.657785,13.670852,13.775566,13.326269,12.162599,14.226807,13.63269,13.774326,13.112516,12.982182,13.192653,13.581958,13.343999,11.594501,12.131732,12.747855,12.572845,12.73682,14.400732,13.227209,11.993696,12.329448,10.223011,14.300417,12.451584,13.077353,12.897287,12.010626,10.467201,12.311767,13.272566,11.849926,13.896283,14.336708,13.304767,10.73989,14.122521,14.917549,14.0428095,14.421106,12.055071,13.979678,10.537109,11.572074,14.96419,12.137772,12.409141,13.344092,13.189376,14.616065,14.024234,13.335552,14.587137,11.930957,13.628306,12.269987,12.261575,13.691044,14.376592,14.074063,13.750861,14.891186,13.074678,14.978583,13.66415,13.710657,14.999871,13.344297,14.542675,13.521318,10.507645,13.343037,14.1717615,12.057072,13.889296,14.357939,12.501095,13.198663,14.031029,13.360404,12.739816,10.2789755,13.724739,14.6885,13.026535,13.415436,11.861008,13.649241,10.449041,13.683902,13.683553,13.535524,13.199737,13.139016,14.590257,10.312379,13.032159,14.162174,14.066227,12.674063,13.439429,13.118187,14.409436,15.088832,12.953727,13.201233,12.771408,14.872987,14.836178,14.69676,12.802023,14.488339,11.814065,12.822291,13.809523,13.327959,11.933923,14.218304,11.908135,13.598272,13.144318,14.590913,13.5131855,12.969973,13.2317505,13.700023,13.449722,14.097179,10.42423,13.963439,12.245125,14.83961,13.439628,11.967547,14.228969,14.473715,13.480193,12.479806,14.507332,10.460235,12.158452,12.026442,11.709279,13.886218,13.936677,12.081861,13.973997,14.1813345,14.004954,10.267325,13.990782,12.897393,13.821916,13.363916,13.252837,10.577096,14.337433,12.703478,14.006144,13.501252,12.998038,14.138721,12.620205,12.320203,11.979045,13.528677,13.925326,12.722651,13.135701,13.103705,10.523519,13.968758,13.960612,13.713897,14.459514,11.923163,13.806702,12.673505,13.680696,13.682646,12.928107,11.906866,12.215856,12.306234,13.41802,10.494445,13.729752,12.175544,12.555037,13.760721,13.11069,13.662491,12.106365,14.766819,14.808651,12.421705,11.816403,10.727973,14.5675,11.058875,14.1718235,13.135312,10.277436,12.545235,13.071477,11.98657,13.30693,13.346043,11.930931,13.038388,11.805633,13.942497,13.193625,14.004113,10.549825,14.405212,14.296065,14.363991,13.982334,14.181258,12.3828335,10.603579,14.252948,14.130484,13.647554,13.627542,13.611168,12.98865,12.318958,10.532706,13.025018,10.484114,14.128067,13.49997,10.622656,12.035976,12.045893,13.469771,11.701991,12.706656,13.880915,13.047949,12.479574,14.881429,13.323312,11.953425,13.3301525,12.913875,10.900702,13.191234,13.4679575,12.7103,10.377293,13.237691,13.668745,13.684391,14.082631,13.4167,14.0104065,11.958841,10.208758,13.422344,14.23636,12.683931,13.061293,11.699956,10.915603,14.251311,14.373284,14.047798,14.625834,13.686883,15.1184025,12.092109,13.143291,13.717079,12.4879675,14.2538185,14.159464,11.991458,13.629209,12.948332,13.626973,13.153623,13.458239,11.837052,14.290809,14.518788,12.196738,13.672457,13.263804,13.042528,14.453131,13.6972475,14.232569,10.338355,13.147149,13.677896,11.297029,13.499122,12.074222,13.171,14.305776,12.776516,13.235557,12.459446,13.653492,14.605289,12.046633,13.473598,12.6408,13.327372,13.021643,12.195361,13.424683,12.000884,10.383549,13.209471,12.662936,14.491857,12.795469,14.016401,13.577787,12.608481,11.34311,11.671311,14.302083,13.654345,14.163221,13.01558,10.251043,13.169441,13.252587,10.294571,14.097157,13.008695,12.280176,13.250206,13.786405,13.700454,15.03559,12.057872,13.88808,12.669285,14.922607,12.730896,13.234715,13.935422,12.276774,12.138529,13.247459,13.428138,13.500962,14.206428,12.96876,10.204807,12.233206,14.140489,12.370885,14.207383,10.5254345,13.44392,14.728266,12.112449,12.86473,13.230889,12.349587,13.468731,14.746662,10.724148,12.73561,13.683883,14.861162,12.443298,12.021231,12.855896,13.178714,13.721837,13.441547,14.024333,12.434409,14.113519,12.605665,13.527463,11.95154,13.169469,14.289942,12.156264,14.145784,12.457962,12.2083,13.871864,13.879309,12.182426,13.146444,14.709462,12.729073,14.336012,13.261722,12.737393,13.871208,14.441371,13.128045,14.827481,14.521334,13.054494,11.9309225,14.186825,14.034178,12.253123,13.838142,11.595144,13.445581,10.747391,13.119425,12.801853,12.3381195,10.488502,13.898125,13.571551,12.211081,14.004589,13.668075,13.421503,13.177977,12.276566,12.77281,13.077505,12.967581,13.780956,13.80947,13.0233,13.679885,10.482099,12.133204,12.474339,12.0653105,14.15645,12.241163,13.964831,13.095032,10.495843,10.444803,10.364225,14.343132,13.072363,13.636887,14.049994,12.448825,12.562166,13.889651,12.870234,13.048775,13.685193,11.910377,10.888424,12.792455,13.396294,13.724503,14.103122,12.472072,12.203486,12.763781,12.375983,14.32653,13.097003,11.973239,14.110333,12.681047,14.702392,13.370466,14.793592,13.657297,13.935111,14.5392685,12.871598,13.212465,10.568021,14.275878,13.380441,12.4282675,12.2707,12.018598,13.677928,12.08523,14.232233,12.477076,12.933698,11.960016,13.795425,13.144566,14.39843,12.976827,12.576543,14.47422,14.618746,12.514143,14.121374,11.880348,13.903211,12.92887,14.099651,13.93512,14.256193,14.2281475,13.281162,12.426877,14.239646,10.395113,14.083993,12.061308,12.301124,13.550997,13.696755,12.363207,12.719106,12.230589,11.963403,13.209683,14.928553,12.974603,14.17345,12.736166,13.326034,14.804452,12.377801,11.923339,12.269516,14.279745,13.8555975,12.699685,10.555455,14.879949,13.550353,14.079466,14.920852,12.109272,12.097896,12.470334,13.222755,12.793534,14.516227,10.510896,13.322424,14.257645,13.077887,13.147223,10.538949,13.198095,11.845758,13.075155,14.788845,14.365644,14.281022,12.448079,10.262594,13.099473,14.193095,13.798043,13.032899,13.728938,14.240923,13.978394,12.71158,14.021279,14.902316,12.278623,12.447685,12.090563,13.334141,12.838284,12.444437,13.159604,12.4590025,12.879191,14.457246,14.492779,14.002919,13.620175,13.734153,13.230212,14.5903635,11.675735,12.54812,11.815608,13.100188,14.447926,13.150348,12.971762,13.155823,14.206057,12.973853,10.332266,12.139469,13.927232,12.0193815,11.851601,13.671526,13.305256,14.651057,13.54431,11.928369,11.968739,12.459689,12.657428,12.834631,10.473698,13.131248,12.257601,12.599351,12.579774,12.277466,12.550299,14.040695,11.999439,11.991921,6.195841,13.152833,12.651002,10.655754,10.434223,14.245502,11.913207,12.461178,10.533623,13.258049,12.188946,13.499248,14.651706,13.843294,13.449117,13.160652,14.136308,13.950156,12.837559,14.021594,14.194987,14.379633,12.574,12.103689,13.316978,13.225829,11.982937,12.422397,12.578923,13.990445,12.019059,14.297269,12.0419,14.74394,12.95158,12.210243,13.872592,14.190702,12.710086,10.428664,13.669018,13.3675,13.935311,13.209685,13.463163,13.992215,13.582367,10.553847,12.665431,14.036256,11.897273,13.084199,11.866925,14.096999,13.295239,13.302788,13.72156,14.223475,10.5603285,12.67221,14.253298,11.594726,14.134081,14.935166,14.097076,13.935636,13.804588,14.192655,12.0455475,11.68904,13.510663,14.303336,12.577634,14.760537,12.221807,10.377598,13.366822,10.623953,12.405441,13.838656,12.5852785,12.279184,13.735164,11.615539,12.013847,13.274369,12.99022,14.310879,12.12104,13.117176,13.672897,14.848473,13.425976,12.610528,12.013344,13.6194315,11.958664,12.362271,14.071831,10.462415,10.495503,12.708929,10.561132,12.360838,12.931431,14.088225,14.325046,13.372652,13.675334,10.413392,12.025906,14.177792,15.00443,13.599804,14.407762,14.299471,14.119245,13.577511,13.619576,13.096843,11.774199,15.001556,14.749147,12.118742,13.200627,12.747824,13.213911,13.988972,11.849659,11.713647,13.691627,13.194195,14.080486,13.732721,12.483565,14.241348,12.446438,14.372632,14.885629,14.181515,12.57717,10.559863,13.80804,13.333565,12.767819,12.273528,13.1364765,14.23262,13.168658,14.242182,13.792636,12.652181,13.98954,14.070452,13.047805,12.498083,13.206658,14.825882,14.460557,13.464204,12.251332,10.226904,13.184994,13.781111,13.639808,12.346418,10.5304365,13.234283,14.13999,13.535931,14.094273,13.03073,14.06599,14.382099,13.48219,11.854213,13.552169,12.292484,12.944464,13.412595,13.255412,12.736523,13.499068,12.478557,13.251171,12.496869,14.179564,13.214183,13.390515,13.165035,13.838711,12.880247,14.099311,13.502051,12.987376,13.95878,14.190276,13.2171955,14.374983,12.170453,12.243082,12.798566,12.897141,14.7446165,14.5387535,12.211474,13.188734,13.57838,13.725783,13.013601,12.573639,12.329237,13.30573,10.236174,10.343534,13.16305,14.207171,14.521489,14.256271,12.179378,11.958283,12.180078,13.209025,13.940453,12.552447,12.310355,12.130106,14.964934,10.567536,12.281571,12.407549,12.717675,12.50917,14.676236,12.332675,10.523133,14.054979,13.539051,10.434002,11.997988,14.6742735,13.442142,10.57141,10.602058,13.0369215,13.486695,13.109039,12.080936,12.761076,13.639108,12.460269,14.343315,12.575757,10.515981,14.430897,14.966018,12.118871,14.650118,13.112993,12.230712,14.3344755,14.21504,14.227506,10.485036,14.822532,14.966691,12.331034,14.9315605,14.310815,13.910003,12.300909,14.950763,12.404133,13.838671,12.185336,13.742343,13.998927,15.063197,10.635808,14.995337,13.41715,14.31973,10.241756,11.652716,13.889433,14.107414,13.6175,11.806199,10.358221,13.5540695,13.783643,13.609377,11.996711,14.865914,12.13985,13.244129,13.351576,14.350981,12.507661,13.4359865,14.016183,13.057649,11.995076,12.882782,14.099708,13.760526,14.3216505,13.715146,12.103915,12.841255,13.520214,13.334518,13.806792,10.403488,13.03334,13.974304,12.312341,10.380102,13.37012,13.100686,14.645196,14.0512905,13.800438,12.609733,11.965537,13.861008,12.872786,12.336052,13.064188,14.278143,12.228222,13.669636,10.326121,10.402824,14.762834,12.315529,13.049047,13.79077,12.55899,14.212933,13.911847,13.684839,13.753501,13.973924,12.098037,12.63397,12.896748,13.354749,11.928132,13.802844,12.935919,14.291273,12.862857,12.590306,10.442003,14.180751,13.89958,11.74883,12.492,14.728152,12.040457,12.736696,14.360558,14.297005,12.637304,14.147435,13.934013,12.286831,11.974833,12.413721,13.731853,13.924686,12.951383,11.92035,13.974375,10.215203,14.741712,13.111592,12.948915,12.494285,12.144974,11.517799,13.138181,11.863936,10.505786,13.215131,14.169907,12.191625,14.918467,10.226186,11.939808,13.730171,13.616392,12.765951,14.705087,13.967341,13.786035,14.029031,14.590425,14.791199,15.103829,14.577415,12.296265,14.654493,13.174361,13.2626095,11.944433,14.126852,11.918274,13.257797,13.142009,14.9827585,12.729144,13.39542,12.912861,13.412278,13.609714,13.324259,13.34674,14.253845,10.510183,12.089742,13.841205,13.794425,14.845959,14.494236,10.524439,12.278755,11.75009,12.457073,13.884294,13.142348,13.697868,14.421806,12.01137,14.135401,13.671036,14.840637,11.693972,12.202308,14.223221,12.114051,12.198982,14.341095,14.485026,13.037822,14.010218,14.825026,13.690489,14.165975,11.955697,13.961567,10.551653,13.74996,12.240964,14.770802,10.212833,12.628917,12.988152,14.500501,13.330125,13.440554,13.001795,12.033818,13.384116,14.136882,12.897008,12.522574,14.746436,14.442638,14.634076,10.347104,13.66358,13.6409025,12.414703,13.627802,13.201358,13.020625,12.720376,12.316669,13.597138,13.2098675,13.274929,14.003708,13.048879,10.475074,12.716713,12.954928,12.204149,11.962471,13.161909,13.791113,13.48454,14.79597,14.035571,13.116546,14.747965,12.268221,13.635363,14.119551,14.772572,15.054764,10.575734,12.149626,12.361351,13.426408,13.800013,12.914829,14.68645,12.920996,12.900777,13.372065,14.116652,14.105299,10.542295,12.104268,10.250084,12.488272,14.156786,13.660759,12.55774,13.444785,10.529029,12.934267,10.526753,10.461928,12.311169,14.001377,12.1621475,14.416173,13.65016,12.244637,12.520687,13.16146,13.748581,13.152501,6.1865172,11.874251,14.508658,12.189603,13.552961,10.349971,14.032478,12.762105,13.58684,13.193422,14.800649,11.840563,14.32989,12.383897,14.196945,10.828704,13.073376,13.236311,13.303402,13.127224,14.0132675,13.778639,12.116636,13.114209,14.637361,12.491629,10.312218,13.018897,12.240481,10.2776985,13.162953,14.225423,12.911597,14.467774,12.087822,12.413127,13.1813,13.27303,12.555755,11.950723,12.324921,10.238047,13.800726,13.249731,12.969379,13.733388,13.733627,14.232796,13.546732,13.891319,11.700608,13.714089,12.015614,14.499698,13.730771,13.529244,12.211364,11.832671,13.867637,14.129411,14.059313,12.29722,12.19996,13.749878,14.742276,11.949989,13.197557,13.102028,14.774419,12.575301,10.371153,10.254758,13.374529,10.505092,12.273392,10.816076,13.85449,11.980784,14.944895,12.020395,12.4880085,13.847773,14.294833,14.768698,13.225685,10.443534,14.3212185,14.251926,14.366893,14.770139,14.061062,14.119554,13.688332,13.928799,12.699303,12.871249,14.196866,13.329069,13.564758,10.543564,14.760223,13.549648,10.451703,10.531924,12.244155,12.179073,14.1822405,14.576033,14.49989,13.695753,13.937289],\"yaxis\":\"y\",\"type\":\"scattergl\"},{\"hovertemplate\":\"leiden=1\\u003cbr\\u003eUMAP-1=%{x}\\u003cbr\\u003eUMAP-2=%{y}\\u003cextra\\u003e\\u003c\\u002fextra\\u003e\",\"legendgroup\":\"1\",\"marker\":{\"color\":\"#E15F99\",\"symbol\":\"circle\",\"opacity\":1,\"size\":1.6497729812340491},\"mode\":\"markers\",\"name\":\"1\",\"showlegend\":true,\"x\":[-0.30456114,-1.9852654,-0.3599741,-1.1362474,-0.49189454,0.6113431,-0.878322,0.071290195,-0.033467125,-0.71144843,-0.9461223,-1.9985356,-1.2875297,1.0300572,-0.0538073,-0.54031545,-1.4864993,-0.32848454,-2.1619308,-0.6370885,0.31432387,-0.95484966,-1.7876194,-0.9289828,-1.1377059,-0.8893459,0.29926834,0.408943,0.4898135,-1.2816947,-1.1828839,-1.8683273,0.31660917,-1.816847,-0.36500782,-0.108784154,0.1534529,-0.55096656,0.5856613,-1.0849708,-2.1240692,-1.4106293,-0.09502286,-2.0869083,-0.74493873,-0.80875975,-2.110928,-1.0735576,-1.5554891,-0.71572244,-0.5390139,-1.2198519,0.7569827,-0.6967636,-1.9719027,0.7495008,-0.36958954,-0.074589595,-0.14551538,-1.3146828,-2.0894816,-1.1833248,-1.0181767,-1.6445475,-0.6930578,0.43533885,-0.422192,-0.8119872,-0.8723477,0.39387044,-0.59859824,-1.0602077,-1.6091157,-0.48760247,-1.1564381,-0.9223069,0.5348698,-1.2394518,-0.5162056,-2.3068888,-1.7267549,-1.476312,-0.6833317,-0.90788364,-0.3028654,0.18499337,-1.6770462,-0.4078231,-1.6329504,0.41843656,0.51440597,0.15271294,-1.1780462,-1.261689,-0.33378676,0.5990759,-1.0117667,-2.0197783,-0.394385,-1.4355649,-1.8768731,-0.20326182,0.4170316,0.15873456,-1.4850401,-2.269958,0.5920476,-1.1547307,-0.7775585,-0.0005461681,-1.9420693,-1.1863459,-2.0272229,0.06743536,0.17456725,-1.4219543,0.29216227,-0.75769085,-0.74458665,-0.76665515,0.7313957,-1.2226034,0.80481386,-0.03322767,-0.50169367,-2.2804737,-1.7970197,0.29029793,-0.09995254,-1.1885922,-0.45774856,-1.2675709,-1.699657,0.22465366,0.3559911,-0.03914205,-0.83135307,-0.8755839,-0.58733827,-1.0913222,-0.10774053,0.8391591,-2.0293744,-0.45601514,-1.2002665,0.12581722,-0.9275601,-1.2459297,-1.4509043,0.058307678,-1.5867321,-1.6443297,0.1867714,-1.5831128,-1.8433633,-1.3135704,-0.9823999,-0.32146063,-1.1141647,0.5963189,0.17398585,-1.5960599,0.6478212,-0.77156824,0.509457,0.9052989,0.34438032,0.4597463,-1.3882434,-0.61781526,-1.3708563,-0.5051489,-0.016098201,-1.9424944,0.6845688,0.48718125,-0.9520688,-0.86582166,-1.1985055,-2.0428295,-0.91172177,-0.58410627,-1.1294664,0.48225352,0.48236504,0.10821031,-1.3631219,-0.73635584,-1.7233889,0.90069133,-0.4112353,1.0471796,-0.3621154,-0.22701268,0.3900593,-1.6049353,0.22565106,-0.39779213,0.30057016,0.1201267,-1.7535422,-2.0412025,-0.76995707,0.072637804,-1.1039742,-1.9456245,-2.0320072,0.25266016,0.6364408,-1.3187513,0.28883398,-0.81691736,-0.2908548,-0.0620515,-1.0208805,-0.14242832,-1.062446,-1.8352693,0.04876684,-0.23851508,0.11175017,-0.4383385,0.457664,1.0423263,-2.3502452,-1.8447587,-1.3623978,0.6687326,-0.34226248,-2.0959218,-1.7016335,0.059119154,-0.42573145,-2.6079965,-1.2361808,0.0046030586,-0.44568107,0.08582861,-1.5910686,-1.3083103,-1.8327532,0.13521102,-1.4553508,-1.880563,-1.9959761,-0.11056082,0.03409129,0.55287683,-1.9756578,0.2893475,-1.3530378,-0.48180768,-2.2461476,-1.8408374,-1.7392122,0.19941309,0.23068869,0.6157139,-0.80119646,-0.34785143,-2.308544,-0.2139958,0.45078632,-0.8181549,0.43504634,-1.2473267,0.3168554,-0.74878824,0.84522337,0.10629273,-1.7060834,0.23618288,-2.2970476,-0.42170772,-1.7369418,-0.6844001,0.3155365,0.8674352,0.49151087,-0.4432411,-1.8770375,0.81580156,0.28311616,-0.83262026,-0.7624566,1.0377227,-0.56905586,-2.0501437,-0.87136656,-0.6872709,-0.81239957,-1.1483027,0.5390995,-0.1482807,-1.2468195,-0.19043054,-0.68164337,-0.9820134,0.29568514,-2.067058,-1.8155317,-1.3659608,-1.554972,-0.74751174,0.06782117,0.40502656,-0.4682045,-0.5802648,0.3005657,-0.6170577,0.35827413,-0.5781503,0.5231531,-0.69436544,0.20294227,-1.2951465,-1.0617995,1.061795,-1.6729892,-1.2176951,-1.9228648,-0.42206067,0.77332103,0.8548445,-1.4278978,-1.1189556,-0.7716434,0.6405719,-0.6866422,0.6438609,-0.07190193,-1.927572,-1.2200801,-1.389098,0.31478992,-1.0503505,-1.6874905,-1.1529142,0.29545465,-1.2787758,-1.2652535,-0.03074649,0.29784375,-1.3979204,-1.300953,0.16716307,-1.6225995,-0.5507387,-1.499015,-0.8255187,-1.1894546,0.004370417,-1.6393912,-1.1074911,-0.5805708,0.65536004,-1.626346,-1.2510805,0.29606333,-0.7845527,0.28680122,0.116297014,-0.78757703,-2.0119147,0.00050373556,0.8524602,-1.3959131,-2.2737422,-1.9895365,-2.0364332,-2.1310334,-0.03280771,-0.52864534,-0.12805556,-1.589424,-1.7675271,0.1789444,-1.227376,0.093162656,-1.2550708,-1.7832549,0.13706923,-2.008,-0.1921096,-2.1172507,-0.5512804,-0.95799714,-1.1284152,-1.3033413,-0.62109995,0.78021413,-0.2640487,0.09358416,-0.5245719,0.29437616,-0.9269749,-1.8977513,-0.5637879,0.16762114,0.42476064,-1.4268488,-1.9273096,-1.4871731,-0.93004876,-1.4891014,-0.3158004,0.7939968,0.53299576,0.7107087,-0.9227751,0.72981906,-1.2886631,0.39304128,0.33632165,-2.16744,-0.31357095,-0.026730921,-1.2290725,-0.36813837,-1.4958838,-2.0468636,-1.527794,0.6439566,0.31350324,-1.9463396,-1.1939794,-2.5810208,-1.6058162,-0.9895406,-0.626082,-1.7582741,-1.8588725,-1.5580993,0.49853072,-0.68593323,-0.29456887,-1.216498,-1.4623506,-0.5384235,-1.1292202,-1.2411021,0.18706927,-2.0538886,-2.1081028,-0.9215765,-1.388225,-0.6588772,-2.1086135,-0.13684596,-1.4417046,-2.0226479,-2.2654078,-2.1996853,-0.97039306,-1.7344034,-1.2473074,-1.111627,0.15453269,-0.50503695,-0.60627776,-0.68662935,-0.9503581,-1.1936322,-0.19267628,0.8068156,-1.3967716,-0.53561217,-1.0092793,-1.1875529,-1.1070238,-0.99211615,-0.50550956,-0.3778418,-1.3412479,-1.2271421,0.31478482,-1.7261726,0.06479039,-0.6519802,0.53702664,-2.1740723,-0.7644649,-0.4641955,0.43973154,-1.4111137,-1.0102506,-1.2753409,-1.2841622,-1.240638,0.11214321,0.46106127,-0.7403591,-0.9884883,-2.135992,0.6105006,-2.2089016,-1.7471256,-0.82283294,-0.37722212,0.33304748,0.38255507,-1.9232345,0.4165952,-1.1106597,0.2574195,-0.5908201,-1.3329914,-0.51969194,-0.83760417,0.4001298,0.103711404,-0.6388551,-1.2034278,-1.7104759,-2.2667267,0.91547084,0.3103114,-0.5289329,-0.91377085,-0.47483748,-0.87753624,-2.2291033,0.46747795,-1.2561622,-0.04887542,-1.0565189,-1.1176344,-0.59535044,-2.3036892,-0.8003494,-0.43377796,0.53465027,-1.3565208,-1.1435752,-0.19122979,0.297787,-1.1052948,-1.1026727,-1.7911826,-0.40873212,-0.37054786,-0.6482985,-2.1683128,-0.7052194,-1.15022,-2.1124594,0.37058774,-0.8775129,0.4563294,-0.3346855,0.68865955,-1.0820113,-1.0774539,0.75242454,-2.1119444,0.4403774,-0.10076052,-1.4830534,0.8275261,-1.6722125,-1.2056036,-0.44740912,0.020645186,-1.7199557,-0.77724105,0.85553646,-0.35036057,-1.3124051,-1.9499671,0.7676563,0.46477717,0.6464456,0.5347927,0.29559228,-1.0745691,0.5399298,-1.3515286,-0.5608966,-1.2015654,-0.82751155,-0.26320407,-1.5484107,0.36232352,0.7751152,-0.9068651,-1.4881659,-1.2873906,-0.9273973,0.78841895,0.060043685,0.5571943,0.14426199,0.38135815,-1.659592,-0.81280994,-2.1939976,-1.4781001,-1.2172632,-1.3512603,0.4137069,-1.3653954,-0.9041952,-1.3137,-1.9644243,-0.8580622,0.16971491,-1.4614406,-2.2816455,0.006179483,-1.2446516,0.602695,0.46062267,-0.07539148,0.5646013,-1.2865449,0.5879913,0.48915282,-0.68401045,-0.4518016,-1.1969595,-0.35769194,-1.99633,-1.5142158,-1.2970585,-0.72197795,0.41381332,-2.1682897,0.60976315,-0.79459614,-1.9247073,0.37567067,0.33439997,0.97585094,0.2855043,0.69068813,0.19580218,-1.4607512,0.41305116,-1.3169249,-2.0088937,-0.29604143,0.22598362,0.19644015,-1.3495585,-1.1544045,-0.95606,-1.8034942,0.20829634,0.2836683,-1.6329923,-1.8289984,-0.101115614,-1.4222037,-0.68988305,-0.76741415,0.6344744,-0.31359452,-1.1992923,-0.68280905,-1.6552603,-1.0542159,-0.38056073,-2.116101,-0.117616825,-1.9653249,-0.89161205,0.34303406,-1.0947028,-1.8545853,-0.5038578,0.18211046,-0.8004899,-1.9788405,-0.6247516,0.19799046,0.05881819,0.53630686,-0.72799176,-0.6604964,-1.6610807,-0.77943474,-1.6905082,-1.7512888,0.530222,-0.71706563,-0.9095552,-0.46637598,-0.86082447,0.015460965,0.3617792,-0.10039238,0.9490362,-2.1979384,-1.2585651,-0.17846882,-1.7086151,-1.0479934,0.92350847,-0.5251594,-0.35424992,-0.7543944,0.062733896,0.02407473,-1.2882181,-2.0632043,0.5781544,-1.193041,-1.369267,0.31295112,-0.21813832,-1.6938368,0.51296324,-2.3657718,-1.0659958,-0.7686856,0.9702525,-0.6789819,-0.7408433,-0.8248421,-0.98450583,0.4932964,0.07339558,-1.5876473,-1.1480856,-0.51380193,-2.004717,4.096353,-1.6302027,-0.3885264,0.39944974,-1.9011695,0.5250329,-0.52542686,-0.36259758,-0.656264,-0.35561112,0.4576055,-0.96820796,-1.2484704,-1.734469,-1.5975215,-1.3321112,0.68291056,-0.75955987,-0.37833446,0.23209414,-0.7346673,1.0373237,-0.31019917,-1.5313363,-2.339125,-0.41066563,-1.5832386,-1.1933736,-0.73715436,-0.14548579,-0.7605159,-2.3560882,-0.23250829,-0.38552937,-0.016843,0.9841519,0.6294391,-1.9201086,-1.6395878,-0.8527787,0.0767279,-1.9073962,-0.99402416,-1.1180507,0.27864608,0.5839408,-0.027827272,-0.5002104,-0.59745777,0.7383732,-1.1119691,-0.90125066,-1.1141083,-0.20593731,-1.149622,-0.5457857,1.0526707,1.0092205,-0.3764477,-1.1620326,-1.7087175,0.46579742,0.31675667,0.07795446,0.15999155,-0.38431537,0.51195025,-1.6331145,-0.92639965,-1.4024405,-1.1022527,0.16555132,-0.030045558,-1.3999108,-1.7239537,-0.34994844,-0.048784345,0.97663,0.029413598,-1.9772562,-1.0530246,-1.4035664,-0.2133889,-1.6452059,-2.003037,-2.0032184,-1.4460593,0.29529873,-0.58147025,-0.71824324,-1.7006359,-0.6384909,0.5002066,-1.6231648,-0.12733632,0.40392423,-1.1163086,-1.6337972,-1.1917708,-1.27442,-1.2237829,-1.7695291,-0.22295679,-1.5894736,-0.06371645,-1.9877948,-0.8328064,-1.0238484,-1.9905903,-1.4565853,-0.8077686,-1.1337279,-1.6807612,0.29895943,-1.7759454,-2.0478075,-0.69178116,0.40535086,0.72911537,-0.5784582,-0.4268253,-2.2925768,-1.3972455,-2.2656078,-2.467142,-0.79155904,-0.6132938,-0.87571245,-0.57890826,-0.83703315,0.17295247,-1.3511461,0.5152277,-1.067727,0.11547076,-1.006276,-0.5528326,0.4438517,-0.29690704,-0.45974243,0.13774592,-1.3562522,-0.7071571,0.37672544,0.62686694,-1.3915182,0.55017495,0.07696338,-0.074893154,-0.28217036,1.0037335,-0.90197176,-2.0034332,-2.081114,0.7875596,-1.1382138,-1.3447474,-0.60653543,0.702793,-0.47957277,-0.12386304,0.02676792,0.5651085,0.18815497,-0.8552781,-0.63042456,0.110872865,-0.0044424287,0.43852568,-1.0331894,0.6676917,-0.50293875,-1.5726483,-1.7494266,-0.92528874,-2.3848205,0.012576853,-1.9532682,-0.48971033,-0.36035842,-0.10561353,-1.1761266,0.656482,-0.5975341,-1.7198323,-0.37903696,-1.0065578,0.9912745,-1.0109932,0.3432511,-1.6761007,-0.4254103,-0.26934785,0.027547197,1.0403913,-1.7687265,-1.9956362,-1.0400321,-1.2853003,-1.6088649,-1.2990277,0.78996736,-0.84899235,-0.8218408,0.52618873,-1.3268536,-1.2129911,0.5760129,-1.3136473,-1.2443333,0.021671241,-1.7656904,-2.2942677,0.52456445,-0.8697723],\"xaxis\":\"x\",\"y\":[4.993558,0.41519293,4.9933405,4.1940722,4.344011,4.276178,2.8571546,3.4824214,3.0355182,4.4006667,3.4602451,0.40329233,1.8539052,4.0501227,3.723375,4.7289343,2.0461562,5.4419627,2.9257295,3.9044132,4.4633217,3.6547003,0.8924353,4.0068445,2.015154,3.4837368,5.400631,3.9959412,4.939029,4.510333,1.9359697,3.8924532,3.9822948,3.37443,4.6125994,2.9830077,3.7302067,4.048996,5.0841384,4.772943,2.995222,3.7766945,2.9572537,4.5146394,3.183557,4.5024214,2.7433927,4.393503,2.0395715,3.5518234,4.230765,3.6351962,4.527434,3.5923207,0.5381487,4.6447163,5.292704,5.0650244,2.920883,2.9640849,2.5538578,3.2449267,3.5334275,3.7512236,3.3620615,5.133479,4.1285667,3.3419917,3.400059,4.8875346,2.8952446,3.0479429,3.2255285,3.3832805,2.1136386,2.6925993,4.5103483,3.926586,3.0515273,1.070776,0.92828786,2.9788165,3.6048894,3.8391273,3.5825548,4.5340323,3.2804809,5.453469,3.0480726,5.075364,4.3395805,4.456384,2.8177867,3.3101661,6.119813,5.1357465,4.3633194,0.3646548,4.7259283,2.9138358,2.8897471,4.255748,4.44804,3.352033,3.7242365,3.9974902,4.7332783,3.6560986,3.2511864,4.7885075,4.3054514,1.8117425,0.73470336,4.4134502,5.1760983,3.1039276,5.377538,4.681069,4.967885,3.2358358,4.701444,4.752052,4.6069827,5.1491537,4.0611205,2.092445,2.748586,5.4047985,3.500711,4.665822,3.4179788,1.8132972,1.2825453,5.5146017,3.91065,4.523246,4.215575,4.1279354,4.086798,4.3521023,3.7679007,4.07867,3.9321938,3.2390177,3.9576645,3.874299,3.8735025,2.789314,1.6633948,5.6162305,3.4321432,2.896538,4.0972943,3.230589,3.2966275,2.94882,3.6381824,4.990257,1.8723346,4.5345263,4.7271814,2.4398534,4.741535,3.5746324,4.3262205,4.1187024,3.7567077,4.9720173,4.228158,4.8436723,2.5190275,4.4413667,4.023972,3.9180324,4.218325,5.2318115,3.240974,3.591244,4.3431325,3.0485952,4.291529,3.4367018,1.8349619,4.4388423,4.8994045,4.3206034,1.6563671,2.8277802,2.1209567,4.098154,4.3391466,4.0738187,4.4692044,4.6996593,4.9134707,2.9808667,5.2918773,2.8080387,3.8646734,5.2188373,0.8732204,2.8448658,3.4240875,5.6049185,4.383056,2.452955,3.7052853,4.470212,3.9640036,1.6679282,3.9218035,3.3130703,4.980709,4.1501956,3.797158,3.0008411,4.467593,3.2222245,3.1014936,3.3368,5.249148,3.3442204,4.745891,4.009894,0.79424137,0.7794189,3.7997599,4.1226826,4.5864625,3.6246204,2.7837918,4.6650515,4.4573865,1.9930998,1.6577461,4.9476776,3.7666423,4.176516,3.8017557,2.174737,3.301518,4.954452,2.404114,3.2671788,4.4193788,3.5566635,3.2266104,4.149722,0.53515273,4.966184,4.3293133,3.5099854,3.3439875,0.81589836,3.5146136,4.487164,5.1085596,4.3559546,3.0167575,4.941531,2.7257068,3.6087613,4.011145,3.1546996,4.0430536,3.27866,5.3800635,4.4685345,4.016106,4.802047,3.1980863,5.421652,3.223088,4.8062224,2.8030305,3.4816012,3.8943677,4.1769953,4.6002254,4.5057473,2.491169,4.7184906,3.9372559,3.1824858,2.9855056,4.071944,4.450853,3.0893464,4.205214,4.273637,4.3310223,2.209757,5.199775,4.8574677,1.9421251,3.191678,4.022087,3.2727435,5.3841147,3.0487137,0.69654524,3.3646789,2.7410824,3.7969334,5.6897655,4.993941,3.85333,3.5781379,5.1741652,4.6628685,5.193853,4.6657267,4.9095864,3.7732387,5.6355257,3.1246433,4.251734,4.062989,2.879702,3.3373187,3.4337792,3.5971599,4.346289,4.2951894,3.0518408,3.0671043,3.3525941,4.5732827,3.651092,4.242383,3.5232453,0.55825573,1.8399094,3.386383,4.2109613,3.0670867,3.7951877,3.2930908,5.0867186,3.7198055,3.7780092,4.887831,4.5685215,4.1070147,1.6176038,4.746084,1.8710761,3.4670558,3.3297238,3.2131493,1.6932733,3.1935096,3.7391825,2.9895651,4.7114873,4.1594543,0.38841122,1.7805275,3.8887124,3.2626023,5.321386,5.63552,4.4364862,4.405052,3.6677732,4.1211395,2.6676824,3.623029,0.40751892,0.49813446,3.218009,3.0078728,3.2800355,5.7886333,2.7645156,2.3041892,4.9727125,4.6748695,3.9679203,3.4386415,0.7016215,5.5413303,2.5694985,4.933892,0.98764116,4.1956015,4.4498525,3.8761137,4.333809,2.8386114,4.575567,3.8199718,4.0820847,3.6521504,5.096489,4.2030287,2.7941785,3.6333866,5.1049886,4.1666017,1.9691125,3.1369474,3.7536244,4.4628496,2.6160932,3.4228027,4.385887,5.0425406,4.5095625,4.1010203,4.9168983,3.9201858,4.0872865,4.698659,0.74127245,5.451203,5.48827,3.7825665,5.4010925,1.6261629,2.8257654,3.6499858,4.3018503,5.1067753,0.42013025,4.3763742,3.344044,3.1337943,3.544569,3.211727,3.305699,1.0822959,2.724604,4.099382,3.4435785,3.8331363,1.9413657,2.713262,3.499776,4.1713734,1.9951773,4.892997,4.8140974,2.949692,3.2714782,2.7098033,3.4774165,3.0713696,4.591806,3.925236,2.9906194,0.7873326,3.232037,4.6722856,0.7534125,1.6402495,3.7277737,4.249388,4.6727366,3.526644,4.80308,4.514062,1.8853992,3.394265,4.7178383,1.6690495,3.4565115,3.5731084,1.7234688,3.1157882,3.522557,4.405284,4.1834354,3.0468493,3.6761954,5.4295454,3.4811835,5.0378065,3.4691741,5.129663,0.7940886,3.3620298,4.407503,4.932043,3.2184327,2.229089,3.5746648,3.4235454,1.7636472,5.1409445,5.1789083,3.4379692,4.541158,2.5167086,4.354163,3.6375253,4.9862714,4.4527087,4.8780293,4.905213,4.063386,3.702768,5.0366507,1.826865,4.4449725,4.2828484,2.7761872,4.5457335,4.502985,4.931055,4.640474,4.839724,2.6174939,3.35577,2.7037294,4.1618934,5.471445,3.5516975,4.1279974,4.0937495,6.6644177,2.7217805,4.9805574,1.6757762,5.0537415,3.5197568,2.0502093,4.091554,2.7173932,4.5226383,4.8736825,4.405803,3.9175324,1.7188231,3.8707547,5.1687493,2.3129196,2.0126195,4.387665,4.144429,3.4097085,4.4667044,2.6063533,4.0671997,1.798557,3.081044,4.526431,3.5843048,3.933341,4.3667374,4.709019,4.577636,3.6682005,4.3630342,3.3378313,4.01101,5.5045176,2.9952033,4.5217605,2.7904904,3.1439598,4.0083895,3.1187472,4.1877785,3.3885405,4.077784,2.8964882,3.727276,0.5492229,4.5233297,4.2696366,4.798207,4.8005543,5.4229603,3.0514555,4.4877896,3.8108695,3.9473915,3.8027205,3.3858268,3.77838,3.50138,4.9684873,4.573108,4.2376957,1.6340427,3.865697,3.6427116,3.8984625,4.289903,3.6978068,5.2326713,5.296209,3.8484354,4.4033766,3.3074515,3.482233,3.9860935,4.8660464,5.0820823,3.7801356,3.9996831,2.9639618,0.42552522,3.2603216,4.4903765,2.9222214,4.3538203,4.6491923,4.852602,4.04534,4.999662,3.046055,4.3654046,1.607323,4.114631,4.1231527,3.2687511,3.6992478,4.314184,4.0288115,0.48817638,1.8597674,4.8988094,3.314337,5.0295825,0.71671873,5.0905104,3.7561388,3.8926086,5.325388,5.4544663,4.008934,5.1634016,4.589127,3.6506367,4.614888,4.72892,6.0594378,0.51916444,5.49633,4.6698747,5.3419123,1.769473,2.0494392,3.8606577,3.5381181,3.9710467,5.4278007,1.3246185,3.0717502,3.6993263,4.040059,3.473344,3.2664578,4.5546727,2.805016,3.0547323,3.6305442,3.2187278,2.040861,4.6682067,2.651739,2.9400377,2.922328,3.2924404,4.1372743,2.7465227,2.4374852,4.2154913,4.3775373,3.5960956,0.74570745,3.2206006,5.565496,3.7748282,3.9836073,3.3959723,3.3252323,2.8488457,3.379237,1.1209673,2.7783706,5.0620923,3.074264,3.5424814,3.8980212,3.562874,3.780923,5.0933204,3.0663545,3.9504163,2.9622118,3.4557834,4.644495,0.5516892,3.8016498,4.145681,4.6369066,4.3447204,4.7190228,5.498448,3.0433052,1.7200245,3.4808505,4.8027053,3.15863,1.8055453,4.7098064,3.598089,3.406623,4.7660713,3.3987713,3.0685198,4.5104957,4.193616,4.0965996,4.0292063,3.5541174,3.5386715,4.441842,3.5650744,3.5617452,3.8373375,3.9438252,0.42079607,12.881129,0.41538364,4.424078,3.8143284,3.0898702,4.881974,4.5893197,5.052952,4.465099,3.478663,4.3294754,5.0418935,1.7783662,3.1251872,2.2149184,3.728032,4.513718,4.0157723,4.5953603,4.7953405,3.9889925,4.0887675,4.377462,2.7845743,3.6120234,4.7207522,3.0767887,1.9926533,4.0510798,4.397874,3.394773,3.1527069,3.2972758,3.9291306,2.9972773,4.0946417,4.709372,3.8960037,2.8187654,4.0064936,3.9567327,3.6148732,3.6359603,3.6390326,5.1174026,4.800488,4.251789,4.241454,4.5693436,3.8131578,2.9073176,4.4892077,4.759734,3.6001768,1.7617141,3.2274055,4.0710745,4.006644,4.415379,1.9123052,3.459113,4.477504,4.95343,4.649163,5.2558303,2.9995608,4.545941,2.536146,3.2233803,1.6509459,3.6893828,3.6724734,3.0329127,3.7984612,1.0809642,4.549547,3.0037363,4.1360726,4.9242806,0.4191485,4.5634227,4.0410757,3.3516777,2.6044748,3.315316,0.40236858,2.2472014,4.551605,4.6297135,3.1666648,2.5923004,4.8144336,5.2712193,3.2004883,5.1759562,4.562941,3.8980463,3.8959918,1.8200185,3.6773756,3.6998458,2.5546913,3.5597372,3.0707326,3.923439,0.40328038,3.191436,3.0719159,0.39824998,1.9323678,4.404488,1.9587,3.7319462,5.471312,2.2769146,2.9433265,4.0621347,4.7536635,4.632575,4.568496,3.6665583,3.5080795,1.7734516,0.758318,3.4974997,4.542867,3.694976,3.182627,3.1428604,3.2187698,3.895569,2.0107484,4.9116106,4.5503964,3.566035,4.048932,3.509333,4.816234,3.8216584,4.3075666,5.1668663,1.5742174,3.749897,4.1113167,4.279354,3.6255522,3.7787075,3.3169513,3.514503,3.9666178,4.024779,3.5727496,0.45617193,3.3869658,4.3719397,3.4385386,4.8356,4.3543625,4.375457,4.182625,5.622991,4.59395,4.7633758,4.517757,4.5316405,4.0332565,3.7405539,3.5818543,4.96452,2.9848654,4.2361135,3.7534964,3.5310361,1.0651269,3.3261843,3.5655475,4.14163,2.9262464,3.4336276,4.552893,4.821215,4.631913,4.2827888,4.637211,0.672443,4.630875,3.1504972,3.9336925,4.7097077,4.270963,1.0728186,4.2496295,5.455218,3.5006597,4.0794187,3.293985,2.7674103,2.0910296,3.2049558,0.69831645,3.095769,4.184553,3.1800325,4.4489756,4.8239126,3.4393125,3.0701642,4.13667,2.7281432,1.7925471,3.867002,0.65165854,3.3832514,5.2102857,3.8927057],\"yaxis\":\"y\",\"type\":\"scattergl\"},{\"hovertemplate\":\"leiden=2\\u003cbr\\u003eUMAP-1=%{x}\\u003cbr\\u003eUMAP-2=%{y}\\u003cextra\\u003e\\u003c\\u002fextra\\u003e\",\"legendgroup\":\"2\",\"marker\":{\"color\":\"#1CA71C\",\"symbol\":\"circle\",\"opacity\":1,\"size\":1.6497729812340491},\"mode\":\"markers\",\"name\":\"2\",\"showlegend\":true,\"x\":[-2.53564,-2.3735662,-2.5031633,-3.2341893,-0.6929379,-2.8463063,-1.2224638,-1.5007088,-1.4973596,-2.1223638,-2.0954602,-2.9740531,-3.384441,-2.1063929,-3.030859,-2.0095668,-2.4700294,-2.910725,-1.7556813,-0.9985543,-0.8676747,-2.2351546,-2.975655,-1.8546633,-2.741654,-1.0284402,-1.1451614,-1.6187208,-2.7810984,-2.5298126,-3.5230129,-2.1197183,-3.6731539,-2.957218,-1.1210792,-2.225499,-2.457997,-1.6820563,-1.3850253,-3.0658262,-2.752139,-1.2754793,-3.166038,-0.91757494,-2.6442916,-0.64719564,-3.2339694,-2.8043635,-2.4960778,-0.8433497,-0.79127437,-2.3042932,-2.199311,-2.2219257,-0.60999936,-1.0419872,-2.8702855,-1.9107965,-0.2508324,-1.4046676,-2.828062,-1.5776354,-2.1140592,-2.4588253,-1.5026963,-1.7707118,-2.1720169,-1.4288626,-1.3103584,-2.6699893,-1.3111929,-2.991661,-2.559152,-2.8496463,-1.1256083,-1.6654769,-1.8684522,-2.013923,-1.3511711,-2.033025,-1.7938192,-1.2627705,-1.4715052,-1.7705839,-0.8655333,-2.5268588,-2.947488,-2.0335457,-1.4477581,-2.2448328,-2.15181,-1.469351,-3.0230105,-3.3157275,-1.0714475,-3.1069326,-2.019694,-1.6471639,-2.247127,-1.7777205,-3.6214447,-1.0050377,-3.1627564,-1.0743704,-2.5768232,-3.2067015,-1.5781368,-2.4448435,-1.9856461,-1.0401081,-1.4002404,-3.442619,-2.4934313,-3.5886753,-1.856581,-2.240153,-1.6707226,-2.3072228,-2.740361,-1.5439335,-1.6645638,-2.5738504,-2.2612395,-0.87953544,-1.2991515,-1.6335895,-2.4611955,-2.4667268,-2.3695776,-2.0893679,-2.2806437,-2.8049033,-2.4472659,-1.751153,-2.2522209,-1.6875415,-2.4985993,-1.0253875,-2.2347817,-2.492629,-2.1131458,-2.0210495,-2.8222108,-1.889207,-2.044801,-1.7079262,-1.1818998,-2.0189836,-3.5150776,-1.0989206,-1.368976,-0.5550457,-3.6768193,-2.330514,-3.133334,-2.471763,-2.5808158,-2.7903197,-3.2617767,-2.199445,-1.1574515,-2.4110866,-3.0416374,-2.6542375,-1.4020069,-1.3112671,-3.184444,-1.786515,-1.9257039,-2.4108934,-2.298315,-0.8035828,-1.500515,-2.207305,-2.008882,-1.207571,-2.3871653,-2.1121037,-3.2342336,-2.5622716,-2.4491966,-1.1522281,-0.99731946,-0.83897847,-1.5057632,-1.3788923,-3.2304199,-1.1033788,-2.5144632,-3.725128,-2.4550233,-2.3065507,-1.8899257,-1.0554942,-2.0695605,-2.5097585,-1.9300299,-3.1866887,-2.2802153,-2.6625576,-2.9688756,-3.7093751,-2.4511044,-1.8205476,-2.5667102,-2.7173362,-2.3463843,-2.140272,-1.2908653,-2.8501468,-3.2121875,-2.1612964,-1.9727775,-2.8714085,-0.8882562,-2.6976275,-1.2396656,-1.4350564,-3.498963,-3.2190588,-1.6573668,-2.9688113,-3.3636599,-1.455354,-1.5064949,-2.4689188,-1.3919921,-3.0326514,-1.1283783,-1.6524673,-2.2433078,-3.193591,-3.2212956,-1.9571129,-1.3193716,-2.2053733,-1.0052077,-3.1258507,-1.2988293,-1.1231945,-2.815127,-1.7911482,-1.4120123,-1.5625365,-0.9858254,-1.6112506,-2.6339948,-2.6022646,-3.1105893,-1.0953602,-2.2168114,-1.2807816,-2.3501387,-2.848273,-1.3992316,-3.0265884,-1.4520684,-1.6539972,-0.85128033,-2.5285344,-1.9487841,-2.352538,-1.6600691,-0.82567793,-2.1200976,-3.2483828,-3.0381832,-2.5485954,-2.6632364,-1.4186417,-2.5513577,-1.7154936,-1.864262,-2.6538587,-1.2278247,-3.1179056,-2.20252,-2.5299234,-3.3895671,-1.1940908,-3.708675,-2.2212877,-1.5796078,-1.2999187,-2.2498395,-0.9026764,-1.0350829,-3.6395836,-1.9953891,-1.5487838,-0.99260056,-3.1635447,-2.743504,-2.8042088,-2.0574567,-1.1465778,-2.2946365,-0.7564289,-0.49211144,-2.7522058,-1.7086751,-1.3922393,-2.2746196,-1.9388003,-1.3339629,-1.8083851,-2.8038435,-2.096989,-2.266068,-1.0581938,-2.7799535,-2.8641076,-1.3090334,-0.9029677,-0.13386734,-1.0672702,-2.8175147,-2.1343288,-1.2098262,-3.1505895,-2.0089579,-2.2190385,-2.4902375,-2.0266175,-1.6435876,-2.515339,-1.9186816,-2.3668194,-0.9874452,-2.1549761,-2.0365026,-0.584934,-2.5376182,-2.839121,-0.921183,-2.0833445,-2.5691428,-1.2383158,-1.5335139,-2.6273558,-1.745589,-0.65024465,-2.7669826,-1.2970986,-0.7441443,-1.8939987,-1.7109954,-1.0335654,-2.6710486,-0.83336836,-2.0858378,-2.204313,-1.2578204,-3.3443367,-2.3142476,-1.5132713,-2.4591262,-1.5602199,-1.9201074,-1.1350596,-2.2603724,-1.3265764,-3.2809558,-2.5785458,-1.5066272,-3.3838222,-2.130723,-2.2591074,-3.2824962,-2.4778924,-1.9030938,-1.8263011,-2.535489,-3.6504123,-2.312291,-2.620813,-1.0578406,-2.9543552,-1.4797472,-2.338331,-2.498028,-2.136608,-3.0932915,-1.7931582,-0.70658237,-1.8464746,-1.7135619,-2.2155573,-2.221063,-0.8351112,-1.2343363,-1.1244369,-2.1945727,-1.4760543,-1.4181967,-2.7019875,-2.1218357,-0.9798161,-1.7557806,-1.2220826,-2.2986894,-2.2550387,-2.78188,-1.500172,-2.0609107,-2.014957,-3.1395447,-2.9663062,-2.2012,-1.6032457,-2.96087,-2.8593524,-1.3622499,-2.9815364,-0.77689576,-2.047453,-2.1991777,-1.9472182,-2.6724012,-2.344503,-2.6917925,-1.8834826,-2.106731,-1.8783981,-2.910342,-2.05031,-2.0655077,-0.7217485,-2.8791547,-2.5005693,-2.946241,-1.2879837,-2.1843784,-1.7781433,-3.53171,-2.3938627,-2.9149723,-1.4101818,-2.0886176,-2.0226297,-3.112209,-2.94318,-3.017325,-1.1598144,-1.0927149,-1.3189003,-1.0387814,-2.9368403,-2.8445725,-2.183571,-2.6478357,-3.304113,-2.4398348,-1.9171942,-1.2213324,-2.4724731,-2.2944872,-1.6982604,-2.2382376,-3.1631591,-1.6803077,-1.0885143,-1.3596134,-2.062483,-0.6537679,-2.132047,-1.9319742,-2.2166185,-1.692504,-2.4976864,-1.5077927,-2.966518,-2.7998786,-1.0999666,-2.6358464,-2.0114112,-2.78346,-1.6597868,-1.2896047,-1.6196035,-0.9242821,-1.5181603,-2.017232,-1.7145452,-1.9059566,-2.60624,-1.7909352,-1.8071572,-1.768601,-1.7877369,-1.7813823,-2.1196964,-3.4751027,-2.7585328,-2.0632918,-3.007019,-1.3709452,-2.5303414,-3.7382972,-1.7162806,-3.397648,-1.4140934,-2.2926285,-1.8911062,-1.9010992,-1.6663071,-2.0369718,-2.5855014,-3.0106013,-2.0599515,-1.5445167,-3.7467606,-0.771968,-1.8219665,-2.3198004,-2.5215282,-2.0809379,-2.543775,-1.8027711,-1.2356616,-2.1177535,-1.9884105,-0.99142295,-0.84601855,-2.0660832,-3.485801,-1.7097754,-3.352159,-1.4012797,-2.1258347,-3.294168,-2.5913482,-2.8507314,-1.7622292,-2.3675988,-2.4401214,-2.9127486,-0.6424539,-3.190692,-3.7846615,-3.1142368,-2.9752626,-2.7538536,-2.4855692,-2.0396197,-1.1340292,-3.7437491,-0.4835785,-2.1077511,-1.3172586,-1.3382448,-2.9576185,-2.467081,-1.9635816,-1.9090505,-2.1138601,-2.7881925,-3.5556493,-2.6950653,-3.340223,-1.926364,-2.4425457,-1.2598987,-2.1984627,-2.092922,-1.7395844,-2.9417806,-0.73192793,-1.9785565,-2.8478835,-1.0546175,-2.329885,-2.020329,-1.4808128,-0.8872101,-2.3136914,-1.6459801,-2.2238202,-2.7868214,-0.5573415,-1.8018212,-0.93635213,-2.8865387,-1.099789,-2.0857623,-1.6874872,-2.406489,-1.9321036,-3.395677,-2.6704714,-3.0783668,-2.2926047,-2.538294,-2.199098,-2.787051,-2.2532623,-1.8910081,-1.4592535,-2.5178468,-0.77446765,-1.960529,-2.5161371,-1.9381524,-3.2750695,-2.03664,-2.4852924,-1.2916818,-1.7478205,-3.265664,-3.01797,-3.0989435,-2.2075295,-1.5032266,-2.672609,-1.061262,-1.8011795,-1.3880935,-2.4026837,-1.3842762,-1.2950112,-1.1565428,-1.1628573,-2.5233903,-3.254739,-1.976344,-3.1515956,-2.2231696,-2.4292393,-2.9501486,-2.8115258,-2.293227,-2.5179355,-0.91094977,-2.7012403,-1.9531692,-3.2119813,-2.6587462,-1.1404614,-0.7550712,-2.2135403,-0.6319512,-0.56631297,-3.1988902,-2.061747,-2.0964706,-2.8761046,-2.3261707,-2.986775,-1.893339,-1.4399468,-1.1063938,-2.879588,-1.2462897,-2.5491748,-2.8184528,-2.7656763,-1.3768581,-1.0358275,-0.67955625,-1.5832669,-0.7857094,-3.068539,-2.9479504,-2.8378518,-2.541321,-3.5773592,-0.98976815,-2.731338,-1.9604018,-0.50853026,-1.7310028,-3.1822438,-1.2039268,-2.8245711,-2.403269,-0.8782555,-2.9301536,-2.8367748,-3.1468344,-2.2466776,-1.9192399,-3.527876,-2.2241616,-0.6691904,-2.6286547,-3.6641634,-1.546291,-2.549957,-3.833383,-2.8924437,-1.3619083,-0.7859111,-1.8948287,-2.780887,-1.2952045,-1.1730406,-1.1030074,-2.1042883,-3.0546558,-2.8945522,-2.090415,-2.6375103,-1.2228844,-0.7043643,-0.6658409,-1.8672953,-2.0598686,-3.0179048,-1.9088624,-1.4577237,-3.3874605,-1.2054586,-1.3578123,-1.3749149,-1.810892,-3.5976338,-3.4209435,-2.089851,-1.5477428,-2.71697,-2.7303474,-2.3910327,-2.5387843,-1.644608,-2.2928638,-2.392491,-2.0610008,-1.9839854,-2.2781417,-1.7555414,-1.5793867,-2.5430906,-3.7514806,-2.2488394,-2.105003,-3.461203,-1.2134479,-0.9565714,-1.8803048,-1.8870382,-1.0993578,-2.2431931,-2.4439921,-2.1519864,-2.0043168,-2.2540603,-0.9933852,-1.8390785,-3.126258,-3.1133752,-1.2986443,-1.4227198,-3.2674437,-2.8715656,-2.9487464,-1.8285446,-1.7931805,-1.5239085,-3.0406551,-1.2349594,-2.2581,-1.5001063,-1.7322843,-2.8758278,-2.4775312,-3.0808673,-2.4513326,-3.2178934,-2.4567146,-2.4112787,-0.98473465,-2.4015899,-1.0930464,-3.7519553,-1.6167086,-1.2200669,-2.95054,-2.3609068,-2.3274198,-0.18701825,-1.9837706,-2.278264,-1.3258778,-2.259828,-2.5754817,-0.6195815,-2.3239617,-1.531893,-1.4744953,-2.4334717,-2.5675428],\"xaxis\":\"x\",\"y\":[5.7118163,8.218145,7.357494,8.469801,4.995128,8.785062,6.732527,4.8281746,7.2513695,6.559342,7.2111387,6.4253483,8.956706,6.460323,8.907756,6.331448,8.045939,7.6374383,6.270897,5.148294,6.092565,6.1631126,8.425918,7.997477,6.124418,6.3424363,7.722379,5.168859,7.436933,7.981776,7.783213,5.0081015,8.712721,8.718924,7.000265,4.581815,6.2901974,7.0613027,5.189503,8.109675,5.9758334,5.691295,9.182602,6.6230307,6.701353,5.9460926,8.277079,6.779448,8.565338,5.097574,6.141945,8.81167,5.4687414,6.804307,6.326274,6.2895184,8.650531,7.776253,5.303697,5.6271296,6.819597,7.5705013,7.193703,7.1293864,5.866726,5.192908,6.875955,7.7536364,5.3701468,6.9328732,7.6901965,6.077005,7.7103853,6.243713,7.1979284,6.0254183,5.8787518,6.354965,7.647999,6.72615,5.9178696,5.4421673,6.723683,5.6804123,5.9881325,8.25025,7.963378,6.65475,5.232333,6.990794,6.6322637,5.166359,8.925674,7.917386,6.2874794,9.237815,6.706826,6.2658877,5.464592,7.372324,8.914331,5.1850147,8.466243,6.588928,7.259533,8.907317,6.135863,6.975542,6.2121615,7.4109297,5.1440225,8.547728,8.5529785,8.399819,5.8044844,7.1010118,5.828119,7.154295,5.984366,4.5642557,7.132549,8.502125,7.0508585,5.460188,5.0177608,7.3820977,7.9196534,7.856958,5.820227,6.542026,6.3342037,8.293878,7.814275,6.218733,7.4516134,7.4719033,6.1985297,7.287762,6.3742447,6.3136387,6.862671,6.9373317,8.962245,8.352647,5.1608334,6.7686543,5.109453,5.9620914,9.260504,6.9026365,7.819183,5.7921314,8.349263,7.0369196,7.928275,8.266086,6.694387,8.162742,8.299628,6.858049,5.586221,8.482004,8.784559,8.834093,8.035423,5.7404294,8.75484,5.2495227,5.0238585,8.493378,8.370062,6.1040854,4.896875,5.9502516,5.926453,5.2895203,8.486886,4.90448,8.487515,8.920055,6.88617,7.657857,6.7909117,5.727477,6.442413,5.3741374,9.161941,7.6094546,6.215207,8.350272,6.6669292,6.2494636,7.8529696,7.5953865,9.06764,7.890501,6.0060725,5.5042152,7.093426,7.035542,7.997512,8.847209,6.1159253,6.796482,6.4109797,7.341408,7.988194,6.1177516,7.4186378,8.522103,7.1023774,6.718351,4.903853,9.116745,5.9844484,8.142384,7.805174,5.2539387,8.554155,8.295247,8.348588,8.844796,9.008067,7.478212,4.8917565,5.182768,7.7730002,6.1090503,7.7439404,5.070468,7.6245594,8.50244,9.089762,6.758485,7.834477,7.3206234,7.5831046,7.8893566,7.789203,7.064773,8.240747,5.7548127,5.6002936,7.417957,5.1544895,5.42232,6.218803,7.3596425,7.0909734,6.04627,6.4646654,6.6158905,6.551229,6.4504623,5.757305,6.7277865,6.9851236,7.3648343,5.9357786,5.947075,6.5435333,5.99985,5.391801,5.369125,7.9526615,7.976799,8.286511,7.178166,6.092676,7.9866176,5.927548,6.428723,5.6809235,8.268655,7.8855553,8.196543,7.6127133,6.677513,8.720621,5.2164717,8.894658,6.7549267,7.2762356,8.0501,7.515386,5.0588417,7.5758553,8.449385,6.635554,5.488301,7.4750304,8.802934,6.3244066,8.642273,7.3142204,6.9916263,7.0448904,6.1601615,6.2908263,7.557965,7.305825,6.0627007,5.0084968,8.376955,5.127194,7.7891793,6.6332455,6.8097615,6.183617,7.5982847,7.2070065,8.601073,7.7846165,5.7275515,5.382591,7.6299148,8.432115,7.25258,5.9019256,9.032033,4.6290956,6.819458,5.997614,5.953797,6.253839,5.672326,8.581166,6.9073386,5.951242,7.3643928,6.617295,5.9611745,7.090287,7.8068924,5.85349,7.5766664,8.756287,7.746327,8.035878,7.325126,7.14758,6.033111,8.880791,5.051734,6.8724737,9.103579,6.0194297,5.9826326,6.994917,5.810794,5.958684,6.230518,6.445672,7.780947,6.5928755,7.7709804,6.7648144,4.8907633,8.548367,5.2391567,7.9099107,5.1609325,9.222323,8.099196,6.676222,8.223956,6.7185044,7.0611415,7.956321,7.630033,5.7891946,6.9561467,6.435901,7.9714365,5.5339136,9.13288,7.593465,7.5661383,6.3467026,8.176227,8.071911,6.5208807,7.746626,6.7579184,6.0235276,5.9438086,6.191896,6.594229,7.1110663,5.8362994,7.8423824,7.149685,8.575447,5.6143646,7.3354197,7.609515,7.239798,6.6641273,6.494295,7.3432727,6.993339,6.8626547,7.284965,5.755168,4.665107,7.276743,8.187014,8.588388,7.960667,5.9917154,6.1327653,7.792134,5.9124813,8.606907,5.763623,8.457663,6.8875213,7.473308,8.184104,7.0940976,9.076186,5.971295,9.028574,7.499456,7.713696,5.9074554,5.557909,5.9435987,8.533083,6.944149,8.682906,4.892951,7.12722,7.108898,7.797256,6.918082,6.6477723,7.8279185,8.508473,6.6860247,8.730924,8.698831,9.078469,6.206719,6.0455194,5.412951,5.2274437,8.754797,5.9800844,6.2922997,6.083376,8.243288,7.8919234,7.611252,7.789503,8.40592,6.793899,7.7885165,6.3366327,8.59967,7.4232144,6.5335383,5.1214194,6.636364,5.6361675,7.8696065,5.9673443,7.513632,6.7992525,8.961651,5.6001234,8.149305,5.9706903,6.7183075,8.389672,5.22188,8.679753,6.2916594,5.8015456,4.982443,6.9044147,4.7120247,6.6319537,5.684532,7.249463,8.874978,6.7728806,6.7043605,6.733718,6.73028,6.7026806,6.205919,8.904817,7.0472655,5.917307,8.957639,5.2917213,7.6162496,8.272444,6.25538,8.763661,7.2422504,8.246273,7.6778464,6.944677,6.1821074,8.120822,5.537904,7.0130215,5.1476564,7.4637213,8.592371,6.348324,5.8912015,5.2227077,7.127603,8.436731,7.5010424,5.8108916,5.277337,7.505932,6.3840423,5.417135,5.7453475,6.5104094,7.6600137,6.844593,7.517004,7.9107666,6.154165,9.211301,7.2620015,8.344085,6.4570737,7.466687,5.9902306,7.535514,6.1521115,8.987946,8.619214,8.477647,8.714411,8.271731,7.7711124,7.2426143,5.27949,8.760334,5.5845923,4.7300634,6.487329,6.0346913,7.6043887,7.8593545,6.9226494,6.2096395,6.633174,8.915026,7.8378024,7.6647487,7.8481364,7.8086033,6.349417,4.955675,7.23642,6.212516,5.9913573,7.6041374,6.265859,7.158373,6.6207485,6.0753326,6.53005,6.363335,7.7040057,7.2530055,3.7266903,4.808924,6.25912,6.3780336,6.0551486,5.575461,5.734795,8.6767435,5.2168097,6.6088014,5.5905423,6.117062,4.907637,7.7341933,8.380215,8.873534,5.848974,8.298147,6.854128,5.0888295,6.9637623,6.905146,7.6604323,5.990323,6.1700897,7.7239466,6.023809,6.9388885,8.6974535,6.042738,6.7595463,5.187847,5.7001133,8.762183,7.674626,7.0537977,6.538109,5.5297246,6.993794,7.581688,5.5335994,7.9835167,8.368553,7.9277678,5.0914645,6.1937075,7.150898,6.3883133,9.006067,6.5586023,8.847448,7.5273557,6.194208,8.922773,7.453224,6.8644447,6.264996,7.3506846,8.249139,8.549016,7.9957585,6.063457,5.7437005,6.2403445,7.5948963,5.1568384,5.516629,8.418626,7.220779,8.26418,7.6088204,6.24889,6.9999924,6.3819585,5.61395,7.505017,8.473895,5.2783656,7.709771,6.3004556,6.118492,5.526476,7.401899,6.020803,6.318646,5.173375,8.794602,7.6282587,8.27028,6.092858,8.617867,6.1249456,8.866656,6.4939303,4.8753695,5.482588,8.700662,5.191078,6.6256857,7.0093617,5.0796223,7.0615363,6.6391883,8.39211,8.474217,5.671578,8.407887,6.2343807,6.119975,6.429467,8.89865,7.6217933,6.253002,8.438575,6.6189575,5.1402755,6.583363,7.7883706,8.1129875,7.801918,6.2977805,6.6375704,5.9778557,6.1470113,8.350313,6.1628456,7.0120106,7.0919957,5.9066467,5.9488225,8.457196,4.5827503,7.948325,6.800729,6.228449,7.4716144,5.313979,5.3093405,5.225998,5.2237887,8.370918,7.657668,9.233431,6.3814445,8.113656,7.281905,7.143468,7.808275,6.256182,6.426669,6.299732,6.978904,4.526892,4.6951017,7.118318,5.588415,6.668561,8.4206085,8.286616,9.044484,7.775026,6.708475,6.865383,7.288512,6.67348,7.6744485,6.8136306,6.7868743,7.3946285,5.455261,6.361489,7.482854,4.5354195,9.308179,8.615986,4.923343,7.918676,8.803789,7.650709,9.04669,5.076794,5.827239,6.77826,7.601021,7.871431,8.499543,5.284835,5.3988786,8.293095,6.243964,7.7295303,9.018616,8.773018,6.903926,8.402098,5.349115,6.5211043,6.919155,8.246447,5.8524413,5.3028426,6.946102,6.127866,8.156228,5.034087,8.421226,7.8726773,6.523939,6.261051,8.341217,6.076714,6.305074,7.5514,5.5904922,7.723298,8.832656],\"yaxis\":\"y\",\"type\":\"scattergl\"},{\"hovertemplate\":\"leiden=3\\u003cbr\\u003eUMAP-1=%{x}\\u003cbr\\u003eUMAP-2=%{y}\\u003cextra\\u003e\\u003c\\u002fextra\\u003e\",\"legendgroup\":\"3\",\"marker\":{\"color\":\"#FB0D0D\",\"symbol\":\"circle\",\"opacity\":1,\"size\":1.6497729812340491},\"mode\":\"markers\",\"name\":\"3\",\"showlegend\":true,\"x\":[-2.7244546,-3.9646568,-4.3217916,-4.2703147,-2.338926,-3.2165396,-3.7194705,-2.6838555,-2.280667,-2.1846216,-4.1270375,-3.1849682,-4.0091677,-3.9577415,-3.235355,-3.6892905,-3.7949562,-2.549116,-3.26495,-4.1880236,-4.2246184,-3.454723,-2.6933367,-2.2442386,-3.1221352,-4.437802,-2.5981374,-3.1535933,-3.5711532,-3.1327105,-4.298788,-4.4102364,-4.344429,-3.9170465,-3.7278738,-2.5256965,-2.2964509,-4.370799,-2.4645023,-3.1492503,-3.7491786,-2.824263,-3.2225764,-2.0923328,-3.9893177,-4.26286,-2.587182,-3.7065747,-3.736269,-3.6391268,-3.497281,-4.3102317,-2.134976,-3.688561,-3.605233,-3.648757,-3.8994658,-2.339447,-3.7840292,-4.301017,-2.0843554,-4.5766883,-4.2931542,-4.6446776,-3.2722049,-3.604901,-3.8454862,-3.243586,-2.4986293,-3.837629,-4.24116,-3.2706594,-4.6082516,-3.704397,-1.944012,-3.9120295,-4.618639,-4.3356657,-3.5603979,-4.4199452,-2.8042636,-3.816538,-4.606926,-2.5761592,-3.3934975,-2.1874273,-3.9305086,-3.3043108,-3.9607992,-3.3006482,-2.3714445,-3.5952153,-3.3541727,-3.5562952,-2.3318615,-2.6013556,-2.9787836,-3.6446843,-3.4155133,-4.069782,-2.4607518,-3.2530584,-4.5642653,-3.5128996,-2.019996,-4.0142,-4.4854684,-4.175815,-4.717668,-2.6299443,-3.5314744,-2.0383887,-3.6197948,-3.4484031,-3.9624424,-2.8660035,-4.0432487,-3.6479793,-2.8338223,-3.5932586,-3.1915212,-2.9767764,-3.787366,-4.0554066,-2.5066288,-4.4085684,-4.13455,-3.1213388,-4.5652575,-2.6324058,-3.332985,-2.6302233,-3.0420709,-3.9853811,-3.1399868,-3.4828343,-2.1781557,-2.6971183,-4.3352304,-4.390649,-3.6249242,-4.6807404,-3.5634503,-3.592974,-4.3785257,-3.699495,-3.9881134,-3.4072042,-2.6497762,-2.3681366,-4.745326,-2.4321098,-2.403577,-2.9963834,-3.0410938,-4.134051,-2.4434876,-3.07644,-4.06289,-3.4380445,-3.4824617,-3.517645,-3.13918,-3.363789,-4.650896,-4.8303695,-3.8041627,-3.7719352,-4.0420594,-2.5470123,-2.5750282,-3.2072635,-2.5393672,-3.1438763,-3.080721,-3.3459868,-2.3883278,-2.752966,-2.507051,-3.5663686,-3.1500823,-2.4941437,-2.7438316,-3.0977843,-4.1075535,-3.3100517,-4.476122,-4.4903474,-4.1435733,-4.0597296,-4.308208,-3.286874,-3.203205,-3.7029762,-3.4754071,-2.7868695,-4.146322,-4.4520326,-3.969507,-3.6806085,-3.12754,-3.1763644,-4.734353,-2.2872264,-2.924592,-3.3052313,-3.2126334,-3.4252248,-3.7876422,-3.1924498,-2.3235443,-1.9319192,-2.872963,-3.6118298,-3.0410852,-4.412744,-3.5866454,-2.9939575,-4.306176,-3.0674884,-2.1806386,-4.4967365,-4.4737573,-2.7192733,-2.4537373,-3.3679798,-3.6149116,-2.080492,-3.9873114,-4.5033183,-2.171105,-3.3956215,-4.501031,-3.8372889,-3.9650934,-3.6479373,-3.538885,-4.5245075,-3.5052373,-4.4099545,-3.5862753,-4.4021063,-4.543239,-3.241847,-3.673931,-3.545946,-3.5859187,-4.395854,-4.068946,-3.9343417,-4.4411545,-2.6355371,-1.9170079,-3.242427,-2.3816993,-3.1215425,-2.5383503,-2.1876698,-3.2568202,-2.805392,-4.530916,-2.3210003,-3.6428466,-3.1064975,-4.1996217,-3.3349824,-4.0419903,-2.799845,-4.594276,-3.036171,-2.780217,-3.4336262,-3.3768091,-4.277353,-2.3366818,-3.6078439,-1.8409524,-3.7497103,-4.2287517,-3.059602,-4.1374426,-4.733519,-3.2797709,-4.2180085,-3.1792955,-1.9935874,-4.6775823,-2.1513913,-4.348337,-2.23602,-3.7439463,-3.8721972,-2.5667984,-2.9634385,-4.8233013,-2.9138658,-3.3715322,-2.7001202,-3.9499402,-3.3498108,-3.3637023,-2.3566308,-3.9536328,-3.04078,-3.907556,-3.1302512,-3.200879,-3.934079,-3.9112692,-4.657858,-4.210802,-2.7110376,-3.0003626,-3.0752282,-2.5485435,-4.2781224,-3.435123,-4.249365,-3.4388688,-2.9192371,-3.5243163,-2.69004,-2.5341833,-4.3457127,-2.071453,-3.9938662,-4.2088313,-4.5652275,-4.4595914,-2.470397,-3.4082177,-3.8443558,-4.1630764,-2.8103552,-3.6321285,-3.1841269,-3.9584587,-2.8434167,-3.232396,-3.3286245,-3.3961577,-3.5627215,-2.518259,-4.733466,-2.7681818,-4.4877234,-3.5382154,-3.697468,-3.4338486,-4.0538225,-3.9884691,-3.3652267,-4.5643077,-2.0775805,-4.095223,-2.5260863,-3.6919804,-2.9358034,-4.152454,-4.0917816,-2.7588556,-4.7463927,-2.7691498,-2.1620936,-3.5732844,-4.185829,-4.07542,-4.430883,-4.5399904,-2.5682583,-3.7915356,-4.829809,-2.654282,-2.9858468,-4.1236825,-2.5913274,-2.8421545,-4.8730454,-3.173603,-3.7525942,-3.0212827,-2.7348197,-2.5997827,-3.9266224,-3.9486248,-4.441824,-3.3559353,-2.4717267,-4.8125963,-2.943849,-3.493533,-3.169483,-2.059916,-3.048083,-2.7912247,-3.0160587,-3.539845,-3.3261185,-4.044534,-3.0510843,-3.6328719,-2.402919,-3.6032963,-3.3015268,-3.3917983,-3.3134277,-4.037295,-3.3564086,-2.5890007,-3.1382189,-4.633385,-2.7585175,-2.5039651,-3.9030542,-2.036834,-3.588579,-3.7650454,-2.090638,-3.3458,-3.455992,-2.7533057,-3.1413188,-3.062241,-2.4928524,-4.3515787,-3.7535625,-3.135061,-4.6435814,-2.8060224,-4.740707,-2.917894,-4.0690064,-3.8231854,-4.475192,-4.4412208,-2.7876463,-3.380854,-4.334756,-3.7232373,-2.214114,-4.4445586,-4.1114497,-4.013328,-3.0964084,-4.1854973,-2.7866817,-4.5045834,-3.451705,-2.5017278,-3.7979996,-4.8060927,-3.0152352,-4.195002,-3.365156,-4.3656926,-3.9256077,-2.9978642,-4.348421,-3.9956539,-2.4987037,-3.6052778,-2.5307462,-4.176234,-4.434784,-3.3029654,-4.2468457,-3.2205007,-2.6210446,-3.6397042,-3.9217641,-4.3431535,-3.7369401,-2.1817427,-3.8623714,-2.6913905,-4.5290823,-3.4680603,-2.2708097,-1.8556321,-3.3733077,-4.426401,-3.241071,-4.312163,-4.306191,-2.652127,-3.6747353,-2.839402,-2.3706865,-2.4332404,-3.5042918,-4.2062554,-4.1843348,-2.5960662,-4.3507967,-3.7228541,-3.3866215,-2.4762483,-3.4540627,-4.4166603,-4.328466,-3.4811664,-3.1676264,-2.0689297,-2.5585551,-3.5419946,-3.8485546,-2.851565,-3.627687,-4.8613067,-3.2884715,-4.1209087,-2.8752306,-4.003082,-4.8644614,-4.658926,-2.6243958,-2.3918161,-4.118042,-3.8144975,-3.9432933,-2.9047146,-3.6791558,-2.4005258,-4.080633,-3.7281377,-4.2802696,-3.7927585,-3.4636328,-3.4459002,-4.312437,-2.7165017,-4.231594,-2.367519,-3.0392187,-2.7903907,-4.5548406,-2.734131,-3.9591181,-4.868617,-4.3336897,-3.2886896,-3.8532166,-3.2795231,-3.7363439,-3.4087882,-2.0156555,-2.8644183,-2.8514683,-4.067171,-2.2131603,-1.9352455,-3.3679733,-2.25501,-4.387566,-2.7498586,-4.3434577,-3.5668259,-4.552333,-2.2354014,-3.4718814,-3.550393,-3.33835,-2.7676861,-3.3595634,-2.4521394,-3.560999,-2.2633395,-3.9746015,-3.975288,-2.6330192,-2.9246712,-4.2855973,-3.3973427,-4.7950478,-4.665885,-2.5730162,-3.0557282,4.7394896,-2.2026775,-2.9937785,-4.236126,-4.325756,-3.1042793,-3.48903,-2.6333723,-3.8757403,-3.402609,-4.066239,-3.4253788,-3.2910755,-4.1618295,-4.5903997,-4.158269,-2.3927717,-2.6599388,-4.597036,-3.75425,-4.393438,-3.9339082,-2.334138,-3.3809447,-3.3377903],\"xaxis\":\"x\",\"y\":[9.856524,9.4709,10.064885,10.012609,9.387787,10.376011,9.95887,9.496033,9.594659,9.318023,9.388394,10.090961,10.465865,10.19818,8.869504,9.607791,8.574832,9.977242,9.553917,8.892522,9.331432,10.333246,9.204886,9.551676,10.370826,9.846876,9.112024,10.404292,10.20658,10.309517,11.288778,9.63513,9.720437,9.401588,10.570691,9.385062,9.516401,8.938617,9.524793,10.426939,9.721794,9.362053,9.48802,9.451764,9.680935,9.910288,9.405333,8.5198555,9.463078,9.383277,9.86253,9.576656,9.596066,9.683601,9.649833,10.473719,9.659522,9.385596,9.136933,9.727085,9.523845,9.264629,9.780813,10.57731,10.440623,9.623656,10.389102,10.2860155,9.419421,10.071534,9.467092,9.880055,11.097496,10.268225,9.454005,9.5179,9.108302,10.528459,8.9256935,9.440076,9.269653,9.902437,9.820655,9.912427,10.269583,9.346669,9.944622,10.282802,10.485752,10.236785,9.570096,8.990383,10.741638,10.002662,9.683258,9.511245,9.914462,9.2941885,8.974692,9.310848,9.294786,9.186391,9.500182,9.469704,9.465184,9.901025,9.445422,9.489627,9.102163,9.478359,10.291014,9.511025,11.396524,10.336808,10.525474,10.150652,9.809827,10.402144,9.740839,9.791625,10.339357,10.13016,9.600184,9.134289,9.1643505,9.662983,9.631988,8.744483,9.224565,9.769761,10.085747,9.823411,10.21689,10.346815,10.36091,10.263734,8.927523,9.3506565,9.795498,9.395156,10.30258,9.147802,9.72703,10.394524,10.084891,9.2598715,8.531191,9.957657,9.975987,9.21439,9.321162,9.902199,9.680254,9.775701,9.43437,9.974926,9.888938,9.505313,10.045239,9.685047,9.53665,9.7394905,9.989501,9.523622,9.587809,9.427313,9.254953,9.087984,10.074846,9.97576,9.129113,9.668712,9.827544,10.413367,10.418626,8.949825,9.43108,10.088004,9.813258,9.718021,9.249397,9.406611,8.959095,9.720252,9.249244,8.830784,9.566549,10.031489,9.905482,10.28795,10.06076,8.872257,9.791508,10.5051565,9.748198,9.141211,9.861047,9.885507,9.677239,9.521772,9.998238,9.7475195,9.55953,9.788244,10.302562,10.591319,10.150289,9.4210205,10.847624,9.605117,9.672756,9.408613,10.032574,9.107001,10.477273,10.022281,10.350471,9.355348,10.286623,10.17186,9.411375,11.173423,10.128857,10.043788,9.172089,10.474483,9.334089,9.632201,8.777293,11.261306,9.43151,10.455794,8.96094,8.536802,9.543231,10.163494,8.875144,9.869831,9.469547,10.0618725,8.681403,9.21273,9.829009,9.599105,9.310997,9.524319,9.340487,10.054763,9.504567,9.252475,9.516077,9.41114,9.406709,10.574492,9.585715,9.058075,9.6523285,9.401375,10.233896,10.144744,9.346307,9.572167,9.230581,10.200407,10.137761,10.614858,9.492522,9.258011,10.2316885,9.155943,9.863224,9.454634,9.73494,9.529856,9.721389,8.499692,9.395785,10.083223,9.120813,10.058387,8.38815,9.445806,10.104459,10.033256,10.385404,9.506704,10.190177,9.578752,9.75135,9.575567,9.702491,9.267753,9.654752,10.155143,9.178178,10.037669,10.61106,9.926792,9.500242,10.434312,9.473389,9.613504,9.486286,10.380507,8.931626,9.157498,9.66155,8.818297,8.380238,11.136131,10.121654,9.262467,8.760071,9.552536,9.876319,10.273727,10.895199,9.557881,9.256501,9.16419,8.995826,9.4345045,9.723146,9.385182,9.500017,9.769264,9.840204,11.379996,9.828034,9.76971,9.317916,9.421166,9.481515,9.576372,9.466301,9.82073,9.669761,9.863248,10.057403,9.767721,10.639565,11.215729,9.327094,9.065339,9.335371,9.333648,10.427759,10.008807,8.780204,10.099333,9.906673,9.584924,10.249376,9.398209,9.547698,8.735897,9.215631,9.274717,8.681026,9.369937,9.217071,9.349342,10.195049,9.435465,9.433078,9.897502,9.506764,8.605235,9.586077,9.397776,9.30262,9.414624,9.609176,10.173134,9.682917,9.4848385,10.2439165,10.813495,10.113691,9.270006,8.942792,9.771618,9.078258,9.282605,12.420801,10.043921,9.749494,9.712803,9.323418,10.342696,10.130686,9.965526,9.281174,9.594187,9.668438,8.724593,10.243742,10.546872,9.2347975,10.382346,9.216488,9.909935,8.66689,10.028598,10.257897,8.928301,9.760776,10.335807,9.574999,10.536455,9.3054495,9.64229,9.649315,9.5596075,9.36966,10.13215,10.385921,9.523778,10.331824,9.574822,9.584885,9.799121,9.801556,9.437092,9.426666,8.770021,9.727251,9.656231,9.034885,9.105071,8.99146,9.4982605,10.1298685,9.261219,8.937779,10.146042,10.156507,10.051335,9.750876,9.457661,9.561782,9.22384,9.647754,10.002877,9.233041,9.36046,10.089698,10.357774,9.067296,9.3674965,9.169538,9.467103,9.512714,8.900873,9.730829,8.662339,10.07932,10.205102,9.376808,9.311111,10.112169,9.351123,9.654438,8.759309,9.545579,9.897093,10.564044,9.153864,10.518299,8.904508,9.080769,10.302124,9.010493,9.3668995,9.700815,10.181584,9.629188,9.128438,9.396648,10.548063,9.828737,9.78747,9.594712,8.693822,9.16238,10.308546,9.851259,9.268605,9.259136,9.890549,9.471734,10.229751,10.041629,10.383508,9.260837,10.131751,9.350264,10.239705,9.400818,9.944882,9.458128,9.292052,9.5238085,9.711219,9.552794,10.379626,9.538253,10.60769,10.570213,8.940435,9.213191,9.791014,9.533472,9.208838,10.000748,9.535619,9.724506,9.782625,9.902249,9.473189,9.466128,8.634889,9.284886,9.893105,9.817394,8.516688,10.306425,10.195136,9.633576,9.934642,9.546474,9.750867,9.347715,10.43666,9.374512,9.671117,9.776714,10.246924,9.078889,10.03601,9.71142,8.748078,9.1684065,10.00332,9.822973,9.588675,9.508527,9.570349,9.256916,9.234384,9.3319845,10.2188425,9.199329,8.887546,9.735904,9.410524,9.090692,10.171454,9.44697,9.775912,9.078456,10.21643,9.288305,9.538602,9.940684,10.16583,9.2377615,9.662745,9.867074,9.73355,9.695762,9.636918,10.25095,9.2072,9.329,9.581899,8.698193,14.479051,9.694328,10.410745,10.274046,10.117054,9.993358,9.143234,9.744584,9.086946,9.852953,9.966596,10.248133,9.309912,9.936013,9.734366,9.392989,9.914745,9.679234,9.330822,10.427766,10.1707535,9.857278,9.2202635,9.82436,9.629866],\"yaxis\":\"y\",\"type\":\"scattergl\"},{\"hovertemplate\":\"leiden=4\\u003cbr\\u003eUMAP-1=%{x}\\u003cbr\\u003eUMAP-2=%{y}\\u003cextra\\u003e\\u003c\\u002fextra\\u003e\",\"legendgroup\":\"4\",\"marker\":{\"color\":\"#DA16FF\",\"symbol\":\"circle\",\"opacity\":1,\"size\":1.6497729812340491},\"mode\":\"markers\",\"name\":\"4\",\"showlegend\":true,\"x\":[-5.3494825,-4.9347725,-4.224001,-5.0943193,-4.561959,-4.139922,-5.5726943,-3.9932885,-4.8227873,-4.5134163,-4.283494,-4.494773,-4.978571,-4.2477045,-4.8499227,-4.8350754,-4.498725,-4.070276,-4.953765,-4.713313,-3.8529904,-4.0421333,-4.8344045,-4.5912056,-4.8095474,-4.6373854,-5.0646462,-3.882779,-5.1772447,-4.281865,-4.411978,-4.5797153,-4.406989,-4.5179777,-4.889471,-5.1687665,-4.230243,-3.9642665,-4.313992,-4.6783857,-3.930318,-4.2647204,-4.878796,-4.1967874,-5.0040674,-5.0401273,-5.1327,-4.875413,-4.461744,-4.2122006,-5.0517354,-3.8083284,-4.026954,-4.7735376,-4.1095595,-4.384187,-4.0303864,-4.086663,-4.9804387,-3.9517064,-3.9413161,-4.520093,-5.019679,-4.5918837,-4.9831014,-4.118836,-4.41017,-3.6391335,-4.7687783,-4.613765,-5.2057576,-4.1420913,-4.767406,-5.533587,-4.5113673,-4.3160186,-3.6961544,-4.9851623,-5.059787,-4.6541853,-4.857788,-4.1404324,-4.356171,-3.8756921,-3.9458988,-4.859622,-4.3428936,-4.71784,-4.094469,-4.295185,-4.1361446,-4.1081643,-4.2892265,-4.0051813,-4.0140314,-4.276777,-4.1309237,-4.4982295,-5.044044,-3.9684873,-4.250382,-4.4872155,-4.094898,-4.3106823,-4.5421453,-4.6563754,-4.5262,-4.4656854,-4.524035,-3.6335342,-4.826477,-5.152624,-5.761113,-4.418486,-4.677284,-4.2991385,-4.325102,-4.2283964,-4.355077,-4.47808,-6.0321813,-5.222891,-5.045799,-4.0585074,-4.1804056,-4.6335115,-4.4963694,-4.4895597,-4.502623,-4.515204,-4.4093,-5.47209,-4.9065,-4.1902456,-4.453198,-4.0295486,-4.954759,-5.180672,-3.9271705,-4.354942,-4.383662,-3.9580138,-4.637676,-4.2344923,-4.1308,-4.729726,-5.024229,-3.9328856,-4.3237777,-4.4510064,-5.042344,-5.0693355,-4.221654,-4.353665,-5.149082,-4.8359585,-4.3057103,-5.0291376,-4.395181,-4.36022,-5.243477,-4.497874,-5.1347227,-4.052969,-4.6735163,-4.8192277,-4.34897,-3.9479766,-4.1697097,-5.2067866,-4.4388113,-4.367182,-4.5630636,-4.1564584,-3.8610008,-4.6156106,-5.1146245,-5.2743034,-4.0878415,-4.548839,-4.1868095,-4.9041567,-4.5501647,-4.4956675,-5.026726,-4.456336,-4.5014024,-4.6003594,-4.4492598,-4.7997365,-4.520227,-4.457978,-4.0948257,-4.44463,-4.4340134,-3.9871616,-4.5300593,-4.9134126,-5.047774,-4.609985,-4.224383,-4.751005,-4.3258147,-4.2801237,-4.440029,-4.682707,-4.317761,-4.5986056,-3.7614315,-4.712439,-4.707763,-4.7440724,-4.2252903,-5.1480627,-4.2627316,-4.771094,-4.3293476,-4.4585605,-5.055441,-4.999726,-5.4865055,-4.018135,-4.0999093,-4.467089,-4.4590154,-5.0604787,-3.6635725,-4.2165,-4.019348,-4.9194517,-4.8160896,-4.905974,-4.401562,-4.679092,-4.312608,-5.086079,-3.7665994,-4.3896656,-4.168705,-4.08918,-5.4627743,-4.20463,-4.906376,-5.030994,-4.0652313,-4.4690976,-4.8337092,-4.588346,-4.219912,-4.3495984,-4.555177,-5.056321,-4.452035,-4.3301253,-4.8135705,-4.472871,-4.3814116,-4.688332,-4.488171,-4.297951,-4.6319847,-4.7231436,-4.736945,-4.1741037,-4.5865846,-4.658846,-3.8837936,-4.73235,-4.4940023,-3.992469,-4.3577485,-4.9649725,-4.6826663,-4.245625,-4.462266,-4.563208,-4.4445205,-4.056938,-4.013653,-5.585635,-4.4423704,-4.893749,-4.3960657,-4.1987743,-5.474847,-4.298031,-4.633266,-4.4705567,-4.3793173,-5.3717356,-4.984033,-5.1097503,-4.715058,-4.3861723,-4.4698076,-4.3832126,-4.6054907,-4.736758,-4.4798493,-4.4480505,-4.401714,-4.7363,-4.4690585,-4.9508214,-4.0871654,-4.3451552,-5.0137715,-4.3783712,-4.5731144,-4.158738,-4.0066867,-4.505031,-4.387411,-4.544524,-4.53283,-4.2144184,-4.5359216,-5.0304747,-5.0509768,-4.560774,-4.5229526,-4.3461823,-4.71568,-5.041378,-4.4350195,-4.8870673,-5.0981274,-4.4016843,-4.1084137,-4.959775,-4.9971733,-4.153179,-4.762921,-4.2674966,-4.5229373,-4.807734,-4.5162716,-4.3503838,-4.325413,-4.6951675,-4.0709496,-5.238331,-4.1856556,-4.486532,-4.680945,-4.9777675,-3.9414995,-4.484309,-4.8650284,-5.2357984,-4.1662936,-4.2924795,-4.32671,-4.265305,-4.387395,-4.9169064,-4.2893486,-4.527284,-4.301675,-5.5307956,-4.4769664,-3.7068815,-4.432134,-4.069199,-5.0250072,-5.0533953,-5.087362,-5.230602,-4.705819,-4.376376,-5.0155177,-4.536825,-4.2888527,-4.3891125,-4.3328934,-4.5771112,-4.211386,-4.401232,-4.963909,-4.372728,-4.3186617,-4.571402,-5.0782013,-3.875957,-4.5057893,-4.0694947,-4.159666,-4.30433,-4.998352,-4.6034303,-5.296627,-4.500057,-4.265914,-4.0265074,-4.039027,-4.5881944,-4.3809633,-4.0297503,-4.592219,-4.6914005,-4.741081,-5.0050173,-4.5360684,-4.044026,-4.301124,-4.3597527,-5.5035877,-4.9082355,-4.7784476,-4.4680476,-4.074041,-4.446616,-4.2829814,-4.602119,-4.317115,-4.7520366,-4.694731,-4.227085,-4.2115607,-5.239898,-4.40179,-4.5156207,-4.4612656,-5.741893,-3.9440005,-4.2947617,-4.5363235,-4.635832,-4.0755787,-4.625777,-4.164119,-4.480358,-4.0071883,-4.7333326,-4.3112135,-4.3196707,-5.26704,-4.589952,-4.6305304,-3.9264927,-4.581085,-4.200901,-4.4821086,-4.5676622,-5.276553,-4.2515993,-3.9810631,-5.200461,-5.081025,-4.3953447,-4.558855,-4.345211,-4.218546,-4.604983,-4.0347815,-4.5656495,-4.6401267,-4.4074244,-5.359628,-4.2767544,-4.931735,-4.4094925,-4.845096,-5.1241713,-5.120899,-4.6939263,-4.575435,-4.050585,-4.4338427,-4.131491,-4.4456778,-4.98132,-3.9942577,-4.859139,-3.9889672,-4.288195,-4.35635,-5.1603613,-4.2100673,-4.6335807,-5.083505,-4.4359884,-4.167698,-5.0286627,-5.473543,-4.4478984,-5.110659,-4.55324,-5.008417,-3.9936516,-3.9557602,-4.5897346,-5.086058,-4.630435,-4.603313,-4.065488,-4.220119],\"xaxis\":\"x\",\"y\":[11.833197,10.804399,11.205378,12.386991,11.9074,12.719074,11.622282,11.976112,12.222477,12.814166,13.196085,13.360041,10.9766245,10.867766,11.381744,11.797694,12.97652,12.774628,13.209302,11.991539,11.685654,12.202352,11.792457,10.037469,12.197571,12.385102,11.279889,11.629553,11.206965,10.9232435,10.526606,12.841211,13.241401,13.334428,13.199856,12.038596,12.102065,11.401476,11.151286,11.881357,11.612129,11.443692,12.486263,11.305381,12.909131,12.662595,11.459074,13.268331,13.007915,12.013354,12.270411,11.588989,10.190961,12.996854,12.005822,12.183959,12.040538,12.271311,13.026424,11.925955,11.202492,13.186818,11.942613,11.364115,12.196112,12.315729,11.742477,10.717357,11.188002,12.232962,11.04364,11.689144,11.682105,11.476455,13.241954,12.324658,11.424537,13.313515,12.331701,11.461311,10.835905,11.869673,11.741459,11.722202,10.708167,12.957553,12.06892,12.978445,12.732377,11.909841,11.882263,12.785014,13.124897,10.367293,12.033754,12.424347,11.448105,11.554694,13.184471,11.145461,10.614699,13.146766,12.801659,10.820834,12.660309,11.59509,12.207185,13.169131,12.814108,11.107033,12.015508,11.825835,11.566791,11.555203,13.246915,11.767049,12.194709,11.564576,11.493656,13.040581,11.185434,11.468078,13.149752,11.889219,10.430418,11.763115,13.382491,13.2142725,12.728908,13.225683,12.594969,11.762293,11.807411,11.787492,13.199082,12.607976,9.5365715,11.817836,11.73224,12.928923,11.968302,11.36526,11.815393,13.0828,11.882338,13.245954,13.294626,11.346717,12.206832,13.287132,13.277671,11.869909,12.286391,12.249981,12.933,11.464624,13.056586,12.53753,12.83075,12.495192,12.348698,13.291483,13.10422,11.919837,13.220663,11.4023,13.040824,11.656282,12.437754,11.498111,13.300104,12.417323,11.264355,11.50798,11.730514,12.953016,11.684048,12.439941,11.596716,13.15613,12.023585,10.758985,13.018209,13.352038,10.889451,11.095063,13.415072,11.637236,12.385052,12.517569,13.421537,13.341729,11.787942,13.100743,13.299077,10.716769,13.225168,11.793237,12.216663,11.273045,11.842499,13.198483,12.274821,13.212951,12.74351,11.246824,12.554054,11.362732,10.352999,12.720479,12.543567,12.573277,12.540787,10.969194,11.9560585,13.301574,12.572473,12.889358,13.266813,13.306256,11.487818,11.895544,12.351502,12.191988,11.398233,13.280739,11.148124,10.706938,12.590948,13.15276,13.105365,12.69129,11.654568,13.017138,12.956006,12.208041,11.665164,11.933658,11.907969,11.615447,12.190419,11.947144,11.26617,12.633416,11.783198,12.803999,13.301498,10.042087,12.96142,11.734013,12.955209,12.087459,12.92914,11.827194,10.653473,12.969709,12.044885,13.184039,13.361821,13.159915,11.102368,11.626247,12.566397,11.104531,13.277122,13.05918,10.366614,11.561582,11.151909,12.492906,12.26613,11.422507,11.241598,12.139129,13.019114,11.71292,13.1622925,11.82021,11.559724,11.188499,13.300899,12.147995,11.418749,13.062418,11.636698,10.505687,13.021275,12.842078,12.317867,12.2588825,12.53212,12.553531,13.292856,12.616608,10.967263,13.193952,12.736482,13.165597,12.238082,13.162199,12.728622,11.818028,10.414624,13.196961,12.906483,13.21495,12.613105,13.285252,12.813981,10.824434,10.999375,13.416942,11.111047,13.442683,12.782877,12.122567,12.848149,13.279949,13.258385,11.226255,13.2416725,10.8274355,11.103339,13.254117,11.109023,12.865739,11.108749,11.816835,10.511694,12.2340975,10.897697,11.539132,12.190339,10.774525,13.211626,12.833844,12.70111,12.216524,12.162803,13.365083,10.445598,12.3538,11.787778,12.87778,12.169742,11.201834,11.004901,12.196889,12.609725,11.857324,10.728658,12.575537,12.416663,10.95106,12.202666,11.815836,12.163965,12.687194,11.8680105,11.507166,12.892635,11.473593,12.483959,12.307529,11.049692,13.251615,13.242119,11.6955,13.315884,12.292405,12.588091,10.100728,10.92269,12.373558,12.588507,11.339783,12.128222,13.156853,11.325279,12.40181,12.405948,13.362388,11.915356,10.88866,13.249514,11.600734,11.624761,13.22896,11.839439,13.311981,12.548482,13.403881,12.099318,12.516782,11.635469,11.28686,11.68968,12.5871,11.551548,10.306742,12.317397,10.999125,11.364514,12.7175665,12.871875,12.625082,12.286699,13.226417,11.19179,13.097735,11.566433,12.750953,12.256588,12.886209,12.244803,11.984672,13.262329,13.136348,11.296226,11.259342,12.18211,13.420133,11.595609,11.766396,11.694687,11.172365,11.852021,12.910539,12.225447,11.341947,10.181943,13.22379,11.2886,13.194994,12.240068,13.039234,11.952926,12.671213,11.955835,10.341463,12.823717,12.162851,13.37623,13.169375,10.936571,11.96267,11.526663,11.45328,13.298877,13.052191,13.289138,11.639091,11.383395,12.798924,11.252808,12.957581,11.494457,12.744231,11.866636,11.514672,9.747933,12.757599,12.928102,12.162058,11.110023,13.155668,12.889797,11.831338,12.319186,12.856027,10.165371,13.2032175,12.58411,12.053955,10.238109,12.205572,12.188414,11.092858,11.776703,11.496596,13.314829,12.423204,11.577701,13.281724,11.448588,13.287246,13.120973,12.839193,11.832294,11.904534,11.32641,12.760123,13.312464,11.303169,11.313043,11.762067,11.6181755],\"yaxis\":\"y\",\"type\":\"scattergl\"},{\"hovertemplate\":\"leiden=5\\u003cbr\\u003eUMAP-1=%{x}\\u003cbr\\u003eUMAP-2=%{y}\\u003cextra\\u003e\\u003c\\u002fextra\\u003e\",\"legendgroup\":\"5\",\"marker\":{\"color\":\"#222A2A\",\"symbol\":\"circle\",\"opacity\":1,\"size\":1.6497729812340491},\"mode\":\"markers\",\"name\":\"5\",\"showlegend\":true,\"x\":[-3.9490538,-3.5295923,-2.75149,-4.1477895,-2.998685,-3.4956532,-4.371963,-3.356204,-4.344432,-2.892544,-3.5872347,-4.088477,-2.8615968,-2.80271,-4.794043,-3.7413185,-3.2243836,-3.989215,-2.8726697,-3.5971048,-3.4676197,-4.121657,-3.0353498,-2.7763999,-3.3416479,-3.536708,-4.1479373,-3.9339762,-4.0198984,-3.3011246,-2.8207648,-2.593924,-2.9133427,-3.6502302,-4.059478,-4.3347464,-4.0719314,-3.2861087,-4.1219716,-2.9016616,-3.9775712,-3.4224963,-3.055066,-3.260887,-4.137995,-4.055581,-4.37308,-2.614171,-3.070427,-2.9793377,-4.055785,-4.1017995,-4.2703304,-4.006376,-3.9988732,-4.26602,-4.016368,-3.9343581,-4.1417727,-3.7906756,-4.1282234,-3.164328,-3.338711,-4.4224467,-3.7992172,-4.2572947,-3.8497243,-2.6972942,-4.419892,-4.077802,-3.4669206,-3.2394936,-3.6309571,-4.337705,-2.8565843,-4.1704745,-3.167747,-3.9490204,-2.8598385,-3.565547,-4.2504525,-3.6064138,-3.3617654,-3.8748224,-2.9248722,-4.0512643,-4.0540466,-4.567124,-4.416523,-3.9658673,-3.9883995,-2.8200946,-4.0644875,-3.7935357,-4.101868,-4.051349,-3.5501533,-3.1316588,-3.7037342,-3.5673997,-3.6762006,-2.5331993,-2.8121645,-3.9878836,-4.2394648,-3.1049826,-3.1061249,-3.695671,-3.596941,-4.1688266,-3.3982198,-3.6806345,-3.8241253,-3.7891498,-4.26382,-3.7926004,-3.6845925,-3.1870112,-3.6693864,-4.3522406,-3.3933952,-4.3206964,-4.204236,-4.126567,-3.0876236,-3.4887927,-4.0010104,-4.3874965,-4.17559,-3.976225,-4.07945,-3.269255,-4.2150097,-4.4176073,-3.8354187,-3.7370443,-4.558115,-2.9255536,-4.2093797,-2.9011636,-4.1651316,-3.2861595,-4.2408137,-3.2645805,-3.1919887,-4.2296863,-3.645716,-3.26059,-3.2210703,-3.4204593,-3.4461327,-3.3642218,-3.8883543,-3.6859488,-4.3996754,-3.9652,-4.024472,-4.5567923,-3.7551513,-3.282227,-3.5426762,-3.5990067,-3.0712392,-4.307502,-3.1750238,-3.3747258,-3.7773795,-3.1457849,-3.7516694,-3.5259364,-4.1674776,-3.6665964,-3.32803,-3.6353247,-2.7686095,-3.5975,-3.7808907,-2.5707066,-4.184022,-3.3030112,-4.0515885,-2.6824353,-2.4100165,-3.9213426,-4.060587,-2.9739354,-4.56482,-3.9863303,-3.8911061,-3.2632036,-3.2980323,-2.674121,-4.4320374,-3.4391413,-4.059109,-2.9983013,-3.5603764,-3.2764177,-3.2771876,-3.8918815,-4.3185205,-4.5741143,-3.3342223,-4.228727,-4.253187,-3.4084425,-3.3526485,-3.853003,-2.969815,-2.9026527,-4.3673472,-3.073716,-4.1676965,-3.0235941,-3.3733172,-4.356833,-2.9954379,-4.307424,-3.5597389,-2.8533306,-3.1240377,-4.3052964,-3.3947515,-3.2927978,-3.9874434,-3.5643225,-3.807439,-4.0324416,-4.00173,-3.7524598,-4.1212068,-3.7557309,-3.354975,-2.503483,-3.7205968,-4.355633,-3.9638805,-3.5027215,-3.948359,-4.312922,-3.5653338,-3.7813637,-2.9762518,-2.8618279,-4.6672087,-3.2485137,-3.3263714,-3.9799037,-4.1708674,-4.1403046,-4.4134946,-3.531634,-4.317187,-2.924054,-4.0870395,-3.9356987,-4.4224877,-3.8288872,-3.646269,-3.938745,-4.491427,-4.393044,-4.0007353,-3.147102,-4.0823545,-2.8464034,-2.912695,-3.188071,-4.198215,-3.5901406,-4.0221086,-3.5350018,-3.8242066,-3.1875956,-3.9390767,-3.1797876,-2.7540205,-4.6590886,-3.522251,-3.54096,-3.6974788,-3.3781247,-4.354889,-3.603839,-2.9500313,-3.171374,-3.2256982,-3.887368,-3.1439083,-2.8417263,-4.3427224,-3.2464466,-3.5171616,-3.8573809,-3.4122398,-2.8920891,-3.9168243,-3.6996014,-3.2534409,-3.1813846,-3.4736788,-3.9279091,-3.4674673,-3.7162375,-3.672186,-3.1128023,-3.3695216,-4.0381556,-3.036026,-3.5295193,-3.9039242,-3.255796,-3.5134144,-4.2272754,-4.317974,-4.605505,-3.8799357,-3.518084,-3.9645467,-4.1575775,-3.5327654,-4.010733,-4.0012736,-4.4187675,-3.7127707,-3.9441175,-4.0987654,-3.0090714,-2.5293362,-3.8666904,-3.971754,-3.8695984,-3.57131,-4.218399,-3.311567,-4.054179,-4.0297365,-4.1120734,-4.040268,-2.6427062,-3.4100842,-3.587696,-2.7560406,-3.9421754,-4.673405,-4.43927,-3.896764,-3.1671038,-2.938412,-3.0247755,-2.6286352,-4.4706354,-3.1424756,-3.3730493,-3.9396932,-3.588235,-3.4317684,-3.2309747,-2.450722,-4.6281366,-3.5404317,-3.0169792,-3.0852542,-3.6345725,-3.7272973,-3.4988241,-3.567894,-3.8197825,-3.2338645,-3.4832397,-4.0383873,-3.1206112,-4.5524945,-3.765427,-4.165837,-3.23609,-2.646829,-2.90328,-3.0916276,-2.9250162,-3.9764707,-2.9849086,-2.7017658,-3.9066947,-2.6423306,-3.747397,-3.306725,-3.5512123,-3.8838685,-4.297106,-3.0760524,-3.368994,-3.661517,-4.2699943,-3.031899,-3.1472497,-4.225608,-4.3584614,-2.984568,-4.0621805,-4.098142,-3.9587262,-3.261766,-4.0129538,-3.8262336,-2.8258326,-2.527272,-4.3863807,-3.9708967,-3.4287872,-3.937508,-2.5980709,-3.5112128,-3.9121997,-4.0380335,-3.7169223,-3.942768],\"xaxis\":\"x\",\"y\":[6.813333,5.7899156,4.4115663,5.491752,6.1518555,5.513824,5.1238337,6.099976,5.103249,4.0871444,4.880626,5.4971857,4.151547,6.2339926,8.954312,5.199114,4.33579,6.995903,4.1886578,4.5530148,6.548666,5.539845,4.7650385,3.9899564,3.9863248,5.4437423,5.2756615,3.9224062,8.039753,5.8270364,3.0741024,4.3250427,4.3384943,5.6582603,5.4793615,8.215311,8.412838,6.2265635,7.6719236,3.4817948,5.393997,5.320469,5.3858805,5.8361197,6.345054,7.2103944,5.1557555,7.0792675,4.2171206,6.6049643,5.805018,5.320773,8.361587,7.0046773,8.207459,7.811139,6.3994727,5.3763413,7.9702907,3.4967146,8.208482,7.1974287,5.4477973,8.082423,3.345927,5.221203,6.8136115,4.181971,8.419277,6.5774817,4.605412,5.846985,5.6016865,8.114041,4.344594,5.5117817,4.3124037,6.725454,4.879065,5.814968,5.4802055,4.167839,4.1849117,3.156604,3.758874,8.544052,7.7525883,8.821698,5.3877225,6.54913,6.844589,3.7192707,5.374733,5.3437395,5.307214,7.1190205,4.777326,6.2573276,4.988004,4.9633217,7.4901433,3.4013884,5.053056,6.882725,7.3161097,4.284958,6.49316,3.9203367,3.4692538,7.2174525,5.726025,5.8605857,7.91416,3.4187784,5.3005967,3.3661683,8.286287,5.1764946,5.282647,5.0596023,5.934935,5.2160177,5.420872,5.4563303,4.601115,5.6530294,6.94332,5.113627,7.2394805,4.1169825,6.443711,6.972906,8.234117,5.086626,7.3099203,5.075069,8.6863,4.4460535,5.12141,6.2948403,7.9775524,4.3341155,8.109699,3.4696753,4.4581776,5.3886037,3.811043,6.8609962,3.9994316,5.6132455,5.4878798,5.9820566,7.8543444,5.279339,5.397526,6.371409,8.069843,8.550091,3.8280973,6.617725,4.7725244,6.481469,4.2057233,5.1443286,7.567588,5.639097,3.8425944,3.2676759,3.4359775,4.040907,5.3874154,5.138135,5.9168153,5.2884593,3.949086,4.0070677,6.1063957,4.647684,5.2404146,6.559004,7.4525986,4.3221846,4.1680727,7.578649,8.389786,4.771301,8.653124,6.3077307,7.7943525,3.5495832,5.9338784,4.6031866,10.010323,6.940475,8.311567,4.1995792,5.858588,6.4960575,6.1603713,8.260744,8.292088,8.822132,5.63535,8.136994,5.4610043,4.6677594,4.008046,5.871438,6.448672,4.3427534,8.558022,3.5880177,8.361246,4.5490427,3.8508148,5.1422896,6.1761627,8.365117,5.2161646,4.705161,6.002929,5.222756,6.175523,6.4572983,6.3632493,4.314505,3.4579873,7.9777827,4.131695,4.103593,5.55041,3.6475353,3.036668,3.7731464,3.787678,5.0699296,8.048165,5.835242,7.6933465,5.219499,3.7147372,8.355335,5.151439,6.2583504,8.715339,5.575075,5.3392706,8.778949,7.9105043,7.980591,5.1139226,6.2665825,5.511877,3.826515,7.8003798,4.0835695,5.1240487,6.1570487,5.0938253,6.213491,5.4181657,5.0365047,6.3452144,5.5139637,5.4295216,4.102207,6.442511,3.8360958,5.3920274,3.9817157,8.072481,3.831564,7.5210156,5.415815,8.156199,4.3365912,4.588717,8.861528,5.715861,3.908168,6.165509,5.7174983,8.055587,4.391556,6.1677895,6.5658526,5.3768673,7.828149,5.397805,4.0968075,8.494533,3.5263457,4.703027,8.223337,3.0503619,6.2303634,7.832039,5.15325,3.4692612,5.258112,4.4981446,6.7515426,6.975792,5.6268373,4.9941974,3.6264162,6.694456,7.9179254,4.038189,5.7212396,7.822434,5.988431,3.7912085,8.513843,5.282259,8.569692,5.281875,6.733771,8.162683,5.7904725,5.0441184,7.2198353,6.0685973,5.114936,8.328471,5.3710136,8.274366,4.3615355,4.4331365,6.8345475,6.88421,6.417014,4.4338603,5.4198422,5.4700503,6.9973106,7.0755672,5.1895776,5.5027924,4.7283854,3.6735923,4.3469677,4.940169,8.097013,8.661425,7.853626,8.118188,3.5675054,6.6192408,4.181272,3.9831278,8.462118,6.247245,5.433973,5.5869985,3.8416815,4.642117,5.200004,3.9164326,8.865413,5.285106,6.12439,6.6220555,3.4564424,3.4604635,5.1542444,5.8763294,7.288808,5.523766,4.5450563,7.5315027,4.3680677,8.622183,5.88214,7.550896,4.401642,3.6023533,4.14001,5.217321,4.1238403,7.3426704,6.3825574,4.058647,7.784436,4.307952,7.806021,3.2972348,3.9510505,7.098592,8.243408,4.682817,5.7708597,6.2803755,5.316148,3.7103748,3.3695276,7.8492966,5.086074,4.793254,7.580096,8.527317,5.042181,3.315446,7.144834,5.723037,6.2612205,3.6050777,5.088017,6.766016,5.3187113,5.3280206,4.7193046,5.7219005,6.2329736,6.339294,5.828537,7.776095],\"yaxis\":\"y\",\"type\":\"scattergl\"},{\"hovertemplate\":\"leiden=6\\u003cbr\\u003eUMAP-1=%{x}\\u003cbr\\u003eUMAP-2=%{y}\\u003cextra\\u003e\\u003c\\u002fextra\\u003e\",\"legendgroup\":\"6\",\"marker\":{\"color\":\"#B68100\",\"symbol\":\"circle\",\"opacity\":1,\"size\":1.6497729812340491},\"mode\":\"markers\",\"name\":\"6\",\"showlegend\":true,\"x\":[4.367241,5.0222893,4.9350753,3.9697251,4.8488984,4.401085,4.701357,4.354003,4.57168,4.877423,3.9618838,5.07471,5.5387435,3.9042315,4.607882,4.2454004,4.091534,3.93127,4.9984956,5.059986,4.6978726,5.0336094,4.6885934,4.8665714,4.782173,5.0104823,5.011968,4.5129013,4.5857177,4.2757626,4.0584373,4.4947743,4.3252783,4.291601,4.612033,4.586164,4.281426,4.7513113,4.0175924,3.8977408,4.974611,5.103961,4.1417723,3.9757488,4.998707,4.299988,4.268642,4.563296,4.932879,4.766968,5.1173787,4.6285696,4.9023876,5.558374,4.4163227,4.2421904,5.6388216,4.3398614,5.580888,4.247623,5.0577564,5.180176,4.3049345,5.233825,3.9527464,4.597469,4.2462544,4.8850045,5.165162,4.4698772,4.476397,5.148915,4.904502,4.6536765,4.4078436,4.3883557,5.0899825,4.0106764,4.804589,4.831895,5.5450225,5.556448,5.3346453,-3.9058564,4.6706467,3.9347293,4.7540717,5.455509,5.346803,4.2447186,4.3714647,4.258615,5.539809,4.958769,5.5281115,4.571461,4.3496313,6.6074753,5.4625063,4.971509,4.3901916,5.4477167,4.329849,4.3039002,3.8939893,5.0973415,4.002386,4.983883,3.9726472,4.029599,4.938908,4.9493365,4.342645,4.73954,4.4014506,4.03753,5.515632,5.565713,4.847538,4.8793297,3.9872422,4.8827214,4.9273615,4.978503,4.1368537,5.5716276,4.581789,4.759111,4.7772455,5.312622,4.2843432,4.439314,4.9033275,5.042272,4.995952,4.6789327,4.047476,4.199384,4.3267817,4.6291046,4.429615,4.7697845,3.9014158,4.55635,4.5213456,5.22066,4.231689,3.9082136,5.4208217,4.656487,5.188947,4.9023595,4.9287343,5.1507254,4.8120193,4.394543,4.300578,4.376185,4.305182,4.4789977,4.272178,4.3270535,4.183383,4.7044997,5.494471,4.333479,4.8564353,4.682184,4.779066,4.2520933,4.674563,4.707878,4.4077635,4.9942665,5.3950467,4.389226,5.1016426,4.4872537,4.501844,5.010088,4.1066136,5.0787,4.4629693,4.5609875,4.2311363,3.993034,4.646847,4.347168,4.7077985,4.873158,4.0922394,4.112138,4.714531,4.7304573,4.4984765,4.5588603,4.8783183,5.0034103,4.559794,4.341044,4.6430573,4.6535106,4.44078,4.453325,5.034088,5.155501,4.496456,4.441059,4.4388204,4.990898,4.0899816,4.765592,5.4686384,4.2637935,4.7163506,4.4920774,4.3908253,4.1476655,5.5091133,4.653564,4.7000465,4.453996,4.9835634,4.322349,5.465163,4.578362,5.030656,4.4681115,4.244742,4.5906634,4.256686,4.4320264,4.2542787,4.634775,3.9689136,4.271216,4.716712,5.153721,5.3937783,4.7414804,4.5398784,4.081643,5.247004,5.1817546,5.0005484,3.9227264,6.646349,3.8419108,5.0054746,-0.7414012,5.3218617,5.1890254,4.339088,5.2722144,4.2183943,5.011329,4.898516,5.0891914,5.421206,4.7280784,4.4622183,4.186093,5.3158336,4.525703,3.997189,3.9721923,5.111539,5.212383,6.6787124,4.3496337,4.7507167,4.3011127,4.999795,4.495471,4.072171,4.7874713,4.3095074,5.138078,4.4646387,5.059465,5.285352,5.0430975,4.217618,4.4603143,4.718736,5.2767825,4.9032173,4.759556,3.9959393,5.5634456,6.6909556,4.622623,5.460766,4.7916727,5.271039,4.554067,4.316457,3.976861,4.2680774,4.52715,5.0284514,4.211724,4.110408,5.5668936,4.5526323,3.9723098,4.8418546,5.1654954,4.636007,5.0448027,5.3575125,4.8480496,4.5365334,5.4478116,5.080246,5.5985837,5.160617,3.9465601,4.292903,5.1991863,4.4661217,4.6815696],\"xaxis\":\"x\",\"y\":[13.44493,13.812117,14.29699,13.730766,14.125138,14.132289,13.736175,13.352025,13.165881,14.339669,13.557378,13.476427,13.222297,13.610125,14.285498,12.996743,12.891103,13.577005,14.464315,13.465878,13.696035,13.536202,13.922065,13.743275,14.25331,13.631336,14.345192,13.8483095,14.18416,13.576096,13.647078,14.411496,13.761603,13.450265,14.287188,13.645704,13.124137,13.882818,13.601353,13.625961,14.282789,14.214904,12.917305,13.542867,14.304495,13.343729,13.043703,14.297501,14.371188,13.704243,13.971951,13.629758,14.223698,13.224259,13.93861,13.701259,13.114298,13.44632,13.213726,13.526665,13.468587,13.401668,13.093766,14.029777,13.618582,14.098823,13.482302,13.59734,14.166458,13.393208,13.663188,13.997132,14.257923,14.141404,13.639483,13.585487,13.777201,13.53218,13.703336,13.346081,13.270049,13.209911,13.499914,3.977754,13.833228,13.58844,13.907406,13.407584,13.307158,13.500377,13.458851,13.004009,13.231078,13.876443,13.237183,13.690175,13.494612,13.621094,13.335123,14.359979,14.311174,13.430375,13.149043,13.794373,13.714478,14.177381,13.606272,13.68328,13.536326,13.574424,13.750326,14.393783,13.509352,13.902694,13.43928,13.42452,13.252231,13.218356,13.794459,14.189358,13.615144,14.335311,14.218164,14.37207,13.636243,13.2362175,14.130584,13.760777,13.759106,13.340367,13.029977,14.384521,14.252979,13.774747,14.172132,13.947198,13.7505,13.586496,13.456253,13.565595,13.533162,13.779556,13.5764065,14.367526,13.402153,13.624586,12.970641,13.673392,13.651669,14.295856,13.901843,13.852477,14.456576,14.103105,13.793643,13.555481,13.988559,13.324789,13.087089,14.243149,13.036168,13.430788,12.970068,14.300989,13.369663,14.194288,13.52568,13.704184,14.321691,13.17251,13.866568,13.708491,13.944735,14.278634,13.406771,13.700993,14.260837,14.059238,13.837205,13.592438,13.493888,14.191052,14.241028,13.190218,13.844998,13.518243,13.836596,13.845384,13.653187,13.465788,13.537143,13.406246,14.41407,14.034069,13.394712,13.54502,14.00011,14.327037,14.187222,14.229998,13.299807,13.810909,13.158086,14.250996,13.864662,14.263611,14.2248,13.405583,13.384836,13.384166,13.566359,13.654628,13.374593,13.041961,14.2733755,13.955941,14.366507,12.926544,13.268991,14.175624,14.13652,14.069437,13.602402,13.713845,13.352734,13.649221,13.459015,14.194034,13.700324,14.209664,13.680988,14.373508,12.983309,14.150955,13.8329,13.596103,14.431684,14.197221,13.358828,14.204693,14.106802,13.602924,13.617169,13.728365,14.11149,13.5872345,11.844126,13.776374,14.419265,4.5124297,13.996653,13.727122,14.306192,14.042697,13.539213,14.361075,13.418856,13.473342,13.3455715,14.130975,13.901878,13.885001,13.327234,14.393348,13.676786,13.556512,14.300086,14.007207,11.809844,13.52798,13.761704,13.770652,14.369646,13.277895,13.827155,14.257465,14.058673,14.179808,14.105808,14.364059,13.39304,14.318001,13.748085,14.079239,13.94378,13.519214,13.578982,13.750315,13.557996,13.221365,11.786146,14.150826,13.444388,13.790112,13.443658,13.164838,13.189034,13.702389,13.76558,14.1141615,14.012931,13.649718,13.499626,13.210011,13.197583,13.711724,13.808538,13.581314,14.19471,14.290696,13.893787,13.84972,13.728913,13.435279,13.529765,13.18865,14.163634,13.608151,13.033331,14.152341,13.623785,14.213999],\"yaxis\":\"y\",\"type\":\"scattergl\"},{\"hovertemplate\":\"leiden=7\\u003cbr\\u003eUMAP-1=%{x}\\u003cbr\\u003eUMAP-2=%{y}\\u003cextra\\u003e\\u003c\\u002fextra\\u003e\",\"legendgroup\":\"7\",\"marker\":{\"color\":\"#750D86\",\"symbol\":\"circle\",\"opacity\":1,\"size\":1.6497729812340491},\"mode\":\"markers\",\"name\":\"7\",\"showlegend\":true,\"x\":[-3.034703,-3.7158425,-2.950445,-2.9845545,-2.4426,-2.814893,-3.1579063,-4.075111,-4.0772204,-2.3673222,-3.5184424,-3.875829,-2.6851614,-3.245622,-3.554588,-3.365936,-3.87463,-4.0773106,-3.711471,-2.4286485,-2.5887103,-2.5375137,-2.484738,-3.8203604,-2.8937128,-3.0364146,-3.9804022,-3.2602043,-2.509288,-3.4444733,-3.7155666,-4.038575,-3.626491,-3.9882905,-3.947278,-2.515136,-4.0912657,-3.2749202,-3.946722,-3.0747895,-2.442495,-2.9571028,-3.680612,-4.0136166,-3.0071108,-3.100344,-3.032935,-3.997967,-3.2906606,-2.1339126,-3.8845916,-2.9962244,-3.3723633,-3.0363595,-3.2991424,-2.7521389,-2.6008573,-3.0302315,-3.4463506,-3.1796927,-2.868038,-3.984356,-3.5352845,-3.7472675,-3.977858,-3.7136602,-2.7676594,-2.6405919,-3.784378,-4.049123,-3.0397744,-2.8507075,-3.7301154,-2.3752072,-3.8657377,-3.7515013,-2.8185155,-2.968186,-3.7280104,-3.4444149,-3.9306285,-2.9729502,-4.0864463,-2.976812,-3.8169122,-2.995078,-3.3710275,-4.0522447,-3.157776,-2.6279318,-3.8662846,-2.887221,-2.434916,-3.9454079,-3.6487153,-3.1205726,-3.136606,-3.8339684,-2.6582122,-2.6235912,-3.9969454,-4.069829,-2.7187777,-3.1173272,-2.6735837,-2.7497318,-3.4812126,-3.7503862,-3.860767,-2.7417953,-2.9665232,-3.137563,-4.0036397,-3.903943,-3.1063263,-3.616703,-2.7507596,-3.610013,-3.0146906,-3.3540149,-3.3298538,-3.2538238,-3.0212934,-3.8514953,-3.1310441,-3.9513016,-3.0486262,-4.0436883,-3.4089403,-3.8214445,-3.0634508,-3.7495642,-2.5770183,-3.0094845,-3.0619826,-2.980825,-2.828986,-3.7765405,-3.8834882,-3.819753,-2.7453887,-2.678805,-3.0618238,-3.7059855,-2.932623,-3.7330263,-2.9801018,-4.0657315,-3.7971914,-2.2492487,-3.811666,-3.0868206,-3.101925,-2.4746492,-3.0006566,-3.875058,-3.567196,-3.3412502,-2.6183279,-3.2423196,-2.631815,-2.9795456,-3.3449962,-2.8045325,-3.8351445,-3.2063391,-4.0764356,-2.9022908,-4.0246925,-3.1290402,-3.1127684,-2.6291587,-2.9880028,-2.9712405,-3.682858,-3.6989524,-4.0907106,-3.1042051,-2.6451638,-3.7392807,-4.0328937,-2.9113858,-2.737027,-2.9709048,-3.8776412,-3.7874844,-2.7923799,-3.3294594,-3.4027033,-3.0000706,-2.4919062,-3.0191312,-2.4969525,-2.631615,-3.9538062,-2.9598722,-2.9768121,-2.5080423,-2.0475342,-3.7618172,-3.8313708,-3.0106673,-3.0564163,-2.7737823,-3.1263235,-4.0506454,-3.405874,-2.9628894,-2.6052794,-2.305644,-3.839642,-3.383677,-3.0509696,-3.059243,-2.986288,-3.9323137,-2.7381992,-3.560799,-2.9906712,-3.7477524,-3.8345156,-3.1886065,-3.1600218,-3.0865896,-2.9983194,-2.9680996,-3.546895,-2.456314,-3.9884918,-3.1729722,-2.5768697],\"xaxis\":\"x\",\"y\":[1.051034,2.3151722,1.0102612,0.96716636,2.5369942,2.0151145,2.0213447,2.0727253,2.1744683,0.841559,1.3190118,3.5072877,1.0767211,1.775913,1.6708795,1.5090011,2.491666,2.083676,1.4352658,2.3222055,0.87452996,2.7032595,2.5286193,2.9384549,1.0867016,1.8140763,1.907297,1.2001749,2.0639904,2.5545309,2.5215094,2.0956807,1.3678046,1.9256972,1.840685,0.8736873,2.0688286,3.3305185,1.9365641,3.0286396,1.9130946,0.9805173,1.41595,2.0633788,2.6682673,1.1158365,2.4758434,1.9669812,1.294506,2.8902762,2.537835,2.6042295,1.4545224,3.1938617,2.2264445,1.0900514,1.1143907,1.8457406,2.3405018,1.7295033,1.0987607,2.1327813,1.4455565,1.7172965,2.0320365,2.2048855,2.749449,0.99637526,1.7276309,2.0766902,1.0620165,2.712916,1.4503683,2.6374598,3.5638745,1.8351879,2.38551,0.9842078,1.4789016,1.5404929,1.9913728,2.6615107,2.0963926,0.98078537,2.5334306,2.8673315,2.7431185,1.9348156,1.1474395,2.4552422,2.9899693,2.4395494,3.0617566,1.9629866,2.3545787,1.625005,1.1697237,3.538524,1.8830522,2.248109,2.39856,2.0938263,1.3165629,1.102362,2.4093432,1.8180206,2.3433993,1.763621,2.642892,0.9183752,1.0195414,3.0784535,2.3774645,2.1164443,1.1287975,1.450181,2.2723012,1.6276625,2.5434067,1.4859227,1.3707912,1.4572507,2.5961213,2.829921,1.1501762,2.6456761,2.577638,2.0849123,1.9071059,2.5487018,2.5357988,1.754462,2.1290658,1.1100096,1.064076,2.5924897,2.5095546,1.5195516,2.9649568,2.5945685,1.1695379,1.8861381,3.0903728,1.4350083,1.0140514,1.4491569,1.8136841,2.0571334,2.1304703,2.4878592,2.6151354,2.6240919,1.1166704,2.0363495,0.9849505,3.0723197,1.5139625,2.2932193,1.0441141,1.656008,1.9562937,2.7615278,2.8017294,1.8366479,1.919493,1.6177057,2.0808141,2.7481327,1.9529114,2.508207,1.148668,1.849067,2.5889122,2.5191581,1.6861824,1.66286,2.1449306,3.049289,2.4555032,2.4698691,2.0515254,0.9553253,2.2241108,1.006641,1.9128451,1.9576519,2.6364136,2.1645968,1.8327523,0.9565447,0.8653548,2.5296214,2.6773238,2.9420388,1.8926955,0.98417985,0.95780784,2.5286963,2.4284043,2.405898,1.9074451,1.0178362,2.5386546,2.092669,1.105482,2.0304222,1.2588726,0.97627646,2.4393415,2.4088376,2.251418,2.2793462,1.0601512,2.646624,0.9594076,2.6922638,2.4275842,1.330965,2.769723,1.4461721,1.8994453,1.3926696,1.2051122,3.1086807,2.8298037,0.9659385,1.6076124,2.5561574,2.0175765,2.6305923,0.8655958],\"yaxis\":\"y\",\"type\":\"scattergl\"},{\"hovertemplate\":\"leiden=8\\u003cbr\\u003eUMAP-1=%{x}\\u003cbr\\u003eUMAP-2=%{y}\\u003cextra\\u003e\\u003c\\u002fextra\\u003e\",\"legendgroup\":\"8\",\"marker\":{\"color\":\"#EB663B\",\"symbol\":\"circle\",\"opacity\":1,\"size\":1.6497729812340491},\"mode\":\"markers\",\"name\":\"8\",\"showlegend\":true,\"x\":[11.214964,12.643114,11.150821,13.188337,12.965908,11.458525,12.999326,12.664683,13.213931,12.501545,11.4745455,11.261525,13.184634,13.169743,12.678138,12.57373,11.26206,11.517388,13.242429,11.257207,11.452038,12.95721,11.443651,12.6846695,13.182551,13.130541,13.007919,12.151038,12.523653,13.136102,13.17641,13.207655,13.205046,13.282878,11.179409,11.473832,13.137769,12.6991625,12.711447,13.07739,11.166433,12.381145,13.212547,12.654283,11.182156,12.674629,11.362149,12.593567,11.240205,12.580324,12.527903,13.198537,13.241552,13.270316,12.67265,13.26887,11.443152,12.855006,12.676092,12.964204,11.207256,12.695066,11.304484,11.236056,12.720924,13.126969,13.218087,12.465542,11.528003,11.205649,12.418923,12.71001,12.676616,12.991185,12.731042,12.651238,11.3822775,12.678818,12.592612,11.477925,13.065292,12.488702,12.468632,12.745354,12.5009775,12.7370615,13.213754,13.317097,11.160404,12.616281,12.576452,13.331045,12.676566,13.085519,12.40999,13.193488,13.117803,12.767263,11.467489,13.281531,12.940935,11.412057,12.416323,12.993429,12.470659,11.477373,13.258262,12.826568,12.93759,12.912913,12.702425,13.142484,12.541646,11.416488,12.820867,12.4966,11.340475,12.594129,13.095404,13.103314,12.553688,11.3681,12.884884,12.564335,12.871112,12.728455,12.530425,12.5667,11.342259,12.797984,13.170028,12.717265,11.490814,12.582411,13.138816,12.543268,13.250895,12.894168,13.208233,12.859477,12.594316,11.368885,12.634118,12.7633915,12.565992,11.2609,11.153495,12.6030445,12.896859,13.214254,13.6730795,12.612132,12.74954,12.999936,11.490069,12.714206,12.542232,11.273713,12.701207,11.609025,13.188423,13.268049,11.256109,13.312424,12.468275,13.112602,12.675183,11.425339,11.170314,12.566204,13.246918,11.457218,13.033581,11.311414,13.042415,13.2416115,13.147218,13.116843,11.190818,13.230775,12.99857,12.873114,12.672026,13.018201,13.212416,11.397481,12.471693,13.273927,11.145941,12.759648,11.282806,13.282936,13.094153,12.604129,12.951191,13.180687,13.138163,12.76224,12.830163,11.344707,11.35903,13.3163185,13.672838,12.670321,12.678213,11.293155,11.390747,13.114675,13.24785,13.114802,13.171914,12.692851,13.125585,12.886346,12.611191,12.666472,13.121347,11.457018,11.307069,13.122761],\"xaxis\":\"x\",\"y\":[-1.9278815,-2.046425,-1.9708121,-2.0904157,-2.4966931,-1.7471769,-2.0614772,-2.0299058,-2.210963,-2.045376,-1.7419221,-1.891632,-2.238155,-2.226677,-3.312224,-1.9084185,-1.898909,-1.7204614,-2.3834772,-1.9027189,-1.7608767,-2.2571542,-1.7299842,-3.2993257,-2.1443675,-2.3281004,-2.3642838,-1.90089,-1.9299209,-2.2475681,-2.347383,-2.3813972,-2.345654,-2.193143,-1.9485756,-1.729534,-2.3063967,-3.1683788,-3.1464992,-2.4113631,-1.958078,-2.0373867,-2.2284677,-2.1057987,-1.9443054,-3.3195198,-1.8006544,-2.0032065,-1.8962524,-2.1396523,-2.018112,-2.2640197,-2.359954,-2.152664,-3.3126178,-2.1056354,-1.7461295,-2.1850572,-3.303097,-2.0830688,-1.9387187,-2.1703231,-1.8386276,-1.9170371,-2.1733012,-2.1067836,-2.182667,-1.8847997,-1.7283465,-1.9197164,-1.9604145,-3.14884,-2.0149915,-2.094533,-3.07459,-2.207565,-1.7763757,-3.3018398,-2.0686004,-1.7510902,-2.0642867,-2.0130553,-2.0116348,-3.0106792,-1.9591657,-3.0398476,-2.3012853,-2.0837393,-1.9563684,-2.0832398,-2.0627062,-2.0385332,-3.315288,-2.1144423,-1.9579698,-2.2501128,-2.1127946,-2.1887906,-1.7889476,-2.1336486,-2.5091093,-1.7936143,-1.9943968,-2.3111644,-1.9662671,-1.7054054,-2.0774326,-2.3557584,-2.2672858,-1.9702271,-3.178953,-2.1972346,-2.0837562,-1.768119,-2.252925,-2.0285733,-1.8776699,-2.0905213,-2.133817,-2.3829465,-2.0510678,-1.7909273,-2.0210023,-2.0581746,-2.0803053,-2.2669978,-1.9501489,-1.9071653,-1.8074527,-2.6125898,-2.1194084,-3.11752,-1.7835474,-2.0540524,-2.245354,-1.9005897,-2.3841166,-2.4418542,-2.3017733,-2.3462658,-2.0841136,-1.7854267,-2.1043167,-2.0014641,-1.9086168,-1.8848861,-1.9652582,-2.0625021,-2.4983027,-2.2450137,10.176813,-2.2495873,-2.1625814,-2.4547408,-1.7550733,-3.1317837,-1.9286311,-1.901299,-2.0756595,-1.7915236,-2.1535547,-2.2630885,-1.874169,-2.0575361,-2.028277,-2.1199334,-3.3205767,-1.7302098,-1.9555447,-2.0366008,-2.1242483,-1.7202752,-2.1976147,-1.8394569,-2.4231308,-2.10697,-2.1838725,-2.2350721,-1.9359256,-2.233371,-2.3881485,-2.0172794,-3.3271253,-2.0732284,-2.269941,-1.7901678,-1.9741622,-2.1165519,-1.9735203,-1.9257032,-1.8875879,-2.0775883,-2.337691,-2.035377,-2.4922743,-2.37332,-2.3229394,-2.0651488,-2.223989,-1.8190497,-1.8270687,-2.0445106,10.254191,-3.3279722,-2.1214812,-1.8571739,-1.7666677,-2.1154478,-2.1093543,-2.1962442,-2.2567828,-2.0192,-2.246129,-2.2833712,-2.0674412,-2.1350927,-2.1771283,-1.7768083,-1.8821491,-2.4595344],\"yaxis\":\"y\",\"type\":\"scattergl\"},{\"hovertemplate\":\"leiden=9\\u003cbr\\u003eUMAP-1=%{x}\\u003cbr\\u003eUMAP-2=%{y}\\u003cextra\\u003e\\u003c\\u002fextra\\u003e\",\"legendgroup\":\"9\",\"marker\":{\"color\":\"#511CFB\",\"symbol\":\"circle\",\"opacity\":1,\"size\":1.6497729812340491},\"mode\":\"markers\",\"name\":\"9\",\"showlegend\":true,\"x\":[14.687878,14.275068,14.290037,14.412675,14.623535,14.328707,14.784353,14.410235,14.821013,14.333051,14.671364,14.468626,14.483665,14.650714,14.363714,14.480781,14.605321,14.281889,14.793289,13.71514,14.423791,14.759002,14.803396,14.351784,14.31923,14.489975,14.717643,14.317392,14.408662,14.420136,14.744211,14.273406,14.185944,14.405488,14.254791,14.297904,14.575385,14.703963,14.471218,14.678217,14.675484,14.294171,14.555561,14.316182,14.70271,14.7533455,14.762992,14.62089,14.247596,14.811255,14.651068,14.491162,14.455965,14.822241,14.366304,14.496439,14.715397,14.701135,14.447798,14.747748,14.763205,14.414641,14.593929,14.775058,14.289969,14.723504,14.3643465,14.332095,14.572268,14.646981,14.218402,14.347522,14.321632,14.712905,14.426828,14.85784,14.45462,14.241495,13.722918,14.246614,14.591324,14.70347,14.631032,14.259936,14.298054,14.594119,14.797504,14.355317,14.319426,14.615508,14.731067,14.415612,14.657355,14.660791,14.359168,14.328762,14.676991,14.707485,14.485672,14.549308,14.338471,14.368381,14.691459,14.686387,14.169087,14.74495,14.28506,14.618256,14.775677,14.307915,14.834151,14.539854,14.653449,14.497828,14.283763,14.316352,14.486285,14.612861,14.758524,14.35619,14.338633,14.519181,14.406248,14.201903,14.758238,14.251683,14.277623,14.527529,14.710119,14.6754,14.686941,14.285819,14.262145,14.417259,14.808429,14.650049,14.380299,14.233725,14.400454,14.759325,14.2336445,14.797023,14.820699,14.265401,14.337981,14.469045,14.681343,14.8295355,14.297939,14.28414,14.263762,14.772251,14.680411,14.214426,14.748662,14.305908,14.422532,14.68341,14.449392,14.443517,14.200484,14.498794,14.40153,14.361685,14.39742,14.35572,14.779418,14.531527,14.846014,14.238043,14.252079,14.5028715,14.525369,14.79538,14.311771,14.455805,14.24743,14.576758,14.512856,14.145876,14.773156,14.743262,14.854238,14.696871,14.740505,14.511248,14.272407,14.263068,14.327405,14.661232,14.360369,13.778351,13.721712,14.69361,14.353952,14.756308,14.3378315,14.32206,14.889883,14.875478,14.511128,14.592272,14.680215],\"xaxis\":\"x\",\"y\":[6.6393714,6.1370435,5.9881706,6.602966,6.3478675,6.090294,6.39911,6.022048,6.1575613,6.18577,5.976295,6.2768826,6.708659,6.157764,6.5777407,6.023444,6.0382066,5.9838,6.2324724,10.206568,6.717102,6.5711446,6.067584,6.3919144,6.6545887,6.015337,5.8883996,6.209622,6.4847517,6.3852806,6.762695,6.412806,6.2570252,6.782891,6.663335,6.448993,6.1278334,5.8803215,6.499165,5.9919534,6.5427756,6.7184954,6.678036,6.598246,6.7146544,6.300019,6.026243,5.927907,5.982752,6.3042903,6.039346,6.79232,6.1293864,6.366571,6.5108347,6.7871027,5.9069023,5.906684,6.006081,5.944991,6.1035357,6.3363814,6.5605865,6.248514,6.487471,6.204777,6.1384387,6.4542003,6.1436915,5.9724846,6.1614313,6.0166225,6.0251684,5.872041,6.2270365,6.18102,6.1512923,6.1246667,10.197982,6.6400533,6.205623,5.9848814,6.0138574,6.199784,6.726836,6.067482,6.528633,6.5990667,6.716348,5.911405,6.7949643,6.3808026,6.794302,5.8945727,6.3549953,6.064381,6.755104,5.869286,6.774273,6.8208237,6.54644,6.2017527,6.660297,6.0024567,6.2160726,6.532868,6.5020585,6.6752715,5.857634,6.378174,6.195275,6.137074,6.2031193,6.7313113,6.662352,6.5564613,6.727425,5.892045,6.598252,6.2546043,6.5189896,6.6675477,6.8130975,6.312382,5.9682016,6.6711493,6.7181144,6.6756687,5.880373,5.9851093,6.6678634,6.5869117,6.7064185,6.4271846,6.1088023,5.98537,6.428979,6.4633613,6.741612,6.6391277,6.564744,6.092551,6.310914,5.9533386,6.4236736,6.0659294,5.928244,6.2117677,6.2225213,6.6645684,6.444252,6.514535,6.704839,6.1415873,5.86944,6.724159,6.753612,6.7571135,6.3737926,6.7789307,6.3002644,6.689876,6.2843404,6.0262747,6.0542235,6.7018995,6.21795,6.6804605,6.1932025,5.9470587,5.9790106,6.077974,6.241973,6.157242,6.482937,6.1431837,6.363445,6.779585,6.1935186,6.2899833,6.5962057,6.1541433,6.366789,6.7779922,6.6483893,5.954004,6.612768,6.653312,6.6522255,6.7731514,6.802439,10.111196,10.209966,5.86001,5.9660954,5.925935,6.4206443,6.0935035,6.1561813,6.2514744,6.004222,6.0530477,5.9033985],\"yaxis\":\"y\",\"type\":\"scattergl\"},{\"hovertemplate\":\"leiden=10\\u003cbr\\u003eUMAP-1=%{x}\\u003cbr\\u003eUMAP-2=%{y}\\u003cextra\\u003e\\u003c\\u002fextra\\u003e\",\"legendgroup\":\"10\",\"marker\":{\"color\":\"#00A08B\",\"symbol\":\"circle\",\"opacity\":1,\"size\":1.6497729812340491},\"mode\":\"markers\",\"name\":\"10\",\"showlegend\":true,\"x\":[-6.1353807,-6.700145,-6.641949,-6.231552,-6.1754355,-6.3808393,-6.611079,-6.31448,-6.2172337,-6.7003646,-6.3791804,-5.984873,-6.304618,-6.6495137,-6.281957,-6.728489,-6.5507364,-6.1722255,-6.3488007,-6.2480016,-5.8915806,-6.697042,-6.2010493,-6.5634465,-6.385373,-6.0557504,-6.617884,-6.5844555,-5.8536296,-6.622678,-6.587652,-5.765335,-5.8742914,-6.1660633,-6.4658213,-6.479179,-5.7273374,-6.6597247,-6.173453,-6.2582617,-6.6868725,-6.1956697,-6.4745955,-6.1668653,-6.378325,-6.690179,-6.5439544,-6.3732705,-6.462855,-6.3442974,-5.816864,-6.695621,-6.299103,-6.302309,-6.272402,-6.5551596,-6.7234116,-6.3294077,-6.0103946,-6.580473,-6.585946,-5.9938717,-6.2052608,-6.6417613,-6.54189,-5.6404667,-5.826545,-6.006478,-6.7074337,-6.693034,-5.927177,-6.60254,-6.6523027,-6.6434145,-6.6820197,-6.6135917,-6.6362534,-6.5544357,-6.2321587,-6.118528,-5.9153147,-6.1028748,-6.4415374,-6.688425,-6.670356,-6.0293097,-6.594437,-6.7437587,-6.6677947,-6.6703205,-6.580808,-6.3842793,-6.6043224,-6.4772406,-5.8598022,-6.6286445,-6.589602,-6.7677817,-6.565161,-6.626274,-6.715275,-6.198339,-6.687294,-6.678959,-6.5343623,-6.72009,-6.344023,-5.8494816,-6.621718,-6.7427363,-5.913101,-6.0086956,-5.958819,-5.9520555,-6.1047974,-6.359278,-6.2772007,-6.242968,-6.345957,-5.9408655,-6.6529584,-5.9816365,-6.701996,-6.706026,-5.876968,-6.123865,-6.6862,-5.9700933,-6.6211514,-6.040288],\"xaxis\":\"x\",\"y\":[11.949571,11.90022,11.776474,11.487586,11.945861,11.883759,11.744959,11.647764,11.511087,11.859177,11.739172,11.96161,11.771157,11.806995,11.86601,11.813392,11.723244,11.302358,11.900032,11.442262,12.032463,11.749916,11.725622,11.636952,11.916397,11.466561,11.829887,11.8131485,12.152832,11.931529,11.73087,12.233198,11.58829,11.9529915,11.760184,11.8238,11.843233,11.755794,11.446874,11.968039,11.792916,11.856155,11.826318,11.708625,11.90138,11.920395,11.869741,11.834733,11.574076,11.763466,12.177207,11.653247,11.58922,11.858657,11.9973345,11.770195,11.8419285,11.868879,11.8756895,11.742405,11.746531,11.477527,11.863229,11.650341,11.833323,12.254067,11.800919,12.021615,11.771321,11.754121,12.103348,11.761295,11.744206,11.782922,11.663885,11.74436,11.696988,11.72288,11.952283,11.614488,12.126416,11.492943,11.841957,11.86137,11.656086,11.590143,11.862229,11.744847,11.685191,11.919277,11.90822,11.472152,11.78806,11.817744,12.151125,11.760274,11.7384815,11.850906,11.805684,11.897838,11.818474,11.391867,11.837966,11.697226,11.812974,11.885183,11.751856,12.099485,11.659302,11.817075,12.125209,12.04701,11.642889,12.102875,11.410074,11.742773,11.91626,11.879367,11.89212,11.275947,11.7296505,11.660745,11.825819,11.745599,12.001958,11.96061,11.898,11.742139,11.719896,11.6605425],\"yaxis\":\"y\",\"type\":\"scattergl\"},{\"hovertemplate\":\"leiden=11\\u003cbr\\u003eUMAP-1=%{x}\\u003cbr\\u003eUMAP-2=%{y}\\u003cextra\\u003e\\u003c\\u002fextra\\u003e\",\"legendgroup\":\"11\",\"marker\":{\"color\":\"#FB00D1\",\"symbol\":\"circle\",\"opacity\":1,\"size\":1.6497729812340491},\"mode\":\"markers\",\"name\":\"11\",\"showlegend\":true,\"x\":[2.4935448,3.0589833,2.5040052,2.8106241,2.8911679,2.7803648,2.546654,2.5983818,2.511885,2.7185214,2.6266263,2.6012356,2.6248043,2.7397573,2.5197833,2.7308042,3.0784514,2.721442,2.9817557,3.0710514,2.556803,2.5845902,3.0628707,2.4765797,2.8639467,2.5546076,2.8121128,3.0265412,2.527833,2.870407,2.5221808,2.4650924,2.6205325,2.6764474,2.6644645,2.6605077,2.6163104,2.7098322,2.6492364,2.6203456,2.4962893,2.4165823,2.8691452,3.0806048,3.1087677,2.7028618,2.8463514,2.659178,2.8980215,2.6053138,2.830848,2.8166258,2.481214,2.6823533,2.6154125,2.9403648,2.7840788,2.789249,2.6072316,2.8058438,2.6099494,2.5088391,2.4675512,2.5074317,2.6618314,3.039645,2.8181815,2.6550584,3.1148973,2.8418825,2.5260828,2.6057687,2.6437368,2.739059,2.9780867,2.5997438,2.6275208,2.6169224,3.0067513,2.6236944,2.681552,2.6791592,3.104253,2.6627903,2.493342,2.661156,2.6889741,2.5797286,2.474845,2.6605544,-4.0644264,3.0355046,2.522277,3.1111598,2.9171493,2.7716665,3.0335128,2.553805,2.551259,2.5030704,2.646696,2.8569784,2.484286,2.7130792,2.6684592,2.6141067,2.492635,2.641758,2.698613,2.5545604,2.5196173,2.534358,3.1047459,2.7223334,2.4738326,2.5215867,2.6507273,2.6344614,2.5209181,2.6400378,2.9712803,2.507286,2.44695,2.5325959],\"xaxis\":\"x\",\"y\":[22.82209,22.66696,23.042627,22.620323,22.736977,22.774755,22.530783,22.703022,23.128262,22.388021,22.432404,23.085266,23.073248,22.611477,22.880713,22.390049,22.614162,22.395758,22.723988,22.697416,23.133146,23.096754,22.61474,23.073257,22.606058,22.514978,22.78158,22.761993,22.54495,22.803612,22.994005,22.94061,22.768707,22.410456,22.416285,22.741394,22.414858,22.455593,22.45272,23.08975,23.043217,22.960169,22.469658,22.647785,22.58333,22.983288,22.74729,22.743847,22.73431,22.775532,22.695415,22.674992,22.927475,22.689121,22.603073,22.685911,22.818964,22.880812,22.793499,22.64413,23.00633,22.89625,22.988544,23.020367,22.38025,22.735403,22.666937,22.371183,22.580257,22.688576,22.774002,22.829597,23.047283,22.770195,22.688536,22.502909,23.07724,22.43431,22.724314,22.70298,22.393911,22.381987,22.580076,22.427912,22.827108,22.393133,22.909363,22.50658,22.984524,22.385046,1.951717,22.708172,22.736416,22.574282,22.738409,22.64154,22.710806,22.923836,22.848763,22.880934,22.689219,22.776175,22.850157,22.784075,22.571167,22.446775,22.967325,23.093485,23.031954,23.111197,23.096348,22.992146,22.582968,22.387033,22.717619,22.742811,22.75735,23.081007,22.563095,22.71828,22.845057,22.632446,23.073303,23.098171],\"yaxis\":\"y\",\"type\":\"scattergl\"},{\"hovertemplate\":\"leiden=12\\u003cbr\\u003eUMAP-1=%{x}\\u003cbr\\u003eUMAP-2=%{y}\\u003cextra\\u003e\\u003c\\u002fextra\\u003e\",\"legendgroup\":\"12\",\"marker\":{\"color\":\"#FC0080\",\"symbol\":\"circle\",\"opacity\":1,\"size\":1.6497729812340491},\"mode\":\"markers\",\"name\":\"12\",\"showlegend\":true,\"x\":[7.261727,7.2676964,7.073674,7.2364907,7.1919456,7.1849313,7.0958996,7.2088246,6.8307495,7.299388,6.9092913,6.899353,7.2930617,6.936628,7.303807,7.185241,7.333475,7.2327867,6.9617734,6.9991527,7.189144,7.202723,7.2044215,7.1991544,7.2063384,6.9804993,7.2495966,7.184113,7.216096,7.2075715,7.217784,6.9614005,7.0553246,7.0952783,7.225422,7.26666,7.246084,6.994531,7.1981683,7.148822,7.13899,7.1411877,7.2041693,6.9407425,7.032399,7.210472,7.1941495,7.278353,7.1592793,7.230643,7.291288,6.86003,7.0158896,7.011832,7.206383,7.183051,7.2070794,6.968137,7.1864777,7.315874,7.1399307,7.197986,7.146973,7.2958694,7.0724335,7.2839355,7.2811737,7.351526,7.2134275,7.0843306,7.309065,7.1654286,6.8484993,7.228193,7.233647,7.1473265,7.23851,7.279123,7.1781244,7.213717,7.238323],\"xaxis\":\"x\",\"y\":[11.150758,11.248112,11.218822,11.282118,11.322034,11.041166,11.350687,11.318087,11.644621,11.217088,11.569748,11.576883,11.206905,11.5364685,11.132093,11.040893,11.255046,11.3239355,11.524167,11.491822,11.353003,11.048727,11.031757,11.013915,10.986501,11.503687,11.380147,11.316049,11.282165,11.029023,11.312516,11.538809,11.43564,11.300474,11.050708,11.223421,11.078315,11.510104,11.30852,11.153995,11.237154,11.351639,11.199131,11.528754,11.486793,11.045386,11.051268,11.194592,10.973961,11.300639,11.293928,11.617995,11.429929,11.462338,11.05804,11.060781,10.997812,11.52257,11.07979,11.149338,11.103009,11.083378,11.080987,11.233811,11.381521,11.22083,11.258345,11.45619,11.002702,11.361439,11.209906,10.943708,11.629,11.137386,11.292672,11.113267,11.299424,11.155171,11.417588,11.057729,11.296315],\"yaxis\":\"y\",\"type\":\"scattergl\"},{\"hovertemplate\":\"leiden=13\\u003cbr\\u003eUMAP-1=%{x}\\u003cbr\\u003eUMAP-2=%{y}\\u003cextra\\u003e\\u003c\\u002fextra\\u003e\",\"legendgroup\":\"13\",\"marker\":{\"color\":\"#B2828D\",\"symbol\":\"circle\",\"opacity\":1,\"size\":1.6497729812340491},\"mode\":\"markers\",\"name\":\"13\",\"showlegend\":true,\"x\":[-1.4513177,-1.3893361,-1.4521195,-1.447592,-1.3771496,-1.4252406,-1.4627885,-1.4363995,-1.424434,-1.443238,-1.5993968,-1.3823171,-1.489371,-1.4022415,-1.4002674,-1.5214254,-1.5169712,-1.4279163,-1.4007087,-1.4095349,-1.5031533,-1.5002811,-1.4503282,-1.4540848,-1.4650209,-1.4584867,-1.4292343,-1.4369235,-1.4336097,-1.4810637,-1.4973189,-1.4723381,-1.4276901,-1.6054678,-1.4145812,-1.4360456,-1.4232705,-1.442441,-1.5870348,-1.4954748,-1.4429435,-1.5323251,-1.4409199,-1.447402,-1.4129398,-1.3761257,-1.4463578,-1.5212922,-1.4001718,-1.4275262,-1.6209462,-1.4856708,-1.4825782],\"xaxis\":\"x\",\"y\":[-1.3743389,-1.438301,-1.310061,-1.3074301,-1.4448583,-1.3940578,-1.280978,-1.3806046,-1.4033264,-1.3512402,0.28076622,-1.4333948,-1.229251,-1.4195087,-1.4218211,-0.9077911,-0.9836657,-1.3867898,-1.4172826,-1.4146872,-1.1147828,-1.1389974,-1.3260236,-1.3383979,-1.2974411,-1.3531612,-1.3521761,-1.348344,-1.3858647,-1.2798924,-1.1189842,-1.2589798,-1.3705055,0.06992848,-1.3923786,-1.355318,-1.3823315,-1.3865242,0.06591726,-1.147737,-1.351086,-0.76930726,-1.3217161,-1.3407675,-1.4134984,-1.4478091,-1.312231,-0.9505871,-1.4218534,-1.3809319,0.27428198,-1.2772232,-1.1747767],\"yaxis\":\"y\",\"type\":\"scattergl\"}],                        {\"template\":{\"data\":{\"barpolar\":[{\"marker\":{\"line\":{\"color\":\"white\",\"width\":0.5},\"pattern\":{\"fillmode\":\"overlay\",\"size\":10,\"solidity\":0.2}},\"type\":\"barpolar\"}],\"bar\":[{\"error_x\":{\"color\":\"rgb(36,36,36)\"},\"error_y\":{\"color\":\"rgb(36,36,36)\"},\"marker\":{\"line\":{\"color\":\"white\",\"width\":0.5},\"pattern\":{\"fillmode\":\"overlay\",\"size\":10,\"solidity\":0.2}},\"type\":\"bar\"}],\"carpet\":[{\"aaxis\":{\"endlinecolor\":\"rgb(36,36,36)\",\"gridcolor\":\"white\",\"linecolor\":\"white\",\"minorgridcolor\":\"white\",\"startlinecolor\":\"rgb(36,36,36)\"},\"baxis\":{\"endlinecolor\":\"rgb(36,36,36)\",\"gridcolor\":\"white\",\"linecolor\":\"white\",\"minorgridcolor\":\"white\",\"startlinecolor\":\"rgb(36,36,36)\"},\"type\":\"carpet\"}],\"choropleth\":[{\"colorbar\":{\"outlinewidth\":1,\"tickcolor\":\"rgb(36,36,36)\",\"ticks\":\"outside\"},\"type\":\"choropleth\"}],\"contourcarpet\":[{\"colorbar\":{\"outlinewidth\":1,\"tickcolor\":\"rgb(36,36,36)\",\"ticks\":\"outside\"},\"type\":\"contourcarpet\"}],\"contour\":[{\"colorbar\":{\"outlinewidth\":1,\"tickcolor\":\"rgb(36,36,36)\",\"ticks\":\"outside\"},\"colorscale\":[[0.0,\"#440154\"],[0.1111111111111111,\"#482878\"],[0.2222222222222222,\"#3e4989\"],[0.3333333333333333,\"#31688e\"],[0.4444444444444444,\"#26828e\"],[0.5555555555555556,\"#1f9e89\"],[0.6666666666666666,\"#35b779\"],[0.7777777777777778,\"#6ece58\"],[0.8888888888888888,\"#b5de2b\"],[1.0,\"#fde725\"]],\"type\":\"contour\"}],\"heatmapgl\":[{\"colorbar\":{\"outlinewidth\":1,\"tickcolor\":\"rgb(36,36,36)\",\"ticks\":\"outside\"},\"colorscale\":[[0.0,\"#440154\"],[0.1111111111111111,\"#482878\"],[0.2222222222222222,\"#3e4989\"],[0.3333333333333333,\"#31688e\"],[0.4444444444444444,\"#26828e\"],[0.5555555555555556,\"#1f9e89\"],[0.6666666666666666,\"#35b779\"],[0.7777777777777778,\"#6ece58\"],[0.8888888888888888,\"#b5de2b\"],[1.0,\"#fde725\"]],\"type\":\"heatmapgl\"}],\"heatmap\":[{\"colorbar\":{\"outlinewidth\":1,\"tickcolor\":\"rgb(36,36,36)\",\"ticks\":\"outside\"},\"colorscale\":[[0.0,\"#440154\"],[0.1111111111111111,\"#482878\"],[0.2222222222222222,\"#3e4989\"],[0.3333333333333333,\"#31688e\"],[0.4444444444444444,\"#26828e\"],[0.5555555555555556,\"#1f9e89\"],[0.6666666666666666,\"#35b779\"],[0.7777777777777778,\"#6ece58\"],[0.8888888888888888,\"#b5de2b\"],[1.0,\"#fde725\"]],\"type\":\"heatmap\"}],\"histogram2dcontour\":[{\"colorbar\":{\"outlinewidth\":1,\"tickcolor\":\"rgb(36,36,36)\",\"ticks\":\"outside\"},\"colorscale\":[[0.0,\"#440154\"],[0.1111111111111111,\"#482878\"],[0.2222222222222222,\"#3e4989\"],[0.3333333333333333,\"#31688e\"],[0.4444444444444444,\"#26828e\"],[0.5555555555555556,\"#1f9e89\"],[0.6666666666666666,\"#35b779\"],[0.7777777777777778,\"#6ece58\"],[0.8888888888888888,\"#b5de2b\"],[1.0,\"#fde725\"]],\"type\":\"histogram2dcontour\"}],\"histogram2d\":[{\"colorbar\":{\"outlinewidth\":1,\"tickcolor\":\"rgb(36,36,36)\",\"ticks\":\"outside\"},\"colorscale\":[[0.0,\"#440154\"],[0.1111111111111111,\"#482878\"],[0.2222222222222222,\"#3e4989\"],[0.3333333333333333,\"#31688e\"],[0.4444444444444444,\"#26828e\"],[0.5555555555555556,\"#1f9e89\"],[0.6666666666666666,\"#35b779\"],[0.7777777777777778,\"#6ece58\"],[0.8888888888888888,\"#b5de2b\"],[1.0,\"#fde725\"]],\"type\":\"histogram2d\"}],\"histogram\":[{\"marker\":{\"line\":{\"color\":\"white\",\"width\":0.6}},\"type\":\"histogram\"}],\"mesh3d\":[{\"colorbar\":{\"outlinewidth\":1,\"tickcolor\":\"rgb(36,36,36)\",\"ticks\":\"outside\"},\"type\":\"mesh3d\"}],\"parcoords\":[{\"line\":{\"colorbar\":{\"outlinewidth\":1,\"tickcolor\":\"rgb(36,36,36)\",\"ticks\":\"outside\"}},\"type\":\"parcoords\"}],\"pie\":[{\"automargin\":true,\"type\":\"pie\"}],\"scatter3d\":[{\"line\":{\"colorbar\":{\"outlinewidth\":1,\"tickcolor\":\"rgb(36,36,36)\",\"ticks\":\"outside\"}},\"marker\":{\"colorbar\":{\"outlinewidth\":1,\"tickcolor\":\"rgb(36,36,36)\",\"ticks\":\"outside\"}},\"type\":\"scatter3d\"}],\"scattercarpet\":[{\"marker\":{\"colorbar\":{\"outlinewidth\":1,\"tickcolor\":\"rgb(36,36,36)\",\"ticks\":\"outside\"}},\"type\":\"scattercarpet\"}],\"scattergeo\":[{\"marker\":{\"colorbar\":{\"outlinewidth\":1,\"tickcolor\":\"rgb(36,36,36)\",\"ticks\":\"outside\"}},\"type\":\"scattergeo\"}],\"scattergl\":[{\"marker\":{\"colorbar\":{\"outlinewidth\":1,\"tickcolor\":\"rgb(36,36,36)\",\"ticks\":\"outside\"}},\"type\":\"scattergl\"}],\"scattermapbox\":[{\"marker\":{\"colorbar\":{\"outlinewidth\":1,\"tickcolor\":\"rgb(36,36,36)\",\"ticks\":\"outside\"}},\"type\":\"scattermapbox\"}],\"scatterpolargl\":[{\"marker\":{\"colorbar\":{\"outlinewidth\":1,\"tickcolor\":\"rgb(36,36,36)\",\"ticks\":\"outside\"}},\"type\":\"scatterpolargl\"}],\"scatterpolar\":[{\"marker\":{\"colorbar\":{\"outlinewidth\":1,\"tickcolor\":\"rgb(36,36,36)\",\"ticks\":\"outside\"}},\"type\":\"scatterpolar\"}],\"scatter\":[{\"fillpattern\":{\"fillmode\":\"overlay\",\"size\":10,\"solidity\":0.2},\"type\":\"scatter\"}],\"scatterternary\":[{\"marker\":{\"colorbar\":{\"outlinewidth\":1,\"tickcolor\":\"rgb(36,36,36)\",\"ticks\":\"outside\"}},\"type\":\"scatterternary\"}],\"surface\":[{\"colorbar\":{\"outlinewidth\":1,\"tickcolor\":\"rgb(36,36,36)\",\"ticks\":\"outside\"},\"colorscale\":[[0.0,\"#440154\"],[0.1111111111111111,\"#482878\"],[0.2222222222222222,\"#3e4989\"],[0.3333333333333333,\"#31688e\"],[0.4444444444444444,\"#26828e\"],[0.5555555555555556,\"#1f9e89\"],[0.6666666666666666,\"#35b779\"],[0.7777777777777778,\"#6ece58\"],[0.8888888888888888,\"#b5de2b\"],[1.0,\"#fde725\"]],\"type\":\"surface\"}],\"table\":[{\"cells\":{\"fill\":{\"color\":\"rgb(237,237,237)\"},\"line\":{\"color\":\"white\"}},\"header\":{\"fill\":{\"color\":\"rgb(217,217,217)\"},\"line\":{\"color\":\"white\"}},\"type\":\"table\"}]},\"layout\":{\"annotationdefaults\":{\"arrowhead\":0,\"arrowwidth\":1},\"autotypenumbers\":\"strict\",\"coloraxis\":{\"colorbar\":{\"outlinewidth\":1,\"tickcolor\":\"rgb(36,36,36)\",\"ticks\":\"outside\"}},\"colorscale\":{\"diverging\":[[0.0,\"rgb(103,0,31)\"],[0.1,\"rgb(178,24,43)\"],[0.2,\"rgb(214,96,77)\"],[0.3,\"rgb(244,165,130)\"],[0.4,\"rgb(253,219,199)\"],[0.5,\"rgb(247,247,247)\"],[0.6,\"rgb(209,229,240)\"],[0.7,\"rgb(146,197,222)\"],[0.8,\"rgb(67,147,195)\"],[0.9,\"rgb(33,102,172)\"],[1.0,\"rgb(5,48,97)\"]],\"sequential\":[[0.0,\"#440154\"],[0.1111111111111111,\"#482878\"],[0.2222222222222222,\"#3e4989\"],[0.3333333333333333,\"#31688e\"],[0.4444444444444444,\"#26828e\"],[0.5555555555555556,\"#1f9e89\"],[0.6666666666666666,\"#35b779\"],[0.7777777777777778,\"#6ece58\"],[0.8888888888888888,\"#b5de2b\"],[1.0,\"#fde725\"]],\"sequentialminus\":[[0.0,\"#440154\"],[0.1111111111111111,\"#482878\"],[0.2222222222222222,\"#3e4989\"],[0.3333333333333333,\"#31688e\"],[0.4444444444444444,\"#26828e\"],[0.5555555555555556,\"#1f9e89\"],[0.6666666666666666,\"#35b779\"],[0.7777777777777778,\"#6ece58\"],[0.8888888888888888,\"#b5de2b\"],[1.0,\"#fde725\"]]},\"colorway\":[\"#1F77B4\",\"#FF7F0E\",\"#2CA02C\",\"#D62728\",\"#9467BD\",\"#8C564B\",\"#E377C2\",\"#7F7F7F\",\"#BCBD22\",\"#17BECF\"],\"font\":{\"color\":\"rgb(36,36,36)\"},\"geo\":{\"bgcolor\":\"white\",\"lakecolor\":\"white\",\"landcolor\":\"white\",\"showlakes\":true,\"showland\":true,\"subunitcolor\":\"white\"},\"hoverlabel\":{\"align\":\"left\"},\"hovermode\":\"closest\",\"mapbox\":{\"style\":\"light\"},\"paper_bgcolor\":\"white\",\"plot_bgcolor\":\"white\",\"polar\":{\"angularaxis\":{\"gridcolor\":\"rgb(232,232,232)\",\"linecolor\":\"rgb(36,36,36)\",\"showgrid\":false,\"showline\":true,\"ticks\":\"outside\"},\"bgcolor\":\"white\",\"radialaxis\":{\"gridcolor\":\"rgb(232,232,232)\",\"linecolor\":\"rgb(36,36,36)\",\"showgrid\":false,\"showline\":true,\"ticks\":\"outside\"}},\"scene\":{\"xaxis\":{\"backgroundcolor\":\"white\",\"gridcolor\":\"rgb(232,232,232)\",\"gridwidth\":2,\"linecolor\":\"rgb(36,36,36)\",\"showbackground\":true,\"showgrid\":false,\"showline\":true,\"ticks\":\"outside\",\"zeroline\":false,\"zerolinecolor\":\"rgb(36,36,36)\"},\"yaxis\":{\"backgroundcolor\":\"white\",\"gridcolor\":\"rgb(232,232,232)\",\"gridwidth\":2,\"linecolor\":\"rgb(36,36,36)\",\"showbackground\":true,\"showgrid\":false,\"showline\":true,\"ticks\":\"outside\",\"zeroline\":false,\"zerolinecolor\":\"rgb(36,36,36)\"},\"zaxis\":{\"backgroundcolor\":\"white\",\"gridcolor\":\"rgb(232,232,232)\",\"gridwidth\":2,\"linecolor\":\"rgb(36,36,36)\",\"showbackground\":true,\"showgrid\":false,\"showline\":true,\"ticks\":\"outside\",\"zeroline\":false,\"zerolinecolor\":\"rgb(36,36,36)\"}},\"shapedefaults\":{\"fillcolor\":\"black\",\"line\":{\"width\":0},\"opacity\":0.3},\"ternary\":{\"aaxis\":{\"gridcolor\":\"rgb(232,232,232)\",\"linecolor\":\"rgb(36,36,36)\",\"showgrid\":false,\"showline\":true,\"ticks\":\"outside\"},\"baxis\":{\"gridcolor\":\"rgb(232,232,232)\",\"linecolor\":\"rgb(36,36,36)\",\"showgrid\":false,\"showline\":true,\"ticks\":\"outside\"},\"bgcolor\":\"white\",\"caxis\":{\"gridcolor\":\"rgb(232,232,232)\",\"linecolor\":\"rgb(36,36,36)\",\"showgrid\":false,\"showline\":true,\"ticks\":\"outside\"}},\"title\":{\"x\":0.05},\"xaxis\":{\"automargin\":true,\"gridcolor\":\"rgb(232,232,232)\",\"linecolor\":\"rgb(36,36,36)\",\"showgrid\":false,\"showline\":true,\"ticks\":\"outside\",\"title\":{\"standoff\":15},\"zeroline\":false,\"zerolinecolor\":\"rgb(36,36,36)\"},\"yaxis\":{\"automargin\":true,\"gridcolor\":\"rgb(232,232,232)\",\"linecolor\":\"rgb(36,36,36)\",\"showgrid\":false,\"showline\":true,\"ticks\":\"outside\",\"title\":{\"standoff\":15},\"zeroline\":false,\"zerolinecolor\":\"rgb(36,36,36)\"}}},\"xaxis\":{\"anchor\":\"y\",\"domain\":[0.0,1.0],\"title\":{\"text\":\"UMAP-1\"}},\"yaxis\":{\"anchor\":\"x\",\"domain\":[0.0,1.0],\"title\":{\"text\":\"UMAP-2\"}},\"legend\":{\"title\":{\"text\":\"leiden\"},\"tracegroupgap\":0,\"itemsizing\":\"constant\"},\"margin\":{\"t\":60},\"width\":600,\"height\":400},                        {\"responsive\": true}                    ).then(function(){\n",
              "                            \n",
              "var gd = document.getElementById('624c8f7b-ed34-412e-8d06-5f519f7c48d3');\n",
              "var x = new MutationObserver(function (mutations, observer) {{\n",
              "        var display = window.getComputedStyle(gd).display;\n",
              "        if (!display || display === 'none') {{\n",
              "            console.log([gd, 'removed!']);\n",
              "            Plotly.purge(gd);\n",
              "            observer.disconnect();\n",
              "        }}\n",
              "}});\n",
              "\n",
              "// Listen for the removal of the full notebook cells\n",
              "var notebookContainer = gd.closest('#notebook-container');\n",
              "if (notebookContainer) {{\n",
              "    x.observe(notebookContainer, {childList: true});\n",
              "}}\n",
              "\n",
              "// Listen for the clearing of the current output cell\n",
              "var outputEl = gd.closest('.output');\n",
              "if (outputEl) {{\n",
              "    x.observe(outputEl, {childList: true});\n",
              "}}\n",
              "\n",
              "                        })                };                            </script>        </div>\n",
              "</body>\n",
              "</html>"
            ]
          },
          "metadata": {}
        }
      ],
      "source": [
        "snap.pp.knn(SRR26046013_DM_AOA_INH)\n",
        "snap.tl.leiden(SRR26046013_DM_AOA_INH)\n",
        "snap.pl.umap(SRR26046013_DM_AOA_INH, color = 'leiden', interactive = False, show = False)"
      ]
    },
    {
      "cell_type": "markdown",
      "id": "d6405283-9006-46f5-be16-93fb0598c96c",
      "metadata": {
        "id": "d6405283-9006-46f5-be16-93fb0598c96c"
      },
      "source": [
        "# Create a cell-by-gene activity matrix"
      ]
    },
    {
      "cell_type": "code",
      "execution_count": 47,
      "id": "d8408450-f2eb-455d-9dc4-359b71604bc6",
      "metadata": {
        "id": "d8408450-f2eb-455d-9dc4-359b71604bc6"
      },
      "outputs": [],
      "source": [
        "#sc.write(SRR26046013_DM_AOA_INH,\"/SRR26046013_DM_AOA_INH.h5ad\")"
      ]
    },
    {
      "cell_type": "code",
      "execution_count": 48,
      "id": "73d3c212-d8ca-46ae-89b0-64f5c403f9c8",
      "metadata": {
        "id": "73d3c212-d8ca-46ae-89b0-64f5c403f9c8"
      },
      "outputs": [],
      "source": [
        "SRR26046013_DM_AOA_INH_GM = snap.pp.make_gene_matrix(SRR26046013_DM_AOA_INH, snap.genome.hg38)"
      ]
    },
    {
      "cell_type": "code",
      "execution_count": 49,
      "id": "812e1a2d-a582-429a-8d58-7b631269589e",
      "metadata": {
        "id": "812e1a2d-a582-429a-8d58-7b631269589e",
        "colab": {
          "base_uri": "https://localhost:8080/"
        },
        "outputId": "1e9cacfa-7db3-495e-c897-5e6bb099ec06"
      },
      "outputs": [
        {
          "output_type": "execute_result",
          "data": {
            "text/plain": [
              "AnnData object with n_obs × n_vars = 6013 × 60606\n",
              "    obs: 'n_fragment', 'frac_dup', 'frac_mito', 'tsse', 'doublet_probability', 'doublet_score', 'leiden'"
            ]
          },
          "metadata": {},
          "execution_count": 49
        }
      ],
      "source": [
        "SRR26046013_DM_AOA_INH_GM"
      ]
    },
    {
      "cell_type": "code",
      "source": [
        "atac = SRR26046013_DM_AOA_INH_GM"
      ],
      "metadata": {
        "id": "7c7gLCaU-cRB"
      },
      "id": "7c7gLCaU-cRB",
      "execution_count": 50,
      "outputs": []
    },
    {
      "cell_type": "code",
      "execution_count": 51,
      "id": "7d5f3f23-fc7f-4dc9-9e9a-f89d7a2dbda0",
      "metadata": {
        "id": "7d5f3f23-fc7f-4dc9-9e9a-f89d7a2dbda0",
        "colab": {
          "base_uri": "https://localhost:8080/"
        },
        "outputId": "db27c982-a09e-4260-8f17-2b2560ee325b"
      },
      "outputs": [
        {
          "output_type": "execute_result",
          "data": {
            "text/plain": [
              "AnnData object with n_obs × n_vars = 6013 × 6062095\n",
              "    obs: 'n_fragment', 'frac_dup', 'frac_mito', 'tsse', 'doublet_probability', 'doublet_score', 'leiden'\n",
              "    var: 'count', 'selected'\n",
              "    uns: 'reference_sequences', 'frag_size_distr', 'library_tsse', 'frac_overlap_TSS', 'TSS_profile', 'scrublet_sim_doublet_score', 'doublet_rate', 'spectral_eigenvalue'\n",
              "    obsm: 'fragment_paired', 'X_spectral', 'X_umap'\n",
              "    obsp: 'distances'"
            ]
          },
          "metadata": {},
          "execution_count": 51
        }
      ],
      "source": [
        "SRR26046013_DM_AOA_INH"
      ]
    },
    {
      "cell_type": "code",
      "execution_count": 52,
      "id": "97dfeb04-fa95-443c-842c-c3de5af23363",
      "metadata": {
        "id": "97dfeb04-fa95-443c-842c-c3de5af23363",
        "colab": {
          "base_uri": "https://localhost:8080/"
        },
        "outputId": "4f9d4c3b-cef3-4efe-c72b-c098f18fb975"
      },
      "outputs": [
        {
          "output_type": "execute_result",
          "data": {
            "text/plain": [
              "AnnData object with n_obs × n_vars = 6013 × 60606\n",
              "    obs: 'n_fragment', 'frac_dup', 'frac_mito', 'tsse', 'doublet_probability', 'doublet_score', 'leiden'"
            ]
          },
          "metadata": {},
          "execution_count": 52
        }
      ],
      "source": [
        "SRR26046013_DM_AOA_INH_GM"
      ]
    },
    {
      "cell_type": "markdown",
      "source": [
        "# Imputation with scanpy and MAGIC"
      ],
      "metadata": {
        "id": "9fp-ZWO7AueM"
      },
      "id": "9fp-ZWO7AueM"
    },
    {
      "cell_type": "code",
      "source": [
        "%%time\n",
        "sc.pp.filter_genes(SRR26046013_DM_AOA_INH_GM, min_cells= 5)\n",
        "sc.pp.normalize_total(SRR26046013_DM_AOA_INH_GM)\n",
        "sc.pp.log1p(SRR26046013_DM_AOA_INH_GM)"
      ],
      "metadata": {
        "id": "nV6sPQwpA0CS",
        "colab": {
          "base_uri": "https://localhost:8080/"
        },
        "outputId": "ec4b7510-da7a-4693-d813-5721786b034d"
      },
      "id": "nV6sPQwpA0CS",
      "execution_count": 53,
      "outputs": [
        {
          "output_type": "stream",
          "name": "stdout",
          "text": [
            "CPU times: user 1.23 s, sys: 594 ms, total: 1.83 s\n",
            "Wall time: 1.81 s\n"
          ]
        }
      ]
    },
    {
      "cell_type": "code",
      "source": [
        "sc.external.pp.magic(SRR26046013_DM_AOA_INH_GM, solver=\"approximate\")"
      ],
      "metadata": {
        "id": "eqrY_cb-CIwB"
      },
      "id": "eqrY_cb-CIwB",
      "execution_count": 54,
      "outputs": []
    },
    {
      "cell_type": "code",
      "source": [
        "# Copy over UMAP embedding\n",
        "SRR26046013_DM_AOA_INH_GM.obsm[\"X_umap\"] = SRR26046013_DM_AOA_INH.obsm[\"X_umap\"]"
      ],
      "metadata": {
        "id": "YbteW6XWCJzS"
      },
      "id": "YbteW6XWCJzS",
      "execution_count": 55,
      "outputs": []
    },
    {
      "cell_type": "markdown",
      "source": [
        "# Preprocess according to scanpy flow"
      ],
      "metadata": {
        "id": "H9UNeOM7DRxH"
      },
      "id": "H9UNeOM7DRxH"
    },
    {
      "cell_type": "code",
      "source": [
        "sc.pp.scale(SRR26046013_DM_AOA_INH_GM, max_value = 10)\n",
        "sc.pp.pca(SRR26046013_DM_AOA_INH_GM, svd_solver = 'arpack')\n",
        "sc.pp.neighbors(SRR26046013_DM_AOA_INH_GM, n_neighbors=10, n_pcs=40)\n",
        "sc.tl.umap(SRR26046013_DM_AOA_INH_GM)\n",
        "sc.tl.leiden(SRR26046013_DM_AOA_INH_GM)"
      ],
      "metadata": {
        "id": "Q4q8Ura_DQUN",
        "colab": {
          "base_uri": "https://localhost:8080/"
        },
        "outputId": "146c8d98-c89e-4cf9-f032-2b8adac4c0b9"
      },
      "id": "Q4q8Ura_DQUN",
      "execution_count": 56,
      "outputs": [
        {
          "output_type": "stream",
          "name": "stderr",
          "text": [
            "<ipython-input-56-aec6c1cda992>:5: FutureWarning:\n",
            "\n",
            "In the future, the default backend for leiden will be igraph instead of leidenalg.\n",
            "\n",
            " To achieve the future defaults please pass: flavor=\"igraph\" and n_iterations=2.  directed must also be False to work with igraph's implementation.\n",
            "\n"
          ]
        }
      ]
    },
    {
      "cell_type": "code",
      "source": [
        "SRR26046013_DM_AOA_INH_GM"
      ],
      "metadata": {
        "id": "Mt8JQVgYE1nc",
        "colab": {
          "base_uri": "https://localhost:8080/"
        },
        "outputId": "d547352e-0817-4850-9a64-d0c4e25da38e"
      },
      "id": "Mt8JQVgYE1nc",
      "execution_count": 57,
      "outputs": [
        {
          "output_type": "execute_result",
          "data": {
            "text/plain": [
              "AnnData object with n_obs × n_vars = 6013 × 53265\n",
              "    obs: 'n_fragment', 'frac_dup', 'frac_mito', 'tsse', 'doublet_probability', 'doublet_score', 'leiden'\n",
              "    var: 'n_cells', 'mean', 'std'\n",
              "    uns: 'log1p', 'pca', 'neighbors', 'umap', 'leiden'\n",
              "    obsm: 'X_umap', 'X_pca'\n",
              "    varm: 'PCs'\n",
              "    obsp: 'distances', 'connectivities'"
            ]
          },
          "metadata": {},
          "execution_count": 57
        }
      ]
    },
    {
      "cell_type": "markdown",
      "source": [
        "# Part II - Annotate using reference scRNA dataset"
      ],
      "metadata": {
        "id": "dBs4VMDb97ON"
      },
      "id": "dBs4VMDb97ON"
    },
    {
      "cell_type": "markdown",
      "source": [
        "The process of setting up and training two models for label transfer using scvi-tools involves distinct steps for different purposes:\n",
        "\n",
        "1.  SCVI Model:\n",
        "\n",
        "Purpose: The SCVI model is trained to learn a latent representation of the data. This step helps in capturing the underlying structure and variability in the single-cell data.\n",
        "\n",
        "Functionality: By training the SCVI model, you obtain a latent space that can be used for various downstream analyses, including clustering, visualization, and integration of datasets.\n",
        "\n",
        "2. SCANVI Model:\n",
        "\n",
        "Purpose: The SCANVI model extends the SCVI model by incorporating cell type labels. It is specifically designed for semi-supervised learning, where some cells have known labels (from the reference dataset) and others do not (from the query dataset).\n",
        "\n",
        "Functionality: The SCANVI model uses the latent representation learned by the SCVI model and refines it by leveraging the cell type labels. This allows for accurate label transfer from the reference dataset to the query dataset.\n",
        "\n",
        "In summary, the SCVI model is first trained to learn a robust latent representation of the data. The SCANVI model then builds on this representation to perform label transfer, effectively combining the strengths of unsupervised and semi-supervised learning\n",
        "\n",
        "Reference:\n",
        "https://discourse.scverse.org/t/label-transfer-discrepancy-in-scanvi-model-training/2011https://discourse.scverse.org/t/scanvi-inferred-cell-types-dont-make-sense/3300.\n"
      ],
      "metadata": {
        "id": "mNBsOzZuQV21"
      },
      "id": "mNBsOzZuQV21"
    },
    {
      "cell_type": "markdown",
      "source": [
        "# Read reference file"
      ],
      "metadata": {
        "id": "MdeHNmeCU8On"
      },
      "id": "MdeHNmeCU8On"
    },
    {
      "cell_type": "code",
      "source": [
        "#reference = sc.read_h5ad('/content/drive/MyDrive/Colab Notebooks/PBMC_reference_atlas_final.h5ad')\n",
        "reference = snap.read(snap.datasets.pbmc10k_multiome(), backed=None)"
      ],
      "metadata": {
        "colab": {
          "base_uri": "https://localhost:8080/"
        },
        "id": "vZ9PN_-57Rsb",
        "outputId": "483a56c1-5a79-4011-8873-e506dfd7a7eb"
      },
      "id": "vZ9PN_-57Rsb",
      "execution_count": 58,
      "outputs": [
        {
          "output_type": "stream",
          "name": "stderr",
          "text": [
            "Downloading file '10x-Multiome-Pbmc10k-RNA.h5ad' from 'https://data.mendeley.com/api/datasets/dr2z4jbcx3/draft/files/d079a087-2913-4e29-979e-638e5932bd8c?a=758c37e5-4832-4c91-af89-9a1a83a051b3' to '/root/.cache/snapatac2'.\n"
          ]
        }
      ]
    },
    {
      "cell_type": "code",
      "source": [
        "reference"
      ],
      "metadata": {
        "colab": {
          "base_uri": "https://localhost:8080/"
        },
        "id": "uXctMECL7fkK",
        "outputId": "ad07072d-c153-4ac9-94a6-71e10f361ff9"
      },
      "id": "uXctMECL7fkK",
      "execution_count": 59,
      "outputs": [
        {
          "output_type": "execute_result",
          "data": {
            "text/plain": [
              "AnnData object with n_obs × n_vars = 9631 × 29095\n",
              "    obs: 'domain', 'cell_type'\n",
              "    var: 'gene_ids', 'feature_types'"
            ]
          },
          "metadata": {},
          "execution_count": 59
        }
      ]
    },
    {
      "cell_type": "code",
      "source": [
        "SRR26046013_DM_AOA_INH_GM"
      ],
      "metadata": {
        "colab": {
          "base_uri": "https://localhost:8080/"
        },
        "id": "p4HtV-8N8fSb",
        "outputId": "8f51b308-1835-44b6-9d3c-a86ea00fe14b"
      },
      "id": "p4HtV-8N8fSb",
      "execution_count": 60,
      "outputs": [
        {
          "output_type": "execute_result",
          "data": {
            "text/plain": [
              "AnnData object with n_obs × n_vars = 6013 × 53265\n",
              "    obs: 'n_fragment', 'frac_dup', 'frac_mito', 'tsse', 'doublet_probability', 'doublet_score', 'leiden'\n",
              "    var: 'n_cells', 'mean', 'std'\n",
              "    uns: 'log1p', 'pca', 'neighbors', 'umap', 'leiden'\n",
              "    obsm: 'X_umap', 'X_pca'\n",
              "    varm: 'PCs'\n",
              "    obsp: 'distances', 'connectivities'"
            ]
          },
          "metadata": {},
          "execution_count": 60
        }
      ]
    },
    {
      "cell_type": "markdown",
      "source": [
        "# Read cell by bin matrix"
      ],
      "metadata": {
        "id": "RFddd3Dy-Ifw"
      },
      "id": "RFddd3Dy-Ifw"
    },
    {
      "cell_type": "code",
      "execution_count": 61,
      "metadata": {
        "id": "__eI1yDCNEjJ"
      },
      "outputs": [],
      "source": [
        "atac = sc.read_h5ad('/content/drive/MyDrive/Colab Notebooks/fragments_matrix.h5ad')"
      ],
      "id": "__eI1yDCNEjJ"
    },
    {
      "cell_type": "code",
      "source": [
        "atac"
      ],
      "metadata": {
        "colab": {
          "base_uri": "https://localhost:8080/"
        },
        "id": "wNW1P3_PNHnq",
        "outputId": "ed0a24ec-9865-4b64-b5cb-44477929c58e"
      },
      "id": "wNW1P3_PNHnq",
      "execution_count": 62,
      "outputs": [
        {
          "output_type": "execute_result",
          "data": {
            "text/plain": [
              "AnnData object with n_obs × n_vars = 10210 × 0\n",
              "    obs: 'n_fragment', 'frac_dup', 'frac_mito'\n",
              "    uns: 'reference_sequences'\n",
              "    obsm: 'fragment_paired'"
            ]
          },
          "metadata": {},
          "execution_count": 62
        }
      ]
    },
    {
      "cell_type": "code",
      "source": [
        "query = snap.pp.make_gene_matrix(atac, snap.genome.hg38)"
      ],
      "metadata": {
        "id": "qzirmzt7NJt_"
      },
      "id": "qzirmzt7NJt_",
      "execution_count": 63,
      "outputs": []
    },
    {
      "cell_type": "code",
      "source": [
        "query"
      ],
      "metadata": {
        "colab": {
          "base_uri": "https://localhost:8080/"
        },
        "id": "Hbg3CA5INnO7",
        "outputId": "5917ec0a-5af8-4ebb-abf4-9fef1059eac8"
      },
      "id": "Hbg3CA5INnO7",
      "execution_count": 64,
      "outputs": [
        {
          "output_type": "execute_result",
          "data": {
            "text/plain": [
              "AnnData object with n_obs × n_vars = 10210 × 60606\n",
              "    obs: 'n_fragment', 'frac_dup', 'frac_mito'"
            ]
          },
          "metadata": {},
          "execution_count": 64
        }
      ]
    },
    {
      "cell_type": "code",
      "source": [
        "query.obs['cell_type'] = pd.NA"
      ],
      "metadata": {
        "id": "9-lVY4rFNQpK"
      },
      "id": "9-lVY4rFNQpK",
      "execution_count": 65,
      "outputs": []
    },
    {
      "cell_type": "code",
      "source": [
        "data = ad.concat(\n",
        "    [reference, query],\n",
        "    join='inner',\n",
        "    label='batch',\n",
        "    keys=[\"reference\", \"query\"],\n",
        "    index_unique='_',\n",
        ")\n",
        "data"
      ],
      "metadata": {
        "colab": {
          "base_uri": "https://localhost:8080/"
        },
        "id": "mn9nAw_lNttw",
        "outputId": "98cb02d0-b9e1-440c-ea4f-b91e5ddf7a80"
      },
      "id": "mn9nAw_lNttw",
      "execution_count": 66,
      "outputs": [
        {
          "output_type": "stream",
          "name": "stderr",
          "text": [
            "/usr/local/lib/python3.11/dist-packages/anndata/_core/merge.py:284: FutureWarning:\n",
            "\n",
            "is_categorical_dtype is deprecated and will be removed in a future version. Use isinstance(dtype, CategoricalDtype) instead\n",
            "\n",
            "/usr/local/lib/python3.11/dist-packages/anndata/_core/merge.py:1329: FutureWarning:\n",
            "\n",
            "is_categorical_dtype is deprecated and will be removed in a future version. Use isinstance(dtype, CategoricalDtype) instead\n",
            "\n",
            "/usr/local/lib/python3.11/dist-packages/anndata/_core/merge.py:1329: FutureWarning:\n",
            "\n",
            "The behavior of DataFrame concatenation with empty or all-NA entries is deprecated. In a future version, this will no longer exclude empty or all-NA columns when determining the result dtypes. To retain the old behavior, exclude the relevant entries before the concat operation.\n",
            "\n"
          ]
        },
        {
          "output_type": "execute_result",
          "data": {
            "text/plain": [
              "AnnData object with n_obs × n_vars = 19841 × 20169\n",
              "    obs: 'cell_type', 'batch'"
            ]
          },
          "metadata": {},
          "execution_count": 66
        }
      ]
    },
    {
      "cell_type": "code",
      "source": [
        "data"
      ],
      "metadata": {
        "colab": {
          "base_uri": "https://localhost:8080/"
        },
        "id": "y052e6QiOi2N",
        "outputId": "0a5d8eb4-3141-4fcf-da3f-ee82ee39d970"
      },
      "id": "y052e6QiOi2N",
      "execution_count": 67,
      "outputs": [
        {
          "output_type": "execute_result",
          "data": {
            "text/plain": [
              "AnnData object with n_obs × n_vars = 19841 × 20169\n",
              "    obs: 'cell_type', 'batch'"
            ]
          },
          "metadata": {},
          "execution_count": 67
        }
      ]
    },
    {
      "cell_type": "markdown",
      "source": [
        "# Data integration\n",
        "First we setup the scvi-tools to pretrain the model."
      ],
      "metadata": {
        "id": "t8YrhAaFN1U0"
      },
      "id": "t8YrhAaFN1U0"
    },
    {
      "cell_type": "code",
      "source": [
        "# Train with scvi - part I\n",
        "scvi.model.SCVI.setup_anndata(data, batch_key=\"batch\")\n",
        "vae = scvi.model.SCVI(\n",
        "    data,\n",
        "    n_layers=2,\n",
        "    n_latent=30,\n",
        "    gene_likelihood=\"nb\",\n",
        "    dispersion=\"gene-batch\",\n",
        ")"
      ],
      "metadata": {
        "id": "5WFy85hKPxKr"
      },
      "id": "5WFy85hKPxKr",
      "execution_count": 68,
      "outputs": []
    },
    {
      "cell_type": "code",
      "source": [
        "vae.train(max_epochs=1000, early_stopping=True)"
      ],
      "metadata": {
        "colab": {
          "base_uri": "https://localhost:8080/",
          "height": 399,
          "referenced_widgets": [
            "1ddddc9b27e044c4abde8d009735b61a",
            "855161a1e65845569f6d3f9282c41146",
            "df70369956a245f08008d3528e69131b",
            "7927fb06442f4e568f6f3781de7beb5c",
            "eb54475a2c3c40b780d97304f2302dad",
            "2b649af9a20741edaf67dc496a00c7a7",
            "8ababae13a7244c5970b3af6cb9e7551",
            "5e8b9f7b005641339788e1a51ad7436a",
            "fd425a7365ea4da1baa99376b855e06a",
            "10b161ef55b44c25a079b414218a0ffc",
            "c57d00fd0936435983c3bcb16d0026bb"
          ]
        },
        "id": "lGE07eeTO1uk",
        "outputId": "94ed825b-6479-4b7e-de94-0cf97d2a2386"
      },
      "id": "lGE07eeTO1uk",
      "execution_count": 69,
      "outputs": [
        {
          "output_type": "stream",
          "name": "stderr",
          "text": [
            "INFO: GPU available: True (cuda), used: True\n",
            "INFO:lightning.pytorch.utilities.rank_zero:GPU available: True (cuda), used: True\n",
            "INFO: TPU available: False, using: 0 TPU cores\n",
            "INFO:lightning.pytorch.utilities.rank_zero:TPU available: False, using: 0 TPU cores\n",
            "INFO: HPU available: False, using: 0 HPUs\n",
            "INFO:lightning.pytorch.utilities.rank_zero:HPU available: False, using: 0 HPUs\n",
            "INFO: You are using a CUDA device ('NVIDIA L4') that has Tensor Cores. To properly utilize them, you should set `torch.set_float32_matmul_precision('medium' | 'high')` which will trade-off precision for performance. For more details, read https://pytorch.org/docs/stable/generated/torch.set_float32_matmul_precision.html#torch.set_float32_matmul_precision\n",
            "INFO:lightning.pytorch.utilities.rank_zero:You are using a CUDA device ('NVIDIA L4') that has Tensor Cores. To properly utilize them, you should set `torch.set_float32_matmul_precision('medium' | 'high')` which will trade-off precision for performance. For more details, read https://pytorch.org/docs/stable/generated/torch.set_float32_matmul_precision.html#torch.set_float32_matmul_precision\n",
            "INFO: LOCAL_RANK: 0 - CUDA_VISIBLE_DEVICES: [0]\n",
            "INFO:lightning.pytorch.accelerators.cuda:LOCAL_RANK: 0 - CUDA_VISIBLE_DEVICES: [0]\n",
            "/usr/local/lib/python3.11/dist-packages/lightning/pytorch/trainer/connectors/data_connector.py:425: PossibleUserWarning:\n",
            "\n",
            "The 'train_dataloader' does not have many workers which may be a bottleneck. Consider increasing the value of the `num_workers` argument` to `num_workers=11` in the `DataLoader` to improve performance.\n",
            "\n",
            "/usr/local/lib/python3.11/dist-packages/lightning/pytorch/trainer/connectors/data_connector.py:425: PossibleUserWarning:\n",
            "\n",
            "The 'val_dataloader' does not have many workers which may be a bottleneck. Consider increasing the value of the `num_workers` argument` to `num_workers=11` in the `DataLoader` to improve performance.\n",
            "\n"
          ]
        },
        {
          "output_type": "display_data",
          "data": {
            "text/plain": [
              "Training:   0%|          | 0/1000 [00:00<?, ?it/s]"
            ],
            "application/vnd.jupyter.widget-view+json": {
              "version_major": 2,
              "version_minor": 0,
              "model_id": "1ddddc9b27e044c4abde8d009735b61a"
            }
          },
          "metadata": {}
        },
        {
          "output_type": "stream",
          "name": "stdout",
          "text": [
            "Monitored metric elbo_validation did not improve in the last 45 records. Best score: 8610.850. Signaling Trainer to stop.\n"
          ]
        }
      ]
    },
    {
      "cell_type": "code",
      "source": [
        "import matplotlib.pyplot as plt\n",
        "import matplotlib\n",
        "\n",
        "elbo_train = vae.history_['elbo_train']\n",
        "elbo_validation = vae.history_['elbo_validation']\n",
        "\n",
        "# Plot the training history\n",
        "ax = elbo_train.plot()\n",
        "elbo_validation.plot(ax=ax)\n",
        "\n",
        "# Customize the plot\n",
        "plt.xlabel(\"Epoch\")\n",
        "plt.ylabel(\"ELBO\")\n",
        "plt.title(\"Training and Validation ELBO\")\n",
        "plt.legend([\"Training ELBO\", \"Validation ELBO\"])\n",
        "\n",
        "# Show the plot\n",
        "plt.show()"
      ],
      "metadata": {
        "colab": {
          "base_uri": "https://localhost:8080/",
          "height": 269
        },
        "id": "9kMo84XzVYHk",
        "outputId": "d8c7d7a5-dcbc-4aa5-cf4c-42687bd6049d"
      },
      "id": "9kMo84XzVYHk",
      "execution_count": 112,
      "outputs": [
        {
          "output_type": "error",
          "ename": "ImportError",
          "evalue": "matplotlib is required for plotting when the default backend \"matplotlib\" is selected.",
          "traceback": [
            "\u001b[0;31m---------------------------------------------------------------------------\u001b[0m",
            "\u001b[0;31mImportError\u001b[0m                               Traceback (most recent call last)",
            "\u001b[0;32m<ipython-input-112-7ba7105a16ae>\u001b[0m in \u001b[0;36m<cell line: 0>\u001b[0;34m()\u001b[0m\n\u001b[1;32m      6\u001b[0m \u001b[0;34m\u001b[0m\u001b[0m\n\u001b[1;32m      7\u001b[0m \u001b[0;31m# Plot the training history\u001b[0m\u001b[0;34m\u001b[0m\u001b[0;34m\u001b[0m\u001b[0m\n\u001b[0;32m----> 8\u001b[0;31m \u001b[0max\u001b[0m \u001b[0;34m=\u001b[0m \u001b[0melbo_train\u001b[0m\u001b[0;34m.\u001b[0m\u001b[0mplot\u001b[0m\u001b[0;34m(\u001b[0m\u001b[0;34m)\u001b[0m\u001b[0;34m\u001b[0m\u001b[0;34m\u001b[0m\u001b[0m\n\u001b[0m\u001b[1;32m      9\u001b[0m \u001b[0melbo_validation\u001b[0m\u001b[0;34m.\u001b[0m\u001b[0mplot\u001b[0m\u001b[0;34m(\u001b[0m\u001b[0max\u001b[0m\u001b[0;34m=\u001b[0m\u001b[0max\u001b[0m\u001b[0;34m)\u001b[0m\u001b[0;34m\u001b[0m\u001b[0;34m\u001b[0m\u001b[0m\n\u001b[1;32m     10\u001b[0m \u001b[0;34m\u001b[0m\u001b[0m\n",
            "\u001b[0;32m/usr/local/lib/python3.11/dist-packages/pandas/plotting/_core.py\u001b[0m in \u001b[0;36m__call__\u001b[0;34m(self, *args, **kwargs)\u001b[0m\n\u001b[1;32m    949\u001b[0m \u001b[0;34m\u001b[0m\u001b[0m\n\u001b[1;32m    950\u001b[0m                 \u001b[0mlabel_kw\u001b[0m \u001b[0;34m=\u001b[0m \u001b[0mkwargs\u001b[0m\u001b[0;34m[\u001b[0m\u001b[0;34m\"label\"\u001b[0m\u001b[0;34m]\u001b[0m \u001b[0;32mif\u001b[0m \u001b[0;34m\"label\"\u001b[0m \u001b[0;32min\u001b[0m \u001b[0mkwargs\u001b[0m \u001b[0;32melse\u001b[0m \u001b[0;32mFalse\u001b[0m\u001b[0;34m\u001b[0m\u001b[0;34m\u001b[0m\u001b[0m\n\u001b[0;32m--> 951\u001b[0;31m                 \u001b[0;32mfor\u001b[0m \u001b[0mkw\u001b[0m \u001b[0;32min\u001b[0m \u001b[0;34m[\u001b[0m\u001b[0;34m\"xerr\"\u001b[0m\u001b[0;34m,\u001b[0m \u001b[0;34m\"yerr\"\u001b[0m\u001b[0;34m]\u001b[0m\u001b[0;34m:\u001b[0m\u001b[0;34m\u001b[0m\u001b[0;34m\u001b[0m\u001b[0m\n\u001b[0m\u001b[1;32m    952\u001b[0m                     if kw in kwargs and (\n\u001b[1;32m    953\u001b[0m                         \u001b[0misinstance\u001b[0m\u001b[0;34m(\u001b[0m\u001b[0mkwargs\u001b[0m\u001b[0;34m[\u001b[0m\u001b[0mkw\u001b[0m\u001b[0;34m]\u001b[0m\u001b[0;34m,\u001b[0m \u001b[0mstr\u001b[0m\u001b[0;34m)\u001b[0m \u001b[0;32mor\u001b[0m \u001b[0mis_integer\u001b[0m\u001b[0;34m(\u001b[0m\u001b[0mkwargs\u001b[0m\u001b[0;34m[\u001b[0m\u001b[0mkw\u001b[0m\u001b[0;34m]\u001b[0m\u001b[0;34m)\u001b[0m\u001b[0;34m\u001b[0m\u001b[0;34m\u001b[0m\u001b[0m\n",
            "\u001b[0;32m/usr/local/lib/python3.11/dist-packages/pandas/plotting/_core.py\u001b[0m in \u001b[0;36m_get_plot_backend\u001b[0;34m(backend)\u001b[0m\n",
            "\u001b[0;32m/usr/local/lib/python3.11/dist-packages/pandas/plotting/_core.py\u001b[0m in \u001b[0;36m_load_backend\u001b[0;34m(backend)\u001b[0m\n",
            "\u001b[0;31mImportError\u001b[0m: matplotlib is required for plotting when the default backend \"matplotlib\" is selected."
          ]
        }
      ]
    },
    {
      "cell_type": "code",
      "source": [
        "data"
      ],
      "metadata": {
        "colab": {
          "base_uri": "https://localhost:8080/",
          "height": 149
        },
        "id": "o0sRe-IWVx4E",
        "outputId": "1d9df68a-da22-40b8-f46d-c885d415a6d8"
      },
      "id": "o0sRe-IWVx4E",
      "execution_count": 102,
      "outputs": [
        {
          "output_type": "display_data",
          "data": {
            "text/plain": [
              "SCVI model with the following parameters: \n",
              "n_hidden: \u001b[1;36m128\u001b[0m, n_latent: \u001b[1;36m30\u001b[0m, n_layers: \u001b[1;36m2\u001b[0m, dropout_rate: \u001b[1;36m0.1\u001b[0m, dispersion: gene-batch, gene_likelihood: nb, \n",
              "latent_distribution: normal.\n",
              "Training status: Trained\n",
              "Model's adata is minified?: \u001b[3;91mFalse\u001b[0m\n"
            ],
            "text/html": [
              "<pre style=\"white-space:pre;overflow-x:auto;line-height:normal;font-family:Menlo,'DejaVu Sans Mono',consolas,'Courier New',monospace\">SCVI model with the following parameters: \n",
              "n_hidden: <span style=\"color: #008080; text-decoration-color: #008080; font-weight: bold\">128</span>, n_latent: <span style=\"color: #008080; text-decoration-color: #008080; font-weight: bold\">30</span>, n_layers: <span style=\"color: #008080; text-decoration-color: #008080; font-weight: bold\">2</span>, dropout_rate: <span style=\"color: #008080; text-decoration-color: #008080; font-weight: bold\">0.1</span>, dispersion: gene-batch, gene_likelihood: nb, \n",
              "latent_distribution: normal.\n",
              "Training status: Trained\n",
              "Model's adata is minified?: <span style=\"color: #ff0000; text-decoration-color: #ff0000; font-style: italic\">False</span>\n",
              "</pre>\n"
            ]
          },
          "metadata": {}
        },
        {
          "output_type": "execute_result",
          "data": {
            "text/plain": [
              "AnnData object with n_obs × n_vars = 19841 × 20169\n",
              "    obs: 'cell_type', 'batch', '_scvi_batch', '_scvi_labels'\n",
              "    uns: '_scvi_uuid', '_scvi_manager_uuid'"
            ]
          },
          "metadata": {},
          "execution_count": 102
        }
      ]
    },
    {
      "cell_type": "code",
      "source": [
        "data.obs[\"celltype_scanvi\"] = 'Unknown'\n",
        "ref_idx = data.obs['batch'] == \"reference\"\n",
        "data.obs[\"celltype_scanvi\"][ref_idx] = data.obs['cell_type'][ref_idx]"
      ],
      "metadata": {
        "colab": {
          "base_uri": "https://localhost:8080/"
        },
        "id": "O6lAgB3APRMU",
        "outputId": "83a688fc-805f-4e6d-a403-8e84514d0a90"
      },
      "id": "O6lAgB3APRMU",
      "execution_count": 103,
      "outputs": [
        {
          "output_type": "stream",
          "name": "stderr",
          "text": [
            "<ipython-input-103-ac18040849ae>:3: SettingWithCopyWarning:\n",
            "\n",
            "\n",
            "A value is trying to be set on a copy of a slice from a DataFrame\n",
            "\n",
            "See the caveats in the documentation: https://pandas.pydata.org/pandas-docs/stable/user_guide/indexing.html#returning-a-view-versus-a-copy\n",
            "\n"
          ]
        }
      ]
    },
    {
      "cell_type": "code",
      "source": [
        "data.obs"
      ],
      "metadata": {
        "colab": {
          "base_uri": "https://localhost:8080/",
          "height": 493
        },
        "id": "WPB6FsCoWCJ-",
        "outputId": "5d3cc2c8-267e-4047-fa87-9dcce9f712a9"
      },
      "id": "WPB6FsCoWCJ-",
      "execution_count": 104,
      "outputs": [
        {
          "output_type": "stream",
          "name": "stderr",
          "text": [
            "/usr/local/lib/python3.11/dist-packages/IPython/lib/pretty.py:700: FutureWarning:\n",
            "\n",
            "is_categorical_dtype is deprecated and will be removed in a future version. Use isinstance(dtype, CategoricalDtype) instead\n",
            "\n"
          ]
        },
        {
          "output_type": "execute_result",
          "data": {
            "text/plain": [
              "                              cell_type      batch  _scvi_batch  _scvi_labels  \\\n",
              "AAACAGCCAATCCCTT-1_reference    CD4 TCM  reference            0             0   \n",
              "AAACAGCCAATGCGCT-1_reference  CD4 Naive  reference            0             0   \n",
              "AAACAGCCACCAACCG-1_reference  CD8 Naive  reference            0             0   \n",
              "AAACAGCCAGGATAAC-1_reference  CD4 Naive  reference            0             0   \n",
              "AAACAGCCAGTTTACG-1_reference    CD4 TCM  reference            0             0   \n",
              "...                                 ...        ...          ...           ...   \n",
              "TTTGGGATGGCGGTTC_query              NaN      query            1             0   \n",
              "TTTGGGATGTCCAGCG_query              NaN      query            1             0   \n",
              "TTTGGGATGTGTTCCC_query              NaN      query            1             0   \n",
              "TTTGGGATGTTAGCTG_query              NaN      query            1             0   \n",
              "TTTGGGATGTTGCGTA_query              NaN      query            1             0   \n",
              "\n",
              "                             celltype_scanvi  \n",
              "AAACAGCCAATCCCTT-1_reference         CD4 TCM  \n",
              "AAACAGCCAATGCGCT-1_reference       CD4 Naive  \n",
              "AAACAGCCACCAACCG-1_reference       CD8 Naive  \n",
              "AAACAGCCAGGATAAC-1_reference       CD4 Naive  \n",
              "AAACAGCCAGTTTACG-1_reference         CD4 TCM  \n",
              "...                                      ...  \n",
              "TTTGGGATGGCGGTTC_query               Unknown  \n",
              "TTTGGGATGTCCAGCG_query               Unknown  \n",
              "TTTGGGATGTGTTCCC_query               Unknown  \n",
              "TTTGGGATGTTAGCTG_query               Unknown  \n",
              "TTTGGGATGTTGCGTA_query               Unknown  \n",
              "\n",
              "[19841 rows x 5 columns]"
            ],
            "text/html": [
              "\n",
              "  <div id=\"df-45459633-4fb7-40bd-b2c3-381d66d51729\" class=\"colab-df-container\">\n",
              "    <div>\n",
              "<style scoped>\n",
              "    .dataframe tbody tr th:only-of-type {\n",
              "        vertical-align: middle;\n",
              "    }\n",
              "\n",
              "    .dataframe tbody tr th {\n",
              "        vertical-align: top;\n",
              "    }\n",
              "\n",
              "    .dataframe thead th {\n",
              "        text-align: right;\n",
              "    }\n",
              "</style>\n",
              "<table border=\"1\" class=\"dataframe\">\n",
              "  <thead>\n",
              "    <tr style=\"text-align: right;\">\n",
              "      <th></th>\n",
              "      <th>cell_type</th>\n",
              "      <th>batch</th>\n",
              "      <th>_scvi_batch</th>\n",
              "      <th>_scvi_labels</th>\n",
              "      <th>celltype_scanvi</th>\n",
              "    </tr>\n",
              "  </thead>\n",
              "  <tbody>\n",
              "    <tr>\n",
              "      <th>AAACAGCCAATCCCTT-1_reference</th>\n",
              "      <td>CD4 TCM</td>\n",
              "      <td>reference</td>\n",
              "      <td>0</td>\n",
              "      <td>0</td>\n",
              "      <td>CD4 TCM</td>\n",
              "    </tr>\n",
              "    <tr>\n",
              "      <th>AAACAGCCAATGCGCT-1_reference</th>\n",
              "      <td>CD4 Naive</td>\n",
              "      <td>reference</td>\n",
              "      <td>0</td>\n",
              "      <td>0</td>\n",
              "      <td>CD4 Naive</td>\n",
              "    </tr>\n",
              "    <tr>\n",
              "      <th>AAACAGCCACCAACCG-1_reference</th>\n",
              "      <td>CD8 Naive</td>\n",
              "      <td>reference</td>\n",
              "      <td>0</td>\n",
              "      <td>0</td>\n",
              "      <td>CD8 Naive</td>\n",
              "    </tr>\n",
              "    <tr>\n",
              "      <th>AAACAGCCAGGATAAC-1_reference</th>\n",
              "      <td>CD4 Naive</td>\n",
              "      <td>reference</td>\n",
              "      <td>0</td>\n",
              "      <td>0</td>\n",
              "      <td>CD4 Naive</td>\n",
              "    </tr>\n",
              "    <tr>\n",
              "      <th>AAACAGCCAGTTTACG-1_reference</th>\n",
              "      <td>CD4 TCM</td>\n",
              "      <td>reference</td>\n",
              "      <td>0</td>\n",
              "      <td>0</td>\n",
              "      <td>CD4 TCM</td>\n",
              "    </tr>\n",
              "    <tr>\n",
              "      <th>...</th>\n",
              "      <td>...</td>\n",
              "      <td>...</td>\n",
              "      <td>...</td>\n",
              "      <td>...</td>\n",
              "      <td>...</td>\n",
              "    </tr>\n",
              "    <tr>\n",
              "      <th>TTTGGGATGGCGGTTC_query</th>\n",
              "      <td>NaN</td>\n",
              "      <td>query</td>\n",
              "      <td>1</td>\n",
              "      <td>0</td>\n",
              "      <td>Unknown</td>\n",
              "    </tr>\n",
              "    <tr>\n",
              "      <th>TTTGGGATGTCCAGCG_query</th>\n",
              "      <td>NaN</td>\n",
              "      <td>query</td>\n",
              "      <td>1</td>\n",
              "      <td>0</td>\n",
              "      <td>Unknown</td>\n",
              "    </tr>\n",
              "    <tr>\n",
              "      <th>TTTGGGATGTGTTCCC_query</th>\n",
              "      <td>NaN</td>\n",
              "      <td>query</td>\n",
              "      <td>1</td>\n",
              "      <td>0</td>\n",
              "      <td>Unknown</td>\n",
              "    </tr>\n",
              "    <tr>\n",
              "      <th>TTTGGGATGTTAGCTG_query</th>\n",
              "      <td>NaN</td>\n",
              "      <td>query</td>\n",
              "      <td>1</td>\n",
              "      <td>0</td>\n",
              "      <td>Unknown</td>\n",
              "    </tr>\n",
              "    <tr>\n",
              "      <th>TTTGGGATGTTGCGTA_query</th>\n",
              "      <td>NaN</td>\n",
              "      <td>query</td>\n",
              "      <td>1</td>\n",
              "      <td>0</td>\n",
              "      <td>Unknown</td>\n",
              "    </tr>\n",
              "  </tbody>\n",
              "</table>\n",
              "<p>19841 rows × 5 columns</p>\n",
              "</div>\n",
              "    <div class=\"colab-df-buttons\">\n",
              "\n",
              "  <div class=\"colab-df-container\">\n",
              "    <button class=\"colab-df-convert\" onclick=\"convertToInteractive('df-45459633-4fb7-40bd-b2c3-381d66d51729')\"\n",
              "            title=\"Convert this dataframe to an interactive table.\"\n",
              "            style=\"display:none;\">\n",
              "\n",
              "  <svg xmlns=\"http://www.w3.org/2000/svg\" height=\"24px\" viewBox=\"0 -960 960 960\">\n",
              "    <path d=\"M120-120v-720h720v720H120Zm60-500h600v-160H180v160Zm220 220h160v-160H400v160Zm0 220h160v-160H400v160ZM180-400h160v-160H180v160Zm440 0h160v-160H620v160ZM180-180h160v-160H180v160Zm440 0h160v-160H620v160Z\"/>\n",
              "  </svg>\n",
              "    </button>\n",
              "\n",
              "  <style>\n",
              "    .colab-df-container {\n",
              "      display:flex;\n",
              "      gap: 12px;\n",
              "    }\n",
              "\n",
              "    .colab-df-convert {\n",
              "      background-color: #E8F0FE;\n",
              "      border: none;\n",
              "      border-radius: 50%;\n",
              "      cursor: pointer;\n",
              "      display: none;\n",
              "      fill: #1967D2;\n",
              "      height: 32px;\n",
              "      padding: 0 0 0 0;\n",
              "      width: 32px;\n",
              "    }\n",
              "\n",
              "    .colab-df-convert:hover {\n",
              "      background-color: #E2EBFA;\n",
              "      box-shadow: 0px 1px 2px rgba(60, 64, 67, 0.3), 0px 1px 3px 1px rgba(60, 64, 67, 0.15);\n",
              "      fill: #174EA6;\n",
              "    }\n",
              "\n",
              "    .colab-df-buttons div {\n",
              "      margin-bottom: 4px;\n",
              "    }\n",
              "\n",
              "    [theme=dark] .colab-df-convert {\n",
              "      background-color: #3B4455;\n",
              "      fill: #D2E3FC;\n",
              "    }\n",
              "\n",
              "    [theme=dark] .colab-df-convert:hover {\n",
              "      background-color: #434B5C;\n",
              "      box-shadow: 0px 1px 3px 1px rgba(0, 0, 0, 0.15);\n",
              "      filter: drop-shadow(0px 1px 2px rgba(0, 0, 0, 0.3));\n",
              "      fill: #FFFFFF;\n",
              "    }\n",
              "  </style>\n",
              "\n",
              "    <script>\n",
              "      const buttonEl =\n",
              "        document.querySelector('#df-45459633-4fb7-40bd-b2c3-381d66d51729 button.colab-df-convert');\n",
              "      buttonEl.style.display =\n",
              "        google.colab.kernel.accessAllowed ? 'block' : 'none';\n",
              "\n",
              "      async function convertToInteractive(key) {\n",
              "        const element = document.querySelector('#df-45459633-4fb7-40bd-b2c3-381d66d51729');\n",
              "        const dataTable =\n",
              "          await google.colab.kernel.invokeFunction('convertToInteractive',\n",
              "                                                    [key], {});\n",
              "        if (!dataTable) return;\n",
              "\n",
              "        const docLinkHtml = 'Like what you see? Visit the ' +\n",
              "          '<a target=\"_blank\" href=https://colab.research.google.com/notebooks/data_table.ipynb>data table notebook</a>'\n",
              "          + ' to learn more about interactive tables.';\n",
              "        element.innerHTML = '';\n",
              "        dataTable['output_type'] = 'display_data';\n",
              "        await google.colab.output.renderOutput(dataTable, element);\n",
              "        const docLink = document.createElement('div');\n",
              "        docLink.innerHTML = docLinkHtml;\n",
              "        element.appendChild(docLink);\n",
              "      }\n",
              "    </script>\n",
              "  </div>\n",
              "\n",
              "\n",
              "<div id=\"df-ee345590-3110-454c-98aa-8f46b8f0965e\">\n",
              "  <button class=\"colab-df-quickchart\" onclick=\"quickchart('df-ee345590-3110-454c-98aa-8f46b8f0965e')\"\n",
              "            title=\"Suggest charts\"\n",
              "            style=\"display:none;\">\n",
              "\n",
              "<svg xmlns=\"http://www.w3.org/2000/svg\" height=\"24px\"viewBox=\"0 0 24 24\"\n",
              "     width=\"24px\">\n",
              "    <g>\n",
              "        <path d=\"M19 3H5c-1.1 0-2 .9-2 2v14c0 1.1.9 2 2 2h14c1.1 0 2-.9 2-2V5c0-1.1-.9-2-2-2zM9 17H7v-7h2v7zm4 0h-2V7h2v10zm4 0h-2v-4h2v4z\"/>\n",
              "    </g>\n",
              "</svg>\n",
              "  </button>\n",
              "\n",
              "<style>\n",
              "  .colab-df-quickchart {\n",
              "      --bg-color: #E8F0FE;\n",
              "      --fill-color: #1967D2;\n",
              "      --hover-bg-color: #E2EBFA;\n",
              "      --hover-fill-color: #174EA6;\n",
              "      --disabled-fill-color: #AAA;\n",
              "      --disabled-bg-color: #DDD;\n",
              "  }\n",
              "\n",
              "  [theme=dark] .colab-df-quickchart {\n",
              "      --bg-color: #3B4455;\n",
              "      --fill-color: #D2E3FC;\n",
              "      --hover-bg-color: #434B5C;\n",
              "      --hover-fill-color: #FFFFFF;\n",
              "      --disabled-bg-color: #3B4455;\n",
              "      --disabled-fill-color: #666;\n",
              "  }\n",
              "\n",
              "  .colab-df-quickchart {\n",
              "    background-color: var(--bg-color);\n",
              "    border: none;\n",
              "    border-radius: 50%;\n",
              "    cursor: pointer;\n",
              "    display: none;\n",
              "    fill: var(--fill-color);\n",
              "    height: 32px;\n",
              "    padding: 0;\n",
              "    width: 32px;\n",
              "  }\n",
              "\n",
              "  .colab-df-quickchart:hover {\n",
              "    background-color: var(--hover-bg-color);\n",
              "    box-shadow: 0 1px 2px rgba(60, 64, 67, 0.3), 0 1px 3px 1px rgba(60, 64, 67, 0.15);\n",
              "    fill: var(--button-hover-fill-color);\n",
              "  }\n",
              "\n",
              "  .colab-df-quickchart-complete:disabled,\n",
              "  .colab-df-quickchart-complete:disabled:hover {\n",
              "    background-color: var(--disabled-bg-color);\n",
              "    fill: var(--disabled-fill-color);\n",
              "    box-shadow: none;\n",
              "  }\n",
              "\n",
              "  .colab-df-spinner {\n",
              "    border: 2px solid var(--fill-color);\n",
              "    border-color: transparent;\n",
              "    border-bottom-color: var(--fill-color);\n",
              "    animation:\n",
              "      spin 1s steps(1) infinite;\n",
              "  }\n",
              "\n",
              "  @keyframes spin {\n",
              "    0% {\n",
              "      border-color: transparent;\n",
              "      border-bottom-color: var(--fill-color);\n",
              "      border-left-color: var(--fill-color);\n",
              "    }\n",
              "    20% {\n",
              "      border-color: transparent;\n",
              "      border-left-color: var(--fill-color);\n",
              "      border-top-color: var(--fill-color);\n",
              "    }\n",
              "    30% {\n",
              "      border-color: transparent;\n",
              "      border-left-color: var(--fill-color);\n",
              "      border-top-color: var(--fill-color);\n",
              "      border-right-color: var(--fill-color);\n",
              "    }\n",
              "    40% {\n",
              "      border-color: transparent;\n",
              "      border-right-color: var(--fill-color);\n",
              "      border-top-color: var(--fill-color);\n",
              "    }\n",
              "    60% {\n",
              "      border-color: transparent;\n",
              "      border-right-color: var(--fill-color);\n",
              "    }\n",
              "    80% {\n",
              "      border-color: transparent;\n",
              "      border-right-color: var(--fill-color);\n",
              "      border-bottom-color: var(--fill-color);\n",
              "    }\n",
              "    90% {\n",
              "      border-color: transparent;\n",
              "      border-bottom-color: var(--fill-color);\n",
              "    }\n",
              "  }\n",
              "</style>\n",
              "\n",
              "  <script>\n",
              "    async function quickchart(key) {\n",
              "      const quickchartButtonEl =\n",
              "        document.querySelector('#' + key + ' button');\n",
              "      quickchartButtonEl.disabled = true;  // To prevent multiple clicks.\n",
              "      quickchartButtonEl.classList.add('colab-df-spinner');\n",
              "      try {\n",
              "        const charts = await google.colab.kernel.invokeFunction(\n",
              "            'suggestCharts', [key], {});\n",
              "      } catch (error) {\n",
              "        console.error('Error during call to suggestCharts:', error);\n",
              "      }\n",
              "      quickchartButtonEl.classList.remove('colab-df-spinner');\n",
              "      quickchartButtonEl.classList.add('colab-df-quickchart-complete');\n",
              "    }\n",
              "    (() => {\n",
              "      let quickchartButtonEl =\n",
              "        document.querySelector('#df-ee345590-3110-454c-98aa-8f46b8f0965e button');\n",
              "      quickchartButtonEl.style.display =\n",
              "        google.colab.kernel.accessAllowed ? 'block' : 'none';\n",
              "    })();\n",
              "  </script>\n",
              "</div>\n",
              "\n",
              "    </div>\n",
              "  </div>\n"
            ],
            "application/vnd.google.colaboratory.intrinsic+json": {
              "type": "dataframe",
              "summary": "{\n  \"name\": \"data\",\n  \"rows\": 19841,\n  \"fields\": [\n    {\n      \"column\": \"cell_type\",\n      \"properties\": {\n        \"dtype\": \"category\",\n        \"num_unique_values\": 19,\n        \"samples\": [\n          \"CD4 TCM\",\n          \"Treg\",\n          \"Naive B\"\n        ],\n        \"semantic_type\": \"\",\n        \"description\": \"\"\n      }\n    },\n    {\n      \"column\": \"batch\",\n      \"properties\": {\n        \"dtype\": \"category\",\n        \"num_unique_values\": 2,\n        \"samples\": [\n          \"query\",\n          \"reference\"\n        ],\n        \"semantic_type\": \"\",\n        \"description\": \"\"\n      }\n    },\n    {\n      \"column\": \"_scvi_batch\",\n      \"properties\": {\n        \"dtype\": \"int8\",\n        \"num_unique_values\": 2,\n        \"samples\": [\n          1,\n          0\n        ],\n        \"semantic_type\": \"\",\n        \"description\": \"\"\n      }\n    },\n    {\n      \"column\": \"_scvi_labels\",\n      \"properties\": {\n        \"dtype\": \"int8\",\n        \"num_unique_values\": 1,\n        \"samples\": [\n          0\n        ],\n        \"semantic_type\": \"\",\n        \"description\": \"\"\n      }\n    },\n    {\n      \"column\": \"celltype_scanvi\",\n      \"properties\": {\n        \"dtype\": \"category\",\n        \"num_unique_values\": 20,\n        \"samples\": [\n          \"CD4 TCM\"\n        ],\n        \"semantic_type\": \"\",\n        \"description\": \"\"\n      }\n    }\n  ]\n}"
            }
          },
          "metadata": {},
          "execution_count": 104
        }
      ]
    },
    {
      "cell_type": "code",
      "source": [
        "# Train with scanvi - part II\n",
        "lvae = scvi.model.SCANVI.from_scvi_model(\n",
        "    vae,\n",
        "    adata=data,\n",
        "    labels_key=\"celltype_scanvi\",\n",
        "    unlabeled_category=\"Unknown\",\n",
        ")"
      ],
      "metadata": {
        "id": "AnMZad8jPvXn"
      },
      "id": "AnMZad8jPvXn",
      "execution_count": 105,
      "outputs": []
    },
    {
      "cell_type": "code",
      "source": [
        "lvae.train(max_epochs=1000, n_samples_per_label=100)"
      ],
      "metadata": {
        "colab": {
          "base_uri": "https://localhost:8080/",
          "height": 329,
          "referenced_widgets": [
            "006103678cf04ca391cd0b95404b9b1a",
            "05902a3c206c4685b4f37c9ca296f705",
            "6e6df94546df49fe9e088d43c3ce81e9",
            "5ee879ac38ef41e883dab17e943586b6",
            "c3222cf90e7d451989c61fa430a368e8",
            "ace074b8428c468dbcdfa615dc52755a",
            "87293a7040a04e91ad63ed49f61507f9",
            "a630c07e86d743edb1c4a41f03eb343b",
            "b5334cef3c314632b7616790a2288999",
            "4d71a1ad07154a37a971f38756cc9393",
            "d5e301533fa94b309315a631250c1847"
          ]
        },
        "id": "Dg66OHVpPmbQ",
        "outputId": "124cd072-6472-4a15-f8ff-badc2f9300c6"
      },
      "id": "Dg66OHVpPmbQ",
      "execution_count": 106,
      "outputs": [
        {
          "output_type": "stream",
          "name": "stdout",
          "text": [
            "\u001b[34mINFO    \u001b[0m Training for \u001b[1;36m1000\u001b[0m epochs.                                                                                 \n"
          ]
        },
        {
          "output_type": "stream",
          "name": "stderr",
          "text": [
            "INFO: GPU available: True (cuda), used: True\n",
            "INFO:lightning.pytorch.utilities.rank_zero:GPU available: True (cuda), used: True\n",
            "INFO: TPU available: False, using: 0 TPU cores\n",
            "INFO:lightning.pytorch.utilities.rank_zero:TPU available: False, using: 0 TPU cores\n",
            "INFO: HPU available: False, using: 0 HPUs\n",
            "INFO:lightning.pytorch.utilities.rank_zero:HPU available: False, using: 0 HPUs\n",
            "INFO: LOCAL_RANK: 0 - CUDA_VISIBLE_DEVICES: [0]\n",
            "INFO:lightning.pytorch.accelerators.cuda:LOCAL_RANK: 0 - CUDA_VISIBLE_DEVICES: [0]\n",
            "/usr/local/lib/python3.11/dist-packages/lightning/pytorch/trainer/connectors/data_connector.py:425: PossibleUserWarning:\n",
            "\n",
            "The 'train_dataloader' does not have many workers which may be a bottleneck. Consider increasing the value of the `num_workers` argument` to `num_workers=11` in the `DataLoader` to improve performance.\n",
            "\n"
          ]
        },
        {
          "output_type": "display_data",
          "data": {
            "text/plain": [
              "Training:   0%|          | 0/1000 [00:00<?, ?it/s]"
            ],
            "application/vnd.jupyter.widget-view+json": {
              "version_major": 2,
              "version_minor": 0,
              "model_id": "006103678cf04ca391cd0b95404b9b1a"
            }
          },
          "metadata": {}
        },
        {
          "output_type": "stream",
          "name": "stderr",
          "text": [
            "INFO: `Trainer.fit` stopped: `max_epochs=1000` reached.\n",
            "INFO:lightning.pytorch.utilities.rank_zero:`Trainer.fit` stopped: `max_epochs=1000` reached.\n"
          ]
        }
      ]
    },
    {
      "cell_type": "markdown",
      "source": [
        "# Perform the label transfer/prediction\n",
        "Obtain the joint embedding of reference and query data"
      ],
      "metadata": {
        "id": "GdXuyClYRCNm"
      },
      "id": "GdXuyClYRCNm"
    },
    {
      "cell_type": "code",
      "source": [
        "data.obs[\"C_scANVI\"] = lvae.predict(data)\n",
        "data.obsm[\"X_scANVI\"] = lvae.get_latent_representation(data)\n",
        "sc.pp.neighbors(data, use_rep=\"X_scANVI\")\n",
        "sc.tl.umap(data)\n",
        "sc.pl.umap(data, color=['C_scANVI', \"batch\"], wspace=0.45)"
      ],
      "metadata": {
        "colab": {
          "base_uri": "https://localhost:8080/",
          "height": 375
        },
        "id": "nIpQW14JRD1r",
        "outputId": "e02373e8-d218-4ee0-c7d6-290a8f595970"
      },
      "id": "nIpQW14JRD1r",
      "execution_count": 107,
      "outputs": [
        {
          "output_type": "display_data",
          "data": {
            "text/plain": [
              "<Figure size 1856x480 with 2 Axes>"
            ],
            "image/png": "[encoded data removed]"
          },
          "metadata": {}
        }
      ]
    },
    {
      "cell_type": "code",
      "source": [
        "data"
      ],
      "metadata": {
        "id": "-rfHrSvSib9W",
        "outputId": "497897c5-ec50-4190-be3a-a80e59260e71",
        "colab": {
          "base_uri": "https://localhost:8080/"
        }
      },
      "id": "-rfHrSvSib9W",
      "execution_count": 111,
      "outputs": [
        {
          "output_type": "execute_result",
          "data": {
            "text/plain": [
              "AnnData object with n_obs × n_vars = 19841 × 20169\n",
              "    obs: 'cell_type', 'batch', '_scvi_batch', '_scvi_labels', 'celltype_scanvi', 'C_scANVI'\n",
              "    uns: '_scvi_uuid', '_scvi_manager_uuid', 'neighbors', 'umap', 'C_scANVI_colors', 'batch_colors'\n",
              "    obsm: 'X_scANVI', 'X_umap'\n",
              "    obsp: 'distances', 'connectivities'"
            ]
          },
          "metadata": {},
          "execution_count": 111
        }
      ]
    },
    {
      "cell_type": "code",
      "source": [
        "data.obs"
      ],
      "metadata": {
        "id": "vwEkW1deiDJS",
        "outputId": "06e3ebcf-57a6-46fa-d94c-10ae9213154d",
        "colab": {
          "base_uri": "https://localhost:8080/",
          "height": 493
        }
      },
      "id": "vwEkW1deiDJS",
      "execution_count": 110,
      "outputs": [
        {
          "output_type": "stream",
          "name": "stderr",
          "text": [
            "/usr/local/lib/python3.11/dist-packages/IPython/lib/pretty.py:700: FutureWarning:\n",
            "\n",
            "is_categorical_dtype is deprecated and will be removed in a future version. Use isinstance(dtype, CategoricalDtype) instead\n",
            "\n"
          ]
        },
        {
          "output_type": "execute_result",
          "data": {
            "text/plain": [
              "                              cell_type      batch  _scvi_batch  _scvi_labels  \\\n",
              "AAACAGCCAATCCCTT-1_reference    CD4 TCM  reference            0             3   \n",
              "AAACAGCCAATGCGCT-1_reference  CD4 Naive  reference            0             2   \n",
              "AAACAGCCACCAACCG-1_reference  CD8 Naive  reference            0             5   \n",
              "AAACAGCCAGGATAAC-1_reference  CD4 Naive  reference            0             2   \n",
              "AAACAGCCAGTTTACG-1_reference    CD4 TCM  reference            0             3   \n",
              "...                                 ...        ...          ...           ...   \n",
              "TTTGGGATGGCGGTTC_query              NaN      query            1            19   \n",
              "TTTGGGATGTCCAGCG_query              NaN      query            1            19   \n",
              "TTTGGGATGTGTTCCC_query              NaN      query            1            19   \n",
              "TTTGGGATGTTAGCTG_query              NaN      query            1            19   \n",
              "TTTGGGATGTTGCGTA_query              NaN      query            1            19   \n",
              "\n",
              "                             celltype_scanvi   C_scANVI  \n",
              "AAACAGCCAATCCCTT-1_reference         CD4 TCM    CD4 TCM  \n",
              "AAACAGCCAATGCGCT-1_reference       CD4 Naive  CD4 Naive  \n",
              "AAACAGCCACCAACCG-1_reference       CD8 Naive  CD8 Naive  \n",
              "AAACAGCCAGGATAAC-1_reference       CD4 Naive  CD4 Naive  \n",
              "AAACAGCCAGTTTACG-1_reference         CD4 TCM    CD4 TCM  \n",
              "...                                      ...        ...  \n",
              "TTTGGGATGGCGGTTC_query               Unknown       HSPC  \n",
              "TTTGGGATGTCCAGCG_query               Unknown       Treg  \n",
              "TTTGGGATGTGTTCCC_query               Unknown       Treg  \n",
              "TTTGGGATGTTAGCTG_query               Unknown        pDC  \n",
              "TTTGGGATGTTGCGTA_query               Unknown        pDC  \n",
              "\n",
              "[19841 rows x 6 columns]"
            ],
            "text/html": [
              "\n",
              "  <div id=\"df-8a2f20db-c230-4ea5-9170-545252bd353c\" class=\"colab-df-container\">\n",
              "    <div>\n",
              "<style scoped>\n",
              "    .dataframe tbody tr th:only-of-type {\n",
              "        vertical-align: middle;\n",
              "    }\n",
              "\n",
              "    .dataframe tbody tr th {\n",
              "        vertical-align: top;\n",
              "    }\n",
              "\n",
              "    .dataframe thead th {\n",
              "        text-align: right;\n",
              "    }\n",
              "</style>\n",
              "<table border=\"1\" class=\"dataframe\">\n",
              "  <thead>\n",
              "    <tr style=\"text-align: right;\">\n",
              "      <th></th>\n",
              "      <th>cell_type</th>\n",
              "      <th>batch</th>\n",
              "      <th>_scvi_batch</th>\n",
              "      <th>_scvi_labels</th>\n",
              "      <th>celltype_scanvi</th>\n",
              "      <th>C_scANVI</th>\n",
              "    </tr>\n",
              "  </thead>\n",
              "  <tbody>\n",
              "    <tr>\n",
              "      <th>AAACAGCCAATCCCTT-1_reference</th>\n",
              "      <td>CD4 TCM</td>\n",
              "      <td>reference</td>\n",
              "      <td>0</td>\n",
              "      <td>3</td>\n",
              "      <td>CD4 TCM</td>\n",
              "      <td>CD4 TCM</td>\n",
              "    </tr>\n",
              "    <tr>\n",
              "      <th>AAACAGCCAATGCGCT-1_reference</th>\n",
              "      <td>CD4 Naive</td>\n",
              "      <td>reference</td>\n",
              "      <td>0</td>\n",
              "      <td>2</td>\n",
              "      <td>CD4 Naive</td>\n",
              "      <td>CD4 Naive</td>\n",
              "    </tr>\n",
              "    <tr>\n",
              "      <th>AAACAGCCACCAACCG-1_reference</th>\n",
              "      <td>CD8 Naive</td>\n",
              "      <td>reference</td>\n",
              "      <td>0</td>\n",
              "      <td>5</td>\n",
              "      <td>CD8 Naive</td>\n",
              "      <td>CD8 Naive</td>\n",
              "    </tr>\n",
              "    <tr>\n",
              "      <th>AAACAGCCAGGATAAC-1_reference</th>\n",
              "      <td>CD4 Naive</td>\n",
              "      <td>reference</td>\n",
              "      <td>0</td>\n",
              "      <td>2</td>\n",
              "      <td>CD4 Naive</td>\n",
              "      <td>CD4 Naive</td>\n",
              "    </tr>\n",
              "    <tr>\n",
              "      <th>AAACAGCCAGTTTACG-1_reference</th>\n",
              "      <td>CD4 TCM</td>\n",
              "      <td>reference</td>\n",
              "      <td>0</td>\n",
              "      <td>3</td>\n",
              "      <td>CD4 TCM</td>\n",
              "      <td>CD4 TCM</td>\n",
              "    </tr>\n",
              "    <tr>\n",
              "      <th>...</th>\n",
              "      <td>...</td>\n",
              "      <td>...</td>\n",
              "      <td>...</td>\n",
              "      <td>...</td>\n",
              "      <td>...</td>\n",
              "      <td>...</td>\n",
              "    </tr>\n",
              "    <tr>\n",
              "      <th>TTTGGGATGGCGGTTC_query</th>\n",
              "      <td>NaN</td>\n",
              "      <td>query</td>\n",
              "      <td>1</td>\n",
              "      <td>19</td>\n",
              "      <td>Unknown</td>\n",
              "      <td>HSPC</td>\n",
              "    </tr>\n",
              "    <tr>\n",
              "      <th>TTTGGGATGTCCAGCG_query</th>\n",
              "      <td>NaN</td>\n",
              "      <td>query</td>\n",
              "      <td>1</td>\n",
              "      <td>19</td>\n",
              "      <td>Unknown</td>\n",
              "      <td>Treg</td>\n",
              "    </tr>\n",
              "    <tr>\n",
              "      <th>TTTGGGATGTGTTCCC_query</th>\n",
              "      <td>NaN</td>\n",
              "      <td>query</td>\n",
              "      <td>1</td>\n",
              "      <td>19</td>\n",
              "      <td>Unknown</td>\n",
              "      <td>Treg</td>\n",
              "    </tr>\n",
              "    <tr>\n",
              "      <th>TTTGGGATGTTAGCTG_query</th>\n",
              "      <td>NaN</td>\n",
              "      <td>query</td>\n",
              "      <td>1</td>\n",
              "      <td>19</td>\n",
              "      <td>Unknown</td>\n",
              "      <td>pDC</td>\n",
              "    </tr>\n",
              "    <tr>\n",
              "      <th>TTTGGGATGTTGCGTA_query</th>\n",
              "      <td>NaN</td>\n",
              "      <td>query</td>\n",
              "      <td>1</td>\n",
              "      <td>19</td>\n",
              "      <td>Unknown</td>\n",
              "      <td>pDC</td>\n",
              "    </tr>\n",
              "  </tbody>\n",
              "</table>\n",
              "<p>19841 rows × 6 columns</p>\n",
              "</div>\n",
              "    <div class=\"colab-df-buttons\">\n",
              "\n",
              "  <div class=\"colab-df-container\">\n",
              "    <button class=\"colab-df-convert\" onclick=\"convertToInteractive('df-8a2f20db-c230-4ea5-9170-545252bd353c')\"\n",
              "            title=\"Convert this dataframe to an interactive table.\"\n",
              "            style=\"display:none;\">\n",
              "\n",
              "  <svg xmlns=\"http://www.w3.org/2000/svg\" height=\"24px\" viewBox=\"0 -960 960 960\">\n",
              "    <path d=\"M120-120v-720h720v720H120Zm60-500h600v-160H180v160Zm220 220h160v-160H400v160Zm0 220h160v-160H400v160ZM180-400h160v-160H180v160Zm440 0h160v-160H620v160ZM180-180h160v-160H180v160Zm440 0h160v-160H620v160Z\"/>\n",
              "  </svg>\n",
              "    </button>\n",
              "\n",
              "  <style>\n",
              "    .colab-df-container {\n",
              "      display:flex;\n",
              "      gap: 12px;\n",
              "    }\n",
              "\n",
              "    .colab-df-convert {\n",
              "      background-color: #E8F0FE;\n",
              "      border: none;\n",
              "      border-radius: 50%;\n",
              "      cursor: pointer;\n",
              "      display: none;\n",
              "      fill: #1967D2;\n",
              "      height: 32px;\n",
              "      padding: 0 0 0 0;\n",
              "      width: 32px;\n",
              "    }\n",
              "\n",
              "    .colab-df-convert:hover {\n",
              "      background-color: #E2EBFA;\n",
              "      box-shadow: 0px 1px 2px rgba(60, 64, 67, 0.3), 0px 1px 3px 1px rgba(60, 64, 67, 0.15);\n",
              "      fill: #174EA6;\n",
              "    }\n",
              "\n",
              "    .colab-df-buttons div {\n",
              "      margin-bottom: 4px;\n",
              "    }\n",
              "\n",
              "    [theme=dark] .colab-df-convert {\n",
              "      background-color: #3B4455;\n",
              "      fill: #D2E3FC;\n",
              "    }\n",
              "\n",
              "    [theme=dark] .colab-df-convert:hover {\n",
              "      background-color: #434B5C;\n",
              "      box-shadow: 0px 1px 3px 1px rgba(0, 0, 0, 0.15);\n",
              "      filter: drop-shadow(0px 1px 2px rgba(0, 0, 0, 0.3));\n",
              "      fill: #FFFFFF;\n",
              "    }\n",
              "  </style>\n",
              "\n",
              "    <script>\n",
              "      const buttonEl =\n",
              "        document.querySelector('#df-8a2f20db-c230-4ea5-9170-545252bd353c button.colab-df-convert');\n",
              "      buttonEl.style.display =\n",
              "        google.colab.kernel.accessAllowed ? 'block' : 'none';\n",
              "\n",
              "      async function convertToInteractive(key) {\n",
              "        const element = document.querySelector('#df-8a2f20db-c230-4ea5-9170-545252bd353c');\n",
              "        const dataTable =\n",
              "          await google.colab.kernel.invokeFunction('convertToInteractive',\n",
              "                                                    [key], {});\n",
              "        if (!dataTable) return;\n",
              "\n",
              "        const docLinkHtml = 'Like what you see? Visit the ' +\n",
              "          '<a target=\"_blank\" href=https://colab.research.google.com/notebooks/data_table.ipynb>data table notebook</a>'\n",
              "          + ' to learn more about interactive tables.';\n",
              "        element.innerHTML = '';\n",
              "        dataTable['output_type'] = 'display_data';\n",
              "        await google.colab.output.renderOutput(dataTable, element);\n",
              "        const docLink = document.createElement('div');\n",
              "        docLink.innerHTML = docLinkHtml;\n",
              "        element.appendChild(docLink);\n",
              "      }\n",
              "    </script>\n",
              "  </div>\n",
              "\n",
              "\n",
              "<div id=\"df-e544aed6-2ea1-4cbc-8cfa-cdf2cac29bb2\">\n",
              "  <button class=\"colab-df-quickchart\" onclick=\"quickchart('df-e544aed6-2ea1-4cbc-8cfa-cdf2cac29bb2')\"\n",
              "            title=\"Suggest charts\"\n",
              "            style=\"display:none;\">\n",
              "\n",
              "<svg xmlns=\"http://www.w3.org/2000/svg\" height=\"24px\"viewBox=\"0 0 24 24\"\n",
              "     width=\"24px\">\n",
              "    <g>\n",
              "        <path d=\"M19 3H5c-1.1 0-2 .9-2 2v14c0 1.1.9 2 2 2h14c1.1 0 2-.9 2-2V5c0-1.1-.9-2-2-2zM9 17H7v-7h2v7zm4 0h-2V7h2v10zm4 0h-2v-4h2v4z\"/>\n",
              "    </g>\n",
              "</svg>\n",
              "  </button>\n",
              "\n",
              "<style>\n",
              "  .colab-df-quickchart {\n",
              "      --bg-color: #E8F0FE;\n",
              "      --fill-color: #1967D2;\n",
              "      --hover-bg-color: #E2EBFA;\n",
              "      --hover-fill-color: #174EA6;\n",
              "      --disabled-fill-color: #AAA;\n",
              "      --disabled-bg-color: #DDD;\n",
              "  }\n",
              "\n",
              "  [theme=dark] .colab-df-quickchart {\n",
              "      --bg-color: #3B4455;\n",
              "      --fill-color: #D2E3FC;\n",
              "      --hover-bg-color: #434B5C;\n",
              "      --hover-fill-color: #FFFFFF;\n",
              "      --disabled-bg-color: #3B4455;\n",
              "      --disabled-fill-color: #666;\n",
              "  }\n",
              "\n",
              "  .colab-df-quickchart {\n",
              "    background-color: var(--bg-color);\n",
              "    border: none;\n",
              "    border-radius: 50%;\n",
              "    cursor: pointer;\n",
              "    display: none;\n",
              "    fill: var(--fill-color);\n",
              "    height: 32px;\n",
              "    padding: 0;\n",
              "    width: 32px;\n",
              "  }\n",
              "\n",
              "  .colab-df-quickchart:hover {\n",
              "    background-color: var(--hover-bg-color);\n",
              "    box-shadow: 0 1px 2px rgba(60, 64, 67, 0.3), 0 1px 3px 1px rgba(60, 64, 67, 0.15);\n",
              "    fill: var(--button-hover-fill-color);\n",
              "  }\n",
              "\n",
              "  .colab-df-quickchart-complete:disabled,\n",
              "  .colab-df-quickchart-complete:disabled:hover {\n",
              "    background-color: var(--disabled-bg-color);\n",
              "    fill: var(--disabled-fill-color);\n",
              "    box-shadow: none;\n",
              "  }\n",
              "\n",
              "  .colab-df-spinner {\n",
              "    border: 2px solid var(--fill-color);\n",
              "    border-color: transparent;\n",
              "    border-bottom-color: var(--fill-color);\n",
              "    animation:\n",
              "      spin 1s steps(1) infinite;\n",
              "  }\n",
              "\n",
              "  @keyframes spin {\n",
              "    0% {\n",
              "      border-color: transparent;\n",
              "      border-bottom-color: var(--fill-color);\n",
              "      border-left-color: var(--fill-color);\n",
              "    }\n",
              "    20% {\n",
              "      border-color: transparent;\n",
              "      border-left-color: var(--fill-color);\n",
              "      border-top-color: var(--fill-color);\n",
              "    }\n",
              "    30% {\n",
              "      border-color: transparent;\n",
              "      border-left-color: var(--fill-color);\n",
              "      border-top-color: var(--fill-color);\n",
              "      border-right-color: var(--fill-color);\n",
              "    }\n",
              "    40% {\n",
              "      border-color: transparent;\n",
              "      border-right-color: var(--fill-color);\n",
              "      border-top-color: var(--fill-color);\n",
              "    }\n",
              "    60% {\n",
              "      border-color: transparent;\n",
              "      border-right-color: var(--fill-color);\n",
              "    }\n",
              "    80% {\n",
              "      border-color: transparent;\n",
              "      border-right-color: var(--fill-color);\n",
              "      border-bottom-color: var(--fill-color);\n",
              "    }\n",
              "    90% {\n",
              "      border-color: transparent;\n",
              "      border-bottom-color: var(--fill-color);\n",
              "    }\n",
              "  }\n",
              "</style>\n",
              "\n",
              "  <script>\n",
              "    async function quickchart(key) {\n",
              "      const quickchartButtonEl =\n",
              "        document.querySelector('#' + key + ' button');\n",
              "      quickchartButtonEl.disabled = true;  // To prevent multiple clicks.\n",
              "      quickchartButtonEl.classList.add('colab-df-spinner');\n",
              "      try {\n",
              "        const charts = await google.colab.kernel.invokeFunction(\n",
              "            'suggestCharts', [key], {});\n",
              "      } catch (error) {\n",
              "        console.error('Error during call to suggestCharts:', error);\n",
              "      }\n",
              "      quickchartButtonEl.classList.remove('colab-df-spinner');\n",
              "      quickchartButtonEl.classList.add('colab-df-quickchart-complete');\n",
              "    }\n",
              "    (() => {\n",
              "      let quickchartButtonEl =\n",
              "        document.querySelector('#df-e544aed6-2ea1-4cbc-8cfa-cdf2cac29bb2 button');\n",
              "      quickchartButtonEl.style.display =\n",
              "        google.colab.kernel.accessAllowed ? 'block' : 'none';\n",
              "    })();\n",
              "  </script>\n",
              "</div>\n",
              "\n",
              "    </div>\n",
              "  </div>\n"
            ],
            "application/vnd.google.colaboratory.intrinsic+json": {
              "type": "dataframe",
              "summary": "{\n  \"name\": \"data\",\n  \"rows\": 19841,\n  \"fields\": [\n    {\n      \"column\": \"cell_type\",\n      \"properties\": {\n        \"dtype\": \"category\",\n        \"num_unique_values\": 19,\n        \"samples\": [\n          \"CD4 TCM\",\n          \"Treg\",\n          \"Naive B\"\n        ],\n        \"semantic_type\": \"\",\n        \"description\": \"\"\n      }\n    },\n    {\n      \"column\": \"batch\",\n      \"properties\": {\n        \"dtype\": \"category\",\n        \"num_unique_values\": 2,\n        \"samples\": [\n          \"query\",\n          \"reference\"\n        ],\n        \"semantic_type\": \"\",\n        \"description\": \"\"\n      }\n    },\n    {\n      \"column\": \"_scvi_batch\",\n      \"properties\": {\n        \"dtype\": \"int8\",\n        \"num_unique_values\": 2,\n        \"samples\": [\n          1,\n          0\n        ],\n        \"semantic_type\": \"\",\n        \"description\": \"\"\n      }\n    },\n    {\n      \"column\": \"_scvi_labels\",\n      \"properties\": {\n        \"dtype\": \"int8\",\n        \"num_unique_values\": 20,\n        \"samples\": [\n          3,\n          9\n        ],\n        \"semantic_type\": \"\",\n        \"description\": \"\"\n      }\n    },\n    {\n      \"column\": \"celltype_scanvi\",\n      \"properties\": {\n        \"dtype\": \"category\",\n        \"num_unique_values\": 20,\n        \"samples\": [\n          \"CD4 TCM\",\n          \"Intermediate B\"\n        ],\n        \"semantic_type\": \"\",\n        \"description\": \"\"\n      }\n    },\n    {\n      \"column\": \"C_scANVI\",\n      \"properties\": {\n        \"dtype\": \"category\",\n        \"num_unique_values\": 19,\n        \"samples\": [\n          \"CD4 TCM\",\n          \"CD14 Mono\"\n        ],\n        \"semantic_type\": \"\",\n        \"description\": \"\"\n      }\n    }\n  ]\n}"
            }
          },
          "metadata": {},
          "execution_count": 110
        }
      ]
    },
    {
      "cell_type": "markdown",
      "source": [
        "# Save the predicted cell type labels back to the original cell by bin matrix."
      ],
      "metadata": {
        "id": "bS6qkxutRosp"
      },
      "id": "bS6qkxutRosp"
    },
    {
      "source": [
        "query_data = data[data.obs['batch'] == 'query', :]"
      ],
      "cell_type": "code",
      "metadata": {
        "id": "8T-3Wlo2kDnA"
      },
      "id": "8T-3Wlo2kDnA",
      "execution_count": 113,
      "outputs": []
    },
    {
      "cell_type": "code",
      "source": [
        "query_data.obs"
      ],
      "metadata": {
        "id": "j4AB6-WglCRh",
        "outputId": "622a9c1d-9190-4b22-c259-d72d8d5f50f2",
        "colab": {
          "base_uri": "https://localhost:8080/",
          "height": 423
        }
      },
      "id": "j4AB6-WglCRh",
      "execution_count": 118,
      "outputs": [
        {
          "output_type": "execute_result",
          "data": {
            "text/plain": [
              "                       cell_type  batch  _scvi_batch  _scvi_labels  \\\n",
              "AAAAAAAAAAAAAAAA_query       NaN  query            1            19   \n",
              "AAACAACGAACGAGCA_query       NaN  query            1            19   \n",
              "AAACAACGAAGAGGCT_query       NaN  query            1            19   \n",
              "AAACAACGAAGTCGGA_query       NaN  query            1            19   \n",
              "AAACAACGACGGTACC_query       NaN  query            1            19   \n",
              "...                          ...    ...          ...           ...   \n",
              "TTTGGGATGGCGGTTC_query       NaN  query            1            19   \n",
              "TTTGGGATGTCCAGCG_query       NaN  query            1            19   \n",
              "TTTGGGATGTGTTCCC_query       NaN  query            1            19   \n",
              "TTTGGGATGTTAGCTG_query       NaN  query            1            19   \n",
              "TTTGGGATGTTGCGTA_query       NaN  query            1            19   \n",
              "\n",
              "                       celltype_scanvi C_scANVI  \n",
              "AAAAAAAAAAAAAAAA_query         Unknown      gdT  \n",
              "AAACAACGAACGAGCA_query         Unknown      cDC  \n",
              "AAACAACGAAGAGGCT_query         Unknown     HSPC  \n",
              "AAACAACGAAGTCGGA_query         Unknown     HSPC  \n",
              "AAACAACGACGGTACC_query         Unknown     Treg  \n",
              "...                                ...      ...  \n",
              "TTTGGGATGGCGGTTC_query         Unknown     HSPC  \n",
              "TTTGGGATGTCCAGCG_query         Unknown     Treg  \n",
              "TTTGGGATGTGTTCCC_query         Unknown     Treg  \n",
              "TTTGGGATGTTAGCTG_query         Unknown      pDC  \n",
              "TTTGGGATGTTGCGTA_query         Unknown      pDC  \n",
              "\n",
              "[10210 rows x 6 columns]"
            ],
            "text/html": [
              "\n",
              "  <div id=\"df-ab843b38-447d-419f-9bc0-191523c62e45\" class=\"colab-df-container\">\n",
              "    <div>\n",
              "<style scoped>\n",
              "    .dataframe tbody tr th:only-of-type {\n",
              "        vertical-align: middle;\n",
              "    }\n",
              "\n",
              "    .dataframe tbody tr th {\n",
              "        vertical-align: top;\n",
              "    }\n",
              "\n",
              "    .dataframe thead th {\n",
              "        text-align: right;\n",
              "    }\n",
              "</style>\n",
              "<table border=\"1\" class=\"dataframe\">\n",
              "  <thead>\n",
              "    <tr style=\"text-align: right;\">\n",
              "      <th></th>\n",
              "      <th>cell_type</th>\n",
              "      <th>batch</th>\n",
              "      <th>_scvi_batch</th>\n",
              "      <th>_scvi_labels</th>\n",
              "      <th>celltype_scanvi</th>\n",
              "      <th>C_scANVI</th>\n",
              "    </tr>\n",
              "  </thead>\n",
              "  <tbody>\n",
              "    <tr>\n",
              "      <th>AAAAAAAAAAAAAAAA_query</th>\n",
              "      <td>NaN</td>\n",
              "      <td>query</td>\n",
              "      <td>1</td>\n",
              "      <td>19</td>\n",
              "      <td>Unknown</td>\n",
              "      <td>gdT</td>\n",
              "    </tr>\n",
              "    <tr>\n",
              "      <th>AAACAACGAACGAGCA_query</th>\n",
              "      <td>NaN</td>\n",
              "      <td>query</td>\n",
              "      <td>1</td>\n",
              "      <td>19</td>\n",
              "      <td>Unknown</td>\n",
              "      <td>cDC</td>\n",
              "    </tr>\n",
              "    <tr>\n",
              "      <th>AAACAACGAAGAGGCT_query</th>\n",
              "      <td>NaN</td>\n",
              "      <td>query</td>\n",
              "      <td>1</td>\n",
              "      <td>19</td>\n",
              "      <td>Unknown</td>\n",
              "      <td>HSPC</td>\n",
              "    </tr>\n",
              "    <tr>\n",
              "      <th>AAACAACGAAGTCGGA_query</th>\n",
              "      <td>NaN</td>\n",
              "      <td>query</td>\n",
              "      <td>1</td>\n",
              "      <td>19</td>\n",
              "      <td>Unknown</td>\n",
              "      <td>HSPC</td>\n",
              "    </tr>\n",
              "    <tr>\n",
              "      <th>AAACAACGACGGTACC_query</th>\n",
              "      <td>NaN</td>\n",
              "      <td>query</td>\n",
              "      <td>1</td>\n",
              "      <td>19</td>\n",
              "      <td>Unknown</td>\n",
              "      <td>Treg</td>\n",
              "    </tr>\n",
              "    <tr>\n",
              "      <th>...</th>\n",
              "      <td>...</td>\n",
              "      <td>...</td>\n",
              "      <td>...</td>\n",
              "      <td>...</td>\n",
              "      <td>...</td>\n",
              "      <td>...</td>\n",
              "    </tr>\n",
              "    <tr>\n",
              "      <th>TTTGGGATGGCGGTTC_query</th>\n",
              "      <td>NaN</td>\n",
              "      <td>query</td>\n",
              "      <td>1</td>\n",
              "      <td>19</td>\n",
              "      <td>Unknown</td>\n",
              "      <td>HSPC</td>\n",
              "    </tr>\n",
              "    <tr>\n",
              "      <th>TTTGGGATGTCCAGCG_query</th>\n",
              "      <td>NaN</td>\n",
              "      <td>query</td>\n",
              "      <td>1</td>\n",
              "      <td>19</td>\n",
              "      <td>Unknown</td>\n",
              "      <td>Treg</td>\n",
              "    </tr>\n",
              "    <tr>\n",
              "      <th>TTTGGGATGTGTTCCC_query</th>\n",
              "      <td>NaN</td>\n",
              "      <td>query</td>\n",
              "      <td>1</td>\n",
              "      <td>19</td>\n",
              "      <td>Unknown</td>\n",
              "      <td>Treg</td>\n",
              "    </tr>\n",
              "    <tr>\n",
              "      <th>TTTGGGATGTTAGCTG_query</th>\n",
              "      <td>NaN</td>\n",
              "      <td>query</td>\n",
              "      <td>1</td>\n",
              "      <td>19</td>\n",
              "      <td>Unknown</td>\n",
              "      <td>pDC</td>\n",
              "    </tr>\n",
              "    <tr>\n",
              "      <th>TTTGGGATGTTGCGTA_query</th>\n",
              "      <td>NaN</td>\n",
              "      <td>query</td>\n",
              "      <td>1</td>\n",
              "      <td>19</td>\n",
              "      <td>Unknown</td>\n",
              "      <td>pDC</td>\n",
              "    </tr>\n",
              "  </tbody>\n",
              "</table>\n",
              "<p>10210 rows × 6 columns</p>\n",
              "</div>\n",
              "    <div class=\"colab-df-buttons\">\n",
              "\n",
              "  <div class=\"colab-df-container\">\n",
              "    <button class=\"colab-df-convert\" onclick=\"convertToInteractive('df-ab843b38-447d-419f-9bc0-191523c62e45')\"\n",
              "            title=\"Convert this dataframe to an interactive table.\"\n",
              "            style=\"display:none;\">\n",
              "\n",
              "  <svg xmlns=\"http://www.w3.org/2000/svg\" height=\"24px\" viewBox=\"0 -960 960 960\">\n",
              "    <path d=\"M120-120v-720h720v720H120Zm60-500h600v-160H180v160Zm220 220h160v-160H400v160Zm0 220h160v-160H400v160ZM180-400h160v-160H180v160Zm440 0h160v-160H620v160ZM180-180h160v-160H180v160Zm440 0h160v-160H620v160Z\"/>\n",
              "  </svg>\n",
              "    </button>\n",
              "\n",
              "  <style>\n",
              "    .colab-df-container {\n",
              "      display:flex;\n",
              "      gap: 12px;\n",
              "    }\n",
              "\n",
              "    .colab-df-convert {\n",
              "      background-color: #E8F0FE;\n",
              "      border: none;\n",
              "      border-radius: 50%;\n",
              "      cursor: pointer;\n",
              "      display: none;\n",
              "      fill: #1967D2;\n",
              "      height: 32px;\n",
              "      padding: 0 0 0 0;\n",
              "      width: 32px;\n",
              "    }\n",
              "\n",
              "    .colab-df-convert:hover {\n",
              "      background-color: #E2EBFA;\n",
              "      box-shadow: 0px 1px 2px rgba(60, 64, 67, 0.3), 0px 1px 3px 1px rgba(60, 64, 67, 0.15);\n",
              "      fill: #174EA6;\n",
              "    }\n",
              "\n",
              "    .colab-df-buttons div {\n",
              "      margin-bottom: 4px;\n",
              "    }\n",
              "\n",
              "    [theme=dark] .colab-df-convert {\n",
              "      background-color: #3B4455;\n",
              "      fill: #D2E3FC;\n",
              "    }\n",
              "\n",
              "    [theme=dark] .colab-df-convert:hover {\n",
              "      background-color: #434B5C;\n",
              "      box-shadow: 0px 1px 3px 1px rgba(0, 0, 0, 0.15);\n",
              "      filter: drop-shadow(0px 1px 2px rgba(0, 0, 0, 0.3));\n",
              "      fill: #FFFFFF;\n",
              "    }\n",
              "  </style>\n",
              "\n",
              "    <script>\n",
              "      const buttonEl =\n",
              "        document.querySelector('#df-ab843b38-447d-419f-9bc0-191523c62e45 button.colab-df-convert');\n",
              "      buttonEl.style.display =\n",
              "        google.colab.kernel.accessAllowed ? 'block' : 'none';\n",
              "\n",
              "      async function convertToInteractive(key) {\n",
              "        const element = document.querySelector('#df-ab843b38-447d-419f-9bc0-191523c62e45');\n",
              "        const dataTable =\n",
              "          await google.colab.kernel.invokeFunction('convertToInteractive',\n",
              "                                                    [key], {});\n",
              "        if (!dataTable) return;\n",
              "\n",
              "        const docLinkHtml = 'Like what you see? Visit the ' +\n",
              "          '<a target=\"_blank\" href=https://colab.research.google.com/notebooks/data_table.ipynb>data table notebook</a>'\n",
              "          + ' to learn more about interactive tables.';\n",
              "        element.innerHTML = '';\n",
              "        dataTable['output_type'] = 'display_data';\n",
              "        await google.colab.output.renderOutput(dataTable, element);\n",
              "        const docLink = document.createElement('div');\n",
              "        docLink.innerHTML = docLinkHtml;\n",
              "        element.appendChild(docLink);\n",
              "      }\n",
              "    </script>\n",
              "  </div>\n",
              "\n",
              "\n",
              "<div id=\"df-362a84d1-96c4-4b06-a61d-5f171cb2964d\">\n",
              "  <button class=\"colab-df-quickchart\" onclick=\"quickchart('df-362a84d1-96c4-4b06-a61d-5f171cb2964d')\"\n",
              "            title=\"Suggest charts\"\n",
              "            style=\"display:none;\">\n",
              "\n",
              "<svg xmlns=\"http://www.w3.org/2000/svg\" height=\"24px\"viewBox=\"0 0 24 24\"\n",
              "     width=\"24px\">\n",
              "    <g>\n",
              "        <path d=\"M19 3H5c-1.1 0-2 .9-2 2v14c0 1.1.9 2 2 2h14c1.1 0 2-.9 2-2V5c0-1.1-.9-2-2-2zM9 17H7v-7h2v7zm4 0h-2V7h2v10zm4 0h-2v-4h2v4z\"/>\n",
              "    </g>\n",
              "</svg>\n",
              "  </button>\n",
              "\n",
              "<style>\n",
              "  .colab-df-quickchart {\n",
              "      --bg-color: #E8F0FE;\n",
              "      --fill-color: #1967D2;\n",
              "      --hover-bg-color: #E2EBFA;\n",
              "      --hover-fill-color: #174EA6;\n",
              "      --disabled-fill-color: #AAA;\n",
              "      --disabled-bg-color: #DDD;\n",
              "  }\n",
              "\n",
              "  [theme=dark] .colab-df-quickchart {\n",
              "      --bg-color: #3B4455;\n",
              "      --fill-color: #D2E3FC;\n",
              "      --hover-bg-color: #434B5C;\n",
              "      --hover-fill-color: #FFFFFF;\n",
              "      --disabled-bg-color: #3B4455;\n",
              "      --disabled-fill-color: #666;\n",
              "  }\n",
              "\n",
              "  .colab-df-quickchart {\n",
              "    background-color: var(--bg-color);\n",
              "    border: none;\n",
              "    border-radius: 50%;\n",
              "    cursor: pointer;\n",
              "    display: none;\n",
              "    fill: var(--fill-color);\n",
              "    height: 32px;\n",
              "    padding: 0;\n",
              "    width: 32px;\n",
              "  }\n",
              "\n",
              "  .colab-df-quickchart:hover {\n",
              "    background-color: var(--hover-bg-color);\n",
              "    box-shadow: 0 1px 2px rgba(60, 64, 67, 0.3), 0 1px 3px 1px rgba(60, 64, 67, 0.15);\n",
              "    fill: var(--button-hover-fill-color);\n",
              "  }\n",
              "\n",
              "  .colab-df-quickchart-complete:disabled,\n",
              "  .colab-df-quickchart-complete:disabled:hover {\n",
              "    background-color: var(--disabled-bg-color);\n",
              "    fill: var(--disabled-fill-color);\n",
              "    box-shadow: none;\n",
              "  }\n",
              "\n",
              "  .colab-df-spinner {\n",
              "    border: 2px solid var(--fill-color);\n",
              "    border-color: transparent;\n",
              "    border-bottom-color: var(--fill-color);\n",
              "    animation:\n",
              "      spin 1s steps(1) infinite;\n",
              "  }\n",
              "\n",
              "  @keyframes spin {\n",
              "    0% {\n",
              "      border-color: transparent;\n",
              "      border-bottom-color: var(--fill-color);\n",
              "      border-left-color: var(--fill-color);\n",
              "    }\n",
              "    20% {\n",
              "      border-color: transparent;\n",
              "      border-left-color: var(--fill-color);\n",
              "      border-top-color: var(--fill-color);\n",
              "    }\n",
              "    30% {\n",
              "      border-color: transparent;\n",
              "      border-left-color: var(--fill-color);\n",
              "      border-top-color: var(--fill-color);\n",
              "      border-right-color: var(--fill-color);\n",
              "    }\n",
              "    40% {\n",
              "      border-color: transparent;\n",
              "      border-right-color: var(--fill-color);\n",
              "      border-top-color: var(--fill-color);\n",
              "    }\n",
              "    60% {\n",
              "      border-color: transparent;\n",
              "      border-right-color: var(--fill-color);\n",
              "    }\n",
              "    80% {\n",
              "      border-color: transparent;\n",
              "      border-right-color: var(--fill-color);\n",
              "      border-bottom-color: var(--fill-color);\n",
              "    }\n",
              "    90% {\n",
              "      border-color: transparent;\n",
              "      border-bottom-color: var(--fill-color);\n",
              "    }\n",
              "  }\n",
              "</style>\n",
              "\n",
              "  <script>\n",
              "    async function quickchart(key) {\n",
              "      const quickchartButtonEl =\n",
              "        document.querySelector('#' + key + ' button');\n",
              "      quickchartButtonEl.disabled = true;  // To prevent multiple clicks.\n",
              "      quickchartButtonEl.classList.add('colab-df-spinner');\n",
              "      try {\n",
              "        const charts = await google.colab.kernel.invokeFunction(\n",
              "            'suggestCharts', [key], {});\n",
              "      } catch (error) {\n",
              "        console.error('Error during call to suggestCharts:', error);\n",
              "      }\n",
              "      quickchartButtonEl.classList.remove('colab-df-spinner');\n",
              "      quickchartButtonEl.classList.add('colab-df-quickchart-complete');\n",
              "    }\n",
              "    (() => {\n",
              "      let quickchartButtonEl =\n",
              "        document.querySelector('#df-362a84d1-96c4-4b06-a61d-5f171cb2964d button');\n",
              "      quickchartButtonEl.style.display =\n",
              "        google.colab.kernel.accessAllowed ? 'block' : 'none';\n",
              "    })();\n",
              "  </script>\n",
              "</div>\n",
              "\n",
              "    </div>\n",
              "  </div>\n"
            ],
            "application/vnd.google.colaboratory.intrinsic+json": {
              "type": "dataframe",
              "summary": "{\n  \"name\": \"query_data\",\n  \"rows\": 10210,\n  \"fields\": [\n    {\n      \"column\": \"cell_type\",\n      \"properties\": {\n        \"dtype\": \"category\",\n        \"num_unique_values\": 0,\n        \"samples\": [],\n        \"semantic_type\": \"\",\n        \"description\": \"\"\n      }\n    },\n    {\n      \"column\": \"batch\",\n      \"properties\": {\n        \"dtype\": \"category\",\n        \"num_unique_values\": 1,\n        \"samples\": [],\n        \"semantic_type\": \"\",\n        \"description\": \"\"\n      }\n    },\n    {\n      \"column\": \"_scvi_batch\",\n      \"properties\": {\n        \"dtype\": \"int8\",\n        \"num_unique_values\": 1,\n        \"samples\": [],\n        \"semantic_type\": \"\",\n        \"description\": \"\"\n      }\n    },\n    {\n      \"column\": \"_scvi_labels\",\n      \"properties\": {\n        \"dtype\": \"int8\",\n        \"num_unique_values\": 1,\n        \"samples\": [],\n        \"semantic_type\": \"\",\n        \"description\": \"\"\n      }\n    },\n    {\n      \"column\": \"celltype_scanvi\",\n      \"properties\": {\n        \"dtype\": \"category\",\n        \"num_unique_values\": 1,\n        \"samples\": [],\n        \"semantic_type\": \"\",\n        \"description\": \"\"\n      }\n    },\n    {\n      \"column\": \"C_scANVI\",\n      \"properties\": {\n        \"dtype\": \"category\",\n        \"num_unique_values\": 18,\n        \"samples\": [],\n        \"semantic_type\": \"\",\n        \"description\": \"\"\n      }\n    }\n  ]\n}"
            }
          },
          "metadata": {},
          "execution_count": 118
        }
      ]
    },
    {
      "cell_type": "code",
      "source": [
        "query_data.write_h5ad('annotated_query_data.h5ad')"
      ],
      "metadata": {
        "id": "s7R41a-mkGkH"
      },
      "id": "s7R41a-mkGkH",
      "execution_count": 120,
      "outputs": []
    }
  ],
  "metadata": {
    "colab": {
      "machine_shape": "hm",
      "provenance": [],
      "gpuType": "L4",
      "include_colab_link": true
    },
    "kernelspec": {
      "display_name": "Python 3",
      "name": "python3"
    },
    "language_info": {
      "name": "python"
    },
    "accelerator": "GPU",
    "widgets": {
      "application/vnd.jupyter.widget-state+json": {
        "1ddddc9b27e044c4abde8d009735b61a": {
          "model_module": "@jupyter-widgets/controls",
          "model_name": "HBoxModel",
          "model_module_version": "1.5.0",
          "state": {
            "_dom_classes": [],
            "_model_module": "@jupyter-widgets/controls",
            "_model_module_version": "1.5.0",
            "_model_name": "HBoxModel",
            "_view_count": null,
            "_view_module": "@jupyter-widgets/controls",
            "_view_module_version": "1.5.0",
            "_view_name": "HBoxView",
            "box_style": "",
            "children": [
              "IPY_MODEL_855161a1e65845569f6d3f9282c41146",
              "IPY_MODEL_df70369956a245f08008d3528e69131b",
              "IPY_MODEL_7927fb06442f4e568f6f3781de7beb5c"
            ],
            "layout": "IPY_MODEL_eb54475a2c3c40b780d97304f2302dad"
          }
        },
        "855161a1e65845569f6d3f9282c41146": {
          "model_module": "@jupyter-widgets/controls",
          "model_name": "HTMLModel",
          "model_module_version": "1.5.0",
          "state": {
            "_dom_classes": [],
            "_model_module": "@jupyter-widgets/controls",
            "_model_module_version": "1.5.0",
            "_model_name": "HTMLModel",
            "_view_count": null,
            "_view_module": "@jupyter-widgets/controls",
            "_view_module_version": "1.5.0",
            "_view_name": "HTMLView",
            "description": "",
            "description_tooltip": null,
            "layout": "IPY_MODEL_2b649af9a20741edaf67dc496a00c7a7",
            "placeholder": "​",
            "style": "IPY_MODEL_8ababae13a7244c5970b3af6cb9e7551",
            "value": "Epoch 268/1000:  27%"
          }
        },
        "df70369956a245f08008d3528e69131b": {
          "model_module": "@jupyter-widgets/controls",
          "model_name": "FloatProgressModel",
          "model_module_version": "1.5.0",
          "state": {
            "_dom_classes": [],
            "_model_module": "@jupyter-widgets/controls",
            "_model_module_version": "1.5.0",
            "_model_name": "FloatProgressModel",
            "_view_count": null,
            "_view_module": "@jupyter-widgets/controls",
            "_view_module_version": "1.5.0",
            "_view_name": "ProgressView",
            "bar_style": "danger",
            "description": "",
            "description_tooltip": null,
            "layout": "IPY_MODEL_5e8b9f7b005641339788e1a51ad7436a",
            "max": 1000,
            "min": 0,
            "orientation": "horizontal",
            "style": "IPY_MODEL_fd425a7365ea4da1baa99376b855e06a",
            "value": 268
          }
        },
        "7927fb06442f4e568f6f3781de7beb5c": {
          "model_module": "@jupyter-widgets/controls",
          "model_name": "HTMLModel",
          "model_module_version": "1.5.0",
          "state": {
            "_dom_classes": [],
            "_model_module": "@jupyter-widgets/controls",
            "_model_module_version": "1.5.0",
            "_model_name": "HTMLModel",
            "_view_count": null,
            "_view_module": "@jupyter-widgets/controls",
            "_view_module_version": "1.5.0",
            "_view_name": "HTMLView",
            "description": "",
            "description_tooltip": null,
            "layout": "IPY_MODEL_10b161ef55b44c25a079b414218a0ffc",
            "placeholder": "​",
            "style": "IPY_MODEL_c57d00fd0936435983c3bcb16d0026bb",
            "value": " 268/1000 [15:50&lt;43:10,  3.54s/it, v_num=1, train_loss_step=8.19e+3, train_loss_epoch=8.37e+3]"
          }
        },
        "eb54475a2c3c40b780d97304f2302dad": {
          "model_module": "@jupyter-widgets/base",
          "model_name": "LayoutModel",
          "model_module_version": "1.2.0",
          "state": {
            "_model_module": "@jupyter-widgets/base",
            "_model_module_version": "1.2.0",
            "_model_name": "LayoutModel",
            "_view_count": null,
            "_view_module": "@jupyter-widgets/base",
            "_view_module_version": "1.2.0",
            "_view_name": "LayoutView",
            "align_content": null,
            "align_items": null,
            "align_self": null,
            "border": null,
            "bottom": null,
            "display": null,
            "flex": null,
            "flex_flow": null,
            "grid_area": null,
            "grid_auto_columns": null,
            "grid_auto_flow": null,
            "grid_auto_rows": null,
            "grid_column": null,
            "grid_gap": null,
            "grid_row": null,
            "grid_template_areas": null,
            "grid_template_columns": null,
            "grid_template_rows": null,
            "height": null,
            "justify_content": null,
            "justify_items": null,
            "left": null,
            "margin": null,
            "max_height": null,
            "max_width": null,
            "min_height": null,
            "min_width": null,
            "object_fit": null,
            "object_position": null,
            "order": null,
            "overflow": null,
            "overflow_x": null,
            "overflow_y": null,
            "padding": null,
            "right": null,
            "top": null,
            "visibility": null,
            "width": null
          }
        },
        "2b649af9a20741edaf67dc496a00c7a7": {
          "model_module": "@jupyter-widgets/base",
          "model_name": "LayoutModel",
          "model_module_version": "1.2.0",
          "state": {
            "_model_module": "@jupyter-widgets/base",
            "_model_module_version": "1.2.0",
            "_model_name": "LayoutModel",
            "_view_count": null,
            "_view_module": "@jupyter-widgets/base",
            "_view_module_version": "1.2.0",
            "_view_name": "LayoutView",
            "align_content": null,
            "align_items": null,
            "align_self": null,
            "border": null,
            "bottom": null,
            "display": null,
            "flex": null,
            "flex_flow": null,
            "grid_area": null,
            "grid_auto_columns": null,
            "grid_auto_flow": null,
            "grid_auto_rows": null,
            "grid_column": null,
            "grid_gap": null,
            "grid_row": null,
            "grid_template_areas": null,
            "grid_template_columns": null,
            "grid_template_rows": null,
            "height": null,
            "justify_content": null,
            "justify_items": null,
            "left": null,
            "margin": null,
            "max_height": null,
            "max_width": null,
            "min_height": null,
            "min_width": null,
            "object_fit": null,
            "object_position": null,
            "order": null,
            "overflow": null,
            "overflow_x": null,
            "overflow_y": null,
            "padding": null,
            "right": null,
            "top": null,
            "visibility": null,
            "width": null
          }
        },
        "8ababae13a7244c5970b3af6cb9e7551": {
          "model_module": "@jupyter-widgets/controls",
          "model_name": "DescriptionStyleModel",
          "model_module_version": "1.5.0",
          "state": {
            "_model_module": "@jupyter-widgets/controls",
            "_model_module_version": "1.5.0",
            "_model_name": "DescriptionStyleModel",
            "_view_count": null,
            "_view_module": "@jupyter-widgets/base",
            "_view_module_version": "1.2.0",
            "_view_name": "StyleView",
            "description_width": ""
          }
        },
        "5e8b9f7b005641339788e1a51ad7436a": {
          "model_module": "@jupyter-widgets/base",
          "model_name": "LayoutModel",
          "model_module_version": "1.2.0",
          "state": {
            "_model_module": "@jupyter-widgets/base",
            "_model_module_version": "1.2.0",
            "_model_name": "LayoutModel",
            "_view_count": null,
            "_view_module": "@jupyter-widgets/base",
            "_view_module_version": "1.2.0",
            "_view_name": "LayoutView",
            "align_content": null,
            "align_items": null,
            "align_self": null,
            "border": null,
            "bottom": null,
            "display": null,
            "flex": null,
            "flex_flow": null,
            "grid_area": null,
            "grid_auto_columns": null,
            "grid_auto_flow": null,
            "grid_auto_rows": null,
            "grid_column": null,
            "grid_gap": null,
            "grid_row": null,
            "grid_template_areas": null,
            "grid_template_columns": null,
            "grid_template_rows": null,
            "height": null,
            "justify_content": null,
            "justify_items": null,
            "left": null,
            "margin": null,
            "max_height": null,
            "max_width": null,
            "min_height": null,
            "min_width": null,
            "object_fit": null,
            "object_position": null,
            "order": null,
            "overflow": null,
            "overflow_x": null,
            "overflow_y": null,
            "padding": null,
            "right": null,
            "top": null,
            "visibility": null,
            "width": null
          }
        },
        "fd425a7365ea4da1baa99376b855e06a": {
          "model_module": "@jupyter-widgets/controls",
          "model_name": "ProgressStyleModel",
          "model_module_version": "1.5.0",
          "state": {
            "_model_module": "@jupyter-widgets/controls",
            "_model_module_version": "1.5.0",
            "_model_name": "ProgressStyleModel",
            "_view_count": null,
            "_view_module": "@jupyter-widgets/base",
            "_view_module_version": "1.2.0",
            "_view_name": "StyleView",
            "bar_color": null,
            "description_width": ""
          }
        },
        "10b161ef55b44c25a079b414218a0ffc": {
          "model_module": "@jupyter-widgets/base",
          "model_name": "LayoutModel",
          "model_module_version": "1.2.0",
          "state": {
            "_model_module": "@jupyter-widgets/base",
            "_model_module_version": "1.2.0",
            "_model_name": "LayoutModel",
            "_view_count": null,
            "_view_module": "@jupyter-widgets/base",
            "_view_module_version": "1.2.0",
            "_view_name": "LayoutView",
            "align_content": null,
            "align_items": null,
            "align_self": null,
            "border": null,
            "bottom": null,
            "display": null,
            "flex": null,
            "flex_flow": null,
            "grid_area": null,
            "grid_auto_columns": null,
            "grid_auto_flow": null,
            "grid_auto_rows": null,
            "grid_column": null,
            "grid_gap": null,
            "grid_row": null,
            "grid_template_areas": null,
            "grid_template_columns": null,
            "grid_template_rows": null,
            "height": null,
            "justify_content": null,
            "justify_items": null,
            "left": null,
            "margin": null,
            "max_height": null,
            "max_width": null,
            "min_height": null,
            "min_width": null,
            "object_fit": null,
            "object_position": null,
            "order": null,
            "overflow": null,
            "overflow_x": null,
            "overflow_y": null,
            "padding": null,
            "right": null,
            "top": null,
            "visibility": null,
            "width": null
          }
        },
        "c57d00fd0936435983c3bcb16d0026bb": {
          "model_module": "@jupyter-widgets/controls",
          "model_name": "DescriptionStyleModel",
          "model_module_version": "1.5.0",
          "state": {
            "_model_module": "@jupyter-widgets/controls",
            "_model_module_version": "1.5.0",
            "_model_name": "DescriptionStyleModel",
            "_view_count": null,
            "_view_module": "@jupyter-widgets/base",
            "_view_module_version": "1.2.0",
            "_view_name": "StyleView",
            "description_width": ""
          }
        },
        "006103678cf04ca391cd0b95404b9b1a": {
          "model_module": "@jupyter-widgets/controls",
          "model_name": "HBoxModel",
          "model_module_version": "1.5.0",
          "state": {
            "_dom_classes": [],
            "_model_module": "@jupyter-widgets/controls",
            "_model_module_version": "1.5.0",
            "_model_name": "HBoxModel",
            "_view_count": null,
            "_view_module": "@jupyter-widgets/controls",
            "_view_module_version": "1.5.0",
            "_view_name": "HBoxView",
            "box_style": "",
            "children": [
              "IPY_MODEL_05902a3c206c4685b4f37c9ca296f705",
              "IPY_MODEL_6e6df94546df49fe9e088d43c3ce81e9",
              "IPY_MODEL_5ee879ac38ef41e883dab17e943586b6"
            ],
            "layout": "IPY_MODEL_c3222cf90e7d451989c61fa430a368e8"
          }
        },
        "05902a3c206c4685b4f37c9ca296f705": {
          "model_module": "@jupyter-widgets/controls",
          "model_name": "HTMLModel",
          "model_module_version": "1.5.0",
          "state": {
            "_dom_classes": [],
            "_model_module": "@jupyter-widgets/controls",
            "_model_module_version": "1.5.0",
            "_model_name": "HTMLModel",
            "_view_count": null,
            "_view_module": "@jupyter-widgets/controls",
            "_view_module_version": "1.5.0",
            "_view_name": "HTMLView",
            "description": "",
            "description_tooltip": null,
            "layout": "IPY_MODEL_ace074b8428c468dbcdfa615dc52755a",
            "placeholder": "​",
            "style": "IPY_MODEL_87293a7040a04e91ad63ed49f61507f9",
            "value": "Epoch 1000/1000: 100%"
          }
        },
        "6e6df94546df49fe9e088d43c3ce81e9": {
          "model_module": "@jupyter-widgets/controls",
          "model_name": "FloatProgressModel",
          "model_module_version": "1.5.0",
          "state": {
            "_dom_classes": [],
            "_model_module": "@jupyter-widgets/controls",
            "_model_module_version": "1.5.0",
            "_model_name": "FloatProgressModel",
            "_view_count": null,
            "_view_module": "@jupyter-widgets/controls",
            "_view_module_version": "1.5.0",
            "_view_name": "ProgressView",
            "bar_style": "success",
            "description": "",
            "description_tooltip": null,
            "layout": "IPY_MODEL_a630c07e86d743edb1c4a41f03eb343b",
            "max": 1000,
            "min": 0,
            "orientation": "horizontal",
            "style": "IPY_MODEL_b5334cef3c314632b7616790a2288999",
            "value": 1000
          }
        },
        "5ee879ac38ef41e883dab17e943586b6": {
          "model_module": "@jupyter-widgets/controls",
          "model_name": "HTMLModel",
          "model_module_version": "1.5.0",
          "state": {
            "_dom_classes": [],
            "_model_module": "@jupyter-widgets/controls",
            "_model_module_version": "1.5.0",
            "_model_name": "HTMLModel",
            "_view_count": null,
            "_view_module": "@jupyter-widgets/controls",
            "_view_module_version": "1.5.0",
            "_view_name": "HTMLView",
            "description": "",
            "description_tooltip": null,
            "layout": "IPY_MODEL_4d71a1ad07154a37a971f38756cc9393",
            "placeholder": "​",
            "style": "IPY_MODEL_d5e301533fa94b309315a631250c1847",
            "value": " 1000/1000 [1:42:24&lt;00:00,  6.16s/it, v_num=1, train_loss_step=8.17e+3, train_loss_epoch=8.38e+3]"
          }
        },
        "c3222cf90e7d451989c61fa430a368e8": {
          "model_module": "@jupyter-widgets/base",
          "model_name": "LayoutModel",
          "model_module_version": "1.2.0",
          "state": {
            "_model_module": "@jupyter-widgets/base",
            "_model_module_version": "1.2.0",
            "_model_name": "LayoutModel",
            "_view_count": null,
            "_view_module": "@jupyter-widgets/base",
            "_view_module_version": "1.2.0",
            "_view_name": "LayoutView",
            "align_content": null,
            "align_items": null,
            "align_self": null,
            "border": null,
            "bottom": null,
            "display": null,
            "flex": null,
            "flex_flow": null,
            "grid_area": null,
            "grid_auto_columns": null,
            "grid_auto_flow": null,
            "grid_auto_rows": null,
            "grid_column": null,
            "grid_gap": null,
            "grid_row": null,
            "grid_template_areas": null,
            "grid_template_columns": null,
            "grid_template_rows": null,
            "height": null,
            "justify_content": null,
            "justify_items": null,
            "left": null,
            "margin": null,
            "max_height": null,
            "max_width": null,
            "min_height": null,
            "min_width": null,
            "object_fit": null,
            "object_position": null,
            "order": null,
            "overflow": null,
            "overflow_x": null,
            "overflow_y": null,
            "padding": null,
            "right": null,
            "top": null,
            "visibility": null,
            "width": null
          }
        },
        "ace074b8428c468dbcdfa615dc52755a": {
          "model_module": "@jupyter-widgets/base",
          "model_name": "LayoutModel",
          "model_module_version": "1.2.0",
          "state": {
            "_model_module": "@jupyter-widgets/base",
            "_model_module_version": "1.2.0",
            "_model_name": "LayoutModel",
            "_view_count": null,
            "_view_module": "@jupyter-widgets/base",
            "_view_module_version": "1.2.0",
            "_view_name": "LayoutView",
            "align_content": null,
            "align_items": null,
            "align_self": null,
            "border": null,
            "bottom": null,
            "display": null,
            "flex": null,
            "flex_flow": null,
            "grid_area": null,
            "grid_auto_columns": null,
            "grid_auto_flow": null,
            "grid_auto_rows": null,
            "grid_column": null,
            "grid_gap": null,
            "grid_row": null,
            "grid_template_areas": null,
            "grid_template_columns": null,
            "grid_template_rows": null,
            "height": null,
            "justify_content": null,
            "justify_items": null,
            "left": null,
            "margin": null,
            "max_height": null,
            "max_width": null,
            "min_height": null,
            "min_width": null,
            "object_fit": null,
            "object_position": null,
            "order": null,
            "overflow": null,
            "overflow_x": null,
            "overflow_y": null,
            "padding": null,
            "right": null,
            "top": null,
            "visibility": null,
            "width": null
          }
        },
        "87293a7040a04e91ad63ed49f61507f9": {
          "model_module": "@jupyter-widgets/controls",
          "model_name": "DescriptionStyleModel",
          "model_module_version": "1.5.0",
          "state": {
            "_model_module": "@jupyter-widgets/controls",
            "_model_module_version": "1.5.0",
            "_model_name": "DescriptionStyleModel",
            "_view_count": null,
            "_view_module": "@jupyter-widgets/base",
            "_view_module_version": "1.2.0",
            "_view_name": "StyleView",
            "description_width": ""
          }
        },
        "a630c07e86d743edb1c4a41f03eb343b": {
          "model_module": "@jupyter-widgets/base",
          "model_name": "LayoutModel",
          "model_module_version": "1.2.0",
          "state": {
            "_model_module": "@jupyter-widgets/base",
            "_model_module_version": "1.2.0",
            "_model_name": "LayoutModel",
            "_view_count": null,
            "_view_module": "@jupyter-widgets/base",
            "_view_module_version": "1.2.0",
            "_view_name": "LayoutView",
            "align_content": null,
            "align_items": null,
            "align_self": null,
            "border": null,
            "bottom": null,
            "display": null,
            "flex": null,
            "flex_flow": null,
            "grid_area": null,
            "grid_auto_columns": null,
            "grid_auto_flow": null,
            "grid_auto_rows": null,
            "grid_column": null,
            "grid_gap": null,
            "grid_row": null,
            "grid_template_areas": null,
            "grid_template_columns": null,
            "grid_template_rows": null,
            "height": null,
            "justify_content": null,
            "justify_items": null,
            "left": null,
            "margin": null,
            "max_height": null,
            "max_width": null,
            "min_height": null,
            "min_width": null,
            "object_fit": null,
            "object_position": null,
            "order": null,
            "overflow": null,
            "overflow_x": null,
            "overflow_y": null,
            "padding": null,
            "right": null,
            "top": null,
            "visibility": null,
            "width": null
          }
        },
        "b5334cef3c314632b7616790a2288999": {
          "model_module": "@jupyter-widgets/controls",
          "model_name": "ProgressStyleModel",
          "model_module_version": "1.5.0",
          "state": {
            "_model_module": "@jupyter-widgets/controls",
            "_model_module_version": "1.5.0",
            "_model_name": "ProgressStyleModel",
            "_view_count": null,
            "_view_module": "@jupyter-widgets/base",
            "_view_module_version": "1.2.0",
            "_view_name": "StyleView",
            "bar_color": null,
            "description_width": ""
          }
        },
        "4d71a1ad07154a37a971f38756cc9393": {
          "model_module": "@jupyter-widgets/base",
          "model_name": "LayoutModel",
          "model_module_version": "1.2.0",
          "state": {
            "_model_module": "@jupyter-widgets/base",
            "_model_module_version": "1.2.0",
            "_model_name": "LayoutModel",
            "_view_count": null,
            "_view_module": "@jupyter-widgets/base",
            "_view_module_version": "1.2.0",
            "_view_name": "LayoutView",
            "align_content": null,
            "align_items": null,
            "align_self": null,
            "border": null,
            "bottom": null,
            "display": null,
            "flex": null,
            "flex_flow": null,
            "grid_area": null,
            "grid_auto_columns": null,
            "grid_auto_flow": null,
            "grid_auto_rows": null,
            "grid_column": null,
            "grid_gap": null,
            "grid_row": null,
            "grid_template_areas": null,
            "grid_template_columns": null,
            "grid_template_rows": null,
            "height": null,
            "justify_content": null,
            "justify_items": null,
            "left": null,
            "margin": null,
            "max_height": null,
            "max_width": null,
            "min_height": null,
            "min_width": null,
            "object_fit": null,
            "object_position": null,
            "order": null,
            "overflow": null,
            "overflow_x": null,
            "overflow_y": null,
            "padding": null,
            "right": null,
            "top": null,
            "visibility": null,
            "width": null
          }
        },
        "d5e301533fa94b309315a631250c1847": {
          "model_module": "@jupyter-widgets/controls",
          "model_name": "DescriptionStyleModel",
          "model_module_version": "1.5.0",
          "state": {
            "_model_module": "@jupyter-widgets/controls",
            "_model_module_version": "1.5.0",
            "_model_name": "DescriptionStyleModel",
            "_view_count": null,
            "_view_module": "@jupyter-widgets/base",
            "_view_module_version": "1.2.0",
            "_view_name": "StyleView",
            "description_width": ""
          }
        }
      }
    }
  },
  "nbformat": 4,
  "nbformat_minor": 5
}