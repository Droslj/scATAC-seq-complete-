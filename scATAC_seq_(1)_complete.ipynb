{
  "cells": [
    {
      "cell_type": "markdown",
      "metadata": {
        "id": "view-in-github",
        "colab_type": "text"
      },
      "source": [
        "<a href=\"https://colab.research.google.com/github/Droslj/scATAC-seq-complete-/blob/Google-colab/scATAC_seq_(1)_complete.ipynb\" target=\"_parent\"><img src=\"https://colab.research.google.com/assets/colab-badge.svg\" alt=\"Open In Colab\"/></a>"
      ]
    },
    {
      "cell_type": "markdown",
      "id": "f268332b-53de-4af8-9533-e48c041292f3",
      "metadata": {
        "id": "f268332b-53de-4af8-9533-e48c041292f3"
      },
      "source": [
        "scATAC seq, based on scATAC seq processing Galaxy tutorials (scATAC preprocessing (2), Standard scATAC seq processing pipeline (1) )\n",
        "AD Objects created in Galaxy using customized Galaxy WF with Snapatac2 and imported\n",
        "(1) https://usegalaxy.eu/training-material/topics/single-cell/tutorials/scatac-preprocessing-tenx/tutorial.html#mapping-reads-to-a-reference-genome, (2) https://usegalaxy.eu/training-material/topics/single-cell/tutorials/scatac-standard-processing-snapatac2/tutorial.html\n",
        "Data taken from the following NCBI study:\n",
        "Metabolic adaptation pilots the differentiation of human hematopoietic cells (https://www.ncbi.nlm.nih.gov/bioproject/PRJNA1015713)\n",
        "Import Anndata objects for two biological replicates, SRR26046013 (cells treated with AOA inhibitor) and SRR26046019 (untreated cells)\n",
        "Perform following steps:\n",
        "(1) Import matrices\n",
        "(2) Compute fragment size distribution\n",
        "(3) Compute TSS enrichment\n",
        "(4) Filter cell counts based on TSSe\n",
        "(5) Create cell by bin matrix based on 500 bp wide bins accross the whole genome\n",
        "(6) Perform feature selection\n",
        "(7) Perform Doublet removal\n",
        "(8) Perform Dim reduction (spectral)\n",
        "(9) Perform Clustering (neighborhood, UMAP, leiden)\n",
        "(10) Create a cell by gene matrix\n",
        "(11) Concatenate matrices using Inner join\n",
        "(12) Remove batch effects"
      ]
    },
    {
      "cell_type": "code",
      "source": [
        "!pip install -q condacolab"
      ],
      "metadata": {
        "id": "HYs7RhoU68Ks"
      },
      "id": "HYs7RhoU68Ks",
      "execution_count": null,
      "outputs": []
    },
    {
      "cell_type": "code",
      "source": [
        "import condacolab"
      ],
      "metadata": {
        "id": "QBQXEKjk7O-V"
      },
      "id": "QBQXEKjk7O-V",
      "execution_count": null,
      "outputs": []
    },
    {
      "cell_type": "code",
      "source": [
        "condacolab.install()"
      ],
      "metadata": {
        "colab": {
          "base_uri": "https://localhost:8080/"
        },
        "id": "YdiPg8vS7ZKq",
        "outputId": "636bc07a-1939-44f5-fb6b-3da213ed8c9d"
      },
      "id": "YdiPg8vS7ZKq",
      "execution_count": null,
      "outputs": [
        {
          "output_type": "stream",
          "name": "stdout",
          "text": [
            "✨🍰✨ Everything looks OK!\n"
          ]
        }
      ]
    },
    {
      "cell_type": "code",
      "source": [
        "!conda --version"
      ],
      "metadata": {
        "colab": {
          "base_uri": "https://localhost:8080/"
        },
        "id": "VITjp1M56yu_",
        "outputId": "c5ab92e1-7aab-477a-bcb8-621829cef921"
      },
      "id": "VITjp1M56yu_",
      "execution_count": null,
      "outputs": [
        {
          "output_type": "stream",
          "name": "stdout",
          "text": [
            "conda 23.11.0\n"
          ]
        }
      ]
    },
    {
      "cell_type": "code",
      "source": [
        "!which conda"
      ],
      "metadata": {
        "colab": {
          "base_uri": "https://localhost:8080/"
        },
        "id": "S-oCMIm-7p9i",
        "outputId": "60f11b3e-90e9-426d-df38-17c377d49a8d"
      },
      "id": "S-oCMIm-7p9i",
      "execution_count": null,
      "outputs": [
        {
          "output_type": "stream",
          "name": "stdout",
          "text": [
            "/usr/local/bin/conda\n"
          ]
        }
      ]
    },
    {
      "cell_type": "code",
      "source": [
        "!conda config --add channels conda-forge"
      ],
      "metadata": {
        "colab": {
          "base_uri": "https://localhost:8080/"
        },
        "id": "D6zjhdZm-BJp",
        "outputId": "d33b9ab8-539d-48b8-a064-4ef46a99906e"
      },
      "id": "D6zjhdZm-BJp",
      "execution_count": null,
      "outputs": [
        {
          "output_type": "stream",
          "name": "stdout",
          "text": [
            "Warning: 'conda-forge' already in 'channels' list, moving to the top\n"
          ]
        }
      ]
    },
    {
      "cell_type": "code",
      "source": [
        "!conda config --add channels bioconda"
      ],
      "metadata": {
        "colab": {
          "base_uri": "https://localhost:8080/"
        },
        "id": "JpJESCcU-fO_",
        "outputId": "756e56a6-78c9-4af0-e576-2e1fde6c474c"
      },
      "id": "JpJESCcU-fO_",
      "execution_count": null,
      "outputs": [
        {
          "output_type": "stream",
          "name": "stdout",
          "text": [
            "Warning: 'bioconda' already in 'channels' list, moving to the top\n"
          ]
        }
      ]
    },
    {
      "source": [
        "!pip install snapatac2 -q"
      ],
      "cell_type": "code",
      "metadata": {
        "colab": {
          "base_uri": "https://localhost:8080/"
        },
        "id": "gZdiRWwb1rZJ",
        "outputId": "2353657d-8f67-4bca-f58b-ad23e2239ffc"
      },
      "id": "gZdiRWwb1rZJ",
      "execution_count": 1,
      "outputs": [
        {
          "output_type": "stream",
          "name": "stdout",
          "text": [
            "\u001b[?25l     \u001b[90m━━━━━━━━━━━━━━━━━━━━━━━━━━━━━━━━━━━━━━━━\u001b[0m \u001b[32m0.0/687.2 kB\u001b[0m \u001b[31m?\u001b[0m eta \u001b[36m-:--:--\u001b[0m\r\u001b[2K     \u001b[90m━━━━━━━━━━━━━━━━━━━━━━━━━━━━━━━━━━━━━━━━\u001b[0m \u001b[32m687.2/687.2 kB\u001b[0m \u001b[31m21.5 MB/s\u001b[0m eta \u001b[36m0:00:00\u001b[0m\n",
            "\u001b[?25h  Installing build dependencies ... \u001b[?25l\u001b[?25hdone\n",
            "  Getting requirements to build wheel ... \u001b[?25l\u001b[?25hdone\n",
            "  Preparing metadata (pyproject.toml) ... \u001b[?25l\u001b[?25hdone\n",
            "\u001b[2K   \u001b[90m━━━━━━━━━━━━━━━━━━━━━━━━━━━━━━━━━━━━━━━━\u001b[0m \u001b[32m17.4/17.4 MB\u001b[0m \u001b[31m79.9 MB/s\u001b[0m eta \u001b[36m0:00:00\u001b[0m\n",
            "\u001b[2K   \u001b[90m━━━━━━━━━━━━━━━━━━━━━━━━━━━━━━━━━━━━━━━━\u001b[0m \u001b[32m129.0/129.0 kB\u001b[0m \u001b[31m9.3 MB/s\u001b[0m eta \u001b[36m0:00:00\u001b[0m\n",
            "\u001b[2K   \u001b[90m━━━━━━━━━━━━━━━━━━━━━━━━━━━━━━━━━━━━━━━━\u001b[0m \u001b[32m3.1/3.1 MB\u001b[0m \u001b[31m79.3 MB/s\u001b[0m eta \u001b[36m0:00:00\u001b[0m\n",
            "\u001b[2K   \u001b[90m━━━━━━━━━━━━━━━━━━━━━━━━━━━━━━━━━━━━━━━━\u001b[0m \u001b[32m12.2/12.2 MB\u001b[0m \u001b[31m98.3 MB/s\u001b[0m eta \u001b[36m0:00:00\u001b[0m\n",
            "\u001b[2K   \u001b[90m━━━━━━━━━━━━━━━━━━━━━━━━━━━━━━━━━━━━━━━━\u001b[0m \u001b[32m79.9/79.9 MB\u001b[0m \u001b[31m25.2 MB/s\u001b[0m eta \u001b[36m0:00:00\u001b[0m\n",
            "\u001b[2K   \u001b[90m━━━━━━━━━━━━━━━━━━━━━━━━━━━━━━━━━━━━━━━━\u001b[0m \u001b[32m144.3/144.3 kB\u001b[0m \u001b[31m8.5 MB/s\u001b[0m eta \u001b[36m0:00:00\u001b[0m\n",
            "\u001b[2K   \u001b[90m━━━━━━━━━━━━━━━━━━━━━━━━━━━━━━━━━━━━━━━━\u001b[0m \u001b[32m2.0/2.0 MB\u001b[0m \u001b[31m68.9 MB/s\u001b[0m eta \u001b[36m0:00:00\u001b[0m\n",
            "\u001b[2K   \u001b[90m━━━━━━━━━━━━━━━━━━━━━━━━━━━━━━━━━━━━━━━━\u001b[0m \u001b[32m50.4/50.4 kB\u001b[0m \u001b[31m3.6 MB/s\u001b[0m eta \u001b[36m0:00:00\u001b[0m\n",
            "\u001b[2K   \u001b[90m━━━━━━━━━━━━━━━━━━━━━━━━━━━━━━━━━━━━━━━━\u001b[0m \u001b[32m119.4/119.4 kB\u001b[0m \u001b[31m8.3 MB/s\u001b[0m eta \u001b[36m0:00:00\u001b[0m\n",
            "\u001b[?25h  Building wheel for macs3 (pyproject.toml) ... \u001b[?25l\u001b[?25hdone\n",
            "\u001b[31mERROR: pip's dependency resolver does not currently take into account all the packages that are installed. This behaviour is the source of the following dependency conflicts.\n",
            "google-colab 1.0.0 requires pandas==2.2.2, but you have pandas 2.1.1 which is incompatible.\n",
            "mizani 0.13.1 requires pandas>=2.2.0, but you have pandas 2.1.1 which is incompatible.\n",
            "plotnine 0.14.5 requires pandas>=2.2.0, but you have pandas 2.1.1 which is incompatible.\u001b[0m\u001b[31m\n",
            "\u001b[0m"
          ]
        }
      ]
    },
    {
      "cell_type": "code",
      "source": [
        "!pip show snapatac2"
      ],
      "metadata": {
        "colab": {
          "base_uri": "https://localhost:8080/"
        },
        "id": "jsCJ2get4W8l",
        "outputId": "adffc7c2-c9aa-4175-f723-728684ae5a39"
      },
      "id": "jsCJ2get4W8l",
      "execution_count": 2,
      "outputs": [
        {
          "output_type": "stream",
          "name": "stdout",
          "text": [
            "Name: snapatac2\n",
            "Version: 2.8.0\n",
            "Summary: SnapATAC2: Single-cell epigenomics analysis pipeline\n",
            "Home-page: https://github.com/\n",
            "Author: Kai Zhang <kai@kzhang.org>\n",
            "Author-email: Kai Zhang <zhangkai33@westlake.edu.cn>\n",
            "License: MIT\n",
            "Location: /usr/local/lib/python3.11/dist-packages\n",
            "Requires: anndata, igraph, kaleido, macs3, multiprocess, natsort, numpy, pandas, plotly, polars, pooch, pyarrow, pyfaidx, rustworkx, scikit-learn, scipy, tqdm, typeguard\n",
            "Required-by: \n"
          ]
        }
      ]
    },
    {
      "cell_type": "code",
      "source": [
        "!pip install scvi-tools -q"
      ],
      "metadata": {
        "id": "cu7XM4KXOQGA",
        "outputId": "0d1600b8-7221-48d1-e490-4ff0cd64f06f",
        "colab": {
          "base_uri": "https://localhost:8080/"
        }
      },
      "id": "cu7XM4KXOQGA",
      "execution_count": 114,
      "outputs": [
        {
          "output_type": "stream",
          "name": "stdout",
          "text": [
            "  Preparing metadata (setup.py) ... \u001b[?25l\u001b[?25hdone\n",
            "\u001b[2K     \u001b[90m━━━━━━━━━━━━━━━━━━━━━━━━━━━━━━━━━━━━━━━━\u001b[0m \u001b[32m40.4/40.4 kB\u001b[0m \u001b[31m2.5 MB/s\u001b[0m eta \u001b[36m0:00:00\u001b[0m\n",
            "\u001b[2K     \u001b[90m━━━━━━━━━━━━━━━━━━━━━━━━━━━━━━━━━━━━━━━━\u001b[0m \u001b[32m89.9/89.9 kB\u001b[0m \u001b[31m5.7 MB/s\u001b[0m eta \u001b[36m0:00:00\u001b[0m\n",
            "\u001b[2K   \u001b[90m━━━━━━━━━━━━━━━━━━━━━━━━━━━━━━━━━━━━━━━━\u001b[0m \u001b[32m459.3/459.3 kB\u001b[0m \u001b[31m20.7 MB/s\u001b[0m eta \u001b[36m0:00:00\u001b[0m\n",
            "\u001b[2K   \u001b[90m━━━━━━━━━━━━━━━━━━━━━━━━━━━━━━━━━━━━━━━━\u001b[0m \u001b[32m142.7/142.7 kB\u001b[0m \u001b[31m8.4 MB/s\u001b[0m eta \u001b[36m0:00:00\u001b[0m\n",
            "\u001b[2K   \u001b[90m━━━━━━━━━━━━━━━━━━━━━━━━━━━━━━━━━━━━━━━━\u001b[0m \u001b[32m815.2/815.2 kB\u001b[0m \u001b[31m32.2 MB/s\u001b[0m eta \u001b[36m0:00:00\u001b[0m\n",
            "\u001b[2K   \u001b[90m━━━━━━━━━━━━━━━━━━━━━━━━━━━━━━━━━━━━━━━━\u001b[0m \u001b[32m76.5/76.5 kB\u001b[0m \u001b[31m5.3 MB/s\u001b[0m eta \u001b[36m0:00:00\u001b[0m\n",
            "\u001b[2K   \u001b[90m━━━━━━━━━━━━━━━━━━━━━━━━━━━━━━━━━━━━━━━━\u001b[0m \u001b[32m41.0/41.0 kB\u001b[0m \u001b[31m2.1 MB/s\u001b[0m eta \u001b[36m0:00:00\u001b[0m\n",
            "\u001b[2K   \u001b[90m━━━━━━━━━━━━━━━━━━━━━━━━━━━━━━━━━━━━━━━━\u001b[0m \u001b[32m356.1/356.1 kB\u001b[0m \u001b[31m21.5 MB/s\u001b[0m eta \u001b[36m0:00:00\u001b[0m\n",
            "\u001b[2K   \u001b[90m━━━━━━━━━━━━━━━━━━━━━━━━━━━━━━━━━━━━━━━━\u001b[0m \u001b[32m756.0/756.0 kB\u001b[0m \u001b[31m37.3 MB/s\u001b[0m eta \u001b[36m0:00:00\u001b[0m\n",
            "\u001b[2K   \u001b[90m━━━━━━━━━━━━━━━━━━━━━━━━━━━━━━━━━━━━━━━━\u001b[0m \u001b[32m117.4/117.4 kB\u001b[0m \u001b[31m8.3 MB/s\u001b[0m eta \u001b[36m0:00:00\u001b[0m\n",
            "\u001b[2K   \u001b[90m━━━━━━━━━━━━━━━━━━━━━━━━━━━━━━━━━━━━━━━━\u001b[0m \u001b[32m927.3/927.3 kB\u001b[0m \u001b[31m40.1 MB/s\u001b[0m eta \u001b[36m0:00:00\u001b[0m\n",
            "\u001b[2K   \u001b[90m━━━━━━━━━━━━━━━━━━━━━━━━━━━━━━━━━━━━━━━━\u001b[0m \u001b[32m13.1/13.1 MB\u001b[0m \u001b[31m41.4 MB/s\u001b[0m eta \u001b[36m0:00:00\u001b[0m\n",
            "\u001b[2K   \u001b[90m━━━━━━━━━━━━━━━━━━━━━━━━━━━━━━━━━━━━━━━━\u001b[0m \u001b[32m819.3/819.3 kB\u001b[0m \u001b[31m38.6 MB/s\u001b[0m eta \u001b[36m0:00:00\u001b[0m\n",
            "\u001b[?25h  Building wheel for docrep (setup.py) ... \u001b[?25l\u001b[?25hdone\n",
            "\u001b[31mERROR: pip's dependency resolver does not currently take into account all the packages that are installed. This behaviour is the source of the following dependency conflicts.\n",
            "scprep 1.2.3 requires pandas<2.1,>=0.25, but you have pandas 2.2.3 which is incompatible.\n",
            "snapatac2 2.8.0 requires anndata<0.11.0,>=0.8.0, but you have anndata 0.11.3 which is incompatible.\n",
            "snapatac2 2.8.0 requires pandas<2.1.2,>=1.0, but you have pandas 2.2.3 which is incompatible.\n",
            "google-colab 1.0.0 requires pandas==2.2.2, but you have pandas 2.2.3 which is incompatible.\n",
            "cudf-cu12 24.10.1 requires pandas<2.2.3dev0,>=2.0, but you have pandas 2.2.3 which is incompatible.\u001b[0m\u001b[31m\n",
            "\u001b[0m"
          ]
        }
      ]
    },
    {
      "cell_type": "code",
      "source": [
        "!pip install scvi-tools -q"
      ],
      "metadata": {
        "id": "jnB1seAgOaVw"
      },
      "id": "jnB1seAgOaVw",
      "execution_count": 116,
      "outputs": []
    },
    {
      "cell_type": "code",
      "source": [
        "import scvi"
      ],
      "metadata": {
        "id": "29h1GkcLOVTU"
      },
      "id": "29h1GkcLOVTU",
      "execution_count": 117,
      "outputs": []
    },
    {
      "cell_type": "code",
      "source": [
        "import snapatac2 as snap"
      ],
      "metadata": {
        "id": "z2G4FDYqgSmQ"
      },
      "id": "z2G4FDYqgSmQ",
      "execution_count": 3,
      "outputs": []
    },
    {
      "cell_type": "code",
      "source": [
        "!pip install umap-learn -q\n",
        "\n"
      ],
      "metadata": {
        "colab": {
          "base_uri": "https://localhost:8080/"
        },
        "id": "VZLaiDEzlB1m",
        "outputId": "fe380749-b952-41fc-946b-b4b1ab22f9a8"
      },
      "id": "VZLaiDEzlB1m",
      "execution_count": 4,
      "outputs": [
        {
          "output_type": "stream",
          "name": "stdout",
          "text": [
            "\u001b[?25l   \u001b[90m━━━━━━━━━━━━━━━━━━━━━━━━━━━━━━━━━━━━━━━━\u001b[0m \u001b[32m0.0/88.8 kB\u001b[0m \u001b[31m?\u001b[0m eta \u001b[36m-:--:--\u001b[0m\r\u001b[2K   \u001b[90m━━━━━━━━━━━━━━━━━━━━━━━━━━━━━━━━━━━━━━━━\u001b[0m \u001b[32m88.8/88.8 kB\u001b[0m \u001b[31m5.7 MB/s\u001b[0m eta \u001b[36m0:00:00\u001b[0m\n",
            "\u001b[?25h\u001b[?25l   \u001b[90m━━━━━━━━━━━━━━━━━━━━━━━━━━━━━━━━━━━━━━━━\u001b[0m \u001b[32m0.0/56.9 kB\u001b[0m \u001b[31m?\u001b[0m eta \u001b[36m-:--:--\u001b[0m\r\u001b[2K   \u001b[90m━━━━━━━━━━━━━━━━━━━━━━━━━━━━━━━━━━━━━━━━\u001b[0m \u001b[32m56.9/56.9 kB\u001b[0m \u001b[31m4.2 MB/s\u001b[0m eta \u001b[36m0:00:00\u001b[0m\n",
            "\u001b[?25h"
          ]
        }
      ]
    },
    {
      "cell_type": "code",
      "source": [
        "import umap.umap_ as umap\n"
      ],
      "metadata": {
        "id": "BCEdegOSgRBg"
      },
      "id": "BCEdegOSgRBg",
      "execution_count": 5,
      "outputs": []
    },
    {
      "cell_type": "code",
      "source": [
        "from umap import UMAP"
      ],
      "metadata": {
        "id": "FVmqXk-vlFrB"
      },
      "id": "FVmqXk-vlFrB",
      "execution_count": 6,
      "outputs": []
    },
    {
      "cell_type": "code",
      "source": [
        "!pip install scanpy -q"
      ],
      "metadata": {
        "id": "CM_xhHZxUcF5",
        "colab": {
          "base_uri": "https://localhost:8080/"
        },
        "outputId": "ff340e8f-907d-4d90-aba8-a5ca714068ae"
      },
      "id": "CM_xhHZxUcF5",
      "execution_count": 7,
      "outputs": [
        {
          "output_type": "stream",
          "name": "stdout",
          "text": [
            "  Preparing metadata (setup.py) ... \u001b[?25l\u001b[?25hdone\n",
            "\u001b[2K   \u001b[90m━━━━━━━━━━━━━━━━━━━━━━━━━━━━━━━━━━━━━━━━\u001b[0m \u001b[32m2.1/2.1 MB\u001b[0m \u001b[31m31.9 MB/s\u001b[0m eta \u001b[36m0:00:00\u001b[0m\n",
            "\u001b[2K   \u001b[90m━━━━━━━━━━━━━━━━━━━━━━━━━━━━━━━━━━━━━━━━\u001b[0m \u001b[32m83.6/83.6 kB\u001b[0m \u001b[31m6.6 MB/s\u001b[0m eta \u001b[36m0:00:00\u001b[0m\n",
            "\u001b[?25h  Building wheel for session-info (setup.py) ... \u001b[?25l\u001b[?25hdone\n"
          ]
        }
      ]
    },
    {
      "cell_type": "code",
      "source": [
        "import scanpy as sc"
      ],
      "metadata": {
        "id": "NYl1nQOhUoj2"
      },
      "id": "NYl1nQOhUoj2",
      "execution_count": 8,
      "outputs": []
    },
    {
      "cell_type": "code",
      "source": [
        "pip show scanpy"
      ],
      "metadata": {
        "colab": {
          "base_uri": "https://localhost:8080/"
        },
        "id": "rkvTEjpw_csS",
        "outputId": "7f6bada6-5e76-4e47-dc1d-b43493f9121e"
      },
      "id": "rkvTEjpw_csS",
      "execution_count": 9,
      "outputs": [
        {
          "output_type": "stream",
          "name": "stdout",
          "text": [
            "Name: scanpy\n",
            "Version: 1.10.4\n",
            "Summary: Single-Cell Analysis in Python.\n",
            "Home-page: https://scanpy.org\n",
            "Author: Alex Wolf, Philipp Angerer, Fidel Ramirez, Isaac Virshup, Sergei Rybakov, Gokcen Eraslan, Tom White, Malte Luecken, Davide Cittaro, Tobias Callies, Marius Lange, Andrés R. Muñoz-Rojas\n",
            "Author-email: \n",
            "License: \n",
            "Location: /usr/local/lib/python3.11/dist-packages\n",
            "Requires: anndata, h5py, joblib, legacy-api-wrap, matplotlib, natsort, networkx, numba, numpy, packaging, pandas, patsy, pynndescent, scikit-learn, scipy, seaborn, session-info, statsmodels, tqdm, umap-learn\n",
            "Required-by: \n"
          ]
        }
      ]
    },
    {
      "cell_type": "code",
      "source": [
        "!pip install magic-impute -q"
      ],
      "metadata": {
        "colab": {
          "base_uri": "https://localhost:8080/"
        },
        "id": "wHb_wo4QB7C_",
        "outputId": "dfbf640a-16fd-4b68-895f-4679215b7bd9"
      },
      "id": "wHb_wo4QB7C_",
      "execution_count": 10,
      "outputs": [
        {
          "output_type": "stream",
          "name": "stdout",
          "text": [
            "\u001b[?25l   \u001b[90m━━━━━━━━━━━━━━━━━━━━━━━━━━━━━━━━━━━━━━━━\u001b[0m \u001b[32m0.0/45.4 kB\u001b[0m \u001b[31m?\u001b[0m eta \u001b[36m-:--:--\u001b[0m\r\u001b[2K   \u001b[90m━━━━━━━━━━━━━━━━━━━━━━━━━━━━━━━━━━━━━━━━\u001b[0m \u001b[32m45.4/45.4 kB\u001b[0m \u001b[31m3.3 MB/s\u001b[0m eta \u001b[36m0:00:00\u001b[0m\n",
            "\u001b[2K   \u001b[90m━━━━━━━━━━━━━━━━━━━━━━━━━━━━━━━━━━━━━━━━\u001b[0m \u001b[32m94.1/94.1 kB\u001b[0m \u001b[31m6.8 MB/s\u001b[0m eta \u001b[36m0:00:00\u001b[0m\n",
            "\u001b[2K   \u001b[90m━━━━━━━━━━━━━━━━━━━━━━━━━━━━━━━━━━━━━━━━\u001b[0m \u001b[32m12.2/12.2 MB\u001b[0m \u001b[31m77.8 MB/s\u001b[0m eta \u001b[36m0:00:00\u001b[0m\n",
            "\u001b[2K   \u001b[90m━━━━━━━━━━━━━━━━━━━━━━━━━━━━━━━━━━━━━━━━\u001b[0m \u001b[32m1.8/1.8 MB\u001b[0m \u001b[31m66.3 MB/s\u001b[0m eta \u001b[36m0:00:00\u001b[0m\n",
            "\u001b[?25h\u001b[31mERROR: pip's dependency resolver does not currently take into account all the packages that are installed. This behaviour is the source of the following dependency conflicts.\n",
            "google-colab 1.0.0 requires pandas==2.2.2, but you have pandas 2.0.3 which is incompatible.\n",
            "mizani 0.13.1 requires pandas>=2.2.0, but you have pandas 2.0.3 which is incompatible.\n",
            "plotnine 0.14.5 requires pandas>=2.2.0, but you have pandas 2.0.3 which is incompatible.\n",
            "xarray 2025.1.1 requires pandas>=2.1, but you have pandas 2.0.3 which is incompatible.\u001b[0m\u001b[31m\n",
            "\u001b[0m"
          ]
        }
      ]
    },
    {
      "cell_type": "code",
      "source": [
        "!pip install leidenalg -q"
      ],
      "metadata": {
        "colab": {
          "base_uri": "https://localhost:8080/"
        },
        "id": "oirt93RVEK-D",
        "outputId": "bc01118d-8019-4ed3-dda1-728512f78dc7"
      },
      "id": "oirt93RVEK-D",
      "execution_count": 11,
      "outputs": [
        {
          "output_type": "stream",
          "name": "stdout",
          "text": [
            "\u001b[?25l   \u001b[90m━━━━━━━━━━━━━━━━━━━━━━━━━━━━━━━━━━━━━━━━\u001b[0m \u001b[32m0.0/2.0 MB\u001b[0m \u001b[31m?\u001b[0m eta \u001b[36m-:--:--\u001b[0m\r\u001b[2K   \u001b[91m━━━━━━━━━━━━━━━━━━━━━━━━━━━━━━━━━━━━━━━\u001b[0m\u001b[91m╸\u001b[0m \u001b[32m2.0/2.0 MB\u001b[0m \u001b[31m65.5 MB/s\u001b[0m eta \u001b[36m0:00:01\u001b[0m\r\u001b[2K   \u001b[90m━━━━━━━━━━━━━━━━━━━━━━━━━━━━━━━━━━━━━━━━\u001b[0m \u001b[32m2.0/2.0 MB\u001b[0m \u001b[31m39.2 MB/s\u001b[0m eta \u001b[36m0:00:00\u001b[0m\n",
            "\u001b[?25h"
          ]
        }
      ]
    },
    {
      "cell_type": "code",
      "execution_count": 12,
      "id": "4e15629f-bdc4-46dd-8375-a1f2e17960ca",
      "metadata": {
        "id": "4e15629f-bdc4-46dd-8375-a1f2e17960ca"
      },
      "outputs": [],
      "source": [
        "import numpy as np"
      ]
    },
    {
      "cell_type": "code",
      "execution_count": 13,
      "id": "37ff51dc-8860-4ab6-ab44-8223b33ea879",
      "metadata": {
        "id": "37ff51dc-8860-4ab6-ab44-8223b33ea879"
      },
      "outputs": [],
      "source": [
        "import anndata as ad"
      ]
    },
    {
      "cell_type": "code",
      "execution_count": 14,
      "id": "f54f07e0-84cc-4ab9-a156-ea8467a76fc4",
      "metadata": {
        "id": "f54f07e0-84cc-4ab9-a156-ea8467a76fc4"
      },
      "outputs": [],
      "source": [
        "import matplotlib.pyplot as plt"
      ]
    },
    {
      "cell_type": "code",
      "execution_count": 15,
      "id": "dfc626e2-9a64-4f0f-8677-1da6e446ea3a",
      "metadata": {
        "id": "dfc626e2-9a64-4f0f-8677-1da6e446ea3a"
      },
      "outputs": [],
      "source": [
        "import plotly.subplots as sp\n",
        "import plotly.graph_objects as go"
      ]
    },
    {
      "cell_type": "code",
      "source": [
        "import pandas as pd"
      ],
      "metadata": {
        "id": "wIN4ttvPN-LD"
      },
      "id": "wIN4ttvPN-LD",
      "execution_count": 110,
      "outputs": []
    },
    {
      "cell_type": "markdown",
      "id": "43f56d4f-c4ec-496e-96bd-6645365df65c",
      "metadata": {
        "id": "43f56d4f-c4ec-496e-96bd-6645365df65c"
      },
      "source": [
        "# Import reads from google drive, one sample treated with energy metabolism inhibitors and one untreated"
      ]
    },
    {
      "cell_type": "code",
      "source": [
        "from google.colab import drive\n",
        "drive.mount('/content/drive')"
      ],
      "metadata": {
        "colab": {
          "base_uri": "https://localhost:8080/"
        },
        "id": "BpK5P48ACJOW",
        "outputId": "34ad0fde-a83f-4f1f-e493-b10f9af578e3"
      },
      "id": "BpK5P48ACJOW",
      "execution_count": 16,
      "outputs": [
        {
          "output_type": "stream",
          "name": "stdout",
          "text": [
            "Mounted at /content/drive\n"
          ]
        }
      ]
    },
    {
      "cell_type": "code",
      "execution_count": 64,
      "id": "be1662ba-006c-4be4-9858-70480fa51fe3",
      "metadata": {
        "id": "be1662ba-006c-4be4-9858-70480fa51fe3"
      },
      "outputs": [],
      "source": [
        "SRR26046013_DM_AOA_INH = sc.read_h5ad('/content/drive/MyDrive/Colab Notebooks/fragments_matrix.h5ad')"
      ]
    },
    {
      "cell_type": "code",
      "execution_count": 65,
      "id": "967b901c-c65e-436a-8c7c-2583264344ce",
      "metadata": {
        "id": "967b901c-c65e-436a-8c7c-2583264344ce",
        "colab": {
          "base_uri": "https://localhost:8080/"
        },
        "outputId": "66c9be05-c472-4aee-d95b-f4f764a4879b"
      },
      "outputs": [
        {
          "output_type": "execute_result",
          "data": {
            "text/plain": [
              "AnnData object with n_obs × n_vars = 10210 × 0\n",
              "    obs: 'n_fragment', 'frac_dup', 'frac_mito'\n",
              "    uns: 'reference_sequences'\n",
              "    obsm: 'fragment_paired'"
            ]
          },
          "metadata": {},
          "execution_count": 65
        }
      ],
      "source": [
        "SRR26046013_DM_AOA_INH"
      ]
    },
    {
      "cell_type": "markdown",
      "id": "8d0d9a69-6554-4ab7-8457-626e3316378d",
      "metadata": {
        "id": "8d0d9a69-6554-4ab7-8457-626e3316378d"
      },
      "source": [
        "Compute fragment size distributions"
      ]
    },
    {
      "cell_type": "code",
      "source": [
        "snap.metrics.frag_size_distr(SRR26046013_DM_AOA_INH)"
      ],
      "metadata": {
        "id": "oH-_Vju2Q28S"
      },
      "id": "oH-_Vju2Q28S",
      "execution_count": 66,
      "outputs": []
    },
    {
      "cell_type": "markdown",
      "id": "bfb2ab5a-2f93-46ec-be0c-0711844bff6e",
      "metadata": {
        "id": "bfb2ab5a-2f93-46ec-be0c-0711844bff6e"
      },
      "source": [
        "# Compute and plot TSSe"
      ]
    },
    {
      "cell_type": "code",
      "execution_count": 67,
      "id": "50d4eb5b-0e04-4227-9899-0380f7910d01",
      "metadata": {
        "id": "50d4eb5b-0e04-4227-9899-0380f7910d01"
      },
      "outputs": [],
      "source": [
        "# Compute TSSe metrics\n",
        "# Get genome annotation\n",
        "gene_anno = snap.genome.hg38"
      ]
    },
    {
      "cell_type": "code",
      "execution_count": 68,
      "id": "548c5878-5da8-430b-b83d-d6596b92209d",
      "metadata": {
        "id": "548c5878-5da8-430b-b83d-d6596b92209d"
      },
      "outputs": [],
      "source": [
        "snap.metrics.tsse(SRR26046013_DM_AOA_INH, gene_anno)"
      ]
    },
    {
      "cell_type": "code",
      "execution_count": 69,
      "id": "a8dcf546-39fe-4cd8-b12d-ec1189032d2e",
      "metadata": {
        "id": "a8dcf546-39fe-4cd8-b12d-ec1189032d2e",
        "outputId": "55ee8ac5-fbb3-4986-cd41-67d369c5860b",
        "colab": {
          "base_uri": "https://localhost:8080/",
          "height": 576
        }
      },
      "outputs": [
        {
          "output_type": "stream",
          "name": "stderr",
          "text": [
            "/usr/local/lib/python3.11/dist-packages/snapatac2/plotting/__init__.py:97: FutureWarning:\n",
            "\n",
            "Series.__getitem__ treating keys as positions is deprecated. In a future version, integer keys will always be treated as labels (consistent with DataFrame behavior). To access a value by position, use `ser.iloc[pos]`\n",
            "\n",
            "/usr/local/lib/python3.11/dist-packages/snapatac2/plotting/__init__.py:98: FutureWarning:\n",
            "\n",
            "Series.__getitem__ treating keys as positions is deprecated. In a future version, integer keys will always be treated as labels (consistent with DataFrame behavior). To access a value by position, use `ser.iloc[pos]`\n",
            "\n"
          ]
        },
        {
          "output_type": "display_data",
          "data": {
            "text/html": [
              "<html>\n",
              "<head><meta charset=\"utf-8\" /></head>\n",
              "<body>\n",
              "    <div>            <script src=\"https://cdnjs.cloudflare.com/ajax/libs/mathjax/2.7.5/MathJax.js?config=TeX-AMS-MML_SVG\"></script><script type=\"text/javascript\">if (window.MathJax && window.MathJax.Hub && window.MathJax.Hub.Config) {window.MathJax.Hub.Config({SVG: {font: \"STIX-Web\"}});}</script>                <script type=\"text/javascript\">window.PlotlyConfig = {MathJaxConfig: 'local'};</script>\n",
              "        <script charset=\"utf-8\" src=\"https://cdn.plot.ly/plotly-2.35.2.min.js\"></script>                <div id=\"c0aea196-8c46-49d2-9ede-ec2e9d63e02f\" class=\"plotly-graph-div\" style=\"height:400px; width:500px;\"></div>            <script type=\"text/javascript\">                                    window.PLOTLYENV=window.PLOTLYENV || {};                                    if (document.getElementById(\"c0aea196-8c46-49d2-9ede-ec2e9d63e02f\")) {                    Plotly.newPlot(                        \"c0aea196-8c46-49d2-9ede-ec2e9d63e02f\",                        [{\"colorbar\":{\"ticktext\":[\"0.003\",\"0.009\",\"0.022\",\"0.039\",\"0.059\",\"0.081\",\"0.102\",\"0.126\",\"0.155\",\"0.189\"],\"tickvals\":[1,2,3,4,5,6,7,8,9],\"title\":{\"text\":\"Density\"},\"y\":1,\"yanchor\":\"top\"},\"colorscale\":[[0.0,\"rgb(247,251,255)\"],[0.125,\"rgb(222,235,247)\"],[0.25,\"rgb(198,219,239)\"],[0.375,\"rgb(158,202,225)\"],[0.5,\"rgb(107,174,214)\"],[0.625,\"rgb(66,146,198)\"],[0.75,\"rgb(33,113,181)\"],[0.875,\"rgb(8,81,156)\"],[1.0,\"rgb(8,48,107)\"]],\"line\":{\"smoothing\":0.85},\"x\":[277.7622078684486,303.160765959313,330.8817665381077,361.1375735937823,394.1599696645236,430.2019314686255,469.5395678989309,512.4742352273548,559.3348457235741,610.4803873736575,666.302674001602,727.2293468618025,793.7271506969403,866.3055093583904,945.5204283811244,1031.9787544098056,1126.3428241065337,1229.335538154396,1341.7458992275851,1464.4350563531318,1598.3429019686846,1744.4952722148162,1904.0118056215867,2078.1145203929027,2268.137175997173,2475.5354907812234,2701.898293882147,2948.959696869246,3218.612378360115,3512.92208338115,3834.1434485486307,4184.737274303323,4567.389376517088,4985.031161889155,5440.862084755293,5938.374157346124,6481.378701261891,7074.035545100259,7720.884891913352,8426.882100622935,9197.435647845978,10038.448560946956,10956.363639725845,11958.212813174257,13051.671009410124,14245.114951475678,15547.687329419374,16969.366840268733,18521.044632453762,20214.607740303407,22063.030147786918,24080.472179117747,26282.388977627757,28685.64890394253,31308.662760478353,34171.52483221817,37296.16682424741,40706.52587532773,44428.727934621005,48491.28790636891,52925.32809578894,57764.81662964879,63046.8276780025,68811.82547058506,75103.97428364755,81971.4767719682,89466.9432379203,97647.79466647962,106576.70261372632,116322.06931872286,126958.55171679042,138567.63336852507,151238.24868596566,165067.46423796166,180161.22235405914,196635.15272347743,214615.45820664297,234239.8816452719,255658.76107750257,279036.18144183344,304551.2315927882,332399.3762580163,362793.9534470584,395967.80878307135,432175.07927773934,471693.1402144462,514824.730054317,561900.269643528,613280.3934887872,669358.7124924666,730564.829312066,797367.6294439433,870278.873243526,949857.1163996155,1036711.9888966057,1131508.8652447253,1234973.9617558287,1347899.8999137508,1471151.7784588828,1605673.8007037628],\"y\":[-3.9019359094944734,-3.3128465929797315,-2.7237572764649896,-2.134667959950247,-1.5455786434355052,-0.9564893269207633,-0.3674000104060209,0.22168930610872106,0.810778622623463,1.399867939138205,1.988957255652947,2.578046572167689,3.1671358886824317,3.7562252051971736,4.345314521711916,4.934403838226657,5.5234931547413995,6.112582471256142,6.701671787770883,7.290761104285626,7.879850420800367,8.468939737315111,9.058029053829852,9.647118370344593,10.236207686859338,10.825297003374079,11.41438631988882,12.00347563640356,12.592564952918305,13.181654269433047,13.770743585947788,14.359832902462532,14.948922218977273,15.538011535492014,16.12710085200676,16.7161901685215,17.30527948503624,17.894368801550982,18.483458118065727,19.072547434580468,19.66163675109521,20.250726067609953,20.839815384124694,21.428904700639436,22.017994017154177,22.60708333366892,23.196172650183662,23.785261966698403,24.374351283213148,24.96344059972789,25.55252991624263,26.14161923275737,26.730708549272116,27.319797865786857,27.908887182301598,28.49797649881634,29.087065815331083,29.676155131845828,30.265244448360566,30.85433376487531,31.443423081390048,32.03251239790479,32.62160171441953,33.21069103093427,33.799780347449015,34.38886966396376,34.9779589804785,35.56704829699324,36.15613761350799,36.745226930022724,37.33431624653747,37.923405563052206,38.51249487956695,39.101584196081696,39.69067351259643,40.27976282911118,40.86885214562592,41.45794146214066,42.047030778655405,42.63612009517015,43.22520941168489,43.81429872819963,44.403388044714376,44.99247736122911,45.58156667774386,46.170655994258595,46.75974531077334,47.348834627288085,47.93792394380282,48.52701326031757,49.11610257683231,49.70519189334705,50.29428120986179,50.88337052637654,51.472459842891276,52.06154915940602,52.650638475920765,53.2397277924355,53.82881710895025,54.41790642546499],\"z\":[[0.1,0.1,0.1,0.1,0.1,0.1,0.1,0.1,0.1,0.1,0.1,0.1,0.1,0.1,0.1,0.1,0.1,0.1,0.1,0.1,0.1,0.1,0.1,0.1,0.1,0.1,0.1,0.1,0.1,0.1,0.1,0.1,0.1,0.1,0.1,0.1,0.1,0.1,0.1,0.1,0.1,0.1,0.1,0.1,0.1,0.1,0.1,0.1,0.1,0.1,0.1,0.1,0.1,0.1,0.1,0.1,0.1,0.1,0.1,0.1,0.1,0.1,0.1,0.1,0.1,0.1,0.1,0.1,0.1,0.1,0.1,0.1,0.1,0.1,0.1,0.1,0.1,0.1,0.1,0.1,0.1,0.1,0.1,0.1,0.1,0.1,0.1,0.1,0.1,0.1,0.1,0.1,0.1,0.1,0.1,0.1,0.1,0.1,0.1,0.1],[0.1,0.1,0.1,0.1,0.1,0.1,0.1,0.1,0.1,0.1,0.1,0.1,0.1,0.1,0.1,0.1,0.1,0.1,0.1,0.1,0.1,0.1,0.1,0.1,0.1,0.1,0.1,0.1,0.1,0.1,0.1,0.1,0.1,0.1,0.1,0.1,0.1,0.1,0.1,0.1,0.1,0.1,0.1,0.1,0.1,0.1,0.1,0.1,0.1,0.1,0.1,0.1,0.1,0.1,0.1,0.1,0.1,0.1,0.1,0.1,0.1,0.1,0.1,0.1,0.1,0.1,0.1,0.1,0.1,0.1,0.1,0.1,0.1,0.1,0.1,0.1,0.1,0.1,0.1,0.1,0.1,0.1,0.1,0.1,0.1,0.1,0.1,0.1,0.1,0.1,0.1,0.1,0.1,0.1,0.1,0.1,0.1,0.1,0.1,0.1],[0.1,0.1,0.1,0.1,0.1,0.1,0.1,0.1,0.1,0.1,0.1,0.1,0.1,0.1,0.1,0.1,0.1,0.1,0.1,0.1,0.1,0.1,0.1,0.1,0.1,0.1,0.1,0.1,0.1,0.1,0.1,0.1,0.1,0.1,0.1,0.1,0.1,0.1,0.1,0.1,0.1,0.1,0.1,0.1,0.1,0.1,0.1,0.1,0.1,0.1,0.1,0.1,0.1,0.1,0.1,0.1,0.1,0.1,0.1,0.1,0.1,0.1,0.1,0.1,0.1,0.1,0.1,0.1,0.1,0.1,0.1,0.1,0.1,0.1,0.1,0.1,0.1,0.1,0.1,0.1,0.1,0.1,0.1,0.1,0.1,0.1,0.1,0.1,0.1,0.1,0.1,0.1,0.1,0.1,0.1,0.1,0.1,0.1,0.1,0.1],[0.1,0.1,0.1,0.1,0.1,0.1,0.1,0.1,0.1,0.1,0.1,0.1,0.1,0.1,0.1,0.1,0.1,0.1,0.1,0.1,0.1,0.1,0.1,0.1,0.1,0.1,0.1,0.1,0.1,0.1,0.1,0.1,0.1,0.1,0.1,0.1,0.1,0.1,0.1,0.1,0.1,0.1,0.1,0.1,0.1,0.1,0.1,0.1,0.1,0.1,0.1,0.1,0.1,0.1,0.1,0.1,0.1,0.1,0.1,0.1,0.1,0.1,0.1,0.1,0.1,0.1,0.1,0.1,0.1,0.1,0.1,0.1,0.1,0.1,0.1,0.1,0.1,0.1,0.1,0.1,0.1,0.1,0.1,0.1,0.1,0.1,0.1,0.1,0.1,0.1,0.1,0.1,0.1,0.1,0.1,0.1,0.1,0.1,0.1,0.1],[0.1,0.1,0.1,0.1,0.1,0.1,0.1,0.1,0.1,0.1,0.1,0.1,0.1,0.1,0.1,0.1,0.1,0.1,0.1,0.1,0.1,0.1,0.1,0.1,0.1,0.1,0.1,0.1,0.1,0.1,0.1,0.1,0.1,0.1,0.1,0.1,0.1,0.1,0.1,0.1,0.1,0.1,0.1,0.1,0.1,0.1,0.1,0.1,0.1,0.1,0.1,0.1,0.1,0.1,0.1,0.1,0.1,0.1,0.1,0.1,0.1,0.1,0.1,0.1,0.1,0.1,0.1,0.1,0.1,0.1,0.1,0.1,0.1,0.1,0.1,0.1,0.1,0.1,0.1,0.1,0.1,0.1,0.1,0.1,0.1,0.1,0.1,0.1,0.1,0.1,0.1,0.1,0.1,0.1,0.1,0.1,0.1,0.1,0.1,0.1],[0.1,0.1,0.1,0.1,0.1,0.1,0.1,0.1,0.1,0.1,0.1,0.1,0.1,0.1,0.1,0.1,0.1,0.1,0.1,0.1,0.1,0.1,0.1,0.1,0.1,0.1,0.1,0.1,0.1,0.1,0.1,0.1,0.1,0.1,0.1,0.1,0.1,0.1,0.1,0.1,0.1,0.1,0.1,0.1,0.1,0.1,0.1,0.1,0.1,0.1,0.1,0.1,0.1,0.1,0.1,0.1,0.1,0.1,0.1,0.1,0.1,0.1,0.1,0.1,0.1,0.1,0.1,0.1,0.1,0.1,0.1,0.1,0.1,0.1,0.1,0.1,0.1,0.1,0.1,0.1,0.1,0.1,0.1,0.1,0.1,0.1,0.1,0.1,0.1,0.1,0.1,0.1,0.1,0.1,0.1,0.1,0.1,0.1,0.1,0.1],[0.1,0.1,0.1,0.1,0.1,0.1,0.1,0.1,1.1,1.1,1.1,1.1,1.1,1.1,1.1,1.1,1.1,0.1,0.1,0.1,0.1,0.1,0.1,0.1,0.1,0.1,0.1,0.1,0.1,0.1,0.1,0.1,0.1,0.1,0.1,0.1,0.1,0.1,0.1,0.1,0.1,0.1,0.1,0.1,0.1,0.1,0.1,0.1,0.1,0.1,0.1,0.1,0.1,0.1,0.1,0.1,0.1,0.1,0.1,0.1,0.1,0.1,0.1,0.1,0.1,0.1,0.1,0.1,0.1,0.1,0.1,0.1,0.1,0.1,0.1,0.1,0.1,0.1,0.1,0.1,0.1,0.1,0.1,0.1,0.1,0.1,0.1,0.1,0.1,0.1,0.1,0.1,0.1,0.1,0.1,0.1,0.1,0.1,0.1,0.1],[0.1,0.1,0.1,0.1,0.1,0.1,0.1,1.1,1.1,1.1,1.1,1.1,1.1,1.1,1.1,1.1,1.1,1.1,1.1,1.1,0.1,0.1,0.1,0.1,0.1,0.1,0.1,0.1,0.1,0.1,0.1,0.1,0.1,0.1,0.1,0.1,0.1,0.1,0.1,0.1,0.1,0.1,0.1,0.1,0.1,0.1,0.1,0.1,0.1,0.1,0.1,0.1,0.1,0.1,0.1,0.1,0.1,0.1,0.1,0.1,0.1,0.1,0.1,0.1,0.1,0.1,0.1,0.1,0.1,0.1,0.1,0.1,0.1,0.1,0.1,0.1,0.1,0.1,0.1,0.1,0.1,0.1,0.1,0.1,0.1,0.1,0.1,0.1,0.1,0.1,0.1,0.1,0.1,0.1,0.1,0.1,0.1,0.1,0.1,0.1],[0.1,0.1,0.1,0.1,0.1,0.1,1.1,1.1,1.1,1.1,1.1,1.1,1.1,1.1,1.1,1.1,1.1,1.1,1.1,1.1,1.1,0.1,0.1,0.1,0.1,0.1,0.1,0.1,0.1,0.1,0.1,0.1,0.1,0.1,0.1,0.1,0.1,0.1,0.1,0.1,0.1,0.1,0.1,0.1,0.1,0.1,0.1,0.1,0.1,0.1,0.1,0.1,0.1,0.1,0.1,0.1,0.1,0.1,0.1,0.1,0.1,0.1,0.1,0.1,0.1,0.1,0.1,0.1,0.1,0.1,0.1,0.1,0.1,0.1,0.1,0.1,0.1,0.1,0.1,0.1,0.1,0.1,0.1,0.1,0.1,0.1,0.1,0.1,0.1,0.1,0.1,0.1,0.1,0.1,0.1,0.1,0.1,0.1,0.1,0.1],[0.1,0.1,0.1,0.1,0.1,0.1,1.1,1.1,1.1,1.1,1.1,1.1,1.1,1.1,1.1,1.1,1.1,1.1,1.1,1.1,1.1,0.1,0.1,0.1,0.1,0.1,0.1,0.1,0.1,0.1,0.1,0.1,0.1,0.1,0.1,0.1,0.1,0.1,0.1,0.1,0.1,0.1,0.1,0.1,0.1,0.1,0.1,0.1,0.1,0.1,0.1,0.1,0.1,0.1,0.1,0.1,0.1,0.1,0.1,0.1,0.1,0.1,0.1,0.1,0.1,0.1,0.1,0.1,0.1,0.1,0.1,0.1,0.1,0.1,0.1,0.1,0.1,0.1,0.1,0.1,0.1,0.1,0.1,0.1,0.1,0.1,0.1,0.1,0.1,0.1,0.1,0.1,0.1,0.1,0.1,0.1,0.1,0.1,0.1,0.1],[0.1,0.1,0.1,0.1,0.1,0.1,1.1,1.1,1.1,1.1,1.1,1.1,1.1,1.1,1.1,1.1,1.1,1.1,1.1,1.1,1.1,0.1,0.1,0.1,0.1,0.1,0.1,0.1,0.1,0.1,0.1,0.1,0.1,0.1,0.1,0.1,0.1,0.1,0.1,0.1,0.1,0.1,0.1,0.1,0.1,0.1,0.1,0.1,0.1,0.1,0.1,0.1,0.1,0.1,0.1,0.1,0.1,0.1,0.1,0.1,0.1,0.1,0.1,0.1,0.1,0.1,0.1,0.1,0.1,0.1,0.1,0.1,0.1,0.1,0.1,0.1,0.1,0.1,0.1,0.1,0.1,0.1,0.1,0.1,0.1,0.1,0.1,0.1,0.1,0.1,0.1,0.1,0.1,0.1,0.1,0.1,0.1,0.1,0.1,0.1],[0.1,0.1,0.1,0.1,0.1,0.1,0.1,1.1,1.1,1.1,1.1,1.1,1.1,1.1,1.1,1.1,1.1,1.1,1.1,1.1,0.1,0.1,0.1,0.1,0.1,0.1,0.1,0.1,0.1,0.1,0.1,0.1,0.1,0.1,0.1,0.1,0.1,0.1,0.1,0.1,0.1,0.1,0.1,0.1,0.1,0.1,0.1,0.1,0.1,0.1,0.1,0.1,0.1,0.1,0.1,0.1,0.1,0.1,0.1,0.1,0.1,0.1,0.1,0.1,0.1,0.1,0.1,0.1,0.1,0.1,0.1,0.1,0.1,0.1,0.1,0.1,0.1,0.1,0.1,0.1,0.1,0.1,0.1,0.1,0.1,0.1,0.1,0.1,0.1,0.1,0.1,0.1,0.1,0.1,0.1,0.1,0.1,0.1,0.1,0.1],[0.1,0.1,0.1,0.1,0.1,0.1,0.1,1.1,1.1,1.1,1.1,1.1,1.1,1.1,1.1,1.1,1.1,0.1,0.1,0.1,0.1,0.1,0.1,0.1,0.1,0.1,0.1,0.1,0.1,0.1,0.1,0.1,0.1,0.1,0.1,0.1,0.1,0.1,0.1,0.1,0.1,0.1,0.1,0.1,0.1,0.1,0.1,0.1,0.1,0.1,0.1,0.1,0.1,0.1,0.1,0.1,0.1,0.1,0.1,0.1,0.1,0.1,0.1,0.1,0.1,0.1,0.1,0.1,0.1,0.1,0.1,0.1,0.1,0.1,0.1,0.1,0.1,0.1,0.1,0.1,0.1,0.1,0.1,0.1,0.1,0.1,0.1,0.1,0.1,0.1,0.1,0.1,0.1,0.1,0.1,0.1,0.1,0.1,0.1,0.1],[0.1,0.1,0.1,0.1,0.1,0.1,0.1,1.1,1.1,1.1,1.1,1.1,1.1,1.1,0.1,0.1,0.1,0.1,0.1,0.1,0.1,0.1,0.1,0.1,0.1,0.1,0.1,0.1,0.1,0.1,0.1,0.1,0.1,0.1,0.1,0.1,0.1,0.1,0.1,0.1,0.1,0.1,0.1,0.1,0.1,0.1,0.1,0.1,0.1,0.1,0.1,0.1,0.1,0.1,0.1,0.1,0.1,0.1,0.1,0.1,0.1,0.1,0.1,0.1,0.1,0.1,0.1,0.1,0.1,0.1,0.1,0.1,0.1,0.1,0.1,0.1,0.1,0.1,0.1,0.1,0.1,0.1,0.1,0.1,0.1,0.1,0.1,0.1,0.1,0.1,0.1,0.1,0.1,0.1,0.1,0.1,0.1,0.1,0.1,0.1],[0.1,0.1,0.1,0.1,0.1,0.1,0.1,0.1,1.1,1.1,1.1,1.1,0.1,0.1,0.1,0.1,0.1,0.1,0.1,0.1,0.1,0.1,0.1,0.1,0.1,0.1,0.1,0.1,0.1,0.1,0.1,0.1,0.1,0.1,0.1,0.1,0.1,0.1,0.1,0.1,0.1,0.1,0.1,0.1,0.1,0.1,0.1,0.1,0.1,0.1,0.1,0.1,0.1,0.1,0.1,0.1,0.1,0.1,0.1,0.1,0.1,0.1,0.1,0.1,0.1,0.1,0.1,0.1,0.1,0.1,0.1,0.1,0.1,0.1,0.1,0.1,0.1,0.1,0.1,0.1,0.1,0.1,0.1,0.1,0.1,0.1,0.1,0.1,0.1,0.1,0.1,0.1,0.1,0.1,0.1,0.1,0.1,0.1,0.1,0.1],[0.1,0.1,0.1,0.1,0.1,0.1,0.1,0.1,1.1,1.1,1.1,1.1,0.1,0.1,0.1,0.1,0.1,0.1,0.1,0.1,0.1,0.1,0.1,0.1,0.1,0.1,0.1,0.1,0.1,0.1,0.1,0.1,0.1,0.1,0.1,0.1,0.1,0.1,0.1,0.1,0.1,0.1,0.1,0.1,0.1,0.1,0.1,0.1,0.1,0.1,0.1,0.1,0.1,0.1,0.1,0.1,0.1,0.1,0.1,0.1,0.1,0.1,0.1,0.1,0.1,0.1,0.1,0.1,0.1,0.1,0.1,0.1,0.1,0.1,0.1,0.1,0.1,0.1,0.1,0.1,0.1,0.1,0.1,0.1,0.1,0.1,0.1,0.1,0.1,0.1,0.1,0.1,0.1,0.1,0.1,0.1,0.1,0.1,0.1,0.1],[0.1,0.1,0.1,0.1,0.1,0.1,0.1,1.1,1.1,1.1,1.1,1.1,0.1,0.1,0.1,0.1,0.1,0.1,0.1,0.1,0.1,0.1,0.1,0.1,0.1,0.1,0.1,0.1,0.1,0.1,0.1,0.1,0.1,0.1,0.1,0.1,0.1,0.1,0.1,0.1,0.1,0.1,0.1,0.1,0.1,0.1,0.1,0.1,0.1,0.1,0.1,0.1,0.1,0.1,0.1,0.1,0.1,0.1,0.1,0.1,0.1,0.1,0.1,0.1,0.1,0.1,0.1,0.1,0.1,0.1,0.1,0.1,0.1,0.1,0.1,0.1,0.1,0.1,0.1,0.1,0.1,0.1,0.1,0.1,0.1,0.1,0.1,0.1,0.1,0.1,0.1,0.1,0.1,0.1,0.1,0.1,0.1,0.1,0.1,0.1],[0.1,0.1,0.1,0.1,0.1,0.1,0.1,1.1,1.1,1.1,1.1,1.1,1.1,0.1,0.1,0.1,0.1,0.1,0.1,0.1,0.1,0.1,0.1,0.1,0.1,0.1,0.1,0.1,0.1,0.1,0.1,0.1,0.1,0.1,0.1,0.1,0.1,0.1,0.1,0.1,0.1,0.1,0.1,0.1,0.1,0.1,0.1,0.1,0.1,0.1,0.1,0.1,0.1,0.1,0.1,0.1,0.1,0.1,0.1,0.1,0.1,0.1,0.1,0.1,0.1,0.1,0.1,0.1,0.1,0.1,0.1,0.1,0.1,0.1,0.1,0.1,0.1,0.1,0.1,0.1,0.1,0.1,0.1,0.1,0.1,0.1,0.1,0.1,0.1,0.1,0.1,0.1,0.1,0.1,0.1,0.1,0.1,0.1,0.1,0.1],[0.1,0.1,0.1,0.1,0.1,0.1,1.1,1.1,1.1,1.1,1.1,1.1,1.1,1.1,0.1,0.1,0.1,0.1,0.1,0.1,0.1,0.1,0.1,0.1,0.1,0.1,0.1,0.1,0.1,0.1,0.1,0.1,0.1,0.1,0.1,0.1,0.1,0.1,0.1,0.1,0.1,0.1,0.1,0.1,0.1,0.1,0.1,0.1,0.1,0.1,0.1,0.1,0.1,0.1,0.1,0.1,0.1,0.1,0.1,0.1,0.1,0.1,0.1,0.1,0.1,0.1,0.1,0.1,0.1,0.1,0.1,0.1,0.1,0.1,0.1,0.1,0.1,0.1,0.1,0.1,0.1,0.1,0.1,0.1,0.1,0.1,0.1,0.1,0.1,0.1,0.1,0.1,0.1,0.1,0.1,0.1,0.1,0.1,0.1,0.1],[0.1,0.1,0.1,0.1,0.1,0.1,1.1,1.1,1.1,1.1,1.1,1.1,1.1,1.1,1.1,0.1,0.1,0.1,0.1,0.1,0.1,0.1,0.1,0.1,0.1,0.1,0.1,0.1,0.1,0.1,0.1,0.1,0.1,0.1,0.1,0.1,0.1,0.1,0.1,0.1,0.1,0.1,0.1,0.1,0.1,0.1,0.1,0.1,0.1,0.1,0.1,0.1,0.1,0.1,0.1,0.1,0.1,0.1,0.1,0.1,0.1,0.1,0.1,0.1,0.1,0.1,0.1,0.1,0.1,0.1,0.1,0.1,0.1,0.1,0.1,0.1,0.1,0.1,0.1,0.1,0.1,0.1,0.1,0.1,0.1,0.1,0.1,0.1,0.1,0.1,0.1,0.1,0.1,0.1,0.1,0.1,0.1,0.1,0.1,0.1],[0.1,0.1,0.1,0.1,0.1,0.1,1.1,1.1,1.1,1.1,1.1,1.1,1.1,1.1,1.1,1.1,0.1,0.1,0.1,0.1,0.1,0.1,0.1,0.1,0.1,0.1,0.1,0.1,0.1,0.1,0.1,0.1,0.1,0.1,0.1,0.1,0.1,0.1,0.1,0.1,0.1,0.1,0.1,0.1,0.1,0.1,0.1,0.1,0.1,0.1,0.1,0.1,0.1,0.1,0.1,0.1,0.1,0.1,0.1,0.1,0.1,0.1,0.1,0.1,0.1,0.1,0.1,0.1,0.1,0.1,0.1,0.1,0.1,0.1,0.1,0.1,0.1,0.1,0.1,0.1,0.1,0.1,0.1,0.1,0.1,0.1,0.1,0.1,0.1,0.1,0.1,0.1,0.1,0.1,0.1,0.1,0.1,0.1,0.1,0.1],[0.1,0.1,0.1,0.1,0.1,1.1,1.1,1.1,1.1,1.1,1.1,1.1,1.1,1.1,1.1,1.1,1.1,0.1,0.1,0.1,0.1,0.1,0.1,0.1,0.1,0.1,1.1,1.1,1.1,1.1,0.1,0.1,0.1,0.1,0.1,0.1,0.1,0.1,0.1,0.1,0.1,0.1,0.1,0.1,0.1,0.1,0.1,0.1,0.1,0.1,0.1,0.1,0.1,0.1,0.1,0.1,0.1,0.1,0.1,0.1,0.1,0.1,0.1,0.1,0.1,0.1,0.1,0.1,0.1,0.1,0.1,0.1,0.1,0.1,0.1,0.1,0.1,0.1,0.1,0.1,0.1,0.1,0.1,0.1,0.1,0.1,0.1,0.1,0.1,0.1,0.1,0.1,0.1,0.1,0.1,0.1,0.1,0.1,0.1,0.1],[0.1,0.1,0.1,0.1,0.1,1.1,1.1,1.1,2.1,2.1,2.1,1.1,1.1,1.1,1.1,1.1,1.1,1.1,1.1,0.1,0.1,0.1,1.1,1.1,1.1,1.1,1.1,1.1,1.1,1.1,1.1,0.1,0.1,0.1,0.1,0.1,0.1,0.1,0.1,0.1,0.1,0.1,0.1,0.1,0.1,0.1,0.1,0.1,0.1,0.1,0.1,0.1,0.1,0.1,0.1,0.1,0.1,0.1,0.1,0.1,0.1,0.1,0.1,0.1,0.1,0.1,0.1,0.1,0.1,0.1,0.1,0.1,0.1,0.1,0.1,0.1,0.1,0.1,0.1,0.1,0.1,0.1,0.1,0.1,0.1,0.1,0.1,0.1,0.1,0.1,0.1,0.1,0.1,0.1,0.1,0.1,0.1,0.1,0.1,0.1],[0.1,0.1,0.1,0.1,0.1,1.1,1.1,1.1,2.1,2.1,2.1,2.1,1.1,1.1,1.1,1.1,1.1,1.1,1.1,1.1,1.1,1.1,1.1,1.1,1.1,1.1,1.1,1.1,1.1,1.1,1.1,1.1,0.1,0.1,0.1,0.1,0.1,0.1,0.1,0.1,0.1,0.1,0.1,0.1,0.1,0.1,0.1,0.1,0.1,0.1,0.1,0.1,0.1,0.1,0.1,0.1,0.1,0.1,0.1,0.1,0.1,0.1,0.1,0.1,0.1,0.1,0.1,0.1,0.1,0.1,0.1,0.1,0.1,0.1,0.1,0.1,0.1,0.1,0.1,0.1,0.1,0.1,0.1,0.1,0.1,0.1,0.1,0.1,0.1,0.1,0.1,0.1,0.1,0.1,0.1,0.1,0.1,0.1,0.1,0.1],[0.1,0.1,0.1,0.1,0.1,1.1,1.1,1.1,2.1,2.1,2.1,2.1,1.1,1.1,1.1,1.1,1.1,1.1,1.1,1.1,1.1,1.1,1.1,1.1,1.1,1.1,1.1,1.1,1.1,1.1,1.1,1.1,1.1,0.1,0.1,0.1,0.1,0.1,0.1,0.1,0.1,0.1,0.1,0.1,0.1,0.1,0.1,0.1,0.1,0.1,0.1,0.1,0.1,0.1,0.1,0.1,0.1,0.1,0.1,0.1,0.1,0.1,0.1,0.1,0.1,0.1,0.1,0.1,0.1,0.1,0.1,0.1,0.1,0.1,0.1,0.1,0.1,0.1,0.1,0.1,0.1,0.1,0.1,0.1,0.1,0.1,0.1,0.1,0.1,0.1,0.1,0.1,0.1,0.1,0.1,0.1,0.1,0.1,0.1,0.1],[0.1,0.1,0.1,0.1,0.1,1.1,1.1,1.1,2.1,2.1,2.1,2.1,1.1,1.1,1.1,1.1,1.1,1.1,1.1,1.1,1.1,1.1,1.1,1.1,1.1,1.1,1.1,1.1,1.1,1.1,1.1,1.1,1.1,1.1,1.1,0.1,0.1,0.1,0.1,0.1,0.1,0.1,0.1,0.1,0.1,0.1,0.1,0.1,0.1,0.1,0.1,0.1,0.1,0.1,0.1,0.1,0.1,0.1,0.1,0.1,0.1,0.1,0.1,0.1,0.1,0.1,0.1,0.1,0.1,0.1,0.1,0.1,0.1,0.1,0.1,0.1,0.1,0.1,0.1,0.1,0.1,0.1,0.1,0.1,0.1,0.1,0.1,0.1,0.1,0.1,0.1,0.1,0.1,0.1,0.1,0.1,0.1,0.1,0.1,0.1],[0.1,0.1,0.1,0.1,0.1,0.1,1.1,1.1,1.1,2.1,2.1,2.1,1.1,1.1,1.1,1.1,1.1,1.1,1.1,1.1,1.1,1.1,1.1,1.1,1.1,1.1,1.1,1.1,1.1,1.1,1.1,1.1,1.1,1.1,1.1,1.1,1.1,1.1,1.1,1.1,1.1,1.1,1.1,1.1,1.1,1.1,1.1,1.1,0.1,0.1,0.1,0.1,0.1,0.1,0.1,0.1,0.1,0.1,0.1,0.1,0.1,0.1,0.1,0.1,0.1,0.1,0.1,0.1,0.1,0.1,0.1,0.1,0.1,0.1,0.1,0.1,0.1,0.1,0.1,0.1,0.1,0.1,0.1,0.1,0.1,0.1,0.1,0.1,0.1,0.1,0.1,0.1,0.1,0.1,0.1,0.1,0.1,0.1,0.1,0.1],[0.1,0.1,0.1,0.1,0.1,0.1,1.1,1.1,1.1,1.1,2.1,1.1,1.1,1.1,1.1,1.1,1.1,1.1,1.1,1.1,1.1,1.1,1.1,1.1,1.1,1.1,1.1,1.1,1.1,1.1,1.1,1.1,1.1,1.1,1.1,1.1,1.1,1.1,1.1,1.1,1.1,1.1,1.1,1.1,1.1,1.1,1.1,1.1,1.1,1.1,1.1,0.1,0.1,0.1,0.1,0.1,0.1,0.1,0.1,0.1,0.1,0.1,0.1,0.1,0.1,0.1,0.1,0.1,0.1,0.1,0.1,0.1,0.1,0.1,0.1,0.1,0.1,0.1,0.1,0.1,0.1,0.1,0.1,0.1,0.1,0.1,0.1,0.1,0.1,0.1,0.1,0.1,0.1,0.1,0.1,0.1,0.1,0.1,0.1,0.1],[0.1,0.1,0.1,0.1,0.1,0.1,1.1,1.1,1.1,1.1,1.1,1.1,1.1,1.1,1.1,1.1,1.1,1.1,1.1,1.1,1.1,1.1,1.1,1.1,1.1,1.1,1.1,1.1,1.1,1.1,1.1,1.1,1.1,1.1,1.1,1.1,1.1,1.1,1.1,1.1,1.1,1.1,1.1,1.1,1.1,1.1,1.1,1.1,1.1,1.1,1.1,1.1,1.1,0.1,0.1,0.1,0.1,0.1,0.1,0.1,0.1,0.1,0.1,0.1,0.1,0.1,0.1,0.1,0.1,0.1,0.1,0.1,0.1,0.1,0.1,0.1,0.1,0.1,0.1,0.1,0.1,0.1,0.1,0.1,0.1,0.1,0.1,0.1,0.1,0.1,0.1,0.1,0.1,0.1,0.1,0.1,0.1,0.1,0.1,0.1],[0.1,0.1,0.1,0.1,0.1,0.1,1.1,1.1,1.1,1.1,1.1,1.1,1.1,1.1,1.1,1.1,1.1,1.1,1.1,1.1,1.1,1.1,1.1,1.1,1.1,1.1,2.1,1.1,1.1,1.1,1.1,1.1,1.1,1.1,1.1,1.1,1.1,1.1,1.1,1.1,1.1,1.1,1.1,1.1,1.1,2.1,1.1,1.1,1.1,1.1,1.1,1.1,1.1,1.1,0.1,0.1,0.1,0.1,0.1,0.1,0.1,0.1,0.1,0.1,0.1,0.1,0.1,0.1,0.1,0.1,0.1,0.1,0.1,0.1,0.1,0.1,0.1,0.1,0.1,0.1,0.1,0.1,0.1,0.1,0.1,0.1,0.1,0.1,0.1,0.1,0.1,0.1,0.1,0.1,0.1,0.1,0.1,0.1,0.1,0.1],[0.1,0.1,0.1,0.1,0.1,0.1,0.1,1.1,1.1,1.1,1.1,1.1,1.1,1.1,1.1,1.1,1.1,1.1,1.1,1.1,1.1,1.1,1.1,1.1,1.1,1.1,2.1,2.1,2.1,2.1,1.1,1.1,1.1,1.1,1.1,1.1,1.1,1.1,2.1,2.1,2.1,2.1,2.1,2.1,2.1,2.1,2.1,2.1,2.1,2.1,2.1,1.1,1.1,1.1,1.1,1.1,0.1,0.1,0.1,0.1,0.1,0.1,0.1,0.1,0.1,0.1,0.1,0.1,0.1,0.1,0.1,0.1,0.1,0.1,0.1,0.1,0.1,0.1,0.1,0.1,0.1,0.1,0.1,0.1,0.1,0.1,0.1,0.1,0.1,0.1,0.1,0.1,0.1,0.1,0.1,0.1,0.1,0.1,0.1,0.1],[0.1,0.1,0.1,0.1,0.1,0.1,0.1,1.1,1.1,1.1,1.1,1.1,1.1,1.1,1.1,1.1,1.1,1.1,1.1,1.1,1.1,1.1,1.1,1.1,1.1,1.1,2.1,2.1,2.1,2.1,2.1,2.1,2.1,2.1,2.1,2.1,2.1,2.1,2.1,2.1,2.1,2.1,2.1,2.1,2.1,2.1,2.1,2.1,2.1,2.1,2.1,2.1,2.1,1.1,1.1,1.1,0.1,0.1,0.1,0.1,0.1,0.1,0.1,0.1,0.1,0.1,0.1,0.1,0.1,0.1,0.1,0.1,0.1,0.1,0.1,0.1,0.1,0.1,0.1,0.1,0.1,0.1,0.1,0.1,0.1,0.1,0.1,0.1,0.1,0.1,0.1,0.1,0.1,0.1,0.1,0.1,0.1,0.1,0.1,0.1],[0.1,0.1,0.1,0.1,0.1,0.1,0.1,1.1,1.1,1.1,1.1,1.1,1.1,1.1,1.1,1.1,1.1,1.1,1.1,1.1,1.1,1.1,1.1,1.1,1.1,1.1,1.1,2.1,2.1,2.1,2.1,2.1,2.1,2.1,2.1,2.1,2.1,2.1,2.1,2.1,2.1,2.1,2.1,3.1,3.1,3.1,3.1,3.1,3.1,3.1,3.1,2.1,2.1,2.1,1.1,1.1,1.1,0.1,0.1,0.1,0.1,0.1,0.1,0.1,0.1,0.1,0.1,0.1,0.1,0.1,0.1,0.1,0.1,0.1,0.1,0.1,0.1,0.1,0.1,0.1,0.1,0.1,0.1,0.1,0.1,0.1,0.1,0.1,0.1,0.1,0.1,0.1,0.1,0.1,0.1,0.1,0.1,0.1,0.1,0.1],[0.1,0.1,0.1,0.1,0.1,0.1,0.1,0.1,1.1,1.1,1.1,1.1,1.1,1.1,1.1,1.1,1.1,1.1,1.1,1.1,1.1,1.1,1.1,1.1,1.1,1.1,1.1,2.1,2.1,2.1,2.1,2.1,2.1,2.1,2.1,2.1,2.1,2.1,2.1,3.1,3.1,3.1,3.1,3.1,3.1,4.1,4.1,4.1,4.1,4.1,3.1,3.1,3.1,2.1,2.1,1.1,1.1,1.1,0.1,0.1,0.1,0.1,0.1,0.1,0.1,0.1,0.1,0.1,0.1,0.1,0.1,0.1,0.1,0.1,0.1,0.1,0.1,0.1,0.1,0.1,0.1,0.1,0.1,0.1,0.1,0.1,0.1,0.1,0.1,0.1,0.1,0.1,0.1,0.1,0.1,0.1,0.1,0.1,0.1,0.1],[0.1,0.1,0.1,0.1,0.1,0.1,0.1,0.1,1.1,1.1,1.1,1.1,1.1,1.1,1.1,1.1,1.1,1.1,1.1,1.1,1.1,1.1,1.1,1.1,1.1,1.1,1.1,2.1,2.1,2.1,2.1,2.1,2.1,2.1,2.1,2.1,2.1,3.1,3.1,3.1,3.1,3.1,4.1,4.1,4.1,4.1,5.1,5.1,5.1,5.1,4.1,4.1,3.1,3.1,2.1,2.1,1.1,1.1,0.1,0.1,0.1,0.1,0.1,0.1,0.1,0.1,0.1,0.1,0.1,0.1,0.1,0.1,0.1,0.1,0.1,0.1,0.1,0.1,0.1,0.1,0.1,0.1,0.1,0.1,0.1,0.1,0.1,0.1,0.1,0.1,0.1,0.1,0.1,0.1,0.1,0.1,0.1,0.1,0.1,0.1],[0.1,0.1,0.1,0.1,0.1,0.1,0.1,0.1,0.1,1.1,1.1,1.1,1.1,1.1,1.1,1.1,1.1,1.1,1.1,1.1,1.1,1.1,1.1,1.1,1.1,1.1,1.1,2.1,2.1,2.1,2.1,2.1,2.1,2.1,2.1,3.1,3.1,3.1,3.1,3.1,4.1,4.1,4.1,5.1,5.1,5.1,6.1,6.1,6.1,6.1,5.1,4.1,4.1,3.1,2.1,2.1,1.1,1.1,0.1,0.1,0.1,0.1,0.1,0.1,0.1,0.1,0.1,0.1,0.1,0.1,0.1,0.1,0.1,0.1,0.1,0.1,0.1,0.1,0.1,0.1,0.1,0.1,0.1,0.1,0.1,0.1,0.1,0.1,0.1,0.1,0.1,0.1,0.1,0.1,0.1,0.1,0.1,0.1,0.1,0.1],[0.1,0.1,0.1,0.1,0.1,0.1,0.1,0.1,0.1,0.1,0.1,1.1,1.1,1.1,1.1,1.1,1.1,1.1,1.1,1.1,1.1,1.1,1.1,1.1,1.1,1.1,1.1,2.1,2.1,2.1,2.1,2.1,2.1,3.1,3.1,3.1,3.1,3.1,3.1,4.1,4.1,4.1,5.1,5.1,6.1,7.1,7.1,7.1,7.1,7.1,6.1,5.1,4.1,4.1,3.1,2.1,2.1,1.1,1.1,0.1,0.1,0.1,0.1,0.1,0.1,0.1,0.1,0.1,0.1,0.1,0.1,0.1,0.1,0.1,0.1,0.1,0.1,0.1,0.1,0.1,0.1,0.1,0.1,0.1,0.1,0.1,0.1,0.1,0.1,0.1,0.1,0.1,0.1,0.1,0.1,0.1,0.1,0.1,0.1,0.1],[0.1,0.1,0.1,0.1,0.1,0.1,0.1,0.1,0.1,0.1,0.1,0.1,0.1,0.1,1.1,1.1,1.1,1.1,1.1,1.1,1.1,1.1,1.1,1.1,1.1,1.1,1.1,2.1,2.1,2.1,2.1,2.1,3.1,3.1,3.1,3.1,3.1,3.1,4.1,4.1,4.1,5.1,6.1,6.1,7.1,8.1,8.1,8.1,8.1,8.1,7.1,6.1,5.1,4.1,3.1,2.1,2.1,1.1,1.1,0.1,0.1,0.1,0.1,0.1,0.1,0.1,0.1,0.1,0.1,0.1,0.1,0.1,0.1,0.1,0.1,0.1,0.1,0.1,0.1,0.1,0.1,0.1,0.1,0.1,0.1,0.1,0.1,0.1,0.1,0.1,0.1,0.1,0.1,0.1,0.1,0.1,0.1,0.1,0.1,0.1],[0.1,0.1,0.1,0.1,0.1,0.1,0.1,0.1,0.1,0.1,0.1,0.1,0.1,0.1,0.1,0.1,1.1,1.1,1.1,1.1,1.1,1.1,1.1,1.1,1.1,1.1,1.1,2.1,2.1,2.1,2.1,2.1,3.1,3.1,3.1,3.1,3.1,4.1,4.1,4.1,5.1,5.1,6.1,7.1,8.1,8.1,9.1,9.1,9.1,8.1,7.1,6.1,5.1,4.1,3.1,3.1,2.1,2.1,1.1,0.1,0.1,0.1,0.1,0.1,0.1,0.1,0.1,0.1,0.1,0.1,0.1,0.1,0.1,0.1,0.1,0.1,0.1,0.1,0.1,0.1,0.1,0.1,0.1,0.1,0.1,0.1,0.1,0.1,0.1,0.1,0.1,0.1,0.1,0.1,0.1,0.1,0.1,0.1,0.1,0.1],[0.1,0.1,0.1,0.1,0.1,0.1,0.1,0.1,0.1,0.1,0.1,0.1,0.1,0.1,0.1,0.1,0.1,0.1,1.1,1.1,1.1,1.1,1.1,1.1,1.1,1.1,1.1,2.1,2.1,2.1,2.1,2.1,3.1,3.1,3.1,3.1,3.1,4.1,4.1,5.1,5.1,6.1,7.1,7.1,8.1,9.1,9.1,9.1,9.1,9.1,8.1,7.1,6.1,5.1,4.1,3.1,2.1,2.1,1.1,1.1,0.1,0.1,0.1,0.1,0.1,0.1,0.1,0.1,0.1,0.1,0.1,0.1,0.1,0.1,0.1,0.1,0.1,0.1,0.1,0.1,0.1,0.1,0.1,0.1,0.1,0.1,0.1,0.1,0.1,0.1,0.1,0.1,0.1,0.1,0.1,0.1,0.1,0.1,0.1,0.1],[0.1,0.1,0.1,0.1,0.1,0.1,0.1,0.1,0.1,0.1,0.1,0.1,0.1,0.1,0.1,0.1,0.1,0.1,0.1,1.1,1.1,1.1,1.1,1.1,1.1,1.1,1.1,2.1,2.1,2.1,2.1,2.1,3.1,3.1,3.1,3.1,3.1,4.1,4.1,5.1,5.1,6.1,7.1,8.1,8.1,9.1,9.1,9.1,9.1,9.1,8.1,7.1,6.1,5.1,4.1,3.1,2.1,2.1,1.1,1.1,0.1,0.1,0.1,0.1,0.1,0.1,0.1,0.1,0.1,0.1,0.1,0.1,0.1,0.1,0.1,0.1,0.1,0.1,0.1,0.1,0.1,0.1,0.1,0.1,0.1,0.1,0.1,0.1,0.1,0.1,0.1,0.1,0.1,0.1,0.1,0.1,0.1,0.1,0.1,0.1],[0.1,0.1,0.1,0.1,0.1,0.1,0.1,0.1,0.1,0.1,0.1,0.1,0.1,0.1,0.1,0.1,0.1,0.1,0.1,0.1,1.1,1.1,1.1,1.1,1.1,1.1,1.1,2.1,2.1,2.1,2.1,2.1,3.1,3.1,3.1,3.1,4.1,4.1,4.1,5.1,5.1,6.1,7.1,8.1,9.1,9.1,9.1,9.1,9.1,9.1,8.1,7.1,6.1,5.1,4.1,3.1,2.1,2.1,1.1,1.1,0.1,0.1,0.1,0.1,0.1,0.1,0.1,0.1,0.1,0.1,0.1,0.1,0.1,0.1,0.1,0.1,0.1,0.1,0.1,0.1,0.1,0.1,0.1,0.1,0.1,0.1,0.1,0.1,0.1,0.1,0.1,0.1,0.1,0.1,0.1,0.1,0.1,0.1,0.1,0.1],[0.1,0.1,0.1,0.1,0.1,0.1,0.1,0.1,0.1,0.1,0.1,0.1,0.1,0.1,0.1,0.1,0.1,0.1,0.1,0.1,1.1,1.1,1.1,1.1,1.1,1.1,1.1,2.1,2.1,2.1,2.1,2.1,3.1,3.1,3.1,3.1,4.1,4.1,4.1,5.1,5.1,6.1,7.1,8.1,9.1,9.1,9.1,9.1,9.1,8.1,8.1,7.1,5.1,4.1,4.1,3.1,2.1,2.1,1.1,1.1,0.1,0.1,0.1,0.1,0.1,0.1,0.1,0.1,0.1,0.1,0.1,0.1,0.1,0.1,0.1,0.1,0.1,0.1,0.1,0.1,0.1,0.1,0.1,0.1,0.1,0.1,0.1,0.1,0.1,0.1,0.1,0.1,0.1,0.1,0.1,0.1,0.1,0.1,0.1,0.1],[0.1,0.1,0.1,0.1,0.1,0.1,0.1,0.1,0.1,0.1,0.1,0.1,0.1,0.1,0.1,0.1,0.1,0.1,0.1,0.1,1.1,1.1,1.1,1.1,1.1,1.1,2.1,2.1,2.1,2.1,2.1,2.1,3.1,3.1,3.1,3.1,4.1,4.1,4.1,5.1,5.1,6.1,7.1,8.1,8.1,9.1,9.1,9.1,8.1,8.1,7.1,6.1,5.1,4.1,3.1,3.1,2.1,2.1,1.1,1.1,0.1,0.1,0.1,0.1,0.1,0.1,0.1,0.1,0.1,0.1,0.1,0.1,0.1,0.1,0.1,0.1,0.1,0.1,0.1,0.1,0.1,0.1,0.1,0.1,0.1,0.1,0.1,0.1,0.1,0.1,0.1,0.1,0.1,0.1,0.1,0.1,0.1,0.1,0.1,0.1],[0.1,0.1,0.1,0.1,0.1,0.1,0.1,0.1,0.1,0.1,0.1,0.1,0.1,0.1,0.1,0.1,0.1,0.1,0.1,0.1,1.1,1.1,1.1,1.1,1.1,1.1,1.1,2.1,2.1,2.1,2.1,2.1,3.1,3.1,3.1,3.1,3.1,4.1,4.1,5.1,5.1,6.1,7.1,8.1,8.1,8.1,8.1,8.1,8.1,7.1,6.1,5.1,5.1,4.1,3.1,3.1,2.1,2.1,1.1,1.1,0.1,0.1,0.1,0.1,0.1,0.1,0.1,0.1,0.1,0.1,0.1,0.1,0.1,0.1,0.1,0.1,0.1,0.1,0.1,0.1,0.1,0.1,0.1,0.1,0.1,0.1,0.1,0.1,0.1,0.1,0.1,0.1,0.1,0.1,0.1,0.1,0.1,0.1,0.1,0.1],[0.1,0.1,0.1,0.1,0.1,0.1,0.1,0.1,0.1,0.1,0.1,0.1,0.1,0.1,0.1,0.1,0.1,0.1,0.1,0.1,1.1,1.1,1.1,1.1,1.1,1.1,1.1,2.1,2.1,2.1,2.1,2.1,2.1,3.1,3.1,3.1,3.1,4.1,4.1,5.1,5.1,6.1,7.1,7.1,8.1,8.1,8.1,8.1,7.1,6.1,6.1,5.1,4.1,3.1,3.1,2.1,2.1,1.1,1.1,1.1,0.1,0.1,0.1,0.1,0.1,0.1,0.1,0.1,0.1,0.1,0.1,0.1,0.1,0.1,0.1,0.1,0.1,0.1,0.1,0.1,0.1,0.1,0.1,0.1,0.1,0.1,0.1,0.1,0.1,0.1,0.1,0.1,0.1,0.1,0.1,0.1,0.1,0.1,0.1,0.1],[0.1,0.1,0.1,0.1,0.1,0.1,0.1,0.1,0.1,0.1,0.1,0.1,0.1,0.1,0.1,0.1,0.1,0.1,0.1,0.1,0.1,1.1,1.1,1.1,1.1,1.1,1.1,2.1,2.1,2.1,2.1,2.1,2.1,3.1,3.1,3.1,3.1,4.1,4.1,5.1,5.1,6.1,7.1,7.1,8.1,8.1,7.1,7.1,6.1,6.1,5.1,4.1,4.1,3.1,3.1,2.1,2.1,1.1,1.1,0.1,0.1,0.1,0.1,0.1,0.1,0.1,0.1,0.1,0.1,0.1,0.1,0.1,0.1,0.1,0.1,0.1,0.1,0.1,0.1,0.1,0.1,0.1,0.1,0.1,0.1,0.1,0.1,0.1,0.1,0.1,0.1,0.1,0.1,0.1,0.1,0.1,0.1,0.1,0.1,0.1],[0.1,0.1,0.1,0.1,0.1,0.1,0.1,0.1,0.1,0.1,0.1,0.1,0.1,0.1,0.1,0.1,0.1,0.1,0.1,0.1,0.1,1.1,1.1,1.1,1.1,1.1,1.1,1.1,2.1,2.1,2.1,2.1,2.1,2.1,3.1,3.1,3.1,4.1,4.1,5.1,5.1,6.1,7.1,7.1,7.1,7.1,7.1,6.1,6.1,5.1,4.1,4.1,3.1,3.1,2.1,2.1,1.1,1.1,1.1,0.1,0.1,0.1,0.1,0.1,0.1,0.1,0.1,0.1,0.1,0.1,0.1,0.1,0.1,0.1,0.1,0.1,0.1,0.1,0.1,0.1,0.1,0.1,0.1,0.1,0.1,0.1,0.1,0.1,0.1,0.1,0.1,0.1,0.1,0.1,0.1,0.1,0.1,0.1,0.1,0.1],[0.1,0.1,0.1,0.1,0.1,0.1,0.1,0.1,0.1,0.1,0.1,0.1,0.1,0.1,0.1,0.1,0.1,0.1,0.1,0.1,0.1,0.1,1.1,1.1,1.1,1.1,1.1,1.1,1.1,2.1,2.1,2.1,2.1,2.1,3.1,3.1,3.1,3.1,4.1,4.1,5.1,6.1,6.1,7.1,7.1,7.1,6.1,6.1,5.1,5.1,4.1,3.1,3.1,2.1,2.1,2.1,1.1,1.1,0.1,0.1,0.1,0.1,0.1,0.1,0.1,0.1,0.1,0.1,0.1,0.1,0.1,0.1,0.1,0.1,0.1,0.1,0.1,0.1,0.1,0.1,0.1,0.1,0.1,0.1,0.1,0.1,0.1,0.1,0.1,0.1,0.1,0.1,0.1,0.1,0.1,0.1,0.1,0.1,0.1,0.1],[0.1,0.1,0.1,0.1,0.1,0.1,0.1,0.1,0.1,0.1,0.1,0.1,0.1,0.1,0.1,0.1,0.1,0.1,0.1,0.1,0.1,0.1,1.1,1.1,1.1,1.1,1.1,1.1,1.1,2.1,2.1,2.1,2.1,2.1,3.1,3.1,3.1,3.1,4.1,4.1,5.1,6.1,6.1,7.1,7.1,7.1,6.1,5.1,5.1,4.1,4.1,3.1,3.1,2.1,2.1,1.1,1.1,0.1,0.1,0.1,0.1,0.1,0.1,0.1,0.1,0.1,0.1,0.1,0.1,0.1,0.1,0.1,0.1,0.1,0.1,0.1,0.1,0.1,0.1,0.1,0.1,0.1,0.1,0.1,0.1,0.1,0.1,0.1,0.1,0.1,0.1,0.1,0.1,0.1,0.1,0.1,0.1,0.1,0.1,0.1],[0.1,0.1,0.1,0.1,0.1,0.1,0.1,0.1,0.1,0.1,0.1,0.1,0.1,0.1,0.1,0.1,0.1,0.1,0.1,0.1,0.1,0.1,1.1,1.1,1.1,1.1,1.1,1.1,1.1,1.1,2.1,2.1,2.1,2.1,2.1,3.1,3.1,3.1,4.1,4.1,5.1,6.1,6.1,7.1,7.1,6.1,6.1,5.1,4.1,4.1,3.1,3.1,2.1,2.1,2.1,1.1,1.1,0.1,0.1,0.1,0.1,0.1,0.1,0.1,0.1,0.1,0.1,0.1,0.1,0.1,0.1,0.1,0.1,0.1,0.1,0.1,0.1,0.1,0.1,0.1,0.1,0.1,0.1,0.1,0.1,0.1,0.1,0.1,0.1,0.1,0.1,0.1,0.1,0.1,0.1,0.1,0.1,0.1,0.1,0.1],[0.1,0.1,0.1,0.1,0.1,0.1,0.1,0.1,0.1,0.1,0.1,0.1,0.1,0.1,0.1,0.1,0.1,0.1,0.1,0.1,0.1,0.1,0.1,1.1,1.1,1.1,1.1,1.1,1.1,1.1,2.1,2.1,2.1,2.1,2.1,2.1,3.1,3.1,3.1,4.1,5.1,5.1,6.1,6.1,6.1,6.1,5.1,5.1,4.1,3.1,3.1,2.1,2.1,2.1,1.1,1.1,0.1,0.1,0.1,0.1,0.1,0.1,0.1,0.1,0.1,0.1,0.1,0.1,0.1,0.1,0.1,0.1,0.1,0.1,0.1,0.1,0.1,0.1,0.1,0.1,0.1,0.1,0.1,0.1,0.1,0.1,0.1,0.1,0.1,0.1,0.1,0.1,0.1,0.1,0.1,0.1,0.1,0.1,0.1,0.1],[0.1,0.1,0.1,0.1,0.1,0.1,0.1,0.1,0.1,0.1,0.1,0.1,0.1,0.1,0.1,0.1,0.1,0.1,0.1,0.1,0.1,0.1,0.1,1.1,1.1,1.1,1.1,1.1,1.1,1.1,2.1,2.1,2.1,2.1,2.1,2.1,3.1,3.1,3.1,4.1,4.1,5.1,6.1,6.1,6.1,6.1,5.1,4.1,4.1,3.1,3.1,2.1,2.1,1.1,1.1,1.1,0.1,0.1,0.1,0.1,0.1,0.1,0.1,0.1,0.1,0.1,0.1,0.1,0.1,0.1,0.1,0.1,0.1,0.1,0.1,0.1,0.1,0.1,0.1,0.1,0.1,0.1,0.1,0.1,0.1,0.1,0.1,0.1,0.1,0.1,0.1,0.1,0.1,0.1,0.1,0.1,0.1,0.1,0.1,0.1],[0.1,0.1,0.1,0.1,0.1,0.1,0.1,0.1,0.1,0.1,0.1,0.1,0.1,0.1,0.1,0.1,0.1,0.1,0.1,0.1,0.1,0.1,0.1,0.1,1.1,1.1,1.1,1.1,1.1,1.1,2.1,2.1,2.1,2.1,2.1,2.1,2.1,3.1,3.1,4.1,4.1,5.1,5.1,6.1,6.1,5.1,5.1,4.1,3.1,3.1,2.1,2.1,2.1,1.1,1.1,0.1,0.1,0.1,0.1,0.1,0.1,0.1,0.1,0.1,0.1,0.1,0.1,0.1,0.1,0.1,0.1,0.1,0.1,0.1,0.1,0.1,0.1,0.1,0.1,0.1,0.1,0.1,0.1,0.1,0.1,0.1,0.1,0.1,0.1,0.1,0.1,0.1,0.1,0.1,0.1,0.1,0.1,0.1,0.1,0.1],[0.1,0.1,0.1,0.1,0.1,0.1,0.1,0.1,0.1,0.1,0.1,0.1,0.1,0.1,0.1,0.1,0.1,0.1,0.1,0.1,0.1,0.1,0.1,0.1,0.1,1.1,1.1,1.1,1.1,1.1,1.1,2.1,2.1,2.1,2.1,2.1,2.1,3.1,3.1,3.1,4.1,4.1,5.1,5.1,5.1,5.1,4.1,4.1,3.1,2.1,2.1,2.1,1.1,1.1,1.1,0.1,0.1,0.1,0.1,0.1,0.1,0.1,0.1,0.1,0.1,0.1,0.1,0.1,0.1,0.1,0.1,0.1,0.1,0.1,0.1,0.1,0.1,0.1,0.1,0.1,0.1,0.1,0.1,0.1,0.1,0.1,0.1,0.1,0.1,0.1,0.1,0.1,0.1,0.1,0.1,0.1,0.1,0.1,0.1,0.1],[0.1,0.1,0.1,0.1,0.1,0.1,0.1,0.1,0.1,0.1,0.1,0.1,0.1,0.1,0.1,0.1,0.1,0.1,0.1,0.1,0.1,0.1,0.1,0.1,0.1,1.1,1.1,1.1,1.1,1.1,1.1,2.1,2.1,2.1,2.1,2.1,2.1,2.1,3.1,3.1,4.1,4.1,4.1,5.1,5.1,4.1,4.1,3.1,3.1,2.1,2.1,1.1,1.1,1.1,0.1,0.1,0.1,0.1,0.1,0.1,0.1,0.1,0.1,0.1,0.1,0.1,0.1,0.1,0.1,0.1,0.1,0.1,0.1,0.1,0.1,0.1,0.1,0.1,0.1,0.1,0.1,0.1,0.1,0.1,0.1,0.1,0.1,0.1,0.1,0.1,0.1,0.1,0.1,0.1,0.1,0.1,0.1,0.1,0.1,0.1],[0.1,0.1,0.1,0.1,0.1,0.1,0.1,0.1,0.1,0.1,0.1,0.1,0.1,0.1,0.1,0.1,0.1,0.1,0.1,0.1,0.1,0.1,0.1,0.1,0.1,0.1,1.1,1.1,1.1,1.1,1.1,2.1,2.1,2.1,2.1,2.1,2.1,2.1,2.1,3.1,3.1,4.1,4.1,4.1,4.1,4.1,3.1,3.1,2.1,2.1,2.1,1.1,1.1,0.1,0.1,0.1,0.1,0.1,0.1,0.1,0.1,0.1,0.1,0.1,0.1,0.1,0.1,0.1,0.1,0.1,0.1,0.1,0.1,0.1,0.1,0.1,0.1,0.1,0.1,0.1,0.1,0.1,0.1,0.1,0.1,0.1,0.1,0.1,0.1,0.1,0.1,0.1,0.1,0.1,0.1,0.1,0.1,0.1,0.1,0.1],[0.1,0.1,0.1,0.1,0.1,0.1,0.1,0.1,0.1,0.1,0.1,0.1,0.1,0.1,0.1,0.1,0.1,0.1,0.1,0.1,0.1,0.1,0.1,0.1,0.1,0.1,0.1,1.1,1.1,1.1,1.1,1.1,2.1,2.1,2.1,2.1,2.1,2.1,2.1,3.1,3.1,3.1,3.1,4.1,4.1,3.1,3.1,3.1,2.1,2.1,1.1,1.1,0.1,0.1,0.1,0.1,0.1,0.1,0.1,0.1,0.1,0.1,0.1,0.1,0.1,0.1,0.1,0.1,0.1,0.1,0.1,0.1,0.1,0.1,0.1,0.1,0.1,0.1,0.1,0.1,0.1,0.1,0.1,0.1,0.1,0.1,0.1,0.1,0.1,0.1,0.1,0.1,0.1,0.1,0.1,0.1,0.1,0.1,0.1,0.1],[0.1,0.1,0.1,0.1,0.1,0.1,0.1,0.1,0.1,0.1,0.1,0.1,0.1,0.1,0.1,0.1,0.1,0.1,0.1,0.1,0.1,0.1,0.1,0.1,0.1,0.1,0.1,1.1,1.1,1.1,1.1,1.1,1.1,2.1,2.1,2.1,2.1,2.1,2.1,2.1,3.1,3.1,3.1,3.1,3.1,3.1,3.1,2.1,2.1,1.1,1.1,1.1,0.1,0.1,0.1,0.1,0.1,0.1,0.1,0.1,0.1,0.1,0.1,0.1,0.1,0.1,0.1,0.1,0.1,0.1,0.1,0.1,0.1,0.1,0.1,0.1,0.1,0.1,0.1,0.1,0.1,0.1,0.1,0.1,0.1,0.1,0.1,0.1,0.1,0.1,0.1,0.1,0.1,0.1,0.1,0.1,0.1,0.1,0.1,0.1],[0.1,0.1,0.1,0.1,0.1,0.1,0.1,0.1,0.1,0.1,0.1,0.1,0.1,0.1,0.1,0.1,0.1,0.1,0.1,0.1,0.1,0.1,0.1,0.1,0.1,0.1,0.1,1.1,1.1,1.1,1.1,1.1,1.1,1.1,2.1,2.1,2.1,2.1,2.1,2.1,2.1,2.1,3.1,3.1,3.1,2.1,2.1,2.1,2.1,1.1,1.1,0.1,0.1,0.1,0.1,0.1,0.1,0.1,0.1,0.1,0.1,0.1,0.1,0.1,0.1,0.1,0.1,0.1,0.1,0.1,0.1,0.1,0.1,0.1,0.1,0.1,0.1,0.1,0.1,0.1,0.1,0.1,0.1,0.1,0.1,0.1,0.1,0.1,0.1,0.1,0.1,0.1,0.1,0.1,0.1,0.1,0.1,0.1,0.1,0.1],[0.1,0.1,0.1,0.1,0.1,0.1,0.1,0.1,0.1,0.1,0.1,0.1,0.1,0.1,0.1,0.1,0.1,0.1,0.1,0.1,0.1,0.1,0.1,0.1,0.1,0.1,0.1,1.1,1.1,1.1,1.1,1.1,1.1,1.1,1.1,2.1,2.1,2.1,2.1,2.1,2.1,2.1,2.1,2.1,2.1,2.1,2.1,2.1,1.1,1.1,0.1,0.1,0.1,0.1,0.1,0.1,0.1,0.1,0.1,0.1,0.1,0.1,0.1,0.1,0.1,0.1,0.1,0.1,0.1,0.1,0.1,0.1,0.1,0.1,0.1,0.1,0.1,0.1,0.1,0.1,0.1,0.1,0.1,0.1,0.1,0.1,0.1,0.1,0.1,0.1,0.1,0.1,0.1,0.1,0.1,0.1,0.1,0.1,0.1,0.1],[0.1,0.1,0.1,0.1,0.1,0.1,0.1,0.1,0.1,0.1,0.1,0.1,0.1,0.1,0.1,0.1,0.1,0.1,0.1,0.1,0.1,0.1,0.1,0.1,0.1,0.1,0.1,1.1,1.1,1.1,1.1,1.1,1.1,1.1,1.1,1.1,1.1,2.1,2.1,2.1,2.1,2.1,2.1,2.1,2.1,2.1,2.1,1.1,1.1,1.1,0.1,0.1,0.1,0.1,0.1,0.1,0.1,0.1,0.1,0.1,0.1,0.1,0.1,0.1,0.1,0.1,0.1,0.1,0.1,0.1,0.1,0.1,0.1,0.1,0.1,0.1,0.1,0.1,0.1,0.1,0.1,0.1,0.1,0.1,0.1,0.1,0.1,0.1,0.1,0.1,0.1,0.1,0.1,0.1,0.1,0.1,0.1,0.1,0.1,0.1],[0.1,0.1,0.1,0.1,0.1,0.1,0.1,0.1,0.1,0.1,0.1,0.1,0.1,0.1,0.1,0.1,0.1,0.1,0.1,0.1,0.1,0.1,0.1,0.1,0.1,0.1,0.1,1.1,1.1,1.1,1.1,1.1,1.1,1.1,1.1,1.1,1.1,1.1,2.1,2.1,2.1,2.1,2.1,2.1,2.1,1.1,1.1,1.1,1.1,0.1,0.1,0.1,0.1,0.1,0.1,0.1,0.1,0.1,0.1,0.1,0.1,0.1,0.1,0.1,0.1,0.1,0.1,0.1,0.1,0.1,0.1,0.1,0.1,0.1,0.1,0.1,0.1,0.1,0.1,0.1,0.1,0.1,0.1,0.1,0.1,0.1,0.1,0.1,0.1,0.1,0.1,0.1,0.1,0.1,0.1,0.1,0.1,0.1,0.1,0.1],[0.1,0.1,0.1,0.1,0.1,0.1,0.1,0.1,0.1,0.1,0.1,0.1,0.1,0.1,0.1,0.1,0.1,0.1,0.1,0.1,0.1,0.1,0.1,0.1,0.1,0.1,0.1,0.1,1.1,1.1,1.1,1.1,1.1,1.1,1.1,1.1,1.1,1.1,1.1,1.1,1.1,2.1,1.1,1.1,1.1,1.1,1.1,1.1,0.1,0.1,0.1,0.1,0.1,0.1,0.1,0.1,0.1,0.1,0.1,0.1,0.1,0.1,0.1,0.1,0.1,0.1,0.1,0.1,0.1,0.1,0.1,0.1,0.1,0.1,0.1,0.1,0.1,0.1,0.1,0.1,0.1,0.1,0.1,0.1,0.1,0.1,0.1,0.1,0.1,0.1,0.1,0.1,0.1,0.1,0.1,0.1,0.1,0.1,0.1,0.1],[0.1,0.1,0.1,0.1,0.1,0.1,0.1,0.1,0.1,0.1,0.1,0.1,0.1,0.1,0.1,0.1,0.1,0.1,0.1,0.1,0.1,0.1,0.1,0.1,0.1,0.1,0.1,0.1,1.1,1.1,1.1,1.1,1.1,1.1,1.1,1.1,1.1,1.1,1.1,1.1,1.1,1.1,1.1,1.1,1.1,1.1,0.1,0.1,0.1,0.1,0.1,0.1,0.1,0.1,0.1,0.1,0.1,0.1,0.1,0.1,0.1,0.1,0.1,0.1,0.1,0.1,0.1,0.1,0.1,0.1,0.1,0.1,0.1,0.1,0.1,0.1,0.1,0.1,0.1,0.1,0.1,0.1,0.1,0.1,0.1,0.1,0.1,0.1,0.1,0.1,0.1,0.1,0.1,0.1,0.1,0.1,0.1,0.1,0.1,0.1],[0.1,0.1,0.1,0.1,0.1,0.1,0.1,0.1,0.1,0.1,0.1,0.1,0.1,0.1,0.1,0.1,0.1,0.1,0.1,0.1,0.1,0.1,0.1,0.1,0.1,0.1,0.1,0.1,0.1,1.1,1.1,1.1,1.1,1.1,1.1,1.1,1.1,1.1,1.1,1.1,1.1,1.1,1.1,1.1,1.1,0.1,0.1,0.1,0.1,0.1,0.1,0.1,0.1,0.1,0.1,0.1,0.1,0.1,0.1,0.1,0.1,0.1,0.1,0.1,0.1,0.1,0.1,0.1,0.1,0.1,0.1,0.1,0.1,0.1,0.1,0.1,0.1,0.1,0.1,0.1,0.1,0.1,0.1,0.1,0.1,0.1,0.1,0.1,0.1,0.1,0.1,0.1,0.1,0.1,0.1,0.1,0.1,0.1,0.1,0.1],[0.1,0.1,0.1,0.1,0.1,0.1,0.1,0.1,0.1,0.1,0.1,0.1,0.1,0.1,0.1,0.1,0.1,0.1,0.1,0.1,0.1,0.1,0.1,0.1,0.1,0.1,0.1,0.1,0.1,0.1,0.1,1.1,1.1,1.1,1.1,1.1,1.1,1.1,1.1,1.1,1.1,1.1,1.1,0.1,0.1,0.1,0.1,0.1,0.1,0.1,0.1,0.1,0.1,0.1,0.1,0.1,0.1,0.1,0.1,0.1,0.1,0.1,0.1,0.1,0.1,0.1,0.1,0.1,0.1,0.1,0.1,0.1,0.1,0.1,0.1,0.1,0.1,0.1,0.1,0.1,0.1,0.1,0.1,0.1,0.1,0.1,0.1,0.1,0.1,0.1,0.1,0.1,0.1,0.1,0.1,0.1,0.1,0.1,0.1,0.1],[0.1,0.1,0.1,0.1,0.1,0.1,0.1,0.1,0.1,0.1,0.1,0.1,0.1,0.1,0.1,0.1,0.1,0.1,0.1,0.1,0.1,0.1,0.1,0.1,0.1,0.1,0.1,0.1,0.1,0.1,0.1,0.1,0.1,0.1,1.1,1.1,1.1,1.1,1.1,1.1,1.1,0.1,0.1,0.1,0.1,0.1,0.1,0.1,0.1,0.1,0.1,0.1,0.1,0.1,0.1,0.1,0.1,0.1,0.1,0.1,0.1,0.1,0.1,0.1,0.1,0.1,0.1,0.1,0.1,0.1,0.1,0.1,0.1,0.1,0.1,0.1,0.1,0.1,0.1,0.1,0.1,0.1,0.1,0.1,0.1,0.1,0.1,0.1,0.1,0.1,0.1,0.1,0.1,0.1,0.1,0.1,0.1,0.1,0.1,0.1],[0.1,0.1,0.1,0.1,0.1,0.1,0.1,0.1,0.1,0.1,0.1,0.1,0.1,0.1,0.1,0.1,0.1,0.1,0.1,0.1,0.1,0.1,0.1,0.1,0.1,0.1,0.1,0.1,0.1,0.1,0.1,0.1,0.1,0.1,0.1,0.1,1.1,1.1,1.1,0.1,0.1,0.1,0.1,0.1,0.1,0.1,0.1,0.1,0.1,0.1,0.1,0.1,0.1,0.1,0.1,0.1,0.1,0.1,0.1,0.1,0.1,0.1,0.1,0.1,0.1,0.1,0.1,0.1,0.1,0.1,0.1,0.1,0.1,0.1,0.1,0.1,0.1,0.1,0.1,0.1,0.1,0.1,0.1,0.1,0.1,0.1,0.1,0.1,0.1,0.1,0.1,0.1,0.1,0.1,0.1,0.1,0.1,0.1,0.1,0.1],[0.1,0.1,0.1,0.1,0.1,0.1,0.1,0.1,0.1,0.1,0.1,0.1,0.1,0.1,0.1,0.1,0.1,0.1,0.1,0.1,0.1,0.1,0.1,0.1,0.1,0.1,0.1,0.1,0.1,0.1,0.1,0.1,0.1,0.1,0.1,0.1,0.1,0.1,0.1,0.1,0.1,0.1,0.1,0.1,0.1,0.1,0.1,0.1,0.1,0.1,0.1,0.1,0.1,0.1,0.1,0.1,0.1,0.1,0.1,0.1,0.1,0.1,0.1,0.1,0.1,0.1,0.1,0.1,0.1,0.1,0.1,0.1,0.1,0.1,0.1,0.1,0.1,0.1,0.1,0.1,0.1,0.1,0.1,0.1,0.1,0.1,0.1,0.1,0.1,0.1,0.1,0.1,0.1,0.1,0.1,0.1,0.1,0.1,0.1,0.1],[0.1,0.1,0.1,0.1,0.1,0.1,0.1,0.1,0.1,0.1,0.1,0.1,0.1,0.1,0.1,0.1,0.1,0.1,0.1,0.1,0.1,0.1,0.1,0.1,0.1,0.1,0.1,0.1,0.1,0.1,0.1,0.1,0.1,0.1,0.1,0.1,0.1,0.1,0.1,0.1,0.1,0.1,0.1,0.1,0.1,0.1,0.1,0.1,0.1,0.1,0.1,0.1,0.1,0.1,0.1,0.1,0.1,0.1,0.1,0.1,0.1,0.1,0.1,0.1,0.1,0.1,0.1,0.1,0.1,0.1,0.1,0.1,0.1,0.1,0.1,0.1,0.1,0.1,0.1,0.1,0.1,0.1,0.1,0.1,0.1,0.1,0.1,0.1,0.1,0.1,0.1,0.1,0.1,0.1,0.1,0.1,0.1,0.1,0.1,0.1],[0.1,0.1,0.1,0.1,0.1,0.1,0.1,0.1,0.1,0.1,0.1,0.1,0.1,0.1,0.1,0.1,0.1,0.1,0.1,0.1,0.1,0.1,0.1,0.1,0.1,0.1,0.1,0.1,0.1,0.1,0.1,0.1,0.1,0.1,0.1,0.1,0.1,0.1,0.1,0.1,0.1,0.1,0.1,0.1,0.1,0.1,0.1,0.1,0.1,0.1,0.1,0.1,0.1,0.1,0.1,0.1,0.1,0.1,0.1,0.1,0.1,0.1,0.1,0.1,0.1,0.1,0.1,0.1,0.1,0.1,0.1,0.1,0.1,0.1,0.1,0.1,0.1,0.1,0.1,0.1,0.1,0.1,0.1,0.1,0.1,0.1,0.1,0.1,0.1,0.1,0.1,0.1,0.1,0.1,0.1,0.1,0.1,0.1,0.1,0.1],[0.1,0.1,0.1,0.1,0.1,0.1,0.1,0.1,0.1,0.1,0.1,0.1,0.1,0.1,0.1,0.1,0.1,0.1,0.1,0.1,0.1,0.1,0.1,0.1,0.1,0.1,0.1,0.1,0.1,0.1,0.1,0.1,0.1,0.1,0.1,0.1,0.1,0.1,0.1,0.1,0.1,0.1,0.1,0.1,0.1,0.1,0.1,0.1,0.1,0.1,0.1,0.1,0.1,0.1,0.1,0.1,0.1,0.1,0.1,0.1,0.1,0.1,0.1,0.1,0.1,0.1,0.1,0.1,0.1,0.1,0.1,0.1,0.1,0.1,0.1,0.1,0.1,0.1,0.1,0.1,0.1,0.1,0.1,0.1,0.1,0.1,0.1,0.1,0.1,0.1,0.1,0.1,0.1,0.1,0.1,0.1,0.1,0.1,0.1,0.1],[0.1,0.1,0.1,0.1,0.1,0.1,0.1,0.1,0.1,0.1,0.1,0.1,0.1,0.1,0.1,0.1,0.1,0.1,0.1,0.1,0.1,0.1,0.1,0.1,0.1,0.1,0.1,0.1,0.1,0.1,0.1,0.1,0.1,0.1,0.1,0.1,0.1,0.1,0.1,0.1,0.1,0.1,0.1,0.1,0.1,0.1,0.1,0.1,0.1,0.1,0.1,0.1,0.1,0.1,0.1,0.1,0.1,0.1,0.1,0.1,0.1,0.1,0.1,0.1,0.1,0.1,0.1,0.1,0.1,0.1,0.1,0.1,0.1,0.1,0.1,0.1,0.1,0.1,0.1,0.1,0.1,0.1,0.1,0.1,0.1,0.1,0.1,0.1,0.1,0.1,0.1,0.1,0.1,0.1,0.1,0.1,0.1,0.1,0.1,0.1],[0.1,0.1,0.1,0.1,0.1,0.1,0.1,0.1,0.1,0.1,0.1,0.1,0.1,0.1,0.1,0.1,0.1,0.1,0.1,0.1,0.1,0.1,0.1,0.1,0.1,0.1,0.1,0.1,0.1,0.1,0.1,0.1,0.1,0.1,0.1,0.1,0.1,0.1,0.1,0.1,0.1,0.1,0.1,0.1,0.1,0.1,0.1,0.1,0.1,0.1,0.1,0.1,0.1,0.1,0.1,0.1,0.1,0.1,0.1,0.1,0.1,0.1,0.1,0.1,0.1,0.1,0.1,0.1,0.1,0.1,0.1,0.1,0.1,0.1,0.1,0.1,0.1,0.1,0.1,0.1,0.1,0.1,0.1,0.1,0.1,0.1,0.1,0.1,0.1,0.1,0.1,0.1,0.1,0.1,0.1,0.1,0.1,0.1,0.1,0.1],[0.1,0.1,0.1,0.1,0.1,0.1,0.1,0.1,0.1,0.1,0.1,0.1,0.1,0.1,0.1,0.1,0.1,0.1,0.1,0.1,0.1,0.1,0.1,0.1,0.1,0.1,0.1,0.1,0.1,0.1,0.1,0.1,0.1,0.1,0.1,0.1,0.1,0.1,0.1,0.1,0.1,0.1,0.1,0.1,0.1,0.1,0.1,0.1,0.1,0.1,0.1,0.1,0.1,0.1,0.1,0.1,0.1,0.1,0.1,0.1,0.1,0.1,0.1,0.1,0.1,0.1,0.1,0.1,0.1,0.1,0.1,0.1,0.1,0.1,0.1,0.1,0.1,0.1,0.1,0.1,0.1,0.1,0.1,0.1,0.1,0.1,0.1,0.1,0.1,0.1,0.1,0.1,0.1,0.1,0.1,0.1,0.1,0.1,0.1,0.1],[0.1,0.1,0.1,0.1,0.1,0.1,0.1,0.1,0.1,0.1,0.1,0.1,0.1,0.1,0.1,0.1,0.1,0.1,0.1,0.1,0.1,0.1,0.1,0.1,0.1,0.1,0.1,0.1,0.1,0.1,0.1,0.1,0.1,0.1,0.1,0.1,0.1,0.1,0.1,0.1,0.1,0.1,0.1,0.1,0.1,0.1,0.1,0.1,0.1,0.1,0.1,0.1,0.1,0.1,0.1,0.1,0.1,0.1,0.1,0.1,0.1,0.1,0.1,0.1,0.1,0.1,0.1,0.1,0.1,0.1,0.1,0.1,0.1,0.1,0.1,0.1,0.1,0.1,0.1,0.1,0.1,0.1,0.1,0.1,0.1,0.1,0.1,0.1,0.1,0.1,0.1,0.1,0.1,0.1,0.1,0.1,0.1,0.1,0.1,0.1],[0.1,0.1,0.1,0.1,0.1,0.1,0.1,0.1,0.1,0.1,0.1,0.1,0.1,0.1,0.1,0.1,0.1,0.1,0.1,0.1,0.1,0.1,0.1,0.1,0.1,0.1,0.1,0.1,0.1,0.1,0.1,0.1,0.1,0.1,0.1,0.1,0.1,0.1,0.1,0.1,0.1,0.1,0.1,0.1,0.1,0.1,0.1,0.1,0.1,0.1,0.1,0.1,0.1,0.1,0.1,0.1,0.1,0.1,0.1,0.1,0.1,0.1,0.1,0.1,0.1,0.1,0.1,0.1,0.1,0.1,0.1,0.1,0.1,0.1,0.1,0.1,0.1,0.1,0.1,0.1,0.1,0.1,0.1,0.1,0.1,0.1,0.1,0.1,0.1,0.1,0.1,0.1,0.1,0.1,0.1,0.1,0.1,0.1,0.1,0.1],[0.1,0.1,0.1,0.1,0.1,0.1,0.1,0.1,0.1,0.1,0.1,0.1,0.1,0.1,0.1,0.1,0.1,0.1,0.1,0.1,0.1,0.1,0.1,0.1,0.1,0.1,0.1,0.1,0.1,0.1,0.1,0.1,0.1,0.1,0.1,0.1,0.1,0.1,0.1,0.1,0.1,0.1,0.1,0.1,0.1,0.1,0.1,0.1,0.1,0.1,0.1,0.1,0.1,0.1,0.1,0.1,0.1,0.1,0.1,0.1,0.1,0.1,0.1,0.1,0.1,0.1,0.1,0.1,0.1,0.1,0.1,0.1,0.1,0.1,0.1,0.1,0.1,0.1,0.1,0.1,0.1,0.1,0.1,0.1,0.1,0.1,0.1,0.1,0.1,0.1,0.1,0.1,0.1,0.1,0.1,0.1,0.1,0.1,0.1,0.1],[0.1,0.1,0.1,0.1,0.1,0.1,0.1,0.1,0.1,0.1,0.1,0.1,0.1,0.1,0.1,0.1,0.1,0.1,0.1,0.1,0.1,0.1,0.1,0.1,0.1,0.1,0.1,0.1,0.1,0.1,0.1,0.1,0.1,0.1,0.1,0.1,0.1,0.1,0.1,0.1,0.1,0.1,0.1,0.1,0.1,0.1,0.1,0.1,0.1,0.1,0.1,0.1,0.1,0.1,0.1,0.1,0.1,0.1,0.1,0.1,0.1,0.1,0.1,0.1,0.1,0.1,0.1,0.1,0.1,0.1,0.1,0.1,0.1,0.1,0.1,0.1,0.1,0.1,0.1,0.1,0.1,0.1,0.1,0.1,0.1,0.1,0.1,0.1,0.1,0.1,0.1,0.1,0.1,0.1,0.1,0.1,0.1,0.1,0.1,0.1],[0.1,0.1,0.1,0.1,0.1,0.1,0.1,0.1,0.1,0.1,0.1,0.1,0.1,0.1,0.1,0.1,0.1,0.1,0.1,0.1,0.1,0.1,0.1,0.1,0.1,0.1,0.1,0.1,0.1,0.1,0.1,0.1,0.1,0.1,0.1,0.1,0.1,0.1,0.1,0.1,0.1,0.1,0.1,0.1,0.1,0.1,0.1,0.1,0.1,0.1,0.1,0.1,0.1,0.1,0.1,0.1,0.1,0.1,0.1,0.1,0.1,0.1,0.1,0.1,0.1,0.1,0.1,0.1,0.1,0.1,0.1,0.1,0.1,0.1,0.1,0.1,0.1,0.1,0.1,0.1,0.1,0.1,0.1,0.1,0.1,0.1,0.1,0.1,0.1,0.1,0.1,0.1,0.1,0.1,0.1,0.1,0.1,0.1,0.1,0.1],[0.1,0.1,0.1,0.1,0.1,0.1,0.1,0.1,0.1,0.1,0.1,0.1,0.1,0.1,0.1,0.1,0.1,0.1,0.1,0.1,0.1,0.1,0.1,0.1,0.1,0.1,0.1,0.1,0.1,0.1,0.1,0.1,0.1,0.1,0.1,0.1,0.1,0.1,0.1,0.1,0.1,0.1,0.1,0.1,0.1,0.1,0.1,0.1,0.1,0.1,0.1,0.1,0.1,0.1,0.1,0.1,0.1,0.1,0.1,0.1,0.1,0.1,0.1,0.1,0.1,0.1,0.1,0.1,0.1,0.1,0.1,0.1,0.1,0.1,0.1,0.1,0.1,0.1,0.1,0.1,0.1,0.1,0.1,0.1,0.1,0.1,0.1,0.1,0.1,0.1,0.1,0.1,0.1,0.1,0.1,0.1,0.1,0.1,0.1,0.1],[0.1,0.1,0.1,0.1,0.1,0.1,0.1,0.1,0.1,0.1,0.1,0.1,0.1,0.1,0.1,0.1,0.1,0.1,0.1,0.1,0.1,0.1,0.1,0.1,0.1,0.1,0.1,0.1,0.1,0.1,0.1,0.1,0.1,0.1,0.1,0.1,0.1,0.1,0.1,0.1,0.1,0.1,0.1,0.1,0.1,0.1,0.1,0.1,0.1,0.1,0.1,0.1,0.1,0.1,0.1,0.1,0.1,0.1,0.1,0.1,0.1,0.1,0.1,0.1,0.1,0.1,0.1,0.1,0.1,0.1,0.1,0.1,0.1,0.1,0.1,0.1,0.1,0.1,0.1,0.1,0.1,0.1,0.1,0.1,0.1,0.1,0.1,0.1,0.1,0.1,0.1,0.1,0.1,0.1,0.1,0.1,0.1,0.1,0.1,0.1],[0.1,0.1,0.1,0.1,0.1,0.1,0.1,0.1,0.1,0.1,0.1,0.1,0.1,0.1,0.1,0.1,0.1,0.1,0.1,0.1,0.1,0.1,0.1,0.1,0.1,0.1,0.1,0.1,0.1,0.1,0.1,0.1,0.1,0.1,0.1,0.1,0.1,0.1,0.1,0.1,0.1,0.1,0.1,0.1,0.1,0.1,0.1,0.1,0.1,0.1,0.1,0.1,0.1,0.1,0.1,0.1,0.1,0.1,0.1,0.1,0.1,0.1,0.1,0.1,0.1,0.1,0.1,0.1,0.1,0.1,0.1,0.1,0.1,0.1,0.1,0.1,0.1,0.1,0.1,0.1,0.1,0.1,0.1,0.1,0.1,0.1,0.1,0.1,0.1,0.1,0.1,0.1,0.1,0.1,0.1,0.1,0.1,0.1,0.1,0.1],[0.1,0.1,0.1,0.1,0.1,0.1,0.1,0.1,0.1,0.1,0.1,0.1,0.1,0.1,0.1,0.1,0.1,0.1,0.1,0.1,0.1,0.1,0.1,0.1,0.1,0.1,0.1,0.1,0.1,0.1,0.1,0.1,0.1,0.1,0.1,0.1,0.1,0.1,0.1,0.1,0.1,0.1,0.1,0.1,0.1,0.1,0.1,0.1,0.1,0.1,0.1,0.1,0.1,0.1,0.1,0.1,0.1,0.1,0.1,0.1,0.1,0.1,0.1,0.1,0.1,0.1,0.1,0.1,0.1,0.1,0.1,0.1,0.1,0.1,0.1,0.1,0.1,0.1,0.1,0.1,0.1,0.1,0.1,0.1,0.1,0.1,0.1,0.1,0.1,0.1,0.1,0.1,0.1,0.1,0.1,0.1,0.1,0.1,0.1,0.1],[0.1,0.1,0.1,0.1,0.1,0.1,0.1,0.1,0.1,0.1,0.1,0.1,0.1,0.1,0.1,0.1,0.1,0.1,0.1,0.1,0.1,0.1,0.1,0.1,0.1,0.1,0.1,0.1,0.1,0.1,0.1,0.1,0.1,0.1,0.1,0.1,0.1,0.1,0.1,0.1,0.1,0.1,0.1,0.1,0.1,0.1,0.1,0.1,0.1,0.1,0.1,0.1,0.1,0.1,0.1,0.1,0.1,0.1,0.1,0.1,0.1,0.1,0.1,0.1,0.1,0.1,0.1,0.1,0.1,0.1,0.1,0.1,0.1,0.1,0.1,0.1,0.1,0.1,0.1,0.1,0.1,0.1,0.1,0.1,0.1,0.1,0.1,0.1,0.1,0.1,0.1,0.1,0.1,0.1,0.1,0.1,0.1,0.1,0.1,0.1],[0.1,0.1,0.1,0.1,0.1,0.1,0.1,0.1,0.1,0.1,0.1,0.1,0.1,0.1,0.1,0.1,0.1,0.1,0.1,0.1,0.1,0.1,0.1,0.1,0.1,0.1,0.1,0.1,0.1,0.1,0.1,0.1,0.1,0.1,0.1,0.1,0.1,0.1,0.1,0.1,0.1,0.1,0.1,0.1,0.1,0.1,0.1,0.1,0.1,0.1,0.1,0.1,0.1,0.1,0.1,0.1,0.1,0.1,0.1,0.1,0.1,0.1,0.1,0.1,0.1,0.1,0.1,0.1,0.1,0.1,0.1,0.1,0.1,0.1,0.1,0.1,0.1,0.1,0.1,0.1,0.1,0.1,0.1,0.1,0.1,0.1,0.1,0.1,0.1,0.1,0.1,0.1,0.1,0.1,0.1,0.1,0.1,0.1,0.1,0.1],[0.1,0.1,0.1,0.1,0.1,0.1,0.1,0.1,0.1,0.1,0.1,0.1,0.1,0.1,0.1,0.1,0.1,0.1,0.1,0.1,0.1,0.1,0.1,0.1,0.1,0.1,0.1,0.1,0.1,0.1,0.1,0.1,0.1,0.1,0.1,0.1,0.1,0.1,0.1,0.1,0.1,0.1,0.1,0.1,0.1,0.1,0.1,0.1,0.1,0.1,0.1,0.1,0.1,0.1,0.1,0.1,0.1,0.1,0.1,0.1,0.1,0.1,0.1,0.1,0.1,0.1,0.1,0.1,0.1,0.1,0.1,0.1,0.1,0.1,0.1,0.1,0.1,0.1,0.1,0.1,0.1,0.1,0.1,0.1,0.1,0.1,0.1,0.1,0.1,0.1,0.1,0.1,0.1,0.1,0.1,0.1,0.1,0.1,0.1,0.1],[0.1,0.1,0.1,0.1,0.1,0.1,0.1,0.1,0.1,0.1,0.1,0.1,0.1,0.1,0.1,0.1,0.1,0.1,0.1,0.1,0.1,0.1,0.1,0.1,0.1,0.1,0.1,0.1,0.1,0.1,0.1,0.1,0.1,0.1,0.1,0.1,0.1,0.1,0.1,0.1,0.1,0.1,0.1,0.1,0.1,0.1,0.1,0.1,0.1,0.1,0.1,0.1,0.1,0.1,0.1,0.1,0.1,0.1,0.1,0.1,0.1,0.1,0.1,0.1,0.1,0.1,0.1,0.1,0.1,0.1,0.1,0.1,0.1,0.1,0.1,0.1,0.1,0.1,0.1,0.1,0.1,0.1,0.1,0.1,0.1,0.1,0.1,0.1,0.1,0.1,0.1,0.1,0.1,0.1,0.1,0.1,0.1,0.1,0.1,0.1],[0.1,0.1,0.1,0.1,0.1,0.1,0.1,0.1,0.1,0.1,0.1,0.1,0.1,0.1,0.1,0.1,0.1,0.1,0.1,0.1,0.1,0.1,0.1,0.1,0.1,0.1,0.1,0.1,0.1,0.1,0.1,0.1,0.1,0.1,0.1,0.1,0.1,0.1,0.1,0.1,0.1,0.1,0.1,0.1,0.1,0.1,0.1,0.1,0.1,0.1,0.1,0.1,0.1,0.1,0.1,0.1,0.1,0.1,0.1,0.1,0.1,0.1,0.1,0.1,0.1,0.1,0.1,0.1,0.1,0.1,0.1,0.1,0.1,0.1,0.1,0.1,0.1,0.1,0.1,0.1,0.1,0.1,0.1,0.1,0.1,0.1,0.1,0.1,0.1,0.1,0.1,0.1,0.1,0.1,0.1,0.1,0.1,0.1,0.1,0.1],[0.1,0.1,0.1,0.1,0.1,0.1,0.1,0.1,0.1,0.1,0.1,0.1,0.1,0.1,0.1,0.1,0.1,0.1,0.1,0.1,0.1,0.1,0.1,0.1,0.1,0.1,0.1,0.1,0.1,0.1,0.1,0.1,0.1,0.1,0.1,0.1,0.1,0.1,0.1,0.1,0.1,0.1,0.1,0.1,0.1,0.1,0.1,0.1,0.1,0.1,0.1,0.1,0.1,0.1,0.1,0.1,0.1,0.1,0.1,0.1,0.1,0.1,0.1,0.1,0.1,0.1,0.1,0.1,0.1,0.1,0.1,0.1,0.1,0.1,0.1,0.1,0.1,0.1,0.1,0.1,0.1,0.1,0.1,0.1,0.1,0.1,0.1,0.1,0.1,0.1,0.1,0.1,0.1,0.1,0.1,0.1,0.1,0.1,0.1,0.1],[0.1,0.1,0.1,0.1,0.1,0.1,0.1,0.1,0.1,0.1,0.1,0.1,0.1,0.1,0.1,0.1,0.1,0.1,0.1,0.1,0.1,0.1,0.1,0.1,0.1,0.1,0.1,0.1,0.1,0.1,0.1,0.1,0.1,0.1,0.1,0.1,0.1,0.1,0.1,0.1,0.1,0.1,0.1,0.1,0.1,0.1,0.1,0.1,0.1,0.1,0.1,0.1,0.1,0.1,0.1,0.1,0.1,0.1,0.1,0.1,0.1,0.1,0.1,0.1,0.1,0.1,0.1,0.1,0.1,0.1,0.1,0.1,0.1,0.1,0.1,0.1,0.1,0.1,0.1,0.1,0.1,0.1,0.1,0.1,0.1,0.1,0.1,0.1,0.1,0.1,0.1,0.1,0.1,0.1,0.1,0.1,0.1,0.1,0.1,0.1],[0.1,0.1,0.1,0.1,0.1,0.1,0.1,0.1,0.1,0.1,0.1,0.1,0.1,0.1,0.1,0.1,0.1,0.1,0.1,0.1,0.1,0.1,0.1,0.1,0.1,0.1,0.1,0.1,0.1,0.1,0.1,0.1,0.1,0.1,0.1,0.1,0.1,0.1,0.1,0.1,0.1,0.1,0.1,0.1,0.1,0.1,0.1,0.1,0.1,0.1,0.1,0.1,0.1,0.1,0.1,0.1,0.1,0.1,0.1,0.1,0.1,0.1,0.1,0.1,0.1,0.1,0.1,0.1,0.1,0.1,0.1,0.1,0.1,0.1,0.1,0.1,0.1,0.1,0.1,0.1,0.1,0.1,0.1,0.1,0.1,0.1,0.1,0.1,0.1,0.1,0.1,0.1,0.1,0.1,0.1,0.1,0.1,0.1,0.1,0.1],[0.1,0.1,0.1,0.1,0.1,0.1,0.1,0.1,0.1,0.1,0.1,0.1,0.1,0.1,0.1,0.1,0.1,0.1,0.1,0.1,0.1,0.1,0.1,0.1,0.1,0.1,0.1,0.1,0.1,0.1,0.1,0.1,0.1,0.1,0.1,0.1,0.1,0.1,0.1,0.1,0.1,0.1,0.1,0.1,0.1,0.1,0.1,0.1,0.1,0.1,0.1,0.1,0.1,0.1,0.1,0.1,0.1,0.1,0.1,0.1,0.1,0.1,0.1,0.1,0.1,0.1,0.1,0.1,0.1,0.1,0.1,0.1,0.1,0.1,0.1,0.1,0.1,0.1,0.1,0.1,0.1,0.1,0.1,0.1,0.1,0.1,0.1,0.1,0.1,0.1,0.1,0.1,0.1,0.1,0.1,0.1,0.1,0.1,0.1,0.1],[0.1,0.1,0.1,0.1,0.1,0.1,0.1,0.1,0.1,0.1,0.1,0.1,0.1,0.1,0.1,0.1,0.1,0.1,0.1,0.1,0.1,0.1,0.1,0.1,0.1,0.1,0.1,0.1,0.1,0.1,0.1,0.1,0.1,0.1,0.1,0.1,0.1,0.1,0.1,0.1,0.1,0.1,0.1,0.1,0.1,0.1,0.1,0.1,0.1,0.1,0.1,0.1,0.1,0.1,0.1,0.1,0.1,0.1,0.1,0.1,0.1,0.1,0.1,0.1,0.1,0.1,0.1,0.1,0.1,0.1,0.1,0.1,0.1,0.1,0.1,0.1,0.1,0.1,0.1,0.1,0.1,0.1,0.1,0.1,0.1,0.1,0.1,0.1,0.1,0.1,0.1,0.1,0.1,0.1,0.1,0.1,0.1,0.1,0.1,0.1],[0.1,0.1,0.1,0.1,0.1,0.1,0.1,0.1,0.1,0.1,0.1,0.1,0.1,0.1,0.1,0.1,0.1,0.1,0.1,0.1,0.1,0.1,0.1,0.1,0.1,0.1,0.1,0.1,0.1,0.1,0.1,0.1,0.1,0.1,0.1,0.1,0.1,0.1,0.1,0.1,0.1,0.1,0.1,0.1,0.1,0.1,0.1,0.1,0.1,0.1,0.1,0.1,0.1,0.1,0.1,0.1,0.1,0.1,0.1,0.1,0.1,0.1,0.1,0.1,0.1,0.1,0.1,0.1,0.1,0.1,0.1,0.1,0.1,0.1,0.1,0.1,0.1,0.1,0.1,0.1,0.1,0.1,0.1,0.1,0.1,0.1,0.1,0.1,0.1,0.1,0.1,0.1,0.1,0.1,0.1,0.1,0.1,0.1,0.1,0.1],[0.1,0.1,0.1,0.1,0.1,0.1,0.1,0.1,0.1,0.1,0.1,0.1,0.1,0.1,0.1,0.1,0.1,0.1,0.1,0.1,0.1,0.1,0.1,0.1,0.1,0.1,0.1,0.1,0.1,0.1,0.1,0.1,0.1,0.1,0.1,0.1,0.1,0.1,0.1,0.1,0.1,0.1,0.1,0.1,0.1,0.1,0.1,0.1,0.1,0.1,0.1,0.1,0.1,0.1,0.1,0.1,0.1,0.1,0.1,0.1,0.1,0.1,0.1,0.1,0.1,0.1,0.1,0.1,0.1,0.1,0.1,0.1,0.1,0.1,0.1,0.1,0.1,0.1,0.1,0.1,0.1,0.1,0.1,0.1,0.1,0.1,0.1,0.1,0.1,0.1,0.1,0.1,0.1,0.1,0.1,0.1,0.1,0.1,0.1,0.1],[0.1,0.1,0.1,0.1,0.1,0.1,0.1,0.1,0.1,0.1,0.1,0.1,0.1,0.1,0.1,0.1,0.1,0.1,0.1,0.1,0.1,0.1,0.1,0.1,0.1,0.1,0.1,0.1,0.1,0.1,0.1,0.1,0.1,0.1,0.1,0.1,0.1,0.1,0.1,0.1,0.1,0.1,0.1,0.1,0.1,0.1,0.1,0.1,0.1,0.1,0.1,0.1,0.1,0.1,0.1,0.1,0.1,0.1,0.1,0.1,0.1,0.1,0.1,0.1,0.1,0.1,0.1,0.1,0.1,0.1,0.1,0.1,0.1,0.1,0.1,0.1,0.1,0.1,0.1,0.1,0.1,0.1,0.1,0.1,0.1,0.1,0.1,0.1,0.1,0.1,0.1,0.1,0.1,0.1,0.1,0.1,0.1,0.1,0.1,0.1],[0.1,0.1,0.1,0.1,0.1,0.1,0.1,0.1,0.1,0.1,0.1,0.1,0.1,0.1,0.1,0.1,0.1,0.1,0.1,0.1,0.1,0.1,0.1,0.1,0.1,0.1,0.1,0.1,0.1,0.1,0.1,0.1,0.1,0.1,0.1,0.1,0.1,0.1,0.1,0.1,0.1,0.1,0.1,0.1,0.1,0.1,0.1,0.1,0.1,0.1,0.1,0.1,0.1,0.1,0.1,0.1,0.1,0.1,0.1,0.1,0.1,0.1,0.1,0.1,0.1,0.1,0.1,0.1,0.1,0.1,0.1,0.1,0.1,0.1,0.1,0.1,0.1,0.1,0.1,0.1,0.1,0.1,0.1,0.1,0.1,0.1,0.1,0.1,0.1,0.1,0.1,0.1,0.1,0.1,0.1,0.1,0.1,0.1,0.1,0.1],[0.1,0.1,0.1,0.1,0.1,0.1,0.1,0.1,0.1,0.1,0.1,0.1,0.1,0.1,0.1,0.1,0.1,0.1,0.1,0.1,0.1,0.1,0.1,0.1,0.1,0.1,0.1,0.1,0.1,0.1,0.1,0.1,0.1,0.1,0.1,0.1,0.1,0.1,0.1,0.1,0.1,0.1,0.1,0.1,0.1,0.1,0.1,0.1,0.1,0.1,0.1,0.1,0.1,0.1,0.1,0.1,0.1,0.1,0.1,0.1,0.1,0.1,0.1,0.1,0.1,0.1,0.1,0.1,0.1,0.1,0.1,0.1,0.1,0.1,0.1,0.1,0.1,0.1,0.1,0.1,0.1,0.1,0.1,0.1,0.1,0.1,0.1,0.1,0.1,0.1,0.1,0.1,0.1,0.1,0.1,0.1,0.1,0.1,0.1,0.1]],\"type\":\"contour\"}],                        {\"template\":{\"data\":{\"barpolar\":[{\"marker\":{\"line\":{\"color\":\"white\",\"width\":0.5},\"pattern\":{\"fillmode\":\"overlay\",\"size\":10,\"solidity\":0.2}},\"type\":\"barpolar\"}],\"bar\":[{\"error_x\":{\"color\":\"rgb(36,36,36)\"},\"error_y\":{\"color\":\"rgb(36,36,36)\"},\"marker\":{\"line\":{\"color\":\"white\",\"width\":0.5},\"pattern\":{\"fillmode\":\"overlay\",\"size\":10,\"solidity\":0.2}},\"type\":\"bar\"}],\"carpet\":[{\"aaxis\":{\"endlinecolor\":\"rgb(36,36,36)\",\"gridcolor\":\"white\",\"linecolor\":\"white\",\"minorgridcolor\":\"white\",\"startlinecolor\":\"rgb(36,36,36)\"},\"baxis\":{\"endlinecolor\":\"rgb(36,36,36)\",\"gridcolor\":\"white\",\"linecolor\":\"white\",\"minorgridcolor\":\"white\",\"startlinecolor\":\"rgb(36,36,36)\"},\"type\":\"carpet\"}],\"choropleth\":[{\"colorbar\":{\"outlinewidth\":1,\"tickcolor\":\"rgb(36,36,36)\",\"ticks\":\"outside\"},\"type\":\"choropleth\"}],\"contourcarpet\":[{\"colorbar\":{\"outlinewidth\":1,\"tickcolor\":\"rgb(36,36,36)\",\"ticks\":\"outside\"},\"type\":\"contourcarpet\"}],\"contour\":[{\"colorbar\":{\"outlinewidth\":1,\"tickcolor\":\"rgb(36,36,36)\",\"ticks\":\"outside\"},\"colorscale\":[[0.0,\"#440154\"],[0.1111111111111111,\"#482878\"],[0.2222222222222222,\"#3e4989\"],[0.3333333333333333,\"#31688e\"],[0.4444444444444444,\"#26828e\"],[0.5555555555555556,\"#1f9e89\"],[0.6666666666666666,\"#35b779\"],[0.7777777777777778,\"#6ece58\"],[0.8888888888888888,\"#b5de2b\"],[1.0,\"#fde725\"]],\"type\":\"contour\"}],\"heatmapgl\":[{\"colorbar\":{\"outlinewidth\":1,\"tickcolor\":\"rgb(36,36,36)\",\"ticks\":\"outside\"},\"colorscale\":[[0.0,\"#440154\"],[0.1111111111111111,\"#482878\"],[0.2222222222222222,\"#3e4989\"],[0.3333333333333333,\"#31688e\"],[0.4444444444444444,\"#26828e\"],[0.5555555555555556,\"#1f9e89\"],[0.6666666666666666,\"#35b779\"],[0.7777777777777778,\"#6ece58\"],[0.8888888888888888,\"#b5de2b\"],[1.0,\"#fde725\"]],\"type\":\"heatmapgl\"}],\"heatmap\":[{\"colorbar\":{\"outlinewidth\":1,\"tickcolor\":\"rgb(36,36,36)\",\"ticks\":\"outside\"},\"colorscale\":[[0.0,\"#440154\"],[0.1111111111111111,\"#482878\"],[0.2222222222222222,\"#3e4989\"],[0.3333333333333333,\"#31688e\"],[0.4444444444444444,\"#26828e\"],[0.5555555555555556,\"#1f9e89\"],[0.6666666666666666,\"#35b779\"],[0.7777777777777778,\"#6ece58\"],[0.8888888888888888,\"#b5de2b\"],[1.0,\"#fde725\"]],\"type\":\"heatmap\"}],\"histogram2dcontour\":[{\"colorbar\":{\"outlinewidth\":1,\"tickcolor\":\"rgb(36,36,36)\",\"ticks\":\"outside\"},\"colorscale\":[[0.0,\"#440154\"],[0.1111111111111111,\"#482878\"],[0.2222222222222222,\"#3e4989\"],[0.3333333333333333,\"#31688e\"],[0.4444444444444444,\"#26828e\"],[0.5555555555555556,\"#1f9e89\"],[0.6666666666666666,\"#35b779\"],[0.7777777777777778,\"#6ece58\"],[0.8888888888888888,\"#b5de2b\"],[1.0,\"#fde725\"]],\"type\":\"histogram2dcontour\"}],\"histogram2d\":[{\"colorbar\":{\"outlinewidth\":1,\"tickcolor\":\"rgb(36,36,36)\",\"ticks\":\"outside\"},\"colorscale\":[[0.0,\"#440154\"],[0.1111111111111111,\"#482878\"],[0.2222222222222222,\"#3e4989\"],[0.3333333333333333,\"#31688e\"],[0.4444444444444444,\"#26828e\"],[0.5555555555555556,\"#1f9e89\"],[0.6666666666666666,\"#35b779\"],[0.7777777777777778,\"#6ece58\"],[0.8888888888888888,\"#b5de2b\"],[1.0,\"#fde725\"]],\"type\":\"histogram2d\"}],\"histogram\":[{\"marker\":{\"line\":{\"color\":\"white\",\"width\":0.6}},\"type\":\"histogram\"}],\"mesh3d\":[{\"colorbar\":{\"outlinewidth\":1,\"tickcolor\":\"rgb(36,36,36)\",\"ticks\":\"outside\"},\"type\":\"mesh3d\"}],\"parcoords\":[{\"line\":{\"colorbar\":{\"outlinewidth\":1,\"tickcolor\":\"rgb(36,36,36)\",\"ticks\":\"outside\"}},\"type\":\"parcoords\"}],\"pie\":[{\"automargin\":true,\"type\":\"pie\"}],\"scatter3d\":[{\"line\":{\"colorbar\":{\"outlinewidth\":1,\"tickcolor\":\"rgb(36,36,36)\",\"ticks\":\"outside\"}},\"marker\":{\"colorbar\":{\"outlinewidth\":1,\"tickcolor\":\"rgb(36,36,36)\",\"ticks\":\"outside\"}},\"type\":\"scatter3d\"}],\"scattercarpet\":[{\"marker\":{\"colorbar\":{\"outlinewidth\":1,\"tickcolor\":\"rgb(36,36,36)\",\"ticks\":\"outside\"}},\"type\":\"scattercarpet\"}],\"scattergeo\":[{\"marker\":{\"colorbar\":{\"outlinewidth\":1,\"tickcolor\":\"rgb(36,36,36)\",\"ticks\":\"outside\"}},\"type\":\"scattergeo\"}],\"scattergl\":[{\"marker\":{\"colorbar\":{\"outlinewidth\":1,\"tickcolor\":\"rgb(36,36,36)\",\"ticks\":\"outside\"}},\"type\":\"scattergl\"}],\"scattermapbox\":[{\"marker\":{\"colorbar\":{\"outlinewidth\":1,\"tickcolor\":\"rgb(36,36,36)\",\"ticks\":\"outside\"}},\"type\":\"scattermapbox\"}],\"scatterpolargl\":[{\"marker\":{\"colorbar\":{\"outlinewidth\":1,\"tickcolor\":\"rgb(36,36,36)\",\"ticks\":\"outside\"}},\"type\":\"scatterpolargl\"}],\"scatterpolar\":[{\"marker\":{\"colorbar\":{\"outlinewidth\":1,\"tickcolor\":\"rgb(36,36,36)\",\"ticks\":\"outside\"}},\"type\":\"scatterpolar\"}],\"scatter\":[{\"fillpattern\":{\"fillmode\":\"overlay\",\"size\":10,\"solidity\":0.2},\"type\":\"scatter\"}],\"scatterternary\":[{\"marker\":{\"colorbar\":{\"outlinewidth\":1,\"tickcolor\":\"rgb(36,36,36)\",\"ticks\":\"outside\"}},\"type\":\"scatterternary\"}],\"surface\":[{\"colorbar\":{\"outlinewidth\":1,\"tickcolor\":\"rgb(36,36,36)\",\"ticks\":\"outside\"},\"colorscale\":[[0.0,\"#440154\"],[0.1111111111111111,\"#482878\"],[0.2222222222222222,\"#3e4989\"],[0.3333333333333333,\"#31688e\"],[0.4444444444444444,\"#26828e\"],[0.5555555555555556,\"#1f9e89\"],[0.6666666666666666,\"#35b779\"],[0.7777777777777778,\"#6ece58\"],[0.8888888888888888,\"#b5de2b\"],[1.0,\"#fde725\"]],\"type\":\"surface\"}],\"table\":[{\"cells\":{\"fill\":{\"color\":\"rgb(237,237,237)\"},\"line\":{\"color\":\"white\"}},\"header\":{\"fill\":{\"color\":\"rgb(217,217,217)\"},\"line\":{\"color\":\"white\"}},\"type\":\"table\"}]},\"layout\":{\"annotationdefaults\":{\"arrowhead\":0,\"arrowwidth\":1},\"autotypenumbers\":\"strict\",\"coloraxis\":{\"colorbar\":{\"outlinewidth\":1,\"tickcolor\":\"rgb(36,36,36)\",\"ticks\":\"outside\"}},\"colorscale\":{\"diverging\":[[0.0,\"rgb(103,0,31)\"],[0.1,\"rgb(178,24,43)\"],[0.2,\"rgb(214,96,77)\"],[0.3,\"rgb(244,165,130)\"],[0.4,\"rgb(253,219,199)\"],[0.5,\"rgb(247,247,247)\"],[0.6,\"rgb(209,229,240)\"],[0.7,\"rgb(146,197,222)\"],[0.8,\"rgb(67,147,195)\"],[0.9,\"rgb(33,102,172)\"],[1.0,\"rgb(5,48,97)\"]],\"sequential\":[[0.0,\"#440154\"],[0.1111111111111111,\"#482878\"],[0.2222222222222222,\"#3e4989\"],[0.3333333333333333,\"#31688e\"],[0.4444444444444444,\"#26828e\"],[0.5555555555555556,\"#1f9e89\"],[0.6666666666666666,\"#35b779\"],[0.7777777777777778,\"#6ece58\"],[0.8888888888888888,\"#b5de2b\"],[1.0,\"#fde725\"]],\"sequentialminus\":[[0.0,\"#440154\"],[0.1111111111111111,\"#482878\"],[0.2222222222222222,\"#3e4989\"],[0.3333333333333333,\"#31688e\"],[0.4444444444444444,\"#26828e\"],[0.5555555555555556,\"#1f9e89\"],[0.6666666666666666,\"#35b779\"],[0.7777777777777778,\"#6ece58\"],[0.8888888888888888,\"#b5de2b\"],[1.0,\"#fde725\"]]},\"colorway\":[\"#1F77B4\",\"#FF7F0E\",\"#2CA02C\",\"#D62728\",\"#9467BD\",\"#8C564B\",\"#E377C2\",\"#7F7F7F\",\"#BCBD22\",\"#17BECF\"],\"font\":{\"color\":\"rgb(36,36,36)\"},\"geo\":{\"bgcolor\":\"white\",\"lakecolor\":\"white\",\"landcolor\":\"white\",\"showlakes\":true,\"showland\":true,\"subunitcolor\":\"white\"},\"hoverlabel\":{\"align\":\"left\"},\"hovermode\":\"closest\",\"mapbox\":{\"style\":\"light\"},\"paper_bgcolor\":\"white\",\"plot_bgcolor\":\"white\",\"polar\":{\"angularaxis\":{\"gridcolor\":\"rgb(232,232,232)\",\"linecolor\":\"rgb(36,36,36)\",\"showgrid\":false,\"showline\":true,\"ticks\":\"outside\"},\"bgcolor\":\"white\",\"radialaxis\":{\"gridcolor\":\"rgb(232,232,232)\",\"linecolor\":\"rgb(36,36,36)\",\"showgrid\":false,\"showline\":true,\"ticks\":\"outside\"}},\"scene\":{\"xaxis\":{\"backgroundcolor\":\"white\",\"gridcolor\":\"rgb(232,232,232)\",\"gridwidth\":2,\"linecolor\":\"rgb(36,36,36)\",\"showbackground\":true,\"showgrid\":false,\"showline\":true,\"ticks\":\"outside\",\"zeroline\":false,\"zerolinecolor\":\"rgb(36,36,36)\"},\"yaxis\":{\"backgroundcolor\":\"white\",\"gridcolor\":\"rgb(232,232,232)\",\"gridwidth\":2,\"linecolor\":\"rgb(36,36,36)\",\"showbackground\":true,\"showgrid\":false,\"showline\":true,\"ticks\":\"outside\",\"zeroline\":false,\"zerolinecolor\":\"rgb(36,36,36)\"},\"zaxis\":{\"backgroundcolor\":\"white\",\"gridcolor\":\"rgb(232,232,232)\",\"gridwidth\":2,\"linecolor\":\"rgb(36,36,36)\",\"showbackground\":true,\"showgrid\":false,\"showline\":true,\"ticks\":\"outside\",\"zeroline\":false,\"zerolinecolor\":\"rgb(36,36,36)\"}},\"shapedefaults\":{\"fillcolor\":\"black\",\"line\":{\"width\":0},\"opacity\":0.3},\"ternary\":{\"aaxis\":{\"gridcolor\":\"rgb(232,232,232)\",\"linecolor\":\"rgb(36,36,36)\",\"showgrid\":false,\"showline\":true,\"ticks\":\"outside\"},\"baxis\":{\"gridcolor\":\"rgb(232,232,232)\",\"linecolor\":\"rgb(36,36,36)\",\"showgrid\":false,\"showline\":true,\"ticks\":\"outside\"},\"bgcolor\":\"white\",\"caxis\":{\"gridcolor\":\"rgb(232,232,232)\",\"linecolor\":\"rgb(36,36,36)\",\"showgrid\":false,\"showline\":true,\"ticks\":\"outside\"}},\"title\":{\"x\":0.05},\"xaxis\":{\"automargin\":true,\"gridcolor\":\"rgb(232,232,232)\",\"linecolor\":\"rgb(36,36,36)\",\"showgrid\":false,\"showline\":true,\"ticks\":\"outside\",\"title\":{\"standoff\":15},\"zeroline\":false,\"zerolinecolor\":\"rgb(36,36,36)\"},\"yaxis\":{\"automargin\":true,\"gridcolor\":\"rgb(232,232,232)\",\"linecolor\":\"rgb(36,36,36)\",\"showgrid\":false,\"showline\":true,\"ticks\":\"outside\",\"title\":{\"standoff\":15},\"zeroline\":false,\"zerolinecolor\":\"rgb(36,36,36)\"}}},\"xaxis\":{\"type\":\"log\",\"title\":{\"text\":\"Number of unique fragments\"}},\"yaxis\":{\"title\":{\"text\":\"TSS enrichment score\"}},\"width\":500,\"height\":400},                        {\"responsive\": true}                    ).then(function(){\n",
              "                            \n",
              "var gd = document.getElementById('c0aea196-8c46-49d2-9ede-ec2e9d63e02f');\n",
              "var x = new MutationObserver(function (mutations, observer) {{\n",
              "        var display = window.getComputedStyle(gd).display;\n",
              "        if (!display || display === 'none') {{\n",
              "            console.log([gd, 'removed!']);\n",
              "            Plotly.purge(gd);\n",
              "            observer.disconnect();\n",
              "        }}\n",
              "}});\n",
              "\n",
              "// Listen for the removal of the full notebook cells\n",
              "var notebookContainer = gd.closest('#notebook-container');\n",
              "if (notebookContainer) {{\n",
              "    x.observe(notebookContainer, {childList: true});\n",
              "}}\n",
              "\n",
              "// Listen for the clearing of the current output cell\n",
              "var outputEl = gd.closest('.output');\n",
              "if (outputEl) {{\n",
              "    x.observe(outputEl, {childList: true});\n",
              "}}\n",
              "\n",
              "                        })                };                            </script>        </div>\n",
              "</body>\n",
              "</html>"
            ]
          },
          "metadata": {}
        }
      ],
      "source": [
        "# Generate TSSE plots\n",
        "snap.pl.tsse(SRR26046013_DM_AOA_INH)\n"
      ]
    },
    {
      "cell_type": "code",
      "execution_count": 70,
      "id": "27e4db60-aa9d-4e17-8f4b-0d30bd9b7b1f",
      "metadata": {
        "id": "27e4db60-aa9d-4e17-8f4b-0d30bd9b7b1f",
        "outputId": "e35434ee-05fe-4439-8be1-2ebf1bf62bf2",
        "colab": {
          "base_uri": "https://localhost:8080/"
        }
      },
      "outputs": [
        {
          "output_type": "execute_result",
          "data": {
            "text/plain": [
              "<snapatac2.genome.Genome at 0x7a5de4313f50>"
            ]
          },
          "metadata": {},
          "execution_count": 70
        }
      ],
      "source": [
        "gene_anno"
      ]
    },
    {
      "cell_type": "markdown",
      "id": "9bd3c212-8a10-4379-986b-8757c44715c9",
      "metadata": {
        "id": "9bd3c212-8a10-4379-986b-8757c44715c9"
      },
      "source": [
        "fig.write_image(\"TSSe_plot.png\",  width=1920, height=1080)"
      ]
    },
    {
      "cell_type": "markdown",
      "id": "01cf9321-d5d4-41ff-874c-6d35b89c4d85",
      "metadata": {
        "id": "01cf9321-d5d4-41ff-874c-6d35b89c4d85"
      },
      "source": [
        "#Filter cell counts and TSSE values based on above plots"
      ]
    },
    {
      "cell_type": "code",
      "execution_count": 71,
      "id": "2009add0-8ae3-487a-bac6-3f03d6ebe5b6",
      "metadata": {
        "id": "2009add0-8ae3-487a-bac6-3f03d6ebe5b6",
        "outputId": "827c1247-5b94-40fc-cf51-79e0d892ec37",
        "colab": {
          "base_uri": "https://localhost:8080/"
        }
      },
      "outputs": [
        {
          "output_type": "stream",
          "name": "stderr",
          "text": [
            "/usr/local/lib/python3.11/dist-packages/anndata/_core/aligned_df.py:68: ImplicitModificationWarning:\n",
            "\n",
            "Transforming to str index.\n",
            "\n",
            "/usr/local/lib/python3.11/dist-packages/anndata/_core/aligned_df.py:68: ImplicitModificationWarning:\n",
            "\n",
            "Transforming to str index.\n",
            "\n"
          ]
        }
      ],
      "source": [
        "snap.pp.filter_cells(SRR26046013_DM_AOA_INH, min_counts=3000, min_tsse=15, max_counts=70000)"
      ]
    },
    {
      "cell_type": "code",
      "execution_count": 72,
      "id": "182875b4-c906-4329-9489-4fbc4efb5246",
      "metadata": {
        "id": "182875b4-c906-4329-9489-4fbc4efb5246",
        "outputId": "3394c2e7-7eeb-414c-9789-3a9e8728957b",
        "colab": {
          "base_uri": "https://localhost:8080/"
        }
      },
      "outputs": [
        {
          "output_type": "execute_result",
          "data": {
            "text/plain": [
              "AnnData object with n_obs × n_vars = 6370 × 0\n",
              "    obs: 'n_fragment', 'frac_dup', 'frac_mito', 'tsse'\n",
              "    uns: 'reference_sequences', 'frag_size_distr', 'library_tsse', 'frac_overlap_TSS', 'TSS_profile'\n",
              "    obsm: 'fragment_paired'"
            ]
          },
          "metadata": {},
          "execution_count": 72
        }
      ],
      "source": [
        "SRR26046013_DM_AOA_INH"
      ]
    },
    {
      "cell_type": "markdown",
      "id": "608ca025-f7d6-4705-9036-eeb113d223a1",
      "metadata": {
        "id": "608ca025-f7d6-4705-9036-eeb113d223a1"
      },
      "source": [
        "Write to file\n",
        "SRR26046013_DM_AOA_INH.write_h5ad('SRR26046013_DM_AOA_INH_filt.h5ad')\n",
        "SRR26046019_DM_UT.write_h5ad('SRR26046018_DM_UT_filt.h5ad')"
      ]
    },
    {
      "cell_type": "markdown",
      "id": "8ce65559-6f39-4703-925c-ac383a213635",
      "metadata": {
        "id": "8ce65559-6f39-4703-925c-ac383a213635"
      },
      "source": [
        "# Create cell by bin matrix containing insertion counts across genome-wide 500-bp bins"
      ]
    },
    {
      "cell_type": "code",
      "execution_count": 73,
      "id": "f684eddb-6f17-42ce-865e-1922f062826b",
      "metadata": {
        "id": "f684eddb-6f17-42ce-865e-1922f062826b"
      },
      "outputs": [],
      "source": [
        "snap.pp.add_tile_matrix(SRR26046013_DM_AOA_INH)"
      ]
    },
    {
      "cell_type": "code",
      "execution_count": 74,
      "id": "ba0de516-0fd3-45c2-9656-cd7fad02ae26",
      "metadata": {
        "id": "ba0de516-0fd3-45c2-9656-cd7fad02ae26",
        "outputId": "35000bf4-18e4-4572-89e1-5ddaf42727bd",
        "colab": {
          "base_uri": "https://localhost:8080/"
        }
      },
      "outputs": [
        {
          "output_type": "execute_result",
          "data": {
            "text/plain": [
              "AnnData object with n_obs × n_vars = 6370 × 6062095\n",
              "    obs: 'n_fragment', 'frac_dup', 'frac_mito', 'tsse'\n",
              "    uns: 'reference_sequences', 'frag_size_distr', 'library_tsse', 'frac_overlap_TSS', 'TSS_profile'\n",
              "    obsm: 'fragment_paired'"
            ]
          },
          "metadata": {},
          "execution_count": 74
        }
      ],
      "source": [
        "SRR26046013_DM_AOA_INH"
      ]
    },
    {
      "cell_type": "markdown",
      "id": "730b9eda-c947-4340-a957-adc92e88fb78",
      "metadata": {
        "id": "730b9eda-c947-4340-a957-adc92e88fb78"
      },
      "source": [
        "# Perform feature selection"
      ]
    },
    {
      "cell_type": "code",
      "execution_count": 75,
      "id": "3d1591cc-9311-4a03-b067-97b8ca34d72b",
      "metadata": {
        "id": "3d1591cc-9311-4a03-b067-97b8ca34d72b"
      },
      "outputs": [],
      "source": [
        "snap.pp.select_features(SRR26046013_DM_AOA_INH, n_features = 250000)"
      ]
    },
    {
      "cell_type": "code",
      "execution_count": 76,
      "id": "9232b309-c72a-47e0-8bd9-b4471f3255de",
      "metadata": {
        "id": "9232b309-c72a-47e0-8bd9-b4471f3255de",
        "outputId": "4ca54840-e32c-4031-f370-c1c0bae827f6",
        "colab": {
          "base_uri": "https://localhost:8080/"
        }
      },
      "outputs": [
        {
          "output_type": "execute_result",
          "data": {
            "text/plain": [
              "AnnData object with n_obs × n_vars = 6370 × 6062095\n",
              "    obs: 'n_fragment', 'frac_dup', 'frac_mito', 'tsse'\n",
              "    var: 'count', 'selected'\n",
              "    uns: 'reference_sequences', 'frag_size_distr', 'library_tsse', 'frac_overlap_TSS', 'TSS_profile'\n",
              "    obsm: 'fragment_paired'"
            ]
          },
          "metadata": {},
          "execution_count": 76
        }
      ],
      "source": [
        "SRR26046013_DM_AOA_INH"
      ]
    },
    {
      "cell_type": "markdown",
      "id": "ff5b4e7e-cd5b-4caf-971c-e6c466aee157",
      "metadata": {
        "id": "ff5b4e7e-cd5b-4caf-971c-e6c466aee157"
      },
      "source": [
        "# Doublet removal"
      ]
    },
    {
      "cell_type": "code",
      "execution_count": 77,
      "id": "997a0c44-fed5-4252-803c-e38caa70cd59",
      "metadata": {
        "id": "997a0c44-fed5-4252-803c-e38caa70cd59",
        "outputId": "8c1557fb-65cc-48ef-ced6-af5c73967a33",
        "colab": {
          "base_uri": "https://localhost:8080/"
        }
      },
      "outputs": [
        {
          "output_type": "execute_result",
          "data": {
            "text/plain": [
              "AnnData object with n_obs × n_vars = 6370 × 6062095\n",
              "    obs: 'n_fragment', 'frac_dup', 'frac_mito', 'tsse'\n",
              "    var: 'count', 'selected'\n",
              "    uns: 'reference_sequences', 'frag_size_distr', 'library_tsse', 'frac_overlap_TSS', 'TSS_profile'\n",
              "    obsm: 'fragment_paired'"
            ]
          },
          "metadata": {},
          "execution_count": 77
        }
      ],
      "source": [
        "SRR26046013_DM_AOA_INH"
      ]
    },
    {
      "cell_type": "code",
      "execution_count": 78,
      "id": "1146d5f9-9d0a-49b2-bce0-533dbe84adfb",
      "metadata": {
        "id": "1146d5f9-9d0a-49b2-bce0-533dbe84adfb"
      },
      "outputs": [],
      "source": [
        "#Apply a scrublet algorithm to identify potential doublets\n",
        "snap.pp.scrublet(SRR26046013_DM_AOA_INH)"
      ]
    },
    {
      "cell_type": "code",
      "execution_count": 79,
      "id": "e974e903-2885-418e-bfa4-1863883b94c7",
      "metadata": {
        "id": "e974e903-2885-418e-bfa4-1863883b94c7",
        "outputId": "3cea4b94-510c-4cc1-cb98-345c60a76283",
        "colab": {
          "base_uri": "https://localhost:8080/"
        }
      },
      "outputs": [
        {
          "output_type": "execute_result",
          "data": {
            "text/plain": [
              "AnnData object with n_obs × n_vars = 6370 × 6062095\n",
              "    obs: 'n_fragment', 'frac_dup', 'frac_mito', 'tsse', 'doublet_probability', 'doublet_score'\n",
              "    var: 'count', 'selected'\n",
              "    uns: 'reference_sequences', 'frag_size_distr', 'library_tsse', 'frac_overlap_TSS', 'TSS_profile', 'scrublet_sim_doublet_score'\n",
              "    obsm: 'fragment_paired'"
            ]
          },
          "metadata": {},
          "execution_count": 79
        }
      ],
      "source": [
        "SRR26046013_DM_AOA_INH"
      ]
    },
    {
      "cell_type": "code",
      "execution_count": 80,
      "id": "7b7da120-079f-4c39-ac77-70f23af9b7ff",
      "metadata": {
        "id": "7b7da120-079f-4c39-ac77-70f23af9b7ff"
      },
      "outputs": [],
      "source": [
        "#Filter doublets\n",
        "snap.pp.filter_doublets(SRR26046013_DM_AOA_INH)"
      ]
    },
    {
      "cell_type": "code",
      "execution_count": 81,
      "id": "c728e0de-7f6c-4cc4-ab6a-d01a9172600c",
      "metadata": {
        "id": "c728e0de-7f6c-4cc4-ab6a-d01a9172600c",
        "outputId": "43514285-0c05-409c-aa66-23a543a4b6f6",
        "colab": {
          "base_uri": "https://localhost:8080/"
        }
      },
      "outputs": [
        {
          "output_type": "execute_result",
          "data": {
            "text/plain": [
              "AnnData object with n_obs × n_vars = 6015 × 6062095\n",
              "    obs: 'n_fragment', 'frac_dup', 'frac_mito', 'tsse', 'doublet_probability', 'doublet_score'\n",
              "    var: 'count', 'selected'\n",
              "    uns: 'reference_sequences', 'frag_size_distr', 'library_tsse', 'frac_overlap_TSS', 'TSS_profile', 'scrublet_sim_doublet_score', 'doublet_rate'\n",
              "    obsm: 'fragment_paired'"
            ]
          },
          "metadata": {},
          "execution_count": 81
        }
      ],
      "source": [
        "SRR26046013_DM_AOA_INH"
      ]
    },
    {
      "cell_type": "markdown",
      "id": "bfc2abee-49e3-40dc-97e0-45ade82afaa3",
      "metadata": {
        "id": "bfc2abee-49e3-40dc-97e0-45ade82afaa3"
      },
      "source": [
        "# Dimension reduction"
      ]
    },
    {
      "cell_type": "code",
      "execution_count": 82,
      "id": "63bf28a2-e84b-43c9-9746-b6163995a3c2",
      "metadata": {
        "id": "63bf28a2-e84b-43c9-9746-b6163995a3c2"
      },
      "outputs": [],
      "source": [
        "snap.tl.spectral(SRR26046013_DM_AOA_INH)"
      ]
    },
    {
      "cell_type": "code",
      "execution_count": 83,
      "id": "e9349aed-2f90-42ce-9b89-ac078dbe7ef8",
      "metadata": {
        "id": "e9349aed-2f90-42ce-9b89-ac078dbe7ef8",
        "outputId": "e9f2e980-f27e-42ba-af4e-112b1f380770",
        "colab": {
          "base_uri": "https://localhost:8080/"
        }
      },
      "outputs": [
        {
          "output_type": "execute_result",
          "data": {
            "text/plain": [
              "AnnData object with n_obs × n_vars = 6015 × 6062095\n",
              "    obs: 'n_fragment', 'frac_dup', 'frac_mito', 'tsse', 'doublet_probability', 'doublet_score'\n",
              "    var: 'count', 'selected'\n",
              "    uns: 'reference_sequences', 'frag_size_distr', 'library_tsse', 'frac_overlap_TSS', 'TSS_profile', 'scrublet_sim_doublet_score', 'doublet_rate', 'spectral_eigenvalue'\n",
              "    obsm: 'fragment_paired', 'X_spectral'"
            ]
          },
          "metadata": {},
          "execution_count": 83
        }
      ],
      "source": [
        "SRR26046013_DM_AOA_INH"
      ]
    },
    {
      "cell_type": "code",
      "execution_count": 84,
      "id": "fa32f615-4e62-425f-9fbc-6538f5253194",
      "metadata": {
        "id": "fa32f615-4e62-425f-9fbc-6538f5253194",
        "outputId": "5970950d-d20e-48a3-f529-c2410b7c1acf",
        "colab": {
          "base_uri": "https://localhost:8080/"
        }
      },
      "outputs": [
        {
          "output_type": "stream",
          "name": "stderr",
          "text": [
            "/usr/local/lib/python3.11/dist-packages/sklearn/utils/deprecation.py:151: FutureWarning:\n",
            "\n",
            "'force_all_finite' was renamed to 'ensure_all_finite' in 1.6 and will be removed in 1.8.\n",
            "\n",
            "/usr/local/lib/python3.11/dist-packages/umap/umap_.py:1952: UserWarning:\n",
            "\n",
            "n_jobs value 1 overridden to 1 by setting random_state. Use no seed for parallelism.\n",
            "\n"
          ]
        }
      ],
      "source": [
        "snap.tl.umap(SRR26046013_DM_AOA_INH)"
      ]
    },
    {
      "cell_type": "code",
      "execution_count": 85,
      "id": "695b9690-a818-4a6d-a4a7-18ecd87f9adc",
      "metadata": {
        "id": "695b9690-a818-4a6d-a4a7-18ecd87f9adc",
        "outputId": "33c17de2-52b0-422d-a334-7533ea4c71ea",
        "colab": {
          "base_uri": "https://localhost:8080/"
        }
      },
      "outputs": [
        {
          "output_type": "execute_result",
          "data": {
            "text/plain": [
              "AnnData object with n_obs × n_vars = 6015 × 6062095\n",
              "    obs: 'n_fragment', 'frac_dup', 'frac_mito', 'tsse', 'doublet_probability', 'doublet_score'\n",
              "    var: 'count', 'selected'\n",
              "    uns: 'reference_sequences', 'frag_size_distr', 'library_tsse', 'frac_overlap_TSS', 'TSS_profile', 'scrublet_sim_doublet_score', 'doublet_rate', 'spectral_eigenvalue'\n",
              "    obsm: 'fragment_paired', 'X_spectral', 'X_umap'"
            ]
          },
          "metadata": {},
          "execution_count": 85
        }
      ],
      "source": [
        "SRR26046013_DM_AOA_INH"
      ]
    },
    {
      "cell_type": "markdown",
      "id": "20ae1ff6-1cc5-4fd7-802d-b2c6c9091bb2",
      "metadata": {
        "id": "20ae1ff6-1cc5-4fd7-802d-b2c6c9091bb2"
      },
      "source": [
        "# Clustering analysis"
      ]
    },
    {
      "cell_type": "code",
      "execution_count": 86,
      "id": "8b8e25a7-96a8-490d-991e-cd235d47f944",
      "metadata": {
        "id": "8b8e25a7-96a8-490d-991e-cd235d47f944"
      },
      "outputs": [],
      "source": [
        "#(1)Calculate knn graph, (2) use Leiden community detection, (3) plot UMAP (returns plotly object)"
      ]
    },
    {
      "cell_type": "code",
      "execution_count": 87,
      "id": "3c33e76d-5036-4be7-8cca-14ddd50824b6",
      "metadata": {
        "id": "3c33e76d-5036-4be7-8cca-14ddd50824b6",
        "outputId": "1e23e8e4-b921-4d64-d109-cfd3d44f7f45",
        "colab": {
          "base_uri": "https://localhost:8080/",
          "height": 417
        }
      },
      "outputs": [
        {
          "output_type": "display_data",
          "data": {
            "text/html": [
              "<html>\n",
              "<head><meta charset=\"utf-8\" /></head>\n",
              "<body>\n",
              "    <div>            <script src=\"https://cdnjs.cloudflare.com/ajax/libs/mathjax/2.7.5/MathJax.js?config=TeX-AMS-MML_SVG\"></script><script type=\"text/javascript\">if (window.MathJax && window.MathJax.Hub && window.MathJax.Hub.Config) {window.MathJax.Hub.Config({SVG: {font: \"STIX-Web\"}});}</script>                <script type=\"text/javascript\">window.PlotlyConfig = {MathJaxConfig: 'local'};</script>\n",
              "        <script charset=\"utf-8\" src=\"https://cdn.plot.ly/plotly-2.35.2.min.js\"></script>                <div id=\"15129efe-6508-47f4-b3ed-87471efd4b5a\" class=\"plotly-graph-div\" style=\"height:400px; width:600px;\"></div>            <script type=\"text/javascript\">                                    window.PLOTLYENV=window.PLOTLYENV || {};                                    if (document.getElementById(\"15129efe-6508-47f4-b3ed-87471efd4b5a\")) {                    Plotly.newPlot(                        \"15129efe-6508-47f4-b3ed-87471efd4b5a\",                        [{\"hovertemplate\":\"leiden=0\\u003cbr\\u003eUMAP-1=%{x}\\u003cbr\\u003eUMAP-2=%{y}\\u003cextra\\u003e\\u003c\\u002fextra\\u003e\",\"legendgroup\":\"0\",\"marker\":{\"color\":\"#2E91E5\",\"symbol\":\"circle\",\"opacity\":1,\"size\":1.6495901099826225},\"mode\":\"markers\",\"name\":\"0\",\"showlegend\":true,\"x\":[12.322423,12.861368,13.273855,12.9559145,12.080086,12.463375,12.422605,14.80001,13.723935,11.893429,12.161008,12.932943,12.428762,12.013634,13.247714,12.848606,12.627213,11.923183,14.612545,11.867277,13.559504,12.125962,14.678856,12.528567,12.694325,13.094163,13.363387,13.305772,12.092409,13.659699,12.724433,12.189345,12.434874,11.1816225,11.290901,12.592166,12.910157,12.333523,12.020659,14.588819,12.37835,13.385494,14.825915,11.766618,14.822598,12.392683,12.624518,11.748458,12.62839,13.765257,12.524567,12.277642,13.10309,12.316178,11.697493,11.961459,11.27163,12.181722,11.6240835,14.7222395,12.770976,12.470847,13.011479,11.757653,14.663978,11.613329,12.674119,12.512218,13.391993,11.592576,12.647688,13.051795,11.7064,11.863423,11.32436,11.348082,12.342991,11.967853,12.875974,11.913071,11.121134,12.270985,13.897503,12.859426,12.496012,13.665438,12.128424,12.376058,13.826405,12.332255,12.731432,14.753872,12.382897,12.317706,12.1546135,11.577709,12.535883,13.567872,12.372949,13.540828,13.185347,13.301731,14.45881,12.4176235,12.814634,12.663937,12.803656,12.781084,12.588397,13.529638,11.831837,12.84537,12.969125,12.27054,11.331862,13.672671,13.009831,13.672165,12.420919,13.158734,12.746656,11.780757,13.226392,12.528462,13.597757,12.626249,12.36229,12.205513,13.769639,11.509163,14.656611,13.035793,13.781434,13.513432,13.718277,14.256755,11.848732,12.761996,11.3353405,12.612752,12.392392,12.49304,12.638579,13.602958,11.529544,11.917732,12.478699,12.769202,11.681225,11.5463915,12.309325,12.402046,13.107244,11.662038,13.467574,13.014826,13.041292,12.532052,13.535394,12.407589,12.517726,11.276975,13.167804,11.419822,13.218417,12.377085,11.589327,13.630961,12.309427,13.485451,14.081738,12.992161,13.058549,11.112026,14.101374,12.50792,11.880665,12.002033,13.592707,13.544838,12.811918,13.177153,11.602033,13.622116,12.041812,13.409713,12.152538,13.643897,12.833285,13.282065,14.697797,12.132181,13.407782,13.487828,12.003374,12.387252,13.29124,13.060969,11.788909,12.288398,13.66275,11.979962,13.012378,11.526076,12.583314,14.306223,13.27808,13.623516,12.085694,12.772582,11.774432,14.634951,12.344195,12.683485,12.564091,13.787391,13.57901,13.404046,12.935512,13.866008,12.473126,13.75552,13.598469,13.65631,13.007112,13.12629,11.536392,12.096975,12.753475,12.720199,12.198422,14.84397,11.463549,13.2058,12.483511,12.902895,12.3678,12.241814,11.859208,14.073952,14.725067,13.254502,12.007492,13.545771,13.265925,11.646226,14.662166,13.58098,14.000809,12.988185,13.270034,12.184699,11.954155,11.336218,12.906703,12.138949,11.264678,12.980917,14.678123,13.037233,14.786149,12.383608,12.147777,13.109427,12.179661,12.928533,12.250777,14.637801,12.862957,12.769044,13.426966,12.659293,11.734763,11.149952,12.990661,13.835297,11.497709,13.335699,12.87176,14.735805,13.562557,14.455064,12.6926775,11.440812,14.601777,12.089478,12.516133,11.70747,11.914165,11.390375,12.955396,14.440288,11.42418,11.746708,13.293608,13.739686,14.439844,12.814282,13.081332,13.569924,12.753366,11.684624,13.315906,11.787979,13.534293,12.318908,13.0395155,12.947693,11.269832,11.998752,12.363097,12.323321,13.63368,11.222621,13.016081,12.324502,13.165164,12.862065,12.406559,13.092259,12.265604,13.79673,11.603871,12.621862,13.15024,12.229592,14.364875,14.380644,11.621958,12.609659,11.854778,13.137808,12.152907,11.019095,11.614409,12.03097,11.6032505,11.959741,13.233896,12.000354,12.361018,13.555501,11.689577,11.183927,13.59091,12.353386,11.875066,12.472034,12.35853,12.468195,12.170138,11.94637,13.365216,12.0160055,12.436442,12.78675,12.762813,12.561909,11.720143,12.052504,12.7667675,11.876973,13.053314,12.595943,13.03165,12.894547,13.5572605,11.059608,13.774562,12.675142,12.757113,12.801136,14.778048,11.947728,14.39668,12.559391,14.45095,13.813074,12.2194805,11.385483,14.626268,12.8770685,11.246187,12.321143,11.859766,12.700173,13.424037,12.363074,14.150309,11.732053,13.125103,11.402038,12.295547,13.753024,12.400964,11.925541,12.022899,13.400647,13.614656,11.1677685,12.573079,12.070795,12.666487,13.527935,11.598,12.767212,12.535058,12.156948,12.159304,13.041465,12.377426,14.67329,12.782526,12.535202,11.7879305,11.41004,12.910456,14.758555,13.711531,13.662866,13.878162,14.709526,13.663827,11.906511,12.978399,13.865845,12.264767,13.339641,11.324288,12.929061,12.356896,13.603533,11.969435,13.632324,13.783325,12.039131,11.315928,12.089771,11.903119,11.901862,14.833776,11.654927,11.346111,14.813557,12.555022,14.830251,12.180959,12.949801,11.402045,12.072112,12.162449,12.327576,13.444462,13.1611805,11.388654,13.673303,11.680097,11.514221,12.380267,12.859636,12.121075,14.2791,13.182272,12.104995,14.583839,11.893095,11.924358,11.982633,13.773144,12.290822,12.628298,14.761695,11.906854,11.7540655,12.045825,13.012696,11.18221,13.805026,13.696699,11.527055,12.65716,12.159226,13.076491,13.012794,12.684236,11.746322,13.281158,13.253136,11.824787,11.612292,13.704216,13.265112,12.340452,13.56089,11.475553,11.855687,13.651709,11.921903,12.799704,12.006237,11.959763,12.651243,12.924912,13.709305,13.35479,13.853054,11.391473,11.688584,13.559406,11.775399,12.023446,12.418579,11.805884,11.952971,12.404272,12.573071,12.22207,12.615658,12.457297,13.645443,12.788565,11.609124,12.850256,13.323184,12.185793,12.297023,14.613688,11.451532,11.9629965,11.623561,11.850006,11.962049,12.867572,14.352853,12.444538,12.197323,11.72918,11.871924,12.622121,12.404421,13.10286,11.057173,13.030864,12.440902,12.859979,12.700664,12.966594,13.629703,12.917695,12.515522,13.40683,11.97947,11.410551,11.357427,11.097619,14.521251,11.159893,14.784696,11.925716,11.426608,12.62046,13.252282,13.811641,12.713319,11.967675,12.794538,12.876988,13.155493,11.812761,14.796719,11.106538,12.923107,11.649872,13.3871155,13.772712,12.304877,12.4634905,11.7744255,12.785052,12.275266,12.498566,11.599111,11.721521,12.962072,11.609717,12.825694,11.493189,12.761503,12.978263,13.297532,12.307353,13.705718,11.60124,12.656507,13.580682,12.23654,11.9168,12.148293,13.504001,12.20767,12.446353,13.321275,12.895848,12.490031,13.252353,12.562116,12.0285845,12.655777,13.839626,12.072051,12.6929655,13.052772,12.837093,12.050858,13.759703,11.773029,11.682655,13.637567,13.257533,13.517251,14.824462,12.458024,13.574319,14.795721,13.124437,11.866637,13.621531,14.691019,14.561078,13.044805,14.76021,13.386541,11.432726,12.877359,12.052276,12.326327,13.398944,11.670625,13.691527,11.757674,11.456166,12.931171,13.66225,12.471142,14.407862,14.067228,16.118795,13.862656,13.078678,11.767432,12.14599,11.188386,12.328727,12.640284,12.335749,13.059115,13.602994,14.710382,13.411338,11.802089,13.629332,12.429568,11.451537,14.407341,12.500824,12.891893,13.039827,11.589966,12.345759,12.460476,12.407841,12.552625,13.586616,11.577998,11.718937,12.061102,11.980572,12.595667,14.773531,11.485265,12.395313,16.1075,13.762067,11.960355,12.323381,12.06344,12.198393,12.364686,12.729614,13.287432,13.526295,13.427773,11.790815,13.730256,13.345123,12.023632,12.159202,13.139095,14.721355,13.001051,11.673091,11.230778,13.12635,12.950581,11.998957,12.844866,12.306203,14.660682,12.577207,12.649548,12.078897,13.284039,12.364015,12.1651325,14.50473,14.83338,12.0485,12.42743,13.948793,13.411641,12.323667,14.70375,11.899429,12.726051,13.816664,11.13035,13.621127,11.258855,13.36177,12.42367,12.036079,12.107739,14.721787,12.937258,13.849337,12.7412615,14.739001,13.531447,14.76864,12.432224,12.931986,12.825899,11.83406,11.216337,12.232585,13.059813,12.547653,13.643603,11.419957,12.846204,12.210528,12.826756,12.638567,11.82552,14.355618,12.761424,11.396741,13.376683,12.244856,13.574251,12.586657,13.596688,13.260573,12.6212,11.540411,11.403495,13.464848,11.614131,12.402435,13.6262865,12.21692,12.203999,12.7864895,14.498966,13.226672,13.186367,12.176072,12.207778,13.311263,13.76969,13.112136,12.686295,14.602129,12.699456,13.152418,13.43776,11.293812,13.272802,13.442645,12.623702,12.830449,11.565729,12.068637,14.745064,11.410811,11.348211,12.638377,12.58964,13.268717,13.442794,12.210734,13.550111,11.618094,13.784632,13.719497,13.800874,11.816269,12.348569,11.780253,11.920353,12.643822,12.171766,14.0242605,12.722427,14.664473,13.483213,11.622597,14.645876,13.208784,12.636208,12.317821,12.749281,12.967434,12.980234,12.896251,12.284117,12.239926,12.474777,12.389936,12.013237,12.731591,13.805668,11.888738,12.988851,12.188544,12.862366,13.058174,13.011642,11.483449,12.745902,12.865292,13.419755,12.144726,12.299203,11.450167,14.149249,12.540951,11.888909,11.950711,13.55206,13.054444,13.040485,13.681072,13.686988,11.718681,14.1696615,13.594006,13.697741,14.580222,13.122499,11.972123,12.717697,12.077139,12.366374,12.989325,11.594105,13.67346,12.677148,12.138565,13.7331295,12.523104,13.882956,13.616121,11.7100525,12.030239,12.4841,13.551806,12.8563795,12.759753,13.261339,11.5288105,11.001303,11.332933,12.401522,14.617667,11.542971,12.321856,11.319136,13.306436,11.480534,12.020997,12.031666,12.47134,13.773629,12.800071,12.160179,12.003957,11.632299,13.355043,11.899157,12.462233,12.507911,12.545584,12.645479,12.229507,14.090923,12.679717,14.583448,12.077068,12.594413,13.368123,12.322053,12.831225,11.659342,11.476761,13.240514,14.814674,12.600469,13.655529,13.637004,12.165252,13.279287,13.881434,13.682354,12.31264,13.3404455,12.034909,13.128978,12.248892,12.779539,12.453962,13.484449,13.409843,13.881302,13.354062,12.756047,13.096704,14.570419,12.956194,11.681278,12.233733,13.103447,13.119404,11.092964,13.41918,11.569701,11.767775,13.286507,14.588468,12.996092,12.557143,13.048178,13.759081,11.228379,11.637478,12.515199,14.461538,13.618316,13.239355,12.060968,12.237542,13.486549,13.082599,13.173253,12.557197,13.325985,11.651476,12.902355,13.797132,13.657775,13.322253,14.549215,11.781952,12.449759,12.534485,12.330899,12.744776,12.578992,14.6789465,11.359319,13.85716,12.513918,12.5851755,12.728929,12.746462,13.820322,12.7521925,12.0358715,14.697347,12.268857,11.734838,11.459384,11.770256,11.913846,12.439765,12.786222,12.412816,12.500565,13.058925,12.956406,12.054624,11.207086,12.092054,13.447612,11.08089,12.361341,13.251372,13.127914,12.579484,12.582874,13.221141,11.827914,11.023326,12.540846,12.5699835,13.019483,12.590992,11.36442,13.1275425,13.778375,12.948883,11.753829,11.55352,12.611106,12.622436,11.85147,13.616168,13.285555,12.591128,13.635277,11.271361,13.524041,13.186792,11.95787,13.168345,13.146393,13.15811,13.543838,13.592767,13.284727,13.594635,12.959344,11.951547,12.859351,12.246183,13.824984,12.3830805,12.560026,12.397219,13.978337,13.762156,13.525813,11.974257,13.325705,13.00205,12.8034525,14.172854,12.524404,12.877974,13.809989,11.278613,13.039017,12.573033,13.768318,13.347838,11.712344,11.175314,12.294803,12.81471,13.760317,13.0996475,11.203953,12.3564415,13.192535,11.47953,12.680885,14.726851,11.235669,12.388472,12.440911,12.761092,13.4576645,14.6462345,13.617417,13.603158,11.107962,13.328754,12.922821,12.294465,13.607364,12.77358,13.595805,12.631191,13.237331,12.365144,11.882846,12.052053,13.623209,13.162989,13.184253,11.789492,13.409511,13.186071,12.994962,12.658743,11.797762,13.231466,13.916044,12.294174,13.215848,11.844082,11.892267,11.574669,12.932178,12.694943,12.135661,12.930005,11.637091,12.285397,11.416686,13.769016,14.424647,12.572859,13.491169,12.579717,12.051534,13.59475,12.0106945,14.614658,12.209706,13.615948,13.5465765,11.927468,12.278611,12.074626,12.378982,12.204149,13.210286,11.529384,11.61712,12.756957,13.64826,12.169323,11.181007,12.0776615,13.55218,12.583453,11.471588,12.659903,12.300278,11.656476,13.038637,11.268713,13.332115,12.6338215,12.318934,12.084241,13.781186,12.018921,13.785341,16.07552,11.158217,13.544618,11.418178,13.396784,13.775649,13.2600355,11.950976,13.591528,13.668266,11.11044,12.947355,12.873628,12.5000725,11.881491,12.00083,13.842815,13.025788,12.00866,13.358634,12.991276,12.174663,13.69092,13.2636,12.069848,11.617465,11.524152,11.985355,12.656517,13.286989,13.775251,12.635699,12.539789,13.7031975,11.929131,12.263941,11.042375,12.292427,12.055027,13.347123,13.633158,14.474465,12.04975,12.26806,12.350159,12.540696,11.443724,12.840813,12.429346,13.647795,12.4579,12.327318,11.490908,11.555936,12.7702875,13.573184,14.425892,11.968745,12.609445,12.380121,13.689285,12.605841,13.115009,12.620608,13.151914,12.732901,13.393783,12.782583,13.20944,11.395195,13.5248575,11.645553,12.438552,13.048958,13.836096,12.995541,12.256316,12.716383,13.014172,13.117076,13.096216,12.224479,13.606537,14.111298,12.8390255,12.235693,11.518064,14.711908,11.878121,12.903516,13.538958,13.299194,11.739736,11.219084,12.548623,12.597698,13.032822,12.960553,14.4401045,13.703624],\"xaxis\":\"x\",\"y\":[14.147514,13.293847,14.788667,13.812608,13.246677,13.043014,14.36377,13.595761,14.612812,11.756659,13.498098,14.201719,13.547353,13.295324,14.708645,14.754582,15.029476,13.813568,13.359442,14.812384,13.479925,15.47146,13.763534,12.800085,13.367001,14.626882,13.696866,14.824239,15.363541,15.427016,13.066167,13.381615,15.682989,13.458842,13.667329,15.285373,14.443161,15.534085,13.506496,13.707952,15.631446,14.814055,13.660299,13.706426,13.600105,15.676882,15.536699,13.880704,13.444618,13.509182,14.306536,14.254863,15.619889,15.5415125,14.091801,14.896508,13.581778,14.221477,13.203064,13.482196,13.481151,15.222191,15.062491,13.163893,13.450978,14.332998,14.690658,13.058029,15.071147,12.82143,14.413618,15.486655,13.550615,13.712155,13.862416,13.491248,14.185736,14.231185,15.720174,15.059827,13.842202,13.66132,13.8626375,14.384091,13.23211,13.609344,14.460188,12.952262,13.135198,12.943285,12.342934,13.563639,12.93063,12.9914055,13.882575,13.160645,12.852134,15.60273,14.687323,15.083283,15.828334,14.846004,13.386218,13.281428,14.45093,12.961545,15.449077,14.494949,14.948826,14.276073,15.105151,13.350225,13.282371,14.99392,13.415645,14.934894,14.276946,15.463466,15.031165,14.9358,15.607441,14.231268,15.683097,13.305483,15.564116,14.574918,13.773372,15.219919,13.595427,13.722572,13.74413,14.668208,13.368308,13.237625,13.503712,13.106397,14.991832,12.359164,13.8024,13.65083,13.610171,13.786111,15.514976,13.324219,13.512869,13.593654,15.654858,13.225582,14.62589,14.675652,13.062398,13.365486,13.88336,13.134631,14.534431,15.425226,14.052745,15.301642,15.697409,15.378841,15.784786,13.56952,14.709917,13.108638,15.922217,13.098532,14.126932,13.75057,14.369471,15.496289,14.100915,14.174555,15.630938,13.660126,13.620418,13.095219,13.604818,15.278838,14.910085,14.585858,14.749747,15.844861,14.746932,15.650802,15.139533,15.8150625,14.726198,15.095257,14.454871,14.111935,13.627701,13.208995,14.525396,15.099996,13.715464,14.39734,14.770554,14.012215,14.188525,15.053919,15.345515,14.352759,14.09914,13.387159,14.780786,13.533677,14.199757,13.32299,14.494049,15.811752,14.648236,13.732712,15.427305,13.460393,14.676822,13.485053,15.112805,15.92877,13.583569,13.245927,13.781608,15.442971,15.558968,15.343829,13.425655,15.51289,13.315311,14.081099,14.560339,14.35743,13.020223,13.596765,13.307688,14.359676,14.408098,15.720643,14.8219,14.072838,14.876961,13.414255,13.567341,14.583292,13.526153,15.550708,14.004606,13.19435,13.742524,15.120392,13.415168,13.066159,15.364135,13.288453,13.280745,13.301855,14.857965,15.48964,13.734455,14.935027,13.743813,14.932666,13.399659,14.002535,15.305217,14.150785,14.589289,15.393405,14.078574,13.483236,14.428321,13.981366,14.951739,13.451467,13.792382,13.638898,14.275427,14.259238,14.290517,13.484478,13.795547,13.336384,14.562624,13.177991,15.661648,13.402853,13.308757,14.0071335,13.92554,13.250319,13.50091,13.836182,14.244387,13.262483,13.762517,13.974653,14.557122,13.384187,13.166013,12.821822,15.793744,15.563851,13.253963,13.177523,15.401935,12.219984,14.828678,14.411699,13.310673,13.839418,13.678305,14.972494,14.260203,12.823034,13.251689,13.439357,14.876512,14.373986,14.801879,15.540011,15.552179,15.371833,15.223891,14.605511,13.890522,15.533124,15.030928,15.022515,13.152388,13.154452,14.657654,13.154231,14.500226,14.974545,14.93919,13.894295,13.44431,14.912233,12.938608,14.168172,14.730109,14.439004,13.517725,15.64636,14.910192,13.70763,13.740477,13.978772,11.916533,14.308481,14.576168,13.76777,14.57462,15.25817,14.78711,14.811302,15.397694,12.758055,14.433207,15.445162,14.213261,14.422621,12.451432,11.931888,15.240871,15.632553,15.030246,15.75469,15.826413,14.007808,13.1688385,14.805765,13.186606,15.280478,13.508167,13.224425,13.133383,13.923448,13.170602,13.216979,14.824364,13.37549,13.850756,15.65645,14.066053,14.542945,14.530896,15.650762,14.982464,14.33883,13.630336,12.592448,14.359053,13.592159,14.33288,14.807306,14.0060215,14.742226,13.78494,14.272125,15.220591,13.856249,14.692203,13.804254,14.1549635,13.458104,13.698369,14.539686,12.830469,14.481393,13.718812,15.528874,13.885738,13.473352,14.495504,13.622079,12.596993,13.203012,15.225357,13.568536,13.188863,13.405424,13.252057,13.507595,13.18712,13.583398,13.956528,14.100891,15.131406,15.885671,13.728033,14.857575,13.851861,15.582599,14.132699,13.626242,14.298175,13.4298525,13.72565,14.62097,15.032797,14.980228,13.6082115,14.517033,13.886545,13.529259,13.244646,13.628426,14.768171,15.847423,13.6573715,14.331629,14.573355,13.186898,14.148812,15.701477,14.559594,15.550968,13.9730835,13.524964,13.935911,14.044579,15.147874,13.253001,14.755459,13.593522,13.704803,14.014419,15.049055,13.16189,13.468298,15.587574,12.928021,13.651126,13.789947,13.570109,15.321456,14.656772,14.042377,13.481146,15.342862,14.332538,15.526458,14.597542,13.2928915,14.73635,15.664005,14.791292,15.792615,15.444877,14.452321,13.28739,14.550454,14.718621,13.2355,14.505487,13.054752,15.042653,13.449291,14.158195,13.0215225,15.351769,15.134589,13.086861,15.114796,14.033322,14.019357,13.425082,13.7929535,14.343569,13.466355,14.573191,15.289569,15.365585,14.551137,13.3785715,13.493083,12.928917,15.647171,13.064791,15.408246,13.567365,15.482176,14.731068,14.57852,14.775198,13.575266,13.674484,13.379269,14.512126,14.424513,13.299274,11.988676,14.147723,14.330564,13.498012,15.282522,13.652255,13.681466,14.257978,13.18236,15.623182,13.762895,13.821666,15.072006,13.616893,15.843214,14.352676,15.899436,14.323402,15.64937,13.820192,15.146318,14.907281,13.888739,13.762786,13.810964,13.298127,13.866225,13.679083,13.769289,14.709797,12.713738,14.547453,13.497354,15.522656,14.363724,13.416803,15.542003,15.5122795,13.954908,13.492038,13.658544,14.836049,14.570221,14.770652,14.3853245,15.632618,15.621772,14.771327,13.136889,15.663691,15.357386,13.584139,13.779366,14.465587,13.787064,13.51364,13.641842,12.6728945,13.963687,15.823045,14.134865,14.653844,14.26026,14.434987,15.501304,13.502721,13.228615,13.395237,14.973723,15.370531,13.908027,15.797742,14.5413065,15.450465,15.849967,12.997609,13.295475,13.3281,13.212483,14.036927,15.771224,14.0538435,15.313834,14.512045,13.456366,14.843663,13.205214,13.525041,15.647852,15.174773,13.617431,13.355606,13.445091,13.552226,14.636513,14.555993,14.098543,13.690598,13.504863,13.264901,13.359399,15.717752,13.781894,13.1444645,13.263881,14.495603,13.217938,13.984505,13.112328,13.824748,14.655175,15.427825,15.171112,15.174846,13.354721,13.712187,6.1569433,13.169749,15.43505,12.984965,13.698134,13.490694,14.162141,15.649529,14.297288,13.651305,13.551878,13.675737,13.408814,13.369109,14.395887,12.949313,13.278021,13.147657,14.465073,15.790506,14.499413,13.366938,13.000511,13.293473,13.741701,13.835502,13.5380945,13.753607,14.138134,13.736453,13.492244,13.414283,13.433847,13.549494,12.885453,6.329029,13.492337,14.01967,15.694711,13.085963,13.481084,14.470245,12.971898,14.179239,15.475595,14.399199,15.010934,13.428049,14.873474,15.357625,14.055583,14.883398,13.558882,15.368193,14.078298,13.764167,14.044193,13.95102,13.165983,13.111082,13.797448,13.406354,12.850289,15.385084,13.140571,15.628805,14.01358,13.311175,13.506194,13.618344,14.108959,14.499673,14.179377,13.521191,14.813873,13.369845,15.140993,13.627402,14.438354,13.572376,13.491136,13.435231,14.824748,14.434824,14.751527,15.239259,13.620704,13.35525,14.699004,12.332947,13.509248,15.701104,13.460333,15.198441,14.74571,15.3376875,13.281919,13.361203,14.792801,15.319223,13.454403,15.488313,13.759496,14.330252,13.525577,14.7807,13.484418,13.651055,13.447786,12.4118805,13.472025,13.686881,14.2840395,14.923636,12.965912,13.520898,15.739285,14.386973,14.222845,13.5503845,14.224987,13.394838,13.441025,14.678577,14.128549,13.432201,14.234572,13.77141,15.204745,13.944413,13.088988,15.647632,15.924616,13.94724,15.368955,15.416369,13.709826,14.607726,14.321445,13.532321,13.443199,15.878171,15.490671,12.931345,14.082912,14.308105,14.739422,13.349189,13.302409,13.260992,14.824307,14.22072,14.925884,14.339879,13.547123,14.8621235,13.956726,14.760158,15.616285,14.560366,13.97416,15.057632,14.9517765,14.172929,13.072214,14.329437,14.497127,14.117035,13.745805,14.329743,14.282604,13.328084,14.945479,14.131101,13.5328045,14.238644,15.85337,15.437315,14.305323,13.297422,14.34128,15.118,14.858681,13.606786,14.188828,14.556626,15.0523405,15.01616,14.30074,15.114225,15.37834,14.1212635,13.274776,14.509611,12.940572,13.340154,14.831718,14.47393,14.4202585,13.371104,13.4192915,14.817756,13.648307,14.920606,13.94652,14.098009,13.476596,14.231811,14.375373,14.147428,14.034987,13.258454,13.5282135,15.143729,14.683794,15.517421,13.307827,13.342133,13.465405,14.636964,15.399857,15.690589,13.269767,13.522182,14.658329,14.036675,13.300276,14.046291,13.59398,14.482861,13.505098,15.079764,15.764805,14.979531,13.741683,13.808992,13.750026,14.342351,13.402873,14.160641,13.268868,13.794839,15.872047,13.801528,13.571058,13.79595,13.447077,15.176657,12.990407,15.56623,15.035271,13.323512,15.566501,15.016672,14.142818,14.568928,14.1011,12.8670435,14.017554,13.5802965,13.27409,13.904219,13.711604,15.639411,15.865608,13.103748,15.780931,14.815664,13.51419,15.189741,13.573387,15.44706,15.578664,15.607547,13.55184,15.882047,14.752773,14.364516,13.27091,15.830493,13.669318,14.664805,13.171414,14.816033,15.252959,15.846015,15.820464,13.575153,15.184452,12.382918,14.753328,13.621573,14.565027,13.241598,14.856669,14.74876,14.379126,13.802569,15.682723,13.656908,14.915049,13.837836,13.883351,13.17104,14.521632,14.877777,13.131147,13.642646,14.505213,15.279275,13.249293,14.865329,14.448664,13.22187,14.05605,14.102934,14.162316,14.435961,13.9316225,14.68221,13.666511,14.284413,13.293433,15.272295,14.668699,13.207793,14.045232,12.873868,15.202581,13.940645,12.995256,13.910434,13.736232,13.785636,15.271807,13.18591,14.048076,14.888023,13.311435,14.583449,15.087341,15.21133,13.39147,13.162223,14.274466,14.593409,14.930676,13.130938,15.1250105,13.7923975,15.567219,13.904707,13.227044,14.988789,15.429058,13.402734,13.741242,15.475406,13.814692,14.011279,15.254118,15.286254,13.507198,15.531594,14.783296,13.668798,13.86456,13.376597,14.936805,14.910633,14.083745,13.448144,14.822005,15.243585,13.868997,14.508399,13.992666,12.955475,14.136786,13.164314,13.301155,14.950408,13.047509,15.626136,13.66387,14.320299,13.976653,14.148532,15.60968,14.895871,14.581546,14.674142,15.301418,15.712309,15.804462,15.607856,13.600838,15.833812,14.35322,13.555188,12.891686,15.433883,12.875449,13.056017,13.447331,15.785709,14.152734,14.036946,13.484838,14.34765,13.522616,14.410637,14.187949,14.472194,13.726088,14.785822,14.945824,15.42848,15.446361,13.710261,13.448325,13.439123,14.949636,13.478372,15.516062,13.769269,15.538055,15.773879,13.07218,12.919961,13.748182,13.832295,13.160992,15.702716,15.693309,13.376259,13.342045,15.57014,14.737853,13.722559,14.643675,14.587005,13.296133,15.483134,13.356691,13.015734,15.739716,13.781882,14.673141,14.427755,13.112922,13.565115,14.912453,13.47704,13.982134,15.597261,15.30803,15.59969,14.899361,13.702683,14.208409,13.126246,14.398741,13.169914,13.707861,15.18947,14.894527,14.260145,15.0748625,14.326244,13.4211,14.567609,13.176822,13.434322,13.302979,13.332507,14.405218,15.63245,15.41454,14.350101,15.497063,13.441129,13.25872,15.427565,15.49623,15.813843,13.333205,13.466537,14.860291,15.094864,14.154188,15.622545,14.566003,14.645061,14.2943325,14.652491,15.55148,13.829912,13.659633,14.747441,14.854354,14.12206,14.685969,14.099362,13.826984,14.843944,13.843695,15.265513,14.753322,13.212386,13.716505,13.4091835,15.26028,13.460599,6.2667904,13.561048,15.040661,13.773878,14.186805,14.4176035,13.227425,15.130178,13.636029,15.47118,13.563045,15.512156,13.020699,15.532103,11.864924,14.486604,13.41456,14.0835085,14.50281,14.693664,14.701623,13.213206,13.081562,15.611136,13.792629,14.661963,13.930156,14.655181,15.426329,13.398915,14.902613,12.88691,13.396639,13.391194,14.769969,13.658802,13.788184,13.401159,15.157527,13.650986,13.281934,13.296736,15.273028,15.5876465,14.8676195,15.206611,13.35324,14.768463,12.941024,15.024364,14.952435,14.792969,13.6648245,13.258088,15.193607,14.767173,13.806032,13.577692,13.010692,15.018736,15.377211,12.752139,13.887082,14.08759,15.73534,13.252711,13.83833,12.986068,14.764522,13.482279,15.752865,13.417874,13.361993,14.763073,14.711989,15.808488,14.482033,15.436832,15.200958,15.328844,15.8121195,15.526602,14.624828,13.625038,14.9394455,14.027887,14.609819,13.623102,14.834591,14.506155,15.597925,14.191142,13.669137,13.998762,15.547051,12.86268,15.518817,15.548537,13.22245,14.447937],\"yaxis\":\"y\",\"type\":\"scattergl\"},{\"hovertemplate\":\"leiden=1\\u003cbr\\u003eUMAP-1=%{x}\\u003cbr\\u003eUMAP-2=%{y}\\u003cextra\\u003e\\u003c\\u002fextra\\u003e\",\"legendgroup\":\"1\",\"marker\":{\"color\":\"#E15F99\",\"symbol\":\"circle\",\"opacity\":1,\"size\":1.6495901099826225},\"mode\":\"markers\",\"name\":\"1\",\"showlegend\":true,\"x\":[-5.5270705,-5.055184,-8.391177,-5.4326453,-4.6152616,-5.301794,-6.2069664,-4.981677,-5.75058,-5.584522,-4.90993,-4.853061,-8.390955,-7.5560904,-6.52319,-5.6141033,-5.292081,-7.4724994,-5.4226985,-3.5827215,-5.0637717,-5.9759326,-4.6533284,-7.922196,-4.820667,-7.46002,-4.928863,-6.0223885,-5.9905286,-6.115966,-4.4843726,-7.5048,-3.8395753,-5.921536,-3.976326,-5.326178,-5.522789,-5.6880713,-5.192899,-6.293888,-4.6388392,-3.5975075,-4.4308677,-5.516969,-3.6932566,-4.9879856,-4.89363,-3.6713598,-4.639642,-7.4096622,-5.047577,-5.185416,-4.62778,-6.3563404,-5.025601,-8.307585,-6.3884964,-5.247994,-5.6570926,-5.479768,-4.470804,-3.5945618,-4.5290804,-4.669708,-3.917757,-5.1269903,-6.1460223,-5.3338323,-5.0024943,-4.9035363,-4.875717,-5.988536,-4.9660816,-4.6874514,-4.167376,-5.199974,-7.407696,-5.2413,-5.073091,-6.1541224,-4.4332485,-5.1643496,-2.721241,-7.9311,-4.2274904,-5.0108976,-5.2892265,-4.9881144,-5.3995647,-5.8455863,-4.1446624,-5.368132,-4.1054783,-6.1537595,-6.1383047,-5.7374516,-4.578773,-4.452921,-5.33729,-6.295924,-4.726126,-8.404207,-5.265557,-4.2974753,-3.855143,-5.553991,-6.072921,-5.7729836,-4.3010893,-3.5089228,-6.197737,-4.461604,-5.0441775,-5.7064605,-3.7947872,-7.548186,-8.092178,-5.7116113,-5.9561334,-4.2860823,-6.0119123,-5.076162,-5.085769,-4.944388,-6.389177,-4.4620934,-6.39447,-5.7199163,-5.2677917,-3.148525,-3.9784458,-6.000125,-5.6078873,-4.6013393,-5.2514358,-7.5749097,-7.809164,-5.9324007,-5.9500914,-5.5643864,-4.8932095,-4.809801,-5.040611,-4.6582837,-5.6079516,-6.3584795,-3.7383132,-5.295922,-4.5590467,-5.7146134,-4.612036,-4.5182357,-7.712971,-5.619219,-4.260153,-4.11435,-5.8115587,-4.190232,-4.016038,-4.1715546,-4.437737,-4.609993,-5.5859475,-7.4853287,-6.2241716,-5.830509,-4.0862613,-6.252121,-4.9240923,-6.1316276,-6.4224606,-5.9763875,-6.1737957,-4.4725046,-5.210238,-4.407771,-5.1608953,-5.635817,-3.639347,-6.2472754,-6.15508,-4.8825107,-4.8930893,-4.609548,-3.7039611,-4.8762703,-5.081481,-7.5110316,-6.0874653,-7.8981953,-6.1423106,-5.7725873,-7.646222,-5.2767363,-3.996077,-6.386183,-5.2064257,-6.5465817,-5.396113,-4.5973935,-5.531573,-6.073316,-4.1327834,-5.96865,-5.2586203,-5.856855,-5.8615932,-7.942239,-3.7498088,-4.9996743,-5.643449,-4.6158066,-3.7933664,-3.5901985,-5.9034157,-6.173875,-7.6202416,-5.9009237,-5.0039973,-5.472013,-5.502025,-4.791227,-5.4389896,-4.710843,-3.9412858,-5.676182,-5.3733997,-5.892273,-5.2776604,-6.183938,-6.5359325,-2.7250345,-8.072425,-4.4834948,-6.2435856,-5.384226,-3.5868323,-4.008124,-5.6307945,-5.222768,-2.9954038,-7.6238055,-5.7382135,-5.1793623,-5.7503595,-4.130677,-7.4836063,-4.0218086,-5.872003,-4.5425696,-3.9072948,-3.7511876,-5.5606594,-5.6511703,-6.1402273,-8.25885,-6.0236497,-4.4234138,-5.180139,-3.5405195,-8.011662,-4.073904,-5.8492937,-5.926013,-6.2473335,-4.963466,-5.5463314,-3.3992252,-5.5602574,-5.9790115,-4.9872794,-6.048964,-4.4464755,-6.054501,-4.9316297,-6.352772,-5.7397065,-3.9960425,-5.932083,-3.515677,-5.3626966,-4.0548196,-5.0283804,-5.870167,-6.4429083,-6.1305556,-5.261062,-3.8985813,-6.436922,-5.884625,-4.935479,-4.984373,-6.5295053,-5.2061257,-3.6518717,-4.813367,-5.066729,-4.913791,-7.330872,-6.211613,-5.530561,-7.4405828,-5.49664,-4.953767,-4.720183,-6.0417347,-3.6829634,-7.9985633,-4.374395,-4.2823257,-4.8734636,-5.675898,-6.1529803,-5.2002788,-5.1873455,-6.025606,-5.26485,-6.0854583,-5.254895,-6.261343,-4.978532,-5.865964,-4.44446,-4.662163,-6.5439677,-4.0895286,-4.8694687,-4.5510483,-3.8869336,-5.3037744,-6.4667654,-6.458848,-4.242408,-4.5308647,-4.9711757,-6.2206984,-5.059583,-6.2902365,-5.669351,-8.279588,-7.55766,-4.3161116,-5.8812428,-4.68065,-4.099933,-4.5148754,-5.9994717,-4.6119823,-4.5350065,-5.6999536,-5.9350476,-4.496999,-7.687843,-4.8741155,-5.830304,-7.49261,-5.1805463,-4.230169,-5.0082197,-7.594999,-5.657364,-4.107648,-4.6498857,-5.2742577,-6.233707,-7.928424,-5.128687,-7.5633826,-5.830089,-4.9761524,-6.068958,-5.8105454,-4.8831797,-3.7085273,-5.684715,-6.3311944,-4.4023194,-3.463782,-8.398662,-8.305153,-3.6337883,-5.5768404,-5.2415304,-5.461216,-4.27435,-3.9974427,-4.868388,-5.4998913,-5.883779,-4.5432243,-5.7390924,-4.444826,-8.01109,-5.858482,-3.742293,-5.5188613,-7.9359803,-5.2156143,-4.984973,-4.6345515,-4.4501367,-5.300801,-6.4308534,-5.362547,-5.6416144,-5.128956,-6.018055,-4.8261666,-3.76668,-5.1731596,-5.7685843,-6.024488,-7.5647435,-3.8369372,-4.2528524,-4.813823,-4.268439,-5.3756447,-6.418827,-5.099777,-6.226289,-6.344575,-4.9080043,-6.4509454,-4.4928713,-5.969224,-5.940301,-8.125155,-5.448063,-5.7237997,-4.595163,-5.4301744,-7.7102375,-3.7850075,-4.1970897,-6.293761,-5.99075,-4.682543,-8.362549,-4.583105,-3.1952112,-4.2304764,-4.9580455,-4.6264424,-5.187809,-4.050817,-7.9479275,-4.2668586,-6.0818567,-4.9612527,-5.5036116,-7.4493947,-4.2926145,-5.2308283,-4.6237383,-7.395306,-5.8972797,-3.690928,-3.687864,-4.8740125,-4.4601836,-4.9819155,-3.6269643,-5.4775615,-4.3959727,-3.728201,-8.122843,-3.544185,-4.729836,-7.897118,-7.6406684,-4.7435565,-5.8132453,-5.2117476,-5.1718583,-5.097521,-4.797144,-7.511899,-5.469552,-6.4217014,-7.664987,-5.1550536,-4.7112365,-7.576925,-4.6322794,-4.7435184,-5.2601976,-5.369056,-4.3987923,-4.478678,-5.9962626,-3.9692974,-5.8027954,-5.057375,-6.14552,-8.140476,-4.924065,-5.253296,-6.235928,-4.384784,-7.2590175,-4.4426904,-4.4420576,-7.5384245,-5.791919,-6.1901126,-5.1336365,-4.802717,-3.6473317,-6.103706,-3.5765295,-3.8993907,-4.9001045,-5.36897,-5.946435,-5.9818206,-3.719888,-6.1736317,-7.4481626,-5.8462534,-5.188042,-4.4345555,-5.1929283,-4.868604,-6.1680117,-5.8016386,-5.1642256,-4.822427,-4.183589,-3.5499113,-6.499235,-6.034237,-5.1341696,-4.8377666,-5.242439,-4.8360972,-3.5440834,-6.148512,-7.615559,-5.664244,-4.8035,-7.4788384,-5.043749,-3.4174552,-4.945903,-4.850475,-5.326253,-6.2237334,-4.361643,-7.528188,-5.628401,-5.992913,-7.2319794,-7.429656,-3.9078636,-5.3314915,-5.409233,-5.097511,-3.5217621,-5.060428,-7.4545984,-3.6548605,-5.990285,-4.8690014,-6.062233,-5.3934255,-6.42299,-4.620551,-4.5386457,-6.3966684,-3.621268,-6.016087,-5.649626,-4.248334,-6.4917903,-4.1287236,-4.608564,-4.637012,-5.2867785,-5.6377106,-3.972425,-4.804535,-6.3786726,-5.2479253,-4.568451,-8.275362,-6.3767467,-6.080085,-6.315495,-6.212287,-6.076131,-4.615677,-6.180423,-4.287844,-5.266253,-4.648153,-4.9778757,-5.406793,-4.215932,-6.0596695,-6.361447,-4.851617,-7.688368,-4.484328,-4.805085,-6.4253592,-5.6560636,-6.2571607,-5.9107537,-6.106213,-4.118913,-4.897499,-3.5925727,-4.235998,-4.2578835,-4.3701997,-6.191556,-4.340393,-4.9336863,-4.5219264,-8.364644,-4.8796835,-5.803484,-4.2514343,-3.4230936,-5.6080956,-4.534834,-6.1634035,-6.213038,-5.5446672,-6.216417,-7.685284,-6.219906,-6.0596914,-5.068729,-5.2683425,-4.5598345,-5.320544,-8.321139,-7.5308166,-4.420007,-5.0051656,-6.2158585,-4.938773,-8.151864,-6.294249,-4.9125075,-3.6977036,-6.1054754,-6.0954967,-6.459797,-5.9721937,-6.4041667,-5.115502,-5.8756175,-4.220986,-6.027598,-4.467745,-8.278733,-5.482065,-5.88812,-5.9565487,-7.6106725,-5.197851,-7.447612,-4.484691,-3.9815886,-5.79471,-6.037906,-7.7974424,-3.8847141,-5.444357,-4.183318,-5.028361,-5.0909963,-6.2996387,-5.426019,-4.5585833,-5.0814676,-4.0782456,-7.393531,-5.4142776,-3.6229753,-5.5188546,-3.71179,-4.681079,-5.937208,-4.6632867,-4.992607,-3.8930027,-5.213809,-5.7729015,-4.938052,-8.106034,-5.18665,-5.851696,-5.6143827,-6.0427985,-5.0565863,-5.088248,-3.978007,-4.9839253,-5.1700172,-7.8129735,-3.9950473,-6.183463,-5.1772075,-4.933514,-4.6128726,-5.1832995,-4.786067,-5.6168885,-6.0487375,-5.5032067,-6.4896364,-3.5700183,-4.4697905,-5.6152363,-7.9584455,-4.473113,-6.4672236,-4.994613,-5.3083596,-5.3319917,-5.055823,-5.7838674,-5.652177,-7.633404,-3.6408138,-6.2823033,-4.5132475,-7.609254,-5.9080153,-5.384598,-3.903914,-6.224713,-3.331517,-4.6681824,-4.935211,-6.510374,-5.1045327,-5.0380144,-4.850442,-4.868776,-6.1007595,-5.659758,-4.178365,-4.409293,-5.2841477,-8.388604,6.832319,-7.9396524,-5.3220577,-6.0025816,-3.8200624,-6.2556715,-5.3882008,-5.3233414,-5.157997,-5.4028134,-6.1388936,-4.743155,-7.59365,-3.932485,-4.187315,-7.1980395,-6.3621535,-4.940505,-5.3850074,-5.945338,-4.848753,-6.5420046,-5.253455,-4.221422,-4.996939,-5.183772,-3.3796444,-5.286689,-4.1227665,-7.459088,-5.0169015,-5.402452,-4.9520173,-3.4057374,-5.38046,-5.173414,-5.593429,-6.5106544,-6.3670754,-3.8716192,-4.0863104,-4.914249,-5.677684,-3.8752687,-4.846063,-4.735502,-5.966654,-6.2555623,-5.6314807,-5.2710843,-5.128531,-6.3557525,-4.6534247,-4.795055,-4.5488987,-5.5933495,-7.5439587,-5.3240604,-6.5836306,-6.534089,-5.4004645,-7.5065155,-3.9833972,-6.146203,-6.0662985,-5.810629,-5.931,-5.2094502,-6.1816936,-4.165604,-4.821466,-7.6628733,-4.8126416,-5.8055425,-5.6248336,-4.291191,-7.8906794,-4.9316416,-5.3300934,-5.508077,-6.4458427,-5.675669,-8.397379,-4.6232514,-4.280459,-5.51928,-4.059695,-3.7497299,-8.40473,-4.65923,-5.897153,-5.2822003,-4.9324317,-5.0834575,-4.096357,-5.226887,-6.146829,-4.139703,-5.64305,-6.048168,-4.6668205,-4.004243,-7.5255547,-4.402408,-4.400743,-4.0580173,-5.467034,-4.201937,-5.572007,-8.4273205,-5.1260457,-4.7417645,-8.407688,-7.573888,-4.8952756,-7.482106,-4.015665,-6.0349894,-3.988916,-3.6944683,-4.893453,-6.068876,-6.372213,-5.183423,-5.2941155,-3.4749196,-7.6190195,-8.137692,-3.2217157,-4.9574437,-5.0416627,-4.9974685,-5.15539,-4.9364266,-3.1334898,-5.792387,-7.5296082,-6.172344,-4.6291823,-5.8145394,-4.7714047,-5.1689453,-5.9329753,-5.3868895,-5.144866,-5.862511,-7.713191,-5.0458064,-5.9856153,-6.203521,-4.388226,-6.15529,-5.694026,-5.568974,-5.425158,-6.4965215,-4.903736,-8.293064,-3.7860596,-6.4408994,-4.5127754,-4.4282727,-5.0029526,-6.367134,-5.30521,-5.602497,-3.9046876,-5.6998158,-6.24217,-5.8697057,-4.9129496,-5.075023,-5.6239386,-5.53424,-6.178305,-4.726294,-6.2159324,-5.1569905,-4.2346263,-7.9358964,-4.848614,-3.3875792,-5.691188,-3.7528749,-5.2104263,-5.4097195,-5.568259,-4.55546,-6.2428904,-5.2639337,-7.9359193,-5.43455,-4.845545,-6.422855,-4.6689982,-6.003956,-7.8680086,-5.35673,-5.467502,-5.7185955,-6.535563,-3.9936826,-3.7746997,-7.3693824,-5.4937606,-4.4142294,-7.892627,-4.434063,-6.341537,-4.802648,-4.8742647,-6.2427316,-4.3487735,-4.5787005,-6.1479974,-4.4833045,-7.5810876,-5.605102,-7.96696,-3.5152237,-6.2265735,-4.970804],\"xaxis\":\"x\",\"y\":[10.294545,10.286694,9.465816,10.257526,11.093078,10.977001,11.275793,12.205194,11.8459,12.331319,10.800434,11.727924,9.468059,10.37567,11.547874,11.702981,10.50214,10.437696,9.907448,12.357279,11.30872,10.904624,11.553997,9.84864,11.134866,10.475294,11.626073,10.038248,11.535882,10.655482,10.646964,10.3569,11.339223,11.426449,11.932938,10.615301,12.371083,11.756152,11.185596,10.443923,10.500591,12.259233,11.376019,12.366252,10.845911,11.967789,10.739055,12.448464,10.878451,10.201682,11.679933,11.083779,11.456785,11.053484,11.6142,9.528473,10.917042,9.96196,10.2839985,12.380534,11.783931,12.58473,11.879191,11.583596,11.475203,11.946499,10.216704,11.153927,11.790245,10.176376,11.744938,10.662806,12.388772,12.166374,12.011832,11.889782,10.329535,12.018896,9.071918,11.008379,11.26065,12.279279,13.753633,9.838025,12.259352,11.567552,9.9148445,11.271332,11.88121,10.861478,11.963962,9.88953,12.157592,10.433917,11.108249,10.98158,12.191355,11.891029,9.222671,10.369149,10.820577,9.456819,10.553319,12.191555,12.374824,11.067793,11.018281,12.063027,11.548532,11.353542,10.788418,11.496105,11.962445,10.720413,10.989118,10.381787,9.733617,10.90711,10.256106,12.13165,10.02661,10.535486,10.348984,11.885817,10.872254,10.571753,10.9936075,10.240259,11.140072,13.05138,12.430222,9.967894,11.9808035,10.507369,11.923292,10.316634,10.039127,9.876025,11.565201,10.839056,10.968831,11.133315,11.038322,10.830643,11.642935,11.486586,11.344466,12.215441,11.195939,11.577751,11.199109,12.316637,10.22209,9.61133,11.84339,12.284964,11.414505,12.061856,11.910388,10.827291,12.207619,11.572033,10.289882,10.36552,10.965327,10.710447,12.577803,10.833041,11.691809,11.125032,11.524383,11.601373,10.5461035,10.884611,10.419127,12.422145,10.621641,11.386726,11.328628,11.292724,10.212388,11.993162,11.568486,10.780767,12.219169,10.860537,11.872171,10.443294,11.095802,9.663857,10.72959,11.03783,10.285803,11.887132,12.732074,11.496369,10.984662,11.537985,10.814795,9.772248,10.587792,10.517038,12.183241,10.11748,12.454503,11.638877,10.249799,9.855211,12.408634,11.777901,9.664353,10.784489,12.682856,11.57023,10.871839,11.57874,10.3170595,11.532824,11.857241,10.369824,11.2533045,11.402182,12.349709,10.797225,12.031945,12.280986,11.916548,10.130262,11.922953,10.719706,11.561055,14.070298,9.724059,11.399757,11.37704,10.627299,11.672414,12.3877125,10.853206,10.657542,13.118652,10.306506,10.396875,11.509666,11.2549305,11.379536,10.366544,11.990446,10.366779,12.565909,11.966905,10.918254,11.70382,12.164565,11.391127,9.593904,10.441748,10.838367,11.768057,11.985616,9.803551,11.77783,10.89709,10.363087,10.997223,12.204995,10.344188,12.488313,11.919551,11.558208,11.962413,11.513659,11.795465,10.04321,10.763712,11.550651,10.548233,12.068097,9.951956,12.111911,10.53463,12.395153,11.729652,11.618554,11.369484,10.833331,10.671164,12.634628,10.872633,11.567966,11.921052,12.279345,11.504652,10.925083,12.126643,10.880546,11.013277,10.953821,10.54299,10.37369,10.426897,10.494161,12.206131,11.216734,11.904189,10.0997305,12.205962,9.749514,11.893224,12.40248,11.506876,9.571873,10.519506,11.479003,11.738541,10.258702,10.753118,10.3097315,10.75636,10.67956,11.455849,9.688903,12.188324,10.908389,11.512609,12.361191,9.895776,12.013572,11.851192,11.751046,11.195985,11.262277,12.084684,12.069585,11.811519,10.7993,11.591347,11.29886,11.998038,9.552983,10.388694,11.82511,11.1983,11.972501,11.405105,11.848984,10.354268,11.451551,11.350916,10.452243,10.827366,10.914115,10.23168,10.230201,10.71903,10.189939,11.983524,12.0545225,11.760456,10.385232,12.161532,11.483119,12.037995,10.736092,11.362524,9.68756,9.136907,10.378682,11.642445,11.865556,10.063483,9.755767,10.776379,10.904108,11.676963,11.457936,12.407341,11.65748,9.461458,9.555538,12.076771,12.349186,11.996953,9.474496,12.384268,12.68863,9.656375,9.986498,10.488943,10.537956,11.453402,11.658977,9.728149,9.851219,12.611969,10.431892,9.900364,11.065365,10.71354,11.306941,10.862237,12.194177,11.036963,11.534361,11.39226,11.675393,10.359437,10.950216,12.380755,11.684874,10.4311,11.299419,10.352117,12.142095,11.501454,10.715149,12.482572,11.851772,11.1924,9.318309,10.463538,11.050026,11.042287,10.692184,11.235831,11.345213,10.638311,9.723829,9.869485,9.857909,11.43547,9.929219,10.1786,12.430221,11.46368,11.21401,10.363778,9.395139,9.490433,10.774636,11.959045,11.98442,9.59132,11.645039,11.896866,11.941497,9.830239,12.388273,11.445693,11.837931,11.664794,10.487554,12.406657,11.977388,11.124626,10.502157,10.474907,10.584105,12.29016,11.829072,12.353575,11.755399,12.12953,10.826874,11.299134,12.2080555,9.735495,12.072839,10.521628,9.85508,10.299413,11.473377,11.146169,10.698665,11.774723,10.430037,10.8157425,10.433173,12.011222,10.871131,10.264529,11.79119,11.560734,10.378765,12.173298,11.617292,10.770348,11.08285,11.903991,11.436722,9.850095,11.778731,10.376243,11.669331,10.299813,9.715019,11.921887,10.7668705,10.5604515,12.011131,10.613009,11.499784,11.74812,10.38399,10.31135,10.25589,11.651518,10.688362,12.594353,11.156511,11.724774,10.241621,10.733744,10.379556,10.607596,11.466782,11.609685,10.46055,10.480978,10.955643,11.021157,12.3457985,10.694481,10.750717,10.521979,10.712283,10.437648,12.3896055,12.022887,12.486648,11.386524,9.97929,11.600824,10.945188,11.11482,8.722473,12.497026,10.594266,10.318083,10.258262,11.632866,10.398777,11.135361,12.517728,9.616451,10.743661,10.37528,11.11302,11.24849,10.414532,11.493915,10.2308445,10.6338,10.512509,10.898653,11.150803,12.0335045,10.687614,12.628022,11.16694,10.497145,12.192068,10.939075,11.516935,11.555046,10.920785,10.829012,10.71202,11.51765,11.1321125,11.9590845,11.363037,9.825169,12.16083,11.162353,12.354044,11.93023,10.135305,11.295423,12.232957,11.024205,11.879248,11.511674,12.449584,11.416194,9.55428,11.054655,11.184329,10.800158,10.678585,10.020184,12.146089,10.961623,11.297007,11.207847,11.358451,11.805739,11.532611,11.689086,10.589842,11.036136,10.904303,10.224254,11.316753,11.476153,11.630892,11.148166,11.772503,10.190112,10.110524,11.364898,10.765352,11.960946,11.791691,11.4169855,10.408767,10.418034,11.354325,11.160479,12.091397,9.491039,11.947134,10.976953,12.251832,10.975572,10.760701,10.405954,11.47994,10.409951,12.334697,11.098672,10.225536,11.28711,11.393483,12.095122,11.558114,10.955325,11.2597885,9.532919,10.251604,10.324782,11.922332,10.484677,9.663733,9.700287,10.422953,11.51285,11.359804,10.099715,9.985296,11.55445,10.245393,10.972573,9.219233,11.795048,10.654764,10.796104,9.186889,9.572386,9.840352,10.728895,10.081241,10.297626,9.696557,10.485211,11.259539,11.769551,11.492578,9.944376,10.063669,12.161937,11.631204,11.278576,11.7461815,11.910152,10.992363,12.396919,11.986531,11.512291,12.061443,10.554411,10.509024,12.521564,12.369932,12.299087,11.891644,11.265034,12.113827,9.1413965,12.681986,11.120992,11.054946,11.607693,9.763301,12.118588,9.783618,11.694217,11.45973,11.787281,11.827,12.360731,11.737267,9.273728,9.960718,12.335215,10.408673,11.925614,11.605466,10.145955,11.295227,11.71259,11.67728,10.412642,12.282241,11.634979,12.3099985,11.821756,10.664136,9.702284,11.315713,11.43824,9.167679,10.771342,10.94584,10.496653,9.822538,12.310848,10.304021,11.786936,10.712119,11.931823,10.323282,10.781106,11.744717,11.878777,10.705397,11.877229,12.04309,10.707489,11.373251,11.117633,11.077305,11.628315,11.590472,11.041224,11.836428,11.659852,11.368655,11.394838,9.470387,7.2298737,9.695694,10.768631,11.670308,12.140092,10.62603,10.788309,10.202069,10.615723,12.023315,11.005086,10.285828,10.356186,12.131774,12.621459,10.33932,10.936603,11.147678,10.794768,10.616081,11.286346,11.517861,11.024118,12.291645,10.123224,9.889364,11.702175,10.597965,12.058228,10.476236,11.069881,11.066371,11.709544,12.143777,11.934162,11.418414,12.375612,11.474555,10.851835,11.578758,12.304961,11.174019,11.378989,11.701256,11.46754,11.521419,10.289945,10.765641,11.043031,10.997107,10.784914,11.710004,12.078897,10.801352,10.435045,11.929437,10.414585,12.0017395,11.524352,11.61818,10.876254,10.442174,11.881634,10.960144,10.48434,10.774562,10.115265,12.283005,10.964938,12.484569,11.825856,10.265829,11.501076,11.783308,12.320231,11.444774,9.876156,10.234413,10.715718,12.361957,11.551986,10.36088,9.4612875,10.677847,11.114666,12.103877,12.496546,12.019291,9.454697,12.595234,10.8445015,10.79778,12.24909,9.244249,12.5261545,10.404077,10.136279,12.075237,10.21936,10.963044,11.281421,11.405818,10.410798,11.529059,11.433889,12.611228,11.908966,12.074921,11.5109825,9.436016,11.95921,11.932338,9.452405,10.364302,10.788905,10.476999,11.430088,9.92435,12.702448,12.263671,11.185749,10.653604,10.928962,10.573339,11.767604,11.820037,10.256059,9.744362,11.863653,10.663923,11.634024,11.827817,11.977172,11.87175,11.795871,11.594025,10.362876,10.573623,10.726283,11.8609495,11.243901,11.822646,10.692311,11.590699,10.643669,10.207547,10.198523,11.40287,11.366704,11.364741,11.549583,11.731423,12.105001,11.825714,11.452934,11.587527,11.587076,9.56533,11.899542,11.225756,11.69706,10.485756,10.765952,11.169867,11.24998,9.677468,10.8990755,10.842668,10.819789,10.8385315,10.729545,11.235942,11.735807,11.71676,10.502466,11.980047,11.366724,11.591263,11.701468,9.835266,11.8363495,11.791578,11.188413,12.293249,11.75298,10.65398,10.498179,10.583666,11.2627125,10.79062,9.764044,10.627596,12.043713,11.690389,10.496553,11.225007,9.904249,11.022027,9.807897,11.939373,11.471975,11.996351,12.334197,10.558561,10.346059,11.947177,9.812128,11.978297,11.37581,12.0131645,10.746786,10.676417,11.771752,12.016592,11.368973,12.359104,10.339048,11.55197,9.7692175,11.967313,10.322022,11.212162],\"yaxis\":\"y\",\"type\":\"scattergl\"},{\"hovertemplate\":\"leiden=2\\u003cbr\\u003eUMAP-1=%{x}\\u003cbr\\u003eUMAP-2=%{y}\\u003cextra\\u003e\\u003c\\u002fextra\\u003e\",\"legendgroup\":\"2\",\"marker\":{\"color\":\"#1CA71C\",\"symbol\":\"circle\",\"opacity\":1,\"size\":1.6495901099826225},\"mode\":\"markers\",\"name\":\"2\",\"showlegend\":true,\"x\":[-2.7707903,-2.382435,-2.9242866,-1.7311752,-1.2585133,-1.3265382,-3.2450707,-2.3298666,-1.8303468,-2.8088927,-3.203371,-3.3988569,-1.5141295,-2.3272269,-1.6396399,-2.1974342,-2.5095322,-1.525274,-2.4857144,-3.223863,-1.888382,-1.2012995,-2.9913733,-2.3373663,-1.5487676,-1.4032265,-2.0462174,-2.8199468,-3.2627916,-2.7931094,-3.837818,-0.9329001,-2.3970988,-0.9965864,-1.2279912,-2.9011352,-1.7022809,-2.382932,-2.0518398,-2.2502048,-2.3715105,-1.2565719,-1.28378,-2.0272074,-2.7511775,-1.3075333,-1.7741809,-1.1554707,-1.6639963,-3.0665514,-2.615335,-3.2367415,-1.2838284,-3.1989172,-2.4575922,-1.6945914,-2.3312147,-1.9597838,-2.6507845,-2.324889,-3.508745,-1.6500623,-1.3589108,-2.9448495,-2.4807203,-3.1269052,-1.9721795,-1.4211913,-1.9528786,-1.619675,-3.3539042,-2.034256,-2.079249,-1.2728807,-3.4145136,-1.912936,-1.9887047,-1.79252,-1.5394008,-1.7337548,-3.1933804,-1.9484011,-1.4219918,-2.8703167,-3.488359,-1.3567477,-1.0541793,-1.3953204,-1.294525,-2.294878,-2.0562842,-1.5430248,-2.2157254,-3.0698826,-1.6792588,-1.4696099,-2.3288598,-1.3600751,-1.8780179,-1.4500831,-3.6713462,-1.6812452,-1.0759408,-1.4152279,-2.1870866,-1.6743848,-1.2291963,-1.7382984,-2.7767308,-1.8512532,-1.0469989,-2.9458022,-2.1097515,-3.3464377,-3.2104683,-2.798367,-1.5143503,-1.631449,-2.2729323,-1.4240464,-2.2674956,-3.1298914,-1.9781468,-1.9736049,-2.0873163,-1.5185357,-3.1278148,-2.8779519,-2.6747665,-1.9975652,-1.2227377,-2.6331995,-2.2754576,-1.5597099,-3.1322844,-2.5103443,-2.3221323,-1.0692431,-2.2332451,-2.4497216,-2.0457788,-2.611981,-1.2665539,-3.6263583,-2.5540006,-1.5557735,-1.2926383,-1.1574214,-1.35567,-2.24391,-1.4172258,-0.94307595,-3.1783814,-2.9259994,-2.1424637,-2.196011,-2.0125742,-3.5982032,-1.3568567,-3.1461987,-2.0909276,-1.4584917,-2.6723392,-1.6666566,-1.6696239,-1.5699272,-1.0411394,-1.8160908,-2.8117976,-3.3064466,-2.0611355,-2.395156,-2.5485723,-1.9115224,-2.930142,-1.6546093,-3.1121516,-1.3898147,-1.460175,-2.6024494,-1.1148148,-2.9259899,-2.3006165,-3.0036414,-2.9086232,-2.4019148,-1.5803676,-2.4115376,-2.1824853,-3.1283402,-1.9793024,-2.1428463,-1.1651623,-2.0508733,-3.221625,-2.8544397,-1.2373782,-1.1285539,-2.909529,-2.4544437,-1.2729733,-1.9428614,-1.0229764,-3.3405638,-2.647999,-2.0718832,-3.0042915,-1.8759987,-2.4689615,-1.2487162,-1.8908637,-1.6812109,-3.2888393,-3.4181194,-2.1370268,-2.8506162,-3.1115556,-3.2429094,-2.4841805,-0.9726734,-3.1171272,-3.0732665,-3.149893,-2.5199537,-2.4687092,-2.5406623,-1.8929068,-1.3923701,-3.1069174,-1.9485818,-1.9169433,-2.5625074,-1.5473434,-2.1341114,-2.1467426,-2.0500379,-3.5245376,-3.247482,-2.4247842,-2.211232,-1.0236213,-0.9099768,-2.105166,-2.7426481,-1.8912513,-1.9601964,-1.4358711,-2.041104,-3.0107021,-2.9969442,-2.7858691,-1.1990085,-2.3065686,-2.6449478,-2.9591205,-1.5109072,-2.3219671,-2.4931338,-2.3232892,-2.1660995,-2.5113904,-4.0645022,-1.4946371,-2.6733599,-2.2941308,-3.2992532,-2.690086,-3.0148714,-2.0251806,-2.5247185,-3.07501,-2.9634066,-2.5093386,-1.8507849,-2.5204616,-2.4596384,-1.6252586,-2.3606498,-1.1843367,-1.2111907,-1.07268,-1.4998218,-1.5841655,-1.2930382,-2.588198,-1.4536121,-2.369344,-2.3461466,-1.60928,-1.3711627,-2.0041409,-2.9031959,-2.8912656,-1.4542071,-1.2127758,-1.7288717,-1.9971808,-2.3812258,-2.3368137,-0.92238206,-3.2176414,-2.4715636,-2.2940154,-2.3313324,-2.2503512,-1.5353132,-2.3544843,-3.1638515,-3.662318,-2.6890886,-2.1909704,-2.5327096,-1.2865568,-1.7827202,-1.942375,-2.5846183,-1.4346226,-2.4590118,-1.6990956,-1.1107943,-3.4590485,-2.4871848,-2.698667,-1.1650779,-2.8069792,-3.0363114,-2.194478,-2.006687,-3.1059415,-3.4118927,-1.6898123,-2.5611567,-2.2933202,-1.9785464,-3.496404,-2.0513053,-2.1766279,-2.5785422,-2.8832119,-1.1768987,-1.832909,-1.6590222,-1.9373674,-2.0423172,-1.2467295,-2.1321485,-1.5613322,-1.239868,-1.2572818,-1.2974075,-1.5782286,-1.1659253,-2.3307621,-1.9904774,-3.7603517,-2.090781,-2.0922704,-1.159638,-1.6286871,-1.7550302,-1.6627766,-1.2377421,-1.5994974,-2.9133337,-3.697417,-2.8689113,-2.8694072,-2.2327576,-1.7715276,-1.1030943,-1.3724425,-3.2018282,-2.5511453,-1.8222448,-2.4443169,-3.0587344,-1.3218204,-3.39273,-3.7231326,-2.2146292,-2.7650301,-1.0984523,-3.2458599,-2.02216,-2.5131712,-1.3909757,-1.5445144,-2.109161,-1.5838088,-3.1818175,-1.6614691,-4.1941705,-2.7610447,-2.8963792,-1.2703481,-2.6011255,-2.686534,-1.799395,-2.2899117,-1.3755428,-2.3075783,-1.3416462,-3.6855068,-3.2125812,-1.0561599,-2.0278864,-3.6650066,-1.9430224,-1.4022746,-2.4891326,-1.5671741,-1.4793398,-0.94939315,-2.2322373,-1.370519,-2.4425552,-2.325092,-3.6028893,-1.1404595,-1.4158041,-3.7552834,-3.438782,-2.3571935,-3.0895457,-1.3199489,-3.3486805,-1.8383931,-2.2283099,-1.8014543,-2.3888276,-3.0059369,-2.6026244,-1.2040629,-0.87886673,-1.533793,-2.1243463,-2.5792477,-3.0021312,-2.1296363,-2.6760883,-1.6708033,-2.2180545,-2.350187,-3.169509,-3.2412946,-1.6346295,-2.3807936,-1.8376809,-2.457991,-2.3812647,-1.7918079,-1.7913488,-1.5534372,-2.833799,-2.7053583,-1.3978325,-2.5580342,-3.0467288,-1.4037211,-3.4705093,-1.4202939,-2.2757478,-1.6717224,-2.7811856,-2.2282815,-2.9020221,-2.9421563,-1.3278351,-3.5241306,-1.6223488,-1.5206876,-1.1142297,-3.1238203,-2.3150163,-1.6650113,-1.0724028,-1.4624877,-2.563519,-2.7200184,-2.6997998,-2.146408,-2.2266634,-2.7957113,-1.6777021,-2.7021582,-2.818285,-3.6376235,-2.9484966,-2.1861813,-1.753545,-2.9261303,-3.5040188,-2.2485073,-1.6689003,-2.0981088,-3.1914604,-2.8732593,-0.974436,-2.799528,-2.6677506,-1.5924568,-1.1703718,-1.9809808,-2.2469432,-1.8606641,-2.2822804,-3.6002257,-2.5490673,-2.8175669,-2.5708532,-1.5009532,-1.8777447,-1.5984402,-2.1650937,-1.3098468,-3.4691186,-1.5298938,-2.9478543,-2.6829746,-1.9137852,-1.0000428,-2.6960573,-1.577436,-1.596339,-2.7762868,-0.91502446,-2.7381146,-3.3892152,-2.4903755,-2.0957277,-1.6829224,-1.4383044,-1.430313,-1.6219633,-3.2378047,-1.244742,-2.5217717,-1.134286,-3.143921,-1.829351,-0.9348167,-1.4872895,-2.878298,-2.5421245,-1.4165324,-3.0002418,-3.1683362,-2.5818744,-2.7043045,-1.607476,-3.1647072,-2.3657024,-1.9142578,-2.932812,-2.7868369,-2.9047678,-1.7130859,-1.2597352,-2.2019365,-3.0739887,-0.88913107,-2.6398754,-1.6447502,-2.122169,-2.4637587,-3.5678294,-2.4967027,-2.741069,-2.9999826,-2.1209412,-1.1475804,-2.7138665,-2.6543634,-1.322994,-1.9788401,-2.2989597,-2.0436864,-3.5405545,-2.174296,-1.6477495,-2.480494,-2.1659086,-3.0996253,-2.0851564,-2.3648992,-2.1894574,-1.8955512,-2.3737168,-1.7157785,-1.6311923,-3.5734277,-2.2114065,-2.9528115,-2.2538247,-1.8668817,-2.232805,-1.053062,-2.346573,-2.8796577,-1.7341201,-2.9276755,-3.0624762,-1.7073263,-3.528591,-1.9941711,-1.6759762,-3.4941974,-2.2385738,-2.0862317,-2.4778342,-1.9533792,-2.741107,-2.6169665,-1.019741,-2.706245,-2.5153363,-2.4724927,-3.0805554,-2.8858573,-1.2065015,-1.3096006,-1.9124528,-2.437822,-1.0034379,-2.816591,-1.8809607,-1.3050936,-0.90994704,-2.4893265,-1.3692263,-1.5410786,-1.712878,-1.1647958,-1.2595682,-2.712496,-1.8344258,-2.1565459,-1.4244059,-1.3666278,-1.9435219,-2.827833,-2.176276,-3.301629,-1.2917051,-2.3965976,-1.8610514,-1.3589004,-1.5455979,-1.7486311,-1.6330801,-2.498093,-1.4066392,-2.7705705,-1.1748852,-2.0670557,-3.1411922,-1.919006,-0.86345315,-2.5712876,-2.67484,-1.5011182,-2.2813997,-1.3994222,-1.5540285,-2.597396,-2.360076,-1.2546173,-1.6893034,-2.9771051,-3.0743082,-1.9256397,-2.5156267,-3.226842,-3.0716064,-1.3567265,-1.2546197,-2.3449078,-1.3275895,-2.326009,-3.162883,-1.8290088,-1.6197623,-2.3925295,-1.7854073,-1.3052498,-1.7019007,-3.3525915,-2.4402564,-1.869501,-1.6621209,-2.8651662,-1.1455665,-1.131736,-2.224078,-3.3614495,-1.4715286,-3.2632713,-2.4511595,-3.7307446,-2.3886132,-1.063016,-2.1655388,-2.9011838,-1.234865,-2.4094222,-1.3830993,-1.3460891,-2.9330142,-1.7182828,-1.4088968,-3.7172801,-2.5130517,-1.6196151,-2.8496287,-1.9025091,-1.8451178,-2.7289648,-3.162281,-3.251196,-1.6176059,-2.4533248,-2.0104218,-1.4646981,-3.591285,-1.3328562,-2.8643236,-1.4568018,-1.1412321,-2.05013,-2.1158447,-3.1369655,-2.0309126,-1.2922915,-1.2616893,-2.2764175,-2.4290164,-3.5471745,-2.7622316,-2.9715085,-2.139406,-1.8232564,-2.750927,-2.7040162,-1.7815655,-1.56461,-2.3436632,-1.485746,-2.5858765,-1.6269314,-0.8530106,-2.8605986,-1.0952727,-2.2467895,-2.9386094,-3.1064026,-1.4710436,-2.92626,-1.7218693,-1.0082935,-1.8218681,-1.7911859,-2.6041653,-2.3252304,-1.9948573,-3.0480556,-1.5657008,-1.8490882,-1.7514042,-1.3909899,-1.7407682,-2.07449,-2.1716392,-2.4996853,-1.281909,-3.4685464,-2.1543186,-2.8337016,-1.1877391,-1.3250463,-3.1858108,-2.4353197,-2.7863715,-1.0455258,-2.9599168,-1.5185971,-2.040937,-0.86607295,-0.99956906,-1.3142827,-1.2279884,-2.2783284,-1.8366053,-2.3181684,-1.8366551,-1.8505276,-2.0439951,-3.5565987,-2.7072453,-1.8135489,-2.6753938,-3.796566,-1.555425,-3.297527,-3.6049511,-2.1073604,-2.7081509,-1.9002218,-3.282501,-1.3289037,-2.8500617,-2.1098433,-2.3506725,-3.4837995,-1.1040707,-1.0404394,-1.2628628,-2.864522,-2.045361,-1.127901,-3.2973092,-2.1606517,-1.5700983,-2.0656767,-2.0850828,-1.7004838,-1.9035519,-2.725527,-2.2223969,-1.762827,-3.0537832,-2.0382745,-3.4430485,-3.5326898,-2.3054519,-3.3656213,-1.2609392,-2.053061,-1.6121256,-1.3665814,-1.5741749,-2.9514258,-2.668554,-1.418737,-2.1082413,-0.8804732,-0.9929286,-3.033415,-0.8543726,-2.6054914,-2.664014,-2.5794756,8.1427145,-3.3210852,-2.481311,-1.4155437,-1.5574476,-1.2495785,-2.3915062,-2.431063,-2.1613908,-2.6692564,-1.6601688,-2.8685951,-1.7627803,-1.1485318,-3.4736252,-1.4055827,-1.991507,-2.5599933,-1.5814677,-3.1123815,-2.0834851,-2.4039378,-3.3537931,-2.4138312,-1.4370037,-1.0721542,-1.4248825,-1.8728671,-3.0909257,-2.8913376,-1.0715687,-3.7407255,-3.1088872,-1.6947786,-1.3028433,-1.7175385,-3.2501647,-2.164012,-1.776192,-2.2306588,-3.0922537],\"xaxis\":\"x\",\"y\":[5.5454416,7.0234094,6.6223035,6.128542,5.5831537,5.5103626,6.0304046,5.10303,5.612216,5.92192,5.9311695,6.1993165,6.2310004,5.4169803,5.1664886,6.5265045,6.558374,5.345787,6.6912885,7.3394685,6.0614924,9.718095,5.444926,6.1218514,6.8028593,6.312224,5.253854,6.307575,5.9349084,7.079308,7.405202,6.766698,5.0988674,5.56691,5.7731752,6.252776,8.473245,5.0996356,5.349309,7.7368293,5.185162,3.966498,5.940102,6.8420305,6.891297,5.815397,6.077165,4.9022107,4.955589,6.036276,7.3925934,5.9399543,6.7052913,5.9883933,6.3324194,7.5455527,5.083847,5.9110403,5.987616,6.1008306,5.93555,5.853792,5.6723294,6.036121,7.277349,6.9097514,6.9556146,7.375068,6.1018186,7.1891236,6.712488,6.116903,5.5908213,6.025023,5.791437,5.9023776,5.984113,5.0585985,7.9517016,5.9825044,5.961371,6.488743,5.7283964,6.840488,5.909944,5.395131,6.354597,5.976444,4.7642517,5.0733447,5.892671,5.1539283,5.278351,6.134455,5.504339,6.169865,5.8923535,4.126958,5.322731,7.1798944,5.947867,6.1518383,6.554022,5.039294,6.490264,7.295175,6.198568,4.731182,6.0574284,5.7112217,5.8410325,5.54559,5.304069,5.9974566,7.1585417,7.528251,7.6066756,5.7845354,5.235349,5.003984,5.316637,5.8989506,6.42337,5.1035814,5.6340413,7.468814,5.7746844,5.9098864,5.6812453,6.382052,7.492051,6.49546,6.506071,6.2720437,6.2063646,6.3076015,7.5202656,6.140861,6.1818204,6.364279,6.555876,6.966565,7.160688,5.9575562,6.446561,5.7691665,7.4125113,6.1632857,4.850129,7.019159,6.072103,6.4885573,6.9136963,6.0416436,7.07668,2.2183573,5.2156906,5.9146547,5.1699805,7.0125933,5.165182,5.0612693,5.484218,5.7346797,7.041201,7.8014545,6.8287997,5.1263313,5.647839,7.594744,5.6916156,5.113415,5.339321,6.082365,7.1363516,6.5614796,6.285166,5.9277787,6.0203924,6.7808523,6.373655,5.690188,5.3896465,6.523049,5.6979365,5.1840515,5.277601,5.171597,5.1645722,6.691023,7.9442973,6.3197193,4.960362,7.235259,7.1491337,6.116464,5.77824,4.8430223,7.289501,7.2324033,6.188468,5.314465,6.4439836,7.0447755,6.778083,5.762494,6.6100082,5.1481113,6.7088075,5.483524,6.126335,7.0042586,6.9488707,6.987826,5.523497,5.502019,6.2611904,6.9280667,6.9728503,6.2755737,6.49471,5.5566287,5.731236,5.810267,6.5189657,6.113718,7.602766,5.6677766,5.505092,7.1700635,7.307198,6.0515423,5.544972,5.9214716,6.067891,5.79476,6.2874403,7.5969014,5.4426074,5.9794207,6.044017,6.2041907,2.3321545,7.5416737,6.283972,6.476538,5.4938254,6.670256,5.399005,6.406975,6.946849,5.1689644,5.8802333,6.4738584,5.679495,8.346208,5.04637,5.2288227,6.48705,6.976298,7.13742,7.1326075,7.2888966,6.5881133,6.459559,6.0412536,5.348455,5.678753,5.8812876,6.240051,6.060778,6.4486127,7.026089,8.201498,6.3758755,5.890726,6.502824,6.7116632,5.954941,5.5986123,6.9095793,5.670418,5.178261,5.4540157,7.5724387,7.5815425,6.699368,5.6844726,4.986866,7.3971734,5.52839,6.353997,7.227316,5.7328444,5.70283,5.862026,6.056491,5.4756184,5.843162,6.063399,5.606558,5.140717,4.923573,5.343944,6.0857124,4.7540812,5.9427514,5.716614,5.970743,5.4910603,6.3796196,5.1840377,5.5834417,7.651979,5.2031603,6.1365404,5.2587175,5.365365,7.49367,7.0564938,6.043655,7.547322,7.240236,5.3871746,5.395353,6.2120423,5.0136385,6.2133355,7.163618,5.7678957,6.822399,7.450803,6.7752876,6.684928,5.9898934,7.0885344,5.027303,6.7502985,6.9059396,6.609894,7.087305,6.0092316,5.3866906,6.7795224,5.7220793,6.0618334,3.912088,5.574624,9.986595,6.3965983,3.7008865,5.7589107,5.9602895,6.1652493,6.997231,6.1348047,6.198959,5.5691905,6.031003,7.9018526,6.216692,6.0924416,7.1937146,6.022116,5.978021,6.853201,7.1244254,4.9678516,5.489122,6.934285,4.944529,5.86028,6.510851,7.7565217,6.4960856,5.8293247,5.5384507,5.978261,6.843206,5.2805624,5.4059453,6.2871156,5.9111624,6.2854357,5.377952,5.4768314,7.299994,4.934846,6.1074147,6.853653,5.259252,7.3640604,6.22659,6.607735,5.3388753,6.2494926,5.569129,7.224108,6.0545983,7.25405,5.769676,6.065044,6.2403507,5.709559,6.734859,6.879853,5.993376,5.4821124,6.5385933,5.53171,7.1763134,7.621902,6.182217,5.4353356,5.4868646,7.7352853,5.0815363,5.8968225,5.3869925,7.072255,6.887218,5.825836,6.43683,7.2942247,5.8086166,5.8286314,5.9580126,7.0886407,6.355525,7.5624275,5.71723,5.4403386,4.8488,6.485805,7.213839,7.5945525,5.5005465,6.374555,4.930696,5.355442,6.006316,5.096865,6.010367,7.3418107,5.86366,6.110331,5.0969057,6.626874,6.3545356,5.8104587,6.75944,7.120664,5.4810886,6.1705384,6.8395348,7.1919465,5.997167,5.698333,5.3452516,6.826183,6.136856,6.2478633,7.6367006,6.239993,6.5185995,5.954483,5.7331023,6.2654204,5.909056,5.837086,5.8792763,5.846705,5.6476474,6.192615,6.1985116,5.6227336,6.153297,7.3958397,7.033819,6.011081,6.12135,5.736347,7.539455,5.971554,6.985215,5.5201325,6.9921646,7.3553357,5.3899717,7.5475025,6.4265695,6.3643947,5.663551,7.7488947,4.9947596,6.164155,7.0326343,6.6192946,6.104871,6.709202,5.1605926,6.362301,5.0984244,7.6966853,5.553964,6.684328,6.908125,6.8659573,6.8168244,6.3930254,5.565676,7.215,5.676907,6.0171056,5.3198247,5.9986115,6.0890236,6.669025,6.6974707,6.3620205,6.8798003,6.1162663,6.8944345,6.3067794,6.2253404,6.312225,5.2330713,6.086116,7.3027096,6.127053,6.760319,7.6237597,5.671622,6.027537,7.043725,6.977725,7.1457605,5.9908156,6.04708,6.161436,6.2548966,7.6131644,5.84321,5.4155965,5.996596,6.001044,6.583581,5.208358,7.3359947,3.816694,7.172169,5.4269996,6.172176,6.7882223,5.638866,6.304944,6.3860426,5.511158,5.6831665,5.7786474,6.3965335,5.2329593,7.7022557,5.4104548,5.535928,6.265094,5.9227576,5.8024116,6.664513,6.6010084,5.223707,6.914545,6.5781584,4.6508765,7.2842283,6.7949343,5.314046,7.2747917,4.8940897,6.397506,5.1935186,6.3576345,5.4859786,6.9466023,5.4813213,5.273134,6.9879994,6.556192,7.4724927,5.8020787,6.914779,5.175384,5.8438587,5.0410237,8.005657,7.7990704,6.263529,6.3334928,5.8066893,7.4321876,7.1787863,5.858519,6.127079,6.0278006,5.3888383,5.1316524,5.886267,5.1502075,6.1087074,6.558935,6.8758955,5.939066,6.9759474,6.767347,6.9267545,5.600397,5.5789533,6.022985,7.2548127,4.9498186,6.1830487,6.813099,5.7879534,5.9443407,6.343047,6.7954555,7.5090976,6.481749,6.541726,4.7605596,6.0035176,5.4223433,6.4555826,6.6967096,5.343106,7.6434765,5.34537,5.5041575,7.099555,5.905427,6.602484,7.704613,5.977664,6.0296025,7.692558,7.344556,5.202748,6.388691,7.680509,6.0593557,5.624261,6.392856,6.072466,5.490924,5.266049,6.5058084,6.2645807,6.4856997,6.0310173,6.7716317,6.1190543,6.526183,5.9214864,6.8546734,5.485904,7.753395,5.408469,6.294456,6.0596886,7.0855966,5.452792,6.4397044,7.156128,6.049993,5.8743844,6.8792887,5.943487,5.678657,4.9277315,6.3125424,5.105746,7.619669,6.8685074,6.6624274,6.52679,5.183613,6.4674563,6.8046346,6.2115064,7.680452,5.736837,5.5024953,5.3703227,5.876651,7.0739875,7.118606,6.299225,6.5307946,5.9977775,6.55899,7.010225,4.9546824,6.620021,5.7854733,5.617266,4.6805916,6.035718,7.236929,7.361409,6.9227624,6.8421154,7.5704465,8.163963,6.301514,7.1030946,5.305712,5.732985,6.065737,6.285035,7.2825356,7.084424,5.684169,6.068076,7.181571,5.3035975,5.3044477,5.13129,5.216066,6.3419065,5.378277,6.1629553,5.26479,6.129476,5.652077,6.047893,6.2512774,5.8982587,6.9576263,5.714655,6.0799403,5.1955137,6.0032625,6.623714,4.9283757,4.3136563,6.665941,6.3929515,5.6591396,6.0846186,6.45308,7.2809377,5.626423,6.9085503,6.0071564,5.7646556,5.8531666,6.6746655,7.400636,6.9433866,5.6570997,6.0935187,6.045942,6.6414285,6.861308,6.224452,5.6758537,5.8178806,7.4711795,6.964489,5.2376103,5.369984,5.834981,7.1095347,5.606285,6.9534893,7.1147785,5.878673,7.196326,5.8963885,6.1386747,5.068896,6.0427666,5.9599853,5.7635922,5.2847776,6.6223283,6.58472,6.631512,5.5664487,5.4097247,5.9035907,6.901336,6.2501016,7.087886,5.63253,5.742518,5.8720455,6.0068374,5.400963,5.957199,6.9254565,6.2931676,6.0882893,6.0380197,5.2696095,7.632127,8.184527,6.204269,6.7415466,5.7727423,7.145958,7.8357797,6.149154,7.026599,4.2071266,6.3260427,7.4369555,6.4351215,5.4152365,6.0132713,5.693508,7.9925914,6.4212565,5.206161,8.13592,7.1812963,6.115191,5.9103727,7.6529408,5.454457,5.392158,7.184911,6.4054327,7.730976,6.200953,4.3805766,7.747781,6.031409,7.271186,5.686633,5.659137,5.8989763,6.0669127,5.2893777,6.4294066,6.3251567,5.931876,5.9828753,6.244847,6.8758955,6.910071,6.3903747,5.6453443,5.130578,7.595465,5.1567698,5.508891,6.673603,5.466579,6.417681,6.6294947,7.0365767,5.7305346,6.3241343,5.3721204,6.924867,5.2759366,5.6822867,7.798777,5.557569,6.362941,5.3774276,6.8024774,7.0393567,6.0838475,5.6278825,5.903688,6.1741743,7.257158,5.5173125,5.750486,6.3232536,7.006458,7.0523987,5.118802,5.3894477,5.7439604,6.2358646,5.766642,7.7726226,5.966849,6.6829],\"yaxis\":\"y\",\"type\":\"scattergl\"},{\"hovertemplate\":\"leiden=3\\u003cbr\\u003eUMAP-1=%{x}\\u003cbr\\u003eUMAP-2=%{y}\\u003cextra\\u003e\\u003c\\u002fextra\\u003e\",\"legendgroup\":\"3\",\"marker\":{\"color\":\"#FB0D0D\",\"symbol\":\"circle\",\"opacity\":1,\"size\":1.6495901099826225},\"mode\":\"markers\",\"name\":\"3\",\"showlegend\":true,\"x\":[-3.1822817,-3.3017268,-3.2690773,-4.5451236,-4.180279,-4.2984095,-3.6952837,-2.6785185,-3.5339458,-2.6909459,-3.7005649,-3.7749226,-2.7709382,-4.040569,-4.724529,-4.839151,-3.3865683,-2.7965593,-3.0196474,-4.756856,-4.5472565,-4.053439,-2.8740964,-3.2323644,-3.6337867,-4.6010666,-3.485489,-3.2411304,-4.0848217,-4.3338175,-2.8652217,-4.4692073,-4.792241,-3.2017229,-5.0600343,-2.8457458,-4.9415846,-3.4741182,-3.5463872,-4.6937957,-3.7833328,-4.3324866,-2.8607292,-4.0787487,-3.6264272,-3.3809028,-4.1811323,-3.112273,-3.9518337,-3.400264,-4.3181267,-4.453159,-3.1521385,-4.4188137,-2.6698697,-2.6691327,-3.1174529,-2.924196,-4.572834,-4.043923,-3.6528976,-3.8247316,-4.361653,-3.844934,-3.9039133,-4.4678,-4.202981,-3.9739058,-4.871364,-3.8736985,-4.328183,-3.57336,-2.5246308,-3.6996999,-4.26744,-4.717574,-3.323064,-3.5431812,-3.4362712,-3.8545756,-4.723192,-4.6703057,-3.2581253,-4.1986337,-3.4472106,-3.7953606,-4.670199,-4.3067107,-3.770222,-3.5243645,-4.064915,-3.368954,-2.8722756,-4.011593,-3.5186548,-4.8942223,-4.429814,-4.1269836,-3.2371573,-3.421834,-3.5496771,-3.5520809,-3.2373326,-4.009852,-3.5004478,-4.0393667,-3.039235,-4.6776915,-3.522368,-3.0752246,-3.5934687,-3.7901552,-2.5407832,-3.8004386,-3.696866,-4.064723,-4.5659385,-3.6894035,-4.5996227,-4.3989873,-5.171379,-3.4707544,-2.57066,-3.188612,-3.6065664,-2.5569422,-4.3388042,-4.4261627,-3.958152,-3.7976193,-4.9034867,-4.1848288,-3.3820562,-3.7229114,-4.526258,-3.6140041,-3.351811,-4.6268406,-4.742757,-4.8668866,-4.2042174,-4.3683195,-4.594863,-3.172657,-3.1553512,-3.4155917,-3.8016925,-4.658838,-3.7884576,-3.4467437,-3.1717706,-3.270447,-4.0027723,-3.1644485,-3.0650942,-3.3584206,-3.5691195,-4.482195,-2.4171705,-3.713463,-3.761641,-4.787485,-2.9821398,-4.5326715,-2.2891498,-4.285436,-4.337576,-4.215059,-3.2891567,-4.328129,-2.6503973,-4.619308,-4.0546947,-3.5757935,-3.857765,-4.380666,-3.531635,-4.6348057,-4.424823,-2.7903414,-4.582885,-3.894142,-4.3145933,-4.1736546,-4.7601633,-4.1381507,-3.0558186,-3.1058395,-2.542092,-4.6484804,-3.312792,-4.4349294,-3.2886255,-2.8260958,-2.4785633,-4.3040195,-2.6604276,-4.2872534,-3.9277754,-4.882356,-3.136839,-3.7876074,-3.28727,-4.1467333,-3.5105,-2.3950598,-3.253168,-2.541522,-3.0974526,-4.2864847,-3.0872083,-3.9672072,-3.840022,-4.539632,-3.5124285,-3.0692892,-4.544531,-3.5631168,-4.1380806,-4.484337,-3.4816475,-4.642312,-3.8321066,-4.1673408,-4.6847687,-2.9492843,-3.75744,-4.5728946,-3.4826248,-4.9504557,-2.3144958,-2.9783268,-4.0674906,6.8225803,-3.4625304,-4.432141,-3.9053712,-2.8395333,-3.6328585,-3.3345397,-4.6089816,-2.944098,-4.449137,-4.6424694,-3.5863926,-4.525118,-3.7476602,-3.6155167,-3.2315178,-3.7169282,-4.0463653,-3.173944,-2.2883868,-3.484653,-4.8254395,-3.6404424,-3.8169324,-3.2245374,-2.7957954,-4.884587,-3.5599737,-2.3710072,-4.503957,-3.1549644,-4.018894,-5.044909,-4.388848,-4.9312315,-4.006514,-3.1197817,-3.6644852,-3.4621468,-4.4100924,-2.6776853,-3.5929203,-4.2081456,-3.3499355,-4.13727,-4.6725283,-3.4388022,-4.4469743,-4.2040267,-3.356373,-3.2011392,-3.3338516,-3.75305,-4.034013,-3.1884477,-3.3748531,-4.643531,-2.7153893,-4.1857157,-3.4361532,-3.76357,-2.6015832,-2.6649623,-3.4393466,-5.005553,-3.8150308,-3.9423108,-3.5062888,-3.6658435,-4.8824706,-2.5358827,-4.549327,-2.4088805,-4.5583706,-4.2392645,-4.3053203,-3.0130126,-3.6338334,-4.764764,-3.42647,-4.471657,-3.5205984,-3.3132794,-2.9372005,-4.170103,-3.673298,-3.7000582,-3.4686503,-4.0570536,-2.7040346,-4.3570633,-3.580273,-3.7286463,-3.3652349,-3.745812,-3.7819066,-2.8005466,-3.7019866,-3.5663674,-4.9978423,-3.1879005,-4.41298,-3.3364234,-3.959028,-3.4696991,-2.7628195,-4.3146205,-3.3146996,-4.5278053,-4.6359243,-4.4367294,-2.7665336,-2.8413615,-3.5276985,-3.0592957,-3.341928,-3.7537405,-4.5077834,-3.4999187,-4.059165,-3.4271045,-4.0183797,-4.68614,-4.3958945,-3.7760773,-5.0928664,-3.5696626,-3.7695763,-3.4822364,-4.1540337,-4.257505,-2.802129,-4.6109796,-3.645538,-3.991855,-4.5202127,-4.1723485,-2.7138166,-4.7817826,-4.2063046,-3.882649,-3.9541445,-3.735828,-3.4071355,-3.4357738,-3.4530392,-3.4406016,-3.4272723,-3.5938895,-3.0444698,-3.7205915,-4.2983356,-3.2956145,-4.0387692,-4.325614,-3.7496603,-3.4429638,-4.0196,-2.7385437,-3.6577213,-3.1283727,-2.6262321,-3.5980527,-4.214632,-4.9548254,-3.679205,-3.3574643,-3.1787136,-3.1381865,-3.9360178,-4.3619213,-3.6775112,-3.8426619,-4.7366514,-3.7571728,-4.00943,-2.4231935,-4.306319,-3.4296129,-3.0836616,-3.4274237,-2.9847622,-3.2468197,-2.7857835,-3.2424283,-3.7372968,-4.606859,-3.6173146,-4.3054056,-4.3047714,-2.6841147,-3.2802315,-3.807826,-2.6707892,-2.5370913,-3.842605,-3.7500038,-2.9550493,-3.7521365,-3.1035058,-4.5042505,-3.620147,-3.6011634,-3.8770974,-2.7017415,-3.8042395,-2.8219266,-4.6568365,-2.7498848,-3.591372,-3.8488505,-4.171315,-4.8646364,-3.4037356,-4.0386076,-3.506727,-2.903165,-3.9463286,-4.842692,-2.268982,-3.7957184,-4.117397,-3.2925267,-3.7444253,-3.376102,-3.6544616,-2.903825,-3.6021411,-3.9181814,-4.2949305,-3.1644652,-2.3303587,-3.7165444,-3.191021,-3.8965812,-3.690188,-3.3988883,-4.469233,-4.0181403,-2.7018528,-2.5697746,-3.716092,-4.23018,-3.1803355,-4.667749,-3.9744987,-4.3350725,-4.3225465,-4.416287,-4.5787816,-4.5225663,-3.1888611,-3.348835,-3.5884838,-3.3599212,-2.9353147,-3.3961575,-3.1938412,-4.791954,-2.9337106,-4.581535,-4.9096036,-3.599858,-3.6199794,-2.7791078,-3.3208706,-2.6729038,-3.9168944,-4.2024274,-4.604776,-4.558444,-3.1039186,-2.8606052,-2.9247892,-4.3644123,-4.691635,-5.0457377,-4.082074,-5.0647764,-2.7851295,-3.1739836,-4.8157988,-3.3579519,-5.2823834,-3.908919,-4.3799486,-2.9364889,-3.4440734,-2.8149805,-2.8540514,-2.7246335,-3.8196402,-2.5238235,-3.4966187,-3.156914,-4.219626,-3.0160453,-2.7271771,-4.216022,-4.8869953,-3.7912714,-2.9178445,-4.4296594,-4.5320735,-4.5696697,-3.6115367,-2.7136297,-2.7274613,-3.6349547,-3.1805837,-2.6418085,-4.5005364,-5.03164,-5.0550117,-3.670015,-3.9113233,-4.198377,-2.386803,-4.5956235,-4.326711,-4.347291,-3.8107944,-4.38414,-2.9933856,-3.3103986,-3.1907525,-4.095363,-3.1951673,-3.2421715,-3.7776904,-3.745572,-3.4352438,-3.9268904,-4.1034803,-3.053395,-2.7322805,-4.445298,-4.79845,-3.8324542,-3.853684,-4.6522827,-3.566414,-3.3576703,-3.6154454,-3.6577764,-3.4557223,-4.736759,-4.3840327,-4.284707,-2.7952762,-3.776291,-3.7253895,-4.2143655,-2.6438453,-4.5195932,-4.188084,-3.9944212,-2.7977724,-3.2237468,-2.7960017,-3.2673311,-4.892864,-3.4577937,-4.5731287,-4.100796,-4.4465623,-2.8568792,-3.4080257,-3.3649595,-3.4249167,-4.348196,-3.4321606,-5.0963955,-3.4555547,-4.1569486,-4.3072214,-3.3765907],\"xaxis\":\"x\",\"y\":[9.769787,7.1630344,7.971481,8.662822,10.565678,8.112799,8.781746,9.196665,8.138099,9.043464,8.853546,9.01116,7.7404623,9.063444,10.164227,9.275683,9.243461,9.149577,9.314038,8.960621,7.648575,10.159163,7.9483356,7.4387984,10.343157,8.341037,10.757876,9.039819,8.332233,10.03476,9.354665,9.619501,8.732696,8.64129,9.403232,8.566189,9.235037,9.848726,8.538761,9.030144,7.583049,9.6354,8.585373,7.8536897,8.144345,8.08818,9.51123,8.408338,10.148319,8.592961,7.656785,9.920791,8.443682,7.711879,8.729719,9.356621,7.6151795,9.207732,8.164639,9.388773,9.318972,9.055128,7.7223682,8.586585,9.37322,9.91559,8.62819,9.663489,9.350825,8.640613,10.066491,8.289198,8.190935,8.775157,10.173924,9.104387,8.612662,8.86666,9.904871,7.9888744,10.141218,8.77178,8.120125,9.214651,8.419739,9.142757,8.034181,10.073565,9.478922,8.2966585,9.533826,8.086906,9.408646,8.241251,8.30958,9.828516,10.2701435,8.030259,7.472878,9.432485,8.700375,9.056498,7.5306344,9.032983,7.957263,7.917415,9.164555,8.064832,9.039412,9.011927,8.501367,8.390119,9.160379,7.048334,10.145489,8.594025,10.186563,9.351025,8.3954315,7.589419,9.531479,8.334088,7.6033344,8.751103,8.47395,8.870451,7.3487206,9.640932,10.123447,10.292215,9.227421,10.366101,9.374908,9.366968,10.079546,10.4725065,8.481226,7.7694545,8.546055,9.634552,8.9483795,9.878828,7.7768064,9.207757,8.740146,9.013294,7.5589147,7.785809,9.35504,8.282609,8.387691,9.287639,8.509474,8.875206,8.1026125,7.4446645,9.183166,7.9882374,8.272471,8.681975,10.439276,9.338806,7.366616,7.664809,8.5128765,10.126616,7.8892927,10.433172,10.221475,7.630165,9.30722,7.720809,10.307937,7.736018,8.695926,7.6000295,8.0565605,7.800177,7.605199,9.113823,8.333029,9.533768,9.695088,7.9948344,10.132156,9.825716,9.242808,7.991867,8.275006,9.326328,8.784576,8.750571,8.819373,9.084324,8.577287,9.529224,8.650529,8.367887,7.994272,9.514315,9.488741,8.744913,9.341914,10.0217085,7.5076647,8.81031,8.214619,7.890286,9.224471,7.44103,9.447763,8.89482,9.589843,7.5798926,7.8429227,8.675325,10.093894,8.530272,8.134274,7.483488,7.882136,7.7481933,8.729813,9.832836,7.87033,9.104121,8.109331,8.365686,8.384672,9.210482,8.851292,7.8716598,8.055381,6.339292,10.427478,10.176654,7.608489,8.757352,8.52912,9.209396,7.7444215,8.173964,7.621259,7.741938,8.208491,9.448295,10.765394,8.604206,9.364969,9.318842,9.127884,9.798761,8.492081,8.535706,9.411031,7.95329,8.712094,8.244033,7.575324,9.417631,7.842914,8.870434,7.6645727,8.042109,8.269544,9.284901,10.150897,8.508297,9.2716675,8.401531,9.429192,9.102455,8.829809,8.853133,8.775899,7.716969,8.678154,10.455648,10.105034,7.4579306,10.137045,8.705326,8.600461,8.2915125,7.802188,9.475229,8.355801,9.045186,9.811468,7.839297,7.8615036,8.95659,7.252181,8.773376,7.7279787,9.220844,8.626891,9.419149,9.432848,9.156796,8.709498,8.408063,9.476656,9.4425745,7.530742,8.949556,8.253583,9.750321,8.035946,7.804056,8.172998,8.6979885,8.756036,8.051443,8.443258,8.485125,8.142254,9.691155,10.680052,8.049802,7.5124574,9.33403,9.283146,9.444069,8.40254,7.9353967,8.277523,9.3536215,7.895738,7.8031955,9.446383,9.829449,9.434427,8.458209,10.322331,8.300836,8.32411,8.441476,8.73686,7.571419,8.671216,9.120103,9.320259,9.913164,9.145254,9.359189,9.0477705,9.3197365,7.4676194,7.750671,7.6494904,8.533784,7.550286,8.971989,7.9808083,8.733552,10.151335,8.644067,9.692353,7.5621257,9.432193,7.9174547,8.540976,9.707236,9.414613,8.619606,10.094857,9.120367,9.477009,10.263666,6.4768567,8.4865,10.556919,8.756038,9.565602,8.072042,8.580585,8.6421175,8.642402,8.594517,8.647576,9.131154,8.300187,9.469233,10.135194,7.7795734,9.165749,8.16884,7.824252,8.472429,9.157741,9.008504,7.2883635,9.902856,8.402981,10.110302,7.875903,8.999977,9.390982,10.151334,8.210413,7.810821,9.5301485,10.124138,7.884446,8.991596,9.715881,8.79811,8.479111,8.003746,7.473654,9.174155,8.09946,8.769651,7.818287,9.414835,7.877281,7.615985,8.118641,10.097849,10.686878,8.835846,9.495306,7.808703,7.489578,8.37619,9.206346,8.801835,9.198776,8.8173685,7.668469,7.5685287,8.950548,10.361471,8.148501,9.133607,9.406061,7.797583,8.209021,8.782786,9.347483,9.14049,8.7798,9.069628,7.6634355,8.158188,11.513337,10.604771,9.011352,9.023454,9.790354,9.75382,8.469111,8.730621,9.796421,9.294808,10.442701,9.528922,8.675002,10.271549,8.437463,8.497173,7.772199,9.461251,8.756106,7.6422167,9.351577,8.435887,9.270025,8.686172,10.110141,9.6717615,7.801284,8.309894,8.844312,9.855568,8.397455,7.8531547,9.818361,7.396078,7.495426,10.200697,9.148259,8.162024,9.106745,8.813389,7.8830495,9.148418,8.020163,8.485628,9.053978,8.051573,9.315456,9.5505085,9.120049,7.831524,8.141696,7.808594,9.041744,8.379172,8.931084,9.749104,7.8467073,10.028027,7.6856556,9.061085,9.295972,9.797889,8.027217,9.307878,9.055483,10.153681,7.7949686,9.314659,9.188698,8.901654,10.5904665,9.832414,10.007589,8.789095,8.4061165,8.245135,8.744482,8.741265,9.671671,9.182869,9.191246,9.0203285,7.7808814,9.070905,8.749968,10.22905,8.701139,7.610651,7.4262905,7.6047583,8.984446,8.745437,9.32711,9.306469,7.080691,9.264276,8.353473,8.852248,8.256592,9.433098,9.36198,10.706491,8.497642,9.06625,8.033521,10.036382,9.940229,10.076538,10.143306,9.051838,8.083619,8.237984,7.4924374,9.085509,8.92011,9.133695,8.47732,10.811541,10.715199,8.191037,9.738371,8.725106,9.001377,8.601008,8.532034,8.092941,8.7052145,7.7461104,8.526217,8.67901,7.9705863,9.933468,8.936158,7.9307585,10.34646,7.4594975,7.763068,10.153163,9.33809,8.564208,7.8150883,7.5700674,9.983421,10.030439,7.2104897,9.126969,9.136944,8.415342,10.058073,8.779704,8.420486,9.558417,9.9789505,8.390631,9.195218,7.322741,7.5115967,8.826555,9.008885,9.300454,9.079983,7.823316,9.827613,7.6774507],\"yaxis\":\"y\",\"type\":\"scattergl\"},{\"hovertemplate\":\"leiden=4\\u003cbr\\u003eUMAP-1=%{x}\\u003cbr\\u003eUMAP-2=%{y}\\u003cextra\\u003e\\u003c\\u002fextra\\u003e\",\"legendgroup\":\"4\",\"marker\":{\"color\":\"#DA16FF\",\"symbol\":\"circle\",\"opacity\":1,\"size\":1.6495901099826225},\"mode\":\"markers\",\"name\":\"4\",\"showlegend\":true,\"x\":[-1.3399047,-1.5662137,-1.2331225,-0.82703835,-0.72625554,-0.35360107,-1.6617744,-0.6405363,-0.6088023,-0.01703699,-0.025898935,0.23864485,-1.5899773,-1.1021329,-1.3970294,-1.1948142,-0.15149412,-0.14459947,-0.23496325,-0.96125245,-0.95778376,-0.46060124,-1.2800126,-0.8477155,-0.6881303,-1.5240074,-0.9093798,-1.6174344,-1.3523737,-0.31638655,0.15509814,0.13972919,-0.1424546,-1.1391797,-0.71499354,-1.1015569,-0.8894111,-1.0028762,-0.9428781,-1.0285618,-0.5311873,-1.0352349,-0.39487633,-0.73762965,-1.4967216,-0.044055864,-0.22726695,-0.3768282,-0.8169117,-1.2040647,-0.329187,-0.6951822,-0.43013823,-0.74367625,-0.37657532,-0.2848647,-0.77093446,-1.2623179,-0.011836376,-1.1445785,-0.7376901,-0.8203322,-0.36748326,-1.072793,-1.4149966,-0.8001843,-1.5758026,-1.0404916,-1.2471951,-1.7003291,0.06110225,-0.26702732,-1.6495539,-0.15774596,-0.8844567,-1.3185617,-1.4754313,-0.913983,-1.0504198,-0.85587555,-0.22064976,-0.37479904,-0.24326426,-0.22604595,-0.9559252,-0.53839314,-1.8615413,-0.16729319,-0.21499337,-0.64220387,-0.44244778,-1.1897495,-0.592101,-0.37209222,-1.2771205,0.12683573,-0.13414355,-0.15188414,-1.2144058,-0.49416113,0.05572354,-0.04633068,-1.6809924,-0.9897886,-1.2774647,-1.1028386,-0.04777905,-0.5126129,-0.3032387,-1.0514978,-1.1868032,-0.060592793,-1.4936078,-0.35142148,-0.72176206,-1.0168904,0.29236963,0.032733195,-0.4122947,0.13626419,-0.35535657,-1.5597688,-1.1933005,-0.8622409,0.12925167,-0.16547698,-1.3279476,-0.9296141,-0.122227095,-0.80570304,-0.9217903,-1.0417624,0.075352155,-0.85119724,-0.089492485,-0.22267266,-1.3185192,-0.2916318,0.07361616,-0.25736448,-1.0959016,-0.39838383,-0.3375793,-0.6019047,-1.3289777,-0.1621765,-0.82219994,-0.20459108,-0.47470045,-0.9725455,0.27226862,-1.3257914,-0.44825068,-0.58356977,-0.11936614,-1.3295017,-0.053752244,-0.90024745,-0.2978579,-1.470384,0.18523371,-0.21715026,-1.1535994,-0.78715163,-1.1585834,-1.0149461,-0.2630644,-1.356491,-0.9951655,-1.0062658,-0.026253626,-0.7313457,-0.17169544,0.3267276,-0.9945719,0.31295618,-1.2170281,-0.25548348,-0.7150724,0.26388302,0.23635702,-0.9184321,-0.046542622,0.005755588,0.03693666,-1.2653137,-0.97505796,-0.7976325,-0.90915024,-0.2254661,-0.3212293,-0.041506622,-0.3839511,-1.3496777,-0.55007213,-0.70877296,-0.4648309,-0.60116404,-0.6723795,-0.34137365,-1.5720847,-0.88694483,-0.13538945,-0.2450255,0.092707254,-0.28473964,-0.24407263,-1.7083368,-0.792001,-0.4116263,-0.6871757,-1.2834207,-0.2555189,-1.6402913,-0.20471972,-0.30438966,-0.30638486,-0.45818353,-1.0819855,-1.3604637,-0.24488358,-0.088816166,-1.0090797,-1.2656219,-0.92624474,-0.74100816,-0.71995366,-1.9476395,-1.2119504,-0.90418214,-1.4575555,-0.7184512,-0.6279853,-1.1168936,-0.071586445,-0.008832967,-0.014902771,-1.0008731,-0.0819683,-0.94658065,-0.035311837,-0.92818016,-1.442712,-0.060360145,-0.77629447,-0.02041268,0.3077438,0.11233869,-0.7882251,-1.2384616,-1.8289524,-0.6285623,-1.3578129,-0.03722144,-0.3028287,-0.7885759,-0.9547079,-0.29222426,-0.3365627,-1.4493693,-1.3265915,-0.26634213,-0.09380193,-1.1515015,-0.11391002,-0.5796203,-1.0969869,0.27639428,-0.9120778,-1.2775327,0.08262071,-1.584931,-1.2139617,-0.010977401,-0.26983392,-0.316708,-1.1008857,-0.6255304,-0.79117686,0.0012220595,-0.42671388,-0.2136839,-1.2867463,0.15949777,-0.3625498,-0.21611406,-0.43740416,0.17658824,-0.5171791,-0.88317,-0.19974716,-0.052513666,0.20208487,-0.5631164,0.05969237,-0.3785352,-1.3617512,0.31757474,-1.2993007,0.2758543,-0.25711066,-0.2363498,-0.23538269,-0.23698269,-0.31744367,-1.0061195,0.045698587,-1.1687566,-1.4316477,-0.15276006,-1.248932,-0.4081319,-1.6364667,-0.8411023,-0.9396582,-1.6349063,-1.1505724,-0.8474954,-0.14558196,-0.45865956,-0.36161768,-0.31647032,-0.32107398,0.031781383,-0.92046756,-0.8902701,0.049954332,-0.88958025,-1.5283607,-1.3059955,-0.34865654,-0.37531704,-1.311469,-1.19271,-0.35412097,-0.4930407,-1.0587254,-0.33661124,-1.1818888,-0.26520512,-0.4580992,-0.78712624,-1.693695,-0.19183841,-1.6136694,-0.4580488,-0.40235183,-1.5834614,-0.29572544,-0.33930036,-1.4011326,-0.10807669,-0.34944984,-0.69029737,-1.0141011,-0.2645813,-0.15801844,-0.73643005,-0.49848115,0.036063015,-1.4768246,-0.49088255,-0.254329,0.16949613,-1.1540232,0.10837491,-0.96055096,-1.0067533,-0.09727171,-1.0886424,0.031470835,-0.85725236,0.28596005,-0.4474079,-0.18787521,-0.9579048,-0.8186664,-1.104329,-0.16976954,-1.221814,-0.6415273,-1.5882802,-1.2486532,-0.16880818,-0.05452193,-0.13293163,-1.1714226,-0.2633458,-1.5054536,-0.015676273,-0.8753059,-0.013950891,-0.4364099,-0.3736004,-0.6164559,-0.93873364,0.0141626615,0.15767378,-1.1041253,-1.6361462,-0.44669476,0.32302725,-0.5426841,-1.6859916,-0.8810163,-0.86513656,-0.99254525,-0.09663645,-0.40306395,-0.7283963,0.14512041,-1.0464293,-0.1423725,-0.540465,-0.038975812,-1.3030231,-0.57508665,-1.0101877,-0.13275182,-0.6413663,0.22679992,-0.051099796,-1.6697466,-0.84456044,-1.5327531,-0.28484517,-0.14001416,-0.02291184,-1.1064204,-1.2510351,-0.3429049,-0.27954635,-1.3219943,-0.3010352,-1.4232572,-1.1426606,-0.23970424,-0.2517101,-1.032056,-1.6014653,-0.21020989,-0.2521937,-0.6003966,-0.30981797,-0.08352416,-0.23692007,-0.07943138,-1.0139493,-0.35228595,-0.26110357,-1.6598603,-0.87910473,-1.2857934,-0.25406453,-0.47681716,-0.66185045,-0.18980081,-1.7331381,0.12813112,-0.4348036,-0.27140158,-1.2724789,-0.81828773,-0.8252213,-0.39206755,-0.25789204,-0.809666,-0.79125404,-0.8987264,-0.9454288],\"xaxis\":\"x\",\"y\":[2.8257475,3.7946022,4.241142,2.7809095,3.5521522,3.169901,2.614804,3.811965,3.258124,3.0059903,2.8272746,2.6915684,3.6672661,4.801956,3.6215208,3.2860732,2.8378835,3.1507099,2.3327625,3.2474205,4.046322,3.632335,3.3330278,3.0882707,3.1838775,3.4102774,3.9581966,3.3706222,4.568393,2.8119857,2.826806,2.674679,2.4379497,2.8799152,3.5691245,4.1370564,4.441548,3.3553526,4.073118,3.9640357,2.8777583,4.423049,2.5708835,2.6063786,3.2965631,2.3703165,2.7550662,3.8209832,2.9752576,4.212595,2.636288,3.7017808,3.6063602,3.6896858,3.5899775,2.512077,3.813749,4.3287706,2.6846094,3.1194515,4.253549,3.078921,3.5283306,3.6131032,3.7887485,3.3033738,3.4561138,3.8946354,3.4018393,2.7880795,2.6809728,3.5203211,4.3918967,2.264924,2.8036337,3.9088326,3.898897,3.6951115,3.5688696,4.009295,2.608188,3.7663984,2.682839,3.2194955,3.5170972,3.9657454,4.644584,3.190156,2.7868412,3.650485,3.2812994,3.9958627,4.087449,2.271328,4.4082193,2.8754983,3.2185328,3.04505,3.5239785,3.4811628,2.8602083,2.986578,4.752899,3.1999888,2.987805,3.7299275,2.5209458,3.8790565,3.732678,3.834228,3.8652928,2.8548229,3.1531744,2.2495959,3.8282495,3.5656724,2.669291,2.8065605,3.0245526,2.7493157,3.1778157,2.6567748,3.2237363,3.7719467,2.8047216,3.4003382,2.959237,3.9673803,2.922395,3.5288596,4.2905555,3.412614,2.9979432,3.71599,2.5521169,2.1492133,4.1442857,3.6642911,2.7782989,2.2158225,3.1374464,3.5016952,3.595758,2.3565936,3.5320432,2.9130802,2.7576778,3.0963013,3.1775818,2.5985348,2.7341545,4.150181,2.2478456,3.930576,2.5738182,3.632433,2.8883007,4.0614457,3.5117493,3.1736658,2.7523415,3.4521763,4.201974,4.330335,3.9991906,3.9555542,2.7326567,3.1395526,2.4673493,3.9840693,2.6497602,3.5965497,2.7901146,2.6854503,4.44264,2.6832929,3.5282977,3.5114405,2.9393911,2.658215,2.7468698,3.777594,2.8200643,2.7592976,2.6926744,3.2330997,2.9218266,4.3632903,3.6248155,2.534623,3.586675,2.8082068,3.0161178,4.056869,3.3542113,4.2750835,2.9541702,2.9618266,2.9973443,3.1973343,3.5233707,3.6592677,2.390031,3.364928,2.948498,2.2091355,2.1800807,2.8112373,3.8102636,3.4924738,3.3071756,3.9422224,2.192896,4.7375436,3.4078832,2.3732457,2.4547255,2.7750008,3.6510599,4.109472,2.579996,2.9465182,2.9111362,4.096968,3.5158467,3.6471586,4.060578,4.959061,2.4815874,3.5949807,3.5062547,2.6017761,4.022568,3.9919086,3.037733,2.4143605,3.0263321,3.663196,2.9443314,3.0427113,3.0107274,3.5893638,4.1134515,2.8107758,3.5244582,2.6330092,2.6991432,2.8763685,4.435193,3.4685397,4.558952,2.9543674,4.2949057,2.663125,2.6241577,4.063829,4.4952383,3.3507833,3.6018846,3.4328027,4.039636,3.777617,2.8651423,3.538753,2.7576253,3.9761126,4.0469756,2.8314428,3.0250568,3.9562075,2.981231,2.7419019,5.0130877,2.8735273,2.948589,3.542841,2.5311842,2.7670925,2.584807,2.5002706,3.0538573,3.5149891,4.1781354,2.921437,2.9499757,2.494601,3.4629514,2.9783614,2.957338,3.4489882,2.3758,3.1731162,2.911394,2.6701434,2.7310746,2.8596053,4.7099915,2.662134,4.1173673,2.6624453,2.953458,3.790031,2.9183109,2.185978,2.2156978,4.276205,2.6619384,4.7062154,4.083629,2.2660787,4.1748023,2.688071,3.5175436,3.8398578,2.9482443,3.7054698,3.9107652,3.1215315,2.7337692,2.716047,3.0669246,3.6370034,3.6273272,2.543173,2.6339371,3.6782007,2.9758573,3.172497,3.5940897,4.575205,3.7013083,2.85757,2.8970802,4.829912,3.236466,3.2716146,4.6555843,3.6391745,3.1209621,3.7241871,3.08801,3.684005,2.7358804,2.8759847,4.3718605,3.168214,3.505304,3.6059499,2.2113929,2.1956468,3.0268838,2.4662185,3.4648633,2.6756127,4.624375,3.5213096,3.3899183,4.2845373,3.749072,2.8232474,3.564854,3.2892864,3.4294214,2.631268,3.0894115,2.767166,3.887825,3.836612,2.8714244,3.1974869,2.6161263,2.4672298,2.6546037,3.8001988,3.4442616,3.946853,4.283457,3.646244,3.411122,3.6405373,3.0767994,3.669281,3.8364494,3.2035556,2.914225,3.2512016,2.3827171,2.335047,3.8150637,2.7339036,4.089972,3.2018857,3.522699,2.8696547,3.3212907,3.2438369,2.5353713,2.883332,4.3743014,3.25574,3.593766,2.6712139,4.0710425,2.3941247,3.9736023,4.4007435,3.5024946,2.7705173,3.5771658,4.3002987,2.7345846,4.260936,2.5365274,3.3881834,2.9272346,2.8147452,3.06923,3.337191,3.0432472,3.4840605,2.66347,2.6526046,3.3543484,3.571823,3.1662788,2.1371384,2.8728054,2.634712,3.7190087,3.9109826,2.777437,2.7951326,3.979065,3.0309417,2.7267559,3.893084,3.0231605,2.6450915,2.918609,3.4312747,2.5276253,2.8599627,3.9985175,3.5514882,3.217291,2.2993622,3.3599923,3.1504323,3.6302755,3.6699216,3.4636939,3.7178934,3.6984313,2.1986628,3.2824001,4.136642,2.237024,2.8355298,2.7290053,2.2739007,2.8901136,3.1157894,3.7363496,4.2691107,2.9481132,2.2515938,4.2881036,4.299225,3.8478503,3.7518148],\"yaxis\":\"y\",\"type\":\"scattergl\"},{\"hovertemplate\":\"leiden=5\\u003cbr\\u003eUMAP-1=%{x}\\u003cbr\\u003eUMAP-2=%{y}\\u003cextra\\u003e\\u003c\\u002fextra\\u003e\",\"legendgroup\":\"5\",\"marker\":{\"color\":\"#222A2A\",\"symbol\":\"circle\",\"opacity\":1,\"size\":1.6495901099826225},\"mode\":\"markers\",\"name\":\"5\",\"showlegend\":true,\"x\":[7.342532,8.0378065,8.210139,7.2340302,8.013625,7.696234,7.821766,7.2788224,7.3313828,8.206054,7.024235,9.59216,8.027666,8.249467,6.9799256,7.898888,6.9722443,6.8355002,7.0710645,8.21332,7.8548226,7.6973524,7.870749,7.7348843,7.9577928,8.111421,8.001844,8.257359,7.667056,7.829555,7.2816405,7.1353507,7.9311123,7.4143057,7.2503433,7.918787,7.585297,7.001239,9.5613,9.548847,7.790383,7.119433,7.0040355,8.246324,9.609007,8.313196,9.661342,6.8663898,7.038278,8.282205,7.164043,6.9696517,7.9151144,8.23299,7.7284093,8.28889,7.7093296,8.146287,8.289749,7.569233,9.580004,7.3582053,8.230053,7.2379103,8.252802,7.25268,7.872019,9.542445,7.9344554,6.986212,8.360868,7.1004376,7.7732143,7.218523,7.766486,8.372185,7.3779297,7.5914555,9.54659,8.280408,8.124357,7.8098154,7.4205027,7.338449,8.127078,7.0737185,7.897615,7.624836,9.5158205,8.267037,9.557593,8.274038,8.218838,-1.6465902,7.7472363,7.0172915,7.763696,8.311657,8.015795,7.2156115,7.304856,6.9523997,8.242218,8.045023,8.247663,7.7859693,7.2783136,9.1736,8.2657175,8.284976,7.8373594,8.317592,7.0825067,7.440582,9.522632,6.995712,8.31709,7.116386,9.532718,7.920064,7.067524,7.104316,9.5931425,7.801776,8.213728,9.546466,7.3145323,7.898149,7.3377357,7.0717034,8.241326,8.272131,7.8464785,9.475622,8.117789,7.0308647,8.185873,8.113123,8.313111,7.207999,8.281634,7.872318,7.778146,7.780336,8.008008,6.9548516,9.527629,7.9073157,8.115292,8.084973,8.166564,7.846229,7.220825,7.216673,7.272986,7.7257133,7.3350883,7.77802,9.553593,6.991463,7.9979835,9.573908,7.3719487,8.169468,6.950336,7.1160398,9.514644,13.716356,8.358973,7.9178243,8.319478,7.9275045,8.212262,8.330295,9.504858,7.9147453,7.2971325,7.6365767,7.2148333,6.966919,7.7844334,6.9394364,7.2189393,6.89464,8.05229,8.285226,7.688512,7.7744775,7.658865,8.07423,7.025237,7.7479296,7.7587285,7.6040616,8.247343,8.217454,7.464046,8.332713,7.7648983,7.6595,7.966304,7.1730127,9.575235,8.325404,7.803442,7.339794,7.3844447,7.062615,7.702557,7.5051856,7.57663,7.66199,7.0689273,7.1043105,8.067145,9.566558,7.94822,9.547337,7.385912,7.4564133,7.9152737,8.31862,7.8319798,7.746683,7.394921,7.664069,7.074181,7.811041,8.074825,8.35013,7.814834,7.3138366,7.3029656,7.8003864,7.174854,7.8660607,8.2846155,6.9561725,8.013913,7.700596,7.869033,6.8789306,8.260898,7.9173017,7.8465796,7.760419,7.9384913,7.450444,8.250617,7.573677,7.989538,7.7665367,7.274451,7.871642,7.3726215,7.9198995,6.928082,7.877497,7.2115693,7.3183217,8.120904,8.328495,8.216543,8.028181,7.83043,7.2213016,8.21394,8.257292,8.132484,7.041169,7.9821744,6.9449325,8.238511,-4.933762,9.641357,8.406602,8.201356,7.828056,9.534629,8.433174,7.2198963,8.307683,7.692864,8.005685,8.235661,7.982431,7.5580306,7.3585067,7.993259,7.958457,7.218561,7.0734606,8.320218,8.338528,7.952408,7.306096,7.74986,7.4097376,8.31896,7.3664975,7.399177,9.509217,9.598581,8.071042,7.6129913,8.328367,9.57008,7.7229657,8.380587,8.161085,8.299272,7.3475957,7.7652254,9.505964,7.8950877,8.191733,7.763498,7.81503,7.0455136,8.287654,7.968464,7.879639,8.299707,7.802803,8.155953,7.314825,7.119076,7.2108207,7.335996,7.812962,8.19951,7.3163743,7.140865,8.263763,7.3276515,7.253973,7.8411555,8.179193,7.936258,8.276662,8.399033,7.847671,7.5455623,8.30671,8.03941,8.254203,8.355055,6.995468,6.954492,8.342156,7.488997,7.9760327],\"xaxis\":\"x\",\"y\":[7.0129986,7.136914,6.6284795,6.673029,6.7611694,6.397242,6.9750395,7.067733,7.352599,6.5996923,6.5630846,8.359533,7.322163,7.761851,6.4792795,6.5115123,7.2820706,7.2275615,6.5580344,6.570111,7.4031005,6.9527273,7.3276234,6.7772255,6.9947133,6.6220374,7.1348343,6.6124887,6.7883005,6.478582,6.797312,6.572411,6.3943577,6.7173615,6.9848113,6.5144315,6.9787135,7.2278333,8.339552,8.331801,6.8233037,6.5386114,6.493331,6.68459,8.350054,6.748506,8.426642,7.2434187,6.5474963,6.6257486,7.039175,7.318834,6.449085,6.5587153,7.149363,6.9649363,6.9969015,6.582066,7.7927175,6.6672125,8.356455,6.710012,7.950447,6.904052,7.756658,6.7864795,7.3985424,8.332883,7.4784307,7.2774935,7.0058503,6.5606565,6.541735,6.839433,7.2334166,6.839285,7.1552615,6.8375115,8.3335285,6.9311686,6.658126,6.506385,6.8065224,6.94123,7.042561,6.567235,6.9367394,7.332786,8.311193,7.698109,8.344055,7.81797,7.422618,11.2266655,6.886445,6.5189767,6.855297,7.603966,7.5967155,6.825631,6.9617057,7.270195,7.8501782,6.9446144,7.7433186,6.908072,6.959423,8.12793,7.6667385,6.6104474,6.3238454,7.556294,7.221503,6.727966,8.314805,6.437679,6.74215,6.551668,8.324663,7.1366863,6.5911374,6.608132,8.357252,7.0227456,6.5669885,8.334614,6.875682,6.768659,7.049731,6.7919884,7.76236,7.8243895,7.1251626,8.318676,6.6679163,6.503057,6.582855,6.6039405,6.634595,6.650475,7.7812047,6.5888987,7.1418986,7.130439,7.580277,7.2898965,8.323138,6.2483983,6.6581025,7.080255,6.7388625,6.788378,6.642238,6.7320776,6.9638863,7.0247855,6.947385,7.1424637,8.343882,6.501826,6.3812637,8.3513775,7.1135015,7.282486,7.2929206,6.57991,8.317334,13.115344,7.346988,6.540779,7.088744,6.9863415,6.533049,6.874058,8.300787,6.995408,6.915283,6.4628434,7.0789886,7.3092,6.421135,7.3114605,6.988367,7.2528157,6.5382495,7.6513968,6.393961,7.2321477,6.9568453,6.568464,7.1645093,6.82852,7.126213,6.6195,6.67401,7.5477667,6.808807,6.7570634,6.544361,6.7634764,7.2419195,6.6729207,8.353558,6.757289,6.3609014,7.3633356,6.5323067,6.6595,6.9293275,6.6961255,7.1323366,7.2639456,6.633094,6.846177,6.448466,8.348937,6.6828337,8.333351,7.0777664,7.1473117,7.025027,6.666304,6.4403057,6.2709384,7.336745,6.9171476,7.305414,6.3318386,6.9932747,6.756676,6.5124035,7.059798,7.127878,7.412883,6.651621,7.0262403,7.6619954,7.3020096,6.51152,6.6786256,6.2872715,7.252359,7.7215495,6.520646,6.5644684,6.5415263,7.15572,6.7706537,7.6226177,6.9534273,7.3220882,6.34997,6.6508965,6.5728745,6.7528377,6.3470316,7.2971416,6.545807,6.3760195,6.8781724,6.4536996,6.7857833,7.5982814,6.567464,6.527168,6.657536,7.254558,7.194016,6.83191,6.5094256,8.944284,6.3775353,6.571407,10.685963,8.411791,7.0484767,7.131928,6.2900143,8.325578,7.029987,6.772292,6.579611,7.3346395,7.365041,7.618153,6.626841,6.693818,6.436578,7.5865912,6.3299246,6.6746707,6.5675592,6.6945906,7.034554,9.210723,6.9443426,7.073674,6.6817064,6.6032085,7.2927766,6.55607,8.305818,8.3534155,6.562734,6.3953137,6.8213015,8.343112,6.4853325,6.646805,7.516908,6.624136,6.6673975,6.54073,8.311447,6.750784,7.4042783,7.290532,7.1016307,6.534261,7.80257,9.002429,6.596148,7.55747,6.9750113,7.5147557,7.3713913,7.1789436,6.6157846,6.6531625,6.539613,6.8551497,6.6917596,6.6921387,7.8497005,7.3612204,6.656466,6.9365215,7.292522,6.59334,6.739217,7.1188803,6.895536,6.834492,7.526982,7.2878127,7.846224,6.8110876,6.528822,7.30609,6.83838,6.9615865,6.590915],\"yaxis\":\"y\",\"type\":\"scattergl\"},{\"hovertemplate\":\"leiden=6\\u003cbr\\u003eUMAP-1=%{x}\\u003cbr\\u003eUMAP-2=%{y}\\u003cextra\\u003e\\u003c\\u002fextra\\u003e\",\"legendgroup\":\"6\",\"marker\":{\"color\":\"#B68100\",\"symbol\":\"circle\",\"opacity\":1,\"size\":1.6495901099826225},\"mode\":\"markers\",\"name\":\"6\",\"showlegend\":true,\"x\":[-1.7545177,-2.160983,-2.9619915,-1.555649,-2.1955009,-1.3348424,-2.3341012,-1.3587022,-2.8100457,-2.1149719,-1.6340767,-2.873475,-1.9452114,-2.5289764,-2.824448,-2.1574452,-2.2271461,-1.6072214,-1.7762742,-2.6448402,-2.9569654,-2.4206433,-2.173486,-1.5766491,-1.7249984,-2.376274,-3.1569858,-2.8056705,-2.07306,-1.6646135,-2.4848773,-2.8314388,-1.7691449,-2.3232846,-2.6783276,-2.417181,-1.5078808,-1.6088616,-1.3584373,-2.6750205,-1.6567951,-1.5794308,-1.6836939,-1.4244754,-1.65373,-1.758222,-1.9188131,-2.3724873,-1.9086345,-1.4154123,-1.8226374,-3.0175688,-1.6109546,-2.260672,-2.4509873,-2.0676265,-2.911405,-1.5489556,-2.630849,-1.7425036,-2.8250892,-2.1118522,-1.4571996,-2.1561852,-2.408666,-1.8240936,-2.8140373,-1.1958052,-1.7309763,-1.7217693,-2.8921647,-1.6446948,-1.9765273,-1.6330048,-1.606435,-2.1653094,-1.9882115,-2.1524467,-3.2138884,-2.8904424,-1.7013024,-1.4670231,-2.649504,-1.9531982,-2.0665772,-1.5561473,-2.2619083,-2.0070617,-1.9330211,-1.4808027,-1.8973359,-2.5279055,-2.0833132,-1.3835615,-2.4854152,-2.243802,-1.4447606,-1.5308887,-1.5870223,-2.6248991,-2.1699808,-1.6925596,-1.3393711,-1.636985,-1.6208929,-1.3069147,-2.0860116,-2.7549956,-1.5406365,-2.3670747,-2.4293563,-2.428681,-1.5316687,-2.0563493,-2.4703405,-2.2776017,-2.2463505,-2.3200727,-2.0474482,-1.2221328,-1.7222173,-1.9352121,-2.1972792,-2.127778,-2.6913724,-1.4330934,-2.311151,-1.8941244,-2.518087,-1.9514443,-2.1227973,-1.5582807,-2.0771892,-2.2729049,-2.0686724,-1.8036005,-2.948319,-2.0824773,-1.9472269,-3.2163947,-1.5313506,-1.5995232,-3.0445912,-3.245884,-2.7181015,-1.6213238,-2.4550822,-2.4212606,-3.0842564,-2.7241864,-2.1778235,-2.4259176,-2.367477,-1.4793998,-2.2957618,-2.4055843,-1.9001516,-2.8305602,-2.6691382,-2.7086341,-2.340267,-1.3763194,-2.1733813,-2.8188214,-1.4042381,-2.2643535,-1.7244651,-2.1191049,-1.9033607,-1.5980912,-1.9456693,-1.6051164,-1.9325987,-2.2415314,-3.2252324,-1.9408563,-1.333426,-2.1823566,-1.3544793,-2.1541584,-2.742714,-2.447342,-2.4438012,-1.287312,-2.1899974,-1.3803133,-2.8069785,-1.7122512,-1.250644,-1.8326075,-2.0652394,-1.784128,-1.2175568,-1.2962791,-1.6337903,-2.6007228,-1.6245503,-2.8928545,-2.5007153,-1.5439025,-2.046147,-2.130584,-2.4583979,-2.5636265,-2.9851007,-2.171492,-2.2029593,-1.9720712,-2.3661206,-2.1320136,-2.4677422,-2.5224323,-2.8772278,-2.4961078,-2.2112699,-2.1661005,-2.041868,-2.4999795,-2.4859605,-2.2739546,-1.7846545,-1.9762155,-2.0416381,-2.6302392,-2.6804044,-2.1848383,-2.4024918,-2.217155,-1.3424003,-1.8747213,-2.0781865,-1.6160338,-2.1415277,-1.7283386,-1.3262478,-1.7807237,-2.794701,-3.1471672,-1.8308681,-1.7403742,-1.8084679,-2.1902084,-1.5440366,-2.382053,-1.6215733,-1.6446438,-1.6063647,-1.6290686,-3.0797718,-2.3300076,-2.14473,-2.9216635,-1.2635678,-2.5799918,-2.6873772,-3.1084542,-2.3445773,-1.7685527,-2.171167,-2.2614384,-2.4660094,-3.234965,-2.1908925,-2.629763,-2.034419,-1.9692959,-2.2643352,-2.043418,-2.4239225,-2.2636173,-1.684872,-2.6271408,-1.9430425,-2.4798224,-2.8890152,-2.6663506,-2.7992926,-3.0535927,-3.1274076,-2.368284,-2.124134,-1.8367591,-2.6276407,-2.2349906,-2.0432522,-1.4016508,-2.718262,-2.573067,-1.356404,-2.7086768,-1.664597,-1.7771132,-2.457344,-1.73527,-1.8644658,-3.227967,-1.3541692,-1.7353098,-2.2768238,-1.7881352,-3.175324,-2.2508953,-1.7945421,-1.7063912,-1.9668034],\"xaxis\":\"x\",\"y\":[8.650936,9.62988,10.941462,9.89217,9.919668,10.181227,9.224117,10.201533,11.291201,10.506485,9.797129,11.203007,10.142082,10.982684,11.183846,10.8577,8.926422,9.809378,11.711038,10.6460285,11.36217,11.37539,9.967059,10.125195,11.3290205,9.58521,10.9961,11.013667,9.767638,9.875412,9.176556,11.822517,9.9512205,10.032566,10.012603,9.4730015,9.08467,8.228602,10.144186,11.1460495,9.55331,10.015921,8.4621,7.771219,8.984601,9.989608,11.776046,9.911121,11.895121,10.1256075,8.608251,11.1565895,8.749657,10.790741,9.536791,9.744137,11.013973,9.868342,11.096125,8.720365,10.453114,9.5567665,9.854921,11.232888,11.180607,12.080989,11.705166,9.858725,8.933956,8.658064,11.62861,9.963257,10.103226,10.016158,8.332704,10.573893,10.400358,10.433973,11.914448,10.284043,8.621842,8.581855,11.108911,11.38932,11.843905,8.4588585,9.63451,9.514796,11.824556,9.98326,11.874725,10.151328,10.091407,10.200158,9.86634,9.427767,10.077882,9.943315,9.890273,10.764983,9.773527,8.521688,10.144899,11.082838,8.914148,10.196993,10.422793,10.892512,10.171212,11.030379,11.898713,10.922424,9.961074,11.495019,11.419877,9.809316,9.840246,9.318393,10.10208,9.856306,8.936396,11.448487,10.6265,8.884458,11.204657,10.133281,9.734908,11.427277,11.992046,11.817636,11.234513,9.944953,10.235849,9.489703,10.092614,11.723936,11.399933,11.271787,9.227976,10.715229,10.159135,8.039346,11.042379,11.139138,10.5813265,9.051696,11.809516,9.424444,10.758795,11.179254,9.550035,9.225541,9.784568,9.923957,10.713754,11.350342,9.516923,11.059059,11.747547,10.806872,11.531934,10.145659,10.167522,10.698552,10.094757,9.211138,9.052641,11.04845,11.855711,11.0019865,11.20822,9.821562,11.694841,12.239046,11.572241,11.510007,10.260919,9.523536,10.065131,11.641752,10.173793,9.831168,9.967251,10.130639,9.149304,9.828689,11.623839,11.135672,10.121618,9.259379,10.351139,9.129469,9.890414,10.198325,8.954633,9.880772,9.934354,11.244438,11.497554,9.923649,11.275303,11.519145,9.932791,11.030417,10.793529,9.676094,11.3786955,9.245191,9.746135,10.957491,9.962358,9.920975,11.257328,11.793474,10.671409,12.215951,10.272497,11.904261,10.076756,10.910671,8.659359,9.721404,10.379652,11.730804,11.309593,9.697462,9.36533,11.578227,10.051569,10.099737,8.689586,9.574381,10.266241,9.399982,10.132578,9.980823,11.009925,10.936034,8.507404,8.658924,8.999268,10.9675,9.9236,9.886693,8.488807,8.367759,10.203911,9.867111,10.670256,11.65766,10.975854,10.473657,7.7773795,11.747952,11.180078,11.371163,10.002439,9.793556,11.442997,10.768285,10.1950445,11.417475,10.04015,9.286362,11.84046,11.807676,10.232119,9.2800665,9.841207,10.848532,8.005578,11.011681,9.461591,10.999201,11.229253,10.174552,11.275917,11.3026,11.13869,12.022731,11.355932,8.391739,10.723342,9.640494,9.170589,10.023614,11.62355,11.95583,10.197925,10.625082,7.900971,10.373142,12.028491,8.371973,9.656822,11.723162,10.151054,8.7518425,10.111159,10.028611,10.685565,9.68158,9.213432,9.155721,9.536613],\"yaxis\":\"y\",\"type\":\"scattergl\"},{\"hovertemplate\":\"leiden=7\\u003cbr\\u003eUMAP-1=%{x}\\u003cbr\\u003eUMAP-2=%{y}\\u003cextra\\u003e\\u003c\\u002fextra\\u003e\",\"legendgroup\":\"7\",\"marker\":{\"color\":\"#750D86\",\"symbol\":\"circle\",\"opacity\":1,\"size\":1.6495901099826225},\"mode\":\"markers\",\"name\":\"7\",\"showlegend\":true,\"x\":[-2.301493,-1.939772,-2.3436625,-2.3530161,-3.260227,-2.8305662,-2.4140706,-1.4799758,-1.5151198,-8.115441,-1.856986,-2.627598,-2.28189,-1.8359022,-2.0839803,-1.7945387,-2.9639175,-1.48743,-1.7230908,-3.1424,-2.5515912,-3.1645856,-3.2342,-1.8489536,-2.3949285,-2.5587616,-1.6283696,-2.1408575,-3.031182,-2.2822735,-1.919524,-1.5101447,-1.8792555,-1.6141346,-1.592934,-8.118838,-1.491521,-2.4169517,-1.6099746,-2.6260765,-3.0254288,-2.358426,-1.786958,-1.5388634,-2.6765683,-2.2593703,-2.6340585,-1.555528,-2.1052465,-3.6231527,-1.7623845,-2.7083602,-2.0636148,-2.7243726,-2.3043263,-2.5684059,-2.6577067,-2.4409509,-2.2121904,-2.3619506,-2.4997046,-1.6204658,-1.9393134,-1.7842666,-1.5267869,-1.8589718,-2.909907,-2.6331563,-1.7680402,-1.5055667,-2.2730985,-2.8900056,-1.7249218,-3.4091818,-1.7707326,-1.7487663,-2.8508148,-2.3703053,-1.6902314,-2.0265462,-1.5502429,-2.6856265,-1.5273858,-2.3389094,-1.8466614,-2.7021081,-2.3228106,-1.4868069,-2.2325227,-3.0271122,-1.8006378,-2.75428,-3.4537954,-1.5642262,-2.0184011,-2.3992195,-2.245093,-2.818156,-3.0138826,-1.6060083,-1.4918145,-2.6385674,-2.22137,-3.0214648,-2.7254958,-2.1373546,-1.7861972,-1.7943133,-2.5553427,-2.368993,-2.5781124,-1.628042,-1.6434983,-2.2544136,-1.8489097,-2.8929403,-1.7791005,-2.6137638,-2.1002061,-2.1813562,-2.2096465,-2.6127672,-1.8011931,-2.234426,-1.7115244,-2.6397207,-1.5064238,-2.1089797,-1.8331087,-2.6218677,-1.782939,-3.050869,-2.3615615,-2.3026586,-2.734502,-2.8940353,-1.701481,-1.7762711,-1.8566602,-2.626047,-2.7602284,-2.6430097,-1.6920028,-2.4096956,-1.7229567,-2.5786784,-1.4966124,-1.8059281,-3.4814603,-1.8599126,-2.517159,-2.2266316,-2.9909663,-2.3601847,-1.7658664,-1.9562612,-2.252008,-2.6656945,-2.2338533,-2.8219326,-2.728867,-2.3639364,-2.7700357,-1.7519445,-2.3132198,-1.4792235,-2.8162966,-1.5144058,-2.5729568,-2.2352705,-2.8526232,-2.75777,-2.7374907,-1.7905748,-1.8125213,-1.5065334,-2.607597,-3.069545,-1.8998291,-1.501823,-2.4114316,-2.8790064,-2.343877,-1.6111648,-1.7687504,-2.883657,-2.2374513,-2.135014,-2.3002543,-8.064066,-2.6631856,-3.276922,-3.070646,-1.6382134,-2.3644705,-2.35207,-3.2474194,-3.7015617,-1.8871211,-1.69027,-2.3558996,-2.667382,-2.8245807,-2.2301996,-1.502101,-1.9855728,-2.359167,-3.0954432,-3.383929,-1.7453485,-2.2593427,-2.251746,-2.6021037,-2.3449674,-1.7447711,-2.935872,-1.8842324,-2.703994,-1.730083,-1.6944904,-2.2277985,-2.253934,-2.6344626,-2.7342339,-2.3929703,-1.9399489,-3.292601,-1.5317342,-2.4679675,-2.6167033],\"xaxis\":\"x\",\"y\":[14.019473,12.887361,13.965181,14.028643,12.6844,13.128032,13.149791,13.070673,13.007295,9.751642,13.781435,13.806635,13.341478,13.3913145,13.605122,12.66151,12.243725,13.048586,13.733713,12.8960085,14.090282,12.5416155,12.688572,12.2715025,13.908811,13.278001,13.374707,13.893454,13.073409,12.679659,12.733538,13.057041,13.819919,13.344868,13.349581,9.757985,13.072854,12.054656,13.264853,12.296663,13.139576,14.040808,13.77985,13.106598,12.606035,13.939901,12.79595,13.1960535,13.812654,12.393442,12.685199,12.6479225,13.621101,12.154913,13.008881,13.829408,13.785524,13.361449,12.9227,13.38417,13.862378,13.005828,13.6969385,13.49542,13.136794,13.018459,12.505694,13.820492,13.476035,13.108924,14.006661,12.543917,13.726631,12.60339,11.708856,13.349488,12.849556,13.984049,13.716264,13.591763,13.14832,12.596766,13.02521,13.993038,12.711842,12.424145,12.59848,13.247322,13.918569,12.80507,12.228482,12.7996,12.221723,13.179846,12.871019,13.526489,13.874043,13.247402,12.976116,12.758428,13.080906,13.662485,13.930593,12.835286,13.3445215,12.909654,13.421934,12.59577,14.0628805,14.012582,12.23735,12.78105,13.097026,13.908324,13.706038,12.904899,13.440712,12.656087,13.632292,13.714389,13.681072,12.670272,12.399494,13.921677,12.470391,12.688865,13.08328,13.234383,12.677756,12.704702,13.479274,13.058584,13.887088,13.983041,12.693436,12.739767,13.68976,12.276028,12.641369,13.738434,13.260217,12.213559,13.756592,13.966299,13.731136,13.315723,13.116127,13.090174,12.693285,12.629466,12.730532,13.935683,13.121327,14.049623,12.15204,13.592628,12.959588,13.790049,13.467874,13.197387,12.565775,12.42365,13.292868,13.2702875,13.526921,13.05395,12.52692,13.214773,12.71098,13.922291,13.304008,12.666465,12.689062,13.446918,13.47116,12.991432,12.319898,12.779865,12.768269,13.063417,14.048313,12.984788,14.012346,13.293397,13.231036,12.624841,13.067,13.32198,13.974428,9.78167,12.72319,12.529513,12.364029,13.334659,14.01899,14.014169,12.689078,12.705883,12.783582,13.300185,13.988819,12.6739645,13.115606,13.931777,13.098238,13.8239565,14.017444,12.795641,12.739756,12.985171,12.93266,13.966126,12.597078,14.029461,12.479102,12.801485,13.789941,12.493768,13.74855,13.320501,13.710077,13.867158,12.230865,12.484428,13.968952,13.572768,12.651369,13.122492,12.620558,14.04465],\"yaxis\":\"y\",\"type\":\"scattergl\"},{\"hovertemplate\":\"leiden=8\\u003cbr\\u003eUMAP-1=%{x}\\u003cbr\\u003eUMAP-2=%{y}\\u003cextra\\u003e\\u003c\\u002fextra\\u003e\",\"legendgroup\":\"8\",\"marker\":{\"color\":\"#EB663B\",\"symbol\":\"circle\",\"opacity\":1,\"size\":1.6495901099826225},\"mode\":\"markers\",\"name\":\"8\",\"showlegend\":true,\"x\":[10.5286255,11.062887,10.502388,11.166777,10.733184,10.73037,11.095548,10.844529,11.113518,10.997633,10.769882,10.5760565,11.042225,11.157228,10.748127,10.582751,10.786969,10.983844,10.587863,10.734928,11.013039,10.704293,11.108851,11.030068,10.966097,10.841143,10.764772,10.994829,10.979292,11.017771,10.973844,11.144798,10.531538,10.754373,11.014146,10.078109,10.097933,10.885014,10.514116,10.970879,11.107736,11.075897,10.502716,10.646454,11.027556,10.538605,10.898957,10.994821,11.068818,10.974558,11.134279,11.17689,10.699116,10.91868,11.098508,10.550955,11.018982,10.5958395,10.5828085,11.073131,11.143052,11.12081,10.800499,10.777364,10.538993,10.880644,10.086768,10.993679,11.138393,10.149734,10.756871,10.625972,11.056221,10.77211,11.130688,11.0059,10.992653,10.209926,11.001633,10.146182,11.006534,11.185314,10.489266,11.051296,11.072817,11.208858,11.089566,10.942472,11.032819,11.117513,11.020172,10.733992,11.147792,10.747937,10.743654,10.9739685,10.93486,11.007178,10.753476,11.225096,10.8233,10.9769745,11.004983,10.063024,10.99393,10.827844,10.7071,11.011293,10.989893,10.648248,11.008278,11.069103,10.852679,11.012831,10.641803,11.073495,11.031769,11.066182,10.89905,10.86602,10.778214,10.582542,10.558553,11.161347,10.111193,10.716245,11.034796,11.016769,10.734102,10.976977,10.733871,11.026779,10.767536,11.049146,10.634943,11.073926,10.996792,10.777598,10.571251,10.479847,11.086242,10.719986,11.116189,11.993003,10.971088,10.886604,10.787323,10.744439,10.106293,10.733507,10.651844,10.811814,10.764088,11.129449,11.026618,10.514029,11.224941,10.943445,11.13408,10.720552,10.473421,10.991186,11.176327,10.703199,11.018954,10.594622,10.820814,11.17218,11.120463,11.065601,10.491399,11.087399,10.880745,11.09871,11.03199,11.078373,10.661205,11.013721,11.177783,10.475656,10.885817,10.608217,11.193888,10.9377165,11.098945,10.700586,10.946361,11.047256,10.8892765,11.018718,10.630602,10.64351,11.207242,10.783562,10.6133,10.626802,11.070241,11.203591,11.053546,11.035323,11.121325,11.016281,10.94157,11.034904,10.755406,11.082735,10.770497,10.612487,10.861075],\"xaxis\":\"x\",\"y\":[-1.4141645,-2.9598744,-1.3756627,-3.5905187,-3.455283,-1.6975907,-3.348402,-3.10807,-3.6032016,-2.822477,-1.7612343,-1.4653409,-3.5372164,-3.6096895,-3.030489,-1.4785322,-1.7875019,-3.6131246,-1.4813166,-1.6956731,-3.3029404,-1.6588286,-3.5803857,-3.5574975,-3.4696455,-2.4009728,-2.9970956,-3.5475032,-3.5772185,-3.6458156,-3.5627735,-3.666999,-1.4137985,-1.7247531,-3.5292451,-3.6001625,-3.5913649,-3.5041144,-1.3896761,-2.7580388,-3.6310349,-2.969341,-1.3853811,-1.5690964,-2.908841,-1.4213327,-3.0114248,-2.8627434,-3.5786068,-3.6190443,-3.6322517,-3.6682105,-1.6463042,-3.3134322,-3.3690896,-1.4399476,-3.1093726,-1.4963584,-1.4771252,-3.0030646,-3.4941664,-3.6135573,-2.86136,-1.8089006,-1.4197974,-2.795327,-3.5960257,-3.0069516,-3.3741724,-3.5712962,-3.1668386,-1.5518695,-2.9264896,-1.7579911,-3.4317303,-2.866703,-2.885385,-3.5391488,-2.9242446,-3.5542555,-3.633811,-3.6613705,-1.3583156,-2.932237,-2.9168584,-3.6585662,-3.4451382,-2.8137748,-3.5793462,-3.4921591,-3.177845,-1.7068381,-3.6182299,-3.4418883,-1.7114106,-2.8371222,-3.4209762,-2.870297,-1.7300416,-3.6725142,-3.289771,-3.2842834,-3.3206432,-3.5939493,-3.4802048,-3.0409424,-1.6535559,-3.1676965,-2.884942,-1.5812261,-2.8871653,-3.4672058,-3.5028396,-2.86685,-1.5679486,-3.270154,-2.8951592,-3.2158308,-3.153934,-3.01712,-3.00514,-1.4838874,-3.3513842,-3.5771022,-3.584881,-1.702855,-2.9978685,-3.5374036,-3.0408444,-3.6716251,-3.3517523,-3.5696588,-3.2671857,-2.9441397,-1.5481933,-2.9740713,-3.1435368,-2.9875677,-1.4665345,-1.3507189,-2.9520898,-3.367634,-3.5801263,11.328709,-3.0210857,-3.1254153,-3.4455645,-1.7300552,-3.5866005,-3.017434,-1.5681281,-3.179828,-1.8423686,-3.576357,-3.6956563,-1.3983154,-3.6638403,-2.8050778,-3.5780804,-1.6956006,-1.3472211,-2.9505181,-3.6572404,-1.6590452,-3.4657125,-1.4967077,-3.494062,-3.6219554,-3.5584595,-3.549625,-1.3681606,-3.615762,-3.3793797,-3.2475667,-3.3163404,-3.5653775,-1.5964165,-2.8656702,-3.659002,-1.347888,-3.0672503,-1.5166779,-3.669938,-3.4766164,-2.9070153,-3.404641,-3.6404834,-3.6118135,-3.2096422,-3.24912,-1.5432234,-1.5664816,-3.6633527,-3.0992033,-1.5133551,-1.5516461,-3.4126265,-3.6546342,-3.4012733,-3.5479078,-2.9809275,-3.5507936,-3.3306615,-2.9284055,-3.1831207,-3.572738,-1.7510023,-1.5426778,-3.5372996],\"yaxis\":\"y\",\"type\":\"scattergl\"},{\"hovertemplate\":\"leiden=9\\u003cbr\\u003eUMAP-1=%{x}\\u003cbr\\u003eUMAP-2=%{y}\\u003cextra\\u003e\\u003c\\u002fextra\\u003e\",\"legendgroup\":\"9\",\"marker\":{\"color\":\"#511CFB\",\"symbol\":\"circle\",\"opacity\":1,\"size\":1.6495901099826225},\"mode\":\"markers\",\"name\":\"9\",\"showlegend\":true,\"x\":[15.80967,16.177023,16.240013,15.73031,15.9755,16.176195,15.987862,16.271788,16.316631,16.064802,16.377012,16.063545,15.667442,16.135044,15.730223,16.242008,16.227495,16.31206,16.259739,12.008675,15.651327,15.766068,16.36656,15.920427,15.675133,16.241478,16.428286,16.137733,15.785616,15.936641,15.626545,15.898279,16.024193,15.597674,15.672323,15.893632,16.11944,16.466846,15.845319,16.352705,15.826251,15.596329,15.710032,15.754103,15.626578,16.14569,16.386076,16.39648,16.296627,16.197992,16.344273,15.578399,16.13358,15.9542675,15.876178,15.574416,16.449373,16.445719,16.210638,16.40697,16.36414,16.061232,15.82699,16.265364,15.82134,16.233501,16.112959,15.849104,16.221022,16.394833,16.21613,16.354633,16.244366,16.46742,16.12771,16.328209,16.113688,16.142662,12.009968,15.693367,16.063005,16.415518,16.33072,16.124086,15.61368,16.254885,15.804629,15.771986,15.662005,16.38429,15.603845,16.04147,15.636012,16.465773,15.955498,16.084654,15.657533,16.486025,15.666549,15.581976,15.811282,15.750489,16.410719,16.084793,15.772602,15.899962,15.72722,16.471865,15.964597,16.302713,16.211412,16.15699,15.621865,15.643968,15.734704,15.607381,16.444153,15.744036,15.99407,15.821403,15.729254,15.522674,15.985342,16.361889,15.683664,15.589549,15.684427,16.427416,16.392134,15.707512,15.745304,15.579562,15.90558,16.335682,16.360819,15.958842,15.877116,15.573449,15.746709,15.8161,16.368126,16.077559,16.35287,15.886715,16.262373,16.414804,16.2883,16.132555,15.701413,15.781225,15.81703,15.606097,16.1097,16.451641,15.612178,15.611618,15.575101,15.916524,15.564309,16.019941,15.730233,15.982751,16.27185,16.259562,15.648307,16.328829,15.6564455,16.232372,16.296816,16.297285,16.264723,16.10966,16.323948,15.89957,16.114325,15.986299,15.696321,16.075945,16.047108,15.719672,16.321852,16.066626,15.6361,15.66109,16.32705,15.733331,15.659171,15.688489,15.62943,15.570331,12.070421,16.47247,16.27453,16.462538,15.923858,16.105381,16.342936,16.230679,16.231318,16.225277,16.436],\"xaxis\":\"x\",\"y\":[6.0452447,6.1192994,6.0585914,5.6685014,5.96292,5.6941795,5.991974,5.7927356,5.8782,5.8854723,5.5712223,5.6300592,5.868489,5.452646,5.6785727,5.7898855,5.4573665,6.0982842,5.8704667,11.33257,5.780117,6.1019163,5.836881,5.583372,5.5876923,5.7752624,5.6708283,6.0978875,5.6884904,5.583189,6.1282654,5.649254,6.227721,5.776157,5.607703,5.9213295,5.6384773,5.6449747,6.026385,5.587919,5.889531,5.629372,6.043138,5.64002,6.0929594,5.847765,5.672807,5.557091,6.12418,5.944111,5.5341887,5.869254,5.737862,6.0489144,5.729105,5.898543,5.7193613,5.6574364,5.772648,5.6634274,5.663565,6.045916,5.800879,5.8199167,5.562508,5.7449956,5.6807733,5.947428,5.9799657,5.803815,6.207709,5.930282,6.038629,5.671241,5.976669,5.859901,5.547626,6.172948,11.321659,5.553776,5.431723,5.810075,5.5298476,6.093669,5.629987,5.8399224,6.1318426,5.5849657,5.7264028,5.6553483,6.1531363,5.413139,6.094336,5.636686,5.5590115,5.7692084,6.1180334,5.6941032,5.9967456,5.9857316,5.6882997,6.088633,5.8098707,6.196969,6.029593,5.8024874,5.9607916,5.7167354,5.672818,5.895778,5.7623634,5.824897,5.895951,5.578524,5.588073,5.8495364,5.727057,6.1027217,5.6090302,5.579677,5.9429765,5.769853,6.2489977,5.7405005,5.608581,5.6320095,5.9666185,5.540272,5.4941087,6.077839,5.6486454,5.612425,5.5037475,5.853369,5.641296,5.4581985,5.9955354,5.813347,6.1083627,5.8657045,5.8166003,5.9746003,6.0568438,5.5540843,5.859112,5.5550113,5.9072385,6.0953097,5.6144395,5.5992117,6.084364,6.1148753,6.1601152,5.6698904,5.692331,5.8642626,6.1220117,5.4896727,5.873689,6.13533,5.965295,5.6455874,5.767734,5.654828,5.7253246,5.9110646,6.059683,5.9193788,6.098221,6.1250243,5.8636594,6.0494385,5.883478,5.5245957,5.746841,5.98039,6.111899,5.743241,6.2057157,6.1455007,5.8742485,6.0605016,6.078473,6.1145678,5.60784,5.614838,5.642721,5.7244515,6.108362,5.8318634,11.262152,5.556753,5.833681,5.6906404,5.5048237,5.7310815,5.896158,5.958654,5.7429423,5.440553,5.6738048],\"yaxis\":\"y\",\"type\":\"scattergl\"},{\"hovertemplate\":\"leiden=10\\u003cbr\\u003eUMAP-1=%{x}\\u003cbr\\u003eUMAP-2=%{y}\\u003cextra\\u003e\\u003c\\u002fextra\\u003e\",\"legendgroup\":\"10\",\"marker\":{\"color\":\"#00A08B\",\"symbol\":\"circle\",\"opacity\":1,\"size\":1.6495901099826225},\"mode\":\"markers\",\"name\":\"10\",\"showlegend\":true,\"x\":[-1.7972074,-2.1870363,-2.2114372,-2.1376843,-1.836594,-1.9975513,-2.2527795,-2.0852203,-2.1406646,-2.2528238,-2.0597215,-1.6835521,-2.0354946,-2.260159,-1.9335229,-2.3165684,-2.2572548,-1.988987,-2.1974354,-1.5965562,-2.3213942,-2.0178483,-2.3094094,-2.018476,-2.0553756,-2.2435048,-2.22307,-1.4972848,-2.1505253,-2.234045,-1.4210814,-1.8743496,-1.8642312,-2.091519,-1.831439,-2.121024,-1.5569952,-2.2932234,-2.1327643,-1.880969,-2.2577868,-1.9028845,-2.1994123,-1.9608953,-2.006697,-1.881891,-2.1796067,-2.1325195,-2.0425363,-2.2354112,-2.0595126,-1.4463729,-2.4118981,-2.1200304,-1.8923411,-1.8135748,-2.1719432,-2.2932,-1.9791319,-1.7445945,-2.227534,-2.2395563,-2.003503,-1.8445674,-2.3206594,-2.098625,-1.2725668,-1.695808,-1.7617292,-2.3267605,-2.264554,-1.5988729,-2.2298117,-2.2268639,-2.2401478,-2.3420572,-2.1692357,-2.3173068,-2.2103863,-1.8185706,-1.8957835,-1.9684424,-1.5348442,-2.0559337,-2.0546646,-2.1894774,-2.333084,-1.9301403,-2.1394923,-2.3158557,-2.3574982,-2.1767335,-2.155194,-2.2430327,-2.2149327,-2.061729,-1.4702843,-2.2342372,-2.200649,-2.2884915,-2.184792,-2.1213734,-2.225215,-2.1641624,-2.2133675,-2.3784242,-2.173849,-2.1777189,-2.016573,-1.5254725,-2.3372476,-2.2943003,-1.5229391,-1.6405405,-1.9175962,-1.5415289,-2.0906637,-2.034387,-1.9074134,-1.9809717,-1.9876543,-2.0143764,-2.296329,-1.88789,-2.2790039,-2.2945225,-1.6098684,-1.9110261,-2.1998389,-1.7671145,-2.2923954,-1.9386995],\"xaxis\":\"x\",\"y\":[2.039712,1.583133,1.6901951,2.173983,1.9725902,1.8419455,1.6512249,2.0213568,2.0398707,1.5939159,1.8806392,2.1133232,1.9355904,1.6306311,1.9412837,1.5678238,1.7841121,1.8500324,2.0613737,2.1890192,1.5960678,2.081911,1.7955644,1.8033838,2.303053,1.6308559,1.6700572,2.1425657,1.6477962,1.7531091,2.1545887,2.3752148,1.9284575,1.8024065,2.4804378,1.7585081,2.3501153,1.6583089,2.189188,1.9167206,1.5993235,2.010371,1.6300105,2.1155667,1.818903,2.7564068,1.5953854,1.7212025,1.846556,1.9393487,1.9079801,2.1563482,1.6820507,2.031455,1.9746946,1.9212254,1.725291,1.5605942,1.8697239,2.1632316,1.7001095,1.6737651,2.3526034,2.057718,1.5903083,1.7395247,2.3115387,2.2403464,2.0261557,1.6772943,1.6400682,2.0835805,1.6944654,1.7064891,1.6370692,1.6804122,1.7349186,1.7407682,1.7359686,2.9849463,1.877486,2.1336946,2.0993583,2.1857667,1.8386625,1.6201763,1.6920251,2.2964218,1.6628996,1.5902097,1.6627427,1.5906665,1.7119232,1.9333175,1.6804953,1.797186,2.1481981,1.7226875,1.7552204,1.5481118,1.7086102,1.678605,1.6481447,2.160332,1.595951,1.6532568,1.7409047,1.5650504,1.9230564,2.1452258,1.7242981,1.5745503,2.098038,2.0691214,2.2470014,2.0933003,2.2576525,1.8852391,1.9125912,1.8640028,1.8385516,2.6079516,1.7721454,2.3107953,1.5997493,1.6055955,2.1462932,1.9265169,1.5865802,2.2001016,1.6560075,2.2528296],\"yaxis\":\"y\",\"type\":\"scattergl\"},{\"hovertemplate\":\"leiden=11\\u003cbr\\u003eUMAP-1=%{x}\\u003cbr\\u003eUMAP-2=%{y}\\u003cextra\\u003e\\u003c\\u002fextra\\u003e\",\"legendgroup\":\"11\",\"marker\":{\"color\":\"#FB00D1\",\"symbol\":\"circle\",\"opacity\":1,\"size\":1.6495901099826225},\"mode\":\"markers\",\"name\":\"11\",\"showlegend\":true,\"x\":[13.061579,11.936076,13.1146145,11.950513,13.028263,13.10652,12.884298,13.00054,9.921656,13.069236,9.917386,12.876162,13.028739,13.000738,12.948457,13.024995,12.964552,11.891584,11.9685135,11.8998575,13.11618,12.060952,11.914815,12.828268,11.980917,12.407554,12.922332,9.915829,11.922778,11.928211,12.847679,13.06046,13.090334,9.915222,13.043308,12.835283,9.916916,12.991121,13.117356,11.996327,12.921161,12.003519,12.967701,12.954554,9.909671,12.957052,13.071767,12.872616,13.154287,11.940688,13.176603,13.16706,13.126268,9.912408,13.020448,13.126501,12.844963,12.841743,13.062218,12.943368,12.960818,11.931679,13.05281,13.080271,13.010697,12.999002,13.088752,12.966002,13.009229,12.971342,12.945381,11.921074,12.964014,12.841794,12.994568,11.996525,12.968105,12.982466,13.089768,13.139592,12.9871435,11.8961935,12.94236,12.782613,13.026193,12.89728,11.933543,11.941781,13.133881,13.02728,13.069975,9.910353,12.938533,12.857187,12.719289,12.939266,12.07473,12.966173,9.919647,12.94174,13.0094,12.849901,13.00735,12.951463,13.028132,11.967193,12.861567,12.78853,13.142225,13.007257,13.136427,11.982698,9.934532,12.924073,11.979585,12.021715,12.877166,13.001181,12.853638,12.9718685,11.970349,11.938425,13.083789,13.13804,13.060745],\"xaxis\":\"x\",\"y\":[10.856941,11.534093,10.777233,11.498028,10.871583,10.837309,10.536168,11.049514,-3.663269,10.83505,-3.6693125,10.565677,10.796106,11.128793,10.923111,10.904593,10.615009,11.541518,11.425799,11.529404,10.7835655,11.392035,11.629917,11.01158,11.544034,11.42189,10.575549,-3.6661816,11.586584,11.666744,10.949001,10.828699,10.936641,-3.665036,10.690416,10.55566,-3.6649792,10.630595,10.741091,11.35392,10.587814,11.33477,10.882167,11.064048,-3.6684594,11.148073,10.799304,10.873079,10.843821,11.522887,10.792436,10.904667,10.739362,-3.6654074,10.925151,10.835037,10.997908,10.574792,10.6319685,10.836886,10.98843,11.507149,10.886224,10.751179,10.87135,10.892929,10.670639,10.919808,10.837075,10.83995,10.918087,11.499744,10.855689,10.526655,10.904878,11.349632,10.655746,10.864219,10.799745,10.784562,10.992154,11.722461,10.915321,10.8279085,11.046519,10.577778,11.4703,11.477224,10.731967,10.690685,10.73836,-3.6651947,10.796091,10.611716,12.25343,10.9173765,11.314149,10.868329,-3.6623542,10.909376,10.857522,10.55359,10.664005,10.856238,10.982099,11.555215,10.54504,11.001803,10.827811,10.89352,10.662774,11.372555,-3.6462235,10.573033,11.398955,11.324307,10.604246,10.650035,10.533222,10.919961,11.76063,11.521685,10.892695,10.762172,10.8834305],\"yaxis\":\"y\",\"type\":\"scattergl\"},{\"hovertemplate\":\"leiden=12\\u003cbr\\u003eUMAP-1=%{x}\\u003cbr\\u003eUMAP-2=%{y}\\u003cextra\\u003e\\u003c\\u002fextra\\u003e\",\"legendgroup\":\"12\",\"marker\":{\"color\":\"#FC0080\",\"symbol\":\"circle\",\"opacity\":1,\"size\":1.6495901099826225},\"mode\":\"markers\",\"name\":\"12\",\"showlegend\":true,\"x\":[4.8208303,5.3004117,4.711428,5.170081,5.175343,5.020366,5.055164,4.928231,4.6667056,5.253972,5.1233697,4.8292494,4.8744683,5.1321497,4.850566,5.2585735,5.3664494,5.2222476,5.256861,5.295952,4.7459884,4.7916317,5.3922358,4.6853275,5.2102537,4.994803,5.039911,5.2323804,4.997934,5.078302,4.795443,4.685967,4.938961,5.190111,5.201035,4.974365,5.149034,5.1901894,5.1190186,4.8374877,4.696063,4.6779523,5.365265,5.313753,5.3576384,4.985747,5.0855546,4.9688425,5.1538477,4.906812,5.18001,5.208392,4.7460957,4.976384,5.0230327,5.230726,5.0889974,5.0409675,4.969991,5.107196,4.8886676,4.8199806,4.6754227,4.716546,5.2195196,5.273429,5.146337,5.200642,5.3651795,5.144183,4.866377,4.8873053,4.9169083,4.993118,5.207693,5.056291,4.8171086,5.133519,5.2298994,4.9970484,5.220621,5.204912,5.3746715,5.1722927,4.758488,5.209309,4.914745,5.022806,4.665131,5.166754,4.840529,5.2952213,4.8415623,5.369491,5.1779633,5.1689024,5.257489,4.8149886,4.858631,4.6886377,4.9936457,5.0826964,4.72756,5.0753765,5.0444355,5.1494594,4.7904987,4.865965,4.9305677,4.7914166,4.7278504,4.807365,5.3678,5.2478976,4.7991557,4.855885,4.957348,4.872394,4.8422427,4.934018,5.0973105,4.878824,4.641884,4.712124],\"xaxis\":\"x\",\"y\":[21.32538,21.54122,21.575302,21.413965,21.52182,21.451004,21.13605,21.298079,21.59965,21.156044,21.098944,21.607996,21.633114,21.310621,21.415915,21.181276,21.51701,21.107069,21.535545,21.549873,21.6007,21.61588,21.517586,21.54112,21.423391,21.115078,21.437992,21.580334,21.208954,21.51386,21.579786,21.417692,21.359104,21.14906,21.090147,21.377052,21.088236,21.162844,21.140682,21.638197,21.570848,21.437267,21.269861,21.52713,21.515028,21.615982,21.485458,21.376383,21.516663,21.373611,21.458858,21.419008,21.397724,21.380615,21.227762,21.49457,21.51601,21.540936,21.372204,21.37806,21.53824,21.368649,21.443977,21.535418,21.098278,21.560965,21.38601,21.12967,21.504473,21.491533,21.353065,21.39587,21.645933,21.459707,21.519392,21.15871,21.638891,21.077885,21.568848,21.344358,21.1119,21.090881,21.511812,21.09604,21.348116,21.0951,21.495789,21.079088,21.454863,21.088594,21.379007,21.565035,21.306602,21.484587,21.499714,21.353596,21.545876,21.367197,21.394644,21.403028,21.344501,21.514267,21.366175,21.48331,21.256542,21.105097,21.443367,21.659061,21.60716,21.601791,21.585293,21.48591,21.517738,21.127968,21.369198,21.323837,21.385345,21.638538,21.164923,21.369547,21.569279,21.261301,21.490591,21.631624],\"yaxis\":\"y\",\"type\":\"scattergl\"},{\"hovertemplate\":\"leiden=13\\u003cbr\\u003eUMAP-1=%{x}\\u003cbr\\u003eUMAP-2=%{y}\\u003cextra\\u003e\\u003c\\u002fextra\\u003e\",\"legendgroup\":\"13\",\"marker\":{\"color\":\"#B2828D\",\"symbol\":\"circle\",\"opacity\":1,\"size\":1.6495901099826225},\"mode\":\"markers\",\"name\":\"13\",\"showlegend\":true,\"x\":[7.7392964,7.8480067,7.7613153,7.923358,7.915284,7.567059,7.840756,7.930862,7.915897,7.8519735,7.898804,7.8901744,7.8289466,7.8832593,7.8003345,7.5619717,7.941975,7.9560905,7.8979254,7.8932586,7.9031324,7.59886,7.5527906,7.5520716,7.5669465,7.886315,7.951833,7.821371,7.8437247,7.5572157,7.9527144,7.944368,7.869491,7.8264,7.5937796,7.797797,7.613428,7.898908,7.8994803,7.670412,7.687911,7.867934,7.747107,7.877765,7.9287624,7.560391,7.5641284,7.8161254,7.513191,7.943064,7.9331336,7.9056396,7.8502936,7.8690166,7.5922995,7.5768404,7.534193,7.8842106,7.5691705,7.8042817,7.656287,7.636128,7.5905256,7.855405,7.8529873,7.862854,7.872466,8.000218,7.556297,7.8432837,7.8189864,7.5420723,7.906887,7.707934,7.865139,7.6416044,7.896873,7.7436805,7.9507675,7.5687943,7.9334407],\"xaxis\":\"x\",\"y\":[10.130198,10.044472,9.874855,9.9059305,9.874716,10.2076025,9.797904,9.866307,9.412136,10.037303,9.489635,9.532504,10.065312,9.6741905,10.1075325,10.199942,9.93612,9.878476,9.662084,9.71531,9.898963,10.166665,10.210096,10.214673,10.198579,9.711944,9.96312,9.886249,9.962558,10.213444,9.876731,9.659412,9.763117,9.8545685,10.18765,10.040815,10.217338,9.708365,9.833441,10.055161,9.96767,9.805122,9.994965,9.678642,9.743247,10.217955,10.198635,10.03923,10.248515,9.889407,9.903736,9.45708,9.738427,9.680693,10.173607,10.172065,10.230251,9.655282,10.189338,10.098189,10.0319805,10.122486,10.1405325,10.032222,9.75544,10.034502,9.987992,9.956547,10.209758,9.783567,10.086838,10.222109,9.48505,10.073052,9.963527,10.088011,9.933959,10.140616,9.874526,10.205886,9.927946],\"yaxis\":\"y\",\"type\":\"scattergl\"},{\"hovertemplate\":\"leiden=14\\u003cbr\\u003eUMAP-1=%{x}\\u003cbr\\u003eUMAP-2=%{y}\\u003cextra\\u003e\\u003c\\u002fextra\\u003e\",\"legendgroup\":\"14\",\"marker\":{\"color\":\"#6C7C32\",\"symbol\":\"circle\",\"opacity\":1,\"size\":1.6495901099826225},\"mode\":\"markers\",\"name\":\"14\",\"showlegend\":true,\"x\":[-7.8382497,-7.767678,-7.8362794,-7.8602953,-7.766728,-7.7579446,-7.8566823,-7.7942624,-7.767668,-7.851235,-7.800462,-7.9186606,-7.754363,-7.7798424,-7.9364276,-7.9284306,-7.73524,-7.7988167,-7.7682567,-7.9554763,-7.898959,-7.8337903,-7.808551,-7.8320036,-7.7936416,-7.800542,-7.8308444,-7.812246,-7.8604712,-7.9175305,-7.8666105,-7.8190312,-7.903099,-7.778149,-7.8011866,-7.8110723,-7.7633686,-7.89293,-7.902784,-7.8126283,-7.935991,-7.841419,-7.8703866,-7.7705193,-7.7682896,-7.839484,-7.9251285,-7.768524,-7.8124223,-7.901544,-7.8977485,-7.934686],\"xaxis\":\"x\",\"y\":[0.27061948,0.1868173,0.2723585,0.29910973,0.17086424,0.17961559,0.2960373,0.22092472,0.19131112,0.2870518,0.22702266,0.36837512,0.1753621,0.20021401,0.4207068,0.40152085,0.15979144,0.22330835,0.18559313,0.38626283,0.35393938,0.27070352,0.23996893,0.27061608,0.21980806,0.23522751,0.26512215,0.24321367,0.30035445,0.37722793,0.3075706,0.25208184,9.611558,0.20630068,0.23261486,0.24108061,0.18568614,9.618004,0.3578688,0.24422263,0.42845497,0.28010032,0.3066849,0.18756258,0.18801565,0.27825224,0.3943696,0.18878666,0.24027182,9.628236,0.33468774,0.3884496],\"yaxis\":\"y\",\"type\":\"scattergl\"}],                        {\"template\":{\"data\":{\"barpolar\":[{\"marker\":{\"line\":{\"color\":\"white\",\"width\":0.5},\"pattern\":{\"fillmode\":\"overlay\",\"size\":10,\"solidity\":0.2}},\"type\":\"barpolar\"}],\"bar\":[{\"error_x\":{\"color\":\"rgb(36,36,36)\"},\"error_y\":{\"color\":\"rgb(36,36,36)\"},\"marker\":{\"line\":{\"color\":\"white\",\"width\":0.5},\"pattern\":{\"fillmode\":\"overlay\",\"size\":10,\"solidity\":0.2}},\"type\":\"bar\"}],\"carpet\":[{\"aaxis\":{\"endlinecolor\":\"rgb(36,36,36)\",\"gridcolor\":\"white\",\"linecolor\":\"white\",\"minorgridcolor\":\"white\",\"startlinecolor\":\"rgb(36,36,36)\"},\"baxis\":{\"endlinecolor\":\"rgb(36,36,36)\",\"gridcolor\":\"white\",\"linecolor\":\"white\",\"minorgridcolor\":\"white\",\"startlinecolor\":\"rgb(36,36,36)\"},\"type\":\"carpet\"}],\"choropleth\":[{\"colorbar\":{\"outlinewidth\":1,\"tickcolor\":\"rgb(36,36,36)\",\"ticks\":\"outside\"},\"type\":\"choropleth\"}],\"contourcarpet\":[{\"colorbar\":{\"outlinewidth\":1,\"tickcolor\":\"rgb(36,36,36)\",\"ticks\":\"outside\"},\"type\":\"contourcarpet\"}],\"contour\":[{\"colorbar\":{\"outlinewidth\":1,\"tickcolor\":\"rgb(36,36,36)\",\"ticks\":\"outside\"},\"colorscale\":[[0.0,\"#440154\"],[0.1111111111111111,\"#482878\"],[0.2222222222222222,\"#3e4989\"],[0.3333333333333333,\"#31688e\"],[0.4444444444444444,\"#26828e\"],[0.5555555555555556,\"#1f9e89\"],[0.6666666666666666,\"#35b779\"],[0.7777777777777778,\"#6ece58\"],[0.8888888888888888,\"#b5de2b\"],[1.0,\"#fde725\"]],\"type\":\"contour\"}],\"heatmapgl\":[{\"colorbar\":{\"outlinewidth\":1,\"tickcolor\":\"rgb(36,36,36)\",\"ticks\":\"outside\"},\"colorscale\":[[0.0,\"#440154\"],[0.1111111111111111,\"#482878\"],[0.2222222222222222,\"#3e4989\"],[0.3333333333333333,\"#31688e\"],[0.4444444444444444,\"#26828e\"],[0.5555555555555556,\"#1f9e89\"],[0.6666666666666666,\"#35b779\"],[0.7777777777777778,\"#6ece58\"],[0.8888888888888888,\"#b5de2b\"],[1.0,\"#fde725\"]],\"type\":\"heatmapgl\"}],\"heatmap\":[{\"colorbar\":{\"outlinewidth\":1,\"tickcolor\":\"rgb(36,36,36)\",\"ticks\":\"outside\"},\"colorscale\":[[0.0,\"#440154\"],[0.1111111111111111,\"#482878\"],[0.2222222222222222,\"#3e4989\"],[0.3333333333333333,\"#31688e\"],[0.4444444444444444,\"#26828e\"],[0.5555555555555556,\"#1f9e89\"],[0.6666666666666666,\"#35b779\"],[0.7777777777777778,\"#6ece58\"],[0.8888888888888888,\"#b5de2b\"],[1.0,\"#fde725\"]],\"type\":\"heatmap\"}],\"histogram2dcontour\":[{\"colorbar\":{\"outlinewidth\":1,\"tickcolor\":\"rgb(36,36,36)\",\"ticks\":\"outside\"},\"colorscale\":[[0.0,\"#440154\"],[0.1111111111111111,\"#482878\"],[0.2222222222222222,\"#3e4989\"],[0.3333333333333333,\"#31688e\"],[0.4444444444444444,\"#26828e\"],[0.5555555555555556,\"#1f9e89\"],[0.6666666666666666,\"#35b779\"],[0.7777777777777778,\"#6ece58\"],[0.8888888888888888,\"#b5de2b\"],[1.0,\"#fde725\"]],\"type\":\"histogram2dcontour\"}],\"histogram2d\":[{\"colorbar\":{\"outlinewidth\":1,\"tickcolor\":\"rgb(36,36,36)\",\"ticks\":\"outside\"},\"colorscale\":[[0.0,\"#440154\"],[0.1111111111111111,\"#482878\"],[0.2222222222222222,\"#3e4989\"],[0.3333333333333333,\"#31688e\"],[0.4444444444444444,\"#26828e\"],[0.5555555555555556,\"#1f9e89\"],[0.6666666666666666,\"#35b779\"],[0.7777777777777778,\"#6ece58\"],[0.8888888888888888,\"#b5de2b\"],[1.0,\"#fde725\"]],\"type\":\"histogram2d\"}],\"histogram\":[{\"marker\":{\"line\":{\"color\":\"white\",\"width\":0.6}},\"type\":\"histogram\"}],\"mesh3d\":[{\"colorbar\":{\"outlinewidth\":1,\"tickcolor\":\"rgb(36,36,36)\",\"ticks\":\"outside\"},\"type\":\"mesh3d\"}],\"parcoords\":[{\"line\":{\"colorbar\":{\"outlinewidth\":1,\"tickcolor\":\"rgb(36,36,36)\",\"ticks\":\"outside\"}},\"type\":\"parcoords\"}],\"pie\":[{\"automargin\":true,\"type\":\"pie\"}],\"scatter3d\":[{\"line\":{\"colorbar\":{\"outlinewidth\":1,\"tickcolor\":\"rgb(36,36,36)\",\"ticks\":\"outside\"}},\"marker\":{\"colorbar\":{\"outlinewidth\":1,\"tickcolor\":\"rgb(36,36,36)\",\"ticks\":\"outside\"}},\"type\":\"scatter3d\"}],\"scattercarpet\":[{\"marker\":{\"colorbar\":{\"outlinewidth\":1,\"tickcolor\":\"rgb(36,36,36)\",\"ticks\":\"outside\"}},\"type\":\"scattercarpet\"}],\"scattergeo\":[{\"marker\":{\"colorbar\":{\"outlinewidth\":1,\"tickcolor\":\"rgb(36,36,36)\",\"ticks\":\"outside\"}},\"type\":\"scattergeo\"}],\"scattergl\":[{\"marker\":{\"colorbar\":{\"outlinewidth\":1,\"tickcolor\":\"rgb(36,36,36)\",\"ticks\":\"outside\"}},\"type\":\"scattergl\"}],\"scattermapbox\":[{\"marker\":{\"colorbar\":{\"outlinewidth\":1,\"tickcolor\":\"rgb(36,36,36)\",\"ticks\":\"outside\"}},\"type\":\"scattermapbox\"}],\"scatterpolargl\":[{\"marker\":{\"colorbar\":{\"outlinewidth\":1,\"tickcolor\":\"rgb(36,36,36)\",\"ticks\":\"outside\"}},\"type\":\"scatterpolargl\"}],\"scatterpolar\":[{\"marker\":{\"colorbar\":{\"outlinewidth\":1,\"tickcolor\":\"rgb(36,36,36)\",\"ticks\":\"outside\"}},\"type\":\"scatterpolar\"}],\"scatter\":[{\"fillpattern\":{\"fillmode\":\"overlay\",\"size\":10,\"solidity\":0.2},\"type\":\"scatter\"}],\"scatterternary\":[{\"marker\":{\"colorbar\":{\"outlinewidth\":1,\"tickcolor\":\"rgb(36,36,36)\",\"ticks\":\"outside\"}},\"type\":\"scatterternary\"}],\"surface\":[{\"colorbar\":{\"outlinewidth\":1,\"tickcolor\":\"rgb(36,36,36)\",\"ticks\":\"outside\"},\"colorscale\":[[0.0,\"#440154\"],[0.1111111111111111,\"#482878\"],[0.2222222222222222,\"#3e4989\"],[0.3333333333333333,\"#31688e\"],[0.4444444444444444,\"#26828e\"],[0.5555555555555556,\"#1f9e89\"],[0.6666666666666666,\"#35b779\"],[0.7777777777777778,\"#6ece58\"],[0.8888888888888888,\"#b5de2b\"],[1.0,\"#fde725\"]],\"type\":\"surface\"}],\"table\":[{\"cells\":{\"fill\":{\"color\":\"rgb(237,237,237)\"},\"line\":{\"color\":\"white\"}},\"header\":{\"fill\":{\"color\":\"rgb(217,217,217)\"},\"line\":{\"color\":\"white\"}},\"type\":\"table\"}]},\"layout\":{\"annotationdefaults\":{\"arrowhead\":0,\"arrowwidth\":1},\"autotypenumbers\":\"strict\",\"coloraxis\":{\"colorbar\":{\"outlinewidth\":1,\"tickcolor\":\"rgb(36,36,36)\",\"ticks\":\"outside\"}},\"colorscale\":{\"diverging\":[[0.0,\"rgb(103,0,31)\"],[0.1,\"rgb(178,24,43)\"],[0.2,\"rgb(214,96,77)\"],[0.3,\"rgb(244,165,130)\"],[0.4,\"rgb(253,219,199)\"],[0.5,\"rgb(247,247,247)\"],[0.6,\"rgb(209,229,240)\"],[0.7,\"rgb(146,197,222)\"],[0.8,\"rgb(67,147,195)\"],[0.9,\"rgb(33,102,172)\"],[1.0,\"rgb(5,48,97)\"]],\"sequential\":[[0.0,\"#440154\"],[0.1111111111111111,\"#482878\"],[0.2222222222222222,\"#3e4989\"],[0.3333333333333333,\"#31688e\"],[0.4444444444444444,\"#26828e\"],[0.5555555555555556,\"#1f9e89\"],[0.6666666666666666,\"#35b779\"],[0.7777777777777778,\"#6ece58\"],[0.8888888888888888,\"#b5de2b\"],[1.0,\"#fde725\"]],\"sequentialminus\":[[0.0,\"#440154\"],[0.1111111111111111,\"#482878\"],[0.2222222222222222,\"#3e4989\"],[0.3333333333333333,\"#31688e\"],[0.4444444444444444,\"#26828e\"],[0.5555555555555556,\"#1f9e89\"],[0.6666666666666666,\"#35b779\"],[0.7777777777777778,\"#6ece58\"],[0.8888888888888888,\"#b5de2b\"],[1.0,\"#fde725\"]]},\"colorway\":[\"#1F77B4\",\"#FF7F0E\",\"#2CA02C\",\"#D62728\",\"#9467BD\",\"#8C564B\",\"#E377C2\",\"#7F7F7F\",\"#BCBD22\",\"#17BECF\"],\"font\":{\"color\":\"rgb(36,36,36)\"},\"geo\":{\"bgcolor\":\"white\",\"lakecolor\":\"white\",\"landcolor\":\"white\",\"showlakes\":true,\"showland\":true,\"subunitcolor\":\"white\"},\"hoverlabel\":{\"align\":\"left\"},\"hovermode\":\"closest\",\"mapbox\":{\"style\":\"light\"},\"paper_bgcolor\":\"white\",\"plot_bgcolor\":\"white\",\"polar\":{\"angularaxis\":{\"gridcolor\":\"rgb(232,232,232)\",\"linecolor\":\"rgb(36,36,36)\",\"showgrid\":false,\"showline\":true,\"ticks\":\"outside\"},\"bgcolor\":\"white\",\"radialaxis\":{\"gridcolor\":\"rgb(232,232,232)\",\"linecolor\":\"rgb(36,36,36)\",\"showgrid\":false,\"showline\":true,\"ticks\":\"outside\"}},\"scene\":{\"xaxis\":{\"backgroundcolor\":\"white\",\"gridcolor\":\"rgb(232,232,232)\",\"gridwidth\":2,\"linecolor\":\"rgb(36,36,36)\",\"showbackground\":true,\"showgrid\":false,\"showline\":true,\"ticks\":\"outside\",\"zeroline\":false,\"zerolinecolor\":\"rgb(36,36,36)\"},\"yaxis\":{\"backgroundcolor\":\"white\",\"gridcolor\":\"rgb(232,232,232)\",\"gridwidth\":2,\"linecolor\":\"rgb(36,36,36)\",\"showbackground\":true,\"showgrid\":false,\"showline\":true,\"ticks\":\"outside\",\"zeroline\":false,\"zerolinecolor\":\"rgb(36,36,36)\"},\"zaxis\":{\"backgroundcolor\":\"white\",\"gridcolor\":\"rgb(232,232,232)\",\"gridwidth\":2,\"linecolor\":\"rgb(36,36,36)\",\"showbackground\":true,\"showgrid\":false,\"showline\":true,\"ticks\":\"outside\",\"zeroline\":false,\"zerolinecolor\":\"rgb(36,36,36)\"}},\"shapedefaults\":{\"fillcolor\":\"black\",\"line\":{\"width\":0},\"opacity\":0.3},\"ternary\":{\"aaxis\":{\"gridcolor\":\"rgb(232,232,232)\",\"linecolor\":\"rgb(36,36,36)\",\"showgrid\":false,\"showline\":true,\"ticks\":\"outside\"},\"baxis\":{\"gridcolor\":\"rgb(232,232,232)\",\"linecolor\":\"rgb(36,36,36)\",\"showgrid\":false,\"showline\":true,\"ticks\":\"outside\"},\"bgcolor\":\"white\",\"caxis\":{\"gridcolor\":\"rgb(232,232,232)\",\"linecolor\":\"rgb(36,36,36)\",\"showgrid\":false,\"showline\":true,\"ticks\":\"outside\"}},\"title\":{\"x\":0.05},\"xaxis\":{\"automargin\":true,\"gridcolor\":\"rgb(232,232,232)\",\"linecolor\":\"rgb(36,36,36)\",\"showgrid\":false,\"showline\":true,\"ticks\":\"outside\",\"title\":{\"standoff\":15},\"zeroline\":false,\"zerolinecolor\":\"rgb(36,36,36)\"},\"yaxis\":{\"automargin\":true,\"gridcolor\":\"rgb(232,232,232)\",\"linecolor\":\"rgb(36,36,36)\",\"showgrid\":false,\"showline\":true,\"ticks\":\"outside\",\"title\":{\"standoff\":15},\"zeroline\":false,\"zerolinecolor\":\"rgb(36,36,36)\"}}},\"xaxis\":{\"anchor\":\"y\",\"domain\":[0.0,1.0],\"title\":{\"text\":\"UMAP-1\"}},\"yaxis\":{\"anchor\":\"x\",\"domain\":[0.0,1.0],\"title\":{\"text\":\"UMAP-2\"}},\"legend\":{\"title\":{\"text\":\"leiden\"},\"tracegroupgap\":0,\"itemsizing\":\"constant\"},\"margin\":{\"t\":60},\"width\":600,\"height\":400},                        {\"responsive\": true}                    ).then(function(){\n",
              "                            \n",
              "var gd = document.getElementById('15129efe-6508-47f4-b3ed-87471efd4b5a');\n",
              "var x = new MutationObserver(function (mutations, observer) {{\n",
              "        var display = window.getComputedStyle(gd).display;\n",
              "        if (!display || display === 'none') {{\n",
              "            console.log([gd, 'removed!']);\n",
              "            Plotly.purge(gd);\n",
              "            observer.disconnect();\n",
              "        }}\n",
              "}});\n",
              "\n",
              "// Listen for the removal of the full notebook cells\n",
              "var notebookContainer = gd.closest('#notebook-container');\n",
              "if (notebookContainer) {{\n",
              "    x.observe(notebookContainer, {childList: true});\n",
              "}}\n",
              "\n",
              "// Listen for the clearing of the current output cell\n",
              "var outputEl = gd.closest('.output');\n",
              "if (outputEl) {{\n",
              "    x.observe(outputEl, {childList: true});\n",
              "}}\n",
              "\n",
              "                        })                };                            </script>        </div>\n",
              "</body>\n",
              "</html>"
            ]
          },
          "metadata": {}
        }
      ],
      "source": [
        "snap.pp.knn(SRR26046013_DM_AOA_INH)\n",
        "snap.tl.leiden(SRR26046013_DM_AOA_INH)\n",
        "snap.pl.umap(SRR26046013_DM_AOA_INH, color = 'leiden', interactive = False, show = False)"
      ]
    },
    {
      "cell_type": "markdown",
      "id": "d6405283-9006-46f5-be16-93fb0598c96c",
      "metadata": {
        "id": "d6405283-9006-46f5-be16-93fb0598c96c"
      },
      "source": [
        "# Create a cell-by-gene activity matrix"
      ]
    },
    {
      "cell_type": "code",
      "execution_count": 88,
      "id": "d8408450-f2eb-455d-9dc4-359b71604bc6",
      "metadata": {
        "id": "d8408450-f2eb-455d-9dc4-359b71604bc6"
      },
      "outputs": [],
      "source": [
        "#sc.write(SRR26046013_DM_AOA_INH,\"/SRR26046013_DM_AOA_INH.h5ad\")"
      ]
    },
    {
      "cell_type": "code",
      "execution_count": 89,
      "id": "73d3c212-d8ca-46ae-89b0-64f5c403f9c8",
      "metadata": {
        "id": "73d3c212-d8ca-46ae-89b0-64f5c403f9c8"
      },
      "outputs": [],
      "source": [
        "SRR26046013_DM_AOA_INH_GM = snap.pp.make_gene_matrix(SRR26046013_DM_AOA_INH, snap.genome.hg38)"
      ]
    },
    {
      "cell_type": "code",
      "execution_count": 90,
      "id": "812e1a2d-a582-429a-8d58-7b631269589e",
      "metadata": {
        "id": "812e1a2d-a582-429a-8d58-7b631269589e",
        "outputId": "56220ae4-a51a-4f32-943e-edc166e3e85c",
        "colab": {
          "base_uri": "https://localhost:8080/"
        }
      },
      "outputs": [
        {
          "output_type": "execute_result",
          "data": {
            "text/plain": [
              "AnnData object with n_obs × n_vars = 6015 × 60606\n",
              "    obs: 'n_fragment', 'frac_dup', 'frac_mito', 'tsse', 'doublet_probability', 'doublet_score', 'leiden'"
            ]
          },
          "metadata": {},
          "execution_count": 90
        }
      ],
      "source": [
        "SRR26046013_DM_AOA_INH_GM"
      ]
    },
    {
      "cell_type": "code",
      "source": [
        "atac = SRR26046013_DM_AOA_INH_GM"
      ],
      "metadata": {
        "id": "7c7gLCaU-cRB"
      },
      "id": "7c7gLCaU-cRB",
      "execution_count": 91,
      "outputs": []
    },
    {
      "cell_type": "code",
      "execution_count": 92,
      "id": "7d5f3f23-fc7f-4dc9-9e9a-f89d7a2dbda0",
      "metadata": {
        "id": "7d5f3f23-fc7f-4dc9-9e9a-f89d7a2dbda0",
        "outputId": "2b1e78d8-e085-4d78-ca8d-daf37f19578e",
        "colab": {
          "base_uri": "https://localhost:8080/"
        }
      },
      "outputs": [
        {
          "output_type": "execute_result",
          "data": {
            "text/plain": [
              "AnnData object with n_obs × n_vars = 6015 × 6062095\n",
              "    obs: 'n_fragment', 'frac_dup', 'frac_mito', 'tsse', 'doublet_probability', 'doublet_score', 'leiden'\n",
              "    var: 'count', 'selected'\n",
              "    uns: 'reference_sequences', 'frag_size_distr', 'library_tsse', 'frac_overlap_TSS', 'TSS_profile', 'scrublet_sim_doublet_score', 'doublet_rate', 'spectral_eigenvalue'\n",
              "    obsm: 'fragment_paired', 'X_spectral', 'X_umap'\n",
              "    obsp: 'distances'"
            ]
          },
          "metadata": {},
          "execution_count": 92
        }
      ],
      "source": [
        "SRR26046013_DM_AOA_INH"
      ]
    },
    {
      "cell_type": "code",
      "execution_count": 93,
      "id": "97dfeb04-fa95-443c-842c-c3de5af23363",
      "metadata": {
        "id": "97dfeb04-fa95-443c-842c-c3de5af23363",
        "outputId": "da0461e8-2439-4c75-9ecd-d669201253f3",
        "colab": {
          "base_uri": "https://localhost:8080/"
        }
      },
      "outputs": [
        {
          "output_type": "execute_result",
          "data": {
            "text/plain": [
              "AnnData object with n_obs × n_vars = 6015 × 60606\n",
              "    obs: 'n_fragment', 'frac_dup', 'frac_mito', 'tsse', 'doublet_probability', 'doublet_score', 'leiden'"
            ]
          },
          "metadata": {},
          "execution_count": 93
        }
      ],
      "source": [
        "SRR26046013_DM_AOA_INH_GM"
      ]
    },
    {
      "cell_type": "markdown",
      "source": [
        "# Imputation with scanpy and MAGIC"
      ],
      "metadata": {
        "id": "9fp-ZWO7AueM"
      },
      "id": "9fp-ZWO7AueM"
    },
    {
      "cell_type": "code",
      "source": [
        "%%time\n",
        "sc.pp.filter_genes(SRR26046013_DM_AOA_INH_GM, min_cells= 5)\n",
        "sc.pp.normalize_total(SRR26046013_DM_AOA_INH_GM)\n",
        "sc.pp.log1p(SRR26046013_DM_AOA_INH_GM)"
      ],
      "metadata": {
        "id": "nV6sPQwpA0CS",
        "outputId": "4ac2d457-f851-41b4-bfa7-1a3520e1d4a1",
        "colab": {
          "base_uri": "https://localhost:8080/"
        }
      },
      "id": "nV6sPQwpA0CS",
      "execution_count": 94,
      "outputs": [
        {
          "output_type": "stream",
          "name": "stdout",
          "text": [
            "CPU times: user 3.72 s, sys: 1.2 s, total: 4.92 s\n",
            "Wall time: 4.81 s\n"
          ]
        }
      ]
    },
    {
      "cell_type": "code",
      "source": [
        "sc.external.pp.magic(SRR26046013_DM_AOA_INH_GM, solver=\"approximate\")"
      ],
      "metadata": {
        "id": "eqrY_cb-CIwB"
      },
      "id": "eqrY_cb-CIwB",
      "execution_count": 95,
      "outputs": []
    },
    {
      "cell_type": "code",
      "source": [
        "# Copy over UMAP embedding\n",
        "SRR26046013_DM_AOA_INH_GM.obsm[\"X_umap\"] = SRR26046013_DM_AOA_INH.obsm[\"X_umap\"]"
      ],
      "metadata": {
        "id": "YbteW6XWCJzS"
      },
      "id": "YbteW6XWCJzS",
      "execution_count": 96,
      "outputs": []
    },
    {
      "cell_type": "markdown",
      "source": [
        "# Preprocess according to scanpy flow"
      ],
      "metadata": {
        "id": "H9UNeOM7DRxH"
      },
      "id": "H9UNeOM7DRxH"
    },
    {
      "cell_type": "code",
      "source": [
        "sc.pp.scale(SRR26046013_DM_AOA_INH_GM, max_value = 10)\n",
        "sc.pp.pca(SRR26046013_DM_AOA_INH_GM, svd_solver = 'arpack')\n",
        "sc.pp.neighbors(SRR26046013_DM_AOA_INH_GM, n_neighbors=10, n_pcs=40)\n",
        "sc.tl.umap(SRR26046013_DM_AOA_INH_GM)\n",
        "sc.tl.leiden(SRR26046013_DM_AOA_INH_GM)"
      ],
      "metadata": {
        "id": "Q4q8Ura_DQUN"
      },
      "id": "Q4q8Ura_DQUN",
      "execution_count": 97,
      "outputs": []
    },
    {
      "cell_type": "code",
      "source": [
        "SRR26046013_DM_AOA_INH_GM"
      ],
      "metadata": {
        "id": "Mt8JQVgYE1nc",
        "outputId": "286c9d46-4b07-4a0e-9473-cca12214aeb0",
        "colab": {
          "base_uri": "https://localhost:8080/"
        }
      },
      "id": "Mt8JQVgYE1nc",
      "execution_count": 98,
      "outputs": [
        {
          "output_type": "execute_result",
          "data": {
            "text/plain": [
              "AnnData object with n_obs × n_vars = 6015 × 53266\n",
              "    obs: 'n_fragment', 'frac_dup', 'frac_mito', 'tsse', 'doublet_probability', 'doublet_score', 'leiden'\n",
              "    var: 'n_cells', 'mean', 'std'\n",
              "    uns: 'log1p', 'pca', 'neighbors', 'umap', 'leiden'\n",
              "    obsm: 'X_umap', 'X_pca'\n",
              "    varm: 'PCs'\n",
              "    obsp: 'distances', 'connectivities'"
            ]
          },
          "metadata": {},
          "execution_count": 98
        }
      ]
    },
    {
      "cell_type": "markdown",
      "source": [
        "# Part II - Annotate using reference scRNA dataset"
      ],
      "metadata": {
        "id": "dBs4VMDb97ON"
      },
      "id": "dBs4VMDb97ON"
    },
    {
      "cell_type": "markdown",
      "source": [
        "# Read reference file"
      ],
      "metadata": {
        "id": "MdeHNmeCU8On"
      },
      "id": "MdeHNmeCU8On"
    },
    {
      "cell_type": "code",
      "source": [
        "reference = sc.read_h5ad('/content/drive/MyDrive/Colab Notebooks/PBMC_reference_atlas_final.h5ad')"
      ],
      "metadata": {
        "id": "vZ9PN_-57Rsb"
      },
      "id": "vZ9PN_-57Rsb",
      "execution_count": 99,
      "outputs": []
    },
    {
      "cell_type": "code",
      "source": [
        "reference"
      ],
      "metadata": {
        "id": "uXctMECL7fkK",
        "outputId": "9f61f5d1-f748-4a89-c06f-4dd3c64f8201",
        "colab": {
          "base_uri": "https://localhost:8080/"
        }
      },
      "id": "uXctMECL7fkK",
      "execution_count": 100,
      "outputs": [
        {
          "output_type": "execute_result",
          "data": {
            "text/plain": [
              "AnnData object with n_obs × n_vars = 39441 × 196618\n",
              "    obs: 'celltypes', 'tissue', 'dataset'"
            ]
          },
          "metadata": {},
          "execution_count": 100
        }
      ]
    },
    {
      "cell_type": "code",
      "source": [
        "SRR26046013_DM_AOA_INH_GM"
      ],
      "metadata": {
        "id": "p4HtV-8N8fSb",
        "outputId": "6ee2aa39-5972-4583-fd21-ca18f38ba509",
        "colab": {
          "base_uri": "https://localhost:8080/"
        }
      },
      "id": "p4HtV-8N8fSb",
      "execution_count": 101,
      "outputs": [
        {
          "output_type": "execute_result",
          "data": {
            "text/plain": [
              "AnnData object with n_obs × n_vars = 6015 × 53266\n",
              "    obs: 'n_fragment', 'frac_dup', 'frac_mito', 'tsse', 'doublet_probability', 'doublet_score', 'leiden'\n",
              "    var: 'n_cells', 'mean', 'std'\n",
              "    uns: 'log1p', 'pca', 'neighbors', 'umap', 'leiden'\n",
              "    obsm: 'X_umap', 'X_pca'\n",
              "    varm: 'PCs'\n",
              "    obsp: 'distances', 'connectivities'"
            ]
          },
          "metadata": {},
          "execution_count": 101
        }
      ]
    },
    {
      "cell_type": "markdown",
      "source": [
        "# Read cell by bin matrix"
      ],
      "metadata": {
        "id": "RFddd3Dy-Ifw"
      },
      "id": "RFddd3Dy-Ifw"
    },
    {
      "cell_type": "code",
      "execution_count": 104,
      "metadata": {
        "id": "__eI1yDCNEjJ"
      },
      "outputs": [],
      "source": [
        "atac = sc.read_h5ad('/content/drive/MyDrive/Colab Notebooks/fragments_matrix.h5ad')"
      ],
      "id": "__eI1yDCNEjJ"
    },
    {
      "cell_type": "code",
      "source": [
        "atac"
      ],
      "metadata": {
        "id": "wNW1P3_PNHnq",
        "outputId": "e2ff1e0c-5dfb-4183-c3d4-95d157c6e90f",
        "colab": {
          "base_uri": "https://localhost:8080/"
        }
      },
      "id": "wNW1P3_PNHnq",
      "execution_count": 105,
      "outputs": [
        {
          "output_type": "execute_result",
          "data": {
            "text/plain": [
              "AnnData object with n_obs × n_vars = 10210 × 0\n",
              "    obs: 'n_fragment', 'frac_dup', 'frac_mito'\n",
              "    uns: 'reference_sequences'\n",
              "    obsm: 'fragment_paired'"
            ]
          },
          "metadata": {},
          "execution_count": 105
        }
      ]
    },
    {
      "cell_type": "code",
      "source": [
        "query = snap.pp.make_gene_matrix(atac, snap.genome.hg38)"
      ],
      "metadata": {
        "id": "qzirmzt7NJt_"
      },
      "id": "qzirmzt7NJt_",
      "execution_count": 107,
      "outputs": []
    },
    {
      "cell_type": "code",
      "source": [
        "query"
      ],
      "metadata": {
        "id": "Hbg3CA5INnO7",
        "outputId": "5c8c29a6-babb-4867-dfd6-5a2f368e5504",
        "colab": {
          "base_uri": "https://localhost:8080/"
        }
      },
      "id": "Hbg3CA5INnO7",
      "execution_count": 108,
      "outputs": [
        {
          "output_type": "execute_result",
          "data": {
            "text/plain": [
              "AnnData object with n_obs × n_vars = 10210 × 60606\n",
              "    obs: 'n_fragment', 'frac_dup', 'frac_mito'"
            ]
          },
          "metadata": {},
          "execution_count": 108
        }
      ]
    },
    {
      "cell_type": "code",
      "source": [
        "query.obs['cell_type'] = pd.NA"
      ],
      "metadata": {
        "id": "9-lVY4rFNQpK"
      },
      "id": "9-lVY4rFNQpK",
      "execution_count": 111,
      "outputs": []
    },
    {
      "cell_type": "code",
      "source": [
        "data = ad.concat(\n",
        "    [reference, query],\n",
        "    join='inner',\n",
        "    label='batch',\n",
        "    keys=[\"reference\", \"query\"],\n",
        "    index_unique='_',\n",
        ")\n",
        "data"
      ],
      "metadata": {
        "id": "mn9nAw_lNttw",
        "outputId": "99a25eb3-ba78-4f4b-938d-7ca6812392de",
        "colab": {
          "base_uri": "https://localhost:8080/"
        }
      },
      "id": "mn9nAw_lNttw",
      "execution_count": 112,
      "outputs": [
        {
          "output_type": "stream",
          "name": "stderr",
          "text": [
            "/usr/local/lib/python3.11/dist-packages/anndata/_core/merge.py:279: FutureWarning:\n",
            "\n",
            "is_categorical_dtype is deprecated and will be removed in a future version. Use isinstance(dtype, CategoricalDtype) instead\n",
            "\n",
            "/usr/local/lib/python3.11/dist-packages/anndata/_core/aligned_df.py:68: ImplicitModificationWarning:\n",
            "\n",
            "Transforming to str index.\n",
            "\n"
          ]
        },
        {
          "output_type": "execute_result",
          "data": {
            "text/plain": [
              "AnnData object with n_obs × n_vars = 49651 × 0\n",
              "    obs: 'batch'"
            ]
          },
          "metadata": {},
          "execution_count": 112
        }
      ]
    },
    {
      "cell_type": "code",
      "source": [
        "data"
      ],
      "metadata": {
        "id": "y052e6QiOi2N",
        "outputId": "acd52494-2cae-4e08-9a56-5e6494d64093",
        "colab": {
          "base_uri": "https://localhost:8080/"
        }
      },
      "id": "y052e6QiOi2N",
      "execution_count": 118,
      "outputs": [
        {
          "output_type": "execute_result",
          "data": {
            "text/plain": [
              "AnnData object with n_obs × n_vars = 49651 × 0\n",
              "    obs: 'batch'"
            ]
          },
          "metadata": {},
          "execution_count": 118
        }
      ]
    },
    {
      "cell_type": "code",
      "source": [
        "data.obs"
      ],
      "metadata": {
        "id": "_0LC3YhSOlCO",
        "outputId": "d0eaa781-e04f-42f9-830f-6ce31a302167",
        "colab": {
          "base_uri": "https://localhost:8080/",
          "height": 668
        }
      },
      "id": "_0LC3YhSOlCO",
      "execution_count": 119,
      "outputs": [
        {
          "output_type": "stream",
          "name": "stderr",
          "text": [
            "/usr/local/lib/python3.11/dist-packages/IPython/lib/pretty.py:700: FutureWarning:\n",
            "\n",
            "is_categorical_dtype is deprecated and will be removed in a future version. Use isinstance(dtype, CategoricalDtype) instead\n",
            "\n"
          ]
        },
        {
          "output_type": "error",
          "ename": "AttributeError",
          "evalue": "'Index' object has no attribute '_format_flat'",
          "traceback": [
            "\u001b[0;31m---------------------------------------------------------------------------\u001b[0m",
            "\u001b[0;31mAttributeError\u001b[0m                            Traceback (most recent call last)",
            "\u001b[0;32m/usr/local/lib/python3.11/dist-packages/IPython/core/formatters.py\u001b[0m in \u001b[0;36m__call__\u001b[0;34m(self, obj)\u001b[0m\n\u001b[1;32m    339\u001b[0m                 \u001b[0;32mpass\u001b[0m\u001b[0;34m\u001b[0m\u001b[0;34m\u001b[0m\u001b[0m\n\u001b[1;32m    340\u001b[0m             \u001b[0;32melse\u001b[0m\u001b[0;34m:\u001b[0m\u001b[0;34m\u001b[0m\u001b[0;34m\u001b[0m\u001b[0m\n\u001b[0;32m--> 341\u001b[0;31m                 \u001b[0;32mreturn\u001b[0m \u001b[0mprinter\u001b[0m\u001b[0;34m(\u001b[0m\u001b[0mobj\u001b[0m\u001b[0;34m)\u001b[0m\u001b[0;34m\u001b[0m\u001b[0;34m\u001b[0m\u001b[0m\n\u001b[0m\u001b[1;32m    342\u001b[0m             \u001b[0;31m# Finally look for special method names\u001b[0m\u001b[0;34m\u001b[0m\u001b[0;34m\u001b[0m\u001b[0m\n\u001b[1;32m    343\u001b[0m             \u001b[0mmethod\u001b[0m \u001b[0;34m=\u001b[0m \u001b[0mget_real_method\u001b[0m\u001b[0;34m(\u001b[0m\u001b[0mobj\u001b[0m\u001b[0;34m,\u001b[0m \u001b[0mself\u001b[0m\u001b[0;34m.\u001b[0m\u001b[0mprint_method\u001b[0m\u001b[0;34m)\u001b[0m\u001b[0;34m\u001b[0m\u001b[0;34m\u001b[0m\u001b[0m\n",
            "\u001b[0;32m/usr/local/lib/python3.11/dist-packages/google/colab/_quickchart_hint_button.py\u001b[0m in \u001b[0;36m_df_formatter_with_hint_buttons\u001b[0;34m(df)\u001b[0m\n\u001b[1;32m    256\u001b[0m     \u001b[0mbuttons\u001b[0m\u001b[0;34m.\u001b[0m\u001b[0mappend\u001b[0m\u001b[0;34m(\u001b[0m\u001b[0m_generate_with_variable\u001b[0m\u001b[0;34m.\u001b[0m\u001b[0mget_html\u001b[0m\u001b[0;34m(\u001b[0m\u001b[0mdf\u001b[0m\u001b[0;34m)\u001b[0m\u001b[0;34m)\u001b[0m\u001b[0;34m\u001b[0m\u001b[0;34m\u001b[0m\u001b[0m\n\u001b[1;32m    257\u001b[0m   \u001b[0;31m# pylint: disable=protected-access\u001b[0m\u001b[0;34m\u001b[0m\u001b[0;34m\u001b[0m\u001b[0m\n\u001b[0;32m--> 258\u001b[0;31m   html = _interactive_table_hint_button._df_formatter_with_interactive_hint(\n\u001b[0m\u001b[1;32m    259\u001b[0m       \u001b[0mdf\u001b[0m\u001b[0;34m,\u001b[0m \u001b[0mbuttons\u001b[0m\u001b[0;34m\u001b[0m\u001b[0;34m\u001b[0m\u001b[0m\n\u001b[1;32m    260\u001b[0m   )\n",
            "\u001b[0;32m/usr/local/lib/python3.11/dist-packages/google/colab/_interactive_table_hint_button.py\u001b[0m in \u001b[0;36m_df_formatter_with_interactive_hint\u001b[0;34m(dataframe, buttons)\u001b[0m\n\u001b[1;32m    120\u001b[0m     \u001b[0mbuttons\u001b[0m \u001b[0;34m=\u001b[0m \u001b[0;34m[\u001b[0m\u001b[0;34m]\u001b[0m\u001b[0;34m\u001b[0m\u001b[0;34m\u001b[0m\u001b[0m\n\u001b[1;32m    121\u001b[0m   \u001b[0mbuttons\u001b[0m\u001b[0;34m.\u001b[0m\u001b[0minsert\u001b[0m\u001b[0;34m(\u001b[0m\u001b[0;36m0\u001b[0m\u001b[0;34m,\u001b[0m \u001b[0m_get_button_html\u001b[0m\u001b[0;34m(\u001b[0m\u001b[0mkey\u001b[0m\u001b[0;34m)\u001b[0m\u001b[0;34m)\u001b[0m\u001b[0;34m\u001b[0m\u001b[0;34m\u001b[0m\u001b[0m\n\u001b[0;32m--> 122\u001b[0;31m   \u001b[0;32mreturn\u001b[0m \u001b[0m_get_html\u001b[0m\u001b[0;34m(\u001b[0m\u001b[0mdataframe\u001b[0m\u001b[0;34m,\u001b[0m \u001b[0mkey\u001b[0m\u001b[0;34m,\u001b[0m \u001b[0mbuttons\u001b[0m\u001b[0;34m)\u001b[0m\u001b[0;34m\u001b[0m\u001b[0;34m\u001b[0m\u001b[0m\n\u001b[0m\u001b[1;32m    123\u001b[0m \u001b[0;34m\u001b[0m\u001b[0m\n\u001b[1;32m    124\u001b[0m \u001b[0;34m\u001b[0m\u001b[0m\n",
            "\u001b[0;32m/usr/local/lib/python3.11/dist-packages/google/colab/_interactive_table_hint_button.py\u001b[0m in \u001b[0;36m_get_html\u001b[0;34m(dataframe, key, buttons)\u001b[0m\n\u001b[1;32m    176\u001b[0m   \"\"\".format(\n\u001b[1;32m    177\u001b[0m       \u001b[0mkey\u001b[0m\u001b[0;34m=\u001b[0m\u001b[0mkey\u001b[0m\u001b[0;34m,\u001b[0m\u001b[0;34m\u001b[0m\u001b[0;34m\u001b[0m\u001b[0m\n\u001b[0;32m--> 178\u001b[0;31m       \u001b[0mdf_html\u001b[0m\u001b[0;34m=\u001b[0m\u001b[0mdataframe\u001b[0m\u001b[0;34m.\u001b[0m\u001b[0m_repr_html_\u001b[0m\u001b[0;34m(\u001b[0m\u001b[0;34m)\u001b[0m\u001b[0;34m,\u001b[0m  \u001b[0;31m# pylint: disable=protected-access\u001b[0m\u001b[0;34m\u001b[0m\u001b[0;34m\u001b[0m\u001b[0m\n\u001b[0m\u001b[1;32m    179\u001b[0m       \u001b[0mbuttons_str\u001b[0m\u001b[0;34m=\u001b[0m\u001b[0mbuttons_str\u001b[0m\u001b[0;34m,\u001b[0m\u001b[0;34m\u001b[0m\u001b[0;34m\u001b[0m\u001b[0m\n\u001b[1;32m    180\u001b[0m   )\n",
            "\u001b[0;32m/usr/local/lib/python3.11/dist-packages/pandas/core/frame.py\u001b[0m in \u001b[0;36m_repr_html_\u001b[0;34m(self)\u001b[0m\n\u001b[1;32m   1176\u001b[0m         \u001b[0;31m# the width of the rendered repr\u001b[0m\u001b[0;34m\u001b[0m\u001b[0;34m\u001b[0m\u001b[0m\n\u001b[1;32m   1177\u001b[0m         \u001b[0mbuf\u001b[0m \u001b[0;34m=\u001b[0m \u001b[0mStringIO\u001b[0m\u001b[0;34m(\u001b[0m\u001b[0;34m)\u001b[0m\u001b[0;34m\u001b[0m\u001b[0;34m\u001b[0m\u001b[0m\n\u001b[0;32m-> 1178\u001b[0;31m \u001b[0;34m\u001b[0m\u001b[0m\n\u001b[0m\u001b[1;32m   1179\u001b[0m         \u001b[0;31m# only care about the stuff we'll actually print out\u001b[0m\u001b[0;34m\u001b[0m\u001b[0;34m\u001b[0m\u001b[0m\n\u001b[1;32m   1180\u001b[0m         \u001b[0;31m# and to_string on entire frame may be expensive\u001b[0m\u001b[0;34m\u001b[0m\u001b[0;34m\u001b[0m\u001b[0m\n",
            "\u001b[0;32m/usr/local/lib/python3.11/dist-packages/pandas/io/formats/format.py\u001b[0m in \u001b[0;36mto_html\u001b[0;34m(self, buf, encoding, classes, notebook, border, table_id, render_links)\u001b[0m\n\u001b[1;32m   1072\u001b[0m         \u001b[0;32mraise\u001b[0m \u001b[0mTypeError\u001b[0m\u001b[0;34m(\u001b[0m\u001b[0;34m\"buf is not a file name and it has no write method\"\u001b[0m\u001b[0;34m)\u001b[0m\u001b[0;34m\u001b[0m\u001b[0;34m\u001b[0m\u001b[0m\n\u001b[1;32m   1073\u001b[0m \u001b[0;34m\u001b[0m\u001b[0m\n\u001b[0;32m-> 1074\u001b[0;31m \u001b[0;34m\u001b[0m\u001b[0m\n\u001b[0m\u001b[1;32m   1075\u001b[0m \u001b[0;31m# ----------------------------------------------------------------------\u001b[0m\u001b[0;34m\u001b[0m\u001b[0;34m\u001b[0m\u001b[0m\n\u001b[1;32m   1076\u001b[0m \u001b[0;31m# Array formatters\u001b[0m\u001b[0;34m\u001b[0m\u001b[0;34m\u001b[0m\u001b[0m\n",
            "\u001b[0;32m/usr/local/lib/python3.11/dist-packages/pandas/io/formats/html.py\u001b[0m in \u001b[0;36mto_string\u001b[0;34m(self)\u001b[0m\n\u001b[1;32m     86\u001b[0m \u001b[0;34m\u001b[0m\u001b[0m\n\u001b[1;32m     87\u001b[0m     \u001b[0;32mdef\u001b[0m \u001b[0mto_string\u001b[0m\u001b[0;34m(\u001b[0m\u001b[0mself\u001b[0m\u001b[0;34m)\u001b[0m \u001b[0;34m->\u001b[0m \u001b[0mstr\u001b[0m\u001b[0;34m:\u001b[0m\u001b[0;34m\u001b[0m\u001b[0;34m\u001b[0m\u001b[0m\n\u001b[0;32m---> 88\u001b[0;31m         \u001b[0mlines\u001b[0m \u001b[0;34m=\u001b[0m \u001b[0mself\u001b[0m\u001b[0;34m.\u001b[0m\u001b[0mrender\u001b[0m\u001b[0;34m(\u001b[0m\u001b[0;34m)\u001b[0m\u001b[0;34m\u001b[0m\u001b[0;34m\u001b[0m\u001b[0m\n\u001b[0m\u001b[1;32m     89\u001b[0m         \u001b[0;32mif\u001b[0m \u001b[0many\u001b[0m\u001b[0;34m(\u001b[0m\u001b[0misinstance\u001b[0m\u001b[0;34m(\u001b[0m\u001b[0mx\u001b[0m\u001b[0;34m,\u001b[0m \u001b[0mstr\u001b[0m\u001b[0;34m)\u001b[0m \u001b[0;32mfor\u001b[0m \u001b[0mx\u001b[0m \u001b[0;32min\u001b[0m \u001b[0mlines\u001b[0m\u001b[0;34m)\u001b[0m\u001b[0;34m:\u001b[0m\u001b[0;34m\u001b[0m\u001b[0;34m\u001b[0m\u001b[0m\n\u001b[1;32m     90\u001b[0m             \u001b[0mlines\u001b[0m \u001b[0;34m=\u001b[0m \u001b[0;34m[\u001b[0m\u001b[0mstr\u001b[0m\u001b[0;34m(\u001b[0m\u001b[0mx\u001b[0m\u001b[0;34m)\u001b[0m \u001b[0;32mfor\u001b[0m \u001b[0mx\u001b[0m \u001b[0;32min\u001b[0m \u001b[0mlines\u001b[0m\u001b[0;34m]\u001b[0m\u001b[0;34m\u001b[0m\u001b[0;34m\u001b[0m\u001b[0m\n",
            "\u001b[0;32m/usr/local/lib/python3.11/dist-packages/pandas/io/formats/html.py\u001b[0m in \u001b[0;36mrender\u001b[0;34m(self)\u001b[0m\n\u001b[1;32m    642\u001b[0m         \u001b[0mself\u001b[0m\u001b[0;34m.\u001b[0m\u001b[0mwrite\u001b[0m\u001b[0;34m(\u001b[0m\u001b[0;34m\"<div>\"\u001b[0m\u001b[0;34m)\u001b[0m\u001b[0;34m\u001b[0m\u001b[0;34m\u001b[0m\u001b[0m\n\u001b[1;32m    643\u001b[0m         \u001b[0mself\u001b[0m\u001b[0;34m.\u001b[0m\u001b[0mwrite_style\u001b[0m\u001b[0;34m(\u001b[0m\u001b[0;34m)\u001b[0m\u001b[0;34m\u001b[0m\u001b[0;34m\u001b[0m\u001b[0m\n\u001b[0;32m--> 644\u001b[0;31m         \u001b[0msuper\u001b[0m\u001b[0;34m(\u001b[0m\u001b[0;34m)\u001b[0m\u001b[0;34m.\u001b[0m\u001b[0mrender\u001b[0m\u001b[0;34m(\u001b[0m\u001b[0;34m)\u001b[0m\u001b[0;34m\u001b[0m\u001b[0;34m\u001b[0m\u001b[0m\n\u001b[0m\u001b[1;32m    645\u001b[0m         \u001b[0mself\u001b[0m\u001b[0;34m.\u001b[0m\u001b[0mwrite\u001b[0m\u001b[0;34m(\u001b[0m\u001b[0;34m\"</div>\"\u001b[0m\u001b[0;34m)\u001b[0m\u001b[0;34m\u001b[0m\u001b[0;34m\u001b[0m\u001b[0m\n\u001b[1;32m    646\u001b[0m         \u001b[0;32mreturn\u001b[0m \u001b[0mself\u001b[0m\u001b[0;34m.\u001b[0m\u001b[0melements\u001b[0m\u001b[0;34m\u001b[0m\u001b[0;34m\u001b[0m\u001b[0m\n",
            "\u001b[0;32m/usr/local/lib/python3.11/dist-packages/pandas/io/formats/html.py\u001b[0m in \u001b[0;36mrender\u001b[0;34m(self)\u001b[0m\n\u001b[1;32m     92\u001b[0m \u001b[0;34m\u001b[0m\u001b[0m\n\u001b[1;32m     93\u001b[0m     \u001b[0;32mdef\u001b[0m \u001b[0mrender\u001b[0m\u001b[0;34m(\u001b[0m\u001b[0mself\u001b[0m\u001b[0;34m)\u001b[0m \u001b[0;34m->\u001b[0m \u001b[0mlist\u001b[0m\u001b[0;34m[\u001b[0m\u001b[0mstr\u001b[0m\u001b[0;34m]\u001b[0m\u001b[0;34m:\u001b[0m\u001b[0;34m\u001b[0m\u001b[0;34m\u001b[0m\u001b[0m\n\u001b[0;32m---> 94\u001b[0;31m         \u001b[0mself\u001b[0m\u001b[0;34m.\u001b[0m\u001b[0m_write_table\u001b[0m\u001b[0;34m(\u001b[0m\u001b[0;34m)\u001b[0m\u001b[0;34m\u001b[0m\u001b[0;34m\u001b[0m\u001b[0m\n\u001b[0m\u001b[1;32m     95\u001b[0m \u001b[0;34m\u001b[0m\u001b[0m\n\u001b[1;32m     96\u001b[0m         \u001b[0;32mif\u001b[0m \u001b[0mself\u001b[0m\u001b[0;34m.\u001b[0m\u001b[0mshould_show_dimensions\u001b[0m\u001b[0;34m:\u001b[0m\u001b[0;34m\u001b[0m\u001b[0;34m\u001b[0m\u001b[0m\n",
            "\u001b[0;32m/usr/local/lib/python3.11/dist-packages/pandas/io/formats/html.py\u001b[0m in \u001b[0;36m_write_table\u001b[0;34m(self, indent)\u001b[0m\n\u001b[1;32m    265\u001b[0m \u001b[0;34m\u001b[0m\u001b[0m\n\u001b[1;32m    266\u001b[0m         \u001b[0;32mif\u001b[0m \u001b[0mself\u001b[0m\u001b[0;34m.\u001b[0m\u001b[0mfmt\u001b[0m\u001b[0;34m.\u001b[0m\u001b[0mheader\u001b[0m \u001b[0;32mor\u001b[0m \u001b[0mself\u001b[0m\u001b[0;34m.\u001b[0m\u001b[0mshow_row_idx_names\u001b[0m\u001b[0;34m:\u001b[0m\u001b[0;34m\u001b[0m\u001b[0;34m\u001b[0m\u001b[0m\n\u001b[0;32m--> 267\u001b[0;31m             \u001b[0mself\u001b[0m\u001b[0;34m.\u001b[0m\u001b[0m_write_header\u001b[0m\u001b[0;34m(\u001b[0m\u001b[0mindent\u001b[0m \u001b[0;34m+\u001b[0m \u001b[0mself\u001b[0m\u001b[0;34m.\u001b[0m\u001b[0mindent_delta\u001b[0m\u001b[0;34m)\u001b[0m\u001b[0;34m\u001b[0m\u001b[0;34m\u001b[0m\u001b[0m\n\u001b[0m\u001b[1;32m    268\u001b[0m \u001b[0;34m\u001b[0m\u001b[0m\n\u001b[1;32m    269\u001b[0m         \u001b[0mself\u001b[0m\u001b[0;34m.\u001b[0m\u001b[0m_write_body\u001b[0m\u001b[0;34m(\u001b[0m\u001b[0mindent\u001b[0m \u001b[0;34m+\u001b[0m \u001b[0mself\u001b[0m\u001b[0;34m.\u001b[0m\u001b[0mindent_delta\u001b[0m\u001b[0;34m)\u001b[0m\u001b[0;34m\u001b[0m\u001b[0;34m\u001b[0m\u001b[0m\n",
            "\u001b[0;32m/usr/local/lib/python3.11/dist-packages/pandas/io/formats/html.py\u001b[0m in \u001b[0;36m_write_header\u001b[0;34m(self, indent)\u001b[0m\n\u001b[1;32m    401\u001b[0m \u001b[0;34m\u001b[0m\u001b[0m\n\u001b[1;32m    402\u001b[0m         \u001b[0;32mif\u001b[0m \u001b[0mself\u001b[0m\u001b[0;34m.\u001b[0m\u001b[0mfmt\u001b[0m\u001b[0;34m.\u001b[0m\u001b[0mheader\u001b[0m\u001b[0;34m:\u001b[0m\u001b[0;34m\u001b[0m\u001b[0;34m\u001b[0m\u001b[0m\n\u001b[0;32m--> 403\u001b[0;31m             \u001b[0mself\u001b[0m\u001b[0;34m.\u001b[0m\u001b[0m_write_col_header\u001b[0m\u001b[0;34m(\u001b[0m\u001b[0mindent\u001b[0m \u001b[0;34m+\u001b[0m \u001b[0mself\u001b[0m\u001b[0;34m.\u001b[0m\u001b[0mindent_delta\u001b[0m\u001b[0;34m)\u001b[0m\u001b[0;34m\u001b[0m\u001b[0;34m\u001b[0m\u001b[0m\n\u001b[0m\u001b[1;32m    404\u001b[0m \u001b[0;34m\u001b[0m\u001b[0m\n\u001b[1;32m    405\u001b[0m         \u001b[0;32mif\u001b[0m \u001b[0mself\u001b[0m\u001b[0;34m.\u001b[0m\u001b[0mshow_row_idx_names\u001b[0m\u001b[0;34m:\u001b[0m\u001b[0;34m\u001b[0m\u001b[0;34m\u001b[0m\u001b[0m\n",
            "\u001b[0;32m/usr/local/lib/python3.11/dist-packages/pandas/io/formats/html.py\u001b[0m in \u001b[0;36m_write_col_header\u001b[0;34m(self, indent)\u001b[0m\n\u001b[1;32m    381\u001b[0m                 \u001b[0;32melse\u001b[0m\u001b[0;34m:\u001b[0m\u001b[0;34m\u001b[0m\u001b[0;34m\u001b[0m\u001b[0m\n\u001b[1;32m    382\u001b[0m                     \u001b[0mrow\u001b[0m\u001b[0;34m.\u001b[0m\u001b[0mappend\u001b[0m\u001b[0;34m(\u001b[0m\u001b[0;34m\"\"\u001b[0m\u001b[0;34m)\u001b[0m\u001b[0;34m\u001b[0m\u001b[0;34m\u001b[0m\u001b[0m\n\u001b[0;32m--> 383\u001b[0;31m             \u001b[0mrow\u001b[0m\u001b[0;34m.\u001b[0m\u001b[0mextend\u001b[0m\u001b[0;34m(\u001b[0m\u001b[0mself\u001b[0m\u001b[0;34m.\u001b[0m\u001b[0m_get_columns_formatted_values\u001b[0m\u001b[0;34m(\u001b[0m\u001b[0;34m)\u001b[0m\u001b[0;34m)\u001b[0m\u001b[0;34m\u001b[0m\u001b[0;34m\u001b[0m\u001b[0m\n\u001b[0m\u001b[1;32m    384\u001b[0m             \u001b[0malign\u001b[0m \u001b[0;34m=\u001b[0m \u001b[0mself\u001b[0m\u001b[0;34m.\u001b[0m\u001b[0mfmt\u001b[0m\u001b[0;34m.\u001b[0m\u001b[0mjustify\u001b[0m\u001b[0;34m\u001b[0m\u001b[0;34m\u001b[0m\u001b[0m\n\u001b[1;32m    385\u001b[0m \u001b[0;34m\u001b[0m\u001b[0m\n",
            "\u001b[0;32m/usr/local/lib/python3.11/dist-packages/pandas/io/formats/html.py\u001b[0m in \u001b[0;36m_get_columns_formatted_values\u001b[0;34m(self)\u001b[0m\n\u001b[1;32m    609\u001b[0m     \u001b[0;32mdef\u001b[0m \u001b[0m_get_columns_formatted_values\u001b[0m\u001b[0;34m(\u001b[0m\u001b[0mself\u001b[0m\u001b[0;34m)\u001b[0m \u001b[0;34m->\u001b[0m \u001b[0mlist\u001b[0m\u001b[0;34m[\u001b[0m\u001b[0mstr\u001b[0m\u001b[0;34m]\u001b[0m\u001b[0;34m:\u001b[0m\u001b[0;34m\u001b[0m\u001b[0;34m\u001b[0m\u001b[0m\n\u001b[1;32m    610\u001b[0m         \u001b[0;31m# only reached with non-Multi Index\u001b[0m\u001b[0;34m\u001b[0m\u001b[0;34m\u001b[0m\u001b[0m\n\u001b[0;32m--> 611\u001b[0;31m         \u001b[0;32mreturn\u001b[0m \u001b[0mself\u001b[0m\u001b[0;34m.\u001b[0m\u001b[0mcolumns\u001b[0m\u001b[0;34m.\u001b[0m\u001b[0m_format_flat\u001b[0m\u001b[0;34m(\u001b[0m\u001b[0minclude_name\u001b[0m\u001b[0;34m=\u001b[0m\u001b[0;32mFalse\u001b[0m\u001b[0;34m)\u001b[0m\u001b[0;34m\u001b[0m\u001b[0;34m\u001b[0m\u001b[0m\n\u001b[0m\u001b[1;32m    612\u001b[0m \u001b[0;34m\u001b[0m\u001b[0m\n\u001b[1;32m    613\u001b[0m     \u001b[0;32mdef\u001b[0m \u001b[0mwrite_style\u001b[0m\u001b[0;34m(\u001b[0m\u001b[0mself\u001b[0m\u001b[0;34m)\u001b[0m \u001b[0;34m->\u001b[0m \u001b[0;32mNone\u001b[0m\u001b[0;34m:\u001b[0m\u001b[0;34m\u001b[0m\u001b[0;34m\u001b[0m\u001b[0m\n",
            "\u001b[0;31mAttributeError\u001b[0m: 'Index' object has no attribute '_format_flat'"
          ]
        },
        {
          "output_type": "execute_result",
          "data": {
            "text/plain": [
              "                                                        batch\n",
              "Naive_CD4_T_Cells_Rep2#TACCTCGAGGAAGAAC-1_refer...  reference\n",
              "PBMC_Rep2#GGCGAAATCGCAAGCC-1_reference              reference\n",
              "PBMC_Rep3#ACAGACTTCACGATTG-1_reference              reference\n",
              "Naive_CD4_T_Cells_Rep2#GATCGTAAGGGATCCA-1_refer...  reference\n",
              "PBMC_Rep3#TCCATCGAGTGGACGT-1_reference              reference\n",
              "...                                                       ...\n",
              "TTTGGGATGGCGGTTC_query                                  query\n",
              "TTTGGGATGTCCAGCG_query                                  query\n",
              "TTTGGGATGTGTTCCC_query                                  query\n",
              "TTTGGGATGTTAGCTG_query                                  query\n",
              "TTTGGGATGTTGCGTA_query                                  query\n",
              "\n",
              "[49651 rows x 1 columns]"
            ],
            "application/vnd.google.colaboratory.intrinsic+json": {
              "type": "dataframe",
              "summary": "{\n  \"name\": \"data\",\n  \"rows\": 49651,\n  \"fields\": [\n    {\n      \"column\": \"batch\",\n      \"properties\": {\n        \"dtype\": \"category\",\n        \"num_unique_values\": 2,\n        \"samples\": [\n          \"query\",\n          \"reference\"\n        ],\n        \"semantic_type\": \"\",\n        \"description\": \"\"\n      }\n    }\n  ]\n}"
            }
          },
          "metadata": {},
          "execution_count": 119
        }
      ]
    },
    {
      "cell_type": "markdown",
      "source": [
        "# Data integration\n",
        "First we setup the scvi-tools to pretrain the model."
      ],
      "metadata": {
        "id": "t8YrhAaFN1U0"
      },
      "id": "t8YrhAaFN1U0"
    },
    {
      "cell_type": "code",
      "source": [
        "# Train with scvi - part I"
      ],
      "metadata": {
        "id": "5WFy85hKPxKr"
      },
      "id": "5WFy85hKPxKr",
      "execution_count": null,
      "outputs": []
    },
    {
      "cell_type": "code",
      "source": [
        "scvi.model.SCVI.setup_anndata(data, batch_key=\"batch\")\n",
        "vae = scvi.model.SCVI(\n",
        "    data,\n",
        "    n_layers=2,\n",
        "    n_latent=30,\n",
        "    gene_likelihood=\"nb\",\n",
        "    dispersion=\"gene-batch\",\n",
        ")"
      ],
      "metadata": {
        "id": "YNdnQPLIN3_g",
        "outputId": "d9c9f837-a555-46b8-cae9-8a9cde437b44",
        "colab": {
          "base_uri": "https://localhost:8080/"
        }
      },
      "id": "YNdnQPLIN3_g",
      "execution_count": 120,
      "outputs": [
        {
          "output_type": "stream",
          "name": "stderr",
          "text": [
            "/usr/local/lib/python3.11/dist-packages/scvi/model/_scvi.py:159: UserWarning:\n",
            "\n",
            "This dataset has some empty cells, this might fail inference.Data should be filtered with `scanpy.pp.filter_cells()`\n",
            "\n",
            "/usr/local/lib/python3.11/dist-packages/torch/nn/init.py:511: UserWarning:\n",
            "\n",
            "Initializing zero-element tensors is a no-op\n",
            "\n"
          ]
        }
      ]
    },
    {
      "cell_type": "code",
      "source": [
        "vae.train(max_epochs=1000, early_stopping=True)"
      ],
      "metadata": {
        "id": "lGE07eeTO1uk",
        "outputId": "e0a75d74-3276-4b3a-b7c0-7543b81ae65a",
        "colab": {
          "base_uri": "https://localhost:8080/",
          "height": 208,
          "referenced_widgets": [
            "8280823b783340e8abd27bdd2e498c58",
            "46bca02f7c674bbea0170eda90e738d8",
            "d4dc9a35d6594816b41602809a5195f6",
            "13cfc2afd69045abb5a075fca2fa9cbd",
            "3e857dc3d6d741f7956149bfdfdfef8e",
            "b2430b80fb0841cca2df80eda0c11d8f",
            "7aa503b8a21a4f3bab69dab171ee31b4",
            "d948c39c69b04af083e7bd63cc0aac8c",
            "76d69c353f3d42c38b5b0fd9f5426b0c",
            "d5609ed6bb0745f4853c61e8049c747e",
            "43630a18fadc4a9699d7612a64506fa5"
          ]
        }
      },
      "id": "lGE07eeTO1uk",
      "execution_count": null,
      "outputs": [
        {
          "output_type": "stream",
          "name": "stderr",
          "text": [
            "INFO: GPU available: False, used: False\n",
            "INFO:lightning.pytorch.utilities.rank_zero:GPU available: False, used: False\n",
            "INFO: TPU available: False, using: 0 TPU cores\n",
            "INFO:lightning.pytorch.utilities.rank_zero:TPU available: False, using: 0 TPU cores\n",
            "INFO: HPU available: False, using: 0 HPUs\n",
            "INFO:lightning.pytorch.utilities.rank_zero:HPU available: False, using: 0 HPUs\n",
            "/usr/local/lib/python3.11/dist-packages/lightning/pytorch/trainer/connectors/data_connector.py:425: The 'train_dataloader' does not have many workers which may be a bottleneck. Consider increasing the value of the `num_workers` argument` to `num_workers=7` in the `DataLoader` to improve performance.\n",
            "/usr/local/lib/python3.11/dist-packages/lightning/pytorch/trainer/connectors/data_connector.py:425: The 'val_dataloader' does not have many workers which may be a bottleneck. Consider increasing the value of the `num_workers` argument` to `num_workers=7` in the `DataLoader` to improve performance.\n"
          ]
        },
        {
          "output_type": "display_data",
          "data": {
            "text/plain": [
              "Training:   0%|          | 0/1000 [00:00<?, ?it/s]"
            ],
            "application/vnd.jupyter.widget-view+json": {
              "version_major": 2,
              "version_minor": 0,
              "model_id": "8280823b783340e8abd27bdd2e498c58"
            }
          },
          "metadata": {}
        }
      ]
    },
    {
      "cell_type": "code",
      "source": [
        "# Plot the training history\n",
        "ax = vae.history['elbo_train'][1:].plot()\n",
        "vae.history['elbo_validation'].plot(ax=ax)"
      ],
      "metadata": {
        "id": "C8oDjp8nO3fL"
      },
      "id": "C8oDjp8nO3fL",
      "execution_count": null,
      "outputs": []
    },
    {
      "cell_type": "code",
      "source": [
        "data.obs[\"celltype_scanvi\"] = 'Unknown'\n",
        "ref_idx = data.obs['batch'] == \"reference\"\n",
        "data.obs[\"celltype_scanvi\"][ref_idx] = data.obs['cell_type'][ref_idx]"
      ],
      "metadata": {
        "id": "O6lAgB3APRMU"
      },
      "id": "O6lAgB3APRMU",
      "execution_count": null,
      "outputs": []
    },
    {
      "cell_type": "code",
      "source": [
        "# Train with scanvi - part II"
      ],
      "metadata": {
        "id": "AnMZad8jPvXn"
      },
      "id": "AnMZad8jPvXn",
      "execution_count": null,
      "outputs": []
    },
    {
      "cell_type": "code",
      "source": [
        "lvae = scvi.model.SCANVI.from_scvi_model(\n",
        "    vae,\n",
        "    adata=data,\n",
        "    labels_key=\"celltype_scanvi\",\n",
        "    unlabeled_category=\"Unknown\",\n",
        ")"
      ],
      "metadata": {
        "id": "3CJa7nHaPg-h"
      },
      "id": "3CJa7nHaPg-h",
      "execution_count": null,
      "outputs": []
    },
    {
      "cell_type": "code",
      "source": [
        "lvae.train(max_epochs=1000, n_samples_per_label=100)"
      ],
      "metadata": {
        "id": "Dg66OHVpPmbQ"
      },
      "id": "Dg66OHVpPmbQ",
      "execution_count": null,
      "outputs": []
    }
  ],
  "metadata": {
    "colab": {
      "machine_shape": "hm",
      "provenance": [],
      "toc_visible": true,
      "include_colab_link": true
    },
    "kernelspec": {
      "display_name": "Python 3",
      "name": "python3"
    },
    "language_info": {
      "name": "python"
    },
    "widgets": {
      "application/vnd.jupyter.widget-state+json": {
        "8280823b783340e8abd27bdd2e498c58": {
          "model_module": "@jupyter-widgets/controls",
          "model_name": "HBoxModel",
          "model_module_version": "1.5.0",
          "state": {
            "_dom_classes": [],
            "_model_module": "@jupyter-widgets/controls",
            "_model_module_version": "1.5.0",
            "_model_name": "HBoxModel",
            "_view_count": null,
            "_view_module": "@jupyter-widgets/controls",
            "_view_module_version": "1.5.0",
            "_view_name": "HBoxView",
            "box_style": "",
            "children": [
              "IPY_MODEL_46bca02f7c674bbea0170eda90e738d8",
              "IPY_MODEL_d4dc9a35d6594816b41602809a5195f6",
              "IPY_MODEL_13cfc2afd69045abb5a075fca2fa9cbd"
            ],
            "layout": "IPY_MODEL_3e857dc3d6d741f7956149bfdfdfef8e"
          }
        },
        "46bca02f7c674bbea0170eda90e738d8": {
          "model_module": "@jupyter-widgets/controls",
          "model_name": "HTMLModel",
          "model_module_version": "1.5.0",
          "state": {
            "_dom_classes": [],
            "_model_module": "@jupyter-widgets/controls",
            "_model_module_version": "1.5.0",
            "_model_name": "HTMLModel",
            "_view_count": null,
            "_view_module": "@jupyter-widgets/controls",
            "_view_module_version": "1.5.0",
            "_view_name": "HTMLView",
            "description": "",
            "description_tooltip": null,
            "layout": "IPY_MODEL_b2430b80fb0841cca2df80eda0c11d8f",
            "placeholder": "​",
            "style": "IPY_MODEL_7aa503b8a21a4f3bab69dab171ee31b4",
            "value": "Epoch 44/1000:   4%"
          }
        },
        "d4dc9a35d6594816b41602809a5195f6": {
          "model_module": "@jupyter-widgets/controls",
          "model_name": "FloatProgressModel",
          "model_module_version": "1.5.0",
          "state": {
            "_dom_classes": [],
            "_model_module": "@jupyter-widgets/controls",
            "_model_module_version": "1.5.0",
            "_model_name": "FloatProgressModel",
            "_view_count": null,
            "_view_module": "@jupyter-widgets/controls",
            "_view_module_version": "1.5.0",
            "_view_name": "ProgressView",
            "bar_style": "",
            "description": "",
            "description_tooltip": null,
            "layout": "IPY_MODEL_d948c39c69b04af083e7bd63cc0aac8c",
            "max": 1000,
            "min": 0,
            "orientation": "horizontal",
            "style": "IPY_MODEL_76d69c353f3d42c38b5b0fd9f5426b0c",
            "value": 43
          }
        },
        "13cfc2afd69045abb5a075fca2fa9cbd": {
          "model_module": "@jupyter-widgets/controls",
          "model_name": "HTMLModel",
          "model_module_version": "1.5.0",
          "state": {
            "_dom_classes": [],
            "_model_module": "@jupyter-widgets/controls",
            "_model_module_version": "1.5.0",
            "_model_name": "HTMLModel",
            "_view_count": null,
            "_view_module": "@jupyter-widgets/controls",
            "_view_module_version": "1.5.0",
            "_view_name": "HTMLView",
            "description": "",
            "description_tooltip": null,
            "layout": "IPY_MODEL_d5609ed6bb0745f4853c61e8049c747e",
            "placeholder": "​",
            "style": "IPY_MODEL_43630a18fadc4a9699d7612a64506fa5",
            "value": " 43/1000 [04:37&lt;1:43:22,  6.48s/it, v_num=1, train_loss_step=2.83e-6, train_loss_epoch=3.23e-6]"
          }
        },
        "3e857dc3d6d741f7956149bfdfdfef8e": {
          "model_module": "@jupyter-widgets/base",
          "model_name": "LayoutModel",
          "model_module_version": "1.2.0",
          "state": {
            "_model_module": "@jupyter-widgets/base",
            "_model_module_version": "1.2.0",
            "_model_name": "LayoutModel",
            "_view_count": null,
            "_view_module": "@jupyter-widgets/base",
            "_view_module_version": "1.2.0",
            "_view_name": "LayoutView",
            "align_content": null,
            "align_items": null,
            "align_self": null,
            "border": null,
            "bottom": null,
            "display": null,
            "flex": null,
            "flex_flow": null,
            "grid_area": null,
            "grid_auto_columns": null,
            "grid_auto_flow": null,
            "grid_auto_rows": null,
            "grid_column": null,
            "grid_gap": null,
            "grid_row": null,
            "grid_template_areas": null,
            "grid_template_columns": null,
            "grid_template_rows": null,
            "height": null,
            "justify_content": null,
            "justify_items": null,
            "left": null,
            "margin": null,
            "max_height": null,
            "max_width": null,
            "min_height": null,
            "min_width": null,
            "object_fit": null,
            "object_position": null,
            "order": null,
            "overflow": null,
            "overflow_x": null,
            "overflow_y": null,
            "padding": null,
            "right": null,
            "top": null,
            "visibility": null,
            "width": null
          }
        },
        "b2430b80fb0841cca2df80eda0c11d8f": {
          "model_module": "@jupyter-widgets/base",
          "model_name": "LayoutModel",
          "model_module_version": "1.2.0",
          "state": {
            "_model_module": "@jupyter-widgets/base",
            "_model_module_version": "1.2.0",
            "_model_name": "LayoutModel",
            "_view_count": null,
            "_view_module": "@jupyter-widgets/base",
            "_view_module_version": "1.2.0",
            "_view_name": "LayoutView",
            "align_content": null,
            "align_items": null,
            "align_self": null,
            "border": null,
            "bottom": null,
            "display": null,
            "flex": null,
            "flex_flow": null,
            "grid_area": null,
            "grid_auto_columns": null,
            "grid_auto_flow": null,
            "grid_auto_rows": null,
            "grid_column": null,
            "grid_gap": null,
            "grid_row": null,
            "grid_template_areas": null,
            "grid_template_columns": null,
            "grid_template_rows": null,
            "height": null,
            "justify_content": null,
            "justify_items": null,
            "left": null,
            "margin": null,
            "max_height": null,
            "max_width": null,
            "min_height": null,
            "min_width": null,
            "object_fit": null,
            "object_position": null,
            "order": null,
            "overflow": null,
            "overflow_x": null,
            "overflow_y": null,
            "padding": null,
            "right": null,
            "top": null,
            "visibility": null,
            "width": null
          }
        },
        "7aa503b8a21a4f3bab69dab171ee31b4": {
          "model_module": "@jupyter-widgets/controls",
          "model_name": "DescriptionStyleModel",
          "model_module_version": "1.5.0",
          "state": {
            "_model_module": "@jupyter-widgets/controls",
            "_model_module_version": "1.5.0",
            "_model_name": "DescriptionStyleModel",
            "_view_count": null,
            "_view_module": "@jupyter-widgets/base",
            "_view_module_version": "1.2.0",
            "_view_name": "StyleView",
            "description_width": ""
          }
        },
        "d948c39c69b04af083e7bd63cc0aac8c": {
          "model_module": "@jupyter-widgets/base",
          "model_name": "LayoutModel",
          "model_module_version": "1.2.0",
          "state": {
            "_model_module": "@jupyter-widgets/base",
            "_model_module_version": "1.2.0",
            "_model_name": "LayoutModel",
            "_view_count": null,
            "_view_module": "@jupyter-widgets/base",
            "_view_module_version": "1.2.0",
            "_view_name": "LayoutView",
            "align_content": null,
            "align_items": null,
            "align_self": null,
            "border": null,
            "bottom": null,
            "display": null,
            "flex": null,
            "flex_flow": null,
            "grid_area": null,
            "grid_auto_columns": null,
            "grid_auto_flow": null,
            "grid_auto_rows": null,
            "grid_column": null,
            "grid_gap": null,
            "grid_row": null,
            "grid_template_areas": null,
            "grid_template_columns": null,
            "grid_template_rows": null,
            "height": null,
            "justify_content": null,
            "justify_items": null,
            "left": null,
            "margin": null,
            "max_height": null,
            "max_width": null,
            "min_height": null,
            "min_width": null,
            "object_fit": null,
            "object_position": null,
            "order": null,
            "overflow": null,
            "overflow_x": null,
            "overflow_y": null,
            "padding": null,
            "right": null,
            "top": null,
            "visibility": null,
            "width": null
          }
        },
        "76d69c353f3d42c38b5b0fd9f5426b0c": {
          "model_module": "@jupyter-widgets/controls",
          "model_name": "ProgressStyleModel",
          "model_module_version": "1.5.0",
          "state": {
            "_model_module": "@jupyter-widgets/controls",
            "_model_module_version": "1.5.0",
            "_model_name": "ProgressStyleModel",
            "_view_count": null,
            "_view_module": "@jupyter-widgets/base",
            "_view_module_version": "1.2.0",
            "_view_name": "StyleView",
            "bar_color": null,
            "description_width": ""
          }
        },
        "d5609ed6bb0745f4853c61e8049c747e": {
          "model_module": "@jupyter-widgets/base",
          "model_name": "LayoutModel",
          "model_module_version": "1.2.0",
          "state": {
            "_model_module": "@jupyter-widgets/base",
            "_model_module_version": "1.2.0",
            "_model_name": "LayoutModel",
            "_view_count": null,
            "_view_module": "@jupyter-widgets/base",
            "_view_module_version": "1.2.0",
            "_view_name": "LayoutView",
            "align_content": null,
            "align_items": null,
            "align_self": null,
            "border": null,
            "bottom": null,
            "display": null,
            "flex": null,
            "flex_flow": null,
            "grid_area": null,
            "grid_auto_columns": null,
            "grid_auto_flow": null,
            "grid_auto_rows": null,
            "grid_column": null,
            "grid_gap": null,
            "grid_row": null,
            "grid_template_areas": null,
            "grid_template_columns": null,
            "grid_template_rows": null,
            "height": null,
            "justify_content": null,
            "justify_items": null,
            "left": null,
            "margin": null,
            "max_height": null,
            "max_width": null,
            "min_height": null,
            "min_width": null,
            "object_fit": null,
            "object_position": null,
            "order": null,
            "overflow": null,
            "overflow_x": null,
            "overflow_y": null,
            "padding": null,
            "right": null,
            "top": null,
            "visibility": null,
            "width": null
          }
        },
        "43630a18fadc4a9699d7612a64506fa5": {
          "model_module": "@jupyter-widgets/controls",
          "model_name": "DescriptionStyleModel",
          "model_module_version": "1.5.0",
          "state": {
            "_model_module": "@jupyter-widgets/controls",
            "_model_module_version": "1.5.0",
            "_model_name": "DescriptionStyleModel",
            "_view_count": null,
            "_view_module": "@jupyter-widgets/base",
            "_view_module_version": "1.2.0",
            "_view_name": "StyleView",
            "description_width": ""
          }
        }
      }
    }
  },
  "nbformat": 4,
  "nbformat_minor": 5
}