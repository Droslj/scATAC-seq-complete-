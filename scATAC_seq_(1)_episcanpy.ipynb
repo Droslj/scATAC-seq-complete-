{
  "cells": [
    {
      "cell_type": "markdown",
      "metadata": {
        "id": "view-in-github",
        "colab_type": "text"
      },
      "source": [
        "<a href=\"https://colab.research.google.com/github/Droslj/scATAC-seq-complete-/blob/Google-colab/scATAC_seq_(1)_episcanpy.ipynb\" target=\"_parent\"><img src=\"https://colab.research.google.com/assets/colab-badge.svg\" alt=\"Open In Colab\"/></a>"
      ]
    },
    {
      "cell_type": "markdown",
      "id": "f268332b-53de-4af8-9533-e48c041292f3",
      "metadata": {
        "id": "f268332b-53de-4af8-9533-e48c041292f3"
      },
      "source": [
        "scATAC seq, based on scATAC seq processing Galaxy tutorials (scATAC preprocessing (2), Standard scATAC seq processing pipeline (1) )\n",
        "AD Objects created in Galaxy using customized Galaxy WF with Snapatac2 and imported\n",
        "(1) https://usegalaxy.eu/training-material/topics/single-cell/tutorials/scatac-preprocessing-tenx/tutorial.html#mapping-reads-to-a-reference-genome, (2) https://usegalaxy.eu/training-material/topics/single-cell/tutorials/scatac-standard-processing-snapatac2/tutorial.html\n",
        "Data taken from the following NCBI study:\n",
        "Metabolic adaptation pilots the differentiation of human hematopoietic cells (https://www.ncbi.nlm.nih.gov/bioproject/PRJNA1015713)\n",
        "Import Anndata objects for two biological replicates, SRR26046013 (cells treated with AOA inhibitor) and SRR26046019 (untreated cells)\n",
        "Perform following steps:\n",
        "(1) Import matrices\n",
        "(2) Compute fragment size distribution\n",
        "(3) Compute TSS enrichment\n",
        "(4) Filter cell counts based on TSSe\n",
        "(5) Create cell by bin matrix based on 500 bp wide bins accross the whole genome\n",
        "(6) Perform feature selection\n",
        "(7) Perform Doublet removal\n",
        "(8) Perform Dim reduction (spectral)\n",
        "(9) Perform Clustering (neighborhood, UMAP, leiden)\n",
        "(10) Create a cell by gene matrix\n",
        "(11) Concatenate matrices using Inner join\n",
        "(12) Remove batch effects"
      ]
    },
    {
      "cell_type": "code",
      "source": [
        "!pip install -q condacolab"
      ],
      "metadata": {
        "id": "HYs7RhoU68Ks"
      },
      "id": "HYs7RhoU68Ks",
      "execution_count": null,
      "outputs": []
    },
    {
      "cell_type": "code",
      "source": [
        "import condacolab"
      ],
      "metadata": {
        "id": "QBQXEKjk7O-V"
      },
      "id": "QBQXEKjk7O-V",
      "execution_count": null,
      "outputs": []
    },
    {
      "cell_type": "code",
      "source": [
        "condacolab.install()"
      ],
      "metadata": {
        "colab": {
          "base_uri": "https://localhost:8080/"
        },
        "id": "YdiPg8vS7ZKq",
        "outputId": "636bc07a-1939-44f5-fb6b-3da213ed8c9d"
      },
      "id": "YdiPg8vS7ZKq",
      "execution_count": null,
      "outputs": [
        {
          "output_type": "stream",
          "name": "stdout",
          "text": [
            "✨🍰✨ Everything looks OK!\n"
          ]
        }
      ]
    },
    {
      "cell_type": "code",
      "source": [
        "!conda --version"
      ],
      "metadata": {
        "colab": {
          "base_uri": "https://localhost:8080/"
        },
        "id": "VITjp1M56yu_",
        "outputId": "c5ab92e1-7aab-477a-bcb8-621829cef921"
      },
      "id": "VITjp1M56yu_",
      "execution_count": null,
      "outputs": [
        {
          "output_type": "stream",
          "name": "stdout",
          "text": [
            "conda 23.11.0\n"
          ]
        }
      ]
    },
    {
      "cell_type": "code",
      "source": [
        "!which conda"
      ],
      "metadata": {
        "colab": {
          "base_uri": "https://localhost:8080/"
        },
        "id": "S-oCMIm-7p9i",
        "outputId": "60f11b3e-90e9-426d-df38-17c377d49a8d"
      },
      "id": "S-oCMIm-7p9i",
      "execution_count": null,
      "outputs": [
        {
          "output_type": "stream",
          "name": "stdout",
          "text": [
            "/usr/local/bin/conda\n"
          ]
        }
      ]
    },
    {
      "cell_type": "code",
      "source": [
        "!conda config --add channels conda-forge"
      ],
      "metadata": {
        "colab": {
          "base_uri": "https://localhost:8080/"
        },
        "id": "D6zjhdZm-BJp",
        "outputId": "d33b9ab8-539d-48b8-a064-4ef46a99906e"
      },
      "id": "D6zjhdZm-BJp",
      "execution_count": null,
      "outputs": [
        {
          "output_type": "stream",
          "name": "stdout",
          "text": [
            "Warning: 'conda-forge' already in 'channels' list, moving to the top\n"
          ]
        }
      ]
    },
    {
      "cell_type": "code",
      "source": [
        "!conda config --add channels bioconda"
      ],
      "metadata": {
        "colab": {
          "base_uri": "https://localhost:8080/"
        },
        "id": "JpJESCcU-fO_",
        "outputId": "756e56a6-78c9-4af0-e576-2e1fde6c474c"
      },
      "id": "JpJESCcU-fO_",
      "execution_count": null,
      "outputs": [
        {
          "output_type": "stream",
          "name": "stdout",
          "text": [
            "Warning: 'bioconda' already in 'channels' list, moving to the top\n"
          ]
        }
      ]
    },
    {
      "cell_type": "code",
      "source": [
        "!pip install episcanpy -q"
      ],
      "metadata": {
        "colab": {
          "base_uri": "https://localhost:8080/"
        },
        "id": "DBYBpL8eIMmy",
        "outputId": "a0a62a04-25ea-404c-ce6d-2cb9af59f989"
      },
      "id": "DBYBpL8eIMmy",
      "execution_count": 1,
      "outputs": [
        {
          "output_type": "stream",
          "name": "stdout",
          "text": [
            "\u001b[2K     \u001b[90m━━━━━━━━━━━━━━━━━━━━━━━━━━━━━━━━━━━━━━━━\u001b[0m \u001b[32m50.5/50.5 MB\u001b[0m \u001b[31m35.1 MB/s\u001b[0m eta \u001b[36m0:00:00\u001b[0m\n",
            "\u001b[?25h  Preparing metadata (setup.py) ... \u001b[?25l\u001b[?25hdone\n",
            "  Preparing metadata (setup.py) ... \u001b[?25l\u001b[?25hdone\n",
            "  Preparing metadata (setup.py) ... \u001b[?25l\u001b[?25hdone\n",
            "\u001b[2K   \u001b[90m━━━━━━━━━━━━━━━━━━━━━━━━━━━━━━━━━━━━━━━━\u001b[0m \u001b[32m142.7/142.7 kB\u001b[0m \u001b[31m14.1 MB/s\u001b[0m eta \u001b[36m0:00:00\u001b[0m\n",
            "\u001b[2K   \u001b[90m━━━━━━━━━━━━━━━━━━━━━━━━━━━━━━━━━━━━━━━━\u001b[0m \u001b[32m183.1/183.1 kB\u001b[0m \u001b[31m618.1 kB/s\u001b[0m eta \u001b[36m0:00:00\u001b[0m\n",
            "\u001b[2K   \u001b[90m━━━━━━━━━━━━━━━━━━━━━━━━━━━━━━━━━━━━━━━━\u001b[0m \u001b[32m2.1/2.1 MB\u001b[0m \u001b[31m84.5 MB/s\u001b[0m eta \u001b[36m0:00:00\u001b[0m\n",
            "\u001b[2K   \u001b[90m━━━━━━━━━━━━━━━━━━━━━━━━━━━━━━━━━━━━━━━━\u001b[0m \u001b[32m88.8/88.8 kB\u001b[0m \u001b[31m7.3 MB/s\u001b[0m eta \u001b[36m0:00:00\u001b[0m\n",
            "\u001b[2K   \u001b[90m━━━━━━━━━━━━━━━━━━━━━━━━━━━━━━━━━━━━━━━━\u001b[0m \u001b[32m25.1/25.1 MB\u001b[0m \u001b[31m95.6 MB/s\u001b[0m eta \u001b[36m0:00:00\u001b[0m\n",
            "\u001b[2K   \u001b[90m━━━━━━━━━━━━━━━━━━━━━━━━━━━━━━━━━━━━━━━━\u001b[0m \u001b[32m43.7/43.7 kB\u001b[0m \u001b[31m3.4 MB/s\u001b[0m eta \u001b[36m0:00:00\u001b[0m\n",
            "\u001b[2K   \u001b[90m━━━━━━━━━━━━━━━━━━━━━━━━━━━━━━━━━━━━━━━━\u001b[0m \u001b[32m50.4/50.4 kB\u001b[0m \u001b[31m4.4 MB/s\u001b[0m eta \u001b[36m0:00:00\u001b[0m\n",
            "\u001b[2K   \u001b[90m━━━━━━━━━━━━━━━━━━━━━━━━━━━━━━━━━━━━━━━━\u001b[0m \u001b[32m56.9/56.9 kB\u001b[0m \u001b[31m4.5 MB/s\u001b[0m eta \u001b[36m0:00:00\u001b[0m\n",
            "\u001b[2K   \u001b[90m━━━━━━━━━━━━━━━━━━━━━━━━━━━━━━━━━━━━━━━━\u001b[0m \u001b[32m83.6/83.6 kB\u001b[0m \u001b[31m7.3 MB/s\u001b[0m eta \u001b[36m0:00:00\u001b[0m\n",
            "\u001b[?25h  Building wheel for episcanpy (setup.py) ... \u001b[?25l\u001b[?25hdone\n",
            "  Building wheel for intervaltree (setup.py) ... \u001b[?25l\u001b[?25hdone\n",
            "  Building wheel for session-info (setup.py) ... \u001b[?25l\u001b[?25hdone\n"
          ]
        }
      ]
    },
    {
      "cell_type": "code",
      "source": [
        "import episcanpy as epi"
      ],
      "metadata": {
        "colab": {
          "base_uri": "https://localhost:8080/"
        },
        "id": "nYF70umRIRNT",
        "outputId": "36dd27f2-551c-46f3-d8e4-e3ccd892707c"
      },
      "id": "nYF70umRIRNT",
      "execution_count": 2,
      "outputs": [
        {
          "output_type": "stream",
          "name": "stderr",
          "text": [
            " FutureWarning:/usr/local/lib/python3.11/dist-packages/anndata/utils.py:429: Importing read_csv from `anndata` is deprecated. Import anndata.io.read_csv instead.\n",
            " FutureWarning:/usr/local/lib/python3.11/dist-packages/anndata/utils.py:429: Importing read_excel from `anndata` is deprecated. Import anndata.io.read_excel instead.\n",
            " FutureWarning:/usr/local/lib/python3.11/dist-packages/anndata/utils.py:429: Importing read_hdf from `anndata` is deprecated. Import anndata.io.read_hdf instead.\n",
            " FutureWarning:/usr/local/lib/python3.11/dist-packages/anndata/utils.py:429: Importing read_loom from `anndata` is deprecated. Import anndata.io.read_loom instead.\n",
            " FutureWarning:/usr/local/lib/python3.11/dist-packages/anndata/utils.py:429: Importing read_mtx from `anndata` is deprecated. Import anndata.io.read_mtx instead.\n",
            " FutureWarning:/usr/local/lib/python3.11/dist-packages/anndata/utils.py:429: Importing read_text from `anndata` is deprecated. Import anndata.io.read_text instead.\n",
            " FutureWarning:/usr/local/lib/python3.11/dist-packages/anndata/utils.py:429: Importing read_umi_tools from `anndata` is deprecated. Import anndata.io.read_umi_tools instead.\n"
          ]
        }
      ]
    },
    {
      "source": [
        "!pip install snapatac2 -q"
      ],
      "cell_type": "code",
      "metadata": {
        "colab": {
          "base_uri": "https://localhost:8080/"
        },
        "id": "gZdiRWwb1rZJ",
        "outputId": "8dd8c355-584d-4040-c9c4-f9777d19f1fb"
      },
      "id": "gZdiRWwb1rZJ",
      "execution_count": 3,
      "outputs": [
        {
          "output_type": "stream",
          "name": "stdout",
          "text": [
            "\u001b[?25l     \u001b[90m━━━━━━━━━━━━━━━━━━━━━━━━━━━━━━━━━━━━━━━━\u001b[0m \u001b[32m0.0/687.2 kB\u001b[0m \u001b[31m?\u001b[0m eta \u001b[36m-:--:--\u001b[0m\r\u001b[2K     \u001b[90m━━━━━━━━━━━━━━━━━━━━━━━━━━━━━━━━━━━━━━━━\u001b[0m \u001b[32m687.2/687.2 kB\u001b[0m \u001b[31m25.1 MB/s\u001b[0m eta \u001b[36m0:00:00\u001b[0m\n",
            "\u001b[?25h  Installing build dependencies ... \u001b[?25l\u001b[?25hdone\n",
            "  Getting requirements to build wheel ... \u001b[?25l\u001b[?25hdone\n",
            "  Preparing metadata (pyproject.toml) ... \u001b[?25l\u001b[?25hdone\n",
            "\u001b[2K   \u001b[90m━━━━━━━━━━━━━━━━━━━━━━━━━━━━━━━━━━━━━━━━\u001b[0m \u001b[32m17.4/17.4 MB\u001b[0m \u001b[31m7.4 MB/s\u001b[0m eta \u001b[36m0:00:00\u001b[0m\n",
            "\u001b[2K   \u001b[90m━━━━━━━━━━━━━━━━━━━━━━━━━━━━━━━━━━━━━━━━\u001b[0m \u001b[32m129.0/129.0 kB\u001b[0m \u001b[31m10.9 MB/s\u001b[0m eta \u001b[36m0:00:00\u001b[0m\n",
            "\u001b[2K   \u001b[90m━━━━━━━━━━━━━━━━━━━━━━━━━━━━━━━━━━━━━━━━\u001b[0m \u001b[32m3.1/3.1 MB\u001b[0m \u001b[31m103.9 MB/s\u001b[0m eta \u001b[36m0:00:00\u001b[0m\n",
            "\u001b[2K   \u001b[90m━━━━━━━━━━━━━━━━━━━━━━━━━━━━━━━━━━━━━━━━\u001b[0m \u001b[32m12.2/12.2 MB\u001b[0m \u001b[31m131.3 MB/s\u001b[0m eta \u001b[36m0:00:00\u001b[0m\n",
            "\u001b[2K   \u001b[90m━━━━━━━━━━━━━━━━━━━━━━━━━━━━━━━━━━━━━━━━\u001b[0m \u001b[32m79.9/79.9 MB\u001b[0m \u001b[31m32.6 MB/s\u001b[0m eta \u001b[36m0:00:00\u001b[0m\n",
            "\u001b[2K   \u001b[90m━━━━━━━━━━━━━━━━━━━━━━━━━━━━━━━━━━━━━━━━\u001b[0m \u001b[32m144.3/144.3 kB\u001b[0m \u001b[31m11.5 MB/s\u001b[0m eta \u001b[36m0:00:00\u001b[0m\n",
            "\u001b[2K   \u001b[90m━━━━━━━━━━━━━━━━━━━━━━━━━━━━━━━━━━━━━━━━\u001b[0m \u001b[32m2.0/2.0 MB\u001b[0m \u001b[31m86.2 MB/s\u001b[0m eta \u001b[36m0:00:00\u001b[0m\n",
            "\u001b[2K   \u001b[90m━━━━━━━━━━━━━━━━━━━━━━━━━━━━━━━━━━━━━━━━\u001b[0m \u001b[32m119.4/119.4 kB\u001b[0m \u001b[31m10.3 MB/s\u001b[0m eta \u001b[36m0:00:00\u001b[0m\n",
            "\u001b[?25h  Building wheel for macs3 (pyproject.toml) ... \u001b[?25l\u001b[?25hdone\n",
            "\u001b[31mERROR: pip's dependency resolver does not currently take into account all the packages that are installed. This behaviour is the source of the following dependency conflicts.\n",
            "google-colab 1.0.0 requires pandas==2.2.2, but you have pandas 2.1.1 which is incompatible.\n",
            "mizani 0.13.1 requires pandas>=2.2.0, but you have pandas 2.1.1 which is incompatible.\n",
            "plotnine 0.14.5 requires pandas>=2.2.0, but you have pandas 2.1.1 which is incompatible.\u001b[0m\u001b[31m\n",
            "\u001b[0m"
          ]
        }
      ]
    },
    {
      "cell_type": "code",
      "source": [
        "!pip show snapatac2"
      ],
      "metadata": {
        "colab": {
          "base_uri": "https://localhost:8080/"
        },
        "id": "jsCJ2get4W8l",
        "outputId": "dddb8a5c-0ace-42a8-8079-38e14570661e"
      },
      "id": "jsCJ2get4W8l",
      "execution_count": 4,
      "outputs": [
        {
          "output_type": "stream",
          "name": "stdout",
          "text": [
            "Name: snapatac2\n",
            "Version: 2.8.0\n",
            "Summary: SnapATAC2: Single-cell epigenomics analysis pipeline\n",
            "Home-page: https://github.com/\n",
            "Author: Kai Zhang <kai@kzhang.org>\n",
            "Author-email: Kai Zhang <zhangkai33@westlake.edu.cn>\n",
            "License: MIT\n",
            "Location: /usr/local/lib/python3.11/dist-packages\n",
            "Requires: anndata, igraph, kaleido, macs3, multiprocess, natsort, numpy, pandas, plotly, polars, pooch, pyarrow, pyfaidx, rustworkx, scikit-learn, scipy, tqdm, typeguard\n",
            "Required-by: \n"
          ]
        }
      ]
    },
    {
      "cell_type": "code",
      "source": [
        "import snapatac2 as snap"
      ],
      "metadata": {
        "id": "z2G4FDYqgSmQ"
      },
      "id": "z2G4FDYqgSmQ",
      "execution_count": 5,
      "outputs": []
    },
    {
      "cell_type": "code",
      "source": [
        "!pip install umap-learn -q\n",
        "\n"
      ],
      "metadata": {
        "id": "VZLaiDEzlB1m"
      },
      "id": "VZLaiDEzlB1m",
      "execution_count": 6,
      "outputs": []
    },
    {
      "cell_type": "code",
      "source": [
        "import umap.umap_ as umap\n"
      ],
      "metadata": {
        "id": "BCEdegOSgRBg"
      },
      "id": "BCEdegOSgRBg",
      "execution_count": 7,
      "outputs": []
    },
    {
      "cell_type": "code",
      "source": [
        "from umap import UMAP"
      ],
      "metadata": {
        "id": "FVmqXk-vlFrB"
      },
      "id": "FVmqXk-vlFrB",
      "execution_count": 8,
      "outputs": []
    },
    {
      "cell_type": "code",
      "source": [
        "!pip install scanpy -q"
      ],
      "metadata": {
        "id": "CM_xhHZxUcF5"
      },
      "id": "CM_xhHZxUcF5",
      "execution_count": 9,
      "outputs": []
    },
    {
      "cell_type": "code",
      "source": [
        "import scanpy as sc"
      ],
      "metadata": {
        "id": "NYl1nQOhUoj2"
      },
      "id": "NYl1nQOhUoj2",
      "execution_count": 10,
      "outputs": []
    },
    {
      "cell_type": "code",
      "source": [
        "pip show scanpy"
      ],
      "metadata": {
        "colab": {
          "base_uri": "https://localhost:8080/"
        },
        "id": "rkvTEjpw_csS",
        "outputId": "6bd0dcae-80f8-4781-cba2-4ea377081696"
      },
      "id": "rkvTEjpw_csS",
      "execution_count": 11,
      "outputs": [
        {
          "output_type": "stream",
          "name": "stdout",
          "text": [
            "Name: scanpy\n",
            "Version: 1.10.4\n",
            "Summary: Single-Cell Analysis in Python.\n",
            "Home-page: https://scanpy.org\n",
            "Author: Alex Wolf, Philipp Angerer, Fidel Ramirez, Isaac Virshup, Sergei Rybakov, Gokcen Eraslan, Tom White, Malte Luecken, Davide Cittaro, Tobias Callies, Marius Lange, Andrés R. Muñoz-Rojas\n",
            "Author-email: \n",
            "License: \n",
            "Location: /usr/local/lib/python3.11/dist-packages\n",
            "Requires: anndata, h5py, joblib, legacy-api-wrap, matplotlib, natsort, networkx, numba, numpy, packaging, pandas, patsy, pynndescent, scikit-learn, scipy, seaborn, session-info, statsmodels, tqdm, umap-learn\n",
            "Required-by: episcanpy\n"
          ]
        }
      ]
    },
    {
      "cell_type": "code",
      "source": [
        "!pip install leidenalg -q"
      ],
      "metadata": {
        "colab": {
          "base_uri": "https://localhost:8080/"
        },
        "id": "oirt93RVEK-D",
        "outputId": "33a43752-1b11-446c-9fb7-392b4bcea281"
      },
      "id": "oirt93RVEK-D",
      "execution_count": 12,
      "outputs": [
        {
          "output_type": "stream",
          "name": "stdout",
          "text": [
            "\u001b[?25l   \u001b[90m━━━━━━━━━━━━━━━━━━━━━━━━━━━━━━━━━━━━━━━━\u001b[0m \u001b[32m0.0/2.0 MB\u001b[0m \u001b[31m?\u001b[0m eta \u001b[36m-:--:--\u001b[0m\r\u001b[2K   \u001b[91m━━━━━━━━━━━━━━\u001b[0m\u001b[91m╸\u001b[0m\u001b[90m━━━━━━━━━━━━━━━━━━━━━━━━━\u001b[0m \u001b[32m0.7/2.0 MB\u001b[0m \u001b[31m21.4 MB/s\u001b[0m eta \u001b[36m0:00:01\u001b[0m\r\u001b[2K   \u001b[90m━━━━━━━━━━━━━━━━━━━━━━━━━━━━━━━━━━━━━━━━\u001b[0m \u001b[32m2.0/2.0 MB\u001b[0m \u001b[31m34.2 MB/s\u001b[0m eta \u001b[36m0:00:00\u001b[0m\n",
            "\u001b[?25h"
          ]
        }
      ]
    },
    {
      "cell_type": "code",
      "execution_count": 13,
      "id": "4e15629f-bdc4-46dd-8375-a1f2e17960ca",
      "metadata": {
        "id": "4e15629f-bdc4-46dd-8375-a1f2e17960ca"
      },
      "outputs": [],
      "source": [
        "import numpy as np"
      ]
    },
    {
      "cell_type": "code",
      "execution_count": 14,
      "id": "37ff51dc-8860-4ab6-ab44-8223b33ea879",
      "metadata": {
        "id": "37ff51dc-8860-4ab6-ab44-8223b33ea879"
      },
      "outputs": [],
      "source": [
        "import anndata as ad"
      ]
    },
    {
      "cell_type": "code",
      "execution_count": 15,
      "id": "f54f07e0-84cc-4ab9-a156-ea8467a76fc4",
      "metadata": {
        "id": "f54f07e0-84cc-4ab9-a156-ea8467a76fc4"
      },
      "outputs": [],
      "source": [
        "import matplotlib.pyplot as plt"
      ]
    },
    {
      "cell_type": "code",
      "execution_count": 16,
      "id": "dfc626e2-9a64-4f0f-8677-1da6e446ea3a",
      "metadata": {
        "id": "dfc626e2-9a64-4f0f-8677-1da6e446ea3a"
      },
      "outputs": [],
      "source": [
        "import plotly.subplots as sp\n",
        "import plotly.graph_objects as go"
      ]
    },
    {
      "cell_type": "markdown",
      "id": "43f56d4f-c4ec-496e-96bd-6645365df65c",
      "metadata": {
        "id": "43f56d4f-c4ec-496e-96bd-6645365df65c"
      },
      "source": [
        "# Import reads from google drive (CBP matrix)"
      ]
    },
    {
      "cell_type": "code",
      "source": [
        "from google.colab import drive\n",
        "drive.mount('/content/drive')"
      ],
      "metadata": {
        "colab": {
          "base_uri": "https://localhost:8080/"
        },
        "id": "BpK5P48ACJOW",
        "outputId": "91343a39-02a8-4442-d081-2b43cf4c297e"
      },
      "id": "BpK5P48ACJOW",
      "execution_count": 17,
      "outputs": [
        {
          "output_type": "stream",
          "name": "stdout",
          "text": [
            "Mounted at /content/drive\n"
          ]
        }
      ]
    },
    {
      "cell_type": "code",
      "execution_count": 19,
      "id": "be1662ba-006c-4be4-9858-70480fa51fe3",
      "metadata": {
        "id": "be1662ba-006c-4be4-9858-70480fa51fe3",
        "colab": {
          "base_uri": "https://localhost:8080/"
        },
        "outputId": "bb037f7d-cc11-4f83-e5f9-6c96b6f97140"
      },
      "outputs": [
        {
          "output_type": "stream",
          "name": "stderr",
          "text": [
            " UserWarning:/usr/local/lib/python3.11/dist-packages/anndata/_core/anndata.py:1758: Variable names are not unique. To make them unique, call `.var_names_make_unique`.\n"
          ]
        }
      ],
      "source": [
        "adata = sc.read_h5ad('/content/drive/MyDrive/Colab Notebooks/peak_matrix.h5ad')"
      ]
    },
    {
      "cell_type": "code",
      "execution_count": 20,
      "id": "967b901c-c65e-436a-8c7c-2583264344ce",
      "metadata": {
        "id": "967b901c-c65e-436a-8c7c-2583264344ce",
        "colab": {
          "base_uri": "https://localhost:8080/"
        },
        "outputId": "4957473b-9c5b-4fff-99c2-e819d1ba733d"
      },
      "outputs": [
        {
          "output_type": "execute_result",
          "data": {
            "text/plain": [
              "AnnData object with n_obs × n_vars = 10210 × 200379\n",
              "    obs: 'n_fragment', 'frac_dup', 'frac_mito'"
            ]
          },
          "metadata": {},
          "execution_count": 20
        }
      ],
      "source": [
        "adata"
      ]
    },
    {
      "cell_type": "markdown",
      "source": [
        "# Quality Control\n",
        "Perform quality control to filter out low-quality cells and peaks."
      ],
      "metadata": {
        "id": "WHY5Sr5KKA4B"
      },
      "id": "WHY5Sr5KKA4B"
    },
    {
      "cell_type": "code",
      "source": [
        "epi.pp.filter_cells(adata, min_counts=1000)\n",
        "epi.pp.filter_features(adata, min_cells=10)\n"
      ],
      "metadata": {
        "colab": {
          "base_uri": "https://localhost:8080/"
        },
        "id": "Cipsyq8wKIEq",
        "outputId": "799ff38a-017a-4fa0-8992-e539a3ff0c7e"
      },
      "id": "Cipsyq8wKIEq",
      "execution_count": 22,
      "outputs": [
        {
          "output_type": "stream",
          "name": "stderr",
          "text": [
            " FutureWarning:/usr/local/lib/python3.11/dist-packages/episcanpy/preprocessing/_scanpy_fct.py:89: The specified parameters ('min_counts',) are no longer positional. Please specify them like `min_counts=1000`\n",
            " UserWarning:/usr/local/lib/python3.11/dist-packages/anndata/_core/anndata.py:1758: Variable names are not unique. To make them unique, call `.var_names_make_unique`.\n",
            " UserWarning:/usr/local/lib/python3.11/dist-packages/anndata/_core/anndata.py:1758: Variable names are not unique. To make them unique, call `.var_names_make_unique`.\n",
            " FutureWarning:/usr/local/lib/python3.11/dist-packages/episcanpy/preprocessing/_scanpy_fct.py:145: The specified parameters ('min_counts', 'min_cells', 'max_counts', 'max_cells', 'inplace', 'copy') are no longer positional. Please specify them like `min_counts=None`\n",
            " UserWarning:/usr/local/lib/python3.11/dist-packages/anndata/_core/anndata.py:1758: Variable names are not unique. To make them unique, call `.var_names_make_unique`.\n"
          ]
        }
      ]
    },
    {
      "cell_type": "markdown",
      "source": [
        "# Normalization and Dimensionality Reduction\n",
        "Normalize your data and perform dimensionality reduction."
      ],
      "metadata": {
        "id": "grK5Kyi0KS60"
      },
      "id": "grK5Kyi0KS60"
    },
    {
      "cell_type": "code",
      "source": [
        "epi.pp.normalize_total(adata)\n",
        "epi.pp.log1p(adata)\n",
        "sc.tl.pca(adata)"
      ],
      "metadata": {
        "id": "j_P7VimaKW7e"
      },
      "id": "j_P7VimaKW7e",
      "execution_count": 23,
      "outputs": []
    },
    {
      "cell_type": "code",
      "source": [
        "adata"
      ],
      "metadata": {
        "id": "5C0qh8QRL2BE",
        "outputId": "91f9f66c-ba67-46c0-e9cd-a413b973d302",
        "colab": {
          "base_uri": "https://localhost:8080/"
        }
      },
      "id": "5C0qh8QRL2BE",
      "execution_count": 25,
      "outputs": [
        {
          "output_type": "execute_result",
          "data": {
            "text/plain": [
              "AnnData object with n_obs × n_vars = 7157 × 200062\n",
              "    obs: 'n_fragment', 'frac_dup', 'frac_mito', 'n_counts'\n",
              "    var: 'n_cells'\n",
              "    uns: 'log1p', 'pca'\n",
              "    obsm: 'X_pca'\n",
              "    varm: 'PCs'"
            ]
          },
          "metadata": {},
          "execution_count": 25
        }
      ]
    },
    {
      "cell_type": "markdown",
      "source": [
        "# Clustering and Visualization\n",
        "Cluster your cells and visualize the resultss"
      ],
      "metadata": {
        "id": "eOwnvW3VLCHy"
      },
      "id": "eOwnvW3VLCHy"
    },
    {
      "cell_type": "code",
      "source": [
        "sc.pp.neighbors(adata)"
      ],
      "metadata": {
        "id": "pZe5WfowLCxq"
      },
      "id": "pZe5WfowLCxq",
      "execution_count": 26,
      "outputs": []
    },
    {
      "cell_type": "code",
      "source": [
        "adata"
      ],
      "metadata": {
        "id": "kab4ph05MBTr",
        "outputId": "93edcb41-3152-4636-8456-fb4d4f7df188",
        "colab": {
          "base_uri": "https://localhost:8080/"
        }
      },
      "id": "kab4ph05MBTr",
      "execution_count": 27,
      "outputs": [
        {
          "output_type": "execute_result",
          "data": {
            "text/plain": [
              "AnnData object with n_obs × n_vars = 7157 × 200062\n",
              "    obs: 'n_fragment', 'frac_dup', 'frac_mito', 'n_counts'\n",
              "    var: 'n_cells'\n",
              "    uns: 'log1p', 'pca', 'neighbors'\n",
              "    obsm: 'X_pca'\n",
              "    varm: 'PCs'\n",
              "    obsp: 'distances', 'connectivities'"
            ]
          },
          "metadata": {},
          "execution_count": 27
        }
      ]
    },
    {
      "cell_type": "code",
      "source": [
        "sc.tl.umap(adata)"
      ],
      "metadata": {
        "id": "H8wm5kQfL7M8"
      },
      "id": "H8wm5kQfL7M8",
      "execution_count": 28,
      "outputs": []
    },
    {
      "cell_type": "code",
      "source": [
        "adata"
      ],
      "metadata": {
        "id": "TUSCZnpyMG_9",
        "outputId": "574263ee-345c-40b0-c30b-223fc6d77c42",
        "colab": {
          "base_uri": "https://localhost:8080/"
        }
      },
      "id": "TUSCZnpyMG_9",
      "execution_count": 29,
      "outputs": [
        {
          "output_type": "execute_result",
          "data": {
            "text/plain": [
              "AnnData object with n_obs × n_vars = 7157 × 200062\n",
              "    obs: 'n_fragment', 'frac_dup', 'frac_mito', 'n_counts'\n",
              "    var: 'n_cells'\n",
              "    uns: 'log1p', 'pca', 'neighbors', 'umap'\n",
              "    obsm: 'X_pca', 'X_umap'\n",
              "    varm: 'PCs'\n",
              "    obsp: 'distances', 'connectivities'"
            ]
          },
          "metadata": {},
          "execution_count": 29
        }
      ]
    },
    {
      "cell_type": "code",
      "source": [
        "sc.tl.leiden(adata)"
      ],
      "metadata": {
        "id": "UO4EgU63L7pm",
        "outputId": "3a911447-c9cc-4d97-85a4-dcd374a903bb",
        "colab": {
          "base_uri": "https://localhost:8080/"
        }
      },
      "id": "UO4EgU63L7pm",
      "execution_count": 30,
      "outputs": [
        {
          "output_type": "stream",
          "name": "stderr",
          "text": [
            " FutureWarning:<ipython-input-30-a9ad6348435f>:1: In the future, the default backend for leiden will be igraph instead of leidenalg.\n",
            "\n",
            " To achieve the future defaults please pass: flavor=\"igraph\" and n_iterations=2.  directed must also be False to work with igraph's implementation.\n"
          ]
        }
      ]
    },
    {
      "cell_type": "code",
      "source": [
        "adata"
      ],
      "metadata": {
        "id": "FHjuSe-1MKCR",
        "outputId": "664cdfb3-e4a1-4590-9ebf-6407994e424f",
        "colab": {
          "base_uri": "https://localhost:8080/"
        }
      },
      "id": "FHjuSe-1MKCR",
      "execution_count": 31,
      "outputs": [
        {
          "output_type": "execute_result",
          "data": {
            "text/plain": [
              "AnnData object with n_obs × n_vars = 7157 × 200062\n",
              "    obs: 'n_fragment', 'frac_dup', 'frac_mito', 'n_counts', 'leiden'\n",
              "    var: 'n_cells'\n",
              "    uns: 'log1p', 'pca', 'neighbors', 'umap', 'leiden'\n",
              "    obsm: 'X_pca', 'X_umap'\n",
              "    varm: 'PCs'\n",
              "    obsp: 'distances', 'connectivities'"
            ]
          },
          "metadata": {},
          "execution_count": 31
        }
      ]
    },
    {
      "cell_type": "code",
      "source": [
        "sc.pl.umap(adata, color=['leiden'])"
      ],
      "metadata": {
        "id": "Un9WmXh3L8UU",
        "outputId": "5c576187-575c-46da-822a-2e7f87155972",
        "colab": {
          "base_uri": "https://localhost:8080/",
          "height": 448
        }
      },
      "id": "Un9WmXh3L8UU",
      "execution_count": 32,
      "outputs": [
        {
          "output_type": "display_data",
          "data": {
            "text/plain": [
              "<Figure size 640x480 with 1 Axes>"
            ],
            "image/png": "[encoded data removed]"
          },
          "metadata": {}
        }
      ]
    },
    {
      "cell_type": "markdown",
      "source": [
        "# Peak Annotation and Motif Analysis\n",
        "Annotate peaks and perform motif analysis."
      ],
      "metadata": {
        "id": "QcxoZujsLDe3"
      },
      "id": "QcxoZujsLDe3"
    },
    {
      "cell_type": "code",
      "source": [
        "gtf_file="
      ],
      "metadata": {
        "id": "gLjK_W9wNmVT"
      },
      "id": "gLjK_W9wNmVT",
      "execution_count": null,
      "outputs": []
    },
    {
      "source": [
        "!pip install gffutils -q"
      ],
      "cell_type": "code",
      "metadata": {
        "id": "uVe01GHANxQB",
        "outputId": "d0ab26f2-7e01-4709-a7e5-294f858316b9",
        "colab": {
          "base_uri": "https://localhost:8080/"
        }
      },
      "id": "uVe01GHANxQB",
      "execution_count": 36,
      "outputs": [
        {
          "output_type": "stream",
          "name": "stdout",
          "text": [
            "Collecting gffutils\n",
            "  Downloading gffutils-0.13-py3-none-any.whl.metadata (1.5 kB)\n",
            "Requirement already satisfied: pyfaidx>=0.5.5.2 in /usr/local/lib/python3.11/dist-packages (from gffutils) (0.7.2.2)\n",
            "Collecting argh>=0.26.2 (from gffutils)\n",
            "  Downloading argh-0.31.3-py3-none-any.whl.metadata (7.4 kB)\n",
            "Collecting argcomplete>=1.9.4 (from gffutils)\n",
            "  Downloading argcomplete-3.5.3-py3-none-any.whl.metadata (16 kB)\n",
            "Collecting simplejson (from gffutils)\n",
            "  Downloading simplejson-3.19.3-cp311-cp311-manylinux_2_5_x86_64.manylinux1_x86_64.manylinux_2_17_x86_64.manylinux2014_x86_64.whl.metadata (3.2 kB)\n",
            "Requirement already satisfied: six in /usr/local/lib/python3.11/dist-packages (from pyfaidx>=0.5.5.2->gffutils) (1.17.0)\n",
            "Requirement already satisfied: setuptools in /usr/local/lib/python3.11/dist-packages (from pyfaidx>=0.5.5.2->gffutils) (75.1.0)\n",
            "Requirement already satisfied: importlib-metadata in /usr/local/lib/python3.11/dist-packages (from pyfaidx>=0.5.5.2->gffutils) (8.5.0)\n",
            "Requirement already satisfied: zipp>=3.20 in /usr/local/lib/python3.11/dist-packages (from importlib-metadata->pyfaidx>=0.5.5.2->gffutils) (3.21.0)\n",
            "Downloading gffutils-0.13-py3-none-any.whl (1.6 MB)\n",
            "\u001b[2K   \u001b[90m━━━━━━━━━━━━━━━━━━━━━━━━━━━━━━━━━━━━━━━━\u001b[0m \u001b[32m1.6/1.6 MB\u001b[0m \u001b[31m44.8 MB/s\u001b[0m eta \u001b[36m0:00:00\u001b[0m\n",
            "\u001b[?25hDownloading argcomplete-3.5.3-py3-none-any.whl (43 kB)\n",
            "\u001b[2K   \u001b[90m━━━━━━━━━━━━━━━━━━━━━━━━━━━━━━━━━━━━━━━━\u001b[0m \u001b[32m43.6/43.6 kB\u001b[0m \u001b[31m3.6 MB/s\u001b[0m eta \u001b[36m0:00:00\u001b[0m\n",
            "\u001b[?25hDownloading argh-0.31.3-py3-none-any.whl (44 kB)\n",
            "\u001b[2K   \u001b[90m━━━━━━━━━━━━━━━━━━━━━━━━━━━━━━━━━━━━━━━━\u001b[0m \u001b[32m44.8/44.8 kB\u001b[0m \u001b[31m3.6 MB/s\u001b[0m eta \u001b[36m0:00:00\u001b[0m\n",
            "\u001b[?25hDownloading simplejson-3.19.3-cp311-cp311-manylinux_2_5_x86_64.manylinux1_x86_64.manylinux_2_17_x86_64.manylinux2014_x86_64.whl (144 kB)\n",
            "\u001b[2K   \u001b[90m━━━━━━━━━━━━━━━━━━━━━━━━━━━━━━━━━━━━━━━━\u001b[0m \u001b[32m144.7/144.7 kB\u001b[0m \u001b[31m12.7 MB/s\u001b[0m eta \u001b[36m0:00:00\u001b[0m\n",
            "\u001b[?25hInstalling collected packages: simplejson, argh, argcomplete, gffutils\n",
            "Successfully installed argcomplete-3.5.3 argh-0.31.3 gffutils-0.13 simplejson-3.19.3\n"
          ]
        }
      ]
    },
    {
      "cell_type": "code",
      "source": [],
      "metadata": {
        "id": "FMg--G5BQAkX"
      },
      "id": "FMg--G5BQAkX",
      "execution_count": null,
      "outputs": []
    },
    {
      "source": [
        "import gzip\n",
        "import tempfile\n",
        "import shutil\n",
        "import episcanpy as epi\n",
        "\n",
        "def find_genes_from_gzipped_gtf(adata, gtf_file, key_added='genes', upstream=2000, downstream=0,\n",
        "                                 feature_type='gene', annotation='gene_name', raw=False):\n",
        "    \"\"\"\n",
        "    Handles gzipped GTF files by creating a temporary unzipped copy.\n",
        "    Calls the original `epi.tl.find_genes` with the temporary file path.\n",
        "    Handles lines with variable number of fields and detects the delimiter.\n",
        "    \"\"\"\n",
        "    with tempfile.NamedTemporaryFile(suffix=\".gff3\", delete=False) as tmp:\n",
        "        with gzip.open(gtf_file, 'rb') as f_in:\n",
        "            with open(tmp.name, 'wb') as f_out:\n",
        "                shutil.copyfileobj(f_in, f_out)\n",
        "\n",
        "        # Attempt to detect delimiter (tab or space)\n",
        "        with open(tmp.name, 'r') as f:\n",
        "            first_line = f.readline()\n",
        "            delimiter = '\\t' if '\\t' in first_line else ' '\n",
        "\n",
        "        epi.tl.find_genes(adata, gtf_file=tmp.name, key_added=key_added, upstream=upstream,\n",
        "                          downstream=downstream, feature_type=feature_type,\n",
        "                          annotation=annotation, raw=raw,\n",
        "                          # Pass delimiter argument\n",
        "                          delimiter=delimiter)"
      ],
      "cell_type": "code",
      "metadata": {
        "id": "f1BJ5M5WQbBb"
      },
      "id": "f1BJ5M5WQbBb",
      "execution_count": 55,
      "outputs": []
    },
    {
      "cell_type": "code",
      "source": [
        "adata"
      ],
      "metadata": {
        "id": "O8H96r95QcdX",
        "outputId": "8e06c0c6-452d-466a-e1ea-d7bd9d1eca8a",
        "colab": {
          "base_uri": "https://localhost:8080/"
        }
      },
      "id": "O8H96r95QcdX",
      "execution_count": 56,
      "outputs": [
        {
          "output_type": "execute_result",
          "data": {
            "text/plain": [
              "AnnData object with n_obs × n_vars = 7157 × 200062\n",
              "    obs: 'n_fragment', 'frac_dup', 'frac_mito', 'n_counts', 'leiden'\n",
              "    var: 'n_cells'\n",
              "    uns: 'log1p', 'pca', 'neighbors', 'umap', 'leiden', 'leiden_colors'\n",
              "    obsm: 'X_pca', 'X_umap'\n",
              "    varm: 'PCs'\n",
              "    obsp: 'distances', 'connectivities'"
            ]
          },
          "metadata": {},
          "execution_count": 56
        }
      ]
    },
    {
      "cell_type": "code",
      "source": [
        "epi.pp.motif_enrichment(adata)"
      ],
      "metadata": {
        "id": "3hA6abAYQdjL",
        "outputId": "d0d99aac-ece3-408e-d2c7-8b1db9432592",
        "colab": {
          "base_uri": "https://localhost:8080/",
          "height": 141
        }
      },
      "id": "3hA6abAYQdjL",
      "execution_count": 58,
      "outputs": [
        {
          "output_type": "error",
          "ename": "AttributeError",
          "evalue": "module 'episcanpy.preprocessing' has no attribute 'motif_enrichment'",
          "traceback": [
            "\u001b[0;31m---------------------------------------------------------------------------\u001b[0m",
            "\u001b[0;31mAttributeError\u001b[0m                            Traceback (most recent call last)",
            "\u001b[0;32m<ipython-input-58-ea6eb36617c2>\u001b[0m in \u001b[0;36m<cell line: 0>\u001b[0;34m()\u001b[0m\n\u001b[0;32m----> 1\u001b[0;31m \u001b[0mepi\u001b[0m\u001b[0;34m.\u001b[0m\u001b[0mpp\u001b[0m\u001b[0;34m.\u001b[0m\u001b[0mmotif_enrichment\u001b[0m\u001b[0;34m(\u001b[0m\u001b[0madata\u001b[0m\u001b[0;34m)\u001b[0m\u001b[0;34m\u001b[0m\u001b[0;34m\u001b[0m\u001b[0m\n\u001b[0m",
            "\u001b[0;31mAttributeError\u001b[0m: module 'episcanpy.preprocessing' has no attribute 'motif_enrichment'"
          ]
        }
      ]
    },
    {
      "cell_type": "code",
      "source": [],
      "metadata": {
        "id": "O2s2z_mPRHpL"
      },
      "id": "O2s2z_mPRHpL",
      "execution_count": null,
      "outputs": []
    }
  ],
  "metadata": {
    "colab": {
      "machine_shape": "hm",
      "provenance": [],
      "toc_visible": true,
      "include_colab_link": true
    },
    "kernelspec": {
      "display_name": "Python 3",
      "name": "python3"
    },
    "language_info": {
      "name": "python"
    }
  },
  "nbformat": 4,
  "nbformat_minor": 5
}